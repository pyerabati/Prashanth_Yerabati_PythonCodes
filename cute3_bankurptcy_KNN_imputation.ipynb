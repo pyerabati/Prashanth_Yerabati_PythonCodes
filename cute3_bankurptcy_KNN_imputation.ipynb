{
 "cells": [
  {
   "cell_type": "code",
   "execution_count": 1,
   "metadata": {},
   "outputs": [],
   "source": [
    "# Importing all the Libraries\n",
    "import os\n",
    "import numpy as np\n",
    "import pandas as pd\n",
    "import matplotlib.pyplot as plt\n",
    "%matplotlib inline\n"
   ]
  },
  {
   "cell_type": "code",
   "execution_count": 2,
   "metadata": {},
   "outputs": [
    {
     "name": "stdout",
     "output_type": "stream",
     "text": [
      "Collecting imbalanced-learn\n",
      "  Using cached https://files.pythonhosted.org/packages/e5/4c/7557e1c2e791bd43878f8c82065bddc5798252084f26ef44527c02262af1/imbalanced_learn-0.4.3-py3-none-any.whl\n",
      "Requirement already satisfied, skipping upgrade: numpy>=1.8.2 in c:\\programdata\\anaconda3\\lib\\site-packages (from imbalanced-learn) (1.14.3)\n",
      "Requirement already satisfied, skipping upgrade: scipy>=0.13.3 in c:\\programdata\\anaconda3\\lib\\site-packages (from imbalanced-learn) (1.1.0)\n",
      "Collecting scikit-learn>=0.20 (from imbalanced-learn)\n",
      "  Using cached https://files.pythonhosted.org/packages/c1/1c/8fa5aefe23a2fc254e9faadc10a30052c63d92f05fb59127ff0e65e4171c/scikit_learn-0.20.2-cp36-cp36m-win_amd64.whl\n",
      "Installing collected packages: scikit-learn, imbalanced-learn\n",
      "  Found existing installation: scikit-learn 0.19.1\n",
      "    Uninstalling scikit-learn-0.19.1:\n"
     ]
    },
    {
     "name": "stderr",
     "output_type": "stream",
     "text": [
      "Could not install packages due to an EnvironmentError: [WinError 5] Access is denied: 'c:\\\\programdata\\\\anaconda3\\\\lib\\\\site-packages\\\\scikit_learn-0.19.1-py3.6.egg-info\\\\dependency_links.txt'\n",
      "Consider using the `--user` option or check the permissions.\n",
      "\n"
     ]
    }
   ],
   "source": [
    "!pip install -U imbalanced-learn"
   ]
  },
  {
   "cell_type": "code",
   "execution_count": 2,
   "metadata": {},
   "outputs": [
    {
     "name": "stderr",
     "output_type": "stream",
     "text": [
      "C:\\ProgramData\\Anaconda3\\lib\\site-packages\\h5py\\__init__.py:36: FutureWarning: Conversion of the second argument of issubdtype from `float` to `np.floating` is deprecated. In future, it will be treated as `np.float64 == np.dtype(float).type`.\n",
      "  from ._conv import register_converters as _register_converters\n",
      "Using TensorFlow backend.\n"
     ]
    }
   ],
   "source": [
    "# For loading .arff files\n",
    "from scipy.io import arff\n",
    "# To perform mean imputation\n",
    "from sklearn.preprocessing import Imputer\n",
    "#To perform kFold Cross Validation\n",
    "from sklearn.model_selection import KFold\n",
    "# Formatted counter of class labels\n",
    "from collections import Counter\n",
    "# Ordered Dictionary\n",
    "from collections import OrderedDict\n",
    "# Library imbalanced-learn to deal with the data imbalance. To use SMOTE oversampling\n",
    "from imblearn.over_sampling import SMOTE \n",
    "# To analyze the type of missing data\n",
    "import missingno as msno\n",
    "# Library for performing k-NN and MICE imputations \n",
    "import fancyimpute\n",
    "\n",
    "# To perform mean imputation\n",
    "from sklearn.preprocessing import Imputer\n"
   ]
  },
  {
   "cell_type": "code",
   "execution_count": 3,
   "metadata": {},
   "outputs": [
    {
     "name": "stderr",
     "output_type": "stream",
     "text": [
      "C:\\ProgramData\\Anaconda3\\lib\\site-packages\\sklearn\\ensemble\\weight_boosting.py:29: DeprecationWarning: numpy.core.umath_tests is an internal NumPy module and should not be imported. It will be removed in a future NumPy release.\n",
      "  from numpy.core.umath_tests import inner1d\n"
     ]
    }
   ],
   "source": [
    "# Impoting classification models\n",
    "from xgboost import XGBClassifier\n",
    "from sklearn.svm import SVC\n",
    "from sklearn.ensemble import RandomForestClassifier\n",
    "from sklearn.linear_model import LogisticRegression\n",
    "from imblearn.ensemble import BalancedBaggingClassifier\n",
    "from sklearn.tree import DecisionTreeClassifier\n",
    "from sklearn.naive_bayes import GaussianNB\n",
    "\n"
   ]
  },
  {
   "cell_type": "code",
   "execution_count": 4,
   "metadata": {},
   "outputs": [],
   "source": [
    "# Import metrics\n",
    "import random\n",
    "\n",
    "from sklearn.metrics import accuracy_score\n",
    "from sklearn.metrics import precision_score\n",
    "from sklearn.metrics import recall_score\n",
    "from sklearn.metrics import classification_report\n",
    "from sklearn.metrics import confusion_matrix\n",
    "from sklearn.metrics import roc_curve\n",
    "from sklearn.metrics import precision_recall_curve"
   ]
  },
  {
   "cell_type": "code",
   "execution_count": 5,
   "metadata": {},
   "outputs": [],
   "source": [
    "# Read the KNN  imputed data from R\n",
    "bank_data = pd.read_csv(\"bank_data_KNN_Imputed.csv\")"
   ]
  },
  {
   "cell_type": "code",
   "execution_count": 6,
   "metadata": {},
   "outputs": [
    {
     "data": {
      "text/plain": [
       "(24996, 66)"
      ]
     },
     "execution_count": 6,
     "metadata": {},
     "output_type": "execute_result"
    }
   ],
   "source": [
    "bank_data.shape"
   ]
  },
  {
   "cell_type": "code",
   "execution_count": 43,
   "metadata": {},
   "outputs": [
    {
     "name": "stdout",
     "output_type": "stream",
     "text": [
      "<class 'pandas.core.frame.DataFrame'>\n",
      "RangeIndex: 24996 entries, 0 to 24995\n",
      "Data columns (total 66 columns):\n",
      "Unnamed: 0    24996 non-null int64\n",
      "Attr1         24996 non-null float64\n",
      "Attr2         24996 non-null float64\n",
      "Attr3         24996 non-null float64\n",
      "Attr4         24996 non-null float64\n",
      "Attr5         24996 non-null float64\n",
      "Attr6         24996 non-null float64\n",
      "Attr7         24996 non-null float64\n",
      "Attr8         24996 non-null float64\n",
      "Attr9         24996 non-null float64\n",
      "Attr10        24996 non-null float64\n",
      "Attr11        24996 non-null float64\n",
      "Attr12        24996 non-null float64\n",
      "Attr13        24996 non-null float64\n",
      "Attr14        24996 non-null float64\n",
      "Attr15        24996 non-null float64\n",
      "Attr16        24996 non-null float64\n",
      "Attr17        24996 non-null float64\n",
      "Attr18        24996 non-null float64\n",
      "Attr19        24996 non-null float64\n",
      "Attr20        24996 non-null float64\n",
      "Attr21        24996 non-null float64\n",
      "Attr22        24996 non-null float64\n",
      "Attr23        24996 non-null float64\n",
      "Attr24        24996 non-null float64\n",
      "Attr25        24996 non-null float64\n",
      "Attr26        24996 non-null float64\n",
      "Attr27        24996 non-null float64\n",
      "Attr28        24996 non-null float64\n",
      "Attr29        24996 non-null float64\n",
      "Attr30        24996 non-null float64\n",
      "Attr31        24996 non-null float64\n",
      "Attr32        24996 non-null float64\n",
      "Attr33        24996 non-null float64\n",
      "Attr34        24996 non-null float64\n",
      "Attr35        24996 non-null float64\n",
      "Attr36        24996 non-null float64\n",
      "Attr37        24996 non-null float64\n",
      "Attr38        24996 non-null float64\n",
      "Attr39        24996 non-null float64\n",
      "Attr40        24996 non-null float64\n",
      "Attr41        24996 non-null float64\n",
      "Attr42        24996 non-null float64\n",
      "Attr43        24996 non-null float64\n",
      "Attr44        24996 non-null float64\n",
      "Attr45        24996 non-null float64\n",
      "Attr46        24996 non-null float64\n",
      "Attr47        24996 non-null float64\n",
      "Attr48        24996 non-null float64\n",
      "Attr49        24996 non-null float64\n",
      "Attr50        24996 non-null float64\n",
      "Attr51        24996 non-null float64\n",
      "Attr52        24996 non-null float64\n",
      "Attr53        24996 non-null float64\n",
      "Attr54        24996 non-null float64\n",
      "Attr55        24996 non-null float64\n",
      "Attr56        24996 non-null float64\n",
      "Attr57        24996 non-null float64\n",
      "Attr58        24996 non-null float64\n",
      "Attr59        24996 non-null float64\n",
      "Attr60        24996 non-null float64\n",
      "Attr61        24996 non-null float64\n",
      "Attr62        24996 non-null float64\n",
      "Attr63        24996 non-null float64\n",
      "Attr64        24996 non-null float64\n",
      "target        24996 non-null object\n",
      "dtypes: float64(64), int64(1), object(1)\n",
      "memory usage: 12.6+ MB\n"
     ]
    },
    {
     "data": {
      "text/html": [
       "<div>\n",
       "<style scoped>\n",
       "    .dataframe tbody tr th:only-of-type {\n",
       "        vertical-align: middle;\n",
       "    }\n",
       "\n",
       "    .dataframe tbody tr th {\n",
       "        vertical-align: top;\n",
       "    }\n",
       "\n",
       "    .dataframe thead th {\n",
       "        text-align: right;\n",
       "    }\n",
       "</style>\n",
       "<table border=\"1\" class=\"dataframe\">\n",
       "  <thead>\n",
       "    <tr style=\"text-align: right;\">\n",
       "      <th></th>\n",
       "      <th>Unnamed: 0</th>\n",
       "      <th>Attr1</th>\n",
       "      <th>Attr2</th>\n",
       "      <th>Attr3</th>\n",
       "      <th>Attr4</th>\n",
       "      <th>Attr5</th>\n",
       "      <th>Attr6</th>\n",
       "      <th>Attr7</th>\n",
       "      <th>Attr8</th>\n",
       "      <th>Attr9</th>\n",
       "      <th>...</th>\n",
       "      <th>Attr55</th>\n",
       "      <th>Attr56</th>\n",
       "      <th>Attr57</th>\n",
       "      <th>Attr58</th>\n",
       "      <th>Attr59</th>\n",
       "      <th>Attr60</th>\n",
       "      <th>Attr61</th>\n",
       "      <th>Attr62</th>\n",
       "      <th>Attr63</th>\n",
       "      <th>Attr64</th>\n",
       "    </tr>\n",
       "  </thead>\n",
       "  <tbody>\n",
       "    <tr>\n",
       "      <th>count</th>\n",
       "      <td>24996.000</td>\n",
       "      <td>24996.000000</td>\n",
       "      <td>24996.000000</td>\n",
       "      <td>24996.000000</td>\n",
       "      <td>24996.000000</td>\n",
       "      <td>2.499600e+04</td>\n",
       "      <td>24996.000000</td>\n",
       "      <td>24996.000000</td>\n",
       "      <td>24996.000000</td>\n",
       "      <td>24996.000000</td>\n",
       "      <td>...</td>\n",
       "      <td>2.499600e+04</td>\n",
       "      <td>2.499600e+04</td>\n",
       "      <td>24996.000000</td>\n",
       "      <td>2.499600e+04</td>\n",
       "      <td>24996.000000</td>\n",
       "      <td>2.499600e+04</td>\n",
       "      <td>24996.000000</td>\n",
       "      <td>2.499600e+04</td>\n",
       "      <td>24996.000000</td>\n",
       "      <td>24996.000000</td>\n",
       "    </tr>\n",
       "    <tr>\n",
       "      <th>mean</th>\n",
       "      <td>12498.500</td>\n",
       "      <td>-0.025372</td>\n",
       "      <td>0.674962</td>\n",
       "      <td>0.048471</td>\n",
       "      <td>5.543230</td>\n",
       "      <td>-2.018982e+02</td>\n",
       "      <td>-0.121443</td>\n",
       "      <td>0.025586</td>\n",
       "      <td>8.586936</td>\n",
       "      <td>2.546014</td>\n",
       "      <td>...</td>\n",
       "      <td>6.972576e+03</td>\n",
       "      <td>-4.515381e+01</td>\n",
       "      <td>-0.106616</td>\n",
       "      <td>4.907117e+01</td>\n",
       "      <td>2.478677</td>\n",
       "      <td>2.464880e+03</td>\n",
       "      <td>17.285349</td>\n",
       "      <td>1.608532e+03</td>\n",
       "      <td>8.867342</td>\n",
       "      <td>155.956188</td>\n",
       "    </tr>\n",
       "    <tr>\n",
       "      <th>std</th>\n",
       "      <td>7215.868</td>\n",
       "      <td>4.833904</td>\n",
       "      <td>6.586084</td>\n",
       "      <td>6.572793</td>\n",
       "      <td>181.675407</td>\n",
       "      <td>2.927154e+04</td>\n",
       "      <td>8.789585</td>\n",
       "      <td>4.954393</td>\n",
       "      <td>297.525434</td>\n",
       "      <td>46.259065</td>\n",
       "      <td>...</td>\n",
       "      <td>7.213189e+04</td>\n",
       "      <td>7.010430e+03</td>\n",
       "      <td>12.344460</td>\n",
       "      <td>7.020721e+03</td>\n",
       "      <td>213.965125</td>\n",
       "      <td>3.233270e+04</td>\n",
       "      <td>686.380949</td>\n",
       "      <td>1.659005e+05</td>\n",
       "      <td>57.258708</td>\n",
       "      <td>1628.827561</td>\n",
       "    </tr>\n",
       "    <tr>\n",
       "      <th>min</th>\n",
       "      <td>1.000</td>\n",
       "      <td>-463.890000</td>\n",
       "      <td>-2.421800</td>\n",
       "      <td>-479.960000</td>\n",
       "      <td>-0.403110</td>\n",
       "      <td>-2.722100e+06</td>\n",
       "      <td>-508.410000</td>\n",
       "      <td>-463.890000</td>\n",
       "      <td>-141.410000</td>\n",
       "      <td>-3.496000</td>\n",
       "      <td>...</td>\n",
       "      <td>-1.805200e+06</td>\n",
       "      <td>-1.108300e+06</td>\n",
       "      <td>-1236.300000</td>\n",
       "      <td>-1.986900e+02</td>\n",
       "      <td>-284.380000</td>\n",
       "      <td>-1.244000e+01</td>\n",
       "      <td>-12.656000</td>\n",
       "      <td>-2.336500e+06</td>\n",
       "      <td>-1.543200</td>\n",
       "      <td>-3.726500</td>\n",
       "    </tr>\n",
       "    <tr>\n",
       "      <th>25%</th>\n",
       "      <td>6249.750</td>\n",
       "      <td>0.000439</td>\n",
       "      <td>0.289428</td>\n",
       "      <td>0.000000</td>\n",
       "      <td>1.007831</td>\n",
       "      <td>-5.764100e+01</td>\n",
       "      <td>-0.002953</td>\n",
       "      <td>0.002002</td>\n",
       "      <td>0.365590</td>\n",
       "      <td>1.018700</td>\n",
       "      <td>...</td>\n",
       "      <td>8.762750e-02</td>\n",
       "      <td>7.335050e-03</td>\n",
       "      <td>0.008630</td>\n",
       "      <td>8.753475e-01</td>\n",
       "      <td>0.000000</td>\n",
       "      <td>5.624375e+00</td>\n",
       "      <td>4.547297</td>\n",
       "      <td>4.400975e+01</td>\n",
       "      <td>2.946500</td>\n",
       "      <td>2.218400</td>\n",
       "    </tr>\n",
       "    <tr>\n",
       "      <th>50%</th>\n",
       "      <td>12498.500</td>\n",
       "      <td>0.044264</td>\n",
       "      <td>0.504160</td>\n",
       "      <td>0.174050</td>\n",
       "      <td>1.499250</td>\n",
       "      <td>-6.143950e+00</td>\n",
       "      <td>0.000000</td>\n",
       "      <td>0.053468</td>\n",
       "      <td>0.969960</td>\n",
       "      <td>1.210950</td>\n",
       "      <td>...</td>\n",
       "      <td>8.757900e+02</td>\n",
       "      <td>4.960300e-02</td>\n",
       "      <td>0.117330</td>\n",
       "      <td>9.519354e-01</td>\n",
       "      <td>0.013563</td>\n",
       "      <td>1.026600e+01</td>\n",
       "      <td>6.680917</td>\n",
       "      <td>7.624658e+01</td>\n",
       "      <td>4.847250</td>\n",
       "      <td>4.292425</td>\n",
       "    </tr>\n",
       "    <tr>\n",
       "      <th>75%</th>\n",
       "      <td>18747.250</td>\n",
       "      <td>0.126060</td>\n",
       "      <td>0.726875</td>\n",
       "      <td>0.383180</td>\n",
       "      <td>2.701399</td>\n",
       "      <td>4.569375e+01</td>\n",
       "      <td>0.062827</td>\n",
       "      <td>0.146955</td>\n",
       "      <td>2.471300</td>\n",
       "      <td>2.043125</td>\n",
       "      <td>...</td>\n",
       "      <td>4.583973e+03</td>\n",
       "      <td>1.273525e-01</td>\n",
       "      <td>0.285462</td>\n",
       "      <td>9.933300e-01</td>\n",
       "      <td>0.293780</td>\n",
       "      <td>2.288650e+01</td>\n",
       "      <td>10.390042</td>\n",
       "      <td>1.260900e+02</td>\n",
       "      <td>8.418650</td>\n",
       "      <td>10.075000</td>\n",
       "    </tr>\n",
       "    <tr>\n",
       "      <th>max</th>\n",
       "      <td>24996.000</td>\n",
       "      <td>94.280000</td>\n",
       "      <td>480.960000</td>\n",
       "      <td>22.769000</td>\n",
       "      <td>27146.000000</td>\n",
       "      <td>1.250100e+06</td>\n",
       "      <td>303.670000</td>\n",
       "      <td>186.430000</td>\n",
       "      <td>29636.000000</td>\n",
       "      <td>3876.100000</td>\n",
       "      <td>...</td>\n",
       "      <td>4.398400e+06</td>\n",
       "      <td>2.931500e+02</td>\n",
       "      <td>147.190000</td>\n",
       "      <td>1.108300e+06</td>\n",
       "      <td>23853.000000</td>\n",
       "      <td>3.660200e+06</td>\n",
       "      <td>108000.000000</td>\n",
       "      <td>2.501600e+07</td>\n",
       "      <td>7641.300000</td>\n",
       "      <td>127680.000000</td>\n",
       "    </tr>\n",
       "  </tbody>\n",
       "</table>\n",
       "<p>8 rows × 65 columns</p>\n",
       "</div>"
      ],
      "text/plain": [
       "       Unnamed: 0         Attr1         Attr2         Attr3         Attr4  \\\n",
       "count   24996.000  24996.000000  24996.000000  24996.000000  24996.000000   \n",
       "mean    12498.500     -0.025372      0.674962      0.048471      5.543230   \n",
       "std      7215.868      4.833904      6.586084      6.572793    181.675407   \n",
       "min         1.000   -463.890000     -2.421800   -479.960000     -0.403110   \n",
       "25%      6249.750      0.000439      0.289428      0.000000      1.007831   \n",
       "50%     12498.500      0.044264      0.504160      0.174050      1.499250   \n",
       "75%     18747.250      0.126060      0.726875      0.383180      2.701399   \n",
       "max     24996.000     94.280000    480.960000     22.769000  27146.000000   \n",
       "\n",
       "              Attr5         Attr6         Attr7         Attr8         Attr9  \\\n",
       "count  2.499600e+04  24996.000000  24996.000000  24996.000000  24996.000000   \n",
       "mean  -2.018982e+02     -0.121443      0.025586      8.586936      2.546014   \n",
       "std    2.927154e+04      8.789585      4.954393    297.525434     46.259065   \n",
       "min   -2.722100e+06   -508.410000   -463.890000   -141.410000     -3.496000   \n",
       "25%   -5.764100e+01     -0.002953      0.002002      0.365590      1.018700   \n",
       "50%   -6.143950e+00      0.000000      0.053468      0.969960      1.210950   \n",
       "75%    4.569375e+01      0.062827      0.146955      2.471300      2.043125   \n",
       "max    1.250100e+06    303.670000    186.430000  29636.000000   3876.100000   \n",
       "\n",
       "           ...              Attr55        Attr56        Attr57        Attr58  \\\n",
       "count      ...        2.499600e+04  2.499600e+04  24996.000000  2.499600e+04   \n",
       "mean       ...        6.972576e+03 -4.515381e+01     -0.106616  4.907117e+01   \n",
       "std        ...        7.213189e+04  7.010430e+03     12.344460  7.020721e+03   \n",
       "min        ...       -1.805200e+06 -1.108300e+06  -1236.300000 -1.986900e+02   \n",
       "25%        ...        8.762750e-02  7.335050e-03      0.008630  8.753475e-01   \n",
       "50%        ...        8.757900e+02  4.960300e-02      0.117330  9.519354e-01   \n",
       "75%        ...        4.583973e+03  1.273525e-01      0.285462  9.933300e-01   \n",
       "max        ...        4.398400e+06  2.931500e+02    147.190000  1.108300e+06   \n",
       "\n",
       "             Attr59        Attr60         Attr61        Attr62        Attr63  \\\n",
       "count  24996.000000  2.499600e+04   24996.000000  2.499600e+04  24996.000000   \n",
       "mean       2.478677  2.464880e+03      17.285349  1.608532e+03      8.867342   \n",
       "std      213.965125  3.233270e+04     686.380949  1.659005e+05     57.258708   \n",
       "min     -284.380000 -1.244000e+01     -12.656000 -2.336500e+06     -1.543200   \n",
       "25%        0.000000  5.624375e+00       4.547297  4.400975e+01      2.946500   \n",
       "50%        0.013563  1.026600e+01       6.680917  7.624658e+01      4.847250   \n",
       "75%        0.293780  2.288650e+01      10.390042  1.260900e+02      8.418650   \n",
       "max    23853.000000  3.660200e+06  108000.000000  2.501600e+07   7641.300000   \n",
       "\n",
       "              Attr64  \n",
       "count   24996.000000  \n",
       "mean      155.956188  \n",
       "std      1628.827561  \n",
       "min        -3.726500  \n",
       "25%         2.218400  \n",
       "50%         4.292425  \n",
       "75%        10.075000  \n",
       "max    127680.000000  \n",
       "\n",
       "[8 rows x 65 columns]"
      ]
     },
     "execution_count": 43,
     "metadata": {},
     "output_type": "execute_result"
    }
   ],
   "source": [
    "bank_data.head()\n",
    "bank_data.info()\n",
    "bank_data.describe()"
   ]
  },
  {
   "cell_type": "code",
   "execution_count": 7,
   "metadata": {},
   "outputs": [],
   "source": [
    "# Convert the Target Variables to Numeric\n",
    "bank_data[\"target\"] = bank_data[\"target\"].replace({'No':0, 'Yes':1})"
   ]
  },
  {
   "cell_type": "code",
   "execution_count": 8,
   "metadata": {},
   "outputs": [
    {
     "name": "stdout",
     "output_type": "stream",
     "text": [
      "<class 'pandas.core.frame.DataFrame'>\n",
      "RangeIndex: 24996 entries, 0 to 24995\n",
      "Data columns (total 66 columns):\n",
      "Unnamed: 0    24996 non-null int64\n",
      "Attr1         24996 non-null float64\n",
      "Attr2         24996 non-null float64\n",
      "Attr3         24996 non-null float64\n",
      "Attr4         24996 non-null float64\n",
      "Attr5         24996 non-null float64\n",
      "Attr6         24996 non-null float64\n",
      "Attr7         24996 non-null float64\n",
      "Attr8         24996 non-null float64\n",
      "Attr9         24996 non-null float64\n",
      "Attr10        24996 non-null float64\n",
      "Attr11        24996 non-null float64\n",
      "Attr12        24996 non-null float64\n",
      "Attr13        24996 non-null float64\n",
      "Attr14        24996 non-null float64\n",
      "Attr15        24996 non-null float64\n",
      "Attr16        24996 non-null float64\n",
      "Attr17        24996 non-null float64\n",
      "Attr18        24996 non-null float64\n",
      "Attr19        24996 non-null float64\n",
      "Attr20        24996 non-null float64\n",
      "Attr21        24996 non-null float64\n",
      "Attr22        24996 non-null float64\n",
      "Attr23        24996 non-null float64\n",
      "Attr24        24996 non-null float64\n",
      "Attr25        24996 non-null float64\n",
      "Attr26        24996 non-null float64\n",
      "Attr27        24996 non-null float64\n",
      "Attr28        24996 non-null float64\n",
      "Attr29        24996 non-null float64\n",
      "Attr30        24996 non-null float64\n",
      "Attr31        24996 non-null float64\n",
      "Attr32        24996 non-null float64\n",
      "Attr33        24996 non-null float64\n",
      "Attr34        24996 non-null float64\n",
      "Attr35        24996 non-null float64\n",
      "Attr36        24996 non-null float64\n",
      "Attr37        24996 non-null float64\n",
      "Attr38        24996 non-null float64\n",
      "Attr39        24996 non-null float64\n",
      "Attr40        24996 non-null float64\n",
      "Attr41        24996 non-null float64\n",
      "Attr42        24996 non-null float64\n",
      "Attr43        24996 non-null float64\n",
      "Attr44        24996 non-null float64\n",
      "Attr45        24996 non-null float64\n",
      "Attr46        24996 non-null float64\n",
      "Attr47        24996 non-null float64\n",
      "Attr48        24996 non-null float64\n",
      "Attr49        24996 non-null float64\n",
      "Attr50        24996 non-null float64\n",
      "Attr51        24996 non-null float64\n",
      "Attr52        24996 non-null float64\n",
      "Attr53        24996 non-null float64\n",
      "Attr54        24996 non-null float64\n",
      "Attr55        24996 non-null float64\n",
      "Attr56        24996 non-null float64\n",
      "Attr57        24996 non-null float64\n",
      "Attr58        24996 non-null float64\n",
      "Attr59        24996 non-null float64\n",
      "Attr60        24996 non-null float64\n",
      "Attr61        24996 non-null float64\n",
      "Attr62        24996 non-null float64\n",
      "Attr63        24996 non-null float64\n",
      "Attr64        24996 non-null float64\n",
      "target        24996 non-null int64\n",
      "dtypes: float64(64), int64(2)\n",
      "memory usage: 12.6 MB\n"
     ]
    }
   ],
   "source": [
    "bank_data.info()"
   ]
  },
  {
   "cell_type": "code",
   "execution_count": 9,
   "metadata": {},
   "outputs": [
    {
     "data": {
      "text/plain": [
       "0    20830\n",
       "1     4166\n",
       "Name: target, dtype: int64"
      ]
     },
     "execution_count": 9,
     "metadata": {},
     "output_type": "execute_result"
    }
   ],
   "source": [
    "# Find the Target value distribution\n",
    "bank_data[\"target\"].value_counts()"
   ]
  },
  {
   "cell_type": "code",
   "execution_count": 10,
   "metadata": {},
   "outputs": [
    {
     "data": {
      "text/plain": [
       "<matplotlib.axes._subplots.AxesSubplot at 0x26b362acb70>"
      ]
     },
     "execution_count": 10,
     "metadata": {},
     "output_type": "execute_result"
    },
    {
     "data": {
      "image/png": "[encoded data removed]",
      "text/plain": [
       "<Figure size 720x432 with 1 Axes>"
      ]
     },
     "metadata": {},
     "output_type": "display_data"
    }
   ],
   "source": [
    "import seaborn as sns\n",
    "plt.figure(figsize=(10,6))\n",
    "sns.countplot(x='target',data = bank_data)"
   ]
  },
  {
   "cell_type": "code",
   "execution_count": 11,
   "metadata": {},
   "outputs": [
    {
     "data": {
      "text/plain": [
       "Unnamed: 0    0.0\n",
       "Attr1         0.0\n",
       "Attr2         0.0\n",
       "Attr3         0.0\n",
       "Attr4         0.0\n",
       "Attr5         0.0\n",
       "Attr6         0.0\n",
       "Attr7         0.0\n",
       "Attr8         0.0\n",
       "Attr9         0.0\n",
       "Attr10        0.0\n",
       "Attr11        0.0\n",
       "Attr12        0.0\n",
       "Attr13        0.0\n",
       "Attr14        0.0\n",
       "Attr15        0.0\n",
       "Attr16        0.0\n",
       "Attr17        0.0\n",
       "Attr18        0.0\n",
       "Attr19        0.0\n",
       "Attr20        0.0\n",
       "Attr21        0.0\n",
       "Attr22        0.0\n",
       "Attr23        0.0\n",
       "Attr24        0.0\n",
       "Attr25        0.0\n",
       "Attr26        0.0\n",
       "Attr27        0.0\n",
       "Attr28        0.0\n",
       "Attr29        0.0\n",
       "             ... \n",
       "Attr36        0.0\n",
       "Attr37        0.0\n",
       "Attr38        0.0\n",
       "Attr39        0.0\n",
       "Attr40        0.0\n",
       "Attr41        0.0\n",
       "Attr42        0.0\n",
       "Attr43        0.0\n",
       "Attr44        0.0\n",
       "Attr45        0.0\n",
       "Attr46        0.0\n",
       "Attr47        0.0\n",
       "Attr48        0.0\n",
       "Attr49        0.0\n",
       "Attr50        0.0\n",
       "Attr51        0.0\n",
       "Attr52        0.0\n",
       "Attr53        0.0\n",
       "Attr54        0.0\n",
       "Attr55        0.0\n",
       "Attr56        0.0\n",
       "Attr57        0.0\n",
       "Attr58        0.0\n",
       "Attr59        0.0\n",
       "Attr60        0.0\n",
       "Attr61        0.0\n",
       "Attr62        0.0\n",
       "Attr63        0.0\n",
       "Attr64        0.0\n",
       "target        0.0\n",
       "Length: 66, dtype: float64"
      ]
     },
     "execution_count": 11,
     "metadata": {},
     "output_type": "execute_result"
    }
   ],
   "source": [
    "# Missing Data\n",
    "bank_data.isnull().mean()"
   ]
  },
  {
   "cell_type": "code",
   "execution_count": 12,
   "metadata": {},
   "outputs": [
    {
     "data": {
      "text/plain": [
       "(24996, 66)"
      ]
     },
     "execution_count": 12,
     "metadata": {},
     "output_type": "execute_result"
    }
   ],
   "source": [
    "bank_data.shape"
   ]
  },
  {
   "cell_type": "code",
   "execution_count": 13,
   "metadata": {},
   "outputs": [],
   "source": [
    "#Removing duplicate rows\n",
    "bank_data = bank_data.drop_duplicates()"
   ]
  },
  {
   "cell_type": "code",
   "execution_count": 14,
   "metadata": {},
   "outputs": [
    {
     "data": {
      "text/plain": [
       "(24996, 66)"
      ]
     },
     "execution_count": 14,
     "metadata": {},
     "output_type": "execute_result"
    }
   ],
   "source": [
    "bank_data.shape"
   ]
  },
  {
   "cell_type": "code",
   "execution_count": 52,
   "metadata": {},
   "outputs": [],
   "source": [
    "data_preprocessing = bank_data.copy()\n",
    "data_preprocessing.drop(['target'], axis = 1, inplace = True)"
   ]
  },
  {
   "cell_type": "code",
   "execution_count": null,
   "metadata": {},
   "outputs": [],
   "source": [
    "#!pip install fancyimpute "
   ]
  },
  {
   "cell_type": "code",
   "execution_count": null,
   "metadata": {},
   "outputs": [],
   "source": [
    "# The above step shows us that there are a lot of rows which have missing data in at least one of the feature\n",
    "# missing-data-rows correspond to more than 50% of the entire data.\n",
    "#  Let us build sparsity Matrix\n",
    "# To analyze the type of missing data\n",
    "#import missingno as msno\n",
    "# Library for performing k-NN and MICE imputations \n",
    "\n",
    "#import fancyimpute"
   ]
  },
  {
   "cell_type": "code",
   "execution_count": 15,
   "metadata": {},
   "outputs": [
    {
     "data": {
      "text/plain": [
       "Index(['Unnamed: 0', 'Attr1', 'Attr2', 'Attr3', 'Attr4', 'Attr5', 'Attr6',\n",
       "       'Attr7', 'Attr8', 'Attr9', 'Attr10', 'Attr11', 'Attr12', 'Attr13',\n",
       "       'Attr14', 'Attr15', 'Attr16', 'Attr17', 'Attr18', 'Attr19', 'Attr20',\n",
       "       'Attr21', 'Attr22', 'Attr23', 'Attr24', 'Attr25', 'Attr26', 'Attr27',\n",
       "       'Attr28', 'Attr29', 'Attr30', 'Attr31', 'Attr32', 'Attr33', 'Attr34',\n",
       "       'Attr35', 'Attr36', 'Attr37', 'Attr38', 'Attr39', 'Attr40', 'Attr41',\n",
       "       'Attr42', 'Attr43', 'Attr44', 'Attr45', 'Attr46', 'Attr47', 'Attr48',\n",
       "       'Attr49', 'Attr50', 'Attr51', 'Attr52', 'Attr53', 'Attr54', 'Attr55',\n",
       "       'Attr56', 'Attr57', 'Attr58', 'Attr59', 'Attr60', 'Attr61', 'Attr62',\n",
       "       'Attr63', 'Attr64', 'target'],\n",
       "      dtype='object')"
      ]
     },
     "execution_count": 15,
     "metadata": {},
     "output_type": "execute_result"
    }
   ],
   "source": [
    "bank_data.columns"
   ]
  },
  {
   "cell_type": "code",
   "execution_count": 16,
   "metadata": {},
   "outputs": [],
   "source": [
    "#Generate heat map of missing values\n",
    "\n",
    "import numpy as np\n",
    "import pandas as pd\n",
    "import matplotlib.pyplot as plt\n",
    "import seaborn as sns\n",
    "%matplotlib inline"
   ]
  },
  {
   "cell_type": "code",
   "execution_count": 17,
   "metadata": {},
   "outputs": [
    {
     "data": {
      "text/plain": [
       "<matplotlib.axes._subplots.AxesSubplot at 0x26b378bd160>"
      ]
     },
     "execution_count": 17,
     "metadata": {},
     "output_type": "execute_result"
    },
    {
     "data": {
      "image/png": "[encoded data removed]",
      "text/plain": [
       "<Figure size 432x288 with 1 Axes>"
      ]
     },
     "metadata": {},
     "output_type": "display_data"
    }
   ],
   "source": [
    "sns.heatmap(bank_data.isnull(), cbar=False)"
   ]
  },
  {
   "cell_type": "code",
   "execution_count": 18,
   "metadata": {},
   "outputs": [],
   "source": [
    "#  we could notice a lot of sparsity for the featureAttr37 has the highest sparsity among all the features for all the dataframes. The feature Attr21 is sparse for some,\n",
    "from sklearn.preprocessing import StandardScaler, Normalizer\n",
    "\n",
    "scaler = StandardScaler()"
   ]
  },
  {
   "cell_type": "code",
   "execution_count": 19,
   "metadata": {},
   "outputs": [],
   "source": [
    "# WE noticed that Attr37, Attr21, Attr60 and Attr27m attr45 had majority of missing values\n",
    "bank_data.drop([\"Unnamed: 0\"],axis=1,inplace=True)"
   ]
  },
  {
   "cell_type": "code",
   "execution_count": 20,
   "metadata": {},
   "outputs": [],
   "source": [
    "# Split the Train and Test Data\n",
    "from sklearn.model_selection import train_test_split\n",
    "from sklearn.preprocessing import StandardScaler, Normalizer\n",
    "X = bank_data.drop(\"target\", axis=1)\n",
    "y = bank_data[\"target\"]"
   ]
  },
  {
   "cell_type": "code",
   "execution_count": 21,
   "metadata": {},
   "outputs": [],
   "source": [
    "## Split the data into X_train, X_test, y_train, y_test with test_size = 0.20 using sklearn\n",
    "X_train, X_test, y_train, y_test = train_test_split(X, y, test_size=0.20)"
   ]
  },
  {
   "cell_type": "code",
   "execution_count": 22,
   "metadata": {},
   "outputs": [
    {
     "name": "stdout",
     "output_type": "stream",
     "text": [
      "(19996, 64)\n",
      "(5000, 64)\n",
      "(19996,)\n",
      "(5000,)\n"
     ]
    }
   ],
   "source": [
    "## Print the shape of X_train, X_test, y_train, y_test\n",
    "print(X_train.shape)\n",
    "print(X_test.shape)\n",
    "print(y_train.shape)\n",
    "print(y_test.shape)"
   ]
  },
  {
   "cell_type": "code",
   "execution_count": 23,
   "metadata": {},
   "outputs": [
    {
     "ename": "NameError",
     "evalue": "name 'X_train1' is not defined",
     "output_type": "error",
     "traceback": [
      "\u001b[1;31m---------------------------------------------------------------------------\u001b[0m",
      "\u001b[1;31mNameError\u001b[0m                                 Traceback (most recent call last)",
      "\u001b[1;32m<ipython-input-23-17f23932d160>\u001b[0m in \u001b[0;36m<module>\u001b[1;34m()\u001b[0m\n\u001b[0;32m      2\u001b[0m \u001b[1;32mfrom\u001b[0m \u001b[0msklearn\u001b[0m\u001b[1;33m.\u001b[0m\u001b[0mpreprocessing\u001b[0m \u001b[1;32mimport\u001b[0m \u001b[0mStandardScaler\u001b[0m\u001b[1;33m,\u001b[0m \u001b[0mNormalizer\u001b[0m\u001b[1;33m\u001b[0m\u001b[0m\n\u001b[0;32m      3\u001b[0m \u001b[0mscaler\u001b[0m \u001b[1;33m=\u001b[0m \u001b[0mStandardScaler\u001b[0m\u001b[1;33m(\u001b[0m\u001b[1;33m)\u001b[0m\u001b[1;33m\u001b[0m\u001b[0m\n\u001b[1;32m----> 4\u001b[1;33m \u001b[0mscaler\u001b[0m\u001b[1;33m.\u001b[0m\u001b[0mfit\u001b[0m\u001b[1;33m(\u001b[0m\u001b[0mX_train1\u001b[0m\u001b[1;33m.\u001b[0m\u001b[0miloc\u001b[0m\u001b[1;33m[\u001b[0m\u001b[1;33m:\u001b[0m\u001b[1;33m,\u001b[0m\u001b[1;36m0\u001b[0m\u001b[1;33m:\u001b[0m\u001b[1;36m64\u001b[0m\u001b[1;33m]\u001b[0m\u001b[1;33m)\u001b[0m\u001b[1;33m\u001b[0m\u001b[0m\n\u001b[0m\u001b[0;32m      5\u001b[0m \u001b[1;33m\u001b[0m\u001b[0m\n\u001b[0;32m      6\u001b[0m \u001b[0mX_train\u001b[0m\u001b[1;33m.\u001b[0m\u001b[0miloc\u001b[0m\u001b[1;33m[\u001b[0m\u001b[1;33m:\u001b[0m\u001b[1;33m,\u001b[0m\u001b[1;36m0\u001b[0m\u001b[1;33m:\u001b[0m\u001b[1;36m64\u001b[0m\u001b[1;33m]\u001b[0m \u001b[1;33m=\u001b[0m \u001b[0mscaler\u001b[0m\u001b[1;33m.\u001b[0m\u001b[0mtransform\u001b[0m\u001b[1;33m(\u001b[0m\u001b[0mX_train\u001b[0m\u001b[1;33m.\u001b[0m\u001b[0miloc\u001b[0m\u001b[1;33m[\u001b[0m\u001b[1;33m:\u001b[0m\u001b[1;33m,\u001b[0m\u001b[1;36m0\u001b[0m\u001b[1;33m:\u001b[0m\u001b[1;36m64\u001b[0m\u001b[1;33m]\u001b[0m\u001b[1;33m)\u001b[0m\u001b[1;33m\u001b[0m\u001b[0m\n",
      "\u001b[1;31mNameError\u001b[0m: name 'X_train1' is not defined"
     ]
    }
   ],
   "source": [
    "from sklearn.model_selection import train_test_split\n",
    "from sklearn.preprocessing import StandardScaler, Normalizer\n",
    "scaler = StandardScaler()\n",
    "scaler.fit(X_train1.iloc[:,0:64])\n",
    "\n",
    "X_train.iloc[:,0:64] = scaler.transform(X_train.iloc[:,0:64])\n",
    "X_test.iloc[:,0:64] = scaler.transform(X_test.iloc[:,0:64])"
   ]
  },
  {
   "cell_type": "code",
   "execution_count": null,
   "metadata": {},
   "outputs": [],
   "source": [
    "print(X_train.head())\n",
    "print(X_test.head())\n",
    "print(y_train.head())\n",
    "print(y_test.head())"
   ]
  },
  {
   "cell_type": "code",
   "execution_count": 24,
   "metadata": {},
   "outputs": [],
   "source": [
    "import itertools\n",
    "def plot_confusion_matrix(cm, classes,\n",
    "                          normalize=False,\n",
    "                          title='Confusion matrix',\n",
    "                          cmap=plt.cm.Blues):\n",
    "    \"\"\"\n",
    "    This function prints and plots the confusion matrix.\n",
    "    Normalization can be applied by setting `normalize=True`.\n",
    "    \"\"\"\n",
    "    plt.imshow(cm, interpolation='nearest', cmap=cmap)\n",
    "    plt.title(title)\n",
    "    plt.colorbar()\n",
    "    tick_marks = np.arange(len(classes))\n",
    "    plt.xticks(tick_marks, classes, rotation=0)\n",
    "    plt.yticks(tick_marks, classes)\n",
    "\n",
    "    if normalize:\n",
    "        cm = cm.astype('float') / cm.sum(axis=1)[:, np.newaxis]\n",
    "        #print(\"Normalized confusion matrix\")\n",
    "    else:\n",
    "        1#print('Confusion matrix, without normalization')\n",
    "\n",
    "    #print(cm)\n",
    "\n",
    "    thresh = cm.max() / 2.\n",
    "    for i, j in itertools.product(range(cm.shape[0]), range(cm.shape[1])):\n",
    "        plt.text(j, i, cm[i, j],\n",
    "                 horizontalalignment=\"center\",\n",
    "                 color=\"white\" if cm[i, j] > thresh else \"black\")\n",
    "\n",
    "    plt.tight_layout()\n",
    "    plt.ylabel('True label')\n",
    "    plt.xlabel('Predicted label')"
   ]
  },
  {
   "cell_type": "code",
   "execution_count": 111,
   "metadata": {},
   "outputs": [
    {
     "name": "stdout",
     "output_type": "stream",
     "text": [
      "Train Logistic Accuracy : 0.8016603320664133\n",
      "Test Logistic Accuracy : 0.7986\n"
     ]
    },
    {
     "name": "stderr",
     "output_type": "stream",
     "text": [
      "C:\\ProgramData\\Anaconda3\\lib\\site-packages\\sklearn\\linear_model\\base.py:340: RuntimeWarning: overflow encountered in exp\n",
      "  np.exp(prob, prob)\n"
     ]
    }
   ],
   "source": [
    "#Building Models\n",
    "#Buliding Logistic Regression Model\n",
    "from sklearn.linear_model import LogisticRegression\n",
    "lr = LogisticRegression()\n",
    "model_train=lr.fit(X_train, y_train)\n",
    "y_pred_train_lr = lr.predict(X_train)\n",
    "y_pred_test_lr= lr.predict(X_test)\n",
    "y_prob_test_lr= lr.predict_proba(X_test)[:,1]\n",
    "acc_train_lr =accuracy_score(y_true=y_train,y_pred=y_pred_train_lr)\n",
    "acc_test_lr = accuracy_score(y_true=y_test,y_pred=y_pred_test_lr)                          \n",
    "print(\"Train Logistic Accuracy :\",accuracy_score(y_true=y_train,y_pred=y_pred_train_lr))\n",
    "print(\"Test Logistic Accuracy :\",accuracy_score(y_true=y_test,y_pred=y_pred_test_lr))\n"
   ]
  },
  {
   "cell_type": "code",
   "execution_count": 112,
   "metadata": {},
   "outputs": [
    {
     "name": "stdout",
     "output_type": "stream",
     "text": [
      "\n",
      " Confusion matrix \n",
      " [[3864  302]\n",
      " [ 705  129]]\n",
      "\n",
      " Classification report \n",
      "              precision    recall  f1-score   support\n",
      "\n",
      "          0       0.85      0.93      0.88      4166\n",
      "          1       0.30      0.15      0.20       834\n",
      "\n",
      "avg / total       0.75      0.80      0.77      5000\n",
      "\n"
     ]
    }
   ],
   "source": [
    "from sklearn import metrics\n",
    "from sklearn.metrics import accuracy_score, confusion_matrix, classification_report\n",
    "confusion_matrix_test_lr = confusion_matrix(y_test, y_pred_test_lr)\n",
    "cr_lr = classification_report(y_test,y_pred_test_lr)\n",
    "print(\"\\n Confusion matrix \\n\", confusion_matrix_test_lr)\n",
    "print(\"\\n Classification report \\n\", classification_report(y_test,y_pred_test_lr))\n",
    "\n",
    "\n"
   ]
  },
  {
   "cell_type": "code",
   "execution_count": 113,
   "metadata": {},
   "outputs": [
    {
     "data": {
      "image/png": "[encoded data removed]",
      "text/plain": [
       "<Figure size 432x288 with 2 Axes>"
      ]
     },
     "metadata": {},
     "output_type": "display_data"
    }
   ],
   "source": [
    "class_names = [0,1]\n",
    "plt.figure()\n",
    "plot_confusion_matrix(confusion_matrix_test_lr , classes=class_names, title='Confusion matrix')\n",
    "plt.show()"
   ]
  },
  {
   "cell_type": "code",
   "execution_count": 114,
   "metadata": {},
   "outputs": [
    {
     "name": "stdout",
     "output_type": "stream",
     "text": [
      "Test TNR:  0.9275084013442151\n",
      "Test TPR:  0.15467625899280577\n",
      "Test Accuracy:  0.7986\n"
     ]
    }
   ],
   "source": [
    "Accuracy_Test_lr=(confusion_matrix_test_lr[0,0]+confusion_matrix_test_lr[1,1])/(confusion_matrix_test_lr[0,0]+confusion_matrix_test_lr[0,1]+confusion_matrix_test_lr[1,0]+confusion_matrix_test_lr[1,1])\n",
    "TNR_Test_lr= confusion_matrix_test_lr[0,0]/(confusion_matrix_test_lr[0,0] +confusion_matrix_test_lr[0,1])\n",
    "TPR_Test_lr= confusion_matrix_test_lr[1,1]/(confusion_matrix_test_lr[1,0] +confusion_matrix_test_lr[1,1])\n",
    "\n",
    "print(\"Test TNR: \",TNR_Test_lr)\n",
    "print(\"Test TPR: \",TPR_Test_lr)\n",
    "print(\"Test Accuracy: \",Accuracy_Test_lr)"
   ]
  },
  {
   "cell_type": "code",
   "execution_count": 115,
   "metadata": {},
   "outputs": [
    {
     "data": {
      "image/png": "[encoded data removed]",
      "text/plain": [
       "<Figure size 432x288 with 1 Axes>"
      ]
     },
     "metadata": {},
     "output_type": "display_data"
    }
   ],
   "source": [
    "# calculate the fpr and tpr for all thresholds of the classification\n",
    "\n",
    "fpr, tpr, threshold = metrics.roc_curve(y_test, y_prob_test_lr)\n",
    "roc_auc_lr = metrics.auc(fpr, tpr)\n",
    "\n",
    "# method I: plt\n",
    "import matplotlib.pyplot as plt\n",
    "plt.title('Receiver Operating Characteristic')\n",
    "plt.plot(fpr, tpr, 'b', label = 'AUC = %0.2f' % roc_auc_lr)\n",
    "plt.legend(loc = 'lower right')\n",
    "plt.plot([0, 1], [0, 1],'r--')\n",
    "plt.xlim([0, 1])\n",
    "plt.ylim([0, 1])\n",
    "plt.ylabel('True Positive Rate')\n",
    "plt.xlabel('False Positive Rate')\n",
    "plt.show()"
   ]
  },
  {
   "cell_type": "code",
   "execution_count": 116,
   "metadata": {},
   "outputs": [
    {
     "name": "stdout",
     "output_type": "stream",
     "text": [
      "Train Accuracy:  0.8016603320664133\n",
      "Test Accuracy:  0.7986\n",
      "Train Auc:  0.5826123546673942\n",
      "Test TNR:  0.9275084013442151\n",
      "Test TPR:  0.15467625899280577\n"
     ]
    }
   ],
   "source": [
    "print(\"Train Accuracy: \", acc_train_lr)\n",
    "print(\"Test Accuracy: \", acc_test_lr)\n",
    "print(\"Train Auc: \", roc_auc_lr)\n",
    "print(\"Test TNR: \",TNR_Test_lr)\n",
    "print(\"Test TPR: \",TPR_Test_lr)"
   ]
  },
  {
   "cell_type": "code",
   "execution_count": null,
   "metadata": {},
   "outputs": [],
   "source": [
    "# Model 2 SVM\n",
    "from sklearn.svm import SVC\n",
    "SVC = SVC(probability=True)\n",
    "model_train_svc=SVC.fit(X_train, y_train)\n",
    "y_pred_train_svc = SVC.predict(X_train)\n",
    "y_pred_test_svc = SVC.predict(X_test)\n"
   ]
  },
  {
   "cell_type": "code",
   "execution_count": null,
   "metadata": {},
   "outputs": [],
   "source": [
    "y_prob_test_svc = SVC.predict_proba(X_test)[:,1]\n",
    "acc_train_svc = accuracy_score(y_true=y_train,y_pred=y_pred_train_svc)\n",
    "acc_test_svc = accuracy_score(y_true=y_test,y_pred=y_pred_test_svc)\n",
    "print(\"Train SVC Accuracy:\",accuracy_score(y_true=y_train,y_pred=y_pred_train_svc))\n",
    "print(\"Test SVC Accuracy:\",accuracy_score(y_true=y_test,y_pred=y_pred_test_svc))"
   ]
  },
  {
   "cell_type": "code",
   "execution_count": 57,
   "metadata": {},
   "outputs": [
    {
     "name": "stdout",
     "output_type": "stream",
     "text": [
      "\n",
      " Confusion matrix \n",
      " [[4149   19]\n",
      " [ 119  713]]\n",
      "\n",
      " Classification report \n",
      "              precision    recall  f1-score   support\n",
      "\n",
      "          0       0.97      1.00      0.98      4168\n",
      "          1       0.97      0.86      0.91       832\n",
      "\n",
      "avg / total       0.97      0.97      0.97      5000\n",
      "\n"
     ]
    }
   ],
   "source": [
    "from sklearn import metrics\n",
    "from sklearn.metrics import accuracy_score, confusion_matrix, classification_report\n",
    "confusion_matrix_test_svc = confusion_matrix(y_test, y_pred_test_svc)\n",
    "print(\"\\n Confusion matrix \\n\", confusion_matrix_test_svc)\n",
    "print(\"\\n Classification report \\n\", classification_report(y_test,y_pred_test_svc))\n"
   ]
  },
  {
   "cell_type": "code",
   "execution_count": null,
   "metadata": {},
   "outputs": [],
   "source": [
    "class_names = [0,1]\n",
    "plt.figure()\n",
    "plot_confusion_matrix(confusion_matrix_test_svc , classes=class_names, title='Confusion matrix')\n",
    "plt.show()"
   ]
  },
  {
   "cell_type": "code",
   "execution_count": null,
   "metadata": {},
   "outputs": [],
   "source": [
    "Accuracy_Test=(confusion_matrix_test_svc[0,0]+confusion_matrix_test_svc[1,1])/(confusion_matrix_test_svc[0,0]+confusion_matrix_test_svc[0,1]+confusion_matrix_test_svc[1,0]+confusion_matrix_test_svc[1,1])\n",
    "TNR_Test_svc= confusion_matrix_test_svc[0,0]/(confusion_matrix_test_svc[0,0] +confusion_matrix_test_svc[0,1])\n",
    "TPR_Test_svc= confusion_matrix_test_svc[1,1]/(confusion_matrix_test_svc[1,0] +confusion_matrix_test_svc[1,1])\n",
    "\n",
    "print(\"Test TNR: \",TNR_Test_svc)\n",
    "print(\"Test TPR: \",TPR_Test_svc)\n",
    "print(\"Test Accuracy: \",Accuracy_Test)"
   ]
  },
  {
   "cell_type": "code",
   "execution_count": null,
   "metadata": {},
   "outputs": [],
   "source": [
    "# calculate the fpr and tpr for all thresholds of the classification\n",
    "\n",
    "fpr, tpr, threshold = metrics.roc_curve(y_test, y_prob_test_svc)\n",
    "roc_auc_svc = metrics.auc(fpr, tpr)\n",
    "\n",
    "# method I: plt\n",
    "import matplotlib.pyplot as plt\n",
    "plt.title('Receiver Operating Characteristic')\n",
    "plt.plot(fpr, tpr, 'b', label = 'AUC = %0.2f' % roc_auc_svc)\n",
    "plt.legend(loc = 'lower right')\n",
    "plt.plot([0, 1], [0, 1],'r--')\n",
    "plt.xlim([0, 1])\n",
    "plt.ylim([0, 1])\n",
    "plt.ylabel('True Positive Rate')\n",
    "plt.xlabel('False Positive Rate')\n",
    "plt.show()"
   ]
  },
  {
   "cell_type": "code",
   "execution_count": 61,
   "metadata": {},
   "outputs": [
    {
     "name": "stdout",
     "output_type": "stream",
     "text": [
      "Train Accuracy:  0.9803960792158432\n",
      "Test Accuracy:  0.9724\n",
      "Train Auc:  0.992848874898494\n",
      "Test TNR:  0.9954414587332053\n",
      "Test TPR:  0.8569711538461539\n"
     ]
    }
   ],
   "source": [
    "print(\"Train Accuracy: \", acc_train_svc)\n",
    "print(\"Test Accuracy: \", acc_test_svc)\n",
    "print(\"Train Auc: \", roc_auc_svc)\n",
    "print(\"Test TNR: \",TNR_Test_svc)\n",
    "print(\"Test TPR: \",TPR_Test_svc)"
   ]
  },
  {
   "cell_type": "code",
   "execution_count": 117,
   "metadata": {},
   "outputs": [],
   "source": [
    "#Building the Decision Tree Model\n",
    "dtc = DecisionTreeClassifier()\n",
    "dtc.fit(X_train,y_train)\n",
    "y_pred_train_dtc = dtc.predict(X_train)\n",
    "y_pred_test_dtc = dtc.predict(X_test)\n",
    "\n"
   ]
  },
  {
   "cell_type": "code",
   "execution_count": 118,
   "metadata": {},
   "outputs": [
    {
     "name": "stdout",
     "output_type": "stream",
     "text": [
      "Train Decision Tree Accuracy: 1.0\n",
      "Test Decision Tree Accuracy: 0.8888\n"
     ]
    }
   ],
   "source": [
    "y_prob_test_dtc= dtc.predict_proba(X_test)[:,1]\n",
    "acc_train_dtc= accuracy_score(y_true=y_train,y_pred=y_pred_train_dtc)\n",
    "acc_test_dtc = accuracy_score(y_true=y_test,y_pred=y_pred_test_dtc)\n",
    "print(\"Train Decision Tree Accuracy:\",accuracy_score(y_true=y_train,y_pred=y_pred_train_dtc))\n",
    "print(\"Test Decision Tree Accuracy:\",accuracy_score(y_true=y_test,y_pred=y_pred_test_dtc))"
   ]
  },
  {
   "cell_type": "code",
   "execution_count": 119,
   "metadata": {},
   "outputs": [
    {
     "name": "stdout",
     "output_type": "stream",
     "text": [
      "\n",
      " Confusion matrix \n",
      " [[3896  270]\n",
      " [ 286  548]]\n",
      "\n",
      " Classification report \n",
      "              precision    recall  f1-score   support\n",
      "\n",
      "          0       0.93      0.94      0.93      4166\n",
      "          1       0.67      0.66      0.66       834\n",
      "\n",
      "avg / total       0.89      0.89      0.89      5000\n",
      "\n"
     ]
    }
   ],
   "source": [
    "from sklearn import metrics\n",
    "from sklearn.metrics import accuracy_score, confusion_matrix, classification_report\n",
    "confusion_matrix_test_dtc = confusion_matrix(y_test, y_pred_test_dtc)\n",
    "print(\"\\n Confusion matrix \\n\", confusion_matrix_test_dtc)\n",
    "print(\"\\n Classification report \\n\", classification_report(y_test,y_pred_test_dtc))\n",
    "\n",
    "\n"
   ]
  },
  {
   "cell_type": "code",
   "execution_count": 120,
   "metadata": {},
   "outputs": [
    {
     "data": {
      "image/png": "[encoded data removed]",
      "text/plain": [
       "<Figure size 432x288 with 2 Axes>"
      ]
     },
     "metadata": {},
     "output_type": "display_data"
    }
   ],
   "source": [
    "class_names = [0,1]\n",
    "plt.figure()\n",
    "plot_confusion_matrix(confusion_matrix_test_dtc , classes=class_names, title='Confusion matrix')\n",
    "plt.show()"
   ]
  },
  {
   "cell_type": "code",
   "execution_count": 121,
   "metadata": {},
   "outputs": [
    {
     "name": "stdout",
     "output_type": "stream",
     "text": [
      "Test TNR:  0.9351896303408546\n",
      "Test TPR:  0.657074340527578\n",
      "Test Accuracy:  0.8888\n"
     ]
    }
   ],
   "source": [
    "Accuracy_Test=(confusion_matrix_test_dtc[0,0]+confusion_matrix_test_dtc[1,1])/(confusion_matrix_test_dtc[0,0]+confusion_matrix_test_dtc[0,1]+confusion_matrix_test_dtc[1,0]+confusion_matrix_test_dtc[1,1])\n",
    "TNR_Test_dtc= confusion_matrix_test_dtc[0,0]/(confusion_matrix_test_dtc[0,0] +confusion_matrix_test_dtc[0,1])\n",
    "TPR_Test_dtc= confusion_matrix_test_dtc[1,1]/(confusion_matrix_test_dtc[1,0] +confusion_matrix_test_dtc[1,1])\n",
    "\n",
    "print(\"Test TNR: \",TNR_Test_dtc)\n",
    "print(\"Test TPR: \",TPR_Test_dtc)\n",
    "print(\"Test Accuracy: \",Accuracy_Test)"
   ]
  },
  {
   "cell_type": "code",
   "execution_count": 122,
   "metadata": {},
   "outputs": [
    {
     "data": {
      "image/png": "[encoded data removed]",
      "text/plain": [
       "<Figure size 432x288 with 1 Axes>"
      ]
     },
     "metadata": {},
     "output_type": "display_data"
    }
   ],
   "source": [
    "# calculate the fpr and tpr for all thresholds of the classification\n",
    "\n",
    "fpr, tpr, threshold = metrics.roc_curve(y_test, y_prob_test_dtc)\n",
    "roc_auc_dtc = metrics.auc(fpr, tpr)\n",
    "\n",
    "# method I: plt\n",
    "import matplotlib.pyplot as plt\n",
    "plt.title('Receiver Operating Characteristic')\n",
    "plt.plot(fpr, tpr, 'b', label = 'AUC = %0.2f' % roc_auc_dtc)\n",
    "plt.legend(loc = 'lower right')\n",
    "plt.plot([0, 1], [0, 1],'r--')\n",
    "plt.xlim([0, 1])\n",
    "plt.ylim([0, 1])\n",
    "plt.ylabel('True Positive Rate')\n",
    "plt.xlabel('False Positive Rate')\n",
    "plt.show()"
   ]
  },
  {
   "cell_type": "code",
   "execution_count": 123,
   "metadata": {},
   "outputs": [
    {
     "name": "stdout",
     "output_type": "stream",
     "text": [
      "Train Accuracy:  1.0\n",
      "Test Accuracy:  0.8888\n",
      "Train Auc:  0.7961319854342163\n",
      "Test TNR:  0.9351896303408546\n",
      "Test TPR:  0.657074340527578\n"
     ]
    }
   ],
   "source": [
    "print(\"Train Accuracy: \", acc_train_dtc)\n",
    "print(\"Test Accuracy: \", acc_test_dtc)\n",
    "print(\"Train Auc: \", roc_auc_dtc)\n",
    "print(\"Test TNR: \",TNR_Test_dtc)\n",
    "print(\"Test TPR: \",TPR_Test_dtc)"
   ]
  },
  {
   "cell_type": "code",
   "execution_count": 124,
   "metadata": {},
   "outputs": [],
   "source": [
    "#Building the RandomForest Classifier\n",
    "from sklearn.ensemble import RandomForestClassifier\n",
    "rfc = RandomForestClassifier()\n",
    "model_train_rfc= rfc.fit(X_train,y_train)\n",
    "y_pred_train_rfc = rfc.predict(X_train)\n",
    "y_pred_test_rfc = rfc.predict(X_test)\n"
   ]
  },
  {
   "cell_type": "code",
   "execution_count": 125,
   "metadata": {},
   "outputs": [
    {
     "name": "stdout",
     "output_type": "stream",
     "text": [
      "Train Decision Tree Accuracy: 0.9928485697139428\n",
      "Test Decision Tree Accuracy: 0.9146\n"
     ]
    }
   ],
   "source": [
    "y_prob_test_rfc= rfc.predict_proba(X_test)[:,1]\n",
    "acc_train_rfc = accuracy_score(y_true=y_train,y_pred=y_pred_train_rfc)\n",
    "acc_test_rfc = accuracy_score(y_true=y_test,y_pred=y_pred_test_rfc)\n",
    "print(\"Train Decision Tree Accuracy:\",accuracy_score(y_true=y_train,y_pred=y_pred_train_rfc))\n",
    "print(\"Test Decision Tree Accuracy:\",accuracy_score(y_true=y_test,y_pred=y_pred_test_rfc))"
   ]
  },
  {
   "cell_type": "code",
   "execution_count": 126,
   "metadata": {},
   "outputs": [
    {
     "name": "stdout",
     "output_type": "stream",
     "text": [
      "\n",
      " Confusion matrix \n",
      " [[4133   33]\n",
      " [ 394  440]]\n",
      "\n",
      " Classification report \n",
      "              precision    recall  f1-score   support\n",
      "\n",
      "          0       0.91      0.99      0.95      4166\n",
      "          1       0.93      0.53      0.67       834\n",
      "\n",
      "avg / total       0.92      0.91      0.90      5000\n",
      "\n"
     ]
    }
   ],
   "source": [
    "from sklearn import metrics\n",
    "from sklearn.metrics import accuracy_score, confusion_matrix, classification_report\n",
    "confusion_matrix_test_rfc = confusion_matrix(y_test, y_pred_test_rfc)\n",
    "print(\"\\n Confusion matrix \\n\", confusion_matrix_test_rfc)\n",
    "print(\"\\n Classification report \\n\", classification_report(y_test,y_pred_test_rfc))\n",
    "\n",
    "\n"
   ]
  },
  {
   "cell_type": "code",
   "execution_count": 127,
   "metadata": {},
   "outputs": [
    {
     "data": {
      "image/png": "[encoded data removed]",
      "text/plain": [
       "<Figure size 432x288 with 2 Axes>"
      ]
     },
     "metadata": {},
     "output_type": "display_data"
    }
   ],
   "source": [
    "class_names = [0,1]\n",
    "plt.figure()\n",
    "plot_confusion_matrix(confusion_matrix_test_rfc , classes=class_names, title='Confusion matrix')\n",
    "plt.show()"
   ]
  },
  {
   "cell_type": "code",
   "execution_count": 128,
   "metadata": {},
   "outputs": [
    {
     "name": "stdout",
     "output_type": "stream",
     "text": [
      "Test TNR:  0.9920787325972156\n",
      "Test TPR:  0.5275779376498801\n",
      "Test Accuracy:  0.9146\n"
     ]
    }
   ],
   "source": [
    "Accuracy_Test=(confusion_matrix_test_rfc[0,0]+confusion_matrix_test_rfc[1,1])/(confusion_matrix_test_rfc[0,0]+confusion_matrix_test_rfc[0,1]+confusion_matrix_test_rfc[1,0]+confusion_matrix_test_rfc[1,1])\n",
    "TNR_Test_rfc= confusion_matrix_test_rfc[0,0]/(confusion_matrix_test_rfc[0,0] +confusion_matrix_test_rfc[0,1])\n",
    "TPR_Test_rfc= confusion_matrix_test_rfc[1,1]/(confusion_matrix_test_rfc[1,0] +confusion_matrix_test_rfc[1,1])\n",
    "\n",
    "print(\"Test TNR: \",TNR_Test_rfc)\n",
    "print(\"Test TPR: \",TPR_Test_rfc)\n",
    "print(\"Test Accuracy: \",Accuracy_Test)"
   ]
  },
  {
   "cell_type": "code",
   "execution_count": 129,
   "metadata": {},
   "outputs": [
    {
     "data": {
      "image/png": "[encoded data removed]",
      "text/plain": [
       "<Figure size 432x288 with 1 Axes>"
      ]
     },
     "metadata": {},
     "output_type": "display_data"
    }
   ],
   "source": [
    "# calculate the fpr and tpr for all thresholds of the classification\n",
    "\n",
    "fpr, tpr, threshold = metrics.roc_curve(y_test, y_prob_test_rfc)\n",
    "roc_auc_rfc = metrics.auc(fpr, tpr)\n",
    "\n",
    "# method I: plt\n",
    "import matplotlib.pyplot as plt\n",
    "plt.title('Receiver Operating Characteristic')\n",
    "plt.plot(fpr, tpr, 'b', label = 'AUC = %0.2f' % roc_auc_rfc)\n",
    "plt.legend(loc = 'lower right')\n",
    "plt.plot([0, 1], [0, 1],'r--')\n",
    "plt.xlim([0, 1])\n",
    "plt.ylim([0, 1])\n",
    "plt.ylabel('True Positive Rate')\n",
    "plt.xlabel('False Positive Rate')\n",
    "plt.show()"
   ]
  },
  {
   "cell_type": "code",
   "execution_count": 130,
   "metadata": {},
   "outputs": [
    {
     "name": "stdout",
     "output_type": "stream",
     "text": [
      "Train Accuracy:  0.9928485697139428\n",
      "Test Accuracy:  0.9146\n",
      "Train Auc:  0.9257337289074166\n",
      "Test TNR:  0.9920787325972156\n",
      "Test TPR:  0.5275779376498801\n"
     ]
    }
   ],
   "source": [
    "print(\"Train Accuracy: \", acc_train_rfc)\n",
    "print(\"Test Accuracy: \", acc_test_rfc)\n",
    "print(\"Train Auc: \", roc_auc_rfc)\n",
    "print(\"Test TNR: \",TNR_Test_rfc)\n",
    "print(\"Test TPR: \",TPR_Test_rfc)"
   ]
  },
  {
   "cell_type": "code",
   "execution_count": 53,
   "metadata": {},
   "outputs": [],
   "source": [
    "from sklearn.model_selection import GridSearchCV\n",
    "# Create the parameter grid based on the results of random search \n",
    "rfc_grid = RandomForestClassifier(n_jobs=-1)\n",
    "param_grid = {\n",
    "    'bootstrap': [True],\n",
    "    'max_depth': [5,10],\n",
    "    'max_features': [5,8,10,12,15],\n",
    "    'min_samples_leaf': [3, 4, 5],\n",
    "    'min_samples_split': [8, 10],\n",
    "    'n_estimators': [100,200]\n",
    "}\n",
    "rfc_cv_grid = GridSearchCV(estimator = rfc_grid, param_grid = param_grid)"
   ]
  },
  {
   "cell_type": "code",
   "execution_count": 54,
   "metadata": {},
   "outputs": [
    {
     "ename": "KeyboardInterrupt",
     "evalue": "",
     "output_type": "error",
     "traceback": [
      "\u001b[1;31m---------------------------------------------------------------------------\u001b[0m",
      "\u001b[1;31mKeyboardInterrupt\u001b[0m                         Traceback (most recent call last)",
      "\u001b[1;32m<ipython-input-54-04d90c964e18>\u001b[0m in \u001b[0;36m<module>\u001b[1;34m()\u001b[0m\n\u001b[0;32m      1\u001b[0m \u001b[1;31m## Fit the grid search model\u001b[0m\u001b[1;33m\u001b[0m\u001b[1;33m\u001b[0m\u001b[0m\n\u001b[1;32m----> 2\u001b[1;33m \u001b[0mrfc_cv_grid\u001b[0m\u001b[1;33m.\u001b[0m\u001b[0mfit\u001b[0m\u001b[1;33m(\u001b[0m\u001b[0mX\u001b[0m \u001b[1;33m=\u001b[0m \u001b[0mX_train\u001b[0m\u001b[1;33m,\u001b[0m \u001b[0my\u001b[0m \u001b[1;33m=\u001b[0m \u001b[0my_train\u001b[0m\u001b[1;33m)\u001b[0m\u001b[1;33m\u001b[0m\u001b[0m\n\u001b[0m",
      "\u001b[1;32mC:\\ProgramData\\Anaconda3\\lib\\site-packages\\sklearn\\model_selection\\_search.py\u001b[0m in \u001b[0;36mfit\u001b[1;34m(self, X, y, groups, **fit_params)\u001b[0m\n\u001b[0;32m    637\u001b[0m                                   error_score=self.error_score)\n\u001b[0;32m    638\u001b[0m           for parameters, (train, test) in product(candidate_params,\n\u001b[1;32m--> 639\u001b[1;33m                                                    cv.split(X, y, groups)))\n\u001b[0m\u001b[0;32m    640\u001b[0m \u001b[1;33m\u001b[0m\u001b[0m\n\u001b[0;32m    641\u001b[0m         \u001b[1;31m# if one choose to see train score, \"out\" will contain train score info\u001b[0m\u001b[1;33m\u001b[0m\u001b[1;33m\u001b[0m\u001b[0m\n",
      "\u001b[1;32mC:\\ProgramData\\Anaconda3\\lib\\site-packages\\sklearn\\externals\\joblib\\parallel.py\u001b[0m in \u001b[0;36m__call__\u001b[1;34m(self, iterable)\u001b[0m\n\u001b[0;32m    777\u001b[0m             \u001b[1;31m# was dispatched. In particular this covers the edge\u001b[0m\u001b[1;33m\u001b[0m\u001b[1;33m\u001b[0m\u001b[0m\n\u001b[0;32m    778\u001b[0m             \u001b[1;31m# case of Parallel used with an exhausted iterator.\u001b[0m\u001b[1;33m\u001b[0m\u001b[1;33m\u001b[0m\u001b[0m\n\u001b[1;32m--> 779\u001b[1;33m             \u001b[1;32mwhile\u001b[0m \u001b[0mself\u001b[0m\u001b[1;33m.\u001b[0m\u001b[0mdispatch_one_batch\u001b[0m\u001b[1;33m(\u001b[0m\u001b[0miterator\u001b[0m\u001b[1;33m)\u001b[0m\u001b[1;33m:\u001b[0m\u001b[1;33m\u001b[0m\u001b[0m\n\u001b[0m\u001b[0;32m    780\u001b[0m                 \u001b[0mself\u001b[0m\u001b[1;33m.\u001b[0m\u001b[0m_iterating\u001b[0m \u001b[1;33m=\u001b[0m \u001b[1;32mTrue\u001b[0m\u001b[1;33m\u001b[0m\u001b[0m\n\u001b[0;32m    781\u001b[0m             \u001b[1;32melse\u001b[0m\u001b[1;33m:\u001b[0m\u001b[1;33m\u001b[0m\u001b[0m\n",
      "\u001b[1;32mC:\\ProgramData\\Anaconda3\\lib\\site-packages\\sklearn\\externals\\joblib\\parallel.py\u001b[0m in \u001b[0;36mdispatch_one_batch\u001b[1;34m(self, iterator)\u001b[0m\n\u001b[0;32m    623\u001b[0m                 \u001b[1;32mreturn\u001b[0m \u001b[1;32mFalse\u001b[0m\u001b[1;33m\u001b[0m\u001b[0m\n\u001b[0;32m    624\u001b[0m             \u001b[1;32melse\u001b[0m\u001b[1;33m:\u001b[0m\u001b[1;33m\u001b[0m\u001b[0m\n\u001b[1;32m--> 625\u001b[1;33m                 \u001b[0mself\u001b[0m\u001b[1;33m.\u001b[0m\u001b[0m_dispatch\u001b[0m\u001b[1;33m(\u001b[0m\u001b[0mtasks\u001b[0m\u001b[1;33m)\u001b[0m\u001b[1;33m\u001b[0m\u001b[0m\n\u001b[0m\u001b[0;32m    626\u001b[0m                 \u001b[1;32mreturn\u001b[0m \u001b[1;32mTrue\u001b[0m\u001b[1;33m\u001b[0m\u001b[0m\n\u001b[0;32m    627\u001b[0m \u001b[1;33m\u001b[0m\u001b[0m\n",
      "\u001b[1;32mC:\\ProgramData\\Anaconda3\\lib\\site-packages\\sklearn\\externals\\joblib\\parallel.py\u001b[0m in \u001b[0;36m_dispatch\u001b[1;34m(self, batch)\u001b[0m\n\u001b[0;32m    586\u001b[0m         \u001b[0mdispatch_timestamp\u001b[0m \u001b[1;33m=\u001b[0m \u001b[0mtime\u001b[0m\u001b[1;33m.\u001b[0m\u001b[0mtime\u001b[0m\u001b[1;33m(\u001b[0m\u001b[1;33m)\u001b[0m\u001b[1;33m\u001b[0m\u001b[0m\n\u001b[0;32m    587\u001b[0m         \u001b[0mcb\u001b[0m \u001b[1;33m=\u001b[0m \u001b[0mBatchCompletionCallBack\u001b[0m\u001b[1;33m(\u001b[0m\u001b[0mdispatch_timestamp\u001b[0m\u001b[1;33m,\u001b[0m \u001b[0mlen\u001b[0m\u001b[1;33m(\u001b[0m\u001b[0mbatch\u001b[0m\u001b[1;33m)\u001b[0m\u001b[1;33m,\u001b[0m \u001b[0mself\u001b[0m\u001b[1;33m)\u001b[0m\u001b[1;33m\u001b[0m\u001b[0m\n\u001b[1;32m--> 588\u001b[1;33m         \u001b[0mjob\u001b[0m \u001b[1;33m=\u001b[0m \u001b[0mself\u001b[0m\u001b[1;33m.\u001b[0m\u001b[0m_backend\u001b[0m\u001b[1;33m.\u001b[0m\u001b[0mapply_async\u001b[0m\u001b[1;33m(\u001b[0m\u001b[0mbatch\u001b[0m\u001b[1;33m,\u001b[0m \u001b[0mcallback\u001b[0m\u001b[1;33m=\u001b[0m\u001b[0mcb\u001b[0m\u001b[1;33m)\u001b[0m\u001b[1;33m\u001b[0m\u001b[0m\n\u001b[0m\u001b[0;32m    589\u001b[0m         \u001b[0mself\u001b[0m\u001b[1;33m.\u001b[0m\u001b[0m_jobs\u001b[0m\u001b[1;33m.\u001b[0m\u001b[0mappend\u001b[0m\u001b[1;33m(\u001b[0m\u001b[0mjob\u001b[0m\u001b[1;33m)\u001b[0m\u001b[1;33m\u001b[0m\u001b[0m\n\u001b[0;32m    590\u001b[0m \u001b[1;33m\u001b[0m\u001b[0m\n",
      "\u001b[1;32mC:\\ProgramData\\Anaconda3\\lib\\site-packages\\sklearn\\externals\\joblib\\_parallel_backends.py\u001b[0m in \u001b[0;36mapply_async\u001b[1;34m(self, func, callback)\u001b[0m\n\u001b[0;32m    109\u001b[0m     \u001b[1;32mdef\u001b[0m \u001b[0mapply_async\u001b[0m\u001b[1;33m(\u001b[0m\u001b[0mself\u001b[0m\u001b[1;33m,\u001b[0m \u001b[0mfunc\u001b[0m\u001b[1;33m,\u001b[0m \u001b[0mcallback\u001b[0m\u001b[1;33m=\u001b[0m\u001b[1;32mNone\u001b[0m\u001b[1;33m)\u001b[0m\u001b[1;33m:\u001b[0m\u001b[1;33m\u001b[0m\u001b[0m\n\u001b[0;32m    110\u001b[0m         \u001b[1;34m\"\"\"Schedule a func to be run\"\"\"\u001b[0m\u001b[1;33m\u001b[0m\u001b[0m\n\u001b[1;32m--> 111\u001b[1;33m         \u001b[0mresult\u001b[0m \u001b[1;33m=\u001b[0m \u001b[0mImmediateResult\u001b[0m\u001b[1;33m(\u001b[0m\u001b[0mfunc\u001b[0m\u001b[1;33m)\u001b[0m\u001b[1;33m\u001b[0m\u001b[0m\n\u001b[0m\u001b[0;32m    112\u001b[0m         \u001b[1;32mif\u001b[0m \u001b[0mcallback\u001b[0m\u001b[1;33m:\u001b[0m\u001b[1;33m\u001b[0m\u001b[0m\n\u001b[0;32m    113\u001b[0m             \u001b[0mcallback\u001b[0m\u001b[1;33m(\u001b[0m\u001b[0mresult\u001b[0m\u001b[1;33m)\u001b[0m\u001b[1;33m\u001b[0m\u001b[0m\n",
      "\u001b[1;32mC:\\ProgramData\\Anaconda3\\lib\\site-packages\\sklearn\\externals\\joblib\\_parallel_backends.py\u001b[0m in \u001b[0;36m__init__\u001b[1;34m(self, batch)\u001b[0m\n\u001b[0;32m    330\u001b[0m         \u001b[1;31m# Don't delay the application, to avoid keeping the input\u001b[0m\u001b[1;33m\u001b[0m\u001b[1;33m\u001b[0m\u001b[0m\n\u001b[0;32m    331\u001b[0m         \u001b[1;31m# arguments in memory\u001b[0m\u001b[1;33m\u001b[0m\u001b[1;33m\u001b[0m\u001b[0m\n\u001b[1;32m--> 332\u001b[1;33m         \u001b[0mself\u001b[0m\u001b[1;33m.\u001b[0m\u001b[0mresults\u001b[0m \u001b[1;33m=\u001b[0m \u001b[0mbatch\u001b[0m\u001b[1;33m(\u001b[0m\u001b[1;33m)\u001b[0m\u001b[1;33m\u001b[0m\u001b[0m\n\u001b[0m\u001b[0;32m    333\u001b[0m \u001b[1;33m\u001b[0m\u001b[0m\n\u001b[0;32m    334\u001b[0m     \u001b[1;32mdef\u001b[0m \u001b[0mget\u001b[0m\u001b[1;33m(\u001b[0m\u001b[0mself\u001b[0m\u001b[1;33m)\u001b[0m\u001b[1;33m:\u001b[0m\u001b[1;33m\u001b[0m\u001b[0m\n",
      "\u001b[1;32mC:\\ProgramData\\Anaconda3\\lib\\site-packages\\sklearn\\externals\\joblib\\parallel.py\u001b[0m in \u001b[0;36m__call__\u001b[1;34m(self)\u001b[0m\n\u001b[0;32m    129\u001b[0m \u001b[1;33m\u001b[0m\u001b[0m\n\u001b[0;32m    130\u001b[0m     \u001b[1;32mdef\u001b[0m \u001b[0m__call__\u001b[0m\u001b[1;33m(\u001b[0m\u001b[0mself\u001b[0m\u001b[1;33m)\u001b[0m\u001b[1;33m:\u001b[0m\u001b[1;33m\u001b[0m\u001b[0m\n\u001b[1;32m--> 131\u001b[1;33m         \u001b[1;32mreturn\u001b[0m \u001b[1;33m[\u001b[0m\u001b[0mfunc\u001b[0m\u001b[1;33m(\u001b[0m\u001b[1;33m*\u001b[0m\u001b[0margs\u001b[0m\u001b[1;33m,\u001b[0m \u001b[1;33m**\u001b[0m\u001b[0mkwargs\u001b[0m\u001b[1;33m)\u001b[0m \u001b[1;32mfor\u001b[0m \u001b[0mfunc\u001b[0m\u001b[1;33m,\u001b[0m \u001b[0margs\u001b[0m\u001b[1;33m,\u001b[0m \u001b[0mkwargs\u001b[0m \u001b[1;32min\u001b[0m \u001b[0mself\u001b[0m\u001b[1;33m.\u001b[0m\u001b[0mitems\u001b[0m\u001b[1;33m]\u001b[0m\u001b[1;33m\u001b[0m\u001b[0m\n\u001b[0m\u001b[0;32m    132\u001b[0m \u001b[1;33m\u001b[0m\u001b[0m\n\u001b[0;32m    133\u001b[0m     \u001b[1;32mdef\u001b[0m \u001b[0m__len__\u001b[0m\u001b[1;33m(\u001b[0m\u001b[0mself\u001b[0m\u001b[1;33m)\u001b[0m\u001b[1;33m:\u001b[0m\u001b[1;33m\u001b[0m\u001b[0m\n",
      "\u001b[1;32mC:\\ProgramData\\Anaconda3\\lib\\site-packages\\sklearn\\externals\\joblib\\parallel.py\u001b[0m in \u001b[0;36m<listcomp>\u001b[1;34m(.0)\u001b[0m\n\u001b[0;32m    129\u001b[0m \u001b[1;33m\u001b[0m\u001b[0m\n\u001b[0;32m    130\u001b[0m     \u001b[1;32mdef\u001b[0m \u001b[0m__call__\u001b[0m\u001b[1;33m(\u001b[0m\u001b[0mself\u001b[0m\u001b[1;33m)\u001b[0m\u001b[1;33m:\u001b[0m\u001b[1;33m\u001b[0m\u001b[0m\n\u001b[1;32m--> 131\u001b[1;33m         \u001b[1;32mreturn\u001b[0m \u001b[1;33m[\u001b[0m\u001b[0mfunc\u001b[0m\u001b[1;33m(\u001b[0m\u001b[1;33m*\u001b[0m\u001b[0margs\u001b[0m\u001b[1;33m,\u001b[0m \u001b[1;33m**\u001b[0m\u001b[0mkwargs\u001b[0m\u001b[1;33m)\u001b[0m \u001b[1;32mfor\u001b[0m \u001b[0mfunc\u001b[0m\u001b[1;33m,\u001b[0m \u001b[0margs\u001b[0m\u001b[1;33m,\u001b[0m \u001b[0mkwargs\u001b[0m \u001b[1;32min\u001b[0m \u001b[0mself\u001b[0m\u001b[1;33m.\u001b[0m\u001b[0mitems\u001b[0m\u001b[1;33m]\u001b[0m\u001b[1;33m\u001b[0m\u001b[0m\n\u001b[0m\u001b[0;32m    132\u001b[0m \u001b[1;33m\u001b[0m\u001b[0m\n\u001b[0;32m    133\u001b[0m     \u001b[1;32mdef\u001b[0m \u001b[0m__len__\u001b[0m\u001b[1;33m(\u001b[0m\u001b[0mself\u001b[0m\u001b[1;33m)\u001b[0m\u001b[1;33m:\u001b[0m\u001b[1;33m\u001b[0m\u001b[0m\n",
      "\u001b[1;32mC:\\ProgramData\\Anaconda3\\lib\\site-packages\\sklearn\\model_selection\\_validation.py\u001b[0m in \u001b[0;36m_fit_and_score\u001b[1;34m(estimator, X, y, scorer, train, test, verbose, parameters, fit_params, return_train_score, return_parameters, return_n_test_samples, return_times, error_score)\u001b[0m\n\u001b[0;32m    456\u001b[0m             \u001b[0mestimator\u001b[0m\u001b[1;33m.\u001b[0m\u001b[0mfit\u001b[0m\u001b[1;33m(\u001b[0m\u001b[0mX_train\u001b[0m\u001b[1;33m,\u001b[0m \u001b[1;33m**\u001b[0m\u001b[0mfit_params\u001b[0m\u001b[1;33m)\u001b[0m\u001b[1;33m\u001b[0m\u001b[0m\n\u001b[0;32m    457\u001b[0m         \u001b[1;32melse\u001b[0m\u001b[1;33m:\u001b[0m\u001b[1;33m\u001b[0m\u001b[0m\n\u001b[1;32m--> 458\u001b[1;33m             \u001b[0mestimator\u001b[0m\u001b[1;33m.\u001b[0m\u001b[0mfit\u001b[0m\u001b[1;33m(\u001b[0m\u001b[0mX_train\u001b[0m\u001b[1;33m,\u001b[0m \u001b[0my_train\u001b[0m\u001b[1;33m,\u001b[0m \u001b[1;33m**\u001b[0m\u001b[0mfit_params\u001b[0m\u001b[1;33m)\u001b[0m\u001b[1;33m\u001b[0m\u001b[0m\n\u001b[0m\u001b[0;32m    459\u001b[0m \u001b[1;33m\u001b[0m\u001b[0m\n\u001b[0;32m    460\u001b[0m     \u001b[1;32mexcept\u001b[0m \u001b[0mException\u001b[0m \u001b[1;32mas\u001b[0m \u001b[0me\u001b[0m\u001b[1;33m:\u001b[0m\u001b[1;33m\u001b[0m\u001b[0m\n",
      "\u001b[1;32mC:\\ProgramData\\Anaconda3\\lib\\site-packages\\sklearn\\ensemble\\forest.py\u001b[0m in \u001b[0;36mfit\u001b[1;34m(self, X, y, sample_weight)\u001b[0m\n\u001b[0;32m    326\u001b[0m                     \u001b[0mt\u001b[0m\u001b[1;33m,\u001b[0m \u001b[0mself\u001b[0m\u001b[1;33m,\u001b[0m \u001b[0mX\u001b[0m\u001b[1;33m,\u001b[0m \u001b[0my\u001b[0m\u001b[1;33m,\u001b[0m \u001b[0msample_weight\u001b[0m\u001b[1;33m,\u001b[0m \u001b[0mi\u001b[0m\u001b[1;33m,\u001b[0m \u001b[0mlen\u001b[0m\u001b[1;33m(\u001b[0m\u001b[0mtrees\u001b[0m\u001b[1;33m)\u001b[0m\u001b[1;33m,\u001b[0m\u001b[1;33m\u001b[0m\u001b[0m\n\u001b[0;32m    327\u001b[0m                     verbose=self.verbose, class_weight=self.class_weight)\n\u001b[1;32m--> 328\u001b[1;33m                 for i, t in enumerate(trees))\n\u001b[0m\u001b[0;32m    329\u001b[0m \u001b[1;33m\u001b[0m\u001b[0m\n\u001b[0;32m    330\u001b[0m             \u001b[1;31m# Collect newly grown trees\u001b[0m\u001b[1;33m\u001b[0m\u001b[1;33m\u001b[0m\u001b[0m\n",
      "\u001b[1;32mC:\\ProgramData\\Anaconda3\\lib\\site-packages\\sklearn\\externals\\joblib\\parallel.py\u001b[0m in \u001b[0;36m__call__\u001b[1;34m(self, iterable)\u001b[0m\n\u001b[0;32m    787\u001b[0m                 \u001b[1;31m# consumption.\u001b[0m\u001b[1;33m\u001b[0m\u001b[1;33m\u001b[0m\u001b[0m\n\u001b[0;32m    788\u001b[0m                 \u001b[0mself\u001b[0m\u001b[1;33m.\u001b[0m\u001b[0m_iterating\u001b[0m \u001b[1;33m=\u001b[0m \u001b[1;32mFalse\u001b[0m\u001b[1;33m\u001b[0m\u001b[0m\n\u001b[1;32m--> 789\u001b[1;33m             \u001b[0mself\u001b[0m\u001b[1;33m.\u001b[0m\u001b[0mretrieve\u001b[0m\u001b[1;33m(\u001b[0m\u001b[1;33m)\u001b[0m\u001b[1;33m\u001b[0m\u001b[0m\n\u001b[0m\u001b[0;32m    790\u001b[0m             \u001b[1;31m# Make sure that we get a last message telling us we are done\u001b[0m\u001b[1;33m\u001b[0m\u001b[1;33m\u001b[0m\u001b[0m\n\u001b[0;32m    791\u001b[0m             \u001b[0melapsed_time\u001b[0m \u001b[1;33m=\u001b[0m \u001b[0mtime\u001b[0m\u001b[1;33m.\u001b[0m\u001b[0mtime\u001b[0m\u001b[1;33m(\u001b[0m\u001b[1;33m)\u001b[0m \u001b[1;33m-\u001b[0m \u001b[0mself\u001b[0m\u001b[1;33m.\u001b[0m\u001b[0m_start_time\u001b[0m\u001b[1;33m\u001b[0m\u001b[0m\n",
      "\u001b[1;32mC:\\ProgramData\\Anaconda3\\lib\\site-packages\\sklearn\\externals\\joblib\\parallel.py\u001b[0m in \u001b[0;36mretrieve\u001b[1;34m(self)\u001b[0m\n\u001b[0;32m    697\u001b[0m             \u001b[1;32mtry\u001b[0m\u001b[1;33m:\u001b[0m\u001b[1;33m\u001b[0m\u001b[0m\n\u001b[0;32m    698\u001b[0m                 \u001b[1;32mif\u001b[0m \u001b[0mgetattr\u001b[0m\u001b[1;33m(\u001b[0m\u001b[0mself\u001b[0m\u001b[1;33m.\u001b[0m\u001b[0m_backend\u001b[0m\u001b[1;33m,\u001b[0m \u001b[1;34m'supports_timeout'\u001b[0m\u001b[1;33m,\u001b[0m \u001b[1;32mFalse\u001b[0m\u001b[1;33m)\u001b[0m\u001b[1;33m:\u001b[0m\u001b[1;33m\u001b[0m\u001b[0m\n\u001b[1;32m--> 699\u001b[1;33m                     \u001b[0mself\u001b[0m\u001b[1;33m.\u001b[0m\u001b[0m_output\u001b[0m\u001b[1;33m.\u001b[0m\u001b[0mextend\u001b[0m\u001b[1;33m(\u001b[0m\u001b[0mjob\u001b[0m\u001b[1;33m.\u001b[0m\u001b[0mget\u001b[0m\u001b[1;33m(\u001b[0m\u001b[0mtimeout\u001b[0m\u001b[1;33m=\u001b[0m\u001b[0mself\u001b[0m\u001b[1;33m.\u001b[0m\u001b[0mtimeout\u001b[0m\u001b[1;33m)\u001b[0m\u001b[1;33m)\u001b[0m\u001b[1;33m\u001b[0m\u001b[0m\n\u001b[0m\u001b[0;32m    700\u001b[0m                 \u001b[1;32melse\u001b[0m\u001b[1;33m:\u001b[0m\u001b[1;33m\u001b[0m\u001b[0m\n\u001b[0;32m    701\u001b[0m                     \u001b[0mself\u001b[0m\u001b[1;33m.\u001b[0m\u001b[0m_output\u001b[0m\u001b[1;33m.\u001b[0m\u001b[0mextend\u001b[0m\u001b[1;33m(\u001b[0m\u001b[0mjob\u001b[0m\u001b[1;33m.\u001b[0m\u001b[0mget\u001b[0m\u001b[1;33m(\u001b[0m\u001b[1;33m)\u001b[0m\u001b[1;33m)\u001b[0m\u001b[1;33m\u001b[0m\u001b[0m\n",
      "\u001b[1;32mC:\\ProgramData\\Anaconda3\\lib\\multiprocessing\\pool.py\u001b[0m in \u001b[0;36mget\u001b[1;34m(self, timeout)\u001b[0m\n\u001b[0;32m    636\u001b[0m \u001b[1;33m\u001b[0m\u001b[0m\n\u001b[0;32m    637\u001b[0m     \u001b[1;32mdef\u001b[0m \u001b[0mget\u001b[0m\u001b[1;33m(\u001b[0m\u001b[0mself\u001b[0m\u001b[1;33m,\u001b[0m \u001b[0mtimeout\u001b[0m\u001b[1;33m=\u001b[0m\u001b[1;32mNone\u001b[0m\u001b[1;33m)\u001b[0m\u001b[1;33m:\u001b[0m\u001b[1;33m\u001b[0m\u001b[0m\n\u001b[1;32m--> 638\u001b[1;33m         \u001b[0mself\u001b[0m\u001b[1;33m.\u001b[0m\u001b[0mwait\u001b[0m\u001b[1;33m(\u001b[0m\u001b[0mtimeout\u001b[0m\u001b[1;33m)\u001b[0m\u001b[1;33m\u001b[0m\u001b[0m\n\u001b[0m\u001b[0;32m    639\u001b[0m         \u001b[1;32mif\u001b[0m \u001b[1;32mnot\u001b[0m \u001b[0mself\u001b[0m\u001b[1;33m.\u001b[0m\u001b[0mready\u001b[0m\u001b[1;33m(\u001b[0m\u001b[1;33m)\u001b[0m\u001b[1;33m:\u001b[0m\u001b[1;33m\u001b[0m\u001b[0m\n\u001b[0;32m    640\u001b[0m             \u001b[1;32mraise\u001b[0m \u001b[0mTimeoutError\u001b[0m\u001b[1;33m\u001b[0m\u001b[0m\n",
      "\u001b[1;32mC:\\ProgramData\\Anaconda3\\lib\\multiprocessing\\pool.py\u001b[0m in \u001b[0;36mwait\u001b[1;34m(self, timeout)\u001b[0m\n\u001b[0;32m    633\u001b[0m \u001b[1;33m\u001b[0m\u001b[0m\n\u001b[0;32m    634\u001b[0m     \u001b[1;32mdef\u001b[0m \u001b[0mwait\u001b[0m\u001b[1;33m(\u001b[0m\u001b[0mself\u001b[0m\u001b[1;33m,\u001b[0m \u001b[0mtimeout\u001b[0m\u001b[1;33m=\u001b[0m\u001b[1;32mNone\u001b[0m\u001b[1;33m)\u001b[0m\u001b[1;33m:\u001b[0m\u001b[1;33m\u001b[0m\u001b[0m\n\u001b[1;32m--> 635\u001b[1;33m         \u001b[0mself\u001b[0m\u001b[1;33m.\u001b[0m\u001b[0m_event\u001b[0m\u001b[1;33m.\u001b[0m\u001b[0mwait\u001b[0m\u001b[1;33m(\u001b[0m\u001b[0mtimeout\u001b[0m\u001b[1;33m)\u001b[0m\u001b[1;33m\u001b[0m\u001b[0m\n\u001b[0m\u001b[0;32m    636\u001b[0m \u001b[1;33m\u001b[0m\u001b[0m\n\u001b[0;32m    637\u001b[0m     \u001b[1;32mdef\u001b[0m \u001b[0mget\u001b[0m\u001b[1;33m(\u001b[0m\u001b[0mself\u001b[0m\u001b[1;33m,\u001b[0m \u001b[0mtimeout\u001b[0m\u001b[1;33m=\u001b[0m\u001b[1;32mNone\u001b[0m\u001b[1;33m)\u001b[0m\u001b[1;33m:\u001b[0m\u001b[1;33m\u001b[0m\u001b[0m\n",
      "\u001b[1;32mC:\\ProgramData\\Anaconda3\\lib\\threading.py\u001b[0m in \u001b[0;36mwait\u001b[1;34m(self, timeout)\u001b[0m\n\u001b[0;32m    549\u001b[0m             \u001b[0msignaled\u001b[0m \u001b[1;33m=\u001b[0m \u001b[0mself\u001b[0m\u001b[1;33m.\u001b[0m\u001b[0m_flag\u001b[0m\u001b[1;33m\u001b[0m\u001b[0m\n\u001b[0;32m    550\u001b[0m             \u001b[1;32mif\u001b[0m \u001b[1;32mnot\u001b[0m \u001b[0msignaled\u001b[0m\u001b[1;33m:\u001b[0m\u001b[1;33m\u001b[0m\u001b[0m\n\u001b[1;32m--> 551\u001b[1;33m                 \u001b[0msignaled\u001b[0m \u001b[1;33m=\u001b[0m \u001b[0mself\u001b[0m\u001b[1;33m.\u001b[0m\u001b[0m_cond\u001b[0m\u001b[1;33m.\u001b[0m\u001b[0mwait\u001b[0m\u001b[1;33m(\u001b[0m\u001b[0mtimeout\u001b[0m\u001b[1;33m)\u001b[0m\u001b[1;33m\u001b[0m\u001b[0m\n\u001b[0m\u001b[0;32m    552\u001b[0m             \u001b[1;32mreturn\u001b[0m \u001b[0msignaled\u001b[0m\u001b[1;33m\u001b[0m\u001b[0m\n\u001b[0;32m    553\u001b[0m \u001b[1;33m\u001b[0m\u001b[0m\n",
      "\u001b[1;32mC:\\ProgramData\\Anaconda3\\lib\\threading.py\u001b[0m in \u001b[0;36mwait\u001b[1;34m(self, timeout)\u001b[0m\n\u001b[0;32m    293\u001b[0m         \u001b[1;32mtry\u001b[0m\u001b[1;33m:\u001b[0m    \u001b[1;31m# restore state no matter what (e.g., KeyboardInterrupt)\u001b[0m\u001b[1;33m\u001b[0m\u001b[0m\n\u001b[0;32m    294\u001b[0m             \u001b[1;32mif\u001b[0m \u001b[0mtimeout\u001b[0m \u001b[1;32mis\u001b[0m \u001b[1;32mNone\u001b[0m\u001b[1;33m:\u001b[0m\u001b[1;33m\u001b[0m\u001b[0m\n\u001b[1;32m--> 295\u001b[1;33m                 \u001b[0mwaiter\u001b[0m\u001b[1;33m.\u001b[0m\u001b[0macquire\u001b[0m\u001b[1;33m(\u001b[0m\u001b[1;33m)\u001b[0m\u001b[1;33m\u001b[0m\u001b[0m\n\u001b[0m\u001b[0;32m    296\u001b[0m                 \u001b[0mgotit\u001b[0m \u001b[1;33m=\u001b[0m \u001b[1;32mTrue\u001b[0m\u001b[1;33m\u001b[0m\u001b[0m\n\u001b[0;32m    297\u001b[0m             \u001b[1;32melse\u001b[0m\u001b[1;33m:\u001b[0m\u001b[1;33m\u001b[0m\u001b[0m\n",
      "\u001b[1;31mKeyboardInterrupt\u001b[0m: "
     ]
    }
   ],
   "source": [
    "## Fit the grid search model\n",
    "rfc_cv_grid.fit(X = X_train, y = y_train)"
   ]
  },
  {
   "cell_type": "code",
   "execution_count": 75,
   "metadata": {},
   "outputs": [
    {
     "ename": "AttributeError",
     "evalue": "'GridSearchCV' object has no attribute 'best_score_'",
     "output_type": "error",
     "traceback": [
      "\u001b[1;31m---------------------------------------------------------------------------\u001b[0m",
      "\u001b[1;31mAttributeError\u001b[0m                            Traceback (most recent call last)",
      "\u001b[1;32m<ipython-input-75-46c0dd46e744>\u001b[0m in \u001b[0;36m<module>\u001b[1;34m()\u001b[0m\n\u001b[0;32m      1\u001b[0m \u001b[1;31m## Print best score and parameters\u001b[0m\u001b[1;33m\u001b[0m\u001b[1;33m\u001b[0m\u001b[0m\n\u001b[1;32m----> 2\u001b[1;33m \u001b[0mprint\u001b[0m\u001b[1;33m(\u001b[0m\u001b[0mrfc_cv_grid\u001b[0m\u001b[1;33m.\u001b[0m\u001b[0mbest_score_\u001b[0m\u001b[1;33m,\u001b[0m\u001b[0mrfc_cv_grid\u001b[0m\u001b[1;33m.\u001b[0m\u001b[0mbest_params_\u001b[0m\u001b[1;33m)\u001b[0m\u001b[1;33m\u001b[0m\u001b[0m\n\u001b[0m",
      "\u001b[1;31mAttributeError\u001b[0m: 'GridSearchCV' object has no attribute 'best_score_'"
     ]
    }
   ],
   "source": [
    "## Print best score and parameters\n",
    "print(rfc_cv_grid.best_score_,rfc_cv_grid.best_params_)\n",
    "best_grid = rfc_cv_grid.best_estimator_\n",
    "grid_accuracy = evaluate(best_grid, X_test, y_test)"
   ]
  },
  {
   "cell_type": "code",
   "execution_count": 131,
   "metadata": {},
   "outputs": [
    {
     "ename": "NameError",
     "evalue": "name 'y_pred_test_svc' is not defined",
     "output_type": "error",
     "traceback": [
      "\u001b[1;31m---------------------------------------------------------------------------\u001b[0m",
      "\u001b[1;31mNameError\u001b[0m                                 Traceback (most recent call last)",
      "\u001b[1;32m<ipython-input-131-42394e96344a>\u001b[0m in \u001b[0;36m<module>\u001b[1;34m()\u001b[0m\n\u001b[1;32m----> 1\u001b[1;33m \u001b[0mres\u001b[0m \u001b[1;33m=\u001b[0m \u001b[0mpd\u001b[0m\u001b[1;33m.\u001b[0m\u001b[0mDataFrame\u001b[0m\u001b[1;33m(\u001b[0m\u001b[1;33m[\u001b[0m\u001b[0my_pred_test_lr\u001b[0m\u001b[1;33m,\u001b[0m\u001b[0my_pred_test_svc\u001b[0m\u001b[1;33m,\u001b[0m\u001b[0my_pred_test_dtc\u001b[0m\u001b[1;33m,\u001b[0m\u001b[0my_pred_test_rfc\u001b[0m\u001b[1;33m]\u001b[0m\u001b[1;33m)\u001b[0m\u001b[1;33m.\u001b[0m\u001b[0mT\u001b[0m\u001b[1;33m\u001b[0m\u001b[0m\n\u001b[0m",
      "\u001b[1;31mNameError\u001b[0m: name 'y_pred_test_svc' is not defined"
     ]
    }
   ],
   "source": [
    "res = pd.DataFrame([y_pred_test_lr,y_pred_test_svc,y_pred_test_dtc,y_pred_test_rfc]).T"
   ]
  },
  {
   "cell_type": "code",
   "execution_count": 132,
   "metadata": {},
   "outputs": [
    {
     "ename": "NameError",
     "evalue": "name 'res' is not defined",
     "output_type": "error",
     "traceback": [
      "\u001b[1;31m---------------------------------------------------------------------------\u001b[0m",
      "\u001b[1;31mNameError\u001b[0m                                 Traceback (most recent call last)",
      "\u001b[1;32m<ipython-input-132-039d95eece7e>\u001b[0m in \u001b[0;36m<module>\u001b[1;34m()\u001b[0m\n\u001b[1;32m----> 1\u001b[1;33m \u001b[0mres\u001b[0m\u001b[1;33m.\u001b[0m\u001b[0mcolumns\u001b[0m \u001b[1;33m=\u001b[0m \u001b[1;33m[\u001b[0m\u001b[1;34m'Logistic'\u001b[0m\u001b[1;33m,\u001b[0m\u001b[1;34m'SVC'\u001b[0m\u001b[1;33m,\u001b[0m\u001b[1;34m'DTC'\u001b[0m\u001b[1;33m,\u001b[0m\u001b[1;34m'RFC'\u001b[0m\u001b[1;33m]\u001b[0m\u001b[1;33m\u001b[0m\u001b[0m\n\u001b[0m\u001b[0;32m      2\u001b[0m \u001b[0mres\u001b[0m\u001b[1;33m\u001b[0m\u001b[0m\n",
      "\u001b[1;31mNameError\u001b[0m: name 'res' is not defined"
     ]
    }
   ],
   "source": [
    "res.columns = ['Logistic','SVC','DTC','RFC']\n",
    "res"
   ]
  },
  {
   "cell_type": "code",
   "execution_count": 133,
   "metadata": {},
   "outputs": [],
   "source": [
    "from scipy.stats import mode"
   ]
  },
  {
   "cell_type": "code",
   "execution_count": 79,
   "metadata": {},
   "outputs": [],
   "source": [
    "stack = np.array([y_pred_test_lr,y_pred_test_svc,y_pred_test_dtc,y_pred_test_rfc]).T"
   ]
  },
  {
   "cell_type": "code",
   "execution_count": 80,
   "metadata": {},
   "outputs": [
    {
     "data": {
      "text/plain": [
       "array([[0],\n",
       "       [0],\n",
       "       [0],\n",
       "       ...,\n",
       "       [0],\n",
       "       [0],\n",
       "       [0]], dtype=int64)"
      ]
     },
     "execution_count": 80,
     "metadata": {},
     "output_type": "execute_result"
    }
   ],
   "source": [
    "stacked_pred = mode(stack,axis=1)[0]\n",
    "stacked_pred"
   ]
  },
  {
   "cell_type": "code",
   "execution_count": 81,
   "metadata": {},
   "outputs": [
    {
     "name": "stdout",
     "output_type": "stream",
     "text": [
      "Decistion Trees accuracy 1.0\n",
      "Logistic Regression accuracy 0.9986\n",
      "SVC accuracy 0.9724\n",
      "RFC Accuracy 1.0\n",
      "Stacked Accuracy:  0.9998\n"
     ]
    }
   ],
   "source": [
    "print(\"Decistion Trees accuracy\", accuracy_score(y_test,y_pred_test_dtc))\n",
    "print(\"Logistic Regression accuracy\", accuracy_score(y_test, y_pred_test_lr))\n",
    "print(\"SVC accuracy\", accuracy_score(y_test, y_pred_test_svc))\n",
    "print(\"RFC Accuracy\", accuracy_score(y_test, y_pred_test_rfc))\n",
    "print(\"Stacked Accuracy: \", accuracy_score(y_test,stacked_pred))"
   ]
  },
  {
   "cell_type": "code",
   "execution_count": 134,
   "metadata": {},
   "outputs": [],
   "source": [
    "## Model Builsing using Boosing\n",
    "from sklearn.ensemble import AdaBoostClassifier\n",
    "ada = AdaBoostClassifier(\n",
    "    DecisionTreeClassifier(max_depth=2),\n",
    "    n_estimators=100,\n",
    "    learning_rate=1)\n",
    "model_train_ada= ada.fit(X_train,y_train)\n",
    "y_pred_train_ada = ada.predict(X_train)\n",
    "y_pred_test_ada = ada.predict(X_test)"
   ]
  },
  {
   "cell_type": "code",
   "execution_count": 135,
   "metadata": {},
   "outputs": [
    {
     "name": "stdout",
     "output_type": "stream",
     "text": [
      "Train Decision Tree Accuracy: 0.9421884376875375\n",
      "Test Decision Tree Accuracy: 0.9228\n"
     ]
    }
   ],
   "source": [
    "y_prob_test_ada= ada.predict_proba(X_test)[:,1]\n",
    "\n",
    "acc_train_ada = accuracy_score(y_true=y_train,y_pred=y_pred_train_ada)\n",
    "acc_test_ada = accuracy_score(y_true=y_test,y_pred=y_pred_test_ada)\n",
    "print(\"Train Decision Tree Accuracy:\",accuracy_score(y_true=y_train,y_pred=y_pred_train_ada))\n",
    "print(\"Test Decision Tree Accuracy:\",accuracy_score(y_true=y_test,y_pred=y_pred_test_ada))"
   ]
  },
  {
   "cell_type": "code",
   "execution_count": 136,
   "metadata": {},
   "outputs": [
    {
     "name": "stdout",
     "output_type": "stream",
     "text": [
      "\n",
      " Confusion matrix \n",
      " [[4050  116]\n",
      " [ 270  564]]\n",
      "\n",
      " Classification report \n",
      "              precision    recall  f1-score   support\n",
      "\n",
      "          0       0.94      0.97      0.95      4166\n",
      "          1       0.83      0.68      0.75       834\n",
      "\n",
      "avg / total       0.92      0.92      0.92      5000\n",
      "\n"
     ]
    }
   ],
   "source": [
    "from sklearn import metrics\n",
    "from sklearn.metrics import accuracy_score, confusion_matrix, classification_report\n",
    "confusion_matrix_test_ada= confusion_matrix(y_test, y_pred_test_ada)\n",
    "print(\"\\n Confusion matrix \\n\", confusion_matrix_test_ada)\n",
    "print(\"\\n Classification report \\n\", classification_report(y_test,y_pred_test_ada))\n"
   ]
  },
  {
   "cell_type": "code",
   "execution_count": 137,
   "metadata": {},
   "outputs": [
    {
     "data": {
      "image/png": "[encoded data removed]",
      "text/plain": [
       "<Figure size 432x288 with 2 Axes>"
      ]
     },
     "metadata": {},
     "output_type": "display_data"
    }
   ],
   "source": [
    "class_names = [0,1]\n",
    "plt.figure()\n",
    "plot_confusion_matrix(confusion_matrix_test_ada , classes=class_names, title='Confusion matrix')\n",
    "plt.show()"
   ]
  },
  {
   "cell_type": "code",
   "execution_count": 138,
   "metadata": {},
   "outputs": [
    {
     "name": "stdout",
     "output_type": "stream",
     "text": [
      "Test TNR:  0.9721555448871819\n",
      "Test TPR:  0.6762589928057554\n",
      "Test Accuracy:  0.9228\n"
     ]
    }
   ],
   "source": [
    "Accuracy_Test=(confusion_matrix_test_ada[0,0]+confusion_matrix_test_ada[1,1])/(confusion_matrix_test_ada[0,0]+confusion_matrix_test_ada[0,1]+confusion_matrix_test_ada[1,0]+confusion_matrix_test_ada[1,1])\n",
    "TNR_Test_ada= confusion_matrix_test_ada[0,0]/(confusion_matrix_test_ada[0,0] +confusion_matrix_test_ada[0,1])\n",
    "TPR_Test_ada= confusion_matrix_test_ada[1,1]/(confusion_matrix_test_ada[1,0] +confusion_matrix_test_ada[1,1])\n",
    "\n",
    "print(\"Test TNR: \",TNR_Test_ada)\n",
    "print(\"Test TPR: \",TPR_Test_ada)\n",
    "print(\"Test Accuracy: \",Accuracy_Test)"
   ]
  },
  {
   "cell_type": "code",
   "execution_count": 139,
   "metadata": {},
   "outputs": [
    {
     "data": {
      "image/png": "[encoded data removed]",
      "text/plain": [
       "<Figure size 432x288 with 1 Axes>"
      ]
     },
     "metadata": {},
     "output_type": "display_data"
    }
   ],
   "source": [
    "# calculate the fpr and tpr for all thresholds of the classification\n",
    "\n",
    "fpr, tpr, threshold = metrics.roc_curve(y_test, y_prob_test_ada)\n",
    "roc_auc_ada = metrics.auc(fpr, tpr)\n",
    "\n",
    "# method I: plt\n",
    "import matplotlib.pyplot as plt\n",
    "plt.title('Receiver Operating Characteristic')\n",
    "plt.plot(fpr, tpr, 'b', label = 'AUC = %0.2f' % roc_auc_ada)\n",
    "plt.legend(loc = 'lower right')\n",
    "plt.plot([0, 1], [0, 1],'r--')\n",
    "plt.xlim([0, 1])\n",
    "plt.ylim([0, 1])\n",
    "plt.ylabel('True Positive Rate')\n",
    "plt.xlabel('False Positive Rate')\n",
    "plt.show()"
   ]
  },
  {
   "cell_type": "code",
   "execution_count": 140,
   "metadata": {},
   "outputs": [
    {
     "name": "stdout",
     "output_type": "stream",
     "text": [
      "Train Accuracy:  0.9421884376875375\n",
      "Test Accuracy:  0.9228\n",
      "Train Auc:  0.940001335465473\n",
      "Test TNR:  0.9721555448871819\n",
      "Test TPR:  0.6762589928057554\n"
     ]
    }
   ],
   "source": [
    "print(\"Train Accuracy: \", acc_train_ada)\n",
    "print(\"Test Accuracy: \", acc_test_ada)\n",
    "print(\"Train Auc: \", roc_auc_ada)\n",
    "print(\"Test TNR: \",TNR_Test_ada)\n",
    "print(\"Test TPR: \",TPR_Test_ada)"
   ]
  },
  {
   "cell_type": "code",
   "execution_count": 83,
   "metadata": {},
   "outputs": [],
   "source": [
    "from sklearn.model_selection import GridSearchCV\n",
    "\n",
    "param_grid = {'n_estimators' : [100, 150, 200],\n",
    "              'learning_rate' : [0.1, 0.5, 0.9]}\n",
    "\n",
    "Adaboost_model_clf = GridSearchCV(AdaBoostClassifier(\n",
    "            DecisionTreeClassifier(max_depth=2)), param_grid, n_jobs=-1)"
   ]
  },
  {
   "cell_type": "code",
   "execution_count": 84,
   "metadata": {},
   "outputs": [
    {
     "name": "stdout",
     "output_type": "stream",
     "text": [
      "Wall time: 12min 38s\n"
     ]
    },
    {
     "data": {
      "text/plain": [
       "GridSearchCV(cv=None, error_score='raise',\n",
       "       estimator=AdaBoostClassifier(algorithm='SAMME.R',\n",
       "          base_estimator=DecisionTreeClassifier(class_weight=None, criterion='gini', max_depth=2,\n",
       "            max_features=None, max_leaf_nodes=None,\n",
       "            min_impurity_decrease=0.0, min_impurity_split=None,\n",
       "            min_samples_leaf=1, min_samples_split=2,\n",
       "            min_weight_fraction_leaf=0.0, presort=False, random_state=None,\n",
       "            splitter='best'),\n",
       "          learning_rate=1.0, n_estimators=50, random_state=None),\n",
       "       fit_params=None, iid=True, n_jobs=-1,\n",
       "       param_grid={'n_estimators': [100, 150, 200], 'learning_rate': [0.1, 0.5, 0.9]},\n",
       "       pre_dispatch='2*n_jobs', refit=True, return_train_score='warn',\n",
       "       scoring=None, verbose=0)"
      ]
     },
     "execution_count": 84,
     "metadata": {},
     "output_type": "execute_result"
    }
   ],
   "source": [
    "%time Adaboost_model_clf.fit(X_train, y_train)\n",
    "#Wall time: 53min 47s\n",
    "#GridSearchCV(cv=None, error_score='raise',\n",
    "#      estimator=AdaBoostClassifier(algorithm='SAMME.R',\n",
    "#         base_estimator=DecisionTreeClassifier(class_weight=None, criterion='gini', max_depth=2,\n",
    "#            max_features=None, max_leaf_nodes=None,\n",
    "#            min_impurity_decrease=0.0, min_impurity_split=None,\n",
    "#            min_samples_leaf=1, min_samples_split=2,\n",
    "#            min_weight_fraction_leaf=0.0, presort=False, random_state=None,\n",
    "#            splitter='best'),\n",
    "#          learning_rate=1.0, n_estimators=50, random_state=None),\n",
    "#       fit_params=None, iid=True, n_jobs=-1,\n",
    "#       param_grid={'n_estimators': [100, 150, 200], 'learning_rate': [0.1, 0.5, 0.9]},\n",
    "#       pre_dispatch='2*n_jobs', refit=True, return_train_score='warn',\n",
    "#      scoring=None, verbose=0)"
   ]
  },
  {
   "cell_type": "code",
   "execution_count": 85,
   "metadata": {},
   "outputs": [
    {
     "name": "stdout",
     "output_type": "stream",
     "text": [
      "0.9530406081216243 {'learning_rate': 0.5, 'n_estimators': 200}\n"
     ]
    }
   ],
   "source": [
    "# Find best model\n",
    "final_ada_model = Adaboost_model_clf.best_estimator_\n",
    "print (Adaboost_model_clf.best_score_, Adaboost_model_clf.best_params_)"
   ]
  },
  {
   "cell_type": "code",
   "execution_count": 142,
   "metadata": {},
   "outputs": [],
   "source": [
    "# Build ada model using above Hyper parameters\n",
    "## Model Builsing using Boosing\n",
    "from sklearn.ensemble import AdaBoostClassifier\n",
    "ada_final = AdaBoostClassifier(\n",
    "    DecisionTreeClassifier(max_depth=2),\n",
    "    n_estimators=200,\n",
    "    learning_rate=0.5)\n",
    "model_train_ada_final= ada_final.fit(X_train,y_train)\n",
    "y_pred_train_ada_final = ada_final.predict(X_train)\n",
    "y_pred_test_ada_final = ada_final.predict(X_test)"
   ]
  },
  {
   "cell_type": "code",
   "execution_count": 143,
   "metadata": {
    "scrolled": true
   },
   "outputs": [
    {
     "name": "stdout",
     "output_type": "stream",
     "text": [
      "Train Decision Tree Accuracy: 0.9518403680736147\n",
      "Test Decision Tree Accuracy: 0.9316\n"
     ]
    }
   ],
   "source": [
    "y_prob_test_ada_final= ada_final.predict_proba(X_test)[:,1]\n",
    "acc_train_ada_final = accuracy_score(y_true=y_train,y_pred=y_pred_train_ada_final)\n",
    "acc_test_ada_final = accuracy_score(y_true=y_test,y_pred=y_pred_test_ada_final)\n",
    "print(\"Train Decision Tree Accuracy:\",accuracy_score(y_true=y_train,y_pred=y_pred_train_ada_final))\n",
    "print(\"Test Decision Tree Accuracy:\",accuracy_score(y_true=y_test,y_pred=y_pred_test_ada_final))"
   ]
  },
  {
   "cell_type": "code",
   "execution_count": 144,
   "metadata": {},
   "outputs": [
    {
     "name": "stdout",
     "output_type": "stream",
     "text": [
      "\n",
      " Confusion matrix \n",
      " [[4099   67]\n",
      " [ 275  559]]\n",
      "\n",
      " Classification report \n",
      "              precision    recall  f1-score   support\n",
      "\n",
      "          0       0.94      0.98      0.96      4166\n",
      "          1       0.89      0.67      0.77       834\n",
      "\n",
      "avg / total       0.93      0.93      0.93      5000\n",
      "\n"
     ]
    }
   ],
   "source": [
    "from sklearn import metrics\n",
    "from sklearn.metrics import accuracy_score, confusion_matrix, classification_report\n",
    "confusion_matrix_test_ada_final= confusion_matrix(y_test, y_pred_test_ada_final)\n",
    "print(\"\\n Confusion matrix \\n\", confusion_matrix_test_ada_final)\n",
    "print(\"\\n Classification report \\n\", classification_report(y_test,y_pred_test_ada_final))"
   ]
  },
  {
   "cell_type": "code",
   "execution_count": 145,
   "metadata": {},
   "outputs": [
    {
     "data": {
      "image/png": "[encoded data removed]",
      "text/plain": [
       "<Figure size 432x288 with 2 Axes>"
      ]
     },
     "metadata": {},
     "output_type": "display_data"
    }
   ],
   "source": [
    "class_names = [0,1]\n",
    "plt.figure()\n",
    "plot_confusion_matrix(confusion_matrix_test_ada_final , classes=class_names, title='Confusion matrix')\n",
    "plt.show()"
   ]
  },
  {
   "cell_type": "code",
   "execution_count": 146,
   "metadata": {},
   "outputs": [
    {
     "name": "stdout",
     "output_type": "stream",
     "text": [
      "Test TNR:  0.9839174267882861\n",
      "Test TPR:  0.670263788968825\n",
      "Test Accuracy:  0.9316\n"
     ]
    }
   ],
   "source": [
    "Accuracy_Test=(confusion_matrix_test_ada_final[0,0]+confusion_matrix_test_ada_final[1,1])/(confusion_matrix_test_ada_final[0,0]+confusion_matrix_test_ada_final[0,1]+confusion_matrix_test_ada_final[1,0]+confusion_matrix_test_ada_final[1,1])\n",
    "TNR_Test_ada_final= confusion_matrix_test_ada_final[0,0]/(confusion_matrix_test_ada_final[0,0] +confusion_matrix_test_ada_final[0,1])\n",
    "TPR_Test_ada_final= confusion_matrix_test_ada_final[1,1]/(confusion_matrix_test_ada_final[1,0] +confusion_matrix_test_ada_final[1,1])\n",
    "\n",
    "print(\"Test TNR: \",TNR_Test_ada_final)\n",
    "print(\"Test TPR: \",TPR_Test_ada_final)\n",
    "print(\"Test Accuracy: \",Accuracy_Test)"
   ]
  },
  {
   "cell_type": "code",
   "execution_count": 147,
   "metadata": {},
   "outputs": [
    {
     "data": {
      "image/png": "[encoded data removed]",
      "text/plain": [
       "<Figure size 432x288 with 1 Axes>"
      ]
     },
     "metadata": {},
     "output_type": "display_data"
    }
   ],
   "source": [
    "# calculate the fpr and tpr for all thresholds of the classification\n",
    "\n",
    "fpr, tpr, threshold = metrics.roc_curve(y_test, y_prob_test_ada_final)\n",
    "roc_auc_ada_final = metrics.auc(fpr, tpr)\n",
    "\n",
    "# method I: plt\n",
    "import matplotlib.pyplot as plt\n",
    "plt.title('Receiver Operating Characteristic')\n",
    "plt.plot(fpr, tpr, 'b', label = 'AUC = %0.2f' % roc_auc_ada_final)\n",
    "plt.legend(loc = 'lower right')\n",
    "plt.plot([0, 1], [0, 1],'r--')\n",
    "plt.xlim([0, 1])\n",
    "plt.ylim([0, 1])\n",
    "plt.ylabel('True Positive Rate')\n",
    "plt.xlabel('False Positive Rate')\n",
    "plt.show()"
   ]
  },
  {
   "cell_type": "code",
   "execution_count": 148,
   "metadata": {},
   "outputs": [
    {
     "name": "stdout",
     "output_type": "stream",
     "text": [
      "Train Accuracy:  0.9518403680736147\n",
      "Train Accuracy:  0.9518403680736147\n",
      "Train Auc:  0.9522481870480572\n",
      "Test TNR:  0.9839174267882861\n",
      "Test TPR:  0.670263788968825\n"
     ]
    }
   ],
   "source": [
    "print(\"Train Accuracy: \", acc_train_ada_final)\n",
    "print(\"Train Accuracy: \", acc_train_ada_final)\n",
    "print(\"Train Auc: \", roc_auc_ada_final)\n",
    "print(\"Test TNR: \",TNR_Test_ada_final)\n",
    "print(\"Test TPR: \",TPR_Test_ada_final)"
   ]
  },
  {
   "cell_type": "code",
   "execution_count": 149,
   "metadata": {},
   "outputs": [],
   "source": [
    "## Model Building uisng Gradient Boosting\n",
    "from sklearn.ensemble import GradientBoostingClassifier\n",
    "gbm =  GradientBoostingClassifier(n_estimators=150,\n",
    "                                        learning_rate=0.1,\n",
    "                                        subsample=0.8)\n",
    "model_train_gbm= gbm.fit(X_train,y_train)\n",
    "y_pred_train_gbm = gbm.predict(X_train)\n",
    "y_pred_test_gbm = gbm.predict(X_test)"
   ]
  },
  {
   "cell_type": "code",
   "execution_count": 150,
   "metadata": {},
   "outputs": [
    {
     "name": "stdout",
     "output_type": "stream",
     "text": [
      "Train Decision Tree Accuracy: 0.9337367473494699\n",
      "Test Decision Tree Accuracy: 0.92\n"
     ]
    }
   ],
   "source": [
    "y_prob_test_gbm= gbm.predict_proba(X_test)[:,1]\n",
    "acc_train_gbm = accuracy_score(y_true=y_train,y_pred=y_pred_train_gbm)\n",
    "acc_test_gbm = accuracy_score(y_true=y_test,y_pred=y_pred_test_gbm)\n",
    "print(\"Train Decision Tree Accuracy:\",accuracy_score(y_true=y_train,y_pred=y_pred_train_gbm))\n",
    "print(\"Test Decision Tree Accuracy:\",accuracy_score(y_true=y_test,y_pred=y_pred_test_gbm))"
   ]
  },
  {
   "cell_type": "code",
   "execution_count": 151,
   "metadata": {},
   "outputs": [
    {
     "name": "stdout",
     "output_type": "stream",
     "text": [
      "\n",
      " Confusion matrix \n",
      " [[4135   31]\n",
      " [ 369  465]]\n",
      "\n",
      " Classification report \n",
      "              precision    recall  f1-score   support\n",
      "\n",
      "          0       0.92      0.99      0.95      4166\n",
      "          1       0.94      0.56      0.70       834\n",
      "\n",
      "avg / total       0.92      0.92      0.91      5000\n",
      "\n"
     ]
    }
   ],
   "source": [
    "from sklearn import metrics\n",
    "from sklearn.metrics import accuracy_score, confusion_matrix, classification_report\n",
    "confusion_matrix_test_gbm= confusion_matrix(y_test, y_pred_test_gbm)\n",
    "print(\"\\n Confusion matrix \\n\", confusion_matrix_test_gbm)\n",
    "print(\"\\n Classification report \\n\", classification_report(y_test,y_pred_test_gbm))"
   ]
  },
  {
   "cell_type": "code",
   "execution_count": 152,
   "metadata": {},
   "outputs": [
    {
     "data": {
      "image/png": "[encoded data removed]",
      "text/plain": [
       "<Figure size 432x288 with 2 Axes>"
      ]
     },
     "metadata": {},
     "output_type": "display_data"
    }
   ],
   "source": [
    "class_names = [0,1]\n",
    "plt.figure()\n",
    "plot_confusion_matrix(confusion_matrix_test_gbm , classes=class_names, title='Confusion matrix')\n",
    "plt.show()"
   ]
  },
  {
   "cell_type": "code",
   "execution_count": 153,
   "metadata": {},
   "outputs": [
    {
     "name": "stdout",
     "output_type": "stream",
     "text": [
      "Test TNR:  0.9925588094095055\n",
      "Test TPR:  0.5575539568345323\n",
      "Test Accuracy:  0.92\n"
     ]
    }
   ],
   "source": [
    "Accuracy_Test=(confusion_matrix_test_gbm[0,0]+confusion_matrix_test_gbm[1,1])/(confusion_matrix_test_gbm[0,0]+confusion_matrix_test_gbm[0,1]+confusion_matrix_test_gbm[1,0]+confusion_matrix_test_gbm[1,1])\n",
    "TNR_Test_gbm= confusion_matrix_test_gbm[0,0]/(confusion_matrix_test_gbm[0,0] +confusion_matrix_test_gbm[0,1])\n",
    "TPR_Test_gbm= confusion_matrix_test_gbm[1,1]/(confusion_matrix_test_gbm[1,0] +confusion_matrix_test_gbm[1,1])\n",
    "\n",
    "print(\"Test TNR: \",TNR_Test_gbm)\n",
    "print(\"Test TPR: \",TPR_Test_gbm)\n",
    "print(\"Test Accuracy: \",Accuracy_Test)"
   ]
  },
  {
   "cell_type": "code",
   "execution_count": 154,
   "metadata": {},
   "outputs": [
    {
     "data": {
      "image/png": "[encoded data removed]",
      "text/plain": [
       "<Figure size 432x288 with 1 Axes>"
      ]
     },
     "metadata": {},
     "output_type": "display_data"
    }
   ],
   "source": [
    "# calculate the fpr and tpr for all thresholds of the classification\n",
    "\n",
    "fpr, tpr, threshold = metrics.roc_curve(y_test, y_prob_test_gbm)\n",
    "roc_auc_gbm = metrics.auc(fpr, tpr)\n",
    "\n",
    "# method I: plt\n",
    "import matplotlib.pyplot as plt\n",
    "plt.title('Receiver Operating Characteristic')\n",
    "plt.plot(fpr, tpr, 'b', label = 'AUC = %0.2f' % roc_auc_gbm)\n",
    "plt.legend(loc = 'lower right')\n",
    "plt.plot([0, 1], [0, 1],'r--')\n",
    "plt.xlim([0, 1])\n",
    "plt.ylim([0, 1])\n",
    "plt.ylabel('True Positive Rate')\n",
    "plt.xlabel('False Positive Rate')\n",
    "plt.show()"
   ]
  },
  {
   "cell_type": "code",
   "execution_count": 155,
   "metadata": {},
   "outputs": [
    {
     "name": "stdout",
     "output_type": "stream",
     "text": [
      "Train Accuracy:  0.9337367473494699\n",
      "Test Accuracy:  0.92\n",
      "Train Auc:  0.936178565548905\n",
      "Test TNR:  0.9925588094095055\n",
      "Test TPR:  0.5575539568345323\n"
     ]
    }
   ],
   "source": [
    "print(\"Train Accuracy: \", acc_train_gbm)\n",
    "print(\"Test Accuracy: \", acc_test_gbm)\n",
    "print(\"Train Auc: \", roc_auc_gbm)\n",
    "print(\"Test TNR: \",TNR_Test_gbm)\n",
    "print(\"Test TPR: \",TPR_Test_gbm)"
   ]
  },
  {
   "cell_type": "code",
   "execution_count": 105,
   "metadata": {},
   "outputs": [],
   "source": [
    "#Grid Search Cross validation\n",
    "from sklearn.model_selection import GridSearchCV\n",
    "\n",
    "# Model in use\n",
    "GBM_Grid = GradientBoostingClassifier() \n",
    " \n",
    "# Use a grid over parameters of interest\n",
    "param_grid = { \n",
    "           \"n_estimators\" : [100,150,200,250],\n",
    "           \"max_depth\" : [5, 10],\n",
    "           \"learning_rate\" : [0.1,0.5,0.9]}\n",
    " \n",
    "GBM_CV = GridSearchCV(estimator=GBM_Grid, param_grid=param_grid)"
   ]
  },
  {
   "cell_type": "code",
   "execution_count": 106,
   "metadata": {},
   "outputs": [
    {
     "name": "stdout",
     "output_type": "stream",
     "text": [
      "Wall time: 1h 23min 55s\n"
     ]
    },
    {
     "data": {
      "text/plain": [
       "GridSearchCV(cv=None, error_score='raise',\n",
       "       estimator=GradientBoostingClassifier(criterion='friedman_mse', init=None,\n",
       "              learning_rate=0.1, loss='deviance', max_depth=3,\n",
       "              max_features=None, max_leaf_nodes=None,\n",
       "              min_impurity_decrease=0.0, min_impurity_split=None,\n",
       "              min_samples_leaf=1, min_samples_split=2,\n",
       "              min_weight_fraction_leaf=0.0, n_estimators=100,\n",
       "              presort='auto', random_state=None, subsample=1.0, verbose=0,\n",
       "              warm_start=False),\n",
       "       fit_params=None, iid=True, n_jobs=1,\n",
       "       param_grid={'n_estimators': [100, 150, 200, 250], 'max_depth': [5, 10], 'learning_rate': [0.1, 0.5, 0.9]},\n",
       "       pre_dispatch='2*n_jobs', refit=True, return_train_score='warn',\n",
       "       scoring=None, verbose=0)"
      ]
     },
     "execution_count": 106,
     "metadata": {},
     "output_type": "execute_result"
    }
   ],
   "source": [
    "%time GBM_CV.fit(X_train, y_train)"
   ]
  },
  {
   "cell_type": "code",
   "execution_count": 108,
   "metadata": {},
   "outputs": [
    {
     "name": "stdout",
     "output_type": "stream",
     "text": [
      "0.9582916583316663 {'learning_rate': 0.5, 'max_depth': 5, 'n_estimators': 250}\n"
     ]
    }
   ],
   "source": [
    "# Find best model\n",
    "final_gbm_model = GBM_CV.best_estimator_\n",
    "print (GBM_CV.best_score_, GBM_CV.best_params_)"
   ]
  },
  {
   "cell_type": "code",
   "execution_count": 156,
   "metadata": {},
   "outputs": [],
   "source": [
    "## Model Building uisng Gradient Boosting\n",
    "from sklearn.ensemble import GradientBoostingClassifier\n",
    "gbm_final =  GradientBoostingClassifier(n_estimators=250,\n",
    "                                        learning_rate=0.5,\n",
    "                                        subsample=0.8,\n",
    "                                        max_depth=5)\n",
    "model_train_gbm_final= gbm_final.fit(X_train,y_train)\n",
    "y_pred_train_gbm_final = gbm_final.predict(X_train)\n",
    "y_pred_test_gbm_final = gbm_final.predict(X_test)"
   ]
  },
  {
   "cell_type": "code",
   "execution_count": 157,
   "metadata": {},
   "outputs": [
    {
     "name": "stdout",
     "output_type": "stream",
     "text": [
      "Train Decision Tree Accuracy: 0.9996999399879976\n",
      "Test Decision Tree Accuracy: 0.94\n"
     ]
    }
   ],
   "source": [
    "y_prob_test_gbm_final = gbm_final.predict_proba(X_test)[:,1]\n",
    "acc_train_gbm_final = accuracy_score(y_true=y_train,y_pred=y_pred_train_gbm_final)\n",
    "acc_test_gbm_final = accuracy_score(y_true=y_test,y_pred=y_pred_test_gbm_final)\n",
    "print(\"Train Decision Tree Accuracy:\",accuracy_score(y_true=y_train,y_pred=y_pred_train_gbm_final))\n",
    "print(\"Test Decision Tree Accuracy:\",accuracy_score(y_true=y_test,y_pred=y_pred_test_gbm_final))"
   ]
  },
  {
   "cell_type": "code",
   "execution_count": 158,
   "metadata": {},
   "outputs": [
    {
     "name": "stdout",
     "output_type": "stream",
     "text": [
      "\n",
      " Confusion matrix \n",
      " [[4087   79]\n",
      " [ 221  613]]\n",
      "\n",
      " Classification report \n",
      "              precision    recall  f1-score   support\n",
      "\n",
      "          0       0.95      0.98      0.96      4166\n",
      "          1       0.89      0.74      0.80       834\n",
      "\n",
      "avg / total       0.94      0.94      0.94      5000\n",
      "\n"
     ]
    }
   ],
   "source": [
    "from sklearn import metrics\n",
    "from sklearn.metrics import accuracy_score, confusion_matrix, classification_report\n",
    "confusion_matrix_test_gbm_final= confusion_matrix(y_test, y_pred_test_gbm_final)\n",
    "print(\"\\n Confusion matrix \\n\", confusion_matrix_test_gbm_final)\n",
    "print(\"\\n Classification report \\n\", classification_report(y_test,y_pred_test_gbm_final))"
   ]
  },
  {
   "cell_type": "code",
   "execution_count": 159,
   "metadata": {},
   "outputs": [
    {
     "data": {
      "image/png": "[encoded data removed]",
      "text/plain": [
       "<Figure size 432x288 with 2 Axes>"
      ]
     },
     "metadata": {},
     "output_type": "display_data"
    }
   ],
   "source": [
    "class_names = [0,1]\n",
    "plt.figure()\n",
    "plot_confusion_matrix(confusion_matrix_test_gbm_final , classes=class_names, title='Confusion matrix')\n",
    "plt.show()"
   ]
  },
  {
   "cell_type": "code",
   "execution_count": 160,
   "metadata": {},
   "outputs": [
    {
     "name": "stdout",
     "output_type": "stream",
     "text": [
      "Test TNR:  0.9810369659145464\n",
      "Test TPR:  0.7350119904076738\n",
      "Test Accuracy:  0.9215686274509803\n"
     ]
    }
   ],
   "source": [
    "Accuracy_Test=(confusion_matrix_test_gbm_final[0,0]+confusion_matrix_test_gbm_final[1,1])/(confusion_matrix_test_gbm_final[0,0]+confusion_matrix_test_gbm[0,1]+confusion_matrix_test_gbm[1,0]+confusion_matrix_test_gbm_final[1,1])\n",
    "TNR_Test_gbm_final= confusion_matrix_test_gbm_final[0,0]/(confusion_matrix_test_gbm_final[0,0] +confusion_matrix_test_gbm_final[0,1])\n",
    "TPR_Test_gbm_final= confusion_matrix_test_gbm_final[1,1]/(confusion_matrix_test_gbm_final[1,0] +confusion_matrix_test_gbm_final[1,1])\n",
    "\n",
    "print(\"Test TNR: \",TNR_Test_gbm_final)\n",
    "print(\"Test TPR: \",TPR_Test_gbm_final)\n",
    "print(\"Test Accuracy: \",Accuracy_Test)"
   ]
  },
  {
   "cell_type": "code",
   "execution_count": 161,
   "metadata": {},
   "outputs": [
    {
     "data": {
      "image/png": "[encoded data removed]",
      "text/plain": [
       "<Figure size 432x288 with 1 Axes>"
      ]
     },
     "metadata": {},
     "output_type": "display_data"
    }
   ],
   "source": [
    "# calculate the fpr and tpr for all thresholds of the classification\n",
    "\n",
    "fpr, tpr, threshold = metrics.roc_curve(y_test, y_prob_test_gbm_final)\n",
    "roc_auc_gbm_final = metrics.auc(fpr, tpr)\n",
    "\n",
    "# method I: plt\n",
    "import matplotlib.pyplot as plt\n",
    "plt.title('Receiver Operating Characteristic')\n",
    "plt.plot(fpr, tpr, 'b', label = 'AUC = %0.2f' % roc_auc_gbm_final)\n",
    "plt.legend(loc = 'lower right')\n",
    "plt.plot([0, 1], [0, 1],'r--')\n",
    "plt.xlim([0, 1])\n",
    "plt.ylim([0, 1])\n",
    "plt.ylabel('True Positive Rate')\n",
    "plt.xlabel('False Positive Rate')\n",
    "plt.show()"
   ]
  },
  {
   "cell_type": "code",
   "execution_count": 162,
   "metadata": {},
   "outputs": [
    {
     "name": "stdout",
     "output_type": "stream",
     "text": [
      "Train Accuracy:  0.9996999399879976\n",
      "Test Accuracy:  0.94\n",
      "Train Auc:  0.9611886103215364\n",
      "Test TNR:  0.9810369659145464\n",
      "Test TPR:  0.7350119904076738\n"
     ]
    }
   ],
   "source": [
    "print(\"Train Accuracy: \", acc_train_gbm_final)\n",
    "print(\"Test Accuracy: \", acc_test_gbm_final)\n",
    "print(\"Train Auc: \", roc_auc_gbm_final)\n",
    "print(\"Test TNR: \",TNR_Test_gbm_final)\n",
    "print(\"Test TPR: \",TPR_Test_gbm_final)"
   ]
  },
  {
   "cell_type": "code",
   "execution_count": 163,
   "metadata": {},
   "outputs": [
    {
     "name": "stderr",
     "output_type": "stream",
     "text": [
      "C:\\ProgramData\\Anaconda3\\lib\\site-packages\\sklearn\\preprocessing\\label.py:151: DeprecationWarning: The truth value of an empty array is ambiguous. Returning False, but in future this will result in an error. Use `array.size > 0` to check that an array is not empty.\n",
      "  if diff:\n",
      "C:\\ProgramData\\Anaconda3\\lib\\site-packages\\sklearn\\preprocessing\\label.py:151: DeprecationWarning: The truth value of an empty array is ambiguous. Returning False, but in future this will result in an error. Use `array.size > 0` to check that an array is not empty.\n",
      "  if diff:\n"
     ]
    }
   ],
   "source": [
    "# Build Model XGBOOST\n",
    "from xgboost import XGBClassifier\n",
    "xgb = XGBClassifier()\n",
    "model_train_xgb= xgb.fit(X_train,y_train)\n",
    "y_pred_train_xgb = xgb.predict(X_train)\n",
    "y_pred_test_xgb = xgb.predict(X_test)"
   ]
  },
  {
   "cell_type": "code",
   "execution_count": 164,
   "metadata": {},
   "outputs": [
    {
     "name": "stdout",
     "output_type": "stream",
     "text": [
      "Train Decision Tree Accuracy: 0.9193338667733547\n",
      "Test Decision Tree Accuracy: 0.9132\n"
     ]
    }
   ],
   "source": [
    "y_prob_test_xgb= xgb.predict_proba(X_test)[:,1]\n",
    "acc_train_xgb = accuracy_score(y_true=y_train,y_pred=y_pred_train_xgb)\n",
    "acc_test_xgb = accuracy_score(y_true=y_test,y_pred=y_pred_test_xgb)\n",
    "print(\"Train Decision Tree Accuracy:\",accuracy_score(y_true=y_train,y_pred=y_pred_train_xgb))\n",
    "print(\"Test Decision Tree Accuracy:\",accuracy_score(y_true=y_test,y_pred=y_pred_test_xgb))"
   ]
  },
  {
   "cell_type": "code",
   "execution_count": 165,
   "metadata": {},
   "outputs": [
    {
     "name": "stdout",
     "output_type": "stream",
     "text": [
      "\n",
      " Confusion matrix \n",
      " [[4141   25]\n",
      " [ 409  425]]\n",
      "\n",
      " Classification report \n",
      "              precision    recall  f1-score   support\n",
      "\n",
      "          0       0.91      0.99      0.95      4166\n",
      "          1       0.94      0.51      0.66       834\n",
      "\n",
      "avg / total       0.92      0.91      0.90      5000\n",
      "\n"
     ]
    }
   ],
   "source": [
    "from sklearn import metrics\n",
    "from sklearn.metrics import accuracy_score, confusion_matrix, classification_report\n",
    "confusion_matrix_test_xgb= confusion_matrix(y_test, y_pred_test_xgb)\n",
    "cr = classification_report(y_test,y_pred_test_xgb)\n",
    "print(\"\\n Confusion matrix \\n\", confusion_matrix_test_xgb)\n",
    "print(\"\\n Classification report \\n\", classification_report(y_test,y_pred_test_xgb))"
   ]
  },
  {
   "cell_type": "code",
   "execution_count": 166,
   "metadata": {},
   "outputs": [
    {
     "data": {
      "image/png": "[encoded data removed]",
      "text/plain": [
       "<Figure size 432x288 with 2 Axes>"
      ]
     },
     "metadata": {},
     "output_type": "display_data"
    }
   ],
   "source": [
    "class_names = [0,1]\n",
    "plt.figure()\n",
    "plot_confusion_matrix(confusion_matrix_test_xgb , classes=class_names, title='Confusion matrix')\n",
    "plt.show()"
   ]
  },
  {
   "cell_type": "code",
   "execution_count": 167,
   "metadata": {},
   "outputs": [
    {
     "name": "stdout",
     "output_type": "stream",
     "text": [
      "Test TNR:  0.9925588094095055\n",
      "Test TPR:  0.5575539568345323\n",
      "Test Accuracy:  0.9121054734318818\n"
     ]
    }
   ],
   "source": [
    "Accuracy_Test=(confusion_matrix_test_xgb[0,0]+confusion_matrix_test_xgb[1,1])/(confusion_matrix_test_xgb[0,0]+confusion_matrix_test_gbm[0,1]+confusion_matrix_test_xgb[1,0]+confusion_matrix_test_xgb[1,1])\n",
    "TNR_Test_xgb= confusion_matrix_test_gbm[0,0]/(confusion_matrix_test_xgb[0,0] +confusion_matrix_test_xgb[0,1])\n",
    "TPR_Test_xgb= confusion_matrix_test_gbm[1,1]/(confusion_matrix_test_xgb[1,0] +confusion_matrix_test_xgb[1,1])\n",
    "\n",
    "print(\"Test TNR: \",TNR_Test_xgb)\n",
    "print(\"Test TPR: \",TPR_Test_xgb)\n",
    "print(\"Test Accuracy: \",Accuracy_Test)"
   ]
  },
  {
   "cell_type": "code",
   "execution_count": 168,
   "metadata": {},
   "outputs": [
    {
     "data": {
      "image/png": "[encoded data removed]",
      "text/plain": [
       "<Figure size 432x288 with 1 Axes>"
      ]
     },
     "metadata": {},
     "output_type": "display_data"
    }
   ],
   "source": [
    "# calculate the fpr and tpr for all thresholds of the classification\n",
    "\n",
    "fpr, tpr, threshold = metrics.roc_curve(y_test, y_prob_test_xgb)\n",
    "roc_auc_xgb = metrics.auc(fpr, tpr)\n",
    "\n",
    "# method I: plt\n",
    "import matplotlib.pyplot as plt\n",
    "plt.title('Receiver Operating Characteristic')\n",
    "plt.plot(fpr, tpr, 'b', label = 'AUC = %0.2f' % roc_auc_xgb)\n",
    "plt.legend(loc = 'lower right')\n",
    "plt.plot([0, 1], [0, 1],'r--')\n",
    "plt.xlim([0, 1])\n",
    "plt.ylim([0, 1])\n",
    "plt.ylabel('True Positive Rate')\n",
    "plt.xlabel('False Positive Rate')\n",
    "plt.show()"
   ]
  },
  {
   "cell_type": "code",
   "execution_count": 169,
   "metadata": {},
   "outputs": [
    {
     "name": "stdout",
     "output_type": "stream",
     "text": [
      "Train Accuracy:  0.9193338667733547\n",
      "Test Accuracy:  0.9132\n",
      "Train Auc:  0.928768171252724\n",
      "Test TNR:  0.9925588094095055\n",
      "Test TPR:  0.5575539568345323\n"
     ]
    }
   ],
   "source": [
    "print(\"Train Accuracy: \", acc_train_xgb)\n",
    "print(\"Test Accuracy: \", acc_test_xgb)\n",
    "print(\"Train Auc: \", roc_auc_xgb)\n",
    "print(\"Test TNR: \",TNR_Test_xgb)\n",
    "print(\"Test TPR: \",TPR_Test_xgb)"
   ]
  },
  {
   "cell_type": "code",
   "execution_count": null,
   "metadata": {},
   "outputs": [],
   "source": [
    "from sklearn.model_selection import GridSearchCV\n",
    "import xgboost as xgb\n",
    "\n",
    "# Model in use\n",
    "xgb_Grid = xgb.XGBClassifier()\n",
    " \n",
    "# Use a grid over parameters of interest\n",
    "param_grid = { \n",
    "           \"nthread\":[4,5], \n",
    "           \"max_depth\" : [5, 10],\n",
    "           \"learning_rate\" : [0.1,0.05,0.2],\n",
    "           \"n_estimators\": [3,5],\n",
    "           \"objective\":[\"binary:logistic\"]}\n",
    " \n",
    "xgb_clf = GridSearchCV(estimator=xgb_Grid, param_grid=param_grid)"
   ]
  },
  {
   "cell_type": "code",
   "execution_count": null,
   "metadata": {},
   "outputs": [],
   "source": [
    "%time xgb_clf.fit(X_train, y_train)"
   ]
  },
  {
   "cell_type": "code",
   "execution_count": null,
   "metadata": {},
   "outputs": [],
   "source": [
    "# Find best model\n",
    "final_gbm_model = xgb_clf.best_estimator_\n",
    "print (xgb_clf.best_score_, xgb_clf.best_params_)"
   ]
  },
  {
   "cell_type": "code",
   "execution_count": 170,
   "metadata": {},
   "outputs": [],
   "source": [
    "# Build bagging Model \n",
    "from sklearn.ensemble import BaggingClassifier\n",
    "from sklearn import tree\n",
    "bag = BaggingClassifier(tree.DecisionTreeClassifier(random_state=1))\n",
    "model_train_bag= bag.fit(X_train,y_train)\n",
    "y_pred_train_bag = bag.predict(X_train)\n",
    "y_pred_test_bag = bag.predict(X_test)"
   ]
  },
  {
   "cell_type": "code",
   "execution_count": 171,
   "metadata": {},
   "outputs": [
    {
     "name": "stdout",
     "output_type": "stream",
     "text": [
      "Train Decision Tree Accuracy: 0.16663332666533306\n",
      "Test Decision Tree Accuracy: 0.1668\n"
     ]
    }
   ],
   "source": [
    "y_prob_test_bag= bag.predict_proba(X_test)[:,1]\n",
    "\n",
    "acc_train_bag = accuracy_score(y_true=y_train,y_pred=y_pred_train_bag)\n",
    "acc_test_bag = accuracy_score(y_true=y_test,y_pred=y_pred_test_bag)\n",
    "print(\"Train Decision Tree Accuracy:\",accuracy_score(y_true=y_train,y_pred=y_pred_train_bag))\n",
    "print(\"Test Decision Tree Accuracy:\",accuracy_score(y_true=y_test,y_pred=y_pred_test_bag))"
   ]
  },
  {
   "cell_type": "code",
   "execution_count": 172,
   "metadata": {},
   "outputs": [
    {
     "name": "stdout",
     "output_type": "stream",
     "text": [
      "\n",
      " Confusion matrix \n",
      " [[   0 4166]\n",
      " [   0  834]]\n",
      "\n",
      " Classification report \n",
      "              precision    recall  f1-score   support\n",
      "\n",
      "          0       0.00      0.00      0.00      4166\n",
      "          1       0.17      1.00      0.29       834\n",
      "\n",
      "avg / total       0.03      0.17      0.05      5000\n",
      "\n"
     ]
    },
    {
     "name": "stderr",
     "output_type": "stream",
     "text": [
      "C:\\ProgramData\\Anaconda3\\lib\\site-packages\\sklearn\\metrics\\classification.py:1135: UndefinedMetricWarning: Precision and F-score are ill-defined and being set to 0.0 in labels with no predicted samples.\n",
      "  'precision', 'predicted', average, warn_for)\n"
     ]
    }
   ],
   "source": [
    "from sklearn import metrics\n",
    "from sklearn.metrics import accuracy_score, confusion_matrix, classification_report\n",
    "confusion_matrix_test_bag= confusion_matrix(y_test, y_pred_test_bag)\n",
    "print(\"\\n Confusion matrix \\n\", confusion_matrix_test_bag)\n",
    "print(\"\\n Classification report \\n\", classification_report(y_test,y_pred_test_bag))"
   ]
  },
  {
   "cell_type": "code",
   "execution_count": 173,
   "metadata": {},
   "outputs": [
    {
     "data": {
      "image/png": "[encoded data removed]",
      "text/plain": [
       "<Figure size 432x288 with 2 Axes>"
      ]
     },
     "metadata": {},
     "output_type": "display_data"
    }
   ],
   "source": [
    "class_names = [0,1]\n",
    "plt.figure()\n",
    "plot_confusion_matrix(confusion_matrix_test_bag , classes=class_names, title='Confusion matrix')\n",
    "plt.show()"
   ]
  },
  {
   "cell_type": "code",
   "execution_count": 174,
   "metadata": {},
   "outputs": [
    {
     "name": "stdout",
     "output_type": "stream",
     "text": [
      "Test TNR:  0.0\n",
      "Test TPR:  1.0\n",
      "Test Accuracy:  0.1668\n"
     ]
    }
   ],
   "source": [
    "Accuracy_Test=(confusion_matrix_test_bag[0,0]+confusion_matrix_test_bag[1,1])/(confusion_matrix_test_bag[0,0]+confusion_matrix_test_bag[0,1]+confusion_matrix_test_bag[1,0]+confusion_matrix_test_bag[1,1])\n",
    "TNR_Test_bag= confusion_matrix_test_bag[0,0]/(confusion_matrix_test_bag[0,0] +confusion_matrix_test_bag[0,1])\n",
    "TPR_Test_bag= confusion_matrix_test_bag[1,1]/(confusion_matrix_test_bag[1,0] +confusion_matrix_test_bag[1,1])\n",
    "\n",
    "print(\"Test TNR: \",TNR_Test_bag)\n",
    "print(\"Test TPR: \",TPR_Test_bag)\n",
    "print(\"Test Accuracy: \",Accuracy_Test)"
   ]
  },
  {
   "cell_type": "code",
   "execution_count": 175,
   "metadata": {},
   "outputs": [
    {
     "data": {
      "image/png": "[encoded data removed]",
      "text/plain": [
       "<Figure size 432x288 with 1 Axes>"
      ]
     },
     "metadata": {},
     "output_type": "display_data"
    }
   ],
   "source": [
    "# calculate the fpr and tpr for all thresholds of the classification\n",
    "\n",
    "fpr, tpr, threshold = metrics.roc_curve(y_test, y_prob_test_bag)\n",
    "roc_auc_bag = metrics.auc(fpr, tpr)\n",
    "\n",
    "# method I: plt\n",
    "import matplotlib.pyplot as plt\n",
    "plt.title('Receiver Operating Characteristic')\n",
    "plt.plot(fpr, tpr, 'b', label = 'AUC = %0.2f' % roc_auc_bag)\n",
    "plt.legend(loc = 'lower right')\n",
    "plt.plot([0, 1], [0, 1],'r--')\n",
    "plt.xlim([0, 1])\n",
    "plt.ylim([0, 1])\n",
    "plt.ylabel('True Positive Rate')\n",
    "plt.xlabel('False Positive Rate')\n",
    "plt.show()"
   ]
  },
  {
   "cell_type": "code",
   "execution_count": 176,
   "metadata": {},
   "outputs": [
    {
     "name": "stdout",
     "output_type": "stream",
     "text": [
      "Train Accuracy:  0.16663332666533306\n",
      "Test Accuracy:  0.1668\n",
      "Train Auc:  0.5\n",
      "Test TNR:  0.0\n",
      "Test TPR:  1.0\n"
     ]
    }
   ],
   "source": [
    "print(\"Train Accuracy: \", acc_train_bag)\n",
    "print(\"Test Accuracy: \", acc_test_bag)\n",
    "print(\"Train Auc: \", roc_auc_bag)\n",
    "print(\"Test TNR: \",TNR_Test_bag)\n",
    "print(\"Test TPR: \",TPR_Test_bag)"
   ]
  },
  {
   "cell_type": "code",
   "execution_count": 177,
   "metadata": {},
   "outputs": [],
   "source": [
    "# Build Balanced bagging classifier model\n",
    "from imblearn.ensemble import BalancedBaggingClassifier\n",
    "from sklearn import tree\n",
    "bbc = BalancedBaggingClassifier(tree.DecisionTreeClassifier(random_state=1))\n",
    "model_train_bbc= bbc.fit(X_train,y_train)\n",
    "y_pred_train_bbc = bbc.predict(X_train)\n",
    "y_pred_test_bbc = bbc.predict(X_test)"
   ]
  },
  {
   "cell_type": "code",
   "execution_count": 178,
   "metadata": {},
   "outputs": [
    {
     "name": "stdout",
     "output_type": "stream",
     "text": [
      "Train Decision Tree Accuracy: 0.9350870174034807\n",
      "Test Decision Tree Accuracy: 0.878\n"
     ]
    }
   ],
   "source": [
    "y_prob_test_bbc= bbc.predict_proba(X_test)[:,1]\n",
    "\n",
    "acc_train_bbc = accuracy_score(y_true=y_train,y_pred=y_pred_train_bbc)\n",
    "acc_test_bbc = accuracy_score(y_true=y_test,y_pred=y_pred_test_bbc) \n",
    "\n",
    "print(\"Train Decision Tree Accuracy:\",accuracy_score(y_true=y_train,y_pred=y_pred_train_bbc))\n",
    "print(\"Test Decision Tree Accuracy:\",accuracy_score(y_true=y_test,y_pred=y_pred_test_bbc))"
   ]
  },
  {
   "cell_type": "code",
   "execution_count": 179,
   "metadata": {},
   "outputs": [
    {
     "name": "stdout",
     "output_type": "stream",
     "text": [
      "\n",
      " Confusion matrix \n",
      " [[3717  449]\n",
      " [ 161  673]]\n",
      "\n",
      " Classification report \n",
      "              precision    recall  f1-score   support\n",
      "\n",
      "          0       0.96      0.89      0.92      4166\n",
      "          1       0.60      0.81      0.69       834\n",
      "\n",
      "avg / total       0.90      0.88      0.88      5000\n",
      "\n"
     ]
    }
   ],
   "source": [
    "from sklearn import metrics\n",
    "from sklearn.metrics import accuracy_score, confusion_matrix, classification_report\n",
    "confusion_matrix_test_bbc= confusion_matrix(y_test, y_pred_test_bbc)\n",
    "print(\"\\n Confusion matrix \\n\", confusion_matrix_test_bbc)\n",
    "print(\"\\n Classification report \\n\", classification_report(y_test,y_pred_test_bbc))"
   ]
  },
  {
   "cell_type": "code",
   "execution_count": 180,
   "metadata": {},
   "outputs": [
    {
     "data": {
      "image/png": "[encoded data removed]",
      "text/plain": [
       "<Figure size 432x288 with 2 Axes>"
      ]
     },
     "metadata": {},
     "output_type": "display_data"
    }
   ],
   "source": [
    "class_names = [0,1]\n",
    "plt.figure()\n",
    "plot_confusion_matrix(confusion_matrix_test_bbc , classes=class_names, title='Confusion matrix')\n",
    "plt.show()"
   ]
  },
  {
   "cell_type": "code",
   "execution_count": 181,
   "metadata": {},
   "outputs": [
    {
     "name": "stdout",
     "output_type": "stream",
     "text": [
      "Test TNR:  0.8922227556409026\n",
      "Test TPR:  0.8069544364508393\n",
      "Test Accuracy:  0.878\n"
     ]
    }
   ],
   "source": [
    "Accuracy_Test=(confusion_matrix_test_bbc[0,0]+confusion_matrix_test_bbc[1,1])/(confusion_matrix_test_bbc[0,0]+confusion_matrix_test_bbc[0,1]+confusion_matrix_test_bbc[1,0]+confusion_matrix_test_bbc[1,1])\n",
    "TNR_Test_bbc= confusion_matrix_test_bbc[0,0]/(confusion_matrix_test_bbc[0,0] +confusion_matrix_test_bbc[0,1])\n",
    "TPR_Test_bbc= confusion_matrix_test_bbc[1,1]/(confusion_matrix_test_bbc[1,0] +confusion_matrix_test_bbc[1,1])\n",
    "\n",
    "print(\"Test TNR: \",TNR_Test_bbc)\n",
    "print(\"Test TPR: \",TPR_Test_bbc)\n",
    "print(\"Test Accuracy: \",Accuracy_Test)"
   ]
  },
  {
   "cell_type": "code",
   "execution_count": 182,
   "metadata": {},
   "outputs": [
    {
     "data": {
      "image/png": "[encoded data removed]",
      "text/plain": [
       "<Figure size 432x288 with 1 Axes>"
      ]
     },
     "metadata": {},
     "output_type": "display_data"
    }
   ],
   "source": [
    "# calculate the fpr and tpr for all thresholds of the classification\n",
    "\n",
    "fpr, tpr, threshold = metrics.roc_curve(y_test, y_prob_test_bbc)\n",
    "roc_auc_bbc = metrics.auc(fpr, tpr)\n",
    "\n",
    "# method I: plt\n",
    "import matplotlib.pyplot as plt\n",
    "plt.title('Receiver Operating Characteristic')\n",
    "plt.plot(fpr, tpr, 'b', label = 'AUC = %0.2f' % roc_auc_bbc)\n",
    "plt.legend(loc = 'lower right')\n",
    "plt.plot([0, 1], [0, 1],'r--')\n",
    "plt.xlim([0, 1])\n",
    "plt.ylim([0, 1])\n",
    "plt.ylabel('True Positive Rate')\n",
    "plt.xlabel('False Positive Rate')\n",
    "plt.show()"
   ]
  },
  {
   "cell_type": "code",
   "execution_count": 183,
   "metadata": {},
   "outputs": [
    {
     "name": "stdout",
     "output_type": "stream",
     "text": [
      "Train Accuracy:  0.9350870174034807\n",
      "Test Accuracy:  0.878\n",
      "Train Auc:  0.9299990156698452\n",
      "Test TNR:  0.8922227556409026\n",
      "Test TPR:  0.8069544364508393\n"
     ]
    }
   ],
   "source": [
    "print(\"Train Accuracy: \", acc_train_bbc)\n",
    "print(\"Test Accuracy: \", acc_test_bbc)\n",
    "print(\"Train Auc: \", roc_auc_bbc)\n",
    "print(\"Test TNR: \",TNR_Test_bbc)\n",
    "print(\"Test TPR: \",TPR_Test_bbc)"
   ]
  },
  {
   "cell_type": "code",
   "execution_count": 184,
   "metadata": {},
   "outputs": [
    {
     "data": {
      "text/plain": [
       "0    20830\n",
       "1     4166\n",
       "Name: target, dtype: int64"
      ]
     },
     "execution_count": 184,
     "metadata": {},
     "output_type": "execute_result"
    }
   ],
   "source": [
    "## Aplying SMOTE\n",
    "# Find the Target value distribution\n",
    "bank_data[\"target\"].value_counts()"
   ]
  },
  {
   "cell_type": "code",
   "execution_count": 185,
   "metadata": {},
   "outputs": [
    {
     "data": {
      "text/plain": [
       "<matplotlib.axes._subplots.AxesSubplot at 0x2a7c705a048>"
      ]
     },
     "execution_count": 185,
     "metadata": {},
     "output_type": "execute_result"
    },
    {
     "data": {
      "image/png": "[encoded data removed]",
      "text/plain": [
       "<Figure size 720x432 with 1 Axes>"
      ]
     },
     "metadata": {},
     "output_type": "display_data"
    }
   ],
   "source": [
    "import seaborn as sns\n",
    "plt.figure(figsize=(10,6))\n",
    "sns.countplot(x='target',data = bank_data)"
   ]
  },
  {
   "cell_type": "code",
   "execution_count": 186,
   "metadata": {},
   "outputs": [
    {
     "ename": "NameError",
     "evalue": "name 'bank_data_mean_imputed' is not defined",
     "output_type": "error",
     "traceback": [
      "\u001b[1;31m---------------------------------------------------------------------------\u001b[0m",
      "\u001b[1;31mNameError\u001b[0m                                 Traceback (most recent call last)",
      "\u001b[1;32m<ipython-input-186-91fded6b4a05>\u001b[0m in \u001b[0;36m<module>\u001b[1;34m()\u001b[0m\n\u001b[0;32m      4\u001b[0m \u001b[0mmean_imputer\u001b[0m \u001b[1;33m=\u001b[0m \u001b[0mImputer\u001b[0m\u001b[1;33m(\u001b[0m\u001b[0mstrategy\u001b[0m\u001b[1;33m=\u001b[0m\u001b[1;34m\"mean\"\u001b[0m\u001b[1;33m)\u001b[0m\u001b[1;33m\u001b[0m\u001b[0m\n\u001b[0;32m      5\u001b[0m \u001b[0mbank_data_mean_imputed1\u001b[0m \u001b[1;33m=\u001b[0m \u001b[0mbank_data\u001b[0m\u001b[1;33m.\u001b[0m\u001b[0mcopy\u001b[0m\u001b[1;33m(\u001b[0m\u001b[1;33m)\u001b[0m\u001b[1;33m\u001b[0m\u001b[0m\n\u001b[1;32m----> 6\u001b[1;33m \u001b[0mbank_data_mean_imputed1\u001b[0m\u001b[1;33m.\u001b[0m\u001b[0miloc\u001b[0m\u001b[1;33m[\u001b[0m\u001b[1;33m:\u001b[0m\u001b[1;33m,\u001b[0m\u001b[1;36m0\u001b[0m\u001b[1;33m:\u001b[0m\u001b[1;36m64\u001b[0m\u001b[1;33m]\u001b[0m \u001b[1;33m=\u001b[0m \u001b[0mmean_imputer\u001b[0m\u001b[1;33m.\u001b[0m\u001b[0mfit_transform\u001b[0m\u001b[1;33m(\u001b[0m\u001b[0mbank_data_mean_imputed\u001b[0m\u001b[1;33m.\u001b[0m\u001b[0miloc\u001b[0m\u001b[1;33m[\u001b[0m\u001b[1;33m:\u001b[0m\u001b[1;33m,\u001b[0m\u001b[1;36m0\u001b[0m\u001b[1;33m:\u001b[0m\u001b[1;36m64\u001b[0m\u001b[1;33m]\u001b[0m\u001b[1;33m)\u001b[0m\u001b[1;33m\u001b[0m\u001b[0m\n\u001b[0m",
      "\u001b[1;31mNameError\u001b[0m: name 'bank_data_mean_imputed' is not defined"
     ]
    }
   ],
   "source": [
    "# Data Imputation\n",
    "# Impute missing values with mean Imputation\n",
    "from sklearn.preprocessing import Imputer\n",
    "mean_imputer = Imputer(strategy=\"mean\")\n",
    "bank_data_mean_imputed1 = bank_data.copy()\n",
    "bank_data_mean_imputed1.iloc[:,0:64] = mean_imputer.fit_transform(bank_data_mean_imputed.iloc[:,0:64])"
   ]
  },
  {
   "cell_type": "code",
   "execution_count": 187,
   "metadata": {},
   "outputs": [
    {
     "data": {
      "text/plain": [
       "Attr1     0\n",
       "Attr2     0\n",
       "Attr3     0\n",
       "Attr4     0\n",
       "Attr5     0\n",
       "Attr6     0\n",
       "Attr7     0\n",
       "Attr8     0\n",
       "Attr9     0\n",
       "Attr10    0\n",
       "Attr11    0\n",
       "Attr12    0\n",
       "Attr13    0\n",
       "Attr14    0\n",
       "Attr15    0\n",
       "Attr16    0\n",
       "Attr17    0\n",
       "Attr18    0\n",
       "Attr19    0\n",
       "Attr20    0\n",
       "Attr21    0\n",
       "Attr22    0\n",
       "Attr23    0\n",
       "Attr24    0\n",
       "Attr25    0\n",
       "Attr26    0\n",
       "Attr27    0\n",
       "Attr28    0\n",
       "Attr29    0\n",
       "Attr30    0\n",
       "         ..\n",
       "Attr36    0\n",
       "Attr37    0\n",
       "Attr38    0\n",
       "Attr39    0\n",
       "Attr40    0\n",
       "Attr41    0\n",
       "Attr42    0\n",
       "Attr43    0\n",
       "Attr44    0\n",
       "Attr45    0\n",
       "Attr46    0\n",
       "Attr47    0\n",
       "Attr48    0\n",
       "Attr49    0\n",
       "Attr50    0\n",
       "Attr51    0\n",
       "Attr52    0\n",
       "Attr53    0\n",
       "Attr54    0\n",
       "Attr55    0\n",
       "Attr56    0\n",
       "Attr57    0\n",
       "Attr58    0\n",
       "Attr59    0\n",
       "Attr60    0\n",
       "Attr61    0\n",
       "Attr62    0\n",
       "Attr63    0\n",
       "Attr64    0\n",
       "target    0\n",
       "Length: 65, dtype: int64"
      ]
     },
     "execution_count": 187,
     "metadata": {},
     "output_type": "execute_result"
    }
   ],
   "source": [
    "bank_data_mean_imputed1.head()\n",
    "bank_data_mean_imputed1.isnull().sum()"
   ]
  },
  {
   "cell_type": "code",
   "execution_count": 188,
   "metadata": {},
   "outputs": [
    {
     "name": "stdout",
     "output_type": "stream",
     "text": [
      "Shape of X: (24996, 64)\n",
      "Shape of y: (24996,)\n"
     ]
    }
   ],
   "source": [
    "# Split the Train and Test Data\n",
    "from sklearn.model_selection import train_test_split\n",
    "# Split the data into X and y\n",
    "X = bank_data_mean_imputed1.drop(\"target\", axis=1)\n",
    "y = bank_data_mean_imputed1[\"target\"]\n",
    "\n",
    "print('Shape of X: {}'.format(X.shape))\n",
    "print('Shape of y: {}'.format(y.shape))"
   ]
  },
  {
   "cell_type": "code",
   "execution_count": 189,
   "metadata": {},
   "outputs": [
    {
     "name": "stdout",
     "output_type": "stream",
     "text": [
      "Number transactions X_train dataset:  (19996, 64)\n",
      "Number transactions y_train dataset:  (19996,)\n",
      "Number transactions X_test dataset:  (5000, 64)\n",
      "Number transactions y_test dataset:  (5000,)\n"
     ]
    }
   ],
   "source": [
    "from imblearn.over_sampling import SMOTE\n",
    "\n",
    "from sklearn.model_selection import train_test_split\n",
    "\n",
    "X_train1, X_test1, y_train1, y_test1 = train_test_split(X, y, test_size=0.2, random_state=1)\n",
    "\n",
    "print(\"Number transactions X_train dataset: \", X_train1.shape)\n",
    "print(\"Number transactions y_train dataset: \", y_train1.shape)\n",
    "print(\"Number transactions X_test dataset: \", X_test1.shape)\n",
    "print(\"Number transactions y_test dataset: \", y_test1.shape)"
   ]
  },
  {
   "cell_type": "code",
   "execution_count": 190,
   "metadata": {},
   "outputs": [
    {
     "name": "stdout",
     "output_type": "stream",
     "text": [
      "Before OverSampling, counts of label '1': 3334\n",
      "Before OverSampling, counts of label '0': 16662 \n",
      "\n",
      "After OverSampling, the shape of train_X: (33324, 64)\n",
      "After OverSampling, the shape of train_y: (33324,) \n",
      "\n",
      "After OverSampling, counts of label '1': 16662\n",
      "After OverSampling, counts of label '0': 16662\n"
     ]
    }
   ],
   "source": [
    "print(\"Before OverSampling, counts of label '1': {}\".format(sum(y_train1==1)))\n",
    "print(\"Before OverSampling, counts of label '0': {} \\n\".format(sum(y_train1==0)))\n",
    "\n",
    "sm = SMOTE(random_state=2)\n",
    "X_train_res, y_train_res = sm.fit_sample(X_train1, y_train1)\n",
    "\n",
    "print('After OverSampling, the shape of train_X: {}'.format(X_train_res.shape))\n",
    "print('After OverSampling, the shape of train_y: {} \\n'.format(y_train_res.shape))\n",
    "\n",
    "print(\"After OverSampling, counts of label '1': {}\".format(sum(y_train_res==1)))\n",
    "print(\"After OverSampling, counts of label '0': {}\".format(sum(y_train_res==0)))"
   ]
  },
  {
   "cell_type": "code",
   "execution_count": 191,
   "metadata": {},
   "outputs": [],
   "source": [
    "## Model Builsing using Boosing\n",
    "from sklearn.ensemble import AdaBoostClassifier\n",
    "ada_smote = AdaBoostClassifier(\n",
    "    DecisionTreeClassifier(max_depth=2),\n",
    "    n_estimators=100,\n",
    "    learning_rate=1)\n",
    "model_train_ada= ada_smote.fit(X_train_res,y_train_res)\n",
    "y_pred_train_ada_smote = ada_smote.predict(X_train_res)\n",
    "y_pred_test_ada_smote = ada_smote.predict(X_test1)"
   ]
  },
  {
   "cell_type": "code",
   "execution_count": 192,
   "metadata": {},
   "outputs": [
    {
     "name": "stdout",
     "output_type": "stream",
     "text": [
      "Train Decision Tree Accuracy: 0.9425039010923059\n",
      "Test Decision Tree Accuracy: 0.908\n"
     ]
    }
   ],
   "source": [
    "y_prob_test_ada_smote= ada_smote.predict_proba(X_test1)[:,1]\n",
    "\n",
    "acc_train_ada_smote = accuracy_score(y_true=y_train_res,y_pred=y_pred_train_ada_smote)\n",
    "acc_test_ada_smote = accuracy_score(y_true=y_test1,y_pred=y_pred_test_ada_smote)\n",
    "print(\"Train Decision Tree Accuracy:\",accuracy_score(y_true=y_train_res,y_pred=y_pred_train_ada_smote))\n",
    "print(\"Test Decision Tree Accuracy:\",accuracy_score(y_true=y_test1,y_pred=y_pred_test_ada_smote))"
   ]
  },
  {
   "cell_type": "code",
   "execution_count": 193,
   "metadata": {},
   "outputs": [
    {
     "name": "stdout",
     "output_type": "stream",
     "text": [
      "\n",
      " Confusion matrix \n",
      " [[3442  724]\n",
      " [ 702  132]]\n",
      "\n",
      " Classification report \n",
      "              precision    recall  f1-score   support\n",
      "\n",
      "          0       0.83      0.83      0.83      4166\n",
      "          1       0.15      0.16      0.16       834\n",
      "\n",
      "avg / total       0.72      0.71      0.72      5000\n",
      "\n"
     ]
    }
   ],
   "source": [
    "from sklearn import metrics\n",
    "from sklearn.metrics import accuracy_score, confusion_matrix, classification_report\n",
    "confusion_matrix_test_ada_smote= confusion_matrix(y_test, y_pred_test_ada_smote)\n",
    "print(\"\\n Confusion matrix \\n\", confusion_matrix_test_ada_smote)\n",
    "print(\"\\n Classification report \\n\", classification_report(y_test,y_pred_test_ada_smote))\n"
   ]
  },
  {
   "cell_type": "code",
   "execution_count": 194,
   "metadata": {},
   "outputs": [
    {
     "data": {
      "image/png": "[encoded data removed]",
      "text/plain": [
       "<Figure size 432x288 with 2 Axes>"
      ]
     },
     "metadata": {},
     "output_type": "display_data"
    }
   ],
   "source": [
    "class_names = [0,1]\n",
    "plt.figure()\n",
    "plot_confusion_matrix(confusion_matrix_test_ada_smote , classes=class_names, title='Confusion matrix')\n",
    "plt.show()"
   ]
  },
  {
   "cell_type": "code",
   "execution_count": 195,
   "metadata": {},
   "outputs": [
    {
     "name": "stdout",
     "output_type": "stream",
     "text": [
      "Test TNR:  0.8262121939510322\n",
      "Test TPR:  0.15827338129496402\n",
      "Test Accuracy:  0.7148\n"
     ]
    }
   ],
   "source": [
    "Accuracy_Test=(confusion_matrix_test_ada_smote[0,0]+confusion_matrix_test_ada_smote[1,1])/(confusion_matrix_test_ada_smote[0,0]+confusion_matrix_test_ada_smote[0,1]+confusion_matrix_test_ada_smote[1,0]+confusion_matrix_test_ada_smote[1,1])\n",
    "TNR_Test_ada_smote= confusion_matrix_test_ada_smote[0,0]/(confusion_matrix_test_ada_smote[0,0] +confusion_matrix_test_ada_smote[0,1])\n",
    "TPR_Test_ada_smote= confusion_matrix_test_ada_smote[1,1]/(confusion_matrix_test_ada_smote[1,0] +confusion_matrix_test_ada_smote[1,1])\n",
    "\n",
    "print(\"Test TNR: \",TNR_Test_ada_smote)\n",
    "print(\"Test TPR: \",TPR_Test_ada_smote)\n",
    "print(\"Test Accuracy: \",Accuracy_Test)"
   ]
  },
  {
   "cell_type": "code",
   "execution_count": 196,
   "metadata": {},
   "outputs": [
    {
     "data": {
      "image/png": "[encoded data removed]",
      "text/plain": [
       "<Figure size 432x288 with 1 Axes>"
      ]
     },
     "metadata": {},
     "output_type": "display_data"
    }
   ],
   "source": [
    "# calculate the fpr and tpr for all thresholds of the classification\n",
    "\n",
    "fpr, tpr, threshold = metrics.roc_curve(y_test, y_prob_test_ada_smote)\n",
    "roc_auc_ada_smote = metrics.auc(fpr, tpr)\n",
    "\n",
    "# method I: plt\n",
    "import matplotlib.pyplot as plt\n",
    "plt.title('Receiver Operating Characteristic')\n",
    "plt.plot(fpr, tpr, 'b', label = 'AUC = %0.2f' % roc_auc_ada_smote)\n",
    "plt.legend(loc = 'lower right')\n",
    "plt.plot([0, 1], [0, 1],'r--')\n",
    "plt.xlim([0, 1])\n",
    "plt.ylim([0, 1])\n",
    "plt.ylabel('True Positive Rate')\n",
    "plt.xlabel('False Positive Rate')\n",
    "plt.show()"
   ]
  },
  {
   "cell_type": "code",
   "execution_count": 197,
   "metadata": {},
   "outputs": [
    {
     "name": "stdout",
     "output_type": "stream",
     "text": [
      "Train Accuracy:  0.9425039010923059\n",
      "Test Accuracy:  0.908\n",
      "Train Auc:  0.4993938598521087\n",
      "Test TNR:  0.8262121939510322\n",
      "Test TPR:  0.15827338129496402\n"
     ]
    }
   ],
   "source": [
    "print(\"Train Accuracy: \", acc_train_ada_smote)\n",
    "print(\"Test Accuracy: \", acc_test_ada_smote)\n",
    "print(\"Train Auc: \", roc_auc_ada_smote)\n",
    "print(\"Test TNR: \",TNR_Test_ada_smote)\n",
    "print(\"Test TPR: \",TPR_Test_ada_smote)"
   ]
  },
  {
   "cell_type": "code",
   "execution_count": 146,
   "metadata": {},
   "outputs": [
    {
     "name": "stdout",
     "output_type": "stream",
     "text": [
      "+---------------------+--------------------+---------------+--------------------+--------------------+--------------------+\n",
      "|         Name        |   Train_accuracy   | Test_accuracy |      Roc_Auc       |      Test TNR      |      Test TPR      |\n",
      "+---------------------+--------------------+---------------+--------------------+--------------------+--------------------+\n",
      "| Logistic Regression | 0.9990998199639928 |     0.9986    | 0.9994408520042817 | 0.9985604606525912 | 0.9987980769230769 |\n",
      "|         SVC         | 0.9803960792158432 |     0.9724    | 0.992848874898494  | 0.9954414587332053 | 0.8569711538461539 |\n",
      "|         DTC         |        1.0         |      1.0      |        1.0         |        1.0         |        1.0         |\n",
      "|         RFC         |        1.0         |      1.0      |        1.0         |        1.0         |        1.0         |\n",
      "|    ADABOOST_BASIC   |        1.0         |      1.0      |        1.0         |        1.0         |        1.0         |\n",
      "|    ADABOOST FINAL   |        1.0         |      1.0      |        1.0         |        1.0         |        1.0         |\n",
      "|      GBC BASIC      |        1.0         |      1.0      |        1.0         |        1.0         |        1.0         |\n",
      "|      GBC FINAL      |        1.0         |      1.0      |        1.0         |        1.0         |        1.0         |\n",
      "|    XGBOOST BASIC    |        1.0         |      1.0      |        1.0         |        1.0         |        1.0         |\n",
      "|       BAGGING       | 0.8332666533306662 |     0.8336    |        0.5         |        1.0         |        0.0         |\n",
      "|   BALANCED BAGGING  | 0.9998999799959992 |     0.9998    |        1.0         | 0.9997600767754319 |        1.0         |\n",
      "|    SMOTE ADABOOST   |        1.0         |      1.0      |        1.0         |        1.0         |        1.0         |\n",
      "+---------------------+--------------------+---------------+--------------------+--------------------+--------------------+\n"
     ]
    }
   ],
   "source": [
    "from prettytable import PrettyTable\n",
    "t = PrettyTable(['Name','Train_accuracy', 'Test_accuracy', 'Roc_Auc', 'Test TNR', 'Test TPR'])\n",
    "t.add_row([\"Logistic Regression\",acc_train_lr,acc_test_lr,roc_auc_lr,TNR_Test_lr,TPR_Test_lr])\n",
    "t.add_row([\"SVC\",acc_train_svc,acc_test_svc,roc_auc_svc,TNR_Test_svc,TPR_Test_svc])\n",
    "t.add_row([\"DTC\",acc_train_dtc,acc_test_dtc,roc_auc_dtc,TNR_Test_dtc,TPR_Test_dtc])\n",
    "t.add_row([\"RFC\",acc_train_rfc,acc_test_rfc,roc_auc_rfc,TNR_Test_rfc,TPR_Test_rfc])\n",
    "t.add_row([\"ADABOOST_BASIC\",acc_train_ada,acc_test_ada,roc_auc_ada,TNR_Test_ada,TPR_Test_ada])\n",
    "t.add_row([\"ADABOOST FINAL\",acc_train_ada_final,acc_test_ada_final,roc_auc_ada_final,TNR_Test_ada_final,TPR_Test_ada_final])\n",
    "t.add_row([\"GBC BASIC\",acc_train_gbm,acc_test_gbm,roc_auc_gbm,TNR_Test_gbm,TPR_Test_gbm])\n",
    "t.add_row([\"GBC FINAL\",acc_train_gbm_final,acc_test_gbm_final,roc_auc_gbm_final,TNR_Test_gbm_final,TPR_Test_gbm_final])\n",
    "t.add_row([\"XGBOOST BASIC\",acc_train_xgb,acc_test_xgb,roc_auc_xgb,TNR_Test_xgb,TPR_Test_xgb])\n",
    "#t.add_row([\"XGBOOST FINAL\",acc_train_xgb_final,acc_test_xgb_final,roc_auc_xgb_final,TNR_Test_xgb_final,TPR_Test_xgb_final])\n",
    "t.add_row([\"BAGGING\",acc_train_bag,acc_test_bag,roc_auc_bag,TNR_Test_bag,TPR_Test_bag])\n",
    "t.add_row([\"BALANCED BAGGING\",acc_train_bbc,acc_test_bbc,roc_auc_bbc,TNR_Test_bbc,TPR_Test_bbc])\n",
    "t.add_row([\"SMOTE ADABOOST\",acc_train_ada_smote,acc_test_ada_smote,roc_auc_ada_smote,TNR_Test_ada_smote,TPR_Test_ada_smote])\n",
    " \n",
    "print(t.get_string(title=\"Results\")) "
   ]
  },
  {
   "cell_type": "code",
   "execution_count": 147,
   "metadata": {},
   "outputs": [
    {
     "name": "stdout",
     "output_type": "stream",
     "text": [
      "\n",
      " Classification report Logistic Classification \n",
      "              precision    recall  f1-score   support\n",
      "\n",
      "          0       1.00      1.00      1.00      4168\n",
      "          1       0.99      1.00      1.00       832\n",
      "\n",
      "avg / total       1.00      1.00      1.00      5000\n",
      "\n",
      "\n",
      " Classification report  SVC \n",
      "              precision    recall  f1-score   support\n",
      "\n",
      "          0       0.97      1.00      0.98      4168\n",
      "          1       0.97      0.86      0.91       832\n",
      "\n",
      "avg / total       0.97      0.97      0.97      5000\n",
      "\n",
      "\n",
      " Classification report DTC \n",
      "              precision    recall  f1-score   support\n",
      "\n",
      "          0       1.00      1.00      1.00      4168\n",
      "          1       1.00      1.00      1.00       832\n",
      "\n",
      "avg / total       1.00      1.00      1.00      5000\n",
      "\n",
      "\n",
      " Classification report RFC \n",
      "              precision    recall  f1-score   support\n",
      "\n",
      "          0       1.00      1.00      1.00      4168\n",
      "          1       1.00      1.00      1.00       832\n",
      "\n",
      "avg / total       1.00      1.00      1.00      5000\n",
      "\n",
      "\n",
      " Classification report ADABOOST BASIC\n",
      "              precision    recall  f1-score   support\n",
      "\n",
      "          0       1.00      1.00      1.00      4168\n",
      "          1       1.00      1.00      1.00       832\n",
      "\n",
      "avg / total       1.00      1.00      1.00      5000\n",
      "\n",
      "\n",
      " Classification report ADABOOST FINAL \n",
      "              precision    recall  f1-score   support\n",
      "\n",
      "          0       1.00      1.00      1.00      4168\n",
      "          1       1.00      1.00      1.00       832\n",
      "\n",
      "avg / total       1.00      1.00      1.00      5000\n",
      "\n",
      "\n",
      " Classification report GBM BASIC \n",
      "              precision    recall  f1-score   support\n",
      "\n",
      "          0       1.00      1.00      1.00      4168\n",
      "          1       1.00      1.00      1.00       832\n",
      "\n",
      "avg / total       1.00      1.00      1.00      5000\n",
      "\n",
      "\n",
      " Classification report GBM FINAL \n",
      "              precision    recall  f1-score   support\n",
      "\n",
      "          0       1.00      1.00      1.00      4168\n",
      "          1       1.00      1.00      1.00       832\n",
      "\n",
      "avg / total       1.00      1.00      1.00      5000\n",
      "\n",
      "\n",
      " Classification report XGBOOST BASIC \n",
      "              precision    recall  f1-score   support\n",
      "\n",
      "          0       1.00      1.00      1.00      4168\n",
      "          1       1.00      1.00      1.00       832\n",
      "\n",
      "avg / total       1.00      1.00      1.00      5000\n",
      "\n",
      "\n",
      " Classification report BAGGING \n",
      "              precision    recall  f1-score   support\n",
      "\n",
      "          0       0.83      1.00      0.91      4168\n",
      "          1       0.00      0.00      0.00       832\n",
      "\n",
      "avg / total       0.69      0.83      0.76      5000\n",
      "\n",
      "\n",
      " Classification report BALANCED BAGING \n",
      "              precision    recall  f1-score   support\n",
      "\n",
      "          0       1.00      1.00      1.00      4168\n",
      "          1       1.00      1.00      1.00       832\n",
      "\n",
      "avg / total       1.00      1.00      1.00      5000\n",
      "\n",
      "\n",
      " Classification report ADAMOOST & SMOTE \n",
      "              precision    recall  f1-score   support\n",
      "\n",
      "          0       1.00      1.00      1.00      4168\n",
      "          1       1.00      1.00      1.00       832\n",
      "\n",
      "avg / total       1.00      1.00      1.00      5000\n",
      "\n"
     ]
    },
    {
     "name": "stderr",
     "output_type": "stream",
     "text": [
      "C:\\ProgramData\\Anaconda3\\lib\\site-packages\\sklearn\\metrics\\classification.py:1135: UndefinedMetricWarning: Precision and F-score are ill-defined and being set to 0.0 in labels with no predicted samples.\n",
      "  'precision', 'predicted', average, warn_for)\n"
     ]
    }
   ],
   "source": [
    "print(\"\\n Classification report Logistic Classification \\n\", classification_report(y_test,y_pred_test_lr))\n",
    "print(\"\\n Classification report  SVC \\n\", classification_report(y_test,y_pred_test_svc))\n",
    "print(\"\\n Classification report DTC \\n\", classification_report(y_test,y_pred_test_dtc))\n",
    "print(\"\\n Classification report RFC \\n\", classification_report(y_test,y_pred_test_rfc))\n",
    "print(\"\\n Classification report ADABOOST BASIC\\n\", classification_report(y_test,y_pred_test_ada))\n",
    "print(\"\\n Classification report ADABOOST FINAL \\n\", classification_report(y_test,y_pred_test_ada_final))\n",
    "print(\"\\n Classification report GBM BASIC \\n\", classification_report(y_test,y_pred_test_gbm))\n",
    "print(\"\\n Classification report GBM FINAL \\n\", classification_report(y_test,y_pred_test_gbm_final))\n",
    "print(\"\\n Classification report XGBOOST BASIC \\n\", classification_report(y_test,y_pred_test_xgb))\n",
    "#print(\"\\n Classification report XGBOOST FINAL \\n\", classification_report(y_test,y_pred_test_xgb_final))\n",
    "print(\"\\n Classification report BAGGING \\n\", classification_report(y_test,y_pred_test_bag))\n",
    "print(\"\\n Classification report BALANCED BAGING \\n\", classification_report(y_test,y_pred_test_bbc))\n",
    "print(\"\\n Classification report ADAMOOST & SMOTE \\n\", classification_report(y_test,y_pred_test_ada_smote))"
   ]
  },
  {
   "cell_type": "code",
   "execution_count": null,
   "metadata": {},
   "outputs": [],
   "source": []
  }
 ],
 "metadata": {
  "kernelspec": {
   "display_name": "Python 3",
   "language": "python",
   "name": "python3"
  },
  "language_info": {
   "codemirror_mode": {
    "name": "ipython",
    "version": 3
   },
   "file_extension": ".py",
   "mimetype": "text/x-python",
   "name": "python",
   "nbconvert_exporter": "python",
   "pygments_lexer": "ipython3",
   "version": "3.6.5"
  }
 },
 "nbformat": 4,
 "nbformat_minor": 2
}
