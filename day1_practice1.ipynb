{
 "cells": [
  {
   "cell_type": "markdown",
   "metadata": {},
   "source": [
    "the cell below is a library"
   ]
  },
  {
   "cell_type": "markdown",
   "metadata": {},
   "source": [
    "BRIEF INTRODUCTION ON  LIBRARY \"OS\""
   ]
  },
  {
   "cell_type": "markdown",
   "metadata": {},
   "source": [
    "<br >"
   ]
  },
  {
   "cell_type": "code",
   "execution_count": 1,
   "metadata": {},
   "outputs": [],
   "source": [
    "import os"
   ]
  },
  {
   "cell_type": "code",
   "execution_count": 2,
   "metadata": {},
   "outputs": [
    {
     "data": {
      "text/plain": [
       "'C:\\\\Users\\\\Prashanth Yerabati'"
      ]
     },
     "execution_count": 2,
     "metadata": {},
     "output_type": "execute_result"
    }
   ],
   "source": [
    "os.getcwd()"
   ]
  },
  {
   "cell_type": "code",
   "execution_count": 4,
   "metadata": {},
   "outputs": [
    {
     "data": {
      "text/plain": [
       "'C:\\\\Users\\\\Prashanth Yerabati'"
      ]
     },
     "execution_count": 4,
     "metadata": {},
     "output_type": "execute_result"
    }
   ],
   "source": [
    "os.getcwd()"
   ]
  },
  {
   "cell_type": "code",
   "execution_count": 6,
   "metadata": {},
   "outputs": [],
   "source": [
    "os.chdir('C:\\\\Users\\\\Prashanth Yerabati\\\\python_work')"
   ]
  },
  {
   "cell_type": "code",
   "execution_count": 7,
   "metadata": {},
   "outputs": [
    {
     "data": {
      "text/plain": [
       "'C:\\\\Users\\\\Prashanth Yerabati\\\\python_work'"
      ]
     },
     "execution_count": 7,
     "metadata": {},
     "output_type": "execute_result"
    }
   ],
   "source": [
    " os.getcwd()"
   ]
  },
  {
   "cell_type": "code",
   "execution_count": 5,
   "metadata": {},
   "outputs": [
    {
     "data": {
      "text/plain": [
       "'C:\\\\Users\\\\Prashanth Yerabati'"
      ]
     },
     "execution_count": 5,
     "metadata": {},
     "output_type": "execute_result"
    }
   ],
   "source": [
    "os.getcwd()"
   ]
  },
  {
   "cell_type": "code",
   "execution_count": 6,
   "metadata": {},
   "outputs": [],
   "source": [
    "os.mkdir('C:\\\\Users\\\\Prashanth Yerabati\\\\test1')"
   ]
  },
  {
   "cell_type": "code",
   "execution_count": 8,
   "metadata": {},
   "outputs": [
    {
     "data": {
      "text/plain": [
       "['.anaconda',\n",
       " '.conda',\n",
       " '.condarc',\n",
       " '.dotnet',\n",
       " '.ipynb_checkpoints',\n",
       " '.ipython',\n",
       " '.jupyter',\n",
       " '.matplotlib',\n",
       " '.VirtualBox',\n",
       " '2016-01-20-02-57-55.014-VirtualBox.exe-5992.log',\n",
       " '2016-01-28-23-11-36.050-VirtualBox.exe-10108.log',\n",
       " '3D Objects',\n",
       " 'AppData',\n",
       " 'Application Data',\n",
       " 'Contacts',\n",
       " 'Cookies',\n",
       " 'day1_lab1.ipynb',\n",
       " 'day1_practice1.ipynb',\n",
       " 'Desktop',\n",
       " 'Documents',\n",
       " 'Downloads',\n",
       " 'DS_Python',\n",
       " 'Favorites',\n",
       " 'iCloudDrive',\n",
       " 'Links',\n",
       " 'Local Settings',\n",
       " 'MicrosoftEdgeBackups',\n",
       " 'Music',\n",
       " 'My Documents',\n",
       " 'NetHood',\n",
       " 'NTUSER.DAT',\n",
       " 'ntuser.dat.LOG1',\n",
       " 'ntuser.dat.LOG2',\n",
       " 'NTUSER.DAT{90c996d5-62fa-11e8-9ce2-002713f3218a}.TM.blf',\n",
       " 'NTUSER.DAT{90c996d5-62fa-11e8-9ce2-002713f3218a}.TMContainer00000000000000000001.regtrans-ms',\n",
       " 'NTUSER.DAT{90c996d5-62fa-11e8-9ce2-002713f3218a}.TMContainer00000000000000000002.regtrans-ms',\n",
       " 'ntuser.ini',\n",
       " 'OneDrive',\n",
       " 'Pictures',\n",
       " 'PrintHood',\n",
       " 'python_work',\n",
       " 'python_work.ipynb',\n",
       " 'Recent',\n",
       " 'Saved Games',\n",
       " 'Searches',\n",
       " 'SendTo',\n",
       " 'source',\n",
       " 'Start Menu',\n",
       " 'Templates',\n",
       " 'test.py.ipynb',\n",
       " 'test1',\n",
       " 'Tracing',\n",
       " 'Videos',\n",
       " 'VirtualBox VMs']"
      ]
     },
     "execution_count": 8,
     "metadata": {},
     "output_type": "execute_result"
    }
   ],
   "source": [
    "os.listdir('C:\\\\Users\\\\Prashanth Yerabati')"
   ]
  },
  {
   "cell_type": "code",
   "execution_count": 12,
   "metadata": {},
   "outputs": [
    {
     "name": "stdout",
     "output_type": "stream",
     "text": [
      "10.5\n",
      "<class 'float'>\n"
     ]
    }
   ],
   "source": [
    "x = 10.5\n",
    "print(x)\n",
    "print(type(x))"
   ]
  },
  {
   "cell_type": "code",
   "execution_count": 10,
   "metadata": {},
   "outputs": [
    {
     "name": "stdout",
     "output_type": "stream",
     "text": [
      "hello world\n",
      "<class 'str'>\n"
     ]
    }
   ],
   "source": [
    "y = \"hello world\"\n",
    "print(y)\n",
    "print(type(y))"
   ]
  },
  {
   "cell_type": "code",
   "execution_count": 13,
   "metadata": {},
   "outputs": [
    {
     "name": "stdout",
     "output_type": "stream",
     "text": [
      "30.5\n"
     ]
    }
   ],
   "source": [
    "z = 20\n",
    "print(x+z)"
   ]
  },
  {
   "cell_type": "markdown",
   "metadata": {},
   "source": [
    "LISTS"
   ]
  },
  {
   "cell_type": "code",
   "execution_count": 14,
   "metadata": {},
   "outputs": [
    {
     "name": "stdout",
     "output_type": "stream",
     "text": [
      "[1, 2, 3, 4, 5]\n",
      "<class 'list'>\n"
     ]
    }
   ],
   "source": [
    "list1 = [1, 2, 3, 4, 5]\n",
    "print(list1)\n",
    "print(type(list1))"
   ]
  },
  {
   "cell_type": "code",
   "execution_count": 15,
   "metadata": {},
   "outputs": [
    {
     "name": "stdout",
     "output_type": "stream",
     "text": [
      "[1, 2, 3, 'Hello World']\n",
      "<class 'list'>\n"
     ]
    }
   ],
   "source": [
    "list2 = [1, 2, 3, 'Hello World']\n",
    "print(list2)\n",
    "print(type(list2))"
   ]
  },
  {
   "cell_type": "markdown",
   "metadata": {},
   "source": [
    "DICTIONARY"
   ]
  },
  {
   "cell_type": "code",
   "execution_count": 17,
   "metadata": {},
   "outputs": [
    {
     "name": "stdout",
     "output_type": "stream",
     "text": [
      "Zara\n",
      "7\n",
      "First\n",
      "<class 'dict'>\n"
     ]
    }
   ],
   "source": [
    "dict1 = {'Name': 'Zara', 'Age': 7, 'Class': 'First'}\n",
    "print(dict1['Name'])\n",
    "print(dict1['Age'])\n",
    "print(dict1['Class'])\n",
    "print(type(dict1))"
   ]
  },
  {
   "cell_type": "code",
   "execution_count": 19,
   "metadata": {},
   "outputs": [
    {
     "name": "stdout",
     "output_type": "stream",
     "text": [
      "your name\n",
      "your age\n",
      "games interested\n"
     ]
    }
   ],
   "source": [
    "dict2 = {'Name': 'your name', 'Age': 'your age', 'games': 'games interested'}\n",
    "print(dict2['Name'])\n",
    "print(dict2['Age'])\n",
    "print(dict2['games'])"
   ]
  },
  {
   "cell_type": "markdown",
   "metadata": {},
   "source": [
    "PANDAS INTRODUCTION"
   ]
  },
  {
   "cell_type": "code",
   "execution_count": 22,
   "metadata": {},
   "outputs": [
    {
     "name": "stdout",
     "output_type": "stream",
     "text": [
      "Empty DataFrame\n",
      "Columns: []\n",
      "Index: []\n"
     ]
    }
   ],
   "source": [
    "import pandas as pd\n",
    "df = pd.DataFrame()\n",
    "print (df)"
   ]
  },
  {
   "cell_type": "code",
   "execution_count": 23,
   "metadata": {},
   "outputs": [
    {
     "name": "stdout",
     "output_type": "stream",
     "text": [
      "   0\n",
      "0  1\n",
      "1  2\n",
      "2  3\n",
      "3  4\n",
      "4  5\n"
     ]
    }
   ],
   "source": [
    "## Create a DataFrame with a list as input\n",
    "data = [1, 2, 3, 4, 5]\n",
    "df = pd.DataFrame(data)\n",
    "print (df)"
   ]
  },
  {
   "cell_type": "code",
   "execution_count": 26,
   "metadata": {},
   "outputs": [
    {
     "name": "stdout",
     "output_type": "stream",
     "text": [
      "     Name   Age\n",
      "0    alex  10.0\n",
      "1     Bob  12.0\n",
      "2  Clarke  13.0\n"
     ]
    }
   ],
   "source": [
    "data = [['alex', 10], ['Bob', 12], ['Clarke', 13]]\n",
    "df = pd.DataFrame(data,columns=['Name', 'Age'],dtype=float)\n",
    "print (df)"
   ]
  },
  {
   "cell_type": "markdown",
   "metadata": {},
   "source": [
    "Create a DataFrame from Dict of ndarrays/LIsts"
   ]
  },
  {
   "cell_type": "code",
   "execution_count": 32,
   "metadata": {},
   "outputs": [
    {
     "name": "stdout",
     "output_type": "stream",
     "text": [
      "      Name   Age\n",
      "0      Tom  10.0\n",
      "1  Barbara  20.0\n",
      "2     Ravi  30.0\n",
      "3    Sayta  40.0\n",
      "4     Raju  50.0\n"
     ]
    }
   ],
   "source": [
    "data = {'Name': ['Tom', 'Barbara', 'Ravi', 'Sayta', 'Raju'], 'Age': [10, 20 ,30 ,40, 50]}\n",
    "df = pd.DataFrame(data, columns=['Name', 'Age'],dtype=float)\n",
    "print(df)"
   ]
  },
  {
   "cell_type": "code",
   "execution_count": 37,
   "metadata": {},
   "outputs": [
    {
     "name": "stdout",
     "output_type": "stream",
     "text": [
      "         Name   Age\n",
      "rank1  Satish  12.0\n",
      "rank2   Satya  34.0\n",
      "rank3  Swathi  45.0\n",
      "rank4  Suresh  56.0\n"
     ]
    }
   ],
   "source": [
    "data = {'Name': ['Satish', 'Satya', 'Swathi', 'Suresh'], 'Age': [12, 34, 45, 56]}\n",
    "df = pd.DataFrame(data,columns=['Name', 'Age'],dtype=float,index=['rank1', 'rank2','rank3', 'rank4'])\n",
    "print(df)"
   ]
  },
  {
   "cell_type": "markdown",
   "metadata": {},
   "source": [
    "Create Dataframe from List of Dicts"
   ]
  },
  {
   "cell_type": "code",
   "execution_count": 39,
   "metadata": {},
   "outputs": [
    {
     "name": "stdout",
     "output_type": "stream",
     "text": [
      "        a    b    c\n",
      "row1  1.0  2.0  NaN\n",
      "row2  3.0  4.0  5.0\n"
     ]
    }
   ],
   "source": [
    "data = [{'a': 1, 'b': 2}, {'a': 3, 'b': 4, 'c': 5}]\n",
    "df = pd.DataFrame(data, index = ['row1','row2'],dtype=float)\n",
    "print(df)"
   ]
  },
  {
   "cell_type": "markdown",
   "metadata": {},
   "source": [
    "Activity"
   ]
  },
  {
   "cell_type": "code",
   "execution_count": 48,
   "metadata": {},
   "outputs": [
    {
     "name": "stdout",
     "output_type": "stream",
     "text": [
      "   age animal priority  values\n",
      "a  2.5    cat      yes       1\n",
      "b  3.0    cat      yes       2\n",
      "c  0.5  snake       no       3\n",
      "d  NaN    dog       no       2\n",
      "e  2.5    dog      yes       1\n",
      "f  2.5    cat      yes       3\n",
      "g  2.5  snake       no       2\n",
      "h  NaN    cat       no       1\n"
     ]
    }
   ],
   "source": [
    "### Write a code to get the output as displayed belo\n",
    "data = [{'age': 2.5, 'animal': 'cat', 'priority': 'yes', 'values': 1}, \n",
    "        {'age': 3, 'animal': 'cat', 'priority': 'yes', 'values': 2},\n",
    "        {'age': 0.5, 'animal': 'snake', 'priority': 'no', 'values':3}, \n",
    "        {'animal': 'dog', 'priority': 'no', 'values': 2},\n",
    "        {'age': 2.5, 'animal': 'dog', 'priority': 'yes', 'values': 1},\n",
    "        {'age': 2.5, 'animal': 'cat', 'priority': 'yes', 'values': 3},\n",
    "        {'age': 2.5, 'animal': 'snake', 'priority': 'no', 'values': 2},\n",
    "        {'animal': 'cat', 'priority': 'no', 'values': 1}] \n",
    "df = pd.DataFrame(data, index=['a','b','c','d','e','f','g','h'])\n",
    "print(df)"
   ]
  },
  {
   "cell_type": "markdown",
   "metadata": {},
   "source": [
    "Lets Start Working with Dataset"
   ]
  },
  {
   "cell_type": "code",
   "execution_count": 53,
   "metadata": {},
   "outputs": [
    {
     "data": {
      "text/plain": [
       "'C:\\\\Users\\\\Prashanth Yerabati'"
      ]
     },
     "execution_count": 53,
     "metadata": {},
     "output_type": "execute_result"
    }
   ],
   "source": [
    "os.getcwd()\n"
   ]
  },
  {
   "cell_type": "code",
   "execution_count": 55,
   "metadata": {},
   "outputs": [],
   "source": [
    "ipl = pd.read_csv('matches2008-2016.csv')\n",
    "ipl_new = pd.read_csv('matches2017.csv')"
   ]
  },
  {
   "cell_type": "code",
   "execution_count": 56,
   "metadata": {},
   "outputs": [
    {
     "data": {
      "text/html": [
       "<div>\n",
       "<style scoped>\n",
       "    .dataframe tbody tr th:only-of-type {\n",
       "        vertical-align: middle;\n",
       "    }\n",
       "\n",
       "    .dataframe tbody tr th {\n",
       "        vertical-align: top;\n",
       "    }\n",
       "\n",
       "    .dataframe thead th {\n",
       "        text-align: right;\n",
       "    }\n",
       "</style>\n",
       "<table border=\"1\" class=\"dataframe\">\n",
       "  <thead>\n",
       "    <tr style=\"text-align: right;\">\n",
       "      <th></th>\n",
       "      <th>match_id</th>\n",
       "      <th>season</th>\n",
       "      <th>city</th>\n",
       "      <th>date</th>\n",
       "      <th>team1_id</th>\n",
       "      <th>team2_id</th>\n",
       "      <th>toss_winner</th>\n",
       "      <th>toss_decision</th>\n",
       "      <th>result</th>\n",
       "      <th>dl_applied</th>\n",
       "      <th>winner</th>\n",
       "      <th>win_by_runs</th>\n",
       "      <th>win_by_wickets</th>\n",
       "      <th>player_of_match</th>\n",
       "      <th>player_of_match_id</th>\n",
       "      <th>venue</th>\n",
       "      <th>venue_id</th>\n",
       "      <th>umpire1</th>\n",
       "      <th>umpire2</th>\n",
       "    </tr>\n",
       "  </thead>\n",
       "  <tbody>\n",
       "    <tr>\n",
       "      <th>0</th>\n",
       "      <td>2008_1</td>\n",
       "      <td>2008</td>\n",
       "      <td>Bangalore</td>\n",
       "      <td>18-04-2008</td>\n",
       "      <td>KKR</td>\n",
       "      <td>RCB</td>\n",
       "      <td>RCB</td>\n",
       "      <td>field</td>\n",
       "      <td>normal</td>\n",
       "      <td>0</td>\n",
       "      <td>KKR</td>\n",
       "      <td>140</td>\n",
       "      <td>0</td>\n",
       "      <td>Brendon McCullum</td>\n",
       "      <td>82.0</td>\n",
       "      <td>M.Chinnaswamy Stadium Bengaluru, Karnataka</td>\n",
       "      <td>7</td>\n",
       "      <td>Asad Rauf</td>\n",
       "      <td>RE Koertzen</td>\n",
       "    </tr>\n",
       "    <tr>\n",
       "      <th>1</th>\n",
       "      <td>2008_2</td>\n",
       "      <td>2008</td>\n",
       "      <td>Chandigarh</td>\n",
       "      <td>19-04-2008</td>\n",
       "      <td>CSK</td>\n",
       "      <td>KXI</td>\n",
       "      <td>CSK</td>\n",
       "      <td>bat</td>\n",
       "      <td>normal</td>\n",
       "      <td>0</td>\n",
       "      <td>CSK</td>\n",
       "      <td>33</td>\n",
       "      <td>0</td>\n",
       "      <td>Michael Hussey</td>\n",
       "      <td>18.0</td>\n",
       "      <td>I.S. Bindra Punjab Cricket Association Stadium...</td>\n",
       "      <td>9</td>\n",
       "      <td>MR Benson</td>\n",
       "      <td>SL Shastri</td>\n",
       "    </tr>\n",
       "    <tr>\n",
       "      <th>2</th>\n",
       "      <td>2008_3</td>\n",
       "      <td>2008</td>\n",
       "      <td>Delhi</td>\n",
       "      <td>19-04-2008</td>\n",
       "      <td>RR</td>\n",
       "      <td>DD</td>\n",
       "      <td>RR</td>\n",
       "      <td>bat</td>\n",
       "      <td>normal</td>\n",
       "      <td>0</td>\n",
       "      <td>DD</td>\n",
       "      <td>0</td>\n",
       "      <td>9</td>\n",
       "      <td>Farveez Maharoof</td>\n",
       "      <td>60.0</td>\n",
       "      <td>Feroz Shah Kotla Stadium, Delhi</td>\n",
       "      <td>2</td>\n",
       "      <td>Aleem Dar</td>\n",
       "      <td>GA Pratapkumar</td>\n",
       "    </tr>\n",
       "    <tr>\n",
       "      <th>3</th>\n",
       "      <td>2008_4</td>\n",
       "      <td>2008</td>\n",
       "      <td>Mumbai</td>\n",
       "      <td>20-04-2008</td>\n",
       "      <td>MI</td>\n",
       "      <td>RCB</td>\n",
       "      <td>MI</td>\n",
       "      <td>bat</td>\n",
       "      <td>normal</td>\n",
       "      <td>0</td>\n",
       "      <td>RCB</td>\n",
       "      <td>0</td>\n",
       "      <td>5</td>\n",
       "      <td>Mark Boucher</td>\n",
       "      <td>145.0</td>\n",
       "      <td>Wankhede Stadium, Mumbai, Maharashtra</td>\n",
       "      <td>1</td>\n",
       "      <td>SJ Davis</td>\n",
       "      <td>DJ Harper</td>\n",
       "    </tr>\n",
       "    <tr>\n",
       "      <th>4</th>\n",
       "      <td>2008_5</td>\n",
       "      <td>2008</td>\n",
       "      <td>Kolkata</td>\n",
       "      <td>20-04-2008</td>\n",
       "      <td>DC</td>\n",
       "      <td>KKR</td>\n",
       "      <td>DC</td>\n",
       "      <td>bat</td>\n",
       "      <td>normal</td>\n",
       "      <td>0</td>\n",
       "      <td>KKR</td>\n",
       "      <td>0</td>\n",
       "      <td>5</td>\n",
       "      <td>David Hussey</td>\n",
       "      <td>80.0</td>\n",
       "      <td>Eden Garden Stadium, Kolkata, West Bengal</td>\n",
       "      <td>3</td>\n",
       "      <td>BF Bowden</td>\n",
       "      <td>K Hariharan</td>\n",
       "    </tr>\n",
       "  </tbody>\n",
       "</table>\n",
       "</div>"
      ],
      "text/plain": [
       "  match_id  season        city        date team1_id team2_id toss_winner  \\\n",
       "0   2008_1    2008   Bangalore  18-04-2008      KKR      RCB         RCB   \n",
       "1   2008_2    2008  Chandigarh  19-04-2008      CSK      KXI         CSK   \n",
       "2   2008_3    2008       Delhi  19-04-2008       RR       DD          RR   \n",
       "3   2008_4    2008      Mumbai  20-04-2008       MI      RCB          MI   \n",
       "4   2008_5    2008     Kolkata  20-04-2008       DC      KKR          DC   \n",
       "\n",
       "  toss_decision  result  dl_applied winner  win_by_runs  win_by_wickets  \\\n",
       "0         field  normal           0    KKR          140               0   \n",
       "1           bat  normal           0    CSK           33               0   \n",
       "2           bat  normal           0     DD            0               9   \n",
       "3           bat  normal           0    RCB            0               5   \n",
       "4           bat  normal           0    KKR            0               5   \n",
       "\n",
       "    player_of_match  player_of_match_id  \\\n",
       "0  Brendon McCullum                82.0   \n",
       "1    Michael Hussey                18.0   \n",
       "2  Farveez Maharoof                60.0   \n",
       "3      Mark Boucher               145.0   \n",
       "4      David Hussey                80.0   \n",
       "\n",
       "                                               venue  venue_id    umpire1  \\\n",
       "0         M.Chinnaswamy Stadium Bengaluru, Karnataka         7  Asad Rauf   \n",
       "1  I.S. Bindra Punjab Cricket Association Stadium...         9  MR Benson   \n",
       "2                    Feroz Shah Kotla Stadium, Delhi         2  Aleem Dar   \n",
       "3              Wankhede Stadium, Mumbai, Maharashtra         1   SJ Davis   \n",
       "4          Eden Garden Stadium, Kolkata, West Bengal         3  BF Bowden   \n",
       "\n",
       "          umpire2  \n",
       "0     RE Koertzen  \n",
       "1      SL Shastri  \n",
       "2  GA Pratapkumar  \n",
       "3       DJ Harper  \n",
       "4     K Hariharan  "
      ]
     },
     "execution_count": 56,
     "metadata": {},
     "output_type": "execute_result"
    }
   ],
   "source": [
    "ipl.head()"
   ]
  },
  {
   "cell_type": "markdown",
   "metadata": {},
   "source": [
    "Checking Data Diminesions"
   ]
  },
  {
   "cell_type": "code",
   "execution_count": 57,
   "metadata": {},
   "outputs": [
    {
     "name": "stdout",
     "output_type": "stream",
     "text": [
      "(577, 19)\n",
      "(59, 19)\n"
     ]
    }
   ],
   "source": [
    "print(ipl.shape)\n",
    "print(ipl_new.shape)"
   ]
  },
  {
   "cell_type": "code",
   "execution_count": 58,
   "metadata": {},
   "outputs": [],
   "source": [
    "ipl_final = ipl.copy()\n",
    "ipl_final = ipl_final.append(ipl_new)"
   ]
  },
  {
   "cell_type": "code",
   "execution_count": 59,
   "metadata": {},
   "outputs": [
    {
     "name": "stdout",
     "output_type": "stream",
     "text": [
      "(636, 19)\n"
     ]
    }
   ],
   "source": [
    "print(ipl_final.shape)"
   ]
  },
  {
   "cell_type": "code",
   "execution_count": 60,
   "metadata": {},
   "outputs": [
    {
     "name": "stdout",
     "output_type": "stream",
     "text": [
      "<bound method NDFrame.head of    match_id  season        city        date team1_id team2_id toss_winner  \\\n",
      "0    2008_1    2008   Bangalore  18-04-2008      KKR      RCB         RCB   \n",
      "1    2008_2    2008  Chandigarh  19-04-2008      CSK      KXI         CSK   \n",
      "2    2008_3    2008       Delhi  19-04-2008       RR       DD          RR   \n",
      "3    2008_4    2008      Mumbai  20-04-2008       MI      RCB          MI   \n",
      "4    2008_5    2008     Kolkata  20-04-2008       DC      KKR          DC   \n",
      "5    2008_6    2008      Jaipur  21-04-2008      KXI       RR         KXI   \n",
      "6    2008_7    2008   Hyderabad  22-04-2008       DC       DD          DC   \n",
      "7    2008_8    2008     Chennai  23-04-2008      CSK       MI          MI   \n",
      "8    2008_9    2008   Hyderabad  24-04-2008       DC       RR          RR   \n",
      "9   2008_10    2008  Chandigarh  25-04-2008      KXI       MI          MI   \n",
      "10  2008_11    2008   Bangalore  26-04-2008      RCB       RR          RR   \n",
      "11  2008_12    2008     Chennai  26-04-2008      KKR      CSK         KKR   \n",
      "12  2008_13    2008      Mumbai  27-04-2008       MI       DC          DC   \n",
      "13  2008_14    2008  Chandigarh  27-04-2008       DD      KXI          DD   \n",
      "14  2008_15    2008   Bangalore  28-04-2008      CSK      RCB         CSK   \n",
      "15  2008_16    2008     Kolkata  29-04-2008      KKR       MI         KKR   \n",
      "16  2008_17    2008       Delhi  30-04-2008       DD      RCB         RCB   \n",
      "17  2008_18    2008   Hyderabad  01-05-2008       DC      KXI         KXI   \n",
      "18  2008_19    2008      Jaipur  01-05-2008       RR      KKR          RR   \n",
      "19  2008_20    2008     Chennai  02-05-2008      CSK       DD         CSK   \n",
      "20  2008_21    2008   Hyderabad  25-05-2008       DC      RCB          DC   \n",
      "21  2008_22    2008  Chandigarh  03-05-2008      KXI      KKR         KXI   \n",
      "22  2008_23    2008      Mumbai  04-05-2008       MI       DD          DD   \n",
      "23  2008_24    2008      Jaipur  04-05-2008      CSK       RR         CSK   \n",
      "24  2008_25    2008   Bangalore  05-05-2008      RCB      KXI         KXI   \n",
      "25  2008_26    2008     Chennai  06-05-2008      CSK       DC          DC   \n",
      "26  2008_27    2008      Mumbai  07-05-2008       RR       MI          MI   \n",
      "27  2008_28    2008       Delhi  08-05-2008       DD      CSK         CSK   \n",
      "28  2008_29    2008     Kolkata  08-05-2008      KKR      RCB         KKR   \n",
      "29  2008_30    2008      Jaipur  09-05-2008       DC       RR          RR   \n",
      "..      ...     ...         ...         ...      ...      ...         ...   \n",
      "29  2017_30    2017   Bangalore  27-04-2017      RCB       GL          GL   \n",
      "30  2017_31    2017     Kolkata  28-04-2017       DD      KKR         KKR   \n",
      "31  2017_32    2017  Chandigarh  28-04-2017      SRH      KXI         KXI   \n",
      "32  2017_33    2017        Pune  29-04-2017      RPS      RCB         RCB   \n",
      "33  2017_34    2017      Rajkot  29-04-2017       GL       MI          GL   \n",
      "34  2017_35    2017  Chandigarh  30-04-2017       DD      KXI         KXI   \n",
      "35  2017_36    2017   Hyderabad  30-04-2017      SRH      KKR         KKR   \n",
      "36  2017_37    2017      Mumbai  01-05-2017      RCB       MI         RCB   \n",
      "37  2017_38    2017        Pune  01-05-2017       GL      RPS         RPS   \n",
      "38  2017_39    2017       Delhi  02-05-2017      SRH       DD          DD   \n",
      "39  2017_40    2017     Kolkata  03-05-2017      KKR      RPS         RPS   \n",
      "40  2017_41    2017       Delhi  04-05-2017       GL       DD          DD   \n",
      "41  2017_42    2017   Bangalore  05-05-2017      KXI      RCB         RCB   \n",
      "42  2017_43    2017   Hyderabad  06-05-2017      RPS      SRH         SRH   \n",
      "43  2017_44    2017       Delhi  06-05-2017       MI       DD          DD   \n",
      "44  2017_45    2017   Bangalore  07-05-2017      RCB      KKR         KKR   \n",
      "45  2017_46    2017  Chandigarh  07-05-2017      KXI       GL          GL   \n",
      "46  2017_47    2017   Hyderabad  08-05-2017       MI      SRH          MI   \n",
      "47  2017_48    2017  Chandigarh  09-05-2017      KXI      KKR         KKR   \n",
      "48  2017_49    2017      Kanpur  10-05-2017       GL       DD          DD   \n",
      "49  2017_50    2017      Mumbai  11-05-2017      KXI       MI          MI   \n",
      "50  2017_51    2017       Delhi  12-05-2017       DD      RPS          DD   \n",
      "51  2017_52    2017      Kanpur  13-05-2017       GL      SRH         SRH   \n",
      "52  2017_53    2017     Kolkata  13-05-2017       MI      KKR         KKR   \n",
      "53  2017_54    2017        Pune  14-05-2017      KXI      RPS         RPS   \n",
      "54  2017_55    2017       Delhi  14-05-2017      RCB       DD         RCB   \n",
      "55  2017_56    2017      Mumbai  16-05-2017      RPS       MI          MI   \n",
      "56  2017_57    2017   Bangalore  17-05-2017      SRH      KKR         KKR   \n",
      "57  2017_58    2017   Bangalore  19-05-2017      KKR       MI          MI   \n",
      "58  2017_59    2017   Hyderabad  21-05-2017       MI      RPS          MI   \n",
      "\n",
      "   toss_decision  result  dl_applied winner  win_by_runs  win_by_wickets  \\\n",
      "0          field  normal           0    KKR          140               0   \n",
      "1            bat  normal           0    CSK           33               0   \n",
      "2            bat  normal           0     DD            0               9   \n",
      "3            bat  normal           0    RCB            0               5   \n",
      "4            bat  normal           0    KKR            0               5   \n",
      "5            bat  normal           0     RR            0               6   \n",
      "6            bat  normal           0     DD            0               9   \n",
      "7          field  normal           0    CSK            6               0   \n",
      "8          field  normal           0     RR            0               3   \n",
      "9          field  normal           0    KXI           66               0   \n",
      "10         field  normal           0     RR            0               7   \n",
      "11           bat  normal           0    CSK            0               9   \n",
      "12         field  normal           0     DC            0              10   \n",
      "13           bat  normal           0    KXI            0               4   \n",
      "14           bat  normal           0    CSK           13               0   \n",
      "15           bat  normal           0     MI            0               7   \n",
      "16         field  normal           0     DD           10               0   \n",
      "17         field  normal           0    KXI            0               7   \n",
      "18           bat  normal           0     RR           45               0   \n",
      "19           bat  normal           0     DD            0               8   \n",
      "20           bat  normal           0    RCB            0               5   \n",
      "21           bat  normal           0    KXI            9               0   \n",
      "22         field  normal           0     MI           29               0   \n",
      "23           bat  normal           0     RR            0               8   \n",
      "24         field  normal           0    KXI            0               6   \n",
      "25         field  normal           0     DC            0               7   \n",
      "26         field  normal           0     MI            0               7   \n",
      "27         field  normal           0    CSK            0               4   \n",
      "28           bat  normal           0    KKR            5               0   \n",
      "29         field  normal           0     RR            0               8   \n",
      "..           ...     ...         ...    ...          ...             ...   \n",
      "29         field  normal           0     GL            0               7   \n",
      "30         field  normal           0    KKR            0               7   \n",
      "31         field  normal           0    SRH           26               0   \n",
      "32         field  normal           0    RPS           61               0   \n",
      "33           bat     tie           0     MI            0               0   \n",
      "34         field  normal           0    KXI            0              10   \n",
      "35         field  normal           0    SRH           48               0   \n",
      "36           bat  normal           0     MI            0               5   \n",
      "37         field  normal           0    RPS            0               5   \n",
      "38         field  normal           0     DD            0               6   \n",
      "39         field  normal           0    RPS            0               4   \n",
      "40         field  normal           0     DD            0               7   \n",
      "41         field  normal           0    KXI           19               0   \n",
      "42         field  normal           0    RPS           12               0   \n",
      "43         field  normal           0     MI          146               0   \n",
      "44         field  normal           0    KKR            0               6   \n",
      "45         field  normal           0     GL            0               6   \n",
      "46           bat  normal           0    SRH            0               7   \n",
      "47         field  normal           0    KXI           14               0   \n",
      "48         field  normal           0     DD            0               2   \n",
      "49         field  normal           0    KXI            7               0   \n",
      "50           bat  normal           0     DD            7               0   \n",
      "51         field  normal           0    SRH            0               8   \n",
      "52         field  normal           0     MI            9               0   \n",
      "53         field  normal           0    RPS            0               9   \n",
      "54           bat  normal           0    RCB           10               0   \n",
      "55         field  normal           0    RPS           20               0   \n",
      "56         field  normal           1    KKR            0               7   \n",
      "57         field  normal           0     MI            0               6   \n",
      "58           bat  normal           0     MI            1               0   \n",
      "\n",
      "         player_of_match  player_of_match_id  \\\n",
      "0       Brendon McCullum                82.0   \n",
      "1         Michael Hussey                18.0   \n",
      "2       Farveez Maharoof                60.0   \n",
      "3           Mark Boucher               145.0   \n",
      "4           David Hussey                80.0   \n",
      "5           Shane Watson               175.0   \n",
      "6        Virender Sehwag                46.0   \n",
      "7         Matthew Hayden                 6.0   \n",
      "8           Yusuf Pathan               171.0   \n",
      "9       Kumar Sangakkara                98.0   \n",
      "10          Shane Watson               175.0   \n",
      "11            Jacob Oram                23.0   \n",
      "12        Adam Gilchrist                28.0   \n",
      "13          Simon Katich               105.0   \n",
      "14  Mahendra Singh Dhoni                 1.0   \n",
      "15     Sanath Jayasuriya               117.0   \n",
      "16         Glenn McGrath                50.0   \n",
      "17           Shaun Marsh               106.0   \n",
      "18      Swapnil Asnodkar               166.0   \n",
      "19       Virender Sehwag                46.0   \n",
      "20           Vinay Kumar               153.0   \n",
      "21          Irfan Pathan                96.0   \n",
      "22         Shaun Pollock               121.0   \n",
      "23         Sohail Tanvir               174.0   \n",
      "24           S Sreesanth               100.0   \n",
      "25        Adam Gilchrist                28.0   \n",
      "26          Ashish Nehra               119.0   \n",
      "27  Mahendra Singh Dhoni                 1.0   \n",
      "28        Sourav Ganguly                66.0   \n",
      "29          Yusuf Pathan               171.0   \n",
      "..                   ...                 ...   \n",
      "29            Andrew Tye               535.0   \n",
      "30        Gautam Gambhir                58.0   \n",
      "31           Rashid Khan               634.0   \n",
      "32       Lockie Ferguson               627.0   \n",
      "33         Krunal Pandya               582.0   \n",
      "34        Sandeep Sharma               479.0   \n",
      "35          David Warner               207.0   \n",
      "36          Rohit Sharma                30.0   \n",
      "37            Ben Stokes               625.0   \n",
      "38        Mohammed Shami               647.0   \n",
      "39        Rahul Tripathi               630.0   \n",
      "40          Rishabh Pant               572.0   \n",
      "41        Sandeep Sharma               479.0   \n",
      "42        Jaydev Unadkat               361.0   \n",
      "43         Lendl Simmons               524.0   \n",
      "44          Sunil Narine               437.0   \n",
      "45          Dwayne Smith               124.0   \n",
      "46        Shikhar Dhawan                57.0   \n",
      "47          Mohit Sharma               469.0   \n",
      "48          Shreyas Iyer               537.0   \n",
      "49       Wriddhiman Saha                84.0   \n",
      "50            Karun Nair               458.0   \n",
      "51        Mohammed Siraj               681.0   \n",
      "52         Ambati Rayudu               309.0   \n",
      "53        Jaydev Unadkat               361.0   \n",
      "54         Harshal Patel               456.0   \n",
      "55     Washington Sunder               631.0   \n",
      "56   Nathan Coulter-Nile               484.0   \n",
      "57           Karn Sharma               254.0   \n",
      "58         Krunal Pandya               582.0   \n",
      "\n",
      "                                                venue  venue_id  \\\n",
      "0          M.Chinnaswamy Stadium Bengaluru, Karnataka         7   \n",
      "1   I.S. Bindra Punjab Cricket Association Stadium...         9   \n",
      "2                     Feroz Shah Kotla Stadium, Delhi         2   \n",
      "3               Wankhede Stadium, Mumbai, Maharashtra         1   \n",
      "4           Eden Garden Stadium, Kolkata, West Bengal         3   \n",
      "5          Sawai Man Singh Stadium, Jaipur, Rajasthan         6   \n",
      "6       Rajiv Gandhi International Stadium, Hyderabad         4   \n",
      "7         M.A.Chidambaram Stadium Chennai, Tamil Nadu         5   \n",
      "8       Rajiv Gandhi International Stadium, Hyderabad         4   \n",
      "9   I.S. Bindra Punjab Cricket Association Stadium...         9   \n",
      "10         M.Chinnaswamy Stadium Bengaluru, Karnataka         7   \n",
      "11        M.A.Chidambaram Stadium Chennai, Tamil Nadu         5   \n",
      "12                         Dr DY Patil Sports Academy        10   \n",
      "13  I.S. Bindra Punjab Cricket Association Stadium...         9   \n",
      "14         M.Chinnaswamy Stadium Bengaluru, Karnataka         7   \n",
      "15          Eden Garden Stadium, Kolkata, West Bengal         3   \n",
      "16                    Feroz Shah Kotla Stadium, Delhi         2   \n",
      "17      Rajiv Gandhi International Stadium, Hyderabad         4   \n",
      "18         Sawai Man Singh Stadium, Jaipur, Rajasthan         6   \n",
      "19        M.A.Chidambaram Stadium Chennai, Tamil Nadu         5   \n",
      "20      Rajiv Gandhi International Stadium, Hyderabad         4   \n",
      "21  I.S. Bindra Punjab Cricket Association Stadium...         9   \n",
      "22                         Dr DY Patil Sports Academy        10   \n",
      "23         Sawai Man Singh Stadium, Jaipur, Rajasthan         6   \n",
      "24         M.Chinnaswamy Stadium Bengaluru, Karnataka         7   \n",
      "25        M.A.Chidambaram Stadium Chennai, Tamil Nadu         5   \n",
      "26                         Dr DY Patil Sports Academy        10   \n",
      "27                    Feroz Shah Kotla Stadium, Delhi         2   \n",
      "28          Eden Garden Stadium, Kolkata, West Bengal         3   \n",
      "29         Sawai Man Singh Stadium, Jaipur, Rajasthan         6   \n",
      "..                                                ...       ...   \n",
      "29         M.Chinnaswamy Stadium Bengaluru, Karnataka         7   \n",
      "30          Eden Garden Stadium, Kolkata, West Bengal         3   \n",
      "31  I.S. Bindra Punjab Cricket Association Stadium...         9   \n",
      "32            Maharashtra Cricket Association Stadium        32   \n",
      "33             Saurashtra Cricket Association Stadium        33   \n",
      "34  I.S. Bindra Punjab Cricket Association Stadium...         9   \n",
      "35      Rajiv Gandhi International Stadium, Hyderabad         4   \n",
      "36              Wankhede Stadium, Mumbai, Maharashtra         1   \n",
      "37            Maharashtra Cricket Association Stadium        32   \n",
      "38                    Feroz Shah Kotla Stadium, Delhi         2   \n",
      "39          Eden Garden Stadium, Kolkata, West Bengal         3   \n",
      "40                    Feroz Shah Kotla Stadium, Delhi         2   \n",
      "41         M.Chinnaswamy Stadium Bengaluru, Karnataka         7   \n",
      "42      Rajiv Gandhi International Stadium, Hyderabad         4   \n",
      "43                    Feroz Shah Kotla Stadium, Delhi         2   \n",
      "44         M.Chinnaswamy Stadium Bengaluru, Karnataka         7   \n",
      "45  I.S. Bindra Punjab Cricket Association Stadium...         9   \n",
      "46      Rajiv Gandhi International Stadium, Hyderabad         4   \n",
      "47  I.S. Bindra Punjab Cricket Association Stadium...         9   \n",
      "48                                         Green Park        34   \n",
      "49              Wankhede Stadium, Mumbai, Maharashtra         1   \n",
      "50                    Feroz Shah Kotla Stadium, Delhi         2   \n",
      "51                                         Green Park        34   \n",
      "52          Eden Garden Stadium, Kolkata, West Bengal         3   \n",
      "53            Maharashtra Cricket Association Stadium        32   \n",
      "54                    Feroz Shah Kotla Stadium, Delhi         2   \n",
      "55              Wankhede Stadium, Mumbai, Maharashtra         1   \n",
      "56         M.Chinnaswamy Stadium Bengaluru, Karnataka         7   \n",
      "57         M.Chinnaswamy Stadium Bengaluru, Karnataka         7   \n",
      "58      Rajiv Gandhi International Stadium, Hyderabad         4   \n",
      "\n",
      "                  umpire1         umpire2  \n",
      "0               Asad Rauf     RE Koertzen  \n",
      "1               MR Benson      SL Shastri  \n",
      "2               Aleem Dar  GA Pratapkumar  \n",
      "3                SJ Davis       DJ Harper  \n",
      "4               BF Bowden     K Hariharan  \n",
      "5               Aleem Dar       RB Tiffin  \n",
      "6               IL Howell       AM Saheba  \n",
      "7               DJ Harper  GA Pratapkumar  \n",
      "8               Asad Rauf       MR Benson  \n",
      "9               Aleem Dar       AM Saheba  \n",
      "10              MR Benson       IL Howell  \n",
      "11              BF Bowden  AV Jayaprakash  \n",
      "12              Asad Rauf      SL Shastri  \n",
      "13            RE Koertzen       I Shivram  \n",
      "14            BR Doctrove       RB Tiffin  \n",
      "15              BF Bowden  AV Jayaprakash  \n",
      "16              Aleem Dar       I Shivram  \n",
      "17            BR Doctrove       RB Tiffin  \n",
      "18            RE Koertzen  GA Pratapkumar  \n",
      "19              BF Bowden     K Hariharan  \n",
      "20              Asad Rauf     RE Koertzen  \n",
      "21              DJ Harper       I Shivram  \n",
      "22              IL Howell     RE Koertzen  \n",
      "23              Asad Rauf  AV Jayaprakash  \n",
      "24               SJ Davis     BR Doctrove  \n",
      "25              MR Benson       RB Tiffin  \n",
      "26              DJ Harper     RE Koertzen  \n",
      "27              Aleem Dar       RB Tiffin  \n",
      "28              Asad Rauf       IL Howell  \n",
      "29              MR Benson       AM Saheba  \n",
      "..                    ...             ...  \n",
      "29           AK Chaudhary   C Shamshuddin  \n",
      "30               NJ Llong          S Ravi  \n",
      "31            Nitin Menon       CK Nandan  \n",
      "32  KN Ananthapadmanabhan       M Erasmus  \n",
      "33           AK Chaudhary     CB Gaffaney  \n",
      "34               YC Barde       CK Nandan  \n",
      "35            AY Dandekar          S Ravi  \n",
      "36           AK Chaudhary     CB Gaffaney  \n",
      "37              M Erasmus   C Shamshuddin  \n",
      "38               YC Barde     Nitin Menon  \n",
      "39  KN Ananthapadmanabhan  A Nand Kishore  \n",
      "40              M Erasmus     Nitin Menon  \n",
      "41            CB Gaffaney   C Shamshuddin  \n",
      "42  KN Ananthapadmanabhan    AK Chaudhary  \n",
      "43            Nitin Menon       CK Nandan  \n",
      "44            AY Dandekar   C Shamshuddin  \n",
      "45         A Nand Kishore       VK Sharma  \n",
      "46  KN Ananthapadmanabhan       M Erasmus  \n",
      "47         A Nand Kishore          S Ravi  \n",
      "48               YC Barde    AK Chaudhary  \n",
      "49             A Deshmukh  A Nand Kishore  \n",
      "50  KN Ananthapadmanabhan       CK Nandan  \n",
      "51           AK Chaudhary     Nitin Menon  \n",
      "52         A Nand Kishore          S Ravi  \n",
      "53            AY Dandekar      A Deshmukh  \n",
      "54              CK Nandan   C Shamshuddin  \n",
      "55                 S Ravi   C Shamshuddin  \n",
      "56           AK Chaudhary     Nitin Menon  \n",
      "57               NJ Llong     Nitin Menon  \n",
      "58               NJ Llong          S Ravi  \n",
      "\n",
      "[636 rows x 19 columns]>\n"
     ]
    }
   ],
   "source": [
    "print(ipl_final.head)"
   ]
  },
  {
   "cell_type": "code",
   "execution_count": 61,
   "metadata": {},
   "outputs": [
    {
     "name": "stdout",
     "output_type": "stream",
     "text": [
      "<bound method NDFrame.tail of    match_id  season        city        date team1_id team2_id toss_winner  \\\n",
      "0    2008_1    2008   Bangalore  18-04-2008      KKR      RCB         RCB   \n",
      "1    2008_2    2008  Chandigarh  19-04-2008      CSK      KXI         CSK   \n",
      "2    2008_3    2008       Delhi  19-04-2008       RR       DD          RR   \n",
      "3    2008_4    2008      Mumbai  20-04-2008       MI      RCB          MI   \n",
      "4    2008_5    2008     Kolkata  20-04-2008       DC      KKR          DC   \n",
      "5    2008_6    2008      Jaipur  21-04-2008      KXI       RR         KXI   \n",
      "6    2008_7    2008   Hyderabad  22-04-2008       DC       DD          DC   \n",
      "7    2008_8    2008     Chennai  23-04-2008      CSK       MI          MI   \n",
      "8    2008_9    2008   Hyderabad  24-04-2008       DC       RR          RR   \n",
      "9   2008_10    2008  Chandigarh  25-04-2008      KXI       MI          MI   \n",
      "10  2008_11    2008   Bangalore  26-04-2008      RCB       RR          RR   \n",
      "11  2008_12    2008     Chennai  26-04-2008      KKR      CSK         KKR   \n",
      "12  2008_13    2008      Mumbai  27-04-2008       MI       DC          DC   \n",
      "13  2008_14    2008  Chandigarh  27-04-2008       DD      KXI          DD   \n",
      "14  2008_15    2008   Bangalore  28-04-2008      CSK      RCB         CSK   \n",
      "15  2008_16    2008     Kolkata  29-04-2008      KKR       MI         KKR   \n",
      "16  2008_17    2008       Delhi  30-04-2008       DD      RCB         RCB   \n",
      "17  2008_18    2008   Hyderabad  01-05-2008       DC      KXI         KXI   \n",
      "18  2008_19    2008      Jaipur  01-05-2008       RR      KKR          RR   \n",
      "19  2008_20    2008     Chennai  02-05-2008      CSK       DD         CSK   \n",
      "20  2008_21    2008   Hyderabad  25-05-2008       DC      RCB          DC   \n",
      "21  2008_22    2008  Chandigarh  03-05-2008      KXI      KKR         KXI   \n",
      "22  2008_23    2008      Mumbai  04-05-2008       MI       DD          DD   \n",
      "23  2008_24    2008      Jaipur  04-05-2008      CSK       RR         CSK   \n",
      "24  2008_25    2008   Bangalore  05-05-2008      RCB      KXI         KXI   \n",
      "25  2008_26    2008     Chennai  06-05-2008      CSK       DC          DC   \n",
      "26  2008_27    2008      Mumbai  07-05-2008       RR       MI          MI   \n",
      "27  2008_28    2008       Delhi  08-05-2008       DD      CSK         CSK   \n",
      "28  2008_29    2008     Kolkata  08-05-2008      KKR      RCB         KKR   \n",
      "29  2008_30    2008      Jaipur  09-05-2008       DC       RR          RR   \n",
      "..      ...     ...         ...         ...      ...      ...         ...   \n",
      "29  2017_30    2017   Bangalore  27-04-2017      RCB       GL          GL   \n",
      "30  2017_31    2017     Kolkata  28-04-2017       DD      KKR         KKR   \n",
      "31  2017_32    2017  Chandigarh  28-04-2017      SRH      KXI         KXI   \n",
      "32  2017_33    2017        Pune  29-04-2017      RPS      RCB         RCB   \n",
      "33  2017_34    2017      Rajkot  29-04-2017       GL       MI          GL   \n",
      "34  2017_35    2017  Chandigarh  30-04-2017       DD      KXI         KXI   \n",
      "35  2017_36    2017   Hyderabad  30-04-2017      SRH      KKR         KKR   \n",
      "36  2017_37    2017      Mumbai  01-05-2017      RCB       MI         RCB   \n",
      "37  2017_38    2017        Pune  01-05-2017       GL      RPS         RPS   \n",
      "38  2017_39    2017       Delhi  02-05-2017      SRH       DD          DD   \n",
      "39  2017_40    2017     Kolkata  03-05-2017      KKR      RPS         RPS   \n",
      "40  2017_41    2017       Delhi  04-05-2017       GL       DD          DD   \n",
      "41  2017_42    2017   Bangalore  05-05-2017      KXI      RCB         RCB   \n",
      "42  2017_43    2017   Hyderabad  06-05-2017      RPS      SRH         SRH   \n",
      "43  2017_44    2017       Delhi  06-05-2017       MI       DD          DD   \n",
      "44  2017_45    2017   Bangalore  07-05-2017      RCB      KKR         KKR   \n",
      "45  2017_46    2017  Chandigarh  07-05-2017      KXI       GL          GL   \n",
      "46  2017_47    2017   Hyderabad  08-05-2017       MI      SRH          MI   \n",
      "47  2017_48    2017  Chandigarh  09-05-2017      KXI      KKR         KKR   \n",
      "48  2017_49    2017      Kanpur  10-05-2017       GL       DD          DD   \n",
      "49  2017_50    2017      Mumbai  11-05-2017      KXI       MI          MI   \n",
      "50  2017_51    2017       Delhi  12-05-2017       DD      RPS          DD   \n",
      "51  2017_52    2017      Kanpur  13-05-2017       GL      SRH         SRH   \n",
      "52  2017_53    2017     Kolkata  13-05-2017       MI      KKR         KKR   \n",
      "53  2017_54    2017        Pune  14-05-2017      KXI      RPS         RPS   \n",
      "54  2017_55    2017       Delhi  14-05-2017      RCB       DD         RCB   \n",
      "55  2017_56    2017      Mumbai  16-05-2017      RPS       MI          MI   \n",
      "56  2017_57    2017   Bangalore  17-05-2017      SRH      KKR         KKR   \n",
      "57  2017_58    2017   Bangalore  19-05-2017      KKR       MI          MI   \n",
      "58  2017_59    2017   Hyderabad  21-05-2017       MI      RPS          MI   \n",
      "\n",
      "   toss_decision  result  dl_applied winner  win_by_runs  win_by_wickets  \\\n",
      "0          field  normal           0    KKR          140               0   \n",
      "1            bat  normal           0    CSK           33               0   \n",
      "2            bat  normal           0     DD            0               9   \n",
      "3            bat  normal           0    RCB            0               5   \n",
      "4            bat  normal           0    KKR            0               5   \n",
      "5            bat  normal           0     RR            0               6   \n",
      "6            bat  normal           0     DD            0               9   \n",
      "7          field  normal           0    CSK            6               0   \n",
      "8          field  normal           0     RR            0               3   \n",
      "9          field  normal           0    KXI           66               0   \n",
      "10         field  normal           0     RR            0               7   \n",
      "11           bat  normal           0    CSK            0               9   \n",
      "12         field  normal           0     DC            0              10   \n",
      "13           bat  normal           0    KXI            0               4   \n",
      "14           bat  normal           0    CSK           13               0   \n",
      "15           bat  normal           0     MI            0               7   \n",
      "16         field  normal           0     DD           10               0   \n",
      "17         field  normal           0    KXI            0               7   \n",
      "18           bat  normal           0     RR           45               0   \n",
      "19           bat  normal           0     DD            0               8   \n",
      "20           bat  normal           0    RCB            0               5   \n",
      "21           bat  normal           0    KXI            9               0   \n",
      "22         field  normal           0     MI           29               0   \n",
      "23           bat  normal           0     RR            0               8   \n",
      "24         field  normal           0    KXI            0               6   \n",
      "25         field  normal           0     DC            0               7   \n",
      "26         field  normal           0     MI            0               7   \n",
      "27         field  normal           0    CSK            0               4   \n",
      "28           bat  normal           0    KKR            5               0   \n",
      "29         field  normal           0     RR            0               8   \n",
      "..           ...     ...         ...    ...          ...             ...   \n",
      "29         field  normal           0     GL            0               7   \n",
      "30         field  normal           0    KKR            0               7   \n",
      "31         field  normal           0    SRH           26               0   \n",
      "32         field  normal           0    RPS           61               0   \n",
      "33           bat     tie           0     MI            0               0   \n",
      "34         field  normal           0    KXI            0              10   \n",
      "35         field  normal           0    SRH           48               0   \n",
      "36           bat  normal           0     MI            0               5   \n",
      "37         field  normal           0    RPS            0               5   \n",
      "38         field  normal           0     DD            0               6   \n",
      "39         field  normal           0    RPS            0               4   \n",
      "40         field  normal           0     DD            0               7   \n",
      "41         field  normal           0    KXI           19               0   \n",
      "42         field  normal           0    RPS           12               0   \n",
      "43         field  normal           0     MI          146               0   \n",
      "44         field  normal           0    KKR            0               6   \n",
      "45         field  normal           0     GL            0               6   \n",
      "46           bat  normal           0    SRH            0               7   \n",
      "47         field  normal           0    KXI           14               0   \n",
      "48         field  normal           0     DD            0               2   \n",
      "49         field  normal           0    KXI            7               0   \n",
      "50           bat  normal           0     DD            7               0   \n",
      "51         field  normal           0    SRH            0               8   \n",
      "52         field  normal           0     MI            9               0   \n",
      "53         field  normal           0    RPS            0               9   \n",
      "54           bat  normal           0    RCB           10               0   \n",
      "55         field  normal           0    RPS           20               0   \n",
      "56         field  normal           1    KKR            0               7   \n",
      "57         field  normal           0     MI            0               6   \n",
      "58           bat  normal           0     MI            1               0   \n",
      "\n",
      "         player_of_match  player_of_match_id  \\\n",
      "0       Brendon McCullum                82.0   \n",
      "1         Michael Hussey                18.0   \n",
      "2       Farveez Maharoof                60.0   \n",
      "3           Mark Boucher               145.0   \n",
      "4           David Hussey                80.0   \n",
      "5           Shane Watson               175.0   \n",
      "6        Virender Sehwag                46.0   \n",
      "7         Matthew Hayden                 6.0   \n",
      "8           Yusuf Pathan               171.0   \n",
      "9       Kumar Sangakkara                98.0   \n",
      "10          Shane Watson               175.0   \n",
      "11            Jacob Oram                23.0   \n",
      "12        Adam Gilchrist                28.0   \n",
      "13          Simon Katich               105.0   \n",
      "14  Mahendra Singh Dhoni                 1.0   \n",
      "15     Sanath Jayasuriya               117.0   \n",
      "16         Glenn McGrath                50.0   \n",
      "17           Shaun Marsh               106.0   \n",
      "18      Swapnil Asnodkar               166.0   \n",
      "19       Virender Sehwag                46.0   \n",
      "20           Vinay Kumar               153.0   \n",
      "21          Irfan Pathan                96.0   \n",
      "22         Shaun Pollock               121.0   \n",
      "23         Sohail Tanvir               174.0   \n",
      "24           S Sreesanth               100.0   \n",
      "25        Adam Gilchrist                28.0   \n",
      "26          Ashish Nehra               119.0   \n",
      "27  Mahendra Singh Dhoni                 1.0   \n",
      "28        Sourav Ganguly                66.0   \n",
      "29          Yusuf Pathan               171.0   \n",
      "..                   ...                 ...   \n",
      "29            Andrew Tye               535.0   \n",
      "30        Gautam Gambhir                58.0   \n",
      "31           Rashid Khan               634.0   \n",
      "32       Lockie Ferguson               627.0   \n",
      "33         Krunal Pandya               582.0   \n",
      "34        Sandeep Sharma               479.0   \n",
      "35          David Warner               207.0   \n",
      "36          Rohit Sharma                30.0   \n",
      "37            Ben Stokes               625.0   \n",
      "38        Mohammed Shami               647.0   \n",
      "39        Rahul Tripathi               630.0   \n",
      "40          Rishabh Pant               572.0   \n",
      "41        Sandeep Sharma               479.0   \n",
      "42        Jaydev Unadkat               361.0   \n",
      "43         Lendl Simmons               524.0   \n",
      "44          Sunil Narine               437.0   \n",
      "45          Dwayne Smith               124.0   \n",
      "46        Shikhar Dhawan                57.0   \n",
      "47          Mohit Sharma               469.0   \n",
      "48          Shreyas Iyer               537.0   \n",
      "49       Wriddhiman Saha                84.0   \n",
      "50            Karun Nair               458.0   \n",
      "51        Mohammed Siraj               681.0   \n",
      "52         Ambati Rayudu               309.0   \n",
      "53        Jaydev Unadkat               361.0   \n",
      "54         Harshal Patel               456.0   \n",
      "55     Washington Sunder               631.0   \n",
      "56   Nathan Coulter-Nile               484.0   \n",
      "57           Karn Sharma               254.0   \n",
      "58         Krunal Pandya               582.0   \n",
      "\n",
      "                                                venue  venue_id  \\\n",
      "0          M.Chinnaswamy Stadium Bengaluru, Karnataka         7   \n",
      "1   I.S. Bindra Punjab Cricket Association Stadium...         9   \n",
      "2                     Feroz Shah Kotla Stadium, Delhi         2   \n",
      "3               Wankhede Stadium, Mumbai, Maharashtra         1   \n",
      "4           Eden Garden Stadium, Kolkata, West Bengal         3   \n",
      "5          Sawai Man Singh Stadium, Jaipur, Rajasthan         6   \n",
      "6       Rajiv Gandhi International Stadium, Hyderabad         4   \n",
      "7         M.A.Chidambaram Stadium Chennai, Tamil Nadu         5   \n",
      "8       Rajiv Gandhi International Stadium, Hyderabad         4   \n",
      "9   I.S. Bindra Punjab Cricket Association Stadium...         9   \n",
      "10         M.Chinnaswamy Stadium Bengaluru, Karnataka         7   \n",
      "11        M.A.Chidambaram Stadium Chennai, Tamil Nadu         5   \n",
      "12                         Dr DY Patil Sports Academy        10   \n",
      "13  I.S. Bindra Punjab Cricket Association Stadium...         9   \n",
      "14         M.Chinnaswamy Stadium Bengaluru, Karnataka         7   \n",
      "15          Eden Garden Stadium, Kolkata, West Bengal         3   \n",
      "16                    Feroz Shah Kotla Stadium, Delhi         2   \n",
      "17      Rajiv Gandhi International Stadium, Hyderabad         4   \n",
      "18         Sawai Man Singh Stadium, Jaipur, Rajasthan         6   \n",
      "19        M.A.Chidambaram Stadium Chennai, Tamil Nadu         5   \n",
      "20      Rajiv Gandhi International Stadium, Hyderabad         4   \n",
      "21  I.S. Bindra Punjab Cricket Association Stadium...         9   \n",
      "22                         Dr DY Patil Sports Academy        10   \n",
      "23         Sawai Man Singh Stadium, Jaipur, Rajasthan         6   \n",
      "24         M.Chinnaswamy Stadium Bengaluru, Karnataka         7   \n",
      "25        M.A.Chidambaram Stadium Chennai, Tamil Nadu         5   \n",
      "26                         Dr DY Patil Sports Academy        10   \n",
      "27                    Feroz Shah Kotla Stadium, Delhi         2   \n",
      "28          Eden Garden Stadium, Kolkata, West Bengal         3   \n",
      "29         Sawai Man Singh Stadium, Jaipur, Rajasthan         6   \n",
      "..                                                ...       ...   \n",
      "29         M.Chinnaswamy Stadium Bengaluru, Karnataka         7   \n",
      "30          Eden Garden Stadium, Kolkata, West Bengal         3   \n",
      "31  I.S. Bindra Punjab Cricket Association Stadium...         9   \n",
      "32            Maharashtra Cricket Association Stadium        32   \n",
      "33             Saurashtra Cricket Association Stadium        33   \n",
      "34  I.S. Bindra Punjab Cricket Association Stadium...         9   \n",
      "35      Rajiv Gandhi International Stadium, Hyderabad         4   \n",
      "36              Wankhede Stadium, Mumbai, Maharashtra         1   \n",
      "37            Maharashtra Cricket Association Stadium        32   \n",
      "38                    Feroz Shah Kotla Stadium, Delhi         2   \n",
      "39          Eden Garden Stadium, Kolkata, West Bengal         3   \n",
      "40                    Feroz Shah Kotla Stadium, Delhi         2   \n",
      "41         M.Chinnaswamy Stadium Bengaluru, Karnataka         7   \n",
      "42      Rajiv Gandhi International Stadium, Hyderabad         4   \n",
      "43                    Feroz Shah Kotla Stadium, Delhi         2   \n",
      "44         M.Chinnaswamy Stadium Bengaluru, Karnataka         7   \n",
      "45  I.S. Bindra Punjab Cricket Association Stadium...         9   \n",
      "46      Rajiv Gandhi International Stadium, Hyderabad         4   \n",
      "47  I.S. Bindra Punjab Cricket Association Stadium...         9   \n",
      "48                                         Green Park        34   \n",
      "49              Wankhede Stadium, Mumbai, Maharashtra         1   \n",
      "50                    Feroz Shah Kotla Stadium, Delhi         2   \n",
      "51                                         Green Park        34   \n",
      "52          Eden Garden Stadium, Kolkata, West Bengal         3   \n",
      "53            Maharashtra Cricket Association Stadium        32   \n",
      "54                    Feroz Shah Kotla Stadium, Delhi         2   \n",
      "55              Wankhede Stadium, Mumbai, Maharashtra         1   \n",
      "56         M.Chinnaswamy Stadium Bengaluru, Karnataka         7   \n",
      "57         M.Chinnaswamy Stadium Bengaluru, Karnataka         7   \n",
      "58      Rajiv Gandhi International Stadium, Hyderabad         4   \n",
      "\n",
      "                  umpire1         umpire2  \n",
      "0               Asad Rauf     RE Koertzen  \n",
      "1               MR Benson      SL Shastri  \n",
      "2               Aleem Dar  GA Pratapkumar  \n",
      "3                SJ Davis       DJ Harper  \n",
      "4               BF Bowden     K Hariharan  \n",
      "5               Aleem Dar       RB Tiffin  \n",
      "6               IL Howell       AM Saheba  \n",
      "7               DJ Harper  GA Pratapkumar  \n",
      "8               Asad Rauf       MR Benson  \n",
      "9               Aleem Dar       AM Saheba  \n",
      "10              MR Benson       IL Howell  \n",
      "11              BF Bowden  AV Jayaprakash  \n",
      "12              Asad Rauf      SL Shastri  \n",
      "13            RE Koertzen       I Shivram  \n",
      "14            BR Doctrove       RB Tiffin  \n",
      "15              BF Bowden  AV Jayaprakash  \n",
      "16              Aleem Dar       I Shivram  \n",
      "17            BR Doctrove       RB Tiffin  \n",
      "18            RE Koertzen  GA Pratapkumar  \n",
      "19              BF Bowden     K Hariharan  \n",
      "20              Asad Rauf     RE Koertzen  \n",
      "21              DJ Harper       I Shivram  \n",
      "22              IL Howell     RE Koertzen  \n",
      "23              Asad Rauf  AV Jayaprakash  \n",
      "24               SJ Davis     BR Doctrove  \n",
      "25              MR Benson       RB Tiffin  \n",
      "26              DJ Harper     RE Koertzen  \n",
      "27              Aleem Dar       RB Tiffin  \n",
      "28              Asad Rauf       IL Howell  \n",
      "29              MR Benson       AM Saheba  \n",
      "..                    ...             ...  \n",
      "29           AK Chaudhary   C Shamshuddin  \n",
      "30               NJ Llong          S Ravi  \n",
      "31            Nitin Menon       CK Nandan  \n",
      "32  KN Ananthapadmanabhan       M Erasmus  \n",
      "33           AK Chaudhary     CB Gaffaney  \n",
      "34               YC Barde       CK Nandan  \n",
      "35            AY Dandekar          S Ravi  \n",
      "36           AK Chaudhary     CB Gaffaney  \n",
      "37              M Erasmus   C Shamshuddin  \n",
      "38               YC Barde     Nitin Menon  \n",
      "39  KN Ananthapadmanabhan  A Nand Kishore  \n",
      "40              M Erasmus     Nitin Menon  \n",
      "41            CB Gaffaney   C Shamshuddin  \n",
      "42  KN Ananthapadmanabhan    AK Chaudhary  \n",
      "43            Nitin Menon       CK Nandan  \n",
      "44            AY Dandekar   C Shamshuddin  \n",
      "45         A Nand Kishore       VK Sharma  \n",
      "46  KN Ananthapadmanabhan       M Erasmus  \n",
      "47         A Nand Kishore          S Ravi  \n",
      "48               YC Barde    AK Chaudhary  \n",
      "49             A Deshmukh  A Nand Kishore  \n",
      "50  KN Ananthapadmanabhan       CK Nandan  \n",
      "51           AK Chaudhary     Nitin Menon  \n",
      "52         A Nand Kishore          S Ravi  \n",
      "53            AY Dandekar      A Deshmukh  \n",
      "54              CK Nandan   C Shamshuddin  \n",
      "55                 S Ravi   C Shamshuddin  \n",
      "56           AK Chaudhary     Nitin Menon  \n",
      "57               NJ Llong     Nitin Menon  \n",
      "58               NJ Llong          S Ravi  \n",
      "\n",
      "[636 rows x 19 columns]>\n"
     ]
    }
   ],
   "source": [
    "print(ipl_final.tail)"
   ]
  },
  {
   "cell_type": "code",
   "execution_count": 62,
   "metadata": {},
   "outputs": [
    {
     "name": "stdout",
     "output_type": "stream",
     "text": [
      "Index(['match_id', 'season', 'city', 'date', 'team1_id', 'team2_id',\n",
      "       'toss_winner', 'toss_decision', 'result', 'dl_applied', 'winner',\n",
      "       'win_by_runs', 'win_by_wickets', 'player_of_match',\n",
      "       'player_of_match_id', 'venue', 'venue_id', 'umpire1', 'umpire2'],\n",
      "      dtype='object')\n"
     ]
    }
   ],
   "source": [
    "print(ipl_final.columns)"
   ]
  },
  {
   "cell_type": "code",
   "execution_count": 64,
   "metadata": {},
   "outputs": [
    {
     "name": "stdout",
     "output_type": "stream",
     "text": [
      "  match_id  season        city        date team1_id team2_id toss_winner  \\\n",
      "0   2008_1    2008   Bangalore  18-04-2008      KKR      RCB         RCB   \n",
      "1   2008_2    2008  Chandigarh  19-04-2008      CSK      KXI         CSK   \n",
      "2   2008_3    2008       Delhi  19-04-2008       RR       DD          RR   \n",
      "\n",
      "  toss_decision  result  dl_applied winner  win_by_runs  win_by_wickets  \\\n",
      "0         field  normal           0    KKR          140               0   \n",
      "1           bat  normal           0    CSK           33               0   \n",
      "2           bat  normal           0     DD            0               9   \n",
      "\n",
      "    player_of_match  player_of_match_id  \\\n",
      "0  Brendon McCullum                82.0   \n",
      "1    Michael Hussey                18.0   \n",
      "2  Farveez Maharoof                60.0   \n",
      "\n",
      "                                               venue  venue_id    umpire1  \\\n",
      "0         M.Chinnaswamy Stadium Bengaluru, Karnataka         7  Asad Rauf   \n",
      "1  I.S. Bindra Punjab Cricket Association Stadium...         9  MR Benson   \n",
      "2                    Feroz Shah Kotla Stadium, Delhi         2  Aleem Dar   \n",
      "\n",
      "          umpire2  \n",
      "0     RE Koertzen  \n",
      "1      SL Shastri  \n",
      "2  GA Pratapkumar  \n"
     ]
    }
   ],
   "source": [
    "print(ipl_final.head(3))"
   ]
  },
  {
   "cell_type": "code",
   "execution_count": 65,
   "metadata": {},
   "outputs": [
    {
     "name": "stdout",
     "output_type": "stream",
     "text": [
      "match_id               object\n",
      "season                  int64\n",
      "city                   object\n",
      "date                   object\n",
      "team1_id               object\n",
      "team2_id               object\n",
      "toss_winner            object\n",
      "toss_decision          object\n",
      "result                 object\n",
      "dl_applied              int64\n",
      "winner                 object\n",
      "win_by_runs             int64\n",
      "win_by_wickets          int64\n",
      "player_of_match        object\n",
      "player_of_match_id    float64\n",
      "venue                  object\n",
      "venue_id                int64\n",
      "umpire1                object\n",
      "umpire2                object\n",
      "dtype: object\n"
     ]
    }
   ],
   "source": [
    "print(ipl_final.dtypes)"
   ]
  },
  {
   "cell_type": "code",
   "execution_count": 66,
   "metadata": {},
   "outputs": [],
   "source": [
    "ipl_final['city'] = ipl_final['city'].astype('category')"
   ]
  },
  {
   "cell_type": "code",
   "execution_count": 67,
   "metadata": {},
   "outputs": [
    {
     "name": "stdout",
     "output_type": "stream",
     "text": [
      "match_id                object\n",
      "season                   int64\n",
      "city                  category\n",
      "date                    object\n",
      "team1_id                object\n",
      "team2_id                object\n",
      "toss_winner             object\n",
      "toss_decision           object\n",
      "result                  object\n",
      "dl_applied               int64\n",
      "winner                  object\n",
      "win_by_runs              int64\n",
      "win_by_wickets           int64\n",
      "player_of_match         object\n",
      "player_of_match_id     float64\n",
      "venue                   object\n",
      "venue_id                 int64\n",
      "umpire1                 object\n",
      "umpire2                 object\n",
      "dtype: object\n"
     ]
    }
   ],
   "source": [
    "print(ipl_final.dtypes)"
   ]
  },
  {
   "cell_type": "code",
   "execution_count": null,
   "metadata": {},
   "outputs": [],
   "source": []
  }
 ],
 "metadata": {
  "kernelspec": {
   "display_name": "Python 3",
   "language": "python",
   "name": "python3"
  },
  "language_info": {
   "codemirror_mode": {
    "name": "ipython",
    "version": 3
   },
   "file_extension": ".py",
   "mimetype": "text/x-python",
   "name": "python",
   "nbconvert_exporter": "python",
   "pygments_lexer": "ipython3",
   "version": "3.7.0"
  }
 },
 "nbformat": 4,
 "nbformat_minor": 2
}
