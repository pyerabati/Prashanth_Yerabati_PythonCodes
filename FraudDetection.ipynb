{
 "cells": [
  {
   "cell_type": "markdown",
   "metadata": {},
   "source": [
    "### Loading the required libraries"
   ]
  },
  {
   "cell_type": "code",
   "execution_count": 43,
   "metadata": {},
   "outputs": [],
   "source": [
    "import pandas as pd\n",
    "import numpy as np\n",
    "import matplotlib.pyplot as plt\n",
    "from pylab import rcParams\n",
    "from keras.models import Sequential\n",
    "from keras.layers import Dense, Dropout\n",
    "\n",
    "%matplotlib inline\n",
    "\n",
    "RANDOM_SEED =7124\n",
    "LABELS = [\"Normal\", \"Fraud\"]"
   ]
  },
  {
   "cell_type": "code",
   "execution_count": 44,
   "metadata": {},
   "outputs": [
    {
     "data": {
      "text/plain": [
       "(100000, 30)"
      ]
     },
     "execution_count": 44,
     "metadata": {},
     "output_type": "execute_result"
    }
   ],
   "source": [
    "# Reading the data and lookng at the structure of the data. This data has 30 attributes and 1 lakh records\n",
    "data = pd.read_csv(\"Fraud_data_amtstd.csv\")\n",
    "data.shape"
   ]
  },
  {
   "cell_type": "code",
   "execution_count": 45,
   "metadata": {},
   "outputs": [
    {
     "data": {
      "text/html": [
       "<div>\n",
       "<style scoped>\n",
       "    .dataframe tbody tr th:only-of-type {\n",
       "        vertical-align: middle;\n",
       "    }\n",
       "\n",
       "    .dataframe tbody tr th {\n",
       "        vertical-align: top;\n",
       "    }\n",
       "\n",
       "    .dataframe thead th {\n",
       "        text-align: right;\n",
       "    }\n",
       "</style>\n",
       "<table border=\"1\" class=\"dataframe\">\n",
       "  <thead>\n",
       "    <tr style=\"text-align: right;\">\n",
       "      <th></th>\n",
       "      <th>V1</th>\n",
       "      <th>V2</th>\n",
       "      <th>V3</th>\n",
       "      <th>V4</th>\n",
       "      <th>V5</th>\n",
       "      <th>V6</th>\n",
       "      <th>V7</th>\n",
       "      <th>V8</th>\n",
       "      <th>V9</th>\n",
       "      <th>V10</th>\n",
       "      <th>...</th>\n",
       "      <th>V21</th>\n",
       "      <th>V22</th>\n",
       "      <th>V23</th>\n",
       "      <th>V24</th>\n",
       "      <th>V25</th>\n",
       "      <th>V26</th>\n",
       "      <th>V27</th>\n",
       "      <th>V28</th>\n",
       "      <th>Amount</th>\n",
       "      <th>Class</th>\n",
       "    </tr>\n",
       "  </thead>\n",
       "  <tbody>\n",
       "    <tr>\n",
       "      <th>0</th>\n",
       "      <td>1.836500</td>\n",
       "      <td>-0.545419</td>\n",
       "      <td>-0.462979</td>\n",
       "      <td>0.537174</td>\n",
       "      <td>-0.426143</td>\n",
       "      <td>-0.100606</td>\n",
       "      <td>-0.584764</td>\n",
       "      <td>-0.103956</td>\n",
       "      <td>2.268429</td>\n",
       "      <td>-0.365185</td>\n",
       "      <td>...</td>\n",
       "      <td>0.085111</td>\n",
       "      <td>0.410736</td>\n",
       "      <td>0.137625</td>\n",
       "      <td>0.602906</td>\n",
       "      <td>-0.350260</td>\n",
       "      <td>0.464407</td>\n",
       "      <td>-0.070917</td>\n",
       "      <td>-0.030486</td>\n",
       "      <td>0.049882</td>\n",
       "      <td>0</td>\n",
       "    </tr>\n",
       "    <tr>\n",
       "      <th>1</th>\n",
       "      <td>-4.289880</td>\n",
       "      <td>-2.576061</td>\n",
       "      <td>-0.092256</td>\n",
       "      <td>1.976405</td>\n",
       "      <td>2.810033</td>\n",
       "      <td>-2.669128</td>\n",
       "      <td>-0.981883</td>\n",
       "      <td>-0.470310</td>\n",
       "      <td>-0.025692</td>\n",
       "      <td>0.099528</td>\n",
       "      <td>...</td>\n",
       "      <td>-0.473240</td>\n",
       "      <td>-0.307295</td>\n",
       "      <td>-2.789549</td>\n",
       "      <td>0.578976</td>\n",
       "      <td>-0.837979</td>\n",
       "      <td>0.372843</td>\n",
       "      <td>0.353451</td>\n",
       "      <td>-1.662202</td>\n",
       "      <td>-0.347171</td>\n",
       "      <td>0</td>\n",
       "    </tr>\n",
       "    <tr>\n",
       "      <th>2</th>\n",
       "      <td>1.131318</td>\n",
       "      <td>0.139818</td>\n",
       "      <td>0.586921</td>\n",
       "      <td>1.069291</td>\n",
       "      <td>-0.334908</td>\n",
       "      <td>-0.204938</td>\n",
       "      <td>-0.135526</td>\n",
       "      <td>0.043821</td>\n",
       "      <td>-0.121117</td>\n",
       "      <td>0.182139</td>\n",
       "      <td>...</td>\n",
       "      <td>-0.028126</td>\n",
       "      <td>-0.167062</td>\n",
       "      <td>-0.048054</td>\n",
       "      <td>-0.009912</td>\n",
       "      <td>0.417694</td>\n",
       "      <td>-0.479793</td>\n",
       "      <td>0.024360</td>\n",
       "      <td>0.023878</td>\n",
       "      <td>-0.208963</td>\n",
       "      <td>0</td>\n",
       "    </tr>\n",
       "    <tr>\n",
       "      <th>3</th>\n",
       "      <td>-0.866956</td>\n",
       "      <td>1.373947</td>\n",
       "      <td>1.948343</td>\n",
       "      <td>2.686750</td>\n",
       "      <td>-0.366790</td>\n",
       "      <td>0.568632</td>\n",
       "      <td>-0.278349</td>\n",
       "      <td>0.739536</td>\n",
       "      <td>-1.655955</td>\n",
       "      <td>0.708396</td>\n",
       "      <td>...</td>\n",
       "      <td>0.022719</td>\n",
       "      <td>-0.070619</td>\n",
       "      <td>-0.080307</td>\n",
       "      <td>0.000816</td>\n",
       "      <td>0.092167</td>\n",
       "      <td>0.159131</td>\n",
       "      <td>0.157940</td>\n",
       "      <td>-0.014370</td>\n",
       "      <td>-0.253595</td>\n",
       "      <td>0</td>\n",
       "    </tr>\n",
       "    <tr>\n",
       "      <th>4</th>\n",
       "      <td>-0.842670</td>\n",
       "      <td>1.401843</td>\n",
       "      <td>0.927235</td>\n",
       "      <td>1.070402</td>\n",
       "      <td>0.843883</td>\n",
       "      <td>0.467333</td>\n",
       "      <td>0.366716</td>\n",
       "      <td>0.616739</td>\n",
       "      <td>-1.586963</td>\n",
       "      <td>0.000041</td>\n",
       "      <td>...</td>\n",
       "      <td>0.036573</td>\n",
       "      <td>-0.182581</td>\n",
       "      <td>-0.226834</td>\n",
       "      <td>-1.029794</td>\n",
       "      <td>-0.118762</td>\n",
       "      <td>-0.228960</td>\n",
       "      <td>-0.024250</td>\n",
       "      <td>0.046547</td>\n",
       "      <td>-0.346230</td>\n",
       "      <td>0</td>\n",
       "    </tr>\n",
       "    <tr>\n",
       "      <th>5</th>\n",
       "      <td>1.178458</td>\n",
       "      <td>0.166055</td>\n",
       "      <td>-0.101567</td>\n",
       "      <td>0.369453</td>\n",
       "      <td>0.017198</td>\n",
       "      <td>-0.722891</td>\n",
       "      <td>0.396639</td>\n",
       "      <td>-0.187978</td>\n",
       "      <td>-0.483147</td>\n",
       "      <td>0.083094</td>\n",
       "      <td>...</td>\n",
       "      <td>-0.323048</td>\n",
       "      <td>-1.083814</td>\n",
       "      <td>0.049838</td>\n",
       "      <td>-0.002872</td>\n",
       "      <td>0.295810</td>\n",
       "      <td>0.135883</td>\n",
       "      <td>-0.074191</td>\n",
       "      <td>0.004364</td>\n",
       "      <td>-0.150527</td>\n",
       "      <td>0</td>\n",
       "    </tr>\n",
       "    <tr>\n",
       "      <th>6</th>\n",
       "      <td>1.869017</td>\n",
       "      <td>-0.202287</td>\n",
       "      <td>-0.218739</td>\n",
       "      <td>1.496434</td>\n",
       "      <td>-0.403332</td>\n",
       "      <td>-0.013593</td>\n",
       "      <td>-0.342586</td>\n",
       "      <td>0.129402</td>\n",
       "      <td>0.911017</td>\n",
       "      <td>0.149568</td>\n",
       "      <td>...</td>\n",
       "      <td>-0.458963</td>\n",
       "      <td>-1.058509</td>\n",
       "      <td>0.439679</td>\n",
       "      <td>-0.066668</td>\n",
       "      <td>-0.376792</td>\n",
       "      <td>-1.125226</td>\n",
       "      <td>0.053537</td>\n",
       "      <td>-0.039380</td>\n",
       "      <td>-0.305050</td>\n",
       "      <td>0</td>\n",
       "    </tr>\n",
       "    <tr>\n",
       "      <th>7</th>\n",
       "      <td>1.335053</td>\n",
       "      <td>0.331464</td>\n",
       "      <td>-2.057763</td>\n",
       "      <td>-0.346175</td>\n",
       "      <td>2.583234</td>\n",
       "      <td>2.854102</td>\n",
       "      <td>-0.187547</td>\n",
       "      <td>0.685154</td>\n",
       "      <td>-0.286614</td>\n",
       "      <td>-0.535903</td>\n",
       "      <td>...</td>\n",
       "      <td>-0.191820</td>\n",
       "      <td>-0.650118</td>\n",
       "      <td>-0.114069</td>\n",
       "      <td>0.915936</td>\n",
       "      <td>0.730073</td>\n",
       "      <td>0.383879</td>\n",
       "      <td>-0.031902</td>\n",
       "      <td>0.029849</td>\n",
       "      <td>-0.347171</td>\n",
       "      <td>0</td>\n",
       "    </tr>\n",
       "    <tr>\n",
       "      <th>8</th>\n",
       "      <td>1.787763</td>\n",
       "      <td>-0.737892</td>\n",
       "      <td>-0.185794</td>\n",
       "      <td>0.362758</td>\n",
       "      <td>-0.550775</td>\n",
       "      <td>0.676564</td>\n",
       "      <td>-0.932369</td>\n",
       "      <td>0.390445</td>\n",
       "      <td>1.349983</td>\n",
       "      <td>-0.136095</td>\n",
       "      <td>...</td>\n",
       "      <td>0.331025</td>\n",
       "      <td>1.223539</td>\n",
       "      <td>0.264791</td>\n",
       "      <td>-0.541170</td>\n",
       "      <td>-0.571339</td>\n",
       "      <td>0.812785</td>\n",
       "      <td>0.017984</td>\n",
       "      <td>-0.054691</td>\n",
       "      <td>-0.232691</td>\n",
       "      <td>0</td>\n",
       "    </tr>\n",
       "    <tr>\n",
       "      <th>9</th>\n",
       "      <td>-1.055540</td>\n",
       "      <td>0.942471</td>\n",
       "      <td>0.986697</td>\n",
       "      <td>1.560551</td>\n",
       "      <td>-0.138755</td>\n",
       "      <td>-0.253645</td>\n",
       "      <td>0.622974</td>\n",
       "      <td>-0.321826</td>\n",
       "      <td>-0.215914</td>\n",
       "      <td>0.816454</td>\n",
       "      <td>...</td>\n",
       "      <td>0.153985</td>\n",
       "      <td>0.985031</td>\n",
       "      <td>0.204281</td>\n",
       "      <td>0.455561</td>\n",
       "      <td>-0.456576</td>\n",
       "      <td>-0.244140</td>\n",
       "      <td>-0.833487</td>\n",
       "      <td>-0.419773</td>\n",
       "      <td>-0.173549</td>\n",
       "      <td>0</td>\n",
       "    </tr>\n",
       "  </tbody>\n",
       "</table>\n",
       "<p>10 rows × 30 columns</p>\n",
       "</div>"
      ],
      "text/plain": [
       "         V1        V2        V3        V4        V5        V6        V7  \\\n",
       "0  1.836500 -0.545419 -0.462979  0.537174 -0.426143 -0.100606 -0.584764   \n",
       "1 -4.289880 -2.576061 -0.092256  1.976405  2.810033 -2.669128 -0.981883   \n",
       "2  1.131318  0.139818  0.586921  1.069291 -0.334908 -0.204938 -0.135526   \n",
       "3 -0.866956  1.373947  1.948343  2.686750 -0.366790  0.568632 -0.278349   \n",
       "4 -0.842670  1.401843  0.927235  1.070402  0.843883  0.467333  0.366716   \n",
       "5  1.178458  0.166055 -0.101567  0.369453  0.017198 -0.722891  0.396639   \n",
       "6  1.869017 -0.202287 -0.218739  1.496434 -0.403332 -0.013593 -0.342586   \n",
       "7  1.335053  0.331464 -2.057763 -0.346175  2.583234  2.854102 -0.187547   \n",
       "8  1.787763 -0.737892 -0.185794  0.362758 -0.550775  0.676564 -0.932369   \n",
       "9 -1.055540  0.942471  0.986697  1.560551 -0.138755 -0.253645  0.622974   \n",
       "\n",
       "         V8        V9       V10  ...         V21       V22       V23  \\\n",
       "0 -0.103956  2.268429 -0.365185  ...    0.085111  0.410736  0.137625   \n",
       "1 -0.470310 -0.025692  0.099528  ...   -0.473240 -0.307295 -2.789549   \n",
       "2  0.043821 -0.121117  0.182139  ...   -0.028126 -0.167062 -0.048054   \n",
       "3  0.739536 -1.655955  0.708396  ...    0.022719 -0.070619 -0.080307   \n",
       "4  0.616739 -1.586963  0.000041  ...    0.036573 -0.182581 -0.226834   \n",
       "5 -0.187978 -0.483147  0.083094  ...   -0.323048 -1.083814  0.049838   \n",
       "6  0.129402  0.911017  0.149568  ...   -0.458963 -1.058509  0.439679   \n",
       "7  0.685154 -0.286614 -0.535903  ...   -0.191820 -0.650118 -0.114069   \n",
       "8  0.390445  1.349983 -0.136095  ...    0.331025  1.223539  0.264791   \n",
       "9 -0.321826 -0.215914  0.816454  ...    0.153985  0.985031  0.204281   \n",
       "\n",
       "        V24       V25       V26       V27       V28    Amount  Class  \n",
       "0  0.602906 -0.350260  0.464407 -0.070917 -0.030486  0.049882      0  \n",
       "1  0.578976 -0.837979  0.372843  0.353451 -1.662202 -0.347171      0  \n",
       "2 -0.009912  0.417694 -0.479793  0.024360  0.023878 -0.208963      0  \n",
       "3  0.000816  0.092167  0.159131  0.157940 -0.014370 -0.253595      0  \n",
       "4 -1.029794 -0.118762 -0.228960 -0.024250  0.046547 -0.346230      0  \n",
       "5 -0.002872  0.295810  0.135883 -0.074191  0.004364 -0.150527      0  \n",
       "6 -0.066668 -0.376792 -1.125226  0.053537 -0.039380 -0.305050      0  \n",
       "7  0.915936  0.730073  0.383879 -0.031902  0.029849 -0.347171      0  \n",
       "8 -0.541170 -0.571339  0.812785  0.017984 -0.054691 -0.232691      0  \n",
       "9  0.455561 -0.456576 -0.244140 -0.833487 -0.419773 -0.173549      0  \n",
       "\n",
       "[10 rows x 30 columns]"
      ]
     },
     "execution_count": 45,
     "metadata": {},
     "output_type": "execute_result"
    }
   ],
   "source": [
    "#Looking at a sample of records\n",
    "data.head(10)"
   ]
  },
  {
   "cell_type": "code",
   "execution_count": 46,
   "metadata": {},
   "outputs": [
    {
     "name": "stdout",
     "output_type": "stream",
     "text": [
      "0    99508\n",
      "1      492\n",
      "Name: Class, dtype: int64\n"
     ]
    },
    {
     "data": {
      "image/png": "[encoded data removed]",
      "text/plain": [
       "<Figure size 432x288 with 1 Axes>"
      ]
     },
     "metadata": {},
     "output_type": "display_data"
    }
   ],
   "source": [
    "#PLotting the frequencies of fraud and non-fraud transactions in the data\n",
    "count_classes = pd.value_counts(data['Class'], sort = True)\n",
    "print(count_classes)\n",
    "\n",
    "#Drawing a barplot\n",
    "count_classes.plot(kind = 'bar', rot=0)\n",
    "\n",
    "#Giving titles and labels to the plot\n",
    "plt.title(\"Transaction class distribution\")\n",
    "plt.xticks(range(2), LABELS)\n",
    "plt.xlabel(\"Class\")\n",
    "plt.ylabel(\"Frequency\");"
   ]
  },
  {
   "cell_type": "code",
   "execution_count": 47,
   "metadata": {},
   "outputs": [],
   "source": [
    "from sklearn.model_selection import train_test_split\n",
    "#Converting data to array\n",
    "data = np.array(data)"
   ]
  },
  {
   "cell_type": "code",
   "execution_count": 48,
   "metadata": {},
   "outputs": [
    {
     "name": "stdout",
     "output_type": "stream",
     "text": [
      "(80000, 30)\n",
      "(20000, 30)\n"
     ]
    }
   ],
   "source": [
    "#Splitting the data into train and test and observing their dimensions\n",
    "X_train, X_test = train_test_split(data, test_size=0.2, random_state=RANDOM_SEED)\n",
    "print(X_train.shape)\n",
    "print(X_test.shape)"
   ]
  },
  {
   "cell_type": "code",
   "execution_count": 49,
   "metadata": {},
   "outputs": [
    {
     "name": "stdout",
     "output_type": "stream",
     "text": [
      "(array([0., 1.]), array([79591,   409], dtype=int64))\n",
      "(array([0., 1.]), array([19917,    83], dtype=int64))\n"
     ]
    }
   ],
   "source": [
    "#Obtaining the fraud and non-fraud records in train\n",
    "print(np.unique(X_train[:,29],return_counts=True))\n",
    "print(np.unique(X_test[:,29],return_counts=True))"
   ]
  },
  {
   "cell_type": "code",
   "execution_count": 50,
   "metadata": {},
   "outputs": [
    {
     "name": "stdout",
     "output_type": "stream",
     "text": [
      "(79591, 29)\n"
     ]
    }
   ],
   "source": [
    "#Now consider only the non-fraud records for training\n",
    "X_train_NF = X_train[X_train[:,-1] == 0]\n",
    "X_train_NF = X_train_NF[:,:-1]\n",
    "print(X_train_NF.shape)"
   ]
  },
  {
   "cell_type": "code",
   "execution_count": 51,
   "metadata": {},
   "outputs": [
    {
     "name": "stdout",
     "output_type": "stream",
     "text": [
      "(409, 30)\n"
     ]
    }
   ],
   "source": [
    "#Separating out the fraud records from the train \n",
    "X_train_F = X_train[X_train[:,-1] == 1]\n",
    "print(X_train_F.shape)"
   ]
  },
  {
   "cell_type": "code",
   "execution_count": 52,
   "metadata": {},
   "outputs": [
    {
     "name": "stdout",
     "output_type": "stream",
     "text": [
      "(20409, 30)\n"
     ]
    }
   ],
   "source": [
    "#Adding/concatenating the fraud records from train data to the test\n",
    "X_test=np.concatenate((X_test,X_train_F),axis=0)\n",
    "print(X_test.shape)"
   ]
  },
  {
   "cell_type": "code",
   "execution_count": 53,
   "metadata": {},
   "outputs": [],
   "source": [
    "X_test,X_eval = train_test_split(X_test, test_size=0.2, random_state=RANDOM_SEED)"
   ]
  },
  {
   "cell_type": "code",
   "execution_count": 54,
   "metadata": {},
   "outputs": [
    {
     "name": "stdout",
     "output_type": "stream",
     "text": [
      "(16327, 30)\n",
      "(4082, 30)\n"
     ]
    }
   ],
   "source": [
    "print(X_test.shape)\n",
    "print(X_eval.shape)"
   ]
  },
  {
   "cell_type": "code",
   "execution_count": 55,
   "metadata": {},
   "outputs": [],
   "source": [
    "#Separating the independent and the class variable\n",
    "y_test = X_test[:,-1]\n",
    "X_test = X_test[:,:-1]"
   ]
  },
  {
   "cell_type": "code",
   "execution_count": 56,
   "metadata": {},
   "outputs": [
    {
     "data": {
      "text/plain": [
       "(16327, 1)"
      ]
     },
     "execution_count": 56,
     "metadata": {},
     "output_type": "execute_result"
    }
   ],
   "source": [
    "#Expanding the dimensions of y for later concatenation\n",
    "y_test = np.expand_dims(y_test, axis=1)\n",
    "y_test.shape"
   ]
  },
  {
   "cell_type": "markdown",
   "metadata": {},
   "source": [
    "## Model Building"
   ]
  },
  {
   "cell_type": "code",
   "execution_count": 57,
   "metadata": {},
   "outputs": [
    {
     "name": "stdout",
     "output_type": "stream",
     "text": [
      "(79591, 29)\n"
     ]
    }
   ],
   "source": [
    "print(X_train_NF.shape)\n",
    "input_dim = X_train_NF.shape[1]\n",
    "encoding_dim = 15"
   ]
  },
  {
   "cell_type": "code",
   "execution_count": 58,
   "metadata": {},
   "outputs": [],
   "source": [
    "autoencoder = Sequential()\n",
    "\n",
    "autoencoder.add(Dropout(0.2, input_shape=(input_dim,)))\n",
    "autoencoder.add(Dense(encoding_dim, activation='relu'))\n",
    "autoencoder.add(Dense(input_dim, activation='linear'))"
   ]
  },
  {
   "cell_type": "code",
   "execution_count": 59,
   "metadata": {},
   "outputs": [],
   "source": [
    "nb_epoch = 100\n",
    "batch_size = 32\n",
    "\n",
    "autoencoder.compile(optimizer='adam', \n",
    "                    loss='mean_squared_error', \n",
    "                    metrics=['mse'])"
   ]
  },
  {
   "cell_type": "code",
   "execution_count": null,
   "metadata": {},
   "outputs": [
    {
     "name": "stdout",
     "output_type": "stream",
     "text": [
      "Train on 55713 samples, validate on 23878 samples\n",
      "Epoch 1/1\n",
      "55713/55713 [==============================] - 27s 478us/step - loss: 0.6801 - mean_squared_error: 0.6801 - val_loss: 0.3655 - val_mean_squared_error: 0.3655\n",
      "Train on 55713 samples, validate on 23878 samples\n",
      "Epoch 1/1\n",
      "55713/55713 [==============================] - 22s 403us/step - loss: 0.4060 - mean_squared_error: 0.4060 - val_loss: 0.2559 - val_mean_squared_error: 0.2559\n",
      "Train on 55713 samples, validate on 23878 samples\n",
      "Epoch 1/1\n",
      "55713/55713 [==============================] - 26s 471us/step - loss: 0.3674 - mean_squared_error: 0.3674 - val_loss: 0.2344 - val_mean_squared_error: 0.2344A: 25s - loss: 0.3436 - mean_square - ETA: 30s - loss: 0.3390 - mean_squared_error: 0.3 - ETA: 28s - loss: 0.3390 - mean_squared_error:  - ETA: 27s - loss: 0.3376 - mean_squar - ETA: 24s - loss: 0.3394 - mean_square - ETA: 22s  - ETA: 3s - loss: 0.3674 \n",
      "Train on 55713 samples, validate on 23878 samples\n",
      "Epoch 1/1\n",
      "55713/55713 [==============================] - 31s 551us/step - loss: 0.3562 - mean_squared_error: 0.3562 - val_loss: 0.2314 - val_mean_squared_error: 0.2314\n",
      "Train on 55713 samples, validate on 23878 samples\n",
      "Epoch 1/1\n",
      "55713/55713 [==============================] - 135s 2ms/step - loss: 0.3549 - mean_squared_error: 0.3549 - val_loss: 0.2284 - val_mean_squared_error: 0.2284\n",
      "Train on 55713 samples, validate on 23878 samples\n",
      "Epoch 1/1\n",
      "55713/55713 [==============================] - 27s 489us/step - loss: 0.3511 - mean_squared_error: 0.3511 - val_loss: 0.2280 - val_mean_squared_error: 0.2280\n",
      "Train on 55713 samples, validate on 23878 samples\n",
      "Epoch 1/1\n",
      "55713/55713 [==============================] - 26s 469us/step - loss: 0.3461 - mean_squared_error: 0.3461 - val_loss: 0.2260 - val_mean_squared_error: 0.2260\n",
      "Train on 55713 samples, validate on 23878 samples\n",
      "Epoch 1/1\n",
      "55713/55713 [==============================] - 26s 461us/step - loss: 0.3452 - mean_squared_error: 0.3452 - val_loss: 0.2260 - val_mean_squared_error: 0.2260\n",
      "Train on 55713 samples, validate on 23878 samples\n",
      "Epoch 1/1\n",
      "55713/55713 [==============================] - 26s 459us/step - loss: 0.3452 - mean_squared_error: 0.3452 - val_loss: 0.2258 - val_mean_squared_error: 0.2258\n",
      "Train on 55713 samples, validate on 23878 samples\n",
      "Epoch 1/1\n",
      "55713/55713 [==============================] - 25s 455us/step - loss: 0.3475 - mean_squared_error: 0.3475 - val_loss: 0.2272 - val_mean_squared_error: 0.2272\n",
      "Train on 55713 samples, validate on 23878 samples\n",
      "Epoch 1/1\n",
      "55713/55713 [==============================] - 25s 453us/step - loss: 0.3433 - mean_squared_error: 0.3433 - val_loss: 0.2257 - val_mean_squared_error: 0.2257\n",
      "Train on 55713 samples, validate on 23878 samples\n",
      "Epoch 1/1\n",
      "55713/55713 [==============================] - 27s 476us/step - loss: 0.3425 - mean_squared_error: 0.3425 - val_loss: 0.2278 - val_mean_squared_error: 0.2278\n",
      "Train on 55713 samples, validate on 23878 samples\n",
      "Epoch 1/1\n",
      "55713/55713 [==============================] - 27s 478us/step - loss: 0.3392 - mean_squared_error: 0.3392 - val_loss: 0.2260 - val_mean_squared_error: 0.2260red_ - ET\n",
      "Train on 55713 samples, validate on 23878 samples\n",
      "Epoch 1/1\n",
      "55713/55713 [==============================] - 27s 481us/step - loss: 0.3387 - mean_squared_error: 0.3387 - val_loss: 0.2298 - val_mean_squared_error: 0.2298\n",
      "Train on 55713 samples, validate on 23878 samples\n",
      "Epoch 1/1\n",
      "55713/55713 [==============================] - 25s 449us/step - loss: 0.3355 - mean_squared_error: 0.3355 - val_loss: 0.2286 - val_mean_squared_error: 0.2286\n",
      "Train on 55713 samples, validate on 23878 samples\n",
      "Epoch 1/1\n",
      "55713/55713 [==============================] - 25s 445us/step - loss: 0.3349 - mean_squared_error: 0.3349 - val_loss: 0.2242 - val_mean_squared_error: 0.2242\n",
      "Train on 55713 samples, validate on 23878 samples\n",
      "Epoch 1/1\n",
      "55713/55713 [==============================] - 24s 433us/step - loss: 0.3363 - mean_squared_error: 0.3363 - val_loss: 0.2229 - val_mean_squared_error: 0.2229\n",
      "Train on 55713 samples, validate on 23878 samples\n",
      "Epoch 1/1\n",
      "55713/55713 [==============================] - 26s 465us/step - loss: 0.3329 - mean_squared_error: 0.3329 - val_loss: 0.2243 - val_mean_squared_error: 0.2243\n",
      "Train on 55713 samples, validate on 23878 samples\n",
      "Epoch 1/1\n",
      "55713/55713 [==============================] - 24s 433us/step - loss: 0.3375 - mean_squared_error: 0.3375 - val_loss: 0.2243 - val_mean_squared_error: 0.2243\n",
      "Train on 55713 samples, validate on 23878 samples\n",
      "Epoch 1/1\n",
      "55713/55713 [==============================] - 25s 447us/step - loss: 0.3341 - mean_squared_error: 0.3341 - val_loss: 0.2263 - val_mean_squared_error: 0.2263\n",
      "Train on 55713 samples, validate on 23878 samples\n",
      "Epoch 1/1\n",
      "55713/55713 [==============================] - 24s 428us/step - loss: 0.3352 - mean_squared_error: 0.3352 - val_loss: 0.2339 - val_mean_squared_error: 0.2339\n",
      "Train on 55713 samples, validate on 23878 samples\n",
      "Epoch 1/1\n",
      "55713/55713 [==============================] - 30s 536us/step - loss: 0.3329 - mean_squared_error: 0.3329 - val_loss: 0.2251 - val_mean_squared_error: 0.2251\n",
      "Train on 55713 samples, validate on 23878 samples\n",
      "Epoch 1/1\n",
      "55713/55713 [==============================] - 37s 667us/step - loss: 0.3362 - mean_squared_error: 0.3362 - val_loss: 0.2249 - val_mean_squared_error: 0.2249\n",
      "Train on 55713 samples, validate on 23878 samples\n",
      "Epoch 1/1\n",
      "55713/55713 [==============================] - 25s 452us/step - loss: 0.3309 - mean_squared_error: 0.3309 - val_loss: 0.2229 - val_mean_squared_error: 0.2229\n",
      "Train on 55713 samples, validate on 23878 samples\n",
      "Epoch 1/1\n",
      "55713/55713 [==============================] - 23s 413us/step - loss: 0.3354 - mean_squared_error: 0.3354 - val_loss: 0.2232 - val_mean_squared_error: 0.2232\n",
      "Train on 55713 samples, validate on 23878 samples\n",
      "Epoch 1/1\n",
      "55713/55713 [==============================] - 25s 447us/step - loss: 0.3314 - mean_squared_error: 0.3314 - val_loss: 0.2264 - val_mean_squared_error: 0.2264\n",
      "Train on 55713 samples, validate on 23878 samples\n",
      "Epoch 1/1\n",
      "55713/55713 [==============================] - 25s 446us/step - loss: 0.3305 - mean_squared_error: 0.3305 - val_loss: 0.2245 - val_mean_squared_error: 0.2245\n",
      "Train on 55713 samples, validate on 23878 samples\n",
      "Epoch 1/1\n",
      "55713/55713 [==============================] - 24s 426us/step - loss: 0.3312 - mean_squared_error: 0.3312 - val_loss: 0.2240 - val_mean_squared_error: 0.2240\n",
      "Train on 55713 samples, validate on 23878 samples\n",
      "Epoch 1/1\n",
      "55713/55713 [==============================] - 26s 459us/step - loss: 0.3336 - mean_squared_error: 0.3336 - val_loss: 0.2254 - val_mean_squared_error: 0.2254\n",
      "Train on 55713 samples, validate on 23878 samples\n",
      "Epoch 1/1\n",
      "55713/55713 [==============================] - 28s 508us/step - loss: 0.3332 - mean_squared_error: 0.3332 - val_loss: 0.2243 - val_mean_squared_error: 0.2243\n",
      "Train on 55713 samples, validate on 23878 samples\n",
      "Epoch 1/1\n",
      "55713/55713 [==============================] - 135s 2ms/step - loss: 0.3316 - mean_squared_error: 0.3316 - val_loss: 0.2235 - val_mean_squared_error: 0.2235oss: 0.3322 - mea\n",
      "Train on 55713 samples, validate on 23878 samples\n",
      "Epoch 1/1\n",
      "55713/55713 [==============================] - 26s 465us/step - loss: 0.3317 - mean_squared_error: 0.3317 - val_loss: 0.2259 - val_mean_squared_error: 0.2259\n",
      "Train on 55713 samples, validate on 23878 samples\n",
      "Epoch 1/1\n",
      "55713/55713 [==============================] - 25s 456us/step - loss: 0.3311 - mean_squared_error: 0.3311 - val_loss: 0.2252 - val_mean_squared_error: 0.2252\n",
      "Train on 55713 samples, validate on 23878 samples\n",
      "Epoch 1/1\n",
      "55713/55713 [==============================] - 23s 417us/step - loss: 0.3338 - mean_squared_error: 0.3338 - val_loss: 0.2239 - val_mean_squared_error: 0.2239\n",
      "Train on 55713 samples, validate on 23878 samples\n",
      "Epoch 1/1\n",
      "55713/55713 [==============================] - 24s 432us/step - loss: 0.3322 - mean_squared_error: 0.3322 - val_loss: 0.2257 - val_mean_squared_error: 0.2257\n",
      "Train on 55713 samples, validate on 23878 samples\n",
      "Epoch 1/1\n"
     ]
    },
    {
     "name": "stdout",
     "output_type": "stream",
     "text": [
      "55713/55713 [==============================] - 24s 439us/step - loss: 0.3346 - mean_squared_error: 0.3346 - val_loss: 0.2245 - val_mean_squared_error: 0.2245loss: 0.3427 - mean_squar - ETA: 6s - loss: 0 - ETA: 0s - loss: 0.3344 - \n",
      "Train on 55713 samples, validate on 23878 samples\n",
      "Epoch 1/1\n",
      "55713/55713 [==============================] - 23s 411us/step - loss: 0.3305 - mean_squared_error: 0.3305 - val_loss: 0.2236 - val_mean_squared_error: 0.2236\n",
      "Train on 55713 samples, validate on 23878 samples\n",
      "Epoch 1/1\n",
      "55713/55713 [==============================] - 24s 426us/step - loss: 0.3302 - mean_squared_error: 0.3302 - val_loss: 0.2252 - val_mean_squared_error: 0.2252\n",
      "Train on 55713 samples, validate on 23878 samples\n",
      "Epoch 1/1\n",
      "55713/55713 [==============================] - 25s 442us/step - loss: 0.3305 - mean_squared_error: 0.3305 - val_loss: 0.2241 - val_mean_squared_error: 0.2241\n",
      "Train on 55713 samples, validate on 23878 samples\n",
      "Epoch 1/1\n",
      "55713/55713 [==============================] - 23s 412us/step - loss: 0.3308 - mean_squared_error: 0.3308 - val_loss: 0.2246 - val_mean_squared_error: 0.2246\n",
      "Train on 55713 samples, validate on 23878 samples\n",
      "Epoch 1/1\n",
      "55713/55713 [==============================] - 29s 518us/step - loss: 0.3279 - mean_squared_error: 0.3279 - val_loss: 0.2258 - val_mean_squared_error: 0.2258ss: 0.3236 - mean_s - ETA: 3s - ETA: 2s - loss: 0.3279 - mean_squ - ETA: 1s - - ETA: 0s - loss: 0.3286 \n",
      "Train on 55713 samples, validate on 23878 samples\n",
      "Epoch 1/1\n",
      "55713/55713 [==============================] - 133s 2ms/step - loss: 0.3314 - mean_squared_error: 0.3314 - val_loss: 0.2242 - val_mean_squared_error: 0.2242\n",
      "Train on 55713 samples, validate on 23878 samples\n",
      "Epoch 1/1\n",
      "55713/55713 [==============================] - 41s 732us/step - loss: 0.3317 - mean_squared_error: 0.3317 - val_loss: 0.2229 - val_mean_squared_error: 0.2229\n",
      "Train on 55713 samples, validate on 23878 samples\n",
      "Epoch 1/1\n",
      "55713/55713 [==============================] - 43s 778us/step - loss: 0.3293 - mean_squared_error: 0.3293 - val_loss: 0.2226 - val_mean_squared_error: 0.2226s\n",
      "Train on 55713 samples, validate on 23878 samples\n",
      "Epoch 1/1\n",
      "55713/55713 [==============================] - 23s 419us/step - loss: 0.3324 - mean_squared_error: 0.3324 - val_loss: 0.2272 - val_mean_squared_error: 0.2272\n",
      "Train on 55713 samples, validate on 23878 samples\n",
      "Epoch 1/1\n",
      "55713/55713 [==============================] - 23s 409us/step - loss: 0.3301 - mean_squared_error: 0.3301 - val_loss: 0.2230 - val_mean_squared_error: 0.2230\n",
      "Train on 55713 samples, validate on 23878 samples\n",
      "Epoch 1/1\n",
      "55713/55713 [==============================] - 23s 410us/step - loss: 0.3282 - mean_squared_error: 0.3282 - val_loss: 0.2296 - val_mean_squared_error: 0.2296\n",
      "Train on 55713 samples, validate on 23878 samples\n",
      "Epoch 1/1\n",
      "55713/55713 [==============================] - 25s 451us/step - loss: 0.3310 - mean_squared_error: 0.3310 - val_loss: 0.2251 - val_mean_squared_error: 0.2251\n",
      "Train on 55713 samples, validate on 23878 samples\n",
      "Epoch 1/1\n",
      "55713/55713 [==============================] - 26s 464us/step - loss: 0.3292 - mean_squared_error: 0.3292 - val_loss: 0.2290 - val_mean_squared_error: 0.2290\n",
      "Train on 55713 samples, validate on 23878 samples\n",
      "Epoch 1/1\n",
      "55713/55713 [==============================] - 22s 393us/step - loss: 0.3298 - mean_squared_error: 0.3298 - val_loss: 0.2257 - val_mean_squared_error: 0.2257\n",
      "Train on 55713 samples, validate on 23878 samples\n",
      "Epoch 1/1\n",
      "55713/55713 [==============================] - 19s 334us/step - loss: 0.3317 - mean_squared_error: 0.3317 - val_loss: 0.2252 - val_mean_squared_error: 0.2252\n",
      "Train on 55713 samples, validate on 23878 samples\n",
      "Epoch 1/1\n",
      "55713/55713 [==============================] - 22s 397us/step - loss: 0.3269 - mean_squared_error: 0.3269 - val_loss: 0.2278 - val_mean_squared_error: 0.2278\n",
      "Train on 55713 samples, validate on 23878 samples\n",
      "Epoch 1/1\n",
      "55713/55713 [==============================] - 123s 2ms/step - loss: 0.3269 - mean_squared_error: 0.3269 - val_loss: 0.2250 - val_mean_squared_error: 0.2250\n",
      "Train on 55713 samples, validate on 23878 samples\n",
      "Epoch 1/1\n",
      "34080/55713 [=================>............] - ETA: 7s - loss: 0.3266 - mean_squared_error: 0.3266 - ETA: 15s - loss: 0.31"
     ]
    }
   ],
   "source": [
    "hist = []\n",
    "for _ in range(100):\n",
    "    hist.append(autoencoder.fit(X_train_NF, X_train_NF,\n",
    "                    epochs=1,\n",
    "                    batch_size=batch_size,\n",
    "                    shuffle=True,\n",
    "                     validation_split=0.3,\n",
    "                    verbose=1).history)"
   ]
  },
  {
   "cell_type": "code",
   "execution_count": 22,
   "metadata": {},
   "outputs": [
    {
     "data": {
      "text/plain": [
       "[{'val_loss': [0.33405528783259036],\n",
       "  'val_mean_squared_error': [0.33405528783259036],\n",
       "  'loss': [0.6574461971794147],\n",
       "  'mean_squared_error': [0.6574461971794147]},\n",
       " {'val_loss': [0.2524798494685744],\n",
       "  'val_mean_squared_error': [0.2524798494685744],\n",
       "  'loss': [0.39722355654259534],\n",
       "  'mean_squared_error': [0.39722355654259534]},\n",
       " {'val_loss': [0.23742848752041998],\n",
       "  'val_mean_squared_error': [0.23742848752041998],\n",
       "  'loss': [0.3614965733514152],\n",
       "  'mean_squared_error': [0.3614965733514152]},\n",
       " {'val_loss': [0.23097310399018656],\n",
       "  'val_mean_squared_error': [0.23097310399018656],\n",
       "  'loss': [0.35076765617275096],\n",
       "  'mean_squared_error': [0.35076765617275096]},\n",
       " {'val_loss': [0.23219408737970604],\n",
       "  'val_mean_squared_error': [0.23219408737970604],\n",
       "  'loss': [0.34823538132079157],\n",
       "  'mean_squared_error': [0.34823538132079157]}]"
      ]
     },
     "execution_count": 22,
     "metadata": {},
     "output_type": "execute_result"
    }
   ],
   "source": [
    "hist[0:5]"
   ]
  },
  {
   "cell_type": "code",
   "execution_count": 23,
   "metadata": {},
   "outputs": [
    {
     "data": {
      "text/plain": [
       "array([[-1.6033593 ,  0.94757324,  1.7551892 ,  0.8572338 , -0.8328218 ,\n",
       "         0.5189227 , -0.5616846 ,  1.1336945 ,  0.4842893 , -0.8036911 ,\n",
       "        -1.416091  ,  0.28365517, -0.92414784, -0.14528751, -1.8320006 ,\n",
       "        -0.4907556 ,  0.530109  ,  0.00432374,  0.2000157 , -0.05800389,\n",
       "         0.00736931,  0.07622877, -0.0389892 , -0.06887589, -0.03673813,\n",
       "        -0.00719737,  0.00309072,  0.09111511, -0.23702683],\n",
       "       [ 1.2884982 , -0.31085998,  0.12979531, -0.4310326 , -0.71386033,\n",
       "        -1.4945496 , -0.05842292, -0.3626615 , -0.9554357 ,  0.61991006,\n",
       "         0.3646551 , -0.22123933,  0.4042024 , -0.03933859,  0.11359358,\n",
       "         0.04138162,  0.13468468, -0.01329425,  0.05333993, -0.09490938,\n",
       "        -0.01446912,  0.00730772, -0.0052765 , -0.0423546 , -0.03087896,\n",
       "        -0.08038861,  0.00960309,  0.00466691, -0.18897496]],\n",
       "      dtype=float32)"
      ]
     },
     "execution_count": 23,
     "metadata": {},
     "output_type": "execute_result"
    }
   ],
   "source": [
    "## Making predictions on the train data\n",
    "predictions=autoencoder.predict(X_train_NF)\n",
    "\n",
    "predictions[0:2]"
   ]
  },
  {
   "cell_type": "code",
   "execution_count": 24,
   "metadata": {},
   "outputs": [
    {
     "name": "stdout",
     "output_type": "stream",
     "text": [
      "(16327, 30)\n",
      "(15942, 30)\n",
      "(385, 30)\n"
     ]
    }
   ],
   "source": [
    "##We want to separate out fraud records and non-fraud records for later use\n",
    "f = np.hstack((X_test,y_test))\n",
    "print(f.shape)\n",
    "\n",
    "test_nf=f[f[:,29]==0]\n",
    "print(test_nf.shape)\n",
    "\n",
    "test_f=f[f[:,29]==1]\n",
    "print(test_f.shape)"
   ]
  },
  {
   "cell_type": "code",
   "execution_count": 25,
   "metadata": {},
   "outputs": [
    {
     "name": "stdout",
     "output_type": "stream",
     "text": [
      "15942/15942 [==============================] - 3s 202us/step\n"
     ]
    },
    {
     "data": {
      "text/plain": [
       "[0.23103991510626243, 0.23103991510626243]"
      ]
     },
     "execution_count": 25,
     "metadata": {},
     "output_type": "execute_result"
    }
   ],
   "source": [
    "#Getting the errors from the non fraud data separately \n",
    "autoencoder.evaluate(test_nf[:,:29],test_nf[:,:29])"
   ]
  },
  {
   "cell_type": "code",
   "execution_count": 26,
   "metadata": {},
   "outputs": [
    {
     "name": "stdout",
     "output_type": "stream",
     "text": [
      "385/385 [==============================] - 0s 223us/step\n"
     ]
    },
    {
     "data": {
      "text/plain": [
       "[18.897587015721705, 18.897587015721705]"
      ]
     },
     "execution_count": 26,
     "metadata": {},
     "output_type": "execute_result"
    }
   ],
   "source": [
    "#Getting the errors from the fraud data separately\n",
    "autoencoder.evaluate(test_f[:,:29],test_f[:,:29])"
   ]
  },
  {
   "cell_type": "code",
   "execution_count": 27,
   "metadata": {},
   "outputs": [],
   "source": [
    "#Obtaining predictions for non fraud records\n",
    "predictions_nf=autoencoder.predict(test_nf[:,:29])\n",
    "\n",
    "#Obtaining predictions for fraud records\n",
    "predictions_f=autoencoder.predict(test_f[:,:29])"
   ]
  },
  {
   "cell_type": "code",
   "execution_count": 28,
   "metadata": {},
   "outputs": [
    {
     "data": {
      "text/plain": [
       "0.23103991513673885"
      ]
     },
     "execution_count": 28,
     "metadata": {},
     "output_type": "execute_result"
    }
   ],
   "source": [
    "#Identifying the error computation method by autoencoder(Mean Squared Error). The computation is as follows \n",
    "np.mean(np.square(np.abs(test_nf[:,:29]-predictions_nf)))"
   ]
  },
  {
   "cell_type": "code",
   "execution_count": 29,
   "metadata": {},
   "outputs": [
    {
     "data": {
      "text/plain": [
       "array([0.36082535, 0.0558622 , 0.19217769, 0.06870034, 0.33538298])"
      ]
     },
     "execution_count": 29,
     "metadata": {},
     "output_type": "execute_result"
    }
   ],
   "source": [
    "#Computing errors on the non-fraud data\n",
    "errors_nf = np.mean(np.square(np.abs(test_nf[:,:29]-predictions_nf)), axis=1)\n",
    "errors_nf[0:5]"
   ]
  },
  {
   "cell_type": "code",
   "execution_count": 30,
   "metadata": {},
   "outputs": [
    {
     "data": {
      "text/plain": [
       "array([82.0411392 , 68.56533548, 17.21567645,  3.9810928 , 66.0933357 ])"
      ]
     },
     "execution_count": 30,
     "metadata": {},
     "output_type": "execute_result"
    }
   ],
   "source": [
    "#Computing errors on the fraud data\n",
    "errors_f = np.mean(np.square(np.abs(test_f[:,:29]-predictions_f)), axis=1)\n",
    "errors_f[0:5]"
   ]
  },
  {
   "cell_type": "code",
   "execution_count": 31,
   "metadata": {},
   "outputs": [
    {
     "name": "stdout",
     "output_type": "stream",
     "text": [
      "0.015557321633021773\n",
      "130.01498376192282\n",
      "0.12250105083994323\n",
      "0.036041630581479966\n",
      "129.80487354807744\n",
      "7.8113445156713945\n"
     ]
    }
   ],
   "source": [
    "#Computing the distribution of errors in both non-fraud and fraud data\n",
    "print(np.min(errors_nf))\n",
    "print(np.max(errors_nf))\n",
    "print(np.median(errors_nf))\n",
    "\n",
    "print(np.min(errors_f))\n",
    "print(np.max(errors_f))\n",
    "print(np.median(errors_f))"
   ]
  },
  {
   "cell_type": "code",
   "execution_count": 32,
   "metadata": {},
   "outputs": [
    {
     "data": {
      "text/plain": [
       "{'whiskers': [<matplotlib.lines.Line2D at 0x237c97857b8>,\n",
       "  <matplotlib.lines.Line2D at 0x237c9785cf8>],\n",
       " 'caps': [<matplotlib.lines.Line2D at 0x237c978e198>,\n",
       "  <matplotlib.lines.Line2D at 0x237c978e5f8>],\n",
       " 'boxes': [<matplotlib.lines.Line2D at 0x237c9785668>],\n",
       " 'medians': [<matplotlib.lines.Line2D at 0x237c978ea58>],\n",
       " 'fliers': [<matplotlib.lines.Line2D at 0x237c978eeb8>],\n",
       " 'means': []}"
      ]
     },
     "execution_count": 32,
     "metadata": {},
     "output_type": "execute_result"
    },
    {
     "data": {
      "image/png": "[encoded data removed]",
      "text/plain": [
       "<Figure size 432x288 with 2 Axes>"
      ]
     },
     "metadata": {},
     "output_type": "display_data"
    }
   ],
   "source": [
    "#PLotting the error box plots \n",
    "\n",
    "plt.subplot(1, 2,1)\n",
    "plt.boxplot(errors_f)\n",
    "\n",
    "plt.subplot(1, 2, 2)\n",
    "plt.boxplot(errors_nf)"
   ]
  },
  {
   "cell_type": "code",
   "execution_count": 33,
   "metadata": {},
   "outputs": [
    {
     "name": "stdout",
     "output_type": "stream",
     "text": [
      "18\n",
      "192\n",
      "10\n"
     ]
    },
    {
     "data": {
      "text/plain": [
       "7971"
      ]
     },
     "execution_count": 33,
     "metadata": {},
     "output_type": "execute_result"
    }
   ],
   "source": [
    "#Experimentation to fix a threshold for classification of a transaction into fraud or non-fraud\n",
    "print(sum(errors_nf>np.median(errors_f)))\n",
    "print(sum(errors_f<np.median(errors_f)))\n",
    "print(sum(errors_f<np.median(errors_nf)))\n",
    "sum(errors_nf>np.median(errors_nf))"
   ]
  },
  {
   "cell_type": "code",
   "execution_count": 34,
   "metadata": {},
   "outputs": [
    {
     "name": "stdout",
     "output_type": "stream",
     "text": [
      "(15942,)\n",
      "(385,)\n"
     ]
    }
   ],
   "source": [
    "print(errors_nf.shape)\n",
    "print(errors_f.shape)"
   ]
  },
  {
   "cell_type": "code",
   "execution_count": 35,
   "metadata": {},
   "outputs": [
    {
     "name": "stdout",
     "output_type": "stream",
     "text": [
      "(15942, 29)\n",
      "(385, 29)\n"
     ]
    }
   ],
   "source": [
    "print(predictions_nf.shape)\n",
    "print(predictions_f.shape)"
   ]
  },
  {
   "cell_type": "code",
   "execution_count": 36,
   "metadata": {},
   "outputs": [
    {
     "name": "stdout",
     "output_type": "stream",
     "text": [
      "[0.36082535 0.0558622  0.19217769 ... 0.13356274 0.09450706 0.05071564]\n",
      "0.22520954219491793\n"
     ]
    }
   ],
   "source": [
    "test_pred = autoencoder.predict(X_test[:,:29])\n",
    "test_recon  = (((test_pred-X_test)**2).mean(-1))\n",
    "print(test_recon)\n",
    "\n",
    "train_pred = autoencoder.predict(X_train_NF[:,:29])\n",
    "mean_recon = (((train_pred - X_train_NF)**2).mean(-1).mean())\n",
    "print(mean_recon)\n",
    "\n",
    "from sklearn.metrics import precision_score,recall_score,f1_score,confusion_matrix\n",
    "\n",
    "scores_f1 = []\n",
    "thres = []\n",
    "\n",
    "th = 0\n",
    "for i in range(100):\n",
    "    th+=0.1\n",
    "    fraud = (test_recon>mean_recon+th)\n",
    "    scores_f1.append(f1_score(y_test,fraud))\n",
    "    thres.append(th+mean_recon)\n",
    "    "
   ]
  },
  {
   "cell_type": "code",
   "execution_count": 37,
   "metadata": {},
   "outputs": [
    {
     "data": {
      "text/plain": [
       "(16327, 29)"
      ]
     },
     "execution_count": 37,
     "metadata": {},
     "output_type": "execute_result"
    }
   ],
   "source": [
    "X_test.shape"
   ]
  },
  {
   "cell_type": "code",
   "execution_count": 38,
   "metadata": {},
   "outputs": [
    {
     "name": "stdout",
     "output_type": "stream",
     "text": [
      "2.925209542194919\n"
     ]
    },
    {
     "data": {
      "text/plain": [
       "array([[15876,    66],\n",
       "       [   90,   295]], dtype=int64)"
      ]
     },
     "execution_count": 38,
     "metadata": {},
     "output_type": "execute_result"
    },
    {
     "data": {
      "image/png": "[encoded data removed]",
      "text/plain": [
       "<Figure size 432x288 with 1 Axes>"
      ]
     },
     "metadata": {},
     "output_type": "display_data"
    }
   ],
   "source": [
    "plt.plot(thres, scores_f1)\n",
    "\n",
    "print(thres[np.array(scores_f1).argmax()])\n",
    "\n",
    "fraud = (test_recon>thres[np.array(scores_f1).argmax()])\n",
    "\n",
    "confusion_matrix(y_test, fraud)"
   ]
  },
  {
   "cell_type": "code",
   "execution_count": 39,
   "metadata": {},
   "outputs": [],
   "source": [
    "##Predicting on Valdation \n",
    "\n",
    "predictions_eval=autoencoder.predict(X_eval[:,:29])\n"
   ]
  },
  {
   "cell_type": "code",
   "execution_count": 40,
   "metadata": {},
   "outputs": [],
   "source": [
    "errors_eval=np.square(np.subtract(predictions_eval,X_eval[:,:29]))"
   ]
  },
  {
   "cell_type": "code",
   "execution_count": 41,
   "metadata": {},
   "outputs": [],
   "source": [
    "fraud_eval=(((errors_eval-X_eval[:,:29])**2).mean(-1))>2.925209542194919"
   ]
  },
  {
   "cell_type": "code",
   "execution_count": 42,
   "metadata": {},
   "outputs": [
    {
     "name": "stdout",
     "output_type": "stream",
     "text": [
      "[[3680  295]\n",
      " [  14   93]]\n"
     ]
    }
   ],
   "source": [
    "print(confusion_matrix(y_true=X_eval[:,29],y_pred=fraud_eval))"
   ]
  },
  {
   "cell_type": "code",
   "execution_count": null,
   "metadata": {},
   "outputs": [],
   "source": []
  }
 ],
 "metadata": {
  "kernelspec": {
   "display_name": "Python 3",
   "language": "python",
   "name": "python3"
  },
  "language_info": {
   "codemirror_mode": {
    "name": "ipython",
    "version": 3
   },
   "file_extension": ".py",
   "mimetype": "text/x-python",
   "name": "python",
   "nbconvert_exporter": "python",
   "pygments_lexer": "ipython3",
   "version": "3.6.5"
  }
 },
 "nbformat": 4,
 "nbformat_minor": 2
}
