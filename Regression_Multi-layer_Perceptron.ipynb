{
 "cells": [
  {
   "cell_type": "markdown",
   "metadata": {},
   "source": [
    "##  Perception for Binary classification"
   ]
  },
  {
   "cell_type": "markdown",
   "metadata": {},
   "source": [
    "#### Loading the required libraries"
   ]
  },
  {
   "cell_type": "code",
   "execution_count": 1,
   "metadata": {},
   "outputs": [
    {
     "name": "stderr",
     "output_type": "stream",
     "text": [
      "C:\\ProgramData\\Anaconda3\\lib\\site-packages\\h5py\\__init__.py:36: FutureWarning: Conversion of the second argument of issubdtype from `float` to `np.floating` is deprecated. In future, it will be treated as `np.float64 == np.dtype(float).type`.\n",
      "  from ._conv import register_converters as _register_converters\n",
      "Using TensorFlow backend.\n"
     ]
    }
   ],
   "source": [
    "import pandas as pd\n",
    "import numpy as np\n",
    "\n",
    "from sklearn.model_selection import train_test_split\n",
    "from sklearn.metrics import confusion_matrix, roc_curve, auc\n",
    "\n",
    "from keras.models import Sequential\n",
    "from keras.layers import Dense\n",
    "from keras.utils import to_categorical\n",
    "\n",
    "import matplotlib.pyplot as plt"
   ]
  },
  {
   "cell_type": "code",
   "execution_count": 1,
   "metadata": {},
   "outputs": [
    {
     "name": "stderr",
     "output_type": "stream",
     "text": [
      "C:\\ProgramData\\Anaconda3\\lib\\site-packages\\h5py\\__init__.py:36: FutureWarning: Conversion of the second argument of issubdtype from `float` to `np.floating` is deprecated. In future, it will be treated as `np.float64 == np.dtype(float).type`.\n",
      "  from ._conv import register_converters as _register_converters\n",
      "Using TensorFlow backend.\n"
     ]
    }
   ],
   "source": [
    "import keras"
   ]
  },
  {
   "cell_type": "markdown",
   "metadata": {},
   "source": [
    "#### Loading the data"
   ]
  },
  {
   "cell_type": "code",
   "execution_count": 5,
   "metadata": {},
   "outputs": [],
   "source": [
    "data = pd.read_csv(\"CustomerData.csv\",header=0)"
   ]
  },
  {
   "cell_type": "markdown",
   "metadata": {},
   "source": [
    "#### Understand the Data"
   ]
  },
  {
   "cell_type": "code",
   "execution_count": 6,
   "metadata": {},
   "outputs": [
    {
     "data": {
      "text/plain": [
       "(3209, 14)"
      ]
     },
     "execution_count": 6,
     "metadata": {},
     "output_type": "execute_result"
    }
   ],
   "source": [
    "#Check number of rows and columns\n",
    "data.shape"
   ]
  },
  {
   "cell_type": "code",
   "execution_count": 7,
   "metadata": {},
   "outputs": [
    {
     "data": {
      "text/plain": [
       "Index(['CustomerID', 'City', 'NoOfChildren', 'MinAgeOfChild', 'MaxAgeOfChild',\n",
       "       'Tenure', 'FrquncyOfPurchase', 'NoOfUnitsPurchased', 'FrequencyOFPlay',\n",
       "       'NoOfGamesPlayed', 'NoOfGamesBought', 'FavoriteChannelOfTransaction',\n",
       "       'FavoriteGame', 'TotalRevenueGenerated'],\n",
       "      dtype='object')"
      ]
     },
     "execution_count": 7,
     "metadata": {},
     "output_type": "execute_result"
    }
   ],
   "source": [
    "#Display columns\n",
    "data.columns"
   ]
  },
  {
   "cell_type": "code",
   "execution_count": 8,
   "metadata": {},
   "outputs": [
    {
     "data": {
      "text/plain": [
       "RangeIndex(start=0, stop=3209, step=1)"
      ]
     },
     "execution_count": 8,
     "metadata": {},
     "output_type": "execute_result"
    }
   ],
   "source": [
    "#Display index\n",
    "data.index"
   ]
  },
  {
   "cell_type": "markdown",
   "metadata": {},
   "source": [
    "See the top rows of the data"
   ]
  },
  {
   "cell_type": "code",
   "execution_count": 9,
   "metadata": {},
   "outputs": [
    {
     "data": {
      "text/html": [
       "<div>\n",
       "<style scoped>\n",
       "    .dataframe tbody tr th:only-of-type {\n",
       "        vertical-align: middle;\n",
       "    }\n",
       "\n",
       "    .dataframe tbody tr th {\n",
       "        vertical-align: top;\n",
       "    }\n",
       "\n",
       "    .dataframe thead th {\n",
       "        text-align: right;\n",
       "    }\n",
       "</style>\n",
       "<table border=\"1\" class=\"dataframe\">\n",
       "  <thead>\n",
       "    <tr style=\"text-align: right;\">\n",
       "      <th></th>\n",
       "      <th>CustomerID</th>\n",
       "      <th>City</th>\n",
       "      <th>NoOfChildren</th>\n",
       "      <th>MinAgeOfChild</th>\n",
       "      <th>MaxAgeOfChild</th>\n",
       "      <th>Tenure</th>\n",
       "      <th>FrquncyOfPurchase</th>\n",
       "      <th>NoOfUnitsPurchased</th>\n",
       "      <th>FrequencyOFPlay</th>\n",
       "      <th>NoOfGamesPlayed</th>\n",
       "      <th>NoOfGamesBought</th>\n",
       "      <th>FavoriteChannelOfTransaction</th>\n",
       "      <th>FavoriteGame</th>\n",
       "      <th>TotalRevenueGenerated</th>\n",
       "    </tr>\n",
       "  </thead>\n",
       "  <tbody>\n",
       "    <tr>\n",
       "      <th>0</th>\n",
       "      <td>1001</td>\n",
       "      <td>1</td>\n",
       "      <td>2</td>\n",
       "      <td>3</td>\n",
       "      <td>8</td>\n",
       "      <td>210</td>\n",
       "      <td>11</td>\n",
       "      <td>11</td>\n",
       "      <td>2344</td>\n",
       "      <td>108</td>\n",
       "      <td>10</td>\n",
       "      <td>Uniform</td>\n",
       "      <td>Uniform</td>\n",
       "      <td>107.51</td>\n",
       "    </tr>\n",
       "    <tr>\n",
       "      <th>1</th>\n",
       "      <td>1002</td>\n",
       "      <td>1</td>\n",
       "      <td>2</td>\n",
       "      <td>3</td>\n",
       "      <td>6</td>\n",
       "      <td>442</td>\n",
       "      <td>20</td>\n",
       "      <td>20</td>\n",
       "      <td>245</td>\n",
       "      <td>22</td>\n",
       "      <td>7</td>\n",
       "      <td>Favorite</td>\n",
       "      <td>Uniform</td>\n",
       "      <td>382.40</td>\n",
       "    </tr>\n",
       "    <tr>\n",
       "      <th>2</th>\n",
       "      <td>1003</td>\n",
       "      <td>1</td>\n",
       "      <td>4</td>\n",
       "      <td>3</td>\n",
       "      <td>5</td>\n",
       "      <td>424</td>\n",
       "      <td>18</td>\n",
       "      <td>18</td>\n",
       "      <td>1059</td>\n",
       "      <td>130</td>\n",
       "      <td>18</td>\n",
       "      <td>Favorite</td>\n",
       "      <td>Uniform</td>\n",
       "      <td>135.01</td>\n",
       "    </tr>\n",
       "  </tbody>\n",
       "</table>\n",
       "</div>"
      ],
      "text/plain": [
       "   CustomerID  City  NoOfChildren  MinAgeOfChild  MaxAgeOfChild  Tenure  \\\n",
       "0        1001     1             2              3              8     210   \n",
       "1        1002     1             2              3              6     442   \n",
       "2        1003     1             4              3              5     424   \n",
       "\n",
       "   FrquncyOfPurchase  NoOfUnitsPurchased  FrequencyOFPlay  NoOfGamesPlayed  \\\n",
       "0                 11                  11             2344              108   \n",
       "1                 20                  20              245               22   \n",
       "2                 18                  18             1059              130   \n",
       "\n",
       "   NoOfGamesBought FavoriteChannelOfTransaction FavoriteGame  \\\n",
       "0               10                      Uniform      Uniform   \n",
       "1                7                     Favorite      Uniform   \n",
       "2               18                     Favorite      Uniform   \n",
       "\n",
       "   TotalRevenueGenerated  \n",
       "0                 107.51  \n",
       "1                 382.40  \n",
       "2                 135.01  "
      ]
     },
     "execution_count": 9,
     "metadata": {},
     "output_type": "execute_result"
    }
   ],
   "source": [
    "# Check top 'n' rows\n",
    "data[:3]"
   ]
  },
  {
   "cell_type": "code",
   "execution_count": 10,
   "metadata": {
    "scrolled": true
   },
   "outputs": [
    {
     "data": {
      "text/html": [
       "<div>\n",
       "<style scoped>\n",
       "    .dataframe tbody tr th:only-of-type {\n",
       "        vertical-align: middle;\n",
       "    }\n",
       "\n",
       "    .dataframe tbody tr th {\n",
       "        vertical-align: top;\n",
       "    }\n",
       "\n",
       "    .dataframe thead th {\n",
       "        text-align: right;\n",
       "    }\n",
       "</style>\n",
       "<table border=\"1\" class=\"dataframe\">\n",
       "  <thead>\n",
       "    <tr style=\"text-align: right;\">\n",
       "      <th></th>\n",
       "      <th>CustomerID</th>\n",
       "      <th>City</th>\n",
       "      <th>NoOfChildren</th>\n",
       "      <th>MinAgeOfChild</th>\n",
       "      <th>MaxAgeOfChild</th>\n",
       "      <th>Tenure</th>\n",
       "      <th>FrquncyOfPurchase</th>\n",
       "      <th>NoOfUnitsPurchased</th>\n",
       "      <th>FrequencyOFPlay</th>\n",
       "      <th>NoOfGamesPlayed</th>\n",
       "      <th>NoOfGamesBought</th>\n",
       "      <th>TotalRevenueGenerated</th>\n",
       "    </tr>\n",
       "  </thead>\n",
       "  <tbody>\n",
       "    <tr>\n",
       "      <th>count</th>\n",
       "      <td>3209.000000</td>\n",
       "      <td>3209.000000</td>\n",
       "      <td>3209.000000</td>\n",
       "      <td>3209.000000</td>\n",
       "      <td>3209.000000</td>\n",
       "      <td>3209.000000</td>\n",
       "      <td>3209.000000</td>\n",
       "      <td>3209.000000</td>\n",
       "      <td>3209.000000</td>\n",
       "      <td>3209.000000</td>\n",
       "      <td>3209.000000</td>\n",
       "      <td>3209.000000</td>\n",
       "    </tr>\n",
       "    <tr>\n",
       "      <th>mean</th>\n",
       "      <td>2605.000000</td>\n",
       "      <td>1.114054</td>\n",
       "      <td>2.128389</td>\n",
       "      <td>4.960735</td>\n",
       "      <td>7.990651</td>\n",
       "      <td>347.520411</td>\n",
       "      <td>16.269554</td>\n",
       "      <td>14.684014</td>\n",
       "      <td>1568.207853</td>\n",
       "      <td>93.627921</td>\n",
       "      <td>14.761608</td>\n",
       "      <td>168.477183</td>\n",
       "    </tr>\n",
       "    <tr>\n",
       "      <th>std</th>\n",
       "      <td>926.502833</td>\n",
       "      <td>0.317927</td>\n",
       "      <td>1.035092</td>\n",
       "      <td>3.714191</td>\n",
       "      <td>8.784084</td>\n",
       "      <td>90.520118</td>\n",
       "      <td>8.441670</td>\n",
       "      <td>7.182029</td>\n",
       "      <td>1810.630464</td>\n",
       "      <td>88.936372</td>\n",
       "      <td>8.773910</td>\n",
       "      <td>81.798528</td>\n",
       "    </tr>\n",
       "    <tr>\n",
       "      <th>min</th>\n",
       "      <td>1001.000000</td>\n",
       "      <td>1.000000</td>\n",
       "      <td>1.000000</td>\n",
       "      <td>0.000000</td>\n",
       "      <td>3.000000</td>\n",
       "      <td>100.000000</td>\n",
       "      <td>1.000000</td>\n",
       "      <td>1.000000</td>\n",
       "      <td>0.000000</td>\n",
       "      <td>0.000000</td>\n",
       "      <td>0.000000</td>\n",
       "      <td>100.000000</td>\n",
       "    </tr>\n",
       "    <tr>\n",
       "      <th>25%</th>\n",
       "      <td>1803.000000</td>\n",
       "      <td>1.000000</td>\n",
       "      <td>1.000000</td>\n",
       "      <td>4.000000</td>\n",
       "      <td>6.000000</td>\n",
       "      <td>301.000000</td>\n",
       "      <td>11.000000</td>\n",
       "      <td>10.000000</td>\n",
       "      <td>446.000000</td>\n",
       "      <td>37.000000</td>\n",
       "      <td>10.000000</td>\n",
       "      <td>116.640000</td>\n",
       "    </tr>\n",
       "    <tr>\n",
       "      <th>50%</th>\n",
       "      <td>2605.000000</td>\n",
       "      <td>1.000000</td>\n",
       "      <td>2.000000</td>\n",
       "      <td>5.000000</td>\n",
       "      <td>7.000000</td>\n",
       "      <td>368.000000</td>\n",
       "      <td>14.000000</td>\n",
       "      <td>13.000000</td>\n",
       "      <td>1029.000000</td>\n",
       "      <td>70.000000</td>\n",
       "      <td>14.000000</td>\n",
       "      <td>142.390000</td>\n",
       "    </tr>\n",
       "    <tr>\n",
       "      <th>75%</th>\n",
       "      <td>3407.000000</td>\n",
       "      <td>1.000000</td>\n",
       "      <td>3.000000</td>\n",
       "      <td>6.000000</td>\n",
       "      <td>8.000000</td>\n",
       "      <td>417.000000</td>\n",
       "      <td>19.000000</td>\n",
       "      <td>17.000000</td>\n",
       "      <td>2029.000000</td>\n",
       "      <td>119.000000</td>\n",
       "      <td>19.000000</td>\n",
       "      <td>191.250000</td>\n",
       "    </tr>\n",
       "    <tr>\n",
       "      <th>max</th>\n",
       "      <td>4209.000000</td>\n",
       "      <td>2.000000</td>\n",
       "      <td>11.000000</td>\n",
       "      <td>113.000000</td>\n",
       "      <td>113.000000</td>\n",
       "      <td>472.000000</td>\n",
       "      <td>119.000000</td>\n",
       "      <td>112.000000</td>\n",
       "      <td>27829.000000</td>\n",
       "      <td>1166.000000</td>\n",
       "      <td>115.000000</td>\n",
       "      <td>990.560000</td>\n",
       "    </tr>\n",
       "  </tbody>\n",
       "</table>\n",
       "</div>"
      ],
      "text/plain": [
       "        CustomerID         City  NoOfChildren  MinAgeOfChild  MaxAgeOfChild  \\\n",
       "count  3209.000000  3209.000000   3209.000000    3209.000000    3209.000000   \n",
       "mean   2605.000000     1.114054      2.128389       4.960735       7.990651   \n",
       "std     926.502833     0.317927      1.035092       3.714191       8.784084   \n",
       "min    1001.000000     1.000000      1.000000       0.000000       3.000000   \n",
       "25%    1803.000000     1.000000      1.000000       4.000000       6.000000   \n",
       "50%    2605.000000     1.000000      2.000000       5.000000       7.000000   \n",
       "75%    3407.000000     1.000000      3.000000       6.000000       8.000000   \n",
       "max    4209.000000     2.000000     11.000000     113.000000     113.000000   \n",
       "\n",
       "            Tenure  FrquncyOfPurchase  NoOfUnitsPurchased  FrequencyOFPlay  \\\n",
       "count  3209.000000        3209.000000         3209.000000      3209.000000   \n",
       "mean    347.520411          16.269554           14.684014      1568.207853   \n",
       "std      90.520118           8.441670            7.182029      1810.630464   \n",
       "min     100.000000           1.000000            1.000000         0.000000   \n",
       "25%     301.000000          11.000000           10.000000       446.000000   \n",
       "50%     368.000000          14.000000           13.000000      1029.000000   \n",
       "75%     417.000000          19.000000           17.000000      2029.000000   \n",
       "max     472.000000         119.000000          112.000000     27829.000000   \n",
       "\n",
       "       NoOfGamesPlayed  NoOfGamesBought  TotalRevenueGenerated  \n",
       "count      3209.000000      3209.000000            3209.000000  \n",
       "mean         93.627921        14.761608             168.477183  \n",
       "std          88.936372         8.773910              81.798528  \n",
       "min           0.000000         0.000000             100.000000  \n",
       "25%          37.000000        10.000000             116.640000  \n",
       "50%          70.000000        14.000000             142.390000  \n",
       "75%         119.000000        19.000000             191.250000  \n",
       "max        1166.000000       115.000000             990.560000  "
      ]
     },
     "execution_count": 10,
     "metadata": {},
     "output_type": "execute_result"
    }
   ],
   "source": [
    "#Summary statistics of each column\n",
    "data.describe()"
   ]
  },
  {
   "cell_type": "markdown",
   "metadata": {},
   "source": [
    "Display data type of each variable"
   ]
  },
  {
   "cell_type": "code",
   "execution_count": 11,
   "metadata": {},
   "outputs": [
    {
     "data": {
      "text/plain": [
       "CustomerID                        int64\n",
       "City                              int64\n",
       "NoOfChildren                      int64\n",
       "MinAgeOfChild                     int64\n",
       "MaxAgeOfChild                     int64\n",
       "Tenure                            int64\n",
       "FrquncyOfPurchase                 int64\n",
       "NoOfUnitsPurchased                int64\n",
       "FrequencyOFPlay                   int64\n",
       "NoOfGamesPlayed                   int64\n",
       "NoOfGamesBought                   int64\n",
       "FavoriteChannelOfTransaction     object\n",
       "FavoriteGame                     object\n",
       "TotalRevenueGenerated           float64\n",
       "dtype: object"
      ]
     },
     "execution_count": 11,
     "metadata": {},
     "output_type": "execute_result"
    }
   ],
   "source": [
    "# Check data type of each attribute\n",
    "data.dtypes"
   ]
  },
  {
   "cell_type": "markdown",
   "metadata": {},
   "source": [
    "#### Observations\n",
    "\n",
    "    City is Categorical but is interpreted as int64 \n",
    "    FavoriteChannelOfTransaction,FavoriteGame   interpreted as Object but we should convert to Categorical"
   ]
  },
  {
   "cell_type": "markdown",
   "metadata": {},
   "source": [
    "#### Convert all the attributes to appropriate type"
   ]
  },
  {
   "cell_type": "markdown",
   "metadata": {},
   "source": [
    "Data type conversion\n",
    "\n",
    "    Using astype('category') to convert potential_issue, deck_risk, oe_constraint, ppap_risk, stop_auto_buy, rev_stop, and went_on_backorder attributes to categorical attributes.\n"
   ]
  },
  {
   "cell_type": "code",
   "execution_count": 12,
   "metadata": {},
   "outputs": [],
   "source": [
    "for col in ['City', 'FavoriteChannelOfTransaction', 'FavoriteGame']:\n",
    "    data[col] = data[col].astype('category')"
   ]
  },
  {
   "cell_type": "markdown",
   "metadata": {},
   "source": [
    "Display data type of each variable"
   ]
  },
  {
   "cell_type": "code",
   "execution_count": 13,
   "metadata": {},
   "outputs": [
    {
     "data": {
      "text/plain": [
       "CustomerID                         int64\n",
       "City                            category\n",
       "NoOfChildren                       int64\n",
       "MinAgeOfChild                      int64\n",
       "MaxAgeOfChild                      int64\n",
       "Tenure                             int64\n",
       "FrquncyOfPurchase                  int64\n",
       "NoOfUnitsPurchased                 int64\n",
       "FrequencyOFPlay                    int64\n",
       "NoOfGamesPlayed                    int64\n",
       "NoOfGamesBought                    int64\n",
       "FavoriteChannelOfTransaction    category\n",
       "FavoriteGame                    category\n",
       "TotalRevenueGenerated            float64\n",
       "dtype: object"
      ]
     },
     "execution_count": 13,
     "metadata": {},
     "output_type": "execute_result"
    }
   ],
   "source": [
    "#Display data type of each variable\n",
    "data.dtypes"
   ]
  },
  {
   "cell_type": "markdown",
   "metadata": {},
   "source": [
    "#### Delete sku attribute"
   ]
  },
  {
   "cell_type": "code",
   "execution_count": 14,
   "metadata": {},
   "outputs": [
    {
     "data": {
      "text/plain": [
       "3209"
      ]
     },
     "execution_count": 14,
     "metadata": {},
     "output_type": "execute_result"
    }
   ],
   "source": [
    "np.size(np.unique(data.CustomerID, return_counts=True)[0])"
   ]
  },
  {
   "cell_type": "code",
   "execution_count": 15,
   "metadata": {},
   "outputs": [],
   "source": [
    "data.drop('CustomerID', axis=1, inplace=True)"
   ]
  },
  {
   "cell_type": "markdown",
   "metadata": {},
   "source": [
    "#### Missing Data\n",
    "\n",
    "    Missing value analysis and dropping the records with missing values"
   ]
  },
  {
   "cell_type": "code",
   "execution_count": 16,
   "metadata": {},
   "outputs": [
    {
     "data": {
      "text/plain": [
       "City                            0\n",
       "NoOfChildren                    0\n",
       "MinAgeOfChild                   0\n",
       "MaxAgeOfChild                   0\n",
       "Tenure                          0\n",
       "FrquncyOfPurchase               0\n",
       "NoOfUnitsPurchased              0\n",
       "FrequencyOFPlay                 0\n",
       "NoOfGamesPlayed                 0\n",
       "NoOfGamesBought                 0\n",
       "FavoriteChannelOfTransaction    0\n",
       "FavoriteGame                    0\n",
       "TotalRevenueGenerated           0\n",
       "dtype: int64"
      ]
     },
     "execution_count": 16,
     "metadata": {},
     "output_type": "execute_result"
    }
   ],
   "source": [
    "data.isnull().sum()"
   ]
  },
  {
   "cell_type": "markdown",
   "metadata": {},
   "source": [
    "Observing the number of records before and after missing value records removal"
   ]
  },
  {
   "cell_type": "code",
   "execution_count": 17,
   "metadata": {},
   "outputs": [
    {
     "name": "stdout",
     "output_type": "stream",
     "text": [
      "(3209, 13)\n"
     ]
    }
   ],
   "source": [
    "print (data.shape)"
   ]
  },
  {
   "cell_type": "markdown",
   "metadata": {},
   "source": [
    "#### Converting Categorical to Numeric\n",
    "\n",
    "For some of the models all the independent attribute should be of type numeric and Linear Regression model is one among them.\n",
    "But this data set has some categorial attributes.\n",
    "\n",
    "'pandas.get_dummies' To convert convert categorical variable into dummy/indicator variables\n"
   ]
  },
  {
   "cell_type": "code",
   "execution_count": 18,
   "metadata": {},
   "outputs": [
    {
     "name": "stdout",
     "output_type": "stream",
     "text": [
      "Index(['City', 'NoOfChildren', 'MinAgeOfChild', 'MaxAgeOfChild', 'Tenure',\n",
      "       'FrquncyOfPurchase', 'NoOfUnitsPurchased', 'FrequencyOFPlay',\n",
      "       'NoOfGamesPlayed', 'NoOfGamesBought', 'FavoriteChannelOfTransaction',\n",
      "       'FavoriteGame', 'TotalRevenueGenerated'],\n",
      "      dtype='object')\n"
     ]
    }
   ],
   "source": [
    "print (data.columns)"
   ]
  },
  {
   "cell_type": "markdown",
   "metadata": {},
   "source": [
    "Creating dummy variables.\n",
    "\n",
    "    If we have k levels in a category, then we create k-1 dummy variables as the last one would be redundant. So we use the parameter drop_first in pd.get_dummies function that drops the first level in each of the category\n"
   ]
  },
  {
   "cell_type": "code",
   "execution_count": 19,
   "metadata": {},
   "outputs": [],
   "source": [
    "categorical_Attributes = data.select_dtypes(include=['category']).columns"
   ]
  },
  {
   "cell_type": "code",
   "execution_count": 20,
   "metadata": {},
   "outputs": [],
   "source": [
    "data = pd.get_dummies(columns=categorical_Attributes, data=data, prefix=categorical_Attributes, prefix_sep=\"_\",\n",
    "                      drop_first=True)"
   ]
  },
  {
   "cell_type": "code",
   "execution_count": 21,
   "metadata": {},
   "outputs": [
    {
     "name": "stdout",
     "output_type": "stream",
     "text": [
      "Index(['NoOfChildren', 'MinAgeOfChild', 'MaxAgeOfChild', 'Tenure',\n",
      "       'FrquncyOfPurchase', 'NoOfUnitsPurchased', 'FrequencyOFPlay',\n",
      "       'NoOfGamesPlayed', 'NoOfGamesBought', 'TotalRevenueGenerated', 'City_2',\n",
      "       'FavoriteChannelOfTransaction_Uniform', 'FavoriteGame_Uniform'],\n",
      "      dtype='object') (3209, 13)\n"
     ]
    }
   ],
   "source": [
    "print (data.columns, data.shape)"
   ]
  },
  {
   "cell_type": "markdown",
   "metadata": {},
   "source": [
    "#### Target attribute distribution"
   ]
  },
  {
   "cell_type": "code",
   "execution_count": 22,
   "metadata": {},
   "outputs": [
    {
     "data": {
      "text/plain": [
       "100.00    85\n",
       "105.00    74\n",
       "110.00    61\n",
       "102.50    57\n",
       "120.00    53\n",
       "107.50    46\n",
       "117.50    41\n",
       "132.50    39\n",
       "145.00    39\n",
       "115.00    38\n",
       "130.00    38\n",
       "112.50    37\n",
       "125.00    34\n",
       "137.50    31\n",
       "122.50    31\n",
       "140.00    30\n",
       "150.00    29\n",
       "152.50    27\n",
       "142.50    27\n",
       "127.50    25\n",
       "135.00    24\n",
       "180.00    23\n",
       "170.00    21\n",
       "155.00    18\n",
       "172.50    17\n",
       "165.00    14\n",
       "160.00    13\n",
       "195.00    13\n",
       "157.50    12\n",
       "147.50    11\n",
       "          ..\n",
       "100.13     1\n",
       "155.03     1\n",
       "120.26     1\n",
       "171.97     1\n",
       "312.51     1\n",
       "268.23     1\n",
       "114.23     1\n",
       "100.68     1\n",
       "139.79     1\n",
       "129.88     1\n",
       "125.32     1\n",
       "123.91     1\n",
       "281.25     1\n",
       "122.25     1\n",
       "141.75     1\n",
       "218.50     1\n",
       "255.00     1\n",
       "452.50     1\n",
       "100.50     1\n",
       "139.50     1\n",
       "185.89     1\n",
       "252.50     1\n",
       "111.50     1\n",
       "317.64     1\n",
       "249.00     1\n",
       "122.75     1\n",
       "105.09     1\n",
       "106.43     1\n",
       "366.79     1\n",
       "210.71     1\n",
       "Name: TotalRevenueGenerated, Length: 1672, dtype: int64"
      ]
     },
     "execution_count": 22,
     "metadata": {},
     "output_type": "execute_result"
    }
   ],
   "source": [
    "pd.value_counts(data['TotalRevenueGenerated'])"
   ]
  },
  {
   "cell_type": "markdown",
   "metadata": {},
   "source": [
    "#### Split the data in to train and test\n",
    "\n",
    "sklearn.model_selection.train_test_split\n",
    "\n",
    "    Split arrays or matrices into random train and test subsets"
   ]
  },
  {
   "cell_type": "code",
   "execution_count": 23,
   "metadata": {},
   "outputs": [],
   "source": [
    "#Performing train test split on the data\n",
    "X, y = data.loc[:,data.columns!='TotalRevenueGenerated'].values, data.loc[:,'TotalRevenueGenerated'].values\n",
    "\n",
    "X_train, X_test, y_train, y_test = train_test_split(X, y, test_size=0.3, random_state=123)\n"
   ]
  },
  {
   "cell_type": "code",
   "execution_count": 24,
   "metadata": {},
   "outputs": [
    {
     "name": "stdout",
     "output_type": "stream",
     "text": [
      "100.00    66\n",
      "105.00    51\n",
      "110.00    42\n",
      "120.00    36\n",
      "102.50    35\n",
      "107.50    32\n",
      "117.50    30\n",
      "112.50    28\n",
      "115.00    25\n",
      "145.00    25\n",
      "132.50    24\n",
      "125.00    24\n",
      "137.50    22\n",
      "140.00    22\n",
      "122.50    22\n",
      "130.00    21\n",
      "152.50    21\n",
      "127.50    20\n",
      "150.00    18\n",
      "180.00    18\n",
      "135.00    15\n",
      "142.50    15\n",
      "170.00    13\n",
      "195.00    11\n",
      "172.50    11\n",
      "157.50    11\n",
      "155.00    11\n",
      "165.00     9\n",
      "175.00     7\n",
      "207.50     7\n",
      "          ..\n",
      "284.53     1\n",
      "105.04     1\n",
      "126.13     1\n",
      "119.23     1\n",
      "112.59     1\n",
      "270.93     1\n",
      "151.74     1\n",
      "338.19     1\n",
      "162.81     1\n",
      "143.70     1\n",
      "102.48     1\n",
      "100.94     1\n",
      "103.41     1\n",
      "284.32     1\n",
      "159.67     1\n",
      "116.11     1\n",
      "154.12     1\n",
      "103.87     1\n",
      "101.32     1\n",
      "106.71     1\n",
      "269.25     1\n",
      "425.00     1\n",
      "220.50     1\n",
      "170.59     1\n",
      "126.75     1\n",
      "167.00     1\n",
      "290.00     1\n",
      "123.51     1\n",
      "114.50     1\n",
      "104.67     1\n",
      "Length: 1277, dtype: int64\n",
      "105.00    23\n",
      "102.50    22\n",
      "100.00    19\n",
      "110.00    19\n",
      "120.00    17\n",
      "130.00    17\n",
      "132.50    15\n",
      "107.50    14\n",
      "145.00    14\n",
      "115.00    13\n",
      "142.50    12\n",
      "150.00    11\n",
      "117.50    11\n",
      "125.00    10\n",
      "112.50     9\n",
      "137.50     9\n",
      "135.00     9\n",
      "122.50     9\n",
      "170.00     8\n",
      "140.00     8\n",
      "155.00     7\n",
      "152.50     6\n",
      "172.50     6\n",
      "160.00     6\n",
      "107.51     5\n",
      "180.00     5\n",
      "165.00     5\n",
      "127.50     5\n",
      "240.00     4\n",
      "212.50     4\n",
      "          ..\n",
      "104.99     1\n",
      "109.98     1\n",
      "110.52     1\n",
      "107.46     1\n",
      "377.84     1\n",
      "332.09     1\n",
      "133.50     1\n",
      "310.00     1\n",
      "175.89     1\n",
      "215.00     1\n",
      "143.50     1\n",
      "205.00     1\n",
      "149.99     1\n",
      "342.49     1\n",
      "246.52     1\n",
      "169.00     1\n",
      "219.98     1\n",
      "237.46     1\n",
      "104.75     1\n",
      "163.00     1\n",
      "173.00     1\n",
      "404.97     1\n",
      "219.85     1\n",
      "270.00     1\n",
      "217.00     1\n",
      "140.08     1\n",
      "122.49     1\n",
      "120.26     1\n",
      "121.50     1\n",
      "115.02     1\n",
      "Length: 574, dtype: int64\n"
     ]
    }
   ],
   "source": [
    "#To get the distribution in the target in train and test\n",
    "print(pd.value_counts(y_train))\n",
    "print(pd.value_counts(y_test))"
   ]
  },
  {
   "cell_type": "code",
   "execution_count": 25,
   "metadata": {},
   "outputs": [
    {
     "name": "stdout",
     "output_type": "stream",
     "text": [
      "<class 'pandas.core.frame.DataFrame'>\n",
      "RangeIndex: 3209 entries, 0 to 3208\n",
      "Data columns (total 13 columns):\n",
      "NoOfChildren                            3209 non-null int64\n",
      "MinAgeOfChild                           3209 non-null int64\n",
      "MaxAgeOfChild                           3209 non-null int64\n",
      "Tenure                                  3209 non-null int64\n",
      "FrquncyOfPurchase                       3209 non-null int64\n",
      "NoOfUnitsPurchased                      3209 non-null int64\n",
      "FrequencyOFPlay                         3209 non-null int64\n",
      "NoOfGamesPlayed                         3209 non-null int64\n",
      "NoOfGamesBought                         3209 non-null int64\n",
      "TotalRevenueGenerated                   3209 non-null float64\n",
      "City_2                                  3209 non-null uint8\n",
      "FavoriteChannelOfTransaction_Uniform    3209 non-null uint8\n",
      "FavoriteGame_Uniform                    3209 non-null uint8\n",
      "dtypes: float64(1), int64(9), uint8(3)\n",
      "memory usage: 260.2 KB\n"
     ]
    }
   ],
   "source": [
    "data.info()"
   ]
  },
  {
   "cell_type": "markdown",
   "metadata": {},
   "source": [
    "#### Perceptron Model Building"
   ]
  },
  {
   "cell_type": "code",
   "execution_count": 38,
   "metadata": {},
   "outputs": [
    {
     "ename": "NameError",
     "evalue": "name 'regularizers' is not defined",
     "output_type": "error",
     "traceback": [
      "\u001b[1;31m---------------------------------------------------------------------------\u001b[0m",
      "\u001b[1;31mNameError\u001b[0m                                 Traceback (most recent call last)",
      "\u001b[1;32m<ipython-input-38-d4afd10ce9c9>\u001b[0m in \u001b[0;36m<module>\u001b[1;34m()\u001b[0m\n\u001b[0;32m      3\u001b[0m \u001b[0mperceptron_model\u001b[0m\u001b[1;33m.\u001b[0m\u001b[0madd\u001b[0m\u001b[1;33m(\u001b[0m\u001b[0mDense\u001b[0m\u001b[1;33m(\u001b[0m\u001b[1;36m10\u001b[0m\u001b[1;33m,\u001b[0m \u001b[0minput_dim\u001b[0m\u001b[1;33m=\u001b[0m\u001b[1;36m12\u001b[0m\u001b[1;33m,\u001b[0m \u001b[0mactivation\u001b[0m\u001b[1;33m=\u001b[0m\u001b[1;34m'relu'\u001b[0m\u001b[1;33m,\u001b[0m \u001b[0mkernel_initializer\u001b[0m\u001b[1;33m=\u001b[0m\u001b[1;34m'normal'\u001b[0m\u001b[1;33m)\u001b[0m\u001b[1;33m)\u001b[0m\u001b[1;33m\u001b[0m\u001b[0m\n\u001b[0;32m      4\u001b[0m \u001b[0mperceptron_model\u001b[0m\u001b[1;33m.\u001b[0m\u001b[0madd\u001b[0m\u001b[1;33m(\u001b[0m\u001b[0mDense\u001b[0m\u001b[1;33m(\u001b[0m\u001b[1;36m15\u001b[0m\u001b[1;33m,\u001b[0m \u001b[0mactivation\u001b[0m\u001b[1;33m=\u001b[0m\u001b[1;34m'relu'\u001b[0m\u001b[1;33m,\u001b[0m \u001b[0mkernel_initializer\u001b[0m\u001b[1;33m=\u001b[0m\u001b[1;34m'normal'\u001b[0m\u001b[1;33m)\u001b[0m\u001b[1;33m)\u001b[0m\u001b[1;33m\u001b[0m\u001b[0m\n\u001b[1;32m----> 5\u001b[1;33m \u001b[0mperceptron_model\u001b[0m\u001b[1;33m.\u001b[0m\u001b[0madd\u001b[0m\u001b[1;33m(\u001b[0m\u001b[0mDense\u001b[0m\u001b[1;33m(\u001b[0m\u001b[1;36m1\u001b[0m\u001b[1;33m,\u001b[0m \u001b[0mactivation\u001b[0m\u001b[1;33m=\u001b[0m\u001b[1;34m'linear'\u001b[0m\u001b[1;33m,\u001b[0m \u001b[0mkernel_initializer\u001b[0m\u001b[1;33m=\u001b[0m\u001b[1;34m'normal'\u001b[0m\u001b[1;33m,\u001b[0m\u001b[0mkernel_regularizer\u001b[0m\u001b[1;33m=\u001b[0m\u001b[0mregularizers\u001b[0m\u001b[1;33m.\u001b[0m\u001b[0ml2\u001b[0m\u001b[1;33m(\u001b[0m\u001b[1;36m0.05\u001b[0m\u001b[1;33m)\u001b[0m\u001b[1;33m)\u001b[0m\u001b[1;33m)\u001b[0m\u001b[1;33m\u001b[0m\u001b[0m\n\u001b[0m",
      "\u001b[1;31mNameError\u001b[0m: name 'regularizers' is not defined"
     ]
    }
   ],
   "source": [
    "perceptron_model = Sequential()\n",
    "\n",
    "perceptron_model.add(Dense(10, input_dim=12, activation='relu', kernel_initializer='normal'))\n",
    "perceptron_model.add(Dense(15, activation='relu', kernel_initializer='normal'))\n",
    "perceptron_model.add(Dense(1, activation='linear', kernel_initializer='normal',kernel_regularizer=regularizers.l2(0.05)))"
   ]
  },
  {
   "cell_type": "code",
   "execution_count": null,
   "metadata": {},
   "outputs": [],
   "source": [
    "perceptron_model.compile(loss='mse', optimizer='adam', metrics=['mse'])"
   ]
  },
  {
   "cell_type": "code",
   "execution_count": null,
   "metadata": {},
   "outputs": [],
   "source": [
    "perceptron_model.fit(X_train, y_train, epochs=50, batch_size=64)"
   ]
  },
  {
   "cell_type": "markdown",
   "metadata": {},
   "source": [
    "#### Predictions"
   ]
  },
  {
   "cell_type": "code",
   "execution_count": 39,
   "metadata": {},
   "outputs": [],
   "source": [
    "y_pred=perceptron_model.predict_classes(X_test)\n",
    "y_train_pred=perceptron_model.predict_classes(X_train)"
   ]
  },
  {
   "cell_type": "code",
   "execution_count": 40,
   "metadata": {},
   "outputs": [],
   "source": [
    "from sklearn import metrics"
   ]
  },
  {
   "cell_type": "markdown",
   "metadata": {},
   "source": [
    "#### Getting evaluation metrics and evaluating model performance"
   ]
  },
  {
   "cell_type": "code",
   "execution_count": 41,
   "metadata": {},
   "outputs": [
    {
     "name": "stdout",
     "output_type": "stream",
     "text": [
      "Mean absolute Error: 160.87406022845275\n",
      "Mean Squared Error: 32889.77159065421\n",
      "Root Mean Square error: 181.35537375731167\n"
     ]
    }
   ],
   "source": [
    "print(\"Mean absolute Error:\", metrics.mean_absolute_error(y_pred,y_test))\n",
    "print(\"Mean Squared Error:\", metrics.mean_squared_error(y_pred,y_test))\n",
    "print(\"Root Mean Square error:\", np.sqrt(metrics.mean_squared_error(y_pred,y_test)))"
   ]
  },
  {
   "cell_type": "markdown",
   "metadata": {},
   "source": [
    "#### Calculate Accuracy, True Positive Rate and True Negative Rates"
   ]
  }
 ],
 "metadata": {
  "kernelspec": {
   "display_name": "Python 3",
   "language": "python",
   "name": "python3"
  },
  "language_info": {
   "codemirror_mode": {
    "name": "ipython",
    "version": 3
   },
   "file_extension": ".py",
   "mimetype": "text/x-python",
   "name": "python",
   "nbconvert_exporter": "python",
   "pygments_lexer": "ipython3",
   "version": "3.6.5"
  }
 },
 "nbformat": 4,
 "nbformat_minor": 2
}
