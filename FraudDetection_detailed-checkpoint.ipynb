{
 "cells": [
  {
   "cell_type": "markdown",
   "metadata": {},
   "source": [
    "### Loading the required libraries"
   ]
  },
  {
   "cell_type": "code",
   "execution_count": 1,
   "metadata": {},
   "outputs": [
    {
     "name": "stderr",
     "output_type": "stream",
     "text": [
      "C:\\Users\\bharg\\Anaconda3\\lib\\site-packages\\h5py\\__init__.py:34: FutureWarning: Conversion of the second argument of issubdtype from `float` to `np.floating` is deprecated. In future, it will be treated as `np.float64 == np.dtype(float).type`.\n",
      "  from ._conv import register_converters as _register_converters\n",
      "Using TensorFlow backend.\n"
     ]
    }
   ],
   "source": [
    "import pandas as pd\n",
    "import numpy as np\n",
    "import matplotlib.pyplot as plt\n",
    "from pylab import rcParams\n",
    "from keras.models import Sequential\n",
    "from keras.layers import Dense, Dropout\n",
    "\n",
    "%matplotlib inline\n",
    "\n",
    "RANDOM_SEED =7124\n",
    "LABELS = [\"Normal\", \"Fraud\"]"
   ]
  },
  {
   "cell_type": "code",
   "execution_count": 2,
   "metadata": {},
   "outputs": [
    {
     "data": {
      "text/plain": [
       "(100000, 30)"
      ]
     },
     "execution_count": 2,
     "metadata": {},
     "output_type": "execute_result"
    }
   ],
   "source": [
    "# Reading the data and lookng at the structure of the data. This data has 30 attributes and 1 lakh records\n",
    "data = pd.read_csv(\"Fraud_data_amtstd.csv\")\n",
    "data.shape"
   ]
  },
  {
   "cell_type": "code",
   "execution_count": 3,
   "metadata": {},
   "outputs": [
    {
     "data": {
      "text/html": [
       "<div>\n",
       "<style>\n",
       "    .dataframe thead tr:only-child th {\n",
       "        text-align: right;\n",
       "    }\n",
       "\n",
       "    .dataframe thead th {\n",
       "        text-align: left;\n",
       "    }\n",
       "\n",
       "    .dataframe tbody tr th {\n",
       "        vertical-align: top;\n",
       "    }\n",
       "</style>\n",
       "<table border=\"1\" class=\"dataframe\">\n",
       "  <thead>\n",
       "    <tr style=\"text-align: right;\">\n",
       "      <th></th>\n",
       "      <th>V1</th>\n",
       "      <th>V2</th>\n",
       "      <th>V3</th>\n",
       "      <th>V4</th>\n",
       "      <th>V5</th>\n",
       "      <th>V6</th>\n",
       "      <th>V7</th>\n",
       "      <th>V8</th>\n",
       "      <th>V9</th>\n",
       "      <th>V10</th>\n",
       "      <th>...</th>\n",
       "      <th>V21</th>\n",
       "      <th>V22</th>\n",
       "      <th>V23</th>\n",
       "      <th>V24</th>\n",
       "      <th>V25</th>\n",
       "      <th>V26</th>\n",
       "      <th>V27</th>\n",
       "      <th>V28</th>\n",
       "      <th>Amount</th>\n",
       "      <th>Class</th>\n",
       "    </tr>\n",
       "  </thead>\n",
       "  <tbody>\n",
       "    <tr>\n",
       "      <th>0</th>\n",
       "      <td>1.836500</td>\n",
       "      <td>-0.545419</td>\n",
       "      <td>-0.462979</td>\n",
       "      <td>0.537174</td>\n",
       "      <td>-0.426143</td>\n",
       "      <td>-0.100606</td>\n",
       "      <td>-0.584764</td>\n",
       "      <td>-0.103956</td>\n",
       "      <td>2.268429</td>\n",
       "      <td>-0.365185</td>\n",
       "      <td>...</td>\n",
       "      <td>0.085111</td>\n",
       "      <td>0.410736</td>\n",
       "      <td>0.137625</td>\n",
       "      <td>0.602906</td>\n",
       "      <td>-0.350260</td>\n",
       "      <td>0.464407</td>\n",
       "      <td>-0.070917</td>\n",
       "      <td>-0.030486</td>\n",
       "      <td>0.049882</td>\n",
       "      <td>0</td>\n",
       "    </tr>\n",
       "    <tr>\n",
       "      <th>1</th>\n",
       "      <td>-4.289880</td>\n",
       "      <td>-2.576061</td>\n",
       "      <td>-0.092256</td>\n",
       "      <td>1.976405</td>\n",
       "      <td>2.810033</td>\n",
       "      <td>-2.669128</td>\n",
       "      <td>-0.981883</td>\n",
       "      <td>-0.470310</td>\n",
       "      <td>-0.025692</td>\n",
       "      <td>0.099528</td>\n",
       "      <td>...</td>\n",
       "      <td>-0.473240</td>\n",
       "      <td>-0.307295</td>\n",
       "      <td>-2.789549</td>\n",
       "      <td>0.578976</td>\n",
       "      <td>-0.837979</td>\n",
       "      <td>0.372843</td>\n",
       "      <td>0.353451</td>\n",
       "      <td>-1.662202</td>\n",
       "      <td>-0.347171</td>\n",
       "      <td>0</td>\n",
       "    </tr>\n",
       "    <tr>\n",
       "      <th>2</th>\n",
       "      <td>1.131318</td>\n",
       "      <td>0.139818</td>\n",
       "      <td>0.586921</td>\n",
       "      <td>1.069291</td>\n",
       "      <td>-0.334908</td>\n",
       "      <td>-0.204938</td>\n",
       "      <td>-0.135526</td>\n",
       "      <td>0.043821</td>\n",
       "      <td>-0.121117</td>\n",
       "      <td>0.182139</td>\n",
       "      <td>...</td>\n",
       "      <td>-0.028126</td>\n",
       "      <td>-0.167062</td>\n",
       "      <td>-0.048054</td>\n",
       "      <td>-0.009912</td>\n",
       "      <td>0.417694</td>\n",
       "      <td>-0.479793</td>\n",
       "      <td>0.024360</td>\n",
       "      <td>0.023878</td>\n",
       "      <td>-0.208963</td>\n",
       "      <td>0</td>\n",
       "    </tr>\n",
       "    <tr>\n",
       "      <th>3</th>\n",
       "      <td>-0.866956</td>\n",
       "      <td>1.373947</td>\n",
       "      <td>1.948343</td>\n",
       "      <td>2.686750</td>\n",
       "      <td>-0.366790</td>\n",
       "      <td>0.568632</td>\n",
       "      <td>-0.278349</td>\n",
       "      <td>0.739536</td>\n",
       "      <td>-1.655955</td>\n",
       "      <td>0.708396</td>\n",
       "      <td>...</td>\n",
       "      <td>0.022719</td>\n",
       "      <td>-0.070619</td>\n",
       "      <td>-0.080307</td>\n",
       "      <td>0.000816</td>\n",
       "      <td>0.092167</td>\n",
       "      <td>0.159131</td>\n",
       "      <td>0.157940</td>\n",
       "      <td>-0.014370</td>\n",
       "      <td>-0.253595</td>\n",
       "      <td>0</td>\n",
       "    </tr>\n",
       "    <tr>\n",
       "      <th>4</th>\n",
       "      <td>-0.842670</td>\n",
       "      <td>1.401843</td>\n",
       "      <td>0.927235</td>\n",
       "      <td>1.070402</td>\n",
       "      <td>0.843883</td>\n",
       "      <td>0.467333</td>\n",
       "      <td>0.366716</td>\n",
       "      <td>0.616739</td>\n",
       "      <td>-1.586963</td>\n",
       "      <td>0.000041</td>\n",
       "      <td>...</td>\n",
       "      <td>0.036573</td>\n",
       "      <td>-0.182581</td>\n",
       "      <td>-0.226834</td>\n",
       "      <td>-1.029794</td>\n",
       "      <td>-0.118762</td>\n",
       "      <td>-0.228960</td>\n",
       "      <td>-0.024250</td>\n",
       "      <td>0.046547</td>\n",
       "      <td>-0.346230</td>\n",
       "      <td>0</td>\n",
       "    </tr>\n",
       "    <tr>\n",
       "      <th>5</th>\n",
       "      <td>1.178458</td>\n",
       "      <td>0.166055</td>\n",
       "      <td>-0.101567</td>\n",
       "      <td>0.369453</td>\n",
       "      <td>0.017198</td>\n",
       "      <td>-0.722891</td>\n",
       "      <td>0.396639</td>\n",
       "      <td>-0.187978</td>\n",
       "      <td>-0.483147</td>\n",
       "      <td>0.083094</td>\n",
       "      <td>...</td>\n",
       "      <td>-0.323048</td>\n",
       "      <td>-1.083814</td>\n",
       "      <td>0.049838</td>\n",
       "      <td>-0.002872</td>\n",
       "      <td>0.295810</td>\n",
       "      <td>0.135883</td>\n",
       "      <td>-0.074191</td>\n",
       "      <td>0.004364</td>\n",
       "      <td>-0.150527</td>\n",
       "      <td>0</td>\n",
       "    </tr>\n",
       "    <tr>\n",
       "      <th>6</th>\n",
       "      <td>1.869017</td>\n",
       "      <td>-0.202287</td>\n",
       "      <td>-0.218739</td>\n",
       "      <td>1.496434</td>\n",
       "      <td>-0.403332</td>\n",
       "      <td>-0.013593</td>\n",
       "      <td>-0.342586</td>\n",
       "      <td>0.129402</td>\n",
       "      <td>0.911017</td>\n",
       "      <td>0.149568</td>\n",
       "      <td>...</td>\n",
       "      <td>-0.458963</td>\n",
       "      <td>-1.058509</td>\n",
       "      <td>0.439679</td>\n",
       "      <td>-0.066668</td>\n",
       "      <td>-0.376792</td>\n",
       "      <td>-1.125226</td>\n",
       "      <td>0.053537</td>\n",
       "      <td>-0.039380</td>\n",
       "      <td>-0.305050</td>\n",
       "      <td>0</td>\n",
       "    </tr>\n",
       "    <tr>\n",
       "      <th>7</th>\n",
       "      <td>1.335053</td>\n",
       "      <td>0.331464</td>\n",
       "      <td>-2.057763</td>\n",
       "      <td>-0.346175</td>\n",
       "      <td>2.583234</td>\n",
       "      <td>2.854102</td>\n",
       "      <td>-0.187547</td>\n",
       "      <td>0.685154</td>\n",
       "      <td>-0.286614</td>\n",
       "      <td>-0.535903</td>\n",
       "      <td>...</td>\n",
       "      <td>-0.191820</td>\n",
       "      <td>-0.650118</td>\n",
       "      <td>-0.114069</td>\n",
       "      <td>0.915936</td>\n",
       "      <td>0.730073</td>\n",
       "      <td>0.383879</td>\n",
       "      <td>-0.031902</td>\n",
       "      <td>0.029849</td>\n",
       "      <td>-0.347171</td>\n",
       "      <td>0</td>\n",
       "    </tr>\n",
       "    <tr>\n",
       "      <th>8</th>\n",
       "      <td>1.787763</td>\n",
       "      <td>-0.737892</td>\n",
       "      <td>-0.185794</td>\n",
       "      <td>0.362758</td>\n",
       "      <td>-0.550775</td>\n",
       "      <td>0.676564</td>\n",
       "      <td>-0.932369</td>\n",
       "      <td>0.390445</td>\n",
       "      <td>1.349983</td>\n",
       "      <td>-0.136095</td>\n",
       "      <td>...</td>\n",
       "      <td>0.331025</td>\n",
       "      <td>1.223539</td>\n",
       "      <td>0.264791</td>\n",
       "      <td>-0.541170</td>\n",
       "      <td>-0.571339</td>\n",
       "      <td>0.812785</td>\n",
       "      <td>0.017984</td>\n",
       "      <td>-0.054691</td>\n",
       "      <td>-0.232691</td>\n",
       "      <td>0</td>\n",
       "    </tr>\n",
       "    <tr>\n",
       "      <th>9</th>\n",
       "      <td>-1.055540</td>\n",
       "      <td>0.942471</td>\n",
       "      <td>0.986697</td>\n",
       "      <td>1.560551</td>\n",
       "      <td>-0.138755</td>\n",
       "      <td>-0.253645</td>\n",
       "      <td>0.622974</td>\n",
       "      <td>-0.321826</td>\n",
       "      <td>-0.215914</td>\n",
       "      <td>0.816454</td>\n",
       "      <td>...</td>\n",
       "      <td>0.153985</td>\n",
       "      <td>0.985031</td>\n",
       "      <td>0.204281</td>\n",
       "      <td>0.455561</td>\n",
       "      <td>-0.456576</td>\n",
       "      <td>-0.244140</td>\n",
       "      <td>-0.833487</td>\n",
       "      <td>-0.419773</td>\n",
       "      <td>-0.173549</td>\n",
       "      <td>0</td>\n",
       "    </tr>\n",
       "  </tbody>\n",
       "</table>\n",
       "<p>10 rows × 30 columns</p>\n",
       "</div>"
      ],
      "text/plain": [
       "         V1        V2        V3        V4        V5        V6        V7  \\\n",
       "0  1.836500 -0.545419 -0.462979  0.537174 -0.426143 -0.100606 -0.584764   \n",
       "1 -4.289880 -2.576061 -0.092256  1.976405  2.810033 -2.669128 -0.981883   \n",
       "2  1.131318  0.139818  0.586921  1.069291 -0.334908 -0.204938 -0.135526   \n",
       "3 -0.866956  1.373947  1.948343  2.686750 -0.366790  0.568632 -0.278349   \n",
       "4 -0.842670  1.401843  0.927235  1.070402  0.843883  0.467333  0.366716   \n",
       "5  1.178458  0.166055 -0.101567  0.369453  0.017198 -0.722891  0.396639   \n",
       "6  1.869017 -0.202287 -0.218739  1.496434 -0.403332 -0.013593 -0.342586   \n",
       "7  1.335053  0.331464 -2.057763 -0.346175  2.583234  2.854102 -0.187547   \n",
       "8  1.787763 -0.737892 -0.185794  0.362758 -0.550775  0.676564 -0.932369   \n",
       "9 -1.055540  0.942471  0.986697  1.560551 -0.138755 -0.253645  0.622974   \n",
       "\n",
       "         V8        V9       V10  ...         V21       V22       V23  \\\n",
       "0 -0.103956  2.268429 -0.365185  ...    0.085111  0.410736  0.137625   \n",
       "1 -0.470310 -0.025692  0.099528  ...   -0.473240 -0.307295 -2.789549   \n",
       "2  0.043821 -0.121117  0.182139  ...   -0.028126 -0.167062 -0.048054   \n",
       "3  0.739536 -1.655955  0.708396  ...    0.022719 -0.070619 -0.080307   \n",
       "4  0.616739 -1.586963  0.000041  ...    0.036573 -0.182581 -0.226834   \n",
       "5 -0.187978 -0.483147  0.083094  ...   -0.323048 -1.083814  0.049838   \n",
       "6  0.129402  0.911017  0.149568  ...   -0.458963 -1.058509  0.439679   \n",
       "7  0.685154 -0.286614 -0.535903  ...   -0.191820 -0.650118 -0.114069   \n",
       "8  0.390445  1.349983 -0.136095  ...    0.331025  1.223539  0.264791   \n",
       "9 -0.321826 -0.215914  0.816454  ...    0.153985  0.985031  0.204281   \n",
       "\n",
       "        V24       V25       V26       V27       V28    Amount  Class  \n",
       "0  0.602906 -0.350260  0.464407 -0.070917 -0.030486  0.049882      0  \n",
       "1  0.578976 -0.837979  0.372843  0.353451 -1.662202 -0.347171      0  \n",
       "2 -0.009912  0.417694 -0.479793  0.024360  0.023878 -0.208963      0  \n",
       "3  0.000816  0.092167  0.159131  0.157940 -0.014370 -0.253595      0  \n",
       "4 -1.029794 -0.118762 -0.228960 -0.024250  0.046547 -0.346230      0  \n",
       "5 -0.002872  0.295810  0.135883 -0.074191  0.004364 -0.150527      0  \n",
       "6 -0.066668 -0.376792 -1.125226  0.053537 -0.039380 -0.305050      0  \n",
       "7  0.915936  0.730073  0.383879 -0.031902  0.029849 -0.347171      0  \n",
       "8 -0.541170 -0.571339  0.812785  0.017984 -0.054691 -0.232691      0  \n",
       "9  0.455561 -0.456576 -0.244140 -0.833487 -0.419773 -0.173549      0  \n",
       "\n",
       "[10 rows x 30 columns]"
      ]
     },
     "execution_count": 3,
     "metadata": {},
     "output_type": "execute_result"
    }
   ],
   "source": [
    "#Looking at a sample of records\n",
    "data.head(10)"
   ]
  },
  {
   "cell_type": "code",
   "execution_count": 4,
   "metadata": {},
   "outputs": [
    {
     "name": "stdout",
     "output_type": "stream",
     "text": [
      "0    99508\n",
      "1      492\n",
      "Name: Class, dtype: int64\n"
     ]
    },
    {
     "data": {
      "image/png": "[encoded data removed]",
      "text/plain": [
       "<matplotlib.figure.Figure at 0x176c650b0b8>"
      ]
     },
     "metadata": {},
     "output_type": "display_data"
    }
   ],
   "source": [
    "#PLotting the frequencies of fraud and non-fraud transactions in the data\n",
    "count_classes = pd.value_counts(data['Class'], sort = True)\n",
    "print(count_classes)\n",
    "\n",
    "#Drawing a barplot\n",
    "count_classes.plot(kind = 'bar', rot=0)\n",
    "\n",
    "#Giving titles and labels to the plot\n",
    "plt.title(\"Transaction class distribution\")\n",
    "plt.xticks(range(2), LABELS)\n",
    "plt.xlabel(\"Class\")\n",
    "plt.ylabel(\"Frequency\");"
   ]
  },
  {
   "cell_type": "code",
   "execution_count": 5,
   "metadata": {
    "collapsed": true
   },
   "outputs": [],
   "source": [
    "from sklearn.model_selection import train_test_split\n",
    "#Converting data to array\n",
    "data = np.array(data)"
   ]
  },
  {
   "cell_type": "code",
   "execution_count": 6,
   "metadata": {},
   "outputs": [
    {
     "name": "stdout",
     "output_type": "stream",
     "text": [
      "(80000, 30)\n",
      "(20000, 30)\n"
     ]
    }
   ],
   "source": [
    "#Splitting the data into train and test and observing their dimensions\n",
    "X_train, X_test = train_test_split(data, test_size=0.2, random_state=RANDOM_SEED)\n",
    "print(X_train.shape)\n",
    "print(X_test.shape)"
   ]
  },
  {
   "cell_type": "code",
   "execution_count": 7,
   "metadata": {},
   "outputs": [
    {
     "name": "stdout",
     "output_type": "stream",
     "text": [
      "(array([0., 1.]), array([79591,   409], dtype=int64))\n",
      "(array([0., 1.]), array([19917,    83], dtype=int64))\n"
     ]
    }
   ],
   "source": [
    "#Obtaining the fraud and non-fraud records in train\n",
    "print(np.unique(X_train[:,29],return_counts=True))\n",
    "print(np.unique(X_test[:,29],return_counts=True))"
   ]
  },
  {
   "cell_type": "code",
   "execution_count": 8,
   "metadata": {},
   "outputs": [
    {
     "name": "stdout",
     "output_type": "stream",
     "text": [
      "(79591, 29)\n"
     ]
    }
   ],
   "source": [
    "#Now consider only the non-fraud records for training\n",
    "X_train_NF = X_train[X_train[:,-1] == 0]\n",
    "X_train_NF = X_train_NF[:,:-1]\n",
    "print(X_train_NF.shape)"
   ]
  },
  {
   "cell_type": "code",
   "execution_count": 9,
   "metadata": {},
   "outputs": [
    {
     "name": "stdout",
     "output_type": "stream",
     "text": [
      "(409, 30)\n"
     ]
    }
   ],
   "source": [
    "#Separating out the fraud records from the train \n",
    "X_train_F = X_train[X_train[:,-1] == 1]\n",
    "print(X_train_F.shape)"
   ]
  },
  {
   "cell_type": "code",
   "execution_count": 10,
   "metadata": {},
   "outputs": [
    {
     "name": "stdout",
     "output_type": "stream",
     "text": [
      "(20409, 30)\n"
     ]
    }
   ],
   "source": [
    "#Adding/concatenating the fraud records from train data to the test\n",
    "X_test=np.concatenate((X_test,X_train_F),axis=0)\n",
    "print(X_test.shape)"
   ]
  },
  {
   "cell_type": "code",
   "execution_count": 11,
   "metadata": {
    "collapsed": true
   },
   "outputs": [],
   "source": [
    "X_test,X_eval = train_test_split(X_test, test_size=0.2, random_state=RANDOM_SEED)"
   ]
  },
  {
   "cell_type": "code",
   "execution_count": 12,
   "metadata": {},
   "outputs": [
    {
     "name": "stdout",
     "output_type": "stream",
     "text": [
      "(16327, 30)\n",
      "(4082, 30)\n"
     ]
    }
   ],
   "source": [
    "print(X_test.shape)\n",
    "print(X_eval.shape)"
   ]
  },
  {
   "cell_type": "code",
   "execution_count": 13,
   "metadata": {
    "collapsed": true
   },
   "outputs": [],
   "source": [
    "#Separating the independent and the class variable\n",
    "y_test = X_test[:,-1]\n",
    "X_test = X_test[:,:-1]"
   ]
  },
  {
   "cell_type": "code",
   "execution_count": 14,
   "metadata": {},
   "outputs": [
    {
     "data": {
      "text/plain": [
       "(16327, 1)"
      ]
     },
     "execution_count": 14,
     "metadata": {},
     "output_type": "execute_result"
    }
   ],
   "source": [
    "#Expanding the dimensions of y for later concatenation\n",
    "y_test = np.expand_dims(y_test, axis=1)\n",
    "y_test.shape"
   ]
  },
  {
   "cell_type": "code",
   "execution_count": 16,
   "metadata": {},
   "outputs": [
    {
     "name": "stdout",
     "output_type": "stream",
     "text": [
      "(16327, 30)\n",
      "(15942, 30)\n",
      "(385, 30)\n"
     ]
    }
   ],
   "source": [
    "##We want to separate out fraud records and non-fraud records for later use\n",
    "f = np.hstack((X_test,y_test))\n",
    "print(f.shape)\n",
    "\n",
    "test_nf=f[f[:,29]==0]\n",
    "print(test_nf.shape)\n",
    "\n",
    "test_f=f[f[:,29]==1]\n",
    "print(test_f.shape)"
   ]
  },
  {
   "cell_type": "code",
   "execution_count": 17,
   "metadata": {
    "collapsed": true
   },
   "outputs": [],
   "source": [
    "##Removing unnecessary variables\n",
    "del X_train1, X_train2"
   ]
  },
  {
   "cell_type": "markdown",
   "metadata": {},
   "source": [
    "#### Model Building"
   ]
  },
  {
   "cell_type": "code",
   "execution_count": 17,
   "metadata": {
    "collapsed": true
   },
   "outputs": [],
   "source": [
    "input_dim = X_train_NF.shape[1]\n",
    "encoding_dim = 15"
   ]
  },
  {
   "cell_type": "code",
   "execution_count": 18,
   "metadata": {
    "collapsed": true
   },
   "outputs": [],
   "source": [
    "autoencoder = Sequential()\n",
    "\n",
    "autoencoder.add(Dropout(0.2, input_shape=(input_dim,)))\n",
    "#autoencoder.add(Dense(20, activation='sigmoid'))\n",
    "autoencoder.add(Dense(encoding_dim, activation='relu'))\n",
    "#autoencoder.add(Dense(20, activation='sigmoid'))\n",
    "autoencoder.add(Dense(input_dim, activation='linear'))"
   ]
  },
  {
   "cell_type": "code",
   "execution_count": 19,
   "metadata": {},
   "outputs": [
    {
     "name": "stdout",
     "output_type": "stream",
     "text": [
      "WARNING:tensorflow:From C:\\Users\\bharg\\Anaconda3\\lib\\site-packages\\keras\\backend\\tensorflow_backend.py:1290: calling reduce_mean (from tensorflow.python.ops.math_ops) with keep_dims is deprecated and will be removed in a future version.\n",
      "Instructions for updating:\n",
      "keep_dims is deprecated, use keepdims instead\n"
     ]
    }
   ],
   "source": [
    "nb_epoch = 100\n",
    "batch_size = 32\n",
    "\n",
    "autoencoder.compile(optimizer='adam', \n",
    "                    loss='mean_squared_error', \n",
    "                    metrics=['mse'])"
   ]
  },
  {
   "cell_type": "code",
   "execution_count": 21,
   "metadata": {},
   "outputs": [
    {
     "name": "stdout",
     "output_type": "stream",
     "text": [
      "Train on 79591 samples, validate on 16327 samples\n",
      "Epoch 1/1\n",
      "79591/79591 [==============================] - 4s - loss: 0.5787 - mean_squared_error: 0.5787 - val_loss: 0.8279 - val_mean_squared_error: 0.8279\n",
      "Train on 79591 samples, validate on 16327 samples\n",
      "Epoch 1/1\n",
      "79591/79591 [==============================] - 4s - loss: 0.3712 - mean_squared_error: 0.3712 - val_loss: 0.7336 - val_mean_squared_error: 0.7336\n",
      "Train on 79591 samples, validate on 16327 samples\n",
      "Epoch 1/1\n",
      "79591/79591 [==============================] - 4s - loss: 0.3486 - mean_squared_error: 0.3486 - val_loss: 0.7133 - val_mean_squared_error: 0.7133\n",
      "Train on 79591 samples, validate on 16327 samples\n",
      "Epoch 1/1\n",
      "79591/79591 [==============================] - 4s - loss: 0.3424 - mean_squared_error: 0.3424 - val_loss: 0.7064 - val_mean_squared_error: 0.7064\n",
      "Train on 79591 samples, validate on 16327 samples\n",
      "Epoch 1/1\n",
      "79591/79591 [==============================] - 4s - loss: 0.3420 - mean_squared_error: 0.3420 - val_loss: 0.6981 - val_mean_squared_error: 0.6981\n",
      "Train on 79591 samples, validate on 16327 samples\n",
      "Epoch 1/1\n",
      "79591/79591 [==============================] - 4s - loss: 0.3376 - mean_squared_error: 0.3376 - val_loss: 0.6983 - val_mean_squared_error: 0.6983\n",
      "Train on 79591 samples, validate on 16327 samples\n",
      "Epoch 1/1\n",
      "79591/79591 [==============================] - 4s - loss: 0.3418 - mean_squared_error: 0.3418 - val_loss: 0.6954 - val_mean_squared_error: 0.6954\n",
      "Train on 79591 samples, validate on 16327 samples\n",
      "Epoch 1/1\n",
      "79591/79591 [==============================] - 5s - loss: 0.3385 - mean_squared_error: 0.3385 - val_loss: 0.6954 - val_mean_squared_error: 0.6954\n",
      "Train on 79591 samples, validate on 16327 samples\n",
      "Epoch 1/1\n",
      "79591/79591 [==============================] - 4s - loss: 0.3378 - mean_squared_error: 0.3378 - val_loss: 0.7021 - val_mean_squared_error: 0.7021\n",
      "Train on 79591 samples, validate on 16327 samples\n",
      "Epoch 1/1\n",
      "79591/79591 [==============================] - 4s - loss: 0.3362 - mean_squared_error: 0.3362 - val_loss: 0.6833 - val_mean_squared_error: 0.6833\n",
      "Train on 79591 samples, validate on 16327 samples\n",
      "Epoch 1/1\n",
      "79591/79591 [==============================] - 4s - loss: 0.3332 - mean_squared_error: 0.3332 - val_loss: 0.6898 - val_mean_squared_error: 0.6898\n",
      "Train on 79591 samples, validate on 16327 samples\n",
      "Epoch 1/1\n",
      "79591/79591 [==============================] - 4s - loss: 0.3357 - mean_squared_error: 0.3357 - val_loss: 0.6850 - val_mean_squared_error: 0.6850\n",
      "Train on 79591 samples, validate on 16327 samples\n",
      "Epoch 1/1\n",
      "79591/79591 [==============================] - 4s - loss: 0.3368 - mean_squared_error: 0.3368 - val_loss: 0.6925 - val_mean_squared_error: 0.6925\n",
      "Train on 79591 samples, validate on 16327 samples\n",
      "Epoch 1/1\n",
      "79591/79591 [==============================] - 3s - loss: 0.3323 - mean_squared_error: 0.3323 - val_loss: 0.6886 - val_mean_squared_error: 0.6886\n",
      "Train on 79591 samples, validate on 16327 samples\n",
      "Epoch 1/1\n",
      "79591/79591 [==============================] - 5s - loss: 0.3345 - mean_squared_error: 0.3345 - val_loss: 0.6915 - val_mean_squared_error: 0.6915\n",
      "Train on 79591 samples, validate on 16327 samples\n",
      "Epoch 1/1\n",
      "79591/79591 [==============================] - 6s - loss: 0.3361 - mean_squared_error: 0.3361 - val_loss: 0.6902 - val_mean_squared_error: 0.6902\n",
      "Train on 79591 samples, validate on 16327 samples\n",
      "Epoch 1/1\n",
      "79591/79591 [==============================] - 5s - loss: 0.3329 - mean_squared_error: 0.3329 - val_loss: 0.6879 - val_mean_squared_error: 0.6879\n",
      "Train on 79591 samples, validate on 16327 samples\n",
      "Epoch 1/1\n",
      "79591/79591 [==============================] - 4s - loss: 0.3325 - mean_squared_error: 0.3325 - val_loss: 0.6980 - val_mean_squared_error: 0.6980\n",
      "Train on 79591 samples, validate on 16327 samples\n",
      "Epoch 1/1\n",
      "79591/79591 [==============================] - 4s - loss: 0.3322 - mean_squared_error: 0.3322 - val_loss: 0.6855 - val_mean_squared_error: 0.6855\n",
      "Train on 79591 samples, validate on 16327 samples\n",
      "Epoch 1/1\n",
      "79591/79591 [==============================] - 4s - loss: 0.3314 - mean_squared_error: 0.3314 - val_loss: 0.7029 - val_mean_squared_error: 0.7029\n",
      "Train on 79591 samples, validate on 16327 samples\n",
      "Epoch 1/1\n",
      "79591/79591 [==============================] - 4s - loss: 0.3317 - mean_squared_error: 0.3317 - val_loss: 0.7018 - val_mean_squared_error: 0.7018\n",
      "Train on 79591 samples, validate on 16327 samples\n",
      "Epoch 1/1\n",
      "79591/79591 [==============================] - 4s - loss: 0.3332 - mean_squared_error: 0.3332 - val_loss: 0.7018 - val_mean_squared_error: 0.7018\n",
      "Train on 79591 samples, validate on 16327 samples\n",
      "Epoch 1/1\n",
      "79591/79591 [==============================] - 5s - loss: 0.3296 - mean_squared_error: 0.3296 - val_loss: 0.6855 - val_mean_squared_error: 0.6855\n",
      "Train on 79591 samples, validate on 16327 samples\n",
      "Epoch 1/1\n",
      "79591/79591 [==============================] - 4s - loss: 0.3300 - mean_squared_error: 0.3300 - val_loss: 0.6868 - val_mean_squared_error: 0.6868\n",
      "Train on 79591 samples, validate on 16327 samples\n",
      "Epoch 1/1\n",
      "79591/79591 [==============================] - 4s - loss: 0.3298 - mean_squared_error: 0.3298 - val_loss: 0.6962 - val_mean_squared_error: 0.6962\n",
      "Train on 79591 samples, validate on 16327 samples\n",
      "Epoch 1/1\n",
      "79591/79591 [==============================] - 5s - loss: 0.3298 - mean_squared_error: 0.3298 - val_loss: 0.6936 - val_mean_squared_error: 0.6936\n",
      "Train on 79591 samples, validate on 16327 samples\n",
      "Epoch 1/1\n",
      "79591/79591 [==============================] - 4s - loss: 0.3280 - mean_squared_error: 0.3280 - val_loss: 0.6793 - val_mean_squared_error: 0.6793\n",
      "Train on 79591 samples, validate on 16327 samples\n",
      "Epoch 1/1\n",
      "79591/79591 [==============================] - 5s - loss: 0.3314 - mean_squared_error: 0.3314 - val_loss: 0.6823 - val_mean_squared_error: 0.6823\n",
      "Train on 79591 samples, validate on 16327 samples\n",
      "Epoch 1/1\n",
      "79591/79591 [==============================] - 4s - loss: 0.3288 - mean_squared_error: 0.3288 - val_loss: 0.6809 - val_mean_squared_error: 0.6809\n",
      "Train on 79591 samples, validate on 16327 samples\n",
      "Epoch 1/1\n",
      "79591/79591 [==============================] - 4s - loss: 0.3319 - mean_squared_error: 0.3319 - val_loss: 0.6877 - val_mean_squared_error: 0.6877\n",
      "Train on 79591 samples, validate on 16327 samples\n",
      "Epoch 1/1\n",
      "79591/79591 [==============================] - 5s - loss: 0.3297 - mean_squared_error: 0.3297 - val_loss: 0.6942 - val_mean_squared_error: 0.6942\n",
      "Train on 79591 samples, validate on 16327 samples\n",
      "Epoch 1/1\n",
      "79591/79591 [==============================] - 5s - loss: 0.3307 - mean_squared_error: 0.3307 - val_loss: 0.6745 - val_mean_squared_error: 0.6745\n",
      "Train on 79591 samples, validate on 16327 samples\n",
      "Epoch 1/1\n",
      "79591/79591 [==============================] - 5s - loss: 0.3268 - mean_squared_error: 0.3268 - val_loss: 0.6905 - val_mean_squared_error: 0.6905\n",
      "Train on 79591 samples, validate on 16327 samples\n",
      "Epoch 1/1\n",
      "79591/79591 [==============================] - 6s - loss: 0.3261 - mean_squared_error: 0.3261 - val_loss: 0.6884 - val_mean_squared_error: 0.6884\n",
      "Train on 79591 samples, validate on 16327 samples\n",
      "Epoch 1/1\n",
      "79591/79591 [==============================] - 6s - loss: 0.3285 - mean_squared_error: 0.3285 - val_loss: 0.6899 - val_mean_squared_error: 0.6899\n",
      "Train on 79591 samples, validate on 16327 samples\n",
      "Epoch 1/1\n",
      "79591/79591 [==============================] - 5s - loss: 0.3303 - mean_squared_error: 0.3303 - val_loss: 0.6735 - val_mean_squared_error: 0.6735\n",
      "Train on 79591 samples, validate on 16327 samples\n",
      "Epoch 1/1\n",
      "79591/79591 [==============================] - 6s - loss: 0.3268 - mean_squared_error: 0.3268 - val_loss: 0.6869 - val_mean_squared_error: 0.6869\n",
      "Train on 79591 samples, validate on 16327 samples\n",
      "Epoch 1/1\n",
      "79591/79591 [==============================] - 5s - loss: 0.3266 - mean_squared_error: 0.3266 - val_loss: 0.6806 - val_mean_squared_error: 0.6806\n",
      "Train on 79591 samples, validate on 16327 samples\n",
      "Epoch 1/1\n",
      "79591/79591 [==============================] - 5s - loss: 0.3279 - mean_squared_error: 0.3279 - val_loss: 0.6875 - val_mean_squared_error: 0.6875\n",
      "Train on 79591 samples, validate on 16327 samples\n",
      "Epoch 1/1\n",
      "79591/79591 [==============================] - 5s - loss: 0.3246 - mean_squared_error: 0.3246 - val_loss: 0.6772 - val_mean_squared_error: 0.6772\n",
      "Train on 79591 samples, validate on 16327 samples\n",
      "Epoch 1/1\n",
      "79591/79591 [==============================] - 5s - loss: 0.3238 - mean_squared_error: 0.3238 - val_loss: 0.6880 - val_mean_squared_error: 0.6880\n",
      "Train on 79591 samples, validate on 16327 samples\n",
      "Epoch 1/1\n",
      "79591/79591 [==============================] - 5s - loss: 0.3285 - mean_squared_error: 0.3285 - val_loss: 0.6860 - val_mean_squared_error: 0.6860\n",
      "Train on 79591 samples, validate on 16327 samples\n",
      "Epoch 1/1\n",
      "79591/79591 [==============================] - 5s - loss: 0.3276 - mean_squared_error: 0.3276 - val_loss: 0.6951 - val_mean_squared_error: 0.6951\n",
      "Train on 79591 samples, validate on 16327 samples\n",
      "Epoch 1/1\n",
      "79591/79591 [==============================] - 5s - loss: 0.3260 - mean_squared_error: 0.3260 - val_loss: 0.6778 - val_mean_squared_error: 0.6778\n",
      "Train on 79591 samples, validate on 16327 samples\n",
      "Epoch 1/1\n",
      "79591/79591 [==============================] - 6s - loss: 0.3258 - mean_squared_error: 0.3258 - val_loss: 0.6624 - val_mean_squared_error: 0.6624\n",
      "Train on 79591 samples, validate on 16327 samples\n",
      "Epoch 1/1\n",
      "79591/79591 [==============================] - 6s - loss: 0.3238 - mean_squared_error: 0.3238 - val_loss: 0.6674 - val_mean_squared_error: 0.6674\n",
      "Train on 79591 samples, validate on 16327 samples\n",
      "Epoch 1/1\n",
      "79591/79591 [==============================] - 7s - loss: 0.3228 - mean_squared_error: 0.3228 - val_loss: 0.6856 - val_mean_squared_error: 0.6856\n",
      "Train on 79591 samples, validate on 16327 samples\n",
      "Epoch 1/1\n",
      "79591/79591 [==============================] - 5s - loss: 0.3285 - mean_squared_error: 0.3285 - val_loss: 0.6809 - val_mean_squared_error: 0.6809\n",
      "Train on 79591 samples, validate on 16327 samples\n",
      "Epoch 1/1\n",
      "79591/79591 [==============================] - 6s - loss: 0.3247 - mean_squared_error: 0.3247 - val_loss: 0.6763 - val_mean_squared_error: 0.6763\n",
      "Train on 79591 samples, validate on 16327 samples\n",
      "Epoch 1/1\n",
      "79591/79591 [==============================] - 6s - loss: 0.3261 - mean_squared_error: 0.3261 - val_loss: 0.6791 - val_mean_squared_error: 0.6791\n",
      "Train on 79591 samples, validate on 16327 samples\n",
      "Epoch 1/1\n",
      "79591/79591 [==============================] - 5s - loss: 0.3313 - mean_squared_error: 0.3313 - val_loss: 0.6840 - val_mean_squared_error: 0.6840\n",
      "Train on 79591 samples, validate on 16327 samples\n",
      "Epoch 1/1\n",
      "79591/79591 [==============================] - 4s - loss: 0.3249 - mean_squared_error: 0.3249 - val_loss: 0.6808 - val_mean_squared_error: 0.6808\n",
      "Train on 79591 samples, validate on 16327 samples\n",
      "Epoch 1/1\n",
      "79591/79591 [==============================] - 3s - loss: 0.3262 - mean_squared_error: 0.3262 - val_loss: 0.6938 - val_mean_squared_error: 0.6938\n",
      "Train on 79591 samples, validate on 16327 samples\n",
      "Epoch 1/1\n",
      "79591/79591 [==============================] - 4s - loss: 0.3259 - mean_squared_error: 0.3259 - val_loss: 0.6892 - val_mean_squared_error: 0.6892\n",
      "Train on 79591 samples, validate on 16327 samples\n",
      "Epoch 1/1\n",
      "79591/79591 [==============================] - 3s - loss: 0.3225 - mean_squared_error: 0.3225 - val_loss: 0.6905 - val_mean_squared_error: 0.6905\n",
      "Train on 79591 samples, validate on 16327 samples\n",
      "Epoch 1/1\n",
      "79591/79591 [==============================] - 4s - loss: 0.3255 - mean_squared_error: 0.3255 - val_loss: 0.6886 - val_mean_squared_error: 0.6886\n",
      "Train on 79591 samples, validate on 16327 samples\n",
      "Epoch 1/1\n",
      "79591/79591 [==============================] - 4s - loss: 0.3246 - mean_squared_error: 0.3246 - val_loss: 0.6795 - val_mean_squared_error: 0.6795\n",
      "Train on 79591 samples, validate on 16327 samples\n",
      "Epoch 1/1\n",
      "79591/79591 [==============================] - 4s - loss: 0.3220 - mean_squared_error: 0.3220 - val_loss: 0.6778 - val_mean_squared_error: 0.6778\n",
      "Train on 79591 samples, validate on 16327 samples\n",
      "Epoch 1/1\n",
      "79591/79591 [==============================] - 4s - loss: 0.3248 - mean_squared_error: 0.3248 - val_loss: 0.6930 - val_mean_squared_error: 0.6930\n",
      "Train on 79591 samples, validate on 16327 samples\n",
      "Epoch 1/1\n",
      "79591/79591 [==============================] - 3s - loss: 0.3235 - mean_squared_error: 0.3235 - val_loss: 0.6898 - val_mean_squared_error: 0.6898\n",
      "Train on 79591 samples, validate on 16327 samples\n",
      "Epoch 1/1\n",
      "79591/79591 [==============================] - 4s - loss: 0.3233 - mean_squared_error: 0.3233 - val_loss: 0.6805 - val_mean_squared_error: 0.6805\n",
      "Train on 79591 samples, validate on 16327 samples\n",
      "Epoch 1/1\n",
      "79591/79591 [==============================] - 4s - loss: 0.3231 - mean_squared_error: 0.3231 - val_loss: 0.6853 - val_mean_squared_error: 0.6853\n",
      "Train on 79591 samples, validate on 16327 samples\n",
      "Epoch 1/1\n",
      "79591/79591 [==============================] - 4s - loss: 0.3235 - mean_squared_error: 0.3235 - val_loss: 0.6657 - val_mean_squared_error: 0.6657\n",
      "Train on 79591 samples, validate on 16327 samples\n",
      "Epoch 1/1\n",
      "79591/79591 [==============================] - 3s - loss: 0.3255 - mean_squared_error: 0.3255 - val_loss: 0.6819 - val_mean_squared_error: 0.6819\n",
      "Train on 79591 samples, validate on 16327 samples\n",
      "Epoch 1/1\n",
      "79591/79591 [==============================] - 4s - loss: 0.3249 - mean_squared_error: 0.3249 - val_loss: 0.6888 - val_mean_squared_error: 0.6888\n",
      "Train on 79591 samples, validate on 16327 samples\n",
      "Epoch 1/1\n",
      "79591/79591 [==============================] - 4s - loss: 0.3279 - mean_squared_error: 0.3279 - val_loss: 0.6728 - val_mean_squared_error: 0.6728\n",
      "Train on 79591 samples, validate on 16327 samples\n",
      "Epoch 1/1\n",
      "79591/79591 [==============================] - 4s - loss: 0.3236 - mean_squared_error: 0.3236 - val_loss: 0.6679 - val_mean_squared_error: 0.6679\n",
      "Train on 79591 samples, validate on 16327 samples\n",
      "Epoch 1/1\n",
      "79591/79591 [==============================] - 4s - loss: 0.3251 - mean_squared_error: 0.3251 - val_loss: 0.6856 - val_mean_squared_error: 0.6856\n",
      "Train on 79591 samples, validate on 16327 samples\n",
      "Epoch 1/1\n",
      "79591/79591 [==============================] - 3s - loss: 0.3240 - mean_squared_error: 0.3240 - val_loss: 0.6779 - val_mean_squared_error: 0.6779\n",
      "Train on 79591 samples, validate on 16327 samples\n",
      "Epoch 1/1\n",
      "79591/79591 [==============================] - 3s - loss: 0.3263 - mean_squared_error: 0.3263 - val_loss: 0.6858 - val_mean_squared_error: 0.6858\n",
      "Train on 79591 samples, validate on 16327 samples\n",
      "Epoch 1/1\n",
      "79591/79591 [==============================] - 3s - loss: 0.3243 - mean_squared_error: 0.3243 - val_loss: 0.6821 - val_mean_squared_error: 0.6821\n",
      "Train on 79591 samples, validate on 16327 samples\n",
      "Epoch 1/1\n",
      "79591/79591 [==============================] - 4s - loss: 0.3223 - mean_squared_error: 0.3223 - val_loss: 0.6702 - val_mean_squared_error: 0.6702\n",
      "Train on 79591 samples, validate on 16327 samples\n",
      "Epoch 1/1\n",
      "79591/79591 [==============================] - 3s - loss: 0.3246 - mean_squared_error: 0.3246 - val_loss: 0.6831 - val_mean_squared_error: 0.6831\n",
      "Train on 79591 samples, validate on 16327 samples\n",
      "Epoch 1/1\n",
      "79591/79591 [==============================] - 4s - loss: 0.3239 - mean_squared_error: 0.3239 - val_loss: 0.6825 - val_mean_squared_error: 0.6825\n",
      "Train on 79591 samples, validate on 16327 samples\n",
      "Epoch 1/1\n",
      "79591/79591 [==============================] - 4s - loss: 0.3263 - mean_squared_error: 0.3263 - val_loss: 0.6912 - val_mean_squared_error: 0.6912\n",
      "Train on 79591 samples, validate on 16327 samples\n",
      "Epoch 1/1\n",
      "79591/79591 [==============================] - 4s - loss: 0.3237 - mean_squared_error: 0.3237 - val_loss: 0.6844 - val_mean_squared_error: 0.6844\n",
      "Train on 79591 samples, validate on 16327 samples\n",
      "Epoch 1/1\n",
      "79591/79591 [==============================] - 4s - loss: 0.3226 - mean_squared_error: 0.3226 - val_loss: 0.6713 - val_mean_squared_error: 0.6713\n",
      "Train on 79591 samples, validate on 16327 samples\n",
      "Epoch 1/1\n",
      "79591/79591 [==============================] - 4s - loss: 0.3261 - mean_squared_error: 0.3261 - val_loss: 0.6879 - val_mean_squared_error: 0.6879\n",
      "Train on 79591 samples, validate on 16327 samples\n",
      "Epoch 1/1\n",
      "79591/79591 [==============================] - 3s - loss: 0.3229 - mean_squared_error: 0.3229 - val_loss: 0.6786 - val_mean_squared_error: 0.6786\n",
      "Train on 79591 samples, validate on 16327 samples\n",
      "Epoch 1/1\n"
     ]
    },
    {
     "name": "stdout",
     "output_type": "stream",
     "text": [
      "79591/79591 [==============================] - 4s - loss: 0.3254 - mean_squared_error: 0.3254 - val_loss: 0.6716 - val_mean_squared_error: 0.6716\n",
      "Train on 79591 samples, validate on 16327 samples\n",
      "Epoch 1/1\n",
      "79591/79591 [==============================] - 4s - loss: 0.3240 - mean_squared_error: 0.3240 - val_loss: 0.6786 - val_mean_squared_error: 0.6786\n",
      "Train on 79591 samples, validate on 16327 samples\n",
      "Epoch 1/1\n",
      "79591/79591 [==============================] - 4s - loss: 0.3266 - mean_squared_error: 0.3266 - val_loss: 0.6893 - val_mean_squared_error: 0.6893\n",
      "Train on 79591 samples, validate on 16327 samples\n",
      "Epoch 1/1\n",
      "79591/79591 [==============================] - 4s - loss: 0.3234 - mean_squared_error: 0.3234 - val_loss: 0.6709 - val_mean_squared_error: 0.6709\n",
      "Train on 79591 samples, validate on 16327 samples\n",
      "Epoch 1/1\n",
      "79591/79591 [==============================] - 4s - loss: 0.3281 - mean_squared_error: 0.3281 - val_loss: 0.7006 - val_mean_squared_error: 0.7006\n",
      "Train on 79591 samples, validate on 16327 samples\n",
      "Epoch 1/1\n",
      "79591/79591 [==============================] - 4s - loss: 0.3218 - mean_squared_error: 0.3218 - val_loss: 0.6922 - val_mean_squared_error: 0.6922\n",
      "Train on 79591 samples, validate on 16327 samples\n",
      "Epoch 1/1\n",
      "79591/79591 [==============================] - 4s - loss: 0.3220 - mean_squared_error: 0.3220 - val_loss: 0.6814 - val_mean_squared_error: 0.6814\n",
      "Train on 79591 samples, validate on 16327 samples\n",
      "Epoch 1/1\n",
      "79591/79591 [==============================] - 4s - loss: 0.3249 - mean_squared_error: 0.3249 - val_loss: 0.6906 - val_mean_squared_error: 0.6906\n",
      "Train on 79591 samples, validate on 16327 samples\n",
      "Epoch 1/1\n",
      "79591/79591 [==============================] - 4s - loss: 0.3257 - mean_squared_error: 0.3257 - val_loss: 0.6774 - val_mean_squared_error: 0.6774\n",
      "Train on 79591 samples, validate on 16327 samples\n",
      "Epoch 1/1\n",
      "79591/79591 [==============================] - 5s - loss: 0.3232 - mean_squared_error: 0.3232 - val_loss: 0.6795 - val_mean_squared_error: 0.6795\n",
      "Train on 79591 samples, validate on 16327 samples\n",
      "Epoch 1/1\n",
      "79591/79591 [==============================] - 4s - loss: 0.3233 - mean_squared_error: 0.3233 - val_loss: 0.6868 - val_mean_squared_error: 0.6868\n",
      "Train on 79591 samples, validate on 16327 samples\n",
      "Epoch 1/1\n",
      "79591/79591 [==============================] - 4s - loss: 0.3260 - mean_squared_error: 0.3260 - val_loss: 0.6804 - val_mean_squared_error: 0.6804\n",
      "Train on 79591 samples, validate on 16327 samples\n",
      "Epoch 1/1\n",
      "79591/79591 [==============================] - 4s - loss: 0.3236 - mean_squared_error: 0.3236 - val_loss: 0.6801 - val_mean_squared_error: 0.6801\n",
      "Train on 79591 samples, validate on 16327 samples\n",
      "Epoch 1/1\n",
      "79591/79591 [==============================] - 3s - loss: 0.3234 - mean_squared_error: 0.3234 - val_loss: 0.6647 - val_mean_squared_error: 0.6647\n",
      "Train on 79591 samples, validate on 16327 samples\n",
      "Epoch 1/1\n",
      "79591/79591 [==============================] - 4s - loss: 0.3229 - mean_squared_error: 0.3229 - val_loss: 0.6749 - val_mean_squared_error: 0.6749\n",
      "Train on 79591 samples, validate on 16327 samples\n",
      "Epoch 1/1\n",
      "79591/79591 [==============================] - 5s - loss: 0.3256 - mean_squared_error: 0.3256 - val_loss: 0.6823 - val_mean_squared_error: 0.6823\n",
      "Train on 79591 samples, validate on 16327 samples\n",
      "Epoch 1/1\n",
      "79591/79591 [==============================] - 4s - loss: 0.3222 - mean_squared_error: 0.3222 - val_loss: 0.6727 - val_mean_squared_error: 0.6727\n",
      "Train on 79591 samples, validate on 16327 samples\n",
      "Epoch 1/1\n",
      "79591/79591 [==============================] - 3s - loss: 0.3252 - mean_squared_error: 0.3252 - val_loss: 0.6821 - val_mean_squared_error: 0.6821\n",
      "Train on 79591 samples, validate on 16327 samples\n",
      "Epoch 1/1\n",
      "79591/79591 [==============================] - 4s - loss: 0.3243 - mean_squared_error: 0.3243 - val_loss: 0.6695 - val_mean_squared_error: 0.6695\n",
      "Train on 79591 samples, validate on 16327 samples\n",
      "Epoch 1/1\n",
      "79591/79591 [==============================] - 4s - loss: 0.3239 - mean_squared_error: 0.3239 - val_loss: 0.6867 - val_mean_squared_error: 0.6867\n",
      "Train on 79591 samples, validate on 16327 samples\n",
      "Epoch 1/1\n",
      "79591/79591 [==============================] - 4s - loss: 0.3277 - mean_squared_error: 0.3277 - val_loss: 0.6805 - val_mean_squared_error: 0.6805\n"
     ]
    }
   ],
   "source": [
    "hist = []\n",
    "for _ in range(100):\n",
    "    hist.append(autoencoder.fit(X_train_NF, X_train_NF,\n",
    "                    epochs=1,\n",
    "                    batch_size=batch_size,\n",
    "                    shuffle=True,\n",
    "                    validation_data=(X_test, X_test),\n",
    "                    verbose=1).history)"
   ]
  },
  {
   "cell_type": "code",
   "execution_count": 22,
   "metadata": {},
   "outputs": [
    {
     "data": {
      "text/plain": [
       "[{'loss': [0.5786579353066821],\n",
       "  'mean_squared_error': [0.5786579353066821],\n",
       "  'val_loss': [0.827937917738337],\n",
       "  'val_mean_squared_error': [0.827937917738337]},\n",
       " {'loss': [0.37122878331267767],\n",
       "  'mean_squared_error': [0.37122878331267767],\n",
       "  'val_loss': [0.7336140746824475],\n",
       "  'val_mean_squared_error': [0.7336140746824475]},\n",
       " {'loss': [0.3486496577333603],\n",
       "  'mean_squared_error': [0.3486496577333603],\n",
       "  'val_loss': [0.7133420146994899],\n",
       "  'val_mean_squared_error': [0.7133420146994899]},\n",
       " {'loss': [0.34236179866841515],\n",
       "  'mean_squared_error': [0.34236179866841515],\n",
       "  'val_loss': [0.70640169638154],\n",
       "  'val_mean_squared_error': [0.70640169638154]},\n",
       " {'loss': [0.3419733740117595],\n",
       "  'mean_squared_error': [0.3419733740117595],\n",
       "  'val_loss': [0.6981287695170398],\n",
       "  'val_mean_squared_error': [0.6981287695170398]}]"
      ]
     },
     "execution_count": 22,
     "metadata": {},
     "output_type": "execute_result"
    }
   ],
   "source": [
    "hist[0:5]"
   ]
  },
  {
   "cell_type": "code",
   "execution_count": 25,
   "metadata": {
    "collapsed": true
   },
   "outputs": [],
   "source": [
    "## Making predictions on the train data\n",
    "predictions=autoencoder.predict(X_train_NF)"
   ]
  },
  {
   "cell_type": "code",
   "execution_count": 26,
   "metadata": {},
   "outputs": [
    {
     "data": {
      "text/plain": [
       "array([[-1.6264851 ,  0.8957243 ,  1.6798065 ,  0.80914986, -0.88633186,\n",
       "         0.46519327, -0.38797784,  1.0602223 ,  0.36284757, -0.71970654,\n",
       "        -1.4174697 ,  0.3201841 , -0.9734323 , -0.13291395, -1.7836058 ,\n",
       "        -0.18722868,  0.35352615, -0.08412127,  0.02388277, -0.05988629,\n",
       "        -0.02551627,  0.08126108, -0.02797509, -0.00748299, -0.00435794,\n",
       "         0.02549004,  0.02051395,  0.02775189, -0.19413501],\n",
       "       [ 1.2799294 , -0.39938116,  0.05597568, -0.48132885, -0.69249564,\n",
       "        -1.2923545 , -0.08248854, -0.33059704, -1.0865091 ,  0.73226327,\n",
       "         0.1363616 , -0.04568517,  0.3495139 ,  0.12260745,  0.16568178,\n",
       "        -0.07867745, -0.06911117, -0.14050323,  0.02917566, -0.01183265,\n",
       "        -0.02062819,  0.10096812, -0.00905451, -0.0127421 ,  0.01153421,\n",
       "        -0.08233222,  0.02419076, -0.01388234, -0.11684108]],\n",
       "      dtype=float32)"
      ]
     },
     "execution_count": 26,
     "metadata": {},
     "output_type": "execute_result"
    }
   ],
   "source": [
    "predictions[0:2]"
   ]
  },
  {
   "cell_type": "code",
   "execution_count": 28,
   "metadata": {},
   "outputs": [
    {
     "name": "stdout",
     "output_type": "stream",
     "text": [
      "15808/15942 [============================>.] - ETA: 0s"
     ]
    },
    {
     "data": {
      "text/plain": [
       "[0.22686598277210876, 0.22686598277210876]"
      ]
     },
     "execution_count": 28,
     "metadata": {},
     "output_type": "execute_result"
    }
   ],
   "source": [
    "#Getting the errors from the non fraud data separately \n",
    "autoencoder.evaluate(test_nf[:,:29],test_nf[:,:29])"
   ]
  },
  {
   "cell_type": "code",
   "execution_count": 29,
   "metadata": {},
   "outputs": [
    {
     "name": "stdout",
     "output_type": "stream",
     "text": [
      "\r",
      " 32/385 [=>............................] - ETA: 0s"
     ]
    },
    {
     "data": {
      "text/plain": [
       "[19.463226402579963, 19.463226402579963]"
      ]
     },
     "execution_count": 29,
     "metadata": {},
     "output_type": "execute_result"
    }
   ],
   "source": [
    "#Getting the errors from the fraud data separately\n",
    "autoencoder.evaluate(test_f[:,:29],test_f[:,:29])"
   ]
  },
  {
   "cell_type": "code",
   "execution_count": 30,
   "metadata": {
    "collapsed": true
   },
   "outputs": [],
   "source": [
    "#Obtaining predictions for non fraud records\n",
    "predictions_nf=autoencoder.predict(test_nf[:,:29])"
   ]
  },
  {
   "cell_type": "code",
   "execution_count": 31,
   "metadata": {
    "collapsed": true
   },
   "outputs": [],
   "source": [
    "#Obtaining predictions for fraud records\n",
    "predictions_f=autoencoder.predict(test_f[:,:29])"
   ]
  },
  {
   "cell_type": "code",
   "execution_count": 32,
   "metadata": {},
   "outputs": [
    {
     "data": {
      "text/plain": [
       "0.22686598209981973"
      ]
     },
     "execution_count": 32,
     "metadata": {},
     "output_type": "execute_result"
    }
   ],
   "source": [
    "#Identifying the error computation method by autoencoder(Mean Squared Error). The computation is as follows \n",
    "np.mean(np.square(np.abs(test_nf[:,:29]-predictions_nf)))"
   ]
  },
  {
   "cell_type": "code",
   "execution_count": 33,
   "metadata": {
    "collapsed": true
   },
   "outputs": [],
   "source": [
    "#Computing errors on the non-fraud data\n",
    "errors_nf = np.mean(np.square(np.abs(test_nf[:,:29]-predictions_nf)), axis=1)"
   ]
  },
  {
   "cell_type": "code",
   "execution_count": 34,
   "metadata": {},
   "outputs": [
    {
     "data": {
      "text/plain": [
       "array([0.33351132, 0.06455864, 0.20596381, 0.07156793, 0.27781561])"
      ]
     },
     "execution_count": 34,
     "metadata": {},
     "output_type": "execute_result"
    }
   ],
   "source": [
    "errors_nf[0:5]"
   ]
  },
  {
   "cell_type": "code",
   "execution_count": 35,
   "metadata": {
    "collapsed": true
   },
   "outputs": [],
   "source": [
    "#Computing errors on the fraud data\n",
    "errors_f = np.mean(np.square(np.abs(test_f[:,:29]-predictions_f)), axis=1)"
   ]
  },
  {
   "cell_type": "code",
   "execution_count": 36,
   "metadata": {},
   "outputs": [
    {
     "data": {
      "text/plain": [
       "array([94.25455021, 76.35895256, 17.44311577,  4.11443532, 72.62387378])"
      ]
     },
     "execution_count": 36,
     "metadata": {},
     "output_type": "execute_result"
    }
   ],
   "source": [
    "errors_f[0:5]"
   ]
  },
  {
   "cell_type": "code",
   "execution_count": 37,
   "metadata": {},
   "outputs": [
    {
     "name": "stdout",
     "output_type": "stream",
     "text": [
      "0.013296226526836112\n",
      "94.16488906832393\n",
      "0.121039132606613\n",
      "0.03623859613520091\n",
      "142.81877476152405\n",
      "7.72926482960659\n"
     ]
    }
   ],
   "source": [
    "#Computing the distribution of errors in both non-fraud and fraud data\n",
    "print(np.min(errors_nf))\n",
    "print(np.max(errors_nf))\n",
    "print(np.median(errors_nf))\n",
    "\n",
    "print(np.min(errors_f))\n",
    "print(np.max(errors_f))\n",
    "print(np.median(errors_f))"
   ]
  },
  {
   "cell_type": "code",
   "execution_count": 38,
   "metadata": {},
   "outputs": [
    {
     "data": {
      "text/plain": [
       "{'boxes': [<matplotlib.lines.Line2D at 0x22c0d22da90>],\n",
       " 'caps': [<matplotlib.lines.Line2D at 0x22c0d237e48>,\n",
       "  <matplotlib.lines.Line2D at 0x22c0d237f60>],\n",
       " 'fliers': [<matplotlib.lines.Line2D at 0x22c0d241be0>],\n",
       " 'means': [],\n",
       " 'medians': [<matplotlib.lines.Line2D at 0x22c0d2415c0>],\n",
       " 'whiskers': [<matplotlib.lines.Line2D at 0x22c0d22dc50>,\n",
       "  <matplotlib.lines.Line2D at 0x22c0d237828>]}"
      ]
     },
     "execution_count": 38,
     "metadata": {},
     "output_type": "execute_result"
    },
    {
     "data": {
      "image/png": "[encoded data removed]",
      "text/plain": [
       "<matplotlib.figure.Figure at 0x22c081243c8>"
      ]
     },
     "metadata": {},
     "output_type": "display_data"
    }
   ],
   "source": [
    "#PLotting the error box plots \n",
    "\n",
    "plt.subplot(1, 2,1)\n",
    "plt.boxplot(errors_f)\n",
    "\n",
    "plt.subplot(1, 2, 2)\n",
    "plt.boxplot(errors_nf)"
   ]
  },
  {
   "cell_type": "code",
   "execution_count": 39,
   "metadata": {},
   "outputs": [
    {
     "name": "stdout",
     "output_type": "stream",
     "text": [
      "22\n",
      "192\n",
      "20\n"
     ]
    },
    {
     "data": {
      "text/plain": [
       "7971"
      ]
     },
     "execution_count": 39,
     "metadata": {},
     "output_type": "execute_result"
    }
   ],
   "source": [
    "#Experimentation to fix a threshold for classification of a transaction into fraud or non-fraud\n",
    "print(sum(errors_nf>np.median(errors_f)))\n",
    "print(sum(errors_f<np.median(errors_f)))\n",
    "print(sum(errors_f<np.median(errors_nf)))\n",
    "sum(errors_nf>np.median(errors_nf))"
   ]
  },
  {
   "cell_type": "code",
   "execution_count": 40,
   "metadata": {},
   "outputs": [
    {
     "name": "stdout",
     "output_type": "stream",
     "text": [
      "(15942,)\n",
      "(385,)\n"
     ]
    }
   ],
   "source": [
    "print(errors_nf.shape)\n",
    "print(errors_f.shape)"
   ]
  },
  {
   "cell_type": "code",
   "execution_count": 41,
   "metadata": {},
   "outputs": [
    {
     "name": "stdout",
     "output_type": "stream",
     "text": [
      "(15942, 29)\n",
      "(385, 29)\n"
     ]
    }
   ],
   "source": [
    "print(predictions_nf.shape)\n",
    "print(predictions_f.shape)"
   ]
  },
  {
   "cell_type": "code",
   "execution_count": 43,
   "metadata": {
    "collapsed": true
   },
   "outputs": [],
   "source": [
    "test_pred = autoencoder.predict(X_test[:,:29])\n",
    "test_recon  = (((test_pred-X_test)**2).mean(-1))\n",
    "\n",
    "train_pred = autoencoder.predict(X_train_NF[:,:29])\n",
    "mean_recon = (((train_pred - X_train_NF)**2).mean(-1).mean())\n",
    "\n",
    "from sklearn.metrics import precision_score,recall_score,f1_score,confusion_matrix\n",
    "\n",
    "scores_f1 = []\n",
    "thres = []\n",
    "\n",
    "th = 0\n",
    "for i in range(100):\n",
    "    th+=0.1\n",
    "    fraud = (test_recon>mean_recon+th)\n",
    "    scores_f1.append(f1_score(y_test,fraud))\n",
    "    thres.append(th+mean_recon)\n",
    "    "
   ]
  },
  {
   "cell_type": "code",
   "execution_count": 44,
   "metadata": {},
   "outputs": [
    {
     "data": {
      "text/plain": [
       "(16327, 29)"
      ]
     },
     "execution_count": 44,
     "metadata": {},
     "output_type": "execute_result"
    }
   ],
   "source": [
    "X_test.shape"
   ]
  },
  {
   "cell_type": "code",
   "execution_count": 46,
   "metadata": {},
   "outputs": [
    {
     "name": "stdout",
     "output_type": "stream",
     "text": [
      "2.8253139269217638\n"
     ]
    },
    {
     "data": {
      "text/plain": [
       "array([[15873,    69],\n",
       "       [   88,   297]])"
      ]
     },
     "execution_count": 46,
     "metadata": {},
     "output_type": "execute_result"
    },
    {
     "data": {
      "image/png": "[encoded data removed]",
      "text/plain": [
       "<matplotlib.figure.Figure at 0x22c0d286e10>"
      ]
     },
     "metadata": {},
     "output_type": "display_data"
    }
   ],
   "source": [
    "plt.plot(thres, scores_f1)\n",
    "\n",
    "print(thres[np.array(scores_f1).argmax()])\n",
    "\n",
    "fraud = (test_recon>thres[np.array(scores_f1).argmax()])\n",
    "\n",
    "confusion_matrix(y_test, fraud)"
   ]
  },
  {
   "cell_type": "code",
   "execution_count": 95,
   "metadata": {
    "collapsed": true
   },
   "outputs": [],
   "source": [
    "##Predicting on Valdation \n",
    "\n",
    "predictions_eval=autoencoder.predict(X_eval[:,:29])\n"
   ]
  },
  {
   "cell_type": "code",
   "execution_count": 98,
   "metadata": {
    "collapsed": true
   },
   "outputs": [],
   "source": [
    "errors_eval=np.square(np.subtract(predictions_eval,X_eval[:,:29]))"
   ]
  },
  {
   "cell_type": "code",
   "execution_count": 99,
   "metadata": {
    "collapsed": true
   },
   "outputs": [],
   "source": [
    "fraud_eval=(((errors_eval-X_eval[:,:29])**2).mean(-1))>2.8253139269217638"
   ]
  },
  {
   "cell_type": "code",
   "execution_count": 100,
   "metadata": {},
   "outputs": [
    {
     "name": "stdout",
     "output_type": "stream",
     "text": [
      "[[3667  308]\n",
      " [  15   92]]\n"
     ]
    }
   ],
   "source": [
    "print(confusion_matrix(y_true=X_eval[:,29],y_pred=fraud_eval))"
   ]
  },
  {
   "cell_type": "markdown",
   "metadata": {},
   "source": [
    "#### Analysis on individual attribute errors"
   ]
  },
  {
   "cell_type": "code",
   "execution_count": 57,
   "metadata": {},
   "outputs": [
    {
     "name": "stdout",
     "output_type": "stream",
     "text": [
      "(15942, 29)\n"
     ]
    }
   ],
   "source": [
    "#Obtaining errors on individual attributes on non-fraud data\n",
    "ind_errors_nf=np.abs(np.subtract(predictions_nf,test_nf[:,:29]))\n",
    "print(ind_errors_nf.shape)"
   ]
  },
  {
   "cell_type": "code",
   "execution_count": 58,
   "metadata": {},
   "outputs": [
    {
     "name": "stdout",
     "output_type": "stream",
     "text": [
      "(385, 29)\n"
     ]
    }
   ],
   "source": [
    "#Obtaining errors on individual attributes on fraud data\n",
    "ind_errors_f=np.abs(np.subtract(predictions_f,test_f[:,:29]))\n",
    "print(ind_errors_f.shape)"
   ]
  },
  {
   "cell_type": "markdown",
   "metadata": {},
   "source": [
    "#### To check the errors on fraud and non-fraud data across all the attributes"
   ]
  },
  {
   "cell_type": "code",
   "execution_count": 59,
   "metadata": {},
   "outputs": [
    {
     "name": "stdout",
     "output_type": "stream",
     "text": [
      "(16327, 29)\n"
     ]
    }
   ],
   "source": [
    "#Combining all fraud and non-fraud data errors\n",
    "X=np.concatenate((ind_errors_f,ind_errors_nf),axis=0)\n",
    "print(X.shape)"
   ]
  },
  {
   "cell_type": "code",
   "execution_count": 60,
   "metadata": {
    "collapsed": true
   },
   "outputs": [],
   "source": [
    "#Creating a target column\n",
    "x=np.array([1,0])\n",
    "Y=np.repeat(x,[385,15942])"
   ]
  },
  {
   "cell_type": "code",
   "execution_count": 61,
   "metadata": {},
   "outputs": [
    {
     "name": "stdout",
     "output_type": "stream",
     "text": [
      "(16327,)\n",
      "(16327, 1)\n"
     ]
    }
   ],
   "source": [
    "#Expanding the shape of the target for merging with all other attributes\n",
    "print(Y.shape)\n",
    "Y = np.expand_dims(Y, axis=1)\n",
    "print(Y.shape)"
   ]
  },
  {
   "cell_type": "code",
   "execution_count": 62,
   "metadata": {},
   "outputs": [
    {
     "name": "stdout",
     "output_type": "stream",
     "text": [
      "(16327, 30)\n"
     ]
    }
   ],
   "source": [
    "#Concatenating all the attribute errors with target class\n",
    "X=np.concatenate((X,Y),axis=1)\n",
    "print(X.shape)"
   ]
  },
  {
   "cell_type": "code",
   "execution_count": 63,
   "metadata": {},
   "outputs": [
    {
     "data": {
      "text/plain": [
       "<map at 0x22c0fdc3da0>"
      ]
     },
     "execution_count": 63,
     "metadata": {},
     "output_type": "execute_result"
    }
   ],
   "source": [
    "map(str,range(X.shape[1]))"
   ]
  },
  {
   "cell_type": "code",
   "execution_count": 64,
   "metadata": {
    "collapsed": true
   },
   "outputs": [],
   "source": [
    "#Creating a data frame and naming the columns\n",
    "X=pd.DataFrame(X)\n",
    "X.columns = map(str, range(X.shape[1]))"
   ]
  },
  {
   "cell_type": "code",
   "execution_count": 68,
   "metadata": {},
   "outputs": [
    {
     "data": {
      "text/html": [
       "<div>\n",
       "<style>\n",
       "    .dataframe thead tr:only-child th {\n",
       "        text-align: right;\n",
       "    }\n",
       "\n",
       "    .dataframe thead th {\n",
       "        text-align: left;\n",
       "    }\n",
       "\n",
       "    .dataframe tbody tr th {\n",
       "        vertical-align: top;\n",
       "    }\n",
       "</style>\n",
       "<table border=\"1\" class=\"dataframe\">\n",
       "  <thead>\n",
       "    <tr style=\"text-align: right;\">\n",
       "      <th></th>\n",
       "      <th>29</th>\n",
       "      <th>var</th>\n",
       "      <th>value</th>\n",
       "    </tr>\n",
       "  </thead>\n",
       "  <tbody>\n",
       "    <tr>\n",
       "      <th>473478</th>\n",
       "      <td>0.0</td>\n",
       "      <td>28</td>\n",
       "      <td>0.048016</td>\n",
       "    </tr>\n",
       "    <tr>\n",
       "      <th>473479</th>\n",
       "      <td>0.0</td>\n",
       "      <td>28</td>\n",
       "      <td>0.070326</td>\n",
       "    </tr>\n",
       "    <tr>\n",
       "      <th>473480</th>\n",
       "      <td>0.0</td>\n",
       "      <td>28</td>\n",
       "      <td>0.141948</td>\n",
       "    </tr>\n",
       "    <tr>\n",
       "      <th>473481</th>\n",
       "      <td>0.0</td>\n",
       "      <td>28</td>\n",
       "      <td>0.047302</td>\n",
       "    </tr>\n",
       "    <tr>\n",
       "      <th>473482</th>\n",
       "      <td>0.0</td>\n",
       "      <td>28</td>\n",
       "      <td>0.019726</td>\n",
       "    </tr>\n",
       "  </tbody>\n",
       "</table>\n",
       "</div>"
      ],
      "text/plain": [
       "         29 var     value\n",
       "473478  0.0  28  0.048016\n",
       "473479  0.0  28  0.070326\n",
       "473480  0.0  28  0.141948\n",
       "473481  0.0  28  0.047302\n",
       "473482  0.0  28  0.019726"
      ]
     },
     "execution_count": 68,
     "metadata": {},
     "output_type": "execute_result"
    }
   ],
   "source": [
    "#Melting the data for box plot visualization\n",
    "M = pd.melt(X, \"29\", var_name=\"var\", value_name=\"value\")\n",
    "M['29'].astype('category')\n",
    "M.tail()\n",
    "#M.head()"
   ]
  },
  {
   "cell_type": "markdown",
   "metadata": {},
   "source": [
    "#### Plotting the errors of fraud and non-fraud transactions across attributes"
   ]
  },
  {
   "cell_type": "code",
   "execution_count": 66,
   "metadata": {},
   "outputs": [
    {
     "data": {
      "text/plain": [
       "<seaborn.axisgrid.FacetGrid at 0x22c08124c88>"
      ]
     },
     "execution_count": 66,
     "metadata": {},
     "output_type": "execute_result"
    },
    {
     "data": {
      "image/png": "[encoded data removed]",
      "text/plain": [
       "<matplotlib.figure.Figure at 0x22c1458fc18>"
      ]
     },
     "metadata": {},
     "output_type": "display_data"
    },
    {
     "data": {
      "image/png": "[encoded data removed]",
      "text/plain": [
       "<matplotlib.figure.Figure at 0x22c11886da0>"
      ]
     },
     "metadata": {},
     "output_type": "display_data"
    }
   ],
   "source": [
    "import seaborn as sns\n",
    "size=(20,15)\n",
    "fig,ax = plt.subplots(figsize=size)\n",
    "# the size of A4 paper\n",
    "sns.factorplot(x=\"var\", y='value', hue=\"29\", data=M, kind='box',ax=ax)"
   ]
  },
  {
   "cell_type": "markdown",
   "metadata": {},
   "source": [
    "#### Looking at the box plots it is evident that there is a huge difference in errors of fraud and non-fraud  in attributes 10,11,13,16,and 2. Observing errors only on those attributes"
   ]
  },
  {
   "cell_type": "code",
   "execution_count": 69,
   "metadata": {},
   "outputs": [
    {
     "data": {
      "text/plain": [
       "array([0.16432043, 0.13859273, 0.12884077, 0.35737942, 0.19078597])"
      ]
     },
     "execution_count": 69,
     "metadata": {},
     "output_type": "execute_result"
    }
   ],
   "source": [
    "pred_nf=ind_errors_nf[:,[10,11,13,16,2]]\n",
    "np.mean(pred_nf,axis=0)"
   ]
  },
  {
   "cell_type": "code",
   "execution_count": 70,
   "metadata": {},
   "outputs": [
    {
     "data": {
      "text/plain": [
       "array([4.94456562, 3.34215176, 6.36777775, 6.25209066, 8.10635691])"
      ]
     },
     "execution_count": 70,
     "metadata": {},
     "output_type": "execute_result"
    }
   ],
   "source": [
    "pred_f=ind_errors_f[:,[9,10,11,13,16]]\n",
    "np.mean(pred_f,axis=0)"
   ]
  },
  {
   "cell_type": "markdown",
   "metadata": {},
   "source": [
    "#### Looking at the percentile distribution of errors"
   ]
  },
  {
   "cell_type": "code",
   "execution_count": 71,
   "metadata": {
    "collapsed": true
   },
   "outputs": [],
   "source": [
    "#Percentile distribution of absolute errors\n",
    "percentile_nf=np.percentile(ind_errors_nf[:,[10,11,13,16,2]],[10,20,30,40,50,60,70,80,90,100],axis=0)"
   ]
  },
  {
   "cell_type": "code",
   "execution_count": 78,
   "metadata": {},
   "outputs": [
    {
     "data": {
      "text/plain": [
       "array([[0.02704653, 0.01969791, 0.01797239, 0.05403899, 0.02425368],\n",
       "       [0.05478204, 0.04022306, 0.03692784, 0.10356281, 0.05021793],\n",
       "       [0.08061224, 0.06128836, 0.05618279, 0.16063834, 0.07975778],\n",
       "       [0.11054547, 0.08388008, 0.0775324 , 0.21801388, 0.11483472],\n",
       "       [0.14387174, 0.10806147, 0.0998435 , 0.28111344, 0.15017614],\n",
       "       [0.1774046 , 0.13604184, 0.1255704 , 0.35501732, 0.19344614],\n",
       "       [0.21880647, 0.1695586 , 0.15565849, 0.44531667, 0.23866298],\n",
       "       [0.26653632, 0.21707098, 0.19536379, 0.55932835, 0.29286276],\n",
       "       [0.32725227, 0.29130192, 0.26663159, 0.75143545, 0.37807255],\n",
       "       [3.72099531, 7.69367058, 8.66283519, 9.82621329, 9.41005323]])"
      ]
     },
     "execution_count": 78,
     "metadata": {},
     "output_type": "execute_result"
    }
   ],
   "source": [
    "percentile_nf"
   ]
  },
  {
   "cell_type": "code",
   "execution_count": 79,
   "metadata": {},
   "outputs": [
    {
     "data": {
      "text/plain": [
       "array([0.05403899, 0.10356281, 0.16063834, 0.21801388, 0.28111344,\n",
       "       0.35501732, 0.44531667, 0.55932835, 0.75143545, 9.82621329])"
      ]
     },
     "execution_count": 79,
     "metadata": {},
     "output_type": "execute_result"
    }
   ],
   "source": [
    "percentile_nf[:,3]"
   ]
  },
  {
   "cell_type": "code",
   "execution_count": 80,
   "metadata": {
    "collapsed": true
   },
   "outputs": [],
   "source": [
    "percentile_f=np.percentile(ind_errors_f[:,[10,11,13,16,2]],[10,20,30,40,50,60,70,80,90,100],axis=0)"
   ]
  },
  {
   "cell_type": "code",
   "execution_count": 81,
   "metadata": {},
   "outputs": [
    {
     "data": {
      "text/plain": [
       "array([ 0.2910832 ,  1.44373408,  4.26857574,  5.13112461,  6.51375093,\n",
       "        8.22841959,  9.72183627, 15.85917504, 17.9669416 , 24.8369113 ])"
      ]
     },
     "execution_count": 81,
     "metadata": {},
     "output_type": "execute_result"
    }
   ],
   "source": [
    "percentile_f[:,3]"
   ]
  },
  {
   "cell_type": "markdown",
   "metadata": {},
   "source": [
    "#### For 16th arrtibute,  the 20th percentile error on fraud is 1.44 and less than 10 percent of the values from non-fraud exist above this value. Setting this as the threshold for fraud classification"
   ]
  },
  {
   "cell_type": "code",
   "execution_count": 82,
   "metadata": {
    "collapsed": true
   },
   "outputs": [],
   "source": [
    "thr=1.44\n",
    "test_pred = autoencoder.predict(X_test)"
   ]
  },
  {
   "cell_type": "code",
   "execution_count": 83,
   "metadata": {
    "collapsed": true
   },
   "outputs": [],
   "source": [
    "recon_error= np.abs(np.subtract(test_pred,X_test[:,:29]))"
   ]
  },
  {
   "cell_type": "code",
   "execution_count": 84,
   "metadata": {},
   "outputs": [
    {
     "data": {
      "text/plain": [
       "(16327, 29)"
      ]
     },
     "execution_count": 84,
     "metadata": {},
     "output_type": "execute_result"
    }
   ],
   "source": [
    "recon_error.shape"
   ]
  },
  {
   "cell_type": "code",
   "execution_count": 85,
   "metadata": {},
   "outputs": [
    {
     "name": "stdout",
     "output_type": "stream",
     "text": [
      "0.8\n",
      "0.6905829596412556\n",
      "0.986831628590678\n"
     ]
    }
   ],
   "source": [
    "from sklearn.metrics import precision_score,recall_score,accuracy_score,confusion_matrix\n",
    "fraud = (recon_error[:,16]>1.44)\n",
    "print(recall_score(y_test,fraud))\n",
    "print(precision_score(y_test,fraud))\n",
    "print(accuracy_score(y_test,fraud))"
   ]
  },
  {
   "cell_type": "code",
   "execution_count": 86,
   "metadata": {},
   "outputs": [
    {
     "name": "stdout",
     "output_type": "stream",
     "text": [
      "[[15804   138]\n",
      " [   77   308]]\n"
     ]
    }
   ],
   "source": [
    "print(confusion_matrix(y_true=y_test,y_pred=fraud))"
   ]
  },
  {
   "cell_type": "markdown",
   "metadata": {
    "collapsed": true
   },
   "source": [
    "#### Testing on evaluation data"
   ]
  },
  {
   "cell_type": "code",
   "execution_count": 87,
   "metadata": {
    "collapsed": true
   },
   "outputs": [],
   "source": [
    "predictions_eval=autoencoder.predict(X_eval[:,:29])"
   ]
  },
  {
   "cell_type": "code",
   "execution_count": 88,
   "metadata": {
    "collapsed": true
   },
   "outputs": [],
   "source": [
    "ind_errors_eval=np.abs(np.subtract(predictions_eval,X_eval[:,:29]))"
   ]
  },
  {
   "cell_type": "code",
   "execution_count": 89,
   "metadata": {},
   "outputs": [
    {
     "name": "stdout",
     "output_type": "stream",
     "text": [
      "0.822429906542056\n",
      "0.704\n",
      "0.986281234688878\n",
      "0.7586206896551725\n"
     ]
    }
   ],
   "source": [
    "fraud_eval=ind_errors_eval[:,16]>1.44\n",
    "print(recall_score(X_eval[:,29],fraud_eval))\n",
    "print(precision_score(X_eval[:,29],fraud_eval))\n",
    "print(accuracy_score(X_eval[:,29],fraud_eval))\n",
    "print(f1_score(X_eval[:,29],fraud_eval))"
   ]
  },
  {
   "cell_type": "code",
   "execution_count": 90,
   "metadata": {},
   "outputs": [
    {
     "name": "stdout",
     "output_type": "stream",
     "text": [
      "[[3938   37]\n",
      " [  19   88]]\n"
     ]
    }
   ],
   "source": [
    "print(confusion_matrix(y_true=X_eval[:,29],y_pred=fraud_eval))"
   ]
  }
 ],
 "metadata": {
  "kernelspec": {
   "display_name": "Python 3",
   "language": "python",
   "name": "python3"
  },
  "language_info": {
   "codemirror_mode": {
    "name": "ipython",
    "version": 3
   },
   "file_extension": ".py",
   "mimetype": "text/x-python",
   "name": "python",
   "nbconvert_exporter": "python",
   "pygments_lexer": "ipython3",
   "version": "3.6.1"
  }
 },
 "nbformat": 4,
 "nbformat_minor": 2
}
