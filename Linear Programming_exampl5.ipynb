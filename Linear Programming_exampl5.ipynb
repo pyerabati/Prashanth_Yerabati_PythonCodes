{
 "cells": [
  {
   "cell_type": "code",
   "execution_count": 15,
   "metadata": {},
   "outputs": [],
   "source": [
    "## Problem 4:\n",
    "# A furniture maker has 6 units of wood and 28 hours of free time.\n",
    "# Two models were sold well in the past.\n",
    "# Model 1 requires 2 units of wood and 7 hours of time. \n",
    "# Model 2 requires 1 unit of wood and 8 hours of time.\n",
    "# Selling Prices are Rs. 200 and 150 each. \n",
    "# How many of each should he make to maximize the revenues?\n",
    "\n",
    "#ARGUMENTS\n",
    "#lp(direction = \"min\", objective.in, const.mat, const.dir, const.rhs,\n",
    "#int.vec)\n",
    "\n",
    "# direction - character string: direction of optimization: \"min\"(default) or \"max.\"\n",
    "# objective.in - numeric vector: coefficients of objective function\n",
    "# const.mat - numeric matrix: coefficients of constraints, one row per constraint, one column per variable (unless transpose.constraints = FALSE; see below).\n",
    "# const.dir - character string vector:direction of the constraint: \n",
    "#each value should be one of \"<,\" \"<=,\" \"=,\" \"==,\" \">,\" or \">=\".\n",
    "#(In each pair the two values are identical.)\n",
    "# const.rhs - numeric vector: RHS of constraints.\n",
    "# int.vec -   numeric vector: indices of variables that are required to be integer.\n",
    "#The length of this vector will therefore be the number of integer variables.\n",
    "\n",
    "# Decision Variables\n",
    "#Number of pieces of model 1: M1 \n",
    "#Number of pieces of model 2: M2\n",
    "\n",
    "#Objective Function\n",
    "# Revenue earned from making M1 pieces of model 1: 200*M1 \n",
    "# Revenues earned from making M2 pieces of model 2: 150*M2\n",
    "#Total Revenue R = 200*M1 + 150*M2\n",
    "\n",
    "#Explicit Constraints\n",
    "\n",
    "#The total wood needed to make M1 & M2 pieces: 2M1 + M2\n",
    "#Available wood: 6\n",
    "#Constraint 1: 2M1 + M2 <=6\n",
    "\n",
    "#The total time needed to make M1 & M2 pieces: 7M1 + 8M2\n",
    "#Available time: 28\n",
    "#Constraint 2: 7M1 + 8M2 <= 28\n",
    "\n",
    "#Implicit Constraints\n",
    "# M1 and M2 >= 0\n",
    "import pulp\n",
    "z = pulp.LpProblem('Problem funiture', pulp.LpMaximize)\n",
    "x1 = pulp.LpVariable('x1', lowBound=0, cat = 'Integer')\n",
    "x2 = pulp.LpVariable('x2', lowBound=0, cat = 'Integer')"
   ]
  },
  {
   "cell_type": "code",
   "execution_count": 16,
   "metadata": {},
   "outputs": [],
   "source": [
    "z += 200*x1 + 150*x2"
   ]
  },
  {
   "cell_type": "code",
   "execution_count": 17,
   "metadata": {},
   "outputs": [],
   "source": [
    "z +=  2*x1 + x2 <= 6\n",
    "z += 7*x1+ 8*x2 <= 28"
   ]
  },
  {
   "cell_type": "code",
   "execution_count": 18,
   "metadata": {},
   "outputs": [
    {
     "data": {
      "text/plain": [
       "Problem funiture:\n",
       "MAXIMIZE\n",
       "200*x1 + 150*x2 + 0\n",
       "SUBJECT TO\n",
       "_C1: 2 x1 + x2 <= 6\n",
       "\n",
       "_C2: 7 x1 + 8 x2 <= 28\n",
       "\n",
       "VARIABLES\n",
       "0 <= x1 Integer\n",
       "0 <= x2 Integer"
      ]
     },
     "execution_count": 18,
     "metadata": {},
     "output_type": "execute_result"
    }
   ],
   "source": [
    "z"
   ]
  },
  {
   "cell_type": "code",
   "execution_count": 19,
   "metadata": {},
   "outputs": [
    {
     "data": {
      "text/plain": [
       "'Optimal'"
      ]
     },
     "execution_count": 19,
     "metadata": {},
     "output_type": "execute_result"
    }
   ],
   "source": [
    "pulp.LpStatus[z.solve()]"
   ]
  },
  {
   "cell_type": "code",
   "execution_count": 20,
   "metadata": {},
   "outputs": [
    {
     "data": {
      "text/plain": [
       "(3.0, 0.0, 600.0)"
      ]
     },
     "execution_count": 20,
     "metadata": {},
     "output_type": "execute_result"
    }
   ],
   "source": [
    "pulp.value(x1), pulp.value(x2), pulp.value(z.objective)"
   ]
  },
  {
   "cell_type": "code",
   "execution_count": null,
   "metadata": {},
   "outputs": [],
   "source": []
  }
 ],
 "metadata": {
  "kernelspec": {
   "display_name": "Python 3",
   "language": "python",
   "name": "python3"
  },
  "language_info": {
   "codemirror_mode": {
    "name": "ipython",
    "version": 3
   },
   "file_extension": ".py",
   "mimetype": "text/x-python",
   "name": "python",
   "nbconvert_exporter": "python",
   "pygments_lexer": "ipython3",
   "version": "3.6.5"
  }
 },
 "nbformat": 4,
 "nbformat_minor": 2
}
