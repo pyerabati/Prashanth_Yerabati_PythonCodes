{
 "cells": [
  {
   "cell_type": "code",
   "execution_count": 91,
   "metadata": {},
   "outputs": [],
   "source": [
    "import pandas as pd\n",
    "import numpy as np\n",
    "\n",
    "from sklearn.model_selection import train_test_split\n",
    "from sklearn.metrics import confusion_matrix, roc_curve, auc\n",
    "\n",
    "from keras.models import Sequential\n",
    "from keras.layers import Dense\n",
    "from keras.utils import to_categorical\n",
    "from keras.wrappers.scikit_learn import KerasClassifier\n",
    "\n",
    "import matplotlib.pyplot as plt"
   ]
  },
  {
   "cell_type": "code",
   "execution_count": 47,
   "metadata": {},
   "outputs": [
    {
     "data": {
      "text/html": [
       "<div>\n",
       "<style scoped>\n",
       "    .dataframe tbody tr th:only-of-type {\n",
       "        vertical-align: middle;\n",
       "    }\n",
       "\n",
       "    .dataframe tbody tr th {\n",
       "        vertical-align: top;\n",
       "    }\n",
       "\n",
       "    .dataframe thead th {\n",
       "        text-align: right;\n",
       "    }\n",
       "</style>\n",
       "<table border=\"1\" class=\"dataframe\">\n",
       "  <thead>\n",
       "    <tr style=\"text-align: right;\">\n",
       "      <th></th>\n",
       "      <th>6</th>\n",
       "      <th>148</th>\n",
       "      <th>72</th>\n",
       "      <th>35</th>\n",
       "      <th>0</th>\n",
       "      <th>33.6</th>\n",
       "      <th>0.627</th>\n",
       "      <th>50</th>\n",
       "      <th>1</th>\n",
       "    </tr>\n",
       "  </thead>\n",
       "  <tbody>\n",
       "    <tr>\n",
       "      <th>0</th>\n",
       "      <td>1</td>\n",
       "      <td>85</td>\n",
       "      <td>66</td>\n",
       "      <td>29</td>\n",
       "      <td>0</td>\n",
       "      <td>26.6</td>\n",
       "      <td>0.351</td>\n",
       "      <td>31</td>\n",
       "      <td>0</td>\n",
       "    </tr>\n",
       "    <tr>\n",
       "      <th>1</th>\n",
       "      <td>8</td>\n",
       "      <td>183</td>\n",
       "      <td>64</td>\n",
       "      <td>0</td>\n",
       "      <td>0</td>\n",
       "      <td>23.3</td>\n",
       "      <td>0.672</td>\n",
       "      <td>32</td>\n",
       "      <td>1</td>\n",
       "    </tr>\n",
       "  </tbody>\n",
       "</table>\n",
       "</div>"
      ],
      "text/plain": [
       "   6  148  72  35  0  33.6  0.627  50  1\n",
       "0  1   85  66  29  0  26.6  0.351  31  0\n",
       "1  8  183  64   0  0  23.3  0.672  32  1"
      ]
     },
     "execution_count": 47,
     "metadata": {},
     "output_type": "execute_result"
    }
   ],
   "source": [
    "diabetics = pd.read_csv(\"pima_indians_diabetes.csv\")\n",
    "diabetics.head(2)"
   ]
  },
  {
   "cell_type": "code",
   "execution_count": 48,
   "metadata": {},
   "outputs": [],
   "source": [
    "labels = [\"Number of times preganant\",\n",
    "          \"Plasma glucose concentration\", \n",
    "          \"Diastolic bloood pressure(mm Hg)\",\n",
    "          \"Triceps skin fold thickness (mm)\",\n",
    "          \"2-house serum insulin (mu U/ml)\",\n",
    "          \"Body Mass Index\",\n",
    "          \"Diabetes pedigree function\",\n",
    "          \"Age (years)\",\n",
    "          \"Target\"]"
   ]
  },
  {
   "cell_type": "code",
   "execution_count": 49,
   "metadata": {},
   "outputs": [],
   "source": [
    "diabetics = pd.read_csv(\"pima-indians-diabetes.csv\",names=labels)"
   ]
  },
  {
   "cell_type": "code",
   "execution_count": 50,
   "metadata": {},
   "outputs": [
    {
     "data": {
      "text/html": [
       "<div>\n",
       "<style scoped>\n",
       "    .dataframe tbody tr th:only-of-type {\n",
       "        vertical-align: middle;\n",
       "    }\n",
       "\n",
       "    .dataframe tbody tr th {\n",
       "        vertical-align: top;\n",
       "    }\n",
       "\n",
       "    .dataframe thead th {\n",
       "        text-align: right;\n",
       "    }\n",
       "</style>\n",
       "<table border=\"1\" class=\"dataframe\">\n",
       "  <thead>\n",
       "    <tr style=\"text-align: right;\">\n",
       "      <th></th>\n",
       "      <th>Number of times preganant</th>\n",
       "      <th>Plasma glucose concentration</th>\n",
       "      <th>Diastolic bloood pressure(mm Hg)</th>\n",
       "      <th>Triceps skin fold thickness (mm)</th>\n",
       "      <th>2-house serum insulin (mu U/ml)</th>\n",
       "      <th>Body Mass Index</th>\n",
       "      <th>Diabetes pedigree function</th>\n",
       "      <th>Age (years)</th>\n",
       "      <th>Target</th>\n",
       "    </tr>\n",
       "  </thead>\n",
       "  <tbody>\n",
       "    <tr>\n",
       "      <th>0</th>\n",
       "      <td>6</td>\n",
       "      <td>148</td>\n",
       "      <td>72</td>\n",
       "      <td>35</td>\n",
       "      <td>0</td>\n",
       "      <td>33.6</td>\n",
       "      <td>0.627</td>\n",
       "      <td>50</td>\n",
       "      <td>1</td>\n",
       "    </tr>\n",
       "    <tr>\n",
       "      <th>1</th>\n",
       "      <td>1</td>\n",
       "      <td>85</td>\n",
       "      <td>66</td>\n",
       "      <td>29</td>\n",
       "      <td>0</td>\n",
       "      <td>26.6</td>\n",
       "      <td>0.351</td>\n",
       "      <td>31</td>\n",
       "      <td>0</td>\n",
       "    </tr>\n",
       "  </tbody>\n",
       "</table>\n",
       "</div>"
      ],
      "text/plain": [
       "   Number of times preganant   ...    Target\n",
       "0                          6   ...         1\n",
       "1                          1   ...         0\n",
       "\n",
       "[2 rows x 9 columns]"
      ]
     },
     "execution_count": 50,
     "metadata": {},
     "output_type": "execute_result"
    }
   ],
   "source": [
    "diabetics.head(2)"
   ]
  },
  {
   "cell_type": "code",
   "execution_count": 52,
   "metadata": {},
   "outputs": [
    {
     "data": {
      "text/plain": [
       "(768, 9)"
      ]
     },
     "execution_count": 52,
     "metadata": {},
     "output_type": "execute_result"
    }
   ],
   "source": [
    "# Understand the Data\n",
    "diabetics.shape"
   ]
  },
  {
   "cell_type": "code",
   "execution_count": 53,
   "metadata": {},
   "outputs": [
    {
     "data": {
      "text/plain": [
       "Index(['Number of times preganant', 'Plasma glucose concentration',\n",
       "       'Diastolic bloood pressure(mm Hg)', 'Triceps skin fold thickness (mm)',\n",
       "       '2-house serum insulin (mu U/ml)', 'Body Mass Index',\n",
       "       'Diabetes pedigree function', 'Age (years)', 'Target'],\n",
       "      dtype='object')"
      ]
     },
     "execution_count": 53,
     "metadata": {},
     "output_type": "execute_result"
    }
   ],
   "source": [
    "# Display Columns\n",
    "diabetics.columns"
   ]
  },
  {
   "cell_type": "code",
   "execution_count": 54,
   "metadata": {},
   "outputs": [
    {
     "data": {
      "text/plain": [
       "RangeIndex(start=0, stop=768, step=1)"
      ]
     },
     "execution_count": 54,
     "metadata": {},
     "output_type": "execute_result"
    }
   ],
   "source": [
    "# Display index\n",
    "diabetics.index"
   ]
  },
  {
   "cell_type": "code",
   "execution_count": 55,
   "metadata": {},
   "outputs": [
    {
     "data": {
      "text/html": [
       "<div>\n",
       "<style scoped>\n",
       "    .dataframe tbody tr th:only-of-type {\n",
       "        vertical-align: middle;\n",
       "    }\n",
       "\n",
       "    .dataframe tbody tr th {\n",
       "        vertical-align: top;\n",
       "    }\n",
       "\n",
       "    .dataframe thead th {\n",
       "        text-align: right;\n",
       "    }\n",
       "</style>\n",
       "<table border=\"1\" class=\"dataframe\">\n",
       "  <thead>\n",
       "    <tr style=\"text-align: right;\">\n",
       "      <th></th>\n",
       "      <th>Number of times preganant</th>\n",
       "      <th>Plasma glucose concentration</th>\n",
       "      <th>Diastolic bloood pressure(mm Hg)</th>\n",
       "      <th>Triceps skin fold thickness (mm)</th>\n",
       "      <th>2-house serum insulin (mu U/ml)</th>\n",
       "      <th>Body Mass Index</th>\n",
       "      <th>Diabetes pedigree function</th>\n",
       "      <th>Age (years)</th>\n",
       "      <th>Target</th>\n",
       "    </tr>\n",
       "  </thead>\n",
       "  <tbody>\n",
       "    <tr>\n",
       "      <th>0</th>\n",
       "      <td>6</td>\n",
       "      <td>148</td>\n",
       "      <td>72</td>\n",
       "      <td>35</td>\n",
       "      <td>0</td>\n",
       "      <td>33.6</td>\n",
       "      <td>0.627</td>\n",
       "      <td>50</td>\n",
       "      <td>1</td>\n",
       "    </tr>\n",
       "    <tr>\n",
       "      <th>1</th>\n",
       "      <td>1</td>\n",
       "      <td>85</td>\n",
       "      <td>66</td>\n",
       "      <td>29</td>\n",
       "      <td>0</td>\n",
       "      <td>26.6</td>\n",
       "      <td>0.351</td>\n",
       "      <td>31</td>\n",
       "      <td>0</td>\n",
       "    </tr>\n",
       "    <tr>\n",
       "      <th>2</th>\n",
       "      <td>8</td>\n",
       "      <td>183</td>\n",
       "      <td>64</td>\n",
       "      <td>0</td>\n",
       "      <td>0</td>\n",
       "      <td>23.3</td>\n",
       "      <td>0.672</td>\n",
       "      <td>32</td>\n",
       "      <td>1</td>\n",
       "    </tr>\n",
       "  </tbody>\n",
       "</table>\n",
       "</div>"
      ],
      "text/plain": [
       "   Number of times preganant   ...    Target\n",
       "0                          6   ...         1\n",
       "1                          1   ...         0\n",
       "2                          8   ...         1\n",
       "\n",
       "[3 rows x 9 columns]"
      ]
     },
     "execution_count": 55,
     "metadata": {},
     "output_type": "execute_result"
    }
   ],
   "source": [
    "# Check Ton 'n' Rows\n",
    "diabetics[:3]"
   ]
  },
  {
   "cell_type": "code",
   "execution_count": 56,
   "metadata": {},
   "outputs": [
    {
     "data": {
      "text/html": [
       "<div>\n",
       "<style scoped>\n",
       "    .dataframe tbody tr th:only-of-type {\n",
       "        vertical-align: middle;\n",
       "    }\n",
       "\n",
       "    .dataframe tbody tr th {\n",
       "        vertical-align: top;\n",
       "    }\n",
       "\n",
       "    .dataframe thead th {\n",
       "        text-align: right;\n",
       "    }\n",
       "</style>\n",
       "<table border=\"1\" class=\"dataframe\">\n",
       "  <thead>\n",
       "    <tr style=\"text-align: right;\">\n",
       "      <th></th>\n",
       "      <th>Number of times preganant</th>\n",
       "      <th>Plasma glucose concentration</th>\n",
       "      <th>Diastolic bloood pressure(mm Hg)</th>\n",
       "      <th>Triceps skin fold thickness (mm)</th>\n",
       "      <th>2-house serum insulin (mu U/ml)</th>\n",
       "      <th>Body Mass Index</th>\n",
       "      <th>Diabetes pedigree function</th>\n",
       "      <th>Age (years)</th>\n",
       "      <th>Target</th>\n",
       "    </tr>\n",
       "  </thead>\n",
       "  <tbody>\n",
       "    <tr>\n",
       "      <th>count</th>\n",
       "      <td>768.000000</td>\n",
       "      <td>768.000000</td>\n",
       "      <td>768.000000</td>\n",
       "      <td>768.000000</td>\n",
       "      <td>768.000000</td>\n",
       "      <td>768.000000</td>\n",
       "      <td>768.000000</td>\n",
       "      <td>768.000000</td>\n",
       "      <td>768.000000</td>\n",
       "    </tr>\n",
       "    <tr>\n",
       "      <th>mean</th>\n",
       "      <td>3.845052</td>\n",
       "      <td>120.894531</td>\n",
       "      <td>69.105469</td>\n",
       "      <td>20.536458</td>\n",
       "      <td>79.799479</td>\n",
       "      <td>31.992578</td>\n",
       "      <td>0.471876</td>\n",
       "      <td>33.240885</td>\n",
       "      <td>0.348958</td>\n",
       "    </tr>\n",
       "    <tr>\n",
       "      <th>std</th>\n",
       "      <td>3.369578</td>\n",
       "      <td>31.972618</td>\n",
       "      <td>19.355807</td>\n",
       "      <td>15.952218</td>\n",
       "      <td>115.244002</td>\n",
       "      <td>7.884160</td>\n",
       "      <td>0.331329</td>\n",
       "      <td>11.760232</td>\n",
       "      <td>0.476951</td>\n",
       "    </tr>\n",
       "    <tr>\n",
       "      <th>min</th>\n",
       "      <td>0.000000</td>\n",
       "      <td>0.000000</td>\n",
       "      <td>0.000000</td>\n",
       "      <td>0.000000</td>\n",
       "      <td>0.000000</td>\n",
       "      <td>0.000000</td>\n",
       "      <td>0.078000</td>\n",
       "      <td>21.000000</td>\n",
       "      <td>0.000000</td>\n",
       "    </tr>\n",
       "    <tr>\n",
       "      <th>25%</th>\n",
       "      <td>1.000000</td>\n",
       "      <td>99.000000</td>\n",
       "      <td>62.000000</td>\n",
       "      <td>0.000000</td>\n",
       "      <td>0.000000</td>\n",
       "      <td>27.300000</td>\n",
       "      <td>0.243750</td>\n",
       "      <td>24.000000</td>\n",
       "      <td>0.000000</td>\n",
       "    </tr>\n",
       "    <tr>\n",
       "      <th>50%</th>\n",
       "      <td>3.000000</td>\n",
       "      <td>117.000000</td>\n",
       "      <td>72.000000</td>\n",
       "      <td>23.000000</td>\n",
       "      <td>30.500000</td>\n",
       "      <td>32.000000</td>\n",
       "      <td>0.372500</td>\n",
       "      <td>29.000000</td>\n",
       "      <td>0.000000</td>\n",
       "    </tr>\n",
       "    <tr>\n",
       "      <th>75%</th>\n",
       "      <td>6.000000</td>\n",
       "      <td>140.250000</td>\n",
       "      <td>80.000000</td>\n",
       "      <td>32.000000</td>\n",
       "      <td>127.250000</td>\n",
       "      <td>36.600000</td>\n",
       "      <td>0.626250</td>\n",
       "      <td>41.000000</td>\n",
       "      <td>1.000000</td>\n",
       "    </tr>\n",
       "    <tr>\n",
       "      <th>max</th>\n",
       "      <td>17.000000</td>\n",
       "      <td>199.000000</td>\n",
       "      <td>122.000000</td>\n",
       "      <td>99.000000</td>\n",
       "      <td>846.000000</td>\n",
       "      <td>67.100000</td>\n",
       "      <td>2.420000</td>\n",
       "      <td>81.000000</td>\n",
       "      <td>1.000000</td>\n",
       "    </tr>\n",
       "  </tbody>\n",
       "</table>\n",
       "</div>"
      ],
      "text/plain": [
       "       Number of times preganant     ...          Target\n",
       "count                 768.000000     ...      768.000000\n",
       "mean                    3.845052     ...        0.348958\n",
       "std                     3.369578     ...        0.476951\n",
       "min                     0.000000     ...        0.000000\n",
       "25%                     1.000000     ...        0.000000\n",
       "50%                     3.000000     ...        0.000000\n",
       "75%                     6.000000     ...        1.000000\n",
       "max                    17.000000     ...        1.000000\n",
       "\n",
       "[8 rows x 9 columns]"
      ]
     },
     "execution_count": 56,
     "metadata": {},
     "output_type": "execute_result"
    }
   ],
   "source": [
    "# #Summary statistics of each column\n",
    "diabetics.describe()"
   ]
  },
  {
   "cell_type": "code",
   "execution_count": 58,
   "metadata": {},
   "outputs": [
    {
     "data": {
      "text/plain": [
       "Number of times preganant             int64\n",
       "Plasma glucose concentration          int64\n",
       "Diastolic bloood pressure(mm Hg)      int64\n",
       "Triceps skin fold thickness (mm)      int64\n",
       "2-house serum insulin (mu U/ml)       int64\n",
       "Body Mass Index                     float64\n",
       "Diabetes pedigree function          float64\n",
       "Age (years)                           int64\n",
       "Target                                int64\n",
       "dtype: object"
      ]
     },
     "execution_count": 58,
     "metadata": {},
     "output_type": "execute_result"
    }
   ],
   "source": [
    "# Check data type of each attribute\n",
    "diabetics.dtypes"
   ]
  },
  {
   "cell_type": "code",
   "execution_count": null,
   "metadata": {},
   "outputs": [],
   "source": [
    "# Observations\n",
    "# All attributes are numerical integers"
   ]
  },
  {
   "cell_type": "code",
   "execution_count": 59,
   "metadata": {},
   "outputs": [
    {
     "data": {
      "text/plain": [
       "Number of times preganant           0\n",
       "Plasma glucose concentration        0\n",
       "Diastolic bloood pressure(mm Hg)    0\n",
       "Triceps skin fold thickness (mm)    0\n",
       "2-house serum insulin (mu U/ml)     0\n",
       "Body Mass Index                     0\n",
       "Diabetes pedigree function          0\n",
       "Age (years)                         0\n",
       "Target                              0\n",
       "dtype: int64"
      ]
     },
     "execution_count": 59,
     "metadata": {},
     "output_type": "execute_result"
    }
   ],
   "source": [
    "# Missing Data\n",
    "diabetics.isnull().sum()"
   ]
  },
  {
   "cell_type": "code",
   "execution_count": 60,
   "metadata": {},
   "outputs": [
    {
     "data": {
      "text/plain": [
       "0    500\n",
       "1    268\n",
       "Name: Target, dtype: int64"
      ]
     },
     "execution_count": 60,
     "metadata": {},
     "output_type": "execute_result"
    }
   ],
   "source": [
    "# Target attribute distribution\n",
    "pd.value_counts(diabetics['Target'])"
   ]
  },
  {
   "cell_type": "code",
   "execution_count": null,
   "metadata": {},
   "outputs": [],
   "source": [
    "# Split the data in to train and test\n",
    "#sklearn.model_selection.train_test_split\n",
    "\n",
    "#Split arrays or matrices into random train and test subsets"
   ]
  },
  {
   "cell_type": "code",
   "execution_count": 62,
   "metadata": {},
   "outputs": [],
   "source": [
    "# Performing Train and Test Split on the data\n",
    "X,y = diabetics.loc[:,diabetics.columns!='Target'].values, diabetics.loc[:,'Target'].values"
   ]
  },
  {
   "cell_type": "code",
   "execution_count": 63,
   "metadata": {},
   "outputs": [],
   "source": [
    "X_train,X_test,y_train,y_test = train_test_split(X, y, test_size = 0.3, random_state=123)"
   ]
  },
  {
   "cell_type": "code",
   "execution_count": 64,
   "metadata": {},
   "outputs": [],
   "source": [
    "# Standardize the Data\n",
    "from sklearn.preprocessing import StandardScaler"
   ]
  },
  {
   "cell_type": "code",
   "execution_count": 66,
   "metadata": {},
   "outputs": [
    {
     "data": {
      "text/plain": [
       "StandardScaler(copy=True, with_mean=True, with_std=True)"
      ]
     },
     "execution_count": 66,
     "metadata": {},
     "output_type": "execute_result"
    }
   ],
   "source": [
    "std = StandardScaler()\n",
    "std.fit(X_train)"
   ]
  },
  {
   "cell_type": "code",
   "execution_count": 67,
   "metadata": {},
   "outputs": [],
   "source": [
    "X_train = std.transform(X_train)\n",
    "X_test = std.transform(X_test)"
   ]
  },
  {
   "cell_type": "code",
   "execution_count": 71,
   "metadata": {},
   "outputs": [
    {
     "data": {
      "text/plain": [
       "(537, 8)"
      ]
     },
     "execution_count": 71,
     "metadata": {},
     "output_type": "execute_result"
    }
   ],
   "source": [
    "X_train.shape\n",
    " "
   ]
  },
  {
   "cell_type": "code",
   "execution_count": 73,
   "metadata": {},
   "outputs": [
    {
     "name": "stdout",
     "output_type": "stream",
     "text": [
      "<class 'pandas.core.frame.DataFrame'>\n",
      "RangeIndex: 768 entries, 0 to 767\n",
      "Data columns (total 9 columns):\n",
      "Number of times preganant           768 non-null int64\n",
      "Plasma glucose concentration        768 non-null int64\n",
      "Diastolic bloood pressure(mm Hg)    768 non-null int64\n",
      "Triceps skin fold thickness (mm)    768 non-null int64\n",
      "2-house serum insulin (mu U/ml)     768 non-null int64\n",
      "Body Mass Index                     768 non-null float64\n",
      "Diabetes pedigree function          768 non-null float64\n",
      "Age (years)                         768 non-null int64\n",
      "Target                              768 non-null int64\n",
      "dtypes: float64(2), int64(7)\n",
      "memory usage: 54.1 KB\n"
     ]
    }
   ],
   "source": [
    "diabetics.info()"
   ]
  },
  {
   "cell_type": "code",
   "execution_count": 75,
   "metadata": {},
   "outputs": [],
   "source": [
    "# Perceptron Model Building\n",
    "perceptron_model = Sequential()\n",
    "perceptron_model.add(Dense(1, input_dim=8,activation='sigmoid',kernel_initializer='normal'))"
   ]
  },
  {
   "cell_type": "code",
   "execution_count": 77,
   "metadata": {},
   "outputs": [],
   "source": [
    "perceptron_model.compile(loss='binary_crossentropy',optimizer='adam',metrics=['accuracy'])"
   ]
  },
  {
   "cell_type": "code",
   "execution_count": 79,
   "metadata": {},
   "outputs": [
    {
     "name": "stdout",
     "output_type": "stream",
     "text": [
      "Epoch 1/30\n",
      "537/537 [==============================] - 3s 5ms/step - loss: 0.6828 - acc: 0.5903\n",
      "Epoch 2/30\n",
      "537/537 [==============================] - 0s 101us/step - loss: 0.6769 - acc: 0.6220\n",
      "Epoch 3/30\n",
      "537/537 [==============================] - 0s 95us/step - loss: 0.6711 - acc: 0.6350\n",
      "Epoch 4/30\n",
      "537/537 [==============================] - 0s 93us/step - loss: 0.6655 - acc: 0.6462\n",
      "Epoch 5/30\n",
      "537/537 [==============================] - 0s 95us/step - loss: 0.6601 - acc: 0.6555\n",
      "Epoch 6/30\n",
      "537/537 [==============================] - 0s 104us/step - loss: 0.6550 - acc: 0.6760\n",
      "Epoch 7/30\n",
      "537/537 [==============================] - 0s 91us/step - loss: 0.6500 - acc: 0.6834\n",
      "Epoch 8/30\n",
      "537/537 [==============================] - 0s 86us/step - loss: 0.6454 - acc: 0.6983\n",
      "Epoch 9/30\n",
      "537/537 [==============================] - 0s 99us/step - loss: 0.6408 - acc: 0.7002\n",
      "Epoch 10/30\n",
      "537/537 [==============================] - 0s 95us/step - loss: 0.6364 - acc: 0.7039\n",
      "Epoch 11/30\n",
      "537/537 [==============================] - 0s 125us/step - loss: 0.6323 - acc: 0.7002\n",
      "Epoch 12/30\n",
      "537/537 [==============================] - 0s 192us/step - loss: 0.6283 - acc: 0.7095\n",
      "Epoch 13/30\n",
      "537/537 [==============================] - ETA: 0s - loss: 0.6236 - acc: 0.714 - 0s 149us/step - loss: 0.6243 - acc: 0.7114\n",
      "Epoch 14/30\n",
      "537/537 [==============================] - 0s 188us/step - loss: 0.6205 - acc: 0.7151\n",
      "Epoch 15/30\n",
      "537/537 [==============================] - 0s 151us/step - loss: 0.6167 - acc: 0.7188\n",
      "Epoch 16/30\n",
      "537/537 [==============================] - 0s 184us/step - loss: 0.6134 - acc: 0.7169 0s - loss: 0.6150 - acc: 0.712\n",
      "Epoch 17/30\n",
      "537/537 [==============================] - 0s 117us/step - loss: 0.6098 - acc: 0.7188\n",
      "Epoch 18/30\n",
      "537/537 [==============================] - 0s 166us/step - loss: 0.6065 - acc: 0.7169\n",
      "Epoch 19/30\n",
      "537/537 [==============================] - 0s 136us/step - loss: 0.6032 - acc: 0.7188\n",
      "Epoch 20/30\n",
      "537/537 [==============================] - 0s 117us/step - loss: 0.6001 - acc: 0.7188\n",
      "Epoch 21/30\n",
      "537/537 [==============================] - 0s 106us/step - loss: 0.5973 - acc: 0.7207\n",
      "Epoch 22/30\n",
      "537/537 [==============================] - 0s 99us/step - loss: 0.5944 - acc: 0.7207\n",
      "Epoch 23/30\n",
      "537/537 [==============================] - 0s 89us/step - loss: 0.5916 - acc: 0.7207\n",
      "Epoch 24/30\n",
      "537/537 [==============================] - 0s 179us/step - loss: 0.5890 - acc: 0.7207\n",
      "Epoch 25/30\n",
      "537/537 [==============================] - 0s 117us/step - loss: 0.5863 - acc: 0.7207\n",
      "Epoch 26/30\n",
      "537/537 [==============================] - 0s 93us/step - loss: 0.5838 - acc: 0.7188\n",
      "Epoch 27/30\n",
      "537/537 [==============================] - ETA: 0s - loss: 0.5739 - acc: 0.734 - 0s 108us/step - loss: 0.5813 - acc: 0.7225\n",
      "Epoch 28/30\n",
      "537/537 [==============================] - 0s 93us/step - loss: 0.5789 - acc: 0.7225\n",
      "Epoch 29/30\n",
      "537/537 [==============================] - 0s 101us/step - loss: 0.5766 - acc: 0.7207\n",
      "Epoch 30/30\n",
      "537/537 [==============================] - 0s 93us/step - loss: 0.5745 - acc: 0.7207\n"
     ]
    },
    {
     "data": {
      "text/plain": [
       "<keras.callbacks.History at 0x1e69e734e80>"
      ]
     },
     "execution_count": 79,
     "metadata": {},
     "output_type": "execute_result"
    }
   ],
   "source": [
    "perceptron_model.fit(X_train, y_train, epochs = 30, batch_size = 64)"
   ]
  },
  {
   "cell_type": "code",
   "execution_count": 81,
   "metadata": {},
   "outputs": [],
   "source": [
    "# Predictions\n",
    "y_pred = perceptron_model.predict_classes(X_test)\n",
    "y_pred_train = perceptron_model.predict_classes(X_train)"
   ]
  },
  {
   "cell_type": "code",
   "execution_count": 84,
   "metadata": {},
   "outputs": [
    {
     "name": "stdout",
     "output_type": "stream",
     "text": [
      "0.7575757575757576\n",
      "[[119  24]\n",
      " [ 32  56]]\n",
      "             precision    recall  f1-score   support\n",
      "\n",
      "          0       0.79      0.83      0.81       143\n",
      "          1       0.70      0.64      0.67        88\n",
      "\n",
      "avg / total       0.75      0.76      0.76       231\n",
      "\n"
     ]
    }
   ],
   "source": [
    "# Eaaluation of Algorithm\n",
    "from sklearn.metrics import confusion_matrix,accuracy_score,classification_report\n",
    "print(accuracy_score(y_test,y_pred))\n",
    "print(confusion_matrix(y_test,y_pred))\n",
    "print(classification_report(y_test,y_pred))"
   ]
  },
  {
   "cell_type": "code",
   "execution_count": 83,
   "metadata": {},
   "outputs": [
    {
     "name": "stdout",
     "output_type": "stream",
     "text": [
      "Train data target \n",
      " 0    357\n",
      "1    180\n",
      "dtype: int64\n",
      "\n",
      " Confusion matrix \n",
      " [[283  74]\n",
      " [ 76 104]]\n",
      "\n",
      " Test data target \n",
      " 0    143\n",
      "1     88\n",
      "dtype: int64\n",
      "\n",
      " Confusion matrix \n",
      " [[119  24]\n",
      " [ 32  56]]\n"
     ]
    }
   ],
   "source": [
    "print(\"Train data target \\n\", pd.value_counts(y_train))\n",
    "confusion_matrix_train = confusion_matrix(y_train, y_pred_train)\n",
    "print(\"\\n Confusion matrix \\n\", confusion_matrix_train)\n",
    "\n",
    "print(\"\\n Test data target \\n\", pd.value_counts(y_test))\n",
    "confusion_matrix_test = confusion_matrix(y_test, y_pred)\n",
    "print(\"\\n Confusion matrix \\n\", confusion_matrix_test)"
   ]
  },
  {
   "cell_type": "code",
   "execution_count": 85,
   "metadata": {},
   "outputs": [
    {
     "name": "stdout",
     "output_type": "stream",
     "text": [
      "Train TNR:  0.7927170868347339\n",
      "Train TPR:  0.5777777777777777\n",
      "Train Accuracy:  0.7206703910614525\n"
     ]
    }
   ],
   "source": [
    "Accuracy_Train=(confusion_matrix_train[0,0]+confusion_matrix_train[1,1])/(confusion_matrix_train[0,0]+\n",
    "                                                                          confusion_matrix_train[0,1]+\n",
    "                                                                          confusion_matrix_train[1,0]+\n",
    "                                                                          confusion_matrix_train[1,1])\n",
    "TNR_Train= confusion_matrix_train[0,0]/(confusion_matrix_train[0,0]+confusion_matrix_train[0,1])\n",
    "TPR_Train= confusion_matrix_train[1,1]/(confusion_matrix_train[1,0]+confusion_matrix_train[1,1])\n",
    "\n",
    "print(\"Train TNR: \",TNR_Train)\n",
    "print(\"Train TPR: \",TPR_Train)\n",
    "print(\"Train Accuracy: \",Accuracy_Train)"
   ]
  },
  {
   "cell_type": "code",
   "execution_count": 86,
   "metadata": {},
   "outputs": [
    {
     "name": "stdout",
     "output_type": "stream",
     "text": [
      "Test TNR:  0.8321678321678322\n",
      "Test TPR:  0.6363636363636364\n",
      "Test Accuracy:  0.7575757575757576\n"
     ]
    }
   ],
   "source": [
    "Accuracy_Test=(confusion_matrix_test[0,0]+confusion_matrix_test[1,1])/(confusion_matrix_test[0,0]+confusion_matrix_test[0,1]+confusion_matrix_test[1,0]+confusion_matrix_test[1,1])\n",
    "TNR_Test= confusion_matrix_test[0,0]/(confusion_matrix_test[0,0] +confusion_matrix_test[0,1])\n",
    "TPR_Test= confusion_matrix_test[1,1]/(confusion_matrix_test[1,0] +confusion_matrix_test[1,1])\n",
    "\n",
    "print(\"Test TNR: \",TNR_Test)\n",
    "print(\"Test TPR: \",TPR_Test)\n",
    "print(\"Test Accuracy: \",Accuracy_Test)"
   ]
  },
  {
   "cell_type": "code",
   "execution_count": 87,
   "metadata": {},
   "outputs": [],
   "source": [
    "## Define function to Create Model\n",
    "def create_model():\n",
    "    model=Sequential()\n",
    "    model.add(Dense(12,input_dim=8,activation='relu'))\n",
    "    model.add(Dense(1,activation='sigmoid'))\n",
    "# Model Compile\n",
    "    model.compile(loss='binary_crossentropy',optimizer='adam',metrics=['accuracy'])\n",
    "    return model"
   ]
  },
  {
   "cell_type": "code",
   "execution_count": 93,
   "metadata": {},
   "outputs": [],
   "source": [
    "# Create Model\n",
    "model = KerasClassifier(build_fn=create_model,verbose=0)"
   ]
  },
  {
   "cell_type": "code",
   "execution_count": 94,
   "metadata": {},
   "outputs": [],
   "source": [
    "# Parameter Tuning\n",
    "from sklearn.model_selection import GridSearchCV\n",
    "Perceptron_grid = Sequential()\n",
    "param_grid = {\n",
    "    'epochs': [10,20,30,40],\n",
    "'batch_size': [10,20,40,60,80,100]\n",
    "}\n",
    "# OR param_grid = dict(batch_size,epochs)\n",
    "grid = GridSearchCV(estimator=model,param_grid=param_grid,n_jobs=-1)"
   ]
  },
  {
   "cell_type": "code",
   "execution_count": null,
   "metadata": {},
   "outputs": [],
   "source": [
    "## Fit the grid search model\n",
    "grid_result = grid.fit(X_train,y_train)"
   ]
  },
  {
   "cell_type": "code",
   "execution_count": null,
   "metadata": {},
   "outputs": [],
   "source": [
    "## Print best score and parameters\n",
    "print(\"Best: %f using %s\" % (grid_result.best_score_, grid_result.best_params_))"
   ]
  },
  {
   "cell_type": "code",
   "execution_count": null,
   "metadata": {},
   "outputs": [],
   "source": [
    "means = grid_result.cv_results_['mean_test_score']\n",
    "stds = grid_result.cv_results_['std_test_score']\n",
    "params = grid_result.cv_results_['params']\n",
    "for mean, stdev, param in zip(means, stds, params):\n",
    "    print(\"%f (%f) with: %r\" % (mean, stdev, param))"
   ]
  }
 ],
 "metadata": {
  "kernelspec": {
   "display_name": "Python 3",
   "language": "python",
   "name": "python3"
  },
  "language_info": {
   "codemirror_mode": {
    "name": "ipython",
    "version": 3
   },
   "file_extension": ".py",
   "mimetype": "text/x-python",
   "name": "python",
   "nbconvert_exporter": "python",
   "pygments_lexer": "ipython3",
   "version": "3.6.5"
  }
 },
 "nbformat": 4,
 "nbformat_minor": 2
}
