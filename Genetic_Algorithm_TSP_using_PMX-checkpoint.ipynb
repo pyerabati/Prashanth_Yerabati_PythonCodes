{
 "cells": [
  {
   "cell_type": "markdown",
   "metadata": {},
   "source": [
    "## Import libraries"
   ]
  },
  {
   "cell_type": "code",
   "execution_count": 1,
   "metadata": {},
   "outputs": [],
   "source": [
    "import os \n",
    "import csv\n",
    "import numpy as np\n",
    "import pandas as pd\n",
    "import random # library to generate random numbers\n",
    "np.random.seed(seed=42)\n",
    "import matplotlib.pyplot as plt # For plotting\n",
    "import math\n",
    "get_ipython().magic('matplotlib notebook')\n",
    "from IPython.display import HTML\n",
    "import warnings\n",
    "warnings.filterwarnings('ignore')"
   ]
  },
  {
   "cell_type": "markdown",
   "metadata": {},
   "source": [
    "#### Import data"
   ]
  },
  {
   "cell_type": "code",
   "execution_count": 2,
   "metadata": {},
   "outputs": [
    {
     "data": {
      "text/html": [
       "<div>\n",
       "<style scoped>\n",
       "    .dataframe tbody tr th:only-of-type {\n",
       "        vertical-align: middle;\n",
       "    }\n",
       "\n",
       "    .dataframe tbody tr th {\n",
       "        vertical-align: top;\n",
       "    }\n",
       "\n",
       "    .dataframe thead th {\n",
       "        text-align: right;\n",
       "    }\n",
       "</style>\n",
       "<table border=\"1\" class=\"dataframe\">\n",
       "  <thead>\n",
       "    <tr style=\"text-align: right;\">\n",
       "      <th></th>\n",
       "      <th>Unnamed: 0</th>\n",
       "      <th>Bangalore</th>\n",
       "      <th>Jaipur</th>\n",
       "      <th>Varanasi</th>\n",
       "      <th>Udaipur</th>\n",
       "      <th>Delhi</th>\n",
       "      <th>Chennai</th>\n",
       "      <th>Mysore</th>\n",
       "      <th>Agra</th>\n",
       "      <th>Kolkata</th>\n",
       "      <th>Mumbai</th>\n",
       "      <th>Hyderabad</th>\n",
       "    </tr>\n",
       "  </thead>\n",
       "  <tbody>\n",
       "    <tr>\n",
       "      <th>0</th>\n",
       "      <td>Bangalore</td>\n",
       "      <td>0</td>\n",
       "      <td>2026</td>\n",
       "      <td>1825</td>\n",
       "      <td>1724</td>\n",
       "      <td>2166</td>\n",
       "      <td>346</td>\n",
       "      <td>149</td>\n",
       "      <td>1923</td>\n",
       "      <td>1862</td>\n",
       "      <td>980</td>\n",
       "      <td>569</td>\n",
       "    </tr>\n",
       "    <tr>\n",
       "      <th>1</th>\n",
       "      <td>Jaipur</td>\n",
       "      <td>2026</td>\n",
       "      <td>0</td>\n",
       "      <td>849</td>\n",
       "      <td>393</td>\n",
       "      <td>287</td>\n",
       "      <td>2108</td>\n",
       "      <td>2121</td>\n",
       "      <td>240</td>\n",
       "      <td>1520</td>\n",
       "      <td>1146</td>\n",
       "      <td>1483</td>\n",
       "    </tr>\n",
       "    <tr>\n",
       "      <th>2</th>\n",
       "      <td>Varanasi</td>\n",
       "      <td>1825</td>\n",
       "      <td>849</td>\n",
       "      <td>0</td>\n",
       "      <td>1154</td>\n",
       "      <td>834</td>\n",
       "      <td>1862</td>\n",
       "      <td>1976</td>\n",
       "      <td>614</td>\n",
       "      <td>683</td>\n",
       "      <td>1524</td>\n",
       "      <td>1237</td>\n",
       "    </tr>\n",
       "    <tr>\n",
       "      <th>3</th>\n",
       "      <td>Udaipur</td>\n",
       "      <td>1724</td>\n",
       "      <td>393</td>\n",
       "      <td>1154</td>\n",
       "      <td>0</td>\n",
       "      <td>661</td>\n",
       "      <td>2077</td>\n",
       "      <td>1809</td>\n",
       "      <td>634</td>\n",
       "      <td>1825</td>\n",
       "      <td>753</td>\n",
       "      <td>1349</td>\n",
       "    </tr>\n",
       "    <tr>\n",
       "      <th>4</th>\n",
       "      <td>Delhi</td>\n",
       "      <td>2166</td>\n",
       "      <td>287</td>\n",
       "      <td>834</td>\n",
       "      <td>661</td>\n",
       "      <td>0</td>\n",
       "      <td>2203</td>\n",
       "      <td>2317</td>\n",
       "      <td>233</td>\n",
       "      <td>1498</td>\n",
       "      <td>1415</td>\n",
       "      <td>1578</td>\n",
       "    </tr>\n",
       "    <tr>\n",
       "      <th>5</th>\n",
       "      <td>Chennai</td>\n",
       "      <td>346</td>\n",
       "      <td>2108</td>\n",
       "      <td>1862</td>\n",
       "      <td>2077</td>\n",
       "      <td>2203</td>\n",
       "      <td>0</td>\n",
       "      <td>482</td>\n",
       "      <td>1957</td>\n",
       "      <td>1669</td>\n",
       "      <td>1345</td>\n",
       "      <td>627</td>\n",
       "    </tr>\n",
       "    <tr>\n",
       "      <th>6</th>\n",
       "      <td>Mysore</td>\n",
       "      <td>149</td>\n",
       "      <td>2121</td>\n",
       "      <td>1976</td>\n",
       "      <td>1809</td>\n",
       "      <td>2317</td>\n",
       "      <td>482</td>\n",
       "      <td>0</td>\n",
       "      <td>2072</td>\n",
       "      <td>2012</td>\n",
       "      <td>1064</td>\n",
       "      <td>718</td>\n",
       "    </tr>\n",
       "    <tr>\n",
       "      <th>7</th>\n",
       "      <td>Agra</td>\n",
       "      <td>1923</td>\n",
       "      <td>240</td>\n",
       "      <td>614</td>\n",
       "      <td>634</td>\n",
       "      <td>233</td>\n",
       "      <td>1957</td>\n",
       "      <td>2072</td>\n",
       "      <td>0</td>\n",
       "      <td>1280</td>\n",
       "      <td>1323</td>\n",
       "      <td>1334</td>\n",
       "    </tr>\n",
       "    <tr>\n",
       "      <th>8</th>\n",
       "      <td>Kolkata</td>\n",
       "      <td>1862</td>\n",
       "      <td>1520</td>\n",
       "      <td>683</td>\n",
       "      <td>1825</td>\n",
       "      <td>1498</td>\n",
       "      <td>1669</td>\n",
       "      <td>2012</td>\n",
       "      <td>1280</td>\n",
       "      <td>0</td>\n",
       "      <td>2053</td>\n",
       "      <td>1493</td>\n",
       "    </tr>\n",
       "    <tr>\n",
       "      <th>9</th>\n",
       "      <td>Mumbai</td>\n",
       "      <td>980</td>\n",
       "      <td>1146</td>\n",
       "      <td>1524</td>\n",
       "      <td>753</td>\n",
       "      <td>1415</td>\n",
       "      <td>1345</td>\n",
       "      <td>1064</td>\n",
       "      <td>1323</td>\n",
       "      <td>2053</td>\n",
       "      <td>0</td>\n",
       "      <td>711</td>\n",
       "    </tr>\n",
       "    <tr>\n",
       "      <th>10</th>\n",
       "      <td>Hyderabad</td>\n",
       "      <td>569</td>\n",
       "      <td>1483</td>\n",
       "      <td>1237</td>\n",
       "      <td>1349</td>\n",
       "      <td>1578</td>\n",
       "      <td>627</td>\n",
       "      <td>718</td>\n",
       "      <td>1334</td>\n",
       "      <td>1493</td>\n",
       "      <td>711</td>\n",
       "      <td>0</td>\n",
       "    </tr>\n",
       "  </tbody>\n",
       "</table>\n",
       "</div>"
      ],
      "text/plain": [
       "   Unnamed: 0  Bangalore  Jaipur  Varanasi  Udaipur  Delhi  Chennai  Mysore  \\\n",
       "0   Bangalore          0    2026      1825     1724   2166      346     149   \n",
       "1      Jaipur       2026       0       849      393    287     2108    2121   \n",
       "2    Varanasi       1825     849         0     1154    834     1862    1976   \n",
       "3     Udaipur       1724     393      1154        0    661     2077    1809   \n",
       "4       Delhi       2166     287       834      661      0     2203    2317   \n",
       "5     Chennai        346    2108      1862     2077   2203        0     482   \n",
       "6      Mysore        149    2121      1976     1809   2317      482       0   \n",
       "7        Agra       1923     240       614      634    233     1957    2072   \n",
       "8     Kolkata       1862    1520       683     1825   1498     1669    2012   \n",
       "9      Mumbai        980    1146      1524      753   1415     1345    1064   \n",
       "10  Hyderabad        569    1483      1237     1349   1578      627     718   \n",
       "\n",
       "    Agra  Kolkata  Mumbai  Hyderabad  \n",
       "0   1923     1862     980        569  \n",
       "1    240     1520    1146       1483  \n",
       "2    614      683    1524       1237  \n",
       "3    634     1825     753       1349  \n",
       "4    233     1498    1415       1578  \n",
       "5   1957     1669    1345        627  \n",
       "6   2072     2012    1064        718  \n",
       "7      0     1280    1323       1334  \n",
       "8   1280        0    2053       1493  \n",
       "9   1323     2053       0        711  \n",
       "10  1334     1493     711          0  "
      ]
     },
     "execution_count": 2,
     "metadata": {},
     "output_type": "execute_result"
    }
   ],
   "source": [
    "data1 = pd.read_csv(\"cities_and_distances.csv\",header=0)\n",
    "\n",
    "data1"
   ]
  },
  {
   "cell_type": "markdown",
   "metadata": {},
   "source": [
    "#### Starting Point"
   ]
  },
  {
   "cell_type": "code",
   "execution_count": 3,
   "metadata": {},
   "outputs": [],
   "source": [
    "starting_point = \"Bangalore\""
   ]
  },
  {
   "cell_type": "markdown",
   "metadata": {},
   "source": [
    "##### Format the data into required format"
   ]
  },
  {
   "cell_type": "code",
   "execution_count": 4,
   "metadata": {},
   "outputs": [
    {
     "data": {
      "text/html": [
       "<div>\n",
       "<style scoped>\n",
       "    .dataframe tbody tr th:only-of-type {\n",
       "        vertical-align: middle;\n",
       "    }\n",
       "\n",
       "    .dataframe tbody tr th {\n",
       "        vertical-align: top;\n",
       "    }\n",
       "\n",
       "    .dataframe thead th {\n",
       "        text-align: right;\n",
       "    }\n",
       "</style>\n",
       "<table border=\"1\" class=\"dataframe\">\n",
       "  <thead>\n",
       "    <tr style=\"text-align: right;\">\n",
       "      <th></th>\n",
       "      <th>Bangalore</th>\n",
       "      <th>Jaipur</th>\n",
       "      <th>Varanasi</th>\n",
       "      <th>Udaipur</th>\n",
       "      <th>Delhi</th>\n",
       "      <th>Chennai</th>\n",
       "      <th>Mysore</th>\n",
       "      <th>Agra</th>\n",
       "      <th>Kolkata</th>\n",
       "      <th>Mumbai</th>\n",
       "      <th>Hyderabad</th>\n",
       "    </tr>\n",
       "  </thead>\n",
       "  <tbody>\n",
       "    <tr>\n",
       "      <th>Bangalore</th>\n",
       "      <td>0</td>\n",
       "      <td>2026</td>\n",
       "      <td>1825</td>\n",
       "      <td>1724</td>\n",
       "      <td>2166</td>\n",
       "      <td>346</td>\n",
       "      <td>149</td>\n",
       "      <td>1923</td>\n",
       "      <td>1862</td>\n",
       "      <td>980</td>\n",
       "      <td>569</td>\n",
       "    </tr>\n",
       "    <tr>\n",
       "      <th>Jaipur</th>\n",
       "      <td>2026</td>\n",
       "      <td>0</td>\n",
       "      <td>849</td>\n",
       "      <td>393</td>\n",
       "      <td>287</td>\n",
       "      <td>2108</td>\n",
       "      <td>2121</td>\n",
       "      <td>240</td>\n",
       "      <td>1520</td>\n",
       "      <td>1146</td>\n",
       "      <td>1483</td>\n",
       "    </tr>\n",
       "    <tr>\n",
       "      <th>Varanasi</th>\n",
       "      <td>1825</td>\n",
       "      <td>849</td>\n",
       "      <td>0</td>\n",
       "      <td>1154</td>\n",
       "      <td>834</td>\n",
       "      <td>1862</td>\n",
       "      <td>1976</td>\n",
       "      <td>614</td>\n",
       "      <td>683</td>\n",
       "      <td>1524</td>\n",
       "      <td>1237</td>\n",
       "    </tr>\n",
       "    <tr>\n",
       "      <th>Udaipur</th>\n",
       "      <td>1724</td>\n",
       "      <td>393</td>\n",
       "      <td>1154</td>\n",
       "      <td>0</td>\n",
       "      <td>661</td>\n",
       "      <td>2077</td>\n",
       "      <td>1809</td>\n",
       "      <td>634</td>\n",
       "      <td>1825</td>\n",
       "      <td>753</td>\n",
       "      <td>1349</td>\n",
       "    </tr>\n",
       "    <tr>\n",
       "      <th>Delhi</th>\n",
       "      <td>2166</td>\n",
       "      <td>287</td>\n",
       "      <td>834</td>\n",
       "      <td>661</td>\n",
       "      <td>0</td>\n",
       "      <td>2203</td>\n",
       "      <td>2317</td>\n",
       "      <td>233</td>\n",
       "      <td>1498</td>\n",
       "      <td>1415</td>\n",
       "      <td>1578</td>\n",
       "    </tr>\n",
       "    <tr>\n",
       "      <th>Chennai</th>\n",
       "      <td>346</td>\n",
       "      <td>2108</td>\n",
       "      <td>1862</td>\n",
       "      <td>2077</td>\n",
       "      <td>2203</td>\n",
       "      <td>0</td>\n",
       "      <td>482</td>\n",
       "      <td>1957</td>\n",
       "      <td>1669</td>\n",
       "      <td>1345</td>\n",
       "      <td>627</td>\n",
       "    </tr>\n",
       "    <tr>\n",
       "      <th>Mysore</th>\n",
       "      <td>149</td>\n",
       "      <td>2121</td>\n",
       "      <td>1976</td>\n",
       "      <td>1809</td>\n",
       "      <td>2317</td>\n",
       "      <td>482</td>\n",
       "      <td>0</td>\n",
       "      <td>2072</td>\n",
       "      <td>2012</td>\n",
       "      <td>1064</td>\n",
       "      <td>718</td>\n",
       "    </tr>\n",
       "    <tr>\n",
       "      <th>Agra</th>\n",
       "      <td>1923</td>\n",
       "      <td>240</td>\n",
       "      <td>614</td>\n",
       "      <td>634</td>\n",
       "      <td>233</td>\n",
       "      <td>1957</td>\n",
       "      <td>2072</td>\n",
       "      <td>0</td>\n",
       "      <td>1280</td>\n",
       "      <td>1323</td>\n",
       "      <td>1334</td>\n",
       "    </tr>\n",
       "    <tr>\n",
       "      <th>Kolkata</th>\n",
       "      <td>1862</td>\n",
       "      <td>1520</td>\n",
       "      <td>683</td>\n",
       "      <td>1825</td>\n",
       "      <td>1498</td>\n",
       "      <td>1669</td>\n",
       "      <td>2012</td>\n",
       "      <td>1280</td>\n",
       "      <td>0</td>\n",
       "      <td>2053</td>\n",
       "      <td>1493</td>\n",
       "    </tr>\n",
       "    <tr>\n",
       "      <th>Mumbai</th>\n",
       "      <td>980</td>\n",
       "      <td>1146</td>\n",
       "      <td>1524</td>\n",
       "      <td>753</td>\n",
       "      <td>1415</td>\n",
       "      <td>1345</td>\n",
       "      <td>1064</td>\n",
       "      <td>1323</td>\n",
       "      <td>2053</td>\n",
       "      <td>0</td>\n",
       "      <td>711</td>\n",
       "    </tr>\n",
       "    <tr>\n",
       "      <th>Hyderabad</th>\n",
       "      <td>569</td>\n",
       "      <td>1483</td>\n",
       "      <td>1237</td>\n",
       "      <td>1349</td>\n",
       "      <td>1578</td>\n",
       "      <td>627</td>\n",
       "      <td>718</td>\n",
       "      <td>1334</td>\n",
       "      <td>1493</td>\n",
       "      <td>711</td>\n",
       "      <td>0</td>\n",
       "    </tr>\n",
       "  </tbody>\n",
       "</table>\n",
       "</div>"
      ],
      "text/plain": [
       "           Bangalore  Jaipur  Varanasi  Udaipur  Delhi  Chennai  Mysore  Agra  \\\n",
       "Bangalore          0    2026      1825     1724   2166      346     149  1923   \n",
       "Jaipur          2026       0       849      393    287     2108    2121   240   \n",
       "Varanasi        1825     849         0     1154    834     1862    1976   614   \n",
       "Udaipur         1724     393      1154        0    661     2077    1809   634   \n",
       "Delhi           2166     287       834      661      0     2203    2317   233   \n",
       "Chennai          346    2108      1862     2077   2203        0     482  1957   \n",
       "Mysore           149    2121      1976     1809   2317      482       0  2072   \n",
       "Agra            1923     240       614      634    233     1957    2072     0   \n",
       "Kolkata         1862    1520       683     1825   1498     1669    2012  1280   \n",
       "Mumbai           980    1146      1524      753   1415     1345    1064  1323   \n",
       "Hyderabad        569    1483      1237     1349   1578      627     718  1334   \n",
       "\n",
       "           Kolkata  Mumbai  Hyderabad  \n",
       "Bangalore     1862     980        569  \n",
       "Jaipur        1520    1146       1483  \n",
       "Varanasi       683    1524       1237  \n",
       "Udaipur       1825     753       1349  \n",
       "Delhi         1498    1415       1578  \n",
       "Chennai       1669    1345        627  \n",
       "Mysore        2012    1064        718  \n",
       "Agra          1280    1323       1334  \n",
       "Kolkata          0    2053       1493  \n",
       "Mumbai        2053       0        711  \n",
       "Hyderabad     1493     711          0  "
      ]
     },
     "execution_count": 4,
     "metadata": {},
     "output_type": "execute_result"
    }
   ],
   "source": [
    "data1.reset_index(inplace=True)\n",
    "\n",
    "data1  = data1.iloc[:,2:]\n",
    "\n",
    "data1.index = data1.columns.values\n",
    "\n",
    "data1"
   ]
  },
  {
   "cell_type": "markdown",
   "metadata": {},
   "source": [
    "##### Map places to integers"
   ]
  },
  {
   "cell_type": "markdown",
   "metadata": {},
   "source": [
    "###### Creating a mapping to the cities with integers so as to not clutter the code and to help generalize well"
   ]
  },
  {
   "cell_type": "code",
   "execution_count": 5,
   "metadata": {},
   "outputs": [
    {
     "data": {
      "text/plain": [
       "{0: 'Bangalore',\n",
       " 1: 'Jaipur',\n",
       " 2: 'Varanasi',\n",
       " 3: 'Udaipur',\n",
       " 4: 'Delhi',\n",
       " 5: 'Chennai',\n",
       " 6: 'Mysore',\n",
       " 7: 'Agra',\n",
       " 8: 'Kolkata',\n",
       " 9: 'Mumbai',\n",
       " 10: 'Hyderabad'}"
      ]
     },
     "execution_count": 5,
     "metadata": {},
     "output_type": "execute_result"
    }
   ],
   "source": [
    "cities_mapping = {}\n",
    "\n",
    "for i in enumerate(data1.columns):\n",
    "    \n",
    "    cities_mapping[i[0]] = i[1]\n",
    "\n",
    "cities_mapping"
   ]
  },
  {
   "cell_type": "markdown",
   "metadata": {},
   "source": [
    "## getRoute:: use this function to generate random route"
   ]
  },
  {
   "cell_type": "code",
   "execution_count": 6,
   "metadata": {},
   "outputs": [],
   "source": [
    "def getRoute():\n",
    "    \n",
    "    \"\"\" This function generates a route by sampling numbers \"\"\"\n",
    "    \n",
    "    my_randoms = random.sample(range(1,11), 10)    # excluding 0 from the range as 0 is the starting point for us it is Bangalore\n",
    "    \n",
    "    return my_randoms"
   ]
  },
  {
   "cell_type": "markdown",
   "metadata": {},
   "source": [
    "## fitnessFunction :: Function to compute the route cost using the already defined path "
   ]
  },
  {
   "cell_type": "markdown",
   "metadata": {},
   "source": [
    "Fitness function for us is the distance travelled if a particular path is taken.\n",
    "\n",
    "    - Step 1: Use the generated route\n",
    "    - Step 2: Calculate the distance travelled."
   ]
  },
  {
   "cell_type": "code",
   "execution_count": 50,
   "metadata": {},
   "outputs": [],
   "source": [
    "def fitnessFunction(pvRouteMap):\n",
    "    \n",
    "    \"\"\"This functions takes the route generated and returns the cost incurred.\n",
    "    Example :\n",
    "        input : [8, 3, 5, 7, 1, 9, 10, 4, 6, 2]\n",
    "        output : 17514\n",
    "        \n",
    "    Implementation:\n",
    "        fitnessFunction([8, 3, 5, 7, 1, 9, 10, 4, 6, 2])\n",
    "        output: 17514    \n",
    "    \"\"\"\n",
    "    \n",
    "    traverseData    = data1.copy() # creating a copy of the original df\n",
    "    \n",
    "    sourcePoint     = 0 # defining a starting point\n",
    "    \n",
    "    stopsCovered    = 0 # setting the number of stops covered to 0\n",
    "    \n",
    "    routeCost       = 0 # setting the initial cost to 0\n",
    "    \n",
    "    pvRouteMap1 = pvRouteMap #+ [pvRouteMap[0]]\n",
    "\n",
    "    # initiate a while loop and calculate the cost for the whole path traversed and return the cost\n",
    "    while(stopsCovered < len(pvRouteMap1)) :  \n",
    "        \n",
    "        routeCost = routeCost + traverseData.iloc[sourcePoint, pvRouteMap1[stopsCovered]]   \n",
    "        \"\"\"route cost is the sum of the cost incurred from travelling from one point to the next according\n",
    "        to the route that was generated previously.\"\"\"\n",
    "        \n",
    "        sourcePoint = pvRouteMap1[stopsCovered] # update the source point to the next point in the route map\n",
    "        \n",
    "        stopsCovered = stopsCovered + 1 # Adding 1 to the stops covered \n",
    "    \n",
    "    routeCost = routeCost + traverseData.iloc[pvRouteMap1[-1],0] # for obtaining round trip distance\n",
    "\n",
    "    return(routeCost)"
   ]
  },
  {
   "cell_type": "code",
   "execution_count": 8,
   "metadata": {},
   "outputs": [
    {
     "name": "stdout",
     "output_type": "stream",
     "text": [
      "This functions takes the route generated and returns the cost incurred.\n",
      "    Example :\n",
      "        input : [8, 3, 5, 7, 1, 9, 10, 4, 6, 2]\n",
      "        output : 17514\n",
      "        \n",
      "    Implementation:\n",
      "        fitnessFunction([8, 3, 5, 7, 1, 9, 10, 4, 6, 2])\n",
      "        output: 17514    \n",
      "    \n"
     ]
    }
   ],
   "source": [
    "print(fitnessFunction.__doc__)"
   ]
  },
  {
   "cell_type": "markdown",
   "metadata": {},
   "source": [
    "#### We can look at the positions and think of one good route , we will see if our algorithm performs better than this route"
   ]
  },
  {
   "cell_type": "code",
   "execution_count": 9,
   "metadata": {},
   "outputs": [],
   "source": [
    "one_route = [5, 6, 10, 9, 1, 3, 4, 7, 2, 8] # one of the better routes"
   ]
  },
  {
   "cell_type": "code",
   "execution_count": 10,
   "metadata": {},
   "outputs": [
    {
     "data": {
      "text/plain": [
       "[5, 6, 10, 9, 1, 3, 4, 7, 2, 8]"
      ]
     },
     "execution_count": 10,
     "metadata": {},
     "output_type": "execute_result"
    }
   ],
   "source": [
    "one_route"
   ]
  },
  {
   "cell_type": "code",
   "execution_count": 20,
   "metadata": {},
   "outputs": [
    {
     "data": {
      "text/plain": [
       "['Bangalore',\n",
       " 'Chennai',\n",
       " 'Mysore',\n",
       " 'Hyderabad',\n",
       " 'Mumbai',\n",
       " 'Jaipur',\n",
       " 'Udaipur',\n",
       " 'Delhi',\n",
       " 'Agra',\n",
       " 'Varanasi',\n",
       " 'Kolkata',\n",
       " 'Bangalore']"
      ]
     },
     "execution_count": 20,
     "metadata": {},
     "output_type": "execute_result"
    }
   ],
   "source": [
    "one_route_cities = []\n",
    "\n",
    "for i in one_route:\n",
    "    \n",
    "    one_route_cities.append(cities_mapping[i])\n",
    "\n",
    "one_route_cities = [starting_point] + one_route_cities + [starting_point]\n",
    "\n",
    "one_route_cities"
   ]
  },
  {
   "cell_type": "code",
   "execution_count": 21,
   "metadata": {},
   "outputs": [
    {
     "data": {
      "text/plain": [
       "7849"
      ]
     },
     "execution_count": 21,
     "metadata": {},
     "output_type": "execute_result"
    }
   ],
   "source": [
    "fitnessFunction(one_route)"
   ]
  },
  {
   "cell_type": "markdown",
   "metadata": {},
   "source": [
    "##### Printing the actual route travelled with the city names"
   ]
  },
  {
   "cell_type": "code",
   "execution_count": 22,
   "metadata": {},
   "outputs": [
    {
     "name": "stdout",
     "output_type": "stream",
     "text": [
      "Total distance travelled to cover the final route of \n",
      " Bangalore => Chennai => Mysore => Hyderabad => Mumbai => Jaipur => Udaipur => Delhi => Agra => Varanasi => Kolkata => Bangalore is 7849\n"
     ]
    }
   ],
   "source": [
    "print(\"Total distance travelled to cover the final route of \\n {} is {}\".format(\" => \".join( one_route_cities ),fitnessFunction(one_route)))"
   ]
  },
  {
   "cell_type": "markdown",
   "metadata": {},
   "source": [
    "###### We define a function to create inital population and calculate the cost for each solution"
   ]
  },
  {
   "cell_type": "code",
   "execution_count": 51,
   "metadata": {},
   "outputs": [],
   "source": [
    "def initialPopCost(ninitpop = 10):\n",
    "    \n",
    "    \"\"\"This function calculates the cost of the route that is passed.\n",
    "    returns a dictionary of routes and the cost.\"\"\"\n",
    "    \n",
    "    np.random.seed(seed=42)\n",
    "\n",
    "    routeCost = [] \n",
    "    \n",
    "    routes = [getRoute() for i in range(0, ninitpop)] # generating initial population's chromosomes\n",
    "    \n",
    "    routes_Cost = [fitnessFunction(i) for i in routes] # evaluating fitness of population\n",
    "    \n",
    "    routes_DF = pd.DataFrame([routes,routes_Cost]).transpose() # create dataframe with routes and cost\n",
    "    \n",
    "    routes_DF.columns = ['Route','Cost'] # Renaming columns\n",
    "    \n",
    "    return(routes_DF)"
   ]
  },
  {
   "cell_type": "markdown",
   "metadata": {},
   "source": [
    "###### Example"
   ]
  },
  {
   "cell_type": "code",
   "execution_count": 52,
   "metadata": {},
   "outputs": [],
   "source": [
    "initial_pop_cost = initialPopCost(100)\n",
    "\n",
    "sorted_init_pop = initial_pop_cost.sort_values(['Cost'])"
   ]
  },
  {
   "cell_type": "code",
   "execution_count": 53,
   "metadata": {},
   "outputs": [
    {
     "data": {
      "text/html": [
       "<div>\n",
       "<style scoped>\n",
       "    .dataframe tbody tr th:only-of-type {\n",
       "        vertical-align: middle;\n",
       "    }\n",
       "\n",
       "    .dataframe tbody tr th {\n",
       "        vertical-align: top;\n",
       "    }\n",
       "\n",
       "    .dataframe thead th {\n",
       "        text-align: right;\n",
       "    }\n",
       "</style>\n",
       "<table border=\"1\" class=\"dataframe\">\n",
       "  <thead>\n",
       "    <tr style=\"text-align: right;\">\n",
       "      <th></th>\n",
       "      <th>Route</th>\n",
       "      <th>Cost</th>\n",
       "    </tr>\n",
       "  </thead>\n",
       "  <tbody>\n",
       "    <tr>\n",
       "      <th>0</th>\n",
       "      <td>[3, 9, 1, 2, 4, 5, 8, 6, 10, 7]</td>\n",
       "      <td>15165</td>\n",
       "    </tr>\n",
       "    <tr>\n",
       "      <th>1</th>\n",
       "      <td>[1, 7, 8, 6, 2, 10, 4, 5, 9, 3]</td>\n",
       "      <td>16374</td>\n",
       "    </tr>\n",
       "    <tr>\n",
       "      <th>2</th>\n",
       "      <td>[1, 6, 10, 3, 5, 2, 4, 7, 8, 9]</td>\n",
       "      <td>15533</td>\n",
       "    </tr>\n",
       "    <tr>\n",
       "      <th>3</th>\n",
       "      <td>[7, 3, 9, 4, 2, 8, 10, 1, 5, 6]</td>\n",
       "      <td>11957</td>\n",
       "    </tr>\n",
       "    <tr>\n",
       "      <th>4</th>\n",
       "      <td>[1, 4, 5, 8, 6, 9, 2, 10, 7, 3]</td>\n",
       "      <td>15714</td>\n",
       "    </tr>\n",
       "  </tbody>\n",
       "</table>\n",
       "</div>"
      ],
      "text/plain": [
       "                             Route   Cost\n",
       "0  [3, 9, 1, 2, 4, 5, 8, 6, 10, 7]  15165\n",
       "1  [1, 7, 8, 6, 2, 10, 4, 5, 9, 3]  16374\n",
       "2  [1, 6, 10, 3, 5, 2, 4, 7, 8, 9]  15533\n",
       "3  [7, 3, 9, 4, 2, 8, 10, 1, 5, 6]  11957\n",
       "4  [1, 4, 5, 8, 6, 9, 2, 10, 7, 3]  15714"
      ]
     },
     "execution_count": 53,
     "metadata": {},
     "output_type": "execute_result"
    }
   ],
   "source": [
    "initial_pop_cost.head()"
   ]
  },
  {
   "cell_type": "code",
   "execution_count": 54,
   "metadata": {},
   "outputs": [
    {
     "data": {
      "text/html": [
       "<div>\n",
       "<style scoped>\n",
       "    .dataframe tbody tr th:only-of-type {\n",
       "        vertical-align: middle;\n",
       "    }\n",
       "\n",
       "    .dataframe tbody tr th {\n",
       "        vertical-align: top;\n",
       "    }\n",
       "\n",
       "    .dataframe thead th {\n",
       "        text-align: right;\n",
       "    }\n",
       "</style>\n",
       "<table border=\"1\" class=\"dataframe\">\n",
       "  <thead>\n",
       "    <tr style=\"text-align: right;\">\n",
       "      <th></th>\n",
       "      <th>Route</th>\n",
       "      <th>Cost</th>\n",
       "    </tr>\n",
       "  </thead>\n",
       "  <tbody>\n",
       "    <tr>\n",
       "      <th>89</th>\n",
       "      <td>[6, 5, 9, 8, 7, 2, 4, 1, 3, 10]</td>\n",
       "      <td>9355</td>\n",
       "    </tr>\n",
       "    <tr>\n",
       "      <th>80</th>\n",
       "      <td>[10, 9, 4, 8, 2, 1, 3, 7, 6, 5]</td>\n",
       "      <td>9652</td>\n",
       "    </tr>\n",
       "    <tr>\n",
       "      <th>30</th>\n",
       "      <td>[5, 1, 2, 8, 4, 7, 9, 3, 10, 6]</td>\n",
       "      <td>10009</td>\n",
       "    </tr>\n",
       "    <tr>\n",
       "      <th>31</th>\n",
       "      <td>[6, 10, 9, 1, 4, 8, 3, 2, 7, 5]</td>\n",
       "      <td>10405</td>\n",
       "    </tr>\n",
       "    <tr>\n",
       "      <th>21</th>\n",
       "      <td>[8, 5, 9, 10, 2, 1, 7, 4, 3, 6]</td>\n",
       "      <td>10765</td>\n",
       "    </tr>\n",
       "  </tbody>\n",
       "</table>\n",
       "</div>"
      ],
      "text/plain": [
       "                              Route   Cost\n",
       "89  [6, 5, 9, 8, 7, 2, 4, 1, 3, 10]   9355\n",
       "80  [10, 9, 4, 8, 2, 1, 3, 7, 6, 5]   9652\n",
       "30  [5, 1, 2, 8, 4, 7, 9, 3, 10, 6]  10009\n",
       "31  [6, 10, 9, 1, 4, 8, 3, 2, 7, 5]  10405\n",
       "21  [8, 5, 9, 10, 2, 1, 7, 4, 3, 6]  10765"
      ]
     },
     "execution_count": 54,
     "metadata": {},
     "output_type": "execute_result"
    }
   ],
   "source": [
    "sorted_init_pop.head()"
   ]
  },
  {
   "cell_type": "markdown",
   "metadata": {},
   "source": [
    "### Elitist approach"
   ]
  },
  {
   "cell_type": "markdown",
   "metadata": {},
   "source": [
    "### Let us take top 5 (elite 5) solutions and do mutation on those"
   ]
  },
  {
   "cell_type": "code",
   "execution_count": 55,
   "metadata": {},
   "outputs": [],
   "source": [
    "def theEliteFew(sorted_population, nelite = 5):\n",
    "    \n",
    "    \"\"\"This functions picks 'nelite' number of best performing solutions.\n",
    "    Takes input of population sorted based on the cost and returns the top 'nelite' \"\"\"\n",
    "    \n",
    "    elite_few = sorted_population.head(nelite) # Selecting top nelite fittest parents\n",
    "    \n",
    "    return elite_few"
   ]
  },
  {
   "cell_type": "code",
   "execution_count": 29,
   "metadata": {},
   "outputs": [],
   "source": [
    "elite_few_df = theEliteFew(sorted_init_pop)"
   ]
  },
  {
   "cell_type": "code",
   "execution_count": 30,
   "metadata": {},
   "outputs": [
    {
     "data": {
      "text/html": [
       "<div>\n",
       "<style scoped>\n",
       "    .dataframe tbody tr th:only-of-type {\n",
       "        vertical-align: middle;\n",
       "    }\n",
       "\n",
       "    .dataframe tbody tr th {\n",
       "        vertical-align: top;\n",
       "    }\n",
       "\n",
       "    .dataframe thead th {\n",
       "        text-align: right;\n",
       "    }\n",
       "</style>\n",
       "<table border=\"1\" class=\"dataframe\">\n",
       "  <thead>\n",
       "    <tr style=\"text-align: right;\">\n",
       "      <th></th>\n",
       "      <th>Route</th>\n",
       "      <th>Cost</th>\n",
       "    </tr>\n",
       "  </thead>\n",
       "  <tbody>\n",
       "    <tr>\n",
       "      <th>92</th>\n",
       "      <td>[5, 10, 6, 4, 8, 2, 1, 7, 3, 9]</td>\n",
       "      <td>9645</td>\n",
       "    </tr>\n",
       "    <tr>\n",
       "      <th>63</th>\n",
       "      <td>[10, 2, 8, 1, 7, 3, 4, 5, 9, 6]</td>\n",
       "      <td>10305</td>\n",
       "    </tr>\n",
       "    <tr>\n",
       "      <th>38</th>\n",
       "      <td>[10, 7, 4, 1, 3, 6, 5, 9, 2, 8]</td>\n",
       "      <td>10521</td>\n",
       "    </tr>\n",
       "    <tr>\n",
       "      <th>80</th>\n",
       "      <td>[10, 9, 5, 6, 3, 2, 8, 1, 4, 7]</td>\n",
       "      <td>10716</td>\n",
       "    </tr>\n",
       "    <tr>\n",
       "      <th>81</th>\n",
       "      <td>[6, 2, 4, 3, 9, 7, 8, 1, 10, 5]</td>\n",
       "      <td>10952</td>\n",
       "    </tr>\n",
       "  </tbody>\n",
       "</table>\n",
       "</div>"
      ],
      "text/plain": [
       "                              Route   Cost\n",
       "92  [5, 10, 6, 4, 8, 2, 1, 7, 3, 9]   9645\n",
       "63  [10, 2, 8, 1, 7, 3, 4, 5, 9, 6]  10305\n",
       "38  [10, 7, 4, 1, 3, 6, 5, 9, 2, 8]  10521\n",
       "80  [10, 9, 5, 6, 3, 2, 8, 1, 4, 7]  10716\n",
       "81  [6, 2, 4, 3, 9, 7, 8, 1, 10, 5]  10952"
      ]
     },
     "execution_count": 30,
     "metadata": {},
     "output_type": "execute_result"
    }
   ],
   "source": [
    "elite_few_df"
   ]
  },
  {
   "cell_type": "markdown",
   "metadata": {},
   "source": [
    "##  getMutatedPath:: this function will generate mutated path where we define mutation policy."
   ]
  },
  {
   "cell_type": "markdown",
   "metadata": {},
   "source": [
    "### Mutation\n",
    "    - Step 1: Pick a parent chromosome\n",
    "    - Step 2: Randomly pick an index (position in the parent chromosome)\n",
    "    - Step 3: Swap the values before and after the index to generate the mutated chromosome (child)."
   ]
  },
  {
   "cell_type": "code",
   "execution_count": 31,
   "metadata": {},
   "outputs": [
    {
     "data": {
      "text/html": [
       "<img src=\"mutation.gif\">"
      ],
      "text/plain": [
       "<IPython.core.display.HTML object>"
      ]
     },
     "execution_count": 31,
     "metadata": {},
     "output_type": "execute_result"
    }
   ],
   "source": [
    "HTML('<img src=\"mutation.gif\">')"
   ]
  },
  {
   "cell_type": "code",
   "execution_count": 48,
   "metadata": {},
   "outputs": [],
   "source": [
    "def getMutatedPath(initPath, mutateFactor):\n",
    "    \n",
    "    \"\"\" This functions generates a mutated path , takes an input path and returns a mutated path.\n",
    "    Mutate factor is the point at which the string (route here) is split and the two parts are swapped.\n",
    "    \n",
    "        Mutation\n",
    "        Step 1: Pick a parent chromosome\n",
    "        Step 2: Randomly pick an index (position in the parent chromosome)\n",
    "        Step 3: Swap the values before and after the index to generate the mutated chromosome (child).\n",
    "        \n",
    "    Ex: \n",
    "        input to the function:        \n",
    "            parent = [4, 6, 2, 8, 3, 5, 7, 1, 9, 10]\n",
    "            index = 3 (randomy generate the index)\n",
    "            \n",
    "        with in function\n",
    "            temp1 = [4, 6, 2]\n",
    "            temp2 = [8, 3, 5, 7, 1, 9, 10]\n",
    "        \n",
    "        output:\n",
    "            child  = [8, 3, 5, 7, 1, 9, 10, 4, 6, 2]\n",
    "\n",
    "    Implemetation:\n",
    "        getMutatedPath(initPath = [4, 6, 2, 8, 3, 5, 7, 1, 9, 10], mutateFactor = 3)\n",
    "        output: [8, 3, 5, 7, 1, 9, 10, 4, 6, 2].\n",
    "    \"\"\"\n",
    "    \n",
    "    try:\n",
    "        \n",
    "        temp1 = initPath[0:mutateFactor] # Part 1 \n",
    "        \n",
    "        temp2 = initPath[mutateFactor:len(initPath)] # part 2\n",
    "        \n",
    "        newPath = temp2 + temp1 # Swapping Part2 + Part1\n",
    "    \n",
    "    except:\n",
    "        \n",
    "        # This loop is executed when you enter more than 1 value for mutate factor \n",
    "        \n",
    "        temp1 = initPath[0:max(mutateFactor)] # Part 1\n",
    "        \n",
    "        temp2 = initPath[max(mutateFactor):] # part 2\n",
    "        \n",
    "        newPath = temp2 + temp1 # Swapping Part2 + Part1\n",
    "    \n",
    "    return(newPath)"
   ]
  },
  {
   "cell_type": "code",
   "execution_count": 49,
   "metadata": {
    "scrolled": false
   },
   "outputs": [
    {
     "name": "stdout",
     "output_type": "stream",
     "text": [
      " This functions generates a mutated path , takes an input path and returns a mutated path.\n",
      "    Mutate factor is the point at which the string (route here) is split and the two parts are swapped.\n",
      "    \n",
      "        Mutation\n",
      "        Step 1: Pick a parent chromosome\n",
      "        Step 2: Randomly pick an index (position in the parent chromosome)\n",
      "        Step 3: Swap the values before and after the index to generate the mutated chromosome (child).\n",
      "        \n",
      "    Ex: \n",
      "        input to the function:        \n",
      "            parent = [4, 6, 2, 8, 3, 5, 7, 1, 9, 10]\n",
      "            index = 3 (randomy generate the index)\n",
      "            \n",
      "        with in function\n",
      "            temp1 = [4, 6, 2]\n",
      "            temp2 = [8, 3, 5, 7, 1, 9, 10]\n",
      "        \n",
      "        output:\n",
      "            child  = [8, 3, 5, 7, 1, 9, 10, 4, 6, 2]\n",
      "\n",
      "    Implemetation:\n",
      "        getMutatedPath(initPath = [4, 6, 2, 8, 3, 5, 7, 1, 9, 10], mutateFactor = 3)\n",
      "        output: [8, 3, 5, 7, 1, 9, 10, 4, 6, 2].\n",
      "    \n"
     ]
    }
   ],
   "source": [
    "print(getMutatedPath.__doc__)"
   ]
  },
  {
   "cell_type": "markdown",
   "metadata": {},
   "source": [
    "#### Generate a sample path and mutate that path "
   ]
  },
  {
   "cell_type": "code",
   "execution_count": 35,
   "metadata": {},
   "outputs": [],
   "source": [
    "temp_route = getRoute()"
   ]
  },
  {
   "cell_type": "code",
   "execution_count": 36,
   "metadata": {},
   "outputs": [
    {
     "data": {
      "text/plain": [
       "[10, 9, 3, 8, 4, 6, 5, 7, 2, 1]"
      ]
     },
     "execution_count": 36,
     "metadata": {},
     "output_type": "execute_result"
    }
   ],
   "source": [
    "temp_route"
   ]
  },
  {
   "cell_type": "code",
   "execution_count": 37,
   "metadata": {},
   "outputs": [
    {
     "data": {
      "text/plain": [
       "[3, 8, 4, 6, 5, 7, 2, 1, 10, 9]"
      ]
     },
     "execution_count": 37,
     "metadata": {},
     "output_type": "execute_result"
    }
   ],
   "source": [
    "getMutatedPath(temp_route,2)"
   ]
  },
  {
   "cell_type": "code",
   "execution_count": 38,
   "metadata": {},
   "outputs": [
    {
     "data": {
      "text/plain": [
       "9"
      ]
     },
     "execution_count": 38,
     "metadata": {},
     "output_type": "execute_result"
    }
   ],
   "source": [
    "getMutatedPath(temp_route,2)[-1]"
   ]
  },
  {
   "cell_type": "code",
   "execution_count": 39,
   "metadata": {},
   "outputs": [
    {
     "data": {
      "text/plain": [
       "980"
      ]
     },
     "execution_count": 39,
     "metadata": {},
     "output_type": "execute_result"
    }
   ],
   "source": [
    "data1.iloc[getMutatedPath(temp_route,2)[-1],0] "
   ]
  },
  {
   "cell_type": "code",
   "execution_count": 40,
   "metadata": {},
   "outputs": [
    {
     "data": {
      "text/plain": [
       "[8, 3, 5, 7, 1, 9, 10, 4, 6, 2]"
      ]
     },
     "execution_count": 40,
     "metadata": {},
     "output_type": "execute_result"
    }
   ],
   "source": [
    "getMutatedPath([4, 6, 2, 8, 3, 5, 7, 1, 9, 10],3)"
   ]
  },
  {
   "cell_type": "markdown",
   "metadata": {},
   "source": [
    " # Mutation"
   ]
  },
  {
   "cell_type": "code",
   "execution_count": 41,
   "metadata": {},
   "outputs": [],
   "source": [
    "temp = theEliteFew(sorted_init_pop)"
   ]
  },
  {
   "cell_type": "code",
   "execution_count": 42,
   "metadata": {},
   "outputs": [
    {
     "data": {
      "text/html": [
       "<div>\n",
       "<style scoped>\n",
       "    .dataframe tbody tr th:only-of-type {\n",
       "        vertical-align: middle;\n",
       "    }\n",
       "\n",
       "    .dataframe tbody tr th {\n",
       "        vertical-align: top;\n",
       "    }\n",
       "\n",
       "    .dataframe thead th {\n",
       "        text-align: right;\n",
       "    }\n",
       "</style>\n",
       "<table border=\"1\" class=\"dataframe\">\n",
       "  <thead>\n",
       "    <tr style=\"text-align: right;\">\n",
       "      <th></th>\n",
       "      <th>Route</th>\n",
       "      <th>Cost</th>\n",
       "    </tr>\n",
       "  </thead>\n",
       "  <tbody>\n",
       "    <tr>\n",
       "      <th>63</th>\n",
       "      <td>[10, 2, 8, 1, 7, 3, 4, 5, 9, 6]</td>\n",
       "      <td>10305</td>\n",
       "    </tr>\n",
       "  </tbody>\n",
       "</table>\n",
       "</div>"
      ],
      "text/plain": [
       "                              Route   Cost\n",
       "63  [10, 2, 8, 1, 7, 3, 4, 5, 9, 6]  10305"
      ]
     },
     "execution_count": 42,
     "metadata": {},
     "output_type": "execute_result"
    }
   ],
   "source": [
    "pickedRouteMap = temp.sample(n=1)\n",
    "pickedRouteMap"
   ]
  },
  {
   "cell_type": "code",
   "execution_count": 43,
   "metadata": {},
   "outputs": [
    {
     "data": {
      "text/plain": [
       "[10, 2, 8, 1, 7, 3, 4, 5, 9, 6]"
      ]
     },
     "execution_count": 43,
     "metadata": {},
     "output_type": "execute_result"
    }
   ],
   "source": [
    "pickedRouteMap.Route.tolist()[0]"
   ]
  },
  {
   "cell_type": "code",
   "execution_count": 45,
   "metadata": {},
   "outputs": [
    {
     "data": {
      "text/plain": [
       "[8, 1, 7, 3, 4, 5, 9, 6, 10, 2]"
      ]
     },
     "execution_count": 45,
     "metadata": {},
     "output_type": "execute_result"
    }
   ],
   "source": [
    "mutatedRouteMap = getMutatedPath(pickedRouteMap.Route.tolist()[0],2)\n",
    "\n",
    "mutatedRouteMap"
   ]
  },
  {
   "cell_type": "code",
   "execution_count": 46,
   "metadata": {},
   "outputs": [
    {
     "data": {
      "text/plain": [
       "[2, 5, 10, 1, 3, 9, 0, 6, 7, 4, 8]"
      ]
     },
     "execution_count": 46,
     "metadata": {},
     "output_type": "execute_result"
    }
   ],
   "source": [
    "getMutatedPath([4, 8, 2, 5, 10, 1, 3, 9, 0, 6, 7],2)"
   ]
  },
  {
   "cell_type": "code",
   "execution_count": 56,
   "metadata": {},
   "outputs": [],
   "source": [
    "def mutationFunction(elite_few_df, percentage_to_mutate = 0.2):\n",
    "    \n",
    "    \"\"\"This function mutates n input routes where n is calculated based on the percentage_to_mutate and returns the \n",
    "    corresponding solution generated and the cost.\"\"\"\n",
    "    \n",
    "    # random index as mutate factor\n",
    "    mutate_factor = random.choice(range(0,len(elite_few_df.Route.tolist()[1]),1))\n",
    "    \n",
    "    # selecting top 20% rows from the eliteDF \n",
    "    p = int(round(elite_few_df.shape[0]*percentage_to_mutate,0))\n",
    "    \n",
    "    # extracting routes of top 20%\n",
    "    pickedRouteMaps = elite_few_df.Route.head(p).tolist()\n",
    "    \n",
    "    # passing the picked route maps to extract mutated child routes\n",
    "    mutatedRoute_list = [getMutatedPath(i,mutate_factor) for i in pickedRouteMaps]\n",
    "    \n",
    "    # evaluating mutated child routes\n",
    "    mutated_routes_Cost = [fitnessFunction(i) for i in mutatedRoute_list]\n",
    "    \n",
    "    # creating dataframe with routes and cost as column\n",
    "    mutated_routes_DF = pd.DataFrame([mutatedRoute_list,mutated_routes_Cost]).transpose()\n",
    "    \n",
    "    # renaming column names\n",
    "    mutated_routes_DF.columns = ['Route','Cost']\n",
    "    \n",
    "    return(mutated_routes_DF)"
   ]
  },
  {
   "cell_type": "code",
   "execution_count": 57,
   "metadata": {},
   "outputs": [
    {
     "data": {
      "text/plain": [
       "[10, 2, 8, 1, 7, 3, 4, 5, 9, 6]"
      ]
     },
     "execution_count": 57,
     "metadata": {},
     "output_type": "execute_result"
    }
   ],
   "source": [
    "elite_few_df.Route.tolist()[1]"
   ]
  },
  {
   "cell_type": "code",
   "execution_count": 58,
   "metadata": {},
   "outputs": [
    {
     "data": {
      "text/plain": [
       "(5, 2)"
      ]
     },
     "execution_count": 58,
     "metadata": {},
     "output_type": "execute_result"
    }
   ],
   "source": [
    "elite_few_df.shape"
   ]
  },
  {
   "cell_type": "code",
   "execution_count": 59,
   "metadata": {},
   "outputs": [
    {
     "data": {
      "text/plain": [
       "[[5, 10, 6, 4, 8, 2, 1, 7, 3, 9]]"
      ]
     },
     "execution_count": 59,
     "metadata": {},
     "output_type": "execute_result"
    }
   ],
   "source": [
    "p = int(round(elite_few_df.shape[0] * 0.2, 0))\n",
    "\n",
    "elite_few_df.Route.head(p).tolist()"
   ]
  },
  {
   "cell_type": "code",
   "execution_count": 60,
   "metadata": {},
   "outputs": [
    {
     "data": {
      "text/html": [
       "<div>\n",
       "<style scoped>\n",
       "    .dataframe tbody tr th:only-of-type {\n",
       "        vertical-align: middle;\n",
       "    }\n",
       "\n",
       "    .dataframe tbody tr th {\n",
       "        vertical-align: top;\n",
       "    }\n",
       "\n",
       "    .dataframe thead th {\n",
       "        text-align: right;\n",
       "    }\n",
       "</style>\n",
       "<table border=\"1\" class=\"dataframe\">\n",
       "  <thead>\n",
       "    <tr style=\"text-align: right;\">\n",
       "      <th></th>\n",
       "      <th>Route</th>\n",
       "      <th>Cost</th>\n",
       "    </tr>\n",
       "  </thead>\n",
       "  <tbody>\n",
       "    <tr>\n",
       "      <th>92</th>\n",
       "      <td>[5, 10, 6, 4, 8, 2, 1, 7, 3, 9]</td>\n",
       "      <td>9645</td>\n",
       "    </tr>\n",
       "    <tr>\n",
       "      <th>63</th>\n",
       "      <td>[10, 2, 8, 1, 7, 3, 4, 5, 9, 6]</td>\n",
       "      <td>10305</td>\n",
       "    </tr>\n",
       "    <tr>\n",
       "      <th>38</th>\n",
       "      <td>[10, 7, 4, 1, 3, 6, 5, 9, 2, 8]</td>\n",
       "      <td>10521</td>\n",
       "    </tr>\n",
       "    <tr>\n",
       "      <th>80</th>\n",
       "      <td>[10, 9, 5, 6, 3, 2, 8, 1, 4, 7]</td>\n",
       "      <td>10716</td>\n",
       "    </tr>\n",
       "    <tr>\n",
       "      <th>81</th>\n",
       "      <td>[6, 2, 4, 3, 9, 7, 8, 1, 10, 5]</td>\n",
       "      <td>10952</td>\n",
       "    </tr>\n",
       "  </tbody>\n",
       "</table>\n",
       "</div>"
      ],
      "text/plain": [
       "                              Route   Cost\n",
       "92  [5, 10, 6, 4, 8, 2, 1, 7, 3, 9]   9645\n",
       "63  [10, 2, 8, 1, 7, 3, 4, 5, 9, 6]  10305\n",
       "38  [10, 7, 4, 1, 3, 6, 5, 9, 2, 8]  10521\n",
       "80  [10, 9, 5, 6, 3, 2, 8, 1, 4, 7]  10716\n",
       "81  [6, 2, 4, 3, 9, 7, 8, 1, 10, 5]  10952"
      ]
     },
     "execution_count": 60,
     "metadata": {},
     "output_type": "execute_result"
    }
   ],
   "source": [
    "elite_few_df.head()"
   ]
  },
  {
   "cell_type": "code",
   "execution_count": 61,
   "metadata": {},
   "outputs": [
    {
     "data": {
      "text/html": [
       "<div>\n",
       "<style scoped>\n",
       "    .dataframe tbody tr th:only-of-type {\n",
       "        vertical-align: middle;\n",
       "    }\n",
       "\n",
       "    .dataframe tbody tr th {\n",
       "        vertical-align: top;\n",
       "    }\n",
       "\n",
       "    .dataframe thead th {\n",
       "        text-align: right;\n",
       "    }\n",
       "</style>\n",
       "<table border=\"1\" class=\"dataframe\">\n",
       "  <thead>\n",
       "    <tr style=\"text-align: right;\">\n",
       "      <th></th>\n",
       "      <th>Route</th>\n",
       "      <th>Cost</th>\n",
       "    </tr>\n",
       "  </thead>\n",
       "  <tbody>\n",
       "    <tr>\n",
       "      <th>0</th>\n",
       "      <td>[4, 8, 2, 1, 7, 3, 9, 5, 10, 6]</td>\n",
       "      <td>9662</td>\n",
       "    </tr>\n",
       "  </tbody>\n",
       "</table>\n",
       "</div>"
      ],
      "text/plain": [
       "                             Route  Cost\n",
       "0  [4, 8, 2, 1, 7, 3, 9, 5, 10, 6]  9662"
      ]
     },
     "execution_count": 61,
     "metadata": {},
     "output_type": "execute_result"
    }
   ],
   "source": [
    "mutationFunction(elite_few_df)"
   ]
  },
  {
   "cell_type": "markdown",
   "metadata": {},
   "source": [
    "## Partially Mapped Crossover"
   ]
  },
  {
   "cell_type": "code",
   "execution_count": 62,
   "metadata": {},
   "outputs": [
    {
     "data": {
      "text/html": [
       "<div>\n",
       "<style scoped>\n",
       "    .dataframe tbody tr th:only-of-type {\n",
       "        vertical-align: middle;\n",
       "    }\n",
       "\n",
       "    .dataframe tbody tr th {\n",
       "        vertical-align: top;\n",
       "    }\n",
       "\n",
       "    .dataframe thead th {\n",
       "        text-align: right;\n",
       "    }\n",
       "</style>\n",
       "<table border=\"1\" class=\"dataframe\">\n",
       "  <thead>\n",
       "    <tr style=\"text-align: right;\">\n",
       "      <th></th>\n",
       "      <th>Route</th>\n",
       "      <th>Cost</th>\n",
       "    </tr>\n",
       "  </thead>\n",
       "  <tbody>\n",
       "    <tr>\n",
       "      <th>89</th>\n",
       "      <td>[6, 5, 9, 8, 7, 2, 4, 1, 3, 10]</td>\n",
       "      <td>9355</td>\n",
       "    </tr>\n",
       "    <tr>\n",
       "      <th>80</th>\n",
       "      <td>[10, 9, 4, 8, 2, 1, 3, 7, 6, 5]</td>\n",
       "      <td>9652</td>\n",
       "    </tr>\n",
       "    <tr>\n",
       "      <th>30</th>\n",
       "      <td>[5, 1, 2, 8, 4, 7, 9, 3, 10, 6]</td>\n",
       "      <td>10009</td>\n",
       "    </tr>\n",
       "    <tr>\n",
       "      <th>31</th>\n",
       "      <td>[6, 10, 9, 1, 4, 8, 3, 2, 7, 5]</td>\n",
       "      <td>10405</td>\n",
       "    </tr>\n",
       "    <tr>\n",
       "      <th>21</th>\n",
       "      <td>[8, 5, 9, 10, 2, 1, 7, 4, 3, 6]</td>\n",
       "      <td>10765</td>\n",
       "    </tr>\n",
       "  </tbody>\n",
       "</table>\n",
       "</div>"
      ],
      "text/plain": [
       "                              Route   Cost\n",
       "89  [6, 5, 9, 8, 7, 2, 4, 1, 3, 10]   9355\n",
       "80  [10, 9, 4, 8, 2, 1, 3, 7, 6, 5]   9652\n",
       "30  [5, 1, 2, 8, 4, 7, 9, 3, 10, 6]  10009\n",
       "31  [6, 10, 9, 1, 4, 8, 3, 2, 7, 5]  10405\n",
       "21  [8, 5, 9, 10, 2, 1, 7, 4, 3, 6]  10765"
      ]
     },
     "execution_count": 62,
     "metadata": {},
     "output_type": "execute_result"
    }
   ],
   "source": [
    "sorted_init_pop.head()"
   ]
  },
  {
   "cell_type": "markdown",
   "metadata": {},
   "source": [
    "###### - implemented PMX conceptualized by goldberg"
   ]
  },
  {
   "cell_type": "markdown",
   "metadata": {},
   "source": [
    "## PMX Crossover"
   ]
  },
  {
   "cell_type": "code",
   "execution_count": 63,
   "metadata": {},
   "outputs": [
    {
     "data": {
      "text/html": [
       "<img src = \"pmx.gif\">"
      ],
      "text/plain": [
       "<IPython.core.display.HTML object>"
      ]
     },
     "execution_count": 63,
     "metadata": {},
     "output_type": "execute_result"
    }
   ],
   "source": [
    "HTML('<img src = \"pmx.gif\">')"
   ]
  },
  {
   "cell_type": "markdown",
   "metadata": {},
   "source": [
    "Taken from  - https://www.youtube.com/watch?v=c2ft8AG8JKE"
   ]
  },
  {
   "cell_type": "code",
   "execution_count": 64,
   "metadata": {},
   "outputs": [],
   "source": [
    "def crossOverFunction(parent1, parent2):\n",
    "    \n",
    "    \"\"\"This function implements the partially mapped crossover by goldeberg (https://www.hindawi.com/journals/cin/2017/7430125/)\n",
    "    \n",
    "    inputs: 2 parent solutions, crossover start position, crossover end position.\n",
    "    crossover start position and  crossover end position are randomly generated in the solution.\n",
    "    \n",
    "    output: 2 child solutions, i.e the crossedover solutions.\n",
    "    Example :\n",
    "    \n",
    "        Inputs:\n",
    "            p1 = [5,7,2,4,8,9,3,6]\n",
    "            p2 = [8,6,9,3,2,5,7,4]\n",
    "            crossover_start_pos 2 (randomly selected)\n",
    "            crossover_end_pos 6 (randomly selected)\n",
    "        Internals:\n",
    "            The mapping created is [(2, 9), (4, 3), (8, 2), (9, 5)]\n",
    "            Child1 Intermediate [9, 7, 9, 3, 2, 5, 4, 6]\n",
    "            Child1 Intermediate [2, 7, 9, 3, 2, 5, 4, 6]\n",
    "            Child1 Intermediate [8, 7, 9, 3, 2, 5, 4, 6]\n",
    "            Child1 final [8, 7, 9, 3, 2, 5, 4, 6]\n",
    "            Child2 original [8, 6, 2, 4, 8, 9, 7, 4]\n",
    "            Child2 Intermediate [2, 6, 2, 4, 8, 9, 7, 3]\n",
    "            Child2 Intermediate [9, 6, 2, 4, 8, 9, 7, 3]\n",
    "            Child2 Intermediate [5, 6, 2, 4, 8, 9, 7, 3]\n",
    "            Child2 final [5, 6, 2, 4, 8, 9, 7, 3]\n",
    "        \n",
    "        Output:\n",
    "            Child: [8, 7, 9, 3, 2, 5, 4, 6]\n",
    "            Child: [5, 6, 2, 4, 8, 9, 7, 3].\n",
    "    \"\"\"\n",
    "    \n",
    "    # Generating two indices for crossover process\n",
    "    indexes_for_crossover = random.sample(set(range(len(parent1))), 2)\n",
    "    \n",
    "    # selecting crossover starting and ending index\n",
    "    crossover_factor_start_pos,crossover_factor_end_pos = min(indexes_for_crossover),max(indexes_for_crossover)\n",
    "    \n",
    "    ## generate child 1\n",
    "    child1 = parent1[0:crossover_factor_start_pos]+\\\n",
    "             parent2[crossover_factor_start_pos:crossover_factor_end_pos] +\\\n",
    "             parent1[crossover_factor_end_pos:]\n",
    "    \n",
    "    ## generate child 2\n",
    "    child2 = parent2[0:crossover_factor_start_pos] +\\\n",
    "             parent1[crossover_factor_start_pos:crossover_factor_end_pos] +\\\n",
    "             parent2[crossover_factor_end_pos:]\n",
    "    \n",
    "    ## Create mappings for the Genes with in those indices from two parents which underwent crossover\n",
    "    mpping = list(zip(parent1[crossover_factor_start_pos:crossover_factor_end_pos],\n",
    "                      parent2[crossover_factor_start_pos:crossover_factor_end_pos]))\n",
    "    \n",
    "    # run until all the nodes in the route are unique\n",
    "    while len(np.unique(child1)) != len(child1):\n",
    "        \n",
    "        # extracting genes from child1 which did not undergo crossover\n",
    "        child1_part = child1[:crossover_factor_start_pos]+child1[crossover_factor_end_pos:]\n",
    "        \n",
    "        for i in child1_part:\n",
    "            \n",
    "            for j in mpping:\n",
    "                \n",
    "                if i == j[1]:                  \n",
    "                    \n",
    "                    child1_part[child1_part.index(i)] = j[0]\n",
    "                    \n",
    "        child1 = child1_part[:crossover_factor_start_pos] + child1[crossover_factor_start_pos:crossover_factor_end_pos]+         child1_part[crossover_factor_start_pos:]\n",
    "\n",
    "    # run until all the nodes in the route are unique\n",
    "    while len(np.unique(child2)) != len(child2):\n",
    "        \n",
    "        # extracting genes from child2 which did not undergo crossover\n",
    "        child2_part = child2[:crossover_factor_start_pos]+child2[crossover_factor_end_pos:]\n",
    "        \n",
    "        for i in child2_part:\n",
    "            \n",
    "            for j in mpping:\n",
    "                \n",
    "                if i == j[0]:\n",
    "                    \n",
    "                    child2_part[child2_part.index(i)] = j[1]\n",
    "        \n",
    "        child2 = child2_part[:crossover_factor_start_pos] + child2[crossover_factor_start_pos:crossover_factor_end_pos]+         child2_part[crossover_factor_start_pos:]\n",
    "    \n",
    "    return( child1,child2)"
   ]
  },
  {
   "cell_type": "code",
   "execution_count": 65,
   "metadata": {},
   "outputs": [
    {
     "name": "stdout",
     "output_type": "stream",
     "text": [
      "This function implements the partially mapped crossover by goldeberg (https://www.hindawi.com/journals/cin/2017/7430125/)\n",
      "    \n",
      "    inputs: 2 parent solutions, crossover start position, crossover end position.\n",
      "    crossover start position and  crossover end position are randomly generated in the solution.\n",
      "    \n",
      "    output: 2 child solutions, i.e the crossedover solutions.\n",
      "    Example :\n",
      "    \n",
      "        Inputs:\n",
      "            p1 = [5,7,2,4,8,9,3,6]\n",
      "            p2 = [8,6,9,3,2,5,7,4]\n",
      "            crossover_start_pos 2 (randomly selected)\n",
      "            crossover_end_pos 6 (randomly selected)\n",
      "        Internals:\n",
      "            The mapping created is [(2, 9), (4, 3), (8, 2), (9, 5)]\n",
      "            Child1 Intermediate [9, 7, 9, 3, 2, 5, 4, 6]\n",
      "            Child1 Intermediate [2, 7, 9, 3, 2, 5, 4, 6]\n",
      "            Child1 Intermediate [8, 7, 9, 3, 2, 5, 4, 6]\n",
      "            Child1 final [8, 7, 9, 3, 2, 5, 4, 6]\n",
      "            Child2 original [8, 6, 2, 4, 8, 9, 7, 4]\n",
      "            Child2 Intermediate [2, 6, 2, 4, 8, 9, 7, 3]\n",
      "            Child2 Intermediate [9, 6, 2, 4, 8, 9, 7, 3]\n",
      "            Child2 Intermediate [5, 6, 2, 4, 8, 9, 7, 3]\n",
      "            Child2 final [5, 6, 2, 4, 8, 9, 7, 3]\n",
      "        \n",
      "        Output:\n",
      "            Child: [8, 7, 9, 3, 2, 5, 4, 6]\n",
      "            Child: [5, 6, 2, 4, 8, 9, 7, 3].\n",
      "    \n"
     ]
    }
   ],
   "source": [
    "print(crossOverFunction.__doc__)"
   ]
  },
  {
   "cell_type": "code",
   "execution_count": 66,
   "metadata": {},
   "outputs": [],
   "source": [
    "def routesAfterCrossOver(sorted_pop, top_per = 0.2):\n",
    "    \n",
    "    \"\"\"This functions takes in a population and performs crossover on the top_per records.\n",
    "    output is a set of children after the crossover operation.\"\"\"\n",
    "    \n",
    "    # selecting top_per% rows from the sorted_pop DF\n",
    "    top_per = int(np.round((sorted_init_pop.shape[0] * top_per), 2))\n",
    "    \n",
    "    # extracting the top_per% of this sorted_pop DF\n",
    "    top_few = sorted_pop.head(top_per)\n",
    "    \n",
    "    routes_crossover = [] \n",
    "    \n",
    "    for i in range(int(top_few.shape[0])): # for every row randomly pick a pair to crossover\n",
    "        \n",
    "        # Randomly generate two row number in the top_few DF which means randomly selecting two population\n",
    "        indexes = random.sample(top_few.index.tolist(),2)\n",
    "        \n",
    "        # Extracting Routes for the above two randomly picked rows(indexes) for crossover process\n",
    "        temp1,temp2 = top_few.iloc[top_few.index==indexes[0]].Route.tolist()[0],top_few.iloc[top_few.index==indexes[1]].Route.tolist()[0]\n",
    "        \n",
    "        # Sending those two selected parents for crossover process\n",
    "        sol1,sol2 = crossOverFunction(temp1,temp2)\n",
    "        \n",
    "        # Appending all the crossover childrens to the routes_crossover DF\n",
    "        routes_crossover.extend([sol1,sol2])\n",
    "\n",
    "    # Evaluating the fitness of the crossover childrens\n",
    "    cost_crossover = [fitnessFunction(i) for i in routes_crossover]\n",
    "    \n",
    "    # creating dataframe with routes and cost of the child\n",
    "    cross_over_DF = pd.DataFrame([routes_crossover,cost_crossover],).transpose()\n",
    "    \n",
    "    # Renaming the column names\n",
    "    cross_over_DF.columns = ['Route','Cost']\n",
    "    \n",
    "    return cross_over_DF"
   ]
  },
  {
   "cell_type": "code",
   "execution_count": 67,
   "metadata": {},
   "outputs": [
    {
     "data": {
      "text/html": [
       "<div>\n",
       "<style scoped>\n",
       "    .dataframe tbody tr th:only-of-type {\n",
       "        vertical-align: middle;\n",
       "    }\n",
       "\n",
       "    .dataframe tbody tr th {\n",
       "        vertical-align: top;\n",
       "    }\n",
       "\n",
       "    .dataframe thead th {\n",
       "        text-align: right;\n",
       "    }\n",
       "</style>\n",
       "<table border=\"1\" class=\"dataframe\">\n",
       "  <thead>\n",
       "    <tr style=\"text-align: right;\">\n",
       "      <th></th>\n",
       "      <th>Route</th>\n",
       "      <th>Cost</th>\n",
       "    </tr>\n",
       "  </thead>\n",
       "  <tbody>\n",
       "    <tr>\n",
       "      <th>0</th>\n",
       "      <td>[6, 9, 4, 8, 2, 1, 3, 7, 10, 5]</td>\n",
       "      <td>8992</td>\n",
       "    </tr>\n",
       "    <tr>\n",
       "      <th>1</th>\n",
       "      <td>[1, 5, 9, 3, 8, 10, 4, 7, 6, 2]</td>\n",
       "      <td>17234</td>\n",
       "    </tr>\n",
       "    <tr>\n",
       "      <th>2</th>\n",
       "      <td>[8, 5, 9, 10, 2, 1, 3, 4, 7, 6]</td>\n",
       "      <td>11181</td>\n",
       "    </tr>\n",
       "    <tr>\n",
       "      <th>3</th>\n",
       "      <td>[10, 9, 4, 8, 2, 1, 7, 3, 6, 5]</td>\n",
       "      <td>9236</td>\n",
       "    </tr>\n",
       "    <tr>\n",
       "      <th>4</th>\n",
       "      <td>[6, 8, 9, 10, 2, 1, 7, 4, 3, 5]</td>\n",
       "      <td>10568</td>\n",
       "    </tr>\n",
       "    <tr>\n",
       "      <th>5</th>\n",
       "      <td>[10, 5, 9, 1, 4, 8, 3, 2, 7, 6]</td>\n",
       "      <td>11286</td>\n",
       "    </tr>\n",
       "    <tr>\n",
       "      <th>6</th>\n",
       "      <td>[6, 10, 9, 1, 4, 8, 7, 2, 3, 5]</td>\n",
       "      <td>9980</td>\n",
       "    </tr>\n",
       "    <tr>\n",
       "      <th>7</th>\n",
       "      <td>[6, 5, 9, 8, 3, 2, 4, 1, 7, 10]</td>\n",
       "      <td>10272</td>\n",
       "    </tr>\n",
       "    <tr>\n",
       "      <th>8</th>\n",
       "      <td>[5, 8, 9, 1, 4, 7, 2, 3, 10, 6]</td>\n",
       "      <td>9718</td>\n",
       "    </tr>\n",
       "    <tr>\n",
       "      <th>9</th>\n",
       "      <td>[6, 10, 2, 8, 4, 1, 3, 9, 7, 5]</td>\n",
       "      <td>9344</td>\n",
       "    </tr>\n",
       "    <tr>\n",
       "      <th>10</th>\n",
       "      <td>[6, 9, 4, 8, 2, 1, 3, 10, 7, 5]</td>\n",
       "      <td>11037</td>\n",
       "    </tr>\n",
       "    <tr>\n",
       "      <th>11</th>\n",
       "      <td>[2, 10, 9, 1, 4, 8, 3, 7, 6, 5]</td>\n",
       "      <td>12063</td>\n",
       "    </tr>\n",
       "  </tbody>\n",
       "</table>\n",
       "</div>"
      ],
      "text/plain": [
       "                              Route   Cost\n",
       "0   [6, 9, 4, 8, 2, 1, 3, 7, 10, 5]   8992\n",
       "1   [1, 5, 9, 3, 8, 10, 4, 7, 6, 2]  17234\n",
       "2   [8, 5, 9, 10, 2, 1, 3, 4, 7, 6]  11181\n",
       "3   [10, 9, 4, 8, 2, 1, 7, 3, 6, 5]   9236\n",
       "4   [6, 8, 9, 10, 2, 1, 7, 4, 3, 5]  10568\n",
       "5   [10, 5, 9, 1, 4, 8, 3, 2, 7, 6]  11286\n",
       "6   [6, 10, 9, 1, 4, 8, 7, 2, 3, 5]   9980\n",
       "7   [6, 5, 9, 8, 3, 2, 4, 1, 7, 10]  10272\n",
       "8   [5, 8, 9, 1, 4, 7, 2, 3, 10, 6]   9718\n",
       "9   [6, 10, 2, 8, 4, 1, 3, 9, 7, 5]   9344\n",
       "10  [6, 9, 4, 8, 2, 1, 3, 10, 7, 5]  11037\n",
       "11  [2, 10, 9, 1, 4, 8, 3, 7, 6, 5]  12063"
      ]
     },
     "execution_count": 67,
     "metadata": {},
     "output_type": "execute_result"
    }
   ],
   "source": [
    "routesAfterCrossOver(sorted_init_pop.head(6))"
   ]
  },
  {
   "cell_type": "code",
   "execution_count": 68,
   "metadata": {},
   "outputs": [],
   "source": [
    "def overall_ga_run(noverall = 100 ,ninitpop=50):\n",
    "    \n",
    "    \"\"\"This function runs the whole GA process, i.e\n",
    "        1. Generate initial population\n",
    "        2. Mutation\n",
    "        3. Crossover\n",
    "    and returns the best solution.\n",
    "    \n",
    "    Inputs : overall GA runs, initial population size.\n",
    "    \"\"\"\n",
    "    \n",
    "    ## create an empty dataframe to store the solutions\n",
    "    all_solutions_generated = pd.DataFrame(columns=['Route','Cost'])\n",
    "    \n",
    "    #start a for loop and run the whole process for mentioned number of times\n",
    "    \"\"\"We only generate a population initially, after  the first run ,\n",
    "        we take the best solutions from the previous run and continue with the process\"\"\"\n",
    "    print(\"Starting {} iterations of the GA\".format(noverall))\n",
    "\n",
    "    for i in range(noverall):\n",
    "        \n",
    "        if all_solutions_generated.shape[0] == 0:\n",
    "            \n",
    "            initial_pop_cost = initialPopCost(ninitpop) # Generates initial population and cost associated with it\n",
    "            \n",
    "            sorted_init_pop = initial_pop_cost.sort_values('Cost') # sorting the population based on cost\n",
    "        \n",
    "        else:\n",
    "            \n",
    "            sorted_init_pop = all_solutions_generated.sort_values('Cost') # This is executed after 1st iteration\n",
    "        \n",
    "        # selecting the elite few\n",
    "        elite_few_df = theEliteFew(sorted_init_pop,ninitpop)\n",
    "        \n",
    "        # Generating a random number based on which we either mutate or do a crossover\n",
    "        matingFactor = np.random.uniform(0,1,1) # Random pick to decide on Mutation / crossover\n",
    "        \n",
    "        if matingFactor < 0.15:\n",
    "            \n",
    "            mutatedPopulationWthCost = mutationFunction(elite_few_df) # Returns mutated childrens DF\n",
    "            \n",
    "            all_solutions_generated.append(mutatedPopulationWthCost) # Append this to existing population\n",
    "        \n",
    "        else:\n",
    "            \n",
    "            crossoverPopulation = routesAfterCrossOver(elite_few_df) # Returns crossover DF\n",
    "            \n",
    "            all_solutions_generated = all_solutions_generated.append(crossoverPopulation) # Append this to existing population\n",
    "        \n",
    "        # drop duplicates does not compare lists, so we converted the routes to tuple\n",
    "        all_solutions_generated.Route = all_solutions_generated.Route.map(lambda x : tuple(x))\n",
    "        \n",
    "        # Extracting unique solutions from all the solutions and are sorted to extract best solution after some iteration \n",
    "        unique_sols_generated  = all_solutions_generated.drop_duplicates().sort_values('Cost')\n",
    "        \n",
    "        # Converting back to list since all other functions are written by considering route to be list\n",
    "        all_solutions_generated.Route = all_solutions_generated.Route.map(lambda x : list(x))\n",
    "        \n",
    "    print(\"Completed {} iterations of the GA\".format(noverall))\n",
    "    print(\"Total solutions generated till this point {}\".format(all_solutions_generated.shape[0]),\"\\n\")\n",
    "    print (\"-------------------------------------------------------------------------------------------\" )\n",
    "    return (all_solutions_generated,unique_sols_generated)"
   ]
  },
  {
   "cell_type": "code",
   "execution_count": 69,
   "metadata": {},
   "outputs": [
    {
     "name": "stdout",
     "output_type": "stream",
     "text": [
      "This function runs the whole GA process, i.e\n",
      "        1. Generate initial population\n",
      "        2. Mutation\n",
      "        3. Crossover\n",
      "    and returns the best solution.\n",
      "    \n",
      "    Inputs : overall GA runs, initial population size.\n",
      "    \n"
     ]
    }
   ],
   "source": [
    "print(overall_ga_run.__doc__)"
   ]
  },
  {
   "cell_type": "markdown",
   "metadata": {},
   "source": [
    " ### Best Solution So Far\n"
   ]
  },
  {
   "cell_type": "markdown",
   "metadata": {},
   "source": [
    "###### The number of possible solutions are: 10! = 3628800\n",
    "We can generate all possible solutions and try to find the best of those , but this is a time taking process and may not be feasible for big problems.\n",
    "Genetic algorithm approach takes a randominzed search approach to find the best solution, with enough number of iterations, mutation and cross over, GA can reach the global minima for most of the problems."
   ]
  },
  {
   "cell_type": "code",
   "execution_count": 70,
   "metadata": {},
   "outputs": [],
   "source": [
    "possible_solutions = math.factorial(10)"
   ]
  },
  {
   "cell_type": "markdown",
   "metadata": {},
   "source": [
    "Total distance travelled to cover the final route of \n",
    " Bangalore => Chennai => Hyderabad => Kolkata => Varanasi => Delhi => Agra => Jaipur => Udaipur => Mumbai => Mysore => Bangalore is 6815\n"
   ]
  },
  {
   "cell_type": "code",
   "execution_count": 71,
   "metadata": {},
   "outputs": [
    {
     "name": "stdout",
     "output_type": "stream",
     "text": [
      "Starting 1 iterations of the GA\n",
      "Completed 1 iterations of the GA\n",
      "Total solutions generated till this point 20 \n",
      "\n",
      "-------------------------------------------------------------------------------------------\n"
     ]
    },
    {
     "data": {
      "text/plain": [
       "(                              Route   Cost\n",
       " 0   [8, 1, 2, 5, 6, 4, 10, 3, 9, 7]  15818\n",
       " 1   [8, 7, 2, 10, 6, 9, 1, 4, 5, 3]  14212\n",
       " 2   [4, 2, 5, 8, 10, 6, 7, 1, 9, 3]  14677\n",
       " 3   [2, 3, 9, 7, 4, 8, 1, 5, 10, 6]  11908\n",
       " 4   [6, 7, 1, 2, 5, 4, 10, 3, 9, 8]  14970\n",
       " 5   [8, 4, 2, 5, 3, 7, 1, 6, 10, 9]  13537\n",
       " 6   [3, 2, 5, 9, 4, 10, 8, 1, 6, 7]  18207\n",
       " 7   [10, 6, 5, 8, 4, 7, 1, 9, 3, 2]  10287\n",
       " 8   [8, 7, 10, 6, 5, 2, 3, 4, 1, 9]  11766\n",
       " 9   [8, 7, 2, 5, 6, 4, 10, 3, 1, 9]  13863\n",
       " 10  [3, 8, 5, 2, 4, 7, 1, 9, 10, 6]  11111\n",
       " 11  [3, 4, 10, 8, 5, 7, 1, 6, 9, 2]  15856\n",
       " 12  [8, 7, 2, 5, 6, 4, 10, 3, 1, 9]  13863\n",
       " 13  [8, 7, 10, 6, 5, 2, 3, 4, 1, 9]  11766\n",
       " 14  [4, 3, 9, 7, 10, 6, 1, 8, 5, 2]  15952\n",
       " 15  [1, 5, 2, 10, 6, 9, 8, 4, 3, 7]  15784\n",
       " 16  [8, 4, 10, 2, 5, 7, 1, 6, 9, 3]  15896\n",
       " 17  [3, 7, 10, 6, 5, 2, 8, 4, 1, 9]  11348\n",
       " 18  [6, 10, 7, 8, 2, 5, 3, 4, 1, 9]  11177\n",
       " 19  [2, 7, 10, 6, 5, 9, 8, 3, 4, 1]  13170,\n",
       "                               Route   Cost\n",
       " 7   (10, 6, 5, 8, 4, 7, 1, 9, 3, 2)  10287\n",
       " 10  (3, 8, 5, 2, 4, 7, 1, 9, 10, 6)  11111\n",
       " 18  (6, 10, 7, 8, 2, 5, 3, 4, 1, 9)  11177\n",
       " 17  (3, 7, 10, 6, 5, 2, 8, 4, 1, 9)  11348\n",
       " 8   (8, 7, 10, 6, 5, 2, 3, 4, 1, 9)  11766\n",
       " 3   (2, 3, 9, 7, 4, 8, 1, 5, 10, 6)  11908\n",
       " 19  (2, 7, 10, 6, 5, 9, 8, 3, 4, 1)  13170\n",
       " 5   (8, 4, 2, 5, 3, 7, 1, 6, 10, 9)  13537\n",
       " 9   (8, 7, 2, 5, 6, 4, 10, 3, 1, 9)  13863\n",
       " 1   (8, 7, 2, 10, 6, 9, 1, 4, 5, 3)  14212\n",
       " 2   (4, 2, 5, 8, 10, 6, 7, 1, 9, 3)  14677\n",
       " 4   (6, 7, 1, 2, 5, 4, 10, 3, 9, 8)  14970\n",
       " 15  (1, 5, 2, 10, 6, 9, 8, 4, 3, 7)  15784\n",
       " 0   (8, 1, 2, 5, 6, 4, 10, 3, 9, 7)  15818\n",
       " 11  (3, 4, 10, 8, 5, 7, 1, 6, 9, 2)  15856\n",
       " 16  (8, 4, 10, 2, 5, 7, 1, 6, 9, 3)  15896\n",
       " 14  (4, 3, 9, 7, 10, 6, 1, 8, 5, 2)  15952\n",
       " 6   (3, 2, 5, 9, 4, 10, 8, 1, 6, 7)  18207)"
      ]
     },
     "execution_count": 71,
     "metadata": {},
     "output_type": "execute_result"
    }
   ],
   "source": [
    "overall_ga_run(1,ninitpop = 10)"
   ]
  },
  {
   "cell_type": "code",
   "execution_count": 72,
   "metadata": {},
   "outputs": [],
   "source": [
    "from datetime import datetime"
   ]
  },
  {
   "cell_type": "code",
   "execution_count": 73,
   "metadata": {
    "scrolled": true
   },
   "outputs": [
    {
     "name": "stdout",
     "output_type": "stream",
     "text": [
      "Starting 10 iterations of the GA\n",
      "Completed 10 iterations of the GA\n",
      "Total solutions generated till this point 180 \n",
      "\n",
      "-------------------------------------------------------------------------------------------\n",
      "Completed 10 runs of GA.\n",
      "10 Iterations of GA with and initial population size of 10 took 0.204421 seconds\n",
      "-------------------------------------------------------------------------------------------\n",
      "Generated 0.005% of the 3628800 solutions\n",
      "Starting 100 iterations of the GA\n",
      "Completed 100 iterations of the GA\n",
      "Total solutions generated till this point 1620 \n",
      "\n",
      "-------------------------------------------------------------------------------------------\n",
      "Completed 100 runs of GA.\n",
      "100 Iterations of GA with and initial population size of 10 took 2.170201 seconds\n",
      "-------------------------------------------------------------------------------------------\n",
      "Generated 0.045% of the 3628800 solutions\n",
      "Total distance travelled to cover the final route of \n",
      " Bangalore => Chennai => Hyderabad => Mysore => Mumbai => Jaipur => Udaipur => Delhi => Agra => Varanasi => Kolkata => Bangalore is 8347 KM. (Generated from initial population size of 10 and runs 100)\n",
      "-------------------------------------------------------------------------------------------\n",
      "Starting 10 iterations of the GA\n",
      "Completed 10 iterations of the GA\n",
      "Total solutions generated till this point 360 \n",
      "\n",
      "-------------------------------------------------------------------------------------------\n",
      "Completed 10 runs of GA.\n",
      "10 Iterations of GA with and initial population size of 25 took 0.534563 seconds\n",
      "-------------------------------------------------------------------------------------------\n",
      "Generated 0.01% of the 3628800 solutions\n",
      "Starting 100 iterations of the GA\n",
      "Completed 100 iterations of the GA\n",
      "Total solutions generated till this point 3240 \n",
      "\n",
      "-------------------------------------------------------------------------------------------\n",
      "Completed 100 runs of GA.\n",
      "100 Iterations of GA with and initial population size of 25 took 3.899574 seconds\n",
      "-------------------------------------------------------------------------------------------\n",
      "Generated 0.089% of the 3628800 solutions\n",
      "Total distance travelled to cover the final route of \n",
      " Bangalore => Hyderabad => Mumbai => Udaipur => Delhi => Varanasi => Agra => Jaipur => Kolkata => Chennai => Mysore => Bangalore is 8202 KM. (Generated from initial population size of 25 and runs 100)\n",
      "-------------------------------------------------------------------------------------------\n",
      "Starting 10 iterations of the GA\n",
      "Completed 10 iterations of the GA\n",
      "Total solutions generated till this point 360 \n",
      "\n",
      "-------------------------------------------------------------------------------------------\n",
      "Completed 10 runs of GA.\n",
      "10 Iterations of GA with and initial population size of 50 took 0.397967 seconds\n",
      "-------------------------------------------------------------------------------------------\n",
      "Generated 0.01% of the 3628800 solutions\n",
      "Starting 100 iterations of the GA\n",
      "Completed 100 iterations of the GA\n",
      "Total solutions generated till this point 3240 \n",
      "\n",
      "-------------------------------------------------------------------------------------------\n",
      "Completed 100 runs of GA.\n",
      "100 Iterations of GA with and initial population size of 50 took 3.709055 seconds\n",
      "-------------------------------------------------------------------------------------------\n",
      "Generated 0.089% of the 3628800 solutions\n",
      "Total distance travelled to cover the final route of \n",
      " Bangalore => Mysore => Chennai => Hyderabad => Kolkata => Varanasi => Agra => Delhi => Jaipur => Udaipur => Mumbai => Bangalore is 6694 KM. (Generated from initial population size of 50 and runs 100)\n",
      "-------------------------------------------------------------------------------------------\n",
      "Starting 10 iterations of the GA\n",
      "Completed 10 iterations of the GA\n",
      "Total solutions generated till this point 360 \n",
      "\n",
      "-------------------------------------------------------------------------------------------\n",
      "Completed 10 runs of GA.\n",
      "10 Iterations of GA with and initial population size of 100 took 0.440822 seconds\n",
      "-------------------------------------------------------------------------------------------\n",
      "Generated 0.01% of the 3628800 solutions\n",
      "Starting 100 iterations of the GA\n",
      "Completed 100 iterations of the GA\n",
      "Total solutions generated till this point 3240 \n",
      "\n",
      "-------------------------------------------------------------------------------------------\n",
      "Completed 100 runs of GA.\n",
      "100 Iterations of GA with and initial population size of 100 took 4.09206 seconds\n",
      "-------------------------------------------------------------------------------------------\n",
      "Generated 0.089% of the 3628800 solutions\n",
      "Total distance travelled to cover the final route of \n",
      " Bangalore => Mysore => Kolkata => Varanasi => Agra => Delhi => Jaipur => Udaipur => Mumbai => Hyderabad => Chennai => Bangalore is 6808 KM. (Generated from initial population size of 100 and runs 100)\n",
      "-------------------------------------------------------------------------------------------\n",
      "Starting 10 iterations of the GA\n",
      "Completed 10 iterations of the GA\n",
      "Total solutions generated till this point 360 \n",
      "\n",
      "-------------------------------------------------------------------------------------------\n",
      "Completed 10 runs of GA.\n",
      "10 Iterations of GA with and initial population size of 150 took 0.514651 seconds\n",
      "-------------------------------------------------------------------------------------------\n",
      "Generated 0.01% of the 3628800 solutions\n",
      "Starting 100 iterations of the GA\n",
      "Completed 100 iterations of the GA\n",
      "Total solutions generated till this point 3240 \n",
      "\n",
      "-------------------------------------------------------------------------------------------\n",
      "Completed 100 runs of GA.\n",
      "100 Iterations of GA with and initial population size of 150 took 4.105997 seconds\n",
      "-------------------------------------------------------------------------------------------\n",
      "Generated 0.089% of the 3628800 solutions\n",
      "Total distance travelled to cover the final route of \n",
      " Bangalore => Mysore => Kolkata => Varanasi => Delhi => Agra => Jaipur => Udaipur => Mumbai => Hyderabad => Chennai => Bangalore is 6981 KM. (Generated from initial population size of 150 and runs 100)\n",
      "-------------------------------------------------------------------------------------------\n"
     ]
    }
   ],
   "source": [
    "best_sol = []\n",
    "\n",
    "for n in [10, 25, 50, 100, 150]: # pop size (initpopsize)\n",
    "    \n",
    "    for i in [10, 100]: # number of runs (noverall)\n",
    "        \n",
    "        initpopsize = n \n",
    "        \n",
    "        runs = i\n",
    "        \n",
    "        start = datetime.now() \n",
    "        \n",
    "        # Run GeneticAlgorithm for i iterations and for n initial Population size\n",
    "        all_sols,unique_sols  = overall_ga_run(noverall = runs, ninitpop = initpopsize)\n",
    "        \n",
    "        # Extracting the first row from the unique_sols DF(which is sorted based on cost function hence fittest solution will be at the top)\n",
    "        sol = list(unique_sols.iloc[0,:].values)\n",
    "        \n",
    "        print (\"Completed {} runs of GA.\".format(i))\n",
    "        print (\"{} Iterations of GA with and initial population size of {} took {} seconds\".format(runs,initpopsize,(datetime.now()-start).total_seconds()))\n",
    "        print (\"-------------------------------------------------------------------------------------------\" )\n",
    "        print(\"Generated {}% of the {} solutions\".format(np.round((len(all_sols)/possible_solutions)*100,3),possible_solutions))\n",
    "\n",
    "    #### Final Solution for the combination of initpop and number of runs\n",
    "    final_sol = unique_sols.head(1)\n",
    "\n",
    "    #### Final Solution (Cities)\n",
    "    final_route = []\n",
    "    \n",
    "    # This loop is for representing best solution in string format for every initial population value\n",
    "    for i in final_sol.Route.values[0]:\n",
    "        \n",
    "        final_route.append(cities_mapping[i])\n",
    "    \n",
    "    final_route = [starting_point] + final_route + [starting_point]\n",
    "\n",
    "    list(final_sol.Route.values[0])\n",
    "\n",
    "    total_cost = fitnessFunction(list(final_sol.Route.values[0]))\n",
    "\n",
    "    print(\"Total distance travelled to cover the final route of \\n {} is {} KM. (Generated from initial population size of {} and runs {})\".format(\" => \".join(final_route),total_cost,initpopsize,runs))\n",
    "    print (\"-------------------------------------------------------------------------------------------\" )\n",
    "    \n",
    "    best_sol.append(final_sol)"
   ]
  },
  {
   "cell_type": "code",
   "execution_count": null,
   "metadata": {},
   "outputs": [],
   "source": []
  }
 ],
 "metadata": {
  "kernelspec": {
   "display_name": "Python 3",
   "language": "python",
   "name": "python3"
  },
  "language_info": {
   "codemirror_mode": {
    "name": "ipython",
    "version": 3
   },
   "file_extension": ".py",
   "mimetype": "text/x-python",
   "name": "python",
   "nbconvert_exporter": "python",
   "pygments_lexer": "ipython3",
   "version": "3.6.5"
  }
 },
 "nbformat": 4,
 "nbformat_minor": 2
}
