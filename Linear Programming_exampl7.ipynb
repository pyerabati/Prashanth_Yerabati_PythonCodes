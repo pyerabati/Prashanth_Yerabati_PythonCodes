{
 "cells": [
  {
   "cell_type": "code",
   "execution_count": 40,
   "metadata": {},
   "outputs": [],
   "source": [
    "### Problem 6:\n",
    "#2 machines are used to produce 2 types of products.\n",
    "#             Prod1\tProd2   Availability\n",
    "# Machine1\t2 hours\t1 hour\t8 hours\n",
    "# Machine2\t1 hour\t2 hours\t8 hours\n",
    "# Uni Profit\t300\t  200\t\n",
    "\n",
    "#a.\tFind number of units of product 1 and product 2 to be made to maximize the dialy profit.\n",
    "import pulp\n",
    "z = pulp.LpProblem('Problem circuit', pulp.LpMaximize)\n",
    "x1 = pulp.LpVariable('x1', lowBound=0, cat = 'Integer')\n",
    "x2 = pulp.LpVariable('x2', lowBound=0, cat = 'Integer')"
   ]
  },
  {
   "cell_type": "code",
   "execution_count": 41,
   "metadata": {},
   "outputs": [],
   "source": [
    "z += 300*x1 + 200*x2"
   ]
  },
  {
   "cell_type": "code",
   "execution_count": 42,
   "metadata": {},
   "outputs": [],
   "source": [
    "z +=  2*x1 + x2 <= 8\n",
    "z +=  x1+ 2*x2 <= 8\n",
    "z +=  x1 >= 0\n",
    "z +=  x2 >= 0"
   ]
  },
  {
   "cell_type": "code",
   "execution_count": 43,
   "metadata": {},
   "outputs": [
    {
     "data": {
      "text/plain": [
       "Problem circuit:\n",
       "MAXIMIZE\n",
       "300*x1 + 200*x2 + 0\n",
       "SUBJECT TO\n",
       "_C1: 2 x1 + x2 <= 8\n",
       "\n",
       "_C2: x1 + 2 x2 <= 8\n",
       "\n",
       "_C3: x1 >= 0\n",
       "\n",
       "_C4: x2 >= 0\n",
       "\n",
       "VARIABLES\n",
       "0 <= x1 Integer\n",
       "0 <= x2 Integer"
      ]
     },
     "execution_count": 43,
     "metadata": {},
     "output_type": "execute_result"
    }
   ],
   "source": [
    "z"
   ]
  },
  {
   "cell_type": "code",
   "execution_count": 44,
   "metadata": {},
   "outputs": [
    {
     "data": {
      "text/plain": [
       "'Optimal'"
      ]
     },
     "execution_count": 44,
     "metadata": {},
     "output_type": "execute_result"
    }
   ],
   "source": [
    "pulp.LpStatus[z.solve()]"
   ]
  },
  {
   "cell_type": "code",
   "execution_count": 45,
   "metadata": {},
   "outputs": [
    {
     "data": {
      "text/plain": [
       "(3.0, 2.0, 1300.0)"
      ]
     },
     "execution_count": 45,
     "metadata": {},
     "output_type": "execute_result"
    }
   ],
   "source": [
    "pulp.value(x1), pulp.value(x2), pulp.value(z.objective)"
   ]
  },
  {
   "cell_type": "code",
   "execution_count": 71,
   "metadata": {},
   "outputs": [],
   "source": [
    "#b.\tIf the availability of M1 increases by 1 hour, Find the shadow price. \n",
    "# what is the increase in profit?\n",
    "import pulp\n",
    "z = pulp.LpProblem('Problem circuit', pulp.LpMaximize)\n",
    "x1 = pulp.LpVariable('x1', lowBound=0, cat = 'Integer')\n",
    "x2 = pulp.LpVariable('x2', lowBound=0, cat = 'Integer')"
   ]
  },
  {
   "cell_type": "code",
   "execution_count": 72,
   "metadata": {},
   "outputs": [],
   "source": [
    "z += 300*x1 + 200*x2"
   ]
  },
  {
   "cell_type": "code",
   "execution_count": 73,
   "metadata": {},
   "outputs": [],
   "source": [
    "z +=  2*x1 + x2 <= 9\n",
    "z +=  x1+ 2*x2 <= 8\n"
   ]
  },
  {
   "cell_type": "code",
   "execution_count": 74,
   "metadata": {},
   "outputs": [
    {
     "data": {
      "text/plain": [
       "Problem circuit:\n",
       "MAXIMIZE\n",
       "300*x1 + 200*x2 + 0\n",
       "SUBJECT TO\n",
       "_C1: 2 x1 + x2 <= 9\n",
       "\n",
       "_C2: x1 + 2 x2 <= 8\n",
       "\n",
       "VARIABLES\n",
       "0 <= x1 Integer\n",
       "0 <= x2 Integer"
      ]
     },
     "execution_count": 74,
     "metadata": {},
     "output_type": "execute_result"
    }
   ],
   "source": [
    "z"
   ]
  },
  {
   "cell_type": "code",
   "execution_count": 75,
   "metadata": {},
   "outputs": [
    {
     "data": {
      "text/plain": [
       "'Optimal'"
      ]
     },
     "execution_count": 75,
     "metadata": {},
     "output_type": "execute_result"
    }
   ],
   "source": [
    "pulp.LpStatus[z.solve()]"
   ]
  },
  {
   "cell_type": "code",
   "execution_count": 76,
   "metadata": {},
   "outputs": [
    {
     "data": {
      "text/plain": [
       "(4.0, 1.0, 1400.0)"
      ]
     },
     "execution_count": 76,
     "metadata": {},
     "output_type": "execute_result"
    }
   ],
   "source": [
    "pulp.value(x1), pulp.value(x2), pulp.value(z.objective)"
   ]
  },
  {
   "cell_type": "code",
   "execution_count": null,
   "metadata": {},
   "outputs": [],
   "source": [
    "#c.\tIf we increase the capacity by one hour of both machines\n",
    "#which of them should get priority? \n"
   ]
  },
  {
   "cell_type": "code",
   "execution_count": 77,
   "metadata": {},
   "outputs": [],
   "source": [
    "#b.\tIf the availability of M1 increases by 1 hour, Find the shadow price. \n",
    "# what is the increase in profit?\n",
    "import pulp\n",
    "z = pulp.LpProblem('Problem circuit', pulp.LpMaximize)\n",
    "x1 = pulp.LpVariable('x1', lowBound=0, cat = 'Integer')\n",
    "x2 = pulp.LpVariable('x2', lowBound=0, cat = 'Integer')"
   ]
  },
  {
   "cell_type": "code",
   "execution_count": 78,
   "metadata": {},
   "outputs": [],
   "source": [
    "z += 300*x1 + 200*x2"
   ]
  },
  {
   "cell_type": "code",
   "execution_count": 79,
   "metadata": {},
   "outputs": [],
   "source": [
    "z +=  2*x1 + x2 <= 8\n",
    "z +=  x1+ 2*x2 <= 9"
   ]
  },
  {
   "cell_type": "code",
   "execution_count": 80,
   "metadata": {},
   "outputs": [
    {
     "data": {
      "text/plain": [
       "Problem circuit:\n",
       "MAXIMIZE\n",
       "300*x1 + 200*x2 + 0\n",
       "SUBJECT TO\n",
       "_C1: 2 x1 + x2 <= 8\n",
       "\n",
       "_C2: x1 + 2 x2 <= 9\n",
       "\n",
       "VARIABLES\n",
       "0 <= x1 Integer\n",
       "0 <= x2 Integer"
      ]
     },
     "execution_count": 80,
     "metadata": {},
     "output_type": "execute_result"
    }
   ],
   "source": [
    "z"
   ]
  },
  {
   "cell_type": "code",
   "execution_count": 81,
   "metadata": {},
   "outputs": [
    {
     "data": {
      "text/plain": [
       "'Optimal'"
      ]
     },
     "execution_count": 81,
     "metadata": {},
     "output_type": "execute_result"
    }
   ],
   "source": [
    "pulp.LpStatus[z.solve()]"
   ]
  },
  {
   "cell_type": "code",
   "execution_count": 82,
   "metadata": {},
   "outputs": [
    {
     "data": {
      "text/plain": [
       "(3.0, 2.0, 1300.0)"
      ]
     },
     "execution_count": 82,
     "metadata": {},
     "output_type": "execute_result"
    }
   ],
   "source": [
    "pulp.value(x1), pulp.value(x2), pulp.value(z.objective)"
   ]
  },
  {
   "cell_type": "code",
   "execution_count": null,
   "metadata": {},
   "outputs": [],
   "source": [
    "#Profit increased when availability of machine1 increased by 1hour.\n",
    "#Profit remained unchanged when availability of machine2 is increased by 1 hour."
   ]
  },
  {
   "cell_type": "code",
   "execution_count": 83,
   "metadata": {},
   "outputs": [],
   "source": [
    "#d.\tSuppose the unit profit for both products increase by 100 and 150 dollars each, will the current solution still hold good?\n",
    "z = pulp.LpProblem('Problem circuit', pulp.LpMaximize)\n",
    "x1 = pulp.LpVariable('x1', lowBound=0, cat = 'Integer')\n",
    "x2 = pulp.LpVariable('x2', lowBound=0, cat = 'Integer')\n"
   ]
  },
  {
   "cell_type": "code",
   "execution_count": 84,
   "metadata": {},
   "outputs": [],
   "source": [
    "z += 400*x1 + 350*x2"
   ]
  },
  {
   "cell_type": "code",
   "execution_count": 85,
   "metadata": {},
   "outputs": [],
   "source": [
    "z +=  2*x1 + x2 <= 8\n",
    "z +=  x1+ 2*x2 <= 8\n",
    "z +=  x1 >= 0\n",
    "z +=  x2 >= 0"
   ]
  },
  {
   "cell_type": "code",
   "execution_count": 86,
   "metadata": {},
   "outputs": [
    {
     "data": {
      "text/plain": [
       "Problem circuit:\n",
       "MAXIMIZE\n",
       "400*x1 + 350*x2 + 0\n",
       "SUBJECT TO\n",
       "_C1: 2 x1 + x2 <= 8\n",
       "\n",
       "_C2: x1 + 2 x2 <= 8\n",
       "\n",
       "_C3: x1 >= 0\n",
       "\n",
       "_C4: x2 >= 0\n",
       "\n",
       "VARIABLES\n",
       "0 <= x1 Integer\n",
       "0 <= x2 Integer"
      ]
     },
     "execution_count": 86,
     "metadata": {},
     "output_type": "execute_result"
    }
   ],
   "source": [
    "z"
   ]
  },
  {
   "cell_type": "code",
   "execution_count": 87,
   "metadata": {},
   "outputs": [
    {
     "data": {
      "text/plain": [
       "'Optimal'"
      ]
     },
     "execution_count": 87,
     "metadata": {},
     "output_type": "execute_result"
    }
   ],
   "source": [
    "pulp.LpStatus[z.solve()]"
   ]
  },
  {
   "cell_type": "code",
   "execution_count": 88,
   "metadata": {},
   "outputs": [
    {
     "data": {
      "text/plain": [
       "(3.0, 2.0, 1900.0)"
      ]
     },
     "execution_count": 88,
     "metadata": {},
     "output_type": "execute_result"
    }
   ],
   "source": [
    "pulp.value(x1), pulp.value(x2), pulp.value(z.objective)"
   ]
  },
  {
   "cell_type": "code",
   "execution_count": null,
   "metadata": {},
   "outputs": [],
   "source": []
  }
 ],
 "metadata": {
  "kernelspec": {
   "display_name": "Python 3",
   "language": "python",
   "name": "python3"
  },
  "language_info": {
   "codemirror_mode": {
    "name": "ipython",
    "version": 3
   },
   "file_extension": ".py",
   "mimetype": "text/x-python",
   "name": "python",
   "nbconvert_exporter": "python",
   "pygments_lexer": "ipython3",
   "version": "3.6.5"
  }
 },
 "nbformat": 4,
 "nbformat_minor": 2
}
