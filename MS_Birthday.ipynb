{
 "cells": [
  {
   "cell_type": "markdown",
   "metadata": {},
   "source": [
    "## Two people having birthday on same day (Montecarlo simulation)"
   ]
  },
  {
   "cell_type": "code",
   "execution_count": 24,
   "metadata": {},
   "outputs": [],
   "source": [
    "import numpy as np "
   ]
  },
  {
   "cell_type": "code",
   "execution_count": 25,
   "metadata": {},
   "outputs": [
    {
     "data": {
      "text/plain": [
       "'__main__'"
      ]
     },
     "execution_count": 25,
     "metadata": {},
     "output_type": "execute_result"
    }
   ],
   "source": [
    "__name__"
   ]
  },
  {
   "cell_type": "code",
   "execution_count": 14,
   "metadata": {},
   "outputs": [],
   "source": [
    "def birthday(sim):\n",
    "    \n",
    "    x = np.random.randint(1, 8, size = sim)\n",
    "    \n",
    "    y = np.random.randint(1, 8, size = sim)\n",
    "    \n",
    "    yes = (x==y)\n",
    "    \n",
    "    probability = np.sum(yes) / sim\n",
    "    \n",
    "    print(\"Probability for {0} simulations is {1}\\n\".format(sim, probability))\n",
    "    \n",
    "    return(0)"
   ]
  },
  {
   "cell_type": "code",
   "execution_count": 26,
   "metadata": {},
   "outputs": [
    {
     "name": "stdout",
     "output_type": "stream",
     "text": [
      "Probability for 10 simulations is 0.1\n",
      "\n",
      "Probability for 100 simulations is 0.15\n",
      "\n",
      "Probability for 1000 simulations is 0.158\n",
      "\n",
      "Probability for 10000 simulations is 0.1436\n",
      "\n",
      "Probability for 1000000 simulations is 0.142319\n",
      "\n"
     ]
    }
   ],
   "source": [
    "if __name__ == \"__main__\":\n",
    "    \n",
    "    simulations = [10, 100, 1000, 10000, 1000000]\n",
    "    \n",
    "    for i in simulations:\n",
    "        \n",
    "        birthday(i)\n",
    "        \n",
    "        pass"
   ]
  },
  {
   "cell_type": "code",
   "execution_count": null,
   "metadata": {},
   "outputs": [],
   "source": []
  }
 ],
 "metadata": {
  "kernelspec": {
   "display_name": "Python 3",
   "language": "python",
   "name": "python3"
  },
  "language_info": {
   "codemirror_mode": {
    "name": "ipython",
    "version": 3
   },
   "file_extension": ".py",
   "mimetype": "text/x-python",
   "name": "python",
   "nbconvert_exporter": "python",
   "pygments_lexer": "ipython3",
   "version": "3.6.5"
  }
 },
 "nbformat": 4,
 "nbformat_minor": 2
}
