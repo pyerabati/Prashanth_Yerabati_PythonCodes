{
 "cells": [
  {
   "cell_type": "code",
   "execution_count": 1,
   "metadata": {},
   "outputs": [],
   "source": [
    "import os\n",
    "import pandas as pd\n",
    "from datetime import datetime\n",
    "\n"
   ]
  },
  {
   "cell_type": "code",
   "execution_count": 2,
   "metadata": {},
   "outputs": [],
   "source": [
    "weather_data = pd.read_csv('KPHL.csv', parse_dates=['date'])"
   ]
  },
  {
   "cell_type": "code",
   "execution_count": 3,
   "metadata": {},
   "outputs": [
    {
     "data": {
      "text/plain": [
       "(365, 13)"
      ]
     },
     "execution_count": 3,
     "metadata": {},
     "output_type": "execute_result"
    }
   ],
   "source": [
    "weather_data.shape\n"
   ]
  },
  {
   "cell_type": "code",
   "execution_count": 4,
   "metadata": {},
   "outputs": [],
   "source": [
    "for column in weather_data.columns:\n",
    "    if column in ['date'] :\n",
    "        continue\n",
    "    \n",
    "    "
   ]
  },
  {
   "cell_type": "code",
   "execution_count": 5,
   "metadata": {},
   "outputs": [],
   "source": [
    "weather_data_subset = weather_data[weather_data['date'] >= datetime(year=2014,month=7,day=1)]\n",
    "weather_data_subset = weather_data[weather_data['date'] <= datetime(year=2015,month=7,day=1)].copy()"
   ]
  },
  {
   "cell_type": "code",
   "execution_count": 6,
   "metadata": {},
   "outputs": [
    {
     "data": {
      "text/plain": [
       "(365, 13)"
      ]
     },
     "execution_count": 6,
     "metadata": {},
     "output_type": "execute_result"
    }
   ],
   "source": [
    "weather_data_subset.shape"
   ]
  },
  {
   "cell_type": "code",
   "execution_count": 7,
   "metadata": {},
   "outputs": [],
   "source": [
    "weather_data_subset['day_order'] = range(len(weather_data_subset))"
   ]
  },
  {
   "cell_type": "code",
   "execution_count": 8,
   "metadata": {},
   "outputs": [
    {
     "data": {
      "text/plain": [
       "(365, 14)"
      ]
     },
     "execution_count": 8,
     "metadata": {},
     "output_type": "execute_result"
    }
   ],
   "source": [
    "weather_data_subset.shape"
   ]
  },
  {
   "cell_type": "code",
   "execution_count": 33,
   "metadata": {},
   "outputs": [
    {
     "data": {
      "text/html": [
       "<div>\n",
       "<style scoped>\n",
       "    .dataframe tbody tr th:only-of-type {\n",
       "        vertical-align: middle;\n",
       "    }\n",
       "\n",
       "    .dataframe tbody tr th {\n",
       "        vertical-align: top;\n",
       "    }\n",
       "\n",
       "    .dataframe thead th {\n",
       "        text-align: right;\n",
       "    }\n",
       "</style>\n",
       "<table border=\"1\" class=\"dataframe\">\n",
       "  <thead>\n",
       "    <tr style=\"text-align: right;\">\n",
       "      <th></th>\n",
       "      <th>date</th>\n",
       "      <th>actual_mean_temp</th>\n",
       "      <th>actual_min_temp</th>\n",
       "      <th>actual_max_temp</th>\n",
       "      <th>average_min_temp</th>\n",
       "      <th>average_max_temp</th>\n",
       "      <th>record_min_temp</th>\n",
       "      <th>record_max_temp</th>\n",
       "      <th>record_min_temp_year</th>\n",
       "      <th>record_max_temp_year</th>\n",
       "      <th>actual_precipitation</th>\n",
       "      <th>average_precipitation</th>\n",
       "      <th>record_precipitation</th>\n",
       "      <th>day_order</th>\n",
       "    </tr>\n",
       "  </thead>\n",
       "  <tbody>\n",
       "    <tr>\n",
       "      <th>0</th>\n",
       "      <td>2014-07-01</td>\n",
       "      <td>83</td>\n",
       "      <td>72</td>\n",
       "      <td>93</td>\n",
       "      <td>68</td>\n",
       "      <td>86</td>\n",
       "      <td>52</td>\n",
       "      <td>102</td>\n",
       "      <td>1988</td>\n",
       "      <td>1901</td>\n",
       "      <td>0.00</td>\n",
       "      <td>0.13</td>\n",
       "      <td>1.04</td>\n",
       "      <td>0</td>\n",
       "    </tr>\n",
       "    <tr>\n",
       "      <th>1</th>\n",
       "      <td>2014-07-02</td>\n",
       "      <td>86</td>\n",
       "      <td>75</td>\n",
       "      <td>96</td>\n",
       "      <td>68</td>\n",
       "      <td>86</td>\n",
       "      <td>52</td>\n",
       "      <td>103</td>\n",
       "      <td>1965</td>\n",
       "      <td>1901</td>\n",
       "      <td>0.21</td>\n",
       "      <td>0.13</td>\n",
       "      <td>1.73</td>\n",
       "      <td>1</td>\n",
       "    </tr>\n",
       "    <tr>\n",
       "      <th>2</th>\n",
       "      <td>2014-07-03</td>\n",
       "      <td>83</td>\n",
       "      <td>74</td>\n",
       "      <td>92</td>\n",
       "      <td>68</td>\n",
       "      <td>87</td>\n",
       "      <td>54</td>\n",
       "      <td>104</td>\n",
       "      <td>1957</td>\n",
       "      <td>1966</td>\n",
       "      <td>0.09</td>\n",
       "      <td>0.12</td>\n",
       "      <td>3.66</td>\n",
       "      <td>2</td>\n",
       "    </tr>\n",
       "    <tr>\n",
       "      <th>3</th>\n",
       "      <td>2014-07-04</td>\n",
       "      <td>73</td>\n",
       "      <td>68</td>\n",
       "      <td>78</td>\n",
       "      <td>68</td>\n",
       "      <td>87</td>\n",
       "      <td>52</td>\n",
       "      <td>103</td>\n",
       "      <td>1986</td>\n",
       "      <td>1966</td>\n",
       "      <td>0.04</td>\n",
       "      <td>0.13</td>\n",
       "      <td>2.08</td>\n",
       "      <td>3</td>\n",
       "    </tr>\n",
       "    <tr>\n",
       "      <th>4</th>\n",
       "      <td>2014-07-05</td>\n",
       "      <td>74</td>\n",
       "      <td>64</td>\n",
       "      <td>83</td>\n",
       "      <td>69</td>\n",
       "      <td>87</td>\n",
       "      <td>55</td>\n",
       "      <td>100</td>\n",
       "      <td>1963</td>\n",
       "      <td>1999</td>\n",
       "      <td>0.00</td>\n",
       "      <td>0.13</td>\n",
       "      <td>4.38</td>\n",
       "      <td>4</td>\n",
       "    </tr>\n",
       "  </tbody>\n",
       "</table>\n",
       "</div>"
      ],
      "text/plain": [
       "        date  actual_mean_temp  actual_min_temp  actual_max_temp  \\\n",
       "0 2014-07-01                83               72               93   \n",
       "1 2014-07-02                86               75               96   \n",
       "2 2014-07-03                83               74               92   \n",
       "3 2014-07-04                73               68               78   \n",
       "4 2014-07-05                74               64               83   \n",
       "\n",
       "   average_min_temp  average_max_temp  record_min_temp  record_max_temp  \\\n",
       "0                68                86               52              102   \n",
       "1                68                86               52              103   \n",
       "2                68                87               54              104   \n",
       "3                68                87               52              103   \n",
       "4                69                87               55              100   \n",
       "\n",
       "   record_min_temp_year  record_max_temp_year  actual_precipitation  \\\n",
       "0                  1988                  1901                  0.00   \n",
       "1                  1965                  1901                  0.21   \n",
       "2                  1957                  1966                  0.09   \n",
       "3                  1986                  1966                  0.04   \n",
       "4                  1963                  1999                  0.00   \n",
       "\n",
       "   average_precipitation  record_precipitation  day_order  \n",
       "0                   0.13                  1.04          0  \n",
       "1                   0.13                  1.73          1  \n",
       "2                   0.12                  3.66          2  \n",
       "3                   0.13                  2.08          3  \n",
       "4                   0.13                  4.38          4  "
      ]
     },
     "execution_count": 33,
     "metadata": {},
     "output_type": "execute_result"
    }
   ],
   "source": [
    "weather_data_subset.head(5)"
   ]
  },
  {
   "cell_type": "code",
   "execution_count": 34,
   "metadata": {},
   "outputs": [],
   "source": [
    "day_order = weather_data_subset['day_order']"
   ]
  },
  {
   "cell_type": "code",
   "execution_count": 37,
   "metadata": {},
   "outputs": [],
   "source": [
    "record_max_temps = weather_data_subset['record_max_temp'].values\n",
    "record_min_temps = weather_data_subset['record_min_temp'].values\n",
    "average_max_temps = weather_data_subset['average_max_temp'].values\n",
    "average_min_temps = weather_data_subset['average_min_temp'].values\n",
    "actual_max_temps = weather_data_subset['actual_max_temp'].values\n",
    "actual_min_temps = weather_data_subset['actual_min_temp'].values"
   ]
  },
  {
   "cell_type": "code",
   "execution_count": 41,
   "metadata": {},
   "outputs": [],
   "source": [
    "new_max_records = weather_data_subset[weather_data_subset['record_max_temp'] <= weather_data_subset['actual_max_temp']]\n",
    "new_max_records.head(5)\n",
    "new_min_records = weather_data_subset[weather_data_subset['record_min_temp'] >= weather_data_subset['actual_min_temp']]"
   ]
  },
  {
   "cell_type": "code",
   "execution_count": 49,
   "metadata": {},
   "outputs": [
    {
     "data": {
      "text/plain": [
       "[0, 31, 62, 92, 123, 153, 184, 215, 243, 274, 304, 335]"
      ]
     },
     "execution_count": 49,
     "metadata": {},
     "output_type": "execute_result"
    }
   ],
   "source": [
    "month_begining_df = weather_data_subset[weather_data_subset['date'].apply(lambda x: True if x.day ==1 else False)]\n",
    "month_begining_indeces = list(month_begining_df['day_order'].values)\n",
    "month_begining_indeces\n",
    "month_begining_names = list(month_begining_df['date'].apply(lambda x: x.strftime(\"%B\")).values)\n",
    "month_begining_names"
   ]
  },
  {
   "cell_type": "code",
   "execution_count": 56,
   "metadata": {},
   "outputs": [
    {
     "data": {
      "text/plain": [
       "['July',\n",
       " 'August',\n",
       " 'September',\n",
       " 'October',\n",
       " 'November',\n",
       " 'December',\n",
       " 'January',\n",
       " 'February',\n",
       " 'March',\n",
       " 'April',\n",
       " 'May',\n",
       " 'June',\n",
       " 'July',\n",
       " 'July']"
      ]
     },
     "execution_count": 56,
     "metadata": {},
     "output_type": "execute_result"
    }
   ],
   "source": [
    "month_begining_indeces += [weather_data_subset['day_order'].values[-1]]\n",
    "month_begining_names += ['July']\n",
    "month_begining_names\n"
   ]
  },
  {
   "cell_type": "code",
   "execution_count": null,
   "metadata": {},
   "outputs": [],
   "source": []
  }
 ],
 "metadata": {
  "kernelspec": {
   "display_name": "Python 3",
   "language": "python",
   "name": "python3"
  },
  "language_info": {
   "codemirror_mode": {
    "name": "ipython",
    "version": 3
   },
   "file_extension": ".py",
   "mimetype": "text/x-python",
   "name": "python",
   "nbconvert_exporter": "python",
   "pygments_lexer": "ipython3",
   "version": "3.7.0"
  }
 },
 "nbformat": 4,
 "nbformat_minor": 2
}
