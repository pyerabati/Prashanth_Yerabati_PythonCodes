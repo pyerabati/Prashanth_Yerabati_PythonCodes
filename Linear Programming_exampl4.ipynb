{
 "cells": [
  {
   "cell_type": "code",
   "execution_count": 29,
   "metadata": {},
   "outputs": [],
   "source": [
    "import pulp\n",
    "##Problem2:\n",
    "## Banner Chemicals manufactures speciality chemicals. \n",
    "#One of their products comes in two grades, High and Supreme. \n",
    "#The capacity of the plant is 110 barrels per week. \n",
    "#The high and supreme grade products use the same basic raw materials but require different ratios of additives. \n",
    "#The high grade requires 3 gallons of additive A and 1 gallon of additive B per barrel while the supreme grade requires 2 gallons of additive A and 3 gallons of additive B per barrel. \n",
    "#The supply both these additives is quite limited. Each week, this product line is allocated only 300 gallons of additive A per week and 280 gallons of additive B. \n",
    "#A barrel of the high grade has a profit margin of $80 per barrel while the supreme Grade has a profit margin of $200 per barrel. \n",
    "#How many barrels of High and supreme grade should banner chemicals produce each week\n",
    "z = pulp.LpProblem(\"Banner Chemical\", pulp.LpMaximize)\n",
    "x1 = pulp.LpVariable('x1', lowBound = 0)\n",
    "x2 = pulp.LpVariable('x2', lowBound = 0)"
   ]
  },
  {
   "cell_type": "code",
   "execution_count": 30,
   "metadata": {},
   "outputs": [],
   "source": [
    "z +=  (80*x1 + 200*x2)\n",
    "z += 3*x1 + x2 <= 300\n",
    "z += x1 + 3*x2 <= 280\n",
    "z += x1 + x2 <= 110"
   ]
  },
  {
   "cell_type": "code",
   "execution_count": 31,
   "metadata": {},
   "outputs": [
    {
     "data": {
      "text/plain": [
       "'Optimal'"
      ]
     },
     "execution_count": 31,
     "metadata": {},
     "output_type": "execute_result"
    }
   ],
   "source": [
    "pulp.LpStatus[z.solve()]"
   ]
  },
  {
   "cell_type": "code",
   "execution_count": 33,
   "metadata": {},
   "outputs": [
    {
     "data": {
      "text/plain": [
       "(25.0, 85.0, 19000.0)"
      ]
     },
     "execution_count": 33,
     "metadata": {},
     "output_type": "execute_result"
    }
   ],
   "source": [
    "pulp.value(x1), pulp.value(x2), pulp.value(z.objective)"
   ]
  },
  {
   "cell_type": "code",
   "execution_count": 34,
   "metadata": {},
   "outputs": [],
   "source": [
    "# In the above problem, how many barrels of High and supreme grade should banner chemicals\n",
    "#produce each week Assuming you can only produce in multiple of 10-barrel lots? \n",
    "z = pulp.LpProblem(\"Banner Chemical\", pulp.LpMaximize)\n",
    "x1 = pulp.LpVariable('x1', lowBound = 0, cat = 'Integer')\n",
    "x2 = pulp.LpVariable('x2', lowBound = 0, cat = 'Integer')\n"
   ]
  },
  {
   "cell_type": "code",
   "execution_count": 35,
   "metadata": {},
   "outputs": [],
   "source": [
    "z +=  (80*x1 + 200*x2)/10\n",
    "z += 3*x1 + x2 <= 300/10\n",
    "z += x1 + 3*x2 <= 280/10\n",
    "z += x1 + x2 <= 110/10"
   ]
  },
  {
   "cell_type": "code",
   "execution_count": 36,
   "metadata": {},
   "outputs": [
    {
     "data": {
      "text/plain": [
       "'Optimal'"
      ]
     },
     "execution_count": 36,
     "metadata": {},
     "output_type": "execute_result"
    }
   ],
   "source": [
    "pulp.LpStatus[z.solve()]"
   ]
  },
  {
   "cell_type": "code",
   "execution_count": 37,
   "metadata": {},
   "outputs": [
    {
     "data": {
      "text/plain": [
       "(1.0, 9.0, 188.0)"
      ]
     },
     "execution_count": 37,
     "metadata": {},
     "output_type": "execute_result"
    }
   ],
   "source": [
    "pulp.value(x1), pulp.value(x2), pulp.value(z.objective)"
   ]
  },
  {
   "cell_type": "code",
   "execution_count": null,
   "metadata": {},
   "outputs": [],
   "source": []
  }
 ],
 "metadata": {
  "kernelspec": {
   "display_name": "Python 3",
   "language": "python",
   "name": "python3"
  },
  "language_info": {
   "codemirror_mode": {
    "name": "ipython",
    "version": 3
   },
   "file_extension": ".py",
   "mimetype": "text/x-python",
   "name": "python",
   "nbconvert_exporter": "python",
   "pygments_lexer": "ipython3",
   "version": "3.6.5"
  }
 },
 "nbformat": 4,
 "nbformat_minor": 2
}
