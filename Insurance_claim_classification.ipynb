{
 "cells": [
  {
   "cell_type": "code",
   "execution_count": 74,
   "metadata": {},
   "outputs": [],
   "source": [
    "# Read the data\n",
    "import os\n",
    "import pandas as pd\n",
    "import matplotlib.pyplot as plt\n",
    "import seaborn as sns\n",
    "import numpy as np\n",
    "from scipy.stats import norm\n",
    "from sklearn.preprocessing import StandardScaler\n",
    "from scipy import stats\n",
    "import warnings\n",
    "warnings.filterwarnings('ignore')\n",
    "%matplotlib inline"
   ]
  },
  {
   "cell_type": "code",
   "execution_count": 278,
   "metadata": {},
   "outputs": [],
   "source": [
    "# Import metrics\n",
    "import random\n",
    "\n",
    "from sklearn.metrics import accuracy_score\n",
    "from sklearn.metrics import precision_score\n",
    "from sklearn.metrics import recall_score\n",
    "from sklearn.metrics import classification_report\n",
    "from sklearn.metrics import confusion_matrix\n",
    "from sklearn.metrics import roc_curve\n",
    "from sklearn.metrics import precision_recall_curve"
   ]
  },
  {
   "cell_type": "code",
   "execution_count": 75,
   "metadata": {},
   "outputs": [
    {
     "data": {
      "text/plain": [
       "'D:\\\\Insofe\\\\Python Lab\\\\Transactions'"
      ]
     },
     "execution_count": 75,
     "metadata": {},
     "output_type": "execute_result"
    }
   ],
   "source": [
    "os.getcwd()"
   ]
  },
  {
   "cell_type": "code",
   "execution_count": 76,
   "metadata": {},
   "outputs": [],
   "source": [
    "os.chdir('D:\\\\Insofe\\\\Python Lab\\\\Transactions')"
   ]
  },
  {
   "cell_type": "code",
   "execution_count": 77,
   "metadata": {},
   "outputs": [],
   "source": [
    "# Read the Train Input files\n",
    "train_demo = pd.read_csv('Train_Policy_Demographics-1542969243754.csv')\n",
    "#train_demo = train_demo.drop(['ClaimID'],axis=1)\n",
    "train_claim = pd.read_csv('Train_ClaimDetails-1542969243754.csv')\n",
    "#train_claim = train_claim.drop(['ClaimID'],axis=1)\n",
    "train_reg = pd.read_csv(\"Train-1542969243754.csv\")\n",
    "#train_reg = train_reg.drop(['ClaimID'],axis=1)"
   ]
  },
  {
   "cell_type": "code",
   "execution_count": 78,
   "metadata": {},
   "outputs": [
    {
     "name": "stdout",
     "output_type": "stream",
     "text": [
      "(14417, 10) (14417, 55) (14417, 2)\n"
     ]
    }
   ],
   "source": [
    "#print(train_demo.head(5))\n",
    "#print(\"\\n\")\n",
    "#print(train_claim.head(5))\n",
    "#print(\"\\n\")\n",
    "#print(train_reg.head(5))\n",
    "#print(\"\\n\")\n",
    "print(train_demo.shape, train_claim.shape, train_reg.shape)"
   ]
  },
  {
   "cell_type": "code",
   "execution_count": 221,
   "metadata": {},
   "outputs": [],
   "source": [
    "# Read the Train Input files\n",
    "test_demo = pd.read_csv('Test_Policy_Demographics-1542969243754.csv')\n",
    "#test_demo = test_demo.drop(['ClaimID'],axis=1)\n",
    "test_claim = pd.read_csv('Test_ClaimDetails-1542969243754.csv')\n",
    "#test_claim = test_claim.drop(['ClaimID'],axis=1)\n",
    "test_reg = pd.read_csv(\"Test-1542969243754.csv\")\n",
    "#test_reg = test_reg.drop(['ClaimID'],axis=1)"
   ]
  },
  {
   "cell_type": "code",
   "execution_count": 206,
   "metadata": {},
   "outputs": [
    {
     "name": "stdout",
     "output_type": "stream",
     "text": [
      "  PolicyID  PolicyType  PolicyForm Employment_status  BusinessClass  \\\n",
      "0  P275003           1           1                 Y              6   \n",
      "1  P275006           1           1                 N             26   \n",
      "2  P275016           2           1                 N              7   \n",
      "3  P275017           2           1                 Y              7   \n",
      "4  P275020           2           1                 Y              7   \n",
      "\n",
      "   Perperson_Policylimit  PerOccurrence_PolicyLimit  CombinedSingleLimit  \\\n",
      "0                      0                          0              2500000   \n",
      "1                      0                    1000000                    0   \n",
      "2                      0                          0              2000000   \n",
      "3                      0                          0              2000000   \n",
      "4                      0                          0               100000   \n",
      "\n",
      "    ClaimID  PolicyLimitPerInjury  \n",
      "0  CLM51003               2500000  \n",
      "1  CLM51006               1000000  \n",
      "2  CLM51016               2000000  \n",
      "3  CLM51017               2000000  \n",
      "4  CLM51020                100000  \n",
      "\n",
      "\n",
      "    ClaimID Injury_Date Date_reported  Age_Injured Work_related_injury_status  \\\n",
      "0  CLM51003   5/18/1989    1989-11-28         4600                          Y   \n",
      "1  CLM51006   5/17/1989    1990-02-20         3100                        NaN   \n",
      "2  CLM51016   5/11/1992    1992-06-23         1400                        NaN   \n",
      "3  CLM51017   5/11/1992    1992-06-23         4400                          N   \n",
      "4  CLM51020  12/20/1992    1993-01-07         4200                          N   \n",
      "\n",
      "  Amputation Death Burns_heat Burns_chemical SystemicPoisoning_toxic  \\\n",
      "0        NaN   NaN          C            NaN                     NaN   \n",
      "1        NaN   NaN        NaN            NaN                     NaN   \n",
      "2        NaN   NaN        NaN            NaN                     NaN   \n",
      "3        NaN   NaN        NaN            NaN                     NaN   \n",
      "4        NaN     A        NaN            NaN                     NaN   \n",
      "\n",
      "           ...           SocialSecurityBenefits Medicare_Medicaid  \\\n",
      "0          ...                              NaN               NaN   \n",
      "1          ...                              NaN               NaN   \n",
      "2          ...                              NaN               NaN   \n",
      "3          ...                              NaN               NaN   \n",
      "4          ...                              NaN               NaN   \n",
      "\n",
      "  Anyothercontributors AnyMultipleInterestedparties  \\\n",
      "0                    1                            0   \n",
      "1                    1                            0   \n",
      "2                    1                            0   \n",
      "3                    1                            0   \n",
      "4                    1                            0   \n",
      "\n",
      "  Match_Multiclaimant_multiInterestedparties_claim  \\\n",
      "0                                              NaN   \n",
      "1                                              NaN   \n",
      "2                                              0.0   \n",
      "3                                              0.0   \n",
      "4                                              NaN   \n",
      "\n",
      "  PrimaFacie_percentagefault_injured PrimaFacie_percentagefault_insured  \\\n",
      "0                                 35                                 65   \n",
      "1                                  0                                100   \n",
      "2                                  0                                100   \n",
      "3                                  0                                100   \n",
      "4                                 90                                 10   \n",
      "\n",
      "  PrimaFacie_percentagefault_otherinsured  \\\n",
      "0                                       0   \n",
      "1                                       0   \n",
      "2                                       0   \n",
      "3                                       0   \n",
      "4                                       0   \n",
      "\n",
      "  PrimaFacie_percentagefault_uninsured OtherCollateralSources  \n",
      "0                                    0                    NaN  \n",
      "1                                    0                    NaN  \n",
      "2                                    0                    NaN  \n",
      "3                                    0                    NaN  \n",
      "4                                    0                    NaN  \n",
      "\n",
      "[5 rows x 55 columns]\n",
      "\n",
      "\n",
      "   Provider\n",
      "0  PRV51002\n",
      "1  PRV51006\n",
      "2  PRV51009\n",
      "3  PRV51010\n",
      "4  PRV51018\n",
      "\n",
      "\n",
      "(4806, 10) (4806, 55) (1353, 1)\n"
     ]
    }
   ],
   "source": [
    "print(test_demo.head(5))\n",
    "print(\"\\n\")\n",
    "print(test_claim.head(5))\n",
    "print(\"\\n\")\n",
    "print(test_reg.head(5))\n",
    "print(\"\\n\")\n",
    "print(test_demo.shape, test_claim.shape, test_reg.shape)"
   ]
  },
  {
   "cell_type": "code",
   "execution_count": 81,
   "metadata": {},
   "outputs": [],
   "source": [
    "train_new = pd.merge(train_reg, train_claim, on='ClaimID')"
   ]
  },
  {
   "cell_type": "code",
   "execution_count": 82,
   "metadata": {},
   "outputs": [],
   "source": [
    "train =  pd.merge(train_new, train_demo, on='ClaimID')"
   ]
  },
  {
   "cell_type": "code",
   "execution_count": 83,
   "metadata": {},
   "outputs": [
    {
     "data": {
      "text/html": [
       "<div>\n",
       "<style scoped>\n",
       "    .dataframe tbody tr th:only-of-type {\n",
       "        vertical-align: middle;\n",
       "    }\n",
       "\n",
       "    .dataframe tbody tr th {\n",
       "        vertical-align: top;\n",
       "    }\n",
       "\n",
       "    .dataframe thead th {\n",
       "        text-align: right;\n",
       "    }\n",
       "</style>\n",
       "<table border=\"1\" class=\"dataframe\">\n",
       "  <thead>\n",
       "    <tr style=\"text-align: right;\">\n",
       "      <th></th>\n",
       "      <th>ClaimID</th>\n",
       "      <th>ClaimSize</th>\n",
       "      <th>Injury_Date</th>\n",
       "      <th>Date_reported</th>\n",
       "      <th>Age_Injured</th>\n",
       "      <th>Work_related_injury_status</th>\n",
       "      <th>Amputation</th>\n",
       "      <th>Death</th>\n",
       "      <th>Burns_heat</th>\n",
       "      <th>Burns_chemical</th>\n",
       "      <th>...</th>\n",
       "      <th>OtherCollateralSources</th>\n",
       "      <th>PolicyID</th>\n",
       "      <th>PolicyType</th>\n",
       "      <th>PolicyForm</th>\n",
       "      <th>Employment_status</th>\n",
       "      <th>BusinessClass</th>\n",
       "      <th>Perperson_Policylimit</th>\n",
       "      <th>PerOccurrence_PolicyLimit</th>\n",
       "      <th>CombinedSingleLimit</th>\n",
       "      <th>PolicyLimitPerInjury</th>\n",
       "    </tr>\n",
       "  </thead>\n",
       "  <tbody>\n",
       "    <tr>\n",
       "      <th>0</th>\n",
       "      <td>CLM56529</td>\n",
       "      <td>lessthan100K</td>\n",
       "      <td>3/9/2000</td>\n",
       "      <td>2000-03-23</td>\n",
       "      <td>5900</td>\n",
       "      <td>N</td>\n",
       "      <td>NaN</td>\n",
       "      <td>NaN</td>\n",
       "      <td>NaN</td>\n",
       "      <td>NaN</td>\n",
       "      <td>...</td>\n",
       "      <td>NaN</td>\n",
       "      <td>P280529</td>\n",
       "      <td>1</td>\n",
       "      <td>1</td>\n",
       "      <td>Y</td>\n",
       "      <td>17</td>\n",
       "      <td>0</td>\n",
       "      <td>0</td>\n",
       "      <td>5000000</td>\n",
       "      <td>5000000</td>\n",
       "    </tr>\n",
       "    <tr>\n",
       "      <th>1</th>\n",
       "      <td>CLM66153</td>\n",
       "      <td>lessthan100K</td>\n",
       "      <td>12/6/2002</td>\n",
       "      <td>2002-12-10</td>\n",
       "      <td>3700</td>\n",
       "      <td>N</td>\n",
       "      <td>NaN</td>\n",
       "      <td>NaN</td>\n",
       "      <td>NaN</td>\n",
       "      <td>NaN</td>\n",
       "      <td>...</td>\n",
       "      <td>NaN</td>\n",
       "      <td>P290153</td>\n",
       "      <td>2</td>\n",
       "      <td>1</td>\n",
       "      <td>Y</td>\n",
       "      <td>9</td>\n",
       "      <td>0</td>\n",
       "      <td>5000000</td>\n",
       "      <td>0</td>\n",
       "      <td>5000000</td>\n",
       "    </tr>\n",
       "    <tr>\n",
       "      <th>2</th>\n",
       "      <td>CLM58861</td>\n",
       "      <td>lessthan100K</td>\n",
       "      <td>10/20/2000</td>\n",
       "      <td>2000-11-02</td>\n",
       "      <td>3700</td>\n",
       "      <td>N</td>\n",
       "      <td>NaN</td>\n",
       "      <td>NaN</td>\n",
       "      <td>NaN</td>\n",
       "      <td>NaN</td>\n",
       "      <td>...</td>\n",
       "      <td>NaN</td>\n",
       "      <td>P282861</td>\n",
       "      <td>2</td>\n",
       "      <td>1</td>\n",
       "      <td>Y</td>\n",
       "      <td>6</td>\n",
       "      <td>0</td>\n",
       "      <td>0</td>\n",
       "      <td>5000000</td>\n",
       "      <td>5000000</td>\n",
       "    </tr>\n",
       "    <tr>\n",
       "      <th>3</th>\n",
       "      <td>CLM67972</td>\n",
       "      <td>200KandAbove</td>\n",
       "      <td>8/9/2003</td>\n",
       "      <td>2003-08-11</td>\n",
       "      <td>1600</td>\n",
       "      <td>NaN</td>\n",
       "      <td>NaN</td>\n",
       "      <td>A</td>\n",
       "      <td>NaN</td>\n",
       "      <td>NaN</td>\n",
       "      <td>...</td>\n",
       "      <td>NaN</td>\n",
       "      <td>P291972</td>\n",
       "      <td>4</td>\n",
       "      <td>2</td>\n",
       "      <td>N</td>\n",
       "      <td>20</td>\n",
       "      <td>0</td>\n",
       "      <td>1000000</td>\n",
       "      <td>3000000</td>\n",
       "      <td>1000000</td>\n",
       "    </tr>\n",
       "    <tr>\n",
       "      <th>4</th>\n",
       "      <td>CLM69075</td>\n",
       "      <td>lessthan100K</td>\n",
       "      <td>2/25/2004</td>\n",
       "      <td>2004-02-26</td>\n",
       "      <td>5200</td>\n",
       "      <td>NaN</td>\n",
       "      <td>NaN</td>\n",
       "      <td>NaN</td>\n",
       "      <td>NaN</td>\n",
       "      <td>NaN</td>\n",
       "      <td>...</td>\n",
       "      <td>NaN</td>\n",
       "      <td>P293075</td>\n",
       "      <td>2</td>\n",
       "      <td>1</td>\n",
       "      <td>N</td>\n",
       "      <td>6</td>\n",
       "      <td>0</td>\n",
       "      <td>1000000</td>\n",
       "      <td>0</td>\n",
       "      <td>1000000</td>\n",
       "    </tr>\n",
       "  </tbody>\n",
       "</table>\n",
       "<p>5 rows × 65 columns</p>\n",
       "</div>"
      ],
      "text/plain": [
       "    ClaimID     ClaimSize Injury_Date Date_reported  Age_Injured  \\\n",
       "0  CLM56529  lessthan100K    3/9/2000    2000-03-23         5900   \n",
       "1  CLM66153  lessthan100K   12/6/2002    2002-12-10         3700   \n",
       "2  CLM58861  lessthan100K  10/20/2000    2000-11-02         3700   \n",
       "3  CLM67972  200KandAbove    8/9/2003    2003-08-11         1600   \n",
       "4  CLM69075  lessthan100K   2/25/2004    2004-02-26         5200   \n",
       "\n",
       "  Work_related_injury_status Amputation Death Burns_heat Burns_chemical  \\\n",
       "0                          N        NaN   NaN        NaN            NaN   \n",
       "1                          N        NaN   NaN        NaN            NaN   \n",
       "2                          N        NaN   NaN        NaN            NaN   \n",
       "3                        NaN        NaN     A        NaN            NaN   \n",
       "4                        NaN        NaN   NaN        NaN            NaN   \n",
       "\n",
       "          ...          OtherCollateralSources PolicyID PolicyType PolicyForm  \\\n",
       "0         ...                             NaN  P280529          1          1   \n",
       "1         ...                             NaN  P290153          2          1   \n",
       "2         ...                             NaN  P282861          2          1   \n",
       "3         ...                             NaN  P291972          4          2   \n",
       "4         ...                             NaN  P293075          2          1   \n",
       "\n",
       "  Employment_status BusinessClass Perperson_Policylimit  \\\n",
       "0                 Y            17                     0   \n",
       "1                 Y             9                     0   \n",
       "2                 Y             6                     0   \n",
       "3                 N            20                     0   \n",
       "4                 N             6                     0   \n",
       "\n",
       "  PerOccurrence_PolicyLimit CombinedSingleLimit PolicyLimitPerInjury  \n",
       "0                         0             5000000              5000000  \n",
       "1                   5000000                   0              5000000  \n",
       "2                         0             5000000              5000000  \n",
       "3                   1000000             3000000              1000000  \n",
       "4                   1000000                   0              1000000  \n",
       "\n",
       "[5 rows x 65 columns]"
      ]
     },
     "execution_count": 83,
     "metadata": {},
     "output_type": "execute_result"
    }
   ],
   "source": [
    "train.head(5)"
   ]
  },
  {
   "cell_type": "code",
   "execution_count": 222,
   "metadata": {},
   "outputs": [],
   "source": [
    "test_new = pd.concat([test_claim,test_reg], axis=1)\n"
   ]
  },
  {
   "cell_type": "code",
   "execution_count": 223,
   "metadata": {},
   "outputs": [],
   "source": [
    "test = pd.merge(test_new, test_demo, on='ClaimID')"
   ]
  },
  {
   "cell_type": "code",
   "execution_count": 224,
   "metadata": {},
   "outputs": [
    {
     "data": {
      "text/html": [
       "<div>\n",
       "<style scoped>\n",
       "    .dataframe tbody tr th:only-of-type {\n",
       "        vertical-align: middle;\n",
       "    }\n",
       "\n",
       "    .dataframe tbody tr th {\n",
       "        vertical-align: top;\n",
       "    }\n",
       "\n",
       "    .dataframe thead th {\n",
       "        text-align: right;\n",
       "    }\n",
       "</style>\n",
       "<table border=\"1\" class=\"dataframe\">\n",
       "  <thead>\n",
       "    <tr style=\"text-align: right;\">\n",
       "      <th></th>\n",
       "      <th>ClaimID</th>\n",
       "      <th>Injury_Date</th>\n",
       "      <th>Date_reported</th>\n",
       "      <th>Age_Injured</th>\n",
       "      <th>Work_related_injury_status</th>\n",
       "      <th>Amputation</th>\n",
       "      <th>Death</th>\n",
       "      <th>Burns_heat</th>\n",
       "      <th>Burns_chemical</th>\n",
       "      <th>SystemicPoisoning_toxic</th>\n",
       "      <th>...</th>\n",
       "      <th>Provider</th>\n",
       "      <th>PolicyID</th>\n",
       "      <th>PolicyType</th>\n",
       "      <th>PolicyForm</th>\n",
       "      <th>Employment_status</th>\n",
       "      <th>BusinessClass</th>\n",
       "      <th>Perperson_Policylimit</th>\n",
       "      <th>PerOccurrence_PolicyLimit</th>\n",
       "      <th>CombinedSingleLimit</th>\n",
       "      <th>PolicyLimitPerInjury</th>\n",
       "    </tr>\n",
       "  </thead>\n",
       "  <tbody>\n",
       "    <tr>\n",
       "      <th>0</th>\n",
       "      <td>CLM51003</td>\n",
       "      <td>5/18/1989</td>\n",
       "      <td>1989-11-28</td>\n",
       "      <td>4600</td>\n",
       "      <td>Y</td>\n",
       "      <td>NaN</td>\n",
       "      <td>NaN</td>\n",
       "      <td>C</td>\n",
       "      <td>NaN</td>\n",
       "      <td>NaN</td>\n",
       "      <td>...</td>\n",
       "      <td>PRV51002</td>\n",
       "      <td>P275003</td>\n",
       "      <td>1</td>\n",
       "      <td>1</td>\n",
       "      <td>Y</td>\n",
       "      <td>6</td>\n",
       "      <td>0</td>\n",
       "      <td>0</td>\n",
       "      <td>2500000</td>\n",
       "      <td>2500000</td>\n",
       "    </tr>\n",
       "    <tr>\n",
       "      <th>1</th>\n",
       "      <td>CLM51006</td>\n",
       "      <td>5/17/1989</td>\n",
       "      <td>1990-02-20</td>\n",
       "      <td>3100</td>\n",
       "      <td>NaN</td>\n",
       "      <td>NaN</td>\n",
       "      <td>NaN</td>\n",
       "      <td>NaN</td>\n",
       "      <td>NaN</td>\n",
       "      <td>NaN</td>\n",
       "      <td>...</td>\n",
       "      <td>PRV51006</td>\n",
       "      <td>P275006</td>\n",
       "      <td>1</td>\n",
       "      <td>1</td>\n",
       "      <td>N</td>\n",
       "      <td>26</td>\n",
       "      <td>0</td>\n",
       "      <td>1000000</td>\n",
       "      <td>0</td>\n",
       "      <td>1000000</td>\n",
       "    </tr>\n",
       "    <tr>\n",
       "      <th>2</th>\n",
       "      <td>CLM51016</td>\n",
       "      <td>5/11/1992</td>\n",
       "      <td>1992-06-23</td>\n",
       "      <td>1400</td>\n",
       "      <td>NaN</td>\n",
       "      <td>NaN</td>\n",
       "      <td>NaN</td>\n",
       "      <td>NaN</td>\n",
       "      <td>NaN</td>\n",
       "      <td>NaN</td>\n",
       "      <td>...</td>\n",
       "      <td>PRV51009</td>\n",
       "      <td>P275016</td>\n",
       "      <td>2</td>\n",
       "      <td>1</td>\n",
       "      <td>N</td>\n",
       "      <td>7</td>\n",
       "      <td>0</td>\n",
       "      <td>0</td>\n",
       "      <td>2000000</td>\n",
       "      <td>2000000</td>\n",
       "    </tr>\n",
       "    <tr>\n",
       "      <th>3</th>\n",
       "      <td>CLM51017</td>\n",
       "      <td>5/11/1992</td>\n",
       "      <td>1992-06-23</td>\n",
       "      <td>4400</td>\n",
       "      <td>N</td>\n",
       "      <td>NaN</td>\n",
       "      <td>NaN</td>\n",
       "      <td>NaN</td>\n",
       "      <td>NaN</td>\n",
       "      <td>NaN</td>\n",
       "      <td>...</td>\n",
       "      <td>PRV51010</td>\n",
       "      <td>P275017</td>\n",
       "      <td>2</td>\n",
       "      <td>1</td>\n",
       "      <td>Y</td>\n",
       "      <td>7</td>\n",
       "      <td>0</td>\n",
       "      <td>0</td>\n",
       "      <td>2000000</td>\n",
       "      <td>2000000</td>\n",
       "    </tr>\n",
       "    <tr>\n",
       "      <th>4</th>\n",
       "      <td>CLM51020</td>\n",
       "      <td>12/20/1992</td>\n",
       "      <td>1993-01-07</td>\n",
       "      <td>4200</td>\n",
       "      <td>N</td>\n",
       "      <td>NaN</td>\n",
       "      <td>A</td>\n",
       "      <td>NaN</td>\n",
       "      <td>NaN</td>\n",
       "      <td>NaN</td>\n",
       "      <td>...</td>\n",
       "      <td>PRV51018</td>\n",
       "      <td>P275020</td>\n",
       "      <td>2</td>\n",
       "      <td>1</td>\n",
       "      <td>Y</td>\n",
       "      <td>7</td>\n",
       "      <td>0</td>\n",
       "      <td>0</td>\n",
       "      <td>100000</td>\n",
       "      <td>100000</td>\n",
       "    </tr>\n",
       "  </tbody>\n",
       "</table>\n",
       "<p>5 rows × 65 columns</p>\n",
       "</div>"
      ],
      "text/plain": [
       "    ClaimID Injury_Date Date_reported  Age_Injured Work_related_injury_status  \\\n",
       "0  CLM51003   5/18/1989    1989-11-28         4600                          Y   \n",
       "1  CLM51006   5/17/1989    1990-02-20         3100                        NaN   \n",
       "2  CLM51016   5/11/1992    1992-06-23         1400                        NaN   \n",
       "3  CLM51017   5/11/1992    1992-06-23         4400                          N   \n",
       "4  CLM51020  12/20/1992    1993-01-07         4200                          N   \n",
       "\n",
       "  Amputation Death Burns_heat Burns_chemical SystemicPoisoning_toxic  \\\n",
       "0        NaN   NaN          C            NaN                     NaN   \n",
       "1        NaN   NaN        NaN            NaN                     NaN   \n",
       "2        NaN   NaN        NaN            NaN                     NaN   \n",
       "3        NaN   NaN        NaN            NaN                     NaN   \n",
       "4        NaN     A        NaN            NaN                     NaN   \n",
       "\n",
       "          ...           Provider PolicyID PolicyType PolicyForm  \\\n",
       "0         ...           PRV51002  P275003          1          1   \n",
       "1         ...           PRV51006  P275006          1          1   \n",
       "2         ...           PRV51009  P275016          2          1   \n",
       "3         ...           PRV51010  P275017          2          1   \n",
       "4         ...           PRV51018  P275020          2          1   \n",
       "\n",
       "  Employment_status BusinessClass Perperson_Policylimit  \\\n",
       "0                 Y             6                     0   \n",
       "1                 N            26                     0   \n",
       "2                 N             7                     0   \n",
       "3                 Y             7                     0   \n",
       "4                 Y             7                     0   \n",
       "\n",
       "  PerOccurrence_PolicyLimit CombinedSingleLimit PolicyLimitPerInjury  \n",
       "0                         0             2500000              2500000  \n",
       "1                   1000000                   0              1000000  \n",
       "2                         0             2000000              2000000  \n",
       "3                         0             2000000              2000000  \n",
       "4                         0              100000               100000  \n",
       "\n",
       "[5 rows x 65 columns]"
      ]
     },
     "execution_count": 224,
     "metadata": {},
     "output_type": "execute_result"
    }
   ],
   "source": [
    "test.head(5)"
   ]
  },
  {
   "cell_type": "code",
   "execution_count": 87,
   "metadata": {},
   "outputs": [
    {
     "data": {
      "text/plain": [
       "(14417, 65)"
      ]
     },
     "execution_count": 87,
     "metadata": {},
     "output_type": "execute_result"
    }
   ],
   "source": [
    "train.shape"
   ]
  },
  {
   "cell_type": "code",
   "execution_count": 225,
   "metadata": {},
   "outputs": [
    {
     "data": {
      "text/plain": [
       "(4806, 65)"
      ]
     },
     "execution_count": 225,
     "metadata": {},
     "output_type": "execute_result"
    }
   ],
   "source": [
    "test.shape"
   ]
  },
  {
   "cell_type": "code",
   "execution_count": 89,
   "metadata": {},
   "outputs": [
    {
     "data": {
      "text/plain": [
       "Index(['ClaimID', 'ClaimSize', 'Injury_Date', 'Date_reported', 'Age_Injured',\n",
       "       'Work_related_injury_status', 'Amputation', 'Death', 'Burns_heat',\n",
       "       'Burns_chemical', 'SystemicPoisoning_toxic', 'SystemicPoisoning_other',\n",
       "       'Eye_injury_blindness', 'RespiratoryCondition', 'NervousCondition',\n",
       "       'HearingLoss', 'CirculatoryCondition', 'MultipleInjuries', 'BackInjury',\n",
       "       'SkinDisorder', 'BrainDamage', 'Scarring', 'SpinalCordInjuries',\n",
       "       'OtherInjuries', 'OffRoadVehicle', 'AirTransportation', 'Railway',\n",
       "       'OtherMotorVehicle', 'SurgicalCare', 'Falls', 'Drowning',\n",
       "       'UseOfDefectiveProduct', 'Fire', 'Firearm', 'Pollution_ToxicExposure',\n",
       "       'Explosions', 'UseOfAgrlMachinery', 'Oil_gasExtraction',\n",
       "       'OtherModeOfInjury', 'Non_economicloss', 'Exemplarydamages',\n",
       "       'WhetherPrimaFacie_JointandSeveralLiability', 'WorkersCompAvailability',\n",
       "       'CollateralSourcesAvailability', 'MedicalInsurance',\n",
       "       'DisabilityInsurance', 'SocialSecurityBenefits', 'Medicare_Medicaid',\n",
       "       'Anyothercontributors', 'AnyMultipleInterestedparties',\n",
       "       'Match_Multiclaimant_multiInterestedparties_claim',\n",
       "       'PrimaFacie_percentagefault_injured',\n",
       "       'PrimaFacie_percentagefault_insured',\n",
       "       'PrimaFacie_percentagefault_otherinsured',\n",
       "       'PrimaFacie_percentagefault_uninsured', 'OtherCollateralSources',\n",
       "       'PolicyID', 'PolicyType', 'PolicyForm', 'Employment_status',\n",
       "       'BusinessClass', 'Perperson_Policylimit', 'PerOccurrence_PolicyLimit',\n",
       "       'CombinedSingleLimit', 'PolicyLimitPerInjury'],\n",
       "      dtype='object')"
      ]
     },
     "execution_count": 89,
     "metadata": {},
     "output_type": "execute_result"
    }
   ],
   "source": [
    "train.columns"
   ]
  },
  {
   "cell_type": "code",
   "execution_count": 90,
   "metadata": {},
   "outputs": [
    {
     "data": {
      "text/plain": [
       "Index(['ClaimID', 'Injury_Date', 'Date_reported', 'Age_Injured',\n",
       "       'Work_related_injury_status', 'Amputation', 'Death', 'Burns_heat',\n",
       "       'Burns_chemical', 'SystemicPoisoning_toxic', 'SystemicPoisoning_other',\n",
       "       'Eye_injury_blindness', 'RespiratoryCondition', 'NervousCondition',\n",
       "       'HearingLoss', 'CirculatoryCondition', 'MultipleInjuries', 'BackInjury',\n",
       "       'SkinDisorder', 'BrainDamage', 'Scarring', 'SpinalCordInjuries',\n",
       "       'OtherInjuries', 'OffRoadVehicle', 'AirTransportation', 'Railway',\n",
       "       'OtherMotorVehicle', 'SurgicalCare', 'Falls', 'Drowning',\n",
       "       'UseOfDefectiveProduct', 'Fire', 'Firearm', 'Pollution_ToxicExposure',\n",
       "       'Explosions', 'UseOfAgrlMachinery', 'Oil_gasExtraction',\n",
       "       'OtherModeOfInjury', 'Non_economicloss', 'Exemplarydamages',\n",
       "       'WhetherPrimaFacie_JointandSeveralLiability', 'WorkersCompAvailability',\n",
       "       'CollateralSourcesAvailability', 'MedicalInsurance',\n",
       "       'DisabilityInsurance', 'SocialSecurityBenefits', 'Medicare_Medicaid',\n",
       "       'Anyothercontributors', 'AnyMultipleInterestedparties',\n",
       "       'Match_Multiclaimant_multiInterestedparties_claim',\n",
       "       'PrimaFacie_percentagefault_injured',\n",
       "       'PrimaFacie_percentagefault_insured',\n",
       "       'PrimaFacie_percentagefault_otherinsured',\n",
       "       'PrimaFacie_percentagefault_uninsured', 'OtherCollateralSources',\n",
       "       'Provider', 'PolicyID', 'PolicyType', 'PolicyForm', 'Employment_status',\n",
       "       'BusinessClass', 'Perperson_Policylimit', 'PerOccurrence_PolicyLimit',\n",
       "       'CombinedSingleLimit', 'PolicyLimitPerInjury'],\n",
       "      dtype='object')"
      ]
     },
     "execution_count": 90,
     "metadata": {},
     "output_type": "execute_result"
    }
   ],
   "source": [
    "test.columns"
   ]
  },
  {
   "cell_type": "code",
   "execution_count": 91,
   "metadata": {},
   "outputs": [
    {
     "data": {
      "text/plain": [
       "ClaimID                                              object\n",
       "ClaimSize                                            object\n",
       "Injury_Date                                          object\n",
       "Date_reported                                        object\n",
       "Age_Injured                                           int64\n",
       "Work_related_injury_status                           object\n",
       "Amputation                                           object\n",
       "Death                                                object\n",
       "Burns_heat                                           object\n",
       "Burns_chemical                                       object\n",
       "SystemicPoisoning_toxic                              object\n",
       "SystemicPoisoning_other                              object\n",
       "Eye_injury_blindness                                 object\n",
       "RespiratoryCondition                                 object\n",
       "NervousCondition                                     object\n",
       "HearingLoss                                          object\n",
       "CirculatoryCondition                                 object\n",
       "MultipleInjuries                                     object\n",
       "BackInjury                                           object\n",
       "SkinDisorder                                         object\n",
       "BrainDamage                                          object\n",
       "Scarring                                             object\n",
       "SpinalCordInjuries                                   object\n",
       "OtherInjuries                                        object\n",
       "OffRoadVehicle                                       object\n",
       "AirTransportation                                    object\n",
       "Railway                                              object\n",
       "OtherMotorVehicle                                    object\n",
       "SurgicalCare                                         object\n",
       "Falls                                                object\n",
       "                                                     ...   \n",
       "Explosions                                           object\n",
       "UseOfAgrlMachinery                                   object\n",
       "Oil_gasExtraction                                    object\n",
       "OtherModeOfInjury                                    object\n",
       "Non_economicloss                                     object\n",
       "Exemplarydamages                                     object\n",
       "WhetherPrimaFacie_JointandSeveralLiability           object\n",
       "WorkersCompAvailability                              object\n",
       "CollateralSourcesAvailability                        object\n",
       "MedicalInsurance                                     object\n",
       "DisabilityInsurance                                  object\n",
       "SocialSecurityBenefits                               object\n",
       "Medicare_Medicaid                                    object\n",
       "Anyothercontributors                                  int64\n",
       "AnyMultipleInterestedparties                          int64\n",
       "Match_Multiclaimant_multiInterestedparties_claim    float64\n",
       "PrimaFacie_percentagefault_injured                    int64\n",
       "PrimaFacie_percentagefault_insured                    int64\n",
       "PrimaFacie_percentagefault_otherinsured               int64\n",
       "PrimaFacie_percentagefault_uninsured                  int64\n",
       "OtherCollateralSources                               object\n",
       "PolicyID                                             object\n",
       "PolicyType                                            int64\n",
       "PolicyForm                                            int64\n",
       "Employment_status                                    object\n",
       "BusinessClass                                         int64\n",
       "Perperson_Policylimit                                 int64\n",
       "PerOccurrence_PolicyLimit                             int64\n",
       "CombinedSingleLimit                                   int64\n",
       "PolicyLimitPerInjury                                  int64\n",
       "Length: 65, dtype: object"
      ]
     },
     "execution_count": 91,
     "metadata": {},
     "output_type": "execute_result"
    }
   ],
   "source": [
    "train.dtypes"
   ]
  },
  {
   "cell_type": "code",
   "execution_count": 92,
   "metadata": {},
   "outputs": [
    {
     "data": {
      "text/plain": [
       "ClaimID                                              object\n",
       "Injury_Date                                          object\n",
       "Date_reported                                        object\n",
       "Age_Injured                                           int64\n",
       "Work_related_injury_status                           object\n",
       "Amputation                                           object\n",
       "Death                                                object\n",
       "Burns_heat                                           object\n",
       "Burns_chemical                                       object\n",
       "SystemicPoisoning_toxic                              object\n",
       "SystemicPoisoning_other                              object\n",
       "Eye_injury_blindness                                 object\n",
       "RespiratoryCondition                                 object\n",
       "NervousCondition                                     object\n",
       "HearingLoss                                          object\n",
       "CirculatoryCondition                                 object\n",
       "MultipleInjuries                                     object\n",
       "BackInjury                                           object\n",
       "SkinDisorder                                         object\n",
       "BrainDamage                                          object\n",
       "Scarring                                             object\n",
       "SpinalCordInjuries                                   object\n",
       "OtherInjuries                                        object\n",
       "OffRoadVehicle                                       object\n",
       "AirTransportation                                    object\n",
       "Railway                                              object\n",
       "OtherMotorVehicle                                    object\n",
       "SurgicalCare                                         object\n",
       "Falls                                                object\n",
       "Drowning                                             object\n",
       "                                                     ...   \n",
       "UseOfAgrlMachinery                                   object\n",
       "Oil_gasExtraction                                    object\n",
       "OtherModeOfInjury                                    object\n",
       "Non_economicloss                                     object\n",
       "Exemplarydamages                                     object\n",
       "WhetherPrimaFacie_JointandSeveralLiability           object\n",
       "WorkersCompAvailability                              object\n",
       "CollateralSourcesAvailability                        object\n",
       "MedicalInsurance                                     object\n",
       "DisabilityInsurance                                  object\n",
       "SocialSecurityBenefits                               object\n",
       "Medicare_Medicaid                                    object\n",
       "Anyothercontributors                                  int64\n",
       "AnyMultipleInterestedparties                          int64\n",
       "Match_Multiclaimant_multiInterestedparties_claim    float64\n",
       "PrimaFacie_percentagefault_injured                    int64\n",
       "PrimaFacie_percentagefault_insured                    int64\n",
       "PrimaFacie_percentagefault_otherinsured               int64\n",
       "PrimaFacie_percentagefault_uninsured                  int64\n",
       "OtherCollateralSources                               object\n",
       "Provider                                             object\n",
       "PolicyID                                             object\n",
       "PolicyType                                            int64\n",
       "PolicyForm                                            int64\n",
       "Employment_status                                    object\n",
       "BusinessClass                                         int64\n",
       "Perperson_Policylimit                                 int64\n",
       "PerOccurrence_PolicyLimit                             int64\n",
       "CombinedSingleLimit                                   int64\n",
       "PolicyLimitPerInjury                                  int64\n",
       "Length: 65, dtype: object"
      ]
     },
     "execution_count": 92,
     "metadata": {},
     "output_type": "execute_result"
    }
   ],
   "source": [
    "test.dtypes"
   ]
  },
  {
   "cell_type": "code",
   "execution_count": 94,
   "metadata": {},
   "outputs": [],
   "source": [
    "train_labels = train.pop('ClaimSize')"
   ]
  },
  {
   "cell_type": "code",
   "execution_count": null,
   "metadata": {},
   "outputs": [],
   "source": [
    "trian = train.drop('ClaimID',axis=1, inplace=True)\n"
   ]
  },
  {
   "cell_type": "code",
   "execution_count": 97,
   "metadata": {},
   "outputs": [
    {
     "data": {
      "text/plain": [
       "(14417, 63)"
      ]
     },
     "execution_count": 97,
     "metadata": {},
     "output_type": "execute_result"
    }
   ],
   "source": [
    "train.shape"
   ]
  },
  {
   "cell_type": "code",
   "execution_count": 226,
   "metadata": {},
   "outputs": [],
   "source": [
    "test = test.drop('ClaimID',axis=1)"
   ]
  },
  {
   "cell_type": "code",
   "execution_count": 227,
   "metadata": {},
   "outputs": [
    {
     "data": {
      "text/plain": [
       "(4806, 64)"
      ]
     },
     "execution_count": 227,
     "metadata": {},
     "output_type": "execute_result"
    }
   ],
   "source": [
    "test.shape"
   ]
  },
  {
   "cell_type": "code",
   "execution_count": 100,
   "metadata": {},
   "outputs": [],
   "source": [
    "# For loading .arff files\n",
    "from scipy.io import arff\n",
    "# To perform mean imputation\n",
    "from sklearn.preprocessing import Imputer\n",
    "#To perform kFold Cross Validation\n",
    "from sklearn.model_selection import KFold\n",
    "# Formatted counter of class labels\n",
    "from collections import Counter\n",
    "# Ordered Dictionary\n",
    "from collections import OrderedDict\n",
    "# Library imbalanced-learn to deal with the data imbalance. To use SMOTE oversampling\n",
    "from imblearn.over_sampling import SMOTE \n",
    "# To analyze the type of missing data\n",
    "import missingno as msno\n",
    "# Library for performing k-NN and MICE imputations \n",
    "import fancyimpute\n",
    "\n",
    "# To perform mean imputation\n",
    "from sklearn.preprocessing import Imputer"
   ]
  },
  {
   "cell_type": "code",
   "execution_count": 101,
   "metadata": {},
   "outputs": [],
   "source": [
    "# Impoting classification models\n",
    "from xgboost import XGBClassifier\n",
    "from sklearn.svm import SVC\n",
    "from sklearn.ensemble import RandomForestClassifier\n",
    "from sklearn.linear_model import LogisticRegression\n",
    "from imblearn.ensemble import BalancedBaggingClassifier\n",
    "from sklearn.tree import DecisionTreeClassifier\n",
    "from sklearn.naive_bayes import GaussianNB"
   ]
  },
  {
   "cell_type": "code",
   "execution_count": 102,
   "metadata": {},
   "outputs": [],
   "source": [
    "# Import metrics\n",
    "from sklearn import metrics"
   ]
  },
  {
   "cell_type": "code",
   "execution_count": 103,
   "metadata": {},
   "outputs": [
    {
     "name": "stdout",
     "output_type": "stream",
     "text": [
      "(14417, 63) (4806, 64)\n"
     ]
    }
   ],
   "source": [
    "print(train.shape,test.shape)"
   ]
  },
  {
   "cell_type": "code",
   "execution_count": 104,
   "metadata": {},
   "outputs": [],
   "source": [
    "# Converting Object type to Catogry\n",
    "\n",
    "for col in train.columns:\n",
    "   if (train[col].dtype == \"object\"):\n",
    "       train[col] = train[col].astype('category')\n",
    "\n",
    "for col in train.columns:\n",
    "   if (train[col].dtype == np.float64):\n",
    "       train[col] = train[col].fillna(0).astype(np.int64)\n",
    "    \n"
   ]
  },
  {
   "cell_type": "code",
   "execution_count": 228,
   "metadata": {},
   "outputs": [],
   "source": [
    "for col in test.columns:\n",
    "   if (test[col].dtype == \"object\"):\n",
    "       test[col] = test[col].astype('category')\n",
    "        \n",
    "for col in test.columns:\n",
    "   if (test[col].dtype == np.float64):\n",
    "       test[col] = test[col].fillna(0).astype(np.int64)"
   ]
  },
  {
   "cell_type": "code",
   "execution_count": null,
   "metadata": {},
   "outputs": [],
   "source": []
  },
  {
   "cell_type": "code",
   "execution_count": 105,
   "metadata": {},
   "outputs": [
    {
     "name": "stdout",
     "output_type": "stream",
     "text": [
      "<class 'pandas.core.frame.DataFrame'>\n",
      "Int64Index: 14417 entries, 0 to 14416\n",
      "Data columns (total 63 columns):\n",
      "Injury_Date                                         14417 non-null category\n",
      "Date_reported                                       14417 non-null category\n",
      "Age_Injured                                         14417 non-null int64\n",
      "Work_related_injury_status                          9367 non-null category\n",
      "Amputation                                          151 non-null category\n",
      "Death                                               1710 non-null category\n",
      "Burns_heat                                          197 non-null category\n",
      "Burns_chemical                                      67 non-null category\n",
      "SystemicPoisoning_toxic                             51 non-null category\n",
      "SystemicPoisoning_other                             28 non-null category\n",
      "Eye_injury_blindness                                130 non-null category\n",
      "RespiratoryCondition                                98 non-null category\n",
      "NervousCondition                                    136 non-null category\n",
      "HearingLoss                                         60 non-null category\n",
      "CirculatoryCondition                                92 non-null category\n",
      "MultipleInjuries                                    5160 non-null category\n",
      "BackInjury                                          5708 non-null category\n",
      "SkinDisorder                                        77 non-null category\n",
      "BrainDamage                                         372 non-null category\n",
      "Scarring                                            553 non-null category\n",
      "SpinalCordInjuries                                  196 non-null category\n",
      "OtherInjuries                                       3261 non-null category\n",
      "OffRoadVehicle                                      151 non-null category\n",
      "AirTransportation                                   6 non-null category\n",
      "Railway                                             38 non-null category\n",
      "OtherMotorVehicle                                   8968 non-null category\n",
      "SurgicalCare                                        1527 non-null category\n",
      "Falls                                               2014 non-null category\n",
      "Drowning                                            33 non-null category\n",
      "UseOfDefectiveProduct                               217 non-null category\n",
      "Fire                                                86 non-null category\n",
      "Firearm                                             33 non-null category\n",
      "Pollution_ToxicExposure                             39 non-null category\n",
      "Explosions                                          70 non-null category\n",
      "UseOfAgrlMachinery                                  19 non-null category\n",
      "Oil_gasExtraction                                   45 non-null category\n",
      "OtherModeOfInjury                                   1487 non-null category\n",
      "Non_economicloss                                    14417 non-null category\n",
      "Exemplarydamages                                    14417 non-null category\n",
      "WhetherPrimaFacie_JointandSeveralLiability          14417 non-null category\n",
      "WorkersCompAvailability                             14417 non-null category\n",
      "CollateralSourcesAvailability                       14417 non-null category\n",
      "MedicalInsurance                                    2543 non-null category\n",
      "DisabilityInsurance                                 165 non-null category\n",
      "SocialSecurityBenefits                              172 non-null category\n",
      "Medicare_Medicaid                                   860 non-null category\n",
      "Anyothercontributors                                14417 non-null int64\n",
      "AnyMultipleInterestedparties                        14417 non-null int64\n",
      "Match_Multiclaimant_multiInterestedparties_claim    14417 non-null int64\n",
      "PrimaFacie_percentagefault_injured                  14417 non-null int64\n",
      "PrimaFacie_percentagefault_insured                  14417 non-null int64\n",
      "PrimaFacie_percentagefault_otherinsured             14417 non-null int64\n",
      "PrimaFacie_percentagefault_uninsured                14417 non-null int64\n",
      "OtherCollateralSources                              225 non-null category\n",
      "PolicyID                                            14417 non-null category\n",
      "PolicyType                                          14417 non-null int64\n",
      "PolicyForm                                          14417 non-null int64\n",
      "Employment_status                                   14417 non-null category\n",
      "BusinessClass                                       14417 non-null int64\n",
      "Perperson_Policylimit                               14417 non-null int64\n",
      "PerOccurrence_PolicyLimit                           14417 non-null int64\n",
      "CombinedSingleLimit                                 14417 non-null int64\n",
      "PolicyLimitPerInjury                                14417 non-null int64\n",
      "dtypes: category(48), int64(15)\n",
      "memory usage: 3.4 MB\n"
     ]
    }
   ],
   "source": [
    "train.info()"
   ]
  },
  {
   "cell_type": "code",
   "execution_count": 106,
   "metadata": {},
   "outputs": [],
   "source": [
    "train['Age_Injured'] = train['Age_Injured']/100"
   ]
  },
  {
   "cell_type": "code",
   "execution_count": 107,
   "metadata": {},
   "outputs": [
    {
     "data": {
      "text/html": [
       "<div>\n",
       "<style scoped>\n",
       "    .dataframe tbody tr th:only-of-type {\n",
       "        vertical-align: middle;\n",
       "    }\n",
       "\n",
       "    .dataframe tbody tr th {\n",
       "        vertical-align: top;\n",
       "    }\n",
       "\n",
       "    .dataframe thead th {\n",
       "        text-align: right;\n",
       "    }\n",
       "</style>\n",
       "<table border=\"1\" class=\"dataframe\">\n",
       "  <thead>\n",
       "    <tr style=\"text-align: right;\">\n",
       "      <th></th>\n",
       "      <th>Injury_Date</th>\n",
       "      <th>Date_reported</th>\n",
       "      <th>Age_Injured</th>\n",
       "      <th>Work_related_injury_status</th>\n",
       "      <th>Amputation</th>\n",
       "      <th>Death</th>\n",
       "      <th>Burns_heat</th>\n",
       "      <th>Burns_chemical</th>\n",
       "      <th>SystemicPoisoning_toxic</th>\n",
       "      <th>SystemicPoisoning_other</th>\n",
       "      <th>...</th>\n",
       "      <th>OtherCollateralSources</th>\n",
       "      <th>PolicyID</th>\n",
       "      <th>PolicyType</th>\n",
       "      <th>PolicyForm</th>\n",
       "      <th>Employment_status</th>\n",
       "      <th>BusinessClass</th>\n",
       "      <th>Perperson_Policylimit</th>\n",
       "      <th>PerOccurrence_PolicyLimit</th>\n",
       "      <th>CombinedSingleLimit</th>\n",
       "      <th>PolicyLimitPerInjury</th>\n",
       "    </tr>\n",
       "  </thead>\n",
       "  <tbody>\n",
       "    <tr>\n",
       "      <th>0</th>\n",
       "      <td>3/9/2000</td>\n",
       "      <td>2000-03-23</td>\n",
       "      <td>59.0</td>\n",
       "      <td>N</td>\n",
       "      <td>NaN</td>\n",
       "      <td>NaN</td>\n",
       "      <td>NaN</td>\n",
       "      <td>NaN</td>\n",
       "      <td>NaN</td>\n",
       "      <td>NaN</td>\n",
       "      <td>...</td>\n",
       "      <td>NaN</td>\n",
       "      <td>P280529</td>\n",
       "      <td>1</td>\n",
       "      <td>1</td>\n",
       "      <td>Y</td>\n",
       "      <td>17</td>\n",
       "      <td>0</td>\n",
       "      <td>0</td>\n",
       "      <td>5000000</td>\n",
       "      <td>5000000</td>\n",
       "    </tr>\n",
       "    <tr>\n",
       "      <th>1</th>\n",
       "      <td>12/6/2002</td>\n",
       "      <td>2002-12-10</td>\n",
       "      <td>37.0</td>\n",
       "      <td>N</td>\n",
       "      <td>NaN</td>\n",
       "      <td>NaN</td>\n",
       "      <td>NaN</td>\n",
       "      <td>NaN</td>\n",
       "      <td>NaN</td>\n",
       "      <td>NaN</td>\n",
       "      <td>...</td>\n",
       "      <td>NaN</td>\n",
       "      <td>P290153</td>\n",
       "      <td>2</td>\n",
       "      <td>1</td>\n",
       "      <td>Y</td>\n",
       "      <td>9</td>\n",
       "      <td>0</td>\n",
       "      <td>5000000</td>\n",
       "      <td>0</td>\n",
       "      <td>5000000</td>\n",
       "    </tr>\n",
       "    <tr>\n",
       "      <th>2</th>\n",
       "      <td>10/20/2000</td>\n",
       "      <td>2000-11-02</td>\n",
       "      <td>37.0</td>\n",
       "      <td>N</td>\n",
       "      <td>NaN</td>\n",
       "      <td>NaN</td>\n",
       "      <td>NaN</td>\n",
       "      <td>NaN</td>\n",
       "      <td>NaN</td>\n",
       "      <td>NaN</td>\n",
       "      <td>...</td>\n",
       "      <td>NaN</td>\n",
       "      <td>P282861</td>\n",
       "      <td>2</td>\n",
       "      <td>1</td>\n",
       "      <td>Y</td>\n",
       "      <td>6</td>\n",
       "      <td>0</td>\n",
       "      <td>0</td>\n",
       "      <td>5000000</td>\n",
       "      <td>5000000</td>\n",
       "    </tr>\n",
       "    <tr>\n",
       "      <th>3</th>\n",
       "      <td>8/9/2003</td>\n",
       "      <td>2003-08-11</td>\n",
       "      <td>16.0</td>\n",
       "      <td>NaN</td>\n",
       "      <td>NaN</td>\n",
       "      <td>A</td>\n",
       "      <td>NaN</td>\n",
       "      <td>NaN</td>\n",
       "      <td>NaN</td>\n",
       "      <td>NaN</td>\n",
       "      <td>...</td>\n",
       "      <td>NaN</td>\n",
       "      <td>P291972</td>\n",
       "      <td>4</td>\n",
       "      <td>2</td>\n",
       "      <td>N</td>\n",
       "      <td>20</td>\n",
       "      <td>0</td>\n",
       "      <td>1000000</td>\n",
       "      <td>3000000</td>\n",
       "      <td>1000000</td>\n",
       "    </tr>\n",
       "    <tr>\n",
       "      <th>4</th>\n",
       "      <td>2/25/2004</td>\n",
       "      <td>2004-02-26</td>\n",
       "      <td>52.0</td>\n",
       "      <td>NaN</td>\n",
       "      <td>NaN</td>\n",
       "      <td>NaN</td>\n",
       "      <td>NaN</td>\n",
       "      <td>NaN</td>\n",
       "      <td>NaN</td>\n",
       "      <td>NaN</td>\n",
       "      <td>...</td>\n",
       "      <td>NaN</td>\n",
       "      <td>P293075</td>\n",
       "      <td>2</td>\n",
       "      <td>1</td>\n",
       "      <td>N</td>\n",
       "      <td>6</td>\n",
       "      <td>0</td>\n",
       "      <td>1000000</td>\n",
       "      <td>0</td>\n",
       "      <td>1000000</td>\n",
       "    </tr>\n",
       "  </tbody>\n",
       "</table>\n",
       "<p>5 rows × 63 columns</p>\n",
       "</div>"
      ],
      "text/plain": [
       "  Injury_Date Date_reported  Age_Injured Work_related_injury_status  \\\n",
       "0    3/9/2000    2000-03-23         59.0                          N   \n",
       "1   12/6/2002    2002-12-10         37.0                          N   \n",
       "2  10/20/2000    2000-11-02         37.0                          N   \n",
       "3    8/9/2003    2003-08-11         16.0                        NaN   \n",
       "4   2/25/2004    2004-02-26         52.0                        NaN   \n",
       "\n",
       "  Amputation Death Burns_heat Burns_chemical SystemicPoisoning_toxic  \\\n",
       "0        NaN   NaN        NaN            NaN                     NaN   \n",
       "1        NaN   NaN        NaN            NaN                     NaN   \n",
       "2        NaN   NaN        NaN            NaN                     NaN   \n",
       "3        NaN     A        NaN            NaN                     NaN   \n",
       "4        NaN   NaN        NaN            NaN                     NaN   \n",
       "\n",
       "  SystemicPoisoning_other         ...          OtherCollateralSources  \\\n",
       "0                     NaN         ...                             NaN   \n",
       "1                     NaN         ...                             NaN   \n",
       "2                     NaN         ...                             NaN   \n",
       "3                     NaN         ...                             NaN   \n",
       "4                     NaN         ...                             NaN   \n",
       "\n",
       "  PolicyID PolicyType PolicyForm Employment_status BusinessClass  \\\n",
       "0  P280529          1          1                 Y            17   \n",
       "1  P290153          2          1                 Y             9   \n",
       "2  P282861          2          1                 Y             6   \n",
       "3  P291972          4          2                 N            20   \n",
       "4  P293075          2          1                 N             6   \n",
       "\n",
       "  Perperson_Policylimit PerOccurrence_PolicyLimit CombinedSingleLimit  \\\n",
       "0                     0                         0             5000000   \n",
       "1                     0                   5000000                   0   \n",
       "2                     0                         0             5000000   \n",
       "3                     0                   1000000             3000000   \n",
       "4                     0                   1000000                   0   \n",
       "\n",
       "  PolicyLimitPerInjury  \n",
       "0              5000000  \n",
       "1              5000000  \n",
       "2              5000000  \n",
       "3              1000000  \n",
       "4              1000000  \n",
       "\n",
       "[5 rows x 63 columns]"
      ]
     },
     "execution_count": 107,
     "metadata": {},
     "output_type": "execute_result"
    }
   ],
   "source": [
    "train.head(5)"
   ]
  },
  {
   "cell_type": "code",
   "execution_count": 229,
   "metadata": {},
   "outputs": [],
   "source": [
    "test['Age_Injured'] = test['Age_Injured']/100"
   ]
  },
  {
   "cell_type": "code",
   "execution_count": 109,
   "metadata": {},
   "outputs": [
    {
     "data": {
      "text/html": [
       "<div>\n",
       "<style scoped>\n",
       "    .dataframe tbody tr th:only-of-type {\n",
       "        vertical-align: middle;\n",
       "    }\n",
       "\n",
       "    .dataframe tbody tr th {\n",
       "        vertical-align: top;\n",
       "    }\n",
       "\n",
       "    .dataframe thead th {\n",
       "        text-align: right;\n",
       "    }\n",
       "</style>\n",
       "<table border=\"1\" class=\"dataframe\">\n",
       "  <thead>\n",
       "    <tr style=\"text-align: right;\">\n",
       "      <th></th>\n",
       "      <th>Injury_Date</th>\n",
       "      <th>Date_reported</th>\n",
       "      <th>Age_Injured</th>\n",
       "      <th>Work_related_injury_status</th>\n",
       "      <th>Amputation</th>\n",
       "      <th>Death</th>\n",
       "      <th>Burns_heat</th>\n",
       "      <th>Burns_chemical</th>\n",
       "      <th>SystemicPoisoning_toxic</th>\n",
       "      <th>SystemicPoisoning_other</th>\n",
       "      <th>...</th>\n",
       "      <th>Provider</th>\n",
       "      <th>PolicyID</th>\n",
       "      <th>PolicyType</th>\n",
       "      <th>PolicyForm</th>\n",
       "      <th>Employment_status</th>\n",
       "      <th>BusinessClass</th>\n",
       "      <th>Perperson_Policylimit</th>\n",
       "      <th>PerOccurrence_PolicyLimit</th>\n",
       "      <th>CombinedSingleLimit</th>\n",
       "      <th>PolicyLimitPerInjury</th>\n",
       "    </tr>\n",
       "  </thead>\n",
       "  <tbody>\n",
       "    <tr>\n",
       "      <th>0</th>\n",
       "      <td>5/18/1989</td>\n",
       "      <td>1989-11-28</td>\n",
       "      <td>46.0</td>\n",
       "      <td>Y</td>\n",
       "      <td>NaN</td>\n",
       "      <td>NaN</td>\n",
       "      <td>C</td>\n",
       "      <td>NaN</td>\n",
       "      <td>NaN</td>\n",
       "      <td>NaN</td>\n",
       "      <td>...</td>\n",
       "      <td>PRV51002</td>\n",
       "      <td>P275003</td>\n",
       "      <td>1</td>\n",
       "      <td>1</td>\n",
       "      <td>Y</td>\n",
       "      <td>6</td>\n",
       "      <td>0</td>\n",
       "      <td>0</td>\n",
       "      <td>2500000</td>\n",
       "      <td>2500000</td>\n",
       "    </tr>\n",
       "    <tr>\n",
       "      <th>1</th>\n",
       "      <td>5/17/1989</td>\n",
       "      <td>1990-02-20</td>\n",
       "      <td>31.0</td>\n",
       "      <td>NaN</td>\n",
       "      <td>NaN</td>\n",
       "      <td>NaN</td>\n",
       "      <td>NaN</td>\n",
       "      <td>NaN</td>\n",
       "      <td>NaN</td>\n",
       "      <td>NaN</td>\n",
       "      <td>...</td>\n",
       "      <td>PRV51006</td>\n",
       "      <td>P275006</td>\n",
       "      <td>1</td>\n",
       "      <td>1</td>\n",
       "      <td>N</td>\n",
       "      <td>26</td>\n",
       "      <td>0</td>\n",
       "      <td>1000000</td>\n",
       "      <td>0</td>\n",
       "      <td>1000000</td>\n",
       "    </tr>\n",
       "    <tr>\n",
       "      <th>2</th>\n",
       "      <td>5/11/1992</td>\n",
       "      <td>1992-06-23</td>\n",
       "      <td>14.0</td>\n",
       "      <td>NaN</td>\n",
       "      <td>NaN</td>\n",
       "      <td>NaN</td>\n",
       "      <td>NaN</td>\n",
       "      <td>NaN</td>\n",
       "      <td>NaN</td>\n",
       "      <td>NaN</td>\n",
       "      <td>...</td>\n",
       "      <td>PRV51009</td>\n",
       "      <td>P275016</td>\n",
       "      <td>2</td>\n",
       "      <td>1</td>\n",
       "      <td>N</td>\n",
       "      <td>7</td>\n",
       "      <td>0</td>\n",
       "      <td>0</td>\n",
       "      <td>2000000</td>\n",
       "      <td>2000000</td>\n",
       "    </tr>\n",
       "    <tr>\n",
       "      <th>3</th>\n",
       "      <td>5/11/1992</td>\n",
       "      <td>1992-06-23</td>\n",
       "      <td>44.0</td>\n",
       "      <td>N</td>\n",
       "      <td>NaN</td>\n",
       "      <td>NaN</td>\n",
       "      <td>NaN</td>\n",
       "      <td>NaN</td>\n",
       "      <td>NaN</td>\n",
       "      <td>NaN</td>\n",
       "      <td>...</td>\n",
       "      <td>PRV51010</td>\n",
       "      <td>P275017</td>\n",
       "      <td>2</td>\n",
       "      <td>1</td>\n",
       "      <td>Y</td>\n",
       "      <td>7</td>\n",
       "      <td>0</td>\n",
       "      <td>0</td>\n",
       "      <td>2000000</td>\n",
       "      <td>2000000</td>\n",
       "    </tr>\n",
       "    <tr>\n",
       "      <th>4</th>\n",
       "      <td>12/20/1992</td>\n",
       "      <td>1993-01-07</td>\n",
       "      <td>42.0</td>\n",
       "      <td>N</td>\n",
       "      <td>NaN</td>\n",
       "      <td>A</td>\n",
       "      <td>NaN</td>\n",
       "      <td>NaN</td>\n",
       "      <td>NaN</td>\n",
       "      <td>NaN</td>\n",
       "      <td>...</td>\n",
       "      <td>PRV51018</td>\n",
       "      <td>P275020</td>\n",
       "      <td>2</td>\n",
       "      <td>1</td>\n",
       "      <td>Y</td>\n",
       "      <td>7</td>\n",
       "      <td>0</td>\n",
       "      <td>0</td>\n",
       "      <td>100000</td>\n",
       "      <td>100000</td>\n",
       "    </tr>\n",
       "  </tbody>\n",
       "</table>\n",
       "<p>5 rows × 64 columns</p>\n",
       "</div>"
      ],
      "text/plain": [
       "  Injury_Date Date_reported  Age_Injured Work_related_injury_status  \\\n",
       "0   5/18/1989    1989-11-28         46.0                          Y   \n",
       "1   5/17/1989    1990-02-20         31.0                        NaN   \n",
       "2   5/11/1992    1992-06-23         14.0                        NaN   \n",
       "3   5/11/1992    1992-06-23         44.0                          N   \n",
       "4  12/20/1992    1993-01-07         42.0                          N   \n",
       "\n",
       "  Amputation Death Burns_heat Burns_chemical SystemicPoisoning_toxic  \\\n",
       "0        NaN   NaN          C            NaN                     NaN   \n",
       "1        NaN   NaN        NaN            NaN                     NaN   \n",
       "2        NaN   NaN        NaN            NaN                     NaN   \n",
       "3        NaN   NaN        NaN            NaN                     NaN   \n",
       "4        NaN     A        NaN            NaN                     NaN   \n",
       "\n",
       "  SystemicPoisoning_other         ...           Provider PolicyID PolicyType  \\\n",
       "0                     NaN         ...           PRV51002  P275003          1   \n",
       "1                     NaN         ...           PRV51006  P275006          1   \n",
       "2                     NaN         ...           PRV51009  P275016          2   \n",
       "3                     NaN         ...           PRV51010  P275017          2   \n",
       "4                     NaN         ...           PRV51018  P275020          2   \n",
       "\n",
       "  PolicyForm Employment_status BusinessClass Perperson_Policylimit  \\\n",
       "0          1                 Y             6                     0   \n",
       "1          1                 N            26                     0   \n",
       "2          1                 N             7                     0   \n",
       "3          1                 Y             7                     0   \n",
       "4          1                 Y             7                     0   \n",
       "\n",
       "  PerOccurrence_PolicyLimit CombinedSingleLimit PolicyLimitPerInjury  \n",
       "0                         0             2500000              2500000  \n",
       "1                   1000000                   0              1000000  \n",
       "2                         0             2000000              2000000  \n",
       "3                         0             2000000              2000000  \n",
       "4                         0              100000               100000  \n",
       "\n",
       "[5 rows x 64 columns]"
      ]
     },
     "execution_count": 109,
     "metadata": {},
     "output_type": "execute_result"
    }
   ],
   "source": [
    "test.head(5)"
   ]
  },
  {
   "cell_type": "code",
   "execution_count": 110,
   "metadata": {},
   "outputs": [],
   "source": [
    "#Creating dummy variables.\n",
    "\n",
    "#If we have k levels in a category, then we create k-1 dummy variables as the last one would be redundant. \n",
    "#So we use the parameter drop_first in pd.get_dummies function that drops the first level in each of the category\n",
    "\n",
    "categorical_Attributes = train.select_dtypes(include=['category']).columns"
   ]
  },
  {
   "cell_type": "code",
   "execution_count": 111,
   "metadata": {},
   "outputs": [
    {
     "name": "stdout",
     "output_type": "stream",
     "text": [
      "Index(['Injury_Date', 'Date_reported', 'Age_Injured',\n",
      "       'Work_related_injury_status', 'Amputation', 'Death', 'Burns_heat',\n",
      "       'Burns_chemical', 'SystemicPoisoning_toxic', 'SystemicPoisoning_other',\n",
      "       'Eye_injury_blindness', 'RespiratoryCondition', 'NervousCondition',\n",
      "       'HearingLoss', 'CirculatoryCondition', 'MultipleInjuries', 'BackInjury',\n",
      "       'SkinDisorder', 'BrainDamage', 'Scarring', 'SpinalCordInjuries',\n",
      "       'OtherInjuries', 'OffRoadVehicle', 'AirTransportation', 'Railway',\n",
      "       'OtherMotorVehicle', 'SurgicalCare', 'Falls', 'Drowning',\n",
      "       'UseOfDefectiveProduct', 'Fire', 'Firearm', 'Pollution_ToxicExposure',\n",
      "       'Explosions', 'UseOfAgrlMachinery', 'Oil_gasExtraction',\n",
      "       'OtherModeOfInjury', 'Non_economicloss', 'Exemplarydamages',\n",
      "       'WhetherPrimaFacie_JointandSeveralLiability', 'WorkersCompAvailability',\n",
      "       'CollateralSourcesAvailability', 'MedicalInsurance',\n",
      "       'DisabilityInsurance', 'SocialSecurityBenefits', 'Medicare_Medicaid',\n",
      "       'Anyothercontributors', 'AnyMultipleInterestedparties',\n",
      "       'Match_Multiclaimant_multiInterestedparties_claim',\n",
      "       'PrimaFacie_percentagefault_injured',\n",
      "       'PrimaFacie_percentagefault_insured',\n",
      "       'PrimaFacie_percentagefault_otherinsured',\n",
      "       'PrimaFacie_percentagefault_uninsured', 'OtherCollateralSources',\n",
      "       'PolicyID', 'PolicyType', 'PolicyForm', 'Employment_status',\n",
      "       'BusinessClass', 'Perperson_Policylimit', 'PerOccurrence_PolicyLimit',\n",
      "       'CombinedSingleLimit', 'PolicyLimitPerInjury'],\n",
      "      dtype='object') (14417, 63)\n"
     ]
    }
   ],
   "source": [
    "print(train.columns, train.shape)"
   ]
  },
  {
   "cell_type": "code",
   "execution_count": 112,
   "metadata": {},
   "outputs": [
    {
     "name": "stdout",
     "output_type": "stream",
     "text": [
      "<class 'pandas.core.frame.DataFrame'>\n",
      "Int64Index: 14417 entries, 0 to 14416\n",
      "Data columns (total 63 columns):\n",
      "Injury_Date                                         14417 non-null category\n",
      "Date_reported                                       14417 non-null category\n",
      "Age_Injured                                         14417 non-null float64\n",
      "Work_related_injury_status                          9367 non-null category\n",
      "Amputation                                          151 non-null category\n",
      "Death                                               1710 non-null category\n",
      "Burns_heat                                          197 non-null category\n",
      "Burns_chemical                                      67 non-null category\n",
      "SystemicPoisoning_toxic                             51 non-null category\n",
      "SystemicPoisoning_other                             28 non-null category\n",
      "Eye_injury_blindness                                130 non-null category\n",
      "RespiratoryCondition                                98 non-null category\n",
      "NervousCondition                                    136 non-null category\n",
      "HearingLoss                                         60 non-null category\n",
      "CirculatoryCondition                                92 non-null category\n",
      "MultipleInjuries                                    5160 non-null category\n",
      "BackInjury                                          5708 non-null category\n",
      "SkinDisorder                                        77 non-null category\n",
      "BrainDamage                                         372 non-null category\n",
      "Scarring                                            553 non-null category\n",
      "SpinalCordInjuries                                  196 non-null category\n",
      "OtherInjuries                                       3261 non-null category\n",
      "OffRoadVehicle                                      151 non-null category\n",
      "AirTransportation                                   6 non-null category\n",
      "Railway                                             38 non-null category\n",
      "OtherMotorVehicle                                   8968 non-null category\n",
      "SurgicalCare                                        1527 non-null category\n",
      "Falls                                               2014 non-null category\n",
      "Drowning                                            33 non-null category\n",
      "UseOfDefectiveProduct                               217 non-null category\n",
      "Fire                                                86 non-null category\n",
      "Firearm                                             33 non-null category\n",
      "Pollution_ToxicExposure                             39 non-null category\n",
      "Explosions                                          70 non-null category\n",
      "UseOfAgrlMachinery                                  19 non-null category\n",
      "Oil_gasExtraction                                   45 non-null category\n",
      "OtherModeOfInjury                                   1487 non-null category\n",
      "Non_economicloss                                    14417 non-null category\n",
      "Exemplarydamages                                    14417 non-null category\n",
      "WhetherPrimaFacie_JointandSeveralLiability          14417 non-null category\n",
      "WorkersCompAvailability                             14417 non-null category\n",
      "CollateralSourcesAvailability                       14417 non-null category\n",
      "MedicalInsurance                                    2543 non-null category\n",
      "DisabilityInsurance                                 165 non-null category\n",
      "SocialSecurityBenefits                              172 non-null category\n",
      "Medicare_Medicaid                                   860 non-null category\n",
      "Anyothercontributors                                14417 non-null int64\n",
      "AnyMultipleInterestedparties                        14417 non-null int64\n",
      "Match_Multiclaimant_multiInterestedparties_claim    14417 non-null int64\n",
      "PrimaFacie_percentagefault_injured                  14417 non-null int64\n",
      "PrimaFacie_percentagefault_insured                  14417 non-null int64\n",
      "PrimaFacie_percentagefault_otherinsured             14417 non-null int64\n",
      "PrimaFacie_percentagefault_uninsured                14417 non-null int64\n",
      "OtherCollateralSources                              225 non-null category\n",
      "PolicyID                                            14417 non-null category\n",
      "PolicyType                                          14417 non-null int64\n",
      "PolicyForm                                          14417 non-null int64\n",
      "Employment_status                                   14417 non-null category\n",
      "BusinessClass                                       14417 non-null int64\n",
      "Perperson_Policylimit                               14417 non-null int64\n",
      "PerOccurrence_PolicyLimit                           14417 non-null int64\n",
      "CombinedSingleLimit                                 14417 non-null int64\n",
      "PolicyLimitPerInjury                                14417 non-null int64\n",
      "dtypes: category(48), float64(1), int64(14)\n",
      "memory usage: 3.4 MB\n"
     ]
    }
   ],
   "source": [
    "train.info()"
   ]
  },
  {
   "cell_type": "code",
   "execution_count": 113,
   "metadata": {},
   "outputs": [],
   "source": [
    "from feature_selector import FeatureSelector"
   ]
  },
  {
   "cell_type": "code",
   "execution_count": 114,
   "metadata": {},
   "outputs": [],
   "source": [
    "#Implementation\n",
    "#The FeatureSelector has five functions for identifying columns to remove:\n",
    "\n",
    "#identify_missing\n",
    "#identify_single_unique\n",
    "#identify_collinear\n",
    "#identify_zero_importance\n",
    "#identify_low_importance\n",
    "\n",
    "fs = FeatureSelector(data = train, labels = train_labels)"
   ]
  },
  {
   "cell_type": "code",
   "execution_count": 115,
   "metadata": {},
   "outputs": [
    {
     "name": "stdout",
     "output_type": "stream",
     "text": [
      "39 features with greater than 0.20 missing values.\n",
      "\n"
     ]
    }
   ],
   "source": [
    "#Missing Values\n",
    "# Identify the features whose missing percentage is large than 20%\n",
    "fs.identify_missing(missing_threshold=0.20)"
   ]
  },
  {
   "cell_type": "code",
   "execution_count": 116,
   "metadata": {},
   "outputs": [
    {
     "data": {
      "text/plain": [
       "['Work_related_injury_status',\n",
       " 'Amputation',\n",
       " 'Death',\n",
       " 'Burns_heat',\n",
       " 'Burns_chemical',\n",
       " 'SystemicPoisoning_toxic',\n",
       " 'SystemicPoisoning_other',\n",
       " 'Eye_injury_blindness',\n",
       " 'RespiratoryCondition',\n",
       " 'NervousCondition']"
      ]
     },
     "execution_count": 116,
     "metadata": {},
     "output_type": "execute_result"
    }
   ],
   "source": [
    "# list the Missing features whose percentage is greater than 20%\n",
    "missing_features = fs.ops['missing']\n",
    "missing_features[:10]"
   ]
  },
  {
   "cell_type": "code",
   "execution_count": 117,
   "metadata": {},
   "outputs": [
    {
     "data": {
      "image/png": "[encoded data removed]",
      "text/plain": [
       "<Figure size 700x500 with 1 Axes>"
      ]
     },
     "metadata": {},
     "output_type": "display_data"
    }
   ],
   "source": [
    "# Plot the Histogram for missing features\n",
    "fs.plot_missing()"
   ]
  },
  {
   "cell_type": "code",
   "execution_count": 118,
   "metadata": {},
   "outputs": [
    {
     "data": {
      "text/html": [
       "<div>\n",
       "<style scoped>\n",
       "    .dataframe tbody tr th:only-of-type {\n",
       "        vertical-align: middle;\n",
       "    }\n",
       "\n",
       "    .dataframe tbody tr th {\n",
       "        vertical-align: top;\n",
       "    }\n",
       "\n",
       "    .dataframe thead th {\n",
       "        text-align: right;\n",
       "    }\n",
       "</style>\n",
       "<table border=\"1\" class=\"dataframe\">\n",
       "  <thead>\n",
       "    <tr style=\"text-align: right;\">\n",
       "      <th></th>\n",
       "      <th>missing_fraction</th>\n",
       "    </tr>\n",
       "  </thead>\n",
       "  <tbody>\n",
       "    <tr>\n",
       "      <th>AirTransportation</th>\n",
       "      <td>0.999584</td>\n",
       "    </tr>\n",
       "    <tr>\n",
       "      <th>UseOfAgrlMachinery</th>\n",
       "      <td>0.998682</td>\n",
       "    </tr>\n",
       "    <tr>\n",
       "      <th>SystemicPoisoning_other</th>\n",
       "      <td>0.998058</td>\n",
       "    </tr>\n",
       "    <tr>\n",
       "      <th>Firearm</th>\n",
       "      <td>0.997711</td>\n",
       "    </tr>\n",
       "    <tr>\n",
       "      <th>Drowning</th>\n",
       "      <td>0.997711</td>\n",
       "    </tr>\n",
       "    <tr>\n",
       "      <th>Railway</th>\n",
       "      <td>0.997364</td>\n",
       "    </tr>\n",
       "    <tr>\n",
       "      <th>Pollution_ToxicExposure</th>\n",
       "      <td>0.997295</td>\n",
       "    </tr>\n",
       "    <tr>\n",
       "      <th>Oil_gasExtraction</th>\n",
       "      <td>0.996879</td>\n",
       "    </tr>\n",
       "    <tr>\n",
       "      <th>SystemicPoisoning_toxic</th>\n",
       "      <td>0.996463</td>\n",
       "    </tr>\n",
       "    <tr>\n",
       "      <th>HearingLoss</th>\n",
       "      <td>0.995838</td>\n",
       "    </tr>\n",
       "    <tr>\n",
       "      <th>Burns_chemical</th>\n",
       "      <td>0.995353</td>\n",
       "    </tr>\n",
       "    <tr>\n",
       "      <th>Explosions</th>\n",
       "      <td>0.995145</td>\n",
       "    </tr>\n",
       "  </tbody>\n",
       "</table>\n",
       "</div>"
      ],
      "text/plain": [
       "                         missing_fraction\n",
       "AirTransportation                0.999584\n",
       "UseOfAgrlMachinery               0.998682\n",
       "SystemicPoisoning_other          0.998058\n",
       "Firearm                          0.997711\n",
       "Drowning                         0.997711\n",
       "Railway                          0.997364\n",
       "Pollution_ToxicExposure          0.997295\n",
       "Oil_gasExtraction                0.996879\n",
       "SystemicPoisoning_toxic          0.996463\n",
       "HearingLoss                      0.995838\n",
       "Burns_chemical                   0.995353\n",
       "Explosions                       0.995145"
      ]
     },
     "execution_count": 118,
     "metadata": {},
     "output_type": "execute_result"
    }
   ],
   "source": [
    "# Top 12 Missing features Perecentage\n",
    "fs.missing_stats.head(12)"
   ]
  },
  {
   "cell_type": "code",
   "execution_count": 119,
   "metadata": {},
   "outputs": [
    {
     "name": "stdout",
     "output_type": "stream",
     "text": [
      "38 features with a single unique value.\n",
      "\n"
     ]
    }
   ],
   "source": [
    "#Finding Single Unique value\n",
    "fs.identify_single_unique()"
   ]
  },
  {
   "cell_type": "code",
   "execution_count": 123,
   "metadata": {},
   "outputs": [
    {
     "name": "stdout",
     "output_type": "stream",
     "text": [
      "2 features with a correlation magnitude greater than 0.80.\n",
      "\n"
     ]
    }
   ],
   "source": [
    "#Collinear (highly correlated) Features\n",
    "fs.identify_collinear(correlation_threshold=0.80)"
   ]
  },
  {
   "cell_type": "code",
   "execution_count": 124,
   "metadata": {},
   "outputs": [
    {
     "data": {
      "text/plain": [
       "['AnyMultipleInterestedparties', 'PolicyLimitPerInjury']"
      ]
     },
     "execution_count": 124,
     "metadata": {},
     "output_type": "execute_result"
    }
   ],
   "source": [
    "correlated_features = fs.ops['collinear']\n",
    "correlated_features[:2]"
   ]
  },
  {
   "cell_type": "code",
   "execution_count": 125,
   "metadata": {},
   "outputs": [
    {
     "data": {
      "image/png": "[encoded data removed]",
      "text/plain": [
       "<Figure size 1000x800 with 2 Axes>"
      ]
     },
     "metadata": {},
     "output_type": "display_data"
    }
   ],
   "source": [
    "fs.plot_collinear()"
   ]
  },
  {
   "cell_type": "code",
   "execution_count": 126,
   "metadata": {},
   "outputs": [
    {
     "data": {
      "image/png": "[encoded data removed]",
      "text/plain": [
       "<Figure size 1000x800 with 2 Axes>"
      ]
     },
     "metadata": {},
     "output_type": "display_data"
    }
   ],
   "source": [
    "fs.plot_collinear(plot_all=True)"
   ]
  },
  {
   "cell_type": "code",
   "execution_count": 127,
   "metadata": {},
   "outputs": [
    {
     "name": "stdout",
     "output_type": "stream",
     "text": [
      "2 features with a correlation magnitude greater than 0.80.\n",
      "\n"
     ]
    },
    {
     "data": {
      "image/png": "[encoded data removed]",
      "text/plain": [
       "<Figure size 1000x800 with 2 Axes>"
      ]
     },
     "metadata": {},
     "output_type": "display_data"
    }
   ],
   "source": [
    "fs.identify_collinear(correlation_threshold=0.80)\n",
    "fs.plot_collinear()"
   ]
  },
  {
   "cell_type": "code",
   "execution_count": 128,
   "metadata": {},
   "outputs": [
    {
     "data": {
      "text/html": [
       "<div>\n",
       "<style scoped>\n",
       "    .dataframe tbody tr th:only-of-type {\n",
       "        vertical-align: middle;\n",
       "    }\n",
       "\n",
       "    .dataframe tbody tr th {\n",
       "        vertical-align: top;\n",
       "    }\n",
       "\n",
       "    .dataframe thead th {\n",
       "        text-align: right;\n",
       "    }\n",
       "</style>\n",
       "<table border=\"1\" class=\"dataframe\">\n",
       "  <thead>\n",
       "    <tr style=\"text-align: right;\">\n",
       "      <th></th>\n",
       "      <th>drop_feature</th>\n",
       "      <th>corr_feature</th>\n",
       "      <th>corr_value</th>\n",
       "    </tr>\n",
       "  </thead>\n",
       "  <tbody>\n",
       "    <tr>\n",
       "      <th>0</th>\n",
       "      <td>AnyMultipleInterestedparties</td>\n",
       "      <td>Anyothercontributors</td>\n",
       "      <td>0.995374</td>\n",
       "    </tr>\n",
       "    <tr>\n",
       "      <th>1</th>\n",
       "      <td>PolicyLimitPerInjury</td>\n",
       "      <td>CombinedSingleLimit</td>\n",
       "      <td>0.928460</td>\n",
       "    </tr>\n",
       "  </tbody>\n",
       "</table>\n",
       "</div>"
      ],
      "text/plain": [
       "                   drop_feature          corr_feature  corr_value\n",
       "0  AnyMultipleInterestedparties  Anyothercontributors    0.995374\n",
       "1          PolicyLimitPerInjury   CombinedSingleLimit    0.928460"
      ]
     },
     "execution_count": 128,
     "metadata": {},
     "output_type": "execute_result"
    }
   ],
   "source": [
    "fs.record_collinear"
   ]
  },
  {
   "cell_type": "code",
   "execution_count": 133,
   "metadata": {},
   "outputs": [
    {
     "name": "stdout",
     "output_type": "stream",
     "text": [
      "Training Gradient Boosting Model\n",
      "\n",
      "\n",
      "19937 features with zero importance after one-hot encoding.\n",
      "\n"
     ]
    }
   ],
   "source": [
    "#Identifying the Zero Importance Feature\n",
    "fs.identify_zero_importance(task = 'classification',  \n",
    "                            n_iterations = 10, early_stopping = False)"
   ]
  },
  {
   "cell_type": "code",
   "execution_count": 134,
   "metadata": {},
   "outputs": [
    {
     "data": {
      "image/png": "[encoded data removed]",
      "text/plain": [
       "<Figure size 1000x600 with 1 Axes>"
      ]
     },
     "metadata": {},
     "output_type": "display_data"
    },
    {
     "data": {
      "image/png": "[encoded data removed]",
      "text/plain": [
       "<Figure size 600x400 with 1 Axes>"
      ]
     },
     "metadata": {},
     "output_type": "display_data"
    },
    {
     "name": "stdout",
     "output_type": "stream",
     "text": [
      "19 features required for 0.80 of cumulative importance\n"
     ]
    }
   ],
   "source": [
    "fs.plot_feature_importances(threshold = 0.80, plot_n = 12)"
   ]
  },
  {
   "cell_type": "code",
   "execution_count": 135,
   "metadata": {},
   "outputs": [
    {
     "data": {
      "text/html": [
       "<div>\n",
       "<style scoped>\n",
       "    .dataframe tbody tr th:only-of-type {\n",
       "        vertical-align: middle;\n",
       "    }\n",
       "\n",
       "    .dataframe tbody tr th {\n",
       "        vertical-align: top;\n",
       "    }\n",
       "\n",
       "    .dataframe thead th {\n",
       "        text-align: right;\n",
       "    }\n",
       "</style>\n",
       "<table border=\"1\" class=\"dataframe\">\n",
       "  <thead>\n",
       "    <tr style=\"text-align: right;\">\n",
       "      <th></th>\n",
       "      <th>feature</th>\n",
       "      <th>importance</th>\n",
       "      <th>normalized_importance</th>\n",
       "      <th>cumulative_importance</th>\n",
       "    </tr>\n",
       "  </thead>\n",
       "  <tbody>\n",
       "    <tr>\n",
       "      <th>0</th>\n",
       "      <td>Age_Injured</td>\n",
       "      <td>19473.0</td>\n",
       "      <td>0.216367</td>\n",
       "      <td>0.216367</td>\n",
       "    </tr>\n",
       "    <tr>\n",
       "      <th>1</th>\n",
       "      <td>BusinessClass</td>\n",
       "      <td>7939.0</td>\n",
       "      <td>0.088211</td>\n",
       "      <td>0.304578</td>\n",
       "    </tr>\n",
       "    <tr>\n",
       "      <th>2</th>\n",
       "      <td>CombinedSingleLimit</td>\n",
       "      <td>5574.0</td>\n",
       "      <td>0.061933</td>\n",
       "      <td>0.366511</td>\n",
       "    </tr>\n",
       "    <tr>\n",
       "      <th>3</th>\n",
       "      <td>PrimaFacie_percentagefault_insured</td>\n",
       "      <td>5456.0</td>\n",
       "      <td>0.060622</td>\n",
       "      <td>0.427133</td>\n",
       "    </tr>\n",
       "    <tr>\n",
       "      <th>4</th>\n",
       "      <td>PolicyLimitPerInjury</td>\n",
       "      <td>4274.0</td>\n",
       "      <td>0.047489</td>\n",
       "      <td>0.474622</td>\n",
       "    </tr>\n",
       "    <tr>\n",
       "      <th>5</th>\n",
       "      <td>PerOccurrence_PolicyLimit</td>\n",
       "      <td>4129.0</td>\n",
       "      <td>0.045878</td>\n",
       "      <td>0.520500</td>\n",
       "    </tr>\n",
       "    <tr>\n",
       "      <th>6</th>\n",
       "      <td>MultipleInjuries_L</td>\n",
       "      <td>3058.0</td>\n",
       "      <td>0.033978</td>\n",
       "      <td>0.554478</td>\n",
       "    </tr>\n",
       "    <tr>\n",
       "      <th>7</th>\n",
       "      <td>PrimaFacie_percentagefault_injured</td>\n",
       "      <td>2768.0</td>\n",
       "      <td>0.030756</td>\n",
       "      <td>0.585233</td>\n",
       "    </tr>\n",
       "    <tr>\n",
       "      <th>8</th>\n",
       "      <td>OtherInjuries_R</td>\n",
       "      <td>2618.0</td>\n",
       "      <td>0.029089</td>\n",
       "      <td>0.614322</td>\n",
       "    </tr>\n",
       "    <tr>\n",
       "      <th>9</th>\n",
       "      <td>PolicyType</td>\n",
       "      <td>2550.0</td>\n",
       "      <td>0.028333</td>\n",
       "      <td>0.642656</td>\n",
       "    </tr>\n",
       "    <tr>\n",
       "      <th>10</th>\n",
       "      <td>BackInjury_M</td>\n",
       "      <td>2543.0</td>\n",
       "      <td>0.028256</td>\n",
       "      <td>0.670911</td>\n",
       "    </tr>\n",
       "    <tr>\n",
       "      <th>11</th>\n",
       "      <td>PrimaFacie_percentagefault_otherinsured</td>\n",
       "      <td>2272.0</td>\n",
       "      <td>0.025244</td>\n",
       "      <td>0.696156</td>\n",
       "    </tr>\n",
       "    <tr>\n",
       "      <th>12</th>\n",
       "      <td>Work_related_injury_status_N</td>\n",
       "      <td>2014.0</td>\n",
       "      <td>0.022378</td>\n",
       "      <td>0.718533</td>\n",
       "    </tr>\n",
       "    <tr>\n",
       "      <th>13</th>\n",
       "      <td>Perperson_Policylimit</td>\n",
       "      <td>1475.0</td>\n",
       "      <td>0.016389</td>\n",
       "      <td>0.734922</td>\n",
       "    </tr>\n",
       "    <tr>\n",
       "      <th>14</th>\n",
       "      <td>CollateralSourcesAvailability_N</td>\n",
       "      <td>1372.0</td>\n",
       "      <td>0.015244</td>\n",
       "      <td>0.750167</td>\n",
       "    </tr>\n",
       "  </tbody>\n",
       "</table>\n",
       "</div>"
      ],
      "text/plain": [
       "                                    feature  importance  \\\n",
       "0                               Age_Injured     19473.0   \n",
       "1                             BusinessClass      7939.0   \n",
       "2                       CombinedSingleLimit      5574.0   \n",
       "3        PrimaFacie_percentagefault_insured      5456.0   \n",
       "4                      PolicyLimitPerInjury      4274.0   \n",
       "5                 PerOccurrence_PolicyLimit      4129.0   \n",
       "6                        MultipleInjuries_L      3058.0   \n",
       "7        PrimaFacie_percentagefault_injured      2768.0   \n",
       "8                           OtherInjuries_R      2618.0   \n",
       "9                                PolicyType      2550.0   \n",
       "10                             BackInjury_M      2543.0   \n",
       "11  PrimaFacie_percentagefault_otherinsured      2272.0   \n",
       "12             Work_related_injury_status_N      2014.0   \n",
       "13                    Perperson_Policylimit      1475.0   \n",
       "14          CollateralSourcesAvailability_N      1372.0   \n",
       "\n",
       "    normalized_importance  cumulative_importance  \n",
       "0                0.216367               0.216367  \n",
       "1                0.088211               0.304578  \n",
       "2                0.061933               0.366511  \n",
       "3                0.060622               0.427133  \n",
       "4                0.047489               0.474622  \n",
       "5                0.045878               0.520500  \n",
       "6                0.033978               0.554478  \n",
       "7                0.030756               0.585233  \n",
       "8                0.029089               0.614322  \n",
       "9                0.028333               0.642656  \n",
       "10               0.028256               0.670911  \n",
       "11               0.025244               0.696156  \n",
       "12               0.022378               0.718533  \n",
       "13               0.016389               0.734922  \n",
       "14               0.015244               0.750167  "
      ]
     },
     "execution_count": 135,
     "metadata": {},
     "output_type": "execute_result"
    }
   ],
   "source": [
    "fs.feature_importances.head(15)"
   ]
  },
  {
   "cell_type": "code",
   "execution_count": 138,
   "metadata": {},
   "outputs": [
    {
     "name": "stdout",
     "output_type": "stream",
     "text": [
      "29 features required for cumulative importance of 0.90 after one hot encoding.\n",
      "19985 features do not contribute to cumulative importance of 0.90.\n",
      "\n"
     ]
    }
   ],
   "source": [
    "fs.identify_low_importance(cumulative_importance = 0.90)"
   ]
  },
  {
   "cell_type": "code",
   "execution_count": 139,
   "metadata": {},
   "outputs": [
    {
     "data": {
      "text/plain": [
       "['Burns_heat_C',\n",
       " 'Eye_injury_blindness_G',\n",
       " 'PolicyForm',\n",
       " 'CirculatoryCondition_K',\n",
       " 'Medicare_Medicaid_Y']"
      ]
     },
     "execution_count": 139,
     "metadata": {},
     "output_type": "execute_result"
    }
   ],
   "source": [
    "low_importance_features = fs.ops['low_importance']\n",
    "low_importance_features[:5]"
   ]
  },
  {
   "cell_type": "code",
   "execution_count": 140,
   "metadata": {},
   "outputs": [
    {
     "name": "stdout",
     "output_type": "stream",
     "text": [
      "Removed 39 features.\n"
     ]
    }
   ],
   "source": [
    "train_no_missing = fs.remove(methods = ['missing'])"
   ]
  },
  {
   "cell_type": "code",
   "execution_count": 141,
   "metadata": {},
   "outputs": [
    {
     "name": "stdout",
     "output_type": "stream",
     "text": [
      "Removed 19976 features.\n"
     ]
    }
   ],
   "source": [
    "train_no_missing_zero = fs.remove(methods = ['missing', 'zero_importance'])"
   ]
  },
  {
   "cell_type": "code",
   "execution_count": 142,
   "metadata": {},
   "outputs": [
    {
     "name": "stdout",
     "output_type": "stream",
     "text": [
      "['missing', 'single_unique', 'collinear', 'zero_importance', 'low_importance'] methods have been run\n",
      "\n",
      "Removed 20042 features including one-hot features.\n"
     ]
    }
   ],
   "source": [
    "train_removed_all = fs.remove(methods = 'all', keep_one_hot=False)"
   ]
  },
  {
   "cell_type": "code",
   "execution_count": 143,
   "metadata": {},
   "outputs": [
    {
     "data": {
      "text/plain": [
       "Index(['Injury_Date', 'Date_reported', 'Age_Injured',\n",
       "       'Work_related_injury_status', 'Amputation', 'Death', 'Burns_heat',\n",
       "       'Burns_chemical', 'SystemicPoisoning_toxic', 'SystemicPoisoning_other',\n",
       "       'Eye_injury_blindness', 'RespiratoryCondition', 'NervousCondition',\n",
       "       'HearingLoss', 'CirculatoryCondition', 'MultipleInjuries', 'BackInjury',\n",
       "       'SkinDisorder', 'BrainDamage', 'Scarring', 'SpinalCordInjuries',\n",
       "       'OtherInjuries', 'OffRoadVehicle', 'AirTransportation', 'Railway',\n",
       "       'OtherMotorVehicle', 'SurgicalCare', 'Falls', 'Drowning',\n",
       "       'UseOfDefectiveProduct', 'Fire', 'Firearm', 'Pollution_ToxicExposure',\n",
       "       'Explosions', 'UseOfAgrlMachinery', 'Oil_gasExtraction',\n",
       "       'OtherModeOfInjury', 'Non_economicloss', 'Exemplarydamages',\n",
       "       'WhetherPrimaFacie_JointandSeveralLiability', 'WorkersCompAvailability',\n",
       "       'CollateralSourcesAvailability', 'MedicalInsurance',\n",
       "       'DisabilityInsurance', 'SocialSecurityBenefits', 'Medicare_Medicaid',\n",
       "       'Anyothercontributors', 'AnyMultipleInterestedparties',\n",
       "       'Match_Multiclaimant_multiInterestedparties_claim',\n",
       "       'PrimaFacie_percentagefault_injured',\n",
       "       'PrimaFacie_percentagefault_insured',\n",
       "       'PrimaFacie_percentagefault_otherinsured',\n",
       "       'PrimaFacie_percentagefault_uninsured', 'OtherCollateralSources',\n",
       "       'PolicyID', 'PolicyType', 'PolicyForm', 'Employment_status',\n",
       "       'BusinessClass', 'Perperson_Policylimit', 'PerOccurrence_PolicyLimit',\n",
       "       'CombinedSingleLimit', 'PolicyLimitPerInjury'],\n",
       "      dtype='object')"
      ]
     },
     "execution_count": 143,
     "metadata": {},
     "output_type": "execute_result"
    }
   ],
   "source": [
    "train.columns"
   ]
  },
  {
   "cell_type": "code",
   "execution_count": 144,
   "metadata": {},
   "outputs": [
    {
     "data": {
      "text/plain": [
       "Index(['Injury_Date', 'Date_reported', 'Age_Injured',\n",
       "       'Work_related_injury_status', 'Amputation', 'Death', 'Burns_heat',\n",
       "       'Burns_chemical', 'SystemicPoisoning_toxic', 'SystemicPoisoning_other',\n",
       "       'Eye_injury_blindness', 'RespiratoryCondition', 'NervousCondition',\n",
       "       'HearingLoss', 'CirculatoryCondition', 'MultipleInjuries', 'BackInjury',\n",
       "       'SkinDisorder', 'BrainDamage', 'Scarring', 'SpinalCordInjuries',\n",
       "       'OtherInjuries', 'OffRoadVehicle', 'AirTransportation', 'Railway',\n",
       "       'OtherMotorVehicle', 'SurgicalCare', 'Falls', 'Drowning',\n",
       "       'UseOfDefectiveProduct', 'Fire', 'Firearm', 'Pollution_ToxicExposure',\n",
       "       'Explosions', 'UseOfAgrlMachinery', 'Oil_gasExtraction',\n",
       "       'OtherModeOfInjury', 'Non_economicloss', 'Exemplarydamages',\n",
       "       'WhetherPrimaFacie_JointandSeveralLiability', 'WorkersCompAvailability',\n",
       "       'CollateralSourcesAvailability', 'MedicalInsurance',\n",
       "       'DisabilityInsurance', 'SocialSecurityBenefits', 'Medicare_Medicaid',\n",
       "       'Anyothercontributors', 'AnyMultipleInterestedparties',\n",
       "       'Match_Multiclaimant_multiInterestedparties_claim',\n",
       "       'PrimaFacie_percentagefault_injured',\n",
       "       'PrimaFacie_percentagefault_insured',\n",
       "       'PrimaFacie_percentagefault_otherinsured',\n",
       "       'PrimaFacie_percentagefault_uninsured', 'OtherCollateralSources',\n",
       "       'Provider', 'PolicyID', 'PolicyType', 'PolicyForm', 'Employment_status',\n",
       "       'BusinessClass', 'Perperson_Policylimit', 'PerOccurrence_PolicyLimit',\n",
       "       'CombinedSingleLimit', 'PolicyLimitPerInjury'],\n",
       "      dtype='object')"
      ]
     },
     "execution_count": 144,
     "metadata": {},
     "output_type": "execute_result"
    }
   ],
   "source": [
    "test.columns"
   ]
  },
  {
   "cell_type": "code",
   "execution_count": 168,
   "metadata": {},
   "outputs": [
    {
     "ename": "KeyboardInterrupt",
     "evalue": "",
     "output_type": "error",
     "traceback": [
      "\u001b[1;31m---------------------------------------------------------------------------\u001b[0m",
      "\u001b[1;31mKeyboardInterrupt\u001b[0m                         Traceback (most recent call last)",
      "\u001b[1;32m<ipython-input-168-4cf22e3f28fc>\u001b[0m in \u001b[0;36m<module>\u001b[1;34m()\u001b[0m\n\u001b[0;32m      2\u001b[0m \u001b[1;32mfor\u001b[0m \u001b[0mcols\u001b[0m \u001b[1;32min\u001b[0m \u001b[0mtest\u001b[0m\u001b[1;33m.\u001b[0m\u001b[0mcolumns\u001b[0m\u001b[1;33m:\u001b[0m\u001b[1;33m\u001b[0m\u001b[0m\n\u001b[0;32m      3\u001b[0m     \u001b[1;32mif\u001b[0m \u001b[0mcols\u001b[0m \u001b[1;32mnot\u001b[0m \u001b[1;32min\u001b[0m \u001b[0mcol_names\u001b[0m\u001b[1;33m:\u001b[0m\u001b[1;33m\u001b[0m\u001b[0m\n\u001b[1;32m----> 4\u001b[1;33m         \u001b[0mtest\u001b[0m \u001b[1;33m=\u001b[0m \u001b[0mtest\u001b[0m\u001b[1;33m.\u001b[0m\u001b[0mdrop\u001b[0m\u001b[1;33m(\u001b[0m\u001b[0mcols\u001b[0m\u001b[1;33m,\u001b[0m\u001b[0maxis\u001b[0m\u001b[1;33m=\u001b[0m\u001b[1;36m1\u001b[0m\u001b[1;33m)\u001b[0m\u001b[1;33m\u001b[0m\u001b[0m\n\u001b[0m",
      "\u001b[1;32m~\\AppData\\Roaming\\Python\\Python36\\site-packages\\pandas\\core\\frame.py\u001b[0m in \u001b[0;36mdrop\u001b[1;34m(self, labels, axis, index, columns, level, inplace, errors)\u001b[0m\n\u001b[0;32m   3695\u001b[0m                                            \u001b[0mindex\u001b[0m\u001b[1;33m=\u001b[0m\u001b[0mindex\u001b[0m\u001b[1;33m,\u001b[0m \u001b[0mcolumns\u001b[0m\u001b[1;33m=\u001b[0m\u001b[0mcolumns\u001b[0m\u001b[1;33m,\u001b[0m\u001b[1;33m\u001b[0m\u001b[0m\n\u001b[0;32m   3696\u001b[0m                                            \u001b[0mlevel\u001b[0m\u001b[1;33m=\u001b[0m\u001b[0mlevel\u001b[0m\u001b[1;33m,\u001b[0m \u001b[0minplace\u001b[0m\u001b[1;33m=\u001b[0m\u001b[0minplace\u001b[0m\u001b[1;33m,\u001b[0m\u001b[1;33m\u001b[0m\u001b[0m\n\u001b[1;32m-> 3697\u001b[1;33m                                            errors=errors)\n\u001b[0m\u001b[0;32m   3698\u001b[0m \u001b[1;33m\u001b[0m\u001b[0m\n\u001b[0;32m   3699\u001b[0m     @rewrite_axis_style_signature('mapper', [('copy', True),\n",
      "\u001b[1;32m~\\AppData\\Roaming\\Python\\Python36\\site-packages\\pandas\\core\\generic.py\u001b[0m in \u001b[0;36mdrop\u001b[1;34m(self, labels, axis, index, columns, level, inplace, errors)\u001b[0m\n\u001b[0;32m   3109\u001b[0m         \u001b[1;32mfor\u001b[0m \u001b[0maxis\u001b[0m\u001b[1;33m,\u001b[0m \u001b[0mlabels\u001b[0m \u001b[1;32min\u001b[0m \u001b[0maxes\u001b[0m\u001b[1;33m.\u001b[0m\u001b[0mitems\u001b[0m\u001b[1;33m(\u001b[0m\u001b[1;33m)\u001b[0m\u001b[1;33m:\u001b[0m\u001b[1;33m\u001b[0m\u001b[0m\n\u001b[0;32m   3110\u001b[0m             \u001b[1;32mif\u001b[0m \u001b[0mlabels\u001b[0m \u001b[1;32mis\u001b[0m \u001b[1;32mnot\u001b[0m \u001b[1;32mNone\u001b[0m\u001b[1;33m:\u001b[0m\u001b[1;33m\u001b[0m\u001b[0m\n\u001b[1;32m-> 3111\u001b[1;33m                 \u001b[0mobj\u001b[0m \u001b[1;33m=\u001b[0m \u001b[0mobj\u001b[0m\u001b[1;33m.\u001b[0m\u001b[0m_drop_axis\u001b[0m\u001b[1;33m(\u001b[0m\u001b[0mlabels\u001b[0m\u001b[1;33m,\u001b[0m \u001b[0maxis\u001b[0m\u001b[1;33m,\u001b[0m \u001b[0mlevel\u001b[0m\u001b[1;33m=\u001b[0m\u001b[0mlevel\u001b[0m\u001b[1;33m,\u001b[0m \u001b[0merrors\u001b[0m\u001b[1;33m=\u001b[0m\u001b[0merrors\u001b[0m\u001b[1;33m)\u001b[0m\u001b[1;33m\u001b[0m\u001b[0m\n\u001b[0m\u001b[0;32m   3112\u001b[0m \u001b[1;33m\u001b[0m\u001b[0m\n\u001b[0;32m   3113\u001b[0m         \u001b[1;32mif\u001b[0m \u001b[0minplace\u001b[0m\u001b[1;33m:\u001b[0m\u001b[1;33m\u001b[0m\u001b[0m\n",
      "\u001b[1;32m~\\AppData\\Roaming\\Python\\Python36\\site-packages\\pandas\\core\\generic.py\u001b[0m in \u001b[0;36m_drop_axis\u001b[1;34m(self, labels, axis, level, errors)\u001b[0m\n\u001b[0;32m   3142\u001b[0m             \u001b[1;32melse\u001b[0m\u001b[1;33m:\u001b[0m\u001b[1;33m\u001b[0m\u001b[0m\n\u001b[0;32m   3143\u001b[0m                 \u001b[0mnew_axis\u001b[0m \u001b[1;33m=\u001b[0m \u001b[0maxis\u001b[0m\u001b[1;33m.\u001b[0m\u001b[0mdrop\u001b[0m\u001b[1;33m(\u001b[0m\u001b[0mlabels\u001b[0m\u001b[1;33m,\u001b[0m \u001b[0merrors\u001b[0m\u001b[1;33m=\u001b[0m\u001b[0merrors\u001b[0m\u001b[1;33m)\u001b[0m\u001b[1;33m\u001b[0m\u001b[0m\n\u001b[1;32m-> 3144\u001b[1;33m             \u001b[0mresult\u001b[0m \u001b[1;33m=\u001b[0m \u001b[0mself\u001b[0m\u001b[1;33m.\u001b[0m\u001b[0mreindex\u001b[0m\u001b[1;33m(\u001b[0m\u001b[1;33m**\u001b[0m\u001b[1;33m{\u001b[0m\u001b[0maxis_name\u001b[0m\u001b[1;33m:\u001b[0m \u001b[0mnew_axis\u001b[0m\u001b[1;33m}\u001b[0m\u001b[1;33m)\u001b[0m\u001b[1;33m\u001b[0m\u001b[0m\n\u001b[0m\u001b[0;32m   3145\u001b[0m \u001b[1;33m\u001b[0m\u001b[0m\n\u001b[0;32m   3146\u001b[0m         \u001b[1;31m# Case for non-unique axis\u001b[0m\u001b[1;33m\u001b[0m\u001b[1;33m\u001b[0m\u001b[0m\n",
      "\u001b[1;32m~\\AppData\\Roaming\\Python\\Python36\\site-packages\\pandas\\util\\_decorators.py\u001b[0m in \u001b[0;36mwrapper\u001b[1;34m(*args, **kwargs)\u001b[0m\n\u001b[0;32m    185\u001b[0m         \u001b[1;33m@\u001b[0m\u001b[0mwraps\u001b[0m\u001b[1;33m(\u001b[0m\u001b[0mfunc\u001b[0m\u001b[1;33m)\u001b[0m\u001b[1;33m\u001b[0m\u001b[0m\n\u001b[0;32m    186\u001b[0m         \u001b[1;32mdef\u001b[0m \u001b[0mwrapper\u001b[0m\u001b[1;33m(\u001b[0m\u001b[1;33m*\u001b[0m\u001b[0margs\u001b[0m\u001b[1;33m,\u001b[0m \u001b[1;33m**\u001b[0m\u001b[0mkwargs\u001b[0m\u001b[1;33m)\u001b[0m\u001b[1;33m:\u001b[0m\u001b[1;33m\u001b[0m\u001b[0m\n\u001b[1;32m--> 187\u001b[1;33m             \u001b[1;32mreturn\u001b[0m \u001b[0mfunc\u001b[0m\u001b[1;33m(\u001b[0m\u001b[1;33m*\u001b[0m\u001b[0margs\u001b[0m\u001b[1;33m,\u001b[0m \u001b[1;33m**\u001b[0m\u001b[0mkwargs\u001b[0m\u001b[1;33m)\u001b[0m\u001b[1;33m\u001b[0m\u001b[0m\n\u001b[0m\u001b[0;32m    188\u001b[0m \u001b[1;33m\u001b[0m\u001b[0m\n\u001b[0;32m    189\u001b[0m         \u001b[1;32mif\u001b[0m \u001b[1;32mnot\u001b[0m \u001b[0mPY2\u001b[0m\u001b[1;33m:\u001b[0m\u001b[1;33m\u001b[0m\u001b[0m\n",
      "\u001b[1;32m~\\AppData\\Roaming\\Python\\Python36\\site-packages\\pandas\\core\\frame.py\u001b[0m in \u001b[0;36mreindex\u001b[1;34m(self, *args, **kwargs)\u001b[0m\n\u001b[0;32m   3564\u001b[0m         \u001b[0mkwargs\u001b[0m\u001b[1;33m.\u001b[0m\u001b[0mpop\u001b[0m\u001b[1;33m(\u001b[0m\u001b[1;34m'axis'\u001b[0m\u001b[1;33m,\u001b[0m \u001b[1;32mNone\u001b[0m\u001b[1;33m)\u001b[0m\u001b[1;33m\u001b[0m\u001b[0m\n\u001b[0;32m   3565\u001b[0m         \u001b[0mkwargs\u001b[0m\u001b[1;33m.\u001b[0m\u001b[0mpop\u001b[0m\u001b[1;33m(\u001b[0m\u001b[1;34m'labels'\u001b[0m\u001b[1;33m,\u001b[0m \u001b[1;32mNone\u001b[0m\u001b[1;33m)\u001b[0m\u001b[1;33m\u001b[0m\u001b[0m\n\u001b[1;32m-> 3566\u001b[1;33m         \u001b[1;32mreturn\u001b[0m \u001b[0msuper\u001b[0m\u001b[1;33m(\u001b[0m\u001b[0mDataFrame\u001b[0m\u001b[1;33m,\u001b[0m \u001b[0mself\u001b[0m\u001b[1;33m)\u001b[0m\u001b[1;33m.\u001b[0m\u001b[0mreindex\u001b[0m\u001b[1;33m(\u001b[0m\u001b[1;33m**\u001b[0m\u001b[0mkwargs\u001b[0m\u001b[1;33m)\u001b[0m\u001b[1;33m\u001b[0m\u001b[0m\n\u001b[0m\u001b[0;32m   3567\u001b[0m \u001b[1;33m\u001b[0m\u001b[0m\n\u001b[0;32m   3568\u001b[0m     \u001b[1;33m@\u001b[0m\u001b[0mAppender\u001b[0m\u001b[1;33m(\u001b[0m\u001b[0m_shared_docs\u001b[0m\u001b[1;33m[\u001b[0m\u001b[1;34m'reindex_axis'\u001b[0m\u001b[1;33m]\u001b[0m \u001b[1;33m%\u001b[0m \u001b[0m_shared_doc_kwargs\u001b[0m\u001b[1;33m)\u001b[0m\u001b[1;33m\u001b[0m\u001b[0m\n",
      "\u001b[1;32m~\\AppData\\Roaming\\Python\\Python36\\site-packages\\pandas\\core\\generic.py\u001b[0m in \u001b[0;36mreindex\u001b[1;34m(self, *args, **kwargs)\u001b[0m\n\u001b[0;32m   3687\u001b[0m         \u001b[1;31m# perform the reindex on the axes\u001b[0m\u001b[1;33m\u001b[0m\u001b[1;33m\u001b[0m\u001b[0m\n\u001b[0;32m   3688\u001b[0m         return self._reindex_axes(axes, level, limit, tolerance, method,\n\u001b[1;32m-> 3689\u001b[1;33m                                   fill_value, copy).__finalize__(self)\n\u001b[0m\u001b[0;32m   3690\u001b[0m \u001b[1;33m\u001b[0m\u001b[0m\n\u001b[0;32m   3691\u001b[0m     def _reindex_axes(self, axes, level, limit, tolerance, method, fill_value,\n",
      "\u001b[1;32m~\\AppData\\Roaming\\Python\\Python36\\site-packages\\pandas\\core\\frame.py\u001b[0m in \u001b[0;36m_reindex_axes\u001b[1;34m(self, axes, level, limit, tolerance, method, fill_value, copy)\u001b[0m\n\u001b[0;32m   3494\u001b[0m         \u001b[1;32mif\u001b[0m \u001b[0mcolumns\u001b[0m \u001b[1;32mis\u001b[0m \u001b[1;32mnot\u001b[0m \u001b[1;32mNone\u001b[0m\u001b[1;33m:\u001b[0m\u001b[1;33m\u001b[0m\u001b[0m\n\u001b[0;32m   3495\u001b[0m             frame = frame._reindex_columns(columns, method, copy, level,\n\u001b[1;32m-> 3496\u001b[1;33m                                            fill_value, limit, tolerance)\n\u001b[0m\u001b[0;32m   3497\u001b[0m \u001b[1;33m\u001b[0m\u001b[0m\n\u001b[0;32m   3498\u001b[0m         \u001b[0mindex\u001b[0m \u001b[1;33m=\u001b[0m \u001b[0maxes\u001b[0m\u001b[1;33m[\u001b[0m\u001b[1;34m'index'\u001b[0m\u001b[1;33m]\u001b[0m\u001b[1;33m\u001b[0m\u001b[0m\n",
      "\u001b[1;32m~\\AppData\\Roaming\\Python\\Python36\\site-packages\\pandas\\core\\frame.py\u001b[0m in \u001b[0;36m_reindex_columns\u001b[1;34m(self, new_columns, method, copy, level, fill_value, limit, tolerance)\u001b[0m\n\u001b[0;32m   3519\u001b[0m         return self._reindex_with_indexers({1: [new_columns, indexer]},\n\u001b[0;32m   3520\u001b[0m                                            \u001b[0mcopy\u001b[0m\u001b[1;33m=\u001b[0m\u001b[0mcopy\u001b[0m\u001b[1;33m,\u001b[0m \u001b[0mfill_value\u001b[0m\u001b[1;33m=\u001b[0m\u001b[0mfill_value\u001b[0m\u001b[1;33m,\u001b[0m\u001b[1;33m\u001b[0m\u001b[0m\n\u001b[1;32m-> 3521\u001b[1;33m                                            allow_dups=False)\n\u001b[0m\u001b[0;32m   3522\u001b[0m \u001b[1;33m\u001b[0m\u001b[0m\n\u001b[0;32m   3523\u001b[0m     \u001b[1;32mdef\u001b[0m \u001b[0m_reindex_multi\u001b[0m\u001b[1;33m(\u001b[0m\u001b[0mself\u001b[0m\u001b[1;33m,\u001b[0m \u001b[0maxes\u001b[0m\u001b[1;33m,\u001b[0m \u001b[0mcopy\u001b[0m\u001b[1;33m,\u001b[0m \u001b[0mfill_value\u001b[0m\u001b[1;33m)\u001b[0m\u001b[1;33m:\u001b[0m\u001b[1;33m\u001b[0m\u001b[0m\n",
      "\u001b[1;32m~\\AppData\\Roaming\\Python\\Python36\\site-packages\\pandas\\core\\generic.py\u001b[0m in \u001b[0;36m_reindex_with_indexers\u001b[1;34m(self, reindexers, fill_value, copy, allow_dups)\u001b[0m\n\u001b[0;32m   3808\u001b[0m                                                 \u001b[0mfill_value\u001b[0m\u001b[1;33m=\u001b[0m\u001b[0mfill_value\u001b[0m\u001b[1;33m,\u001b[0m\u001b[1;33m\u001b[0m\u001b[0m\n\u001b[0;32m   3809\u001b[0m                                                 \u001b[0mallow_dups\u001b[0m\u001b[1;33m=\u001b[0m\u001b[0mallow_dups\u001b[0m\u001b[1;33m,\u001b[0m\u001b[1;33m\u001b[0m\u001b[0m\n\u001b[1;32m-> 3810\u001b[1;33m                                                 copy=copy)\n\u001b[0m\u001b[0;32m   3811\u001b[0m \u001b[1;33m\u001b[0m\u001b[0m\n\u001b[0;32m   3812\u001b[0m         \u001b[1;32mif\u001b[0m \u001b[0mcopy\u001b[0m \u001b[1;32mand\u001b[0m \u001b[0mnew_data\u001b[0m \u001b[1;32mis\u001b[0m \u001b[0mself\u001b[0m\u001b[1;33m.\u001b[0m\u001b[0m_data\u001b[0m\u001b[1;33m:\u001b[0m\u001b[1;33m\u001b[0m\u001b[0m\n",
      "\u001b[1;32m~\\AppData\\Roaming\\Python\\Python36\\site-packages\\pandas\\core\\internals.py\u001b[0m in \u001b[0;36mreindex_indexer\u001b[1;34m(self, new_axis, indexer, axis, fill_value, allow_dups, copy)\u001b[0m\n\u001b[0;32m   4419\u001b[0m         \u001b[1;32mif\u001b[0m \u001b[0maxis\u001b[0m \u001b[1;33m==\u001b[0m \u001b[1;36m0\u001b[0m\u001b[1;33m:\u001b[0m\u001b[1;33m\u001b[0m\u001b[0m\n\u001b[0;32m   4420\u001b[0m             new_blocks = self._slice_take_blocks_ax0(indexer,\n\u001b[1;32m-> 4421\u001b[1;33m                                                      fill_tuple=(fill_value,))\n\u001b[0m\u001b[0;32m   4422\u001b[0m         \u001b[1;32melse\u001b[0m\u001b[1;33m:\u001b[0m\u001b[1;33m\u001b[0m\u001b[0m\n\u001b[0;32m   4423\u001b[0m             new_blocks = [blk.take_nd(indexer, axis=axis, fill_tuple=(\n",
      "\u001b[1;32m~\\AppData\\Roaming\\Python\\Python36\\site-packages\\pandas\\core\\internals.py\u001b[0m in \u001b[0;36m_slice_take_blocks_ax0\u001b[1;34m(self, slice_or_indexer, fill_tuple)\u001b[0m\n\u001b[0;32m   4499\u001b[0m                     blocks.append(blk.take_nd(blklocs[mgr_locs.indexer],\n\u001b[0;32m   4500\u001b[0m                                               \u001b[0maxis\u001b[0m\u001b[1;33m=\u001b[0m\u001b[1;36m0\u001b[0m\u001b[1;33m,\u001b[0m \u001b[0mnew_mgr_locs\u001b[0m\u001b[1;33m=\u001b[0m\u001b[0mmgr_locs\u001b[0m\u001b[1;33m,\u001b[0m\u001b[1;33m\u001b[0m\u001b[0m\n\u001b[1;32m-> 4501\u001b[1;33m                                               fill_tuple=None))\n\u001b[0m\u001b[0;32m   4502\u001b[0m \u001b[1;33m\u001b[0m\u001b[0m\n\u001b[0;32m   4503\u001b[0m         \u001b[1;32mreturn\u001b[0m \u001b[0mblocks\u001b[0m\u001b[1;33m\u001b[0m\u001b[0m\n",
      "\u001b[1;32m~\\AppData\\Roaming\\Python\\Python36\\site-packages\\pandas\\core\\internals.py\u001b[0m in \u001b[0;36mtake_nd\u001b[1;34m(self, indexer, axis, new_mgr_locs, fill_tuple)\u001b[0m\n\u001b[0;32m   1252\u001b[0m             \u001b[0mfill_value\u001b[0m \u001b[1;33m=\u001b[0m \u001b[0mself\u001b[0m\u001b[1;33m.\u001b[0m\u001b[0mfill_value\u001b[0m\u001b[1;33m\u001b[0m\u001b[0m\n\u001b[0;32m   1253\u001b[0m             new_values = algos.take_nd(values, indexer, axis=axis,\n\u001b[1;32m-> 1254\u001b[1;33m                                        allow_fill=False)\n\u001b[0m\u001b[0;32m   1255\u001b[0m         \u001b[1;32melse\u001b[0m\u001b[1;33m:\u001b[0m\u001b[1;33m\u001b[0m\u001b[0m\n\u001b[0;32m   1256\u001b[0m             \u001b[0mfill_value\u001b[0m \u001b[1;33m=\u001b[0m \u001b[0mfill_tuple\u001b[0m\u001b[1;33m[\u001b[0m\u001b[1;36m0\u001b[0m\u001b[1;33m]\u001b[0m\u001b[1;33m\u001b[0m\u001b[0m\n",
      "\u001b[1;32m~\\AppData\\Roaming\\Python\\Python36\\site-packages\\pandas\\core\\algorithms.py\u001b[0m in \u001b[0;36mtake_nd\u001b[1;34m(arr, indexer, axis, out, fill_value, mask_info, allow_fill)\u001b[0m\n\u001b[0;32m   1657\u001b[0m     func = _get_take_nd_function(arr.ndim, arr.dtype, out.dtype, axis=axis,\n\u001b[0;32m   1658\u001b[0m                                  mask_info=mask_info)\n\u001b[1;32m-> 1659\u001b[1;33m     \u001b[0mfunc\u001b[0m\u001b[1;33m(\u001b[0m\u001b[0marr\u001b[0m\u001b[1;33m,\u001b[0m \u001b[0mindexer\u001b[0m\u001b[1;33m,\u001b[0m \u001b[0mout\u001b[0m\u001b[1;33m,\u001b[0m \u001b[0mfill_value\u001b[0m\u001b[1;33m)\u001b[0m\u001b[1;33m\u001b[0m\u001b[0m\n\u001b[0m\u001b[0;32m   1660\u001b[0m \u001b[1;33m\u001b[0m\u001b[0m\n\u001b[0;32m   1661\u001b[0m     \u001b[1;32mif\u001b[0m \u001b[0mflip_order\u001b[0m\u001b[1;33m:\u001b[0m\u001b[1;33m\u001b[0m\u001b[0m\n",
      "\u001b[1;32m~\\AppData\\Roaming\\Python\\Python36\\site-packages\\pandas\\core\\algorithms.py\u001b[0m in \u001b[0;36mfunc\u001b[1;34m(arr, indexer, out, fill_value)\u001b[0m\n\u001b[0;32m   1447\u001b[0m         \u001b[0mindexer\u001b[0m \u001b[1;33m=\u001b[0m \u001b[0m_ensure_int64\u001b[0m\u001b[1;33m(\u001b[0m\u001b[0mindexer\u001b[0m\u001b[1;33m)\u001b[0m\u001b[1;33m\u001b[0m\u001b[0m\n\u001b[0;32m   1448\u001b[0m         _take_nd_object(arr, indexer, out, axis=axis, fill_value=fill_value,\n\u001b[1;32m-> 1449\u001b[1;33m                         mask_info=mask_info)\n\u001b[0m\u001b[0;32m   1450\u001b[0m \u001b[1;33m\u001b[0m\u001b[0m\n\u001b[0;32m   1451\u001b[0m     \u001b[1;32mreturn\u001b[0m \u001b[0mfunc\u001b[0m\u001b[1;33m\u001b[0m\u001b[0m\n",
      "\u001b[1;32m~\\AppData\\Roaming\\Python\\Python36\\site-packages\\pandas\\core\\algorithms.py\u001b[0m in \u001b[0;36m_take_nd_object\u001b[1;34m(arr, indexer, out, axis, fill_value, mask_info)\u001b[0m\n\u001b[0;32m   1304\u001b[0m         \u001b[0marr\u001b[0m \u001b[1;33m=\u001b[0m \u001b[0marr\u001b[0m\u001b[1;33m.\u001b[0m\u001b[0mastype\u001b[0m\u001b[1;33m(\u001b[0m\u001b[0mout\u001b[0m\u001b[1;33m.\u001b[0m\u001b[0mdtype\u001b[0m\u001b[1;33m)\u001b[0m\u001b[1;33m\u001b[0m\u001b[0m\n\u001b[0;32m   1305\u001b[0m     \u001b[1;32mif\u001b[0m \u001b[0marr\u001b[0m\u001b[1;33m.\u001b[0m\u001b[0mshape\u001b[0m\u001b[1;33m[\u001b[0m\u001b[0maxis\u001b[0m\u001b[1;33m]\u001b[0m \u001b[1;33m>\u001b[0m \u001b[1;36m0\u001b[0m\u001b[1;33m:\u001b[0m\u001b[1;33m\u001b[0m\u001b[0m\n\u001b[1;32m-> 1306\u001b[1;33m         \u001b[0marr\u001b[0m\u001b[1;33m.\u001b[0m\u001b[0mtake\u001b[0m\u001b[1;33m(\u001b[0m\u001b[0m_ensure_platform_int\u001b[0m\u001b[1;33m(\u001b[0m\u001b[0mindexer\u001b[0m\u001b[1;33m)\u001b[0m\u001b[1;33m,\u001b[0m \u001b[0maxis\u001b[0m\u001b[1;33m=\u001b[0m\u001b[0maxis\u001b[0m\u001b[1;33m,\u001b[0m \u001b[0mout\u001b[0m\u001b[1;33m=\u001b[0m\u001b[0mout\u001b[0m\u001b[1;33m)\u001b[0m\u001b[1;33m\u001b[0m\u001b[0m\n\u001b[0m\u001b[0;32m   1307\u001b[0m     \u001b[1;32mif\u001b[0m \u001b[0mneeds_masking\u001b[0m\u001b[1;33m:\u001b[0m\u001b[1;33m\u001b[0m\u001b[0m\n\u001b[0;32m   1308\u001b[0m         \u001b[0moutindexer\u001b[0m \u001b[1;33m=\u001b[0m \u001b[1;33m[\u001b[0m\u001b[0mslice\u001b[0m\u001b[1;33m(\u001b[0m\u001b[1;32mNone\u001b[0m\u001b[1;33m)\u001b[0m\u001b[1;33m]\u001b[0m \u001b[1;33m*\u001b[0m \u001b[0marr\u001b[0m\u001b[1;33m.\u001b[0m\u001b[0mndim\u001b[0m\u001b[1;33m\u001b[0m\u001b[0m\n",
      "\u001b[1;31mKeyboardInterrupt\u001b[0m: "
     ]
    }
   ],
   "source": [
    "col_names = train_removed_all.columns\n",
    "for cols in test.columns:\n",
    "    if cols not in col_names:\n",
    "        test = test.drop(cols,axis=1)"
   ]
  },
  {
   "cell_type": "code",
   "execution_count": 230,
   "metadata": {},
   "outputs": [
    {
     "data": {
      "text/plain": [
       "Index(['Injury_Date', 'Date_reported', 'Age_Injured', 'Non_economicloss',\n",
       "       'Exemplarydamages', 'WhetherPrimaFacie_JointandSeveralLiability',\n",
       "       'WorkersCompAvailability', 'CollateralSourcesAvailability',\n",
       "       'Anyothercontributors', 'PrimaFacie_percentagefault_injured',\n",
       "       'PrimaFacie_percentagefault_insured',\n",
       "       'PrimaFacie_percentagefault_otherinsured',\n",
       "       'PrimaFacie_percentagefault_uninsured', 'PolicyID', 'PolicyType',\n",
       "       'Employment_status', 'BusinessClass', 'Perperson_Policylimit',\n",
       "       'PerOccurrence_PolicyLimit', 'CombinedSingleLimit'],\n",
       "      dtype='object')"
      ]
     },
     "execution_count": 230,
     "metadata": {},
     "output_type": "execute_result"
    }
   ],
   "source": [
    "train = train_removed_all\n",
    "train.columns"
   ]
  },
  {
   "cell_type": "code",
   "execution_count": 231,
   "metadata": {},
   "outputs": [
    {
     "data": {
      "text/plain": [
       "lessthan100K         7427\n",
       "100K-lessthan200K    3768\n",
       "200KandAbove         3222\n",
       "Name: ClaimSize, dtype: int64"
      ]
     },
     "execution_count": 231,
     "metadata": {},
     "output_type": "execute_result"
    }
   ],
   "source": [
    "train_labels.value_counts()"
   ]
  },
  {
   "cell_type": "code",
   "execution_count": 232,
   "metadata": {},
   "outputs": [
    {
     "data": {
      "text/plain": [
       "(14417, 20)"
      ]
     },
     "execution_count": 232,
     "metadata": {},
     "output_type": "execute_result"
    }
   ],
   "source": [
    "train.shape"
   ]
  },
  {
   "cell_type": "code",
   "execution_count": 233,
   "metadata": {},
   "outputs": [
    {
     "data": {
      "text/plain": [
       "Index(['Injury_Date', 'Date_reported', 'Age_Injured', 'Non_economicloss',\n",
       "       'Exemplarydamages', 'WhetherPrimaFacie_JointandSeveralLiability',\n",
       "       'WorkersCompAvailability', 'CollateralSourcesAvailability',\n",
       "       'Anyothercontributors', 'PrimaFacie_percentagefault_injured',\n",
       "       'PrimaFacie_percentagefault_insured',\n",
       "       'PrimaFacie_percentagefault_otherinsured',\n",
       "       'PrimaFacie_percentagefault_uninsured', 'PolicyID', 'PolicyType',\n",
       "       'Employment_status', 'BusinessClass', 'Perperson_Policylimit',\n",
       "       'PerOccurrence_PolicyLimit', 'CombinedSingleLimit'],\n",
       "      dtype='object')"
      ]
     },
     "execution_count": 233,
     "metadata": {},
     "output_type": "execute_result"
    }
   ],
   "source": [
    "train.columns"
   ]
  },
  {
   "cell_type": "code",
   "execution_count": 234,
   "metadata": {},
   "outputs": [
    {
     "data": {
      "text/plain": [
       "Injury_Date                                   category\n",
       "Date_reported                                 category\n",
       "Age_Injured                                    float64\n",
       "Non_economicloss                              category\n",
       "Exemplarydamages                              category\n",
       "WhetherPrimaFacie_JointandSeveralLiability    category\n",
       "WorkersCompAvailability                       category\n",
       "CollateralSourcesAvailability                 category\n",
       "Anyothercontributors                           float64\n",
       "PrimaFacie_percentagefault_injured             float64\n",
       "PrimaFacie_percentagefault_insured             float64\n",
       "PrimaFacie_percentagefault_otherinsured        float64\n",
       "PrimaFacie_percentagefault_uninsured           float64\n",
       "PolicyID                                      category\n",
       "PolicyType                                     float64\n",
       "Employment_status                             category\n",
       "BusinessClass                                  float64\n",
       "Perperson_Policylimit                          float64\n",
       "PerOccurrence_PolicyLimit                      float64\n",
       "CombinedSingleLimit                            float64\n",
       "dtype: object"
      ]
     },
     "execution_count": 234,
     "metadata": {},
     "output_type": "execute_result"
    }
   ],
   "source": [
    "train.dtypes"
   ]
  },
  {
   "cell_type": "code",
   "execution_count": 235,
   "metadata": {},
   "outputs": [
    {
     "data": {
      "text/plain": [
       "Injury_Date                                         category\n",
       "Date_reported                                       category\n",
       "Age_Injured                                          float64\n",
       "Work_related_injury_status                          category\n",
       "Amputation                                          category\n",
       "Death                                               category\n",
       "Burns_heat                                          category\n",
       "Burns_chemical                                      category\n",
       "SystemicPoisoning_toxic                             category\n",
       "SystemicPoisoning_other                             category\n",
       "Eye_injury_blindness                                category\n",
       "RespiratoryCondition                                category\n",
       "NervousCondition                                    category\n",
       "HearingLoss                                         category\n",
       "CirculatoryCondition                                category\n",
       "MultipleInjuries                                    category\n",
       "BackInjury                                          category\n",
       "SkinDisorder                                        category\n",
       "BrainDamage                                         category\n",
       "Scarring                                            category\n",
       "SpinalCordInjuries                                  category\n",
       "OtherInjuries                                       category\n",
       "OffRoadVehicle                                      category\n",
       "AirTransportation                                   category\n",
       "Railway                                             category\n",
       "OtherMotorVehicle                                   category\n",
       "SurgicalCare                                        category\n",
       "Falls                                               category\n",
       "Drowning                                            category\n",
       "UseOfDefectiveProduct                               category\n",
       "                                                      ...   \n",
       "UseOfAgrlMachinery                                  category\n",
       "Oil_gasExtraction                                   category\n",
       "OtherModeOfInjury                                   category\n",
       "Non_economicloss                                    category\n",
       "Exemplarydamages                                    category\n",
       "WhetherPrimaFacie_JointandSeveralLiability          category\n",
       "WorkersCompAvailability                             category\n",
       "CollateralSourcesAvailability                       category\n",
       "MedicalInsurance                                    category\n",
       "DisabilityInsurance                                 category\n",
       "SocialSecurityBenefits                              category\n",
       "Medicare_Medicaid                                   category\n",
       "Anyothercontributors                                   int64\n",
       "AnyMultipleInterestedparties                           int64\n",
       "Match_Multiclaimant_multiInterestedparties_claim       int64\n",
       "PrimaFacie_percentagefault_injured                     int64\n",
       "PrimaFacie_percentagefault_insured                     int64\n",
       "PrimaFacie_percentagefault_otherinsured                int64\n",
       "PrimaFacie_percentagefault_uninsured                   int64\n",
       "OtherCollateralSources                              category\n",
       "Provider                                            category\n",
       "PolicyID                                            category\n",
       "PolicyType                                             int64\n",
       "PolicyForm                                             int64\n",
       "Employment_status                                   category\n",
       "BusinessClass                                          int64\n",
       "Perperson_Policylimit                                  int64\n",
       "PerOccurrence_PolicyLimit                              int64\n",
       "CombinedSingleLimit                                    int64\n",
       "PolicyLimitPerInjury                                   int64\n",
       "Length: 64, dtype: object"
      ]
     },
     "execution_count": 235,
     "metadata": {},
     "output_type": "execute_result"
    }
   ],
   "source": [
    "test.dtypes"
   ]
  },
  {
   "cell_type": "code",
   "execution_count": 236,
   "metadata": {},
   "outputs": [],
   "source": [
    "col_names = list(train.columns.values)"
   ]
  },
  {
   "cell_type": "code",
   "execution_count": 237,
   "metadata": {},
   "outputs": [],
   "source": [
    "test = pd.DataFrame(test,columns = col_names )"
   ]
  },
  {
   "cell_type": "code",
   "execution_count": 238,
   "metadata": {},
   "outputs": [
    {
     "data": {
      "text/plain": [
       "Injury_Date                                   category\n",
       "Date_reported                                 category\n",
       "Age_Injured                                    float64\n",
       "Non_economicloss                              category\n",
       "Exemplarydamages                              category\n",
       "WhetherPrimaFacie_JointandSeveralLiability    category\n",
       "WorkersCompAvailability                       category\n",
       "CollateralSourcesAvailability                 category\n",
       "Anyothercontributors                             int64\n",
       "PrimaFacie_percentagefault_injured               int64\n",
       "PrimaFacie_percentagefault_insured               int64\n",
       "PrimaFacie_percentagefault_otherinsured          int64\n",
       "PrimaFacie_percentagefault_uninsured             int64\n",
       "PolicyID                                      category\n",
       "PolicyType                                       int64\n",
       "Employment_status                             category\n",
       "BusinessClass                                    int64\n",
       "Perperson_Policylimit                            int64\n",
       "PerOccurrence_PolicyLimit                        int64\n",
       "CombinedSingleLimit                              int64\n",
       "dtype: object"
      ]
     },
     "execution_count": 238,
     "metadata": {},
     "output_type": "execute_result"
    }
   ],
   "source": [
    "test.dtypes"
   ]
  },
  {
   "cell_type": "code",
   "execution_count": 239,
   "metadata": {},
   "outputs": [
    {
     "name": "stdout",
     "output_type": "stream",
     "text": [
      "(14417, 20) (4806, 20)\n"
     ]
    }
   ],
   "source": [
    "print(train.shape, test.shape)"
   ]
  },
  {
   "cell_type": "code",
   "execution_count": 240,
   "metadata": {},
   "outputs": [
    {
     "data": {
      "text/plain": [
       "Injury_Date                                   0\n",
       "Date_reported                                 0\n",
       "Age_Injured                                   0\n",
       "Non_economicloss                              0\n",
       "Exemplarydamages                              0\n",
       "WhetherPrimaFacie_JointandSeveralLiability    0\n",
       "WorkersCompAvailability                       0\n",
       "CollateralSourcesAvailability                 0\n",
       "Anyothercontributors                          0\n",
       "PrimaFacie_percentagefault_injured            0\n",
       "PrimaFacie_percentagefault_insured            0\n",
       "PrimaFacie_percentagefault_otherinsured       0\n",
       "PrimaFacie_percentagefault_uninsured          0\n",
       "PolicyID                                      0\n",
       "PolicyType                                    0\n",
       "Employment_status                             0\n",
       "BusinessClass                                 0\n",
       "Perperson_Policylimit                         0\n",
       "PerOccurrence_PolicyLimit                     0\n",
       "CombinedSingleLimit                           0\n",
       "dtype: int64"
      ]
     },
     "execution_count": 240,
     "metadata": {},
     "output_type": "execute_result"
    }
   ],
   "source": [
    "train.isnull().sum()"
   ]
  },
  {
   "cell_type": "code",
   "execution_count": 241,
   "metadata": {},
   "outputs": [
    {
     "data": {
      "text/plain": [
       "Injury_Date                                   0\n",
       "Date_reported                                 0\n",
       "Age_Injured                                   0\n",
       "Non_economicloss                              0\n",
       "Exemplarydamages                              0\n",
       "WhetherPrimaFacie_JointandSeveralLiability    0\n",
       "WorkersCompAvailability                       0\n",
       "CollateralSourcesAvailability                 0\n",
       "Anyothercontributors                          0\n",
       "PrimaFacie_percentagefault_injured            0\n",
       "PrimaFacie_percentagefault_insured            0\n",
       "PrimaFacie_percentagefault_otherinsured       0\n",
       "PrimaFacie_percentagefault_uninsured          0\n",
       "PolicyID                                      0\n",
       "PolicyType                                    0\n",
       "Employment_status                             0\n",
       "BusinessClass                                 0\n",
       "Perperson_Policylimit                         0\n",
       "PerOccurrence_PolicyLimit                     0\n",
       "CombinedSingleLimit                           0\n",
       "dtype: int64"
      ]
     },
     "execution_count": 241,
     "metadata": {},
     "output_type": "execute_result"
    }
   ],
   "source": [
    "test.isnull().sum()"
   ]
  },
  {
   "cell_type": "code",
   "execution_count": 242,
   "metadata": {},
   "outputs": [
    {
     "name": "stdout",
     "output_type": "stream",
     "text": [
      "<class 'pandas.core.frame.DataFrame'>\n",
      "Int64Index: 14417 entries, 0 to 14416\n",
      "Data columns (total 20 columns):\n",
      "Injury_Date                                   14417 non-null category\n",
      "Date_reported                                 14417 non-null category\n",
      "Age_Injured                                   14417 non-null float64\n",
      "Non_economicloss                              14417 non-null category\n",
      "Exemplarydamages                              14417 non-null category\n",
      "WhetherPrimaFacie_JointandSeveralLiability    14417 non-null category\n",
      "WorkersCompAvailability                       14417 non-null category\n",
      "CollateralSourcesAvailability                 14417 non-null category\n",
      "Anyothercontributors                          14417 non-null float64\n",
      "PrimaFacie_percentagefault_injured            14417 non-null float64\n",
      "PrimaFacie_percentagefault_insured            14417 non-null float64\n",
      "PrimaFacie_percentagefault_otherinsured       14417 non-null float64\n",
      "PrimaFacie_percentagefault_uninsured          14417 non-null float64\n",
      "PolicyID                                      14417 non-null category\n",
      "PolicyType                                    14417 non-null float64\n",
      "Employment_status                             14417 non-null category\n",
      "BusinessClass                                 14417 non-null float64\n",
      "Perperson_Policylimit                         14417 non-null float64\n",
      "PerOccurrence_PolicyLimit                     14417 non-null float64\n",
      "CombinedSingleLimit                           14417 non-null float64\n",
      "dtypes: category(9), float64(11)\n",
      "memory usage: 2.4 MB\n"
     ]
    }
   ],
   "source": [
    "train.info()"
   ]
  },
  {
   "cell_type": "code",
   "execution_count": 243,
   "metadata": {},
   "outputs": [
    {
     "name": "stdout",
     "output_type": "stream",
     "text": [
      "<class 'pandas.core.frame.DataFrame'>\n",
      "Int64Index: 4806 entries, 0 to 4805\n",
      "Data columns (total 20 columns):\n",
      "Injury_Date                                   4806 non-null category\n",
      "Date_reported                                 4806 non-null category\n",
      "Age_Injured                                   4806 non-null float64\n",
      "Non_economicloss                              4806 non-null category\n",
      "Exemplarydamages                              4806 non-null category\n",
      "WhetherPrimaFacie_JointandSeveralLiability    4806 non-null category\n",
      "WorkersCompAvailability                       4806 non-null category\n",
      "CollateralSourcesAvailability                 4806 non-null category\n",
      "Anyothercontributors                          4806 non-null int64\n",
      "PrimaFacie_percentagefault_injured            4806 non-null int64\n",
      "PrimaFacie_percentagefault_insured            4806 non-null int64\n",
      "PrimaFacie_percentagefault_otherinsured       4806 non-null int64\n",
      "PrimaFacie_percentagefault_uninsured          4806 non-null int64\n",
      "PolicyID                                      4806 non-null category\n",
      "PolicyType                                    4806 non-null int64\n",
      "Employment_status                             4806 non-null category\n",
      "BusinessClass                                 4806 non-null int64\n",
      "Perperson_Policylimit                         4806 non-null int64\n",
      "PerOccurrence_PolicyLimit                     4806 non-null int64\n",
      "CombinedSingleLimit                           4806 non-null int64\n",
      "dtypes: category(9), float64(1), int64(10)\n",
      "memory usage: 895.9 KB\n"
     ]
    }
   ],
   "source": [
    "test.info()"
   ]
  },
  {
   "cell_type": "code",
   "execution_count": 248,
   "metadata": {},
   "outputs": [
    {
     "data": {
      "text/plain": [
       "Index(['Age_Injured', 'Anyothercontributors',\n",
       "       'PrimaFacie_percentagefault_injured',\n",
       "       'PrimaFacie_percentagefault_insured',\n",
       "       'PrimaFacie_percentagefault_otherinsured',\n",
       "       'PrimaFacie_percentagefault_uninsured', 'PolicyType', 'BusinessClass',\n",
       "       'Perperson_Policylimit', 'PerOccurrence_PolicyLimit',\n",
       "       'CombinedSingleLimit'],\n",
       "      dtype='object')"
      ]
     },
     "execution_count": 248,
     "metadata": {},
     "output_type": "execute_result"
    }
   ],
   "source": [
    "numerical_Attributes_train\n",
    "categorical_Attributes_train\n",
    "numerical_Attributes_test"
   ]
  },
  {
   "cell_type": "code",
   "execution_count": 249,
   "metadata": {},
   "outputs": [],
   "source": [
    "# Data Imputation\n",
    "# Impute missing values with mean Imputation in Train\n",
    "from sklearn.preprocessing import Imputer\n",
    "num_mean_imputer = Imputer(strategy=\"mean\")\n",
    "for cols in numerical_Attributes_train :\n",
    "    train[cols] = num_mean_imputer.fit_transform(train[[cols]])"
   ]
  },
  {
   "cell_type": "code",
   "execution_count": 250,
   "metadata": {},
   "outputs": [],
   "source": [
    "# Data Imputation\n",
    "# Impute missing values with mean Imputation in Test\n",
    "\n",
    "from sklearn.preprocessing import Imputer\n",
    "num_mean_imputer = Imputer(strategy=\"mean\")\n",
    "for cols in numerical_Attributes_test :\n",
    "    test[cols] = num_mean_imputer.fit_transform(test[[cols]])"
   ]
  },
  {
   "cell_type": "code",
   "execution_count": 251,
   "metadata": {},
   "outputs": [
    {
     "name": "stdout",
     "output_type": "stream",
     "text": [
      "(14417, 20) (4806, 20)\n"
     ]
    }
   ],
   "source": [
    "print(train.shape, test.shape)"
   ]
  },
  {
   "cell_type": "code",
   "execution_count": 252,
   "metadata": {},
   "outputs": [
    {
     "data": {
      "text/plain": [
       "Injury_Date                                   0\n",
       "Date_reported                                 0\n",
       "Age_Injured                                   0\n",
       "Non_economicloss                              0\n",
       "Exemplarydamages                              0\n",
       "WhetherPrimaFacie_JointandSeveralLiability    0\n",
       "WorkersCompAvailability                       0\n",
       "CollateralSourcesAvailability                 0\n",
       "Anyothercontributors                          0\n",
       "PrimaFacie_percentagefault_injured            0\n",
       "PrimaFacie_percentagefault_insured            0\n",
       "PrimaFacie_percentagefault_otherinsured       0\n",
       "PrimaFacie_percentagefault_uninsured          0\n",
       "PolicyID                                      0\n",
       "PolicyType                                    0\n",
       "Employment_status                             0\n",
       "BusinessClass                                 0\n",
       "Perperson_Policylimit                         0\n",
       "PerOccurrence_PolicyLimit                     0\n",
       "CombinedSingleLimit                           0\n",
       "dtype: int64"
      ]
     },
     "execution_count": 252,
     "metadata": {},
     "output_type": "execute_result"
    }
   ],
   "source": [
    "train.isnull().sum()"
   ]
  },
  {
   "cell_type": "code",
   "execution_count": 253,
   "metadata": {},
   "outputs": [
    {
     "data": {
      "text/plain": [
       "Injury_Date                                   0\n",
       "Date_reported                                 0\n",
       "Age_Injured                                   0\n",
       "Non_economicloss                              0\n",
       "Exemplarydamages                              0\n",
       "WhetherPrimaFacie_JointandSeveralLiability    0\n",
       "WorkersCompAvailability                       0\n",
       "CollateralSourcesAvailability                 0\n",
       "Anyothercontributors                          0\n",
       "PrimaFacie_percentagefault_injured            0\n",
       "PrimaFacie_percentagefault_insured            0\n",
       "PrimaFacie_percentagefault_otherinsured       0\n",
       "PrimaFacie_percentagefault_uninsured          0\n",
       "PolicyID                                      0\n",
       "PolicyType                                    0\n",
       "Employment_status                             0\n",
       "BusinessClass                                 0\n",
       "Perperson_Policylimit                         0\n",
       "PerOccurrence_PolicyLimit                     0\n",
       "CombinedSingleLimit                           0\n",
       "dtype: int64"
      ]
     },
     "execution_count": 253,
     "metadata": {},
     "output_type": "execute_result"
    }
   ],
   "source": [
    "test.isnull().sum()"
   ]
  },
  {
   "cell_type": "code",
   "execution_count": 254,
   "metadata": {},
   "outputs": [
    {
     "data": {
      "text/plain": [
       "Injury_Date                                   category\n",
       "Date_reported                                 category\n",
       "Age_Injured                                    float64\n",
       "Non_economicloss                              category\n",
       "Exemplarydamages                              category\n",
       "WhetherPrimaFacie_JointandSeveralLiability    category\n",
       "WorkersCompAvailability                       category\n",
       "CollateralSourcesAvailability                 category\n",
       "Anyothercontributors                           float64\n",
       "PrimaFacie_percentagefault_injured             float64\n",
       "PrimaFacie_percentagefault_insured             float64\n",
       "PrimaFacie_percentagefault_otherinsured        float64\n",
       "PrimaFacie_percentagefault_uninsured           float64\n",
       "PolicyID                                      category\n",
       "PolicyType                                     float64\n",
       "Employment_status                             category\n",
       "BusinessClass                                  float64\n",
       "Perperson_Policylimit                          float64\n",
       "PerOccurrence_PolicyLimit                      float64\n",
       "CombinedSingleLimit                            float64\n",
       "dtype: object"
      ]
     },
     "execution_count": 254,
     "metadata": {},
     "output_type": "execute_result"
    }
   ],
   "source": [
    "train.dtypes"
   ]
  },
  {
   "cell_type": "code",
   "execution_count": 255,
   "metadata": {},
   "outputs": [
    {
     "data": {
      "text/html": [
       "<div>\n",
       "<style scoped>\n",
       "    .dataframe tbody tr th:only-of-type {\n",
       "        vertical-align: middle;\n",
       "    }\n",
       "\n",
       "    .dataframe tbody tr th {\n",
       "        vertical-align: top;\n",
       "    }\n",
       "\n",
       "    .dataframe thead th {\n",
       "        text-align: right;\n",
       "    }\n",
       "</style>\n",
       "<table border=\"1\" class=\"dataframe\">\n",
       "  <thead>\n",
       "    <tr style=\"text-align: right;\">\n",
       "      <th></th>\n",
       "      <th>Injury_Date</th>\n",
       "      <th>Date_reported</th>\n",
       "      <th>Age_Injured</th>\n",
       "      <th>Non_economicloss</th>\n",
       "      <th>Exemplarydamages</th>\n",
       "      <th>WhetherPrimaFacie_JointandSeveralLiability</th>\n",
       "      <th>WorkersCompAvailability</th>\n",
       "      <th>CollateralSourcesAvailability</th>\n",
       "      <th>Anyothercontributors</th>\n",
       "      <th>PrimaFacie_percentagefault_injured</th>\n",
       "      <th>PrimaFacie_percentagefault_insured</th>\n",
       "      <th>PrimaFacie_percentagefault_otherinsured</th>\n",
       "      <th>PrimaFacie_percentagefault_uninsured</th>\n",
       "      <th>PolicyID</th>\n",
       "      <th>PolicyType</th>\n",
       "      <th>Employment_status</th>\n",
       "      <th>BusinessClass</th>\n",
       "      <th>Perperson_Policylimit</th>\n",
       "      <th>PerOccurrence_PolicyLimit</th>\n",
       "      <th>CombinedSingleLimit</th>\n",
       "    </tr>\n",
       "  </thead>\n",
       "  <tbody>\n",
       "    <tr>\n",
       "      <th>0</th>\n",
       "      <td>3/9/2000</td>\n",
       "      <td>2000-03-23</td>\n",
       "      <td>59.0</td>\n",
       "      <td>No</td>\n",
       "      <td>No</td>\n",
       "      <td>N</td>\n",
       "      <td>N</td>\n",
       "      <td>N</td>\n",
       "      <td>1.0</td>\n",
       "      <td>50.0</td>\n",
       "      <td>50.0</td>\n",
       "      <td>0.0</td>\n",
       "      <td>0.0</td>\n",
       "      <td>P280529</td>\n",
       "      <td>1.0</td>\n",
       "      <td>Y</td>\n",
       "      <td>17.0</td>\n",
       "      <td>0.0</td>\n",
       "      <td>0.0</td>\n",
       "      <td>5000000.0</td>\n",
       "    </tr>\n",
       "    <tr>\n",
       "      <th>1</th>\n",
       "      <td>12/6/2002</td>\n",
       "      <td>2002-12-10</td>\n",
       "      <td>37.0</td>\n",
       "      <td>No</td>\n",
       "      <td>No</td>\n",
       "      <td>N</td>\n",
       "      <td>N</td>\n",
       "      <td>N</td>\n",
       "      <td>1.0</td>\n",
       "      <td>0.0</td>\n",
       "      <td>100.0</td>\n",
       "      <td>0.0</td>\n",
       "      <td>0.0</td>\n",
       "      <td>P290153</td>\n",
       "      <td>2.0</td>\n",
       "      <td>Y</td>\n",
       "      <td>9.0</td>\n",
       "      <td>0.0</td>\n",
       "      <td>5000000.0</td>\n",
       "      <td>0.0</td>\n",
       "    </tr>\n",
       "    <tr>\n",
       "      <th>2</th>\n",
       "      <td>10/20/2000</td>\n",
       "      <td>2000-11-02</td>\n",
       "      <td>37.0</td>\n",
       "      <td>No</td>\n",
       "      <td>No</td>\n",
       "      <td>N</td>\n",
       "      <td>N</td>\n",
       "      <td>N</td>\n",
       "      <td>1.0</td>\n",
       "      <td>0.0</td>\n",
       "      <td>100.0</td>\n",
       "      <td>0.0</td>\n",
       "      <td>0.0</td>\n",
       "      <td>P282861</td>\n",
       "      <td>2.0</td>\n",
       "      <td>Y</td>\n",
       "      <td>6.0</td>\n",
       "      <td>0.0</td>\n",
       "      <td>0.0</td>\n",
       "      <td>5000000.0</td>\n",
       "    </tr>\n",
       "    <tr>\n",
       "      <th>3</th>\n",
       "      <td>8/9/2003</td>\n",
       "      <td>2003-08-11</td>\n",
       "      <td>16.0</td>\n",
       "      <td>No</td>\n",
       "      <td>No</td>\n",
       "      <td>N</td>\n",
       "      <td>N</td>\n",
       "      <td>N</td>\n",
       "      <td>2.0</td>\n",
       "      <td>0.0</td>\n",
       "      <td>50.0</td>\n",
       "      <td>50.0</td>\n",
       "      <td>0.0</td>\n",
       "      <td>P291972</td>\n",
       "      <td>4.0</td>\n",
       "      <td>N</td>\n",
       "      <td>20.0</td>\n",
       "      <td>0.0</td>\n",
       "      <td>1000000.0</td>\n",
       "      <td>3000000.0</td>\n",
       "    </tr>\n",
       "    <tr>\n",
       "      <th>4</th>\n",
       "      <td>2/25/2004</td>\n",
       "      <td>2004-02-26</td>\n",
       "      <td>52.0</td>\n",
       "      <td>No</td>\n",
       "      <td>No</td>\n",
       "      <td>N</td>\n",
       "      <td>N</td>\n",
       "      <td>N</td>\n",
       "      <td>1.0</td>\n",
       "      <td>0.0</td>\n",
       "      <td>100.0</td>\n",
       "      <td>0.0</td>\n",
       "      <td>0.0</td>\n",
       "      <td>P293075</td>\n",
       "      <td>2.0</td>\n",
       "      <td>N</td>\n",
       "      <td>6.0</td>\n",
       "      <td>0.0</td>\n",
       "      <td>1000000.0</td>\n",
       "      <td>0.0</td>\n",
       "    </tr>\n",
       "  </tbody>\n",
       "</table>\n",
       "</div>"
      ],
      "text/plain": [
       "  Injury_Date Date_reported  Age_Injured Non_economicloss Exemplarydamages  \\\n",
       "0    3/9/2000    2000-03-23         59.0               No               No   \n",
       "1   12/6/2002    2002-12-10         37.0               No               No   \n",
       "2  10/20/2000    2000-11-02         37.0               No               No   \n",
       "3    8/9/2003    2003-08-11         16.0               No               No   \n",
       "4   2/25/2004    2004-02-26         52.0               No               No   \n",
       "\n",
       "  WhetherPrimaFacie_JointandSeveralLiability WorkersCompAvailability  \\\n",
       "0                                          N                       N   \n",
       "1                                          N                       N   \n",
       "2                                          N                       N   \n",
       "3                                          N                       N   \n",
       "4                                          N                       N   \n",
       "\n",
       "  CollateralSourcesAvailability  Anyothercontributors  \\\n",
       "0                             N                   1.0   \n",
       "1                             N                   1.0   \n",
       "2                             N                   1.0   \n",
       "3                             N                   2.0   \n",
       "4                             N                   1.0   \n",
       "\n",
       "   PrimaFacie_percentagefault_injured  PrimaFacie_percentagefault_insured  \\\n",
       "0                                50.0                                50.0   \n",
       "1                                 0.0                               100.0   \n",
       "2                                 0.0                               100.0   \n",
       "3                                 0.0                                50.0   \n",
       "4                                 0.0                               100.0   \n",
       "\n",
       "   PrimaFacie_percentagefault_otherinsured  \\\n",
       "0                                      0.0   \n",
       "1                                      0.0   \n",
       "2                                      0.0   \n",
       "3                                     50.0   \n",
       "4                                      0.0   \n",
       "\n",
       "   PrimaFacie_percentagefault_uninsured PolicyID  PolicyType  \\\n",
       "0                                   0.0  P280529         1.0   \n",
       "1                                   0.0  P290153         2.0   \n",
       "2                                   0.0  P282861         2.0   \n",
       "3                                   0.0  P291972         4.0   \n",
       "4                                   0.0  P293075         2.0   \n",
       "\n",
       "  Employment_status  BusinessClass  Perperson_Policylimit  \\\n",
       "0                 Y           17.0                    0.0   \n",
       "1                 Y            9.0                    0.0   \n",
       "2                 Y            6.0                    0.0   \n",
       "3                 N           20.0                    0.0   \n",
       "4                 N            6.0                    0.0   \n",
       "\n",
       "   PerOccurrence_PolicyLimit  CombinedSingleLimit  \n",
       "0                        0.0            5000000.0  \n",
       "1                  5000000.0                  0.0  \n",
       "2                        0.0            5000000.0  \n",
       "3                  1000000.0            3000000.0  \n",
       "4                  1000000.0                  0.0  "
      ]
     },
     "execution_count": 255,
     "metadata": {},
     "output_type": "execute_result"
    }
   ],
   "source": [
    "train.head(5)"
   ]
  },
  {
   "cell_type": "code",
   "execution_count": 256,
   "metadata": {},
   "outputs": [],
   "source": [
    "# Dropping Date and ID varaibles from both train and test\n",
    "train = train.drop(['Injury_Date', 'Date_reported','PolicyID'],axis=1)"
   ]
  },
  {
   "cell_type": "code",
   "execution_count": 257,
   "metadata": {},
   "outputs": [],
   "source": [
    "test = test.drop(['Injury_Date', 'Date_reported','PolicyID'],axis=1)"
   ]
  },
  {
   "cell_type": "code",
   "execution_count": 258,
   "metadata": {},
   "outputs": [
    {
     "name": "stdout",
     "output_type": "stream",
     "text": [
      "(14417, 17) (4806, 17)\n"
     ]
    }
   ],
   "source": [
    "print(train.shape,test.shape)"
   ]
  },
  {
   "cell_type": "code",
   "execution_count": 260,
   "metadata": {},
   "outputs": [],
   "source": [
    "categorical_Attributes_train = train.select_dtypes(include=['category']).columns"
   ]
  },
  {
   "cell_type": "code",
   "execution_count": 261,
   "metadata": {},
   "outputs": [],
   "source": [
    "categorical_Attributes_test = test.select_dtypes(include=['category']).columns"
   ]
  },
  {
   "cell_type": "code",
   "execution_count": 262,
   "metadata": {},
   "outputs": [],
   "source": [
    "numerical_Attributes_train = train.select_dtypes(exclude=['category']).columns"
   ]
  },
  {
   "cell_type": "code",
   "execution_count": 263,
   "metadata": {},
   "outputs": [],
   "source": [
    "numerical_Attributes_test = test.select_dtypes(exclude=['category']).columns"
   ]
  },
  {
   "cell_type": "code",
   "execution_count": 264,
   "metadata": {},
   "outputs": [],
   "source": [
    "train = pd.get_dummies(columns=categorical_Attributes_train,data=train,prefix=categorical_Attributes_train,prefix_sep=\"_\",drop_first=True)"
   ]
  },
  {
   "cell_type": "code",
   "execution_count": 265,
   "metadata": {},
   "outputs": [],
   "source": [
    "test = pd.get_dummies(columns=categorical_Attributes_test,data=test,prefix=categorical_Attributes_test,prefix_sep=\"_\",drop_first=True)"
   ]
  },
  {
   "cell_type": "code",
   "execution_count": 266,
   "metadata": {},
   "outputs": [
    {
     "name": "stdout",
     "output_type": "stream",
     "text": [
      "(14417, 17) (4806, 17)\n"
     ]
    }
   ],
   "source": [
    "print(train.shape, test.shape)"
   ]
  },
  {
   "cell_type": "code",
   "execution_count": 268,
   "metadata": {},
   "outputs": [
    {
     "name": "stdout",
     "output_type": "stream",
     "text": [
      "<class 'pandas.core.frame.DataFrame'>\n",
      "Int64Index: 14417 entries, 0 to 14416\n",
      "Data columns (total 17 columns):\n",
      "Age_Injured                                     14417 non-null float64\n",
      "Anyothercontributors                            14417 non-null float64\n",
      "PrimaFacie_percentagefault_injured              14417 non-null float64\n",
      "PrimaFacie_percentagefault_insured              14417 non-null float64\n",
      "PrimaFacie_percentagefault_otherinsured         14417 non-null float64\n",
      "PrimaFacie_percentagefault_uninsured            14417 non-null float64\n",
      "PolicyType                                      14417 non-null float64\n",
      "BusinessClass                                   14417 non-null float64\n",
      "Perperson_Policylimit                           14417 non-null float64\n",
      "PerOccurrence_PolicyLimit                       14417 non-null float64\n",
      "CombinedSingleLimit                             14417 non-null float64\n",
      "Non_economicloss_Yes                            14417 non-null uint8\n",
      "Exemplarydamages_Yes                            14417 non-null uint8\n",
      "WhetherPrimaFacie_JointandSeveralLiability_Y    14417 non-null uint8\n",
      "WorkersCompAvailability_Y                       14417 non-null uint8\n",
      "CollateralSourcesAvailability_Y                 14417 non-null uint8\n",
      "Employment_status_Y                             14417 non-null uint8\n",
      "dtypes: float64(11), uint8(6)\n",
      "memory usage: 1.4 MB\n"
     ]
    }
   ],
   "source": [
    "train.info()"
   ]
  },
  {
   "cell_type": "code",
   "execution_count": 269,
   "metadata": {},
   "outputs": [],
   "source": [
    "# Split the Train and Test Data\n",
    "from sklearn.model_selection import train_test_split\n",
    "# Split the data into X and y\n",
    "X = train\n",
    "y = train_labels"
   ]
  },
  {
   "cell_type": "code",
   "execution_count": 270,
   "metadata": {},
   "outputs": [],
   "source": [
    "## Split the data into X_train, X_test, y_train, y_test with test_size = 0.20 using sklearn\n",
    "X_train, X_test, y_train, y_test = train_test_split(X, y, test_size=0.20,random_state=1)"
   ]
  },
  {
   "cell_type": "code",
   "execution_count": 271,
   "metadata": {},
   "outputs": [
    {
     "name": "stdout",
     "output_type": "stream",
     "text": [
      "(11533, 17)\n",
      "(2884, 17)\n",
      "(11533,)\n",
      "(2884,)\n"
     ]
    }
   ],
   "source": [
    "## Print the shape of X_train, X_test, y_train, y_test\n",
    "print(X_train.shape)\n",
    "print(X_test.shape)\n",
    "print(y_train.shape)\n",
    "print(y_test.shape)"
   ]
  },
  {
   "cell_type": "code",
   "execution_count": 273,
   "metadata": {},
   "outputs": [
    {
     "data": {
      "text/plain": [
       "(14417, 17)"
      ]
     },
     "execution_count": 273,
     "metadata": {},
     "output_type": "execute_result"
    }
   ],
   "source": [
    "train.dtypes\n",
    "train.shape"
   ]
  },
  {
   "cell_type": "code",
   "execution_count": 274,
   "metadata": {},
   "outputs": [],
   "source": [
    "## Scale the numeric attributes\n",
    "from sklearn.preprocessing import StandardScaler\n",
    "scaler = StandardScaler()\n",
    "scaler.fit(X_train.iloc[:,0:17])\n",
    "\n",
    "X_train.iloc[:,0:17] = scaler.transform(X_train.iloc[:,0:17])\n",
    "X_test.iloc[:,0:17] = scaler.transform(X_test.iloc[:,0:17])\n"
   ]
  },
  {
   "cell_type": "code",
   "execution_count": 275,
   "metadata": {},
   "outputs": [
    {
     "name": "stdout",
     "output_type": "stream",
     "text": [
      "       Age_Injured  Anyothercontributors  PrimaFacie_percentagefault_injured  \\\n",
      "12025    -0.538490              2.032885                           -0.392552   \n",
      "6258     -1.024299             -0.491912                            2.628992   \n",
      "14116    -1.327930             -0.491912                           -0.392552   \n",
      "4622     -0.599216             -0.491912                           -0.392552   \n",
      "6289     -0.356311              2.032885                           -0.392552   \n",
      "\n",
      "       PrimaFacie_percentagefault_insured  \\\n",
      "12025                           -2.903623   \n",
      "6258                            -1.518238   \n",
      "14116                            0.519093   \n",
      "4622                             0.519093   \n",
      "6289                            -1.518238   \n",
      "\n",
      "       PrimaFacie_percentagefault_otherinsured  \\\n",
      "12025                                 4.430824   \n",
      "6258                                 -0.305791   \n",
      "14116                                -0.305791   \n",
      "4622                                 -0.305791   \n",
      "6289                                  2.513622   \n",
      "\n",
      "       PrimaFacie_percentagefault_uninsured  PolicyType  BusinessClass  \\\n",
      "12025                             -0.117244   -0.197008      -0.678449   \n",
      "6258                              -0.117244    0.958687       1.736869   \n",
      "14116                             -0.117244   -0.197008      -0.812634   \n",
      "4622                              -0.117244   -0.197008      -0.812634   \n",
      "6289                              -0.117244   -1.352704      -0.946818   \n",
      "\n",
      "       Perperson_Policylimit  PerOccurrence_PolicyLimit  CombinedSingleLimit  \\\n",
      "12025              -0.080614                  -0.326675            -0.032238   \n",
      "6258               -0.080614                   0.268035            -0.267118   \n",
      "14116              -0.080614                  -0.326675            -0.032238   \n",
      "4622               -0.080614                  -0.326675            -0.032238   \n",
      "6289               -0.080614                  -0.326675             1.494476   \n",
      "\n",
      "       Non_economicloss_Yes  Exemplarydamages_Yes  \\\n",
      "12025             -0.124128             -0.027946   \n",
      "6258              -0.124128             -0.027946   \n",
      "14116             -0.124128             -0.027946   \n",
      "4622              -0.124128             -0.027946   \n",
      "6289              -0.124128             -0.027946   \n",
      "\n",
      "       WhetherPrimaFacie_JointandSeveralLiability_Y  \\\n",
      "12025                                     -0.038421   \n",
      "6258                                      -0.038421   \n",
      "14116                                     -0.038421   \n",
      "4622                                      -0.038421   \n",
      "6289                                      -0.038421   \n",
      "\n",
      "       WorkersCompAvailability_Y  CollateralSourcesAvailability_Y  \\\n",
      "12025                   -0.40556                        -0.571443   \n",
      "6258                    -0.40556                        -0.571443   \n",
      "14116                   -0.40556                        -0.571443   \n",
      "4622                    -0.40556                        -0.571443   \n",
      "6289                    -0.40556                        -0.571443   \n",
      "\n",
      "       Employment_status_Y  \n",
      "12025             0.733303  \n",
      "6258              0.733303  \n",
      "14116             0.733303  \n",
      "4622              0.733303  \n",
      "6289             -1.363693  \n",
      "       Age_Injured  Anyothercontributors  PrimaFacie_percentagefault_injured  \\\n",
      "12319     2.072735             -0.491912                           -0.392552   \n",
      "3209      0.008046             -0.491912                            0.211757   \n",
      "135       0.250950             -0.491912                           -0.392552   \n",
      "12050    -0.174133             -0.491912                           -0.392552   \n",
      "4107      1.344021             -0.491912                            1.420374   \n",
      "\n",
      "       PrimaFacie_percentagefault_insured  \\\n",
      "12319                            0.519093   \n",
      "3209                             0.111627   \n",
      "135                              0.519093   \n",
      "12050                            0.519093   \n",
      "4107                            -0.703306   \n",
      "\n",
      "       PrimaFacie_percentagefault_otherinsured  \\\n",
      "12319                                -0.305791   \n",
      "3209                                 -0.305791   \n",
      "135                                  -0.305791   \n",
      "12050                                -0.305791   \n",
      "4107                                 -0.305791   \n",
      "\n",
      "       PrimaFacie_percentagefault_uninsured  PolicyType  BusinessClass  \\\n",
      "12319                             -0.117244   -0.197008      -0.812634   \n",
      "3209                              -0.117244   -0.197008      -0.678449   \n",
      "135                               -0.117244    2.114383       0.797578   \n",
      "12050                             -0.117244   -1.352704      -0.678449   \n",
      "4107                              -0.117244    0.958687      -0.678449   \n",
      "\n",
      "       Perperson_Policylimit  PerOccurrence_PolicyLimit  CombinedSingleLimit  \\\n",
      "12319              -0.080614                  -0.326675            -0.032237   \n",
      "3209               -0.080614                  -0.326675            -0.149678   \n",
      "135                -0.080614                  -0.207733            -0.267118   \n",
      "12050              -0.080614                  -0.326675            -0.149678   \n",
      "4107               -0.080614                   0.268035            -0.267118   \n",
      "\n",
      "       Non_economicloss_Yes  Exemplarydamages_Yes  \\\n",
      "12319             -0.124128             -0.027946   \n",
      "3209              -0.124128             -0.027946   \n",
      "135               -0.124128             -0.027946   \n",
      "12050             -0.124128             -0.027946   \n",
      "4107              -0.124128             -0.027946   \n",
      "\n",
      "       WhetherPrimaFacie_JointandSeveralLiability_Y  \\\n",
      "12319                                     -0.038421   \n",
      "3209                                      -0.038421   \n",
      "135                                       -0.038421   \n",
      "12050                                     -0.038421   \n",
      "4107                                      -0.038421   \n",
      "\n",
      "       WorkersCompAvailability_Y  CollateralSourcesAvailability_Y  \\\n",
      "12319                   -0.40556                         1.749956   \n",
      "3209                    -0.40556                         1.749956   \n",
      "135                     -0.40556                        -0.571443   \n",
      "12050                   -0.40556                        -0.571443   \n",
      "4107                    -0.40556                         1.749956   \n",
      "\n",
      "       Employment_status_Y  \n",
      "12319            -1.363693  \n",
      "3209             -1.363693  \n",
      "135               0.733303  \n",
      "12050             0.733303  \n",
      "4107             -1.363693  \n",
      "12025         lessthan100K\n",
      "6258          lessthan100K\n",
      "14116         200KandAbove\n",
      "4622          lessthan100K\n",
      "6289     100K-lessthan200K\n",
      "Name: ClaimSize, dtype: object\n",
      "12319         lessthan100K\n",
      "3209          200KandAbove\n",
      "135      100K-lessthan200K\n",
      "12050         200KandAbove\n",
      "4107          lessthan100K\n",
      "Name: ClaimSize, dtype: object\n"
     ]
    }
   ],
   "source": [
    "print(X_train.head())\n",
    "print(X_test.head())\n",
    "print(y_train.head())\n",
    "print(y_test.head())"
   ]
  },
  {
   "cell_type": "code",
   "execution_count": 276,
   "metadata": {},
   "outputs": [],
   "source": [
    "import itertools\n",
    "def plot_confusion_matrix(cm, classes,\n",
    "                          normalize=False,\n",
    "                          title='Confusion matrix',\n",
    "                          cmap=plt.cm.Blues):\n",
    "    \"\"\"\n",
    "    This function prints and plots the confusion matrix.\n",
    "    Normalization can be applied by setting `normalize=True`.\n",
    "    \"\"\"\n",
    "    plt.imshow(cm, interpolation='nearest', cmap=cmap)\n",
    "    plt.title(title)\n",
    "    plt.colorbar()\n",
    "    tick_marks = np.arange(len(classes))\n",
    "    plt.xticks(tick_marks, classes, rotation=0)\n",
    "    plt.yticks(tick_marks, classes)\n",
    "\n",
    "    if normalize:\n",
    "        cm = cm.astype('float') / cm.sum(axis=1)[:, np.newaxis]\n",
    "        #print(\"Normalized confusion matrix\")\n",
    "    else:\n",
    "        1#print('Confusion matrix, without normalization')\n",
    "\n",
    "    #print(cm)\n",
    "\n",
    "    thresh = cm.max() / 2.\n",
    "    for i, j in itertools.product(range(cm.shape[0]), range(cm.shape[1])):\n",
    "        plt.text(j, i, cm[i, j],\n",
    "                 horizontalalignment=\"center\",\n",
    "                 color=\"white\" if cm[i, j] > thresh else \"black\")\n",
    "\n",
    "    plt.tight_layout()\n",
    "    plt.ylabel('True label')\n",
    "    plt.xlabel('Predicted label')"
   ]
  },
  {
   "cell_type": "code",
   "execution_count": 279,
   "metadata": {},
   "outputs": [
    {
     "name": "stdout",
     "output_type": "stream",
     "text": [
      "Train Nav Accuracy : 0.39035810283534206\n",
      "Test Nav Accuracy : 0.3855755894590846\n"
     ]
    }
   ],
   "source": [
    "# Building Models\n",
    "#Import Library of Gaussian Naive Bayes model\n",
    "from sklearn.naive_bayes import GaussianNB\n",
    "import numpy as np\n",
    "nav_model = GaussianNB()\n",
    "model_train_nav=nav_model.fit(X_train, y_train)\n",
    "y_pred_train_nav = nav_model.predict(X_train)\n",
    "y_pred_test_nav= nav_model.predict(X_test)\n",
    "y_prob_test_nav=  nav_model.predict_proba(X_test)[:,1]\n",
    "acc_train_nav =accuracy_score(y_true=y_train,y_pred=y_pred_train_nav)\n",
    "acc_test_nav = accuracy_score(y_true=y_test,y_pred=y_pred_test_nav)                          \n",
    "print(\"Train Nav Accuracy :\",accuracy_score(y_true=y_train,y_pred=y_pred_train_nav))\n",
    "print(\"Test Nav Accuracy :\",accuracy_score(y_true=y_test,y_pred=y_pred_test_nav))"
   ]
  },
  {
   "cell_type": "code",
   "execution_count": 281,
   "metadata": {},
   "outputs": [
    {
     "name": "stdout",
     "output_type": "stream",
     "text": [
      "\n",
      " Confusion matrix \n",
      " [[ 639   38   65]\n",
      " [ 466   55  142]\n",
      " [1030   31  418]]\n",
      "\n",
      " Classification report \n",
      "                    precision    recall  f1-score   support\n",
      "\n",
      "100K-lessthan200K       0.30      0.86      0.44       742\n",
      "     200KandAbove       0.44      0.08      0.14       663\n",
      "     lessthan100K       0.67      0.28      0.40      1479\n",
      "\n",
      "      avg / total       0.52      0.39      0.35      2884\n",
      "\n"
     ]
    }
   ],
   "source": [
    "from sklearn import metrics\n",
    "from sklearn.metrics import accuracy_score, confusion_matrix, classification_report\n",
    "confusion_matrix_test_nav = confusion_matrix(y_test, y_pred_test_nav)\n",
    "cr_nav = classification_report(y_test,y_pred_test_nav)\n",
    "print(\"\\n Confusion matrix \\n\", confusion_matrix_test_nav)\n",
    "print(\"\\n Classification report \\n\", classification_report(y_test,y_pred_test_nav))\n"
   ]
  },
  {
   "cell_type": "code",
   "execution_count": 283,
   "metadata": {},
   "outputs": [
    {
     "data": {
      "image/png": "[encoded data removed]",
      "text/plain": [
       "<Figure size 640x480 with 2 Axes>"
      ]
     },
     "metadata": {},
     "output_type": "display_data"
    }
   ],
   "source": [
    "class_names = ['100K-lessthan200K','200KandAbove','lessthan100K']\n",
    "plt.figure()\n",
    "plot_confusion_matrix(confusion_matrix_test_nav , classes=class_names, title='Confusion matrix')\n",
    "plt.show()"
   ]
  },
  {
   "cell_type": "code",
   "execution_count": 286,
   "metadata": {},
   "outputs": [
    {
     "name": "stdout",
     "output_type": "stream",
     "text": [
      "Test TPR: [0.86118598 0.08295626 0.28262339]\n",
      "Test TNR: [0.3015873  0.96893291 0.85266904]\n",
      "Test precision: [0.29929742 0.44354839 0.6688    ]\n",
      "Test Negative predective: [0.86248331 0.77971014 0.53032315]\n",
      "False positive rate: [0.6984127  0.03106709 0.14733096]\n",
      "False Negative Rate: [0.13881402 0.91704374 0.71737661]\n",
      "overall accuracy: [0.44556172 0.76525659 0.56033287]\n"
     ]
    }
   ],
   "source": [
    "FP_nav = confusion_matrix_test_nav.sum(axis=0) - np.diag(confusion_matrix_test_nav)  \n",
    "FN_nav= confusion_matrix_test_nav.sum(axis=1) - np.diag(confusion_matrix_test_nav)\n",
    "TP_nav = np.diag(confusion_matrix_test_nav)\n",
    "TN_nav = confusion_matrix_test_nav.sum() - (FP_nav + FN_nav + TP_nav)\n",
    "\n",
    "FP_nav = FP_nav.astype(float)\n",
    "FN_nav = FN_nav.astype(float)\n",
    "TP_nav = TP_nav.astype(float)\n",
    "TN_nav = TN_nav.astype(float)\n",
    "\n",
    "\n",
    "# Sensitivity, hit rate, recall, or true positive rate\n",
    "TPR_nav = TP_nav/(TP_nav+FN_nav)\n",
    "print(\"Test TPR:\", TPR_nav)\n",
    "# Specificity or true negative rate\n",
    "TNR_nav = TN_nav/(TN_nav+FP_nav) \n",
    "print(\"Test TNR:\", TNR_nav)\n",
    "# Precision or positive predictive value\n",
    "PPV_nav = TP_nav/(TP_nav+FP_nav)\n",
    "print(\"Test precision:\", PPV_nav)\n",
    "# Negative predictive value\n",
    "NPV_nav = TN_nav/(TN_nav+FN_nav)\n",
    "print(\"Test Negative predective:\", NPV_nav)\n",
    "# Fall out or false positive rate\n",
    "FPR_nav = FP_nav/(FP_nav+TN_nav)\n",
    "print(\"False positive rate:\", FPR_nav)\n",
    "# False negative rate\n",
    "FNR_nav = FN_nav/(TP_nav+FN_nav)\n",
    "print(\"False Negative Rate:\", FNR_nav)\n",
    "# False discovery rate\n",
    "FDR = FP/(TP+FP)\n",
    "\n",
    "# Overall accuracy\n",
    "ACC_nav = (TP_nav+TN_nav)/(TP_nav+FP_nav+FN_nav+TN_nav)\n",
    "print(\"overall accuracy:\", ACC_nav)\n"
   ]
  },
  {
   "cell_type": "code",
   "execution_count": 288,
   "metadata": {},
   "outputs": [],
   "source": [
    "#Building the RandomForest Classifier\n",
    "from sklearn.ensemble import RandomForestClassifier\n",
    "rfc = RandomForestClassifier(n_estimators=40,random_state=0)\n",
    "model_train_rfc= rfc.fit(X_train,y_train)\n",
    "y_pred_train_rfc = rfc.predict(X_train)\n",
    "y_pred_test_rfc = rfc.predict(X_test)"
   ]
  },
  {
   "cell_type": "code",
   "execution_count": 289,
   "metadata": {},
   "outputs": [
    {
     "name": "stdout",
     "output_type": "stream",
     "text": [
      "Train Decision Tree Accuracy: 0.9241307552241395\n",
      "Test Decision Tree Accuracy: 0.49826629680998613\n"
     ]
    }
   ],
   "source": [
    "y_prob_test_rfc= rfc.predict_proba(X_test)[:,1]\n",
    "acc_train_rfc = accuracy_score(y_true=y_train,y_pred=y_pred_train_rfc)\n",
    "acc_test_rfc = accuracy_score(y_true=y_test,y_pred=y_pred_test_rfc)\n",
    "print(\"Train Decision Tree Accuracy:\",accuracy_score(y_true=y_train,y_pred=y_pred_train_rfc))\n",
    "print(\"Test Decision Tree Accuracy:\",accuracy_score(y_true=y_test,y_pred=y_pred_test_rfc))"
   ]
  },
  {
   "cell_type": "code",
   "execution_count": 290,
   "metadata": {},
   "outputs": [
    {
     "name": "stdout",
     "output_type": "stream",
     "text": [
      "\n",
      " Confusion matrix \n",
      " [[ 227  147  368]\n",
      " [ 144  195  324]\n",
      " [ 267  197 1015]]\n",
      "\n",
      " Classification report \n",
      "                    precision    recall  f1-score   support\n",
      "\n",
      "100K-lessthan200K       0.36      0.31      0.33       742\n",
      "     200KandAbove       0.36      0.29      0.32       663\n",
      "     lessthan100K       0.59      0.69      0.64      1479\n",
      "\n",
      "      avg / total       0.48      0.50      0.49      2884\n",
      "\n"
     ]
    }
   ],
   "source": [
    "from sklearn import metrics\n",
    "from sklearn.metrics import accuracy_score, confusion_matrix, classification_report\n",
    "confusion_matrix_test_rfc = confusion_matrix(y_test, y_pred_test_rfc)\n",
    "print(\"\\n Confusion matrix \\n\", confusion_matrix_test_rfc)\n",
    "print(\"\\n Classification report \\n\", classification_report(y_test,y_pred_test_rfc))"
   ]
  },
  {
   "cell_type": "code",
   "execution_count": 291,
   "metadata": {},
   "outputs": [
    {
     "data": {
      "image/png": "[encoded data removed]",
      "text/plain": [
       "<Figure size 640x480 with 2 Axes>"
      ]
     },
     "metadata": {},
     "output_type": "display_data"
    }
   ],
   "source": [
    "class_names = ['100K-lessthan200K','200KandAbove','lessthan100K']\n",
    "plt.figure()\n",
    "plot_confusion_matrix(confusion_matrix_test_rfc , classes=class_names, title='Confusion matrix')\n",
    "plt.show()"
   ]
  },
  {
   "cell_type": "code",
   "execution_count": null,
   "metadata": {},
   "outputs": [],
   "source": [
    "FP_nav = confusion_matrix_test_nav.sum(axis=0) - np.diag(confusion_matrix_test_nav)  \n",
    "FN_nav= confusion_matrix_test_nav.sum(axis=1) - np.diag(confusion_matrix_test_nav)\n",
    "TP_nav = np.diag(confusion_matrix_test_nav)\n",
    "TN_nav = confusion_matrix_test_nav.sum() - (FP_nav + FN_nav + TP_nav)\n",
    "\n",
    "FP_nav = FP_nav.astype(float)\n",
    "FN_nav = FN_nav.astype(float)\n",
    "TP_nav = TP_nav.astype(float)\n",
    "TN_nav = TN_nav.astype(float)\n",
    "\n",
    "\n",
    "# Sensitivity, hit rate, recall, or true positive rate\n",
    "TPR_nav = TP_nav/(TP_nav+FN_nav)\n",
    "print(\"Test TPR:\", TPR_nav)\n",
    "# Specificity or true negative rate\n",
    "TNR_nav = TN_nav/(TN_nav+FP_nav) \n",
    "print(\"Test TNR:\", TNR_nav)\n",
    "# Precision or positive predictive value\n",
    "PPV_nav = TP_nav/(TP_nav+FP_nav)\n",
    "print(\"Test precision:\", PPV_nav)\n",
    "# Negative predictive value\n",
    "NPV_nav = TN_nav/(TN_nav+FN_nav)\n",
    "print(\"Test Negative predective:\", NPV_nav)\n",
    "# Fall out or false positive rate\n",
    "FPR_nav = FP_nav/(FP_nav+TN_nav)\n",
    "print(\"False positive rate:\", FPR_nav)\n",
    "# False negative rate\n",
    "FNR_nav = FN_nav/(TP_nav+FN_nav)\n",
    "print(\"False Negative Rate:\", FNR_nav)\n",
    "# False discovery rate\n",
    "FDR = FP/(TP+FP)\n",
    "\n",
    "# Overall accuracy\n",
    "ACC_nav = (TP_nav+TN_nav)/(TP_nav+FP_nav+FN_nav+TN_nav)\n",
    "print(\"overall accuracy:\", ACC_nav)\n"
   ]
  }
 ],
 "metadata": {
  "kernelspec": {
   "display_name": "Python 3",
   "language": "python",
   "name": "python3"
  },
  "language_info": {
   "codemirror_mode": {
    "name": "ipython",
    "version": 3
   },
   "file_extension": ".py",
   "mimetype": "text/x-python",
   "name": "python",
   "nbconvert_exporter": "python",
   "pygments_lexer": "ipython3",
   "version": "3.6.5"
  }
 },
 "nbformat": 4,
 "nbformat_minor": 2
}
