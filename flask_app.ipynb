{
 "cells": [
  {
   "cell_type": "code",
   "execution_count": 1,
   "metadata": {},
   "outputs": [
    {
     "name": "stdout",
     "output_type": "stream",
     "text": [
      "Requirement already satisfied: import-ipynb in c:\\programdata\\anaconda3\\lib\\site-packages (0.1.3)\n"
     ]
    }
   ],
   "source": [
    "# Installing import-ipynb to call another Jypyter class\n",
    "!pip install import-ipynb"
   ]
  },
  {
   "cell_type": "code",
   "execution_count": 1,
   "metadata": {},
   "outputs": [
    {
     "name": "stdout",
     "output_type": "stream",
     "text": [
      "importing Jupyter notebook from predictor.ipynb\n"
     ]
    }
   ],
   "source": [
    "import import_ipynb\n",
    "import numpy as np\n",
    "import json\n",
    "import os\n",
    "from flask import Flask,jsonify,request\n",
    "from flask_cors import CORS\n",
    "from predictor import my_car_price_predictor\n",
    "#from flask import Flask, request, jsonify\n",
    "#from sklearn.externals import joblib\n",
    "#import traceback\n",
    "#import pandas as pd\n",
    "#import numpy as np\n"
   ]
  },
  {
   "cell_type": "code",
   "execution_count": null,
   "metadata": {},
   "outputs": [
    {
     "name": "stderr",
     "output_type": "stream",
     "text": [
      " * Running on http://127.0.0.1:5000/ (Press CTRL+C to quit)\n"
     ]
    },
    {
     "name": "stdout",
     "output_type": "stream",
     "text": [
      "125000.0\n",
      "95.0\n",
      "1000.0\n"
     ]
    },
    {
     "name": "stderr",
     "output_type": "stream",
     "text": [
      "C:\\ProgramData\\Anaconda3\\lib\\site-packages\\sklearn\\ensemble\\weight_boosting.py:29: DeprecationWarning: numpy.core.umath_tests is an internal NumPy module and should not be imported. It will be removed in a future NumPy release.\n",
      "  from numpy.core.umath_tests import inner1d\n",
      "127.0.0.1 - - [10/Feb/2019 21:34:03] \"\u001b[37mGET /car_price/?&power=95&distance=125000&age=1000 HTTP/1.1\u001b[0m\" 200 -\n"
     ]
    },
    {
     "name": "stdout",
     "output_type": "stream",
     "text": [
      "[8.12227320732192]\n",
      "[3368.669732620195]\n"
     ]
    },
    {
     "name": "stderr",
     "output_type": "stream",
     "text": [
      "127.0.0.1 - - [10/Feb/2019 21:34:24] \"\u001b[37mGET /car_price/?&power=165&distance=150000&age=1500 HTTP/1.1\u001b[0m\" 200 -\n"
     ]
    },
    {
     "name": "stdout",
     "output_type": "stream",
     "text": [
      "150000.0\n",
      "165.0\n",
      "1500.0\n",
      "[9.544644971565857]\n",
      "[13969.685948358509]\n"
     ]
    }
   ],
   "source": [
    "# Define Falsk parameters such as Route in URL and the parameters required\n",
    "my_car_price_predictor = my_car_price_predictor()\n",
    "app = Flask(__name__)\n",
    "\n",
    "CORS(app) # To set the right Headers\n",
    "@app.route(\"/car_price/\",methods=['GET', 'POST']) # URL Route\n",
    "\n",
    "#def predict():\n",
    "#    if gbm:\n",
    "#        try:\n",
    "#            power = request.args.get('power')\n",
    "#            distance = request.args.get('distance')\n",
    "#            age = request.args.get('age')\n",
    "#            distance= float(distance)\n",
    "#            power = float(power)\n",
    "#            age = float(age)\n",
    "#            print(distance)\n",
    "#            print(power)\n",
    "#            print(age)\n",
    "#            json_ = [{\"PowerOfTheEngine\":power, \"DistranceTravelled\":distance,\"AgeofVehicleinDays\":age}]\n",
    "#            query = pd.get_dummies(pd.DataFrame(json_))\n",
    "#            query = query.reindex(columns=model_columns, fill_value=0)\n",
    "\n",
    "#            prediction = list(gbm.predict(query))\n",
    "            \n",
    "#            return jsonify({'prediction': str(np.exp(prediction))})\n",
    "\n",
    "#        except:\n",
    "\n",
    "#            return jsonify({'trace': traceback.format_exc()})\n",
    "#    else:\n",
    "#        print ('Train the model first')\n",
    "#        return ('No model here to use')\n",
    "\n",
    "def return_car_price():\n",
    "    distance = request.args.get('distance')\n",
    "    power = request.args.get('power')\n",
    "    age = request.args.get('age')\n",
    "    distance= float(distance)\n",
    "    power = float(power)\n",
    "    age = float(age)\n",
    "    print(distance)\n",
    "    print(power)\n",
    "    print(age)\n",
    "    car_price = my_car_price_predictor.predict(power,distance,age) \n",
    "    print(car_price)\n",
    "    car_price = np.exp(car_price).tolist()\n",
    "    print(car_price)\n",
    "    car_price_dict = { \n",
    "                'model':'GBM Regression',\n",
    "                'car_price': car_price,\n",
    "                }\n",
    "    return jsonify(car_price_dict)\n",
    "@app.route(\"/\",methods=['GET']) # To process the request\n",
    "def default(): # DEfault URL to display\n",
    "  return \"<h1> Welcome to Car price predictor <h1>\"\n",
    "\n",
    "if __name__ == '__main__':\n",
    "#    gbm = joblib.load(\"model_gbm.pkl\") # Load \"model.pkl\"\n",
    "#    print ('Model loaded')\n",
    "#    model_columns = joblib.load(\"model_columns.pkl\") # Load \"model_columns.pkl\"\n",
    "#    print ('Model columns loaded')\n",
    "    app.run()\n",
    "     \n"
   ]
  },
  {
   "cell_type": "code",
   "execution_count": null,
   "metadata": {},
   "outputs": [],
   "source": []
  }
 ],
 "metadata": {
  "kernelspec": {
   "display_name": "Python 3",
   "language": "python",
   "name": "python3"
  },
  "language_info": {
   "codemirror_mode": {
    "name": "ipython",
    "version": 3
   },
   "file_extension": ".py",
   "mimetype": "text/x-python",
   "name": "python",
   "nbconvert_exporter": "python",
   "pygments_lexer": "ipython3",
   "version": "3.6.5"
  }
 },
 "nbformat": 4,
 "nbformat_minor": 2
}
