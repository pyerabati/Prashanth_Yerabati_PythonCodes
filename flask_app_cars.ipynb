{
 "cells": [
  {
   "cell_type": "code",
   "execution_count": 1,
   "metadata": {},
   "outputs": [],
   "source": [
    "# Installing import-ipynb to call another Jypyter class\n",
    "!pip install import-ipynb"
   ]
  },
  {
   "cell_type": "code",
   "execution_count": null,
   "metadata": {},
   "outputs": [],
   "source": [
    "import import_ipynb\n",
    "import json\n",
    "import os\n",
    "from flask import Flask,jsonify,request\n",
    "from flask_cors import CORS\n",
    "from predictor import my_salary_predictor\n"
   ]
  },
  {
   "cell_type": "code",
   "execution_count": null,
   "metadata": {},
   "outputs": [
    {
     "name": "stderr",
     "output_type": "stream",
     "text": [
      " * Running on http://127.0.0.1:5000/ (Press CTRL+C to quit)\n",
      "127.0.0.1 - - [06/Feb/2019 10:11:19] \"\u001b[37mGET /salary/?exp=3 HTTP/1.1\u001b[0m\" 200 -\n"
     ]
    },
    {
     "name": "stdout",
     "output_type": "stream",
     "text": [
      "<class 'str'>\n",
      "exp\n"
     ]
    }
   ],
   "source": [
    "# Define Falsk parameters such as Route in URL and the parameters required\n",
    "my_salary_predictor = my_salary_predictor()\n",
    "app = Flask(__name__)\n",
    "\n",
    "CORS(app) # To set the right Headers\n",
    "@app.route(\"/salary/\",methods=['GET']) # URL Route\n",
    "def return_salary():\n",
    "    exp = request.args.get('exp') # Parameters \n",
    "    print(type(exp))\n",
    "    exp = float(exp)\n",
    "    salary = my_salary_predictor.predict(exp) \n",
    "    salary_dict = { # Create dictionary to display output in Json format\n",
    "                'model':'Linear Regression',\n",
    "                'salary': salary,\n",
    "                }\n",
    "    return jsonify(salary_dict)\n",
    "@app.route(\"/\",methods=['GET']) # To process the request\n",
    "def default(): # DEfault URL to display\n",
    "  return \"<h1> Welcome to Salary price predictor <h1>\"\n",
    "\n",
    "if __name__ == '__main__':\n",
    "    app.run()\n",
    "     \n"
   ]
  },
  {
   "cell_type": "code",
   "execution_count": null,
   "metadata": {},
   "outputs": [],
   "source": []
  }
 ],
 "metadata": {
  "kernelspec": {
   "display_name": "Python 3",
   "language": "python",
   "name": "python3"
  }
 },
 "nbformat": 4,
 "nbformat_minor": 2
}
