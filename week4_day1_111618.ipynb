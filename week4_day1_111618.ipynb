{
 "cells": [
  {
   "cell_type": "code",
   "execution_count": 1,
   "metadata": {},
   "outputs": [],
   "source": [
    "import os\n"
   ]
  },
  {
   "cell_type": "code",
   "execution_count": 2,
   "metadata": {},
   "outputs": [
    {
     "data": {
      "text/plain": [
       "'C:\\\\Users\\\\Prashanth Yerabati\\\\Python Lab'"
      ]
     },
     "execution_count": 2,
     "metadata": {},
     "output_type": "execute_result"
    }
   ],
   "source": [
    "os.getcwd()\n"
   ]
  },
  {
   "cell_type": "code",
   "execution_count": 4,
   "metadata": {},
   "outputs": [],
   "source": [
    "pi = 3.14"
   ]
  },
  {
   "cell_type": "code",
   "execution_count": 9,
   "metadata": {},
   "outputs": [
    {
     "name": "stdout",
     "output_type": "stream",
     "text": [
      "6.28\n",
      "0.0\n",
      "9.8596\n",
      "1.0\n",
      "9.8596\n"
     ]
    }
   ],
   "source": [
    "# Variables\n",
    "api = 3.14\n",
    "print(pi+api)\n",
    "print(pi-api)\n",
    "print(pi*api)\n",
    "print(pi/api)\n",
    "print(pi**2)"
   ]
  },
  {
   "cell_type": "code",
   "execution_count": 1,
   "metadata": {},
   "outputs": [
    {
     "name": "stdout",
     "output_type": "stream",
     "text": [
      "True <class 'bool'>\n",
      "True False\n"
     ]
    }
   ],
   "source": [
    "# Bolean type of variables\n",
    "t=True\n",
    "print(t,type(t))\n",
    "t,f = True,False\n",
    "print(t,f)\n",
    "\n"
   ]
  },
  {
   "cell_type": "code",
   "execution_count": null,
   "metadata": {},
   "outputs": [],
   "source": []
  },
  {
   "cell_type": "code",
   "execution_count": 25,
   "metadata": {},
   "outputs": [
    {
     "name": "stdout",
     "output_type": "stream",
     "text": [
      "Hello Hello\n",
      "<class 'str'>\n",
      "<class 'str'>\n"
     ]
    },
    {
     "data": {
      "text/plain": [
       "str"
      ]
     },
     "execution_count": 25,
     "metadata": {},
     "output_type": "execute_result"
    }
   ],
   "source": [
    "\n",
    "## Strings\n",
    "a='Hello'\n",
    "b =\"Hello\"\n",
    "c='x'\n",
    "print(a,b)\n",
    "print(type(a))\n",
    "print(type(c))\n",
    "type(a)"
   ]
  },
  {
   "cell_type": "code",
   "execution_count": 65,
   "metadata": {},
   "outputs": [
    {
     "name": "stdout",
     "output_type": "stream",
     "text": [
      "   hello\n",
      "(['Prashanth', 'Yerabati'], 1)\n"
     ]
    },
    {
     "data": {
      "text/plain": [
       "'Apavan kumarBpavan kumarC'"
      ]
     },
     "execution_count": 65,
     "metadata": {},
     "output_type": "execute_result"
    }
   ],
   "source": [
    "## Methods to Manipulate the Variables\n",
    "a='hello'\n",
    "a.capitalize()\n",
    "a.title()\n",
    "a.upper()\n",
    "a = a.upper()\n",
    "a = '   hello'\n",
    "print(a)\n",
    "x=a.strip()\n",
    "x\n",
    "x.startswith('h')\n",
    "x ='prashanth'\n",
    "x.startswith('a',2)\n",
    "x = 'satish   '\n",
    "x.rstrip()\n",
    "x.islower()\n",
    "x = 'Prashanth,Yerabati'\n",
    "x.split(\",\")\n",
    "y = 'Prashanth/Ravi/Satish/test'\n",
    "y.split(\"/\", maxsplit=3)\n",
    "x = 'pavan'\n",
    "x.count('a')\n",
    "x='Prashanth Yerabati'x=x.split()\n",
    "x=(x,1)\n",
    "print(x)\n",
    "x = 'pavan kumar'\n",
    "x.join('AB')\n",
    "x.join('ABC')"
   ]
  },
  {
   "cell_type": "code",
   "execution_count": 67,
   "metadata": {},
   "outputs": [
    {
     "data": {
      "text/plain": [
       "1"
      ]
     },
     "execution_count": 67,
     "metadata": {},
     "output_type": "execute_result"
    }
   ],
   "source": [
    "x = 'pavan'\n",
    "x.index('a')"
   ]
  },
  {
   "cell_type": "code",
   "execution_count": 70,
   "metadata": {},
   "outputs": [
    {
     "data": {
      "text/plain": [
       "enumerate"
      ]
     },
     "execution_count": 70,
     "metadata": {},
     "output_type": "execute_result"
    }
   ],
   "source": [
    "#enumeric\n",
    "y = enumerate(x)\n",
    "list(y)\n",
    "type(y)"
   ]
  },
  {
   "cell_type": "code",
   "execution_count": 81,
   "metadata": {},
   "outputs": [
    {
     "name": "stdout",
     "output_type": "stream",
     "text": [
      "Hello there:I AM FROM INSOFE BATCH53!!!\n"
     ]
    }
   ],
   "source": [
    "\n",
    "## Concatenation\n",
    "irststring = 'I am'\n",
    "secondstring ='INSOFE Batch'\n",
    "batchNo = 53\n",
    "print(\"Hello there:\"+firststring.upper()+' ' +\"FROM \"+secondstring.upper()+str(batchNo)+\"!!!\")"
   ]
  },
  {
   "cell_type": "code",
   "execution_count": 1,
   "metadata": {},
   "outputs": [
    {
     "name": "stdout",
     "output_type": "stream",
     "text": [
      "['Hello', 'I', 'am', 'Prashanth']\n",
      "4\n"
     ]
    }
   ],
   "source": [
    "## Separation or Split\n",
    "k = 'Hello I am Prashanth'\n",
    "k = k.split()\n",
    "print(k)\n",
    "print(len(k))"
   ]
  },
  {
   "cell_type": "code",
   "execution_count": 92,
   "metadata": {},
   "outputs": [
    {
     "name": "stdout",
     "output_type": "stream",
     "text": [
      "['Hello', 'I', 'am', 'Prashanth']\n"
     ]
    }
   ],
   "source": [
    "# Split\n",
    "k = k.split()\n",
    "print(k)"
   ]
  },
  {
   "cell_type": "code",
   "execution_count": 97,
   "metadata": {},
   "outputs": [
    {
     "name": "stdout",
     "output_type": "stream",
     "text": [
      "True\n",
      "False\n",
      "True\n",
      "False\n"
     ]
    },
    {
     "data": {
      "text/plain": [
       "True"
      ]
     },
     "execution_count": 97,
     "metadata": {},
     "output_type": "execute_result"
    }
   ],
   "source": [
    "# logical operator\n",
    "t and f\n",
    "print(t or f)\n",
    "print(t and f)\n",
    "print(t|f)\n",
    "print(not t)\n",
    "3!=4\n"
   ]
  },
  {
   "cell_type": "code",
   "execution_count": 102,
   "metadata": {},
   "outputs": [
    {
     "name": "stdout",
     "output_type": "stream",
     "text": [
      "False\n",
      "False\n",
      "True\n"
     ]
    }
   ],
   "source": [
    "\n",
    "# Relational operator\n",
    "print(not t |3<4)\n",
    "x=3\n",
    "print(x!=3 | x<4)\n",
    "print(x==3 & x<4)"
   ]
  },
  {
   "cell_type": "code",
   "execution_count": 103,
   "metadata": {},
   "outputs": [
    {
     "data": {
      "text/plain": [
       "3"
      ]
     },
     "execution_count": 103,
     "metadata": {},
     "output_type": "execute_result"
    }
   ],
   "source": [
    "\n",
    "# List\n",
    "a = [1, 2,3,4, 5]\n",
    "a[0]\n",
    "a[-1]\n",
    "a[-3]"
   ]
  },
  {
   "cell_type": "code",
   "execution_count": 122,
   "metadata": {},
   "outputs": [
    {
     "name": "stdout",
     "output_type": "stream",
     "text": [
      "[3, 4, 6]\n",
      "[1, 3, 4]\n",
      "[6, 23]\n",
      "[23]\n",
      "[4, 6, 23]\n",
      "[23]\n",
      "[1, 3, 4, 6]\n",
      "[]\n"
     ]
    }
   ],
   "source": [
    "a = [1,3,4,6,23]\n",
    "print(a[1:4])\n",
    "print(a[:3])\n",
    "print(a[3:])\n",
    "print(a[-1:])\n",
    "print(a[-3:])\n",
    "print(a[-1:])\n",
    "print(a[:-1])\n",
    "print(a[-1:-3])\n"
   ]
  },
  {
   "cell_type": "code",
   "execution_count": 123,
   "metadata": {},
   "outputs": [
    {
     "data": {
      "text/plain": [
       "[1, 2, 3, 4, [11, 24, 36], 11, 24, 36]"
      ]
     },
     "execution_count": 123,
     "metadata": {},
     "output_type": "execute_result"
    }
   ],
   "source": [
    "a = [1,2,3]\n",
    "b =[4,5,6]\n",
    "a.append(4)\n",
    "x = [11, 24, 36]\n",
    "a.append(x)\n",
    "a\n",
    "a.extend(x)\n",
    "a"
   ]
  },
  {
   "cell_type": "code",
   "execution_count": 130,
   "metadata": {},
   "outputs": [
    {
     "data": {
      "text/plain": [
       "[1, 2, 1000, 3, 1, 1, 1]"
      ]
     },
     "execution_count": 130,
     "metadata": {},
     "output_type": "execute_result"
    }
   ],
   "source": [
    "a = [1,2,3,4,1,1,1,7]\n",
    "a.count(1)\n",
    "a.pop()\n",
    "a\n",
    "a.remove(4)\n",
    "a.insert(2,100)\n",
    "a\n",
    "a[2] = 1000\n",
    "a"
   ]
  },
  {
   "cell_type": "code",
   "execution_count": 133,
   "metadata": {},
   "outputs": [
    {
     "data": {
      "text/plain": [
       "['a', 'abc', 'batch']"
      ]
     },
     "execution_count": 133,
     "metadata": {},
     "output_type": "execute_result"
    }
   ],
   "source": [
    "mylist = ['a', [1,2,3], 'abc']\n",
    "mylist.append('batch')\n",
    "mylist.remove([1,2,3])\n",
    "mylist"
   ]
  },
  {
   "cell_type": "code",
   "execution_count": 139,
   "metadata": {},
   "outputs": [
    {
     "data": {
      "text/plain": [
       "['a', 'bat', 23, True]"
      ]
     },
     "execution_count": 139,
     "metadata": {},
     "output_type": "execute_result"
    }
   ],
   "source": [
    "msl=['a','b',23,True]\n",
    "msl[-1]\n",
    "msl[1] = 'bat'\n",
    "msl"
   ]
  },
  {
   "cell_type": "code",
   "execution_count": 150,
   "metadata": {},
   "outputs": [
    {
     "data": {
      "text/plain": [
       "[100, 3, 5, 7, 9]"
      ]
     },
     "execution_count": 150,
     "metadata": {},
     "output_type": "execute_result"
    }
   ],
   "source": [
    "a = [1,2,3,4]\n",
    "b = [5,6,7,8]\n",
    "c = a + b\n",
    "c\n",
    "c.append('alpha')\n",
    "c\n",
    "c.insert(2,'alpha')\n",
    "x = [1,4,5]\n",
    "c.append(x)\n",
    "c.extend(x)\n",
    "c\n",
    "range(5)\n",
    "list(range(5))\n",
    "list(range(1,10))\n",
    "x=list(range(1,10,2))\n",
    "x[0]\n",
    "x[0] = 100\n",
    "x\n",
    "\n",
    "\n"
   ]
  },
  {
   "cell_type": "code",
   "execution_count": 151,
   "metadata": {},
   "outputs": [
    {
     "data": {
      "text/plain": [
       "'p'"
      ]
     },
     "execution_count": 151,
     "metadata": {},
     "output_type": "execute_result"
    }
   ],
   "source": [
    "x = 'pavan'\n",
    "x[0]"
   ]
  },
  {
   "cell_type": "code",
   "execution_count": null,
   "metadata": {},
   "outputs": [],
   "source": [
    "x=int(input(\"Please enter a number\"))"
   ]
  },
  {
   "cell_type": "markdown",
   "metadata": {},
   "source": [
    "\n",
    "\n"
   ]
  },
  {
   "cell_type": "code",
   "execution_count": null,
   "metadata": {},
   "outputs": [],
   "source": [
    "if x>0:\n",
    "    \n",
    "    ('entered number is positive')\n",
    "else:\n",
    "    print(enterd number is negative')"
   ]
  },
  {
   "cell_type": "code",
   "execution_count": 2,
   "metadata": {},
   "outputs": [
    {
     "name": "stdin",
     "output_type": "stream",
     "text": [
      "please enter the trasaction amount 3000\n"
     ]
    }
   ],
   "source": [
    "x = int(input(\"please enter the trasaction amount\"))"
   ]
  },
  {
   "cell_type": "code",
   "execution_count": null,
   "metadata": {},
   "outputs": [],
   "source": [
    "if x > 1000:\n",
    "    print(\"Transaction amount is too low\")\n",
    "elif x  > 2000:\n",
    "    print(\"Transaction amount is low\")\n",
    "else:\n",
    "    print(\"transaction amount is high\")"
   ]
  },
  {
   "cell_type": "code",
   "execution_count": 1,
   "metadata": {},
   "outputs": [
    {
     "name": "stdin",
     "output_type": "stream",
     "text": [
      "Please enter the value of x 1500\n"
     ]
    },
    {
     "name": "stdout",
     "output_type": "stream",
     "text": [
      "1\n"
     ]
    }
   ],
   "source": [
    "x=int(input(\"Please enter the value of x\"))\n",
    "amt = 2 if x<1000 else 1 if x<2000 else 0\n",
    "print(amt)"
   ]
  },
  {
   "cell_type": "code",
   "execution_count": null,
   "metadata": {},
   "outputs": [],
   "source": [
    "a=[10,23,15,16]\n",
    "for i in range(len(a)):\n",
    "    if a[i] > 0 :\n",
    "        print(\"The number is positive\",a[i])\n",
    "    else:\n",
    "        print(\"the number is negative\",a[i])\n",
    "    \n"
   ]
  },
  {
   "cell_type": "code",
   "execution_count": 7,
   "metadata": {},
   "outputs": [
    {
     "name": "stdout",
     "output_type": "stream",
     "text": [
      "The even numbers less than 10 are  2\n",
      "The even numbers less than 10 are  4\n",
      "The even numbers less than 10 are  6\n",
      "The even numbers less than 10 are  8\n",
      "The even numbers less than 10 are  10\n",
      "The even numbers less than 10 are  12\n"
     ]
    }
   ],
   "source": [
    "i=0\n",
    "while(i<=10):\n",
    "    i=i+2\n",
    "    print(\"The even numbers less than 10 are \",i)\n",
    "    "
   ]
  },
  {
   "cell_type": "code",
   "execution_count": 10,
   "metadata": {},
   "outputs": [
    {
     "data": {
      "text/plain": [
       "[2,\n",
       " 4,\n",
       " 6,\n",
       " 8,\n",
       " 10,\n",
       " 12,\n",
       " 14,\n",
       " 16,\n",
       " 18,\n",
       " 20,\n",
       " 22,\n",
       " 24,\n",
       " 26,\n",
       " 28,\n",
       " 30,\n",
       " 32,\n",
       " 34,\n",
       " 36,\n",
       " 38,\n",
       " 40,\n",
       " 42,\n",
       " 44,\n",
       " 46,\n",
       " 48]"
      ]
     },
     "execution_count": 10,
     "metadata": {},
     "output_type": "execute_result"
    }
   ],
   "source": [
    "a=list(range(1,50))\n",
    "b=[]\n",
    "for i in a :\n",
    "    if i%2==0:\n",
    "        b.append(i)\n",
    "b"
   ]
  },
  {
   "cell_type": "code",
   "execution_count": 17,
   "metadata": {},
   "outputs": [
    {
     "name": "stdout",
     "output_type": "stream",
     "text": [
      "[2, 4, 6, 8, 10, 12, 14, 16, 18, 20, 22, 24, 26, 28, 30, 32, 34, 36, 38, 40, 42, 44, 46, 48]\n"
     ]
    }
   ],
   "source": [
    "a = list(range(1,50))\n",
    "b = []\n",
    "for i in range(len(a)):\n",
    "    if a[i]%2==0:\n",
    "        b.insert(i,a[i])\n",
    "print(b)\n",
    "        "
   ]
  },
  {
   "cell_type": "code",
   "execution_count": 20,
   "metadata": {},
   "outputs": [
    {
     "name": "stdout",
     "output_type": "stream",
     "text": [
      "9\n"
     ]
    }
   ],
   "source": [
    "def add(a,b):\n",
    "    return a+b\n",
    "\n",
    "add(4,5)\n",
    "    "
   ]
  },
  {
   "cell_type": "code",
   "execution_count": 21,
   "metadata": {},
   "outputs": [
    {
     "name": "stdout",
     "output_type": "stream",
     "text": [
      "21\n"
     ]
    }
   ],
   "source": [
    "add(10,11)"
   ]
  },
  {
   "cell_type": "code",
   "execution_count": 18,
   "metadata": {},
   "outputs": [],
   "source": [
    "a = range(1,50)\n",
    "b = [i for i in a if i%2==0]\n",
    "b = [i**2 for i in a if i%2==0]\n"
   ]
  },
  {
   "cell_type": "code",
   "execution_count": null,
   "metadata": {},
   "outputs": [],
   "source": [
    "a = range(1,50) \n",
    "b = []\n",
    "for i in a:\n",
    "    if i%2==0;\n",
    "        b.append(1)\n",
    "    else:\n",
    "        b.append(0)\n",
    "print(a,)\n",
    "print(b,)\n",
    "b = [1 for i in a if i%2==0  ]\n"
   ]
  },
  {
   "cell_type": "code",
   "execution_count": 3,
   "metadata": {},
   "outputs": [
    {
     "name": "stdout",
     "output_type": "stream",
     "text": [
      "1\n",
      "2\n",
      "3\n",
      "5\n",
      "7\n"
     ]
    }
   ],
   "source": [
    "a = [1,2,3,5,7]\n",
    "b = set(a)\n",
    "b\n",
    "for i in b:\n",
    "    print(i)\n"
   ]
  },
  {
   "cell_type": "code",
   "execution_count": 4,
   "metadata": {},
   "outputs": [
    {
     "data": {
      "text/plain": [
       "tuple"
      ]
     },
     "execution_count": 4,
     "metadata": {},
     "output_type": "execute_result"
    }
   ],
   "source": [
    "a = (1,2,3)\n",
    "type(a)\n",
    "a[0]\n",
    "a[1:3]\n"
   ]
  },
  {
   "cell_type": "code",
   "execution_count": 6,
   "metadata": {},
   "outputs": [
    {
     "data": {
      "text/plain": [
       "'b'"
      ]
     },
     "execution_count": 6,
     "metadata": {},
     "output_type": "execute_result"
    }
   ],
   "source": [
    "x = [('a',1),('b',2),('c',3)]\n",
    "x[0][1]\n",
    "x[1][0]"
   ]
  },
  {
   "cell_type": "code",
   "execution_count": null,
   "metadata": {},
   "outputs": [],
   "source": [
    "\n"
   ]
  },
  {
   "cell_type": "code",
   "execution_count": 6,
   "metadata": {},
   "outputs": [
    {
     "name": "stdout",
     "output_type": "stream",
     "text": [
      "a 1\n",
      "b 2\n",
      "c 3\n",
      "b\n"
     ]
    }
   ],
   "source": [
    "dict1={'a': 1, 'b':2, 'c':3}\n",
    "dict1.keys()\n",
    "dict1.values()\n",
    "for key in dict1:\n",
    "    print(key,dict1[key])\n",
    "value=2\n",
    "for k,v in dict1.items():\n",
    "    if (value==dict1[k]):\n",
    "        print(k)\n",
    "    \n",
    "\n"
   ]
  },
  {
   "cell_type": "code",
   "execution_count": 12,
   "metadata": {},
   "outputs": [],
   "source": [
    "dict1['d']=4"
   ]
  },
  {
   "cell_type": "code",
   "execution_count": 22,
   "metadata": {},
   "outputs": [],
   "source": [
    "def method(dict1,value):\n",
    "    for k, v in dict1.iteritems():\n",
    "        if v == value:\n",
    "            yield k\n",
    "    for r in method(dict1,2):\n",
    "        print(r)"
   ]
  },
  {
   "cell_type": "code",
   "execution_count": 21,
   "metadata": {},
   "outputs": [
    {
     "data": {
      "text/plain": [
       "[8, 10, 12]"
      ]
     },
     "execution_count": 21,
     "metadata": {},
     "output_type": "execute_result"
    }
   ],
   "source": [
    "a = [2,3,4]\n",
    "b = [6,7,8]\n",
    "c=[]\n",
    "for i in range(len(a)):\n",
    "    c.append(a[i]+b[i])\n",
    "\n",
    "c"
   ]
  },
  {
   "cell_type": "code",
   "execution_count": 3,
   "metadata": {},
   "outputs": [
    {
     "name": "stdout",
     "output_type": "stream",
     "text": [
      "[1 2 3] <class 'numpy.ndarray'>\n"
     ]
    },
    {
     "data": {
      "text/plain": [
       "array([ 4, 10, 18])"
      ]
     },
     "execution_count": 3,
     "metadata": {},
     "output_type": "execute_result"
    }
   ],
   "source": [
    "import numpy as np\n",
    "a=np.array([1,2,3])\n",
    "b=np.array([4,5,6])\n",
    "print(a,type(a))\n",
    "np.subtract(a,b)\n",
    "np.divide(a,b)\n",
    "np.multiply(a,b)"
   ]
  },
  {
   "cell_type": "code",
   "execution_count": 4,
   "metadata": {},
   "outputs": [
    {
     "data": {
      "text/plain": [
       "(2, 2)"
      ]
     },
     "execution_count": 4,
     "metadata": {},
     "output_type": "execute_result"
    }
   ],
   "source": [
    "a=np.array([[1,2],[3,4]])\n",
    "a.shape"
   ]
  },
  {
   "cell_type": "code",
   "execution_count": 19,
   "metadata": {},
   "outputs": [
    {
     "data": {
      "text/plain": [
       "(2, 3)"
      ]
     },
     "execution_count": 19,
     "metadata": {},
     "output_type": "execute_result"
    }
   ],
   "source": [
    "a=np.array([[1,2,3],[4,5,6]])\n",
    "a.shape"
   ]
  },
  {
   "cell_type": "code",
   "execution_count": 20,
   "metadata": {},
   "outputs": [
    {
     "data": {
      "text/plain": [
       "array([3, 4])"
      ]
     },
     "execution_count": 20,
     "metadata": {},
     "output_type": "execute_result"
    }
   ],
   "source": [
    "a=np.array([[1,2],[3,4],[5,6]])\n",
    "a.shape\n",
    "a[1,1]\n",
    "a[1,:]"
   ]
  },
  {
   "cell_type": "code",
   "execution_count": 4,
   "metadata": {},
   "outputs": [
    {
     "data": {
      "text/plain": [
       "(3, 3, 4)"
      ]
     },
     "execution_count": 4,
     "metadata": {},
     "output_type": "execute_result"
    }
   ],
   "source": [
    "three_dim_array=np.array([[[1,2,3,4],[5,6,7,8],[9,10,11,12]],[[1,2,3,4],[5,6,7,8],[9,10,11,12]],[[1,2,3,4],[5,6,7,8],[9,10,11,12]]])\n",
    "three_dim_array\n",
    "three_dim_array.shape\n"
   ]
  },
  {
   "cell_type": "code",
   "execution_count": null,
   "metadata": {},
   "outputs": [],
   "source": []
  }
 ],
 "metadata": {
  "kernelspec": {
   "display_name": "Python 3",
   "language": "python",
   "name": "python3"
  },
  "language_info": {
   "codemirror_mode": {
    "name": "ipython",
    "version": 3
   },
   "file_extension": ".py",
   "mimetype": "text/x-python",
   "name": "python",
   "nbconvert_exporter": "python",
   "pygments_lexer": "ipython3",
   "version": "3.7.0"
  }
 },
 "nbformat": 4,
 "nbformat_minor": 2
}
