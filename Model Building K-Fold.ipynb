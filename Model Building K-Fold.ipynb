{
 "cells": [
  {
   "cell_type": "markdown",
   "metadata": {},
   "source": [
    "## Exploratory Data Analysis and Preprocessing"
   ]
  },
  {
   "cell_type": "code",
   "execution_count": 1,
   "metadata": {},
   "outputs": [
    {
     "name": "stdout",
     "output_type": "stream",
     "text": [
      "Populating the interactive namespace from numpy and matplotlib\n"
     ]
    }
   ],
   "source": [
    "%pylab inline\n",
    "import pandas as pd\n",
    "import os\n",
    "# data visualization\n",
    "import matplotlib.pyplot as plt\n",
    "# NLP\n",
    "import nltk\n",
    "# Seaborn\n",
    "import seaborn as sns\n",
    "#Warnings\n",
    "import warnings\n",
    "warnings.filterwarnings('ignore')"
   ]
  },
  {
   "cell_type": "code",
   "execution_count": 2,
   "metadata": {},
   "outputs": [],
   "source": [
    "# Change current working directory to the data folder\n",
    "os.getcwd()\n",
    "os.chdir(\"E:\\Insofe\\PH.D\\PHD_ML\")"
   ]
  },
  {
   "cell_type": "code",
   "execution_count": 3,
   "metadata": {},
   "outputs": [],
   "source": [
    "# Read Train file into pandas\n",
    "df = pd.read_csv(\"Train-1554810061973.csv\")"
   ]
  },
  {
   "cell_type": "code",
   "execution_count": 4,
   "metadata": {},
   "outputs": [],
   "source": [
    "df['len'] = [len(x) for x in df['reviewtext']]"
   ]
  },
  {
   "cell_type": "code",
   "execution_count": 5,
   "metadata": {
    "scrolled": true
   },
   "outputs": [
    {
     "data": {
      "text/html": [
       "<div>\n",
       "<style scoped>\n",
       "    .dataframe tbody tr th:only-of-type {\n",
       "        vertical-align: middle;\n",
       "    }\n",
       "\n",
       "    .dataframe tbody tr th {\n",
       "        vertical-align: top;\n",
       "    }\n",
       "\n",
       "    .dataframe thead th {\n",
       "        text-align: right;\n",
       "    }\n",
       "</style>\n",
       "<table border=\"1\" class=\"dataframe\">\n",
       "  <thead>\n",
       "    <tr style=\"text-align: right;\">\n",
       "      <th></th>\n",
       "      <th>Reviewid</th>\n",
       "      <th>Hotelid</th>\n",
       "      <th>userid</th>\n",
       "      <th>Date</th>\n",
       "      <th>reviewtext</th>\n",
       "      <th>Sentiment</th>\n",
       "      <th>len</th>\n",
       "    </tr>\n",
       "  </thead>\n",
       "  <tbody>\n",
       "    <tr>\n",
       "      <th>0</th>\n",
       "      <td>Review_1</td>\n",
       "      <td>hotel_101</td>\n",
       "      <td>hotel_1608</td>\n",
       "      <td>Nov 16, 2007</td>\n",
       "      <td>Nice Marriot       View of my king bed room</td>\n",
       "      <td>good</td>\n",
       "      <td>43</td>\n",
       "    </tr>\n",
       "    <tr>\n",
       "      <th>1</th>\n",
       "      <td>Review_2</td>\n",
       "      <td>hotel_101</td>\n",
       "      <td>hotel_6939</td>\n",
       "      <td>Oct 30, 2007</td>\n",
       "      <td>Good hotel, charges for internet access The Ma...</td>\n",
       "      <td>good</td>\n",
       "      <td>1170</td>\n",
       "    </tr>\n",
       "    <tr>\n",
       "      <th>2</th>\n",
       "      <td>Review_3</td>\n",
       "      <td>hotel_101</td>\n",
       "      <td>hotel_3976</td>\n",
       "      <td>Oct 12, 2007</td>\n",
       "      <td>Small but adequate rooms If you have an early ...</td>\n",
       "      <td>good</td>\n",
       "      <td>668</td>\n",
       "    </tr>\n",
       "    <tr>\n",
       "      <th>3</th>\n",
       "      <td>Review_4</td>\n",
       "      <td>hotel_101</td>\n",
       "      <td>hotel_2851</td>\n",
       "      <td>Aug 31, 2007</td>\n",
       "      <td>Better than average, some noisy rooms I have s...</td>\n",
       "      <td>good</td>\n",
       "      <td>3529</td>\n",
       "    </tr>\n",
       "    <tr>\n",
       "      <th>4</th>\n",
       "      <td>Review_5</td>\n",
       "      <td>hotel_101</td>\n",
       "      <td>hotel_7897</td>\n",
       "      <td>Jul 18, 2007</td>\n",
       "      <td>Ordinary Although it is highly rated in these ...</td>\n",
       "      <td>bad</td>\n",
       "      <td>1143</td>\n",
       "    </tr>\n",
       "  </tbody>\n",
       "</table>\n",
       "</div>"
      ],
      "text/plain": [
       "   Reviewid    Hotelid      userid          Date  \\\n",
       "0  Review_1  hotel_101  hotel_1608  Nov 16, 2007   \n",
       "1  Review_2  hotel_101  hotel_6939  Oct 30, 2007   \n",
       "2  Review_3  hotel_101  hotel_3976  Oct 12, 2007   \n",
       "3  Review_4  hotel_101  hotel_2851  Aug 31, 2007   \n",
       "4  Review_5  hotel_101  hotel_7897  Jul 18, 2007   \n",
       "\n",
       "                                          reviewtext Sentiment   len  \n",
       "0        Nice Marriot       View of my king bed room      good    43  \n",
       "1  Good hotel, charges for internet access The Ma...      good  1170  \n",
       "2  Small but adequate rooms If you have an early ...      good   668  \n",
       "3  Better than average, some noisy rooms I have s...      good  3529  \n",
       "4  Ordinary Although it is highly rated in these ...       bad  1143  "
      ]
     },
     "execution_count": 5,
     "metadata": {},
     "output_type": "execute_result"
    }
   ],
   "source": [
    "df.head()"
   ]
  },
  {
   "cell_type": "code",
   "execution_count": 6,
   "metadata": {},
   "outputs": [
    {
     "data": {
      "text/plain": [
       "count    6287.000000\n",
       "mean      915.279307\n",
       "std       755.205845\n",
       "min         5.000000\n",
       "25%       443.000000\n",
       "50%       757.000000\n",
       "75%      1190.000000\n",
       "max      7445.000000\n",
       "Name: len, dtype: float64"
      ]
     },
     "execution_count": 6,
     "metadata": {},
     "output_type": "execute_result"
    }
   ],
   "source": [
    "df['len'].describe()"
   ]
  },
  {
   "cell_type": "markdown",
   "metadata": {},
   "source": [
    "### Understanding the Distribution of target varaible with length"
   ]
  },
  {
   "cell_type": "markdown",
   "metadata": {},
   "source": [
    "### len vs Excellent Sentiment"
   ]
  },
  {
   "cell_type": "code",
   "execution_count": 7,
   "metadata": {},
   "outputs": [
    {
     "name": "stdout",
     "output_type": "stream",
     "text": [
      "mean = 825.531202435312\n",
      "std = 668.7952702899271\n"
     ]
    },
    {
     "data": {
      "image/png": "[encoded data removed]",
      "text/plain": [
       "<Figure size 432x288 with 1 Axes>"
      ]
     },
     "metadata": {},
     "output_type": "display_data"
    }
   ],
   "source": [
    "excellent = df[(df['Sentiment'] == 'excellent')]\n",
    "plot = sns.distplot(excellent['len'],label='Distribution of Excellent Reviews',axlabel='Length of the Excellent Reviews',color=\"g\")\n",
    "fig = plot.get_figure()\n",
    "fig.savefig(\"pos_distribution.png\")\n",
    "print ('mean =',mean(excellent['len']))\n",
    "print ('std =', std(excellent['len']))"
   ]
  },
  {
   "cell_type": "markdown",
   "metadata": {},
   "source": [
    "### len Vs Good Sentiment"
   ]
  },
  {
   "cell_type": "code",
   "execution_count": 8,
   "metadata": {
    "scrolled": true
   },
   "outputs": [
    {
     "name": "stdout",
     "output_type": "stream",
     "text": [
      "mean = 896.0662931839403\n",
      "std = 723.2834030105421\n"
     ]
    },
    {
     "data": {
      "image/png": "[encoded data removed]",
      "text/plain": [
       "<Figure size 432x288 with 1 Axes>"
      ]
     },
     "metadata": {},
     "output_type": "display_data"
    }
   ],
   "source": [
    "good = df[(df['Sentiment'] == 'good')]\n",
    "plot = sns.distplot(good['len'],label='Distribution of Good Reviews',axlabel='Length of the Good Reviews', color=\"b\")\n",
    "fig = plot.get_figure()\n",
    "fig.savefig(\"good_distribution.png\")\n",
    "print( 'mean =', mean(good['len']))\n",
    "print ('std =', std(good['len']))"
   ]
  },
  {
   "cell_type": "markdown",
   "metadata": {},
   "source": [
    "### len vs bad Sentiment"
   ]
  },
  {
   "cell_type": "code",
   "execution_count": 9,
   "metadata": {},
   "outputs": [
    {
     "name": "stdout",
     "output_type": "stream",
     "text": [
      "mean = 1131.6210335448777\n",
      "std = 930.0058528325673\n"
     ]
    },
    {
     "data": {
      "image/png": "[encoded data removed]",
      "text/plain": [
       "<Figure size 432x288 with 1 Axes>"
      ]
     },
     "metadata": {},
     "output_type": "display_data"
    }
   ],
   "source": [
    "bad = df[(df['Sentiment'] == 'bad')]\n",
    "plot = sns.distplot(bad['len'],label='Distribution of bad Reviews',axlabel='Length of the bad Reviews', color=\"r\")\n",
    "fig = plot.get_figure()\n",
    "fig.savefig(\"bad_distribution.png\")\n",
    "print( 'mean =', mean(bad['len']))\n",
    "print ('std =', std(bad['len']))"
   ]
  },
  {
   "cell_type": "code",
   "execution_count": 10,
   "metadata": {},
   "outputs": [],
   "source": [
    "def len_vis(data_col):\n",
    "    t_col = data_col.apply(lambda x: len(x))\n",
    "    fig=plt.figure() #Plots in matplotlib reside within a figure object, use plt.figure to create new figure\n",
    "    #Create one or more subplots using add_subplot, because you can't create blank figure\n",
    "    ax = fig.add_subplot(1,1,1)\n",
    "    #Variable\n",
    "    ax.hist(t_col,bins = 50) # Here you can play with number of bins\n",
    "\n",
    "    plt.title('Length Distribution')\n",
    "    plt.xlabel('Length')\n",
    "    plt.ylabel('Frequency')\n",
    "    plt.show()"
   ]
  },
  {
   "cell_type": "code",
   "execution_count": 11,
   "metadata": {},
   "outputs": [
    {
     "data": {
      "image/png": "[encoded data removed]",
      "text/plain": [
       "<Figure size 432x288 with 1 Axes>"
      ]
     },
     "metadata": {},
     "output_type": "display_data"
    }
   ],
   "source": [
    "len_vis(df['reviewtext'])"
   ]
  },
  {
   "cell_type": "markdown",
   "metadata": {},
   "source": [
    "### Count_unique method"
   ]
  },
  {
   "cell_type": "code",
   "execution_count": 12,
   "metadata": {},
   "outputs": [],
   "source": [
    "def count_unique(words):\n",
    "    uniq = set()\n",
    "    for sentence in words:\n",
    "        for word in sentence:\n",
    "            uniq.add(word)\n",
    "    return len(uniq)"
   ]
  },
  {
   "cell_type": "markdown",
   "metadata": {},
   "source": [
    "### Tokenize"
   ]
  },
  {
   "cell_type": "code",
   "execution_count": 13,
   "metadata": {},
   "outputs": [
    {
     "data": {
      "text/html": [
       "<div>\n",
       "<style scoped>\n",
       "    .dataframe tbody tr th:only-of-type {\n",
       "        vertical-align: middle;\n",
       "    }\n",
       "\n",
       "    .dataframe tbody tr th {\n",
       "        vertical-align: top;\n",
       "    }\n",
       "\n",
       "    .dataframe thead th {\n",
       "        text-align: right;\n",
       "    }\n",
       "</style>\n",
       "<table border=\"1\" class=\"dataframe\">\n",
       "  <thead>\n",
       "    <tr style=\"text-align: right;\">\n",
       "      <th></th>\n",
       "      <th>Reviewid</th>\n",
       "      <th>Hotelid</th>\n",
       "      <th>userid</th>\n",
       "      <th>Date</th>\n",
       "      <th>reviewtext</th>\n",
       "      <th>Sentiment</th>\n",
       "      <th>len</th>\n",
       "    </tr>\n",
       "  </thead>\n",
       "  <tbody>\n",
       "    <tr>\n",
       "      <th>0</th>\n",
       "      <td>Review_1</td>\n",
       "      <td>hotel_101</td>\n",
       "      <td>hotel_1608</td>\n",
       "      <td>Nov 16, 2007</td>\n",
       "      <td>[nice, marriot, view, of, my, king, bed, room]</td>\n",
       "      <td>good</td>\n",
       "      <td>43</td>\n",
       "    </tr>\n",
       "    <tr>\n",
       "      <th>1</th>\n",
       "      <td>Review_2</td>\n",
       "      <td>hotel_101</td>\n",
       "      <td>hotel_6939</td>\n",
       "      <td>Oct 30, 2007</td>\n",
       "      <td>[good, hotel, charges, for, internet, access, ...</td>\n",
       "      <td>good</td>\n",
       "      <td>1170</td>\n",
       "    </tr>\n",
       "    <tr>\n",
       "      <th>2</th>\n",
       "      <td>Review_3</td>\n",
       "      <td>hotel_101</td>\n",
       "      <td>hotel_3976</td>\n",
       "      <td>Oct 12, 2007</td>\n",
       "      <td>[small, but, adequate, rooms, if, you, have, a...</td>\n",
       "      <td>good</td>\n",
       "      <td>668</td>\n",
       "    </tr>\n",
       "    <tr>\n",
       "      <th>3</th>\n",
       "      <td>Review_4</td>\n",
       "      <td>hotel_101</td>\n",
       "      <td>hotel_2851</td>\n",
       "      <td>Aug 31, 2007</td>\n",
       "      <td>[better, than, average, some, noisy, rooms, i,...</td>\n",
       "      <td>good</td>\n",
       "      <td>3529</td>\n",
       "    </tr>\n",
       "    <tr>\n",
       "      <th>4</th>\n",
       "      <td>Review_5</td>\n",
       "      <td>hotel_101</td>\n",
       "      <td>hotel_7897</td>\n",
       "      <td>Jul 18, 2007</td>\n",
       "      <td>[ordinary, although, it, is, highly, rated, in...</td>\n",
       "      <td>bad</td>\n",
       "      <td>1143</td>\n",
       "    </tr>\n",
       "  </tbody>\n",
       "</table>\n",
       "</div>"
      ],
      "text/plain": [
       "   Reviewid    Hotelid      userid          Date  \\\n",
       "0  Review_1  hotel_101  hotel_1608  Nov 16, 2007   \n",
       "1  Review_2  hotel_101  hotel_6939  Oct 30, 2007   \n",
       "2  Review_3  hotel_101  hotel_3976  Oct 12, 2007   \n",
       "3  Review_4  hotel_101  hotel_2851  Aug 31, 2007   \n",
       "4  Review_5  hotel_101  hotel_7897  Jul 18, 2007   \n",
       "\n",
       "                                          reviewtext Sentiment   len  \n",
       "0     [nice, marriot, view, of, my, king, bed, room]      good    43  \n",
       "1  [good, hotel, charges, for, internet, access, ...      good  1170  \n",
       "2  [small, but, adequate, rooms, if, you, have, a...      good   668  \n",
       "3  [better, than, average, some, noisy, rooms, i,...      good  3529  \n",
       "4  [ordinary, although, it, is, highly, rated, in...       bad  1143  "
      ]
     },
     "execution_count": 13,
     "metadata": {},
     "output_type": "execute_result"
    }
   ],
   "source": [
    "#tokenize without the punctuation\n",
    "from nltk.tokenize import RegexpTokenizer\n",
    "\n",
    "tokenizer = RegexpTokenizer(r'\\w+')\n",
    "# make reviews lowercase\n",
    "df['reviewtext'] = df['reviewtext'].apply(lambda x: x.lower())\n",
    "# tokenize\n",
    "df['reviewtext'] = df['reviewtext'].apply(lambda x: tokenizer.tokenize(x))\n",
    "# visual check\n",
    "df.head()"
   ]
  },
  {
   "cell_type": "code",
   "execution_count": 14,
   "metadata": {},
   "outputs": [
    {
     "data": {
      "text/plain": [
       "21602"
      ]
     },
     "execution_count": 14,
     "metadata": {},
     "output_type": "execute_result"
    }
   ],
   "source": [
    "# Check feature count\n",
    "count_unique(df['reviewtext'])"
   ]
  },
  {
   "cell_type": "code",
   "execution_count": 15,
   "metadata": {},
   "outputs": [],
   "source": [
    "#test = pd.read_csv(\"Test-1555730055539.csv\")"
   ]
  },
  {
   "cell_type": "code",
   "execution_count": 16,
   "metadata": {},
   "outputs": [],
   "source": [
    "# make reviews lowercase\n",
    "#test['reviewtext'] = test['reviewtext'].apply(lambda x: x.lower())\n",
    "# tokenize\n",
    "#test['reviewtext'] = test['reviewtext'].apply(lambda x: tokenizer.tokenize(x))"
   ]
  },
  {
   "cell_type": "code",
   "execution_count": 17,
   "metadata": {},
   "outputs": [
    {
     "name": "stdout",
     "output_type": "stream",
     "text": [
      "[nltk_data] Downloading package averaged_perceptron_tagger to\n",
      "[nltk_data]     C:\\Users\\prash\\AppData\\Roaming\\nltk_data...\n",
      "[nltk_data]   Package averaged_perceptron_tagger is already up-to-\n",
      "[nltk_data]       date!\n"
     ]
    },
    {
     "data": {
      "text/plain": [
       "True"
      ]
     },
     "execution_count": 17,
     "metadata": {},
     "output_type": "execute_result"
    }
   ],
   "source": [
    "import nltk\n",
    "nltk.download('averaged_perceptron_tagger')\n"
   ]
  },
  {
   "cell_type": "markdown",
   "metadata": {},
   "source": [
    "### POS Tagging/Removal"
   ]
  },
  {
   "cell_type": "code",
   "execution_count": 18,
   "metadata": {},
   "outputs": [],
   "source": [
    "# POS tag\n",
    "df['posr']= df['reviewtext'].apply(lambda x: nltk.pos_tag(x))\n",
    "# Leave the non POS removal ones alone\n",
    "df['nposr'] = df['reviewtext']"
   ]
  },
  {
   "cell_type": "code",
   "execution_count": 19,
   "metadata": {},
   "outputs": [],
   "source": [
    "#test['posr']= test['reviewtext'].apply(lambda x: nltk.pos_tag(x))\n",
    "# Leave the non POS removal ones alone\n",
    "#test['nposr'] = test['reviewtext']"
   ]
  },
  {
   "cell_type": "code",
   "execution_count": 20,
   "metadata": {
    "scrolled": true
   },
   "outputs": [
    {
     "data": {
      "text/html": [
       "<div>\n",
       "<style scoped>\n",
       "    .dataframe tbody tr th:only-of-type {\n",
       "        vertical-align: middle;\n",
       "    }\n",
       "\n",
       "    .dataframe tbody tr th {\n",
       "        vertical-align: top;\n",
       "    }\n",
       "\n",
       "    .dataframe thead th {\n",
       "        text-align: right;\n",
       "    }\n",
       "</style>\n",
       "<table border=\"1\" class=\"dataframe\">\n",
       "  <thead>\n",
       "    <tr style=\"text-align: right;\">\n",
       "      <th></th>\n",
       "      <th>Reviewid</th>\n",
       "      <th>Hotelid</th>\n",
       "      <th>userid</th>\n",
       "      <th>Date</th>\n",
       "      <th>reviewtext</th>\n",
       "      <th>Sentiment</th>\n",
       "      <th>len</th>\n",
       "      <th>posr</th>\n",
       "      <th>nposr</th>\n",
       "    </tr>\n",
       "  </thead>\n",
       "  <tbody>\n",
       "    <tr>\n",
       "      <th>6282</th>\n",
       "      <td>Review_6283</td>\n",
       "      <td>hotel_200</td>\n",
       "      <td>hotel_10272</td>\n",
       "      <td>Jul 31, 2004</td>\n",
       "      <td>[a, very, nice, boutique, hotel, had, a, recen...</td>\n",
       "      <td>good</td>\n",
       "      <td>411</td>\n",
       "      <td>[(a, DT), (very, RB), (nice, JJ), (boutique, N...</td>\n",
       "      <td>[a, very, nice, boutique, hotel, had, a, recen...</td>\n",
       "    </tr>\n",
       "    <tr>\n",
       "      <th>6283</th>\n",
       "      <td>Review_6284</td>\n",
       "      <td>hotel_200</td>\n",
       "      <td>hotel_1120</td>\n",
       "      <td>Jul 16, 2004</td>\n",
       "      <td>[my, home, in, nyc, i, happened, upon, the, gi...</td>\n",
       "      <td>excellent</td>\n",
       "      <td>1090</td>\n",
       "      <td>[(my, PRP$), (home, NN), (in, IN), (nyc, JJ), ...</td>\n",
       "      <td>[my, home, in, nyc, i, happened, upon, the, gi...</td>\n",
       "    </tr>\n",
       "    <tr>\n",
       "      <th>6284</th>\n",
       "      <td>Review_6285</td>\n",
       "      <td>hotel_200</td>\n",
       "      <td>hotel_7086</td>\n",
       "      <td>Jul 8, 2004</td>\n",
       "      <td>[fantastic, new, york, hotel, my, husband, and...</td>\n",
       "      <td>excellent</td>\n",
       "      <td>1345</td>\n",
       "      <td>[(fantastic, JJ), (new, JJ), (york, NN), (hote...</td>\n",
       "      <td>[fantastic, new, york, hotel, my, husband, and...</td>\n",
       "    </tr>\n",
       "    <tr>\n",
       "      <th>6285</th>\n",
       "      <td>Review_6286</td>\n",
       "      <td>hotel_200</td>\n",
       "      <td>hotel_7909</td>\n",
       "      <td>Jun 18, 2004</td>\n",
       "      <td>[it, s, our, new, favorite, hotel, after, stay...</td>\n",
       "      <td>excellent</td>\n",
       "      <td>468</td>\n",
       "      <td>[(it, PRP), (s, VBZ), (our, PRP$), (new, JJ), ...</td>\n",
       "      <td>[it, s, our, new, favorite, hotel, after, stay...</td>\n",
       "    </tr>\n",
       "    <tr>\n",
       "      <th>6286</th>\n",
       "      <td>Review_6287</td>\n",
       "      <td>hotel_200</td>\n",
       "      <td>hotel_4472</td>\n",
       "      <td>May 18, 2004</td>\n",
       "      <td>[terrific, hotel, in, the, union, square, gram...</td>\n",
       "      <td>excellent</td>\n",
       "      <td>1319</td>\n",
       "      <td>[(terrific, JJ), (hotel, NN), (in, IN), (the, ...</td>\n",
       "      <td>[terrific, hotel, in, the, union, square, gram...</td>\n",
       "    </tr>\n",
       "  </tbody>\n",
       "</table>\n",
       "</div>"
      ],
      "text/plain": [
       "         Reviewid    Hotelid       userid          Date  \\\n",
       "6282  Review_6283  hotel_200  hotel_10272  Jul 31, 2004   \n",
       "6283  Review_6284  hotel_200   hotel_1120  Jul 16, 2004   \n",
       "6284  Review_6285  hotel_200   hotel_7086   Jul 8, 2004   \n",
       "6285  Review_6286  hotel_200   hotel_7909  Jun 18, 2004   \n",
       "6286  Review_6287  hotel_200   hotel_4472  May 18, 2004   \n",
       "\n",
       "                                             reviewtext  Sentiment   len  \\\n",
       "6282  [a, very, nice, boutique, hotel, had, a, recen...       good   411   \n",
       "6283  [my, home, in, nyc, i, happened, upon, the, gi...  excellent  1090   \n",
       "6284  [fantastic, new, york, hotel, my, husband, and...  excellent  1345   \n",
       "6285  [it, s, our, new, favorite, hotel, after, stay...  excellent   468   \n",
       "6286  [terrific, hotel, in, the, union, square, gram...  excellent  1319   \n",
       "\n",
       "                                                   posr  \\\n",
       "6282  [(a, DT), (very, RB), (nice, JJ), (boutique, N...   \n",
       "6283  [(my, PRP$), (home, NN), (in, IN), (nyc, JJ), ...   \n",
       "6284  [(fantastic, JJ), (new, JJ), (york, NN), (hote...   \n",
       "6285  [(it, PRP), (s, VBZ), (our, PRP$), (new, JJ), ...   \n",
       "6286  [(terrific, JJ), (hotel, NN), (in, IN), (the, ...   \n",
       "\n",
       "                                                  nposr  \n",
       "6282  [a, very, nice, boutique, hotel, had, a, recen...  \n",
       "6283  [my, home, in, nyc, i, happened, upon, the, gi...  \n",
       "6284  [fantastic, new, york, hotel, my, husband, and...  \n",
       "6285  [it, s, our, new, favorite, hotel, after, stay...  \n",
       "6286  [terrific, hotel, in, the, union, square, gram...  "
      ]
     },
     "execution_count": 20,
     "metadata": {},
     "output_type": "execute_result"
    }
   ],
   "source": [
    "df.tail()"
   ]
  },
  {
   "cell_type": "code",
   "execution_count": 21,
   "metadata": {},
   "outputs": [
    {
     "data": {
      "image/png": "[encoded data removed]",
      "text/plain": [
       "<Figure size 432x288 with 1 Axes>"
      ]
     },
     "metadata": {},
     "output_type": "display_data"
    }
   ],
   "source": [
    "# Visualize Parts of Speech\n",
    "pos_dict = {}\n",
    "for sent in df['posr']:\n",
    "    for pair in sent:\n",
    "        if pair[1] in pos_dict:\n",
    "            pos_dict[pair[1]].add(pair[0])\n",
    "        else:\n",
    "            pos_dict.update({pair[1]: set(pair[0])})\n",
    "\n",
    "# Pie chart of POS distribution\n",
    "temp = pos_dict.values()\n",
    "x_list = []\n",
    "for x in temp: \n",
    "    x_list.append(len(x))\n",
    "label_list = pos_dict.keys()\n",
    "pyplot.axis(\"equal\") #The pie chart is oval by default. To make it a circle use pyplot.axis(\"equal\")\n",
    "#To show the percentage of each pie slice, pass an output format to the autopctparameter \n",
    "plt.pie(x_list,labels=label_list) \n",
    "plt.title(\"POS Distribution\")\n",
    "plt.show()"
   ]
  },
  {
   "cell_type": "code",
   "execution_count": 22,
   "metadata": {},
   "outputs": [
    {
     "data": {
      "text/html": [
       "<div>\n",
       "<style scoped>\n",
       "    .dataframe tbody tr th:only-of-type {\n",
       "        vertical-align: middle;\n",
       "    }\n",
       "\n",
       "    .dataframe tbody tr th {\n",
       "        vertical-align: top;\n",
       "    }\n",
       "\n",
       "    .dataframe thead th {\n",
       "        text-align: right;\n",
       "    }\n",
       "</style>\n",
       "<table border=\"1\" class=\"dataframe\">\n",
       "  <thead>\n",
       "    <tr style=\"text-align: right;\">\n",
       "      <th></th>\n",
       "      <th>Reviewid</th>\n",
       "      <th>Hotelid</th>\n",
       "      <th>userid</th>\n",
       "      <th>Date</th>\n",
       "      <th>reviewtext</th>\n",
       "      <th>Sentiment</th>\n",
       "      <th>len</th>\n",
       "      <th>posr</th>\n",
       "      <th>nposr</th>\n",
       "    </tr>\n",
       "  </thead>\n",
       "  <tbody>\n",
       "    <tr>\n",
       "      <th>0</th>\n",
       "      <td>Review_1</td>\n",
       "      <td>hotel_101</td>\n",
       "      <td>hotel_1608</td>\n",
       "      <td>Nov 16, 2007</td>\n",
       "      <td>[nice, marriot, view, of, my, king, bed, room]</td>\n",
       "      <td>good</td>\n",
       "      <td>43</td>\n",
       "      <td>[nice, marriot, view, king, bed, room]</td>\n",
       "      <td>[nice, marriot, view, of, my, king, bed, room]</td>\n",
       "    </tr>\n",
       "    <tr>\n",
       "      <th>1</th>\n",
       "      <td>Review_2</td>\n",
       "      <td>hotel_101</td>\n",
       "      <td>hotel_6939</td>\n",
       "      <td>Oct 30, 2007</td>\n",
       "      <td>[good, hotel, charges, for, internet, access, ...</td>\n",
       "      <td>good</td>\n",
       "      <td>1170</td>\n",
       "      <td>[good, hotel, charges, internet, access, marri...</td>\n",
       "      <td>[good, hotel, charges, for, internet, access, ...</td>\n",
       "    </tr>\n",
       "    <tr>\n",
       "      <th>2</th>\n",
       "      <td>Review_3</td>\n",
       "      <td>hotel_101</td>\n",
       "      <td>hotel_3976</td>\n",
       "      <td>Oct 12, 2007</td>\n",
       "      <td>[small, but, adequate, rooms, if, you, have, a...</td>\n",
       "      <td>good</td>\n",
       "      <td>668</td>\n",
       "      <td>[small, adequate, rooms, early, morning, fligh...</td>\n",
       "      <td>[small, but, adequate, rooms, if, you, have, a...</td>\n",
       "    </tr>\n",
       "    <tr>\n",
       "      <th>3</th>\n",
       "      <td>Review_4</td>\n",
       "      <td>hotel_101</td>\n",
       "      <td>hotel_2851</td>\n",
       "      <td>Aug 31, 2007</td>\n",
       "      <td>[better, than, average, some, noisy, rooms, i,...</td>\n",
       "      <td>good</td>\n",
       "      <td>3529</td>\n",
       "      <td>[better, average, noisy, rooms, stayed, hotel,...</td>\n",
       "      <td>[better, than, average, some, noisy, rooms, i,...</td>\n",
       "    </tr>\n",
       "    <tr>\n",
       "      <th>4</th>\n",
       "      <td>Review_5</td>\n",
       "      <td>hotel_101</td>\n",
       "      <td>hotel_7897</td>\n",
       "      <td>Jul 18, 2007</td>\n",
       "      <td>[ordinary, although, it, is, highly, rated, in...</td>\n",
       "      <td>bad</td>\n",
       "      <td>1143</td>\n",
       "      <td>[ordinary, is, highly, rated, reviews, premium...</td>\n",
       "      <td>[ordinary, although, it, is, highly, rated, in...</td>\n",
       "    </tr>\n",
       "  </tbody>\n",
       "</table>\n",
       "</div>"
      ],
      "text/plain": [
       "   Reviewid    Hotelid      userid          Date  \\\n",
       "0  Review_1  hotel_101  hotel_1608  Nov 16, 2007   \n",
       "1  Review_2  hotel_101  hotel_6939  Oct 30, 2007   \n",
       "2  Review_3  hotel_101  hotel_3976  Oct 12, 2007   \n",
       "3  Review_4  hotel_101  hotel_2851  Aug 31, 2007   \n",
       "4  Review_5  hotel_101  hotel_7897  Jul 18, 2007   \n",
       "\n",
       "                                          reviewtext Sentiment   len  \\\n",
       "0     [nice, marriot, view, of, my, king, bed, room]      good    43   \n",
       "1  [good, hotel, charges, for, internet, access, ...      good  1170   \n",
       "2  [small, but, adequate, rooms, if, you, have, a...      good   668   \n",
       "3  [better, than, average, some, noisy, rooms, i,...      good  3529   \n",
       "4  [ordinary, although, it, is, highly, rated, in...       bad  1143   \n",
       "\n",
       "                                                posr  \\\n",
       "0             [nice, marriot, view, king, bed, room]   \n",
       "1  [good, hotel, charges, internet, access, marri...   \n",
       "2  [small, adequate, rooms, early, morning, fligh...   \n",
       "3  [better, average, noisy, rooms, stayed, hotel,...   \n",
       "4  [ordinary, is, highly, rated, reviews, premium...   \n",
       "\n",
       "                                               nposr  \n",
       "0     [nice, marriot, view, of, my, king, bed, room]  \n",
       "1  [good, hotel, charges, for, internet, access, ...  \n",
       "2  [small, but, adequate, rooms, if, you, have, a...  \n",
       "3  [better, than, average, some, noisy, rooms, i,...  \n",
       "4  [ordinary, although, it, is, highly, rated, in...  "
      ]
     },
     "execution_count": 22,
     "metadata": {},
     "output_type": "execute_result"
    }
   ],
   "source": [
    "# Collection of adjectives, nouns, adverbs and verbs to keep\n",
    "pos_keep = [\"JJ\",\"JJR\",\"JJS\",\"NN\",\"NNP\",\"NNS\",\"RB\",\"RBR\",\"VB\",\"VBD\",\"VBG\",\"VBN\",\"VBZ\"]\n",
    "\n",
    "\n",
    "def remove_pos(full):\n",
    "    redc =[]\n",
    "    for pair in full:\n",
    "        if pair[1] in pos_keep:\n",
    "            redc.append(pair[0])\n",
    "    return redc\n",
    "# Remove the words that are not in pos_keep\n",
    "df['posr']= df['posr'].apply(lambda x: remove_pos(x))\n",
    "\n",
    "df.head()"
   ]
  },
  {
   "cell_type": "code",
   "execution_count": 23,
   "metadata": {},
   "outputs": [],
   "source": [
    "#test['posr']= test['posr'].apply(lambda x: remove_pos(x))"
   ]
  },
  {
   "cell_type": "code",
   "execution_count": 24,
   "metadata": {},
   "outputs": [
    {
     "name": "stdout",
     "output_type": "stream",
     "text": [
      "20133\n"
     ]
    }
   ],
   "source": [
    "print(count_unique(df['posr']))"
   ]
  },
  {
   "cell_type": "markdown",
   "metadata": {},
   "source": [
    "### Remove Stopwords"
   ]
  },
  {
   "cell_type": "code",
   "execution_count": 25,
   "metadata": {},
   "outputs": [
    {
     "data": {
      "text/html": [
       "<div>\n",
       "<style scoped>\n",
       "    .dataframe tbody tr th:only-of-type {\n",
       "        vertical-align: middle;\n",
       "    }\n",
       "\n",
       "    .dataframe tbody tr th {\n",
       "        vertical-align: top;\n",
       "    }\n",
       "\n",
       "    .dataframe thead th {\n",
       "        text-align: right;\n",
       "    }\n",
       "</style>\n",
       "<table border=\"1\" class=\"dataframe\">\n",
       "  <thead>\n",
       "    <tr style=\"text-align: right;\">\n",
       "      <th></th>\n",
       "      <th>Reviewid</th>\n",
       "      <th>Hotelid</th>\n",
       "      <th>userid</th>\n",
       "      <th>Date</th>\n",
       "      <th>reviewtext</th>\n",
       "      <th>Sentiment</th>\n",
       "      <th>len</th>\n",
       "      <th>posr</th>\n",
       "      <th>nposr</th>\n",
       "      <th>posr_stpd</th>\n",
       "      <th>nposr_stpd</th>\n",
       "      <th>posr_nstpd</th>\n",
       "      <th>nposr_nstpd</th>\n",
       "    </tr>\n",
       "  </thead>\n",
       "  <tbody>\n",
       "    <tr>\n",
       "      <th>0</th>\n",
       "      <td>Review_1</td>\n",
       "      <td>hotel_101</td>\n",
       "      <td>hotel_1608</td>\n",
       "      <td>Nov 16, 2007</td>\n",
       "      <td>[nice, marriot, view, of, my, king, bed, room]</td>\n",
       "      <td>good</td>\n",
       "      <td>43</td>\n",
       "      <td>[nice, marriot, view, king, bed, room]</td>\n",
       "      <td>[nice, marriot, view, of, my, king, bed, room]</td>\n",
       "      <td>[nice, marriot, view, king, bed, room]</td>\n",
       "      <td>[nice, marriot, view, king, bed, room]</td>\n",
       "      <td>[nice, marriot, view, king, bed, room]</td>\n",
       "      <td>[nice, marriot, view, of, my, king, bed, room]</td>\n",
       "    </tr>\n",
       "    <tr>\n",
       "      <th>1</th>\n",
       "      <td>Review_2</td>\n",
       "      <td>hotel_101</td>\n",
       "      <td>hotel_6939</td>\n",
       "      <td>Oct 30, 2007</td>\n",
       "      <td>[good, hotel, charges, for, internet, access, ...</td>\n",
       "      <td>good</td>\n",
       "      <td>1170</td>\n",
       "      <td>[good, hotel, charges, internet, access, marri...</td>\n",
       "      <td>[good, hotel, charges, for, internet, access, ...</td>\n",
       "      <td>[good, hotel, charges, internet, access, marri...</td>\n",
       "      <td>[good, hotel, charges, internet, access, marri...</td>\n",
       "      <td>[good, hotel, charges, internet, access, marri...</td>\n",
       "      <td>[good, hotel, charges, for, internet, access, ...</td>\n",
       "    </tr>\n",
       "    <tr>\n",
       "      <th>2</th>\n",
       "      <td>Review_3</td>\n",
       "      <td>hotel_101</td>\n",
       "      <td>hotel_3976</td>\n",
       "      <td>Oct 12, 2007</td>\n",
       "      <td>[small, but, adequate, rooms, if, you, have, a...</td>\n",
       "      <td>good</td>\n",
       "      <td>668</td>\n",
       "      <td>[small, adequate, rooms, early, morning, fligh...</td>\n",
       "      <td>[small, but, adequate, rooms, if, you, have, a...</td>\n",
       "      <td>[small, adequate, rooms, early, morning, fligh...</td>\n",
       "      <td>[small, adequate, rooms, early, morning, fligh...</td>\n",
       "      <td>[small, adequate, rooms, early, morning, fligh...</td>\n",
       "      <td>[small, but, adequate, rooms, if, you, have, a...</td>\n",
       "    </tr>\n",
       "    <tr>\n",
       "      <th>3</th>\n",
       "      <td>Review_4</td>\n",
       "      <td>hotel_101</td>\n",
       "      <td>hotel_2851</td>\n",
       "      <td>Aug 31, 2007</td>\n",
       "      <td>[better, than, average, some, noisy, rooms, i,...</td>\n",
       "      <td>good</td>\n",
       "      <td>3529</td>\n",
       "      <td>[better, average, noisy, rooms, stayed, hotel,...</td>\n",
       "      <td>[better, than, average, some, noisy, rooms, i,...</td>\n",
       "      <td>[better, average, noisy, rooms, stayed, hotel,...</td>\n",
       "      <td>[better, average, noisy, rooms, stayed, hotel,...</td>\n",
       "      <td>[better, average, noisy, rooms, stayed, hotel,...</td>\n",
       "      <td>[better, than, average, some, noisy, rooms, i,...</td>\n",
       "    </tr>\n",
       "    <tr>\n",
       "      <th>4</th>\n",
       "      <td>Review_5</td>\n",
       "      <td>hotel_101</td>\n",
       "      <td>hotel_7897</td>\n",
       "      <td>Jul 18, 2007</td>\n",
       "      <td>[ordinary, although, it, is, highly, rated, in...</td>\n",
       "      <td>bad</td>\n",
       "      <td>1143</td>\n",
       "      <td>[ordinary, is, highly, rated, reviews, premium...</td>\n",
       "      <td>[ordinary, although, it, is, highly, rated, in...</td>\n",
       "      <td>[ordinary, highly, rated, reviews, premium, pr...</td>\n",
       "      <td>[ordinary, although, highly, rated, reviews, p...</td>\n",
       "      <td>[ordinary, is, highly, rated, reviews, premium...</td>\n",
       "      <td>[ordinary, although, it, is, highly, rated, in...</td>\n",
       "    </tr>\n",
       "  </tbody>\n",
       "</table>\n",
       "</div>"
      ],
      "text/plain": [
       "   Reviewid    Hotelid      userid          Date  \\\n",
       "0  Review_1  hotel_101  hotel_1608  Nov 16, 2007   \n",
       "1  Review_2  hotel_101  hotel_6939  Oct 30, 2007   \n",
       "2  Review_3  hotel_101  hotel_3976  Oct 12, 2007   \n",
       "3  Review_4  hotel_101  hotel_2851  Aug 31, 2007   \n",
       "4  Review_5  hotel_101  hotel_7897  Jul 18, 2007   \n",
       "\n",
       "                                          reviewtext Sentiment   len  \\\n",
       "0     [nice, marriot, view, of, my, king, bed, room]      good    43   \n",
       "1  [good, hotel, charges, for, internet, access, ...      good  1170   \n",
       "2  [small, but, adequate, rooms, if, you, have, a...      good   668   \n",
       "3  [better, than, average, some, noisy, rooms, i,...      good  3529   \n",
       "4  [ordinary, although, it, is, highly, rated, in...       bad  1143   \n",
       "\n",
       "                                                posr  \\\n",
       "0             [nice, marriot, view, king, bed, room]   \n",
       "1  [good, hotel, charges, internet, access, marri...   \n",
       "2  [small, adequate, rooms, early, morning, fligh...   \n",
       "3  [better, average, noisy, rooms, stayed, hotel,...   \n",
       "4  [ordinary, is, highly, rated, reviews, premium...   \n",
       "\n",
       "                                               nposr  \\\n",
       "0     [nice, marriot, view, of, my, king, bed, room]   \n",
       "1  [good, hotel, charges, for, internet, access, ...   \n",
       "2  [small, but, adequate, rooms, if, you, have, a...   \n",
       "3  [better, than, average, some, noisy, rooms, i,...   \n",
       "4  [ordinary, although, it, is, highly, rated, in...   \n",
       "\n",
       "                                           posr_stpd  \\\n",
       "0             [nice, marriot, view, king, bed, room]   \n",
       "1  [good, hotel, charges, internet, access, marri...   \n",
       "2  [small, adequate, rooms, early, morning, fligh...   \n",
       "3  [better, average, noisy, rooms, stayed, hotel,...   \n",
       "4  [ordinary, highly, rated, reviews, premium, pr...   \n",
       "\n",
       "                                          nposr_stpd  \\\n",
       "0             [nice, marriot, view, king, bed, room]   \n",
       "1  [good, hotel, charges, internet, access, marri...   \n",
       "2  [small, adequate, rooms, early, morning, fligh...   \n",
       "3  [better, average, noisy, rooms, stayed, hotel,...   \n",
       "4  [ordinary, although, highly, rated, reviews, p...   \n",
       "\n",
       "                                          posr_nstpd  \\\n",
       "0             [nice, marriot, view, king, bed, room]   \n",
       "1  [good, hotel, charges, internet, access, marri...   \n",
       "2  [small, adequate, rooms, early, morning, fligh...   \n",
       "3  [better, average, noisy, rooms, stayed, hotel,...   \n",
       "4  [ordinary, is, highly, rated, reviews, premium...   \n",
       "\n",
       "                                         nposr_nstpd  \n",
       "0     [nice, marriot, view, of, my, king, bed, room]  \n",
       "1  [good, hotel, charges, for, internet, access, ...  \n",
       "2  [small, but, adequate, rooms, if, you, have, a...  \n",
       "3  [better, than, average, some, noisy, rooms, i,...  \n",
       "4  [ordinary, although, it, is, highly, rated, in...  "
      ]
     },
     "execution_count": 25,
     "metadata": {},
     "output_type": "execute_result"
    }
   ],
   "source": [
    "# Import the list of stopwords from NLTK\n",
    "from nltk.corpus import stopwords\n",
    "\n",
    "# Remove the stopwords and store in \"No Stops\" column\n",
    "stop = set(stopwords.words('english'))\n",
    "# Ensure \"not\" is kept\n",
    "stop.remove(\"not\")\n",
    "df['posr_stpd'] = df['posr'].apply(lambda x: [item for item in x if item not in stop])\n",
    "df['nposr_stpd'] = df['nposr'].apply(lambda x: [item for item in x if item not in stop])\n",
    "df['posr_nstpd'] = df['posr']\n",
    "df['nposr_nstpd'] = df['nposr']\n",
    "# visual check\n",
    "df.head()"
   ]
  },
  {
   "cell_type": "code",
   "execution_count": 26,
   "metadata": {},
   "outputs": [],
   "source": [
    "#test['posr_stpd'] = test['posr'].apply(lambda x: [item for item in x if item not in stop])\n",
    "#test['nposr_stpd'] = test['nposr'].apply(lambda x: [item for item in x if item not in stop])\n",
    "#test['posr_nstpd'] = test['posr']\n",
    "#test['nposr_nstpd'] = test['nposr']"
   ]
  },
  {
   "cell_type": "code",
   "execution_count": 27,
   "metadata": {},
   "outputs": [
    {
     "data": {
      "text/plain": [
       "20047"
      ]
     },
     "execution_count": 27,
     "metadata": {},
     "output_type": "execute_result"
    }
   ],
   "source": [
    "# check feature count\n",
    "count_unique(df['posr_stpd'])"
   ]
  },
  {
   "cell_type": "markdown",
   "metadata": {},
   "source": [
    "### Stemming"
   ]
  },
  {
   "cell_type": "markdown",
   "metadata": {},
   "source": [
    "#### Going to test three different stemmers. Porter, Snowball, Lancaster"
   ]
  },
  {
   "cell_type": "code",
   "execution_count": 28,
   "metadata": {
    "scrolled": true
   },
   "outputs": [
    {
     "data": {
      "text/html": [
       "<div>\n",
       "<style scoped>\n",
       "    .dataframe tbody tr th:only-of-type {\n",
       "        vertical-align: middle;\n",
       "    }\n",
       "\n",
       "    .dataframe tbody tr th {\n",
       "        vertical-align: top;\n",
       "    }\n",
       "\n",
       "    .dataframe thead th {\n",
       "        text-align: right;\n",
       "    }\n",
       "</style>\n",
       "<table border=\"1\" class=\"dataframe\">\n",
       "  <thead>\n",
       "    <tr style=\"text-align: right;\">\n",
       "      <th></th>\n",
       "      <th>Reviewid</th>\n",
       "      <th>Hotelid</th>\n",
       "      <th>userid</th>\n",
       "      <th>Date</th>\n",
       "      <th>reviewtext</th>\n",
       "      <th>Sentiment</th>\n",
       "      <th>len</th>\n",
       "      <th>posr</th>\n",
       "      <th>nposr</th>\n",
       "      <th>posr_stpd</th>\n",
       "      <th>...</th>\n",
       "      <th>nposr_stpd_port</th>\n",
       "      <th>posr_stpd_port</th>\n",
       "      <th>nposr_nstpd_snow</th>\n",
       "      <th>posr_nstpd_snow</th>\n",
       "      <th>nposr_stpd_snow</th>\n",
       "      <th>posr_stpd_snow</th>\n",
       "      <th>nposr_nstpd_lanc</th>\n",
       "      <th>posr_nstpd_lanc</th>\n",
       "      <th>nposr_stpd_lanc</th>\n",
       "      <th>posr_stpd_lanc</th>\n",
       "    </tr>\n",
       "  </thead>\n",
       "  <tbody>\n",
       "    <tr>\n",
       "      <th>0</th>\n",
       "      <td>Review_1</td>\n",
       "      <td>hotel_101</td>\n",
       "      <td>hotel_1608</td>\n",
       "      <td>Nov 16, 2007</td>\n",
       "      <td>[nice, marriot, view, of, my, king, bed, room]</td>\n",
       "      <td>good</td>\n",
       "      <td>43</td>\n",
       "      <td>[nice, marriot, view, king, bed, room]</td>\n",
       "      <td>[nice, marriot, view, of, my, king, bed, room]</td>\n",
       "      <td>[nice, marriot, view, king, bed, room]</td>\n",
       "      <td>...</td>\n",
       "      <td>[nice, marriot, view, king, bed, room]</td>\n",
       "      <td>[nice, marriot, view, king, bed, room]</td>\n",
       "      <td>[nice, marriot, view, of, my, king, bed, room]</td>\n",
       "      <td>[nice, marriot, view, king, bed, room]</td>\n",
       "      <td>[nice, marriot, view, king, bed, room]</td>\n",
       "      <td>[nice, marriot, view, king, bed, room]</td>\n",
       "      <td>[nic, marriot, view, of, my, king, bed, room]</td>\n",
       "      <td>[nic, marriot, view, king, bed, room]</td>\n",
       "      <td>[nic, marriot, view, king, bed, room]</td>\n",
       "      <td>[nic, marriot, view, king, bed, room]</td>\n",
       "    </tr>\n",
       "    <tr>\n",
       "      <th>1</th>\n",
       "      <td>Review_2</td>\n",
       "      <td>hotel_101</td>\n",
       "      <td>hotel_6939</td>\n",
       "      <td>Oct 30, 2007</td>\n",
       "      <td>[good, hotel, charges, for, internet, access, ...</td>\n",
       "      <td>good</td>\n",
       "      <td>1170</td>\n",
       "      <td>[good, hotel, charges, internet, access, marri...</td>\n",
       "      <td>[good, hotel, charges, for, internet, access, ...</td>\n",
       "      <td>[good, hotel, charges, internet, access, marri...</td>\n",
       "      <td>...</td>\n",
       "      <td>[good, hotel, charg, internet, access, marriot...</td>\n",
       "      <td>[good, hotel, charg, internet, access, marriot...</td>\n",
       "      <td>[good, hotel, charg, for, internet, access, th...</td>\n",
       "      <td>[good, hotel, charg, internet, access, marriot...</td>\n",
       "      <td>[good, hotel, charg, internet, access, marriot...</td>\n",
       "      <td>[good, hotel, charg, internet, access, marriot...</td>\n",
       "      <td>[good, hotel, charg, for, internet, access, th...</td>\n",
       "      <td>[good, hotel, charg, internet, access, marriot...</td>\n",
       "      <td>[good, hotel, charg, internet, access, marriot...</td>\n",
       "      <td>[good, hotel, charg, internet, access, marriot...</td>\n",
       "    </tr>\n",
       "    <tr>\n",
       "      <th>2</th>\n",
       "      <td>Review_3</td>\n",
       "      <td>hotel_101</td>\n",
       "      <td>hotel_3976</td>\n",
       "      <td>Oct 12, 2007</td>\n",
       "      <td>[small, but, adequate, rooms, if, you, have, a...</td>\n",
       "      <td>good</td>\n",
       "      <td>668</td>\n",
       "      <td>[small, adequate, rooms, early, morning, fligh...</td>\n",
       "      <td>[small, but, adequate, rooms, if, you, have, a...</td>\n",
       "      <td>[small, adequate, rooms, early, morning, fligh...</td>\n",
       "      <td>...</td>\n",
       "      <td>[small, adequ, room, earli, morn, flight, catc...</td>\n",
       "      <td>[small, adequ, room, earli, morn, flight, catc...</td>\n",
       "      <td>[small, but, adequ, room, if, you, have, an, e...</td>\n",
       "      <td>[small, adequ, room, earli, morn, flight, catc...</td>\n",
       "      <td>[small, adequ, room, earli, morn, flight, catc...</td>\n",
       "      <td>[small, adequ, room, earli, morn, flight, catc...</td>\n",
       "      <td>[smal, but, adequ, room, if, you, hav, an, ear...</td>\n",
       "      <td>[smal, adequ, room, ear, morn, flight, catch, ...</td>\n",
       "      <td>[smal, adequ, room, ear, morn, flight, catch, ...</td>\n",
       "      <td>[smal, adequ, room, ear, morn, flight, catch, ...</td>\n",
       "    </tr>\n",
       "    <tr>\n",
       "      <th>3</th>\n",
       "      <td>Review_4</td>\n",
       "      <td>hotel_101</td>\n",
       "      <td>hotel_2851</td>\n",
       "      <td>Aug 31, 2007</td>\n",
       "      <td>[better, than, average, some, noisy, rooms, i,...</td>\n",
       "      <td>good</td>\n",
       "      <td>3529</td>\n",
       "      <td>[better, average, noisy, rooms, stayed, hotel,...</td>\n",
       "      <td>[better, than, average, some, noisy, rooms, i,...</td>\n",
       "      <td>[better, average, noisy, rooms, stayed, hotel,...</td>\n",
       "      <td>...</td>\n",
       "      <td>[better, averag, noisi, room, stay, hotel, tim...</td>\n",
       "      <td>[better, averag, noisi, room, stay, hotel, tim...</td>\n",
       "      <td>[better, than, averag, some, noisi, room, i, h...</td>\n",
       "      <td>[better, averag, noisi, room, stay, hotel, few...</td>\n",
       "      <td>[better, averag, noisi, room, stay, hotel, tim...</td>\n",
       "      <td>[better, averag, noisi, room, stay, hotel, tim...</td>\n",
       "      <td>[bet, than, av, som, noisy, room, i, hav, stay...</td>\n",
       "      <td>[bet, av, noisy, room, stay, hotel, few, tim, ...</td>\n",
       "      <td>[bet, av, noisy, room, stay, hotel, tim, inth,...</td>\n",
       "      <td>[bet, av, noisy, room, stay, hotel, tim, inth,...</td>\n",
       "    </tr>\n",
       "    <tr>\n",
       "      <th>4</th>\n",
       "      <td>Review_5</td>\n",
       "      <td>hotel_101</td>\n",
       "      <td>hotel_7897</td>\n",
       "      <td>Jul 18, 2007</td>\n",
       "      <td>[ordinary, although, it, is, highly, rated, in...</td>\n",
       "      <td>bad</td>\n",
       "      <td>1143</td>\n",
       "      <td>[ordinary, is, highly, rated, reviews, premium...</td>\n",
       "      <td>[ordinary, although, it, is, highly, rated, in...</td>\n",
       "      <td>[ordinary, highly, rated, reviews, premium, pr...</td>\n",
       "      <td>...</td>\n",
       "      <td>[ordinari, although, highli, rate, review, pay...</td>\n",
       "      <td>[ordinari, highli, rate, review, premium, pric...</td>\n",
       "      <td>[ordinari, although, it, is, high, rate, in, t...</td>\n",
       "      <td>[ordinari, is, high, rate, review, premium, pr...</td>\n",
       "      <td>[ordinari, although, high, rate, review, pay, ...</td>\n",
       "      <td>[ordinari, high, rate, review, premium, price,...</td>\n",
       "      <td>[ordin, although, it, is, high, rat, in, thes,...</td>\n",
       "      <td>[ordin, is, high, rat, review, prem, pric, com...</td>\n",
       "      <td>[ordin, although, high, rat, review, pay, prem...</td>\n",
       "      <td>[ordin, high, rat, review, prem, pric, comp, a...</td>\n",
       "    </tr>\n",
       "  </tbody>\n",
       "</table>\n",
       "<p>5 rows × 29 columns</p>\n",
       "</div>"
      ],
      "text/plain": [
       "   Reviewid    Hotelid      userid          Date  \\\n",
       "0  Review_1  hotel_101  hotel_1608  Nov 16, 2007   \n",
       "1  Review_2  hotel_101  hotel_6939  Oct 30, 2007   \n",
       "2  Review_3  hotel_101  hotel_3976  Oct 12, 2007   \n",
       "3  Review_4  hotel_101  hotel_2851  Aug 31, 2007   \n",
       "4  Review_5  hotel_101  hotel_7897  Jul 18, 2007   \n",
       "\n",
       "                                          reviewtext Sentiment   len  \\\n",
       "0     [nice, marriot, view, of, my, king, bed, room]      good    43   \n",
       "1  [good, hotel, charges, for, internet, access, ...      good  1170   \n",
       "2  [small, but, adequate, rooms, if, you, have, a...      good   668   \n",
       "3  [better, than, average, some, noisy, rooms, i,...      good  3529   \n",
       "4  [ordinary, although, it, is, highly, rated, in...       bad  1143   \n",
       "\n",
       "                                                posr  \\\n",
       "0             [nice, marriot, view, king, bed, room]   \n",
       "1  [good, hotel, charges, internet, access, marri...   \n",
       "2  [small, adequate, rooms, early, morning, fligh...   \n",
       "3  [better, average, noisy, rooms, stayed, hotel,...   \n",
       "4  [ordinary, is, highly, rated, reviews, premium...   \n",
       "\n",
       "                                               nposr  \\\n",
       "0     [nice, marriot, view, of, my, king, bed, room]   \n",
       "1  [good, hotel, charges, for, internet, access, ...   \n",
       "2  [small, but, adequate, rooms, if, you, have, a...   \n",
       "3  [better, than, average, some, noisy, rooms, i,...   \n",
       "4  [ordinary, although, it, is, highly, rated, in...   \n",
       "\n",
       "                                           posr_stpd  \\\n",
       "0             [nice, marriot, view, king, bed, room]   \n",
       "1  [good, hotel, charges, internet, access, marri...   \n",
       "2  [small, adequate, rooms, early, morning, fligh...   \n",
       "3  [better, average, noisy, rooms, stayed, hotel,...   \n",
       "4  [ordinary, highly, rated, reviews, premium, pr...   \n",
       "\n",
       "                         ...                          \\\n",
       "0                        ...                           \n",
       "1                        ...                           \n",
       "2                        ...                           \n",
       "3                        ...                           \n",
       "4                        ...                           \n",
       "\n",
       "                                     nposr_stpd_port  \\\n",
       "0             [nice, marriot, view, king, bed, room]   \n",
       "1  [good, hotel, charg, internet, access, marriot...   \n",
       "2  [small, adequ, room, earli, morn, flight, catc...   \n",
       "3  [better, averag, noisi, room, stay, hotel, tim...   \n",
       "4  [ordinari, although, highli, rate, review, pay...   \n",
       "\n",
       "                                      posr_stpd_port  \\\n",
       "0             [nice, marriot, view, king, bed, room]   \n",
       "1  [good, hotel, charg, internet, access, marriot...   \n",
       "2  [small, adequ, room, earli, morn, flight, catc...   \n",
       "3  [better, averag, noisi, room, stay, hotel, tim...   \n",
       "4  [ordinari, highli, rate, review, premium, pric...   \n",
       "\n",
       "                                    nposr_nstpd_snow  \\\n",
       "0     [nice, marriot, view, of, my, king, bed, room]   \n",
       "1  [good, hotel, charg, for, internet, access, th...   \n",
       "2  [small, but, adequ, room, if, you, have, an, e...   \n",
       "3  [better, than, averag, some, noisi, room, i, h...   \n",
       "4  [ordinari, although, it, is, high, rate, in, t...   \n",
       "\n",
       "                                     posr_nstpd_snow  \\\n",
       "0             [nice, marriot, view, king, bed, room]   \n",
       "1  [good, hotel, charg, internet, access, marriot...   \n",
       "2  [small, adequ, room, earli, morn, flight, catc...   \n",
       "3  [better, averag, noisi, room, stay, hotel, few...   \n",
       "4  [ordinari, is, high, rate, review, premium, pr...   \n",
       "\n",
       "                                     nposr_stpd_snow  \\\n",
       "0             [nice, marriot, view, king, bed, room]   \n",
       "1  [good, hotel, charg, internet, access, marriot...   \n",
       "2  [small, adequ, room, earli, morn, flight, catc...   \n",
       "3  [better, averag, noisi, room, stay, hotel, tim...   \n",
       "4  [ordinari, although, high, rate, review, pay, ...   \n",
       "\n",
       "                                      posr_stpd_snow  \\\n",
       "0             [nice, marriot, view, king, bed, room]   \n",
       "1  [good, hotel, charg, internet, access, marriot...   \n",
       "2  [small, adequ, room, earli, morn, flight, catc...   \n",
       "3  [better, averag, noisi, room, stay, hotel, tim...   \n",
       "4  [ordinari, high, rate, review, premium, price,...   \n",
       "\n",
       "                                    nposr_nstpd_lanc  \\\n",
       "0      [nic, marriot, view, of, my, king, bed, room]   \n",
       "1  [good, hotel, charg, for, internet, access, th...   \n",
       "2  [smal, but, adequ, room, if, you, hav, an, ear...   \n",
       "3  [bet, than, av, som, noisy, room, i, hav, stay...   \n",
       "4  [ordin, although, it, is, high, rat, in, thes,...   \n",
       "\n",
       "                                     posr_nstpd_lanc  \\\n",
       "0              [nic, marriot, view, king, bed, room]   \n",
       "1  [good, hotel, charg, internet, access, marriot...   \n",
       "2  [smal, adequ, room, ear, morn, flight, catch, ...   \n",
       "3  [bet, av, noisy, room, stay, hotel, few, tim, ...   \n",
       "4  [ordin, is, high, rat, review, prem, pric, com...   \n",
       "\n",
       "                                     nposr_stpd_lanc  \\\n",
       "0              [nic, marriot, view, king, bed, room]   \n",
       "1  [good, hotel, charg, internet, access, marriot...   \n",
       "2  [smal, adequ, room, ear, morn, flight, catch, ...   \n",
       "3  [bet, av, noisy, room, stay, hotel, tim, inth,...   \n",
       "4  [ordin, although, high, rat, review, pay, prem...   \n",
       "\n",
       "                                      posr_stpd_lanc  \n",
       "0              [nic, marriot, view, king, bed, room]  \n",
       "1  [good, hotel, charg, internet, access, marriot...  \n",
       "2  [smal, adequ, room, ear, morn, flight, catch, ...  \n",
       "3  [bet, av, noisy, room, stay, hotel, tim, inth,...  \n",
       "4  [ordin, high, rat, review, prem, pric, comp, a...  \n",
       "\n",
       "[5 rows x 29 columns]"
      ]
     },
     "execution_count": 28,
     "metadata": {},
     "output_type": "execute_result"
    }
   ],
   "source": [
    "ps = nltk.PorterStemmer()\n",
    "ss = nltk.SnowballStemmer('english')\n",
    "ls = nltk.LancasterStemmer()\n",
    "\n",
    "# No Stemming\n",
    "df['nposr_nstpd_nstem'] = df['nposr_nstpd']\n",
    "df['posr_nstpd_nstem'] = df['posr_nstpd']\n",
    "df['nposr_stpd_nstem'] = df['nposr_stpd']\n",
    "df['posr_stpd_nstem'] = df['posr_stpd']\n",
    "# Porter\n",
    "df['nposr_nstpd_port'] = df['nposr_nstpd'].apply(lambda x: [ps.stem(y) for y in x])\n",
    "df['posr_nstpd_port'] = df['posr_nstpd'].apply(lambda x: [ps.stem(y) for y in x])\n",
    "df['nposr_stpd_port'] = df['nposr_stpd'].apply(lambda x: [ps.stem(y) for y in x])\n",
    "df['posr_stpd_port'] = df['posr_stpd'].apply(lambda x: [ps.stem(y) for y in x])\n",
    "# Snowball\n",
    "df['nposr_nstpd_snow'] = df['nposr_nstpd'].apply(lambda x: [ss.stem(y) for y in x])\n",
    "df['posr_nstpd_snow'] = df['posr_nstpd'].apply(lambda x: [ss.stem(y) for y in x])\n",
    "df['nposr_stpd_snow'] = df['nposr_stpd'].apply(lambda x: [ss.stem(y) for y in x])\n",
    "df['posr_stpd_snow'] = df['posr_stpd'].apply(lambda x: [ss.stem(y) for y in x])\n",
    "# Lancaster\n",
    "df['nposr_nstpd_lanc'] = df['nposr_nstpd'].apply(lambda x: [ls.stem(y) for y in x])\n",
    "df['posr_nstpd_lanc'] = df['posr_nstpd'].apply(lambda x: [ls.stem(y) for y in x])\n",
    "df['nposr_stpd_lanc'] = df['nposr_stpd'].apply(lambda x: [ls.stem(y) for y in x])\n",
    "df['posr_stpd_lanc'] = df['posr_stpd'].apply(lambda x: [ls.stem(y) for y in x])\n",
    "\n",
    "df.head()"
   ]
  },
  {
   "cell_type": "code",
   "execution_count": 29,
   "metadata": {},
   "outputs": [
    {
     "data": {
      "text/plain": [
       "(6287, 29)"
      ]
     },
     "execution_count": 29,
     "metadata": {},
     "output_type": "execute_result"
    }
   ],
   "source": [
    "df.shape"
   ]
  },
  {
   "cell_type": "markdown",
   "metadata": {},
   "source": [
    "### Saving the file to disk for later use if required"
   ]
  },
  {
   "cell_type": "code",
   "execution_count": 30,
   "metadata": {},
   "outputs": [],
   "source": [
    "# put final to csv just in case need a file\n",
    "df.to_csv('final.csv')"
   ]
  },
  {
   "cell_type": "markdown",
   "metadata": {},
   "source": [
    "### Test and Evaluate with Logistic Regression, Naive Bayes, k-fold"
   ]
  },
  {
   "cell_type": "code",
   "execution_count": 31,
   "metadata": {},
   "outputs": [
    {
     "name": "stdout",
     "output_type": "stream",
     "text": [
      "Populating the interactive namespace from numpy and matplotlib\n"
     ]
    }
   ],
   "source": [
    "%pylab inline\n",
    "import pandas as pd"
   ]
  },
  {
   "cell_type": "markdown",
   "metadata": {},
   "source": [
    "### Import sklearn and NLTK Library and Modules"
   ]
  },
  {
   "cell_type": "code",
   "execution_count": 32,
   "metadata": {},
   "outputs": [],
   "source": [
    "from nltk.classify import NaiveBayesClassifier\n",
    "from nltk.corpus import subjectivity\n",
    "from nltk.sentiment import SentimentAnalyzer\n",
    "from nltk.sentiment.util import *\n",
    "\n",
    "from sklearn.linear_model import LogisticRegression\n",
    "from nltk.classify.scikitlearn import SklearnClassifier\n",
    "logreg = SklearnClassifier(LogisticRegression())"
   ]
  },
  {
   "cell_type": "markdown",
   "metadata": {},
   "source": [
    "### Function to Convert the Data into a Feature Set"
   ]
  },
  {
   "cell_type": "code",
   "execution_count": 33,
   "metadata": {},
   "outputs": [],
   "source": [
    "## Transform data into list of ([tokens],sentiment label)\n",
    "def createTrainingDataNLTK(sentences,labels):\n",
    "    rdata = np.vstack([sentences,labels])\n",
    "    rdata = np.transpose(rdata)\n",
    "    data = list();\n",
    "    for i in range(0,len(rdata)):\n",
    "        tokens = rdata[i][0].split(\" \")\n",
    "        d_tuple = (tokens, rdata[i][1]);\n",
    "        data.append(d_tuple)\n",
    "    return data;"
   ]
  },
  {
   "cell_type": "code",
   "execution_count": 34,
   "metadata": {},
   "outputs": [],
   "source": [
    "# create a list of all possible feature reduction permutations in the order of stopword removal_pos_stem\n",
    "featurereductions = ['nposr_nstpd_nstem']"
   ]
  },
  {
   "cell_type": "code",
   "execution_count": 35,
   "metadata": {},
   "outputs": [],
   "source": [
    "# merge the words into sentence to use current implementation of createTrainingData\n",
    "def create_nltk_train_data (feature_reduction):\n",
    "    df['sentences'] = df[feature_reduction].apply(lambda x: \" \".join(x))\n",
    "    x_label = \"sentences\"\n",
    "    y_label = \"Sentiment\"\n",
    "    nltk_train_data = createTrainingDataNLTK(df[x_label],df[y_label])\n",
    "    return nltk_train_data\n",
    "    "
   ]
  },
  {
   "cell_type": "code",
   "execution_count": 43,
   "metadata": {
    "scrolled": true
   },
   "outputs": [
    {
     "data": {
      "text/html": [
       "<div>\n",
       "<style scoped>\n",
       "    .dataframe tbody tr th:only-of-type {\n",
       "        vertical-align: middle;\n",
       "    }\n",
       "\n",
       "    .dataframe tbody tr th {\n",
       "        vertical-align: top;\n",
       "    }\n",
       "\n",
       "    .dataframe thead th {\n",
       "        text-align: right;\n",
       "    }\n",
       "</style>\n",
       "<table border=\"1\" class=\"dataframe\">\n",
       "  <thead>\n",
       "    <tr style=\"text-align: right;\">\n",
       "      <th></th>\n",
       "      <th>Reviewid</th>\n",
       "      <th>Hotelid</th>\n",
       "      <th>userid</th>\n",
       "      <th>Date</th>\n",
       "      <th>reviewtext</th>\n",
       "      <th>Sentiment</th>\n",
       "      <th>len</th>\n",
       "      <th>posr</th>\n",
       "      <th>nposr</th>\n",
       "      <th>posr_stpd</th>\n",
       "      <th>...</th>\n",
       "      <th>posr_stpd_port</th>\n",
       "      <th>nposr_nstpd_snow</th>\n",
       "      <th>posr_nstpd_snow</th>\n",
       "      <th>nposr_stpd_snow</th>\n",
       "      <th>posr_stpd_snow</th>\n",
       "      <th>nposr_nstpd_lanc</th>\n",
       "      <th>posr_nstpd_lanc</th>\n",
       "      <th>nposr_stpd_lanc</th>\n",
       "      <th>posr_stpd_lanc</th>\n",
       "      <th>sentences</th>\n",
       "    </tr>\n",
       "  </thead>\n",
       "  <tbody>\n",
       "    <tr>\n",
       "      <th>0</th>\n",
       "      <td>Review_1</td>\n",
       "      <td>hotel_101</td>\n",
       "      <td>hotel_1608</td>\n",
       "      <td>Nov 16, 2007</td>\n",
       "      <td>[nice, marriot, view, of, my, king, bed, room]</td>\n",
       "      <td>good</td>\n",
       "      <td>43</td>\n",
       "      <td>[nice, marriot, view, king, bed, room]</td>\n",
       "      <td>[nice, marriot, view, of, my, king, bed, room]</td>\n",
       "      <td>[nice, marriot, view, king, bed, room]</td>\n",
       "      <td>...</td>\n",
       "      <td>[nice, marriot, view, king, bed, room]</td>\n",
       "      <td>[nice, marriot, view, of, my, king, bed, room]</td>\n",
       "      <td>[nice, marriot, view, king, bed, room]</td>\n",
       "      <td>[nice, marriot, view, king, bed, room]</td>\n",
       "      <td>[nice, marriot, view, king, bed, room]</td>\n",
       "      <td>[nic, marriot, view, of, my, king, bed, room]</td>\n",
       "      <td>[nic, marriot, view, king, bed, room]</td>\n",
       "      <td>[nic, marriot, view, king, bed, room]</td>\n",
       "      <td>[nic, marriot, view, king, bed, room]</td>\n",
       "      <td>nice marriot view of my king bed room</td>\n",
       "    </tr>\n",
       "    <tr>\n",
       "      <th>1</th>\n",
       "      <td>Review_2</td>\n",
       "      <td>hotel_101</td>\n",
       "      <td>hotel_6939</td>\n",
       "      <td>Oct 30, 2007</td>\n",
       "      <td>[good, hotel, charges, for, internet, access, ...</td>\n",
       "      <td>good</td>\n",
       "      <td>1170</td>\n",
       "      <td>[good, hotel, charges, internet, access, marri...</td>\n",
       "      <td>[good, hotel, charges, for, internet, access, ...</td>\n",
       "      <td>[good, hotel, charges, internet, access, marri...</td>\n",
       "      <td>...</td>\n",
       "      <td>[good, hotel, charg, internet, access, marriot...</td>\n",
       "      <td>[good, hotel, charg, for, internet, access, th...</td>\n",
       "      <td>[good, hotel, charg, internet, access, marriot...</td>\n",
       "      <td>[good, hotel, charg, internet, access, marriot...</td>\n",
       "      <td>[good, hotel, charg, internet, access, marriot...</td>\n",
       "      <td>[good, hotel, charg, for, internet, access, th...</td>\n",
       "      <td>[good, hotel, charg, internet, access, marriot...</td>\n",
       "      <td>[good, hotel, charg, internet, access, marriot...</td>\n",
       "      <td>[good, hotel, charg, internet, access, marriot...</td>\n",
       "      <td>good hotel charges for internet access the mar...</td>\n",
       "    </tr>\n",
       "  </tbody>\n",
       "</table>\n",
       "<p>2 rows × 30 columns</p>\n",
       "</div>"
      ],
      "text/plain": [
       "   Reviewid    Hotelid      userid          Date  \\\n",
       "0  Review_1  hotel_101  hotel_1608  Nov 16, 2007   \n",
       "1  Review_2  hotel_101  hotel_6939  Oct 30, 2007   \n",
       "\n",
       "                                          reviewtext Sentiment   len  \\\n",
       "0     [nice, marriot, view, of, my, king, bed, room]      good    43   \n",
       "1  [good, hotel, charges, for, internet, access, ...      good  1170   \n",
       "\n",
       "                                                posr  \\\n",
       "0             [nice, marriot, view, king, bed, room]   \n",
       "1  [good, hotel, charges, internet, access, marri...   \n",
       "\n",
       "                                               nposr  \\\n",
       "0     [nice, marriot, view, of, my, king, bed, room]   \n",
       "1  [good, hotel, charges, for, internet, access, ...   \n",
       "\n",
       "                                           posr_stpd  \\\n",
       "0             [nice, marriot, view, king, bed, room]   \n",
       "1  [good, hotel, charges, internet, access, marri...   \n",
       "\n",
       "                         ...                          \\\n",
       "0                        ...                           \n",
       "1                        ...                           \n",
       "\n",
       "                                      posr_stpd_port  \\\n",
       "0             [nice, marriot, view, king, bed, room]   \n",
       "1  [good, hotel, charg, internet, access, marriot...   \n",
       "\n",
       "                                    nposr_nstpd_snow  \\\n",
       "0     [nice, marriot, view, of, my, king, bed, room]   \n",
       "1  [good, hotel, charg, for, internet, access, th...   \n",
       "\n",
       "                                     posr_nstpd_snow  \\\n",
       "0             [nice, marriot, view, king, bed, room]   \n",
       "1  [good, hotel, charg, internet, access, marriot...   \n",
       "\n",
       "                                     nposr_stpd_snow  \\\n",
       "0             [nice, marriot, view, king, bed, room]   \n",
       "1  [good, hotel, charg, internet, access, marriot...   \n",
       "\n",
       "                                      posr_stpd_snow  \\\n",
       "0             [nice, marriot, view, king, bed, room]   \n",
       "1  [good, hotel, charg, internet, access, marriot...   \n",
       "\n",
       "                                    nposr_nstpd_lanc  \\\n",
       "0      [nic, marriot, view, of, my, king, bed, room]   \n",
       "1  [good, hotel, charg, for, internet, access, th...   \n",
       "\n",
       "                                     posr_nstpd_lanc  \\\n",
       "0              [nic, marriot, view, king, bed, room]   \n",
       "1  [good, hotel, charg, internet, access, marriot...   \n",
       "\n",
       "                                     nposr_stpd_lanc  \\\n",
       "0              [nic, marriot, view, king, bed, room]   \n",
       "1  [good, hotel, charg, internet, access, marriot...   \n",
       "\n",
       "                                      posr_stpd_lanc  \\\n",
       "0              [nic, marriot, view, king, bed, room]   \n",
       "1  [good, hotel, charg, internet, access, marriot...   \n",
       "\n",
       "                                           sentences  \n",
       "0              nice marriot view of my king bed room  \n",
       "1  good hotel charges for internet access the mar...  \n",
       "\n",
       "[2 rows x 30 columns]"
      ]
     },
     "execution_count": 43,
     "metadata": {},
     "output_type": "execute_result"
    }
   ],
   "source": [
    "df.head(2)"
   ]
  },
  {
   "cell_type": "code",
   "execution_count": 44,
   "metadata": {},
   "outputs": [
    {
     "data": {
      "text/plain": [
       "(6287, 30)"
      ]
     },
     "execution_count": 44,
     "metadata": {},
     "output_type": "execute_result"
    }
   ],
   "source": [
    "df.shape"
   ]
  },
  {
   "cell_type": "markdown",
   "metadata": {},
   "source": [
    "### Functions to Train the Classifers and Run it Against Test Data"
   ]
  },
  {
   "cell_type": "code",
   "execution_count": 45,
   "metadata": {},
   "outputs": [],
   "source": [
    "# returns the accuracy of the test data for Naive Bayes\n",
    "# when predicted against fitted training data\n",
    "def train1(training_set,test_set):\n",
    "    \n",
    "    sentim_analyzer = SentimentAnalyzer()\n",
    "    all_words_neg = sentim_analyzer.all_words([mark_negation(doc) for doc in training_set])\n",
    "    unigram_feats = sentim_analyzer.unigram_word_feats(all_words_neg, min_freq=4)\n",
    "    sentim_analyzer.add_feat_extractor(extract_unigram_feats, unigrams=unigram_feats)\n",
    "    \n",
    "    training_set = sentim_analyzer.apply_features(training_set)\n",
    "    test_set = sentim_analyzer.apply_features(test_set)\n",
    "                                              \n",
    "    trainer = NaiveBayesClassifier.train\n",
    "    classifier = sentim_analyzer.train(trainer, training_set)\n",
    "    results = sentim_analyzer.evaluate(test_set).items()                             \n",
    "    return results"
   ]
  },
  {
   "cell_type": "code",
   "execution_count": 46,
   "metadata": {},
   "outputs": [],
   "source": [
    "# returns the accuracy of the test data for Logistic Regression\n",
    "# when predicted against fitted training data\n",
    "def train2(training_set,test_set):\n",
    "    \n",
    "    sentim_analyzer = SentimentAnalyzer()\n",
    "    all_words_neg = sentim_analyzer.all_words([mark_negation(doc) for doc in training_set])\n",
    "    unigram_feats = sentim_analyzer.unigram_word_feats(all_words_neg, min_freq=4)\n",
    "    sentim_analyzer.add_feat_extractor(extract_unigram_feats, unigrams=unigram_feats)\n",
    "    \n",
    "    training_set = sentim_analyzer.apply_features(training_set)\n",
    "    test_set = sentim_analyzer.apply_features(test_set)\n",
    "                                              \n",
    "    trainer = logreg.train\n",
    "    classifier = sentim_analyzer.train(trainer, training_set)\n",
    "    results = sentim_analyzer.evaluate(test_set).items()                             \n",
    "    return results"
   ]
  },
  {
   "cell_type": "markdown",
   "metadata": {},
   "source": [
    "### K-Fold Cross Validation"
   ]
  },
  {
   "cell_type": "code",
   "execution_count": 47,
   "metadata": {},
   "outputs": [],
   "source": [
    "## A custom parser function to interpret results of training function\n",
    "def nltk_parser(results,summer):\n",
    "    for key,value in sorted(results):\n",
    "        #print('{0}: {1}'.format(key, value))\n",
    "        if key == \"Accuracy\": summer += value;\n",
    "    print\n",
    "    return summer"
   ]
  },
  {
   "cell_type": "code",
   "execution_count": 48,
   "metadata": {},
   "outputs": [],
   "source": [
    "## k-fold cross validation designed to be agnostic to training data and training function\n",
    "def k_fold_validation(k,data,train_func,parser):\n",
    "    \n",
    "    b_length = len(data)/k; # the testing bucket length\n",
    "    sum_acc = 0; # Use this for average accuracy\n",
    "    print (k, \"- fold cross validation\")\n",
    "    print (\"-----------------------------\")\n",
    "    for i in range(0,k):       \n",
    "        s_i = i*b_length; # testing interval start index\n",
    "        f_i = s_i + b_length; # testing interval end index\n",
    "        test_data = data[s_i:f_i]\n",
    "        train_data = data[0:s_i]+data[f_i:len(data)];\n",
    "        metrics = train_func(train_data,test_data);\n",
    "        sum_acc = parser(metrics,sum_acc);\n",
    "\n",
    "    print ('\\nAverage Accuracy:', sum_acc / k)"
   ]
  },
  {
   "cell_type": "code",
   "execution_count": 49,
   "metadata": {},
   "outputs": [],
   "source": [
    "## k-fold cross validation designed to be agnostic to training data and training function\n",
    "# Returns average accuracy\n",
    "def k_fold_validation_simple(k,data,train_func,parser):\n",
    "    b_length = len(data)/k; # the testing bucket length\n",
    "    sum_acc = 0; # Use this for average accuracy\n",
    "    for i in range(0,k):       \n",
    "        s_i = i*b_length; # testing interval start index\n",
    "        f_i = s_i + b_length; # testing interval end index\n",
    "        test_data = data[1787:]\n",
    "        train_data = data[:4500];\n",
    "        metrics = train_func(train_data,test_data);\n",
    "        sum_acc = parser(metrics,sum_acc);\n",
    "    return sum_acc / k;"
   ]
  },
  {
   "cell_type": "markdown",
   "metadata": {},
   "source": [
    "### Test Accuracy Using K-Fold Cross Validation"
   ]
  },
  {
   "cell_type": "code",
   "execution_count": 50,
   "metadata": {
    "scrolled": false
   },
   "outputs": [
    {
     "name": "stdout",
     "output_type": "stream",
     "text": [
      "nposr_nstpd_nstem\n",
      "Training classifier\n",
      "Evaluating NaiveBayesClassifier results...\n",
      "0.6275555555555555\n"
     ]
    }
   ],
   "source": [
    "K = 1; # Constant for K-fold cross validation\n",
    "accuracies =[]\n",
    "dict_metrics_nb = {}\n",
    "for i in range(0, len(featurereductions)):\n",
    "    nltk_train_data = create_nltk_train_data (featurereductions[i])\n",
    "    print (featurereductions[i])\n",
    "    accuracies.append(k_fold_validation_simple(K,nltk_train_data,train1,nltk_parser))\n",
    "    # creates a dict with featurereduction techniques, accuracy, and feature counts\n",
    "    dict_metrics_nb.update({featurereductions[i]: accuracies[i]})\n",
    "    print (accuracies[i])"
   ]
  },
  {
   "cell_type": "code",
   "execution_count": 54,
   "metadata": {
    "scrolled": true
   },
   "outputs": [
    {
     "name": "stdout",
     "output_type": "stream",
     "text": [
      "nposr_nstpd_nstem\n",
      "Training classifier\n"
     ]
    },
    {
     "ename": "KeyboardInterrupt",
     "evalue": "",
     "output_type": "error",
     "traceback": [
      "\u001b[1;31m---------------------------------------------------------------------------\u001b[0m",
      "\u001b[1;31mKeyboardInterrupt\u001b[0m                         Traceback (most recent call last)",
      "\u001b[1;32m<ipython-input-54-cbfa55b1e771>\u001b[0m in \u001b[0;36m<module>\u001b[1;34m()\u001b[0m\n\u001b[0;32m      5\u001b[0m     \u001b[0mnltk_train_data\u001b[0m \u001b[1;33m=\u001b[0m \u001b[0mcreate_nltk_train_data\u001b[0m \u001b[1;33m(\u001b[0m\u001b[0mfeaturereductions\u001b[0m\u001b[1;33m[\u001b[0m\u001b[0mi\u001b[0m\u001b[1;33m]\u001b[0m\u001b[1;33m)\u001b[0m\u001b[1;33m\u001b[0m\u001b[0m\n\u001b[0;32m      6\u001b[0m     \u001b[0mprint\u001b[0m \u001b[1;33m(\u001b[0m\u001b[0mfeaturereductions\u001b[0m\u001b[1;33m[\u001b[0m\u001b[0mi\u001b[0m\u001b[1;33m]\u001b[0m\u001b[1;33m)\u001b[0m\u001b[1;33m\u001b[0m\u001b[0m\n\u001b[1;32m----> 7\u001b[1;33m     \u001b[0maccuracies2\u001b[0m\u001b[1;33m.\u001b[0m\u001b[0mappend\u001b[0m\u001b[1;33m(\u001b[0m\u001b[0mk_fold_validation_simple\u001b[0m\u001b[1;33m(\u001b[0m\u001b[0mK\u001b[0m\u001b[1;33m,\u001b[0m\u001b[0mnltk_train_data\u001b[0m\u001b[1;33m,\u001b[0m\u001b[0mtrain2\u001b[0m\u001b[1;33m,\u001b[0m\u001b[0mnltk_parser\u001b[0m\u001b[1;33m)\u001b[0m\u001b[1;33m)\u001b[0m\u001b[1;33m\u001b[0m\u001b[0m\n\u001b[0m\u001b[0;32m      8\u001b[0m     \u001b[1;31m# creates a dict with featurereduction techniques, accuracy, and feature counts\u001b[0m\u001b[1;33m\u001b[0m\u001b[1;33m\u001b[0m\u001b[0m\n\u001b[0;32m      9\u001b[0m     \u001b[0mdict_metrics_lr\u001b[0m\u001b[1;33m.\u001b[0m\u001b[0mupdate\u001b[0m\u001b[1;33m(\u001b[0m\u001b[1;33m{\u001b[0m\u001b[0mfeaturereductions\u001b[0m\u001b[1;33m[\u001b[0m\u001b[0mi\u001b[0m\u001b[1;33m]\u001b[0m\u001b[1;33m:\u001b[0m \u001b[0maccuracies2\u001b[0m\u001b[1;33m[\u001b[0m\u001b[0mi\u001b[0m\u001b[1;33m]\u001b[0m\u001b[1;33m}\u001b[0m\u001b[1;33m)\u001b[0m\u001b[1;33m\u001b[0m\u001b[0m\n",
      "\u001b[1;32m<ipython-input-53-3923d3e231f0>\u001b[0m in \u001b[0;36mk_fold_validation_simple\u001b[1;34m(k, data, train_func, parser)\u001b[0m\n\u001b[0;32m      9\u001b[0m         \u001b[0mtest_data\u001b[0m \u001b[1;33m=\u001b[0m \u001b[0mdata\u001b[0m\u001b[1;33m[\u001b[0m\u001b[1;36m1787\u001b[0m\u001b[1;33m:\u001b[0m\u001b[1;33m]\u001b[0m\u001b[1;33m\u001b[0m\u001b[0m\n\u001b[0;32m     10\u001b[0m         \u001b[0mtrain_data\u001b[0m \u001b[1;33m=\u001b[0m \u001b[0mdata\u001b[0m\u001b[1;33m[\u001b[0m\u001b[1;33m:\u001b[0m\u001b[1;36m4500\u001b[0m\u001b[1;33m]\u001b[0m\u001b[1;33m;\u001b[0m\u001b[1;33m\u001b[0m\u001b[0m\n\u001b[1;32m---> 11\u001b[1;33m         \u001b[0mmetrics\u001b[0m \u001b[1;33m=\u001b[0m \u001b[0mtrain_func\u001b[0m\u001b[1;33m(\u001b[0m\u001b[0mtrain_data\u001b[0m\u001b[1;33m,\u001b[0m\u001b[0mtest_data\u001b[0m\u001b[1;33m)\u001b[0m\u001b[1;33m;\u001b[0m\u001b[1;33m\u001b[0m\u001b[0m\n\u001b[0m\u001b[0;32m     12\u001b[0m         \u001b[0msum_acc\u001b[0m \u001b[1;33m=\u001b[0m \u001b[0mparser\u001b[0m\u001b[1;33m(\u001b[0m\u001b[0mmetrics\u001b[0m\u001b[1;33m,\u001b[0m\u001b[0msum_acc\u001b[0m\u001b[1;33m)\u001b[0m\u001b[1;33m;\u001b[0m\u001b[1;33m\u001b[0m\u001b[0m\n\u001b[0;32m     13\u001b[0m     \u001b[1;32mreturn\u001b[0m \u001b[0msum_acc\u001b[0m \u001b[1;33m/\u001b[0m \u001b[0mk\u001b[0m\u001b[1;33m;\u001b[0m\u001b[1;33m\u001b[0m\u001b[0m\n",
      "\u001b[1;32m<ipython-input-50-b4a978a5ad6e>\u001b[0m in \u001b[0;36mtrain2\u001b[1;34m(training_set, test_set)\u001b[0m\n\u001b[0;32m     12\u001b[0m \u001b[1;33m\u001b[0m\u001b[0m\n\u001b[0;32m     13\u001b[0m     \u001b[0mtrainer\u001b[0m \u001b[1;33m=\u001b[0m \u001b[0mlogreg\u001b[0m\u001b[1;33m.\u001b[0m\u001b[0mtrain\u001b[0m\u001b[1;33m\u001b[0m\u001b[0m\n\u001b[1;32m---> 14\u001b[1;33m     \u001b[0mclassifier\u001b[0m \u001b[1;33m=\u001b[0m \u001b[0msentim_analyzer\u001b[0m\u001b[1;33m.\u001b[0m\u001b[0mtrain\u001b[0m\u001b[1;33m(\u001b[0m\u001b[0mtrainer\u001b[0m\u001b[1;33m,\u001b[0m \u001b[0mtraining_set\u001b[0m\u001b[1;33m)\u001b[0m\u001b[1;33m\u001b[0m\u001b[0m\n\u001b[0m\u001b[0;32m     15\u001b[0m     \u001b[0mresults\u001b[0m \u001b[1;33m=\u001b[0m \u001b[0msentim_analyzer\u001b[0m\u001b[1;33m.\u001b[0m\u001b[0mevaluate\u001b[0m\u001b[1;33m(\u001b[0m\u001b[0mtest_set\u001b[0m\u001b[1;33m)\u001b[0m\u001b[1;33m.\u001b[0m\u001b[0mitems\u001b[0m\u001b[1;33m(\u001b[0m\u001b[1;33m)\u001b[0m\u001b[1;33m\u001b[0m\u001b[0m\n\u001b[0;32m     16\u001b[0m     \u001b[1;32mreturn\u001b[0m \u001b[0mresults\u001b[0m\u001b[1;33m\u001b[0m\u001b[0m\n",
      "\u001b[1;32m~\\Anaconda3\\lib\\site-packages\\nltk\\sentiment\\sentiment_analyzer.py\u001b[0m in \u001b[0;36mtrain\u001b[1;34m(self, trainer, training_set, save_classifier, **kwargs)\u001b[0m\n\u001b[0;32m    171\u001b[0m         \"\"\"\n\u001b[0;32m    172\u001b[0m         \u001b[0mprint\u001b[0m\u001b[1;33m(\u001b[0m\u001b[1;34m\"Training classifier\"\u001b[0m\u001b[1;33m)\u001b[0m\u001b[1;33m\u001b[0m\u001b[0m\n\u001b[1;32m--> 173\u001b[1;33m         \u001b[0mself\u001b[0m\u001b[1;33m.\u001b[0m\u001b[0mclassifier\u001b[0m \u001b[1;33m=\u001b[0m \u001b[0mtrainer\u001b[0m\u001b[1;33m(\u001b[0m\u001b[0mtraining_set\u001b[0m\u001b[1;33m,\u001b[0m \u001b[1;33m**\u001b[0m\u001b[0mkwargs\u001b[0m\u001b[1;33m)\u001b[0m\u001b[1;33m\u001b[0m\u001b[0m\n\u001b[0m\u001b[0;32m    174\u001b[0m         \u001b[1;32mif\u001b[0m \u001b[0msave_classifier\u001b[0m\u001b[1;33m:\u001b[0m\u001b[1;33m\u001b[0m\u001b[0m\n\u001b[0;32m    175\u001b[0m             \u001b[0msave_file\u001b[0m\u001b[1;33m(\u001b[0m\u001b[0mself\u001b[0m\u001b[1;33m.\u001b[0m\u001b[0mclassifier\u001b[0m\u001b[1;33m,\u001b[0m \u001b[0msave_classifier\u001b[0m\u001b[1;33m)\u001b[0m\u001b[1;33m\u001b[0m\u001b[0m\n",
      "\u001b[1;32m~\\Anaconda3\\lib\\site-packages\\nltk\\classify\\scikitlearn.py\u001b[0m in \u001b[0;36mtrain\u001b[1;34m(self, labeled_featuresets)\u001b[0m\n\u001b[0;32m    114\u001b[0m         \"\"\"\n\u001b[0;32m    115\u001b[0m \u001b[1;33m\u001b[0m\u001b[0m\n\u001b[1;32m--> 116\u001b[1;33m         \u001b[0mX\u001b[0m\u001b[1;33m,\u001b[0m \u001b[0my\u001b[0m \u001b[1;33m=\u001b[0m \u001b[0mlist\u001b[0m\u001b[1;33m(\u001b[0m\u001b[0mzip\u001b[0m\u001b[1;33m(\u001b[0m\u001b[1;33m*\u001b[0m\u001b[0mlabeled_featuresets\u001b[0m\u001b[1;33m)\u001b[0m\u001b[1;33m)\u001b[0m\u001b[1;33m\u001b[0m\u001b[0m\n\u001b[0m\u001b[0;32m    117\u001b[0m         \u001b[0mX\u001b[0m \u001b[1;33m=\u001b[0m \u001b[0mself\u001b[0m\u001b[1;33m.\u001b[0m\u001b[0m_vectorizer\u001b[0m\u001b[1;33m.\u001b[0m\u001b[0mfit_transform\u001b[0m\u001b[1;33m(\u001b[0m\u001b[0mX\u001b[0m\u001b[1;33m)\u001b[0m\u001b[1;33m\u001b[0m\u001b[0m\n\u001b[0;32m    118\u001b[0m         \u001b[0my\u001b[0m \u001b[1;33m=\u001b[0m \u001b[0mself\u001b[0m\u001b[1;33m.\u001b[0m\u001b[0m_encoder\u001b[0m\u001b[1;33m.\u001b[0m\u001b[0mfit_transform\u001b[0m\u001b[1;33m(\u001b[0m\u001b[0my\u001b[0m\u001b[1;33m)\u001b[0m\u001b[1;33m\u001b[0m\u001b[0m\n",
      "\u001b[1;32m~\\Anaconda3\\lib\\site-packages\\nltk\\collections.py\u001b[0m in \u001b[0;36miterate_from\u001b[1;34m(self, index)\u001b[0m\n\u001b[0;32m    404\u001b[0m         \u001b[1;32melif\u001b[0m \u001b[0mlen\u001b[0m\u001b[1;33m(\u001b[0m\u001b[0mself\u001b[0m\u001b[1;33m.\u001b[0m\u001b[0m_lists\u001b[0m\u001b[1;33m)\u001b[0m \u001b[1;33m==\u001b[0m \u001b[1;36m1\u001b[0m\u001b[1;33m:\u001b[0m\u001b[1;33m\u001b[0m\u001b[0m\n\u001b[0;32m    405\u001b[0m             \u001b[1;32mwhile\u001b[0m \u001b[1;32mTrue\u001b[0m\u001b[1;33m:\u001b[0m\u001b[1;33m\u001b[0m\u001b[0m\n\u001b[1;32m--> 406\u001b[1;33m                 \u001b[1;32mtry\u001b[0m\u001b[1;33m:\u001b[0m \u001b[1;32myield\u001b[0m \u001b[0mself\u001b[0m\u001b[1;33m.\u001b[0m\u001b[0m_func\u001b[0m\u001b[1;33m(\u001b[0m\u001b[0mself\u001b[0m\u001b[1;33m.\u001b[0m\u001b[0m_lists\u001b[0m\u001b[1;33m[\u001b[0m\u001b[1;36m0\u001b[0m\u001b[1;33m]\u001b[0m\u001b[1;33m[\u001b[0m\u001b[0mindex\u001b[0m\u001b[1;33m]\u001b[0m\u001b[1;33m)\u001b[0m\u001b[1;33m\u001b[0m\u001b[0m\n\u001b[0m\u001b[0;32m    407\u001b[0m                 \u001b[1;32mexcept\u001b[0m \u001b[0mIndexError\u001b[0m\u001b[1;33m:\u001b[0m \u001b[1;32mreturn\u001b[0m\u001b[1;33m\u001b[0m\u001b[0m\n\u001b[0;32m    408\u001b[0m                 \u001b[0mindex\u001b[0m \u001b[1;33m+=\u001b[0m \u001b[1;36m1\u001b[0m\u001b[1;33m\u001b[0m\u001b[0m\n",
      "\u001b[1;32m~\\Anaconda3\\lib\\site-packages\\nltk\\classify\\util.py\u001b[0m in \u001b[0;36mlazy_func\u001b[1;34m(labeled_token)\u001b[0m\n\u001b[0;32m     63\u001b[0m     \u001b[1;32mif\u001b[0m \u001b[0mlabeled\u001b[0m\u001b[1;33m:\u001b[0m\u001b[1;33m\u001b[0m\u001b[0m\n\u001b[0;32m     64\u001b[0m         \u001b[1;32mdef\u001b[0m \u001b[0mlazy_func\u001b[0m\u001b[1;33m(\u001b[0m\u001b[0mlabeled_token\u001b[0m\u001b[1;33m)\u001b[0m\u001b[1;33m:\u001b[0m\u001b[1;33m\u001b[0m\u001b[0m\n\u001b[1;32m---> 65\u001b[1;33m             \u001b[1;32mreturn\u001b[0m \u001b[1;33m(\u001b[0m\u001b[0mfeature_func\u001b[0m\u001b[1;33m(\u001b[0m\u001b[0mlabeled_token\u001b[0m\u001b[1;33m[\u001b[0m\u001b[1;36m0\u001b[0m\u001b[1;33m]\u001b[0m\u001b[1;33m)\u001b[0m\u001b[1;33m,\u001b[0m \u001b[0mlabeled_token\u001b[0m\u001b[1;33m[\u001b[0m\u001b[1;36m1\u001b[0m\u001b[1;33m]\u001b[0m\u001b[1;33m)\u001b[0m\u001b[1;33m\u001b[0m\u001b[0m\n\u001b[0m\u001b[0;32m     66\u001b[0m         \u001b[1;32mreturn\u001b[0m \u001b[0mLazyMap\u001b[0m\u001b[1;33m(\u001b[0m\u001b[0mlazy_func\u001b[0m\u001b[1;33m,\u001b[0m \u001b[0mtoks\u001b[0m\u001b[1;33m)\u001b[0m\u001b[1;33m\u001b[0m\u001b[0m\n\u001b[0;32m     67\u001b[0m     \u001b[1;32melse\u001b[0m\u001b[1;33m:\u001b[0m\u001b[1;33m\u001b[0m\u001b[0m\n",
      "\u001b[1;32m~\\Anaconda3\\lib\\site-packages\\nltk\\sentiment\\sentiment_analyzer.py\u001b[0m in \u001b[0;36mextract_features\u001b[1;34m(self, document)\u001b[0m\n\u001b[0;32m    147\u001b[0m         \u001b[1;32mfor\u001b[0m \u001b[0mextractor\u001b[0m \u001b[1;32min\u001b[0m \u001b[0mself\u001b[0m\u001b[1;33m.\u001b[0m\u001b[0mfeat_extractors\u001b[0m\u001b[1;33m:\u001b[0m\u001b[1;33m\u001b[0m\u001b[0m\n\u001b[0;32m    148\u001b[0m             \u001b[1;32mfor\u001b[0m \u001b[0mparam_set\u001b[0m \u001b[1;32min\u001b[0m \u001b[0mself\u001b[0m\u001b[1;33m.\u001b[0m\u001b[0mfeat_extractors\u001b[0m\u001b[1;33m[\u001b[0m\u001b[0mextractor\u001b[0m\u001b[1;33m]\u001b[0m\u001b[1;33m:\u001b[0m\u001b[1;33m\u001b[0m\u001b[0m\n\u001b[1;32m--> 149\u001b[1;33m                 \u001b[0mfeats\u001b[0m \u001b[1;33m=\u001b[0m \u001b[0mextractor\u001b[0m\u001b[1;33m(\u001b[0m\u001b[0mdocument\u001b[0m\u001b[1;33m,\u001b[0m \u001b[1;33m**\u001b[0m\u001b[0mparam_set\u001b[0m\u001b[1;33m)\u001b[0m\u001b[1;33m\u001b[0m\u001b[0m\n\u001b[0m\u001b[0;32m    150\u001b[0m             \u001b[0mall_features\u001b[0m\u001b[1;33m.\u001b[0m\u001b[0mupdate\u001b[0m\u001b[1;33m(\u001b[0m\u001b[0mfeats\u001b[0m\u001b[1;33m)\u001b[0m\u001b[1;33m\u001b[0m\u001b[0m\n\u001b[0;32m    151\u001b[0m         \u001b[1;32mreturn\u001b[0m \u001b[0mall_features\u001b[0m\u001b[1;33m\u001b[0m\u001b[0m\n",
      "\u001b[1;32m~\\Anaconda3\\lib\\site-packages\\nltk\\sentiment\\util.py\u001b[0m in \u001b[0;36mextract_unigram_feats\u001b[1;34m(document, unigrams, handle_negation)\u001b[0m\n\u001b[0;32m    124\u001b[0m         \u001b[0mdocument\u001b[0m \u001b[1;33m=\u001b[0m \u001b[0mmark_negation\u001b[0m\u001b[1;33m(\u001b[0m\u001b[0mdocument\u001b[0m\u001b[1;33m)\u001b[0m\u001b[1;33m\u001b[0m\u001b[0m\n\u001b[0;32m    125\u001b[0m     \u001b[1;32mfor\u001b[0m \u001b[0mword\u001b[0m \u001b[1;32min\u001b[0m \u001b[0munigrams\u001b[0m\u001b[1;33m:\u001b[0m\u001b[1;33m\u001b[0m\u001b[0m\n\u001b[1;32m--> 126\u001b[1;33m         \u001b[0mfeatures\u001b[0m\u001b[1;33m[\u001b[0m\u001b[1;34m'contains({0})'\u001b[0m\u001b[1;33m.\u001b[0m\u001b[0mformat\u001b[0m\u001b[1;33m(\u001b[0m\u001b[0mword\u001b[0m\u001b[1;33m)\u001b[0m\u001b[1;33m]\u001b[0m \u001b[1;33m=\u001b[0m \u001b[0mword\u001b[0m \u001b[1;32min\u001b[0m \u001b[0mset\u001b[0m\u001b[1;33m(\u001b[0m\u001b[0mdocument\u001b[0m\u001b[1;33m)\u001b[0m\u001b[1;33m\u001b[0m\u001b[0m\n\u001b[0m\u001b[0;32m    127\u001b[0m     \u001b[1;32mreturn\u001b[0m \u001b[0mfeatures\u001b[0m\u001b[1;33m\u001b[0m\u001b[0m\n\u001b[0;32m    128\u001b[0m \u001b[1;33m\u001b[0m\u001b[0m\n",
      "\u001b[1;31mKeyboardInterrupt\u001b[0m: "
     ]
    }
   ],
   "source": [
    "K = 1; # Constant for K-fold cross validation\n",
    "accuracies2 = []\n",
    "dict_metrics_lr = {}\n",
    "for i in range(0, len(featurereductions)):\n",
    "    nltk_train_data = create_nltk_train_data (featurereductions[i])\n",
    "    print (featurereductions[i])\n",
    "    accuracies2.append(k_fold_validation_simple(K,nltk_train_data,train2,nltk_parser))\n",
    "    # creates a dict with featurereduction techniques, accuracy, and feature counts\n",
    "    dict_metrics_lr.update({featurereductions[i]: accuracies2[i]})\n",
    "    print (accuracies2[i])"
   ]
  },
  {
   "cell_type": "code",
   "execution_count": null,
   "metadata": {},
   "outputs": [],
   "source": []
  }
 ],
 "metadata": {
  "kernelspec": {
   "display_name": "Python 3",
   "language": "python",
   "name": "python3"
  },
  "language_info": {
   "codemirror_mode": {
    "name": "ipython",
    "version": 3
   },
   "file_extension": ".py",
   "mimetype": "text/x-python",
   "name": "python",
   "nbconvert_exporter": "python",
   "pygments_lexer": "ipython3",
   "version": "3.6.5"
  }
 },
 "nbformat": 4,
 "nbformat_minor": 2
}
