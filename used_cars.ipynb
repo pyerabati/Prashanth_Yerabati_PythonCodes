{
 "cells": [
  {
   "cell_type": "code",
   "execution_count": 267,
   "metadata": {},
   "outputs": [],
   "source": [
    "import numpy as np \n",
    "import os\n",
    "import pandas as pd\n",
    "os.chdir('D:\\\\Insofe\\\\Python Lab\\\\Data_Forall')"
   ]
  },
  {
   "cell_type": "code",
   "execution_count": 268,
   "metadata": {},
   "outputs": [],
   "source": [
    "# Read the data\n",
    "import os\n",
    "import pandas as pd\n",
    "import matplotlib.pyplot as plt\n",
    "import seaborn as sns\n",
    "import numpy as np\n",
    "from scipy.stats import norm\n",
    "from sklearn.preprocessing import StandardScaler\n",
    "from scipy import stats\n",
    "import warnings\n",
    "warnings.filterwarnings('ignore')\n",
    "%matplotlib inline\n"
   ]
  },
  {
   "cell_type": "code",
   "execution_count": 269,
   "metadata": {},
   "outputs": [],
   "source": [
    "# Import metrics\n",
    "import random\n",
    "\n",
    "from sklearn.metrics import accuracy_score\n",
    "from sklearn.metrics import precision_score\n",
    "from sklearn.metrics import recall_score\n",
    "from sklearn.metrics import classification_report\n",
    "from sklearn.metrics import confusion_matrix\n",
    "from sklearn.metrics import roc_curve\n",
    "from sklearn.metrics import precision_recall_curve"
   ]
  },
  {
   "cell_type": "code",
   "execution_count": 270,
   "metadata": {},
   "outputs": [],
   "source": [
    "# Read the Train Input files\n",
    "# Read the Input files\n",
    "train = pd.read_csv(\"TrainData.csv\")\n",
    "test = pd.read_csv(\"TestData.csv\")\n",
    "test1 = test.copy()"
   ]
  },
  {
   "cell_type": "code",
   "execution_count": 271,
   "metadata": {},
   "outputs": [
    {
     "name": "stdout",
     "output_type": "stream",
     "text": [
      "(58857, 20) (19594, 19)\n"
     ]
    }
   ],
   "source": [
    "print(train.shape,test.shape)"
   ]
  },
  {
   "cell_type": "code",
   "execution_count": 272,
   "metadata": {},
   "outputs": [],
   "source": [
    "# Removing duplicate rows\n",
    "train = train.drop_duplicates()"
   ]
  },
  {
   "cell_type": "code",
   "execution_count": 273,
   "metadata": {},
   "outputs": [],
   "source": [
    "test = test.drop_duplicates()"
   ]
  },
  {
   "cell_type": "code",
   "execution_count": 274,
   "metadata": {},
   "outputs": [
    {
     "data": {
      "text/html": [
       "<div>\n",
       "<style scoped>\n",
       "    .dataframe tbody tr th:only-of-type {\n",
       "        vertical-align: middle;\n",
       "    }\n",
       "\n",
       "    .dataframe tbody tr th {\n",
       "        vertical-align: top;\n",
       "    }\n",
       "\n",
       "    .dataframe thead th {\n",
       "        text-align: right;\n",
       "    }\n",
       "</style>\n",
       "<table border=\"1\" class=\"dataframe\">\n",
       "  <thead>\n",
       "    <tr style=\"text-align: right;\">\n",
       "      <th></th>\n",
       "      <th>VehicleID</th>\n",
       "      <th>DataCollectedDate</th>\n",
       "      <th>NameOfTheVehicle</th>\n",
       "      <th>SellerType</th>\n",
       "      <th>OfferType</th>\n",
       "      <th>Price</th>\n",
       "      <th>VehicleType</th>\n",
       "      <th>YearOfVehicleRegistration</th>\n",
       "      <th>GearBoxType</th>\n",
       "      <th>PowerOfTheEngine</th>\n",
       "      <th>ModelOfTheVehicle</th>\n",
       "      <th>DistranceTravelled</th>\n",
       "      <th>MonthOfVehicleRegistration</th>\n",
       "      <th>TypeOfTheFuelUsed</th>\n",
       "      <th>BrandOfTheVehicle</th>\n",
       "      <th>IsDamageRepaired</th>\n",
       "      <th>DateOfAdCreation</th>\n",
       "      <th>NumberOfPictures</th>\n",
       "      <th>ZipCode</th>\n",
       "      <th>DateOfAdLastSeen</th>\n",
       "    </tr>\n",
       "  </thead>\n",
       "  <tbody>\n",
       "    <tr>\n",
       "      <th>0</th>\n",
       "      <td>1</td>\n",
       "      <td>03-04-2016 11:54</td>\n",
       "      <td>Subaru_G3X_Justy_1.3</td>\n",
       "      <td>private</td>\n",
       "      <td>offer</td>\n",
       "      <td>3850</td>\n",
       "      <td>Small Car</td>\n",
       "      <td>2004</td>\n",
       "      <td>manual</td>\n",
       "      <td>94</td>\n",
       "      <td>Other</td>\n",
       "      <td>50000</td>\n",
       "      <td>7</td>\n",
       "      <td>petrol</td>\n",
       "      <td>subaru</td>\n",
       "      <td>No</td>\n",
       "      <td>03-04-2016 00:00</td>\n",
       "      <td>0</td>\n",
       "      <td>34474</td>\n",
       "      <td>07-04-2016 13:15</td>\n",
       "    </tr>\n",
       "    <tr>\n",
       "      <th>1</th>\n",
       "      <td>2</td>\n",
       "      <td>08-03-2016 19:54</td>\n",
       "      <td>Volkswagen_Passat_Variant_2.0_TDI_DPF_Comfortline</td>\n",
       "      <td>private</td>\n",
       "      <td>offer</td>\n",
       "      <td>5999</td>\n",
       "      <td>Combi</td>\n",
       "      <td>2007</td>\n",
       "      <td>manual</td>\n",
       "      <td>140</td>\n",
       "      <td>passat</td>\n",
       "      <td>150000</td>\n",
       "      <td>5</td>\n",
       "      <td>diesel</td>\n",
       "      <td>volkswagen</td>\n",
       "      <td>No</td>\n",
       "      <td>08-03-2016 00:00</td>\n",
       "      <td>0</td>\n",
       "      <td>50765</td>\n",
       "      <td>11-03-2016 17:15</td>\n",
       "    </tr>\n",
       "    <tr>\n",
       "      <th>2</th>\n",
       "      <td>3</td>\n",
       "      <td>26-03-2016 17:38</td>\n",
       "      <td>Mercedes_Benz_C_220_CDI_Automatik_Elegance_AHK...</td>\n",
       "      <td>private</td>\n",
       "      <td>offer</td>\n",
       "      <td>5990</td>\n",
       "      <td>limousine</td>\n",
       "      <td>2007</td>\n",
       "      <td>automatic</td>\n",
       "      <td>150</td>\n",
       "      <td>c_klasse</td>\n",
       "      <td>150000</td>\n",
       "      <td>2</td>\n",
       "      <td>diesel</td>\n",
       "      <td>mercedes_benz</td>\n",
       "      <td>No</td>\n",
       "      <td>26-03-2016 00:00</td>\n",
       "      <td>0</td>\n",
       "      <td>90475</td>\n",
       "      <td>26-03-2016 17:38</td>\n",
       "    </tr>\n",
       "    <tr>\n",
       "      <th>3</th>\n",
       "      <td>4</td>\n",
       "      <td>11-03-2016 13:42</td>\n",
       "      <td>Alfa_Romeo_147_1.9_JTD_16V_M_Jet</td>\n",
       "      <td>private</td>\n",
       "      <td>offer</td>\n",
       "      <td>4000</td>\n",
       "      <td>limousine</td>\n",
       "      <td>2005</td>\n",
       "      <td>manual</td>\n",
       "      <td>150</td>\n",
       "      <td>147</td>\n",
       "      <td>150000</td>\n",
       "      <td>9</td>\n",
       "      <td>diesel</td>\n",
       "      <td>alfa_romeo</td>\n",
       "      <td>No</td>\n",
       "      <td>11-03-2016 00:00</td>\n",
       "      <td>0</td>\n",
       "      <td>40699</td>\n",
       "      <td>12-03-2016 02:45</td>\n",
       "    </tr>\n",
       "    <tr>\n",
       "      <th>4</th>\n",
       "      <td>5</td>\n",
       "      <td>17-03-2016 17:49</td>\n",
       "      <td>Audi_A4</td>\n",
       "      <td>private</td>\n",
       "      <td>offer</td>\n",
       "      <td>12950</td>\n",
       "      <td>Combi</td>\n",
       "      <td>2005</td>\n",
       "      <td>manual</td>\n",
       "      <td>200</td>\n",
       "      <td>a4</td>\n",
       "      <td>125000</td>\n",
       "      <td>3</td>\n",
       "      <td>petrol</td>\n",
       "      <td>audi</td>\n",
       "      <td>No</td>\n",
       "      <td>17-03-2016 00:00</td>\n",
       "      <td>0</td>\n",
       "      <td>84347</td>\n",
       "      <td>07-04-2016 04:17</td>\n",
       "    </tr>\n",
       "  </tbody>\n",
       "</table>\n",
       "</div>"
      ],
      "text/plain": [
       "   VehicleID DataCollectedDate  \\\n",
       "0          1  03-04-2016 11:54   \n",
       "1          2  08-03-2016 19:54   \n",
       "2          3  26-03-2016 17:38   \n",
       "3          4  11-03-2016 13:42   \n",
       "4          5  17-03-2016 17:49   \n",
       "\n",
       "                                    NameOfTheVehicle SellerType OfferType  \\\n",
       "0                               Subaru_G3X_Justy_1.3    private     offer   \n",
       "1  Volkswagen_Passat_Variant_2.0_TDI_DPF_Comfortline    private     offer   \n",
       "2  Mercedes_Benz_C_220_CDI_Automatik_Elegance_AHK...    private     offer   \n",
       "3                   Alfa_Romeo_147_1.9_JTD_16V_M_Jet    private     offer   \n",
       "4                                            Audi_A4    private     offer   \n",
       "\n",
       "   Price VehicleType  YearOfVehicleRegistration GearBoxType  PowerOfTheEngine  \\\n",
       "0   3850   Small Car                       2004      manual                94   \n",
       "1   5999       Combi                       2007      manual               140   \n",
       "2   5990   limousine                       2007   automatic               150   \n",
       "3   4000   limousine                       2005      manual               150   \n",
       "4  12950       Combi                       2005      manual               200   \n",
       "\n",
       "  ModelOfTheVehicle  DistranceTravelled  MonthOfVehicleRegistration  \\\n",
       "0             Other               50000                           7   \n",
       "1            passat              150000                           5   \n",
       "2          c_klasse              150000                           2   \n",
       "3               147              150000                           9   \n",
       "4                a4              125000                           3   \n",
       "\n",
       "  TypeOfTheFuelUsed BrandOfTheVehicle IsDamageRepaired  DateOfAdCreation  \\\n",
       "0            petrol            subaru               No  03-04-2016 00:00   \n",
       "1            diesel        volkswagen               No  08-03-2016 00:00   \n",
       "2            diesel     mercedes_benz               No  26-03-2016 00:00   \n",
       "3            diesel        alfa_romeo               No  11-03-2016 00:00   \n",
       "4            petrol              audi               No  17-03-2016 00:00   \n",
       "\n",
       "   NumberOfPictures  ZipCode  DateOfAdLastSeen  \n",
       "0                 0    34474  07-04-2016 13:15  \n",
       "1                 0    50765  11-03-2016 17:15  \n",
       "2                 0    90475  26-03-2016 17:38  \n",
       "3                 0    40699  12-03-2016 02:45  \n",
       "4                 0    84347  07-04-2016 04:17  "
      ]
     },
     "execution_count": 274,
     "metadata": {},
     "output_type": "execute_result"
    }
   ],
   "source": [
    "train.head()"
   ]
  },
  {
   "cell_type": "code",
   "execution_count": 275,
   "metadata": {},
   "outputs": [
    {
     "data": {
      "text/plain": [
       "VehicleID                      int64\n",
       "DataCollectedDate             object\n",
       "NameOfTheVehicle              object\n",
       "SellerType                    object\n",
       "OfferType                     object\n",
       "Price                          int64\n",
       "VehicleType                   object\n",
       "YearOfVehicleRegistration      int64\n",
       "GearBoxType                   object\n",
       "PowerOfTheEngine               int64\n",
       "ModelOfTheVehicle             object\n",
       "DistranceTravelled             int64\n",
       "MonthOfVehicleRegistration     int64\n",
       "TypeOfTheFuelUsed             object\n",
       "BrandOfTheVehicle             object\n",
       "IsDamageRepaired              object\n",
       "DateOfAdCreation              object\n",
       "NumberOfPictures               int64\n",
       "ZipCode                        int64\n",
       "DateOfAdLastSeen              object\n",
       "dtype: object"
      ]
     },
     "execution_count": 275,
     "metadata": {},
     "output_type": "execute_result"
    }
   ],
   "source": [
    "train.dtypes\n"
   ]
  },
  {
   "cell_type": "code",
   "execution_count": 276,
   "metadata": {
    "scrolled": false
   },
   "outputs": [],
   "source": [
    "#dates are not parsed... lets make sure they are treated as dates.\n",
    "date_columns = [\"DateOfAdCreation\", \"DateOfAdLastSeen\"]\n",
    "# A date looks like => \"2016-04-07 03:16:57\"\n",
    "dateparse = lambda x: pd.datetime.strptime(x, '%d-%m-%Y %H:%M')\n",
    "train = pd.read_csv(\"TrainData.csv\", parse_dates=date_columns, date_parser=dateparse, encoding='cp1252')"
   ]
  },
  {
   "cell_type": "code",
   "execution_count": 277,
   "metadata": {},
   "outputs": [],
   "source": [
    "#dates are not parsed... lets make sure they are treated as dates.\n",
    "date_columns = [\"DateOfAdCreation\", \"DateOfAdLastSeen\"]\n",
    "# A date looks like => \"2016-04-07 03:16:57\"\n",
    "dateparse = lambda x: pd.datetime.strptime(x, '%d-%m-%Y %H:%M')\n",
    "test = pd.read_csv(\"TestData.csv\", parse_dates=date_columns, date_parser=dateparse, encoding='cp1252')"
   ]
  },
  {
   "cell_type": "code",
   "execution_count": 278,
   "metadata": {},
   "outputs": [
    {
     "data": {
      "text/plain": [
       "VehicleID                              int64\n",
       "DataCollectedDate                     object\n",
       "NameOfTheVehicle                      object\n",
       "SellerType                            object\n",
       "OfferType                             object\n",
       "Price                                  int64\n",
       "VehicleType                           object\n",
       "YearOfVehicleRegistration              int64\n",
       "GearBoxType                           object\n",
       "PowerOfTheEngine                       int64\n",
       "ModelOfTheVehicle                     object\n",
       "DistranceTravelled                     int64\n",
       "MonthOfVehicleRegistration             int64\n",
       "TypeOfTheFuelUsed                     object\n",
       "BrandOfTheVehicle                     object\n",
       "IsDamageRepaired                      object\n",
       "DateOfAdCreation              datetime64[ns]\n",
       "NumberOfPictures                       int64\n",
       "ZipCode                                int64\n",
       "DateOfAdLastSeen              datetime64[ns]\n",
       "dtype: object"
      ]
     },
     "execution_count": 278,
     "metadata": {},
     "output_type": "execute_result"
    }
   ],
   "source": [
    "train.dtypes"
   ]
  },
  {
   "cell_type": "code",
   "execution_count": 279,
   "metadata": {},
   "outputs": [
    {
     "data": {
      "text/html": [
       "<div>\n",
       "<style scoped>\n",
       "    .dataframe tbody tr th:only-of-type {\n",
       "        vertical-align: middle;\n",
       "    }\n",
       "\n",
       "    .dataframe tbody tr th {\n",
       "        vertical-align: top;\n",
       "    }\n",
       "\n",
       "    .dataframe thead th {\n",
       "        text-align: right;\n",
       "    }\n",
       "</style>\n",
       "<table border=\"1\" class=\"dataframe\">\n",
       "  <thead>\n",
       "    <tr style=\"text-align: right;\">\n",
       "      <th></th>\n",
       "      <th>VehicleID</th>\n",
       "      <th>DataCollectedDate</th>\n",
       "      <th>NameOfTheVehicle</th>\n",
       "      <th>SellerType</th>\n",
       "      <th>OfferType</th>\n",
       "      <th>Price</th>\n",
       "      <th>VehicleType</th>\n",
       "      <th>YearOfVehicleRegistration</th>\n",
       "      <th>GearBoxType</th>\n",
       "      <th>PowerOfTheEngine</th>\n",
       "      <th>ModelOfTheVehicle</th>\n",
       "      <th>DistranceTravelled</th>\n",
       "      <th>MonthOfVehicleRegistration</th>\n",
       "      <th>TypeOfTheFuelUsed</th>\n",
       "      <th>BrandOfTheVehicle</th>\n",
       "      <th>IsDamageRepaired</th>\n",
       "      <th>DateOfAdCreation</th>\n",
       "      <th>NumberOfPictures</th>\n",
       "      <th>ZipCode</th>\n",
       "      <th>DateOfAdLastSeen</th>\n",
       "    </tr>\n",
       "  </thead>\n",
       "  <tbody>\n",
       "    <tr>\n",
       "      <th>0</th>\n",
       "      <td>1</td>\n",
       "      <td>03-04-2016 11:54</td>\n",
       "      <td>Subaru_G3X_Justy_1.3</td>\n",
       "      <td>private</td>\n",
       "      <td>offer</td>\n",
       "      <td>3850</td>\n",
       "      <td>Small Car</td>\n",
       "      <td>2004</td>\n",
       "      <td>manual</td>\n",
       "      <td>94</td>\n",
       "      <td>Other</td>\n",
       "      <td>50000</td>\n",
       "      <td>7</td>\n",
       "      <td>petrol</td>\n",
       "      <td>subaru</td>\n",
       "      <td>No</td>\n",
       "      <td>2016-04-03</td>\n",
       "      <td>0</td>\n",
       "      <td>34474</td>\n",
       "      <td>2016-04-07 13:15:00</td>\n",
       "    </tr>\n",
       "    <tr>\n",
       "      <th>1</th>\n",
       "      <td>2</td>\n",
       "      <td>08-03-2016 19:54</td>\n",
       "      <td>Volkswagen_Passat_Variant_2.0_TDI_DPF_Comfortline</td>\n",
       "      <td>private</td>\n",
       "      <td>offer</td>\n",
       "      <td>5999</td>\n",
       "      <td>Combi</td>\n",
       "      <td>2007</td>\n",
       "      <td>manual</td>\n",
       "      <td>140</td>\n",
       "      <td>passat</td>\n",
       "      <td>150000</td>\n",
       "      <td>5</td>\n",
       "      <td>diesel</td>\n",
       "      <td>volkswagen</td>\n",
       "      <td>No</td>\n",
       "      <td>2016-03-08</td>\n",
       "      <td>0</td>\n",
       "      <td>50765</td>\n",
       "      <td>2016-03-11 17:15:00</td>\n",
       "    </tr>\n",
       "    <tr>\n",
       "      <th>2</th>\n",
       "      <td>3</td>\n",
       "      <td>26-03-2016 17:38</td>\n",
       "      <td>Mercedes_Benz_C_220_CDI_Automatik_Elegance_AHK...</td>\n",
       "      <td>private</td>\n",
       "      <td>offer</td>\n",
       "      <td>5990</td>\n",
       "      <td>limousine</td>\n",
       "      <td>2007</td>\n",
       "      <td>automatic</td>\n",
       "      <td>150</td>\n",
       "      <td>c_klasse</td>\n",
       "      <td>150000</td>\n",
       "      <td>2</td>\n",
       "      <td>diesel</td>\n",
       "      <td>mercedes_benz</td>\n",
       "      <td>No</td>\n",
       "      <td>2016-03-26</td>\n",
       "      <td>0</td>\n",
       "      <td>90475</td>\n",
       "      <td>2016-03-26 17:38:00</td>\n",
       "    </tr>\n",
       "    <tr>\n",
       "      <th>3</th>\n",
       "      <td>4</td>\n",
       "      <td>11-03-2016 13:42</td>\n",
       "      <td>Alfa_Romeo_147_1.9_JTD_16V_M_Jet</td>\n",
       "      <td>private</td>\n",
       "      <td>offer</td>\n",
       "      <td>4000</td>\n",
       "      <td>limousine</td>\n",
       "      <td>2005</td>\n",
       "      <td>manual</td>\n",
       "      <td>150</td>\n",
       "      <td>147</td>\n",
       "      <td>150000</td>\n",
       "      <td>9</td>\n",
       "      <td>diesel</td>\n",
       "      <td>alfa_romeo</td>\n",
       "      <td>No</td>\n",
       "      <td>2016-03-11</td>\n",
       "      <td>0</td>\n",
       "      <td>40699</td>\n",
       "      <td>2016-03-12 02:45:00</td>\n",
       "    </tr>\n",
       "    <tr>\n",
       "      <th>4</th>\n",
       "      <td>5</td>\n",
       "      <td>17-03-2016 17:49</td>\n",
       "      <td>Audi_A4</td>\n",
       "      <td>private</td>\n",
       "      <td>offer</td>\n",
       "      <td>12950</td>\n",
       "      <td>Combi</td>\n",
       "      <td>2005</td>\n",
       "      <td>manual</td>\n",
       "      <td>200</td>\n",
       "      <td>a4</td>\n",
       "      <td>125000</td>\n",
       "      <td>3</td>\n",
       "      <td>petrol</td>\n",
       "      <td>audi</td>\n",
       "      <td>No</td>\n",
       "      <td>2016-03-17</td>\n",
       "      <td>0</td>\n",
       "      <td>84347</td>\n",
       "      <td>2016-04-07 04:17:00</td>\n",
       "    </tr>\n",
       "  </tbody>\n",
       "</table>\n",
       "</div>"
      ],
      "text/plain": [
       "   VehicleID DataCollectedDate  \\\n",
       "0          1  03-04-2016 11:54   \n",
       "1          2  08-03-2016 19:54   \n",
       "2          3  26-03-2016 17:38   \n",
       "3          4  11-03-2016 13:42   \n",
       "4          5  17-03-2016 17:49   \n",
       "\n",
       "                                    NameOfTheVehicle SellerType OfferType  \\\n",
       "0                               Subaru_G3X_Justy_1.3    private     offer   \n",
       "1  Volkswagen_Passat_Variant_2.0_TDI_DPF_Comfortline    private     offer   \n",
       "2  Mercedes_Benz_C_220_CDI_Automatik_Elegance_AHK...    private     offer   \n",
       "3                   Alfa_Romeo_147_1.9_JTD_16V_M_Jet    private     offer   \n",
       "4                                            Audi_A4    private     offer   \n",
       "\n",
       "   Price VehicleType  YearOfVehicleRegistration GearBoxType  PowerOfTheEngine  \\\n",
       "0   3850   Small Car                       2004      manual                94   \n",
       "1   5999       Combi                       2007      manual               140   \n",
       "2   5990   limousine                       2007   automatic               150   \n",
       "3   4000   limousine                       2005      manual               150   \n",
       "4  12950       Combi                       2005      manual               200   \n",
       "\n",
       "  ModelOfTheVehicle  DistranceTravelled  MonthOfVehicleRegistration  \\\n",
       "0             Other               50000                           7   \n",
       "1            passat              150000                           5   \n",
       "2          c_klasse              150000                           2   \n",
       "3               147              150000                           9   \n",
       "4                a4              125000                           3   \n",
       "\n",
       "  TypeOfTheFuelUsed BrandOfTheVehicle IsDamageRepaired DateOfAdCreation  \\\n",
       "0            petrol            subaru               No       2016-04-03   \n",
       "1            diesel        volkswagen               No       2016-03-08   \n",
       "2            diesel     mercedes_benz               No       2016-03-26   \n",
       "3            diesel        alfa_romeo               No       2016-03-11   \n",
       "4            petrol              audi               No       2016-03-17   \n",
       "\n",
       "   NumberOfPictures  ZipCode    DateOfAdLastSeen  \n",
       "0                 0    34474 2016-04-07 13:15:00  \n",
       "1                 0    50765 2016-03-11 17:15:00  \n",
       "2                 0    90475 2016-03-26 17:38:00  \n",
       "3                 0    40699 2016-03-12 02:45:00  \n",
       "4                 0    84347 2016-04-07 04:17:00  "
      ]
     },
     "execution_count": 279,
     "metadata": {},
     "output_type": "execute_result"
    }
   ],
   "source": [
    "train.head()"
   ]
  },
  {
   "cell_type": "code",
   "execution_count": 280,
   "metadata": {},
   "outputs": [
    {
     "data": {
      "text/html": [
       "<div>\n",
       "<style scoped>\n",
       "    .dataframe tbody tr th:only-of-type {\n",
       "        vertical-align: middle;\n",
       "    }\n",
       "\n",
       "    .dataframe tbody tr th {\n",
       "        vertical-align: top;\n",
       "    }\n",
       "\n",
       "    .dataframe thead th {\n",
       "        text-align: right;\n",
       "    }\n",
       "</style>\n",
       "<table border=\"1\" class=\"dataframe\">\n",
       "  <thead>\n",
       "    <tr style=\"text-align: right;\">\n",
       "      <th></th>\n",
       "      <th>VehicleID</th>\n",
       "      <th>Price</th>\n",
       "      <th>YearOfVehicleRegistration</th>\n",
       "      <th>PowerOfTheEngine</th>\n",
       "      <th>DistranceTravelled</th>\n",
       "      <th>MonthOfVehicleRegistration</th>\n",
       "      <th>NumberOfPictures</th>\n",
       "      <th>ZipCode</th>\n",
       "    </tr>\n",
       "  </thead>\n",
       "  <tbody>\n",
       "    <tr>\n",
       "      <th>count</th>\n",
       "      <td>58857.000000</td>\n",
       "      <td>58857.000000</td>\n",
       "      <td>58857.000000</td>\n",
       "      <td>58857.000000</td>\n",
       "      <td>58857.000000</td>\n",
       "      <td>58857.000000</td>\n",
       "      <td>58857.0</td>\n",
       "      <td>58857.000000</td>\n",
       "    </tr>\n",
       "    <tr>\n",
       "      <th>mean</th>\n",
       "      <td>29429.000000</td>\n",
       "      <td>7638.980971</td>\n",
       "      <td>2006.286457</td>\n",
       "      <td>130.013473</td>\n",
       "      <td>120146.626569</td>\n",
       "      <td>6.217442</td>\n",
       "      <td>0.0</td>\n",
       "      <td>51941.873881</td>\n",
       "    </tr>\n",
       "    <tr>\n",
       "      <th>std</th>\n",
       "      <td>16990.696734</td>\n",
       "      <td>6710.787043</td>\n",
       "      <td>4.016998</td>\n",
       "      <td>178.318088</td>\n",
       "      <td>41188.999160</td>\n",
       "      <td>3.458960</td>\n",
       "      <td>0.0</td>\n",
       "      <td>25639.658736</td>\n",
       "    </tr>\n",
       "    <tr>\n",
       "      <th>min</th>\n",
       "      <td>1.000000</td>\n",
       "      <td>1001.000000</td>\n",
       "      <td>2000.000000</td>\n",
       "      <td>1.000000</td>\n",
       "      <td>5000.000000</td>\n",
       "      <td>1.000000</td>\n",
       "      <td>0.0</td>\n",
       "      <td>1067.000000</td>\n",
       "    </tr>\n",
       "    <tr>\n",
       "      <th>25%</th>\n",
       "      <td>14715.000000</td>\n",
       "      <td>2850.000000</td>\n",
       "      <td>2003.000000</td>\n",
       "      <td>86.000000</td>\n",
       "      <td>90000.000000</td>\n",
       "      <td>3.000000</td>\n",
       "      <td>0.0</td>\n",
       "      <td>31675.000000</td>\n",
       "    </tr>\n",
       "    <tr>\n",
       "      <th>50%</th>\n",
       "      <td>29429.000000</td>\n",
       "      <td>5400.000000</td>\n",
       "      <td>2006.000000</td>\n",
       "      <td>121.000000</td>\n",
       "      <td>150000.000000</td>\n",
       "      <td>6.000000</td>\n",
       "      <td>0.0</td>\n",
       "      <td>51067.000000</td>\n",
       "    </tr>\n",
       "    <tr>\n",
       "      <th>75%</th>\n",
       "      <td>44143.000000</td>\n",
       "      <td>9999.000000</td>\n",
       "      <td>2009.000000</td>\n",
       "      <td>163.000000</td>\n",
       "      <td>150000.000000</td>\n",
       "      <td>9.000000</td>\n",
       "      <td>0.0</td>\n",
       "      <td>72760.000000</td>\n",
       "    </tr>\n",
       "    <tr>\n",
       "      <th>max</th>\n",
       "      <td>58857.000000</td>\n",
       "      <td>39800.000000</td>\n",
       "      <td>2016.000000</td>\n",
       "      <td>19211.000000</td>\n",
       "      <td>150000.000000</td>\n",
       "      <td>12.000000</td>\n",
       "      <td>0.0</td>\n",
       "      <td>99998.000000</td>\n",
       "    </tr>\n",
       "  </tbody>\n",
       "</table>\n",
       "</div>"
      ],
      "text/plain": [
       "          VehicleID         Price  YearOfVehicleRegistration  \\\n",
       "count  58857.000000  58857.000000               58857.000000   \n",
       "mean   29429.000000   7638.980971                2006.286457   \n",
       "std    16990.696734   6710.787043                   4.016998   \n",
       "min        1.000000   1001.000000                2000.000000   \n",
       "25%    14715.000000   2850.000000                2003.000000   \n",
       "50%    29429.000000   5400.000000                2006.000000   \n",
       "75%    44143.000000   9999.000000                2009.000000   \n",
       "max    58857.000000  39800.000000                2016.000000   \n",
       "\n",
       "       PowerOfTheEngine  DistranceTravelled  MonthOfVehicleRegistration  \\\n",
       "count      58857.000000        58857.000000                58857.000000   \n",
       "mean         130.013473       120146.626569                    6.217442   \n",
       "std          178.318088        41188.999160                    3.458960   \n",
       "min            1.000000         5000.000000                    1.000000   \n",
       "25%           86.000000        90000.000000                    3.000000   \n",
       "50%          121.000000       150000.000000                    6.000000   \n",
       "75%          163.000000       150000.000000                    9.000000   \n",
       "max        19211.000000       150000.000000                   12.000000   \n",
       "\n",
       "       NumberOfPictures       ZipCode  \n",
       "count           58857.0  58857.000000  \n",
       "mean                0.0  51941.873881  \n",
       "std                 0.0  25639.658736  \n",
       "min                 0.0   1067.000000  \n",
       "25%                 0.0  31675.000000  \n",
       "50%                 0.0  51067.000000  \n",
       "75%                 0.0  72760.000000  \n",
       "max                 0.0  99998.000000  "
      ]
     },
     "execution_count": 280,
     "metadata": {},
     "output_type": "execute_result"
    }
   ],
   "source": [
    "train.describe()"
   ]
  },
  {
   "cell_type": "code",
   "execution_count": 281,
   "metadata": {},
   "outputs": [],
   "source": [
    "# The NumberOfPictures column is useless, as it is always 0.\n",
    "# The Zipcode might not be of much value.\n",
    "# monthOfRegistration: Values seem correc\n"
   ]
  },
  {
   "cell_type": "code",
   "execution_count": 282,
   "metadata": {},
   "outputs": [],
   "source": [
    "# Cleaning the data\n",
    "train = train.drop(['NumberOfPictures','ZipCode','MonthOfVehicleRegistration'],axis=1)"
   ]
  },
  {
   "cell_type": "code",
   "execution_count": 283,
   "metadata": {},
   "outputs": [
    {
     "data": {
      "text/plain": [
       "<matplotlib.axes._subplots.AxesSubplot at 0x1c7a39956a0>"
      ]
     },
     "execution_count": 283,
     "metadata": {},
     "output_type": "execute_result"
    },
    {
     "data": {
      "image/png": "[encoded data removed]",
      "text/plain": [
       "<Figure size 720x504 with 1 Axes>"
      ]
     },
     "metadata": {},
     "output_type": "display_data"
    }
   ],
   "source": [
    "train.plot(y=\"DistranceTravelled\", kind=\"hist\", figsize=(10, 7), bins=10, title=\"Distance travelled cars...\")"
   ]
  },
  {
   "cell_type": "code",
   "execution_count": 284,
   "metadata": {},
   "outputs": [
    {
     "data": {
      "text/plain": [
       "{5000,\n",
       " 10000,\n",
       " 20000,\n",
       " 30000,\n",
       " 40000,\n",
       " 50000,\n",
       " 60000,\n",
       " 70000,\n",
       " 80000,\n",
       " 90000,\n",
       " 100000,\n",
       " 125000,\n",
       " 150000}"
      ]
     },
     "execution_count": 284,
     "metadata": {},
     "output_type": "execute_result"
    }
   ],
   "source": [
    "# Lets also check how many DIFFERENT values we have there...\n",
    "set(train[\"DistranceTravelled\"])"
   ]
  },
  {
   "cell_type": "code",
   "execution_count": 285,
   "metadata": {},
   "outputs": [
    {
     "data": {
      "text/plain": [
       "count    58857.000000\n",
       "mean       130.013473\n",
       "std        178.318088\n",
       "min          1.000000\n",
       "25%         86.000000\n",
       "50%        121.000000\n",
       "75%        163.000000\n",
       "max      19211.000000\n",
       "Name: PowerOfTheEngine, dtype: float64"
      ]
     },
     "execution_count": 285,
     "metadata": {},
     "output_type": "execute_result"
    }
   ],
   "source": [
    "#Cleaning the PowerOfTheEngine column\n",
    "train[\"PowerOfTheEngine\"].describe()"
   ]
  },
  {
   "cell_type": "code",
   "execution_count": 286,
   "metadata": {},
   "outputs": [
    {
     "name": "stdout",
     "output_type": "stream",
     "text": [
      "Size before removing cars with 1 power 58857\n"
     ]
    }
   ],
   "source": [
    "#  It is obvious, we cannot have cars with one power, so lets get rid of them\n",
    "print(\"Size before removing cars with 1 power\", len(train))"
   ]
  },
  {
   "cell_type": "code",
   "execution_count": 287,
   "metadata": {},
   "outputs": [],
   "source": [
    "train = train[train[\"PowerOfTheEngine\"] > 1]"
   ]
  },
  {
   "cell_type": "code",
   "execution_count": 288,
   "metadata": {},
   "outputs": [
    {
     "name": "stdout",
     "output_type": "stream",
     "text": [
      "Size after removing cars with 1 power 55500\n"
     ]
    }
   ],
   "source": [
    "print(\"Size after removing cars with 1 power\", len(train))"
   ]
  },
  {
   "cell_type": "code",
   "execution_count": 289,
   "metadata": {},
   "outputs": [
    {
     "name": "stdout",
     "output_type": "stream",
     "text": [
      "Size before removing cars with 1 power 19594\n"
     ]
    }
   ],
   "source": [
    "#  It is obvious, we cannot have cars with one power, so lets get rid of them\n",
    "print(\"Size before removing cars with 1 power\", len(test))"
   ]
  },
  {
   "cell_type": "code",
   "execution_count": 290,
   "metadata": {},
   "outputs": [
    {
     "name": "stdout",
     "output_type": "stream",
     "text": [
      "Size after removing cars with less than 60hp 53621\n"
     ]
    }
   ],
   "source": [
    "train = train[train[\"PowerOfTheEngine\"] >= 60]\n",
    "print(\"Size after removing cars with less than 60hp\", len(train))"
   ]
  },
  {
   "cell_type": "code",
   "execution_count": 291,
   "metadata": {},
   "outputs": [
    {
     "name": "stdout",
     "output_type": "stream",
     "text": [
      "Size after removing cars with more than 1000hp 53588\n"
     ]
    }
   ],
   "source": [
    "train = train[train[\"PowerOfTheEngine\"] <= 1000]\n",
    "print(\"Size after removing cars with more than 1000hp\", len(train))"
   ]
  },
  {
   "cell_type": "code",
   "execution_count": 292,
   "metadata": {},
   "outputs": [
    {
     "data": {
      "text/plain": [
       "<matplotlib.axes._subplots.AxesSubplot at 0x1c7a3a106a0>"
      ]
     },
     "execution_count": 292,
     "metadata": {},
     "output_type": "execute_result"
    },
    {
     "data": {
      "image/png": "[encoded data removed]",
      "text/plain": [
       "<Figure size 1080x504 with 1 Axes>"
      ]
     },
     "metadata": {},
     "output_type": "display_data"
    }
   ],
   "source": [
    "train.plot(y=\"PowerOfTheEngine\", kind='hist', bins=25, figsize=(15, 7), title='Poweer of engine for cars')"
   ]
  },
  {
   "cell_type": "code",
   "execution_count": 293,
   "metadata": {},
   "outputs": [],
   "source": [
    "meanT_POWER = train[\"PowerOfTheEngine\"].mean()"
   ]
  },
  {
   "cell_type": "code",
   "execution_count": 294,
   "metadata": {},
   "outputs": [
    {
     "data": {
      "text/plain": [
       "count    53588.000000\n",
       "mean      2006.429667\n",
       "std          3.988352\n",
       "min       2000.000000\n",
       "25%       2003.000000\n",
       "50%       2006.000000\n",
       "75%       2009.000000\n",
       "max       2016.000000\n",
       "Name: YearOfVehicleRegistration, dtype: float64"
      ]
     },
     "execution_count": 294,
     "metadata": {},
     "output_type": "execute_result"
    }
   ],
   "source": [
    "train[\"YearOfVehicleRegistration\"].describe()"
   ]
  },
  {
   "cell_type": "code",
   "execution_count": 295,
   "metadata": {},
   "outputs": [
    {
     "data": {
      "text/plain": [
       "Timestamp('2016-04-07 00:00:00')"
      ]
     },
     "execution_count": 295,
     "metadata": {},
     "output_type": "execute_result"
    }
   ],
   "source": [
    "max(train[\"DateOfAdCreation\"])"
   ]
  },
  {
   "cell_type": "code",
   "execution_count": 296,
   "metadata": {},
   "outputs": [
    {
     "name": "stdout",
     "output_type": "stream",
     "text": [
      "Rows after removing cars whose registration was AFTER 2016 =>  53588\n"
     ]
    }
   ],
   "source": [
    "train = train[train[\"YearOfVehicleRegistration\"] <= 2016]\n",
    "print(\"Rows after removing cars whose registration was AFTER 2016 => \", len(train))"
   ]
  },
  {
   "cell_type": "code",
   "execution_count": 297,
   "metadata": {},
   "outputs": [
    {
     "data": {
      "text/plain": [
       "count    53588.000000\n",
       "mean      8015.459692\n",
       "std       6806.297491\n",
       "min       1001.000000\n",
       "25%       3046.750000\n",
       "50%       5847.000000\n",
       "75%      10600.000000\n",
       "max      39800.000000\n",
       "Name: Price, dtype: float64"
      ]
     },
     "execution_count": 297,
     "metadata": {},
     "output_type": "execute_result"
    }
   ],
   "source": [
    "train[\"Price\"].describe()\n"
   ]
  },
  {
   "cell_type": "code",
   "execution_count": 298,
   "metadata": {},
   "outputs": [],
   "source": [
    "del train[\"NameOfTheVehicle\"]"
   ]
  },
  {
   "cell_type": "code",
   "execution_count": 299,
   "metadata": {},
   "outputs": [],
   "source": [
    "del train[\"SellerType\"]"
   ]
  },
  {
   "cell_type": "code",
   "execution_count": 300,
   "metadata": {},
   "outputs": [],
   "source": [
    "del test[\"SellerType\"]"
   ]
  },
  {
   "cell_type": "code",
   "execution_count": 301,
   "metadata": {},
   "outputs": [
    {
     "data": {
      "text/plain": [
       "{'offer'}"
      ]
     },
     "execution_count": 301,
     "metadata": {},
     "output_type": "execute_result"
    }
   ],
   "source": [
    "set(train[\"OfferType\"])"
   ]
  },
  {
   "cell_type": "code",
   "execution_count": 302,
   "metadata": {},
   "outputs": [],
   "source": [
    "del train[\"OfferType\"]\n"
   ]
  },
  {
   "cell_type": "code",
   "execution_count": 303,
   "metadata": {},
   "outputs": [
    {
     "data": {
      "text/plain": [
       "<matplotlib.axes._subplots.AxesSubplot at 0x1c7a39f7978>"
      ]
     },
     "execution_count": 303,
     "metadata": {},
     "output_type": "execute_result"
    },
    {
     "data": {
      "image/png": "[encoded data removed]",
      "text/plain": [
       "<Figure size 432x288 with 1 Axes>"
      ]
     },
     "metadata": {},
     "output_type": "display_data"
    }
   ],
   "source": [
    "train[\"VehicleType\"].value_counts().plot(kind='bar', title=\"cars by type\")"
   ]
  },
  {
   "cell_type": "code",
   "execution_count": 304,
   "metadata": {},
   "outputs": [
    {
     "name": "stdout",
     "output_type": "stream",
     "text": [
      "Rows without a vehicle type 1193\n",
      "Total number of rows 53588\n"
     ]
    }
   ],
   "source": [
    "print(\"Rows without a vehicle type\", train[\"VehicleType\"].isna().sum())\n",
    "print(\"Total number of rows\", len(train))"
   ]
  },
  {
   "cell_type": "code",
   "execution_count": 305,
   "metadata": {},
   "outputs": [
    {
     "name": "stdout",
     "output_type": "stream",
     "text": [
      "Rows before droping cars without type 53588\n",
      "Rows after droping cars without type 52395\n"
     ]
    }
   ],
   "source": [
    "print(\"Rows before droping cars without type\", len(train))\n",
    "train =train.dropna(subset=[\"VehicleType\"])\n",
    "print(\"Rows after droping cars without type\", len(train))"
   ]
  },
  {
   "cell_type": "code",
   "execution_count": 306,
   "metadata": {},
   "outputs": [
    {
     "data": {
      "text/plain": [
       "VehicleID                             int64\n",
       "DataCollectedDate                    object\n",
       "Price                                 int64\n",
       "VehicleType                          object\n",
       "YearOfVehicleRegistration             int64\n",
       "GearBoxType                          object\n",
       "PowerOfTheEngine                      int64\n",
       "ModelOfTheVehicle                    object\n",
       "DistranceTravelled                    int64\n",
       "TypeOfTheFuelUsed                    object\n",
       "BrandOfTheVehicle                    object\n",
       "IsDamageRepaired                     object\n",
       "DateOfAdCreation             datetime64[ns]\n",
       "DateOfAdLastSeen             datetime64[ns]\n",
       "dtype: object"
      ]
     },
     "execution_count": 306,
     "metadata": {},
     "output_type": "execute_result"
    }
   ],
   "source": [
    "train.dtypes\n"
   ]
  },
  {
   "cell_type": "code",
   "execution_count": 307,
   "metadata": {},
   "outputs": [],
   "source": [
    "for col in train.columns:\n",
    "   if (train[col].dtype == \"object\"):\n",
    "       train[col] = train[col].astype('category')\n",
    "\n",
    "for col in train.columns:\n",
    "   if (train[col].dtype == np.float64):\n",
    "       train[col] = train[col].fillna(0).astype(np.int64)\n",
    "    \n",
    "for col in test.columns:\n",
    "   if (test[col].dtype == \"object\"):\n",
    "       test[col] = test[col].astype('category')\n",
    "        \n",
    "for col in test.columns:\n",
    "   if (test[col].dtype == np.float64):\n",
    "       test[col] = test[col].fillna(0).astype(np.int64)"
   ]
  },
  {
   "cell_type": "code",
   "execution_count": 308,
   "metadata": {},
   "outputs": [
    {
     "name": "stdout",
     "output_type": "stream",
     "text": [
      "<class 'pandas.core.frame.DataFrame'>\n",
      "Int64Index: 52395 entries, 0 to 58856\n",
      "Data columns (total 14 columns):\n",
      "VehicleID                    52395 non-null int64\n",
      "DataCollectedDate            52395 non-null category\n",
      "Price                        52395 non-null int64\n",
      "VehicleType                  52395 non-null category\n",
      "YearOfVehicleRegistration    52395 non-null int64\n",
      "GearBoxType                  51887 non-null category\n",
      "PowerOfTheEngine             52395 non-null int64\n",
      "ModelOfTheVehicle            52395 non-null category\n",
      "DistranceTravelled           52395 non-null int64\n",
      "TypeOfTheFuelUsed            51348 non-null category\n",
      "BrandOfTheVehicle            52395 non-null category\n",
      "IsDamageRepaired             47808 non-null category\n",
      "DateOfAdCreation             52395 non-null datetime64[ns]\n",
      "DateOfAdLastSeen             52395 non-null datetime64[ns]\n",
      "dtypes: category(7), datetime64[ns](2), int64(5)\n",
      "memory usage: 4.1 MB\n"
     ]
    }
   ],
   "source": [
    "train.info()"
   ]
  },
  {
   "cell_type": "code",
   "execution_count": 309,
   "metadata": {},
   "outputs": [],
   "source": [
    "train =train.dropna(subset=[\"VehicleType\",\"GearBoxType\",\"ModelOfTheVehicle\",\"TypeOfTheFuelUsed\",\"BrandOfTheVehicle\",\"IsDamageRepaired\"])\n",
    "\n"
   ]
  },
  {
   "cell_type": "code",
   "execution_count": null,
   "metadata": {},
   "outputs": [],
   "source": []
  },
  {
   "cell_type": "code",
   "execution_count": 310,
   "metadata": {},
   "outputs": [],
   "source": [
    "del train[\"DataCollectedDate\"]\n",
    "del train['VehicleID']"
   ]
  },
  {
   "cell_type": "code",
   "execution_count": 311,
   "metadata": {},
   "outputs": [],
   "source": [
    "del train[\"DateOfAdCreation\"]\n",
    "del train['DateOfAdLastSeen']\n",
    "del train[\"ModelOfTheVehicle\"]"
   ]
  },
  {
   "cell_type": "code",
   "execution_count": 312,
   "metadata": {},
   "outputs": [
    {
     "name": "stdout",
     "output_type": "stream",
     "text": [
      "<class 'pandas.core.frame.DataFrame'>\n",
      "Int64Index: 46714 entries, 0 to 58856\n",
      "Data columns (total 9 columns):\n",
      "Price                        46714 non-null int64\n",
      "VehicleType                  46714 non-null category\n",
      "YearOfVehicleRegistration    46714 non-null int64\n",
      "GearBoxType                  46714 non-null category\n",
      "PowerOfTheEngine             46714 non-null int64\n",
      "DistranceTravelled           46714 non-null int64\n",
      "TypeOfTheFuelUsed            46714 non-null category\n",
      "BrandOfTheVehicle            46714 non-null category\n",
      "IsDamageRepaired             46714 non-null category\n",
      "dtypes: category(5), int64(4)\n",
      "memory usage: 2.0 MB\n"
     ]
    }
   ],
   "source": [
    "train.info()"
   ]
  },
  {
   "cell_type": "code",
   "execution_count": 313,
   "metadata": {},
   "outputs": [
    {
     "name": "stdout",
     "output_type": "stream",
     "text": [
      "(46714, 9) (19594, 18)\n"
     ]
    }
   ],
   "source": [
    "print(train.shape, test.shape)"
   ]
  },
  {
   "cell_type": "code",
   "execution_count": 314,
   "metadata": {},
   "outputs": [],
   "source": [
    "train_labels = train.pop('Price')"
   ]
  },
  {
   "cell_type": "code",
   "execution_count": 315,
   "metadata": {},
   "outputs": [],
   "source": [
    "numerical_Attributes_train = train.select_dtypes(exclude=['category']).columns"
   ]
  },
  {
   "cell_type": "code",
   "execution_count": 316,
   "metadata": {},
   "outputs": [],
   "source": [
    "numerical_Attributes_test = test.select_dtypes(exclude=['category']).columns"
   ]
  },
  {
   "cell_type": "code",
   "execution_count": 317,
   "metadata": {},
   "outputs": [],
   "source": [
    "categorical_Attributes_train = train.select_dtypes(include=['category']).columns"
   ]
  },
  {
   "cell_type": "code",
   "execution_count": 318,
   "metadata": {},
   "outputs": [],
   "source": [
    "categorical_Attributes_test = test.select_dtypes(include=['category']).columns"
   ]
  },
  {
   "cell_type": "code",
   "execution_count": null,
   "metadata": {},
   "outputs": [],
   "source": []
  },
  {
   "cell_type": "code",
   "execution_count": 319,
   "metadata": {},
   "outputs": [
    {
     "name": "stdout",
     "output_type": "stream",
     "text": [
      "(46714, 8) (19594, 18)\n"
     ]
    }
   ],
   "source": [
    "print(train.shape, test.shape)"
   ]
  },
  {
   "cell_type": "code",
   "execution_count": 320,
   "metadata": {},
   "outputs": [],
   "source": [
    "# Data Imputation\n",
    "# Impute missing values with mean Imputation in Train\n",
    "from sklearn.preprocessing import Imputer\n",
    "num_mean_imputer = Imputer(strategy=\"mean\")\n",
    "for cols in numerical_Attributes_train :\n",
    "    train[cols] = num_mean_imputer.fit_transform(train[[cols]])\n",
    " "
   ]
  },
  {
   "cell_type": "code",
   "execution_count": 190,
   "metadata": {},
   "outputs": [],
   "source": [
    "# Data Imputation\n",
    "# Impute missing values with mean Imputation in Test\n",
    "\n",
    "from sklearn.preprocessing import Imputer\n",
    "num_mean_imputer = Imputer(strategy=\"mean\")\n",
    "for cols in numerical_Attributes_test :\n",
    "    test[cols] = num_mean_imputer.fit_transform(test[[cols]])"
   ]
  },
  {
   "cell_type": "code",
   "execution_count": 191,
   "metadata": {},
   "outputs": [
    {
     "data": {
      "text/plain": [
       "VehicleType                  0\n",
       "YearOfVehicleRegistration    0\n",
       "GearBoxType                  0\n",
       "PowerOfTheEngine             0\n",
       "DistranceTravelled           0\n",
       "TypeOfTheFuelUsed            0\n",
       "BrandOfTheVehicle            0\n",
       "IsDamageRepaired             0\n",
       "dtype: int64"
      ]
     },
     "execution_count": 191,
     "metadata": {},
     "output_type": "execute_result"
    }
   ],
   "source": [
    "train.isnull().sum()"
   ]
  },
  {
   "cell_type": "code",
   "execution_count": 192,
   "metadata": {},
   "outputs": [
    {
     "data": {
      "text/plain": [
       "VehicleID                        0\n",
       "DataCollectedDate                0\n",
       "NameOfTheVehicle                 0\n",
       "OfferType                        0\n",
       "VehicleType                    636\n",
       "YearOfVehicleRegistration        0\n",
       "GearBoxType                    504\n",
       "PowerOfTheEngine                 0\n",
       "ModelOfTheVehicle                0\n",
       "DistranceTravelled               0\n",
       "MonthOfVehicleRegistration       0\n",
       "TypeOfTheFuelUsed              754\n",
       "BrandOfTheVehicle                0\n",
       "IsDamageRepaired              2245\n",
       "DateOfAdCreation                 0\n",
       "NumberOfPictures                 0\n",
       "ZipCode                          0\n",
       "DateOfAdLastSeen                 0\n",
       "dtype: int64"
      ]
     },
     "execution_count": 192,
     "metadata": {},
     "output_type": "execute_result"
    }
   ],
   "source": [
    "test.isnull().sum()"
   ]
  },
  {
   "cell_type": "code",
   "execution_count": 193,
   "metadata": {},
   "outputs": [
    {
     "name": "stdout",
     "output_type": "stream",
     "text": [
      "<class 'pandas.core.frame.DataFrame'>\n",
      "RangeIndex: 19594 entries, 0 to 19593\n",
      "Data columns (total 18 columns):\n",
      "VehicleID                     19594 non-null float64\n",
      "DataCollectedDate             19594 non-null category\n",
      "NameOfTheVehicle              19594 non-null category\n",
      "OfferType                     19594 non-null category\n",
      "VehicleType                   18958 non-null category\n",
      "YearOfVehicleRegistration     19594 non-null float64\n",
      "GearBoxType                   19090 non-null category\n",
      "PowerOfTheEngine              19594 non-null float64\n",
      "ModelOfTheVehicle             19594 non-null category\n",
      "DistranceTravelled            19594 non-null float64\n",
      "MonthOfVehicleRegistration    19594 non-null float64\n",
      "TypeOfTheFuelUsed             18840 non-null category\n",
      "BrandOfTheVehicle             19594 non-null category\n",
      "IsDamageRepaired              17349 non-null category\n",
      "DateOfAdCreation              19594 non-null float64\n",
      "NumberOfPictures              19594 non-null float64\n",
      "ZipCode                       19594 non-null float64\n",
      "DateOfAdLastSeen              19594 non-null float64\n",
      "dtypes: category(9), float64(9)\n",
      "memory usage: 2.7 MB\n"
     ]
    }
   ],
   "source": [
    "test.info()"
   ]
  },
  {
   "cell_type": "code",
   "execution_count": 194,
   "metadata": {},
   "outputs": [
    {
     "name": "stdout",
     "output_type": "stream",
     "text": [
      "<class 'pandas.core.frame.DataFrame'>\n",
      "Int64Index: 46714 entries, 0 to 58856\n",
      "Data columns (total 8 columns):\n",
      "VehicleType                  46714 non-null category\n",
      "YearOfVehicleRegistration    46714 non-null float64\n",
      "GearBoxType                  46714 non-null category\n",
      "PowerOfTheEngine             46714 non-null float64\n",
      "DistranceTravelled           46714 non-null float64\n",
      "TypeOfTheFuelUsed            46714 non-null category\n",
      "BrandOfTheVehicle            46714 non-null category\n",
      "IsDamageRepaired             46714 non-null category\n",
      "dtypes: category(5), float64(3)\n",
      "memory usage: 1.7 MB\n"
     ]
    }
   ],
   "source": [
    "train.info()"
   ]
  },
  {
   "cell_type": "code",
   "execution_count": 195,
   "metadata": {},
   "outputs": [],
   "source": [
    "train = pd.get_dummies(columns=categorical_Attributes_train,data=train,prefix=categorical_Attributes_train,prefix_sep=\"_\",drop_first=True)"
   ]
  },
  {
   "cell_type": "code",
   "execution_count": 196,
   "metadata": {},
   "outputs": [],
   "source": [
    "test = pd.get_dummies(columns=categorical_Attributes_test,data=test,prefix=categorical_Attributes_test,prefix_sep=\"_\",drop_first=True)"
   ]
  },
  {
   "cell_type": "code",
   "execution_count": 227,
   "metadata": {},
   "outputs": [],
   "source": [
    "del train['BrandOfTheVehicle_rover']"
   ]
  },
  {
   "cell_type": "code",
   "execution_count": 197,
   "metadata": {},
   "outputs": [
    {
     "name": "stdout",
     "output_type": "stream",
     "text": [
      "(46714, 55) (19594, 25180)\n"
     ]
    }
   ],
   "source": [
    "print(train.shape, test.shape)"
   ]
  },
  {
   "cell_type": "code",
   "execution_count": null,
   "metadata": {},
   "outputs": [],
   "source": [
    "col_test_not_train =   set(test.columns).difference(set(train.columns))\n",
    "cols_train_not_test =  set(train.columns).difference(set(test.columns))\n",
    "for cols in col_test_not_train:\n",
    "    test.drop([cols],axis=1, inplace=True)\n",
    "for cols in col_train_not_test:\n",
    "    test[cols] =  0"
   ]
  },
  {
   "cell_type": "code",
   "execution_count": 198,
   "metadata": {},
   "outputs": [
    {
     "data": {
      "text/html": [
       "<div>\n",
       "<style scoped>\n",
       "    .dataframe tbody tr th:only-of-type {\n",
       "        vertical-align: middle;\n",
       "    }\n",
       "\n",
       "    .dataframe tbody tr th {\n",
       "        vertical-align: top;\n",
       "    }\n",
       "\n",
       "    .dataframe thead th {\n",
       "        text-align: right;\n",
       "    }\n",
       "</style>\n",
       "<table border=\"1\" class=\"dataframe\">\n",
       "  <thead>\n",
       "    <tr style=\"text-align: right;\">\n",
       "      <th></th>\n",
       "      <th>YearOfVehicleRegistration</th>\n",
       "      <th>PowerOfTheEngine</th>\n",
       "      <th>DistranceTravelled</th>\n",
       "      <th>VehicleType_Other</th>\n",
       "      <th>VehicleType_Small Car</th>\n",
       "      <th>VehicleType_bus</th>\n",
       "      <th>VehicleType_cabrio</th>\n",
       "      <th>VehicleType_coupe</th>\n",
       "      <th>VehicleType_limousine</th>\n",
       "      <th>VehicleType_suv</th>\n",
       "      <th>...</th>\n",
       "      <th>BrandOfTheVehicle_saab</th>\n",
       "      <th>BrandOfTheVehicle_seat</th>\n",
       "      <th>BrandOfTheVehicle_skoda</th>\n",
       "      <th>BrandOfTheVehicle_smart</th>\n",
       "      <th>BrandOfTheVehicle_subaru</th>\n",
       "      <th>BrandOfTheVehicle_suzuki</th>\n",
       "      <th>BrandOfTheVehicle_toyota</th>\n",
       "      <th>BrandOfTheVehicle_volkswagen</th>\n",
       "      <th>BrandOfTheVehicle_volvo</th>\n",
       "      <th>IsDamageRepaired_Yes</th>\n",
       "    </tr>\n",
       "  </thead>\n",
       "  <tbody>\n",
       "    <tr>\n",
       "      <th>0</th>\n",
       "      <td>2004.0</td>\n",
       "      <td>94.0</td>\n",
       "      <td>50000.0</td>\n",
       "      <td>0</td>\n",
       "      <td>1</td>\n",
       "      <td>0</td>\n",
       "      <td>0</td>\n",
       "      <td>0</td>\n",
       "      <td>0</td>\n",
       "      <td>0</td>\n",
       "      <td>...</td>\n",
       "      <td>0</td>\n",
       "      <td>0</td>\n",
       "      <td>0</td>\n",
       "      <td>0</td>\n",
       "      <td>1</td>\n",
       "      <td>0</td>\n",
       "      <td>0</td>\n",
       "      <td>0</td>\n",
       "      <td>0</td>\n",
       "      <td>0</td>\n",
       "    </tr>\n",
       "    <tr>\n",
       "      <th>1</th>\n",
       "      <td>2007.0</td>\n",
       "      <td>140.0</td>\n",
       "      <td>150000.0</td>\n",
       "      <td>0</td>\n",
       "      <td>0</td>\n",
       "      <td>0</td>\n",
       "      <td>0</td>\n",
       "      <td>0</td>\n",
       "      <td>0</td>\n",
       "      <td>0</td>\n",
       "      <td>...</td>\n",
       "      <td>0</td>\n",
       "      <td>0</td>\n",
       "      <td>0</td>\n",
       "      <td>0</td>\n",
       "      <td>0</td>\n",
       "      <td>0</td>\n",
       "      <td>0</td>\n",
       "      <td>1</td>\n",
       "      <td>0</td>\n",
       "      <td>0</td>\n",
       "    </tr>\n",
       "    <tr>\n",
       "      <th>2</th>\n",
       "      <td>2007.0</td>\n",
       "      <td>150.0</td>\n",
       "      <td>150000.0</td>\n",
       "      <td>0</td>\n",
       "      <td>0</td>\n",
       "      <td>0</td>\n",
       "      <td>0</td>\n",
       "      <td>0</td>\n",
       "      <td>1</td>\n",
       "      <td>0</td>\n",
       "      <td>...</td>\n",
       "      <td>0</td>\n",
       "      <td>0</td>\n",
       "      <td>0</td>\n",
       "      <td>0</td>\n",
       "      <td>0</td>\n",
       "      <td>0</td>\n",
       "      <td>0</td>\n",
       "      <td>0</td>\n",
       "      <td>0</td>\n",
       "      <td>0</td>\n",
       "    </tr>\n",
       "    <tr>\n",
       "      <th>3</th>\n",
       "      <td>2005.0</td>\n",
       "      <td>150.0</td>\n",
       "      <td>150000.0</td>\n",
       "      <td>0</td>\n",
       "      <td>0</td>\n",
       "      <td>0</td>\n",
       "      <td>0</td>\n",
       "      <td>0</td>\n",
       "      <td>1</td>\n",
       "      <td>0</td>\n",
       "      <td>...</td>\n",
       "      <td>0</td>\n",
       "      <td>0</td>\n",
       "      <td>0</td>\n",
       "      <td>0</td>\n",
       "      <td>0</td>\n",
       "      <td>0</td>\n",
       "      <td>0</td>\n",
       "      <td>0</td>\n",
       "      <td>0</td>\n",
       "      <td>0</td>\n",
       "    </tr>\n",
       "    <tr>\n",
       "      <th>4</th>\n",
       "      <td>2005.0</td>\n",
       "      <td>200.0</td>\n",
       "      <td>125000.0</td>\n",
       "      <td>0</td>\n",
       "      <td>0</td>\n",
       "      <td>0</td>\n",
       "      <td>0</td>\n",
       "      <td>0</td>\n",
       "      <td>0</td>\n",
       "      <td>0</td>\n",
       "      <td>...</td>\n",
       "      <td>0</td>\n",
       "      <td>0</td>\n",
       "      <td>0</td>\n",
       "      <td>0</td>\n",
       "      <td>0</td>\n",
       "      <td>0</td>\n",
       "      <td>0</td>\n",
       "      <td>0</td>\n",
       "      <td>0</td>\n",
       "      <td>0</td>\n",
       "    </tr>\n",
       "    <tr>\n",
       "      <th>5</th>\n",
       "      <td>2000.0</td>\n",
       "      <td>129.0</td>\n",
       "      <td>150000.0</td>\n",
       "      <td>0</td>\n",
       "      <td>0</td>\n",
       "      <td>0</td>\n",
       "      <td>0</td>\n",
       "      <td>0</td>\n",
       "      <td>1</td>\n",
       "      <td>0</td>\n",
       "      <td>...</td>\n",
       "      <td>0</td>\n",
       "      <td>0</td>\n",
       "      <td>0</td>\n",
       "      <td>0</td>\n",
       "      <td>0</td>\n",
       "      <td>0</td>\n",
       "      <td>0</td>\n",
       "      <td>0</td>\n",
       "      <td>0</td>\n",
       "      <td>0</td>\n",
       "    </tr>\n",
       "  </tbody>\n",
       "</table>\n",
       "<p>6 rows × 55 columns</p>\n",
       "</div>"
      ],
      "text/plain": [
       "   YearOfVehicleRegistration  PowerOfTheEngine  DistranceTravelled  \\\n",
       "0                     2004.0              94.0             50000.0   \n",
       "1                     2007.0             140.0            150000.0   \n",
       "2                     2007.0             150.0            150000.0   \n",
       "3                     2005.0             150.0            150000.0   \n",
       "4                     2005.0             200.0            125000.0   \n",
       "5                     2000.0             129.0            150000.0   \n",
       "\n",
       "   VehicleType_Other  VehicleType_Small Car  VehicleType_bus  \\\n",
       "0                  0                      1                0   \n",
       "1                  0                      0                0   \n",
       "2                  0                      0                0   \n",
       "3                  0                      0                0   \n",
       "4                  0                      0                0   \n",
       "5                  0                      0                0   \n",
       "\n",
       "   VehicleType_cabrio  VehicleType_coupe  VehicleType_limousine  \\\n",
       "0                   0                  0                      0   \n",
       "1                   0                  0                      0   \n",
       "2                   0                  0                      1   \n",
       "3                   0                  0                      1   \n",
       "4                   0                  0                      0   \n",
       "5                   0                  0                      1   \n",
       "\n",
       "   VehicleType_suv          ...           BrandOfTheVehicle_saab  \\\n",
       "0                0          ...                                0   \n",
       "1                0          ...                                0   \n",
       "2                0          ...                                0   \n",
       "3                0          ...                                0   \n",
       "4                0          ...                                0   \n",
       "5                0          ...                                0   \n",
       "\n",
       "   BrandOfTheVehicle_seat  BrandOfTheVehicle_skoda  BrandOfTheVehicle_smart  \\\n",
       "0                       0                        0                        0   \n",
       "1                       0                        0                        0   \n",
       "2                       0                        0                        0   \n",
       "3                       0                        0                        0   \n",
       "4                       0                        0                        0   \n",
       "5                       0                        0                        0   \n",
       "\n",
       "   BrandOfTheVehicle_subaru  BrandOfTheVehicle_suzuki  \\\n",
       "0                         1                         0   \n",
       "1                         0                         0   \n",
       "2                         0                         0   \n",
       "3                         0                         0   \n",
       "4                         0                         0   \n",
       "5                         0                         0   \n",
       "\n",
       "   BrandOfTheVehicle_toyota  BrandOfTheVehicle_volkswagen  \\\n",
       "0                         0                             0   \n",
       "1                         0                             1   \n",
       "2                         0                             0   \n",
       "3                         0                             0   \n",
       "4                         0                             0   \n",
       "5                         0                             0   \n",
       "\n",
       "   BrandOfTheVehicle_volvo  IsDamageRepaired_Yes  \n",
       "0                        0                     0  \n",
       "1                        0                     0  \n",
       "2                        0                     0  \n",
       "3                        0                     0  \n",
       "4                        0                     0  \n",
       "5                        0                     0  \n",
       "\n",
       "[6 rows x 55 columns]"
      ]
     },
     "execution_count": 198,
     "metadata": {},
     "output_type": "execute_result"
    }
   ],
   "source": [
    "train.head(6)"
   ]
  },
  {
   "cell_type": "code",
   "execution_count": 158,
   "metadata": {},
   "outputs": [
    {
     "data": {
      "text/html": [
       "<div>\n",
       "<style scoped>\n",
       "    .dataframe tbody tr th:only-of-type {\n",
       "        vertical-align: middle;\n",
       "    }\n",
       "\n",
       "    .dataframe tbody tr th {\n",
       "        vertical-align: top;\n",
       "    }\n",
       "\n",
       "    .dataframe thead th {\n",
       "        text-align: right;\n",
       "    }\n",
       "</style>\n",
       "<table border=\"1\" class=\"dataframe\">\n",
       "  <thead>\n",
       "    <tr style=\"text-align: right;\">\n",
       "      <th></th>\n",
       "      <th>VehicleID</th>\n",
       "      <th>DataCollectedDate</th>\n",
       "      <th>NameOfTheVehicle</th>\n",
       "      <th>SellerType</th>\n",
       "      <th>OfferType</th>\n",
       "      <th>VehicleType</th>\n",
       "      <th>YearOfVehicleRegistration</th>\n",
       "      <th>GearBoxType</th>\n",
       "      <th>PowerOfTheEngine</th>\n",
       "      <th>ModelOfTheVehicle</th>\n",
       "      <th>DistranceTravelled</th>\n",
       "      <th>MonthOfVehicleRegistration</th>\n",
       "      <th>TypeOfTheFuelUsed</th>\n",
       "      <th>BrandOfTheVehicle</th>\n",
       "      <th>IsDamageRepaired</th>\n",
       "      <th>DateOfAdCreation</th>\n",
       "      <th>NumberOfPictures</th>\n",
       "      <th>ZipCode</th>\n",
       "      <th>DateOfAdLastSeen</th>\n",
       "    </tr>\n",
       "  </thead>\n",
       "  <tbody>\n",
       "    <tr>\n",
       "      <th>0</th>\n",
       "      <td>60001</td>\n",
       "      <td>14-03-2016 12:52</td>\n",
       "      <td>Jeep_Grand_Cherokee_\"Overland\"</td>\n",
       "      <td>private</td>\n",
       "      <td>offer</td>\n",
       "      <td>suv</td>\n",
       "      <td>2004</td>\n",
       "      <td>automatic</td>\n",
       "      <td>163</td>\n",
       "      <td>grand</td>\n",
       "      <td>125000</td>\n",
       "      <td>8</td>\n",
       "      <td>diesel</td>\n",
       "      <td>jeep</td>\n",
       "      <td>NaN</td>\n",
       "      <td>2016-03-14</td>\n",
       "      <td>0</td>\n",
       "      <td>90480</td>\n",
       "      <td>2016-04-05 12:47:00</td>\n",
       "    </tr>\n",
       "    <tr>\n",
       "      <th>1</th>\n",
       "      <td>60002</td>\n",
       "      <td>21-03-2016 21:37</td>\n",
       "      <td>VW_PASSAT_1.9_TDI_131_PS_LEDER</td>\n",
       "      <td>private</td>\n",
       "      <td>offer</td>\n",
       "      <td>Combi</td>\n",
       "      <td>2004</td>\n",
       "      <td>manual</td>\n",
       "      <td>131</td>\n",
       "      <td>passat</td>\n",
       "      <td>150000</td>\n",
       "      <td>2</td>\n",
       "      <td>NaN</td>\n",
       "      <td>volkswagen</td>\n",
       "      <td>No</td>\n",
       "      <td>2016-03-21</td>\n",
       "      <td>0</td>\n",
       "      <td>90762</td>\n",
       "      <td>2016-03-23 02:50:00</td>\n",
       "    </tr>\n",
       "    <tr>\n",
       "      <th>2</th>\n",
       "      <td>60003</td>\n",
       "      <td>21-03-2016 12:57</td>\n",
       "      <td>Nissan_Navara_2.5DPF_SE4x4_Klima_Sitzheizg_Blu...</td>\n",
       "      <td>private</td>\n",
       "      <td>offer</td>\n",
       "      <td>suv</td>\n",
       "      <td>2011</td>\n",
       "      <td>manual</td>\n",
       "      <td>190</td>\n",
       "      <td>navara</td>\n",
       "      <td>70000</td>\n",
       "      <td>3</td>\n",
       "      <td>diesel</td>\n",
       "      <td>nissan</td>\n",
       "      <td>No</td>\n",
       "      <td>2016-03-21</td>\n",
       "      <td>0</td>\n",
       "      <td>4177</td>\n",
       "      <td>2016-04-06 07:45:00</td>\n",
       "    </tr>\n",
       "    <tr>\n",
       "      <th>3</th>\n",
       "      <td>60004</td>\n",
       "      <td>23-03-2016 15:48</td>\n",
       "      <td>Ford_C_MAX_2.0_TDCi_DPF_Titanium</td>\n",
       "      <td>private</td>\n",
       "      <td>offer</td>\n",
       "      <td>bus</td>\n",
       "      <td>2007</td>\n",
       "      <td>manual</td>\n",
       "      <td>136</td>\n",
       "      <td>c_max</td>\n",
       "      <td>150000</td>\n",
       "      <td>6</td>\n",
       "      <td>diesel</td>\n",
       "      <td>ford</td>\n",
       "      <td>No</td>\n",
       "      <td>2016-03-23</td>\n",
       "      <td>0</td>\n",
       "      <td>88361</td>\n",
       "      <td>2016-04-05 18:45:00</td>\n",
       "    </tr>\n",
       "    <tr>\n",
       "      <th>4</th>\n",
       "      <td>60005</td>\n",
       "      <td>18-03-2016 21:44</td>\n",
       "      <td>BMW_530d_touring_Vollausstattung_NAVI</td>\n",
       "      <td>private</td>\n",
       "      <td>offer</td>\n",
       "      <td>Combi</td>\n",
       "      <td>2002</td>\n",
       "      <td>automatic</td>\n",
       "      <td>193</td>\n",
       "      <td>5er</td>\n",
       "      <td>150000</td>\n",
       "      <td>9</td>\n",
       "      <td>diesel</td>\n",
       "      <td>bmw</td>\n",
       "      <td>Yes</td>\n",
       "      <td>2016-03-18</td>\n",
       "      <td>0</td>\n",
       "      <td>73765</td>\n",
       "      <td>2016-03-18 21:44:00</td>\n",
       "    </tr>\n",
       "    <tr>\n",
       "      <th>5</th>\n",
       "      <td>60006</td>\n",
       "      <td>24-03-2016 00:52</td>\n",
       "      <td>BMW_E60_530XD</td>\n",
       "      <td>private</td>\n",
       "      <td>offer</td>\n",
       "      <td>limousine</td>\n",
       "      <td>2006</td>\n",
       "      <td>automatic</td>\n",
       "      <td>231</td>\n",
       "      <td>5er</td>\n",
       "      <td>150000</td>\n",
       "      <td>11</td>\n",
       "      <td>diesel</td>\n",
       "      <td>bmw</td>\n",
       "      <td>NaN</td>\n",
       "      <td>2016-03-23</td>\n",
       "      <td>0</td>\n",
       "      <td>46119</td>\n",
       "      <td>2016-04-04 16:18:00</td>\n",
       "    </tr>\n",
       "  </tbody>\n",
       "</table>\n",
       "</div>"
      ],
      "text/plain": [
       "   VehicleID DataCollectedDate  \\\n",
       "0      60001  14-03-2016 12:52   \n",
       "1      60002  21-03-2016 21:37   \n",
       "2      60003  21-03-2016 12:57   \n",
       "3      60004  23-03-2016 15:48   \n",
       "4      60005  18-03-2016 21:44   \n",
       "5      60006  24-03-2016 00:52   \n",
       "\n",
       "                                    NameOfTheVehicle SellerType OfferType  \\\n",
       "0                     Jeep_Grand_Cherokee_\"Overland\"    private     offer   \n",
       "1                     VW_PASSAT_1.9_TDI_131_PS_LEDER    private     offer   \n",
       "2  Nissan_Navara_2.5DPF_SE4x4_Klima_Sitzheizg_Blu...    private     offer   \n",
       "3                   Ford_C_MAX_2.0_TDCi_DPF_Titanium    private     offer   \n",
       "4              BMW_530d_touring_Vollausstattung_NAVI    private     offer   \n",
       "5                                      BMW_E60_530XD    private     offer   \n",
       "\n",
       "  VehicleType  YearOfVehicleRegistration GearBoxType  PowerOfTheEngine  \\\n",
       "0         suv                       2004   automatic               163   \n",
       "1       Combi                       2004      manual               131   \n",
       "2         suv                       2011      manual               190   \n",
       "3         bus                       2007      manual               136   \n",
       "4       Combi                       2002   automatic               193   \n",
       "5   limousine                       2006   automatic               231   \n",
       "\n",
       "  ModelOfTheVehicle  DistranceTravelled  MonthOfVehicleRegistration  \\\n",
       "0             grand              125000                           8   \n",
       "1            passat              150000                           2   \n",
       "2            navara               70000                           3   \n",
       "3             c_max              150000                           6   \n",
       "4               5er              150000                           9   \n",
       "5               5er              150000                          11   \n",
       "\n",
       "  TypeOfTheFuelUsed BrandOfTheVehicle IsDamageRepaired DateOfAdCreation  \\\n",
       "0            diesel              jeep              NaN       2016-03-14   \n",
       "1               NaN        volkswagen               No       2016-03-21   \n",
       "2            diesel            nissan               No       2016-03-21   \n",
       "3            diesel              ford               No       2016-03-23   \n",
       "4            diesel               bmw              Yes       2016-03-18   \n",
       "5            diesel               bmw              NaN       2016-03-23   \n",
       "\n",
       "   NumberOfPictures  ZipCode    DateOfAdLastSeen  \n",
       "0                 0    90480 2016-04-05 12:47:00  \n",
       "1                 0    90762 2016-03-23 02:50:00  \n",
       "2                 0     4177 2016-04-06 07:45:00  \n",
       "3                 0    88361 2016-04-05 18:45:00  \n",
       "4                 0    73765 2016-03-18 21:44:00  \n",
       "5                 0    46119 2016-04-04 16:18:00  "
      ]
     },
     "execution_count": 158,
     "metadata": {},
     "output_type": "execute_result"
    }
   ],
   "source": [
    "test.head(6)"
   ]
  },
  {
   "cell_type": "code",
   "execution_count": 236,
   "metadata": {},
   "outputs": [],
   "source": [
    "# Split the Train and Test Data\n",
    "from sklearn.model_selection import train_test_split\n",
    "# Split the data into X and y\n",
    "X = train\n",
    "y = np.log(train_labels)"
   ]
  },
  {
   "cell_type": "code",
   "execution_count": 237,
   "metadata": {},
   "outputs": [],
   "source": [
    "# Split the data into X_train, X_test, y_train, y_test with test_size = 0.20 using sklearn\n",
    "X_train, X_test, y_train, y_test = train_test_split(X, y, test_size=0.20,random_state=1)"
   ]
  },
  {
   "cell_type": "code",
   "execution_count": 238,
   "metadata": {},
   "outputs": [
    {
     "name": "stdout",
     "output_type": "stream",
     "text": [
      "(37371, 54)\n",
      "(9343, 54)\n",
      "(37371,)\n",
      "(9343,)\n"
     ]
    }
   ],
   "source": [
    "## Print the shape of X_train, X_test, y_train, y_test\n",
    "print(X_train.shape)\n",
    "print(X_test.shape)\n",
    "print(y_train.shape)\n",
    "print(y_test.shape)"
   ]
  },
  {
   "cell_type": "code",
   "execution_count": 239,
   "metadata": {},
   "outputs": [],
   "source": [
    "numerical_Attributes_train = train.select_dtypes(exclude=['category']).columns"
   ]
  },
  {
   "cell_type": "code",
   "execution_count": 240,
   "metadata": {},
   "outputs": [],
   "source": [
    "numerical_Attributes_test = test.select_dtypes(exclude=['category']).columns"
   ]
  },
  {
   "cell_type": "code",
   "execution_count": 241,
   "metadata": {},
   "outputs": [],
   "source": [
    "## Scale the numeric attributes\n",
    "from sklearn.preprocessing import StandardScaler\n",
    "scaler = StandardScaler()\n",
    "for cols in numerical_Attributes_train :\n",
    "    X_train[cols] = scaler.fit_transform(X_train[[cols]])\n",
    "    \n",
    "for cols in numerical_Attributes_train :\n",
    "    X_test[cols] = scaler.fit_transform(X_test[[cols]])"
   ]
  },
  {
   "cell_type": "code",
   "execution_count": 323,
   "metadata": {},
   "outputs": [
    {
     "data": {
      "text/plain": [
       "RandomForestRegressor(bootstrap=True, criterion='mse', max_depth=None,\n",
       "           max_features='auto', max_leaf_nodes=None,\n",
       "           min_impurity_decrease=0.0, min_impurity_split=None,\n",
       "           min_samples_leaf=1, min_samples_split=2,\n",
       "           min_weight_fraction_leaf=0.0, n_estimators=200, n_jobs=1,\n",
       "           oob_score=False, random_state=0, verbose=0, warm_start=False)"
      ]
     },
     "execution_count": 323,
     "metadata": {},
     "output_type": "execute_result"
    }
   ],
   "source": [
    "# Training the Algorithm\n",
    "from sklearn.ensemble import RandomForestRegressor\n",
    "rfr = RandomForestRegressor(n_estimators=200,random_state=0)\n",
    "rfr.fit(X_train,y_train)"
   ]
  },
  {
   "cell_type": "code",
   "execution_count": 324,
   "metadata": {},
   "outputs": [],
   "source": [
    "# Making predictions\n",
    "y_pred = rfr.predict(X_test)"
   ]
  },
  {
   "cell_type": "code",
   "execution_count": 325,
   "metadata": {},
   "outputs": [
    {
     "name": "stdout",
     "output_type": "stream",
     "text": [
      "Mean absolute Error: 1444.6988687100095\n",
      "Mean Squared Error: 5351192.845069135\n",
      "Root Mean Square error: 2313.2645428201968\n"
     ]
    }
   ],
   "source": [
    "# Evaluating the algorithm\n",
    "from sklearn import metrics\n",
    "print(\"Mean absolute Error:\", metrics.mean_absolute_error(y_pred,y_test))\n",
    "print(\"Mean Squared Error:\", metrics.mean_squared_error(y_pred,y_test))\n",
    "print(\"Root Mean Square error:\", np.sqrt(metrics.mean_squared_error(y_pred,y_test)))"
   ]
  },
  {
   "cell_type": "code",
   "execution_count": 242,
   "metadata": {},
   "outputs": [],
   "source": [
    "from sklearn.ensemble import GradientBoostingRegressor"
   ]
  },
  {
   "cell_type": "code",
   "execution_count": 243,
   "metadata": {},
   "outputs": [],
   "source": [
    "GBM_model = GradientBoostingRegressor(n_estimators=150,\n",
    "                                       learning_rate=0.9,\n",
    "                                       subsample=0.8)"
   ]
  },
  {
   "cell_type": "code",
   "execution_count": 244,
   "metadata": {},
   "outputs": [
    {
     "name": "stdout",
     "output_type": "stream",
     "text": [
      "Wall time: 30.5 s\n"
     ]
    },
    {
     "data": {
      "text/plain": [
       "GradientBoostingRegressor(alpha=0.9, criterion='friedman_mse', init=None,\n",
       "             learning_rate=0.9, loss='ls', max_depth=3, max_features=None,\n",
       "             max_leaf_nodes=None, min_impurity_decrease=0.0,\n",
       "             min_impurity_split=None, min_samples_leaf=1,\n",
       "             min_samples_split=2, min_weight_fraction_leaf=0.0,\n",
       "             n_estimators=150, presort='auto', random_state=None,\n",
       "             subsample=0.8, verbose=0, warm_start=False)"
      ]
     },
     "execution_count": 244,
     "metadata": {},
     "output_type": "execute_result"
    }
   ],
   "source": [
    "%time GBM_model.fit(X=X_train, y=y_train)"
   ]
  },
  {
   "cell_type": "code",
   "execution_count": 245,
   "metadata": {},
   "outputs": [],
   "source": [
    "y_pred = GBM_model.predict(X_test)"
   ]
  },
  {
   "cell_type": "code",
   "execution_count": 246,
   "metadata": {},
   "outputs": [
    {
     "name": "stdout",
     "output_type": "stream",
     "text": [
      "Mean absolute Error: 0.21296470298707176\n",
      "Mean Squared Error: 0.0832262730011409\n",
      "Root Mean Square error: 0.28848964106383596\n"
     ]
    }
   ],
   "source": [
    "# Evaluating the algorithm\n",
    "from sklearn import metrics\n",
    "print(\"Mean absolute Error:\", metrics.mean_absolute_error(y_pred,y_test))\n",
    "print(\"Mean Squared Error:\", metrics.mean_squared_error(y_pred,y_test))\n",
    "print(\"Root Mean Square error:\", np.sqrt(metrics.mean_squared_error(y_pred,y_test)))"
   ]
  },
  {
   "cell_type": "code",
   "execution_count": 264,
   "metadata": {},
   "outputs": [],
   "source": [
    "# Build a Linear Model uisng Log Transformation\n",
    "X = train\n",
    "y = np.log(train_labels)"
   ]
  },
  {
   "cell_type": "code",
   "execution_count": 265,
   "metadata": {},
   "outputs": [],
   "source": [
    "# Split Train and Test Data\n",
    "from sklearn.model_selection import train_test_split\n",
    "X_train, X_test, y_train, y_test = train_test_split(\n",
    "                                    X, y, random_state=1, test_size=0.2)"
   ]
  },
  {
   "cell_type": "code",
   "execution_count": 263,
   "metadata": {},
   "outputs": [
    {
     "data": {
      "text/plain": [
       "RandomForestRegressor(bootstrap=True, criterion='mse', max_depth=5,\n",
       "           max_features='auto', max_leaf_nodes=None,\n",
       "           min_impurity_decrease=0.0, min_impurity_split=None,\n",
       "           min_samples_leaf=1, min_samples_split=2,\n",
       "           min_weight_fraction_leaf=0.0, n_estimators=250, n_jobs=1,\n",
       "           oob_score=False, random_state=0, verbose=0, warm_start=False)"
      ]
     },
     "execution_count": 263,
     "metadata": {},
     "output_type": "execute_result"
    }
   ],
   "source": [
    "# Random Forest algorithm\n",
    "# Training the Algorithm\n",
    "from sklearn.ensemble import RandomForestRegressor\n",
    "rfr = RandomForestRegressor(n_estimators=250,random_state=0,max_depth=5)\n",
    "rfr.fit(X_train,y_train)"
   ]
  },
  {
   "cell_type": "code",
   "execution_count": 82,
   "metadata": {},
   "outputs": [],
   "source": [
    "# Making predictions\n",
    "y_pred_rfr = rfr.predict(X_test)"
   ]
  },
  {
   "cell_type": "code",
   "execution_count": 83,
   "metadata": {},
   "outputs": [
    {
     "name": "stdout",
     "output_type": "stream",
     "text": [
      "Root Mean Square error: 0.3762080944905238\n",
      "R^2 is: \n",
      " 0.7873796093999438\n"
     ]
    }
   ],
   "source": [
    "# Evaluating the algorithm\n",
    "from sklearn import metrics\n",
    "print(\"Root Mean Square error:\", np.sqrt(metrics.mean_squared_error(y_pred_rfr,y_test)))\n",
    "# Evaluate the performance and visualize results\n",
    "print (\"R^2 is: \\n\", rfr.score(X_test, y_test))"
   ]
  },
  {
   "cell_type": "code",
   "execution_count": null,
   "metadata": {},
   "outputs": [],
   "source": [
    "# Evaluating the algorithm\n",
    "from sklearn import metrics\n",
    "print(\"Mean absolute Error:\", metrics.mean_absolute_error(y_pred_rfc,y_test))\n",
    "print(\"Mean Squared Error:\", metrics.mean_squared_error(y_pred_rfc,y_test))\n",
    "print(\"Root Mean Square error:\", np.sqrt(metrics.mean_squared_error(y_pred_rfc,y_test)))"
   ]
  },
  {
   "cell_type": "code",
   "execution_count": 84,
   "metadata": {},
   "outputs": [
    {
     "data": {
      "image/png": "[encoded data removed]",
      "text/plain": [
       "<Figure size 432x288 with 1 Axes>"
      ]
     },
     "metadata": {},
     "output_type": "display_data"
    }
   ],
   "source": [
    "# Visualization\n",
    "actual_values = y_test\n",
    "plt.scatter(y_pred_rfr, actual_values, alpha=.75,\n",
    "            color='b') #alpha helps to show overlapping data\n",
    "plt.xlabel('Predicted Price')\n",
    "plt.ylabel('Actual Price')\n",
    "plt.title('Random Forest Model')\n",
    "plt.show()"
   ]
  },
  {
   "cell_type": "code",
   "execution_count": 161,
   "metadata": {},
   "outputs": [],
   "source": [
    "# XGBoost model\n",
    "from xgboost import XGBRegressor\n",
    "xgb = XGBRegressor(nthread=5,max_depth=5,learning_rate=0.07,n_estimators=250)\n",
    "model_xgb= xgb.fit(X_train,y_train)\n",
    "y_pred_xgb = xgb.predict(X_test)"
   ]
  },
  {
   "cell_type": "code",
   "execution_count": 162,
   "metadata": {},
   "outputs": [
    {
     "name": "stdout",
     "output_type": "stream",
     "text": [
      "Root Mean Square error: 0.273559657646099\n",
      "R^2 is: \n",
      " 0.8878838249823212\n"
     ]
    }
   ],
   "source": [
    "# Evaluating the algorithm\n",
    "from sklearn import metrics\n",
    "print(\"Root Mean Square error:\", np.sqrt(metrics.mean_squared_error(y_pred_xgb,y_test)))\n",
    "# Evaluate the performance and visualize results\n",
    "print (\"R^2 is: \\n\", model_xgb.score(X_test, y_test))"
   ]
  },
  {
   "cell_type": "code",
   "execution_count": 163,
   "metadata": {},
   "outputs": [
    {
     "name": "stdout",
     "output_type": "stream",
     "text": [
      "Mean absolute Error: 0.2008044402440755\n",
      "Mean Squared Error: 0.0748348862914509\n",
      "Root Mean Square error: 0.273559657646099\n"
     ]
    }
   ],
   "source": [
    "# Evaluating the algorithm\n",
    "from sklearn import metrics\n",
    "print(\"Mean absolute Error:\", metrics.mean_absolute_error(y_pred_xgb,y_test))\n",
    "print(\"Mean Squared Error:\", metrics.mean_squared_error(y_pred_xgb,y_test))\n",
    "print(\"Root Mean Square error:\", np.sqrt(metrics.mean_squared_error(y_pred_xgb,y_test)))"
   ]
  },
  {
   "cell_type": "code",
   "execution_count": 164,
   "metadata": {},
   "outputs": [
    {
     "data": {
      "image/png": "[encoded data removed]",
      "text/plain": [
       "<Figure size 432x288 with 1 Axes>"
      ]
     },
     "metadata": {},
     "output_type": "display_data"
    }
   ],
   "source": [
    "# Visualization\n",
    "actual_values = y_test\n",
    "plt.scatter(y_pred_xgb, actual_values, alpha=.75,\n",
    "            color='b') #alpha helps to show overlapping data\n",
    "plt.xlabel('Predicted Price')\n",
    "plt.ylabel('Actual Price')\n",
    "plt.title('XGBoost Model')\n",
    "plt.show()"
   ]
  },
  {
   "cell_type": "code",
   "execution_count": 91,
   "metadata": {},
   "outputs": [],
   "source": [
    "from sklearn.model_selection import GridSearchCV\n",
    "import xgboost as xgb\n",
    "\n",
    "# Model in use\n",
    "xgb = xgb.XGBRegressor(nthread=4,max_depth=5,learning_rate=0.05,n_estimators=250)\n",
    "\n",
    " \n",
    "# Use a grid over parameters of interest\n",
    "#param_grid = { \n",
    "#          \"nthread\":[4,5], \n",
    " #          \"max_depth\" : [5, 10],\n",
    "#           \"learning_rate\" : [0.05,0.1, 0.2],\n",
    "#           \"n_estimators\": [250,300,350]\n",
    " #          }\n",
    " \n",
    "#xgb_f = GridSearchCV(estimator=xgb_Grid, param_grid=param_grid)"
   ]
  },
  {
   "cell_type": "code",
   "execution_count": 92,
   "metadata": {},
   "outputs": [
    {
     "name": "stdout",
     "output_type": "stream",
     "text": [
      "Wall time: 43.6 s\n"
     ]
    },
    {
     "data": {
      "text/plain": [
       "XGBRegressor(base_score=0.5, booster='gbtree', colsample_bylevel=1,\n",
       "       colsample_bytree=1, gamma=0, learning_rate=0.05, max_delta_step=0,\n",
       "       max_depth=5, min_child_weight=1, missing=None, n_estimators=250,\n",
       "       n_jobs=1, nthread=4, objective='reg:linear', random_state=0,\n",
       "       reg_alpha=0, reg_lambda=1, scale_pos_weight=1, seed=None,\n",
       "       silent=True, subsample=1)"
      ]
     },
     "execution_count": 92,
     "metadata": {},
     "output_type": "execute_result"
    }
   ],
   "source": [
    "%time xgb.fit(X_train, y_train)"
   ]
  },
  {
   "cell_type": "code",
   "execution_count": 93,
   "metadata": {},
   "outputs": [],
   "source": [
    "y_pred_test_xgb = xgb.predict(X_test)"
   ]
  },
  {
   "cell_type": "code",
   "execution_count": 94,
   "metadata": {},
   "outputs": [
    {
     "name": "stdout",
     "output_type": "stream",
     "text": [
      "Root Mean Square error: 0.2744156962256071\n",
      "R^2 is: \n",
      " 0.8868729302295825\n"
     ]
    }
   ],
   "source": [
    "# Evaluating the algorithm\n",
    "from sklearn import metrics\n",
    "print(\"Root Mean Square error:\", np.sqrt(metrics.mean_squared_error(y_pred_test_xgb,y_test)))\n",
    "# Evaluate the performance and visualize results\n",
    "print (\"R^2 is: \\n\", xgb.score(X_test, y_test))"
   ]
  },
  {
   "cell_type": "code",
   "execution_count": 95,
   "metadata": {},
   "outputs": [
    {
     "name": "stdout",
     "output_type": "stream",
     "text": [
      "Mean absolute Error: 0.20447585060283385\n",
      "Mean Squared Error: 0.07530397433498465\n",
      "Root Mean Square error: 0.2744156962256071\n"
     ]
    }
   ],
   "source": [
    "# Evaluating the algorithm\n",
    "from sklearn import metrics\n",
    "print(\"Mean absolute Error:\", metrics.mean_absolute_error(y_pred_test_xgb,y_test))\n",
    "print(\"Mean Squared Error:\", metrics.mean_squared_error(y_pred_test_xgb,y_test))\n",
    "print(\"Root Mean Square error:\", np.sqrt(metrics.mean_squared_error(y_pred_test_xgb,y_test)))"
   ]
  },
  {
   "cell_type": "code",
   "execution_count": 96,
   "metadata": {},
   "outputs": [
    {
     "data": {
      "image/png": "[encoded data removed]",
      "text/plain": [
       "<Figure size 432x288 with 1 Axes>"
      ]
     },
     "metadata": {},
     "output_type": "display_data"
    }
   ],
   "source": [
    "# Visualization\n",
    "actual_values = y_test\n",
    "plt.scatter(y_pred_test_xgb, actual_values, alpha=.75,\n",
    "            color='b') #alpha helps to show overlapping data\n",
    "plt.xlabel('Predicted Price')\n",
    "plt.ylabel('Actual Price')\n",
    "plt.title('XGBoos Model')\n",
    "plt.show()"
   ]
  },
  {
   "cell_type": "code",
   "execution_count": 248,
   "metadata": {},
   "outputs": [],
   "source": [
    "col_names = list(train.columns.values)"
   ]
  },
  {
   "cell_type": "code",
   "execution_count": 249,
   "metadata": {},
   "outputs": [],
   "source": [
    "test = pd.DataFrame(test,columns = col_names )"
   ]
  },
  {
   "cell_type": "code",
   "execution_count": 250,
   "metadata": {},
   "outputs": [
    {
     "data": {
      "text/plain": [
       "YearOfVehicleRegistration          float64\n",
       "PowerOfTheEngine                   float64\n",
       "DistranceTravelled                 float64\n",
       "VehicleType_Other                    uint8\n",
       "VehicleType_Small Car                uint8\n",
       "VehicleType_bus                      uint8\n",
       "VehicleType_cabrio                   uint8\n",
       "VehicleType_coupe                    uint8\n",
       "VehicleType_limousine                uint8\n",
       "VehicleType_suv                      uint8\n",
       "GearBoxType_manual                   uint8\n",
       "TypeOfTheFuelUsed_diesel             uint8\n",
       "TypeOfTheFuelUsed_electro            uint8\n",
       "TypeOfTheFuelUsed_hybrid             uint8\n",
       "TypeOfTheFuelUsed_lpg                uint8\n",
       "TypeOfTheFuelUsed_other              uint8\n",
       "TypeOfTheFuelUsed_petrol             uint8\n",
       "BrandOfTheVehicle_audi               uint8\n",
       "BrandOfTheVehicle_bmw                uint8\n",
       "BrandOfTheVehicle_chevrolet          uint8\n",
       "BrandOfTheVehicle_chrysler           uint8\n",
       "BrandOfTheVehicle_citroen            uint8\n",
       "BrandOfTheVehicle_dacia              uint8\n",
       "BrandOfTheVehicle_daewoo             uint8\n",
       "BrandOfTheVehicle_daihatsu           uint8\n",
       "BrandOfTheVehicle_fiat               uint8\n",
       "BrandOfTheVehicle_ford               uint8\n",
       "BrandOfTheVehicle_honda              uint8\n",
       "BrandOfTheVehicle_hyundai            uint8\n",
       "BrandOfTheVehicle_jaguar             uint8\n",
       "BrandOfTheVehicle_jeep               uint8\n",
       "BrandOfTheVehicle_kia                uint8\n",
       "BrandOfTheVehicle_lada               uint8\n",
       "BrandOfTheVehicle_lancia             uint8\n",
       "BrandOfTheVehicle_land_rover         uint8\n",
       "BrandOfTheVehicle_mazda              uint8\n",
       "BrandOfTheVehicle_mercedes_benz      uint8\n",
       "BrandOfTheVehicle_mini               uint8\n",
       "BrandOfTheVehicle_mitsubishi         uint8\n",
       "BrandOfTheVehicle_nissan             uint8\n",
       "BrandOfTheVehicle_opel               uint8\n",
       "BrandOfTheVehicle_peugeot            uint8\n",
       "BrandOfTheVehicle_porsche            uint8\n",
       "BrandOfTheVehicle_renault            uint8\n",
       "BrandOfTheVehicle_saab               uint8\n",
       "BrandOfTheVehicle_seat               uint8\n",
       "BrandOfTheVehicle_skoda              uint8\n",
       "BrandOfTheVehicle_smart              uint8\n",
       "BrandOfTheVehicle_subaru             uint8\n",
       "BrandOfTheVehicle_suzuki             uint8\n",
       "BrandOfTheVehicle_toyota             uint8\n",
       "BrandOfTheVehicle_volkswagen         uint8\n",
       "BrandOfTheVehicle_volvo              uint8\n",
       "IsDamageRepaired_Yes                 uint8\n",
       "dtype: object"
      ]
     },
     "execution_count": 250,
     "metadata": {},
     "output_type": "execute_result"
    }
   ],
   "source": [
    "test.dtypes"
   ]
  },
  {
   "cell_type": "code",
   "execution_count": 251,
   "metadata": {},
   "outputs": [],
   "source": [
    "test1 = pd.read_csv(\"TestData.csv\")"
   ]
  },
  {
   "cell_type": "code",
   "execution_count": 252,
   "metadata": {},
   "outputs": [],
   "source": [
    "submission = pd.DataFrame()\n",
    "submission['VehicleID'] = test1.VehicleID"
   ]
  },
  {
   "cell_type": "code",
   "execution_count": 253,
   "metadata": {},
   "outputs": [],
   "source": [
    "feats = test.select_dtypes(\n",
    "        include=[np.number]).interpolate()"
   ]
  },
  {
   "cell_type": "code",
   "execution_count": 254,
   "metadata": {},
   "outputs": [
    {
     "data": {
      "text/plain": [
       "YearOfVehicleRegistration          0\n",
       "PowerOfTheEngine                   0\n",
       "DistranceTravelled                 0\n",
       "VehicleType_Other                  0\n",
       "VehicleType_Small Car              0\n",
       "VehicleType_bus                    0\n",
       "VehicleType_cabrio                 0\n",
       "VehicleType_coupe                  0\n",
       "VehicleType_limousine              0\n",
       "VehicleType_suv                    0\n",
       "GearBoxType_manual                 0\n",
       "TypeOfTheFuelUsed_diesel           0\n",
       "TypeOfTheFuelUsed_electro          0\n",
       "TypeOfTheFuelUsed_hybrid           0\n",
       "TypeOfTheFuelUsed_lpg              0\n",
       "TypeOfTheFuelUsed_other            0\n",
       "TypeOfTheFuelUsed_petrol           0\n",
       "BrandOfTheVehicle_audi             0\n",
       "BrandOfTheVehicle_bmw              0\n",
       "BrandOfTheVehicle_chevrolet        0\n",
       "BrandOfTheVehicle_chrysler         0\n",
       "BrandOfTheVehicle_citroen          0\n",
       "BrandOfTheVehicle_dacia            0\n",
       "BrandOfTheVehicle_daewoo           0\n",
       "BrandOfTheVehicle_daihatsu         0\n",
       "BrandOfTheVehicle_fiat             0\n",
       "BrandOfTheVehicle_ford             0\n",
       "BrandOfTheVehicle_honda            0\n",
       "BrandOfTheVehicle_hyundai          0\n",
       "BrandOfTheVehicle_jaguar           0\n",
       "BrandOfTheVehicle_jeep             0\n",
       "BrandOfTheVehicle_kia              0\n",
       "BrandOfTheVehicle_lada             0\n",
       "BrandOfTheVehicle_lancia           0\n",
       "BrandOfTheVehicle_land_rover       0\n",
       "BrandOfTheVehicle_mazda            0\n",
       "BrandOfTheVehicle_mercedes_benz    0\n",
       "BrandOfTheVehicle_mini             0\n",
       "BrandOfTheVehicle_mitsubishi       0\n",
       "BrandOfTheVehicle_nissan           0\n",
       "BrandOfTheVehicle_opel             0\n",
       "BrandOfTheVehicle_peugeot          0\n",
       "BrandOfTheVehicle_porsche          0\n",
       "BrandOfTheVehicle_renault          0\n",
       "BrandOfTheVehicle_saab             0\n",
       "BrandOfTheVehicle_seat             0\n",
       "BrandOfTheVehicle_skoda            0\n",
       "BrandOfTheVehicle_smart            0\n",
       "BrandOfTheVehicle_subaru           0\n",
       "BrandOfTheVehicle_suzuki           0\n",
       "BrandOfTheVehicle_toyota           0\n",
       "BrandOfTheVehicle_volkswagen       0\n",
       "BrandOfTheVehicle_volvo            0\n",
       "IsDamageRepaired_Yes               0\n",
       "dtype: int64"
      ]
     },
     "execution_count": 254,
     "metadata": {},
     "output_type": "execute_result"
    }
   ],
   "source": [
    " test.head(5)\n",
    "test.isnull().sum()"
   ]
  },
  {
   "cell_type": "code",
   "execution_count": 255,
   "metadata": {},
   "outputs": [],
   "source": [
    "# Select the features from Test data\n",
    "predictions = GBM_model.predict(feats)"
   ]
  },
  {
   "cell_type": "code",
   "execution_count": 256,
   "metadata": {},
   "outputs": [],
   "source": [
    "# Transform the Predicitons to correct form\n",
    "final_predictions = np.exp(predictions)"
   ]
  },
  {
   "cell_type": "code",
   "execution_count": 257,
   "metadata": {},
   "outputs": [
    {
     "name": "stdout",
     "output_type": "stream",
     "text": [
      "Original predictions are: \n",
      " [5.44022242 5.9648662  5.44022242 5.44022242 5.44022242] \n",
      "\n",
      "Final predictions are: \n",
      " [230.49344393 389.50090868 230.49344393 230.49344393 230.49344393]\n"
     ]
    }
   ],
   "source": [
    "# Compare Original and Final Predicitons\n",
    "print (\"Original predictions are: \\n\", predictions[:5], \"\\n\")\n",
    "print (\"Final predictions are: \\n\", final_predictions[:5])"
   ]
  },
  {
   "cell_type": "code",
   "execution_count": 258,
   "metadata": {},
   "outputs": [
    {
     "data": {
      "text/plain": [
       "(19594,)"
      ]
     },
     "execution_count": 258,
     "metadata": {},
     "output_type": "execute_result"
    }
   ],
   "source": [
    "final_predictions.shape"
   ]
  },
  {
   "cell_type": "code",
   "execution_count": 259,
   "metadata": {},
   "outputs": [
    {
     "data": {
      "text/html": [
       "<div>\n",
       "<style scoped>\n",
       "    .dataframe tbody tr th:only-of-type {\n",
       "        vertical-align: middle;\n",
       "    }\n",
       "\n",
       "    .dataframe tbody tr th {\n",
       "        vertical-align: top;\n",
       "    }\n",
       "\n",
       "    .dataframe thead th {\n",
       "        text-align: right;\n",
       "    }\n",
       "</style>\n",
       "<table border=\"1\" class=\"dataframe\">\n",
       "  <thead>\n",
       "    <tr style=\"text-align: right;\">\n",
       "      <th></th>\n",
       "      <th>VehicleID</th>\n",
       "      <th>Price</th>\n",
       "    </tr>\n",
       "  </thead>\n",
       "  <tbody>\n",
       "    <tr>\n",
       "      <th>0</th>\n",
       "      <td>60001</td>\n",
       "      <td>230.493444</td>\n",
       "    </tr>\n",
       "    <tr>\n",
       "      <th>1</th>\n",
       "      <td>60002</td>\n",
       "      <td>389.500909</td>\n",
       "    </tr>\n",
       "    <tr>\n",
       "      <th>2</th>\n",
       "      <td>60003</td>\n",
       "      <td>230.493444</td>\n",
       "    </tr>\n",
       "    <tr>\n",
       "      <th>3</th>\n",
       "      <td>60004</td>\n",
       "      <td>230.493444</td>\n",
       "    </tr>\n",
       "    <tr>\n",
       "      <th>4</th>\n",
       "      <td>60005</td>\n",
       "      <td>230.493444</td>\n",
       "    </tr>\n",
       "  </tbody>\n",
       "</table>\n",
       "</div>"
      ],
      "text/plain": [
       "   VehicleID       Price\n",
       "0      60001  230.493444\n",
       "1      60002  389.500909\n",
       "2      60003  230.493444\n",
       "3      60004  230.493444\n",
       "4      60005  230.493444"
      ]
     },
     "execution_count": 259,
     "metadata": {},
     "output_type": "execute_result"
    }
   ],
   "source": [
    "submission['Price'] = final_predictions\n",
    "submission.head()"
   ]
  },
  {
   "cell_type": "code",
   "execution_count": 260,
   "metadata": {},
   "outputs": [],
   "source": [
    "submission.to_csv('submissionX.csv', index=False)"
   ]
  },
  {
   "cell_type": "code",
   "execution_count": null,
   "metadata": {},
   "outputs": [],
   "source": []
  },
  {
   "cell_type": "code",
   "execution_count": null,
   "metadata": {},
   "outputs": [],
   "source": []
  }
 ],
 "metadata": {
  "kernelspec": {
   "display_name": "Python 3",
   "language": "python",
   "name": "python3"
  },
  "language_info": {
   "codemirror_mode": {
    "name": "ipython",
    "version": 3
   },
   "file_extension": ".py",
   "mimetype": "text/x-python",
   "name": "python",
   "nbconvert_exporter": "python",
   "pygments_lexer": "ipython3",
   "version": "3.6.5"
  }
 },
 "nbformat": 4,
 "nbformat_minor": 2
}
