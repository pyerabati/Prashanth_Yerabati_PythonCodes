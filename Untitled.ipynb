{
 "cells": [
  {
   "cell_type": "code",
   "execution_count": 468,
   "metadata": {},
   "outputs": [],
   "source": [
    "import numpy as np \n",
    "import os\n",
    "import pandas as pd\n",
    "os.chdir('D:\\\\Insofe\\\\Python Lab\\\\Data_Forall')"
   ]
  },
  {
   "cell_type": "code",
   "execution_count": 469,
   "metadata": {},
   "outputs": [],
   "source": [
    "# Read the data\n",
    "import os\n",
    "import pandas as pd\n",
    "import matplotlib.pyplot as plt\n",
    "import seaborn as sns\n",
    "import numpy as np\n",
    "from scipy.stats import norm\n",
    "from sklearn.preprocessing import StandardScaler\n",
    "from scipy import stats\n",
    "import warnings\n",
    "warnings.filterwarnings('ignore')\n",
    "%matplotlib inline\n"
   ]
  },
  {
   "cell_type": "code",
   "execution_count": 470,
   "metadata": {},
   "outputs": [],
   "source": [
    "# Import metrics\n",
    "import random\n",
    "\n",
    "from sklearn.metrics import accuracy_score\n",
    "from sklearn.metrics import precision_score\n",
    "from sklearn.metrics import recall_score\n",
    "from sklearn.metrics import classification_report\n",
    "from sklearn.metrics import confusion_matrix\n",
    "from sklearn.metrics import roc_curve\n",
    "from sklearn.metrics import precision_recall_curve"
   ]
  },
  {
   "cell_type": "code",
   "execution_count": 756,
   "metadata": {},
   "outputs": [],
   "source": [
    "# Read the Train Input files\n",
    "# Read the Input files\n",
    "train = pd.read_csv(\"TrainData.csv\")\n",
    "test = pd.read_csv(\"TestData.csv\")\n",
    "test1 = test.copy()"
   ]
  },
  {
   "cell_type": "code",
   "execution_count": 757,
   "metadata": {},
   "outputs": [
    {
     "name": "stdout",
     "output_type": "stream",
     "text": [
      "(58857, 20) (19594, 19)\n"
     ]
    }
   ],
   "source": [
    "print(train.shape,test.shape)"
   ]
  },
  {
   "cell_type": "code",
   "execution_count": 758,
   "metadata": {},
   "outputs": [],
   "source": [
    "# Removing duplicate rows\n",
    "train = train.drop_duplicates()"
   ]
  },
  {
   "cell_type": "code",
   "execution_count": 759,
   "metadata": {},
   "outputs": [
    {
     "data": {
      "text/html": [
       "<div>\n",
       "<style scoped>\n",
       "    .dataframe tbody tr th:only-of-type {\n",
       "        vertical-align: middle;\n",
       "    }\n",
       "\n",
       "    .dataframe tbody tr th {\n",
       "        vertical-align: top;\n",
       "    }\n",
       "\n",
       "    .dataframe thead th {\n",
       "        text-align: right;\n",
       "    }\n",
       "</style>\n",
       "<table border=\"1\" class=\"dataframe\">\n",
       "  <thead>\n",
       "    <tr style=\"text-align: right;\">\n",
       "      <th></th>\n",
       "      <th>VehicleID</th>\n",
       "      <th>DataCollectedDate</th>\n",
       "      <th>NameOfTheVehicle</th>\n",
       "      <th>SellerType</th>\n",
       "      <th>OfferType</th>\n",
       "      <th>Price</th>\n",
       "      <th>VehicleType</th>\n",
       "      <th>YearOfVehicleRegistration</th>\n",
       "      <th>GearBoxType</th>\n",
       "      <th>PowerOfTheEngine</th>\n",
       "      <th>ModelOfTheVehicle</th>\n",
       "      <th>DistranceTravelled</th>\n",
       "      <th>MonthOfVehicleRegistration</th>\n",
       "      <th>TypeOfTheFuelUsed</th>\n",
       "      <th>BrandOfTheVehicle</th>\n",
       "      <th>IsDamageRepaired</th>\n",
       "      <th>DateOfAdCreation</th>\n",
       "      <th>NumberOfPictures</th>\n",
       "      <th>ZipCode</th>\n",
       "      <th>DateOfAdLastSeen</th>\n",
       "    </tr>\n",
       "  </thead>\n",
       "  <tbody>\n",
       "    <tr>\n",
       "      <th>0</th>\n",
       "      <td>1</td>\n",
       "      <td>03-04-2016 11:54</td>\n",
       "      <td>Subaru_G3X_Justy_1.3</td>\n",
       "      <td>private</td>\n",
       "      <td>offer</td>\n",
       "      <td>3850</td>\n",
       "      <td>Small Car</td>\n",
       "      <td>2004</td>\n",
       "      <td>manual</td>\n",
       "      <td>94</td>\n",
       "      <td>Other</td>\n",
       "      <td>50000</td>\n",
       "      <td>7</td>\n",
       "      <td>petrol</td>\n",
       "      <td>subaru</td>\n",
       "      <td>No</td>\n",
       "      <td>03-04-2016 00:00</td>\n",
       "      <td>0</td>\n",
       "      <td>34474</td>\n",
       "      <td>07-04-2016 13:15</td>\n",
       "    </tr>\n",
       "    <tr>\n",
       "      <th>1</th>\n",
       "      <td>2</td>\n",
       "      <td>08-03-2016 19:54</td>\n",
       "      <td>Volkswagen_Passat_Variant_2.0_TDI_DPF_Comfortline</td>\n",
       "      <td>private</td>\n",
       "      <td>offer</td>\n",
       "      <td>5999</td>\n",
       "      <td>Combi</td>\n",
       "      <td>2007</td>\n",
       "      <td>manual</td>\n",
       "      <td>140</td>\n",
       "      <td>passat</td>\n",
       "      <td>150000</td>\n",
       "      <td>5</td>\n",
       "      <td>diesel</td>\n",
       "      <td>volkswagen</td>\n",
       "      <td>No</td>\n",
       "      <td>08-03-2016 00:00</td>\n",
       "      <td>0</td>\n",
       "      <td>50765</td>\n",
       "      <td>11-03-2016 17:15</td>\n",
       "    </tr>\n",
       "    <tr>\n",
       "      <th>2</th>\n",
       "      <td>3</td>\n",
       "      <td>26-03-2016 17:38</td>\n",
       "      <td>Mercedes_Benz_C_220_CDI_Automatik_Elegance_AHK...</td>\n",
       "      <td>private</td>\n",
       "      <td>offer</td>\n",
       "      <td>5990</td>\n",
       "      <td>limousine</td>\n",
       "      <td>2007</td>\n",
       "      <td>automatic</td>\n",
       "      <td>150</td>\n",
       "      <td>c_klasse</td>\n",
       "      <td>150000</td>\n",
       "      <td>2</td>\n",
       "      <td>diesel</td>\n",
       "      <td>mercedes_benz</td>\n",
       "      <td>No</td>\n",
       "      <td>26-03-2016 00:00</td>\n",
       "      <td>0</td>\n",
       "      <td>90475</td>\n",
       "      <td>26-03-2016 17:38</td>\n",
       "    </tr>\n",
       "    <tr>\n",
       "      <th>3</th>\n",
       "      <td>4</td>\n",
       "      <td>11-03-2016 13:42</td>\n",
       "      <td>Alfa_Romeo_147_1.9_JTD_16V_M_Jet</td>\n",
       "      <td>private</td>\n",
       "      <td>offer</td>\n",
       "      <td>4000</td>\n",
       "      <td>limousine</td>\n",
       "      <td>2005</td>\n",
       "      <td>manual</td>\n",
       "      <td>150</td>\n",
       "      <td>147</td>\n",
       "      <td>150000</td>\n",
       "      <td>9</td>\n",
       "      <td>diesel</td>\n",
       "      <td>alfa_romeo</td>\n",
       "      <td>No</td>\n",
       "      <td>11-03-2016 00:00</td>\n",
       "      <td>0</td>\n",
       "      <td>40699</td>\n",
       "      <td>12-03-2016 02:45</td>\n",
       "    </tr>\n",
       "    <tr>\n",
       "      <th>4</th>\n",
       "      <td>5</td>\n",
       "      <td>17-03-2016 17:49</td>\n",
       "      <td>Audi_A4</td>\n",
       "      <td>private</td>\n",
       "      <td>offer</td>\n",
       "      <td>12950</td>\n",
       "      <td>Combi</td>\n",
       "      <td>2005</td>\n",
       "      <td>manual</td>\n",
       "      <td>200</td>\n",
       "      <td>a4</td>\n",
       "      <td>125000</td>\n",
       "      <td>3</td>\n",
       "      <td>petrol</td>\n",
       "      <td>audi</td>\n",
       "      <td>No</td>\n",
       "      <td>17-03-2016 00:00</td>\n",
       "      <td>0</td>\n",
       "      <td>84347</td>\n",
       "      <td>07-04-2016 04:17</td>\n",
       "    </tr>\n",
       "  </tbody>\n",
       "</table>\n",
       "</div>"
      ],
      "text/plain": [
       "   VehicleID DataCollectedDate  \\\n",
       "0          1  03-04-2016 11:54   \n",
       "1          2  08-03-2016 19:54   \n",
       "2          3  26-03-2016 17:38   \n",
       "3          4  11-03-2016 13:42   \n",
       "4          5  17-03-2016 17:49   \n",
       "\n",
       "                                    NameOfTheVehicle SellerType OfferType  \\\n",
       "0                               Subaru_G3X_Justy_1.3    private     offer   \n",
       "1  Volkswagen_Passat_Variant_2.0_TDI_DPF_Comfortline    private     offer   \n",
       "2  Mercedes_Benz_C_220_CDI_Automatik_Elegance_AHK...    private     offer   \n",
       "3                   Alfa_Romeo_147_1.9_JTD_16V_M_Jet    private     offer   \n",
       "4                                            Audi_A4    private     offer   \n",
       "\n",
       "   Price VehicleType  YearOfVehicleRegistration GearBoxType  PowerOfTheEngine  \\\n",
       "0   3850   Small Car                       2004      manual                94   \n",
       "1   5999       Combi                       2007      manual               140   \n",
       "2   5990   limousine                       2007   automatic               150   \n",
       "3   4000   limousine                       2005      manual               150   \n",
       "4  12950       Combi                       2005      manual               200   \n",
       "\n",
       "  ModelOfTheVehicle  DistranceTravelled  MonthOfVehicleRegistration  \\\n",
       "0             Other               50000                           7   \n",
       "1            passat              150000                           5   \n",
       "2          c_klasse              150000                           2   \n",
       "3               147              150000                           9   \n",
       "4                a4              125000                           3   \n",
       "\n",
       "  TypeOfTheFuelUsed BrandOfTheVehicle IsDamageRepaired  DateOfAdCreation  \\\n",
       "0            petrol            subaru               No  03-04-2016 00:00   \n",
       "1            diesel        volkswagen               No  08-03-2016 00:00   \n",
       "2            diesel     mercedes_benz               No  26-03-2016 00:00   \n",
       "3            diesel        alfa_romeo               No  11-03-2016 00:00   \n",
       "4            petrol              audi               No  17-03-2016 00:00   \n",
       "\n",
       "   NumberOfPictures  ZipCode  DateOfAdLastSeen  \n",
       "0                 0    34474  07-04-2016 13:15  \n",
       "1                 0    50765  11-03-2016 17:15  \n",
       "2                 0    90475  26-03-2016 17:38  \n",
       "3                 0    40699  12-03-2016 02:45  \n",
       "4                 0    84347  07-04-2016 04:17  "
      ]
     },
     "execution_count": 759,
     "metadata": {},
     "output_type": "execute_result"
    }
   ],
   "source": [
    "train.head()"
   ]
  },
  {
   "cell_type": "code",
   "execution_count": 760,
   "metadata": {},
   "outputs": [
    {
     "data": {
      "text/plain": [
       "VehicleID                      int64\n",
       "DataCollectedDate             object\n",
       "NameOfTheVehicle              object\n",
       "SellerType                    object\n",
       "OfferType                     object\n",
       "Price                          int64\n",
       "VehicleType                   object\n",
       "YearOfVehicleRegistration      int64\n",
       "GearBoxType                   object\n",
       "PowerOfTheEngine               int64\n",
       "ModelOfTheVehicle             object\n",
       "DistranceTravelled             int64\n",
       "MonthOfVehicleRegistration     int64\n",
       "TypeOfTheFuelUsed             object\n",
       "BrandOfTheVehicle             object\n",
       "IsDamageRepaired              object\n",
       "DateOfAdCreation              object\n",
       "NumberOfPictures               int64\n",
       "ZipCode                        int64\n",
       "DateOfAdLastSeen              object\n",
       "dtype: object"
      ]
     },
     "execution_count": 760,
     "metadata": {},
     "output_type": "execute_result"
    }
   ],
   "source": [
    "train.dtypes\n"
   ]
  },
  {
   "cell_type": "code",
   "execution_count": 761,
   "metadata": {
    "scrolled": false
   },
   "outputs": [],
   "source": [
    "#dates are not parsed... lets make sure they are treated as dates.\n",
    "date_columns = [\"DateOfAdCreation\", \"DateOfAdLastSeen\"]\n",
    "# A date looks like => \"2016-04-07 03:16:57\"\n",
    "dateparse = lambda x: pd.datetime.strptime(x, '%d-%m-%Y %H:%M')\n",
    "train = pd.read_csv(\"TrainData.csv\", parse_dates=date_columns, date_parser=dateparse, encoding='cp1252')"
   ]
  },
  {
   "cell_type": "code",
   "execution_count": 762,
   "metadata": {},
   "outputs": [
    {
     "data": {
      "text/plain": [
       "VehicleID                              int64\n",
       "DataCollectedDate                     object\n",
       "NameOfTheVehicle                      object\n",
       "SellerType                            object\n",
       "OfferType                             object\n",
       "Price                                  int64\n",
       "VehicleType                           object\n",
       "YearOfVehicleRegistration              int64\n",
       "GearBoxType                           object\n",
       "PowerOfTheEngine                       int64\n",
       "ModelOfTheVehicle                     object\n",
       "DistranceTravelled                     int64\n",
       "MonthOfVehicleRegistration             int64\n",
       "TypeOfTheFuelUsed                     object\n",
       "BrandOfTheVehicle                     object\n",
       "IsDamageRepaired                      object\n",
       "DateOfAdCreation              datetime64[ns]\n",
       "NumberOfPictures                       int64\n",
       "ZipCode                                int64\n",
       "DateOfAdLastSeen              datetime64[ns]\n",
       "dtype: object"
      ]
     },
     "execution_count": 762,
     "metadata": {},
     "output_type": "execute_result"
    }
   ],
   "source": [
    "train.dtypes"
   ]
  },
  {
   "cell_type": "code",
   "execution_count": 763,
   "metadata": {},
   "outputs": [
    {
     "data": {
      "text/html": [
       "<div>\n",
       "<style scoped>\n",
       "    .dataframe tbody tr th:only-of-type {\n",
       "        vertical-align: middle;\n",
       "    }\n",
       "\n",
       "    .dataframe tbody tr th {\n",
       "        vertical-align: top;\n",
       "    }\n",
       "\n",
       "    .dataframe thead th {\n",
       "        text-align: right;\n",
       "    }\n",
       "</style>\n",
       "<table border=\"1\" class=\"dataframe\">\n",
       "  <thead>\n",
       "    <tr style=\"text-align: right;\">\n",
       "      <th></th>\n",
       "      <th>VehicleID</th>\n",
       "      <th>DataCollectedDate</th>\n",
       "      <th>NameOfTheVehicle</th>\n",
       "      <th>SellerType</th>\n",
       "      <th>OfferType</th>\n",
       "      <th>Price</th>\n",
       "      <th>VehicleType</th>\n",
       "      <th>YearOfVehicleRegistration</th>\n",
       "      <th>GearBoxType</th>\n",
       "      <th>PowerOfTheEngine</th>\n",
       "      <th>ModelOfTheVehicle</th>\n",
       "      <th>DistranceTravelled</th>\n",
       "      <th>MonthOfVehicleRegistration</th>\n",
       "      <th>TypeOfTheFuelUsed</th>\n",
       "      <th>BrandOfTheVehicle</th>\n",
       "      <th>IsDamageRepaired</th>\n",
       "      <th>DateOfAdCreation</th>\n",
       "      <th>NumberOfPictures</th>\n",
       "      <th>ZipCode</th>\n",
       "      <th>DateOfAdLastSeen</th>\n",
       "    </tr>\n",
       "  </thead>\n",
       "  <tbody>\n",
       "    <tr>\n",
       "      <th>0</th>\n",
       "      <td>1</td>\n",
       "      <td>03-04-2016 11:54</td>\n",
       "      <td>Subaru_G3X_Justy_1.3</td>\n",
       "      <td>private</td>\n",
       "      <td>offer</td>\n",
       "      <td>3850</td>\n",
       "      <td>Small Car</td>\n",
       "      <td>2004</td>\n",
       "      <td>manual</td>\n",
       "      <td>94</td>\n",
       "      <td>Other</td>\n",
       "      <td>50000</td>\n",
       "      <td>7</td>\n",
       "      <td>petrol</td>\n",
       "      <td>subaru</td>\n",
       "      <td>No</td>\n",
       "      <td>2016-04-03</td>\n",
       "      <td>0</td>\n",
       "      <td>34474</td>\n",
       "      <td>2016-04-07 13:15:00</td>\n",
       "    </tr>\n",
       "    <tr>\n",
       "      <th>1</th>\n",
       "      <td>2</td>\n",
       "      <td>08-03-2016 19:54</td>\n",
       "      <td>Volkswagen_Passat_Variant_2.0_TDI_DPF_Comfortline</td>\n",
       "      <td>private</td>\n",
       "      <td>offer</td>\n",
       "      <td>5999</td>\n",
       "      <td>Combi</td>\n",
       "      <td>2007</td>\n",
       "      <td>manual</td>\n",
       "      <td>140</td>\n",
       "      <td>passat</td>\n",
       "      <td>150000</td>\n",
       "      <td>5</td>\n",
       "      <td>diesel</td>\n",
       "      <td>volkswagen</td>\n",
       "      <td>No</td>\n",
       "      <td>2016-03-08</td>\n",
       "      <td>0</td>\n",
       "      <td>50765</td>\n",
       "      <td>2016-03-11 17:15:00</td>\n",
       "    </tr>\n",
       "    <tr>\n",
       "      <th>2</th>\n",
       "      <td>3</td>\n",
       "      <td>26-03-2016 17:38</td>\n",
       "      <td>Mercedes_Benz_C_220_CDI_Automatik_Elegance_AHK...</td>\n",
       "      <td>private</td>\n",
       "      <td>offer</td>\n",
       "      <td>5990</td>\n",
       "      <td>limousine</td>\n",
       "      <td>2007</td>\n",
       "      <td>automatic</td>\n",
       "      <td>150</td>\n",
       "      <td>c_klasse</td>\n",
       "      <td>150000</td>\n",
       "      <td>2</td>\n",
       "      <td>diesel</td>\n",
       "      <td>mercedes_benz</td>\n",
       "      <td>No</td>\n",
       "      <td>2016-03-26</td>\n",
       "      <td>0</td>\n",
       "      <td>90475</td>\n",
       "      <td>2016-03-26 17:38:00</td>\n",
       "    </tr>\n",
       "    <tr>\n",
       "      <th>3</th>\n",
       "      <td>4</td>\n",
       "      <td>11-03-2016 13:42</td>\n",
       "      <td>Alfa_Romeo_147_1.9_JTD_16V_M_Jet</td>\n",
       "      <td>private</td>\n",
       "      <td>offer</td>\n",
       "      <td>4000</td>\n",
       "      <td>limousine</td>\n",
       "      <td>2005</td>\n",
       "      <td>manual</td>\n",
       "      <td>150</td>\n",
       "      <td>147</td>\n",
       "      <td>150000</td>\n",
       "      <td>9</td>\n",
       "      <td>diesel</td>\n",
       "      <td>alfa_romeo</td>\n",
       "      <td>No</td>\n",
       "      <td>2016-03-11</td>\n",
       "      <td>0</td>\n",
       "      <td>40699</td>\n",
       "      <td>2016-03-12 02:45:00</td>\n",
       "    </tr>\n",
       "    <tr>\n",
       "      <th>4</th>\n",
       "      <td>5</td>\n",
       "      <td>17-03-2016 17:49</td>\n",
       "      <td>Audi_A4</td>\n",
       "      <td>private</td>\n",
       "      <td>offer</td>\n",
       "      <td>12950</td>\n",
       "      <td>Combi</td>\n",
       "      <td>2005</td>\n",
       "      <td>manual</td>\n",
       "      <td>200</td>\n",
       "      <td>a4</td>\n",
       "      <td>125000</td>\n",
       "      <td>3</td>\n",
       "      <td>petrol</td>\n",
       "      <td>audi</td>\n",
       "      <td>No</td>\n",
       "      <td>2016-03-17</td>\n",
       "      <td>0</td>\n",
       "      <td>84347</td>\n",
       "      <td>2016-04-07 04:17:00</td>\n",
       "    </tr>\n",
       "  </tbody>\n",
       "</table>\n",
       "</div>"
      ],
      "text/plain": [
       "   VehicleID DataCollectedDate  \\\n",
       "0          1  03-04-2016 11:54   \n",
       "1          2  08-03-2016 19:54   \n",
       "2          3  26-03-2016 17:38   \n",
       "3          4  11-03-2016 13:42   \n",
       "4          5  17-03-2016 17:49   \n",
       "\n",
       "                                    NameOfTheVehicle SellerType OfferType  \\\n",
       "0                               Subaru_G3X_Justy_1.3    private     offer   \n",
       "1  Volkswagen_Passat_Variant_2.0_TDI_DPF_Comfortline    private     offer   \n",
       "2  Mercedes_Benz_C_220_CDI_Automatik_Elegance_AHK...    private     offer   \n",
       "3                   Alfa_Romeo_147_1.9_JTD_16V_M_Jet    private     offer   \n",
       "4                                            Audi_A4    private     offer   \n",
       "\n",
       "   Price VehicleType  YearOfVehicleRegistration GearBoxType  PowerOfTheEngine  \\\n",
       "0   3850   Small Car                       2004      manual                94   \n",
       "1   5999       Combi                       2007      manual               140   \n",
       "2   5990   limousine                       2007   automatic               150   \n",
       "3   4000   limousine                       2005      manual               150   \n",
       "4  12950       Combi                       2005      manual               200   \n",
       "\n",
       "  ModelOfTheVehicle  DistranceTravelled  MonthOfVehicleRegistration  \\\n",
       "0             Other               50000                           7   \n",
       "1            passat              150000                           5   \n",
       "2          c_klasse              150000                           2   \n",
       "3               147              150000                           9   \n",
       "4                a4              125000                           3   \n",
       "\n",
       "  TypeOfTheFuelUsed BrandOfTheVehicle IsDamageRepaired DateOfAdCreation  \\\n",
       "0            petrol            subaru               No       2016-04-03   \n",
       "1            diesel        volkswagen               No       2016-03-08   \n",
       "2            diesel     mercedes_benz               No       2016-03-26   \n",
       "3            diesel        alfa_romeo               No       2016-03-11   \n",
       "4            petrol              audi               No       2016-03-17   \n",
       "\n",
       "   NumberOfPictures  ZipCode    DateOfAdLastSeen  \n",
       "0                 0    34474 2016-04-07 13:15:00  \n",
       "1                 0    50765 2016-03-11 17:15:00  \n",
       "2                 0    90475 2016-03-26 17:38:00  \n",
       "3                 0    40699 2016-03-12 02:45:00  \n",
       "4                 0    84347 2016-04-07 04:17:00  "
      ]
     },
     "execution_count": 763,
     "metadata": {},
     "output_type": "execute_result"
    }
   ],
   "source": [
    "train.head()"
   ]
  },
  {
   "cell_type": "code",
   "execution_count": 764,
   "metadata": {},
   "outputs": [
    {
     "data": {
      "text/html": [
       "<div>\n",
       "<style scoped>\n",
       "    .dataframe tbody tr th:only-of-type {\n",
       "        vertical-align: middle;\n",
       "    }\n",
       "\n",
       "    .dataframe tbody tr th {\n",
       "        vertical-align: top;\n",
       "    }\n",
       "\n",
       "    .dataframe thead th {\n",
       "        text-align: right;\n",
       "    }\n",
       "</style>\n",
       "<table border=\"1\" class=\"dataframe\">\n",
       "  <thead>\n",
       "    <tr style=\"text-align: right;\">\n",
       "      <th></th>\n",
       "      <th>VehicleID</th>\n",
       "      <th>Price</th>\n",
       "      <th>YearOfVehicleRegistration</th>\n",
       "      <th>PowerOfTheEngine</th>\n",
       "      <th>DistranceTravelled</th>\n",
       "      <th>MonthOfVehicleRegistration</th>\n",
       "      <th>NumberOfPictures</th>\n",
       "      <th>ZipCode</th>\n",
       "    </tr>\n",
       "  </thead>\n",
       "  <tbody>\n",
       "    <tr>\n",
       "      <th>count</th>\n",
       "      <td>58857.000000</td>\n",
       "      <td>58857.000000</td>\n",
       "      <td>58857.000000</td>\n",
       "      <td>58857.000000</td>\n",
       "      <td>58857.000000</td>\n",
       "      <td>58857.000000</td>\n",
       "      <td>58857.0</td>\n",
       "      <td>58857.000000</td>\n",
       "    </tr>\n",
       "    <tr>\n",
       "      <th>mean</th>\n",
       "      <td>29429.000000</td>\n",
       "      <td>7638.980971</td>\n",
       "      <td>2006.286457</td>\n",
       "      <td>130.013473</td>\n",
       "      <td>120146.626569</td>\n",
       "      <td>6.217442</td>\n",
       "      <td>0.0</td>\n",
       "      <td>51941.873881</td>\n",
       "    </tr>\n",
       "    <tr>\n",
       "      <th>std</th>\n",
       "      <td>16990.696734</td>\n",
       "      <td>6710.787043</td>\n",
       "      <td>4.016998</td>\n",
       "      <td>178.318088</td>\n",
       "      <td>41188.999160</td>\n",
       "      <td>3.458960</td>\n",
       "      <td>0.0</td>\n",
       "      <td>25639.658736</td>\n",
       "    </tr>\n",
       "    <tr>\n",
       "      <th>min</th>\n",
       "      <td>1.000000</td>\n",
       "      <td>1001.000000</td>\n",
       "      <td>2000.000000</td>\n",
       "      <td>1.000000</td>\n",
       "      <td>5000.000000</td>\n",
       "      <td>1.000000</td>\n",
       "      <td>0.0</td>\n",
       "      <td>1067.000000</td>\n",
       "    </tr>\n",
       "    <tr>\n",
       "      <th>25%</th>\n",
       "      <td>14715.000000</td>\n",
       "      <td>2850.000000</td>\n",
       "      <td>2003.000000</td>\n",
       "      <td>86.000000</td>\n",
       "      <td>90000.000000</td>\n",
       "      <td>3.000000</td>\n",
       "      <td>0.0</td>\n",
       "      <td>31675.000000</td>\n",
       "    </tr>\n",
       "    <tr>\n",
       "      <th>50%</th>\n",
       "      <td>29429.000000</td>\n",
       "      <td>5400.000000</td>\n",
       "      <td>2006.000000</td>\n",
       "      <td>121.000000</td>\n",
       "      <td>150000.000000</td>\n",
       "      <td>6.000000</td>\n",
       "      <td>0.0</td>\n",
       "      <td>51067.000000</td>\n",
       "    </tr>\n",
       "    <tr>\n",
       "      <th>75%</th>\n",
       "      <td>44143.000000</td>\n",
       "      <td>9999.000000</td>\n",
       "      <td>2009.000000</td>\n",
       "      <td>163.000000</td>\n",
       "      <td>150000.000000</td>\n",
       "      <td>9.000000</td>\n",
       "      <td>0.0</td>\n",
       "      <td>72760.000000</td>\n",
       "    </tr>\n",
       "    <tr>\n",
       "      <th>max</th>\n",
       "      <td>58857.000000</td>\n",
       "      <td>39800.000000</td>\n",
       "      <td>2016.000000</td>\n",
       "      <td>19211.000000</td>\n",
       "      <td>150000.000000</td>\n",
       "      <td>12.000000</td>\n",
       "      <td>0.0</td>\n",
       "      <td>99998.000000</td>\n",
       "    </tr>\n",
       "  </tbody>\n",
       "</table>\n",
       "</div>"
      ],
      "text/plain": [
       "          VehicleID         Price  YearOfVehicleRegistration  \\\n",
       "count  58857.000000  58857.000000               58857.000000   \n",
       "mean   29429.000000   7638.980971                2006.286457   \n",
       "std    16990.696734   6710.787043                   4.016998   \n",
       "min        1.000000   1001.000000                2000.000000   \n",
       "25%    14715.000000   2850.000000                2003.000000   \n",
       "50%    29429.000000   5400.000000                2006.000000   \n",
       "75%    44143.000000   9999.000000                2009.000000   \n",
       "max    58857.000000  39800.000000                2016.000000   \n",
       "\n",
       "       PowerOfTheEngine  DistranceTravelled  MonthOfVehicleRegistration  \\\n",
       "count      58857.000000        58857.000000                58857.000000   \n",
       "mean         130.013473       120146.626569                    6.217442   \n",
       "std          178.318088        41188.999160                    3.458960   \n",
       "min            1.000000         5000.000000                    1.000000   \n",
       "25%           86.000000        90000.000000                    3.000000   \n",
       "50%          121.000000       150000.000000                    6.000000   \n",
       "75%          163.000000       150000.000000                    9.000000   \n",
       "max        19211.000000       150000.000000                   12.000000   \n",
       "\n",
       "       NumberOfPictures       ZipCode  \n",
       "count           58857.0  58857.000000  \n",
       "mean                0.0  51941.873881  \n",
       "std                 0.0  25639.658736  \n",
       "min                 0.0   1067.000000  \n",
       "25%                 0.0  31675.000000  \n",
       "50%                 0.0  51067.000000  \n",
       "75%                 0.0  72760.000000  \n",
       "max                 0.0  99998.000000  "
      ]
     },
     "execution_count": 764,
     "metadata": {},
     "output_type": "execute_result"
    }
   ],
   "source": [
    "train.describe()"
   ]
  },
  {
   "cell_type": "code",
   "execution_count": 765,
   "metadata": {},
   "outputs": [],
   "source": [
    "# The NumberOfPictures column is useless, as it is always 0.\n",
    "# The Zipcode might not be of much value.\n",
    "# monthOfRegistration: Values seem correc\n"
   ]
  },
  {
   "cell_type": "code",
   "execution_count": 766,
   "metadata": {},
   "outputs": [],
   "source": [
    "# Cleaning the data\n",
    "train = train.drop(['NumberOfPictures','ZipCode','MonthOfVehicleRegistration'],axis=1)"
   ]
  },
  {
   "cell_type": "code",
   "execution_count": 767,
   "metadata": {},
   "outputs": [
    {
     "data": {
      "text/plain": [
       "{5000,\n",
       " 10000,\n",
       " 20000,\n",
       " 30000,\n",
       " 40000,\n",
       " 50000,\n",
       " 60000,\n",
       " 70000,\n",
       " 80000,\n",
       " 90000,\n",
       " 100000,\n",
       " 125000,\n",
       " 150000}"
      ]
     },
     "execution_count": 767,
     "metadata": {},
     "output_type": "execute_result"
    }
   ],
   "source": [
    "# Lets also check how many DIFFERENT values we have there...\n",
    "set(train[\"DistranceTravelled\"])"
   ]
  },
  {
   "cell_type": "code",
   "execution_count": 768,
   "metadata": {},
   "outputs": [
    {
     "data": {
      "text/plain": [
       "count    58857.000000\n",
       "mean       130.013473\n",
       "std        178.318088\n",
       "min          1.000000\n",
       "25%         86.000000\n",
       "50%        121.000000\n",
       "75%        163.000000\n",
       "max      19211.000000\n",
       "Name: PowerOfTheEngine, dtype: float64"
      ]
     },
     "execution_count": 768,
     "metadata": {},
     "output_type": "execute_result"
    }
   ],
   "source": [
    "#Cleaning the PowerOfTheEngine column\n",
    "train[\"PowerOfTheEngine\"].describe()"
   ]
  },
  {
   "cell_type": "code",
   "execution_count": 769,
   "metadata": {},
   "outputs": [
    {
     "name": "stdout",
     "output_type": "stream",
     "text": [
      "Size before removing cars with 1 power 58857\n"
     ]
    }
   ],
   "source": [
    "#  It is obvious, we cannot have cars with one power, so lets get rid of them\n",
    "print(\"Size before removing cars with 1 power\", len(train))"
   ]
  },
  {
   "cell_type": "code",
   "execution_count": 770,
   "metadata": {},
   "outputs": [],
   "source": [
    "train = train[train[\"PowerOfTheEngine\"] > 1]"
   ]
  },
  {
   "cell_type": "code",
   "execution_count": 771,
   "metadata": {},
   "outputs": [
    {
     "name": "stdout",
     "output_type": "stream",
     "text": [
      "Size after removing cars with 1 power 55500\n"
     ]
    }
   ],
   "source": [
    "print(\"Size after removing cars with 1 power\", len(train))"
   ]
  },
  {
   "cell_type": "code",
   "execution_count": 772,
   "metadata": {},
   "outputs": [
    {
     "name": "stdout",
     "output_type": "stream",
     "text": [
      "Size after removing cars with less than 60hp 53621\n"
     ]
    }
   ],
   "source": [
    "train = train[train[\"PowerOfTheEngine\"] >= 60]\n",
    "print(\"Size after removing cars with less than 60hp\", len(train))"
   ]
  },
  {
   "cell_type": "code",
   "execution_count": 773,
   "metadata": {},
   "outputs": [
    {
     "name": "stdout",
     "output_type": "stream",
     "text": [
      "Size after removing cars with more than 1000hp 53588\n"
     ]
    }
   ],
   "source": [
    "train = train[train[\"PowerOfTheEngine\"] <= 1000]\n",
    "print(\"Size after removing cars with more than 1000hp\", len(train))"
   ]
  },
  {
   "cell_type": "code",
   "execution_count": 774,
   "metadata": {},
   "outputs": [
    {
     "data": {
      "text/plain": [
       "<matplotlib.axes._subplots.AxesSubplot at 0x223a8857550>"
      ]
     },
     "execution_count": 774,
     "metadata": {},
     "output_type": "execute_result"
    },
    {
     "data": {
      "image/png": "[encoded data removed]",
      "text/plain": [
       "<Figure size 1080x504 with 1 Axes>"
      ]
     },
     "metadata": {},
     "output_type": "display_data"
    }
   ],
   "source": [
    "train.plot(y=\"PowerOfTheEngine\", kind='hist', bins=25, figsize=(15, 7), title='Poweer of engine for cars')"
   ]
  },
  {
   "cell_type": "code",
   "execution_count": 775,
   "metadata": {},
   "outputs": [],
   "source": [
    "meanT_POWER = train[\"PowerOfTheEngine\"].mean()"
   ]
  },
  {
   "cell_type": "code",
   "execution_count": 776,
   "metadata": {},
   "outputs": [
    {
     "data": {
      "text/plain": [
       "count    53588.000000\n",
       "mean      2006.429667\n",
       "std          3.988352\n",
       "min       2000.000000\n",
       "25%       2003.000000\n",
       "50%       2006.000000\n",
       "75%       2009.000000\n",
       "max       2016.000000\n",
       "Name: YearOfVehicleRegistration, dtype: float64"
      ]
     },
     "execution_count": 776,
     "metadata": {},
     "output_type": "execute_result"
    }
   ],
   "source": [
    "train[\"YearOfVehicleRegistration\"].describe()"
   ]
  },
  {
   "cell_type": "code",
   "execution_count": 777,
   "metadata": {},
   "outputs": [
    {
     "data": {
      "text/plain": [
       "Timestamp('2016-04-07 00:00:00')"
      ]
     },
     "execution_count": 777,
     "metadata": {},
     "output_type": "execute_result"
    }
   ],
   "source": [
    "max(train[\"DateOfAdCreation\"])"
   ]
  },
  {
   "cell_type": "code",
   "execution_count": 778,
   "metadata": {},
   "outputs": [
    {
     "name": "stdout",
     "output_type": "stream",
     "text": [
      "Rows after removing cars whose registration was AFTER 2016 =>  53588\n"
     ]
    }
   ],
   "source": [
    "train = train[train[\"YearOfVehicleRegistration\"] <= 2016]\n",
    "print(\"Rows after removing cars whose registration was AFTER 2016 => \", len(train))"
   ]
  },
  {
   "cell_type": "code",
   "execution_count": 779,
   "metadata": {},
   "outputs": [
    {
     "data": {
      "text/plain": [
       "count    53588.000000\n",
       "mean      8015.459692\n",
       "std       6806.297491\n",
       "min       1001.000000\n",
       "25%       3046.750000\n",
       "50%       5847.000000\n",
       "75%      10600.000000\n",
       "max      39800.000000\n",
       "Name: Price, dtype: float64"
      ]
     },
     "execution_count": 779,
     "metadata": {},
     "output_type": "execute_result"
    }
   ],
   "source": [
    "train[\"Price\"].describe()\n"
   ]
  },
  {
   "cell_type": "code",
   "execution_count": 780,
   "metadata": {},
   "outputs": [],
   "source": [
    "del train[\"NameOfTheVehicle\"]"
   ]
  },
  {
   "cell_type": "code",
   "execution_count": 781,
   "metadata": {},
   "outputs": [
    {
     "data": {
      "text/plain": [
       "{'private'}"
      ]
     },
     "execution_count": 781,
     "metadata": {},
     "output_type": "execute_result"
    }
   ],
   "source": [
    "set(train[\"SellerType\"])"
   ]
  },
  {
   "cell_type": "code",
   "execution_count": 782,
   "metadata": {},
   "outputs": [],
   "source": [
    "del train[\"SellerType\"]"
   ]
  },
  {
   "cell_type": "code",
   "execution_count": 783,
   "metadata": {},
   "outputs": [
    {
     "data": {
      "text/plain": [
       "{'offer'}"
      ]
     },
     "execution_count": 783,
     "metadata": {},
     "output_type": "execute_result"
    }
   ],
   "source": [
    "set(train[\"OfferType\"])"
   ]
  },
  {
   "cell_type": "code",
   "execution_count": 784,
   "metadata": {},
   "outputs": [],
   "source": [
    "del train[\"OfferType\"]\n"
   ]
  },
  {
   "cell_type": "code",
   "execution_count": 785,
   "metadata": {},
   "outputs": [
    {
     "data": {
      "text/plain": [
       "<matplotlib.axes._subplots.AxesSubplot at 0x223a9c8f550>"
      ]
     },
     "execution_count": 785,
     "metadata": {},
     "output_type": "execute_result"
    },
    {
     "data": {
      "image/png": "[encoded data removed]",
      "text/plain": [
       "<Figure size 432x288 with 1 Axes>"
      ]
     },
     "metadata": {},
     "output_type": "display_data"
    }
   ],
   "source": [
    "train[\"VehicleType\"].value_counts().plot(kind='bar', title=\"cars by type\")"
   ]
  },
  {
   "cell_type": "code",
   "execution_count": 786,
   "metadata": {},
   "outputs": [
    {
     "name": "stdout",
     "output_type": "stream",
     "text": [
      "Rows without a vehicle type 1193\n",
      "Total number of rows 53588\n"
     ]
    }
   ],
   "source": [
    "print(\"Rows without a vehicle type\", train[\"VehicleType\"].isna().sum())\n",
    "print(\"Total number of rows\", len(train))"
   ]
  },
  {
   "cell_type": "code",
   "execution_count": 787,
   "metadata": {},
   "outputs": [
    {
     "name": "stdout",
     "output_type": "stream",
     "text": [
      "Rows before droping cars without type 53588\n",
      "Rows after droping cars without type 52395\n"
     ]
    }
   ],
   "source": [
    "print(\"Rows before droping cars without type\", len(train))\n",
    "train =train.dropna(subset=[\"VehicleType\"])\n",
    "print(\"Rows after droping cars without type\", len(train))"
   ]
  },
  {
   "cell_type": "code",
   "execution_count": 788,
   "metadata": {},
   "outputs": [
    {
     "data": {
      "text/plain": [
       "VehicleID                             int64\n",
       "DataCollectedDate                    object\n",
       "Price                                 int64\n",
       "VehicleType                          object\n",
       "YearOfVehicleRegistration             int64\n",
       "GearBoxType                          object\n",
       "PowerOfTheEngine                      int64\n",
       "ModelOfTheVehicle                    object\n",
       "DistranceTravelled                    int64\n",
       "TypeOfTheFuelUsed                    object\n",
       "BrandOfTheVehicle                    object\n",
       "IsDamageRepaired                     object\n",
       "DateOfAdCreation             datetime64[ns]\n",
       "DateOfAdLastSeen             datetime64[ns]\n",
       "dtype: object"
      ]
     },
     "execution_count": 788,
     "metadata": {},
     "output_type": "execute_result"
    }
   ],
   "source": [
    "train.dtypes\n"
   ]
  },
  {
   "cell_type": "code",
   "execution_count": 789,
   "metadata": {},
   "outputs": [],
   "source": [
    "for col in train.columns:\n",
    "   if (train[col].dtype == \"object\"):\n",
    "       train[col] = train[col].astype('category')\n",
    "\n",
    "for col in train.columns:\n",
    "   if (train[col].dtype == np.float64):\n",
    "       train[col] = train[col].fillna(0).astype(np.int64)\n",
    "    \n",
    "for col in test.columns:\n",
    "   if (test[col].dtype == \"object\"):\n",
    "       test[col] = test[col].astype('category')\n",
    "        \n",
    "for col in test.columns:\n",
    "   if (test[col].dtype == np.float64):\n",
    "       test[col] = test[col].fillna(0).astype(np.int64)"
   ]
  },
  {
   "cell_type": "code",
   "execution_count": 790,
   "metadata": {},
   "outputs": [
    {
     "name": "stdout",
     "output_type": "stream",
     "text": [
      "<class 'pandas.core.frame.DataFrame'>\n",
      "Int64Index: 52395 entries, 0 to 58856\n",
      "Data columns (total 14 columns):\n",
      "VehicleID                    52395 non-null int64\n",
      "DataCollectedDate            52395 non-null category\n",
      "Price                        52395 non-null int64\n",
      "VehicleType                  52395 non-null category\n",
      "YearOfVehicleRegistration    52395 non-null int64\n",
      "GearBoxType                  51887 non-null category\n",
      "PowerOfTheEngine             52395 non-null int64\n",
      "ModelOfTheVehicle            52395 non-null category\n",
      "DistranceTravelled           52395 non-null int64\n",
      "TypeOfTheFuelUsed            51348 non-null category\n",
      "BrandOfTheVehicle            52395 non-null category\n",
      "IsDamageRepaired             47808 non-null category\n",
      "DateOfAdCreation             52395 non-null datetime64[ns]\n",
      "DateOfAdLastSeen             52395 non-null datetime64[ns]\n",
      "dtypes: category(7), datetime64[ns](2), int64(5)\n",
      "memory usage: 4.1 MB\n"
     ]
    }
   ],
   "source": [
    "train.info()"
   ]
  },
  {
   "cell_type": "code",
   "execution_count": 791,
   "metadata": {},
   "outputs": [],
   "source": [
    "train =train.dropna(subset=[\"VehicleType\",\"GearBoxType\",\"ModelOfTheVehicle\",\"TypeOfTheFuelUsed\",\"BrandOfTheVehicle\",\"IsDamageRepaired\"])\n",
    "\n"
   ]
  },
  {
   "cell_type": "code",
   "execution_count": null,
   "metadata": {},
   "outputs": [],
   "source": []
  },
  {
   "cell_type": "code",
   "execution_count": 792,
   "metadata": {},
   "outputs": [],
   "source": [
    "del train[\"DataCollectedDate\"]\n",
    "del train[\"VehicleID\"]"
   ]
  },
  {
   "cell_type": "code",
   "execution_count": 793,
   "metadata": {},
   "outputs": [],
   "source": [
    "del train[\"DateOfAdCreation\"]\n",
    "del train['DateOfAdLastSeen']\n",
    "del train[\"ModelOfTheVehicle\"]"
   ]
  },
  {
   "cell_type": "code",
   "execution_count": 794,
   "metadata": {},
   "outputs": [
    {
     "name": "stdout",
     "output_type": "stream",
     "text": [
      "<class 'pandas.core.frame.DataFrame'>\n",
      "Int64Index: 46714 entries, 0 to 58856\n",
      "Data columns (total 9 columns):\n",
      "Price                        46714 non-null int64\n",
      "VehicleType                  46714 non-null category\n",
      "YearOfVehicleRegistration    46714 non-null int64\n",
      "GearBoxType                  46714 non-null category\n",
      "PowerOfTheEngine             46714 non-null int64\n",
      "DistranceTravelled           46714 non-null int64\n",
      "TypeOfTheFuelUsed            46714 non-null category\n",
      "BrandOfTheVehicle            46714 non-null category\n",
      "IsDamageRepaired             46714 non-null category\n",
      "dtypes: category(5), int64(4)\n",
      "memory usage: 2.0 MB\n"
     ]
    }
   ],
   "source": [
    "train.info()"
   ]
  },
  {
   "cell_type": "code",
   "execution_count": 795,
   "metadata": {},
   "outputs": [
    {
     "name": "stdout",
     "output_type": "stream",
     "text": [
      "(46714, 9) (19594, 19)\n"
     ]
    }
   ],
   "source": [
    "print(train.shape, test.shape)"
   ]
  },
  {
   "cell_type": "code",
   "execution_count": 796,
   "metadata": {},
   "outputs": [],
   "source": [
    "train_labels = train.pop('Price')"
   ]
  },
  {
   "cell_type": "code",
   "execution_count": 797,
   "metadata": {},
   "outputs": [],
   "source": [
    "numerical_Attributes_train = train.select_dtypes(exclude=['category']).columns"
   ]
  },
  {
   "cell_type": "code",
   "execution_count": 798,
   "metadata": {},
   "outputs": [],
   "source": [
    "categorical_Attributes_train = train.select_dtypes(include=['category']).columns"
   ]
  },
  {
   "cell_type": "code",
   "execution_count": 799,
   "metadata": {},
   "outputs": [
    {
     "data": {
      "text/plain": [
       "(5,)"
      ]
     },
     "execution_count": 799,
     "metadata": {},
     "output_type": "execute_result"
    }
   ],
   "source": [
    "categorical_Attributes_train.shape"
   ]
  },
  {
   "cell_type": "code",
   "execution_count": 800,
   "metadata": {},
   "outputs": [],
   "source": [
    "categorical_Attributes_test = test.select_dtypes(include=['category']).columns"
   ]
  },
  {
   "cell_type": "code",
   "execution_count": null,
   "metadata": {},
   "outputs": [],
   "source": []
  },
  {
   "cell_type": "code",
   "execution_count": 801,
   "metadata": {},
   "outputs": [
    {
     "name": "stdout",
     "output_type": "stream",
     "text": [
      "(46714, 8) (19594, 19)\n"
     ]
    }
   ],
   "source": [
    "print(train.shape, test.shape)"
   ]
  },
  {
   "cell_type": "code",
   "execution_count": 802,
   "metadata": {},
   "outputs": [],
   "source": [
    "# Data Imputation\n",
    "# Impute missing values with mean Imputation in Train\n",
    "from sklearn.preprocessing import Imputer\n",
    "num_mean_imputer = Imputer(strategy=\"mean\")\n",
    "for cols in numerical_Attributes_train :\n",
    "    train[cols] = num_mean_imputer.fit_transform(train[[cols]])\n",
    " "
   ]
  },
  {
   "cell_type": "code",
   "execution_count": 803,
   "metadata": {},
   "outputs": [
    {
     "name": "stdout",
     "output_type": "stream",
     "text": [
      "<class 'pandas.core.frame.DataFrame'>\n",
      "Int64Index: 46714 entries, 0 to 58856\n",
      "Data columns (total 8 columns):\n",
      "VehicleType                  46714 non-null category\n",
      "YearOfVehicleRegistration    46714 non-null float64\n",
      "GearBoxType                  46714 non-null category\n",
      "PowerOfTheEngine             46714 non-null float64\n",
      "DistranceTravelled           46714 non-null float64\n",
      "TypeOfTheFuelUsed            46714 non-null category\n",
      "BrandOfTheVehicle            46714 non-null category\n",
      "IsDamageRepaired             46714 non-null category\n",
      "dtypes: category(5), float64(3)\n",
      "memory usage: 1.7 MB\n"
     ]
    }
   ],
   "source": [
    "train.info()"
   ]
  },
  {
   "cell_type": "code",
   "execution_count": 804,
   "metadata": {},
   "outputs": [],
   "source": [
    "train = pd.get_dummies(columns=categorical_Attributes_train,data=train,prefix=categorical_Attributes_train,prefix_sep=\"_\",drop_first=True)"
   ]
  },
  {
   "cell_type": "code",
   "execution_count": 805,
   "metadata": {},
   "outputs": [],
   "source": [
    "test = pd.get_dummies(columns=categorical_Attributes_test,data=test,prefix=categorical_Attributes_test,prefix_sep=\"_\",drop_first=True)"
   ]
  },
  {
   "cell_type": "code",
   "execution_count": 806,
   "metadata": {},
   "outputs": [
    {
     "name": "stdout",
     "output_type": "stream",
     "text": [
      "(46714, 55) (19594, 31637)\n"
     ]
    }
   ],
   "source": [
    "print(train.shape, test.shape)"
   ]
  },
  {
   "cell_type": "code",
   "execution_count": 807,
   "metadata": {},
   "outputs": [
    {
     "data": {
      "text/plain": [
       "Index(['YearOfVehicleRegistration', 'PowerOfTheEngine', 'DistranceTravelled',\n",
       "       'VehicleType_Other', 'VehicleType_Small Car', 'VehicleType_bus',\n",
       "       'VehicleType_cabrio', 'VehicleType_coupe', 'VehicleType_limousine',\n",
       "       'VehicleType_suv', 'GearBoxType_manual', 'TypeOfTheFuelUsed_diesel',\n",
       "       'TypeOfTheFuelUsed_electro', 'TypeOfTheFuelUsed_hybrid',\n",
       "       'TypeOfTheFuelUsed_lpg', 'TypeOfTheFuelUsed_other',\n",
       "       'TypeOfTheFuelUsed_petrol', 'BrandOfTheVehicle_audi',\n",
       "       'BrandOfTheVehicle_bmw', 'BrandOfTheVehicle_chevrolet',\n",
       "       'BrandOfTheVehicle_chrysler', 'BrandOfTheVehicle_citroen',\n",
       "       'BrandOfTheVehicle_dacia', 'BrandOfTheVehicle_daewoo',\n",
       "       'BrandOfTheVehicle_daihatsu', 'BrandOfTheVehicle_fiat',\n",
       "       'BrandOfTheVehicle_ford', 'BrandOfTheVehicle_honda',\n",
       "       'BrandOfTheVehicle_hyundai', 'BrandOfTheVehicle_jaguar',\n",
       "       'BrandOfTheVehicle_jeep', 'BrandOfTheVehicle_kia',\n",
       "       'BrandOfTheVehicle_lada', 'BrandOfTheVehicle_lancia',\n",
       "       'BrandOfTheVehicle_land_rover', 'BrandOfTheVehicle_mazda',\n",
       "       'BrandOfTheVehicle_mercedes_benz', 'BrandOfTheVehicle_mini',\n",
       "       'BrandOfTheVehicle_mitsubishi', 'BrandOfTheVehicle_nissan',\n",
       "       'BrandOfTheVehicle_opel', 'BrandOfTheVehicle_peugeot',\n",
       "       'BrandOfTheVehicle_porsche', 'BrandOfTheVehicle_renault',\n",
       "       'BrandOfTheVehicle_rover', 'BrandOfTheVehicle_saab',\n",
       "       'BrandOfTheVehicle_seat', 'BrandOfTheVehicle_skoda',\n",
       "       'BrandOfTheVehicle_smart', 'BrandOfTheVehicle_subaru',\n",
       "       'BrandOfTheVehicle_suzuki', 'BrandOfTheVehicle_toyota',\n",
       "       'BrandOfTheVehicle_volkswagen', 'BrandOfTheVehicle_volvo',\n",
       "       'IsDamageRepaired_Yes'],\n",
       "      dtype='object')"
      ]
     },
     "execution_count": 807,
     "metadata": {},
     "output_type": "execute_result"
    }
   ],
   "source": [
    "train.columns"
   ]
  },
  {
   "cell_type": "code",
   "execution_count": 808,
   "metadata": {},
   "outputs": [
    {
     "data": {
      "text/plain": [
       "Index(['VehicleID', 'YearOfVehicleRegistration', 'PowerOfTheEngine',\n",
       "       'DistranceTravelled', 'MonthOfVehicleRegistration', 'NumberOfPictures',\n",
       "       'ZipCode', 'DataCollectedDate_01-04-2016 00:37',\n",
       "       'DataCollectedDate_01-04-2016 00:38',\n",
       "       'DataCollectedDate_01-04-2016 00:41',\n",
       "       ...\n",
       "       'DateOfAdLastSeen_31-03-2016 23:15',\n",
       "       'DateOfAdLastSeen_31-03-2016 23:16',\n",
       "       'DateOfAdLastSeen_31-03-2016 23:17',\n",
       "       'DateOfAdLastSeen_31-03-2016 23:18',\n",
       "       'DateOfAdLastSeen_31-03-2016 23:39',\n",
       "       'DateOfAdLastSeen_31-03-2016 23:41',\n",
       "       'DateOfAdLastSeen_31-03-2016 23:42',\n",
       "       'DateOfAdLastSeen_31-03-2016 23:43',\n",
       "       'DateOfAdLastSeen_31-03-2016 23:46',\n",
       "       'DateOfAdLastSeen_31-03-2016 23:47'],\n",
       "      dtype='object', length=31637)"
      ]
     },
     "execution_count": 808,
     "metadata": {},
     "output_type": "execute_result"
    }
   ],
   "source": [
    "test.columns"
   ]
  },
  {
   "cell_type": "code",
   "execution_count": null,
   "metadata": {},
   "outputs": [],
   "source": [
    "for cols in test.columns:\n",
    "    if cols not in train.columns:\n",
    "         test.drop([cols],axis=1, inplace=True)\n",
    "for cols in train.columns:\n",
    "    if cols not in test.columns:\n",
    "         test[cols] = 0\n",
    "    \n"
   ]
  },
  {
   "cell_type": "code",
   "execution_count": null,
   "metadata": {},
   "outputs": [],
   "source": [
    "col_test_not_train =   set(test.columns).difference(set(train.columns))\n",
    "cols_train_not_test =  set(train.columns).difference(set(test.columns))\n",
    "for cols in col_test_not_train:\n",
    "    test.drop([cols],axis=1, inplace=True)\n",
    "for cols in col_train_not_test:\n",
    "    test[cols] =  0"
   ]
  },
  {
   "cell_type": "code",
   "execution_count": 640,
   "metadata": {},
   "outputs": [],
   "source": [
    "test = pd.DataFrame(test,columns = col_names )"
   ]
  },
  {
   "cell_type": "code",
   "execution_count": 641,
   "metadata": {},
   "outputs": [
    {
     "data": {
      "text/plain": [
       "(46714, 54)"
      ]
     },
     "execution_count": 641,
     "metadata": {},
     "output_type": "execute_result"
    }
   ],
   "source": [
    "train.shape"
   ]
  },
  {
   "cell_type": "code",
   "execution_count": 642,
   "metadata": {},
   "outputs": [
    {
     "data": {
      "text/plain": [
       "(19594, 55)"
      ]
     },
     "execution_count": 642,
     "metadata": {},
     "output_type": "execute_result"
    }
   ],
   "source": [
    "test.shape"
   ]
  },
  {
   "cell_type": "code",
   "execution_count": 643,
   "metadata": {},
   "outputs": [
    {
     "data": {
      "text/plain": [
       "YearOfVehicleRegistration              0\n",
       "PowerOfTheEngine                       0\n",
       "DistranceTravelled                     0\n",
       "VehicleType_Other                      0\n",
       "VehicleType_Small Car                  0\n",
       "VehicleType_bus                        0\n",
       "VehicleType_cabrio                     0\n",
       "VehicleType_coupe                      0\n",
       "VehicleType_limousine                  0\n",
       "VehicleType_suv                        0\n",
       "GearBoxType_manual                     0\n",
       "TypeOfTheFuelUsed_diesel               0\n",
       "TypeOfTheFuelUsed_electro              0\n",
       "TypeOfTheFuelUsed_hybrid               0\n",
       "TypeOfTheFuelUsed_lpg                  0\n",
       "TypeOfTheFuelUsed_other                0\n",
       "TypeOfTheFuelUsed_petrol               0\n",
       "BrandOfTheVehicle_audi                 0\n",
       "BrandOfTheVehicle_bmw                  0\n",
       "BrandOfTheVehicle_chevrolet            0\n",
       "BrandOfTheVehicle_chrysler             0\n",
       "BrandOfTheVehicle_citroen              0\n",
       "BrandOfTheVehicle_dacia                0\n",
       "BrandOfTheVehicle_daewoo               0\n",
       "BrandOfTheVehicle_daihatsu             0\n",
       "BrandOfTheVehicle_fiat                 0\n",
       "BrandOfTheVehicle_ford                 0\n",
       "BrandOfTheVehicle_honda                0\n",
       "BrandOfTheVehicle_hyundai              0\n",
       "BrandOfTheVehicle_jaguar               0\n",
       "BrandOfTheVehicle_jeep                 0\n",
       "BrandOfTheVehicle_kia                  0\n",
       "BrandOfTheVehicle_lada                 0\n",
       "BrandOfTheVehicle_lancia               0\n",
       "BrandOfTheVehicle_land_rover           0\n",
       "BrandOfTheVehicle_mazda                0\n",
       "BrandOfTheVehicle_mercedes_benz        0\n",
       "BrandOfTheVehicle_mini                 0\n",
       "BrandOfTheVehicle_mitsubishi           0\n",
       "BrandOfTheVehicle_nissan               0\n",
       "BrandOfTheVehicle_opel                 0\n",
       "BrandOfTheVehicle_peugeot              0\n",
       "BrandOfTheVehicle_porsche              0\n",
       "BrandOfTheVehicle_renault              0\n",
       "BrandOfTheVehicle_rover            19594\n",
       "BrandOfTheVehicle_saab                 0\n",
       "BrandOfTheVehicle_seat                 0\n",
       "BrandOfTheVehicle_skoda                0\n",
       "BrandOfTheVehicle_smart                0\n",
       "BrandOfTheVehicle_subaru               0\n",
       "BrandOfTheVehicle_suzuki               0\n",
       "BrandOfTheVehicle_toyota               0\n",
       "BrandOfTheVehicle_volkswagen           0\n",
       "BrandOfTheVehicle_volvo                0\n",
       "IsDamageRepaired_Yes                   0\n",
       "dtype: int64"
      ]
     },
     "execution_count": 643,
     "metadata": {},
     "output_type": "execute_result"
    }
   ],
   "source": [
    "test.isnull().sum()"
   ]
  },
  {
   "cell_type": "code",
   "execution_count": 309,
   "metadata": {},
   "outputs": [
    {
     "data": {
      "text/html": [
       "<div>\n",
       "<style scoped>\n",
       "    .dataframe tbody tr th:only-of-type {\n",
       "        vertical-align: middle;\n",
       "    }\n",
       "\n",
       "    .dataframe tbody tr th {\n",
       "        vertical-align: top;\n",
       "    }\n",
       "\n",
       "    .dataframe thead th {\n",
       "        text-align: right;\n",
       "    }\n",
       "</style>\n",
       "<table border=\"1\" class=\"dataframe\">\n",
       "  <thead>\n",
       "    <tr style=\"text-align: right;\">\n",
       "      <th></th>\n",
       "      <th>YearOfVehicleRegistration</th>\n",
       "      <th>PowerOfTheEngine</th>\n",
       "      <th>DistranceTravelled</th>\n",
       "      <th>VehicleType_Other</th>\n",
       "      <th>VehicleType_Small Car</th>\n",
       "      <th>VehicleType_bus</th>\n",
       "      <th>VehicleType_cabrio</th>\n",
       "      <th>VehicleType_coupe</th>\n",
       "      <th>VehicleType_limousine</th>\n",
       "      <th>VehicleType_suv</th>\n",
       "      <th>...</th>\n",
       "      <th>BrandOfTheVehicle_saab</th>\n",
       "      <th>BrandOfTheVehicle_seat</th>\n",
       "      <th>BrandOfTheVehicle_skoda</th>\n",
       "      <th>BrandOfTheVehicle_smart</th>\n",
       "      <th>BrandOfTheVehicle_subaru</th>\n",
       "      <th>BrandOfTheVehicle_suzuki</th>\n",
       "      <th>BrandOfTheVehicle_toyota</th>\n",
       "      <th>BrandOfTheVehicle_volkswagen</th>\n",
       "      <th>BrandOfTheVehicle_volvo</th>\n",
       "      <th>IsDamageRepaired_Yes</th>\n",
       "    </tr>\n",
       "  </thead>\n",
       "  <tbody>\n",
       "    <tr>\n",
       "      <th>0</th>\n",
       "      <td>2004.0</td>\n",
       "      <td>94.0</td>\n",
       "      <td>50000.0</td>\n",
       "      <td>0</td>\n",
       "      <td>1</td>\n",
       "      <td>0</td>\n",
       "      <td>0</td>\n",
       "      <td>0</td>\n",
       "      <td>0</td>\n",
       "      <td>0</td>\n",
       "      <td>...</td>\n",
       "      <td>0</td>\n",
       "      <td>0</td>\n",
       "      <td>0</td>\n",
       "      <td>0</td>\n",
       "      <td>1</td>\n",
       "      <td>0</td>\n",
       "      <td>0</td>\n",
       "      <td>0</td>\n",
       "      <td>0</td>\n",
       "      <td>0</td>\n",
       "    </tr>\n",
       "    <tr>\n",
       "      <th>1</th>\n",
       "      <td>2007.0</td>\n",
       "      <td>140.0</td>\n",
       "      <td>150000.0</td>\n",
       "      <td>0</td>\n",
       "      <td>0</td>\n",
       "      <td>0</td>\n",
       "      <td>0</td>\n",
       "      <td>0</td>\n",
       "      <td>0</td>\n",
       "      <td>0</td>\n",
       "      <td>...</td>\n",
       "      <td>0</td>\n",
       "      <td>0</td>\n",
       "      <td>0</td>\n",
       "      <td>0</td>\n",
       "      <td>0</td>\n",
       "      <td>0</td>\n",
       "      <td>0</td>\n",
       "      <td>1</td>\n",
       "      <td>0</td>\n",
       "      <td>0</td>\n",
       "    </tr>\n",
       "    <tr>\n",
       "      <th>2</th>\n",
       "      <td>2007.0</td>\n",
       "      <td>150.0</td>\n",
       "      <td>150000.0</td>\n",
       "      <td>0</td>\n",
       "      <td>0</td>\n",
       "      <td>0</td>\n",
       "      <td>0</td>\n",
       "      <td>0</td>\n",
       "      <td>1</td>\n",
       "      <td>0</td>\n",
       "      <td>...</td>\n",
       "      <td>0</td>\n",
       "      <td>0</td>\n",
       "      <td>0</td>\n",
       "      <td>0</td>\n",
       "      <td>0</td>\n",
       "      <td>0</td>\n",
       "      <td>0</td>\n",
       "      <td>0</td>\n",
       "      <td>0</td>\n",
       "      <td>0</td>\n",
       "    </tr>\n",
       "    <tr>\n",
       "      <th>3</th>\n",
       "      <td>2005.0</td>\n",
       "      <td>150.0</td>\n",
       "      <td>150000.0</td>\n",
       "      <td>0</td>\n",
       "      <td>0</td>\n",
       "      <td>0</td>\n",
       "      <td>0</td>\n",
       "      <td>0</td>\n",
       "      <td>1</td>\n",
       "      <td>0</td>\n",
       "      <td>...</td>\n",
       "      <td>0</td>\n",
       "      <td>0</td>\n",
       "      <td>0</td>\n",
       "      <td>0</td>\n",
       "      <td>0</td>\n",
       "      <td>0</td>\n",
       "      <td>0</td>\n",
       "      <td>0</td>\n",
       "      <td>0</td>\n",
       "      <td>0</td>\n",
       "    </tr>\n",
       "    <tr>\n",
       "      <th>4</th>\n",
       "      <td>2005.0</td>\n",
       "      <td>200.0</td>\n",
       "      <td>125000.0</td>\n",
       "      <td>0</td>\n",
       "      <td>0</td>\n",
       "      <td>0</td>\n",
       "      <td>0</td>\n",
       "      <td>0</td>\n",
       "      <td>0</td>\n",
       "      <td>0</td>\n",
       "      <td>...</td>\n",
       "      <td>0</td>\n",
       "      <td>0</td>\n",
       "      <td>0</td>\n",
       "      <td>0</td>\n",
       "      <td>0</td>\n",
       "      <td>0</td>\n",
       "      <td>0</td>\n",
       "      <td>0</td>\n",
       "      <td>0</td>\n",
       "      <td>0</td>\n",
       "    </tr>\n",
       "    <tr>\n",
       "      <th>5</th>\n",
       "      <td>2000.0</td>\n",
       "      <td>129.0</td>\n",
       "      <td>150000.0</td>\n",
       "      <td>0</td>\n",
       "      <td>0</td>\n",
       "      <td>0</td>\n",
       "      <td>0</td>\n",
       "      <td>0</td>\n",
       "      <td>1</td>\n",
       "      <td>0</td>\n",
       "      <td>...</td>\n",
       "      <td>0</td>\n",
       "      <td>0</td>\n",
       "      <td>0</td>\n",
       "      <td>0</td>\n",
       "      <td>0</td>\n",
       "      <td>0</td>\n",
       "      <td>0</td>\n",
       "      <td>0</td>\n",
       "      <td>0</td>\n",
       "      <td>0</td>\n",
       "    </tr>\n",
       "  </tbody>\n",
       "</table>\n",
       "<p>6 rows × 55 columns</p>\n",
       "</div>"
      ],
      "text/plain": [
       "   YearOfVehicleRegistration  PowerOfTheEngine  DistranceTravelled  \\\n",
       "0                     2004.0              94.0             50000.0   \n",
       "1                     2007.0             140.0            150000.0   \n",
       "2                     2007.0             150.0            150000.0   \n",
       "3                     2005.0             150.0            150000.0   \n",
       "4                     2005.0             200.0            125000.0   \n",
       "5                     2000.0             129.0            150000.0   \n",
       "\n",
       "   VehicleType_Other  VehicleType_Small Car  VehicleType_bus  \\\n",
       "0                  0                      1                0   \n",
       "1                  0                      0                0   \n",
       "2                  0                      0                0   \n",
       "3                  0                      0                0   \n",
       "4                  0                      0                0   \n",
       "5                  0                      0                0   \n",
       "\n",
       "   VehicleType_cabrio  VehicleType_coupe  VehicleType_limousine  \\\n",
       "0                   0                  0                      0   \n",
       "1                   0                  0                      0   \n",
       "2                   0                  0                      1   \n",
       "3                   0                  0                      1   \n",
       "4                   0                  0                      0   \n",
       "5                   0                  0                      1   \n",
       "\n",
       "   VehicleType_suv          ...           BrandOfTheVehicle_saab  \\\n",
       "0                0          ...                                0   \n",
       "1                0          ...                                0   \n",
       "2                0          ...                                0   \n",
       "3                0          ...                                0   \n",
       "4                0          ...                                0   \n",
       "5                0          ...                                0   \n",
       "\n",
       "   BrandOfTheVehicle_seat  BrandOfTheVehicle_skoda  BrandOfTheVehicle_smart  \\\n",
       "0                       0                        0                        0   \n",
       "1                       0                        0                        0   \n",
       "2                       0                        0                        0   \n",
       "3                       0                        0                        0   \n",
       "4                       0                        0                        0   \n",
       "5                       0                        0                        0   \n",
       "\n",
       "   BrandOfTheVehicle_subaru  BrandOfTheVehicle_suzuki  \\\n",
       "0                         1                         0   \n",
       "1                         0                         0   \n",
       "2                         0                         0   \n",
       "3                         0                         0   \n",
       "4                         0                         0   \n",
       "5                         0                         0   \n",
       "\n",
       "   BrandOfTheVehicle_toyota  BrandOfTheVehicle_volkswagen  \\\n",
       "0                         0                             0   \n",
       "1                         0                             1   \n",
       "2                         0                             0   \n",
       "3                         0                             0   \n",
       "4                         0                             0   \n",
       "5                         0                             0   \n",
       "\n",
       "   BrandOfTheVehicle_volvo  IsDamageRepaired_Yes  \n",
       "0                        0                     0  \n",
       "1                        0                     0  \n",
       "2                        0                     0  \n",
       "3                        0                     0  \n",
       "4                        0                     0  \n",
       "5                        0                     0  \n",
       "\n",
       "[6 rows x 55 columns]"
      ]
     },
     "execution_count": 309,
     "metadata": {},
     "output_type": "execute_result"
    }
   ],
   "source": [
    "train.head(6)"
   ]
  },
  {
   "cell_type": "code",
   "execution_count": 310,
   "metadata": {},
   "outputs": [],
   "source": [
    "# Split the Train and Test Data\n",
    "from sklearn.model_selection import train_test_split\n",
    "# Split the data into X and y\n",
    "X = train\n",
    "y = np.log(train_labels+1)"
   ]
  },
  {
   "cell_type": "code",
   "execution_count": 311,
   "metadata": {},
   "outputs": [],
   "source": [
    "# Split the data into X_train, X_test, y_train, y_test with test_size = 0.20 using sklearn\n",
    "X_train, X_test, y_train, y_test = train_test_split(X, y, test_size=0.20,random_state=1)"
   ]
  },
  {
   "cell_type": "code",
   "execution_count": 312,
   "metadata": {},
   "outputs": [
    {
     "name": "stdout",
     "output_type": "stream",
     "text": [
      "(37371, 55)\n",
      "(9343, 55)\n",
      "(37371,)\n",
      "(9343,)\n"
     ]
    }
   ],
   "source": [
    "## Print the shape of X_train, X_test, y_train, y_test\n",
    "print(X_train.shape)\n",
    "print(X_test.shape)\n",
    "print(y_train.shape)\n",
    "print(y_test.shape)"
   ]
  },
  {
   "cell_type": "code",
   "execution_count": 313,
   "metadata": {},
   "outputs": [],
   "source": [
    "numerical_Attributes_train = train.select_dtypes(exclude=['category']).columns"
   ]
  },
  {
   "cell_type": "code",
   "execution_count": 314,
   "metadata": {},
   "outputs": [],
   "source": [
    "numerical_Attributes_test = test.select_dtypes(exclude=['category']).columns"
   ]
  },
  {
   "cell_type": "code",
   "execution_count": 315,
   "metadata": {},
   "outputs": [],
   "source": [
    "## Scale the numeric attributes\n",
    "from sklearn.preprocessing import StandardScaler\n",
    "scaler = StandardScaler()\n",
    "for cols in numerical_Attributes_train :\n",
    "    X_train[cols] = scaler.fit_transform(X_train[[cols]])\n",
    "    \n",
    "for cols in numerical_Attributes_train :\n",
    "    X_test[cols] = scaler.fit_transform(X_test[[cols]])"
   ]
  },
  {
   "cell_type": "code",
   "execution_count": 316,
   "metadata": {},
   "outputs": [
    {
     "data": {
      "text/plain": [
       "RandomForestRegressor(bootstrap=True, criterion='mse', max_depth=None,\n",
       "           max_features='auto', max_leaf_nodes=None,\n",
       "           min_impurity_decrease=0.0, min_impurity_split=None,\n",
       "           min_samples_leaf=1, min_samples_split=2,\n",
       "           min_weight_fraction_leaf=0.0, n_estimators=10, n_jobs=1,\n",
       "           oob_score=False, random_state=42, verbose=0, warm_start=False)"
      ]
     },
     "execution_count": 316,
     "metadata": {},
     "output_type": "execute_result"
    }
   ],
   "source": [
    "# Training the Algorithm\n",
    "from sklearn.ensemble import RandomForestRegressor\n",
    "rfr = RandomForestRegressor(bootstrap=True, criterion='mse', max_depth=None,\n",
    "           max_features='auto', max_leaf_nodes=None,\n",
    "           min_impurity_decrease=0.0, min_impurity_split=None,\n",
    "           min_samples_leaf=1, min_samples_split=2,\n",
    "           min_weight_fraction_leaf=0.0, n_estimators=10, n_jobs=1,\n",
    "           oob_score=False, random_state=42, verbose=0, warm_start=False)\n",
    "rfr.fit(X_train,y_train)"
   ]
  },
  {
   "cell_type": "code",
   "execution_count": 317,
   "metadata": {},
   "outputs": [],
   "source": [
    "# Making predictions\n",
    "y_pred = rfr.predict(X_test)"
   ]
  },
  {
   "cell_type": "code",
   "execution_count": 318,
   "metadata": {},
   "outputs": [
    {
     "name": "stdout",
     "output_type": "stream",
     "text": [
      "Mean absolute Error: 0.2103880614171078\n",
      "Mean Squared Error: 0.08264915737287684\n",
      "Root Mean Square error: 0.28748766473168347\n"
     ]
    }
   ],
   "source": [
    "# Evaluating the algorithm\n",
    "from sklearn import metrics\n",
    "print(\"Mean absolute Error:\", metrics.mean_absolute_error(y_pred,y_test))\n",
    "print(\"Mean Squared Error:\", metrics.mean_squared_error(y_pred,y_test))\n",
    "print(\"Root Mean Square error:\", np.sqrt(metrics.mean_squared_error(y_pred,y_test)))"
   ]
  },
  {
   "cell_type": "code",
   "execution_count": 319,
   "metadata": {},
   "outputs": [],
   "source": [
    "from sklearn.ensemble import GradientBoostingRegressor"
   ]
  },
  {
   "cell_type": "code",
   "execution_count": 320,
   "metadata": {},
   "outputs": [],
   "source": [
    "GBM_model = GradientBoostingRegressor(n_estimators=200,\n",
    "                                       learning_rate=0.9,\n",
    "                                       subsample=0.8)"
   ]
  },
  {
   "cell_type": "code",
   "execution_count": 321,
   "metadata": {},
   "outputs": [
    {
     "name": "stdout",
     "output_type": "stream",
     "text": [
      "Wall time: 52 s\n"
     ]
    },
    {
     "data": {
      "text/plain": [
       "GradientBoostingRegressor(alpha=0.9, criterion='friedman_mse', init=None,\n",
       "             learning_rate=0.9, loss='ls', max_depth=3, max_features=None,\n",
       "             max_leaf_nodes=None, min_impurity_decrease=0.0,\n",
       "             min_impurity_split=None, min_samples_leaf=1,\n",
       "             min_samples_split=2, min_weight_fraction_leaf=0.0,\n",
       "             n_estimators=200, presort='auto', random_state=None,\n",
       "             subsample=0.8, verbose=0, warm_start=False)"
      ]
     },
     "execution_count": 321,
     "metadata": {},
     "output_type": "execute_result"
    }
   ],
   "source": [
    "%time GBM_model.fit(X=X_train, y=y_train)"
   ]
  },
  {
   "cell_type": "code",
   "execution_count": 322,
   "metadata": {},
   "outputs": [],
   "source": [
    "y_pred = GBM_model.predict(X_test)"
   ]
  },
  {
   "cell_type": "code",
   "execution_count": 323,
   "metadata": {},
   "outputs": [
    {
     "name": "stdout",
     "output_type": "stream",
     "text": [
      "Mean absolute Error: 0.2149976158207433\n",
      "Mean Squared Error: 0.08381099938121063\n",
      "Root Mean Square error: 0.28950129426517357\n"
     ]
    }
   ],
   "source": [
    "# Evaluating the algorithm\n",
    "from sklearn import metrics\n",
    "print(\"Mean absolute Error:\", metrics.mean_absolute_error(y_pred,y_test))\n",
    "print(\"Mean Squared Error:\", metrics.mean_squared_error(y_pred,y_test))\n",
    "print(\"Root Mean Square error:\", np.sqrt(metrics.mean_squared_error(y_pred,y_test)))"
   ]
  },
  {
   "cell_type": "code",
   "execution_count": 324,
   "metadata": {},
   "outputs": [],
   "source": [
    "# Build a Linear Model uisng Log Transformation\n",
    "X = train\n",
    "y = np.log(train_labels+1)"
   ]
  },
  {
   "cell_type": "code",
   "execution_count": 203,
   "metadata": {},
   "outputs": [],
   "source": [
    "# Split Train and Test Data\n",
    "from sklearn.model_selection import train_test_split\n",
    "X_train, X_test, y_train, y_test = train_test_split(\n",
    "                                    X, y, random_state=1, test_size=0.2)"
   ]
  },
  {
   "cell_type": "code",
   "execution_count": 204,
   "metadata": {},
   "outputs": [],
   "source": [
    "# Linear Regression Model\n",
    "from sklearn import linear_model\n",
    "lr = linear_model.LinearRegression()"
   ]
  },
  {
   "cell_type": "code",
   "execution_count": 205,
   "metadata": {},
   "outputs": [],
   "source": [
    "# Fit the Model \n",
    "model_lr = lr.fit(X_train, y_train)"
   ]
  },
  {
   "cell_type": "code",
   "execution_count": 206,
   "metadata": {},
   "outputs": [
    {
     "name": "stdout",
     "output_type": "stream",
     "text": [
      "R^2 is: \n",
      " 0.8556578446779243\n"
     ]
    }
   ],
   "source": [
    "# Evaluate the performance and visualize results\n",
    "print (\"R^2 is: \\n\", model_lr.score(X_test, y_test))"
   ]
  },
  {
   "cell_type": "code",
   "execution_count": 207,
   "metadata": {},
   "outputs": [],
   "source": [
    "# Predictions\n",
    "y_pred_lr = model_lr.predict(X_test)"
   ]
  },
  {
   "cell_type": "code",
   "execution_count": 208,
   "metadata": {},
   "outputs": [
    {
     "name": "stdout",
     "output_type": "stream",
     "text": [
      "RMSE is: \n",
      " 0.09604238733162729\n"
     ]
    }
   ],
   "source": [
    "from sklearn.metrics import mean_squared_error\n",
    "print ('RMSE is: \\n', mean_squared_error(y_test, y_pred_lr))"
   ]
  },
  {
   "cell_type": "code",
   "execution_count": 209,
   "metadata": {},
   "outputs": [
    {
     "name": "stdout",
     "output_type": "stream",
     "text": [
      "Mean absolute Error: 0.23070159977587593\n",
      "Mean Squared Error: 0.09604238733162729\n",
      "Root Mean Square error: 0.30990706241005106\n"
     ]
    }
   ],
   "source": [
    "# Evaluating the algorithm\n",
    "from sklearn import metrics\n",
    "print(\"Mean absolute Error:\", metrics.mean_absolute_error(y_pred_lr,y_test))\n",
    "print(\"Mean Squared Error:\", metrics.mean_squared_error(y_pred_lr,y_test))\n",
    "print(\"Root Mean Square error:\", np.sqrt(metrics.mean_squared_error(y_pred_lr,y_test)))"
   ]
  },
  {
   "cell_type": "code",
   "execution_count": 210,
   "metadata": {},
   "outputs": [
    {
     "data": {
      "image/png": "[encoded data removed]",
      "text/plain": [
       "<Figure size 432x288 with 1 Axes>"
      ]
     },
     "metadata": {},
     "output_type": "display_data"
    }
   ],
   "source": [
    "# Visualization\n",
    "actual_values = y_test\n",
    "plt.scatter(y_pred_lr, actual_values, alpha=.75,\n",
    "            color='b') #alpha helps to show overlapping data\n",
    "plt.xlabel('Predicted Price')\n",
    "plt.ylabel('Actual Price')\n",
    "plt.title('Linear Regression Model')\n",
    "plt.show()"
   ]
  },
  {
   "cell_type": "code",
   "execution_count": 211,
   "metadata": {},
   "outputs": [
    {
     "data": {
      "image/png": "[encoded data removed]",
      "text/plain": [
       "<Figure size 432x288 with 1 Axes>"
      ]
     },
     "metadata": {},
     "output_type": "display_data"
    },
    {
     "data": {
      "image/png": "[encoded data removed]",
      "text/plain": [
       "<Figure size 432x288 with 1 Axes>"
      ]
     },
     "metadata": {},
     "output_type": "display_data"
    },
    {
     "data": {
      "image/png": "[encoded data removed]",
      "text/plain": [
       "<Figure size 432x288 with 1 Axes>"
      ]
     },
     "metadata": {},
     "output_type": "display_data"
    },
    {
     "data": {
      "image/png": "[encoded data removed]",
      "text/plain": [
       "<Figure size 432x288 with 1 Axes>"
      ]
     },
     "metadata": {},
     "output_type": "display_data"
    },
    {
     "data": {
      "image/png": "[encoded data removed]",
      "text/plain": [
       "<Figure size 432x288 with 1 Axes>"
      ]
     },
     "metadata": {},
     "output_type": "display_data"
    }
   ],
   "source": [
    "# Model2 using Ridge Regularization\n",
    "for i in range (-2, 3):\n",
    "    alpha = 10**i\n",
    "    rm = linear_model.Ridge(alpha=alpha)\n",
    "    ridge_model = rm.fit(X_train, y_train)\n",
    "    y_pred_ridge = ridge_model.predict(X_test)\n",
    "\n",
    "    plt.scatter(y_pred_ridge, actual_values, alpha=.75, color='b')\n",
    "    plt.xlabel('Predicted Price')\n",
    "    plt.ylabel('Actual Price')\n",
    "    plt.title('Ridge Regularization with alpha = {}'.format(alpha))\n",
    "    overlay = 'R^2 is: {}\\nRMSE is: {}'.format(\n",
    "                    ridge_model.score(X_test, y_test),\n",
    "                     np.sqrt(mean_squared_error(y_test, y_pred_ridge)))\n",
    "    plt.annotate(s=overlay,xy=(12.1,10.6),size='x-large')\n",
    "    plt.show()"
   ]
  },
  {
   "cell_type": "code",
   "execution_count": 212,
   "metadata": {},
   "outputs": [],
   "source": [
    "# Build Model Using Gradient Bossting\n",
    "from sklearn.ensemble import GradientBoostingRegressor\n",
    "from sklearn.model_selection import GridSearchCV\n",
    "\n",
    "# Model in use\n",
    "GBM = GradientBoostingRegressor(n_estimators=200,max_depth=5,learning_rate=0.7) \n",
    " \n",
    "# Use a grid over parameters of interest\n",
    "#param_grid = { \n",
    "#           \"n_estimators\" : [100,150,200,250],\n",
    "#           \"max_depth\" : [5, 10],\n",
    "#           \"learning_rate\" : [0.1,0.5,0.9]}\n",
    " \n",
    "#CV_GBM = GridSearchCV(estimator=GBM, param_grid=param_grid, cv= 10)"
   ]
  },
  {
   "cell_type": "code",
   "execution_count": 213,
   "metadata": {},
   "outputs": [
    {
     "name": "stdout",
     "output_type": "stream",
     "text": [
      "Wall time: 1min 21s\n"
     ]
    },
    {
     "data": {
      "text/plain": [
       "GradientBoostingRegressor(alpha=0.9, criterion='friedman_mse', init=None,\n",
       "             learning_rate=0.7, loss='ls', max_depth=5, max_features=None,\n",
       "             max_leaf_nodes=None, min_impurity_decrease=0.0,\n",
       "             min_impurity_split=None, min_samples_leaf=1,\n",
       "             min_samples_split=2, min_weight_fraction_leaf=0.0,\n",
       "             n_estimators=200, presort='auto', random_state=None,\n",
       "             subsample=1.0, verbose=0, warm_start=False)"
      ]
     },
     "execution_count": 213,
     "metadata": {},
     "output_type": "execute_result"
    }
   ],
   "source": [
    "%time GBM.fit(X=X_train, y=y_train)"
   ]
  },
  {
   "cell_type": "code",
   "execution_count": 214,
   "metadata": {},
   "outputs": [],
   "source": [
    "y_pred_gbm = GBM.predict(X_test)"
   ]
  },
  {
   "cell_type": "code",
   "execution_count": 215,
   "metadata": {},
   "outputs": [
    {
     "name": "stdout",
     "output_type": "stream",
     "text": [
      "Root Mean Square error: 0.2752006935799489\n",
      "R^2 is: \n",
      " 0.8861771941234132\n"
     ]
    }
   ],
   "source": [
    "# Evaluating the algorithm\n",
    "from sklearn import metrics\n",
    "print(\"Root Mean Square error:\", np.sqrt(metrics.mean_squared_error(y_pred_gbm,y_test)))\n",
    "# Evaluate the performance and visualize results\n",
    "print (\"R^2 is: \\n\", GBM.score(X_test, y_test))"
   ]
  },
  {
   "cell_type": "code",
   "execution_count": 216,
   "metadata": {},
   "outputs": [
    {
     "name": "stdout",
     "output_type": "stream",
     "text": [
      "Mean absolute Error: 0.20014991152198205\n",
      "Mean Squared Error: 0.07573542174688493\n",
      "Root Mean Square error: 0.2752006935799489\n"
     ]
    }
   ],
   "source": [
    "# Evaluating the algorithm\n",
    "from sklearn import metrics\n",
    "print(\"Mean absolute Error:\", metrics.mean_absolute_error(y_pred_gbm,y_test))\n",
    "print(\"Mean Squared Error:\", metrics.mean_squared_error(y_pred_gbm,y_test))\n",
    "print(\"Root Mean Square error:\", np.sqrt(metrics.mean_squared_error(y_pred_gbm,y_test)))"
   ]
  },
  {
   "cell_type": "code",
   "execution_count": 217,
   "metadata": {},
   "outputs": [
    {
     "data": {
      "image/png": "[encoded data removed]",
      "text/plain": [
       "<Figure size 432x288 with 1 Axes>"
      ]
     },
     "metadata": {},
     "output_type": "display_data"
    }
   ],
   "source": [
    "# Visualization\n",
    "actual_values = y_test\n",
    "plt.scatter(y_pred_gbm, actual_values, alpha=.75,\n",
    "            color='b') #alpha helps to show overlapping data\n",
    "plt.xlabel('Predicted Price')\n",
    "plt.ylabel('Actual Price')\n",
    "plt.title('GBM Model')\n",
    "plt.show()"
   ]
  },
  {
   "cell_type": "code",
   "execution_count": 352,
   "metadata": {},
   "outputs": [],
   "source": [
    "#Building the Support Vector Machine Classifier\n",
    "from sklearn.svm import SVR\n",
    "SVR = SVR()\n",
    "SVR.fit(X_train, y_train)\n",
    "y_pred_train_svr = SVR.predict(X_train)\n",
    "y_pred_test_svr = SVR.predict(X_test)\n",
    "\n"
   ]
  },
  {
   "cell_type": "code",
   "execution_count": 355,
   "metadata": {},
   "outputs": [
    {
     "name": "stdout",
     "output_type": "stream",
     "text": [
      "Root Mean Square error: 0.2887947322014749\n",
      "R^2 is: \n",
      " 0.8747068941971207\n"
     ]
    }
   ],
   "source": [
    "# Evaluating the algorithm\n",
    "from sklearn import metrics\n",
    "print(\"Root Mean Square error:\", np.sqrt(metrics.mean_squared_error(y_pred_test_svr,y_test)))\n",
    "# Evaluate the performance and visualize results\n",
    "print (\"R^2 is: \\n\", SVR.score(X_test, y_test))"
   ]
  },
  {
   "cell_type": "code",
   "execution_count": 356,
   "metadata": {},
   "outputs": [
    {
     "name": "stdout",
     "output_type": "stream",
     "text": [
      "Mean absolute Error: 0.21194492289818323\n",
      "Mean Squared Error: 0.08340239734732159\n",
      "Root Mean Square error: 0.2887947322014749\n"
     ]
    }
   ],
   "source": [
    "# Evaluating the algorithm\n",
    "from sklearn import metrics\n",
    "print(\"Mean absolute Error:\", metrics.mean_absolute_error(y_pred_test_svr,y_test))\n",
    "print(\"Mean Squared Error:\", metrics.mean_squared_error(y_pred_test_svr,y_test))\n",
    "print(\"Root Mean Square error:\", np.sqrt(metrics.mean_squared_error(y_pred_test_svr,y_test)))"
   ]
  },
  {
   "cell_type": "code",
   "execution_count": 357,
   "metadata": {},
   "outputs": [
    {
     "data": {
      "image/png": "[encoded data removed]",
      "text/plain": [
       "<Figure size 432x288 with 1 Axes>"
      ]
     },
     "metadata": {},
     "output_type": "display_data"
    }
   ],
   "source": [
    "# Visualization\n",
    "actual_values = y_test\n",
    "plt.scatter(y_pred_test_svr, actual_values, alpha=.75,\n",
    "            color='b') #alpha helps to show overlapping data\n",
    "plt.xlabel('Predicted Price')\n",
    "plt.ylabel('Actual Price')\n",
    "plt.title('SVR Model')\n",
    "plt.show()"
   ]
  },
  {
   "cell_type": "code",
   "execution_count": 111,
   "metadata": {},
   "outputs": [],
   "source": [
    "from sklearn.ensemble import AdaBoostRegressor\n",
    "from sklearn.tree import DecisionTreeRegressor\n",
    "ada = AdaBoostRegressor(\n",
    "    DecisionTreeRegressor(max_depth=2),\n",
    "    n_estimators=100,\n",
    "    learning_rate=1)\n",
    "model_train_ada= ada.fit(X_train,y_train)\n",
    "y_pred_train_ada = ada.predict(X_train)\n",
    "y_pred_test_ada = ada.predict(X_test)\n"
   ]
  },
  {
   "cell_type": "code",
   "execution_count": 112,
   "metadata": {},
   "outputs": [
    {
     "name": "stdout",
     "output_type": "stream",
     "text": [
      "Root Mean Square error: 0.45871904384711004\n",
      "R^2 is: \n",
      " 0.6838871275089082\n"
     ]
    }
   ],
   "source": [
    "# Evaluating the algorithm\n",
    "from sklearn import metrics\n",
    "print(\"Root Mean Square error:\", np.sqrt(metrics.mean_squared_error(y_pred_test_ada,y_test)))\n",
    "# Evaluate the performance and visualize results\n",
    "print (\"R^2 is: \\n\", ada.score(X_test, y_test))"
   ]
  },
  {
   "cell_type": "code",
   "execution_count": 114,
   "metadata": {},
   "outputs": [
    {
     "name": "stdout",
     "output_type": "stream",
     "text": [
      "Mean absolute Error: 0.36956084372418635\n",
      "Mean Squared Error: 0.21042316118800689\n",
      "Root Mean Square error: 0.45871904384711004\n"
     ]
    }
   ],
   "source": [
    "# Evaluating the algorithm\n",
    "from sklearn import metrics\n",
    "print(\"Mean absolute Error:\", metrics.mean_absolute_error(y_pred_test_ada,y_test))\n",
    "print(\"Mean Squared Error:\", metrics.mean_squared_error(y_pred_test_ada,y_test))\n",
    "print(\"Root Mean Square error:\", np.sqrt(metrics.mean_squared_error(y_pred_test_ada,y_test)))"
   ]
  },
  {
   "cell_type": "code",
   "execution_count": 115,
   "metadata": {},
   "outputs": [
    {
     "data": {
      "image/png": "[encoded data removed]",
      "text/plain": [
       "<Figure size 432x288 with 1 Axes>"
      ]
     },
     "metadata": {},
     "output_type": "display_data"
    }
   ],
   "source": [
    "# Visualization\n",
    "actual_values = y_test\n",
    "plt.scatter(y_pred_test_ada, actual_values, alpha=.75,\n",
    "            color='b') #alpha helps to show overlapping data\n",
    "plt.xlabel('Predicted Price')\n",
    "plt.ylabel('Actual Price')\n",
    "plt.title('Ada Boosst Model')\n",
    "plt.show()"
   ]
  },
  {
   "cell_type": "code",
   "execution_count": null,
   "metadata": {},
   "outputs": [],
   "source": [
    "del train['BrandOfTheVehicle_rover']"
   ]
  },
  {
   "cell_type": "code",
   "execution_count": 332,
   "metadata": {},
   "outputs": [],
   "source": [
    "\n",
    "col_names = list(train.columns.values)"
   ]
  },
  {
   "cell_type": "code",
   "execution_count": 333,
   "metadata": {},
   "outputs": [],
   "source": [
    "test = pd.DataFrame(test,columns = col_names )"
   ]
  },
  {
   "cell_type": "code",
   "execution_count": 334,
   "metadata": {},
   "outputs": [
    {
     "data": {
      "text/plain": [
       "(50762, 54)"
      ]
     },
     "execution_count": 334,
     "metadata": {},
     "output_type": "execute_result"
    }
   ],
   "source": [
    "test.shape"
   ]
  },
  {
   "cell_type": "code",
   "execution_count": 335,
   "metadata": {},
   "outputs": [
    {
     "data": {
      "text/plain": [
       "(50762, 54)"
      ]
     },
     "execution_count": 335,
     "metadata": {},
     "output_type": "execute_result"
    }
   ],
   "source": [
    "train.shape"
   ]
  },
  {
   "cell_type": "code",
   "execution_count": 336,
   "metadata": {},
   "outputs": [
    {
     "data": {
      "text/plain": [
       "YearOfVehicleRegistration          0\n",
       "PowerOfTheEngine                   0\n",
       "DistranceTravelled                 0\n",
       "VehicleType_Other                  0\n",
       "VehicleType_Small Car              0\n",
       "VehicleType_bus                    0\n",
       "VehicleType_cabrio                 0\n",
       "VehicleType_coupe                  0\n",
       "VehicleType_limousine              0\n",
       "VehicleType_suv                    0\n",
       "GearBoxType_manual                 0\n",
       "TypeOfTheFuelUsed_diesel           0\n",
       "TypeOfTheFuelUsed_electro          0\n",
       "TypeOfTheFuelUsed_hybrid           0\n",
       "TypeOfTheFuelUsed_lpg              0\n",
       "TypeOfTheFuelUsed_other            0\n",
       "TypeOfTheFuelUsed_petrol           0\n",
       "BrandOfTheVehicle_audi             0\n",
       "BrandOfTheVehicle_bmw              0\n",
       "BrandOfTheVehicle_chevrolet        0\n",
       "BrandOfTheVehicle_chrysler         0\n",
       "BrandOfTheVehicle_citroen          0\n",
       "BrandOfTheVehicle_dacia            0\n",
       "BrandOfTheVehicle_daewoo           0\n",
       "BrandOfTheVehicle_daihatsu         0\n",
       "BrandOfTheVehicle_fiat             0\n",
       "BrandOfTheVehicle_ford             0\n",
       "BrandOfTheVehicle_honda            0\n",
       "BrandOfTheVehicle_hyundai          0\n",
       "BrandOfTheVehicle_jaguar           0\n",
       "BrandOfTheVehicle_jeep             0\n",
       "BrandOfTheVehicle_kia              0\n",
       "BrandOfTheVehicle_lada             0\n",
       "BrandOfTheVehicle_lancia           0\n",
       "BrandOfTheVehicle_land_rover       0\n",
       "BrandOfTheVehicle_mazda            0\n",
       "BrandOfTheVehicle_mercedes_benz    0\n",
       "BrandOfTheVehicle_mini             0\n",
       "BrandOfTheVehicle_mitsubishi       0\n",
       "BrandOfTheVehicle_nissan           0\n",
       "BrandOfTheVehicle_opel             0\n",
       "BrandOfTheVehicle_peugeot          0\n",
       "BrandOfTheVehicle_porsche          0\n",
       "BrandOfTheVehicle_renault          0\n",
       "BrandOfTheVehicle_saab             0\n",
       "BrandOfTheVehicle_seat             0\n",
       "BrandOfTheVehicle_skoda            0\n",
       "BrandOfTheVehicle_smart            0\n",
       "BrandOfTheVehicle_subaru           0\n",
       "BrandOfTheVehicle_suzuki           0\n",
       "BrandOfTheVehicle_toyota           0\n",
       "BrandOfTheVehicle_volkswagen       0\n",
       "BrandOfTheVehicle_volvo            0\n",
       "IsDamageRepaired_Yes               0\n",
       "dtype: int64"
      ]
     },
     "execution_count": 336,
     "metadata": {},
     "output_type": "execute_result"
    }
   ],
   "source": [
    "test.isnull().sum()"
   ]
  },
  {
   "cell_type": "code",
   "execution_count": 337,
   "metadata": {},
   "outputs": [],
   "source": [
    "test1 = pd.read_csv(\"TestData.csv\")"
   ]
  },
  {
   "cell_type": "code",
   "execution_count": 338,
   "metadata": {},
   "outputs": [],
   "source": [
    "submission = pd.DataFrame()\n",
    "submission['VehicleID'] = test1.VehicleID"
   ]
  },
  {
   "cell_type": "code",
   "execution_count": 339,
   "metadata": {},
   "outputs": [],
   "source": [
    "feats = test.select_dtypes(\n",
    "        include=[np.number]).interpolate()"
   ]
  },
  {
   "cell_type": "code",
   "execution_count": 340,
   "metadata": {},
   "outputs": [
    {
     "data": {
      "text/plain": [
       "YearOfVehicleRegistration          0\n",
       "PowerOfTheEngine                   0\n",
       "DistranceTravelled                 0\n",
       "VehicleType_Other                  0\n",
       "VehicleType_Small Car              0\n",
       "VehicleType_bus                    0\n",
       "VehicleType_cabrio                 0\n",
       "VehicleType_coupe                  0\n",
       "VehicleType_limousine              0\n",
       "VehicleType_suv                    0\n",
       "GearBoxType_manual                 0\n",
       "TypeOfTheFuelUsed_diesel           0\n",
       "TypeOfTheFuelUsed_electro          0\n",
       "TypeOfTheFuelUsed_hybrid           0\n",
       "TypeOfTheFuelUsed_lpg              0\n",
       "TypeOfTheFuelUsed_other            0\n",
       "TypeOfTheFuelUsed_petrol           0\n",
       "BrandOfTheVehicle_audi             0\n",
       "BrandOfTheVehicle_bmw              0\n",
       "BrandOfTheVehicle_chevrolet        0\n",
       "BrandOfTheVehicle_chrysler         0\n",
       "BrandOfTheVehicle_citroen          0\n",
       "BrandOfTheVehicle_dacia            0\n",
       "BrandOfTheVehicle_daewoo           0\n",
       "BrandOfTheVehicle_daihatsu         0\n",
       "BrandOfTheVehicle_fiat             0\n",
       "BrandOfTheVehicle_ford             0\n",
       "BrandOfTheVehicle_honda            0\n",
       "BrandOfTheVehicle_hyundai          0\n",
       "BrandOfTheVehicle_jaguar           0\n",
       "BrandOfTheVehicle_jeep             0\n",
       "BrandOfTheVehicle_kia              0\n",
       "BrandOfTheVehicle_lada             0\n",
       "BrandOfTheVehicle_lancia           0\n",
       "BrandOfTheVehicle_land_rover       0\n",
       "BrandOfTheVehicle_mazda            0\n",
       "BrandOfTheVehicle_mercedes_benz    0\n",
       "BrandOfTheVehicle_mini             0\n",
       "BrandOfTheVehicle_mitsubishi       0\n",
       "BrandOfTheVehicle_nissan           0\n",
       "BrandOfTheVehicle_opel             0\n",
       "BrandOfTheVehicle_peugeot          0\n",
       "BrandOfTheVehicle_porsche          0\n",
       "BrandOfTheVehicle_renault          0\n",
       "BrandOfTheVehicle_saab             0\n",
       "BrandOfTheVehicle_seat             0\n",
       "BrandOfTheVehicle_skoda            0\n",
       "BrandOfTheVehicle_smart            0\n",
       "BrandOfTheVehicle_subaru           0\n",
       "BrandOfTheVehicle_suzuki           0\n",
       "BrandOfTheVehicle_toyota           0\n",
       "BrandOfTheVehicle_volkswagen       0\n",
       "BrandOfTheVehicle_volvo            0\n",
       "IsDamageRepaired_Yes               0\n",
       "dtype: int64"
      ]
     },
     "execution_count": 340,
     "metadata": {},
     "output_type": "execute_result"
    }
   ],
   "source": [
    "feats.head(6)\n",
    "feats.isnull().sum()"
   ]
  },
  {
   "cell_type": "code",
   "execution_count": 341,
   "metadata": {},
   "outputs": [
    {
     "ename": "ValueError",
     "evalue": "Number of features of the model must match the input. Model n_features is 55 and input n_features is 54 ",
     "output_type": "error",
     "traceback": [
      "\u001b[1;31m---------------------------------------------------------------------------\u001b[0m",
      "\u001b[1;31mValueError\u001b[0m                                Traceback (most recent call last)",
      "\u001b[1;32m<ipython-input-341-5fe1b46680d1>\u001b[0m in \u001b[0;36m<module>\u001b[1;34m()\u001b[0m\n\u001b[0;32m      1\u001b[0m \u001b[1;31m# Select the features from Test data\u001b[0m\u001b[1;33m\u001b[0m\u001b[1;33m\u001b[0m\u001b[0m\n\u001b[1;32m----> 2\u001b[1;33m \u001b[0mpredictions\u001b[0m \u001b[1;33m=\u001b[0m \u001b[0mGBM_model\u001b[0m\u001b[1;33m.\u001b[0m\u001b[0mpredict\u001b[0m\u001b[1;33m(\u001b[0m\u001b[0mfeats\u001b[0m\u001b[1;33m)\u001b[0m\u001b[1;33m\u001b[0m\u001b[0m\n\u001b[0m",
      "\u001b[1;32mC:\\ProgramData\\Anaconda3\\lib\\site-packages\\sklearn\\ensemble\\gradient_boosting.py\u001b[0m in \u001b[0;36mpredict\u001b[1;34m(self, X)\u001b[0m\n\u001b[0;32m   1890\u001b[0m         \"\"\"\n\u001b[0;32m   1891\u001b[0m         \u001b[0mX\u001b[0m \u001b[1;33m=\u001b[0m \u001b[0mcheck_array\u001b[0m\u001b[1;33m(\u001b[0m\u001b[0mX\u001b[0m\u001b[1;33m,\u001b[0m \u001b[0mdtype\u001b[0m\u001b[1;33m=\u001b[0m\u001b[0mDTYPE\u001b[0m\u001b[1;33m,\u001b[0m \u001b[0morder\u001b[0m\u001b[1;33m=\u001b[0m\u001b[1;34m\"C\"\u001b[0m\u001b[1;33m,\u001b[0m  \u001b[0maccept_sparse\u001b[0m\u001b[1;33m=\u001b[0m\u001b[1;34m'csr'\u001b[0m\u001b[1;33m)\u001b[0m\u001b[1;33m\u001b[0m\u001b[0m\n\u001b[1;32m-> 1892\u001b[1;33m         \u001b[1;32mreturn\u001b[0m \u001b[0mself\u001b[0m\u001b[1;33m.\u001b[0m\u001b[0m_decision_function\u001b[0m\u001b[1;33m(\u001b[0m\u001b[0mX\u001b[0m\u001b[1;33m)\u001b[0m\u001b[1;33m.\u001b[0m\u001b[0mravel\u001b[0m\u001b[1;33m(\u001b[0m\u001b[1;33m)\u001b[0m\u001b[1;33m\u001b[0m\u001b[0m\n\u001b[0m\u001b[0;32m   1893\u001b[0m \u001b[1;33m\u001b[0m\u001b[0m\n\u001b[0;32m   1894\u001b[0m     \u001b[1;32mdef\u001b[0m \u001b[0mstaged_predict\u001b[0m\u001b[1;33m(\u001b[0m\u001b[0mself\u001b[0m\u001b[1;33m,\u001b[0m \u001b[0mX\u001b[0m\u001b[1;33m)\u001b[0m\u001b[1;33m:\u001b[0m\u001b[1;33m\u001b[0m\u001b[0m\n",
      "\u001b[1;32mC:\\ProgramData\\Anaconda3\\lib\\site-packages\\sklearn\\ensemble\\gradient_boosting.py\u001b[0m in \u001b[0;36m_decision_function\u001b[1;34m(self, X)\u001b[0m\n\u001b[0;32m   1128\u001b[0m         \u001b[1;31m# for use in inner loop, not raveling the output in single-class case,\u001b[0m\u001b[1;33m\u001b[0m\u001b[1;33m\u001b[0m\u001b[0m\n\u001b[0;32m   1129\u001b[0m         \u001b[1;31m# not doing input validation.\u001b[0m\u001b[1;33m\u001b[0m\u001b[1;33m\u001b[0m\u001b[0m\n\u001b[1;32m-> 1130\u001b[1;33m         \u001b[0mscore\u001b[0m \u001b[1;33m=\u001b[0m \u001b[0mself\u001b[0m\u001b[1;33m.\u001b[0m\u001b[0m_init_decision_function\u001b[0m\u001b[1;33m(\u001b[0m\u001b[0mX\u001b[0m\u001b[1;33m)\u001b[0m\u001b[1;33m\u001b[0m\u001b[0m\n\u001b[0m\u001b[0;32m   1131\u001b[0m         \u001b[0mpredict_stages\u001b[0m\u001b[1;33m(\u001b[0m\u001b[0mself\u001b[0m\u001b[1;33m.\u001b[0m\u001b[0mestimators_\u001b[0m\u001b[1;33m,\u001b[0m \u001b[0mX\u001b[0m\u001b[1;33m,\u001b[0m \u001b[0mself\u001b[0m\u001b[1;33m.\u001b[0m\u001b[0mlearning_rate\u001b[0m\u001b[1;33m,\u001b[0m \u001b[0mscore\u001b[0m\u001b[1;33m)\u001b[0m\u001b[1;33m\u001b[0m\u001b[0m\n\u001b[0;32m   1132\u001b[0m         \u001b[1;32mreturn\u001b[0m \u001b[0mscore\u001b[0m\u001b[1;33m\u001b[0m\u001b[0m\n",
      "\u001b[1;32mC:\\ProgramData\\Anaconda3\\lib\\site-packages\\sklearn\\ensemble\\gradient_boosting.py\u001b[0m in \u001b[0;36m_init_decision_function\u001b[1;34m(self, X)\u001b[0m\n\u001b[0;32m   1118\u001b[0m         \u001b[1;34m\"\"\"Check input and compute prediction of ``init``. \"\"\"\u001b[0m\u001b[1;33m\u001b[0m\u001b[0m\n\u001b[0;32m   1119\u001b[0m         \u001b[0mself\u001b[0m\u001b[1;33m.\u001b[0m\u001b[0m_check_initialized\u001b[0m\u001b[1;33m(\u001b[0m\u001b[1;33m)\u001b[0m\u001b[1;33m\u001b[0m\u001b[0m\n\u001b[1;32m-> 1120\u001b[1;33m         \u001b[0mX\u001b[0m \u001b[1;33m=\u001b[0m \u001b[0mself\u001b[0m\u001b[1;33m.\u001b[0m\u001b[0mestimators_\u001b[0m\u001b[1;33m[\u001b[0m\u001b[1;36m0\u001b[0m\u001b[1;33m,\u001b[0m \u001b[1;36m0\u001b[0m\u001b[1;33m]\u001b[0m\u001b[1;33m.\u001b[0m\u001b[0m_validate_X_predict\u001b[0m\u001b[1;33m(\u001b[0m\u001b[0mX\u001b[0m\u001b[1;33m,\u001b[0m \u001b[0mcheck_input\u001b[0m\u001b[1;33m=\u001b[0m\u001b[1;32mTrue\u001b[0m\u001b[1;33m)\u001b[0m\u001b[1;33m\u001b[0m\u001b[0m\n\u001b[0m\u001b[0;32m   1121\u001b[0m         \u001b[1;32mif\u001b[0m \u001b[0mX\u001b[0m\u001b[1;33m.\u001b[0m\u001b[0mshape\u001b[0m\u001b[1;33m[\u001b[0m\u001b[1;36m1\u001b[0m\u001b[1;33m]\u001b[0m \u001b[1;33m!=\u001b[0m \u001b[0mself\u001b[0m\u001b[1;33m.\u001b[0m\u001b[0mn_features_\u001b[0m\u001b[1;33m:\u001b[0m\u001b[1;33m\u001b[0m\u001b[0m\n\u001b[0;32m   1122\u001b[0m             raise ValueError(\"X.shape[1] should be {0:d}, not {1:d}.\".format(\n",
      "\u001b[1;32mC:\\ProgramData\\Anaconda3\\lib\\site-packages\\sklearn\\tree\\tree.py\u001b[0m in \u001b[0;36m_validate_X_predict\u001b[1;34m(self, X, check_input)\u001b[0m\n\u001b[0;32m    382\u001b[0m                              \u001b[1;34m\"match the input. Model n_features is %s and \"\u001b[0m\u001b[1;33m\u001b[0m\u001b[0m\n\u001b[0;32m    383\u001b[0m                              \u001b[1;34m\"input n_features is %s \"\u001b[0m\u001b[1;33m\u001b[0m\u001b[0m\n\u001b[1;32m--> 384\u001b[1;33m                              % (self.n_features_, n_features))\n\u001b[0m\u001b[0;32m    385\u001b[0m \u001b[1;33m\u001b[0m\u001b[0m\n\u001b[0;32m    386\u001b[0m         \u001b[1;32mreturn\u001b[0m \u001b[0mX\u001b[0m\u001b[1;33m\u001b[0m\u001b[0m\n",
      "\u001b[1;31mValueError\u001b[0m: Number of features of the model must match the input. Model n_features is 55 and input n_features is 54 "
     ]
    }
   ],
   "source": [
    "# Select the features from Test data\n",
    "predictions = GBM_model.predict(feats)"
   ]
  },
  {
   "cell_type": "code",
   "execution_count": 375,
   "metadata": {},
   "outputs": [],
   "source": [
    "# Transform the Predicitons to correct form\n",
    "final_predictions = np.exp(predictions)"
   ]
  },
  {
   "cell_type": "code",
   "execution_count": 376,
   "metadata": {},
   "outputs": [
    {
     "name": "stdout",
     "output_type": "stream",
     "text": [
      "Original predictions are: \n",
      " [9.95586023 8.57712176 7.85323249 8.80743407 9.76807578] \n",
      "\n",
      "Final predictions are: \n",
      " [21075.36768026  5308.80351991  2574.04143898  6683.74722859\n",
      " 17467.12426059]\n"
     ]
    }
   ],
   "source": [
    "# Compare Original and Final Predicitons\n",
    "print (\"Original predictions are: \\n\", predictions[:5], \"\\n\")\n",
    "print (\"Final predictions are: \\n\", final_predictions[:5])"
   ]
  },
  {
   "cell_type": "code",
   "execution_count": 368,
   "metadata": {},
   "outputs": [
    {
     "data": {
      "text/plain": [
       "(15626, 54)"
      ]
     },
     "execution_count": 368,
     "metadata": {},
     "output_type": "execute_result"
    }
   ],
   "source": [
    "test.shape"
   ]
  },
  {
   "cell_type": "code",
   "execution_count": 378,
   "metadata": {},
   "outputs": [
    {
     "ename": "ValueError",
     "evalue": "Length of values does not match length of index",
     "output_type": "error",
     "traceback": [
      "\u001b[1;31m---------------------------------------------------------------------------\u001b[0m",
      "\u001b[1;31mValueError\u001b[0m                                Traceback (most recent call last)",
      "\u001b[1;32m<ipython-input-378-d845b423cf34>\u001b[0m in \u001b[0;36m<module>\u001b[1;34m()\u001b[0m\n\u001b[1;32m----> 1\u001b[1;33m \u001b[0msubmission\u001b[0m\u001b[1;33m[\u001b[0m\u001b[1;34m'Price'\u001b[0m\u001b[1;33m]\u001b[0m \u001b[1;33m=\u001b[0m \u001b[0mfinal_predictions\u001b[0m\u001b[1;33m\u001b[0m\u001b[0m\n\u001b[0m\u001b[0;32m      2\u001b[0m \u001b[0msubmission\u001b[0m\u001b[1;33m.\u001b[0m\u001b[0mhead\u001b[0m\u001b[1;33m(\u001b[0m\u001b[1;33m)\u001b[0m\u001b[1;33m\u001b[0m\u001b[0m\n",
      "\u001b[1;32m~\\AppData\\Roaming\\Python\\Python36\\site-packages\\pandas\\core\\frame.py\u001b[0m in \u001b[0;36m__setitem__\u001b[1;34m(self, key, value)\u001b[0m\n\u001b[0;32m   3117\u001b[0m         \u001b[1;32melse\u001b[0m\u001b[1;33m:\u001b[0m\u001b[1;33m\u001b[0m\u001b[0m\n\u001b[0;32m   3118\u001b[0m             \u001b[1;31m# set column\u001b[0m\u001b[1;33m\u001b[0m\u001b[1;33m\u001b[0m\u001b[0m\n\u001b[1;32m-> 3119\u001b[1;33m             \u001b[0mself\u001b[0m\u001b[1;33m.\u001b[0m\u001b[0m_set_item\u001b[0m\u001b[1;33m(\u001b[0m\u001b[0mkey\u001b[0m\u001b[1;33m,\u001b[0m \u001b[0mvalue\u001b[0m\u001b[1;33m)\u001b[0m\u001b[1;33m\u001b[0m\u001b[0m\n\u001b[0m\u001b[0;32m   3120\u001b[0m \u001b[1;33m\u001b[0m\u001b[0m\n\u001b[0;32m   3121\u001b[0m     \u001b[1;32mdef\u001b[0m \u001b[0m_setitem_slice\u001b[0m\u001b[1;33m(\u001b[0m\u001b[0mself\u001b[0m\u001b[1;33m,\u001b[0m \u001b[0mkey\u001b[0m\u001b[1;33m,\u001b[0m \u001b[0mvalue\u001b[0m\u001b[1;33m)\u001b[0m\u001b[1;33m:\u001b[0m\u001b[1;33m\u001b[0m\u001b[0m\n",
      "\u001b[1;32m~\\AppData\\Roaming\\Python\\Python36\\site-packages\\pandas\\core\\frame.py\u001b[0m in \u001b[0;36m_set_item\u001b[1;34m(self, key, value)\u001b[0m\n\u001b[0;32m   3192\u001b[0m \u001b[1;33m\u001b[0m\u001b[0m\n\u001b[0;32m   3193\u001b[0m         \u001b[0mself\u001b[0m\u001b[1;33m.\u001b[0m\u001b[0m_ensure_valid_index\u001b[0m\u001b[1;33m(\u001b[0m\u001b[0mvalue\u001b[0m\u001b[1;33m)\u001b[0m\u001b[1;33m\u001b[0m\u001b[0m\n\u001b[1;32m-> 3194\u001b[1;33m         \u001b[0mvalue\u001b[0m \u001b[1;33m=\u001b[0m \u001b[0mself\u001b[0m\u001b[1;33m.\u001b[0m\u001b[0m_sanitize_column\u001b[0m\u001b[1;33m(\u001b[0m\u001b[0mkey\u001b[0m\u001b[1;33m,\u001b[0m \u001b[0mvalue\u001b[0m\u001b[1;33m)\u001b[0m\u001b[1;33m\u001b[0m\u001b[0m\n\u001b[0m\u001b[0;32m   3195\u001b[0m         \u001b[0mNDFrame\u001b[0m\u001b[1;33m.\u001b[0m\u001b[0m_set_item\u001b[0m\u001b[1;33m(\u001b[0m\u001b[0mself\u001b[0m\u001b[1;33m,\u001b[0m \u001b[0mkey\u001b[0m\u001b[1;33m,\u001b[0m \u001b[0mvalue\u001b[0m\u001b[1;33m)\u001b[0m\u001b[1;33m\u001b[0m\u001b[0m\n\u001b[0;32m   3196\u001b[0m \u001b[1;33m\u001b[0m\u001b[0m\n",
      "\u001b[1;32m~\\AppData\\Roaming\\Python\\Python36\\site-packages\\pandas\\core\\frame.py\u001b[0m in \u001b[0;36m_sanitize_column\u001b[1;34m(self, key, value, broadcast)\u001b[0m\n\u001b[0;32m   3389\u001b[0m \u001b[1;33m\u001b[0m\u001b[0m\n\u001b[0;32m   3390\u001b[0m             \u001b[1;31m# turn me into an ndarray\u001b[0m\u001b[1;33m\u001b[0m\u001b[1;33m\u001b[0m\u001b[0m\n\u001b[1;32m-> 3391\u001b[1;33m             \u001b[0mvalue\u001b[0m \u001b[1;33m=\u001b[0m \u001b[0m_sanitize_index\u001b[0m\u001b[1;33m(\u001b[0m\u001b[0mvalue\u001b[0m\u001b[1;33m,\u001b[0m \u001b[0mself\u001b[0m\u001b[1;33m.\u001b[0m\u001b[0mindex\u001b[0m\u001b[1;33m,\u001b[0m \u001b[0mcopy\u001b[0m\u001b[1;33m=\u001b[0m\u001b[1;32mFalse\u001b[0m\u001b[1;33m)\u001b[0m\u001b[1;33m\u001b[0m\u001b[0m\n\u001b[0m\u001b[0;32m   3392\u001b[0m             \u001b[1;32mif\u001b[0m \u001b[1;32mnot\u001b[0m \u001b[0misinstance\u001b[0m\u001b[1;33m(\u001b[0m\u001b[0mvalue\u001b[0m\u001b[1;33m,\u001b[0m \u001b[1;33m(\u001b[0m\u001b[0mnp\u001b[0m\u001b[1;33m.\u001b[0m\u001b[0mndarray\u001b[0m\u001b[1;33m,\u001b[0m \u001b[0mIndex\u001b[0m\u001b[1;33m)\u001b[0m\u001b[1;33m)\u001b[0m\u001b[1;33m:\u001b[0m\u001b[1;33m\u001b[0m\u001b[0m\n\u001b[0;32m   3393\u001b[0m                 \u001b[1;32mif\u001b[0m \u001b[0misinstance\u001b[0m\u001b[1;33m(\u001b[0m\u001b[0mvalue\u001b[0m\u001b[1;33m,\u001b[0m \u001b[0mlist\u001b[0m\u001b[1;33m)\u001b[0m \u001b[1;32mand\u001b[0m \u001b[0mlen\u001b[0m\u001b[1;33m(\u001b[0m\u001b[0mvalue\u001b[0m\u001b[1;33m)\u001b[0m \u001b[1;33m>\u001b[0m \u001b[1;36m0\u001b[0m\u001b[1;33m:\u001b[0m\u001b[1;33m\u001b[0m\u001b[0m\n",
      "\u001b[1;32m~\\AppData\\Roaming\\Python\\Python36\\site-packages\\pandas\\core\\series.py\u001b[0m in \u001b[0;36m_sanitize_index\u001b[1;34m(data, index, copy)\u001b[0m\n\u001b[0;32m   3999\u001b[0m \u001b[1;33m\u001b[0m\u001b[0m\n\u001b[0;32m   4000\u001b[0m     \u001b[1;32mif\u001b[0m \u001b[0mlen\u001b[0m\u001b[1;33m(\u001b[0m\u001b[0mdata\u001b[0m\u001b[1;33m)\u001b[0m \u001b[1;33m!=\u001b[0m \u001b[0mlen\u001b[0m\u001b[1;33m(\u001b[0m\u001b[0mindex\u001b[0m\u001b[1;33m)\u001b[0m\u001b[1;33m:\u001b[0m\u001b[1;33m\u001b[0m\u001b[0m\n\u001b[1;32m-> 4001\u001b[1;33m         \u001b[1;32mraise\u001b[0m \u001b[0mValueError\u001b[0m\u001b[1;33m(\u001b[0m\u001b[1;34m'Length of values does not match length of '\u001b[0m \u001b[1;34m'index'\u001b[0m\u001b[1;33m)\u001b[0m\u001b[1;33m\u001b[0m\u001b[0m\n\u001b[0m\u001b[0;32m   4002\u001b[0m \u001b[1;33m\u001b[0m\u001b[0m\n\u001b[0;32m   4003\u001b[0m     \u001b[1;32mif\u001b[0m \u001b[0misinstance\u001b[0m\u001b[1;33m(\u001b[0m\u001b[0mdata\u001b[0m\u001b[1;33m,\u001b[0m \u001b[0mABCIndexClass\u001b[0m\u001b[1;33m)\u001b[0m \u001b[1;32mand\u001b[0m \u001b[1;32mnot\u001b[0m \u001b[0mcopy\u001b[0m\u001b[1;33m:\u001b[0m\u001b[1;33m\u001b[0m\u001b[0m\n",
      "\u001b[1;31mValueError\u001b[0m: Length of values does not match length of index"
     ]
    }
   ],
   "source": [
    "submission['Price'] = final_predictions\n",
    "submission.head()"
   ]
  },
  {
   "cell_type": "code",
   "execution_count": null,
   "metadata": {},
   "outputs": [],
   "source": [
    "submission.to_csv('submissionB.csv', index=False)"
   ]
  }
 ],
 "metadata": {
  "kernelspec": {
   "display_name": "Python 3",
   "language": "python",
   "name": "python3"
  }
 },
 "nbformat": 4,
 "nbformat_minor": 2
}
