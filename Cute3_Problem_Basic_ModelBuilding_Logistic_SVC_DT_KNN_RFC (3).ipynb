{
 "cells": [
  {
   "cell_type": "code",
   "execution_count": 40,
   "metadata": {},
   "outputs": [
    {
     "ename": "ModuleNotFoundError",
     "evalue": "No module named 'missingno'",
     "output_type": "error",
     "traceback": [
      "\u001b[1;31m---------------------------------------------------------------------------\u001b[0m",
      "\u001b[1;31mModuleNotFoundError\u001b[0m                       Traceback (most recent call last)",
      "\u001b[1;32m<ipython-input-40-2eb002ff0d6f>\u001b[0m in \u001b[0;36m<module>\u001b[1;34m()\u001b[0m\n\u001b[0;32m      9\u001b[0m \u001b[1;32mfrom\u001b[0m \u001b[0mscipy\u001b[0m\u001b[1;33m.\u001b[0m\u001b[0mio\u001b[0m \u001b[1;32mimport\u001b[0m \u001b[0marff\u001b[0m\u001b[1;33m\u001b[0m\u001b[0m\n\u001b[0;32m     10\u001b[0m \u001b[1;31m# To analyze the type of missing data\u001b[0m\u001b[1;33m\u001b[0m\u001b[1;33m\u001b[0m\u001b[0m\n\u001b[1;32m---> 11\u001b[1;33m \u001b[1;32mimport\u001b[0m \u001b[0mmissingno\u001b[0m \u001b[1;32mas\u001b[0m \u001b[0mmsno\u001b[0m\u001b[1;33m\u001b[0m\u001b[0m\n\u001b[0m\u001b[0;32m     12\u001b[0m \u001b[1;31m# Library for performing k-NN and MICE imputations\u001b[0m\u001b[1;33m\u001b[0m\u001b[1;33m\u001b[0m\u001b[0m\n\u001b[0;32m     13\u001b[0m \u001b[1;32mimport\u001b[0m \u001b[0mfancyimpute\u001b[0m\u001b[1;33m\u001b[0m\u001b[0m\n",
      "\u001b[1;31mModuleNotFoundError\u001b[0m: No module named 'missingno'"
     ]
    }
   ],
   "source": [
    "import os\n",
    "import pandas as pd\n",
    "import numpy as np\n",
    "# Basic Libraries for Data organization, Statistical operations and Plotting\n",
    "import numpy as np\n",
    "import pandas as pd\n",
    "%matplotlib inline\n",
    "# For loading .arff files\n",
    "from scipy.io import arff\n",
    "# To analyze the type of missing data\n",
    "import missingno as msno\n",
    "# Library for performing k-NN and MICE imputations \n",
    "import fancyimpute\n",
    "# Library to perform Expectation-Maximization (EM) imputation\n",
    "import impyute as impy\n",
    "# To perform mean imputation\n",
    "from sklearn.preprocessing import Imputer\n",
    "#To perform kFold Cross Validation\n",
    "from sklearn.model_selection import KFold\n",
    "# Formatted counter of class labels\n",
    "from collections import Counter\n",
    "# Ordered Dictionary\n",
    "from collections import OrderedDict\n",
    "# Library imbalanced-learn to deal with the data imbalance. To use SMOTE oversampling\n",
    "from imblearn.over_sampling import SMOTE \n",
    "\n",
    "# Impoting classification models\n",
    "from xgboost import XGBClassifier\n",
    "from sklearn.svm import SVC\n",
    "from sklearn.ensemble import RandomForestClassifier\n",
    "from sklearn.linear_model import LogisticRegression\n",
    "from imblearn.ensemble import BalancedBaggingClassifier\n",
    "from sklearn.tree import DecisionTreeClassifier\n",
    "from sklearn.naive_bayes import GaussianNB\n",
    "\n",
    "import random\n",
    "\n",
    "from sklearn.metrics import accuracy_score\n",
    "from sklearn.metrics import precision_score\n",
    "from sklearn.metrics import recall_score\n",
    "from sklearn.metrics import classification_report\n",
    "from sklearn.metrics import confusion_matrix\n",
    "from sklearn.metrics import roc_curve\n",
    "from sklearn.metrics import precision_recall_curve"
   ]
  },
  {
   "cell_type": "code",
   "execution_count": 2,
   "metadata": {},
   "outputs": [
    {
     "data": {
      "text/plain": [
       "'C:\\\\Users\\\\Gnanendra\\\\Downloads'"
      ]
     },
     "execution_count": 2,
     "metadata": {},
     "output_type": "execute_result"
    }
   ],
   "source": [
    "os.getcwd()"
   ]
  },
  {
   "cell_type": "code",
   "execution_count": 80,
   "metadata": {},
   "outputs": [],
   "source": [
    "bank_data = pd.read_csv(\"bank_data.csv\")"
   ]
  },
  {
   "cell_type": "code",
   "execution_count": 81,
   "metadata": {},
   "outputs": [
    {
     "name": "stdout",
     "output_type": "stream",
     "text": [
      "<class 'pandas.core.frame.DataFrame'>\n",
      "RangeIndex: 24996 entries, 0 to 24995\n",
      "Data columns (total 65 columns):\n",
      "Attr1     24990 non-null float64\n",
      "Attr2     24990 non-null float64\n",
      "Attr3     24990 non-null float64\n",
      "Attr4     24910 non-null float64\n",
      "Attr5     24951 non-null float64\n",
      "Attr6     24990 non-null float64\n",
      "Attr7     24990 non-null float64\n",
      "Attr8     24931 non-null float64\n",
      "Attr9     24988 non-null float64\n",
      "Attr10    24990 non-null float64\n",
      "Attr11    24086 non-null float64\n",
      "Attr12    24910 non-null float64\n",
      "Attr13    24913 non-null float64\n",
      "Attr14    24990 non-null float64\n",
      "Attr15    24968 non-null float64\n",
      "Attr16    24931 non-null float64\n",
      "Attr17    24931 non-null float64\n",
      "Attr18    24990 non-null float64\n",
      "Attr19    24912 non-null float64\n",
      "Attr20    24913 non-null float64\n",
      "Attr21    19595 non-null float64\n",
      "Attr22    24990 non-null float64\n",
      "Attr23    24913 non-null float64\n",
      "Attr24    24495 non-null float64\n",
      "Attr25    24990 non-null float64\n",
      "Attr26    24931 non-null float64\n",
      "Attr27    22269 non-null float64\n",
      "Attr28    24469 non-null float64\n",
      "Attr29    24990 non-null float64\n",
      "Attr30    24913 non-null float64\n",
      "Attr31    24913 non-null float64\n",
      "Attr32    24777 non-null float64\n",
      "Attr33    24910 non-null float64\n",
      "Attr34    24931 non-null float64\n",
      "Attr35    24990 non-null float64\n",
      "Attr36    24990 non-null float64\n",
      "Attr37    13528 non-null float64\n",
      "Attr38    24990 non-null float64\n",
      "Attr39    24913 non-null float64\n",
      "Attr40    24910 non-null float64\n",
      "Attr41    24629 non-null float64\n",
      "Attr42    24913 non-null float64\n",
      "Attr43    24913 non-null float64\n",
      "Attr44    24913 non-null float64\n",
      "Attr45    23226 non-null float64\n",
      "Attr46    24908 non-null float64\n",
      "Attr47    24826 non-null float64\n",
      "Attr48    24990 non-null float64\n",
      "Attr49    24913 non-null float64\n",
      "Attr50    24931 non-null float64\n",
      "Attr51    24990 non-null float64\n",
      "Attr52    24822 non-null float64\n",
      "Attr53    24469 non-null float64\n",
      "Attr54    24469 non-null float64\n",
      "Attr55    24996 non-null float64\n",
      "Attr56    24913 non-null float64\n",
      "Attr57    24989 non-null float64\n",
      "Attr58    24942 non-null float64\n",
      "Attr59    24989 non-null float64\n",
      "Attr60    23226 non-null float64\n",
      "Attr61    24935 non-null float64\n",
      "Attr62    24913 non-null float64\n",
      "Attr63    24910 non-null float64\n",
      "Attr64    24469 non-null float64\n",
      "target    24996 non-null object\n",
      "dtypes: float64(64), object(1)\n",
      "memory usage: 12.4+ MB\n"
     ]
    }
   ],
   "source": [
    "bank_data.info()"
   ]
  },
  {
   "cell_type": "code",
   "execution_count": 82,
   "metadata": {},
   "outputs": [
    {
     "name": "stdout",
     "output_type": "stream",
     "text": [
      "<class 'pandas.core.frame.DataFrame'>\n",
      "RangeIndex: 24996 entries, 0 to 24995\n",
      "Data columns (total 65 columns):\n",
      "Attr1     24990 non-null float64\n",
      "Attr2     24990 non-null float64\n",
      "Attr3     24990 non-null float64\n",
      "Attr4     24910 non-null float64\n",
      "Attr5     24951 non-null float64\n",
      "Attr6     24990 non-null float64\n",
      "Attr7     24990 non-null float64\n",
      "Attr8     24931 non-null float64\n",
      "Attr9     24988 non-null float64\n",
      "Attr10    24990 non-null float64\n",
      "Attr11    24086 non-null float64\n",
      "Attr12    24910 non-null float64\n",
      "Attr13    24913 non-null float64\n",
      "Attr14    24990 non-null float64\n",
      "Attr15    24968 non-null float64\n",
      "Attr16    24931 non-null float64\n",
      "Attr17    24931 non-null float64\n",
      "Attr18    24990 non-null float64\n",
      "Attr19    24912 non-null float64\n",
      "Attr20    24913 non-null float64\n",
      "Attr21    19595 non-null float64\n",
      "Attr22    24990 non-null float64\n",
      "Attr23    24913 non-null float64\n",
      "Attr24    24495 non-null float64\n",
      "Attr25    24990 non-null float64\n",
      "Attr26    24931 non-null float64\n",
      "Attr27    22269 non-null float64\n",
      "Attr28    24469 non-null float64\n",
      "Attr29    24990 non-null float64\n",
      "Attr30    24913 non-null float64\n",
      "Attr31    24913 non-null float64\n",
      "Attr32    24777 non-null float64\n",
      "Attr33    24910 non-null float64\n",
      "Attr34    24931 non-null float64\n",
      "Attr35    24990 non-null float64\n",
      "Attr36    24990 non-null float64\n",
      "Attr37    13528 non-null float64\n",
      "Attr38    24990 non-null float64\n",
      "Attr39    24913 non-null float64\n",
      "Attr40    24910 non-null float64\n",
      "Attr41    24629 non-null float64\n",
      "Attr42    24913 non-null float64\n",
      "Attr43    24913 non-null float64\n",
      "Attr44    24913 non-null float64\n",
      "Attr45    23226 non-null float64\n",
      "Attr46    24908 non-null float64\n",
      "Attr47    24826 non-null float64\n",
      "Attr48    24990 non-null float64\n",
      "Attr49    24913 non-null float64\n",
      "Attr50    24931 non-null float64\n",
      "Attr51    24990 non-null float64\n",
      "Attr52    24822 non-null float64\n",
      "Attr53    24469 non-null float64\n",
      "Attr54    24469 non-null float64\n",
      "Attr55    24996 non-null float64\n",
      "Attr56    24913 non-null float64\n",
      "Attr57    24989 non-null float64\n",
      "Attr58    24942 non-null float64\n",
      "Attr59    24989 non-null float64\n",
      "Attr60    23226 non-null float64\n",
      "Attr61    24935 non-null float64\n",
      "Attr62    24913 non-null float64\n",
      "Attr63    24910 non-null float64\n",
      "Attr64    24469 non-null float64\n",
      "target    24996 non-null object\n",
      "dtypes: float64(64), object(1)\n",
      "memory usage: 12.4+ MB\n"
     ]
    },
    {
     "data": {
      "text/plain": [
       "True"
      ]
     },
     "execution_count": 82,
     "metadata": {},
     "output_type": "execute_result"
    }
   ],
   "source": [
    "info_return = bank_data.info()\n",
    "count_return = bank_data.count()\n",
    "info_return is None"
   ]
  },
  {
   "cell_type": "code",
   "execution_count": 83,
   "metadata": {},
   "outputs": [
    {
     "data": {
      "text/plain": [
       "Attr1         6\n",
       "Attr2         6\n",
       "Attr3         6\n",
       "Attr4        86\n",
       "Attr5        45\n",
       "Attr6         6\n",
       "Attr7         6\n",
       "Attr8        65\n",
       "Attr9         8\n",
       "Attr10        6\n",
       "Attr11      910\n",
       "Attr12       86\n",
       "Attr13       83\n",
       "Attr14        6\n",
       "Attr15       28\n",
       "Attr16       65\n",
       "Attr17       65\n",
       "Attr18        6\n",
       "Attr19       84\n",
       "Attr20       83\n",
       "Attr21     5401\n",
       "Attr22        6\n",
       "Attr23       83\n",
       "Attr24      501\n",
       "Attr25        6\n",
       "Attr26       65\n",
       "Attr27     2727\n",
       "Attr28      527\n",
       "Attr29        6\n",
       "Attr30       83\n",
       "          ...  \n",
       "Attr36        6\n",
       "Attr37    11468\n",
       "Attr38        6\n",
       "Attr39       83\n",
       "Attr40       86\n",
       "Attr41      367\n",
       "Attr42       83\n",
       "Attr43       83\n",
       "Attr44       83\n",
       "Attr45     1770\n",
       "Attr46       88\n",
       "Attr47      170\n",
       "Attr48        6\n",
       "Attr49       83\n",
       "Attr50       65\n",
       "Attr51        6\n",
       "Attr52      174\n",
       "Attr53      527\n",
       "Attr54      527\n",
       "Attr55        0\n",
       "Attr56       83\n",
       "Attr57        7\n",
       "Attr58       54\n",
       "Attr59        7\n",
       "Attr60     1770\n",
       "Attr61       61\n",
       "Attr62       83\n",
       "Attr63       86\n",
       "Attr64      527\n",
       "target        0\n",
       "Length: 65, dtype: int64"
      ]
     },
     "execution_count": 83,
     "metadata": {},
     "output_type": "execute_result"
    }
   ],
   "source": [
    "bank_data.isna().sum()"
   ]
  },
  {
   "cell_type": "code",
   "execution_count": 84,
   "metadata": {},
   "outputs": [
    {
     "data": {
      "text/plain": [
       "Attr1     0.000240\n",
       "Attr2     0.000240\n",
       "Attr3     0.000240\n",
       "Attr4     0.003441\n",
       "Attr5     0.001800\n",
       "Attr6     0.000240\n",
       "Attr7     0.000240\n",
       "Attr8     0.002600\n",
       "Attr9     0.000320\n",
       "Attr10    0.000240\n",
       "Attr11    0.036406\n",
       "Attr12    0.003441\n",
       "Attr13    0.003321\n",
       "Attr14    0.000240\n",
       "Attr15    0.001120\n",
       "Attr16    0.002600\n",
       "Attr17    0.002600\n",
       "Attr18    0.000240\n",
       "Attr19    0.003361\n",
       "Attr20    0.003321\n",
       "Attr21    0.216075\n",
       "Attr22    0.000240\n",
       "Attr23    0.003321\n",
       "Attr24    0.020043\n",
       "Attr25    0.000240\n",
       "Attr26    0.002600\n",
       "Attr27    0.109097\n",
       "Attr28    0.021083\n",
       "Attr29    0.000240\n",
       "Attr30    0.003321\n",
       "            ...   \n",
       "Attr36    0.000240\n",
       "Attr37    0.458793\n",
       "Attr38    0.000240\n",
       "Attr39    0.003321\n",
       "Attr40    0.003441\n",
       "Attr41    0.014682\n",
       "Attr42    0.003321\n",
       "Attr43    0.003321\n",
       "Attr44    0.003321\n",
       "Attr45    0.070811\n",
       "Attr46    0.003521\n",
       "Attr47    0.006801\n",
       "Attr48    0.000240\n",
       "Attr49    0.003321\n",
       "Attr50    0.002600\n",
       "Attr51    0.000240\n",
       "Attr52    0.006961\n",
       "Attr53    0.021083\n",
       "Attr54    0.021083\n",
       "Attr55    0.000000\n",
       "Attr56    0.003321\n",
       "Attr57    0.000280\n",
       "Attr58    0.002160\n",
       "Attr59    0.000280\n",
       "Attr60    0.070811\n",
       "Attr61    0.002440\n",
       "Attr62    0.003321\n",
       "Attr63    0.003441\n",
       "Attr64    0.021083\n",
       "target    0.000000\n",
       "Length: 65, dtype: float64"
      ]
     },
     "execution_count": 84,
     "metadata": {},
     "output_type": "execute_result"
    }
   ],
   "source": [
    "bank_data.isna().sum()/len(bank_data)"
   ]
  },
  {
   "cell_type": "code",
   "execution_count": 85,
   "metadata": {},
   "outputs": [
    {
     "data": {
      "text/html": [
       "<div>\n",
       "<style scoped>\n",
       "    .dataframe tbody tr th:only-of-type {\n",
       "        vertical-align: middle;\n",
       "    }\n",
       "\n",
       "    .dataframe tbody tr th {\n",
       "        vertical-align: top;\n",
       "    }\n",
       "\n",
       "    .dataframe thead th {\n",
       "        text-align: right;\n",
       "    }\n",
       "</style>\n",
       "<table border=\"1\" class=\"dataframe\">\n",
       "  <thead>\n",
       "    <tr style=\"text-align: right;\">\n",
       "      <th></th>\n",
       "      <th>Attr1</th>\n",
       "      <th>Attr2</th>\n",
       "      <th>Attr3</th>\n",
       "      <th>Attr4</th>\n",
       "      <th>Attr5</th>\n",
       "      <th>Attr6</th>\n",
       "      <th>Attr7</th>\n",
       "      <th>Attr8</th>\n",
       "      <th>Attr9</th>\n",
       "      <th>Attr10</th>\n",
       "      <th>...</th>\n",
       "      <th>Attr56</th>\n",
       "      <th>Attr57</th>\n",
       "      <th>Attr58</th>\n",
       "      <th>Attr59</th>\n",
       "      <th>Attr60</th>\n",
       "      <th>Attr61</th>\n",
       "      <th>Attr62</th>\n",
       "      <th>Attr63</th>\n",
       "      <th>Attr64</th>\n",
       "      <th>target</th>\n",
       "    </tr>\n",
       "  </thead>\n",
       "  <tbody>\n",
       "    <tr>\n",
       "      <th>0</th>\n",
       "      <td>0.036348</td>\n",
       "      <td>0.29370</td>\n",
       "      <td>0.22999</td>\n",
       "      <td>1.95800</td>\n",
       "      <td>49.611</td>\n",
       "      <td>0.323820</td>\n",
       "      <td>0.044336</td>\n",
       "      <td>2.17300</td>\n",
       "      <td>1.0571</td>\n",
       "      <td>0.63820</td>\n",
       "      <td>...</td>\n",
       "      <td>0.054040</td>\n",
       "      <td>0.056955</td>\n",
       "      <td>0.94596</td>\n",
       "      <td>0.084022</td>\n",
       "      <td>4.5846</td>\n",
       "      <td>2.1621</td>\n",
       "      <td>128.140</td>\n",
       "      <td>2.8484</td>\n",
       "      <td>1.2904</td>\n",
       "      <td>No</td>\n",
       "    </tr>\n",
       "    <tr>\n",
       "      <th>1</th>\n",
       "      <td>0.032515</td>\n",
       "      <td>0.25971</td>\n",
       "      <td>0.40845</td>\n",
       "      <td>2.57270</td>\n",
       "      <td>-6.682</td>\n",
       "      <td>-0.000148</td>\n",
       "      <td>0.040253</td>\n",
       "      <td>2.85050</td>\n",
       "      <td>2.1327</td>\n",
       "      <td>0.74029</td>\n",
       "      <td>...</td>\n",
       "      <td>0.000329</td>\n",
       "      <td>0.043921</td>\n",
       "      <td>0.98201</td>\n",
       "      <td>0.000000</td>\n",
       "      <td>4.7734</td>\n",
       "      <td>10.3800</td>\n",
       "      <td>44.448</td>\n",
       "      <td>8.2118</td>\n",
       "      <td>6.4267</td>\n",
       "      <td>No</td>\n",
       "    </tr>\n",
       "    <tr>\n",
       "      <th>2</th>\n",
       "      <td>0.019116</td>\n",
       "      <td>0.55685</td>\n",
       "      <td>-0.20328</td>\n",
       "      <td>0.56593</td>\n",
       "      <td>-59.719</td>\n",
       "      <td>0.000000</td>\n",
       "      <td>0.019116</td>\n",
       "      <td>0.79581</td>\n",
       "      <td>2.0933</td>\n",
       "      <td>0.44315</td>\n",
       "      <td>...</td>\n",
       "      <td>0.016719</td>\n",
       "      <td>0.043137</td>\n",
       "      <td>0.99131</td>\n",
       "      <td>0.110710</td>\n",
       "      <td>16.4970</td>\n",
       "      <td>15.4440</td>\n",
       "      <td>81.660</td>\n",
       "      <td>4.4698</td>\n",
       "      <td>2.8481</td>\n",
       "      <td>No</td>\n",
       "    </tr>\n",
       "    <tr>\n",
       "      <th>3</th>\n",
       "      <td>-0.173850</td>\n",
       "      <td>0.28684</td>\n",
       "      <td>0.20102</td>\n",
       "      <td>1.73250</td>\n",
       "      <td>356.930</td>\n",
       "      <td>0.000000</td>\n",
       "      <td>-0.173850</td>\n",
       "      <td>2.48630</td>\n",
       "      <td>3.0166</td>\n",
       "      <td>0.71316</td>\n",
       "      <td>...</td>\n",
       "      <td>0.178720</td>\n",
       "      <td>-0.243780</td>\n",
       "      <td>0.82306</td>\n",
       "      <td>0.000000</td>\n",
       "      <td>30.1680</td>\n",
       "      <td>51.1950</td>\n",
       "      <td>33.206</td>\n",
       "      <td>10.9920</td>\n",
       "      <td>5.7509</td>\n",
       "      <td>No</td>\n",
       "    </tr>\n",
       "    <tr>\n",
       "      <th>4</th>\n",
       "      <td>0.410710</td>\n",
       "      <td>0.14770</td>\n",
       "      <td>0.78015</td>\n",
       "      <td>6.28190</td>\n",
       "      <td>271.120</td>\n",
       "      <td>0.000000</td>\n",
       "      <td>0.534880</td>\n",
       "      <td>5.77040</td>\n",
       "      <td>1.6009</td>\n",
       "      <td>0.85230</td>\n",
       "      <td>...</td>\n",
       "      <td>0.326340</td>\n",
       "      <td>0.481890</td>\n",
       "      <td>0.66935</td>\n",
       "      <td>0.000000</td>\n",
       "      <td>NaN</td>\n",
       "      <td>5.0324</td>\n",
       "      <td>33.676</td>\n",
       "      <td>10.8390</td>\n",
       "      <td>22.1870</td>\n",
       "      <td>No</td>\n",
       "    </tr>\n",
       "  </tbody>\n",
       "</table>\n",
       "<p>5 rows × 65 columns</p>\n",
       "</div>"
      ],
      "text/plain": [
       "      Attr1    Attr2    Attr3    Attr4    Attr5     Attr6     Attr7    Attr8  \\\n",
       "0  0.036348  0.29370  0.22999  1.95800   49.611  0.323820  0.044336  2.17300   \n",
       "1  0.032515  0.25971  0.40845  2.57270   -6.682 -0.000148  0.040253  2.85050   \n",
       "2  0.019116  0.55685 -0.20328  0.56593  -59.719  0.000000  0.019116  0.79581   \n",
       "3 -0.173850  0.28684  0.20102  1.73250  356.930  0.000000 -0.173850  2.48630   \n",
       "4  0.410710  0.14770  0.78015  6.28190  271.120  0.000000  0.534880  5.77040   \n",
       "\n",
       "    Attr9   Attr10   ...      Attr56    Attr57   Attr58    Attr59   Attr60  \\\n",
       "0  1.0571  0.63820   ...    0.054040  0.056955  0.94596  0.084022   4.5846   \n",
       "1  2.1327  0.74029   ...    0.000329  0.043921  0.98201  0.000000   4.7734   \n",
       "2  2.0933  0.44315   ...    0.016719  0.043137  0.99131  0.110710  16.4970   \n",
       "3  3.0166  0.71316   ...    0.178720 -0.243780  0.82306  0.000000  30.1680   \n",
       "4  1.6009  0.85230   ...    0.326340  0.481890  0.66935  0.000000      NaN   \n",
       "\n",
       "    Attr61   Attr62   Attr63   Attr64  target  \n",
       "0   2.1621  128.140   2.8484   1.2904      No  \n",
       "1  10.3800   44.448   8.2118   6.4267      No  \n",
       "2  15.4440   81.660   4.4698   2.8481      No  \n",
       "3  51.1950   33.206  10.9920   5.7509      No  \n",
       "4   5.0324   33.676  10.8390  22.1870      No  \n",
       "\n",
       "[5 rows x 65 columns]"
      ]
     },
     "execution_count": 85,
     "metadata": {},
     "output_type": "execute_result"
    }
   ],
   "source": [
    "bank_data.head()"
   ]
  },
  {
   "cell_type": "code",
   "execution_count": 139,
   "metadata": {},
   "outputs": [
    {
     "data": {
      "text/plain": [
       "0    20830\n",
       "1     4166\n",
       "Name: target, dtype: int64"
      ]
     },
     "execution_count": 139,
     "metadata": {},
     "output_type": "execute_result"
    }
   ],
   "source": [
    "bank_data[\"target\"].value_counts()"
   ]
  },
  {
   "cell_type": "code",
   "execution_count": 87,
   "metadata": {},
   "outputs": [
    {
     "data": {
      "text/plain": [
       "Attr1     0.000240\n",
       "Attr2     0.000240\n",
       "Attr3     0.000240\n",
       "Attr4     0.003441\n",
       "Attr5     0.001800\n",
       "Attr6     0.000240\n",
       "Attr7     0.000240\n",
       "Attr8     0.002600\n",
       "Attr9     0.000320\n",
       "Attr10    0.000240\n",
       "Attr11    0.036406\n",
       "Attr12    0.003441\n",
       "Attr13    0.003321\n",
       "Attr14    0.000240\n",
       "Attr15    0.001120\n",
       "Attr16    0.002600\n",
       "Attr17    0.002600\n",
       "Attr18    0.000240\n",
       "Attr19    0.003361\n",
       "Attr20    0.003321\n",
       "Attr21    0.216075\n",
       "Attr22    0.000240\n",
       "Attr23    0.003321\n",
       "Attr24    0.020043\n",
       "Attr25    0.000240\n",
       "Attr26    0.002600\n",
       "Attr27    0.109097\n",
       "Attr28    0.021083\n",
       "Attr29    0.000240\n",
       "Attr30    0.003321\n",
       "            ...   \n",
       "Attr36    0.000240\n",
       "Attr37    0.458793\n",
       "Attr38    0.000240\n",
       "Attr39    0.003321\n",
       "Attr40    0.003441\n",
       "Attr41    0.014682\n",
       "Attr42    0.003321\n",
       "Attr43    0.003321\n",
       "Attr44    0.003321\n",
       "Attr45    0.070811\n",
       "Attr46    0.003521\n",
       "Attr47    0.006801\n",
       "Attr48    0.000240\n",
       "Attr49    0.003321\n",
       "Attr50    0.002600\n",
       "Attr51    0.000240\n",
       "Attr52    0.006961\n",
       "Attr53    0.021083\n",
       "Attr54    0.021083\n",
       "Attr55    0.000000\n",
       "Attr56    0.003321\n",
       "Attr57    0.000280\n",
       "Attr58    0.002160\n",
       "Attr59    0.000280\n",
       "Attr60    0.070811\n",
       "Attr61    0.002440\n",
       "Attr62    0.003321\n",
       "Attr63    0.003441\n",
       "Attr64    0.021083\n",
       "target    0.000000\n",
       "Length: 65, dtype: float64"
      ]
     },
     "execution_count": 87,
     "metadata": {},
     "output_type": "execute_result"
    }
   ],
   "source": [
    "bank_data.isnull().mean()"
   ]
  },
  {
   "cell_type": "code",
   "execution_count": null,
   "metadata": {},
   "outputs": [],
   "source": []
  },
  {
   "cell_type": "code",
   "execution_count": 89,
   "metadata": {},
   "outputs": [
    {
     "data": {
      "text/plain": [
       "No     20830\n",
       "Yes     4166\n",
       "Name: target, dtype: int64"
      ]
     },
     "execution_count": 89,
     "metadata": {},
     "output_type": "execute_result"
    }
   ],
   "source": [
    "bank_data[\"target\"].value_counts()"
   ]
  },
  {
   "cell_type": "code",
   "execution_count": 90,
   "metadata": {},
   "outputs": [],
   "source": [
    "#df['edjefe'].replace({'no': 0, 'yes': 1})\n",
    "\n",
    "bank_data[\"target\"] = bank_data[\"target\"].replace({'No':0, 'Yes':1})"
   ]
  },
  {
   "cell_type": "code",
   "execution_count": 91,
   "metadata": {},
   "outputs": [
    {
     "data": {
      "text/html": [
       "<div>\n",
       "<style scoped>\n",
       "    .dataframe tbody tr th:only-of-type {\n",
       "        vertical-align: middle;\n",
       "    }\n",
       "\n",
       "    .dataframe tbody tr th {\n",
       "        vertical-align: top;\n",
       "    }\n",
       "\n",
       "    .dataframe thead th {\n",
       "        text-align: right;\n",
       "    }\n",
       "</style>\n",
       "<table border=\"1\" class=\"dataframe\">\n",
       "  <thead>\n",
       "    <tr style=\"text-align: right;\">\n",
       "      <th></th>\n",
       "      <th>Attr1</th>\n",
       "      <th>Attr2</th>\n",
       "      <th>Attr3</th>\n",
       "      <th>Attr4</th>\n",
       "      <th>Attr5</th>\n",
       "      <th>Attr6</th>\n",
       "      <th>Attr7</th>\n",
       "      <th>Attr8</th>\n",
       "      <th>Attr9</th>\n",
       "      <th>Attr10</th>\n",
       "      <th>...</th>\n",
       "      <th>Attr56</th>\n",
       "      <th>Attr57</th>\n",
       "      <th>Attr58</th>\n",
       "      <th>Attr59</th>\n",
       "      <th>Attr60</th>\n",
       "      <th>Attr61</th>\n",
       "      <th>Attr62</th>\n",
       "      <th>Attr63</th>\n",
       "      <th>Attr64</th>\n",
       "      <th>target</th>\n",
       "    </tr>\n",
       "  </thead>\n",
       "  <tbody>\n",
       "    <tr>\n",
       "      <th>0</th>\n",
       "      <td>0.036348</td>\n",
       "      <td>0.29370</td>\n",
       "      <td>0.22999</td>\n",
       "      <td>1.95800</td>\n",
       "      <td>49.611</td>\n",
       "      <td>0.323820</td>\n",
       "      <td>0.044336</td>\n",
       "      <td>2.17300</td>\n",
       "      <td>1.0571</td>\n",
       "      <td>0.63820</td>\n",
       "      <td>...</td>\n",
       "      <td>0.054040</td>\n",
       "      <td>0.056955</td>\n",
       "      <td>0.94596</td>\n",
       "      <td>0.084022</td>\n",
       "      <td>4.5846</td>\n",
       "      <td>2.1621</td>\n",
       "      <td>128.140</td>\n",
       "      <td>2.8484</td>\n",
       "      <td>1.2904</td>\n",
       "      <td>0</td>\n",
       "    </tr>\n",
       "    <tr>\n",
       "      <th>1</th>\n",
       "      <td>0.032515</td>\n",
       "      <td>0.25971</td>\n",
       "      <td>0.40845</td>\n",
       "      <td>2.57270</td>\n",
       "      <td>-6.682</td>\n",
       "      <td>-0.000148</td>\n",
       "      <td>0.040253</td>\n",
       "      <td>2.85050</td>\n",
       "      <td>2.1327</td>\n",
       "      <td>0.74029</td>\n",
       "      <td>...</td>\n",
       "      <td>0.000329</td>\n",
       "      <td>0.043921</td>\n",
       "      <td>0.98201</td>\n",
       "      <td>0.000000</td>\n",
       "      <td>4.7734</td>\n",
       "      <td>10.3800</td>\n",
       "      <td>44.448</td>\n",
       "      <td>8.2118</td>\n",
       "      <td>6.4267</td>\n",
       "      <td>0</td>\n",
       "    </tr>\n",
       "    <tr>\n",
       "      <th>2</th>\n",
       "      <td>0.019116</td>\n",
       "      <td>0.55685</td>\n",
       "      <td>-0.20328</td>\n",
       "      <td>0.56593</td>\n",
       "      <td>-59.719</td>\n",
       "      <td>0.000000</td>\n",
       "      <td>0.019116</td>\n",
       "      <td>0.79581</td>\n",
       "      <td>2.0933</td>\n",
       "      <td>0.44315</td>\n",
       "      <td>...</td>\n",
       "      <td>0.016719</td>\n",
       "      <td>0.043137</td>\n",
       "      <td>0.99131</td>\n",
       "      <td>0.110710</td>\n",
       "      <td>16.4970</td>\n",
       "      <td>15.4440</td>\n",
       "      <td>81.660</td>\n",
       "      <td>4.4698</td>\n",
       "      <td>2.8481</td>\n",
       "      <td>0</td>\n",
       "    </tr>\n",
       "    <tr>\n",
       "      <th>3</th>\n",
       "      <td>-0.173850</td>\n",
       "      <td>0.28684</td>\n",
       "      <td>0.20102</td>\n",
       "      <td>1.73250</td>\n",
       "      <td>356.930</td>\n",
       "      <td>0.000000</td>\n",
       "      <td>-0.173850</td>\n",
       "      <td>2.48630</td>\n",
       "      <td>3.0166</td>\n",
       "      <td>0.71316</td>\n",
       "      <td>...</td>\n",
       "      <td>0.178720</td>\n",
       "      <td>-0.243780</td>\n",
       "      <td>0.82306</td>\n",
       "      <td>0.000000</td>\n",
       "      <td>30.1680</td>\n",
       "      <td>51.1950</td>\n",
       "      <td>33.206</td>\n",
       "      <td>10.9920</td>\n",
       "      <td>5.7509</td>\n",
       "      <td>0</td>\n",
       "    </tr>\n",
       "    <tr>\n",
       "      <th>4</th>\n",
       "      <td>0.410710</td>\n",
       "      <td>0.14770</td>\n",
       "      <td>0.78015</td>\n",
       "      <td>6.28190</td>\n",
       "      <td>271.120</td>\n",
       "      <td>0.000000</td>\n",
       "      <td>0.534880</td>\n",
       "      <td>5.77040</td>\n",
       "      <td>1.6009</td>\n",
       "      <td>0.85230</td>\n",
       "      <td>...</td>\n",
       "      <td>0.326340</td>\n",
       "      <td>0.481890</td>\n",
       "      <td>0.66935</td>\n",
       "      <td>0.000000</td>\n",
       "      <td>NaN</td>\n",
       "      <td>5.0324</td>\n",
       "      <td>33.676</td>\n",
       "      <td>10.8390</td>\n",
       "      <td>22.1870</td>\n",
       "      <td>0</td>\n",
       "    </tr>\n",
       "  </tbody>\n",
       "</table>\n",
       "<p>5 rows × 65 columns</p>\n",
       "</div>"
      ],
      "text/plain": [
       "      Attr1    Attr2    Attr3    Attr4    Attr5     Attr6     Attr7    Attr8  \\\n",
       "0  0.036348  0.29370  0.22999  1.95800   49.611  0.323820  0.044336  2.17300   \n",
       "1  0.032515  0.25971  0.40845  2.57270   -6.682 -0.000148  0.040253  2.85050   \n",
       "2  0.019116  0.55685 -0.20328  0.56593  -59.719  0.000000  0.019116  0.79581   \n",
       "3 -0.173850  0.28684  0.20102  1.73250  356.930  0.000000 -0.173850  2.48630   \n",
       "4  0.410710  0.14770  0.78015  6.28190  271.120  0.000000  0.534880  5.77040   \n",
       "\n",
       "    Attr9   Attr10   ...      Attr56    Attr57   Attr58    Attr59   Attr60  \\\n",
       "0  1.0571  0.63820   ...    0.054040  0.056955  0.94596  0.084022   4.5846   \n",
       "1  2.1327  0.74029   ...    0.000329  0.043921  0.98201  0.000000   4.7734   \n",
       "2  2.0933  0.44315   ...    0.016719  0.043137  0.99131  0.110710  16.4970   \n",
       "3  3.0166  0.71316   ...    0.178720 -0.243780  0.82306  0.000000  30.1680   \n",
       "4  1.6009  0.85230   ...    0.326340  0.481890  0.66935  0.000000      NaN   \n",
       "\n",
       "    Attr61   Attr62   Attr63   Attr64  target  \n",
       "0   2.1621  128.140   2.8484   1.2904       0  \n",
       "1  10.3800   44.448   8.2118   6.4267       0  \n",
       "2  15.4440   81.660   4.4698   2.8481       0  \n",
       "3  51.1950   33.206  10.9920   5.7509       0  \n",
       "4   5.0324   33.676  10.8390  22.1870       0  \n",
       "\n",
       "[5 rows x 65 columns]"
      ]
     },
     "execution_count": 91,
     "metadata": {},
     "output_type": "execute_result"
    }
   ],
   "source": [
    "bank_data.head()"
   ]
  },
  {
   "cell_type": "code",
   "execution_count": 92,
   "metadata": {},
   "outputs": [
    {
     "data": {
      "text/plain": [
       "0    20830\n",
       "1     4166\n",
       "Name: target, dtype: int64"
      ]
     },
     "execution_count": 92,
     "metadata": {},
     "output_type": "execute_result"
    }
   ],
   "source": [
    "bank_data[\"target\"].value_counts()"
   ]
  },
  {
   "cell_type": "code",
   "execution_count": null,
   "metadata": {},
   "outputs": [],
   "source": []
  },
  {
   "cell_type": "code",
   "execution_count": 93,
   "metadata": {},
   "outputs": [],
   "source": [
    "missing_bank_data = bank_data.columns.isnull().any().tolist()"
   ]
  },
  {
   "cell_type": "code",
   "execution_count": 94,
   "metadata": {},
   "outputs": [],
   "source": [
    "#Generate heat map of missing values\n",
    "\n",
    "import numpy as np\n",
    "import pandas as pd\n",
    "import matplotlib.pyplot as plt\n",
    "import seaborn as sns\n",
    "%matplotlib inline"
   ]
  },
  {
   "cell_type": "code",
   "execution_count": 95,
   "metadata": {},
   "outputs": [
    {
     "data": {
      "text/plain": [
       "<matplotlib.axes._subplots.AxesSubplot at 0x259846218d0>"
      ]
     },
     "execution_count": 95,
     "metadata": {},
     "output_type": "execute_result"
    },
    {
     "data": {
      "image/png": "[encoded data removed]",
      "text/plain": [
       "<Figure size 432x288 with 1 Axes>"
      ]
     },
     "metadata": {},
     "output_type": "display_data"
    }
   ],
   "source": [
    "sns.heatmap(bank_data.isnull(), cbar=False)"
   ]
  },
  {
   "cell_type": "code",
   "execution_count": 97,
   "metadata": {},
   "outputs": [
    {
     "data": {
      "text/plain": [
       "<BarContainer object of 65 artists>"
      ]
     },
     "execution_count": 97,
     "metadata": {},
     "output_type": "execute_result"
    },
    {
     "data": {
      "image/png": "[encoded data removed]",
      "text/plain": [
       "<Figure size 1152x720 with 1 Axes>"
      ]
     },
     "metadata": {},
     "output_type": "display_data"
    }
   ],
   "source": [
    "null_counts = bank_data.isnull().sum()/len(bank_data)\n",
    "plt.figure(figsize=(16,10))\n",
    "plt.xticks(np.arange(len(null_counts))+0.5,null_counts.index,rotation='vertical')\n",
    "plt.ylabel('fraction of rows with missing data')\n",
    "plt.bar(np.arange(len(null_counts)),null_counts)"
   ]
  },
  {
   "cell_type": "code",
   "execution_count": null,
   "metadata": {},
   "outputs": [],
   "source": [
    "## Impute missing values with mean Imputation\n",
    "from sklearn.preprocessing import Imputer\n",
    "mean_imputer = Imputer(strategy=\"mean\")\n",
    "imputed_diabetes = diabetes.copy()\n",
    "imputed_diabetes.iloc[:,1:6] = mean_imputer.fit_transform(imputed_diabetes.iloc[:,1:6])"
   ]
  },
  {
   "cell_type": "code",
   "execution_count": 105,
   "metadata": {},
   "outputs": [
    {
     "data": {
      "text/html": [
       "<div>\n",
       "<style scoped>\n",
       "    .dataframe tbody tr th:only-of-type {\n",
       "        vertical-align: middle;\n",
       "    }\n",
       "\n",
       "    .dataframe tbody tr th {\n",
       "        vertical-align: top;\n",
       "    }\n",
       "\n",
       "    .dataframe thead th {\n",
       "        text-align: right;\n",
       "    }\n",
       "</style>\n",
       "<table border=\"1\" class=\"dataframe\">\n",
       "  <thead>\n",
       "    <tr style=\"text-align: right;\">\n",
       "      <th></th>\n",
       "      <th>Attr1</th>\n",
       "      <th>Attr2</th>\n",
       "      <th>Attr3</th>\n",
       "      <th>Attr4</th>\n",
       "      <th>Attr5</th>\n",
       "      <th>Attr6</th>\n",
       "      <th>Attr7</th>\n",
       "      <th>Attr8</th>\n",
       "      <th>Attr9</th>\n",
       "      <th>Attr10</th>\n",
       "      <th>...</th>\n",
       "      <th>Attr56</th>\n",
       "      <th>Attr57</th>\n",
       "      <th>Attr58</th>\n",
       "      <th>Attr59</th>\n",
       "      <th>Attr60</th>\n",
       "      <th>Attr61</th>\n",
       "      <th>Attr62</th>\n",
       "      <th>Attr63</th>\n",
       "      <th>Attr64</th>\n",
       "      <th>target</th>\n",
       "    </tr>\n",
       "  </thead>\n",
       "  <tbody>\n",
       "    <tr>\n",
       "      <th>0</th>\n",
       "      <td>0.036348</td>\n",
       "      <td>0.29370</td>\n",
       "      <td>0.22999</td>\n",
       "      <td>1.95800</td>\n",
       "      <td>49.611</td>\n",
       "      <td>0.323820</td>\n",
       "      <td>0.044336</td>\n",
       "      <td>2.17300</td>\n",
       "      <td>1.0571</td>\n",
       "      <td>0.63820</td>\n",
       "      <td>...</td>\n",
       "      <td>0.054040</td>\n",
       "      <td>0.056955</td>\n",
       "      <td>0.94596</td>\n",
       "      <td>0.084022</td>\n",
       "      <td>4.584600</td>\n",
       "      <td>2.1621</td>\n",
       "      <td>128.140</td>\n",
       "      <td>2.8484</td>\n",
       "      <td>1.2904</td>\n",
       "      <td>0</td>\n",
       "    </tr>\n",
       "    <tr>\n",
       "      <th>1</th>\n",
       "      <td>0.032515</td>\n",
       "      <td>0.25971</td>\n",
       "      <td>0.40845</td>\n",
       "      <td>2.57270</td>\n",
       "      <td>-6.682</td>\n",
       "      <td>-0.000148</td>\n",
       "      <td>0.040253</td>\n",
       "      <td>2.85050</td>\n",
       "      <td>2.1327</td>\n",
       "      <td>0.74029</td>\n",
       "      <td>...</td>\n",
       "      <td>0.000329</td>\n",
       "      <td>0.043921</td>\n",
       "      <td>0.98201</td>\n",
       "      <td>0.000000</td>\n",
       "      <td>4.773400</td>\n",
       "      <td>10.3800</td>\n",
       "      <td>44.448</td>\n",
       "      <td>8.2118</td>\n",
       "      <td>6.4267</td>\n",
       "      <td>0</td>\n",
       "    </tr>\n",
       "    <tr>\n",
       "      <th>2</th>\n",
       "      <td>0.019116</td>\n",
       "      <td>0.55685</td>\n",
       "      <td>-0.20328</td>\n",
       "      <td>0.56593</td>\n",
       "      <td>-59.719</td>\n",
       "      <td>0.000000</td>\n",
       "      <td>0.019116</td>\n",
       "      <td>0.79581</td>\n",
       "      <td>2.0933</td>\n",
       "      <td>0.44315</td>\n",
       "      <td>...</td>\n",
       "      <td>0.016719</td>\n",
       "      <td>0.043137</td>\n",
       "      <td>0.99131</td>\n",
       "      <td>0.110710</td>\n",
       "      <td>16.497000</td>\n",
       "      <td>15.4440</td>\n",
       "      <td>81.660</td>\n",
       "      <td>4.4698</td>\n",
       "      <td>2.8481</td>\n",
       "      <td>0</td>\n",
       "    </tr>\n",
       "    <tr>\n",
       "      <th>3</th>\n",
       "      <td>-0.173850</td>\n",
       "      <td>0.28684</td>\n",
       "      <td>0.20102</td>\n",
       "      <td>1.73250</td>\n",
       "      <td>356.930</td>\n",
       "      <td>0.000000</td>\n",
       "      <td>-0.173850</td>\n",
       "      <td>2.48630</td>\n",
       "      <td>3.0166</td>\n",
       "      <td>0.71316</td>\n",
       "      <td>...</td>\n",
       "      <td>0.178720</td>\n",
       "      <td>-0.243780</td>\n",
       "      <td>0.82306</td>\n",
       "      <td>0.000000</td>\n",
       "      <td>30.168000</td>\n",
       "      <td>51.1950</td>\n",
       "      <td>33.206</td>\n",
       "      <td>10.9920</td>\n",
       "      <td>5.7509</td>\n",
       "      <td>0</td>\n",
       "    </tr>\n",
       "    <tr>\n",
       "      <th>4</th>\n",
       "      <td>0.410710</td>\n",
       "      <td>0.14770</td>\n",
       "      <td>0.78015</td>\n",
       "      <td>6.28190</td>\n",
       "      <td>271.120</td>\n",
       "      <td>0.000000</td>\n",
       "      <td>0.534880</td>\n",
       "      <td>5.77040</td>\n",
       "      <td>1.6009</td>\n",
       "      <td>0.85230</td>\n",
       "      <td>...</td>\n",
       "      <td>0.326340</td>\n",
       "      <td>0.481890</td>\n",
       "      <td>0.66935</td>\n",
       "      <td>0.000000</td>\n",
       "      <td>395.932768</td>\n",
       "      <td>5.0324</td>\n",
       "      <td>33.676</td>\n",
       "      <td>10.8390</td>\n",
       "      <td>22.1870</td>\n",
       "      <td>0</td>\n",
       "    </tr>\n",
       "  </tbody>\n",
       "</table>\n",
       "<p>5 rows × 65 columns</p>\n",
       "</div>"
      ],
      "text/plain": [
       "      Attr1    Attr2    Attr3    Attr4    Attr5     Attr6     Attr7    Attr8  \\\n",
       "0  0.036348  0.29370  0.22999  1.95800   49.611  0.323820  0.044336  2.17300   \n",
       "1  0.032515  0.25971  0.40845  2.57270   -6.682 -0.000148  0.040253  2.85050   \n",
       "2  0.019116  0.55685 -0.20328  0.56593  -59.719  0.000000  0.019116  0.79581   \n",
       "3 -0.173850  0.28684  0.20102  1.73250  356.930  0.000000 -0.173850  2.48630   \n",
       "4  0.410710  0.14770  0.78015  6.28190  271.120  0.000000  0.534880  5.77040   \n",
       "\n",
       "    Attr9   Attr10   ...      Attr56    Attr57   Attr58    Attr59      Attr60  \\\n",
       "0  1.0571  0.63820   ...    0.054040  0.056955  0.94596  0.084022    4.584600   \n",
       "1  2.1327  0.74029   ...    0.000329  0.043921  0.98201  0.000000    4.773400   \n",
       "2  2.0933  0.44315   ...    0.016719  0.043137  0.99131  0.110710   16.497000   \n",
       "3  3.0166  0.71316   ...    0.178720 -0.243780  0.82306  0.000000   30.168000   \n",
       "4  1.6009  0.85230   ...    0.326340  0.481890  0.66935  0.000000  395.932768   \n",
       "\n",
       "    Attr61   Attr62   Attr63   Attr64  target  \n",
       "0   2.1621  128.140   2.8484   1.2904       0  \n",
       "1  10.3800   44.448   8.2118   6.4267       0  \n",
       "2  15.4440   81.660   4.4698   2.8481       0  \n",
       "3  51.1950   33.206  10.9920   5.7509       0  \n",
       "4   5.0324   33.676  10.8390  22.1870       0  \n",
       "\n",
       "[5 rows x 65 columns]"
      ]
     },
     "execution_count": 105,
     "metadata": {},
     "output_type": "execute_result"
    }
   ],
   "source": [
    "#Mean Imputation\n",
    "from sklearn.preprocessing import Imputer\n",
    "mean_imputer = Imputer(strategy=\"mean\")\n",
    "bank_data_mean_imputed = bank_data.copy()\n",
    "bank_data_mean_imputed.iloc[:,0:64] = mean_imputer.fit_transform(bank_data_mean_imputed.iloc[:,0:64])\n",
    "bank_data_mean_imputed.head()\n"
   ]
  },
  {
   "cell_type": "code",
   "execution_count": 106,
   "metadata": {},
   "outputs": [
    {
     "data": {
      "text/plain": [
       "Attr1     0\n",
       "Attr2     0\n",
       "Attr3     0\n",
       "Attr4     0\n",
       "Attr5     0\n",
       "Attr6     0\n",
       "Attr7     0\n",
       "Attr8     0\n",
       "Attr9     0\n",
       "Attr10    0\n",
       "Attr11    0\n",
       "Attr12    0\n",
       "Attr13    0\n",
       "Attr14    0\n",
       "Attr15    0\n",
       "Attr16    0\n",
       "Attr17    0\n",
       "Attr18    0\n",
       "Attr19    0\n",
       "Attr20    0\n",
       "Attr21    0\n",
       "Attr22    0\n",
       "Attr23    0\n",
       "Attr24    0\n",
       "Attr25    0\n",
       "Attr26    0\n",
       "Attr27    0\n",
       "Attr28    0\n",
       "Attr29    0\n",
       "Attr30    0\n",
       "         ..\n",
       "Attr36    0\n",
       "Attr37    0\n",
       "Attr38    0\n",
       "Attr39    0\n",
       "Attr40    0\n",
       "Attr41    0\n",
       "Attr42    0\n",
       "Attr43    0\n",
       "Attr44    0\n",
       "Attr45    0\n",
       "Attr46    0\n",
       "Attr47    0\n",
       "Attr48    0\n",
       "Attr49    0\n",
       "Attr50    0\n",
       "Attr51    0\n",
       "Attr52    0\n",
       "Attr53    0\n",
       "Attr54    0\n",
       "Attr55    0\n",
       "Attr56    0\n",
       "Attr57    0\n",
       "Attr58    0\n",
       "Attr59    0\n",
       "Attr60    0\n",
       "Attr61    0\n",
       "Attr62    0\n",
       "Attr63    0\n",
       "Attr64    0\n",
       "target    0\n",
       "Length: 65, dtype: int64"
      ]
     },
     "execution_count": 106,
     "metadata": {},
     "output_type": "execute_result"
    }
   ],
   "source": [
    "#Checkng the mising values after the mean imputation\n",
    "bank_data_mean_imputed.isnull().sum()"
   ]
  },
  {
   "cell_type": "code",
   "execution_count": 107,
   "metadata": {},
   "outputs": [],
   "source": [
    "#Scaling the data\n",
    "from sklearn.model_selection import train_test_split\n",
    "from sklearn.preprocessing import StandardScaler"
   ]
  },
  {
   "cell_type": "code",
   "execution_count": 108,
   "metadata": {},
   "outputs": [],
   "source": [
    "## Split the data into X and y\n",
    "X = bank_data_mean_imputed.drop(\"target\",axis=1)\n",
    "y = bank_data_mean_imputed[\"target\"]"
   ]
  },
  {
   "cell_type": "code",
   "execution_count": 109,
   "metadata": {},
   "outputs": [],
   "source": [
    "## Split the data into X_train, X_test, y_train, y_test with test_size = 0.20 using sklearn\n",
    "X_train, X_test, y_train, y_test = train_test_split(X, y, test_size=0.20)"
   ]
  },
  {
   "cell_type": "code",
   "execution_count": 110,
   "metadata": {},
   "outputs": [
    {
     "name": "stdout",
     "output_type": "stream",
     "text": [
      "(19996, 64)\n",
      "(5000, 64)\n",
      "(19996,)\n",
      "(5000,)\n"
     ]
    }
   ],
   "source": [
    "## Print the shape of X_train, X_test, y_train, y_test\n",
    "print(X_train.shape)\n",
    "print(X_test.shape)\n",
    "print(y_train.shape)\n",
    "print(y_test.shape)"
   ]
  },
  {
   "cell_type": "code",
   "execution_count": 111,
   "metadata": {},
   "outputs": [
    {
     "name": "stderr",
     "output_type": "stream",
     "text": [
      "C:\\Users\\Gnanendra\\Anaconda3\\lib\\site-packages\\pandas\\core\\indexing.py:189: SettingWithCopyWarning: \n",
      "A value is trying to be set on a copy of a slice from a DataFrame\n",
      "\n",
      "See the caveats in the documentation: http://pandas.pydata.org/pandas-docs/stable/indexing.html#indexing-view-versus-copy\n",
      "  self._setitem_with_indexer(indexer, value)\n",
      "C:\\Users\\Gnanendra\\Anaconda3\\lib\\site-packages\\ipykernel_launcher.py:5: SettingWithCopyWarning: \n",
      "A value is trying to be set on a copy of a slice from a DataFrame\n",
      "\n",
      "See the caveats in the documentation: http://pandas.pydata.org/pandas-docs/stable/indexing.html#indexing-view-versus-copy\n",
      "  \"\"\"\n",
      "C:\\Users\\Gnanendra\\Anaconda3\\lib\\site-packages\\ipykernel_launcher.py:6: SettingWithCopyWarning: \n",
      "A value is trying to be set on a copy of a slice from a DataFrame\n",
      "\n",
      "See the caveats in the documentation: http://pandas.pydata.org/pandas-docs/stable/indexing.html#indexing-view-versus-copy\n",
      "  \n"
     ]
    }
   ],
   "source": [
    "## Scale the numeric attributes\n",
    "scaler = StandardScaler()\n",
    "scaler.fit(X_train.iloc[:,0:64])\n",
    "\n",
    "X_train.iloc[:,0:64] = scaler.transform(X_train.iloc[:,0:64])\n",
    "X_test.iloc[:,0:64] = scaler.transform(X_test.iloc[:,0:64])"
   ]
  },
  {
   "cell_type": "code",
   "execution_count": 116,
   "metadata": {},
   "outputs": [
    {
     "name": "stdout",
     "output_type": "stream",
     "text": [
      "          Attr1     Attr2     Attr3     Attr4     Attr5     Attr6     Attr7  \\\n",
      "20046 -0.005074 -0.083782  0.092741  0.015579  0.014439  0.018589 -0.006513   \n",
      "4197   0.032421 -0.031015  0.000561 -0.022622  0.012098  0.049740  0.022608   \n",
      "1181   0.023192 -0.049580  0.050246 -0.015875  0.013761  0.018583  0.018904   \n",
      "140    0.006985 -0.066840  0.057206 -0.012898  0.014600  0.018589 -0.002150   \n",
      "18693  0.068885 -0.017791  0.007652 -0.022396  0.012102  0.018589  0.058229   \n",
      "\n",
      "          Attr8     Attr9    Attr10    ...       Attr55    Attr56    Attr57  \\\n",
      "20046  0.005547  0.030770  0.020502    ...    -0.094232  0.007222  0.001505   \n",
      "4197  -0.025433 -0.035012 -0.010045    ...    -0.090772  0.007217  0.035164   \n",
      "1181  -0.021820 -0.030374  0.005339    ...    -0.096115  0.007267  0.018197   \n",
      "140   -0.016039 -0.029313  0.012991    ...    -0.054821  0.007219  0.007361   \n",
      "18693 -0.025788  0.025992 -0.008755    ...    -0.094155  0.007230  0.071208   \n",
      "\n",
      "         Attr58    Attr59    Attr60    Attr61    Attr62    Attr63    Attr64  \n",
      "20046 -0.007265 -0.010834 -0.015021 -0.002260 -0.010172  0.553240 -0.031291  \n",
      "4197  -0.007264 -0.008027 -0.015847 -0.013090 -0.009840 -0.057582 -0.043776  \n",
      "1181  -0.007312 -0.010499 -0.016840 -0.019410 -0.009774 -0.070297 -0.042754  \n",
      "140   -0.007266 -0.010834 -0.016777 -0.020419 -0.009876 -0.048740 -0.042671  \n",
      "18693 -0.007277 -0.010834 -0.016087 -0.013459 -0.009906 -0.039728 -0.037342  \n",
      "\n",
      "[5 rows x 64 columns]\n",
      "          Attr1     Attr2     Attr3     Attr4     Attr5     Attr6     Attr7  \\\n",
      "3591   0.036240 -0.071822  0.086492  0.010453  0.015792  0.023725  0.026339   \n",
      "2466   0.018319 -0.030328 -0.001378 -0.022929  0.010678  0.065881  0.008832   \n",
      "15650 -0.108045  0.042997 -0.070346 -0.026672  0.008675  0.018589 -0.114615   \n",
      "12012  0.007344 -0.018423  0.001524 -0.022414  0.010635  0.016993 -0.001589   \n",
      "15268  0.027040 -0.009608  0.044970 -0.020329  0.011565  0.029957  0.022544   \n",
      "\n",
      "          Attr8     Attr9    Attr10    ...       Attr55    Attr56    Attr57  \\\n",
      "3591  -0.012847 -0.009282  0.015158    ...    -0.083023  0.007262  0.022957   \n",
      "2466  -0.024682 -0.013949 -0.003197    ...    -0.093751  0.007226  0.017112   \n",
      "15650 -0.028321 -0.023990 -0.035705    ...    -0.104505  0.007164  2.797266   \n",
      "12012 -0.026172 -0.032819 -0.012944    ...    -0.096149  0.007337  0.084758   \n",
      "15268 -0.026358 -0.033820 -0.012634    ...     0.002367  0.007223  0.031976   \n",
      "\n",
      "         Attr58    Attr59    Attr60    Attr61    Attr62    Attr63    Attr64  \n",
      "3591  -0.007309 -0.010256 -0.016758 -0.013883 -0.010127  0.211209 -0.038891  \n",
      "2466  -0.007270 -0.010834 -0.016693 -0.006120 -0.009787 -0.067985 -0.042866  \n",
      "15650 -0.007218 -0.116504 -0.016263 -0.003551 -0.009307 -0.107213 -0.044048  \n",
      "12012 -0.006549  0.042450 -0.013711 -0.018824 -0.010210 -0.142383 -0.045448  \n",
      "15268 -0.007270 -0.010834 -0.016793 -0.014709 -0.009795 -0.066622  0.084285  \n",
      "\n",
      "[5 rows x 64 columns]\n",
      "20046    0\n",
      "4197     0\n",
      "1181     0\n",
      "140      0\n",
      "18693    0\n",
      "Name: target, dtype: int64\n",
      "3591     0\n",
      "2466     0\n",
      "15650    0\n",
      "12012    0\n",
      "15268    0\n",
      "Name: target, dtype: int64\n"
     ]
    }
   ],
   "source": [
    "print(X_train.head())\n",
    "print(X_test.head())\n",
    "print(y_train.head())\n",
    "print(y_test.head())"
   ]
  },
  {
   "cell_type": "code",
   "execution_count": 119,
   "metadata": {},
   "outputs": [],
   "source": [
    "#Building Models\n",
    "#Buliding Logistic Regression\n",
    "#Bulding K-Nearest Neighobours\n",
    "#Building Support Vector Machine\n",
    "#Building Decision Tree\n",
    "#Building Random Forest\n",
    "\n",
    "from sklearn.linear_model import LogisticRegression\n",
    "from sklearn.svm import SVC\n",
    "from sklearn.tree import DecisionTreeClassifier\n",
    "from sklearn.naive_bayes import GaussianNB\n",
    "from sklearn.neighbors import KNeighborsClassifier\n",
    "from sklearn.ensemble import RandomForestClassifier"
   ]
  },
  {
   "cell_type": "code",
   "execution_count": 140,
   "metadata": {},
   "outputs": [
    {
     "name": "stdout",
     "output_type": "stream",
     "text": [
      "Train Logistic Accuracy : 0.8343168633726745\n",
      "Test Logistic Accuracy : 0.829\n"
     ]
    }
   ],
   "source": [
    "#Building the Logistic Regression\n",
    "logistic = LogisticRegression()\n",
    "logistic.fit(X_train, y_train)\n",
    "y_pred_train_logistic = logistic.predict(X_train)\n",
    "y_pred_test_logistic = logistic.predict(X_test)\n",
    "print(\"Train Logistic Accuracy :\",accuracy_score(y_true=y_train,y_pred=y_pred_train_logistic))\n",
    "print(\"Test Logistic Accuracy :\",accuracy_score(y_true=y_test,y_pred=y_pred_test_logistic))"
   ]
  },
  {
   "cell_type": "code",
   "execution_count": 122,
   "metadata": {},
   "outputs": [],
   "source": [
    "from sklearn.metrics import accuracy_score"
   ]
  },
  {
   "cell_type": "code",
   "execution_count": 127,
   "metadata": {},
   "outputs": [
    {
     "name": "stdout",
     "output_type": "stream",
     "text": [
      "Logistic Accuracy Test: 0.829\n",
      "Logistic Accuracy Train: 0.8343168633726745\n"
     ]
    }
   ],
   "source": [
    "\n"
   ]
  },
  {
   "cell_type": "code",
   "execution_count": 143,
   "metadata": {},
   "outputs": [
    {
     "name": "stdout",
     "output_type": "stream",
     "text": [
      "Train SVC Accuracy: 0.835617123424685\n",
      "Test SVC Accuracy: 0.8298\n"
     ]
    }
   ],
   "source": [
    "#Building the Support Vector Machine Classifier\n",
    "from sklearn.svm import SVC\n",
    "SVC = SVC()\n",
    "SVC.fit(X_train, y_train)\n",
    "y_pred_train_svc = SVC.predict(X_train)\n",
    "y_pred_test_svc = SVC.predict(X_test)\n",
    "\n",
    "print(\"Train SVC Accuracy:\",accuracy_score(y_true=y_train,y_pred=y_pred_train_svc))\n",
    "print(\"Test SVC Accuracy:\",accuracy_score(y_true=y_test,y_pred=y_pred_test_svc))"
   ]
  },
  {
   "cell_type": "code",
   "execution_count": 144,
   "metadata": {},
   "outputs": [
    {
     "name": "stdout",
     "output_type": "stream",
     "text": [
      "Train Decision Tree Accuracy: 1.0\n",
      "Test Decision Tree Accuracy: 0.9204\n"
     ]
    }
   ],
   "source": [
    "#Building the Decision Tree Model\n",
    "dtc = DecisionTreeClassifier()\n",
    "dtc.fit(X_train,y_train)\n",
    "y_pred_train_dtc = dtc.predict(X_train)\n",
    "y_pred_test_dtc = dtc.predict(X_test)\n",
    "\n",
    "print(\"Train Decision Tree Accuracy:\",accuracy_score(y_true=y_train,y_pred=y_pred_train_dtc))\n",
    "print(\"Test Decision Tree Accuracy:\",accuracy_score(y_true=y_test,y_pred=y_pred_test_dtc))"
   ]
  },
  {
   "cell_type": "code",
   "execution_count": 145,
   "metadata": {},
   "outputs": [
    {
     "name": "stdout",
     "output_type": "stream",
     "text": [
      "Train KNN Accuracy: 0.9067813562712542\n",
      "Test KNN Accuracy: 0.872\n"
     ]
    }
   ],
   "source": [
    "#Budimg the model with KNN\n",
    "\n",
    "from sklearn.neighbors import KNeighborsClassifier\n",
    "\n",
    "KNN = KNeighborsClassifier(n_neighbors=5) # default value for n_neighbors is 5\n",
    "KNN.fit(X_train,y_train)\n",
    "y_pred_train_KNN = KNN.predict(X_train)\n",
    "y_pred_test_KNN = KNN.predict(X_test)\n",
    "\n",
    "print(\"Train KNN Accuracy:\",accuracy_score(y_true=y_train,y_pred=y_pred_train_KNN))\n",
    "print(\"Test KNN Accuracy:\",accuracy_score(y_true=y_test,y_pred=y_pred_test_KNN))"
   ]
  },
  {
   "cell_type": "code",
   "execution_count": 147,
   "metadata": {},
   "outputs": [
    {
     "name": "stdout",
     "output_type": "stream",
     "text": [
      "Train RFC Accuracy: 0.9943488697739548\n",
      "Test RFC Accuracy: 0.9366\n"
     ]
    }
   ],
   "source": [
    "#Building the Random Forest model\n",
    "from sklearn.ensemble import RandomForestClassifier\n",
    "RFC = RandomForestClassifier()\n",
    "RFC.fit(X_train, y_train)\n",
    "y_pred_train_RFC = RFC.predict(X_train)\n",
    "y_pred_test_RFC = RFC.predict(X_test)\n",
    "print(\"Train RFC Accuracy:\",accuracy_score(y_true=y_train,y_pred=y_pred_train_RFC))\n",
    "print(\"Test RFC Accuracy:\",accuracy_score(y_true=y_test,y_pred=y_pred_test_RFC))"
   ]
  },
  {
   "cell_type": "code",
   "execution_count": 148,
   "metadata": {},
   "outputs": [],
   "source": [
    "stack = np.array([y_pred_test_dtc,y_pred_test_logistic,y_pred_test_svc,y_pred_test_KNN,y_pred_train_RFC]).T"
   ]
  },
  {
   "cell_type": "code",
   "execution_count": 152,
   "metadata": {},
   "outputs": [
    {
     "ename": "ValueError",
     "evalue": "operands could not be broadcast together with shapes (5000,) (19996,) ",
     "output_type": "error",
     "traceback": [
      "\u001b[1;31m---------------------------------------------------------------------------\u001b[0m",
      "\u001b[1;31mValueError\u001b[0m                                Traceback (most recent call last)",
      "\u001b[1;32m<ipython-input-152-de7fa90626e3>\u001b[0m in \u001b[0;36m<module>\u001b[1;34m()\u001b[0m\n\u001b[0;32m      1\u001b[0m \u001b[1;32mfrom\u001b[0m \u001b[0mscipy\u001b[0m\u001b[1;33m.\u001b[0m\u001b[0mstats\u001b[0m \u001b[1;32mimport\u001b[0m \u001b[0mmode\u001b[0m\u001b[1;33m\u001b[0m\u001b[0m\n\u001b[1;32m----> 2\u001b[1;33m \u001b[0mstacked_pred\u001b[0m \u001b[1;33m=\u001b[0m \u001b[0mmode\u001b[0m\u001b[1;33m(\u001b[0m\u001b[0mstack\u001b[0m\u001b[1;33m,\u001b[0m\u001b[0maxis\u001b[0m\u001b[1;33m=\u001b[0m\u001b[1;36m1\u001b[0m\u001b[1;33m)\u001b[0m\u001b[1;33m[\u001b[0m\u001b[1;36m0\u001b[0m\u001b[1;33m]\u001b[0m\u001b[1;33m\u001b[0m\u001b[0m\n\u001b[0m",
      "\u001b[1;32m~\\Anaconda3\\lib\\site-packages\\scipy\\stats\\stats.py\u001b[0m in \u001b[0;36mmode\u001b[1;34m(a, axis, nan_policy)\u001b[0m\n\u001b[0;32m    431\u001b[0m         \u001b[1;32mreturn\u001b[0m \u001b[0mModeResult\u001b[0m\u001b[1;33m(\u001b[0m\u001b[0mnp\u001b[0m\u001b[1;33m.\u001b[0m\u001b[0marray\u001b[0m\u001b[1;33m(\u001b[0m\u001b[1;33m[\u001b[0m\u001b[1;33m]\u001b[0m\u001b[1;33m)\u001b[0m\u001b[1;33m,\u001b[0m \u001b[0mnp\u001b[0m\u001b[1;33m.\u001b[0m\u001b[0marray\u001b[0m\u001b[1;33m(\u001b[0m\u001b[1;33m[\u001b[0m\u001b[1;33m]\u001b[0m\u001b[1;33m)\u001b[0m\u001b[1;33m)\u001b[0m\u001b[1;33m\u001b[0m\u001b[0m\n\u001b[0;32m    432\u001b[0m \u001b[1;33m\u001b[0m\u001b[0m\n\u001b[1;32m--> 433\u001b[1;33m     \u001b[0mcontains_nan\u001b[0m\u001b[1;33m,\u001b[0m \u001b[0mnan_policy\u001b[0m \u001b[1;33m=\u001b[0m \u001b[0m_contains_nan\u001b[0m\u001b[1;33m(\u001b[0m\u001b[0ma\u001b[0m\u001b[1;33m,\u001b[0m \u001b[0mnan_policy\u001b[0m\u001b[1;33m)\u001b[0m\u001b[1;33m\u001b[0m\u001b[0m\n\u001b[0m\u001b[0;32m    434\u001b[0m \u001b[1;33m\u001b[0m\u001b[0m\n\u001b[0;32m    435\u001b[0m     \u001b[1;32mif\u001b[0m \u001b[0mcontains_nan\u001b[0m \u001b[1;32mand\u001b[0m \u001b[0mnan_policy\u001b[0m \u001b[1;33m==\u001b[0m \u001b[1;34m'omit'\u001b[0m\u001b[1;33m:\u001b[0m\u001b[1;33m\u001b[0m\u001b[0m\n",
      "\u001b[1;32m~\\Anaconda3\\lib\\site-packages\\scipy\\stats\\stats.py\u001b[0m in \u001b[0;36m_contains_nan\u001b[1;34m(a, nan_policy)\u001b[0m\n\u001b[0;32m    235\u001b[0m         \u001b[1;31m# e.g. np.isnan(a).any()\u001b[0m\u001b[1;33m\u001b[0m\u001b[1;33m\u001b[0m\u001b[0m\n\u001b[0;32m    236\u001b[0m         \u001b[1;32mwith\u001b[0m \u001b[0mnp\u001b[0m\u001b[1;33m.\u001b[0m\u001b[0merrstate\u001b[0m\u001b[1;33m(\u001b[0m\u001b[0minvalid\u001b[0m\u001b[1;33m=\u001b[0m\u001b[1;34m'ignore'\u001b[0m\u001b[1;33m)\u001b[0m\u001b[1;33m:\u001b[0m\u001b[1;33m\u001b[0m\u001b[0m\n\u001b[1;32m--> 237\u001b[1;33m             \u001b[0mcontains_nan\u001b[0m \u001b[1;33m=\u001b[0m \u001b[0mnp\u001b[0m\u001b[1;33m.\u001b[0m\u001b[0misnan\u001b[0m\u001b[1;33m(\u001b[0m\u001b[0mnp\u001b[0m\u001b[1;33m.\u001b[0m\u001b[0msum\u001b[0m\u001b[1;33m(\u001b[0m\u001b[0ma\u001b[0m\u001b[1;33m)\u001b[0m\u001b[1;33m)\u001b[0m\u001b[1;33m\u001b[0m\u001b[0m\n\u001b[0m\u001b[0;32m    238\u001b[0m     \u001b[1;32mexcept\u001b[0m \u001b[0mTypeError\u001b[0m\u001b[1;33m:\u001b[0m\u001b[1;33m\u001b[0m\u001b[0m\n\u001b[0;32m    239\u001b[0m         \u001b[1;31m# If the check cannot be properly performed we fallback to omitting\u001b[0m\u001b[1;33m\u001b[0m\u001b[1;33m\u001b[0m\u001b[0m\n",
      "\u001b[1;32m~\\Anaconda3\\lib\\site-packages\\numpy\\core\\fromnumeric.py\u001b[0m in \u001b[0;36msum\u001b[1;34m(a, axis, dtype, out, keepdims)\u001b[0m\n\u001b[0;32m   1880\u001b[0m             \u001b[1;32mreturn\u001b[0m \u001b[0msum\u001b[0m\u001b[1;33m(\u001b[0m\u001b[0maxis\u001b[0m\u001b[1;33m=\u001b[0m\u001b[0maxis\u001b[0m\u001b[1;33m,\u001b[0m \u001b[0mdtype\u001b[0m\u001b[1;33m=\u001b[0m\u001b[0mdtype\u001b[0m\u001b[1;33m,\u001b[0m \u001b[0mout\u001b[0m\u001b[1;33m=\u001b[0m\u001b[0mout\u001b[0m\u001b[1;33m,\u001b[0m \u001b[1;33m**\u001b[0m\u001b[0mkwargs\u001b[0m\u001b[1;33m)\u001b[0m\u001b[1;33m\u001b[0m\u001b[0m\n\u001b[0;32m   1881\u001b[0m     return _methods._sum(a, axis=axis, dtype=dtype,\n\u001b[1;32m-> 1882\u001b[1;33m                          out=out, **kwargs)\n\u001b[0m\u001b[0;32m   1883\u001b[0m \u001b[1;33m\u001b[0m\u001b[0m\n\u001b[0;32m   1884\u001b[0m \u001b[1;33m\u001b[0m\u001b[0m\n",
      "\u001b[1;32m~\\Anaconda3\\lib\\site-packages\\numpy\\core\\_methods.py\u001b[0m in \u001b[0;36m_sum\u001b[1;34m(a, axis, dtype, out, keepdims)\u001b[0m\n\u001b[0;32m     30\u001b[0m \u001b[1;33m\u001b[0m\u001b[0m\n\u001b[0;32m     31\u001b[0m \u001b[1;32mdef\u001b[0m \u001b[0m_sum\u001b[0m\u001b[1;33m(\u001b[0m\u001b[0ma\u001b[0m\u001b[1;33m,\u001b[0m \u001b[0maxis\u001b[0m\u001b[1;33m=\u001b[0m\u001b[1;32mNone\u001b[0m\u001b[1;33m,\u001b[0m \u001b[0mdtype\u001b[0m\u001b[1;33m=\u001b[0m\u001b[1;32mNone\u001b[0m\u001b[1;33m,\u001b[0m \u001b[0mout\u001b[0m\u001b[1;33m=\u001b[0m\u001b[1;32mNone\u001b[0m\u001b[1;33m,\u001b[0m \u001b[0mkeepdims\u001b[0m\u001b[1;33m=\u001b[0m\u001b[1;32mFalse\u001b[0m\u001b[1;33m)\u001b[0m\u001b[1;33m:\u001b[0m\u001b[1;33m\u001b[0m\u001b[0m\n\u001b[1;32m---> 32\u001b[1;33m     \u001b[1;32mreturn\u001b[0m \u001b[0mumr_sum\u001b[0m\u001b[1;33m(\u001b[0m\u001b[0ma\u001b[0m\u001b[1;33m,\u001b[0m \u001b[0maxis\u001b[0m\u001b[1;33m,\u001b[0m \u001b[0mdtype\u001b[0m\u001b[1;33m,\u001b[0m \u001b[0mout\u001b[0m\u001b[1;33m,\u001b[0m \u001b[0mkeepdims\u001b[0m\u001b[1;33m)\u001b[0m\u001b[1;33m\u001b[0m\u001b[0m\n\u001b[0m\u001b[0;32m     33\u001b[0m \u001b[1;33m\u001b[0m\u001b[0m\n\u001b[0;32m     34\u001b[0m \u001b[1;32mdef\u001b[0m \u001b[0m_prod\u001b[0m\u001b[1;33m(\u001b[0m\u001b[0ma\u001b[0m\u001b[1;33m,\u001b[0m \u001b[0maxis\u001b[0m\u001b[1;33m=\u001b[0m\u001b[1;32mNone\u001b[0m\u001b[1;33m,\u001b[0m \u001b[0mdtype\u001b[0m\u001b[1;33m=\u001b[0m\u001b[1;32mNone\u001b[0m\u001b[1;33m,\u001b[0m \u001b[0mout\u001b[0m\u001b[1;33m=\u001b[0m\u001b[1;32mNone\u001b[0m\u001b[1;33m,\u001b[0m \u001b[0mkeepdims\u001b[0m\u001b[1;33m=\u001b[0m\u001b[1;32mFalse\u001b[0m\u001b[1;33m)\u001b[0m\u001b[1;33m:\u001b[0m\u001b[1;33m\u001b[0m\u001b[0m\n",
      "\u001b[1;31mValueError\u001b[0m: operands could not be broadcast together with shapes (5000,) (19996,) "
     ]
    }
   ],
   "source": [
    "from scipy.stats import mode\n",
    "stacked_pred = mode(stack,axis=1)[0]"
   ]
  },
  {
   "cell_type": "code",
   "execution_count": null,
   "metadata": {},
   "outputs": [],
   "source": []
  }
 ],
 "metadata": {
  "kernelspec": {
   "display_name": "Python 3",
   "language": "python",
   "name": "python3"
  },
  "language_info": {
   "codemirror_mode": {
    "name": "ipython",
    "version": 3
   },
   "file_extension": ".py",
   "mimetype": "text/x-python",
   "name": "python",
   "nbconvert_exporter": "python",
   "pygments_lexer": "ipython3",
   "version": "3.6.5"
  }
 },
 "nbformat": 4,
 "nbformat_minor": 2
}
