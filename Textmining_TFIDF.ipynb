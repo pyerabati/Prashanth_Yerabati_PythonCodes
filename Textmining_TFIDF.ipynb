{
 "cells": [
  {
   "cell_type": "code",
   "execution_count": 7,
   "metadata": {},
   "outputs": [
    {
     "name": "stdout",
     "output_type": "stream",
     "text": [
      "{'post': 5, 'graduate': 3, 'program': 6, 'in': 4, 'big': 1, 'data': 2, 'analytics': 0}\n",
      "(1, 7)\n",
      "<class 'scipy.sparse.csr.csr_matrix'>\n",
      "[[1 3 1 1 1 1 1]]\n"
     ]
    }
   ],
   "source": [
    "#Word Counts with CountVectorize\n",
    "from sklearn.feature_extraction.text import CountVectorizer\n",
    "# list of text documents\n",
    "text = [\"Post Graduate Program in Big Big Big Data Analytics...!\"]\n",
    "# Create the tansform\n",
    "vectorizer = CountVectorizer() # If binary =False it will give counts by default \n",
    "#Also if we define the Preporcessing as function like tokenize, stemmnize, Lemntize and those function can be \n",
    "# used as preprocessor=\"Function which we defined\"\n",
    "## tokenize and build vocab\n",
    "vectorizer.fit(text)\n",
    "# summarize\n",
    "print(vectorizer.vocabulary_) # gives the indexs for all unique tokens example analytics index 0, Big index 1, Graduate 3\n",
    "# encode document\n",
    "vector = vectorizer.transform(text)\n",
    "# Summarize encoded vector\n",
    "print(vector.shape)\n",
    "print(type(vector))\n",
    "print(vector.toarray()) # gives the aray of count of each word in alphabetical order\n"
   ]
  },
  {
   "cell_type": "code",
   "execution_count": 9,
   "metadata": {},
   "outputs": [
    {
     "name": "stdout",
     "output_type": "stream",
     "text": [
      "{'post': 5, 'graduate': 3, 'program': 6, 'in': 4, 'big': 1, 'data': 2, 'analytics': 0}\n",
      "(1, 7)\n",
      "<class 'scipy.sparse.csr.csr_matrix'>\n",
      "[[1 1 1 0 0 0 1]]\n"
     ]
    }
   ],
   "source": [
    "# encode another document\n",
    "text2 = [\"Big Data analytics training and certification program\"]\n",
    "vector2 = vectorizer.transform(text2)\n",
    "print(vectorizer.vocabulary_)\n",
    "print(vector2.shape)\n",
    "print(type(vector2))\n",
    "print(vector2.toarray())"
   ]
  },
  {
   "cell_type": "code",
   "execution_count": 13,
   "metadata": {},
   "outputs": [
    {
     "data": {
      "text/plain": [
       "['Time flies like an arrow',\n",
       " 'Fruit flies like a banana',\n",
       " 'Cat sat on the mat',\n",
       " 'The cat is white.']"
      ]
     },
     "execution_count": 13,
     "metadata": {},
     "output_type": "execute_result"
    }
   ],
   "source": [
    "# Word Frequencies with TfidfVectorizer\n",
    "# List of text dcouments\n",
    "data = '''Time flies like an arrow\n",
    "Fruit flies like a banana\n",
    "Cat sat on the mat\n",
    "The cat is white.'''\n",
    "dataset = data.split('\\n')\n",
    "dataset"
   ]
  },
  {
   "cell_type": "code",
   "execution_count": 15,
   "metadata": {},
   "outputs": [
    {
     "name": "stdout",
     "output_type": "stream",
     "text": [
      "done in 0.012s.\n",
      "{'time': 24, 'flies': 7, 'like': 13, 'an': 0, 'arrow': 2, 'time flies': 25, 'flies like': 8, 'like an': 14, 'an arrow': 1, 'fruit': 9, 'banana': 3, 'fruit flies': 10, 'like banana': 15, 'cat': 4, 'sat': 19, 'on': 17, 'the': 21, 'mat': 16, 'cat sat': 6, 'sat on': 20, 'on the': 18, 'the mat': 23, 'is': 11, 'white': 26, 'the cat': 22, 'cat is': 5, 'is white': 12}\n",
      "[1.91629073 1.91629073 1.91629073 1.91629073 1.51082562 1.91629073\n",
      " 1.91629073 1.51082562 1.51082562 1.91629073 1.91629073 1.91629073\n",
      " 1.91629073 1.51082562 1.91629073 1.91629073 1.91629073 1.91629073\n",
      " 1.91629073 1.91629073 1.91629073 1.51082562 1.91629073 1.91629073\n",
      " 1.91629073 1.91629073 1.91629073]\n"
     ]
    }
   ],
   "source": [
    "from time import time\n",
    "from sklearn.feature_extraction.text import TfidfVectorizer\n",
    "# Create the transform\n",
    "tfidf_vectorizer = TfidfVectorizer(ngram_range=(1,2))\n",
    "#max_df=0.95, min_df=2, stop_words='english' #USE HELP TO SEE WHAT EACH DOES)\n",
    "# Tokenizer abd build vovab\n",
    "t0 = time()\n",
    "# Tokenizer abd build vovab\n",
    "tfidf_vectorizer.fit(dataset)\n",
    "print(\"done in %0.3fs.\" %(time() - t0))\n",
    "# summarize\n",
    "print(tfidf_vectorizer.vocabulary_)\n",
    "print(tfidf_vectorizer.idf_)"
   ]
  },
  {
   "cell_type": "code",
   "execution_count": 16,
   "metadata": {},
   "outputs": [
    {
     "name": "stdout",
     "output_type": "stream",
     "text": [
      "[0.35657982 0.35657982 0.35657982 0.28113163 0.28113163 0.28113163\n",
      " 0.35657982 0.35657982 0.35657982 0.41292788 0.32555709 0.41292788\n",
      " 0.41292788 0.32555709 0.32555709 0.41292788 0.34829919 0.27460308\n",
      " 0.34829919 0.34829919 0.34829919 0.34829919 0.34829919 0.34829919\n",
      " 0.27460308 0.40021825 0.40021825 0.31553666 0.40021825 0.40021825\n",
      " 0.40021825 0.31553666]\n",
      "Type:  <class 'scipy.sparse.csr.csr_matrix'>\n",
      "Shape:  (4, 27)\n",
      "[[0.35657982 0.35657982 0.35657982 0.         0.         0.\n",
      "  0.         0.28113163 0.28113163 0.         0.         0.\n",
      "  0.         0.28113163 0.35657982 0.         0.         0.\n",
      "  0.         0.         0.         0.         0.         0.\n",
      "  0.35657982 0.35657982 0.        ]\n",
      " [0.         0.         0.         0.41292788 0.         0.\n",
      "  0.         0.32555709 0.32555709 0.41292788 0.41292788 0.\n",
      "  0.         0.32555709 0.         0.41292788 0.         0.\n",
      "  0.         0.         0.         0.         0.         0.\n",
      "  0.         0.         0.        ]\n",
      " [0.         0.         0.         0.         0.27460308 0.\n",
      "  0.34829919 0.         0.         0.         0.         0.\n",
      "  0.         0.         0.         0.         0.34829919 0.34829919\n",
      "  0.34829919 0.34829919 0.34829919 0.27460308 0.         0.34829919\n",
      "  0.         0.         0.        ]\n",
      " [0.         0.         0.         0.         0.31553666 0.40021825\n",
      "  0.         0.         0.         0.         0.         0.40021825\n",
      "  0.40021825 0.         0.         0.         0.         0.\n",
      "  0.         0.         0.         0.31553666 0.40021825 0.\n",
      "  0.         0.         0.40021825]]\n"
     ]
    }
   ],
   "source": [
    "# encode document\n",
    "tfidf = tfidf_vectorizer.transform(dataset)\n",
    "print(tfidf.data)\n",
    "print(\"Type: \", type(tfidf))\n",
    "print(\"Shape: \", tfidf.shape)\n",
    "print(tfidf.toarray())"
   ]
  },
  {
   "cell_type": "code",
   "execution_count": 18,
   "metadata": {},
   "outputs": [
    {
     "name": "stdout",
     "output_type": "stream",
     "text": [
      "(4, 27)\n",
      "[[0.35657982 0.35657982 0.35657982 0.         0.         0.\n",
      "  0.         0.28113163 0.28113163 0.         0.         0.\n",
      "  0.         0.28113163 0.35657982 0.         0.         0.\n",
      "  0.         0.         0.         0.         0.         0.\n",
      "  0.35657982 0.35657982 0.        ]]\n"
     ]
    }
   ],
   "source": [
    "# Write tfidf as dataframe\n",
    "dense = tfidf.todense()\n",
    "print(dense.shape)\n",
    "print(dense[0])"
   ]
  },
  {
   "cell_type": "code",
   "execution_count": 19,
   "metadata": {},
   "outputs": [
    {
     "name": "stdout",
     "output_type": "stream",
     "text": [
      "27\n",
      "['an', 'an arrow', 'arrow', 'banana', 'cat', 'cat is', 'cat sat', 'flies', 'flies like', 'fruit', 'fruit flies', 'is', 'is white', 'like', 'like an', 'like banana', 'mat', 'on', 'on the', 'sat', 'sat on', 'the', 'the cat', 'the mat', 'time', 'time flies', 'white']\n"
     ]
    }
   ],
   "source": [
    "feature_names = tfidf_vectorizer.get_feature_names()\n",
    "print(len(feature_names))\n",
    "print(feature_names)"
   ]
  },
  {
   "cell_type": "code",
   "execution_count": 20,
   "metadata": {},
   "outputs": [
    {
     "name": "stderr",
     "output_type": "stream",
     "text": [
      "C:\\ProgramData\\Anaconda3\\lib\\importlib\\_bootstrap.py:219: RuntimeWarning: numpy.ufunc size changed, may indicate binary incompatibility. Expected 216, got 192\n",
      "  return f(*args, **kwds)\n",
      "C:\\ProgramData\\Anaconda3\\lib\\importlib\\_bootstrap.py:219: RuntimeWarning: numpy.ufunc size changed, may indicate binary incompatibility. Expected 216, got 192\n",
      "  return f(*args, **kwds)\n"
     ]
    },
    {
     "data": {
      "text/html": [
       "<div>\n",
       "<style scoped>\n",
       "    .dataframe tbody tr th:only-of-type {\n",
       "        vertical-align: middle;\n",
       "    }\n",
       "\n",
       "    .dataframe tbody tr th {\n",
       "        vertical-align: top;\n",
       "    }\n",
       "\n",
       "    .dataframe thead th {\n",
       "        text-align: right;\n",
       "    }\n",
       "</style>\n",
       "<table border=\"1\" class=\"dataframe\">\n",
       "  <thead>\n",
       "    <tr style=\"text-align: right;\">\n",
       "      <th></th>\n",
       "      <th>an</th>\n",
       "      <th>an arrow</th>\n",
       "      <th>arrow</th>\n",
       "      <th>banana</th>\n",
       "      <th>cat</th>\n",
       "      <th>cat is</th>\n",
       "      <th>cat sat</th>\n",
       "      <th>flies</th>\n",
       "      <th>flies like</th>\n",
       "      <th>fruit</th>\n",
       "      <th>...</th>\n",
       "      <th>on the</th>\n",
       "      <th>sat</th>\n",
       "      <th>sat on</th>\n",
       "      <th>the</th>\n",
       "      <th>the cat</th>\n",
       "      <th>the mat</th>\n",
       "      <th>time</th>\n",
       "      <th>time flies</th>\n",
       "      <th>white</th>\n",
       "      <th>text</th>\n",
       "    </tr>\n",
       "  </thead>\n",
       "  <tbody>\n",
       "    <tr>\n",
       "      <th>0</th>\n",
       "      <td>0.35658</td>\n",
       "      <td>0.35658</td>\n",
       "      <td>0.35658</td>\n",
       "      <td>0.000000</td>\n",
       "      <td>0.000000</td>\n",
       "      <td>0.000000</td>\n",
       "      <td>0.000000</td>\n",
       "      <td>0.281132</td>\n",
       "      <td>0.281132</td>\n",
       "      <td>0.000000</td>\n",
       "      <td>...</td>\n",
       "      <td>0.000000</td>\n",
       "      <td>0.000000</td>\n",
       "      <td>0.000000</td>\n",
       "      <td>0.000000</td>\n",
       "      <td>0.000000</td>\n",
       "      <td>0.000000</td>\n",
       "      <td>0.35658</td>\n",
       "      <td>0.35658</td>\n",
       "      <td>0.000000</td>\n",
       "      <td>Time flies like an arrow</td>\n",
       "    </tr>\n",
       "    <tr>\n",
       "      <th>1</th>\n",
       "      <td>0.00000</td>\n",
       "      <td>0.00000</td>\n",
       "      <td>0.00000</td>\n",
       "      <td>0.412928</td>\n",
       "      <td>0.000000</td>\n",
       "      <td>0.000000</td>\n",
       "      <td>0.000000</td>\n",
       "      <td>0.325557</td>\n",
       "      <td>0.325557</td>\n",
       "      <td>0.412928</td>\n",
       "      <td>...</td>\n",
       "      <td>0.000000</td>\n",
       "      <td>0.000000</td>\n",
       "      <td>0.000000</td>\n",
       "      <td>0.000000</td>\n",
       "      <td>0.000000</td>\n",
       "      <td>0.000000</td>\n",
       "      <td>0.00000</td>\n",
       "      <td>0.00000</td>\n",
       "      <td>0.000000</td>\n",
       "      <td>Fruit flies like a banana</td>\n",
       "    </tr>\n",
       "    <tr>\n",
       "      <th>2</th>\n",
       "      <td>0.00000</td>\n",
       "      <td>0.00000</td>\n",
       "      <td>0.00000</td>\n",
       "      <td>0.000000</td>\n",
       "      <td>0.274603</td>\n",
       "      <td>0.000000</td>\n",
       "      <td>0.348299</td>\n",
       "      <td>0.000000</td>\n",
       "      <td>0.000000</td>\n",
       "      <td>0.000000</td>\n",
       "      <td>...</td>\n",
       "      <td>0.348299</td>\n",
       "      <td>0.348299</td>\n",
       "      <td>0.348299</td>\n",
       "      <td>0.274603</td>\n",
       "      <td>0.000000</td>\n",
       "      <td>0.348299</td>\n",
       "      <td>0.00000</td>\n",
       "      <td>0.00000</td>\n",
       "      <td>0.000000</td>\n",
       "      <td>Cat sat on the mat</td>\n",
       "    </tr>\n",
       "    <tr>\n",
       "      <th>3</th>\n",
       "      <td>0.00000</td>\n",
       "      <td>0.00000</td>\n",
       "      <td>0.00000</td>\n",
       "      <td>0.000000</td>\n",
       "      <td>0.315537</td>\n",
       "      <td>0.400218</td>\n",
       "      <td>0.000000</td>\n",
       "      <td>0.000000</td>\n",
       "      <td>0.000000</td>\n",
       "      <td>0.000000</td>\n",
       "      <td>...</td>\n",
       "      <td>0.000000</td>\n",
       "      <td>0.000000</td>\n",
       "      <td>0.000000</td>\n",
       "      <td>0.315537</td>\n",
       "      <td>0.400218</td>\n",
       "      <td>0.000000</td>\n",
       "      <td>0.00000</td>\n",
       "      <td>0.00000</td>\n",
       "      <td>0.400218</td>\n",
       "      <td>The cat is white.</td>\n",
       "    </tr>\n",
       "  </tbody>\n",
       "</table>\n",
       "<p>4 rows × 28 columns</p>\n",
       "</div>"
      ],
      "text/plain": [
       "        an  an arrow    arrow    banana       cat    cat is   cat sat  \\\n",
       "0  0.35658   0.35658  0.35658  0.000000  0.000000  0.000000  0.000000   \n",
       "1  0.00000   0.00000  0.00000  0.412928  0.000000  0.000000  0.000000   \n",
       "2  0.00000   0.00000  0.00000  0.000000  0.274603  0.000000  0.348299   \n",
       "3  0.00000   0.00000  0.00000  0.000000  0.315537  0.400218  0.000000   \n",
       "\n",
       "      flies  flies like     fruit            ...                on the  \\\n",
       "0  0.281132    0.281132  0.000000            ...              0.000000   \n",
       "1  0.325557    0.325557  0.412928            ...              0.000000   \n",
       "2  0.000000    0.000000  0.000000            ...              0.348299   \n",
       "3  0.000000    0.000000  0.000000            ...              0.000000   \n",
       "\n",
       "        sat    sat on       the   the cat   the mat     time  time flies  \\\n",
       "0  0.000000  0.000000  0.000000  0.000000  0.000000  0.35658     0.35658   \n",
       "1  0.000000  0.000000  0.000000  0.000000  0.000000  0.00000     0.00000   \n",
       "2  0.348299  0.348299  0.274603  0.000000  0.348299  0.00000     0.00000   \n",
       "3  0.000000  0.000000  0.315537  0.400218  0.000000  0.00000     0.00000   \n",
       "\n",
       "      white                       text  \n",
       "0  0.000000   Time flies like an arrow  \n",
       "1  0.000000  Fruit flies like a banana  \n",
       "2  0.000000         Cat sat on the mat  \n",
       "3  0.400218          The cat is white.  \n",
       "\n",
       "[4 rows x 28 columns]"
      ]
     },
     "execution_count": 20,
     "metadata": {},
     "output_type": "execute_result"
    }
   ],
   "source": [
    "import pandas as pd\n",
    "DF = pd.DataFrame(dense)\n",
    "DF.columns = tfidf_vectorizer.get_feature_names()\n",
    "DF['text']= dataset\n",
    "DF"
   ]
  },
  {
   "cell_type": "code",
   "execution_count": 21,
   "metadata": {},
   "outputs": [
    {
     "data": {
      "text/html": [
       "<div>\n",
       "<style scoped>\n",
       "    .dataframe tbody tr th:only-of-type {\n",
       "        vertical-align: middle;\n",
       "    }\n",
       "\n",
       "    .dataframe tbody tr th {\n",
       "        vertical-align: top;\n",
       "    }\n",
       "\n",
       "    .dataframe thead th {\n",
       "        text-align: right;\n",
       "    }\n",
       "</style>\n",
       "<table border=\"1\" class=\"dataframe\">\n",
       "  <thead>\n",
       "    <tr style=\"text-align: right;\">\n",
       "      <th></th>\n",
       "      <th>0</th>\n",
       "      <th>1</th>\n",
       "      <th>2</th>\n",
       "      <th>3</th>\n",
       "    </tr>\n",
       "  </thead>\n",
       "  <tbody>\n",
       "    <tr>\n",
       "      <th>an</th>\n",
       "      <td>0.35658</td>\n",
       "      <td>0</td>\n",
       "      <td>0</td>\n",
       "      <td>0</td>\n",
       "    </tr>\n",
       "    <tr>\n",
       "      <th>an arrow</th>\n",
       "      <td>0.35658</td>\n",
       "      <td>0</td>\n",
       "      <td>0</td>\n",
       "      <td>0</td>\n",
       "    </tr>\n",
       "    <tr>\n",
       "      <th>arrow</th>\n",
       "      <td>0.35658</td>\n",
       "      <td>0</td>\n",
       "      <td>0</td>\n",
       "      <td>0</td>\n",
       "    </tr>\n",
       "    <tr>\n",
       "      <th>banana</th>\n",
       "      <td>0</td>\n",
       "      <td>0.412928</td>\n",
       "      <td>0</td>\n",
       "      <td>0</td>\n",
       "    </tr>\n",
       "    <tr>\n",
       "      <th>cat</th>\n",
       "      <td>0</td>\n",
       "      <td>0</td>\n",
       "      <td>0.274603</td>\n",
       "      <td>0.315537</td>\n",
       "    </tr>\n",
       "    <tr>\n",
       "      <th>cat is</th>\n",
       "      <td>0</td>\n",
       "      <td>0</td>\n",
       "      <td>0</td>\n",
       "      <td>0.400218</td>\n",
       "    </tr>\n",
       "    <tr>\n",
       "      <th>cat sat</th>\n",
       "      <td>0</td>\n",
       "      <td>0</td>\n",
       "      <td>0.348299</td>\n",
       "      <td>0</td>\n",
       "    </tr>\n",
       "    <tr>\n",
       "      <th>flies</th>\n",
       "      <td>0.281132</td>\n",
       "      <td>0.325557</td>\n",
       "      <td>0</td>\n",
       "      <td>0</td>\n",
       "    </tr>\n",
       "    <tr>\n",
       "      <th>flies like</th>\n",
       "      <td>0.281132</td>\n",
       "      <td>0.325557</td>\n",
       "      <td>0</td>\n",
       "      <td>0</td>\n",
       "    </tr>\n",
       "    <tr>\n",
       "      <th>fruit</th>\n",
       "      <td>0</td>\n",
       "      <td>0.412928</td>\n",
       "      <td>0</td>\n",
       "      <td>0</td>\n",
       "    </tr>\n",
       "    <tr>\n",
       "      <th>fruit flies</th>\n",
       "      <td>0</td>\n",
       "      <td>0.412928</td>\n",
       "      <td>0</td>\n",
       "      <td>0</td>\n",
       "    </tr>\n",
       "    <tr>\n",
       "      <th>is</th>\n",
       "      <td>0</td>\n",
       "      <td>0</td>\n",
       "      <td>0</td>\n",
       "      <td>0.400218</td>\n",
       "    </tr>\n",
       "    <tr>\n",
       "      <th>is white</th>\n",
       "      <td>0</td>\n",
       "      <td>0</td>\n",
       "      <td>0</td>\n",
       "      <td>0.400218</td>\n",
       "    </tr>\n",
       "    <tr>\n",
       "      <th>like</th>\n",
       "      <td>0.281132</td>\n",
       "      <td>0.325557</td>\n",
       "      <td>0</td>\n",
       "      <td>0</td>\n",
       "    </tr>\n",
       "    <tr>\n",
       "      <th>like an</th>\n",
       "      <td>0.35658</td>\n",
       "      <td>0</td>\n",
       "      <td>0</td>\n",
       "      <td>0</td>\n",
       "    </tr>\n",
       "    <tr>\n",
       "      <th>like banana</th>\n",
       "      <td>0</td>\n",
       "      <td>0.412928</td>\n",
       "      <td>0</td>\n",
       "      <td>0</td>\n",
       "    </tr>\n",
       "    <tr>\n",
       "      <th>mat</th>\n",
       "      <td>0</td>\n",
       "      <td>0</td>\n",
       "      <td>0.348299</td>\n",
       "      <td>0</td>\n",
       "    </tr>\n",
       "    <tr>\n",
       "      <th>on</th>\n",
       "      <td>0</td>\n",
       "      <td>0</td>\n",
       "      <td>0.348299</td>\n",
       "      <td>0</td>\n",
       "    </tr>\n",
       "    <tr>\n",
       "      <th>on the</th>\n",
       "      <td>0</td>\n",
       "      <td>0</td>\n",
       "      <td>0.348299</td>\n",
       "      <td>0</td>\n",
       "    </tr>\n",
       "    <tr>\n",
       "      <th>sat</th>\n",
       "      <td>0</td>\n",
       "      <td>0</td>\n",
       "      <td>0.348299</td>\n",
       "      <td>0</td>\n",
       "    </tr>\n",
       "    <tr>\n",
       "      <th>sat on</th>\n",
       "      <td>0</td>\n",
       "      <td>0</td>\n",
       "      <td>0.348299</td>\n",
       "      <td>0</td>\n",
       "    </tr>\n",
       "    <tr>\n",
       "      <th>the</th>\n",
       "      <td>0</td>\n",
       "      <td>0</td>\n",
       "      <td>0.274603</td>\n",
       "      <td>0.315537</td>\n",
       "    </tr>\n",
       "    <tr>\n",
       "      <th>the cat</th>\n",
       "      <td>0</td>\n",
       "      <td>0</td>\n",
       "      <td>0</td>\n",
       "      <td>0.400218</td>\n",
       "    </tr>\n",
       "    <tr>\n",
       "      <th>the mat</th>\n",
       "      <td>0</td>\n",
       "      <td>0</td>\n",
       "      <td>0.348299</td>\n",
       "      <td>0</td>\n",
       "    </tr>\n",
       "    <tr>\n",
       "      <th>time</th>\n",
       "      <td>0.35658</td>\n",
       "      <td>0</td>\n",
       "      <td>0</td>\n",
       "      <td>0</td>\n",
       "    </tr>\n",
       "    <tr>\n",
       "      <th>time flies</th>\n",
       "      <td>0.35658</td>\n",
       "      <td>0</td>\n",
       "      <td>0</td>\n",
       "      <td>0</td>\n",
       "    </tr>\n",
       "    <tr>\n",
       "      <th>white</th>\n",
       "      <td>0</td>\n",
       "      <td>0</td>\n",
       "      <td>0</td>\n",
       "      <td>0.400218</td>\n",
       "    </tr>\n",
       "    <tr>\n",
       "      <th>text</th>\n",
       "      <td>Time flies like an arrow</td>\n",
       "      <td>Fruit flies like a banana</td>\n",
       "      <td>Cat sat on the mat</td>\n",
       "      <td>The cat is white.</td>\n",
       "    </tr>\n",
       "  </tbody>\n",
       "</table>\n",
       "</div>"
      ],
      "text/plain": [
       "                                    0                          1  \\\n",
       "an                            0.35658                          0   \n",
       "an arrow                      0.35658                          0   \n",
       "arrow                         0.35658                          0   \n",
       "banana                              0                   0.412928   \n",
       "cat                                 0                          0   \n",
       "cat is                              0                          0   \n",
       "cat sat                             0                          0   \n",
       "flies                        0.281132                   0.325557   \n",
       "flies like                   0.281132                   0.325557   \n",
       "fruit                               0                   0.412928   \n",
       "fruit flies                         0                   0.412928   \n",
       "is                                  0                          0   \n",
       "is white                            0                          0   \n",
       "like                         0.281132                   0.325557   \n",
       "like an                       0.35658                          0   \n",
       "like banana                         0                   0.412928   \n",
       "mat                                 0                          0   \n",
       "on                                  0                          0   \n",
       "on the                              0                          0   \n",
       "sat                                 0                          0   \n",
       "sat on                              0                          0   \n",
       "the                                 0                          0   \n",
       "the cat                             0                          0   \n",
       "the mat                             0                          0   \n",
       "time                          0.35658                          0   \n",
       "time flies                    0.35658                          0   \n",
       "white                               0                          0   \n",
       "text         Time flies like an arrow  Fruit flies like a banana   \n",
       "\n",
       "                              2                  3  \n",
       "an                            0                  0  \n",
       "an arrow                      0                  0  \n",
       "arrow                         0                  0  \n",
       "banana                        0                  0  \n",
       "cat                    0.274603           0.315537  \n",
       "cat is                        0           0.400218  \n",
       "cat sat                0.348299                  0  \n",
       "flies                         0                  0  \n",
       "flies like                    0                  0  \n",
       "fruit                         0                  0  \n",
       "fruit flies                   0                  0  \n",
       "is                            0           0.400218  \n",
       "is white                      0           0.400218  \n",
       "like                          0                  0  \n",
       "like an                       0                  0  \n",
       "like banana                   0                  0  \n",
       "mat                    0.348299                  0  \n",
       "on                     0.348299                  0  \n",
       "on the                 0.348299                  0  \n",
       "sat                    0.348299                  0  \n",
       "sat on                 0.348299                  0  \n",
       "the                    0.274603           0.315537  \n",
       "the cat                       0           0.400218  \n",
       "the mat                0.348299                  0  \n",
       "time                          0                  0  \n",
       "time flies                    0                  0  \n",
       "white                         0           0.400218  \n",
       "text         Cat sat on the mat  The cat is white.  "
      ]
     },
     "execution_count": 21,
     "metadata": {},
     "output_type": "execute_result"
    }
   ],
   "source": [
    "DF.T"
   ]
  },
  {
   "cell_type": "code",
   "execution_count": 22,
   "metadata": {},
   "outputs": [],
   "source": [
    "# Write as CSV File\n",
    "DF.to_csv(\"mytfidf.csv\",index=False)"
   ]
  },
  {
   "cell_type": "code",
   "execution_count": 25,
   "metadata": {},
   "outputs": [],
   "source": [
    "# Doc Similarity\n",
    "# Given a new query, how to find out which document is it closest to?\n",
    "new = 'Time flies like Sam'\n",
    "response = tfidf_vectorizer.transform([new])"
   ]
  },
  {
   "cell_type": "code",
   "execution_count": 27,
   "metadata": {},
   "outputs": [],
   "source": [
    "response_array = response.toarray()"
   ]
  },
  {
   "cell_type": "code",
   "execution_count": 29,
   "metadata": {},
   "outputs": [
    {
     "data": {
      "text/html": [
       "<div>\n",
       "<style scoped>\n",
       "    .dataframe tbody tr th:only-of-type {\n",
       "        vertical-align: middle;\n",
       "    }\n",
       "\n",
       "    .dataframe tbody tr th {\n",
       "        vertical-align: top;\n",
       "    }\n",
       "\n",
       "    .dataframe thead th {\n",
       "        text-align: right;\n",
       "    }\n",
       "</style>\n",
       "<table border=\"1\" class=\"dataframe\">\n",
       "  <thead>\n",
       "    <tr style=\"text-align: right;\">\n",
       "      <th></th>\n",
       "      <th>an</th>\n",
       "      <th>an arrow</th>\n",
       "      <th>arrow</th>\n",
       "      <th>banana</th>\n",
       "      <th>cat</th>\n",
       "      <th>cat is</th>\n",
       "      <th>cat sat</th>\n",
       "      <th>flies</th>\n",
       "      <th>flies like</th>\n",
       "      <th>fruit</th>\n",
       "      <th>...</th>\n",
       "      <th>on</th>\n",
       "      <th>on the</th>\n",
       "      <th>sat</th>\n",
       "      <th>sat on</th>\n",
       "      <th>the</th>\n",
       "      <th>the cat</th>\n",
       "      <th>the mat</th>\n",
       "      <th>time</th>\n",
       "      <th>time flies</th>\n",
       "      <th>white</th>\n",
       "    </tr>\n",
       "  </thead>\n",
       "  <tbody>\n",
       "    <tr>\n",
       "      <th>0</th>\n",
       "      <td>0.0</td>\n",
       "      <td>0.0</td>\n",
       "      <td>0.0</td>\n",
       "      <td>0.0</td>\n",
       "      <td>0.0</td>\n",
       "      <td>0.0</td>\n",
       "      <td>0.0</td>\n",
       "      <td>0.401043</td>\n",
       "      <td>0.401043</td>\n",
       "      <td>0.0</td>\n",
       "      <td>...</td>\n",
       "      <td>0.0</td>\n",
       "      <td>0.0</td>\n",
       "      <td>0.0</td>\n",
       "      <td>0.0</td>\n",
       "      <td>0.0</td>\n",
       "      <td>0.0</td>\n",
       "      <td>0.0</td>\n",
       "      <td>0.508672</td>\n",
       "      <td>0.508672</td>\n",
       "      <td>0.0</td>\n",
       "    </tr>\n",
       "  </tbody>\n",
       "</table>\n",
       "<p>1 rows × 27 columns</p>\n",
       "</div>"
      ],
      "text/plain": [
       "    an  an arrow  arrow  banana  cat  cat is  cat sat     flies  flies like  \\\n",
       "0  0.0       0.0    0.0     0.0  0.0     0.0      0.0  0.401043    0.401043   \n",
       "\n",
       "   fruit  ...     on  on the  sat  sat on  the  the cat  the mat      time  \\\n",
       "0    0.0  ...    0.0     0.0  0.0     0.0  0.0      0.0      0.0  0.508672   \n",
       "\n",
       "   time flies  white  \n",
       "0    0.508672    0.0  \n",
       "\n",
       "[1 rows x 27 columns]"
      ]
     },
     "execution_count": 29,
     "metadata": {},
     "output_type": "execute_result"
    }
   ],
   "source": [
    "pd.DataFrame(response_array, columns=DF.columns[0:27])"
   ]
  },
  {
   "cell_type": "code",
   "execution_count": 30,
   "metadata": {},
   "outputs": [
    {
     "data": {
      "text/plain": [
       "[array([[0.70100165]]), array([[0.39168692]]), array([[0.]]), array([[0.]])]"
      ]
     },
     "execution_count": 30,
     "metadata": {},
     "output_type": "execute_result"
    }
   ],
   "source": [
    "from sklearn.metrics.pairwise import cosine_similarity\n",
    "list(map(lambda x: cosine_similarity(response, x),dense))"
   ]
  },
  {
   "cell_type": "code",
   "execution_count": 66,
   "metadata": {},
   "outputs": [
    {
     "name": "stdout",
     "output_type": "stream",
     "text": [
      "180\n"
     ]
    }
   ],
   "source": [
    "# Application of TF-IDF in clustering\n",
    "with(open('ende_cleaned.json', 'r')) as f:\n",
    "    corpus = f.readlines()\n",
    "print(len(corpus))\n"
   ]
  },
  {
   "cell_type": "code",
   "execution_count": 67,
   "metadata": {},
   "outputs": [
    {
     "name": "stderr",
     "output_type": "stream",
     "text": [
      "The system cannot find the file specified.\n"
     ]
    }
   ],
   "source": [
    "!type corpus"
   ]
  },
  {
   "cell_type": "code",
   "execution_count": 68,
   "metadata": {},
   "outputs": [],
   "source": [
    "#Creating the labels for the documents\n",
    "label1=[0]*90\n",
    "label2=[1]*90\n",
    "labels=label1+label2 #label1 correspond to german and label2 correspond to english"
   ]
  },
  {
   "cell_type": "code",
   "execution_count": 69,
   "metadata": {},
   "outputs": [
    {
     "name": "stdout",
     "output_type": "stream",
     "text": [
      "Extracting tf-idf features....\n",
      "done in 11.386s.\n"
     ]
    }
   ],
   "source": [
    "# Extracting the features\n",
    "print(\"Extracting tf-idf features....\")\n",
    "tfidf_vectorizer = TfidfVectorizer(ngram_range = (1,3), max_features=10000)\n",
    "#max_df=0.95, min_df=2, stop_words='english' #USE HELP TO SEE WHAT EACH DOES)\n",
    "t0 = time()\n",
    "tfidf = tfidf_vectorizer.fit_transform(corpus)\n",
    "print(\"done in %0.3fs.\" % (time() - t0))"
   ]
  },
  {
   "cell_type": "code",
   "execution_count": 70,
   "metadata": {},
   "outputs": [
    {
     "data": {
      "text/plain": [
       "(180, 10000)"
      ]
     },
     "execution_count": 70,
     "metadata": {},
     "output_type": "execute_result"
    }
   ],
   "source": [
    "# creating sparse matrix\n",
    "dense = tfidf.todense()\n",
    "dense.shape"
   ]
  },
  {
   "cell_type": "code",
   "execution_count": 71,
   "metadata": {},
   "outputs": [
    {
     "data": {
      "text/plain": [
       "KMeans(algorithm='auto', copy_x=True, init='k-means++', max_iter=300,\n",
       "    n_clusters=2, n_init=10, n_jobs=1, precompute_distances='auto',\n",
       "    random_state=None, tol=0.0001, verbose=0)"
      ]
     },
     "execution_count": 71,
     "metadata": {},
     "output_type": "execute_result"
    }
   ],
   "source": [
    "from sklearn.cluster import KMeans\n",
    "model = KMeans(n_clusters=2, init = 'k-means++')\n",
    "model.fit(dense)"
   ]
  },
  {
   "cell_type": "code",
   "execution_count": 72,
   "metadata": {},
   "outputs": [
    {
     "data": {
      "text/plain": [
       "array([0, 1, 0, 0, 0, 0, 0, 0, 0, 0, 0, 0, 0, 0, 0, 0, 0, 0, 0, 0, 0, 0,\n",
       "       0, 0, 0, 0, 0, 0, 0, 0, 0, 0, 0, 0, 0, 0, 0, 0, 0, 0, 0, 0, 0, 0,\n",
       "       0, 0, 0, 0, 0, 0, 0, 0, 0, 0, 0, 0, 0, 0, 0, 0, 0, 0, 0, 0, 0, 0,\n",
       "       0, 0, 0, 0, 0, 0, 0, 0, 0, 0, 0, 0, 0, 0, 0, 0, 0, 0, 0, 0, 0, 0,\n",
       "       0, 0, 1, 0, 1, 1, 1, 1, 1, 1, 1, 1, 1, 1, 1, 1, 1, 1, 1, 1, 1, 0,\n",
       "       0, 1, 0, 1, 1, 1, 0, 1, 0, 0, 1, 1, 1, 0, 0, 0, 0, 0, 0, 1, 1, 1,\n",
       "       1, 0, 0, 1, 1, 1, 1, 1, 1, 1, 1, 1, 1, 1, 1, 1, 1, 1, 1, 1, 1, 1,\n",
       "       1, 1, 1, 1, 1, 0, 1, 1, 0, 1, 1, 0, 1, 1, 1, 1, 1, 1, 0, 1, 1, 1,\n",
       "       1, 1, 1, 1])"
      ]
     },
     "execution_count": 72,
     "metadata": {},
     "output_type": "execute_result"
    }
   ],
   "source": [
    "model.labels_"
   ]
  },
  {
   "cell_type": "code",
   "execution_count": 73,
   "metadata": {},
   "outputs": [
    {
     "name": "stdout",
     "output_type": "stream",
     "text": [
      "[(0, 0), (1, 0), (0, 0), (0, 0), (0, 0), (0, 0), (0, 0), (0, 0), (0, 0), (0, 0), (0, 0), (0, 0), (0, 0), (0, 0), (0, 0), (0, 0), (0, 0), (0, 0), (0, 0), (0, 0), (0, 0), (0, 0), (0, 0), (0, 0), (0, 0), (0, 0), (0, 0), (0, 0), (0, 0), (0, 0), (0, 0), (0, 0), (0, 0), (0, 0), (0, 0), (0, 0), (0, 0), (0, 0), (0, 0), (0, 0), (0, 0), (0, 0), (0, 0), (0, 0), (0, 0), (0, 0), (0, 0), (0, 0), (0, 0), (0, 0), (0, 0), (0, 0), (0, 0), (0, 0), (0, 0), (0, 0), (0, 0), (0, 0), (0, 0), (0, 0), (0, 0), (0, 0), (0, 0), (0, 0), (0, 0), (0, 0), (0, 0), (0, 0), (0, 0), (0, 0), (0, 0), (0, 0), (0, 0), (0, 0), (0, 0), (0, 0), (0, 0), (0, 0), (0, 0), (0, 0), (0, 0), (0, 0), (0, 0), (0, 0), (0, 0), (0, 0), (0, 0), (0, 0), (0, 0), (0, 0), (1, 1), (0, 1), (1, 1), (1, 1), (1, 1), (1, 1), (1, 1), (1, 1), (1, 1), (1, 1), (1, 1), (1, 1), (1, 1), (1, 1), (1, 1), (1, 1), (1, 1), (1, 1), (1, 1), (0, 1), (0, 1), (1, 1), (0, 1), (1, 1), (1, 1), (1, 1), (0, 1), (1, 1), (0, 1), (0, 1), (1, 1), (1, 1), (1, 1), (0, 1), (0, 1), (0, 1), (0, 1), (0, 1), (0, 1), (1, 1), (1, 1), (1, 1), (1, 1), (0, 1), (0, 1), (1, 1), (1, 1), (1, 1), (1, 1), (1, 1), (1, 1), (1, 1), (1, 1), (1, 1), (1, 1), (1, 1), (1, 1), (1, 1), (1, 1), (1, 1), (1, 1), (1, 1), (1, 1), (1, 1), (1, 1), (1, 1), (1, 1), (1, 1), (1, 1), (0, 1), (1, 1), (1, 1), (0, 1), (1, 1), (1, 1), (0, 1), (1, 1), (1, 1), (1, 1), (1, 1), (1, 1), (1, 1), (0, 1), (1, 1), (1, 1), (1, 1), (1, 1), (1, 1), (1, 1), (1, 1)]\n"
     ]
    }
   ],
   "source": [
    "# Comparing the actual labels with KMenas Labels\n",
    "kmeans_labels = model.labels_\n",
    "x=list(zip(kmeans_labels,labels))\n",
    "print(x)"
   ]
  },
  {
   "cell_type": "code",
   "execution_count": 74,
   "metadata": {},
   "outputs": [
    {
     "name": "stdout",
     "output_type": "stream",
     "text": [
      "('{\"url\": \"https://de.wikipedia.org/wiki/Wikipedia:Impressum\", \"article\": \"\\\\u201eWikipedia, Die freie Enzyklop\\\\u00e4die\\\\u201c ist im Internet unter www.wikipedia.org zu finden, die deutschsprachige Ausgabe unter de.wikipedia.org.Anbieterin dieser Website ist die Wikimedia Foundation Inc., eingetragen beim Florida Department of State, Division of Corporations unter der Nummer N03000005323. Die Wikimedia Foundation ist eine Stiftung nach dem Recht des US-Bundesstaates Florida. Die verantwortliche Ansprechperson \\\\u2013 gleichzeitig Designated Agent im Sinne des Digital Millennium Copyright Act \\\\u2013 ist Geoff Brigham.Bei Fragen und Intervieww\\\\u00fcnschen k\\\\u00f6nnen Sie sich auf informeller Basis auch gerne an die aktiven deutschsprachigen Ansprechpartner wenden, siehe Wikipedia:Kontakt und Wikipedia:Presse.Wikipedia ist eine freie Enzyklop\\\\u00e4die. N\\\\u00e4here Informationen zum Projekt erfahren Sie auf der Seite \\\\u00dcber Wikipedia sowie im Enzyklop\\\\u00e4die-Artikel zu Wikipedia. Die Bezeichnung \\\\u201efrei\\\\u201c bedeutet dabei, dass Wikipedia-Inhalte frei lizenziert sind. Demnach ist die private oder kommerzielle Verwendung und Weitergabe der in Wikipedia enthaltenen Texte \\\\u2013 sofern die Bestimmungen der GNU-Lizenz f\\\\u00fcr freie Dokumentation oder der Creative-Commons-Lizenz by-sa-3.0 eingehalten werden \\\\u2013 gestattet. F\\\\u00fcr hochgeladene Mediendateien, insbesondere Bilder, k\\\\u00f6nnen unterschiedliche freie Lizenzen gelten, die auf den Dateibeschreibungsseiten angegeben sind. Diese sind gesondert zu beachten, siehe auch Wikipedia:Lizenzbestimmungen.Bitte beachten Sie die ausf\\\\u00fchrlichen Nutzungsbedingungen der Wikimedia Foundation.Beachten Sie bitte die verbindliche Datenschutzrichtlinie der Wikimedia Foundation und die weiteren Hinweise zum Datenschutz.Die Wikipedia-Autoren sind aufgerufen, alle Inhalte, die sie zu dieser Website beisteuern, nach bestem Wissen zu erstellen. Die Inhalte der Wikipedia entstehen gemeinschaftlich, offen und ohne direkte redaktionelle Begleitung und Kontrolle. Praktisch jeder Inhalt kann jederzeit durch jedermann ver\\\\u00e4ndert werden. Insbesondere k\\\\u00f6nnen Werke, die unter dem Verdacht stehen, Urheber-, Verwertungs-, Pers\\\\u00f6nlichkeits- oder sonstige Rechte zu verletzen, unmittelbar ohne R\\\\u00fccksprache jederzeit korrigiert bzw. gel\\\\u00f6scht werden. Jeder Benutzer ist f\\\\u00fcr die von ihm erstellten Beitr\\\\u00e4ge selbst in vollem Umfang verantwortlich. Einen Ausschluss einzelner Benutzer beh\\\\u00e4lt sich die Anbieterin ausdr\\\\u00fccklich vor.Auf Grund der offenen Struktur der Wikipedia und der h\\\\u00e4ufigen \\\\u00c4nderungen ihrer Inhalte ist es m\\\\u00f6glich, dass Sie hier auf unrichtige, unvollst\\\\u00e4ndige, veraltete, widerspr\\\\u00fcchliche, in falschem Zusammenhang stehende oder verk\\\\u00fcrzte Angaben treffen. Die enzyklop\\\\u00e4dischen Artikel der Wikipedia dienen des Weiteren der allgemeinen Bildung und Weiterbildung, nicht der Beratung im Falle individueller Anliegen. Es kann deshalb keine Verantwortung f\\\\u00fcr Sch\\\\u00e4den \\\\u00fcbernommen werden, die durch das Vertrauen auf die Inhalte dieser Website oder deren Gebrauch entstehen. Bitte beachten Sie auch die gesonderten Hinweise zu Rechtsthemen und zu Gesundheitsthemen.Die als Administratoren oder \\\\u201eSysop\\\\u201c bezeichneten Benutzer der Wikipedia sowie die Benutzer mit sonstigen erweiterten Rechten sind keine offiziellen Vertreter der Website-Anbieterin, sondern lediglich Benutzer, denen weitergehende technische M\\\\u00f6glichkeiten einger\\\\u00e4umt wurden. Diese Personen helfen in der Regel gern und schnell bei eventuellen Fragen oder Beanstandungen, sind jedoch nicht pers\\\\u00f6nlich f\\\\u00fcr diese Website \\\\u2013 insbesondere nicht im Hinblick auf Richtigkeit, Aktualit\\\\u00e4t und Vollst\\\\u00e4ndigkeit der zur Verf\\\\u00fcgung gestellten Informationen \\\\u2013 verantwortlich.Die Website-Anbieterin weist auf allen Eingabeseiten darauf hin, kein Material zu verwenden, das Urheberrechten Dritter unterliegt. Bei der sehr gro\\\\u00dfen Zahl der in deutscher Sprache vorliegenden elektronischen und vor allem schriftlichen Publikationen kann aber nicht ausgeschlossen werden, dass von Benutzern dennoch unbefugt Material eingebracht wird, das bestehende Schutzrechte verletzt und das nicht sofort als solches erkannt wird.Wenn der Anbieterin eine entsprechende Urheberrechtsverletzung angezeigt wird, wird das betreffende Material umgehend entfernt. Offizieller Ansprechpartner f\\\\u00fcr solche F\\\\u00e4lle sind die nach US-amerikanischem Recht bestimmten Designated Agents von Wikimedia.Alternativ k\\\\u00f6nnen Sie sich auf informeller Basis auch an eine Gruppe von aktiven deutschsprachigen Benutzern wenden, die Sie unter info-de@wikimedia.org erreichen. Die E-Mail sollte den betroffenen Inhalt in Wikipedia genau bezeichnen (bitte immer URL und ggf. konkreten Abschnitt angeben) sowie die Publikation oder Website nennen, aus der das Material unberechtigt \\\\u00fcbernommen wurde.\", \"name\": \"Wikipedia:Impressum\"},\\n', 0)\n"
     ]
    }
   ],
   "source": [
    "results =list(zip(corpus, label))\n",
    "print(results[0])"
   ]
  },
  {
   "cell_type": "code",
   "execution_count": null,
   "metadata": {},
   "outputs": [],
   "source": []
  },
  {
   "cell_type": "code",
   "execution_count": null,
   "metadata": {},
   "outputs": [],
   "source": []
  }
 ],
 "metadata": {
  "kernelspec": {
   "display_name": "Python 3",
   "language": "python",
   "name": "python3"
  },
  "language_info": {
   "codemirror_mode": {
    "name": "ipython",
    "version": 3
   },
   "file_extension": ".py",
   "mimetype": "text/x-python",
   "name": "python",
   "nbconvert_exporter": "python",
   "pygments_lexer": "ipython3",
   "version": "3.6.5"
  }
 },
 "nbformat": 4,
 "nbformat_minor": 2
}
