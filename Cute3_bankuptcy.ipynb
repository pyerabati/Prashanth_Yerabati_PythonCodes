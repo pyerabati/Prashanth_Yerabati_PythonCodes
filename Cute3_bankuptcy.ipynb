{
 "cells": [
  {
   "cell_type": "code",
   "execution_count": 100,
   "metadata": {},
   "outputs": [],
   "source": [
    "# Importing all the Libraries\n",
    "import os\n",
    "import numpy as np\n",
    "import pandas as pd\n",
    "import matplotlib.pyplot as plt\n",
    "%matplotlib inline\n"
   ]
  },
  {
   "cell_type": "code",
   "execution_count": 101,
   "metadata": {},
   "outputs": [],
   "source": [
    "#!pip install -U imbalanced-learn"
   ]
  },
  {
   "cell_type": "code",
   "execution_count": 102,
   "metadata": {},
   "outputs": [],
   "source": [
    "# For loading .arff files\n",
    "from scipy.io import arff\n",
    "# To perform mean imputation\n",
    "from sklearn.preprocessing import Imputer\n",
    "#To perform kFold Cross Validation\n",
    "from sklearn.model_selection import KFold\n",
    "# Formatted counter of class labels\n",
    "from collections import Counter\n",
    "# Ordered Dictionary\n",
    "from collections import OrderedDict\n",
    "# Library imbalanced-learn to deal with the data imbalance. To use SMOTE oversampling\n",
    "from imblearn.over_sampling import SMOTE \n",
    "# To analyze the type of missing data\n",
    "import missingno as msno\n",
    "# Library for performing k-NN and MICE imputations \n",
    "import fancyimpute\n",
    "\n",
    "# To perform mean imputation\n",
    "from sklearn.preprocessing import Imputer\n"
   ]
  },
  {
   "cell_type": "code",
   "execution_count": 103,
   "metadata": {},
   "outputs": [],
   "source": [
    "# Impoting classification models\n",
    "from xgboost import XGBClassifier\n",
    "from sklearn.svm import SVC\n",
    "from sklearn.ensemble import RandomForestClassifier\n",
    "from sklearn.linear_model import LogisticRegression\n",
    "from imblearn.ensemble import BalancedBaggingClassifier\n",
    "from sklearn.tree import DecisionTreeClassifier\n",
    "from sklearn.naive_bayes import GaussianNB\n",
    "\n"
   ]
  },
  {
   "cell_type": "code",
   "execution_count": 104,
   "metadata": {},
   "outputs": [],
   "source": [
    "# Import metrics\n",
    "import random\n",
    "\n",
    "from sklearn.metrics import accuracy_score\n",
    "from sklearn.metrics import precision_score\n",
    "from sklearn.metrics import recall_score\n",
    "from sklearn.metrics import classification_report\n",
    "from sklearn.metrics import confusion_matrix\n",
    "from sklearn.metrics import roc_curve\n",
    "from sklearn.metrics import precision_recall_curve"
   ]
  },
  {
   "cell_type": "code",
   "execution_count": 105,
   "metadata": {},
   "outputs": [],
   "source": [
    "# Read the data\n",
    "bank_data = pd.read_csv(\"bank_data.csv\")"
   ]
  },
  {
   "cell_type": "code",
   "execution_count": 106,
   "metadata": {},
   "outputs": [
    {
     "data": {
      "text/plain": [
       "(24996, 65)"
      ]
     },
     "execution_count": 106,
     "metadata": {},
     "output_type": "execute_result"
    }
   ],
   "source": [
    "bank_data.shape"
   ]
  },
  {
   "cell_type": "code",
   "execution_count": 92,
   "metadata": {},
   "outputs": [
    {
     "name": "stdout",
     "output_type": "stream",
     "text": [
      "<class 'pandas.core.frame.DataFrame'>\n",
      "RangeIndex: 24996 entries, 0 to 24995\n",
      "Data columns (total 65 columns):\n",
      "Attr1     24990 non-null float64\n",
      "Attr2     24990 non-null float64\n",
      "Attr3     24990 non-null float64\n",
      "Attr4     24910 non-null float64\n",
      "Attr5     24951 non-null float64\n",
      "Attr6     24990 non-null float64\n",
      "Attr7     24990 non-null float64\n",
      "Attr8     24931 non-null float64\n",
      "Attr9     24988 non-null float64\n",
      "Attr10    24990 non-null float64\n",
      "Attr11    24086 non-null float64\n",
      "Attr12    24910 non-null float64\n",
      "Attr13    24913 non-null float64\n",
      "Attr14    24990 non-null float64\n",
      "Attr15    24968 non-null float64\n",
      "Attr16    24931 non-null float64\n",
      "Attr17    24931 non-null float64\n",
      "Attr18    24990 non-null float64\n",
      "Attr19    24912 non-null float64\n",
      "Attr20    24913 non-null float64\n",
      "Attr21    19595 non-null float64\n",
      "Attr22    24990 non-null float64\n",
      "Attr23    24913 non-null float64\n",
      "Attr24    24495 non-null float64\n",
      "Attr25    24990 non-null float64\n",
      "Attr26    24931 non-null float64\n",
      "Attr27    22269 non-null float64\n",
      "Attr28    24469 non-null float64\n",
      "Attr29    24990 non-null float64\n",
      "Attr30    24913 non-null float64\n",
      "Attr31    24913 non-null float64\n",
      "Attr32    24777 non-null float64\n",
      "Attr33    24910 non-null float64\n",
      "Attr34    24931 non-null float64\n",
      "Attr35    24990 non-null float64\n",
      "Attr36    24990 non-null float64\n",
      "Attr37    13528 non-null float64\n",
      "Attr38    24990 non-null float64\n",
      "Attr39    24913 non-null float64\n",
      "Attr40    24910 non-null float64\n",
      "Attr41    24629 non-null float64\n",
      "Attr42    24913 non-null float64\n",
      "Attr43    24913 non-null float64\n",
      "Attr44    24913 non-null float64\n",
      "Attr45    23226 non-null float64\n",
      "Attr46    24908 non-null float64\n",
      "Attr47    24826 non-null float64\n",
      "Attr48    24990 non-null float64\n",
      "Attr49    24913 non-null float64\n",
      "Attr50    24931 non-null float64\n",
      "Attr51    24990 non-null float64\n",
      "Attr52    24822 non-null float64\n",
      "Attr53    24469 non-null float64\n",
      "Attr54    24469 non-null float64\n",
      "Attr55    24996 non-null float64\n",
      "Attr56    24913 non-null float64\n",
      "Attr57    24989 non-null float64\n",
      "Attr58    24942 non-null float64\n",
      "Attr59    24989 non-null float64\n",
      "Attr60    23226 non-null float64\n",
      "Attr61    24935 non-null float64\n",
      "Attr62    24913 non-null float64\n",
      "Attr63    24910 non-null float64\n",
      "Attr64    24469 non-null float64\n",
      "target    24996 non-null object\n",
      "dtypes: float64(64), object(1)\n",
      "memory usage: 12.4+ MB\n"
     ]
    }
   ],
   "source": [
    "bank_data.head()\n",
    "bank_data.info()"
   ]
  },
  {
   "cell_type": "code",
   "execution_count": 135,
   "metadata": {},
   "outputs": [],
   "source": [
    "from feature_selector import FeatureSelector"
   ]
  },
  {
   "cell_type": "code",
   "execution_count": 132,
   "metadata": {},
   "outputs": [
    {
     "name": "stdout",
     "output_type": "stream",
     "text": [
      "Collecting http://pythonwheels.com\n",
      "  Downloading http://pythonwheels.com\n"
     ]
    },
    {
     "name": "stderr",
     "output_type": "stream",
     "text": [
      "  Cannot unpack file C:\\Users\\PRASHA~1\\AppData\\Local\\Temp\\pip-unpack-34pf_ki4\\pythonwheels.com (downloaded from C:\\Users\\PRASHA~1\\AppData\\Local\\Temp\\pip-req-build-nqf3f818, content-type: text/html); cannot detect archive format\n",
      "Cannot determine archive format of C:\\Users\\PRASHA~1\\AppData\\Local\\Temp\\pip-req-build-nqf3f818\n"
     ]
    }
   ],
   "source": [
    "!pip install wheel http://pythonwheels.com"
   ]
  },
  {
   "cell_type": "code",
   "execution_count": 133,
   "metadata": {},
   "outputs": [
    {
     "name": "stdout",
     "output_type": "stream",
     "text": [
      "Requirement already satisfied: lightgbm in c:\\users\\prashanth yerabati\\appdata\\roaming\\python\\python36\\site-packages (2.2.2)\n",
      "Requirement already satisfied: numpy in c:\\users\\prashanth yerabati\\appdata\\roaming\\python\\python36\\site-packages (from lightgbm) (1.16.0)\n",
      "Requirement already satisfied: scipy in c:\\programdata\\anaconda3\\lib\\site-packages (from lightgbm) (1.1.0)\n",
      "Requirement already satisfied: scikit-learn in c:\\programdata\\anaconda3\\lib\\site-packages (from lightgbm) (0.19.1)\n"
     ]
    }
   ],
   "source": [
    "!pip install lightgbm"
   ]
  },
  {
   "cell_type": "code",
   "execution_count": 121,
   "metadata": {},
   "outputs": [
    {
     "name": "stdout",
     "output_type": "stream",
     "text": [
      "Requirement already satisfied: feature_selector in c:\\programdata\\anaconda3\\feature-selector-master (N-A)\n",
      "Requirement already satisfied: lightgbm>=2.1.1 in c:\\users\\prashanth yerabati\\appdata\\roaming\\python\\python36\\site-packages (from feature_selector) (2.2.2)\n",
      "Requirement already satisfied: matplotlib>=2.1.2 in c:\\programdata\\anaconda3\\lib\\site-packages (from feature_selector) (2.2.2)\n",
      "Requirement already satisfied: seaborn>=0.8.1 in c:\\programdata\\anaconda3\\lib\\site-packages (from feature_selector) (0.8.1)\n",
      "Requirement already satisfied: numpy>=1.14.5 in c:\\users\\prashanth yerabati\\appdata\\roaming\\python\\python36\\site-packages (from feature_selector) (1.16.0)\n",
      "Requirement already satisfied: pandas>=0.23.1 in c:\\users\\prashanth yerabati\\appdata\\roaming\\python\\python36\\site-packages (from feature_selector) (0.23.4)\n",
      "Requirement already satisfied: scikit-learn>=0.19.1 in c:\\programdata\\anaconda3\\lib\\site-packages (from feature_selector) (0.19.1)\n",
      "Requirement already satisfied: scipy in c:\\programdata\\anaconda3\\lib\\site-packages (from lightgbm>=2.1.1->feature_selector) (1.1.0)\n",
      "Requirement already satisfied: cycler>=0.10 in c:\\programdata\\anaconda3\\lib\\site-packages (from matplotlib>=2.1.2->feature_selector) (0.10.0)\n",
      "Requirement already satisfied: pyparsing!=2.0.4,!=2.1.2,!=2.1.6,>=2.0.1 in c:\\programdata\\anaconda3\\lib\\site-packages (from matplotlib>=2.1.2->feature_selector) (2.2.0)\n",
      "Requirement already satisfied: python-dateutil>=2.1 in c:\\programdata\\anaconda3\\lib\\site-packages (from matplotlib>=2.1.2->feature_selector) (2.7.3)\n",
      "Requirement already satisfied: pytz in c:\\programdata\\anaconda3\\lib\\site-packages (from matplotlib>=2.1.2->feature_selector) (2018.4)\n",
      "Requirement already satisfied: six>=1.10 in c:\\programdata\\anaconda3\\lib\\site-packages (from matplotlib>=2.1.2->feature_selector) (1.11.0)\n",
      "Requirement already satisfied: kiwisolver>=1.0.1 in c:\\programdata\\anaconda3\\lib\\site-packages (from matplotlib>=2.1.2->feature_selector) (1.0.1)\n",
      "Requirement already satisfied: setuptools in c:\\programdata\\anaconda3\\lib\\site-packages (from kiwisolver>=1.0.1->matplotlib>=2.1.2->feature_selector) (39.1.0)\n"
     ]
    }
   ],
   "source": [
    "!pip install feature_selec"
   ]
  },
  {
   "cell_type": "code",
   "execution_count": 93,
   "metadata": {},
   "outputs": [],
   "source": [
    "# Convert the Target Variables to Numeric\n",
    "bank_data[\"target\"] = bank_data[\"target\"].replace({'No':0, 'Yes':1})"
   ]
  },
  {
   "cell_type": "code",
   "execution_count": 94,
   "metadata": {},
   "outputs": [
    {
     "name": "stdout",
     "output_type": "stream",
     "text": [
      "<class 'pandas.core.frame.DataFrame'>\n",
      "RangeIndex: 24996 entries, 0 to 24995\n",
      "Data columns (total 65 columns):\n",
      "Attr1     24990 non-null float64\n",
      "Attr2     24990 non-null float64\n",
      "Attr3     24990 non-null float64\n",
      "Attr4     24910 non-null float64\n",
      "Attr5     24951 non-null float64\n",
      "Attr6     24990 non-null float64\n",
      "Attr7     24990 non-null float64\n",
      "Attr8     24931 non-null float64\n",
      "Attr9     24988 non-null float64\n",
      "Attr10    24990 non-null float64\n",
      "Attr11    24086 non-null float64\n",
      "Attr12    24910 non-null float64\n",
      "Attr13    24913 non-null float64\n",
      "Attr14    24990 non-null float64\n",
      "Attr15    24968 non-null float64\n",
      "Attr16    24931 non-null float64\n",
      "Attr17    24931 non-null float64\n",
      "Attr18    24990 non-null float64\n",
      "Attr19    24912 non-null float64\n",
      "Attr20    24913 non-null float64\n",
      "Attr21    19595 non-null float64\n",
      "Attr22    24990 non-null float64\n",
      "Attr23    24913 non-null float64\n",
      "Attr24    24495 non-null float64\n",
      "Attr25    24990 non-null float64\n",
      "Attr26    24931 non-null float64\n",
      "Attr27    22269 non-null float64\n",
      "Attr28    24469 non-null float64\n",
      "Attr29    24990 non-null float64\n",
      "Attr30    24913 non-null float64\n",
      "Attr31    24913 non-null float64\n",
      "Attr32    24777 non-null float64\n",
      "Attr33    24910 non-null float64\n",
      "Attr34    24931 non-null float64\n",
      "Attr35    24990 non-null float64\n",
      "Attr36    24990 non-null float64\n",
      "Attr37    13528 non-null float64\n",
      "Attr38    24990 non-null float64\n",
      "Attr39    24913 non-null float64\n",
      "Attr40    24910 non-null float64\n",
      "Attr41    24629 non-null float64\n",
      "Attr42    24913 non-null float64\n",
      "Attr43    24913 non-null float64\n",
      "Attr44    24913 non-null float64\n",
      "Attr45    23226 non-null float64\n",
      "Attr46    24908 non-null float64\n",
      "Attr47    24826 non-null float64\n",
      "Attr48    24990 non-null float64\n",
      "Attr49    24913 non-null float64\n",
      "Attr50    24931 non-null float64\n",
      "Attr51    24990 non-null float64\n",
      "Attr52    24822 non-null float64\n",
      "Attr53    24469 non-null float64\n",
      "Attr54    24469 non-null float64\n",
      "Attr55    24996 non-null float64\n",
      "Attr56    24913 non-null float64\n",
      "Attr57    24989 non-null float64\n",
      "Attr58    24942 non-null float64\n",
      "Attr59    24989 non-null float64\n",
      "Attr60    23226 non-null float64\n",
      "Attr61    24935 non-null float64\n",
      "Attr62    24913 non-null float64\n",
      "Attr63    24910 non-null float64\n",
      "Attr64    24469 non-null float64\n",
      "target    24996 non-null int64\n",
      "dtypes: float64(64), int64(1)\n",
      "memory usage: 12.4 MB\n"
     ]
    }
   ],
   "source": [
    "bank_data.info()"
   ]
  },
  {
   "cell_type": "code",
   "execution_count": 95,
   "metadata": {},
   "outputs": [
    {
     "data": {
      "text/plain": [
       "0    20830\n",
       "1     4166\n",
       "Name: target, dtype: int64"
      ]
     },
     "execution_count": 95,
     "metadata": {},
     "output_type": "execute_result"
    }
   ],
   "source": [
    "# Find the Target value distribution\n",
    "bank_data[\"target\"].value_counts()"
   ]
  },
  {
   "cell_type": "code",
   "execution_count": 96,
   "metadata": {},
   "outputs": [
    {
     "data": {
      "text/plain": [
       "Attr1     0.000240\n",
       "Attr2     0.000240\n",
       "Attr3     0.000240\n",
       "Attr4     0.003441\n",
       "Attr5     0.001800\n",
       "Attr6     0.000240\n",
       "Attr7     0.000240\n",
       "Attr8     0.002600\n",
       "Attr9     0.000320\n",
       "Attr10    0.000240\n",
       "Attr11    0.036406\n",
       "Attr12    0.003441\n",
       "Attr13    0.003321\n",
       "Attr14    0.000240\n",
       "Attr15    0.001120\n",
       "Attr16    0.002600\n",
       "Attr17    0.002600\n",
       "Attr18    0.000240\n",
       "Attr19    0.003361\n",
       "Attr20    0.003321\n",
       "Attr21    0.216075\n",
       "Attr22    0.000240\n",
       "Attr23    0.003321\n",
       "Attr24    0.020043\n",
       "Attr25    0.000240\n",
       "Attr26    0.002600\n",
       "Attr27    0.109097\n",
       "Attr28    0.021083\n",
       "Attr29    0.000240\n",
       "Attr30    0.003321\n",
       "            ...   \n",
       "Attr36    0.000240\n",
       "Attr37    0.458793\n",
       "Attr38    0.000240\n",
       "Attr39    0.003321\n",
       "Attr40    0.003441\n",
       "Attr41    0.014682\n",
       "Attr42    0.003321\n",
       "Attr43    0.003321\n",
       "Attr44    0.003321\n",
       "Attr45    0.070811\n",
       "Attr46    0.003521\n",
       "Attr47    0.006801\n",
       "Attr48    0.000240\n",
       "Attr49    0.003321\n",
       "Attr50    0.002600\n",
       "Attr51    0.000240\n",
       "Attr52    0.006961\n",
       "Attr53    0.021083\n",
       "Attr54    0.021083\n",
       "Attr55    0.000000\n",
       "Attr56    0.003321\n",
       "Attr57    0.000280\n",
       "Attr58    0.002160\n",
       "Attr59    0.000280\n",
       "Attr60    0.070811\n",
       "Attr61    0.002440\n",
       "Attr62    0.003321\n",
       "Attr63    0.003441\n",
       "Attr64    0.021083\n",
       "target    0.000000\n",
       "Length: 65, dtype: float64"
      ]
     },
     "execution_count": 96,
     "metadata": {},
     "output_type": "execute_result"
    }
   ],
   "source": [
    "# Missing Data\n",
    "bank_data.isnull().mean()"
   ]
  },
  {
   "cell_type": "code",
   "execution_count": 97,
   "metadata": {},
   "outputs": [],
   "source": [
    "\n",
    "#!pip install fancyimpute "
   ]
  },
  {
   "cell_type": "code",
   "execution_count": 13,
   "metadata": {},
   "outputs": [],
   "source": [
    "# The above step shows us that there are a lot of rows which have missing data in at least one of the feature\n",
    "# missing-data-rows correspond to more than 50% of the entire data.\n",
    "#  Let us build sparsity Matrix\n",
    "# To analyze the type of missing data\n",
    "import missingno as msno\n",
    "# Library for performing k-NN and MICE imputations \n",
    "#import fancyimpute"
   ]
  },
  {
   "cell_type": "code",
   "execution_count": 85,
   "metadata": {},
   "outputs": [
    {
     "data": {
      "text/plain": [
       "Index(['Attr1', 'Attr2', 'Attr3', 'Attr4', 'Attr5', 'Attr6', 'Attr7', 'Attr8',\n",
       "       'Attr9', 'Attr10', 'Attr11', 'Attr12', 'Attr13', 'Attr14', 'Attr15',\n",
       "       'Attr16', 'Attr17', 'Attr18', 'Attr19', 'Attr20', 'Attr21', 'Attr22',\n",
       "       'Attr23', 'Attr24', 'Attr25', 'Attr26', 'Attr27', 'Attr28', 'Attr29',\n",
       "       'Attr30', 'Attr31', 'Attr32', 'Attr33', 'Attr34', 'Attr35', 'Attr36',\n",
       "       'Attr37', 'Attr38', 'Attr39', 'Attr40', 'Attr41', 'Attr42', 'Attr43',\n",
       "       'Attr44', 'Attr45', 'Attr46', 'Attr47', 'Attr48', 'Attr49', 'Attr50',\n",
       "       'Attr51', 'Attr52', 'Attr53', 'Attr54', 'Attr55', 'Attr56', 'Attr57',\n",
       "       'Attr58', 'Attr59', 'Attr60', 'Attr61', 'Attr62', 'Attr63', 'Attr64',\n",
       "       'target'],\n",
       "      dtype='object')"
      ]
     },
     "execution_count": 85,
     "metadata": {},
     "output_type": "execute_result"
    }
   ],
   "source": [
    "bank_data.columns"
   ]
  },
  {
   "cell_type": "code",
   "execution_count": 86,
   "metadata": {},
   "outputs": [
    {
     "data": {
      "text/plain": [
       "<matplotlib.axes._subplots.AxesSubplot at 0x183ec907358>"
      ]
     },
     "execution_count": 86,
     "metadata": {},
     "output_type": "execute_result"
    },
    {
     "data": {
      "image/png": "[encoded data removed]",
      "text/plain": [
       "<Figure size 1440x360 with 2 Axes>"
      ]
     },
     "metadata": {},
     "output_type": "display_data"
    }
   ],
   "source": [
    "missing_data = bank_data.columns[bank_data.isnull().any()].tolist()\n",
    "msno.matrix(bank_data[missing_data], figsize=(20,5))"
   ]
  },
  {
   "cell_type": "code",
   "execution_count": 17,
   "metadata": {},
   "outputs": [],
   "source": [
    "#Generate heat map of missing values\n",
    "\n",
    "import numpy as np\n",
    "import pandas as pd\n",
    "import matplotlib.pyplot as plt\n",
    "import seaborn as sns\n",
    "%matplotlib inline"
   ]
  },
  {
   "cell_type": "code",
   "execution_count": 18,
   "metadata": {},
   "outputs": [
    {
     "data": {
      "text/plain": [
       "<matplotlib.axes._subplots.AxesSubplot at 0x183ecb79160>"
      ]
     },
     "execution_count": 18,
     "metadata": {},
     "output_type": "execute_result"
    },
    {
     "data": {
      "image/png": "[encoded data removed]",
      "text/plain": [
       "<Figure size 432x288 with 1 Axes>"
      ]
     },
     "metadata": {},
     "output_type": "display_data"
    }
   ],
   "source": [
    "sns.heatmap(bank_data.isnull(), cbar=False)"
   ]
  },
  {
   "cell_type": "code",
   "execution_count": 19,
   "metadata": {},
   "outputs": [],
   "source": [
    "#  we could notice a lot of sparsity for the featureAttr37 has the highest sparsity among all the features for all the dataframes. The feature Attr21 is sparse for some,"
   ]
  },
  {
   "cell_type": "code",
   "execution_count": null,
   "metadata": {},
   "outputs": [],
   "source": [
    "#Data Imputation\n",
    "## KNN IMputation\n",
    "from fancyimpute import KNN \n",
    "bank_data.isnull().sum()\n"
   ]
  },
  {
   "cell_type": "code",
   "execution_count": 98,
   "metadata": {},
   "outputs": [
    {
     "data": {
      "text/plain": [
       "(24996, 65)"
      ]
     },
     "execution_count": 98,
     "metadata": {},
     "output_type": "execute_result"
    }
   ],
   "source": [
    "bank_data.shape"
   ]
  },
  {
   "cell_type": "code",
   "execution_count": null,
   "metadata": {},
   "outputs": [],
   "source": []
  },
  {
   "cell_type": "code",
   "execution_count": null,
   "metadata": {},
   "outputs": [],
   "source": []
  },
  {
   "cell_type": "code",
   "execution_count": 99,
   "metadata": {},
   "outputs": [],
   "source": [
    "bank_data = bank_data.drop_duplicates()\n"
   ]
  },
  {
   "cell_type": "code",
   "execution_count": 20,
   "metadata": {},
   "outputs": [
    {
     "data": {
      "text/plain": [
       "<BarContainer object of 65 artists>"
      ]
     },
     "execution_count": 20,
     "metadata": {},
     "output_type": "execute_result"
    },
    {
     "data": {
      "image/png": "[encoded data removed]",
      "text/plain": [
       "<Figure size 1152x720 with 1 Axes>"
      ]
     },
     "metadata": {},
     "output_type": "display_data"
    }
   ],
   "source": [
    "null_counts = bank_data.isnull().sum()/len(bank_data)\n",
    "plt.figure(figsize=(16,10))\n",
    "plt.xticks(np.arange(len(null_counts))+0.5,null_counts.index,rotation='vertical')\n",
    "plt.ylabel('fraction of rows with missing data')\n",
    "plt.bar(np.arange(len(null_counts)),null_counts)"
   ]
  },
  {
   "cell_type": "code",
   "execution_count": 21,
   "metadata": {},
   "outputs": [],
   "source": [
    "# WE noticed that Attr37, Attr21, Attr60 and Attr27m attr45 had majority of missing values"
   ]
  },
  {
   "cell_type": "code",
   "execution_count": 22,
   "metadata": {},
   "outputs": [],
   "source": [
    "# Data Imputation\n",
    "# Impute missing values with mean Imputation\n",
    "from sklearn.preprocessing import Imputer\n",
    "mean_imputer = Imputer(strategy=\"mean\")\n",
    "bank_data_mean_imputed = bank_data.copy()\n",
    "bank_data_mean_imputed.iloc[:,0:64] = mean_imputer.fit_transform(bank_data_mean_imputed.iloc[:,0:64])"
   ]
  },
  {
   "cell_type": "code",
   "execution_count": 23,
   "metadata": {},
   "outputs": [
    {
     "data": {
      "text/plain": [
       "Attr1     0\n",
       "Attr2     0\n",
       "Attr3     0\n",
       "Attr4     0\n",
       "Attr5     0\n",
       "Attr6     0\n",
       "Attr7     0\n",
       "Attr8     0\n",
       "Attr9     0\n",
       "Attr10    0\n",
       "Attr11    0\n",
       "Attr12    0\n",
       "Attr13    0\n",
       "Attr14    0\n",
       "Attr15    0\n",
       "Attr16    0\n",
       "Attr17    0\n",
       "Attr18    0\n",
       "Attr19    0\n",
       "Attr20    0\n",
       "Attr21    0\n",
       "Attr22    0\n",
       "Attr23    0\n",
       "Attr24    0\n",
       "Attr25    0\n",
       "Attr26    0\n",
       "Attr27    0\n",
       "Attr28    0\n",
       "Attr29    0\n",
       "Attr30    0\n",
       "         ..\n",
       "Attr36    0\n",
       "Attr37    0\n",
       "Attr38    0\n",
       "Attr39    0\n",
       "Attr40    0\n",
       "Attr41    0\n",
       "Attr42    0\n",
       "Attr43    0\n",
       "Attr44    0\n",
       "Attr45    0\n",
       "Attr46    0\n",
       "Attr47    0\n",
       "Attr48    0\n",
       "Attr49    0\n",
       "Attr50    0\n",
       "Attr51    0\n",
       "Attr52    0\n",
       "Attr53    0\n",
       "Attr54    0\n",
       "Attr55    0\n",
       "Attr56    0\n",
       "Attr57    0\n",
       "Attr58    0\n",
       "Attr59    0\n",
       "Attr60    0\n",
       "Attr61    0\n",
       "Attr62    0\n",
       "Attr63    0\n",
       "Attr64    0\n",
       "target    0\n",
       "Length: 65, dtype: int64"
      ]
     },
     "execution_count": 23,
     "metadata": {},
     "output_type": "execute_result"
    }
   ],
   "source": [
    "bank_data_mean_imputed.isnull().sum()"
   ]
  },
  {
   "cell_type": "code",
   "execution_count": 24,
   "metadata": {},
   "outputs": [
    {
     "data": {
      "text/html": [
       "<div>\n",
       "<style scoped>\n",
       "    .dataframe tbody tr th:only-of-type {\n",
       "        vertical-align: middle;\n",
       "    }\n",
       "\n",
       "    .dataframe tbody tr th {\n",
       "        vertical-align: top;\n",
       "    }\n",
       "\n",
       "    .dataframe thead th {\n",
       "        text-align: right;\n",
       "    }\n",
       "</style>\n",
       "<table border=\"1\" class=\"dataframe\">\n",
       "  <thead>\n",
       "    <tr style=\"text-align: right;\">\n",
       "      <th></th>\n",
       "      <th>Attr1</th>\n",
       "      <th>Attr2</th>\n",
       "      <th>Attr3</th>\n",
       "      <th>Attr4</th>\n",
       "      <th>Attr5</th>\n",
       "      <th>Attr6</th>\n",
       "      <th>Attr7</th>\n",
       "      <th>Attr8</th>\n",
       "      <th>Attr9</th>\n",
       "      <th>Attr10</th>\n",
       "      <th>...</th>\n",
       "      <th>Attr56</th>\n",
       "      <th>Attr57</th>\n",
       "      <th>Attr58</th>\n",
       "      <th>Attr59</th>\n",
       "      <th>Attr60</th>\n",
       "      <th>Attr61</th>\n",
       "      <th>Attr62</th>\n",
       "      <th>Attr63</th>\n",
       "      <th>Attr64</th>\n",
       "      <th>target</th>\n",
       "    </tr>\n",
       "  </thead>\n",
       "  <tbody>\n",
       "    <tr>\n",
       "      <th>0</th>\n",
       "      <td>0.036348</td>\n",
       "      <td>0.29370</td>\n",
       "      <td>0.22999</td>\n",
       "      <td>1.95800</td>\n",
       "      <td>49.611</td>\n",
       "      <td>0.323820</td>\n",
       "      <td>0.044336</td>\n",
       "      <td>2.17300</td>\n",
       "      <td>1.0571</td>\n",
       "      <td>0.63820</td>\n",
       "      <td>...</td>\n",
       "      <td>0.054040</td>\n",
       "      <td>0.056955</td>\n",
       "      <td>0.94596</td>\n",
       "      <td>0.084022</td>\n",
       "      <td>4.584600</td>\n",
       "      <td>2.1621</td>\n",
       "      <td>128.140</td>\n",
       "      <td>2.8484</td>\n",
       "      <td>1.2904</td>\n",
       "      <td>0</td>\n",
       "    </tr>\n",
       "    <tr>\n",
       "      <th>1</th>\n",
       "      <td>0.032515</td>\n",
       "      <td>0.25971</td>\n",
       "      <td>0.40845</td>\n",
       "      <td>2.57270</td>\n",
       "      <td>-6.682</td>\n",
       "      <td>-0.000148</td>\n",
       "      <td>0.040253</td>\n",
       "      <td>2.85050</td>\n",
       "      <td>2.1327</td>\n",
       "      <td>0.74029</td>\n",
       "      <td>...</td>\n",
       "      <td>0.000329</td>\n",
       "      <td>0.043921</td>\n",
       "      <td>0.98201</td>\n",
       "      <td>0.000000</td>\n",
       "      <td>4.773400</td>\n",
       "      <td>10.3800</td>\n",
       "      <td>44.448</td>\n",
       "      <td>8.2118</td>\n",
       "      <td>6.4267</td>\n",
       "      <td>0</td>\n",
       "    </tr>\n",
       "    <tr>\n",
       "      <th>2</th>\n",
       "      <td>0.019116</td>\n",
       "      <td>0.55685</td>\n",
       "      <td>-0.20328</td>\n",
       "      <td>0.56593</td>\n",
       "      <td>-59.719</td>\n",
       "      <td>0.000000</td>\n",
       "      <td>0.019116</td>\n",
       "      <td>0.79581</td>\n",
       "      <td>2.0933</td>\n",
       "      <td>0.44315</td>\n",
       "      <td>...</td>\n",
       "      <td>0.016719</td>\n",
       "      <td>0.043137</td>\n",
       "      <td>0.99131</td>\n",
       "      <td>0.110710</td>\n",
       "      <td>16.497000</td>\n",
       "      <td>15.4440</td>\n",
       "      <td>81.660</td>\n",
       "      <td>4.4698</td>\n",
       "      <td>2.8481</td>\n",
       "      <td>0</td>\n",
       "    </tr>\n",
       "    <tr>\n",
       "      <th>3</th>\n",
       "      <td>-0.173850</td>\n",
       "      <td>0.28684</td>\n",
       "      <td>0.20102</td>\n",
       "      <td>1.73250</td>\n",
       "      <td>356.930</td>\n",
       "      <td>0.000000</td>\n",
       "      <td>-0.173850</td>\n",
       "      <td>2.48630</td>\n",
       "      <td>3.0166</td>\n",
       "      <td>0.71316</td>\n",
       "      <td>...</td>\n",
       "      <td>0.178720</td>\n",
       "      <td>-0.243780</td>\n",
       "      <td>0.82306</td>\n",
       "      <td>0.000000</td>\n",
       "      <td>30.168000</td>\n",
       "      <td>51.1950</td>\n",
       "      <td>33.206</td>\n",
       "      <td>10.9920</td>\n",
       "      <td>5.7509</td>\n",
       "      <td>0</td>\n",
       "    </tr>\n",
       "    <tr>\n",
       "      <th>4</th>\n",
       "      <td>0.410710</td>\n",
       "      <td>0.14770</td>\n",
       "      <td>0.78015</td>\n",
       "      <td>6.28190</td>\n",
       "      <td>271.120</td>\n",
       "      <td>0.000000</td>\n",
       "      <td>0.534880</td>\n",
       "      <td>5.77040</td>\n",
       "      <td>1.6009</td>\n",
       "      <td>0.85230</td>\n",
       "      <td>...</td>\n",
       "      <td>0.326340</td>\n",
       "      <td>0.481890</td>\n",
       "      <td>0.66935</td>\n",
       "      <td>0.000000</td>\n",
       "      <td>395.932768</td>\n",
       "      <td>5.0324</td>\n",
       "      <td>33.676</td>\n",
       "      <td>10.8390</td>\n",
       "      <td>22.1870</td>\n",
       "      <td>0</td>\n",
       "    </tr>\n",
       "  </tbody>\n",
       "</table>\n",
       "<p>5 rows × 65 columns</p>\n",
       "</div>"
      ],
      "text/plain": [
       "      Attr1    Attr2    Attr3    Attr4    Attr5     Attr6     Attr7    Attr8  \\\n",
       "0  0.036348  0.29370  0.22999  1.95800   49.611  0.323820  0.044336  2.17300   \n",
       "1  0.032515  0.25971  0.40845  2.57270   -6.682 -0.000148  0.040253  2.85050   \n",
       "2  0.019116  0.55685 -0.20328  0.56593  -59.719  0.000000  0.019116  0.79581   \n",
       "3 -0.173850  0.28684  0.20102  1.73250  356.930  0.000000 -0.173850  2.48630   \n",
       "4  0.410710  0.14770  0.78015  6.28190  271.120  0.000000  0.534880  5.77040   \n",
       "\n",
       "    Attr9   Attr10   ...      Attr56    Attr57   Attr58    Attr59      Attr60  \\\n",
       "0  1.0571  0.63820   ...    0.054040  0.056955  0.94596  0.084022    4.584600   \n",
       "1  2.1327  0.74029   ...    0.000329  0.043921  0.98201  0.000000    4.773400   \n",
       "2  2.0933  0.44315   ...    0.016719  0.043137  0.99131  0.110710   16.497000   \n",
       "3  3.0166  0.71316   ...    0.178720 -0.243780  0.82306  0.000000   30.168000   \n",
       "4  1.6009  0.85230   ...    0.326340  0.481890  0.66935  0.000000  395.932768   \n",
       "\n",
       "    Attr61   Attr62   Attr63   Attr64  target  \n",
       "0   2.1621  128.140   2.8484   1.2904       0  \n",
       "1  10.3800   44.448   8.2118   6.4267       0  \n",
       "2  15.4440   81.660   4.4698   2.8481       0  \n",
       "3  51.1950   33.206  10.9920   5.7509       0  \n",
       "4   5.0324   33.676  10.8390  22.1870       0  \n",
       "\n",
       "[5 rows x 65 columns]"
      ]
     },
     "execution_count": 24,
     "metadata": {},
     "output_type": "execute_result"
    }
   ],
   "source": [
    "bank_data_mean_imputed.head()"
   ]
  },
  {
   "cell_type": "code",
   "execution_count": 25,
   "metadata": {},
   "outputs": [],
   "source": [
    "# Split the Train and Test Data\n",
    "from sklearn.model_selection import train_test_split\n",
    "# Split the data into X and y\n",
    "X = bank_data_mean_imputed.drop(\"target\", axis=1)\n",
    "y = bank_data_mean_imputed[\"target\"]"
   ]
  },
  {
   "cell_type": "code",
   "execution_count": 26,
   "metadata": {},
   "outputs": [],
   "source": [
    "## Split the data into X_train, X_test, y_train, y_test with test_size = 0.20 using sklearn\n",
    "X_train, X_test, y_train, y_test = train_test_split(X, y, test_size=0.20)"
   ]
  },
  {
   "cell_type": "code",
   "execution_count": 27,
   "metadata": {},
   "outputs": [
    {
     "name": "stdout",
     "output_type": "stream",
     "text": [
      "(19996, 64)\n",
      "(5000, 64)\n",
      "(19996,)\n",
      "(5000,)\n"
     ]
    }
   ],
   "source": [
    "## Print the shape of X_train, X_test, y_train, y_test\n",
    "print(X_train.shape)\n",
    "print(X_test.shape)\n",
    "print(y_train.shape)\n",
    "print(y_test.shape)"
   ]
  },
  {
   "cell_type": "code",
   "execution_count": 28,
   "metadata": {},
   "outputs": [
    {
     "name": "stderr",
     "output_type": "stream",
     "text": [
      "C:\\ProgramData\\Anaconda3\\lib\\site-packages\\pandas\\core\\indexing.py:189: SettingWithCopyWarning: \n",
      "A value is trying to be set on a copy of a slice from a DataFrame\n",
      "\n",
      "See the caveats in the documentation: http://pandas.pydata.org/pandas-docs/stable/indexing.html#indexing-view-versus-copy\n",
      "  self._setitem_with_indexer(indexer, value)\n",
      "C:\\ProgramData\\Anaconda3\\lib\\site-packages\\ipykernel_launcher.py:6: SettingWithCopyWarning: \n",
      "A value is trying to be set on a copy of a slice from a DataFrame\n",
      "\n",
      "See the caveats in the documentation: http://pandas.pydata.org/pandas-docs/stable/indexing.html#indexing-view-versus-copy\n",
      "  \n",
      "C:\\ProgramData\\Anaconda3\\lib\\site-packages\\ipykernel_launcher.py:7: SettingWithCopyWarning: \n",
      "A value is trying to be set on a copy of a slice from a DataFrame\n",
      "\n",
      "See the caveats in the documentation: http://pandas.pydata.org/pandas-docs/stable/indexing.html#indexing-view-versus-copy\n",
      "  import sys\n"
     ]
    }
   ],
   "source": [
    "## Scale the numeric attributes\n",
    "from sklearn.preprocessing import StandardScaler\n",
    "scaler = StandardScaler()\n",
    "scaler.fit(X_train.iloc[:,0:64])\n",
    "\n",
    "X_train.iloc[:,0:64] = scaler.transform(X_train.iloc[:,0:64])\n",
    "X_test.iloc[:,0:64] = scaler.transform(X_test.iloc[:,0:64])"
   ]
  },
  {
   "cell_type": "code",
   "execution_count": 29,
   "metadata": {},
   "outputs": [
    {
     "name": "stdout",
     "output_type": "stream",
     "text": [
      "          Attr1     Attr2     Attr3     Attr4     Attr5     Attr6     Attr7  \\\n",
      "19783 -0.017426 -0.003401  0.054526 -0.031246  0.004054  0.010617 -0.026576   \n",
      "387    0.005564 -0.096501  0.081260  0.001345  0.006728  0.056489 -0.003780   \n",
      "10302  0.050796  0.000705  0.029751 -0.045459  0.003231  0.010617  0.053702   \n",
      "14443 -0.021285 -0.111793  0.064736  0.028747  0.007832 -0.020862 -0.030811   \n",
      "10726 -0.001922 -0.017132 -0.027754 -0.052660  0.001777  0.023654 -0.016678   \n",
      "\n",
      "          Attr8     Attr9    Attr10    ...       Attr55    Attr56    Attr57  \\\n",
      "19783 -0.027297 -0.014251 -0.017813    ...    -0.093464  0.015914 -0.019502   \n",
      "387   -0.008353 -0.032207  0.005716    ...     0.190747  0.014312  0.005763   \n",
      "10302 -0.027521  0.007093 -0.018997    ...    -0.085915  0.015594  0.055494   \n",
      "14443  0.018275 -0.037093  0.013447    ...    -0.092880  0.007312 -0.006194   \n",
      "10726 -0.026611 -0.031463 -0.015227    ...    -0.127033  0.014751 -0.002059   \n",
      "\n",
      "         Attr58    Attr59    Attr60    Attr61    Attr62    Attr63    Attr64  \n",
      "19783 -0.009461 -0.009432 -0.033335 -0.011273 -0.010032 -0.033813 -0.041517  \n",
      "387   -0.009257 -0.012291 -0.032730 -0.018611 -0.010419  0.037774 -0.042130  \n",
      "10302 -0.009451 -0.012333 -0.033192 -0.010636 -0.009622 -0.066027 -0.027756  \n",
      "14443 -0.008921 -0.012333 -0.032369 -0.016724 -0.010302  0.007868 -0.044446  \n",
      "10726 -0.009340 -0.012324 -0.031712 -0.014616 -0.008561 -0.099398 -0.043369  \n",
      "\n",
      "[5 rows x 64 columns]\n",
      "          Attr1     Attr2     Attr3     Attr4     Attr5     Attr6     Attr7  \\\n",
      "17374  0.026020 -0.000145  0.034786 -0.042302  0.007496  0.010617  0.016717   \n",
      "7645   0.024765 -0.042157  0.007914 -0.046134  0.003623  0.039410  0.015456   \n",
      "23181  0.008828  0.028369  0.000773 -0.048528  0.001835  0.008576 -0.000188   \n",
      "22260  0.007160 -0.026732  0.007254 -0.042077  0.003786  0.010637 -0.001650   \n",
      "14380  0.030421 -0.009744 -0.037298 -0.054522  0.003776  0.010617  0.026890   \n",
      "\n",
      "          Attr8     Attr9    Attr10    ...       Attr55    Attr56    Attr57  \\\n",
      "17374 -0.027476 -0.014405 -0.018752    ...    -0.079135  0.024899  0.027506   \n",
      "7645  -0.024400 -0.031664 -0.008196    ...    -0.053722  0.014637  0.019786   \n",
      "23181 -0.028655 -0.032652 -0.026986    ...     0.060601  0.014353  0.009769   \n",
      "22260 -0.026033 -0.032997 -0.013496    ...     0.484805  0.013808  0.006611   \n",
      "14380 -0.026920 -0.001871 -0.015983    ...    -0.097867  0.014795  0.029499   \n",
      "\n",
      "         Attr58    Attr59    Attr60    Attr61    Attr62    Attr63    Attr64  \n",
      "17374 -0.011147 -0.010743 -0.033376 -0.012161 -0.009426 -0.075563 -0.040375  \n",
      "7645  -0.009318 -0.012168 -0.033024 -0.014380 -0.009574 -0.068628 -0.042625  \n",
      "23181 -0.009459 -0.008414 -0.033453 -0.017477 -0.007553 -0.107795 -0.040619  \n",
      "22260 -0.009163 -0.009862 -0.033368 -0.017769 -0.009089 -0.087412 -0.044677  \n",
      "14380 -0.009362 -0.011041 -0.028493 -0.012432 -0.009846 -0.051253 -0.042591  \n",
      "\n",
      "[5 rows x 64 columns]\n",
      "19783    0\n",
      "387      0\n",
      "10302    0\n",
      "14443    0\n",
      "10726    0\n",
      "Name: target, dtype: int64\n",
      "17374    0\n",
      "7645     0\n",
      "23181    1\n",
      "22260    1\n",
      "14380    0\n",
      "Name: target, dtype: int64\n"
     ]
    }
   ],
   "source": [
    "print(X_train.head())\n",
    "print(X_test.head())\n",
    "print(y_train.head())\n",
    "print(y_test.head())"
   ]
  },
  {
   "cell_type": "code",
   "execution_count": 55,
   "metadata": {},
   "outputs": [
    {
     "name": "stdout",
     "output_type": "stream",
     "text": [
      "Train Logistic Accuracy : 0.8332666533306662\n",
      "Test Logistic Accuracy : 0.832\n"
     ]
    }
   ],
   "source": [
    "#Building Models\n",
    "#Buliding Logistic Regression Model\n",
    "from sklearn.linear_model import LogisticRegression\n",
    "lr = LogisticRegression()\n",
    "model_train=lr.fit(X_train, y_train)\n",
    "y_pred_train_lr = lr.predict(X_train)\n",
    "y_pred_test_lr= lr.predict(X_test)\n",
    "y_prob_test_lr= lr.predict_proba(X_test)[:,1]\n",
    "accu_train_lr = accuracy_score(y_true=y_train,y_pred=y_pred_train_lr)\n",
    "accu_test_lr = accuracy_score(y_true=y_test,y_pred=y_pred_test_lr)\n",
    "print(\"Train Logistic Accuracy :\",accuracy_score(y_true=y_train,y_pred=y_pred_train_lr))\n",
    "print(\"Test Logistic Accuracy :\",accuracy_score(y_true=y_test,y_pred=y_pred_test_lr))\n"
   ]
  },
  {
   "cell_type": "code",
   "execution_count": 56,
   "metadata": {},
   "outputs": [
    {
     "name": "stdout",
     "output_type": "stream",
     "text": [
      "\n",
      " Confusion matrix \n",
      " [[4155   14]\n",
      " [ 826    5]]\n",
      "\n",
      " Classification report \n",
      "              precision    recall  f1-score   support\n",
      "\n",
      "          0       0.83      1.00      0.91      4169\n",
      "          1       0.26      0.01      0.01       831\n",
      "\n",
      "avg / total       0.74      0.83      0.76      5000\n",
      "\n"
     ]
    }
   ],
   "source": [
    "from sklearn import metrics\n",
    "from sklearn.metrics import accuracy_score, confusion_matrix, classification_report\n",
    "confusion_matrix_test_lr = confusion_matrix(y_test, y_pred_test_lr)\n",
    "cr_lr = classification_report(y_test,y_pred_test_lr)\n",
    "print(\"\\n Confusion matrix \\n\", confusion_matrix_test_lr)\n",
    "print(\"\\n Classification report \\n\", classification_report(y_test,y_pred_test_lr))\n",
    "\n",
    "\n"
   ]
  },
  {
   "cell_type": "code",
   "execution_count": 57,
   "metadata": {},
   "outputs": [
    {
     "name": "stdout",
     "output_type": "stream",
     "text": [
      "Test TNR:  0.9966418805468937\n",
      "Test TPR:  0.006016847172081829\n",
      "Test Accuracy:  0.832\n"
     ]
    }
   ],
   "source": [
    "Accuracy_Test=(confusion_matrix_test_lr[0,0]+confusion_matrix_test_lr[1,1])/(confusion_matrix_test_lr[0,0]+confusion_matrix_test_lr[0,1]+confusion_matrix_test_lr[1,0]+confusion_matrix_test_lr[1,1])\n",
    "TNR_Test_lr= confusion_matrix_test_lr[0,0]/(confusion_matrix_test_lr[0,0] +confusion_matrix_test_lr[0,1])\n",
    "TPR_Test_lr= confusion_matrix_test_lr[1,1]/(confusion_matrix_test_lr[1,0] +confusion_matrix_test_lr[1,1])\n",
    "\n",
    "print(\"Test TNR: \",TNR_Test)\n",
    "print(\"Test TPR: \",TPR_Test)\n",
    "print(\"Test Accuracy: \",Accuracy_Test)"
   ]
  },
  {
   "cell_type": "code",
   "execution_count": 58,
   "metadata": {},
   "outputs": [
    {
     "data": {
      "image/png": "[encoded data removed]",
      "text/plain": [
       "<Figure size 432x288 with 1 Axes>"
      ]
     },
     "metadata": {},
     "output_type": "display_data"
    }
   ],
   "source": [
    "# calculate the fpr and tpr for all thresholds of the classification\n",
    "\n",
    "fpr, tpr, threshold = metrics.roc_curve(y_test, y_prob_test_lr)\n",
    "roc_auc_lr = metrics.auc(fpr, tpr)\n",
    "\n",
    "# method I: plt\n",
    "import matplotlib.pyplot as plt\n",
    "plt.title('Receiver Operating Characteristic')\n",
    "plt.plot(fpr, tpr, 'b', label = 'AUC = %0.2f' % roc_auc_lr)\n",
    "plt.legend(loc = 'lower right')\n",
    "plt.plot([0, 1], [0, 1],'r--')\n",
    "plt.xlim([0, 1])\n",
    "plt.ylim([0, 1])\n",
    "plt.ylabel('True Positive Rate')\n",
    "plt.xlabel('False Positive Rate')\n",
    "plt.show()"
   ]
  },
  {
   "cell_type": "code",
   "execution_count": 32,
   "metadata": {},
   "outputs": [],
   "source": [
    "# Model 2 SVM\n",
    "from sklearn.svm import SVC\n",
    "SVC = SVC(probability=True)\n",
    "model_train_svc=SVC.fit(X_train, y_train)\n",
    "y_pred_train_svc = SVC.predict(X_train)\n",
    "y_pred_test_svc = SVC.predict(X_test)\n"
   ]
  },
  {
   "cell_type": "code",
   "execution_count": 33,
   "metadata": {},
   "outputs": [
    {
     "name": "stdout",
     "output_type": "stream",
     "text": [
      "Train SVC Accuracy: 0.835617123424685\n",
      "Test SVC Accuracy: 0.8294\n"
     ]
    }
   ],
   "source": [
    "y_prob_test_svc = SVC.predict_proba(X_test)[:,1]\n",
    "\n",
    "print(\"Train SVC Accuracy:\",accuracy_score(y_true=y_train,y_pred=y_pred_train_svc))\n",
    "print(\"Test SVC Accuracy:\",accuracy_score(y_true=y_test,y_pred=y_pred_test_svc))"
   ]
  },
  {
   "cell_type": "code",
   "execution_count": 34,
   "metadata": {},
   "outputs": [
    {
     "name": "stdout",
     "output_type": "stream",
     "text": [
      "\n",
      " Confusion matrix \n",
      " [[4146    0]\n",
      " [ 853    1]]\n",
      "\n",
      " Classification report \n",
      "              precision    recall  f1-score   support\n",
      "\n",
      "          0       0.83      1.00      0.91      4146\n",
      "          1       1.00      0.00      0.00       854\n",
      "\n",
      "avg / total       0.86      0.83      0.75      5000\n",
      "\n"
     ]
    }
   ],
   "source": [
    "from sklearn import metrics\n",
    "from sklearn.metrics import accuracy_score, confusion_matrix, classification_report\n",
    "confusion_matrix_test_svc = confusion_matrix(y_test, y_pred_test_svc)\n",
    "print(\"\\n Confusion matrix \\n\", confusion_matrix_test_svc)\n",
    "print(\"\\n Classification report \\n\", classification_report(y_test,y_pred_test_svc))\n"
   ]
  },
  {
   "cell_type": "code",
   "execution_count": 36,
   "metadata": {},
   "outputs": [
    {
     "name": "stdout",
     "output_type": "stream",
     "text": [
      "Test TNR:  1.0\n",
      "Test TPR:  0.00117096018735363\n",
      "Test Accuracy:  0.8294\n"
     ]
    }
   ],
   "source": [
    "Accuracy_Test=(confusion_matrix_test_svc[0,0]+confusion_matrix_test_svc[1,1])/(confusion_matrix_test_svc[0,0]+confusion_matrix_test_svc[0,1]+confusion_matrix_test_svc[1,0]+confusion_matrix_test_svc[1,1])\n",
    "TNR_Test= confusion_matrix_test_svc[0,0]/(confusion_matrix_test_svc[0,0] +confusion_matrix_test_svc[0,1])\n",
    "TPR_Test= confusion_matrix_test_svc[1,1]/(confusion_matrix_test_svc[1,0] +confusion_matrix_test_svc[1,1])\n",
    "\n",
    "print(\"Test TNR: \",TNR_Test)\n",
    "print(\"Test TPR: \",TPR_Test)\n",
    "print(\"Test Accuracy: \",Accuracy_Test)"
   ]
  },
  {
   "cell_type": "code",
   "execution_count": 39,
   "metadata": {},
   "outputs": [
    {
     "data": {
      "image/png": "[encoded data removed]",
      "text/plain": [
       "<Figure size 432x288 with 1 Axes>"
      ]
     },
     "metadata": {},
     "output_type": "display_data"
    }
   ],
   "source": [
    "# calculate the fpr and tpr for all thresholds of the classification\n",
    "\n",
    "fpr, tpr, threshold = metrics.roc_curve(y_test, y_prob_test_svc)\n",
    "roc_auc = metrics.auc(fpr, tpr)\n",
    "\n",
    "# method I: plt\n",
    "import matplotlib.pyplot as plt\n",
    "plt.title('Receiver Operating Characteristic')\n",
    "plt.plot(fpr, tpr, 'b', label = 'AUC = %0.2f' % roc_auc)\n",
    "plt.legend(loc = 'lower right')\n",
    "plt.plot([0, 1], [0, 1],'r--')\n",
    "plt.xlim([0, 1])\n",
    "plt.ylim([0, 1])\n",
    "plt.ylabel('True Positive Rate')\n",
    "plt.xlabel('False Positive Rate')\n",
    "plt.show()"
   ]
  },
  {
   "cell_type": "code",
   "execution_count": 81,
   "metadata": {},
   "outputs": [],
   "source": [
    "#Building the Decision Tree Model\n",
    "dtc = DecisionTreeClassifier()\n",
    "dtc.fit(X_train,y_train)\n",
    "y_pred_train_dtc = dtc.predict(X_train)\n",
    "y_pred_test_dtc = dtc.predict(X_test)\n",
    "\n"
   ]
  },
  {
   "cell_type": "code",
   "execution_count": 82,
   "metadata": {},
   "outputs": [
    {
     "name": "stdout",
     "output_type": "stream",
     "text": [
      "Train Decision Tree Accuracy: 1.0\n",
      "Test Decision Tree Accuracy: 0.9224\n"
     ]
    }
   ],
   "source": [
    "y_prob_test_dtc= dtc.predict_proba(X_test)[:,1]\n",
    "\n",
    "print(\"Train Decision Tree Accuracy:\",accuracy_score(y_true=y_train,y_pred=y_pred_train_dtc))\n",
    "print(\"Test Decision Tree Accuracy:\",accuracy_score(y_true=y_test,y_pred=y_pred_test_dtc))"
   ]
  },
  {
   "cell_type": "code",
   "execution_count": 83,
   "metadata": {},
   "outputs": [
    {
     "name": "stdout",
     "output_type": "stream",
     "text": [
      "\n",
      " Confusion matrix \n",
      " [[3943  177]\n",
      " [ 211  669]]\n",
      "\n",
      " Classification report \n",
      "              precision    recall  f1-score   support\n",
      "\n",
      "          0       0.95      0.96      0.95      4120\n",
      "          1       0.79      0.76      0.78       880\n",
      "\n",
      "avg / total       0.92      0.92      0.92      5000\n",
      "\n"
     ]
    }
   ],
   "source": [
    "from sklearn import metrics\n",
    "from sklearn.metrics import accuracy_score, confusion_matrix, classification_report\n",
    "confusion_matrix_test_dtc = confusion_matrix(y_test, y_pred_test_dtc)\n",
    "print(\"\\n Confusion matrix \\n\", confusion_matrix_test_dtc)\n",
    "print(\"\\n Classification report \\n\", classification_report(y_test,y_pred_test_dtc))\n",
    "\n",
    "\n"
   ]
  },
  {
   "cell_type": "code",
   "execution_count": 84,
   "metadata": {},
   "outputs": [
    {
     "name": "stdout",
     "output_type": "stream",
     "text": [
      "Test TNR:  0.9570388349514564\n",
      "Test TPR:  0.7602272727272728\n",
      "Test Accuracy:  0.9224\n"
     ]
    }
   ],
   "source": [
    "Accuracy_Test=(confusion_matrix_test_dtc[0,0]+confusion_matrix_test_dtc[1,1])/(confusion_matrix_test_dtc[0,0]+confusion_matrix_test_dtc[0,1]+confusion_matrix_test_dtc[1,0]+confusion_matrix_test_dtc[1,1])\n",
    "TNR_Test= confusion_matrix_test_dtc[0,0]/(confusion_matrix_test_dtc[0,0] +confusion_matrix_test_dtc[0,1])\n",
    "TPR_Test= confusion_matrix_test_dtc[1,1]/(confusion_matrix_test_dtc[1,0] +confusion_matrix_test_dtc[1,1])\n",
    "\n",
    "print(\"Test TNR: \",TNR_Test)\n",
    "print(\"Test TPR: \",TPR_Test)\n",
    "print(\"Test Accuracy: \",Accuracy_Test)"
   ]
  },
  {
   "cell_type": "code",
   "execution_count": 85,
   "metadata": {},
   "outputs": [
    {
     "data": {
      "image/png": "[encoded data removed]",
      "text/plain": [
       "<Figure size 432x288 with 1 Axes>"
      ]
     },
     "metadata": {},
     "output_type": "display_data"
    }
   ],
   "source": [
    "# calculate the fpr and tpr for all thresholds of the classification\n",
    "\n",
    "fpr, tpr, threshold = metrics.roc_curve(y_test, y_prob_test_dtc)\n",
    "roc_auc = metrics.auc(fpr, tpr)\n",
    "\n",
    "# method I: plt\n",
    "import matplotlib.pyplot as plt\n",
    "plt.title('Receiver Operating Characteristic')\n",
    "plt.plot(fpr, tpr, 'b', label = 'AUC = %0.2f' % roc_auc)\n",
    "plt.legend(loc = 'lower right')\n",
    "plt.plot([0, 1], [0, 1],'r--')\n",
    "plt.xlim([0, 1])\n",
    "plt.ylim([0, 1])\n",
    "plt.ylabel('True Positive Rate')\n",
    "plt.xlabel('False Positive Rate')\n",
    "plt.show()"
   ]
  },
  {
   "cell_type": "code",
   "execution_count": 86,
   "metadata": {},
   "outputs": [],
   "source": [
    "#Building the RandomForest Classifier\n",
    "from sklearn.ensemble import RandomForestClassifier\n",
    "rfc = RandomForestClassifier(n_estimators=40,random_state=0)\n",
    "model_train_rfc= rfc.fit(X_train,y_train)\n",
    "y_pred_train_rfc = rfc.predict(X_train)\n",
    "y_pred_test_rfc = rfc.predict(X_test)\n"
   ]
  },
  {
   "cell_type": "code",
   "execution_count": 46,
   "metadata": {},
   "outputs": [
    {
     "name": "stdout",
     "output_type": "stream",
     "text": [
      "Train Decision Tree Accuracy: 0.9996999399879976\n",
      "Test Decision Tree Accuracy: 0.9426\n"
     ]
    }
   ],
   "source": [
    "y_prob_test_rfc= dtc.predict_proba(X_test)[:,1]\n",
    "\n",
    "print(\"Train Decision Tree Accuracy:\",accuracy_score(y_true=y_train,y_pred=y_pred_train_rfc))\n",
    "print(\"Test Decision Tree Accuracy:\",accuracy_score(y_true=y_test,y_pred=y_pred_test_rfc))"
   ]
  },
  {
   "cell_type": "code",
   "execution_count": 58,
   "metadata": {},
   "outputs": [
    {
     "name": "stdout",
     "output_type": "stream",
     "text": [
      "\n",
      " Confusion matrix \n",
      " [[4119   27]\n",
      " [ 260  594]]\n",
      "\n",
      " Classification report \n",
      "              precision    recall  f1-score   support\n",
      "\n",
      "          0       0.94      0.99      0.97      4146\n",
      "          1       0.96      0.70      0.81       854\n",
      "\n",
      "avg / total       0.94      0.94      0.94      5000\n",
      "\n"
     ]
    }
   ],
   "source": [
    "from sklearn import metrics\n",
    "from sklearn.metrics import accuracy_score, confusion_matrix, classification_report\n",
    "confusion_matrix_test_rfc = confusion_matrix(y_test, y_pred_test_rfc)\n",
    "print(\"\\n Confusion matrix \\n\", confusion_matrix_test_rfc)\n",
    "print(\"\\n Classification report \\n\", classification_report(y_test,y_pred_test_rfc))\n",
    "\n",
    "\n"
   ]
  },
  {
   "cell_type": "code",
   "execution_count": 48,
   "metadata": {},
   "outputs": [
    {
     "name": "stdout",
     "output_type": "stream",
     "text": [
      "Test TNR:  0.9934876989869754\n",
      "Test TPR:  0.6955503512880562\n",
      "Test Accuracy:  0.9426\n"
     ]
    }
   ],
   "source": [
    "Accuracy_Test=(confusion_matrix_test_rfc[0,0]+confusion_matrix_test_rfc[1,1])/(confusion_matrix_test_rfc[0,0]+confusion_matrix_test_rfc[0,1]+confusion_matrix_test_rfc[1,0]+confusion_matrix_test_rfc[1,1])\n",
    "TNR_Test= confusion_matrix_test_rfc[0,0]/(confusion_matrix_test_rfc[0,0] +confusion_matrix_test_rfc[0,1])\n",
    "TPR_Test= confusion_matrix_test_rfc[1,1]/(confusion_matrix_test_rfc[1,0] +confusion_matrix_test_rfc[1,1])\n",
    "\n",
    "print(\"Test TNR: \",TNR_Test)\n",
    "print(\"Test TPR: \",TPR_Test)\n",
    "print(\"Test Accuracy: \",Accuracy_Test)"
   ]
  },
  {
   "cell_type": "code",
   "execution_count": 49,
   "metadata": {},
   "outputs": [
    {
     "data": {
      "image/png": "[encoded data removed]",
      "text/plain": [
       "<Figure size 432x288 with 1 Axes>"
      ]
     },
     "metadata": {},
     "output_type": "display_data"
    }
   ],
   "source": [
    "# calculate the fpr and tpr for all thresholds of the classification\n",
    "\n",
    "fpr, tpr, threshold = metrics.roc_curve(y_test, y_prob_test_rfc)\n",
    "roc_auc = metrics.auc(fpr, tpr)\n",
    "\n",
    "# method I: plt\n",
    "import matplotlib.pyplot as plt\n",
    "plt.title('Receiver Operating Characteristic')\n",
    "plt.plot(fpr, tpr, 'b', label = 'AUC = %0.2f' % roc_auc)\n",
    "plt.legend(loc = 'lower right')\n",
    "plt.plot([0, 1], [0, 1],'r--')\n",
    "plt.xlim([0, 1])\n",
    "plt.ylim([0, 1])\n",
    "plt.ylabel('True Positive Rate')\n",
    "plt.xlabel('False Positive Rate')\n",
    "plt.show()"
   ]
  },
  {
   "cell_type": "code",
   "execution_count": 50,
   "metadata": {},
   "outputs": [],
   "source": [
    "res = pd.DataFrame([y_pred_test_lr,y_pred_test_svc,y_pred_test_dtc,y_pred_test_rfc]).T"
   ]
  },
  {
   "cell_type": "code",
   "execution_count": 52,
   "metadata": {},
   "outputs": [
    {
     "data": {
      "text/html": [
       "<div>\n",
       "<style scoped>\n",
       "    .dataframe tbody tr th:only-of-type {\n",
       "        vertical-align: middle;\n",
       "    }\n",
       "\n",
       "    .dataframe tbody tr th {\n",
       "        vertical-align: top;\n",
       "    }\n",
       "\n",
       "    .dataframe thead th {\n",
       "        text-align: right;\n",
       "    }\n",
       "</style>\n",
       "<table border=\"1\" class=\"dataframe\">\n",
       "  <thead>\n",
       "    <tr style=\"text-align: right;\">\n",
       "      <th></th>\n",
       "      <th>Logistic</th>\n",
       "      <th>SVC</th>\n",
       "      <th>DTC</th>\n",
       "      <th>RFC</th>\n",
       "    </tr>\n",
       "  </thead>\n",
       "  <tbody>\n",
       "    <tr>\n",
       "      <th>0</th>\n",
       "      <td>0</td>\n",
       "      <td>0</td>\n",
       "      <td>0</td>\n",
       "      <td>0</td>\n",
       "    </tr>\n",
       "    <tr>\n",
       "      <th>1</th>\n",
       "      <td>0</td>\n",
       "      <td>0</td>\n",
       "      <td>0</td>\n",
       "      <td>0</td>\n",
       "    </tr>\n",
       "    <tr>\n",
       "      <th>2</th>\n",
       "      <td>0</td>\n",
       "      <td>0</td>\n",
       "      <td>0</td>\n",
       "      <td>0</td>\n",
       "    </tr>\n",
       "    <tr>\n",
       "      <th>3</th>\n",
       "      <td>0</td>\n",
       "      <td>0</td>\n",
       "      <td>0</td>\n",
       "      <td>0</td>\n",
       "    </tr>\n",
       "    <tr>\n",
       "      <th>4</th>\n",
       "      <td>0</td>\n",
       "      <td>0</td>\n",
       "      <td>0</td>\n",
       "      <td>0</td>\n",
       "    </tr>\n",
       "    <tr>\n",
       "      <th>5</th>\n",
       "      <td>0</td>\n",
       "      <td>0</td>\n",
       "      <td>0</td>\n",
       "      <td>0</td>\n",
       "    </tr>\n",
       "    <tr>\n",
       "      <th>6</th>\n",
       "      <td>0</td>\n",
       "      <td>0</td>\n",
       "      <td>0</td>\n",
       "      <td>0</td>\n",
       "    </tr>\n",
       "    <tr>\n",
       "      <th>7</th>\n",
       "      <td>0</td>\n",
       "      <td>0</td>\n",
       "      <td>0</td>\n",
       "      <td>0</td>\n",
       "    </tr>\n",
       "    <tr>\n",
       "      <th>8</th>\n",
       "      <td>0</td>\n",
       "      <td>0</td>\n",
       "      <td>0</td>\n",
       "      <td>0</td>\n",
       "    </tr>\n",
       "    <tr>\n",
       "      <th>9</th>\n",
       "      <td>0</td>\n",
       "      <td>0</td>\n",
       "      <td>0</td>\n",
       "      <td>0</td>\n",
       "    </tr>\n",
       "    <tr>\n",
       "      <th>10</th>\n",
       "      <td>0</td>\n",
       "      <td>0</td>\n",
       "      <td>0</td>\n",
       "      <td>0</td>\n",
       "    </tr>\n",
       "    <tr>\n",
       "      <th>11</th>\n",
       "      <td>0</td>\n",
       "      <td>0</td>\n",
       "      <td>0</td>\n",
       "      <td>0</td>\n",
       "    </tr>\n",
       "    <tr>\n",
       "      <th>12</th>\n",
       "      <td>0</td>\n",
       "      <td>0</td>\n",
       "      <td>0</td>\n",
       "      <td>0</td>\n",
       "    </tr>\n",
       "    <tr>\n",
       "      <th>13</th>\n",
       "      <td>0</td>\n",
       "      <td>0</td>\n",
       "      <td>0</td>\n",
       "      <td>0</td>\n",
       "    </tr>\n",
       "    <tr>\n",
       "      <th>14</th>\n",
       "      <td>0</td>\n",
       "      <td>0</td>\n",
       "      <td>0</td>\n",
       "      <td>0</td>\n",
       "    </tr>\n",
       "    <tr>\n",
       "      <th>15</th>\n",
       "      <td>0</td>\n",
       "      <td>0</td>\n",
       "      <td>0</td>\n",
       "      <td>0</td>\n",
       "    </tr>\n",
       "    <tr>\n",
       "      <th>16</th>\n",
       "      <td>0</td>\n",
       "      <td>0</td>\n",
       "      <td>0</td>\n",
       "      <td>0</td>\n",
       "    </tr>\n",
       "    <tr>\n",
       "      <th>17</th>\n",
       "      <td>0</td>\n",
       "      <td>0</td>\n",
       "      <td>0</td>\n",
       "      <td>0</td>\n",
       "    </tr>\n",
       "    <tr>\n",
       "      <th>18</th>\n",
       "      <td>0</td>\n",
       "      <td>0</td>\n",
       "      <td>0</td>\n",
       "      <td>0</td>\n",
       "    </tr>\n",
       "    <tr>\n",
       "      <th>19</th>\n",
       "      <td>0</td>\n",
       "      <td>0</td>\n",
       "      <td>0</td>\n",
       "      <td>0</td>\n",
       "    </tr>\n",
       "    <tr>\n",
       "      <th>20</th>\n",
       "      <td>0</td>\n",
       "      <td>0</td>\n",
       "      <td>0</td>\n",
       "      <td>0</td>\n",
       "    </tr>\n",
       "    <tr>\n",
       "      <th>21</th>\n",
       "      <td>0</td>\n",
       "      <td>0</td>\n",
       "      <td>0</td>\n",
       "      <td>0</td>\n",
       "    </tr>\n",
       "    <tr>\n",
       "      <th>22</th>\n",
       "      <td>0</td>\n",
       "      <td>0</td>\n",
       "      <td>1</td>\n",
       "      <td>0</td>\n",
       "    </tr>\n",
       "    <tr>\n",
       "      <th>23</th>\n",
       "      <td>0</td>\n",
       "      <td>0</td>\n",
       "      <td>0</td>\n",
       "      <td>0</td>\n",
       "    </tr>\n",
       "    <tr>\n",
       "      <th>24</th>\n",
       "      <td>0</td>\n",
       "      <td>0</td>\n",
       "      <td>0</td>\n",
       "      <td>0</td>\n",
       "    </tr>\n",
       "    <tr>\n",
       "      <th>25</th>\n",
       "      <td>0</td>\n",
       "      <td>0</td>\n",
       "      <td>0</td>\n",
       "      <td>0</td>\n",
       "    </tr>\n",
       "    <tr>\n",
       "      <th>26</th>\n",
       "      <td>0</td>\n",
       "      <td>0</td>\n",
       "      <td>1</td>\n",
       "      <td>1</td>\n",
       "    </tr>\n",
       "    <tr>\n",
       "      <th>27</th>\n",
       "      <td>0</td>\n",
       "      <td>0</td>\n",
       "      <td>0</td>\n",
       "      <td>0</td>\n",
       "    </tr>\n",
       "    <tr>\n",
       "      <th>28</th>\n",
       "      <td>0</td>\n",
       "      <td>0</td>\n",
       "      <td>0</td>\n",
       "      <td>0</td>\n",
       "    </tr>\n",
       "    <tr>\n",
       "      <th>29</th>\n",
       "      <td>0</td>\n",
       "      <td>0</td>\n",
       "      <td>0</td>\n",
       "      <td>0</td>\n",
       "    </tr>\n",
       "    <tr>\n",
       "      <th>...</th>\n",
       "      <td>...</td>\n",
       "      <td>...</td>\n",
       "      <td>...</td>\n",
       "      <td>...</td>\n",
       "    </tr>\n",
       "    <tr>\n",
       "      <th>4970</th>\n",
       "      <td>0</td>\n",
       "      <td>0</td>\n",
       "      <td>0</td>\n",
       "      <td>0</td>\n",
       "    </tr>\n",
       "    <tr>\n",
       "      <th>4971</th>\n",
       "      <td>0</td>\n",
       "      <td>0</td>\n",
       "      <td>0</td>\n",
       "      <td>0</td>\n",
       "    </tr>\n",
       "    <tr>\n",
       "      <th>4972</th>\n",
       "      <td>0</td>\n",
       "      <td>0</td>\n",
       "      <td>0</td>\n",
       "      <td>0</td>\n",
       "    </tr>\n",
       "    <tr>\n",
       "      <th>4973</th>\n",
       "      <td>0</td>\n",
       "      <td>0</td>\n",
       "      <td>0</td>\n",
       "      <td>0</td>\n",
       "    </tr>\n",
       "    <tr>\n",
       "      <th>4974</th>\n",
       "      <td>0</td>\n",
       "      <td>0</td>\n",
       "      <td>0</td>\n",
       "      <td>0</td>\n",
       "    </tr>\n",
       "    <tr>\n",
       "      <th>4975</th>\n",
       "      <td>0</td>\n",
       "      <td>0</td>\n",
       "      <td>0</td>\n",
       "      <td>0</td>\n",
       "    </tr>\n",
       "    <tr>\n",
       "      <th>4976</th>\n",
       "      <td>0</td>\n",
       "      <td>0</td>\n",
       "      <td>1</td>\n",
       "      <td>1</td>\n",
       "    </tr>\n",
       "    <tr>\n",
       "      <th>4977</th>\n",
       "      <td>0</td>\n",
       "      <td>0</td>\n",
       "      <td>1</td>\n",
       "      <td>1</td>\n",
       "    </tr>\n",
       "    <tr>\n",
       "      <th>4978</th>\n",
       "      <td>0</td>\n",
       "      <td>0</td>\n",
       "      <td>0</td>\n",
       "      <td>0</td>\n",
       "    </tr>\n",
       "    <tr>\n",
       "      <th>4979</th>\n",
       "      <td>0</td>\n",
       "      <td>0</td>\n",
       "      <td>0</td>\n",
       "      <td>0</td>\n",
       "    </tr>\n",
       "    <tr>\n",
       "      <th>4980</th>\n",
       "      <td>0</td>\n",
       "      <td>0</td>\n",
       "      <td>0</td>\n",
       "      <td>0</td>\n",
       "    </tr>\n",
       "    <tr>\n",
       "      <th>4981</th>\n",
       "      <td>0</td>\n",
       "      <td>0</td>\n",
       "      <td>0</td>\n",
       "      <td>0</td>\n",
       "    </tr>\n",
       "    <tr>\n",
       "      <th>4982</th>\n",
       "      <td>0</td>\n",
       "      <td>0</td>\n",
       "      <td>1</td>\n",
       "      <td>1</td>\n",
       "    </tr>\n",
       "    <tr>\n",
       "      <th>4983</th>\n",
       "      <td>0</td>\n",
       "      <td>0</td>\n",
       "      <td>0</td>\n",
       "      <td>0</td>\n",
       "    </tr>\n",
       "    <tr>\n",
       "      <th>4984</th>\n",
       "      <td>0</td>\n",
       "      <td>0</td>\n",
       "      <td>0</td>\n",
       "      <td>0</td>\n",
       "    </tr>\n",
       "    <tr>\n",
       "      <th>4985</th>\n",
       "      <td>0</td>\n",
       "      <td>0</td>\n",
       "      <td>0</td>\n",
       "      <td>0</td>\n",
       "    </tr>\n",
       "    <tr>\n",
       "      <th>4986</th>\n",
       "      <td>0</td>\n",
       "      <td>0</td>\n",
       "      <td>0</td>\n",
       "      <td>0</td>\n",
       "    </tr>\n",
       "    <tr>\n",
       "      <th>4987</th>\n",
       "      <td>0</td>\n",
       "      <td>0</td>\n",
       "      <td>0</td>\n",
       "      <td>0</td>\n",
       "    </tr>\n",
       "    <tr>\n",
       "      <th>4988</th>\n",
       "      <td>0</td>\n",
       "      <td>0</td>\n",
       "      <td>1</td>\n",
       "      <td>0</td>\n",
       "    </tr>\n",
       "    <tr>\n",
       "      <th>4989</th>\n",
       "      <td>0</td>\n",
       "      <td>0</td>\n",
       "      <td>0</td>\n",
       "      <td>0</td>\n",
       "    </tr>\n",
       "    <tr>\n",
       "      <th>4990</th>\n",
       "      <td>0</td>\n",
       "      <td>0</td>\n",
       "      <td>0</td>\n",
       "      <td>0</td>\n",
       "    </tr>\n",
       "    <tr>\n",
       "      <th>4991</th>\n",
       "      <td>0</td>\n",
       "      <td>0</td>\n",
       "      <td>0</td>\n",
       "      <td>0</td>\n",
       "    </tr>\n",
       "    <tr>\n",
       "      <th>4992</th>\n",
       "      <td>0</td>\n",
       "      <td>0</td>\n",
       "      <td>0</td>\n",
       "      <td>0</td>\n",
       "    </tr>\n",
       "    <tr>\n",
       "      <th>4993</th>\n",
       "      <td>0</td>\n",
       "      <td>0</td>\n",
       "      <td>0</td>\n",
       "      <td>0</td>\n",
       "    </tr>\n",
       "    <tr>\n",
       "      <th>4994</th>\n",
       "      <td>0</td>\n",
       "      <td>0</td>\n",
       "      <td>0</td>\n",
       "      <td>0</td>\n",
       "    </tr>\n",
       "    <tr>\n",
       "      <th>4995</th>\n",
       "      <td>0</td>\n",
       "      <td>0</td>\n",
       "      <td>1</td>\n",
       "      <td>0</td>\n",
       "    </tr>\n",
       "    <tr>\n",
       "      <th>4996</th>\n",
       "      <td>0</td>\n",
       "      <td>0</td>\n",
       "      <td>0</td>\n",
       "      <td>0</td>\n",
       "    </tr>\n",
       "    <tr>\n",
       "      <th>4997</th>\n",
       "      <td>0</td>\n",
       "      <td>0</td>\n",
       "      <td>0</td>\n",
       "      <td>0</td>\n",
       "    </tr>\n",
       "    <tr>\n",
       "      <th>4998</th>\n",
       "      <td>0</td>\n",
       "      <td>0</td>\n",
       "      <td>1</td>\n",
       "      <td>1</td>\n",
       "    </tr>\n",
       "    <tr>\n",
       "      <th>4999</th>\n",
       "      <td>0</td>\n",
       "      <td>0</td>\n",
       "      <td>0</td>\n",
       "      <td>0</td>\n",
       "    </tr>\n",
       "  </tbody>\n",
       "</table>\n",
       "<p>5000 rows × 4 columns</p>\n",
       "</div>"
      ],
      "text/plain": [
       "      Logistic  SVC  DTC  RFC\n",
       "0            0    0    0    0\n",
       "1            0    0    0    0\n",
       "2            0    0    0    0\n",
       "3            0    0    0    0\n",
       "4            0    0    0    0\n",
       "5            0    0    0    0\n",
       "6            0    0    0    0\n",
       "7            0    0    0    0\n",
       "8            0    0    0    0\n",
       "9            0    0    0    0\n",
       "10           0    0    0    0\n",
       "11           0    0    0    0\n",
       "12           0    0    0    0\n",
       "13           0    0    0    0\n",
       "14           0    0    0    0\n",
       "15           0    0    0    0\n",
       "16           0    0    0    0\n",
       "17           0    0    0    0\n",
       "18           0    0    0    0\n",
       "19           0    0    0    0\n",
       "20           0    0    0    0\n",
       "21           0    0    0    0\n",
       "22           0    0    1    0\n",
       "23           0    0    0    0\n",
       "24           0    0    0    0\n",
       "25           0    0    0    0\n",
       "26           0    0    1    1\n",
       "27           0    0    0    0\n",
       "28           0    0    0    0\n",
       "29           0    0    0    0\n",
       "...        ...  ...  ...  ...\n",
       "4970         0    0    0    0\n",
       "4971         0    0    0    0\n",
       "4972         0    0    0    0\n",
       "4973         0    0    0    0\n",
       "4974         0    0    0    0\n",
       "4975         0    0    0    0\n",
       "4976         0    0    1    1\n",
       "4977         0    0    1    1\n",
       "4978         0    0    0    0\n",
       "4979         0    0    0    0\n",
       "4980         0    0    0    0\n",
       "4981         0    0    0    0\n",
       "4982         0    0    1    1\n",
       "4983         0    0    0    0\n",
       "4984         0    0    0    0\n",
       "4985         0    0    0    0\n",
       "4986         0    0    0    0\n",
       "4987         0    0    0    0\n",
       "4988         0    0    1    0\n",
       "4989         0    0    0    0\n",
       "4990         0    0    0    0\n",
       "4991         0    0    0    0\n",
       "4992         0    0    0    0\n",
       "4993         0    0    0    0\n",
       "4994         0    0    0    0\n",
       "4995         0    0    1    0\n",
       "4996         0    0    0    0\n",
       "4997         0    0    0    0\n",
       "4998         0    0    1    1\n",
       "4999         0    0    0    0\n",
       "\n",
       "[5000 rows x 4 columns]"
      ]
     },
     "execution_count": 52,
     "metadata": {},
     "output_type": "execute_result"
    }
   ],
   "source": [
    "res.columns = ['Logistic','SVC','DTC','RFC']\n",
    "res"
   ]
  },
  {
   "cell_type": "code",
   "execution_count": 53,
   "metadata": {},
   "outputs": [],
   "source": [
    "from scipy.stats import mode"
   ]
  },
  {
   "cell_type": "code",
   "execution_count": 54,
   "metadata": {},
   "outputs": [],
   "source": [
    "stack = np.array([y_pred_test_lr,y_pred_test_svc,y_pred_test_dtc,y_pred_test_rfc]).T"
   ]
  },
  {
   "cell_type": "code",
   "execution_count": 55,
   "metadata": {},
   "outputs": [
    {
     "data": {
      "text/plain": [
       "array([[0],\n",
       "       [0],\n",
       "       [0],\n",
       "       ...,\n",
       "       [0],\n",
       "       [0],\n",
       "       [0]], dtype=int64)"
      ]
     },
     "execution_count": 55,
     "metadata": {},
     "output_type": "execute_result"
    }
   ],
   "source": [
    "stacked_pred = mode(stack,axis=1)[0]\n",
    "stacked_pred"
   ]
  },
  {
   "cell_type": "code",
   "execution_count": 57,
   "metadata": {},
   "outputs": [
    {
     "name": "stdout",
     "output_type": "stream",
     "text": [
      "Decistion Trees accuracy 0.9272\n",
      "Logistic Regression accuracy 0.8284\n",
      "SVC accuracy 0.8294\n",
      "RFC Accuracy 0.9426\n",
      "Stacked Accuracy:  0.8302\n"
     ]
    }
   ],
   "source": [
    "print(\"Decistion Trees accuracy\", accuracy_score(y_test,y_pred_test_dtc))\n",
    "print(\"Logistic Regression accuracy\", accuracy_score(y_test, y_pred_test_lr))\n",
    "print(\"SVC accuracy\", accuracy_score(y_test, y_pred_test_svc))\n",
    "print(\"RFC Accuracy\", accuracy_score(y_test, y_pred_test_rfc))\n",
    "print(\"Stacked Accuracy: \", accuracy_score(y_test,stacked_pred))"
   ]
  },
  {
   "cell_type": "code",
   "execution_count": 33,
   "metadata": {},
   "outputs": [],
   "source": [
    "## Model Builsing using Boosing\n",
    "from sklearn.ensemble import AdaBoostClassifier\n",
    "ada = AdaBoostClassifier(\n",
    "    DecisionTreeClassifier(max_depth=2),\n",
    "    n_estimators=100,\n",
    "    learning_rate=1)\n",
    "model_train_ada= ada.fit(X_train,y_train)\n",
    "y_pred_train_ada = ada.predict(X_train)\n",
    "y_pred_test_ada = ada.predict(X_test)"
   ]
  },
  {
   "cell_type": "code",
   "execution_count": 34,
   "metadata": {
    "scrolled": false
   },
   "outputs": [
    {
     "name": "stdout",
     "output_type": "stream",
     "text": [
      "Train Decision Tree Accuracy: 0.966993398679736\n",
      "Test Decision Tree Accuracy: 0.954\n"
     ]
    }
   ],
   "source": [
    "y_prob_test_ada= ada.predict_proba(X_test)[:,1]\n",
    "\n",
    "print(\"Train Decision Tree Accuracy:\",accuracy_score(y_true=y_train,y_pred=y_pred_train_ada))\n",
    "print(\"Test Decision Tree Accuracy:\",accuracy_score(y_true=y_test,y_pred=y_pred_test_ada))"
   ]
  },
  {
   "cell_type": "code",
   "execution_count": 35,
   "metadata": {},
   "outputs": [
    {
     "name": "stdout",
     "output_type": "stream",
     "text": [
      "\n",
      " Confusion matrix \n",
      " [[4094   72]\n",
      " [ 158  676]]\n",
      "\n",
      " Classification report \n",
      "              precision    recall  f1-score   support\n",
      "\n",
      "          0       0.96      0.98      0.97      4166\n",
      "          1       0.90      0.81      0.85       834\n",
      "\n",
      "avg / total       0.95      0.95      0.95      5000\n",
      "\n"
     ]
    }
   ],
   "source": [
    "from sklearn import metrics\n",
    "from sklearn.metrics import accuracy_score, confusion_matrix, classification_report\n",
    "confusion_matrix_test_ada= confusion_matrix(y_test, y_pred_test_ada)\n",
    "print(\"\\n Confusion matrix \\n\", confusion_matrix_test_ada)\n",
    "print(\"\\n Classification report \\n\", classification_report(y_test,y_pred_test_ada))\n"
   ]
  },
  {
   "cell_type": "code",
   "execution_count": 36,
   "metadata": {},
   "outputs": [
    {
     "name": "stdout",
     "output_type": "stream",
     "text": [
      "Test TNR:  0.9827172347575612\n",
      "Test TPR:  0.8105515587529976\n",
      "Test Accuracy:  0.954\n"
     ]
    }
   ],
   "source": [
    "Accuracy_Test=(confusion_matrix_test_ada[0,0]+confusion_matrix_test_ada[1,1])/(confusion_matrix_test_ada[0,0]+confusion_matrix_test_ada[0,1]+confusion_matrix_test_ada[1,0]+confusion_matrix_test_ada[1,1])\n",
    "TNR_Test= confusion_matrix_test_ada[0,0]/(confusion_matrix_test_ada[0,0] +confusion_matrix_test_ada[0,1])\n",
    "TPR_Test= confusion_matrix_test_ada[1,1]/(confusion_matrix_test_ada[1,0] +confusion_matrix_test_ada[1,1])\n",
    "\n",
    "print(\"Test TNR: \",TNR_Test)\n",
    "print(\"Test TPR: \",TPR_Test)\n",
    "print(\"Test Accuracy: \",Accuracy_Test)"
   ]
  },
  {
   "cell_type": "code",
   "execution_count": 37,
   "metadata": {},
   "outputs": [
    {
     "data": {
      "image/png": "[encoded data removed]",
      "text/plain": [
       "<Figure size 432x288 with 1 Axes>"
      ]
     },
     "metadata": {},
     "output_type": "display_data"
    }
   ],
   "source": [
    "# calculate the fpr and tpr for all thresholds of the classification\n",
    "\n",
    "fpr, tpr, threshold = metrics.roc_curve(y_test, y_prob_test_ada)\n",
    "roc_auc = metrics.auc(fpr, tpr)\n",
    "\n",
    "# method I: plt\n",
    "import matplotlib.pyplot as plt\n",
    "plt.title('Receiver Operating Characteristic')\n",
    "plt.plot(fpr, tpr, 'b', label = 'AUC = %0.2f' % roc_auc)\n",
    "plt.legend(loc = 'lower right')\n",
    "plt.plot([0, 1], [0, 1],'r--')\n",
    "plt.xlim([0, 1])\n",
    "plt.ylim([0, 1])\n",
    "plt.ylabel('True Positive Rate')\n",
    "plt.xlabel('False Positive Rate')\n",
    "plt.show()"
   ]
  },
  {
   "cell_type": "code",
   "execution_count": 49,
   "metadata": {},
   "outputs": [],
   "source": [
    "from sklearn.model_selection import GridSearchCV\n",
    "\n",
    "param_grid = {'n_estimators' : [100, 150, 200],\n",
    "              'learning_rate' : [0.1, 0.5, 0.9]}\n",
    "\n",
    "Adaboost_model_clf = GridSearchCV(AdaBoostClassifier(\n",
    "            DecisionTreeClassifier(max_depth=2)), param_grid, n_jobs=-1)"
   ]
  },
  {
   "cell_type": "code",
   "execution_count": null,
   "metadata": {
    "scrolled": true
   },
   "outputs": [],
   "source": [
    "%time Adaboost_model_clf.fit(X_train, y_train)"
   ]
  },
  {
   "cell_type": "code",
   "execution_count": 40,
   "metadata": {},
   "outputs": [
    {
     "name": "stdout",
     "output_type": "stream",
     "text": [
      "0.9521904380876175 {'learning_rate': 0.9, 'n_estimators': 200}\n"
     ]
    }
   ],
   "source": [
    "# Find best model\n",
    "final_ada_model = Adaboost_model_clf.best_estimator_\n",
    "print (Adaboost_model_clf.best_score_, Adaboost_model_clf.best_params_)"
   ]
  },
  {
   "cell_type": "code",
   "execution_count": 44,
   "metadata": {},
   "outputs": [],
   "source": [
    "# Build ada model using above Hyper parameters\n",
    "## Model Builsing using Boosing\n",
    "from sklearn.ensemble import AdaBoostClassifier\n",
    "ada_final = AdaBoostClassifier(\n",
    "    DecisionTreeClassifier(max_depth=2),\n",
    "    n_estimators=200,\n",
    "    learning_rate=0.9)\n",
    "model_train_ada_final= ada_final.fit(X_train,y_train)\n",
    "y_pred_train_ada_final = ada_final.predict(X_train)\n",
    "y_pred_test_ada_final = ada_final.predict(X_test)"
   ]
  },
  {
   "cell_type": "code",
   "execution_count": 45,
   "metadata": {},
   "outputs": [
    {
     "name": "stdout",
     "output_type": "stream",
     "text": [
      "Train Decision Tree Accuracy: 0.9845469093818764\n",
      "Test Decision Tree Accuracy: 0.9528\n"
     ]
    }
   ],
   "source": [
    "y_prob_test_ada_final= ada_final.predict_proba(X_test)[:,1]\n",
    "acc_train_ada_final = accuracy_score(y_true=y_train,y_pred=y_pred_train_ada_final)\n",
    "acc_test_ada_final = accuracy_score(y_true=y_test,y_pred=y_pred_test_ada_final)\n",
    "print(\"Train Decision Tree Accuracy:\",accuracy_score(y_true=y_train,y_pred=y_pred_train_ada_final))\n",
    "print(\"Test Decision Tree Accuracy:\",accuracy_score(y_true=y_test,y_pred=y_pred_test_ada_final))"
   ]
  },
  {
   "cell_type": "code",
   "execution_count": 46,
   "metadata": {},
   "outputs": [
    {
     "name": "stdout",
     "output_type": "stream",
     "text": [
      "\n",
      " Confusion matrix \n",
      " [[4103   63]\n",
      " [ 173  661]]\n",
      "\n",
      " Classification report \n",
      "              precision    recall  f1-score   support\n",
      "\n",
      "          0       0.96      0.98      0.97      4166\n",
      "          1       0.91      0.79      0.85       834\n",
      "\n",
      "avg / total       0.95      0.95      0.95      5000\n",
      "\n"
     ]
    }
   ],
   "source": [
    "from sklearn import metrics\n",
    "from sklearn.metrics import accuracy_score, confusion_matrix, classification_report\n",
    "confusion_matrix_test_ada_final= confusion_matrix(y_test, y_pred_test_ada_final)\n",
    "print(\"\\n Confusion matrix \\n\", confusion_matrix_test_ada_final)\n",
    "print(\"\\n Classification report \\n\", classification_report(y_test,y_pred_test_ada_final))\n"
   ]
  },
  {
   "cell_type": "code",
   "execution_count": 47,
   "metadata": {},
   "outputs": [
    {
     "name": "stdout",
     "output_type": "stream",
     "text": [
      "Test TNR:  0.987009862881886\n",
      "Test TPR:  0.8070818070818071\n",
      "Test Accuracy:  0.9528\n"
     ]
    }
   ],
   "source": [
    "Accuracy_Test=(confusion_matrix_test_ada_final[0,0]+confusion_matrix_test_ada_final[1,1])/(confusion_matrix_test_ada_final[0,0]+confusion_matrix_test_ada_final[0,1]+confusion_matrix_test_ada_final[1,0]+confusion_matrix_test_ada_final[1,1])\n",
    "TNR_Test_ada_final= confusion_matrix_test_ada_final[0,0]/(confusion_matrix_test_ada[0,0] +confusion_matrix_test_ada_final[0,1])\n",
    "TPR_Test_ada_final= confusion_matrix_test_ada_final[1,1]/(confusion_matrix_test_ada[1,0] +confusion_matrix_test_ada_final[1,1])\n",
    "\n",
    "print(\"Test TNR: \",TNR_Test_ada_final)\n",
    "print(\"Test TPR: \",TPR_Test_ada_final)\n",
    "print(\"Test Accuracy: \",Accuracy_Test)"
   ]
  },
  {
   "cell_type": "code",
   "execution_count": 48,
   "metadata": {},
   "outputs": [
    {
     "data": {
      "image/png": "[encoded data removed]",
      "text/plain": [
       "<Figure size 432x288 with 1 Axes>"
      ]
     },
     "metadata": {},
     "output_type": "display_data"
    }
   ],
   "source": [
    "# calculate the fpr and tpr for all thresholds of the classification\n",
    "\n",
    "fpr, tpr, threshold = metrics.roc_curve(y_test, y_prob_test_ada)\n",
    "roc_auc_ada_final = metrics.auc(fpr, tpr)\n",
    "\n",
    "# method I: plt\n",
    "import matplotlib.pyplot as plt\n",
    "plt.title('Receiver Operating Characteristic')\n",
    "plt.plot(fpr, tpr, 'b', label = 'AUC = %0.2f' % roc_auc_ada_final)\n",
    "plt.legend(loc = 'lower right')\n",
    "plt.plot([0, 1], [0, 1],'r--')\n",
    "plt.xlim([0, 1])\n",
    "plt.ylim([0, 1])\n",
    "plt.ylabel('True Positive Rate')\n",
    "plt.xlabel('False Positive Rate')\n",
    "plt.show()"
   ]
  },
  {
   "cell_type": "code",
   "execution_count": 64,
   "metadata": {},
   "outputs": [],
   "source": [
    "## Model Building uisng Gradient Boosting\n",
    "from sklearn.ensemble import GradientBoostingClassifier\n",
    "gbm =  GradientBoostingClassifier(n_estimators=150,\n",
    "                                        learning_rate=0.1,\n",
    "                                        subsample=0.8)\n",
    "model_train_gbm= gbm.fit(X_train,y_train)\n",
    "y_pred_train_gbm = gbm.predict(X_train)\n",
    "y_pred_test_gbm = gbm.predict(X_test)"
   ]
  },
  {
   "cell_type": "code",
   "execution_count": 65,
   "metadata": {},
   "outputs": [
    {
     "name": "stdout",
     "output_type": "stream",
     "text": [
      "Train Decision Tree Accuracy: 0.957991598319664\n",
      "Test Decision Tree Accuracy: 0.9474\n"
     ]
    }
   ],
   "source": [
    "y_prob_test_gbm= gbm.predict_proba(X_test)[:,1]\n",
    "\n",
    "print(\"Train Decision Tree Accuracy:\",accuracy_score(y_true=y_train,y_pred=y_pred_train_gbm))\n",
    "print(\"Test Decision Tree Accuracy:\",accuracy_score(y_true=y_test,y_pred=y_pred_test_gbm))"
   ]
  },
  {
   "cell_type": "code",
   "execution_count": 66,
   "metadata": {},
   "outputs": [
    {
     "name": "stdout",
     "output_type": "stream",
     "text": [
      "\n",
      " Confusion matrix \n",
      " [[4102   44]\n",
      " [ 219  635]]\n",
      "\n",
      " Classification report \n",
      "              precision    recall  f1-score   support\n",
      "\n",
      "          0       0.95      0.99      0.97      4146\n",
      "          1       0.94      0.74      0.83       854\n",
      "\n",
      "avg / total       0.95      0.95      0.94      5000\n",
      "\n"
     ]
    }
   ],
   "source": [
    "from sklearn import metrics\n",
    "from sklearn.metrics import accuracy_score, confusion_matrix, classification_report\n",
    "confusion_matrix_test_gbm= confusion_matrix(y_test, y_pred_test_gbm)\n",
    "print(\"\\n Confusion matrix \\n\", confusion_matrix_test_gbm)\n",
    "print(\"\\n Classification report \\n\", classification_report(y_test,y_pred_test_gbm))"
   ]
  },
  {
   "cell_type": "code",
   "execution_count": 67,
   "metadata": {},
   "outputs": [
    {
     "name": "stdout",
     "output_type": "stream",
     "text": [
      "Test TNR:  0.989387361312108\n",
      "Test TPR:  0.7435597189695551\n",
      "Test Accuracy:  0.9474\n"
     ]
    }
   ],
   "source": [
    "Accuracy_Test=(confusion_matrix_test_gbm[0,0]+confusion_matrix_test_gbm[1,1])/(confusion_matrix_test_gbm[0,0]+confusion_matrix_test_gbm[0,1]+confusion_matrix_test_gbm[1,0]+confusion_matrix_test_gbm[1,1])\n",
    "TNR_Test= confusion_matrix_test_gbm[0,0]/(confusion_matrix_test_gbm[0,0] +confusion_matrix_test_gbm[0,1])\n",
    "TPR_Test= confusion_matrix_test_gbm[1,1]/(confusion_matrix_test_gbm[1,0] +confusion_matrix_test_gbm[1,1])\n",
    "\n",
    "print(\"Test TNR: \",TNR_Test)\n",
    "print(\"Test TPR: \",TPR_Test)\n",
    "print(\"Test Accuracy: \",Accuracy_Test)"
   ]
  },
  {
   "cell_type": "code",
   "execution_count": 68,
   "metadata": {},
   "outputs": [
    {
     "data": {
      "image/png": "[encoded data removed]",
      "text/plain": [
       "<Figure size 432x288 with 1 Axes>"
      ]
     },
     "metadata": {},
     "output_type": "display_data"
    }
   ],
   "source": [
    "# calculate the fpr and tpr for all thresholds of the classification\n",
    "\n",
    "fpr, tpr, threshold = metrics.roc_curve(y_test, y_prob_test_gbm)\n",
    "roc_auc = metrics.auc(fpr, tpr)\n",
    "\n",
    "# method I: plt\n",
    "import matplotlib.pyplot as plt\n",
    "plt.title('Receiver Operating Characteristic')\n",
    "plt.plot(fpr, tpr, 'b', label = 'AUC = %0.2f' % roc_auc)\n",
    "plt.legend(loc = 'lower right')\n",
    "plt.plot([0, 1], [0, 1],'r--')\n",
    "plt.xlim([0, 1])\n",
    "plt.ylim([0, 1])\n",
    "plt.ylabel('True Positive Rate')\n",
    "plt.xlabel('False Positive Rate')\n",
    "plt.show()"
   ]
  },
  {
   "cell_type": "code",
   "execution_count": 69,
   "metadata": {},
   "outputs": [
    {
     "name": "stderr",
     "output_type": "stream",
     "text": [
      "C:\\ProgramData\\Anaconda3\\lib\\site-packages\\sklearn\\preprocessing\\label.py:151: DeprecationWarning: The truth value of an empty array is ambiguous. Returning False, but in future this will result in an error. Use `array.size > 0` to check that an array is not empty.\n",
      "  if diff:\n",
      "C:\\ProgramData\\Anaconda3\\lib\\site-packages\\sklearn\\preprocessing\\label.py:151: DeprecationWarning: The truth value of an empty array is ambiguous. Returning False, but in future this will result in an error. Use `array.size > 0` to check that an array is not empty.\n",
      "  if diff:\n"
     ]
    }
   ],
   "source": [
    "# Build Model XGBOOST\n",
    "from xgboost import XGBClassifier\n",
    "xgb =from imblearn.ensemble import BalancedBaggingClassifier  XGBClassifier()\n",
    "model_train_xgb= xgb.fit(X_train,y_train)\n",
    "y_pred_train_xgb = xgb.predict(X_train)\n",
    "y_pred_test_xgb = xgb.predict(X_test)"
   ]
  },
  {
   "cell_type": "code",
   "execution_count": 70,
   "metadata": {},
   "outputs": [
    {
     "name": "stdout",
     "output_type": "stream",
     "text": [
      "Train Decision Tree Accuracy: 0.9525405081016203\n",
      "Test Decision Tree Accuracy: 0.9472\n"
     ]
    }
   ],
   "source": [
    "y_prob_test_xgb= xgb.predict_proba(X_test)[:,1]\n",
    "\n",
    "print(\"Train Decision Tree Accuracy:\",accuracy_score(y_true=y_train,y_pred=y_pred_train_xgb))\n",
    "print(\"Test Decision Tree Accuracy:\",accuracy_score(y_true=y_test,y_pred=y_pred_test_xgb))"
   ]
  },
  {
   "cell_type": "code",
   "execution_count": 71,
   "metadata": {},
   "outputs": [
    {
     "name": "stdout",
     "output_type": "stream",
     "text": [
      "\n",
      " Confusion matrix \n",
      " [[4103   43]\n",
      " [ 221  633]]\n",
      "\n",
      " Classification report \n",
      "              precision    recall  f1-score   support\n",
      "\n",
      "          0       0.95      0.99      0.97      4146\n",
      "          1       0.94      0.74      0.83       854\n",
      "\n",
      "avg / total       0.95      0.95      0.94      5000\n",
      "\n"
     ]
    }
   ],
   "source": [
    "from sklearn import metrics\n",
    "from sklearn.metrics import accuracy_score, confusion_matrix, classification_report\n",
    "confusion_matrix_test_xgb= confusion_matrix(y_test, y_pred_test_xgb)\n",
    "print(\"\\n Confusion matrix \\n\", confusion_matrix_test_xgb)\n",
    "print(\"\\n Classification report \\n\", classification_report(y_test,y_pred_test_xgb))"
   ]
  },
  {
   "cell_type": "code",
   "execution_count": null,
   "metadata": {},
   "outputs": [],
   "source": []
  },
  {
   "cell_type": "code",
   "execution_count": 72,
   "metadata": {},
   "outputs": [
    {
     "name": "stdout",
     "output_type": "stream",
     "text": [
      "Test TNR:  0.989387361312108\n",
      "Test TPR:  0.7435597189695551\n",
      "Test Accuracy:  0.947010597880424\n"
     ]
    }
   ],
   "source": [
    "Accuracy_Test=(confusion_matrix_test_xgb[0,0]+confusion_matrix_test_xgb[1,1])/(confusion_matrix_test_xgb[0,0]+confusion_matrix_test_xgb[0,1]+confusion_matrix_test_xgb[1,0]+confusion_matrix_test_xgb[1,1])\n",
    "TNR_Test= confusion_matrix_test_xgb[0,0]/(confusion_matrix_test_xgb[0,0] +confusion_matrix_test_xgb[0,1])\n",
    "TPR_Test= confusion_matrix_test_xgb[1,1]/(confusion_matrix_test_xgb[1,0] +confusion_matrix_test_xgb[1,1])\n",
    "\n",
    "print(\"Test TNR: \",TNR_Test)\n",
    "print(\"Test TPR: \",TPR_Test)\n",
    "print(\"Test Accuracy: \",Accuracy_Test)"
   ]
  },
  {
   "cell_type": "code",
   "execution_count": 73,
   "metadata": {},
   "outputs": [
    {
     "data": {
      "image/png": "[encoded data removed]",
      "text/plain": [
       "<Figure size 432x288 with 1 Axes>"
      ]
     },
     "metadata": {},
     "output_type": "display_data"
    }
   ],
   "source": [
    "# calculate the fpr and tpr for all thresholds of the classification\n",
    "\n",
    "fpr, tpr, threshold = metrics.roc_curve(y_test, y_prob_test_xgb)\n",
    "roc_auc = metrics.auc(fpr, tpr)\n",
    "\n",
    "# method I: plt\n",
    "import matplotlib.pyplot as plt\n",
    "plt.title('Receiver Operating Characteristic')\n",
    "plt.plot(fpr, tpr, 'b', label = 'AUC = %0.2f' % roc_auc)\n",
    "plt.legend(loc = 'lower right')\n",
    "plt.plot([0, 1], [0, 1],'r--')\n",
    "plt.xlim([0, 1])\n",
    "plt.ylim([0, 1])\n",
    "plt.ylabel('True Positive Rate')\n",
    "plt.xlabel('False Positive Rate')\n",
    "plt.show()"
   ]
  },
  {
   "cell_type": "code",
   "execution_count": 47,
   "metadata": {},
   "outputs": [],
   "source": [
    "# Build Model \n",
    "from sklearn.ensemble import BalancedBaggingClassifier\n",
    "from sklearn import tree\n",
    "bag = BaggingClassifier(tree.DecisionTreeClassifier(random_state=1))\n",
    "model_train_bag= bag.fit(X_train,y_train)\n",
    "y_pred_train_bag = bag.predict(X_train)\n",
    "y_pred_test_bag = bag.predict(X_test)"
   ]
  },
  {
   "cell_type": "code",
   "execution_count": 48,
   "metadata": {},
   "outputs": [
    {
     "name": "stdout",
     "output_type": "stream",
     "text": [
      "Train Decision Tree Accuracy: 0.8327665533106622\n",
      "Test Decision Tree Accuracy: 0.8356\n"
     ]
    }
   ],
   "source": [
    "y_prob_test_bag= bag.predict_proba(X_test)[:,1]\n",
    "\n",
    "print(\"Train Decision Tree Accuracy:\",accuracy_score(y_true=y_train,y_pred=y_pred_train_bag))\n",
    "print(\"Test Decision Tree Accuracy:\",accuracy_score(y_true=y_test,y_pred=y_pred_test_bag))"
   ]
  },
  {
   "cell_type": "code",
   "execution_count": 49,
   "metadata": {},
   "outputs": [
    {
     "name": "stdout",
     "output_type": "stream",
     "text": [
      "\n",
      " Confusion matrix \n",
      " [[4178    0]\n",
      " [ 822    0]]\n",
      "\n",
      " Classification report \n",
      "              precision    recall  f1-score   support\n",
      "\n",
      "         No       0.84      1.00      0.91      4178\n",
      "        Yes       0.00      0.00      0.00       822\n",
      "\n",
      "avg / total       0.70      0.84      0.76      5000\n",
      "\n"
     ]
    },
    {
     "name": "stderr",
     "output_type": "stream",
     "text": [
      "C:\\ProgramData\\Anaconda3\\lib\\site-packages\\sklearn\\metrics\\classification.py:1135: UndefinedMetricWarning: Precision and F-score are ill-defined and being set to 0.0 in labels with no predicted samples.\n",
      "  'precision', 'predicted', average, warn_for)\n"
     ]
    }
   ],
   "source": [
    "from sklearn import metrics\n",
    "from sklearn.metrics import accuracy_score, confusion_matrix, classification_report\n",
    "confusion_matrix_test_bag= confusion_matrix(y_test, y_pred_test_bag)\n",
    "print(\"\\n Confusion matrix \\n\", confusion_matrix_test_bag)\n",
    "print(\"\\n Classification report \\n\", classification_report(y_test,y_pred_test_bag))"
   ]
  },
  {
   "cell_type": "code",
   "execution_count": 50,
   "metadata": {},
   "outputs": [
    {
     "name": "stdout",
     "output_type": "stream",
     "text": [
      "Test TNR:  1.0\n",
      "Test TPR:  0.0\n",
      "Test Accuracy:  0.8356\n"
     ]
    }
   ],
   "source": [
    "Accuracy_Test=(confusion_matrix_test_bag[0,0]+confusion_matrix_test_bag[1,1])/(confusion_matrix_test_bag[0,0]+confusion_matrix_test_bag[0,1]+confusion_matrix_test_bag[1,0]+confusion_matrix_test_bag[1,1])\n",
    "TNR_Test= confusion_matrix_test_bag[0,0]/(confusion_matrix_test_bag[0,0] +confusion_matrix_test_bag[0,1])\n",
    "TPR_Test= confusion_matrix_test_bag[1,1]/(confusion_matrix_test_bag[1,0] +confusion_matrix_test_bag[1,1])\n",
    "\n",
    "print(\"Test TNR: \",TNR_Test)\n",
    "print(\"Test TPR: \",TPR_Test)\n",
    "print(\"Test Accuracy: \",Accuracy_Test)"
   ]
  },
  {
   "cell_type": "code",
   "execution_count": 51,
   "metadata": {},
   "outputs": [
    {
     "ename": "ValueError",
     "evalue": "Data is not binary and pos_label is not specified",
     "output_type": "error",
     "traceback": [
      "\u001b[1;31m---------------------------------------------------------------------------\u001b[0m",
      "\u001b[1;31mValueError\u001b[0m                                Traceback (most recent call last)",
      "\u001b[1;32m<ipython-input-51-f26010cdc4c4>\u001b[0m in \u001b[0;36m<module>\u001b[1;34m()\u001b[0m\n\u001b[0;32m      1\u001b[0m \u001b[1;31m# calculate the fpr and tpr for all thresholds of the classification\u001b[0m\u001b[1;33m\u001b[0m\u001b[1;33m\u001b[0m\u001b[0m\n\u001b[0;32m      2\u001b[0m \u001b[1;33m\u001b[0m\u001b[0m\n\u001b[1;32m----> 3\u001b[1;33m \u001b[0mfpr\u001b[0m\u001b[1;33m,\u001b[0m \u001b[0mtpr\u001b[0m\u001b[1;33m,\u001b[0m \u001b[0mthreshold\u001b[0m \u001b[1;33m=\u001b[0m \u001b[0mmetrics\u001b[0m\u001b[1;33m.\u001b[0m\u001b[0mroc_curve\u001b[0m\u001b[1;33m(\u001b[0m\u001b[0my_test\u001b[0m\u001b[1;33m,\u001b[0m \u001b[0my_prob_test_bag\u001b[0m\u001b[1;33m)\u001b[0m\u001b[1;33m\u001b[0m\u001b[0m\n\u001b[0m\u001b[0;32m      4\u001b[0m \u001b[0mroc_auc\u001b[0m \u001b[1;33m=\u001b[0m \u001b[0mmetrics\u001b[0m\u001b[1;33m.\u001b[0m\u001b[0mauc\u001b[0m\u001b[1;33m(\u001b[0m\u001b[0mfpr\u001b[0m\u001b[1;33m,\u001b[0m \u001b[0mtpr\u001b[0m\u001b[1;33m)\u001b[0m\u001b[1;33m\u001b[0m\u001b[0m\n\u001b[0;32m      5\u001b[0m \u001b[1;33m\u001b[0m\u001b[0m\n",
      "\u001b[1;32mC:\\ProgramData\\Anaconda3\\lib\\site-packages\\sklearn\\metrics\\ranking.py\u001b[0m in \u001b[0;36mroc_curve\u001b[1;34m(y_true, y_score, pos_label, sample_weight, drop_intermediate)\u001b[0m\n\u001b[0;32m    532\u001b[0m     \"\"\"\n\u001b[0;32m    533\u001b[0m     fps, tps, thresholds = _binary_clf_curve(\n\u001b[1;32m--> 534\u001b[1;33m         y_true, y_score, pos_label=pos_label, sample_weight=sample_weight)\n\u001b[0m\u001b[0;32m    535\u001b[0m \u001b[1;33m\u001b[0m\u001b[0m\n\u001b[0;32m    536\u001b[0m     \u001b[1;31m# Attempt to drop thresholds corresponding to points in between and\u001b[0m\u001b[1;33m\u001b[0m\u001b[1;33m\u001b[0m\u001b[0m\n",
      "\u001b[1;32mC:\\ProgramData\\Anaconda3\\lib\\site-packages\\sklearn\\metrics\\ranking.py\u001b[0m in \u001b[0;36m_binary_clf_curve\u001b[1;34m(y_true, y_score, pos_label, sample_weight)\u001b[0m\n\u001b[0;32m    335\u001b[0m              \u001b[0mnp\u001b[0m\u001b[1;33m.\u001b[0m\u001b[0marray_equal\u001b[0m\u001b[1;33m(\u001b[0m\u001b[0mclasses\u001b[0m\u001b[1;33m,\u001b[0m \u001b[1;33m[\u001b[0m\u001b[1;33m-\u001b[0m\u001b[1;36m1\u001b[0m\u001b[1;33m]\u001b[0m\u001b[1;33m)\u001b[0m \u001b[1;32mor\u001b[0m\u001b[1;33m\u001b[0m\u001b[0m\n\u001b[0;32m    336\u001b[0m              np.array_equal(classes, [1]))):\n\u001b[1;32m--> 337\u001b[1;33m         \u001b[1;32mraise\u001b[0m \u001b[0mValueError\u001b[0m\u001b[1;33m(\u001b[0m\u001b[1;34m\"Data is not binary and pos_label is not specified\"\u001b[0m\u001b[1;33m)\u001b[0m\u001b[1;33m\u001b[0m\u001b[0m\n\u001b[0m\u001b[0;32m    338\u001b[0m     \u001b[1;32melif\u001b[0m \u001b[0mpos_label\u001b[0m \u001b[1;32mis\u001b[0m \u001b[1;32mNone\u001b[0m\u001b[1;33m:\u001b[0m\u001b[1;33m\u001b[0m\u001b[0m\n\u001b[0;32m    339\u001b[0m         \u001b[0mpos_label\u001b[0m \u001b[1;33m=\u001b[0m \u001b[1;36m1.\u001b[0m\u001b[1;33m\u001b[0m\u001b[0m\n",
      "\u001b[1;31mValueError\u001b[0m: Data is not binary and pos_label is not specified"
     ]
    }
   ],
   "source": [
    "# calculate the fpr and tpr for all thresholds of the classification\n",
    "\n",
    "fpr, tpr, threshold = metrics.roc_curve(y_test, y_prob_test_bag)\n",
    "roc_auc = metrics.auc(fpr, tpr)\n",
    "\n",
    "# method I: plt\n",
    "import matplotlib.pyplot as plt\n",
    "plt.title('Receiver Operating Characteristic')\n",
    "plt.plot(fpr, tpr, 'b', label = 'AUC = %0.2f' % roc_auc)\n",
    "plt.legend(loc = 'lower right')\n",
    "plt.plot([0, 1], [0, 1],'r--')\n",
    "plt.xlim([0, 1])\n",
    "plt.ylim([0, 1])\n",
    "plt.ylabel('True Positive Rate')\n",
    "plt.xlabel('False Positive Rate')\n",
    "plt.show()"
   ]
  },
  {
   "cell_type": "code",
   "execution_count": 34,
   "metadata": {},
   "outputs": [],
   "source": [
    "# Build Balanced bagging classifier model\n",
    "from imblearn.ensemble import BalancedBaggingClassifier\n",
    "from sklearn import tree\n",
    "bbc = BalancedBaggingClassifier(tree.DecisionTreeClassifier(random_state=1))\n",
    "model_train_bbc= bbc.fit(X_train,y_train)\n",
    "y_pred_train_bbc = bbc.predict(X_train)\n",
    "y_pred_test_bbc = bbc.predict(X_test)"
   ]
  },
  {
   "cell_type": "code",
   "execution_count": 37,
   "metadata": {},
   "outputs": [
    {
     "name": "stdout",
     "output_type": "stream",
     "text": [
      "Train Decision Tree Accuracy: 0.9470394078815764\n",
      "Test Decision Tree Accuracy: 0.9056\n"
     ]
    }
   ],
   "source": [
    "y_prob_test_bbc= bbc.predict_proba(X_test)[:,1]\n",
    "\n",
    "acc_train_bbc = accuracy_score(y_true=y_train,y_pred=y_pred_train_bbc)\n",
    "acc_test_bbc = accuracy_score(y_true=y_test,y_pred=y_pred_test_bbc) \n",
    "\n",
    "print(\"Train Decision Tree Accuracy:\",accuracy_score(y_true=y_train,y_pred=y_pred_train_bbc))\n",
    "print(\"Test Decision Tree Accuracy:\",accuracy_score(y_true=y_test,y_pred=y_pred_test_bbc))"
   ]
  },
  {
   "cell_type": "code",
   "execution_count": 44,
   "metadata": {},
   "outputs": [
    {
     "name": "stdout",
     "output_type": "stream",
     "text": [
      "\n",
      " Confusion matrix \n",
      " [[3807  362]\n",
      " [ 110  721]]\n",
      "\n",
      " Classification report \n",
      "              precision    recall  f1-score   support\n",
      "\n",
      "          0       0.97      0.91      0.94      4169\n",
      "          1       0.67      0.87      0.75       831\n",
      "\n",
      "avg / total       0.92      0.91      0.91      5000\n",
      "\n"
     ]
    }
   ],
   "source": [
    "from sklearn import metrics\n",
    "from sklearn.metrics import accuracy_score, confusion_matrix, classification_report\n",
    "confusion_matrix_test_bbc= confusion_matrix(y_test, y_pred_test_bbc)\n",
    "cr_bbc=classification_report(y_test,y_pred_test_bbc)\n",
    "print(\"\\n Confusion matrix \\n\", confusion_matrix_test_bbc)\n",
    "print(\"\\n Classification report \\n\", classification_report(y_test,y_pred_test_bbc))"
   ]
  },
  {
   "cell_type": "code",
   "execution_count": 52,
   "metadata": {},
   "outputs": [
    {
     "data": {
      "text/plain": [
       "'             precision    recall  f1-score   support\\n\\n          0       0.97      0.91      0.94      4169\\n          1       0.67      0.87      0.75       831\\n\\navg / total       0.92      0.91      0.91      5000\\n'"
      ]
     },
     "execution_count": 52,
     "metadata": {},
     "output_type": "execute_result"
    }
   ],
   "source": [
    "cr_bbc\n"
   ]
  },
  {
   "cell_type": "code",
   "execution_count": 39,
   "metadata": {},
   "outputs": [
    {
     "name": "stdout",
     "output_type": "stream",
     "text": [
      "Test TNR:  0.9131686255696809\n",
      "Test TPR:  0.8676293622141997\n",
      "Test Accuracy:  0.9056\n"
     ]
    }
   ],
   "source": [
    "Accuracy_Test=(confusion_matrix_test_bbc[0,0]+confusion_matrix_test_bbc[1,1])/(confusion_matrix_test_bbc[0,0]+confusion_matrix_test_bbc[0,1]+confusion_matrix_test_bbc[1,0]+confusion_matrix_test_bbc[1,1])\n",
    "TNR_Test_bbc= confusion_matrix_test_bbc[0,0]/(confusion_matrix_test_bbc[0,0] +confusion_matrix_test_bbc[0,1])\n",
    "TPR_Test_bbc= confusion_matrix_test_bbc[1,1]/(confusion_matrix_test_bbc[1,0] +confusion_matrix_test_bbc[1,1])\n",
    "\n",
    "print(\"Test TNR: \",TNR_Test_bbc)\n",
    "print(\"Test TPR: \",TPR_Test_bbc)\n",
    "print(\"Test Accuracy: \",Accuracy_Test)"
   ]
  },
  {
   "cell_type": "code",
   "execution_count": 40,
   "metadata": {},
   "outputs": [
    {
     "data": {
      "image/png": "[encoded data removed]",
      "text/plain": [
       "<Figure size 432x288 with 1 Axes>"
      ]
     },
     "metadata": {},
     "output_type": "display_data"
    }
   ],
   "source": [
    "# calculate the fpr and tpr for all thresholds of the classification\n",
    "\n",
    "fpr, tpr, threshold = metrics.roc_curve(y_test, y_prob_test_bbc)\n",
    "roc_auc_bbc = metrics.auc(fpr, tpr)\n",
    "\n",
    "# method I: plt\n",
    "import matplotlib.pyplot as plt\n",
    "plt.title('Receiver Operating Characteristic')\n",
    "plt.plot(fpr, tpr, 'b', label = 'AUC = %0.2f' % roc_auc_bbc)\n",
    "plt.legend(loc = 'lower right')\n",
    "plt.plot([0, 1], [0, 1],'r--')\n",
    "plt.xlim([0, 1])\n",
    "plt.ylim([0, 1])\n",
    "plt.ylabel('True Positive Rate')\n",
    "plt.xlabel('False Positive Rate')\n",
    "plt.show()"
   ]
  },
  {
   "cell_type": "code",
   "execution_count": 41,
   "metadata": {},
   "outputs": [
    {
     "ename": "ModuleNotFoundError",
     "evalue": "No module named 'prettytable'",
     "output_type": "error",
     "traceback": [
      "\u001b[1;31m---------------------------------------------------------------------------\u001b[0m",
      "\u001b[1;31mModuleNotFoundError\u001b[0m                       Traceback (most recent call last)",
      "\u001b[1;32m<ipython-input-41-ba8b48442e02>\u001b[0m in \u001b[0;36m<module>\u001b[1;34m()\u001b[0m\n\u001b[1;32m----> 1\u001b[1;33m \u001b[1;32mfrom\u001b[0m \u001b[0mprettytable\u001b[0m \u001b[1;32mimport\u001b[0m \u001b[0mPrettyTable\u001b[0m\u001b[1;33m\u001b[0m\u001b[0m\n\u001b[0m",
      "\u001b[1;31mModuleNotFoundError\u001b[0m: No module named 'prettytable'"
     ]
    }
   ],
   "source": [
    "from prettytable import PrettyTable"
   ]
  },
  {
   "cell_type": "code",
   "execution_count": 42,
   "metadata": {},
   "outputs": [
    {
     "name": "stdout",
     "output_type": "stream",
     "text": [
      "Collecting PrettyTable\n",
      "  Downloading https://files.pythonhosted.org/packages/ef/30/4b0746848746ed5941f052479e7c23d2b56d174b82f4fd34a25e389831f5/prettytable-0.7.2.tar.bz2\n",
      "Building wheels for collected packages: PrettyTable\n",
      "  Running setup.py bdist_wheel for PrettyTable: started\n",
      "  Running setup.py bdist_wheel for PrettyTable: finished with status 'done'\n",
      "  Stored in directory: C:\\Users\\Prashanth Yerabati\\AppData\\Local\\pip\\Cache\\wheels\\80\\34\\1c\\3967380d9676d162cb59513bd9dc862d0584e045a162095606\n",
      "Successfully built PrettyTable\n",
      "Installing collected packages: PrettyTable\n",
      "Successfully installed PrettyTable-0.7.2\n"
     ]
    }
   ],
   "source": [
    "!pip install PrettyTable"
   ]
  },
  {
   "cell_type": "code",
   "execution_count": 43,
   "metadata": {},
   "outputs": [],
   "source": [
    "from prettytable import PrettyTable"
   ]
  },
  {
   "cell_type": "code",
   "execution_count": 67,
   "metadata": {},
   "outputs": [],
   "source": [
    "t = PrettyTable(['Name','Train_accuracy', 'Test_accuracy', 'Roc_Auc', 'Test TNR', 'Test TPR'])\n",
    "t.add_row([\"Logistic Regression\",accu_train_lr,accu_test_lr,roc_auc_lr,TNR_Test_lr,TPR_Test_lr])\n",
    "t.add_row([\"Logistic Regression\",acc_train_bbc,acc_test_bbc,roc_auc_bbc,TNR_Test_bbc,TPR_Test_bbc])\n",
    " "
   ]
  },
  {
   "cell_type": "code",
   "execution_count": 68,
   "metadata": {},
   "outputs": [
    {
     "name": "stdout",
     "output_type": "stream",
     "text": [
      "+---------------------+--------------------+---------------+--------------------+--------------------+----------------------+\n",
      "|         Name        |   Train_accuracy   | Test_accuracy |      Roc_Auc       |      Test TNR      |       Test TPR       |\n",
      "+---------------------+--------------------+---------------+--------------------+--------------------+----------------------+\n",
      "| Logistic Regression | 0.8332666533306662 |     0.832     | 0.728490384734729  | 0.9966418805468937 | 0.006016847172081829 |\n",
      "| Logistic Regression | 0.9470394078815764 |     0.9056    | 0.9534214630420683 | 0.9131686255696809 |  0.8676293622141997  |\n",
      "+---------------------+--------------------+---------------+--------------------+--------------------+----------------------+\n"
     ]
    }
   ],
   "source": [
    "print(t.get_string(title=\"Results\"))"
   ]
  },
  {
   "cell_type": "code",
   "execution_count": 70,
   "metadata": {},
   "outputs": [
    {
     "name": "stdout",
     "output_type": "stream",
     "text": [
      "\n",
      " Classification report bbc \n",
      "              precision    recall  f1-score   support\n",
      "\n",
      "          0       0.97      0.91      0.94      4169\n",
      "          1       0.67      0.87      0.75       831\n",
      "\n",
      "avg / total       0.92      0.91      0.91      5000\n",
      "\n",
      "\n",
      " Classification report lr \n",
      "              precision    recall  f1-score   support\n",
      "\n",
      "          0       0.83      1.00      0.91      4169\n",
      "          1       0.26      0.01      0.01       831\n",
      "\n",
      "avg / total       0.74      0.83      0.76      5000\n",
      "\n"
     ]
    }
   ],
   "source": [
    "print(\"\\n Classification report bbc \\n\", classification_report(y_test,y_pred_test_bbc))\n",
    "print(\"\\n Classification report lr \\n\", classification_report(y_test,y_pred_test_lr))"
   ]
  },
  {
   "cell_type": "code",
   "execution_count": null,
   "metadata": {},
   "outputs": [],
   "source": []
  }
 ],
 "metadata": {
  "kernelspec": {
   "display_name": "Python 3",
   "language": "python",
   "name": "python3"
  },
  "language_info": {
   "codemirror_mode": {
    "name": "ipython",
    "version": 3
   },
   "file_extension": ".py",
   "mimetype": "text/x-python",
   "name": "python",
   "nbconvert_exporter": "python",
   "pygments_lexer": "ipython3",
   "version": "3.6.5"
  }
 },
 "nbformat": 4,
 "nbformat_minor": 2
}
