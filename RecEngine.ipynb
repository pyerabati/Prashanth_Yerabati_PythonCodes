{
 "cells": [
  {
   "cell_type": "code",
   "execution_count": 1,
   "metadata": {},
   "outputs": [],
   "source": [
    "import os\n",
    "import pandas as pd\n",
    "import numpy as np\n",
    "PATH = os.getcwd()\n",
    "os.chdir(PATH)"
   ]
  },
  {
   "cell_type": "code",
   "execution_count": 2,
   "metadata": {},
   "outputs": [
    {
     "name": "stderr",
     "output_type": "stream",
     "text": [
      "/home/vivekb/.local/lib/python2.7/site-packages/h5py/__init__.py:36: FutureWarning: Conversion of the second argument of issubdtype from `float` to `np.floating` is deprecated. In future, it will be treated as `np.float64 == np.dtype(float).type`.\n",
      "  from ._conv import register_converters as _register_converters\n",
      "Using TensorFlow backend.\n",
      "/home/vivekb/.local/lib/python2.7/site-packages/cffi/model.py:531: UserWarning: 'point_conversion_form_t' has no values explicitly defined; guessing that it is equivalent to 'unsigned int'\n",
      "  % self._get_c_name())\n"
     ]
    }
   ],
   "source": [
    "from keras.models import Sequential, Model\n",
    "from keras.layers import Dense, Activation, Embedding, Flatten, Dropout\n",
    "from keras.layers import Input, concatenate\n",
    "from keras import regularizers, initializers\n",
    "from sklearn.model_selection import train_test_split"
   ]
  },
  {
   "cell_type": "code",
   "execution_count": 3,
   "metadata": {},
   "outputs": [],
   "source": [
    "rating=pd.read_csv(\"ratings.csv\")\n",
    "movie = pd.read_csv(\"movies.csv\")"
   ]
  },
  {
   "cell_type": "code",
   "execution_count": 4,
   "metadata": {},
   "outputs": [
    {
     "name": "stdout",
     "output_type": "stream",
     "text": [
      "   userId  movieId  rating   timestamp\n",
      "0       1       31     2.5  1260759144\n",
      "1       1     1029     3.0  1260759179\n",
      "2       1     1061     3.0  1260759182\n",
      "3       1     1129     2.0  1260759185\n",
      "4       1     1172     4.0  1260759205\n",
      "userId         int64\n",
      "movieId        int64\n",
      "rating       float64\n",
      "timestamp      int64\n",
      "dtype: object\n",
      "   movieId                               title  \\\n",
      "0        1                    Toy Story (1995)   \n",
      "1        2                      Jumanji (1995)   \n",
      "2        3             Grumpier Old Men (1995)   \n",
      "3        4            Waiting to Exhale (1995)   \n",
      "4        5  Father of the Bride Part II (1995)   \n",
      "\n",
      "                                        genres  \n",
      "0  Adventure|Animation|Children|Comedy|Fantasy  \n",
      "1                   Adventure|Children|Fantasy  \n",
      "2                               Comedy|Romance  \n",
      "3                         Comedy|Drama|Romance  \n",
      "4                                       Comedy  \n",
      "movieId     int64\n",
      "title      object\n",
      "genres     object\n",
      "dtype: object\n"
     ]
    }
   ],
   "source": [
    "print(rating.head())\n",
    "print(rating.dtypes)\n",
    "print(movie.head())\n",
    "print(movie.dtypes)"
   ]
  },
  {
   "cell_type": "markdown",
   "metadata": {},
   "source": [
    "###### Convert attributes to right data types"
   ]
  },
  {
   "cell_type": "code",
   "execution_count": 5,
   "metadata": {},
   "outputs": [],
   "source": [
    "rating = rating.merge(movie,on='movieId',how='inner')"
   ]
  },
  {
   "cell_type": "code",
   "execution_count": 6,
   "metadata": {},
   "outputs": [
    {
     "data": {
      "text/html": [
       "<div>\n",
       "<style scoped>\n",
       "    .dataframe tbody tr th:only-of-type {\n",
       "        vertical-align: middle;\n",
       "    }\n",
       "\n",
       "    .dataframe tbody tr th {\n",
       "        vertical-align: top;\n",
       "    }\n",
       "\n",
       "    .dataframe thead th {\n",
       "        text-align: right;\n",
       "    }\n",
       "</style>\n",
       "<table border=\"1\" class=\"dataframe\">\n",
       "  <thead>\n",
       "    <tr style=\"text-align: right;\">\n",
       "      <th></th>\n",
       "      <th>userId</th>\n",
       "      <th>movieId</th>\n",
       "      <th>rating</th>\n",
       "      <th>timestamp</th>\n",
       "      <th>title</th>\n",
       "      <th>genres</th>\n",
       "    </tr>\n",
       "  </thead>\n",
       "  <tbody>\n",
       "    <tr>\n",
       "      <th>0</th>\n",
       "      <td>1</td>\n",
       "      <td>31</td>\n",
       "      <td>2.5</td>\n",
       "      <td>1260759144</td>\n",
       "      <td>Dangerous Minds (1995)</td>\n",
       "      <td>Drama</td>\n",
       "    </tr>\n",
       "    <tr>\n",
       "      <th>1</th>\n",
       "      <td>7</td>\n",
       "      <td>31</td>\n",
       "      <td>3.0</td>\n",
       "      <td>851868750</td>\n",
       "      <td>Dangerous Minds (1995)</td>\n",
       "      <td>Drama</td>\n",
       "    </tr>\n",
       "    <tr>\n",
       "      <th>2</th>\n",
       "      <td>31</td>\n",
       "      <td>31</td>\n",
       "      <td>4.0</td>\n",
       "      <td>1273541953</td>\n",
       "      <td>Dangerous Minds (1995)</td>\n",
       "      <td>Drama</td>\n",
       "    </tr>\n",
       "    <tr>\n",
       "      <th>3</th>\n",
       "      <td>32</td>\n",
       "      <td>31</td>\n",
       "      <td>4.0</td>\n",
       "      <td>834828440</td>\n",
       "      <td>Dangerous Minds (1995)</td>\n",
       "      <td>Drama</td>\n",
       "    </tr>\n",
       "    <tr>\n",
       "      <th>4</th>\n",
       "      <td>36</td>\n",
       "      <td>31</td>\n",
       "      <td>3.0</td>\n",
       "      <td>847057202</td>\n",
       "      <td>Dangerous Minds (1995)</td>\n",
       "      <td>Drama</td>\n",
       "    </tr>\n",
       "  </tbody>\n",
       "</table>\n",
       "</div>"
      ],
      "text/plain": [
       "   userId  movieId  rating   timestamp                   title genres\n",
       "0       1       31     2.5  1260759144  Dangerous Minds (1995)  Drama\n",
       "1       7       31     3.0   851868750  Dangerous Minds (1995)  Drama\n",
       "2      31       31     4.0  1273541953  Dangerous Minds (1995)  Drama\n",
       "3      32       31     4.0   834828440  Dangerous Minds (1995)  Drama\n",
       "4      36       31     3.0   847057202  Dangerous Minds (1995)  Drama"
      ]
     },
     "execution_count": 6,
     "metadata": {},
     "output_type": "execute_result"
    }
   ],
   "source": [
    "rating.head()"
   ]
  },
  {
   "cell_type": "code",
   "execution_count": 7,
   "metadata": {},
   "outputs": [],
   "source": [
    "rating.userId = rating.userId.astype(\"category\")\n",
    "rating.movieId = rating.movieId.astype(\"category\")\n",
    "rating.genres = rating.genres.astype(\"category\")"
   ]
  },
  {
   "cell_type": "code",
   "execution_count": 8,
   "metadata": {},
   "outputs": [
    {
     "data": {
      "text/plain": [
       "userId       category\n",
       "movieId      category\n",
       "rating        float64\n",
       "timestamp       int64\n",
       "title          object\n",
       "genres       category\n",
       "dtype: object"
      ]
     },
     "execution_count": 8,
     "metadata": {},
     "output_type": "execute_result"
    }
   ],
   "source": [
    "rating.dtypes"
   ]
  },
  {
   "cell_type": "markdown",
   "metadata": {},
   "source": [
    "###### Check for Missing Values"
   ]
  },
  {
   "cell_type": "code",
   "execution_count": 9,
   "metadata": {},
   "outputs": [
    {
     "data": {
      "text/plain": [
       "userId       0\n",
       "movieId      0\n",
       "rating       0\n",
       "timestamp    0\n",
       "title        0\n",
       "genres       0\n",
       "dtype: int64"
      ]
     },
     "execution_count": 9,
     "metadata": {},
     "output_type": "execute_result"
    }
   ],
   "source": [
    "rating.isnull().sum()"
   ]
  },
  {
   "cell_type": "code",
   "execution_count": 10,
   "metadata": {},
   "outputs": [
    {
     "data": {
      "text/plain": [
       "array([  1,   2,   3,   4,   5,   6,   7,   8,   9,  10,  11,  12,  13,\n",
       "        14,  15,  16,  17,  18,  19,  20,  21,  22,  23,  24,  25,  26,\n",
       "        27,  28,  29,  30,  31,  32,  34,  35,  36,  37,  38,  39,  40,\n",
       "        41,  42,  43,  44,  45,  46,  47,  48,  49,  50,  52,  53,  54,\n",
       "        55,  57,  58,  59,  60,  61,  62,  63,  64,  65,  66,  68,  69,\n",
       "        70,  71,  72,  73,  74,  76,  77,  78,  79,  80,  81,  82,  83,\n",
       "        84,  85,  86,  87,  88,  89,  92,  93,  94,  95,  96,  97,  98,\n",
       "        99, 100, 101, 102, 103, 104, 105, 107, 108])"
      ]
     },
     "execution_count": 10,
     "metadata": {},
     "output_type": "execute_result"
    }
   ],
   "source": [
    "np.unique(rating.movieId.values)[0:100]"
   ]
  },
  {
   "cell_type": "code",
   "execution_count": 11,
   "metadata": {},
   "outputs": [
    {
     "data": {
      "text/plain": [
       "array(['(no genres listed)', 'Action', 'Action|Adventure',\n",
       "       'Action|Adventure|Animation',\n",
       "       'Action|Adventure|Animation|Children',\n",
       "       'Action|Adventure|Animation|Children|Comedy',\n",
       "       'Action|Adventure|Animation|Children|Comedy|Fantasy',\n",
       "       'Action|Adventure|Animation|Children|Comedy|IMAX',\n",
       "       'Action|Adventure|Animation|Children|Comedy|Romance',\n",
       "       'Action|Adventure|Animation|Children|Comedy|Sci-Fi'], dtype=object)"
      ]
     },
     "execution_count": 11,
     "metadata": {},
     "output_type": "execute_result"
    }
   ],
   "source": [
    "np.unique(rating.genres.values)[0:10]"
   ]
  },
  {
   "cell_type": "code",
   "execution_count": 12,
   "metadata": {},
   "outputs": [],
   "source": [
    "userid = rating.userId.cat.codes.values\n",
    "movieid = rating.movieId.cat.codes.values\n",
    "genreid = rating.genres.cat.codes.values"
   ]
  },
  {
   "cell_type": "code",
   "execution_count": 13,
   "metadata": {},
   "outputs": [
    {
     "data": {
      "text/plain": [
       "array([ 0,  1,  2,  3,  4,  5,  6,  7,  8,  9, 10, 11, 12, 13, 14, 15, 16,\n",
       "       17, 18, 19, 20, 21, 22, 23, 24, 25, 26, 27, 28, 29, 30, 31, 32, 33,\n",
       "       34, 35, 36, 37, 38, 39, 40, 41, 42, 43, 44, 45, 46, 47, 48, 49, 50,\n",
       "       51, 52, 53, 54, 55, 56, 57, 58, 59, 60, 61, 62, 63, 64, 65, 66, 67,\n",
       "       68, 69, 70, 71, 72, 73, 74, 75, 76, 77, 78, 79, 80, 81, 82, 83, 84,\n",
       "       85, 86, 87, 88, 89, 90, 91, 92, 93, 94, 95, 96, 97, 98, 99],\n",
       "      dtype=int16)"
      ]
     },
     "execution_count": 13,
     "metadata": {},
     "output_type": "execute_result"
    }
   ],
   "source": [
    "np.unique(genreid)[0:100]"
   ]
  },
  {
   "cell_type": "code",
   "execution_count": 14,
   "metadata": {},
   "outputs": [],
   "source": [
    "n_users = len(rating.userId.unique())\n",
    "n_movies = len(rating.movieId.unique())\n",
    "n_genres = len(rating.genres.unique())"
   ]
  },
  {
   "cell_type": "markdown",
   "metadata": {},
   "source": [
    "###### Adding Cat Code Values to original dataframe"
   ]
  },
  {
   "cell_type": "code",
   "execution_count": 15,
   "metadata": {},
   "outputs": [],
   "source": [
    "rating[\"userid_catcode\"]=userid\n",
    "rating[\"movieid_catcode\"]=movieid\n",
    "rating[\"genreid_catcode\"]=genreid"
   ]
  },
  {
   "cell_type": "code",
   "execution_count": 16,
   "metadata": {},
   "outputs": [],
   "source": [
    "embedding_dim = 50"
   ]
  },
  {
   "cell_type": "markdown",
   "metadata": {},
   "source": [
    "###### Define Metrics"
   ]
  },
  {
   "cell_type": "code",
   "execution_count": 17,
   "metadata": {},
   "outputs": [],
   "source": [
    "from keras import backend as K\n",
    "def mape_error(y_true, y_pred): \n",
    "    return K.mean((K.abs(y_pred - y_true)/y_true), axis=0) * 100"
   ]
  },
  {
   "cell_type": "code",
   "execution_count": 18,
   "metadata": {},
   "outputs": [],
   "source": [
    "def rmse_error(y_true, y_pred):\n",
    "        return K.sqrt(K.mean(K.square(y_pred - y_true), axis=0)) "
   ]
  },
  {
   "cell_type": "code",
   "execution_count": 19,
   "metadata": {},
   "outputs": [],
   "source": [
    "def mse_error(y_true, y_pred):\n",
    "        return K.mean(K.square(y_pred - y_true), axis=0) "
   ]
  },
  {
   "cell_type": "markdown",
   "metadata": {},
   "source": [
    "###### Split the data to Train and Test datasets"
   ]
  },
  {
   "cell_type": "code",
   "execution_count": 20,
   "metadata": {},
   "outputs": [],
   "source": [
    "train_userid, test_userid, \\\n",
    "train_movieid, test_movieid, \\\n",
    "train_genreid, test_genreid, \\\n",
    "train_y, test_y = train_test_split(userid,\n",
    "                                   movieid, \n",
    "                                   genreid,\n",
    "                                   rating.rating, \n",
    "                                   test_size=0.3, random_state=2)"
   ]
  },
  {
   "cell_type": "code",
   "execution_count": 21,
   "metadata": {},
   "outputs": [
    {
     "data": {
      "text/plain": [
       "(70002,)"
      ]
     },
     "execution_count": 21,
     "metadata": {},
     "output_type": "execute_result"
    }
   ],
   "source": [
    "train_y.shape"
   ]
  },
  {
   "cell_type": "code",
   "execution_count": 22,
   "metadata": {
    "scrolled": true
   },
   "outputs": [
    {
     "name": "stderr",
     "output_type": "stream",
     "text": [
      "/nfsroot/data/home/vivekb/.local/lib/python2.7/site-packages/ipykernel_launcher.py:1: FutureWarning: reshape is deprecated and will raise in a subsequent release. Please use .values.reshape(...) instead\n",
      "  \"\"\"Entry point for launching an IPython kernel.\n",
      "/nfsroot/data/home/vivekb/.local/lib/python2.7/site-packages/ipykernel_launcher.py:2: FutureWarning: reshape is deprecated and will raise in a subsequent release. Please use .values.reshape(...) instead\n",
      "  \n"
     ]
    }
   ],
   "source": [
    "train_y = train_y.reshape((-1,1))\n",
    "test_y = test_y.reshape((-1,1))"
   ]
  },
  {
   "cell_type": "code",
   "execution_count": 23,
   "metadata": {},
   "outputs": [
    {
     "data": {
      "text/plain": [
       "array([[4.5],\n",
       "       [3. ],\n",
       "       [1. ],\n",
       "       [5. ],\n",
       "       [4. ],\n",
       "       [2.5],\n",
       "       [2. ],\n",
       "       [2. ],\n",
       "       [2. ],\n",
       "       [5. ]])"
      ]
     },
     "execution_count": 23,
     "metadata": {},
     "output_type": "execute_result"
    }
   ],
   "source": [
    "train_y.shape\n",
    "train_y[0:10]"
   ]
  },
  {
   "cell_type": "markdown",
   "metadata": {},
   "source": [
    "###### Embedding UserIds"
   ]
  },
  {
   "cell_type": "code",
   "execution_count": 24,
   "metadata": {},
   "outputs": [],
   "source": [
    "encoder_UserID = Sequential()\n",
    "encoder_UserID.add(Embedding(n_users, embedding_dim, input_length=1,embeddings_regularizer=regularizers.l2(0.00001)))"
   ]
  },
  {
   "cell_type": "markdown",
   "metadata": {},
   "source": [
    "###### Embedding MovieIds"
   ]
  },
  {
   "cell_type": "code",
   "execution_count": 25,
   "metadata": {},
   "outputs": [],
   "source": [
    "encoder_MovieID = Sequential()\n",
    "encoder_MovieID.add(Embedding(n_movies, embedding_dim, input_length=1,embeddings_regularizer=regularizers.l2(0.00001)))"
   ]
  },
  {
   "cell_type": "markdown",
   "metadata": {},
   "source": [
    "###### Embedding Genreids"
   ]
  },
  {
   "cell_type": "code",
   "execution_count": 26,
   "metadata": {},
   "outputs": [],
   "source": [
    "encoder_genreID = Sequential()\n",
    "encoder_genreID.add(Embedding(n_genres, embedding_dim, input_length=1,embeddings_regularizer=regularizers.l2(0.00001)))\n"
   ]
  },
  {
   "cell_type": "markdown",
   "metadata": {},
   "source": [
    "##### Define MLP "
   ]
  },
  {
   "cell_type": "code",
   "execution_count": 27,
   "metadata": {},
   "outputs": [],
   "source": [
    "user_inp = Input(shape=(1, ))\n",
    "user_mbd = Embedding(n_users, embedding_dim)(user_inp)\n",
    "\n",
    "movie_inp = Input(shape=(1, ))\n",
    "movie_mbd = Embedding(n_movies, embedding_dim)(movie_inp)\n",
    "\n",
    "genre_inp = Input(shape=(1, ))\n",
    "genre_mbd = Embedding(n_genres, embedding_dim)(genre_inp)\n",
    "\n",
    "merged = concatenate([user_mbd, movie_mbd, genre_mbd])\n",
    "fc1 = Dense(100,activation='relu')(merged)\n",
    "fc2 = Dense(1)(fc1)\n",
    "\n",
    "model = Model(inputs=[user_inp, movie_inp, genre_inp], outputs=fc2)\n",
    "model.compile(optimizer='adam', loss='mse', metrics=[mse_error,rmse_error])"
   ]
  },
  {
   "cell_type": "markdown",
   "metadata": {},
   "source": [
    "###### Train and fit the model"
   ]
  },
  {
   "cell_type": "code",
   "execution_count": 28,
   "metadata": {},
   "outputs": [
    {
     "name": "stdout",
     "output_type": "stream",
     "text": [
      "__________________________________________________________________________________________________\n",
      "Layer (type)                    Output Shape         Param #     Connected to                     \n",
      "==================================================================================================\n",
      "input_1 (InputLayer)            (None, 1)            0                                            \n",
      "__________________________________________________________________________________________________\n",
      "input_2 (InputLayer)            (None, 1)            0                                            \n",
      "__________________________________________________________________________________________________\n",
      "input_3 (InputLayer)            (None, 1)            0                                            \n",
      "__________________________________________________________________________________________________\n",
      "embedding_4 (Embedding)         (None, 1, 50)        33550       input_1[0][0]                    \n",
      "__________________________________________________________________________________________________\n",
      "embedding_5 (Embedding)         (None, 1, 50)        453300      input_2[0][0]                    \n",
      "__________________________________________________________________________________________________\n",
      "embedding_6 (Embedding)         (None, 1, 50)        45050       input_3[0][0]                    \n",
      "__________________________________________________________________________________________________\n",
      "concatenate_1 (Concatenate)     (None, 1, 150)       0           embedding_4[0][0]                \n",
      "                                                                 embedding_5[0][0]                \n",
      "                                                                 embedding_6[0][0]                \n",
      "__________________________________________________________________________________________________\n",
      "dense_1 (Dense)                 (None, 1, 100)       15100       concatenate_1[0][0]              \n",
      "__________________________________________________________________________________________________\n",
      "dense_2 (Dense)                 (None, 1, 1)         101         dense_1[0][0]                    \n",
      "==================================================================================================\n",
      "Total params: 547,101\n",
      "Trainable params: 547,101\n",
      "Non-trainable params: 0\n",
      "__________________________________________________________________________________________________\n"
     ]
    }
   ],
   "source": [
    "model.summary()"
   ]
  },
  {
   "cell_type": "code",
   "execution_count": 29,
   "metadata": {},
   "outputs": [
    {
     "name": "stdout",
     "output_type": "stream",
     "text": [
      "Train on 70002 samples, validate on 30002 samples\n",
      "Epoch 1/100\n",
      "70002/70002 [==============================] - 5s 78us/step - loss: 4.1781 - mse_error: 4.1781 - rmse_error: 1.7631 - val_loss: 0.8401 - val_mse_error: 0.8401 - val_rmse_error: 0.9159\n",
      "Epoch 2/100\n",
      "70002/70002 [==============================] - 1s 10us/step - loss: 0.7828 - mse_error: 0.7828 - rmse_error: 0.8840 - val_loss: 0.8005 - val_mse_error: 0.8005 - val_rmse_error: 0.8940\n",
      "Epoch 3/100\n",
      "70002/70002 [==============================] - 1s 9us/step - loss: 0.7366 - mse_error: 0.7366 - rmse_error: 0.8574 - val_loss: 0.8040 - val_mse_error: 0.8040 - val_rmse_error: 0.8959\n",
      "Epoch 4/100\n",
      "70002/70002 [==============================] - 1s 10us/step - loss: 0.7184 - mse_error: 0.7184 - rmse_error: 0.8469 - val_loss: 0.8029 - val_mse_error: 0.8029 - val_rmse_error: 0.8954\n",
      "Epoch 5/100\n",
      "70002/70002 [==============================] - 1s 10us/step - loss: 0.7103 - mse_error: 0.7103 - rmse_error: 0.8421 - val_loss: 0.8086 - val_mse_error: 0.8086 - val_rmse_error: 0.8984\n",
      "Epoch 6/100\n",
      "70002/70002 [==============================] - 1s 10us/step - loss: 0.7029 - mse_error: 0.7029 - rmse_error: 0.8376 - val_loss: 0.8122 - val_mse_error: 0.8122 - val_rmse_error: 0.9005\n",
      "Epoch 7/100\n",
      "70002/70002 [==============================] - 1s 9us/step - loss: 0.7015 - mse_error: 0.7015 - rmse_error: 0.8369 - val_loss: 0.8084 - val_mse_error: 0.8084 - val_rmse_error: 0.8984\n",
      "Epoch 8/100\n",
      "70002/70002 [==============================] - 1s 9us/step - loss: 0.6962 - mse_error: 0.6962 - rmse_error: 0.8337 - val_loss: 0.8168 - val_mse_error: 0.8168 - val_rmse_error: 0.9030\n",
      "Epoch 9/100\n",
      "70002/70002 [==============================] - 1s 9us/step - loss: 0.6959 - mse_error: 0.6959 - rmse_error: 0.8336 - val_loss: 0.8154 - val_mse_error: 0.8154 - val_rmse_error: 0.9022\n",
      "Epoch 10/100\n",
      "70002/70002 [==============================] - 1s 10us/step - loss: 0.6930 - mse_error: 0.6930 - rmse_error: 0.8318 - val_loss: 0.8072 - val_mse_error: 0.8072 - val_rmse_error: 0.8977\n",
      "Epoch 11/100\n",
      "70002/70002 [==============================] - 1s 9us/step - loss: 0.6866 - mse_error: 0.6866 - rmse_error: 0.8279 - val_loss: 0.8091 - val_mse_error: 0.8091 - val_rmse_error: 0.8987\n",
      "Epoch 12/100\n",
      "70002/70002 [==============================] - 1s 9us/step - loss: 0.6825 - mse_error: 0.6825 - rmse_error: 0.8256 - val_loss: 0.8154 - val_mse_error: 0.8154 - val_rmse_error: 0.9023\n",
      "Epoch 13/100\n",
      "70002/70002 [==============================] - 1s 8us/step - loss: 0.6826 - mse_error: 0.6826 - rmse_error: 0.8256 - val_loss: 0.8036 - val_mse_error: 0.8036 - val_rmse_error: 0.8956\n",
      "Epoch 14/100\n",
      "70002/70002 [==============================] - 1s 8us/step - loss: 0.6719 - mse_error: 0.6719 - rmse_error: 0.8189 - val_loss: 0.8070 - val_mse_error: 0.8070 - val_rmse_error: 0.8976\n",
      "Epoch 15/100\n",
      "70002/70002 [==============================] - 1s 8us/step - loss: 0.6683 - mse_error: 0.6683 - rmse_error: 0.8170 - val_loss: 0.8019 - val_mse_error: 0.8019 - val_rmse_error: 0.8946\n",
      "Epoch 16/100\n",
      "70002/70002 [==============================] - 1s 9us/step - loss: 0.6576 - mse_error: 0.6576 - rmse_error: 0.8103 - val_loss: 0.7962 - val_mse_error: 0.7962 - val_rmse_error: 0.8915\n",
      "Epoch 17/100\n",
      "70002/70002 [==============================] - 1s 9us/step - loss: 0.6476 - mse_error: 0.6476 - rmse_error: 0.8039 - val_loss: 0.8107 - val_mse_error: 0.8107 - val_rmse_error: 0.8995\n",
      "Epoch 18/100\n",
      "70002/70002 [==============================] - 1s 8us/step - loss: 0.6467 - mse_error: 0.6467 - rmse_error: 0.8035 - val_loss: 0.7991 - val_mse_error: 0.7991 - val_rmse_error: 0.8931\n",
      "Epoch 19/100\n",
      "70002/70002 [==============================] - 1s 8us/step - loss: 0.6325 - mse_error: 0.6325 - rmse_error: 0.7946 - val_loss: 0.8019 - val_mse_error: 0.8019 - val_rmse_error: 0.8947\n",
      "Epoch 20/100\n",
      "70002/70002 [==============================] - 1s 9us/step - loss: 0.6276 - mse_error: 0.6276 - rmse_error: 0.7916 - val_loss: 0.8065 - val_mse_error: 0.8065 - val_rmse_error: 0.8973\n",
      "Epoch 21/100\n",
      "70002/70002 [==============================] - 1s 9us/step - loss: 0.6218 - mse_error: 0.6218 - rmse_error: 0.7879 - val_loss: 0.8145 - val_mse_error: 0.8145 - val_rmse_error: 0.9017\n",
      "Epoch 22/100\n",
      "70002/70002 [==============================] - 1s 8us/step - loss: 0.6158 - mse_error: 0.6158 - rmse_error: 0.7839 - val_loss: 0.8159 - val_mse_error: 0.8159 - val_rmse_error: 0.9025\n",
      "Epoch 23/100\n",
      "70002/70002 [==============================] - 1s 9us/step - loss: 0.6103 - mse_error: 0.6103 - rmse_error: 0.7807 - val_loss: 0.8162 - val_mse_error: 0.8162 - val_rmse_error: 0.9026\n",
      "Epoch 24/100\n",
      "70002/70002 [==============================] - 1s 9us/step - loss: 0.6022 - mse_error: 0.6022 - rmse_error: 0.7754 - val_loss: 0.8177 - val_mse_error: 0.8177 - val_rmse_error: 0.9035\n",
      "Epoch 25/100\n",
      "70002/70002 [==============================] - 1s 8us/step - loss: 0.5959 - mse_error: 0.5959 - rmse_error: 0.7711 - val_loss: 0.8211 - val_mse_error: 0.8211 - val_rmse_error: 0.9054\n",
      "Epoch 26/100\n",
      "70002/70002 [==============================] - 0s 7us/step - loss: 0.5897 - mse_error: 0.5897 - rmse_error: 0.7673 - val_loss: 0.8263 - val_mse_error: 0.8263 - val_rmse_error: 0.9083\n",
      "Epoch 27/100\n",
      "70002/70002 [==============================] - 1s 8us/step - loss: 0.5813 - mse_error: 0.5813 - rmse_error: 0.7615 - val_loss: 0.8354 - val_mse_error: 0.8354 - val_rmse_error: 0.9133\n",
      "Epoch 28/100\n",
      "70002/70002 [==============================] - 1s 8us/step - loss: 0.5741 - mse_error: 0.5741 - rmse_error: 0.7569 - val_loss: 0.8421 - val_mse_error: 0.8421 - val_rmse_error: 0.9170\n",
      "Epoch 29/100\n",
      "70002/70002 [==============================] - 1s 8us/step - loss: 0.5622 - mse_error: 0.5622 - rmse_error: 0.7491 - val_loss: 0.8523 - val_mse_error: 0.8523 - val_rmse_error: 0.9226\n",
      "Epoch 30/100\n",
      "70002/70002 [==============================] - 1s 7us/step - loss: 0.5544 - mse_error: 0.5544 - rmse_error: 0.7438 - val_loss: 0.8572 - val_mse_error: 0.8572 - val_rmse_error: 0.9252\n",
      "Epoch 31/100\n",
      "70002/70002 [==============================] - 1s 9us/step - loss: 0.5486 - mse_error: 0.5486 - rmse_error: 0.7399 - val_loss: 0.8585 - val_mse_error: 0.8585 - val_rmse_error: 0.9260\n",
      "Epoch 32/100\n",
      "70002/70002 [==============================] - 1s 9us/step - loss: 0.5365 - mse_error: 0.5365 - rmse_error: 0.7317 - val_loss: 0.8568 - val_mse_error: 0.8568 - val_rmse_error: 0.9251\n",
      "Epoch 33/100\n",
      "70002/70002 [==============================] - 1s 9us/step - loss: 0.5274 - mse_error: 0.5274 - rmse_error: 0.7255 - val_loss: 0.8729 - val_mse_error: 0.8729 - val_rmse_error: 0.9337\n",
      "Epoch 34/100\n",
      "70002/70002 [==============================] - 1s 9us/step - loss: 0.5182 - mse_error: 0.5182 - rmse_error: 0.7191 - val_loss: 0.8744 - val_mse_error: 0.8744 - val_rmse_error: 0.9344\n",
      "Epoch 35/100\n",
      "70002/70002 [==============================] - 1s 8us/step - loss: 0.5138 - mse_error: 0.5138 - rmse_error: 0.7161 - val_loss: 0.8943 - val_mse_error: 0.8943 - val_rmse_error: 0.9452\n",
      "Epoch 36/100\n",
      "70002/70002 [==============================] - 1s 9us/step - loss: 0.5116 - mse_error: 0.5116 - rmse_error: 0.7146 - val_loss: 0.8855 - val_mse_error: 0.8855 - val_rmse_error: 0.9404\n",
      "Epoch 37/100\n",
      "70002/70002 [==============================] - 1s 9us/step - loss: 0.4930 - mse_error: 0.4930 - rmse_error: 0.7015 - val_loss: 0.8840 - val_mse_error: 0.8840 - val_rmse_error: 0.9396\n",
      "Epoch 38/100\n",
      "70002/70002 [==============================] - 1s 9us/step - loss: 0.4839 - mse_error: 0.4839 - rmse_error: 0.6948 - val_loss: 0.9147 - val_mse_error: 0.9147 - val_rmse_error: 0.9557\n",
      "Epoch 39/100\n",
      "70002/70002 [==============================] - 1s 9us/step - loss: 0.4780 - mse_error: 0.4780 - rmse_error: 0.6907 - val_loss: 0.9233 - val_mse_error: 0.9233 - val_rmse_error: 0.9602\n",
      "Epoch 40/100\n",
      "70002/70002 [==============================] - 1s 8us/step - loss: 0.4699 - mse_error: 0.4699 - rmse_error: 0.6848 - val_loss: 0.9070 - val_mse_error: 0.9070 - val_rmse_error: 0.9517\n",
      "Epoch 41/100\n",
      "70002/70002 [==============================] - 1s 8us/step - loss: 0.4584 - mse_error: 0.4584 - rmse_error: 0.6763 - val_loss: 0.9139 - val_mse_error: 0.9139 - val_rmse_error: 0.9554\n",
      "Epoch 42/100\n",
      "70002/70002 [==============================] - 1s 8us/step - loss: 0.4510 - mse_error: 0.4510 - rmse_error: 0.6708 - val_loss: 0.9138 - val_mse_error: 0.9138 - val_rmse_error: 0.9553\n",
      "Epoch 43/100\n",
      "70002/70002 [==============================] - 1s 8us/step - loss: 0.4383 - mse_error: 0.4383 - rmse_error: 0.6613 - val_loss: 0.9493 - val_mse_error: 0.9493 - val_rmse_error: 0.9737\n",
      "Epoch 44/100\n",
      "70002/70002 [==============================] - 1s 8us/step - loss: 0.4377 - mse_error: 0.4377 - rmse_error: 0.6610 - val_loss: 0.9321 - val_mse_error: 0.9321 - val_rmse_error: 0.9648\n",
      "Epoch 45/100\n",
      "70002/70002 [==============================] - 1s 9us/step - loss: 0.4208 - mse_error: 0.4208 - rmse_error: 0.6480 - val_loss: 0.9400 - val_mse_error: 0.9400 - val_rmse_error: 0.9689\n",
      "Epoch 46/100\n",
      "70002/70002 [==============================] - 1s 10us/step - loss: 0.4129 - mse_error: 0.4129 - rmse_error: 0.6421 - val_loss: 0.9852 - val_mse_error: 0.9852 - val_rmse_error: 0.9919\n",
      "Epoch 47/100\n",
      "70002/70002 [==============================] - 1s 9us/step - loss: 0.4236 - mse_error: 0.4236 - rmse_error: 0.6496 - val_loss: 0.9391 - val_mse_error: 0.9391 - val_rmse_error: 0.9685\n",
      "Epoch 48/100\n",
      "70002/70002 [==============================] - 1s 8us/step - loss: 0.3945 - mse_error: 0.3945 - rmse_error: 0.6273 - val_loss: 0.9540 - val_mse_error: 0.9540 - val_rmse_error: 0.9761\n",
      "Epoch 49/100\n",
      "70002/70002 [==============================] - 1s 9us/step - loss: 0.3822 - mse_error: 0.3822 - rmse_error: 0.6176 - val_loss: 0.9688 - val_mse_error: 0.9688 - val_rmse_error: 0.9836\n",
      "Epoch 50/100\n",
      "70002/70002 [==============================] - 1s 8us/step - loss: 0.3803 - mse_error: 0.3803 - rmse_error: 0.6161 - val_loss: 0.9671 - val_mse_error: 0.9671 - val_rmse_error: 0.9828\n",
      "Epoch 51/100\n",
      "70002/70002 [==============================] - 1s 10us/step - loss: 0.3663 - mse_error: 0.3663 - rmse_error: 0.6045 - val_loss: 0.9748 - val_mse_error: 0.9748 - val_rmse_error: 0.9867\n",
      "Epoch 52/100\n",
      "70002/70002 [==============================] - 1s 9us/step - loss: 0.3582 - mse_error: 0.3582 - rmse_error: 0.5979 - val_loss: 0.9780 - val_mse_error: 0.9780 - val_rmse_error: 0.9883\n",
      "Epoch 53/100\n",
      "70002/70002 [==============================] - 1s 8us/step - loss: 0.3471 - mse_error: 0.3471 - rmse_error: 0.5884 - val_loss: 0.9860 - val_mse_error: 0.9860 - val_rmse_error: 0.9923\n",
      "Epoch 54/100\n",
      "70002/70002 [==============================] - 1s 9us/step - loss: 0.3407 - mse_error: 0.3407 - rmse_error: 0.5830 - val_loss: 0.9948 - val_mse_error: 0.9948 - val_rmse_error: 0.9968\n",
      "Epoch 55/100\n",
      "70002/70002 [==============================] - 1s 8us/step - loss: 0.3341 - mse_error: 0.3341 - rmse_error: 0.5775 - val_loss: 1.0370 - val_mse_error: 1.0370 - val_rmse_error: 1.0177\n",
      "Epoch 56/100\n",
      "70002/70002 [==============================] - 1s 8us/step - loss: 0.3354 - mse_error: 0.3354 - rmse_error: 0.5785 - val_loss: 1.0090 - val_mse_error: 1.0090 - val_rmse_error: 1.0038\n",
      "Epoch 57/100\n",
      "70002/70002 [==============================] - 1s 8us/step - loss: 0.3247 - mse_error: 0.3247 - rmse_error: 0.5692 - val_loss: 1.0173 - val_mse_error: 1.0173 - val_rmse_error: 1.0080\n",
      "Epoch 58/100\n",
      "70002/70002 [==============================] - 1s 9us/step - loss: 0.3082 - mse_error: 0.3082 - rmse_error: 0.5544 - val_loss: 1.0296 - val_mse_error: 1.0296 - val_rmse_error: 1.0140\n",
      "Epoch 59/100\n",
      "70002/70002 [==============================] - 1s 7us/step - loss: 0.3028 - mse_error: 0.3028 - rmse_error: 0.5496 - val_loss: 1.0356 - val_mse_error: 1.0356 - val_rmse_error: 1.0170\n",
      "Epoch 60/100\n",
      "70002/70002 [==============================] - 0s 7us/step - loss: 0.2946 - mse_error: 0.2946 - rmse_error: 0.5420 - val_loss: 1.0631 - val_mse_error: 1.0631 - val_rmse_error: 1.0304\n",
      "Epoch 61/100\n",
      "70002/70002 [==============================] - 1s 8us/step - loss: 0.2908 - mse_error: 0.2908 - rmse_error: 0.5388 - val_loss: 1.0630 - val_mse_error: 1.0630 - val_rmse_error: 1.0303\n",
      "Epoch 62/100\n",
      "70002/70002 [==============================] - 0s 7us/step - loss: 0.2802 - mse_error: 0.2802 - rmse_error: 0.5288 - val_loss: 1.0591 - val_mse_error: 1.0591 - val_rmse_error: 1.0284\n",
      "Epoch 63/100\n",
      "70002/70002 [==============================] - 1s 8us/step - loss: 0.2759 - mse_error: 0.2759 - rmse_error: 0.5247 - val_loss: 1.0589 - val_mse_error: 1.0589 - val_rmse_error: 1.0283\n",
      "Epoch 64/100\n",
      "70002/70002 [==============================] - 1s 8us/step - loss: 0.2648 - mse_error: 0.2648 - rmse_error: 0.5139 - val_loss: 1.0685 - val_mse_error: 1.0685 - val_rmse_error: 1.0330\n",
      "Epoch 65/100\n",
      "70002/70002 [==============================] - 1s 8us/step - loss: 0.2553 - mse_error: 0.2553 - rmse_error: 0.5046 - val_loss: 1.0804 - val_mse_error: 1.0804 - val_rmse_error: 1.0387\n",
      "Epoch 66/100\n",
      "70002/70002 [==============================] - 1s 9us/step - loss: 0.2501 - mse_error: 0.2501 - rmse_error: 0.4994 - val_loss: 1.0901 - val_mse_error: 1.0901 - val_rmse_error: 1.0434\n",
      "Epoch 67/100\n",
      "70002/70002 [==============================] - 1s 9us/step - loss: 0.2437 - mse_error: 0.2437 - rmse_error: 0.4931 - val_loss: 1.0936 - val_mse_error: 1.0936 - val_rmse_error: 1.0451\n",
      "Epoch 68/100\n",
      "70002/70002 [==============================] - 1s 10us/step - loss: 0.2387 - mse_error: 0.2387 - rmse_error: 0.4880 - val_loss: 1.1305 - val_mse_error: 1.1305 - val_rmse_error: 1.0626\n",
      "Epoch 69/100\n",
      "70002/70002 [==============================] - 1s 10us/step - loss: 0.2329 - mse_error: 0.2329 - rmse_error: 0.4819 - val_loss: 1.1543 - val_mse_error: 1.1543 - val_rmse_error: 1.0737\n",
      "Epoch 70/100\n",
      "70002/70002 [==============================] - 1s 9us/step - loss: 0.2423 - mse_error: 0.2423 - rmse_error: 0.4912 - val_loss: 1.1082 - val_mse_error: 1.1082 - val_rmse_error: 1.0520\n",
      "Epoch 71/100\n",
      "70002/70002 [==============================] - 1s 8us/step - loss: 0.2205 - mse_error: 0.2205 - rmse_error: 0.4688 - val_loss: 1.1195 - val_mse_error: 1.1195 - val_rmse_error: 1.0574\n",
      "Epoch 72/100\n",
      "70002/70002 [==============================] - 1s 9us/step - loss: 0.2104 - mse_error: 0.2104 - rmse_error: 0.4579 - val_loss: 1.1328 - val_mse_error: 1.1328 - val_rmse_error: 1.0637\n",
      "Epoch 73/100\n",
      "70002/70002 [==============================] - 1s 8us/step - loss: 0.2083 - mse_error: 0.2083 - rmse_error: 0.4558 - val_loss: 1.1567 - val_mse_error: 1.1567 - val_rmse_error: 1.0748\n",
      "Epoch 74/100\n",
      "70002/70002 [==============================] - 1s 8us/step - loss: 0.2059 - mse_error: 0.2059 - rmse_error: 0.4532 - val_loss: 1.1543 - val_mse_error: 1.1543 - val_rmse_error: 1.0737\n",
      "Epoch 75/100\n",
      "70002/70002 [==============================] - 1s 8us/step - loss: 0.1966 - mse_error: 0.1966 - rmse_error: 0.4428 - val_loss: 1.1501 - val_mse_error: 1.1501 - val_rmse_error: 1.0717\n",
      "Epoch 76/100\n",
      "70002/70002 [==============================] - 1s 8us/step - loss: 0.1930 - mse_error: 0.1930 - rmse_error: 0.4387 - val_loss: 1.1570 - val_mse_error: 1.1570 - val_rmse_error: 1.0750\n",
      "Epoch 77/100\n",
      "70002/70002 [==============================] - 1s 9us/step - loss: 0.1842 - mse_error: 0.1842 - rmse_error: 0.4285 - val_loss: 1.1714 - val_mse_error: 1.1714 - val_rmse_error: 1.0816\n",
      "Epoch 78/100\n",
      "70002/70002 [==============================] - 1s 8us/step - loss: 0.1786 - mse_error: 0.1786 - rmse_error: 0.4219 - val_loss: 1.2006 - val_mse_error: 1.2006 - val_rmse_error: 1.0950\n",
      "Epoch 79/100\n",
      "70002/70002 [==============================] - 1s 8us/step - loss: 0.1837 - mse_error: 0.1837 - rmse_error: 0.4279 - val_loss: 1.1858 - val_mse_error: 1.1858 - val_rmse_error: 1.0883\n",
      "Epoch 80/100\n",
      "70002/70002 [==============================] - 1s 8us/step - loss: 0.1745 - mse_error: 0.1745 - rmse_error: 0.4172 - val_loss: 1.1921 - val_mse_error: 1.1921 - val_rmse_error: 1.0912\n",
      "Epoch 81/100\n",
      "70002/70002 [==============================] - 1s 9us/step - loss: 0.1714 - mse_error: 0.1714 - rmse_error: 0.4132 - val_loss: 1.1967 - val_mse_error: 1.1967 - val_rmse_error: 1.0933\n",
      "Epoch 82/100\n",
      "70002/70002 [==============================] - 1s 8us/step - loss: 0.1637 - mse_error: 0.1637 - rmse_error: 0.4038 - val_loss: 1.2078 - val_mse_error: 1.2078 - val_rmse_error: 1.0983\n",
      "Epoch 83/100\n",
      "70002/70002 [==============================] - 1s 8us/step - loss: 0.1630 - mse_error: 0.1630 - rmse_error: 0.4031 - val_loss: 1.2070 - val_mse_error: 1.2070 - val_rmse_error: 1.0980\n"
     ]
    },
    {
     "name": "stdout",
     "output_type": "stream",
     "text": [
      "Epoch 84/100\n",
      "70002/70002 [==============================] - 1s 8us/step - loss: 0.1567 - mse_error: 0.1567 - rmse_error: 0.3952 - val_loss: 1.2223 - val_mse_error: 1.2223 - val_rmse_error: 1.1049\n",
      "Epoch 85/100\n",
      "70002/70002 [==============================] - 1s 9us/step - loss: 0.1534 - mse_error: 0.1534 - rmse_error: 0.3910 - val_loss: 1.2373 - val_mse_error: 1.2373 - val_rmse_error: 1.1116\n",
      "Epoch 86/100\n",
      "70002/70002 [==============================] - 1s 8us/step - loss: 0.1561 - mse_error: 0.1561 - rmse_error: 0.3946 - val_loss: 1.2370 - val_mse_error: 1.2370 - val_rmse_error: 1.1115\n",
      "Epoch 87/100\n",
      "70002/70002 [==============================] - 1s 9us/step - loss: 0.1582 - mse_error: 0.1582 - rmse_error: 0.3972 - val_loss: 1.2421 - val_mse_error: 1.2421 - val_rmse_error: 1.1138\n",
      "Epoch 88/100\n",
      "70002/70002 [==============================] - 1s 8us/step - loss: 0.1509 - mse_error: 0.1509 - rmse_error: 0.3879 - val_loss: 1.2367 - val_mse_error: 1.2367 - val_rmse_error: 1.1114\n",
      "Epoch 89/100\n",
      "70002/70002 [==============================] - 1s 9us/step - loss: 0.1409 - mse_error: 0.1409 - rmse_error: 0.3746 - val_loss: 1.2463 - val_mse_error: 1.2463 - val_rmse_error: 1.1158\n",
      "Epoch 90/100\n",
      "70002/70002 [==============================] - 1s 9us/step - loss: 0.1405 - mse_error: 0.1405 - rmse_error: 0.3743 - val_loss: 1.2566 - val_mse_error: 1.2566 - val_rmse_error: 1.1204\n",
      "Epoch 91/100\n",
      "70002/70002 [==============================] - 1s 9us/step - loss: 0.1381 - mse_error: 0.1381 - rmse_error: 0.3710 - val_loss: 1.2596 - val_mse_error: 1.2596 - val_rmse_error: 1.1216\n",
      "Epoch 92/100\n",
      "70002/70002 [==============================] - 1s 9us/step - loss: 0.1354 - mse_error: 0.1354 - rmse_error: 0.3673 - val_loss: 1.2625 - val_mse_error: 1.2625 - val_rmse_error: 1.1230\n",
      "Epoch 93/100\n",
      "70002/70002 [==============================] - 1s 8us/step - loss: 0.1299 - mse_error: 0.1299 - rmse_error: 0.3598 - val_loss: 1.2681 - val_mse_error: 1.2681 - val_rmse_error: 1.1253\n",
      "Epoch 94/100\n",
      "70002/70002 [==============================] - 1s 9us/step - loss: 0.1297 - mse_error: 0.1297 - rmse_error: 0.3596 - val_loss: 1.3071 - val_mse_error: 1.3071 - val_rmse_error: 1.1426\n",
      "Epoch 95/100\n",
      "70002/70002 [==============================] - 1s 9us/step - loss: 0.1340 - mse_error: 0.1340 - rmse_error: 0.3652 - val_loss: 1.2795 - val_mse_error: 1.2795 - val_rmse_error: 1.1305\n",
      "Epoch 96/100\n",
      "70002/70002 [==============================] - 1s 9us/step - loss: 0.1254 - mse_error: 0.1254 - rmse_error: 0.3536 - val_loss: 1.2897 - val_mse_error: 1.2897 - val_rmse_error: 1.1350\n",
      "Epoch 97/100\n",
      "70002/70002 [==============================] - 1s 9us/step - loss: 0.1293 - mse_error: 0.1293 - rmse_error: 0.3588 - val_loss: 1.2835 - val_mse_error: 1.2835 - val_rmse_error: 1.1322\n",
      "Epoch 98/100\n",
      "70002/70002 [==============================] - 1s 9us/step - loss: 0.1191 - mse_error: 0.1191 - rmse_error: 0.3444 - val_loss: 1.2964 - val_mse_error: 1.2964 - val_rmse_error: 1.1379\n",
      "Epoch 99/100\n",
      "70002/70002 [==============================] - 1s 7us/step - loss: 0.1261 - mse_error: 0.1261 - rmse_error: 0.3545 - val_loss: 1.2937 - val_mse_error: 1.2937 - val_rmse_error: 1.1368\n",
      "Epoch 100/100\n",
      "70002/70002 [==============================] - 1s 7us/step - loss: 0.1177 - mse_error: 0.1177 - rmse_error: 0.3424 - val_loss: 1.2928 - val_mse_error: 1.2928 - val_rmse_error: 1.1364\n"
     ]
    },
    {
     "data": {
      "text/plain": [
       "<keras.callbacks.History at 0x8e7bd50>"
      ]
     },
     "execution_count": 29,
     "metadata": {},
     "output_type": "execute_result"
    }
   ],
   "source": [
    "model.fit([train_userid,train_movieid,train_genreid], train_y.reshape(-1,1,1), epochs=100, verbose=1,batch_size=500,validation_data=([test_userid,test_movieid,test_genreid], test_y.reshape(-1,1,1)))"
   ]
  },
  {
   "cell_type": "markdown",
   "metadata": {},
   "source": [
    "###### Evaluating Scores Manually"
   ]
  },
  {
   "cell_type": "code",
   "execution_count": 30,
   "metadata": {},
   "outputs": [
    {
     "name": "stdout",
     "output_type": "stream",
     "text": [
      "30002/30002 [==============================] - 1s 32us/step\n",
      "[1.2928255820987973, 1.2928255820987973, 1.1235705148251118]\n"
     ]
    }
   ],
   "source": [
    "scores= model.evaluate([test_userid,test_movieid,test_genreid],test_y.reshape(-1,1,1))\n",
    "print(scores)"
   ]
  },
  {
   "cell_type": "code",
   "execution_count": 31,
   "metadata": {},
   "outputs": [],
   "source": [
    "test_pred = model.predict([test_userid,test_movieid,test_genreid])\n"
   ]
  },
  {
   "cell_type": "code",
   "execution_count": 32,
   "metadata": {},
   "outputs": [
    {
     "name": "stdout",
     "output_type": "stream",
     "text": [
      "('mse_score:', 1.2928255815504432)\n"
     ]
    }
   ],
   "source": [
    "mse_score = np.mean(np.square(test_pred.reshape(-1,1) - test_y))\n",
    "print(\"mse_score:\",mse_score)"
   ]
  },
  {
   "cell_type": "markdown",
   "metadata": {},
   "source": [
    "###### Calculate MSE and RMSE Manually"
   ]
  },
  {
   "cell_type": "code",
   "execution_count": 33,
   "metadata": {},
   "outputs": [
    {
     "name": "stdout",
     "output_type": "stream",
     "text": [
      "('rmse_score:', 1.1370248816760533)\n"
     ]
    }
   ],
   "source": [
    "rmse_score = np.sqrt(np.mean(np.square(test_pred.reshape(-1,1) - test_y)))\n",
    "print(\"rmse_score:\",rmse_score)\n"
   ]
  },
  {
   "cell_type": "markdown",
   "metadata": {},
   "source": [
    "## Developing Recommendations"
   ]
  },
  {
   "cell_type": "markdown",
   "metadata": {},
   "source": [
    "###### Extracting/Predicting user embeddings"
   ]
  },
  {
   "cell_type": "code",
   "execution_count": 34,
   "metadata": {},
   "outputs": [],
   "source": [
    "encoder_UserID = Model(user_inp, user_mbd)\n",
    "encoder_MovieID = Model(movie_inp, movie_mbd)"
   ]
  },
  {
   "cell_type": "code",
   "execution_count": 35,
   "metadata": {},
   "outputs": [],
   "source": [
    "users_unique = np.unique(userid)\n",
    "users_embeddings=encoder_UserID.predict(users_unique)"
   ]
  },
  {
   "cell_type": "code",
   "execution_count": 36,
   "metadata": {},
   "outputs": [
    {
     "data": {
      "text/plain": [
       "array([[[-0.14086787,  0.00214148,  0.14849137, -0.08695845,\n",
       "         -0.11366415, -0.07536191,  0.03048269, -0.06757527,\n",
       "         -0.1380844 , -0.12848665,  0.00480648,  0.11459301,\n",
       "          0.05878794,  0.24983545,  0.03425464, -0.12878408,\n",
       "          0.03148203, -0.22421207, -0.02240596, -0.02806012,\n",
       "          0.00696475, -0.12247404,  0.00333499, -0.11658289,\n",
       "         -0.01340949,  0.03981587, -0.0359396 , -0.03208052,\n",
       "          0.08636633,  0.00800152, -0.01008686, -0.09014945,\n",
       "         -0.16228247,  0.04108253, -0.07639263,  0.01992039,\n",
       "         -0.04631804,  0.16495918,  0.09630899,  0.07973687,\n",
       "         -0.07512137,  0.01180911, -0.0308159 , -0.10517716,\n",
       "          0.1682747 ,  0.07351975, -0.09092321, -0.09659732,\n",
       "          0.12119636,  0.03509335]],\n",
       "\n",
       "       [[ 0.16984797,  0.3684395 , -0.03779903, -0.12919275,\n",
       "          0.3290781 , -0.22662263,  0.01810695,  0.137647  ,\n",
       "          0.31690207, -0.03722298, -0.03519651,  0.14700103,\n",
       "         -0.1648044 , -0.07016513,  0.22030507,  0.03643985,\n",
       "          0.08639974,  0.05625818, -0.07624728, -0.31176946,\n",
       "          0.09325613,  0.00135345, -0.11624324,  0.07328546,\n",
       "         -0.19390622,  0.0187019 , -0.03778925,  0.07508375,\n",
       "         -0.03923126,  0.05411693, -0.23681307,  0.04633869,\n",
       "          0.06741737,  0.17878577, -0.00690827,  0.05705759,\n",
       "         -0.06196732, -0.04095942,  0.03245608,  0.04709808,\n",
       "          0.05681719,  0.23067458,  0.0604158 , -0.08382687,\n",
       "          0.06191026, -0.05364248,  0.0330893 , -0.02581438,\n",
       "         -0.05186846, -0.23457235]],\n",
       "\n",
       "       [[ 0.18625899,  0.0860035 ,  0.01218915,  0.05532172,\n",
       "          0.2233429 ,  0.03650114, -0.07241884,  0.05379852,\n",
       "          0.10419661,  0.12344155, -0.13762578,  0.04785015,\n",
       "         -0.03086112,  0.07876202, -0.17766245,  0.30493897,\n",
       "          0.02365901,  0.12018976, -0.05263767, -0.01092795,\n",
       "         -0.01490977, -0.0301508 , -0.13059439, -0.00305436,\n",
       "          0.08398087,  0.06540142, -0.20478672, -0.09346015,\n",
       "          0.04465614, -0.04295985, -0.0585244 , -0.02245285,\n",
       "          0.14968616,  0.04862667,  0.20989151,  0.02797108,\n",
       "          0.17439032, -0.02671291, -0.03873937, -0.08487274,\n",
       "          0.31244034,  0.02704771,  0.3036848 ,  0.03259439,\n",
       "          0.08678249, -0.12812063, -0.00518616,  0.00584009,\n",
       "          0.03243655, -0.12810983]]], dtype=float32)"
      ]
     },
     "execution_count": 36,
     "metadata": {},
     "output_type": "execute_result"
    }
   ],
   "source": [
    "users_unique[0:3]\n",
    "users_embeddings[0:3]"
   ]
  },
  {
   "cell_type": "code",
   "execution_count": 37,
   "metadata": {},
   "outputs": [],
   "source": [
    "users_embeddings=pd.DataFrame(users_embeddings.reshape(-1,50))\n",
    "users_embeddings[\"userid_catcode\"] = users_unique"
   ]
  },
  {
   "cell_type": "code",
   "execution_count": 38,
   "metadata": {},
   "outputs": [
    {
     "data": {
      "text/html": [
       "<div>\n",
       "<style scoped>\n",
       "    .dataframe tbody tr th:only-of-type {\n",
       "        vertical-align: middle;\n",
       "    }\n",
       "\n",
       "    .dataframe tbody tr th {\n",
       "        vertical-align: top;\n",
       "    }\n",
       "\n",
       "    .dataframe thead th {\n",
       "        text-align: right;\n",
       "    }\n",
       "</style>\n",
       "<table border=\"1\" class=\"dataframe\">\n",
       "  <thead>\n",
       "    <tr style=\"text-align: right;\">\n",
       "      <th></th>\n",
       "      <th>0</th>\n",
       "      <th>1</th>\n",
       "      <th>2</th>\n",
       "      <th>3</th>\n",
       "      <th>4</th>\n",
       "      <th>5</th>\n",
       "      <th>6</th>\n",
       "      <th>7</th>\n",
       "      <th>8</th>\n",
       "      <th>9</th>\n",
       "      <th>...</th>\n",
       "      <th>41</th>\n",
       "      <th>42</th>\n",
       "      <th>43</th>\n",
       "      <th>44</th>\n",
       "      <th>45</th>\n",
       "      <th>46</th>\n",
       "      <th>47</th>\n",
       "      <th>48</th>\n",
       "      <th>49</th>\n",
       "      <th>userid_catcode</th>\n",
       "    </tr>\n",
       "  </thead>\n",
       "  <tbody>\n",
       "    <tr>\n",
       "      <th>0</th>\n",
       "      <td>-0.140868</td>\n",
       "      <td>0.002141</td>\n",
       "      <td>0.148491</td>\n",
       "      <td>-0.086958</td>\n",
       "      <td>-0.113664</td>\n",
       "      <td>-0.075362</td>\n",
       "      <td>0.030483</td>\n",
       "      <td>-0.067575</td>\n",
       "      <td>-0.138084</td>\n",
       "      <td>-0.128487</td>\n",
       "      <td>...</td>\n",
       "      <td>0.011809</td>\n",
       "      <td>-0.030816</td>\n",
       "      <td>-0.105177</td>\n",
       "      <td>0.168275</td>\n",
       "      <td>0.073520</td>\n",
       "      <td>-0.090923</td>\n",
       "      <td>-0.096597</td>\n",
       "      <td>0.121196</td>\n",
       "      <td>0.035093</td>\n",
       "      <td>0</td>\n",
       "    </tr>\n",
       "    <tr>\n",
       "      <th>1</th>\n",
       "      <td>0.169848</td>\n",
       "      <td>0.368439</td>\n",
       "      <td>-0.037799</td>\n",
       "      <td>-0.129193</td>\n",
       "      <td>0.329078</td>\n",
       "      <td>-0.226623</td>\n",
       "      <td>0.018107</td>\n",
       "      <td>0.137647</td>\n",
       "      <td>0.316902</td>\n",
       "      <td>-0.037223</td>\n",
       "      <td>...</td>\n",
       "      <td>0.230675</td>\n",
       "      <td>0.060416</td>\n",
       "      <td>-0.083827</td>\n",
       "      <td>0.061910</td>\n",
       "      <td>-0.053642</td>\n",
       "      <td>0.033089</td>\n",
       "      <td>-0.025814</td>\n",
       "      <td>-0.051868</td>\n",
       "      <td>-0.234572</td>\n",
       "      <td>1</td>\n",
       "    </tr>\n",
       "    <tr>\n",
       "      <th>2</th>\n",
       "      <td>0.186259</td>\n",
       "      <td>0.086003</td>\n",
       "      <td>0.012189</td>\n",
       "      <td>0.055322</td>\n",
       "      <td>0.223343</td>\n",
       "      <td>0.036501</td>\n",
       "      <td>-0.072419</td>\n",
       "      <td>0.053799</td>\n",
       "      <td>0.104197</td>\n",
       "      <td>0.123442</td>\n",
       "      <td>...</td>\n",
       "      <td>0.027048</td>\n",
       "      <td>0.303685</td>\n",
       "      <td>0.032594</td>\n",
       "      <td>0.086782</td>\n",
       "      <td>-0.128121</td>\n",
       "      <td>-0.005186</td>\n",
       "      <td>0.005840</td>\n",
       "      <td>0.032437</td>\n",
       "      <td>-0.128110</td>\n",
       "      <td>2</td>\n",
       "    </tr>\n",
       "  </tbody>\n",
       "</table>\n",
       "<p>3 rows × 51 columns</p>\n",
       "</div>"
      ],
      "text/plain": [
       "          0         1         2         3         4         5         6  \\\n",
       "0 -0.140868  0.002141  0.148491 -0.086958 -0.113664 -0.075362  0.030483   \n",
       "1  0.169848  0.368439 -0.037799 -0.129193  0.329078 -0.226623  0.018107   \n",
       "2  0.186259  0.086003  0.012189  0.055322  0.223343  0.036501 -0.072419   \n",
       "\n",
       "          7         8         9       ...              41        42        43  \\\n",
       "0 -0.067575 -0.138084 -0.128487       ...        0.011809 -0.030816 -0.105177   \n",
       "1  0.137647  0.316902 -0.037223       ...        0.230675  0.060416 -0.083827   \n",
       "2  0.053799  0.104197  0.123442       ...        0.027048  0.303685  0.032594   \n",
       "\n",
       "         44        45        46        47        48        49  userid_catcode  \n",
       "0  0.168275  0.073520 -0.090923 -0.096597  0.121196  0.035093               0  \n",
       "1  0.061910 -0.053642  0.033089 -0.025814 -0.051868 -0.234572               1  \n",
       "2  0.086782 -0.128121 -0.005186  0.005840  0.032437 -0.128110               2  \n",
       "\n",
       "[3 rows x 51 columns]"
      ]
     },
     "execution_count": 38,
     "metadata": {},
     "output_type": "execute_result"
    }
   ],
   "source": [
    "users_embeddings[0:3]"
   ]
  },
  {
   "cell_type": "code",
   "execution_count": 39,
   "metadata": {},
   "outputs": [],
   "source": [
    "movies_unique = np.unique(movieid)\n",
    "movies_embeddings=encoder_MovieID.predict(movies_unique)"
   ]
  },
  {
   "cell_type": "code",
   "execution_count": 40,
   "metadata": {},
   "outputs": [],
   "source": [
    "movies_embeddings=pd.DataFrame(movies_embeddings.reshape(-1,50))\n",
    "movies_embeddings[\"movieid_catcode\"] = movies_unique"
   ]
  },
  {
   "cell_type": "markdown",
   "metadata": {},
   "source": [
    "##### Identify nearest neighbours for a movie based on k-Nearest Neighbours Algorithm"
   ]
  },
  {
   "cell_type": "code",
   "execution_count": 41,
   "metadata": {},
   "outputs": [],
   "source": [
    "from sklearn.neighbors import NearestNeighbors"
   ]
  },
  {
   "cell_type": "code",
   "execution_count": 42,
   "metadata": {},
   "outputs": [],
   "source": [
    "nbrs = NearestNeighbors(n_neighbors=10, algorithm='auto').fit(movies_embeddings.drop([\"movieid_catcode\"],axis=1))\n",
    "movie_distances, movie_nbrs = nbrs.kneighbors(movies_embeddings.drop([\"movieid_catcode\"],axis=1))\n",
    "movie_nbrs=pd.DataFrame(movie_nbrs)\n",
    "movie_nbrs.columns=[\"movieid_catcode\",\"NN1\",\"NN2\",\"NN3\",\"NN4\",\"NN5\",\"NN6\",\"NN7\",\"NN8\",\"NN9\"]\n"
   ]
  },
  {
   "cell_type": "markdown",
   "metadata": {},
   "source": [
    "###### Define Recommender Function"
   ]
  },
  {
   "cell_type": "code",
   "execution_count": 46,
   "metadata": {},
   "outputs": [],
   "source": [
    "def recommender(rating,movie_nbrs,model,uid,n):\n",
    "    \n",
    "    # Mapping the userid to its Cat Code\n",
    "    uid_catcode=rating[rating.userId==uid][\"userid_catcode\"].unique()\n",
    "    \n",
    "    #Subsetting the records of the userid\n",
    "    movies=(rating[rating.userid_catcode==uid_catcode[0]])\n",
    "    \n",
    "    #Sorting the user movies based on given ratings\n",
    "    if len(movies)>=n :\n",
    "        movies=movies.sort_values(\"rating\",ascending=False)\n",
    "        movies=list((movies[0:n][\"movieid_catcode\"]))\n",
    "    else :\n",
    "        movies=list(movies[\"movieid_catcode\"])\n",
    "    \n",
    "   \n",
    "    Movie_nbrs=movie_nbrs[movie_nbrs.movieid_catcode.isin(movies)]\n",
    "    Movie_nbrs=Movie_nbrs.drop(\"movieid_catcode\",axis=1)\n",
    "    Movie_nbrs=pd.DataFrame(np.unique(Movie_nbrs.values.flatten()))\n",
    "    Movie_nbrs.columns=[\"movieid_catcode\"]\n",
    "    Movie_nbrs=Movie_nbrs[~(Movie_nbrs[\"movieid_catcode\"].isin(list(rating[rating.userid_catcode==uid_catcode[0]][\"movieid_catcode\"])))]\n",
    "    genre_nbrs=rating[rating.movieid_catcode.isin(Movie_nbrs.movieid_catcode)][\"genreid_catcode\"]\n",
    "    genre_nbrs.columns=[\"genre_id\"]\n",
    "    \n",
    "    \n",
    "    if len(Movie_nbrs)>0:\n",
    "        usid=np.repeat(uid_catcode[0], len(Movie_nbrs))\n",
    "        Movie_nbrs=Movie_nbrs.movieid_catcode.values\n",
    "        genre_nbrs = genre_nbrs.values\n",
    "        test_pred = model.predict([usid,Movie_nbrs,genre_nbrs]).reshape(-1)\n",
    "        \n",
    "        r_Df=pd.DataFrame({\"movieid_catcode\":Movie_nbrs})\n",
    "        r_Df[\"rating\"]=test_pred\n",
    "        \n",
    "        Movie_catcodes=rating[[\"movieId\",\"movieid_catcode\",\"title\"]]\n",
    "        Movie_catcodes=Movie_catcodes.drop_duplicates()\n",
    "        r_Df=pd.merge(r_Df,Movie_catcodes,how=\"left\",on=[\"movieid_catcode\"])\n",
    "        r_Df=r_Df.sort_values(\"rating\",ascending=False)\n",
    "        r_Df=r_Df.iloc[0:n]\n",
    "        r_Df[\"userId\"] = uid\n",
    "        return(r_Df)\n",
    "    else :\n",
    "        print(\"Try with another n value\")\n",
    "        r_Df=None\n",
    "        return(r_Df)"
   ]
  },
  {
   "cell_type": "markdown",
   "metadata": {},
   "source": [
    "###### Recommend movie for a user"
   ]
  },
  {
   "cell_type": "code",
   "execution_count": 50,
   "metadata": {},
   "outputs": [
    {
     "ename": "ValueError",
     "evalue": "Buffer dtype mismatch, expected 'Python object' but got 'long'",
     "output_type": "error",
     "traceback": [
      "\u001b[0;31m---------------------------------------------------------------------------\u001b[0m",
      "\u001b[0;31mValueError\u001b[0m                                Traceback (most recent call last)",
      "\u001b[0;31mValueError\u001b[0m: Buffer dtype mismatch, expected 'Python object' but got 'long'"
     ]
    },
    {
     "name": "stderr",
     "output_type": "stream",
     "text": [
      "Exception ValueError: \"Buffer dtype mismatch, expected 'Python object' but got 'long'\" in 'pandas._libs.lib.is_bool_array' ignored\n"
     ]
    }
   ],
   "source": [
    "uid=605\n",
    "n=5\n",
    "model = model\n",
    "rec=recommender(rating,movie_nbrs,model,uid,n)"
   ]
  },
  {
   "cell_type": "code",
   "execution_count": 51,
   "metadata": {},
   "outputs": [
    {
     "data": {
      "text/html": [
       "<div>\n",
       "<style scoped>\n",
       "    .dataframe tbody tr th:only-of-type {\n",
       "        vertical-align: middle;\n",
       "    }\n",
       "\n",
       "    .dataframe tbody tr th {\n",
       "        vertical-align: top;\n",
       "    }\n",
       "\n",
       "    .dataframe thead th {\n",
       "        text-align: right;\n",
       "    }\n",
       "</style>\n",
       "<table border=\"1\" class=\"dataframe\">\n",
       "  <thead>\n",
       "    <tr style=\"text-align: right;\">\n",
       "      <th></th>\n",
       "      <th>movieid_catcode</th>\n",
       "      <th>rating</th>\n",
       "      <th>movieId</th>\n",
       "      <th>title</th>\n",
       "      <th>userId</th>\n",
       "    </tr>\n",
       "  </thead>\n",
       "  <tbody>\n",
       "    <tr>\n",
       "      <th>38</th>\n",
       "      <td>7942</td>\n",
       "      <td>5.600111</td>\n",
       "      <td>91690</td>\n",
       "      <td>Friends with Kids (2011)</td>\n",
       "      <td>605</td>\n",
       "    </tr>\n",
       "    <tr>\n",
       "      <th>25</th>\n",
       "      <td>5425</td>\n",
       "      <td>5.498619</td>\n",
       "      <td>8511</td>\n",
       "      <td>Immigrant, The (1917)</td>\n",
       "      <td>605</td>\n",
       "    </tr>\n",
       "    <tr>\n",
       "      <th>40</th>\n",
       "      <td>8034</td>\n",
       "      <td>5.083377</td>\n",
       "      <td>94939</td>\n",
       "      <td>Sound of Noise (2010)</td>\n",
       "      <td>605</td>\n",
       "    </tr>\n",
       "    <tr>\n",
       "      <th>32</th>\n",
       "      <td>6703</td>\n",
       "      <td>4.834203</td>\n",
       "      <td>53883</td>\n",
       "      <td>Power of Nightmares, The: The Rise of the Poli...</td>\n",
       "      <td>605</td>\n",
       "    </tr>\n",
       "    <tr>\n",
       "      <th>42</th>\n",
       "      <td>8282</td>\n",
       "      <td>4.670990</td>\n",
       "      <td>102123</td>\n",
       "      <td>This Is the End (2013)</td>\n",
       "      <td>605</td>\n",
       "    </tr>\n",
       "  </tbody>\n",
       "</table>\n",
       "</div>"
      ],
      "text/plain": [
       "    movieid_catcode    rating movieId  \\\n",
       "38             7942  5.600111   91690   \n",
       "25             5425  5.498619    8511   \n",
       "40             8034  5.083377   94939   \n",
       "32             6703  4.834203   53883   \n",
       "42             8282  4.670990  102123   \n",
       "\n",
       "                                                title  userId  \n",
       "38                           Friends with Kids (2011)     605  \n",
       "25                              Immigrant, The (1917)     605  \n",
       "40                              Sound of Noise (2010)     605  \n",
       "32  Power of Nightmares, The: The Rise of the Poli...     605  \n",
       "42                             This Is the End (2013)     605  "
      ]
     },
     "execution_count": 51,
     "metadata": {},
     "output_type": "execute_result"
    }
   ],
   "source": [
    "rec"
   ]
  },
  {
   "cell_type": "code",
   "execution_count": null,
   "metadata": {},
   "outputs": [],
   "source": []
  }
 ],
 "metadata": {
  "kernelspec": {
   "display_name": "Python 3",
   "language": "python",
   "name": "python3"
  },
  "language_info": {
   "codemirror_mode": {
    "name": "ipython",
    "version": 3
   },
   "file_extension": ".py",
   "mimetype": "text/x-python",
   "name": "python",
   "nbconvert_exporter": "python",
   "pygments_lexer": "ipython3",
   "version": "3.6.5"
  }
 },
 "nbformat": 4,
 "nbformat_minor": 2
}
