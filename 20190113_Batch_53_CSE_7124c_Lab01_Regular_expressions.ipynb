{
 "cells": [
  {
   "cell_type": "markdown",
   "metadata": {},
   "source": [
    "A Brief introduction to regular expressions\n",
    "\n",
    ".- matches any character except for line breaks\n",
    "\n",
    "*- matches for 0 or more times of preceeding charcter\n",
    "\n",
    "+-matches for 1 or more times of preceeding character\n",
    "\n",
    "?- preceeding character is optional. Matches 0 or 1 occurance\n",
    "\n",
    "\\d-matches any single digit\n",
    "\\D-matches anything but digit\n",
    "\n",
    "\\w matches any word character\n",
    "\\W mathches anything but word character\n",
    "[XYZ]-matches any single character from the list\n",
    "\n",
    "[XYZ]+-matches one or more of characters from the list\n",
    "\n",
    "$- matches end of the string\n",
    "\n",
    "^- matches begining of the string\n",
    "\n",
    "[^a-z]- matches everything but not lowercase letters\n",
    "#\\s-space\n",
    "#\\S-anything except space"
   ]
  },
  {
   "cell_type": "code",
   "execution_count": 1,
   "metadata": {},
   "outputs": [],
   "source": [
    "######Regular expressions in python\n",
    "A='abcdefg abcde abc'\n",
    "#Write an expression to match and extract all "
   ]
  },
  {
   "cell_type": "code",
   "execution_count": 2,
   "metadata": {},
   "outputs": [
    {
     "data": {
      "text/plain": [
       "['abcdefg', 'abcde', 'abc']"
      ]
     },
     "execution_count": 2,
     "metadata": {},
     "output_type": "execute_result"
    }
   ],
   "source": [
    "#Solution\n",
    "import re\n",
    "re.findall(r\"[a-g]+\",A,flags=re.IGNORECASE)"
   ]
  },
  {
   "cell_type": "code",
   "execution_count": 3,
   "metadata": {},
   "outputs": [
    {
     "data": {
      "text/plain": [
       "['abcdefg abcde abc']"
      ]
     },
     "execution_count": 3,
     "metadata": {},
     "output_type": "execute_result"
    }
   ],
   "source": [
    "re.findall(r\".+\",A)"
   ]
  },
  {
   "cell_type": "code",
   "execution_count": 4,
   "metadata": {},
   "outputs": [
    {
     "data": {
      "text/plain": [
       "['123', '123', '123']"
      ]
     },
     "execution_count": 4,
     "metadata": {},
     "output_type": "execute_result"
    }
   ],
   "source": [
    "#Extract only numbers from the string\n",
    "A=\"abc123xyz define '123'  var g= 123\"\n",
    "re.findall(r\"[1-3]+\",A)"
   ]
  },
  {
   "cell_type": "code",
   "execution_count": 5,
   "metadata": {},
   "outputs": [
    {
     "data": {
      "text/plain": [
       "['cat.', '896.', '?=+.', '#$%.']"
      ]
     },
     "execution_count": 5,
     "metadata": {},
     "output_type": "execute_result"
    }
   ],
   "source": [
    "#Extract all those with \".\" \n",
    "A='cat. 896. ?=+. abc1  #$%.'\n",
    "re.findall(r\"...\\.\",A)"
   ]
  },
  {
   "cell_type": "code",
   "execution_count": 6,
   "metadata": {},
   "outputs": [
    {
     "data": {
      "text/plain": [
       "['can', 'man', 'fan']"
      ]
     },
     "execution_count": 6,
     "metadata": {},
     "output_type": "execute_result"
    }
   ],
   "source": [
    "#Extract only can man and fan \n",
    "A=\"can man fan pan dan ran\"\n",
    "re.findall(r\"[cmf]an\",A)"
   ]
  },
  {
   "cell_type": "code",
   "execution_count": 7,
   "metadata": {},
   "outputs": [
    {
     "data": {
      "text/plain": [
       "['hog', 'dog']"
      ]
     },
     "execution_count": 7,
     "metadata": {},
     "output_type": "execute_result"
    }
   ],
   "source": [
    "#Excluding specific characters.. select all except bog\n",
    "A=\"hog bog dog\"\n",
    "re.findall(r\"[^b]og\",A)"
   ]
  },
  {
   "cell_type": "code",
   "execution_count": 8,
   "metadata": {},
   "outputs": [
    {
     "data": {
      "text/plain": [
       "['Ana', 'Bob', 'Cpc']"
      ]
     },
     "execution_count": 8,
     "metadata": {},
     "output_type": "execute_result"
    }
   ],
   "source": [
    "#Extract all that starts with upper case letters \n",
    "A=\"Ana Bob Cpc aax bby ccz\"\n",
    "re.findall(r\"[A-C]\\w+\",A)"
   ]
  },
  {
   "cell_type": "code",
   "execution_count": 9,
   "metadata": {},
   "outputs": [
    {
     "data": {
      "text/plain": [
       "['Wazzzzup', 'Wazzzup']"
      ]
     },
     "execution_count": 9,
     "metadata": {},
     "output_type": "execute_result"
    }
   ],
   "source": [
    "#Extract words with more Z\n",
    "A=\"Wazzzzup Wazzzup Wazup\"\n",
    "re.findall(r\"..z{2,}\\w+\",A)"
   ]
  },
  {
   "cell_type": "code",
   "execution_count": 12,
   "metadata": {},
   "outputs": [
    {
     "data": {
      "text/plain": [
       "['aaaabc', 'aabbbbc', 'aacc']"
      ]
     },
     "execution_count": 12,
     "metadata": {},
     "output_type": "execute_result"
    }
   ],
   "source": [
    "#Skip a in this\n",
    "A='aaaabc aabbbbc aacc a'\n",
    "re.findall(r\"a+\\w+\",A)\n"
   ]
  },
  {
   "cell_type": "code",
   "execution_count": 13,
   "metadata": {},
   "outputs": [
    {
     "name": "stdout",
     "output_type": "stream",
     "text": [
      "['1 file found?']\n",
      "['2 files found?']\n",
      "['24 files found?']\n",
      "[]\n",
      "['1 file found?']\n",
      "['2 files found?']\n",
      "['24 files found?']\n",
      "[]\n",
      "[('1 file found?', '?')]\n",
      "[('2 files found?', '?')]\n",
      "[('24 files found?', '?')]\n",
      "[]\n"
     ]
    }
   ],
   "source": [
    "A=['1 file found?', '2 files found?', '24 files found?',  'no files found']\n",
    "\n",
    "for i in A:\n",
    "    x=re.findall(r\"[a-z0-9\\s]+\\?\",i)\n",
    "    print(x)\n",
    "\n",
    "for i in A:\n",
    "    x=re.findall(r\"\\d+ files? found\\?\",i)\n",
    "    print(x)\n",
    "\n",
    "for i in A:\n",
    "    x=re.findall(r\"([\\d+\\w+\\s+]+(\\?$))\",i)\n",
    "    print(x)\n"
   ]
  },
  {
   "cell_type": "code",
   "execution_count": 14,
   "metadata": {},
   "outputs": [
    {
     "name": "stdout",
     "output_type": "stream",
     "text": [
      "[' abc']\n",
      "['  abc']\n",
      "[]\n",
      "['    abc']\n"
     ]
    }
   ],
   "source": [
    "#Extract all with atleast one space\n",
    "A=[' abc', '  abc', 'abc','    abc']\n",
    "\n",
    "for i in A:\n",
    "    x=re.findall(r\"\\s+\\w+\",i)\n",
    "    print(x)"
   ]
  },
  {
   "cell_type": "markdown",
   "metadata": {},
   "source": [
    "## If we want to replace additional white spaces with single space\n",
    "x=[re.sub(r\"\\s+\",\"\",i) for i in A]\n",
    "print(x)"
   ]
  },
  {
   "cell_type": "code",
   "execution_count": null,
   "metadata": {},
   "outputs": [],
   "source": [
    "#Extract all except 4.abc\n",
    "A=['1. abc', '2.   abc', '3.   abc','4.abc']\n",
    "\n",
    "for i in A:\n",
    "    x=re.findall(r\"\\d\\.\\s+\\w+\",i)\n",
    "    print(x)"
   ]
  },
  {
   "cell_type": "code",
   "execution_count": null,
   "metadata": {},
   "outputs": [],
   "source": [
    "#If we want to extract all \n",
    "for i in A:\n",
    "    x=re.findall(r\"\\d\\.\\s*\\w+\",i)\n",
    "    print(x)"
   ]
  },
  {
   "cell_type": "code",
   "execution_count": null,
   "metadata": {},
   "outputs": [],
   "source": [
    "# Match only Mission successful\n",
    "A=['Mission: Successful', \" Previous Mission: Accomplished\", \"Next Mission: Not Yet Decided\"]\n",
    "for i in A:\n",
    "    x=re.findall(r\"^M[a-zA-Z:\\s]+\\b\",i)\n",
    "    print(x)"
   ]
  },
  {
   "cell_type": "code",
   "execution_count": null,
   "metadata": {},
   "outputs": [],
   "source": [
    "#Extract file_record_transcript file_07241999 from the given list\n",
    "A=[\"file_record_transcript.pdf\",\"file_07241999.pdf\",\"testfile_fake.pdf.tmp\" ]\n",
    "for i in A:\n",
    "    x=re.findall(r\"^(file.+)\\.pdf\",i)\n",
    "    print(x)"
   ]
  },
  {
   "cell_type": "code",
   "execution_count": null,
   "metadata": {},
   "outputs": [],
   "source": [
    "A=[\"file_record_transcript.pdf\",\"file_07241999.pdf\",\"testfile_fake.pdf.tmp\" ]\n",
    "for i in A:\n",
    "    x=re.findall(r\"^(file.+\\.pdf)\",i)\n",
    "    print(x)"
   ]
  },
  {
   "cell_type": "code",
   "execution_count": null,
   "metadata": {},
   "outputs": [],
   "source": [
    "#Extract file_record_transcript.pdf file_07241999.pdf from the given list\n",
    "A=[\"file_record_transcript.pdf\",\"file_07241999.pdf\",\"testfile_fake.pdf.tmp\" ]\n",
    "for i in A:\n",
    "    x=re.findall(r\"(\\w*(file.+\\.pdf))\",i)\n",
    "    y=re.findall(r\"(\\w*(file.+\\.pdf)\\..*)\",i)\n",
    "    z=re.findall(r\"(\\w*(file.+)\\.pdf*)\",i)\n",
    "    print(\"x=\",  x)\n",
    "    print(\"y=\",  y)\n",
    "    print(\"z=\",  z)\n"
   ]
  },
  {
   "cell_type": "code",
   "execution_count": null,
   "metadata": {},
   "outputs": [],
   "source": [
    "#Capture the months and dates\n",
    "A=['Jan 1987','\tMay 1969', 'Aug 2011']\n",
    "for i in A:\n",
    "    x=re.findall(r\"([a-zA-Z]+\\s+(\\d+))\",i) #or we can use re.findall(r\"(\\w+\\s+(\\d+))\"\n",
    "    print(x)"
   ]
  },
  {
   "cell_type": "code",
   "execution_count": null,
   "metadata": {},
   "outputs": [],
   "source": [
    "A=['Jan 1987','May 1969', 'Aug 2011']\n",
    "for i in A:\n",
    "    x=re.findall(r\"(\\w+\\s+(\\d+))\",i) #or we can use re.findall(r\"(\\w+\\s+(\\d+))\"\n",
    "    print(x)"
   ]
  },
  {
   "cell_type": "code",
   "execution_count": null,
   "metadata": {},
   "outputs": [],
   "source": [
    "#Seleect only if cats or dogs are present\n",
    "A=['I love cats', 'I love dogs', 'I love logs', 'I love cogs']\n",
    "for i in A:\n",
    "    x=re.findall(r\"([\\w+\\s+]+(cats|dogs))\",i)\n",
    "    print(x)"
   ]
  },
  {
   "cell_type": "code",
   "execution_count": null,
   "metadata": {},
   "outputs": [],
   "source": [
    "#Other special characters\n",
    "A=['The quick brown fox jumps over the lazy dog.','There were 614 instances of students getting 90.0% or above.',\n",
    "  'The FCC had to censor the network for saying &$#*@!.']\n",
    "\n",
    "for i in A:\n",
    "    x=re.findall(r\".*\",i)\n",
    "    print(x)\n"
   ]
  },
  {
   "cell_type": "code",
   "execution_count": null,
   "metadata": {},
   "outputs": [],
   "source": [
    "A=['3.1424','-22.45','128','1.9e10','720p']\n",
    "for i in A:\n",
    "    x=re.findall(r\".*[^a-zA-Z]$\",i)\n",
    "    print(x)"
   ]
  },
  {
   "cell_type": "code",
   "execution_count": null,
   "metadata": {},
   "outputs": [],
   "source": []
  }
 ],
 "metadata": {
  "kernelspec": {
   "display_name": "Python 3",
   "language": "python",
   "name": "python3"
  },
  "language_info": {
   "codemirror_mode": {
    "name": "ipython",
    "version": 3
   },
   "file_extension": ".py",
   "mimetype": "text/x-python",
   "name": "python",
   "nbconvert_exporter": "python",
   "pygments_lexer": "ipython3",
   "version": "3.6.5"
  }
 },
 "nbformat": 4,
 "nbformat_minor": 2
}
