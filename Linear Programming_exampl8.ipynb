{
 "cells": [
  {
   "cell_type": "code",
   "execution_count": 1,
   "metadata": {},
   "outputs": [],
   "source": [
    "### Problem 5:\n",
    "# A  manufacturer  of printed circuit boards has 200 resistors, 120 transistors and 150 capacitors.\n",
    "# The company is required to produce two different circuit boards  that requires:\n",
    "# Type A board: 20 resistors, 10 transistors and 5 capacitors \n",
    "# Type B board: 10 resistors, 12 transistors and 30 capacitors \n",
    "# If the profit on type A board is Rs. 5 and type B board is 12,\n",
    "# How many of each should he manufacture to maximize the profits?\n",
    "import pulp\n",
    "z = pulp.LpProblem('Problem circuit', pulp.LpMaximize)\n",
    "x1 = pulp.LpVariable('x1', lowBound=0, cat = 'Integer')\n",
    "x2 = pulp.LpVariable('x2', lowBound=0, cat = 'Integer')"
   ]
  },
  {
   "cell_type": "code",
   "execution_count": 2,
   "metadata": {},
   "outputs": [],
   "source": [
    "z += 5*x1 + 12*x2"
   ]
  },
  {
   "cell_type": "code",
   "execution_count": 3,
   "metadata": {},
   "outputs": [],
   "source": [
    "z +=  20*x1 + 10*x2 <= 200\n",
    "z += 10*x1+ 12*x2 <= 120\n",
    "z += 5*x1+ 30*x2 <= 150"
   ]
  },
  {
   "cell_type": "code",
   "execution_count": 4,
   "metadata": {},
   "outputs": [
    {
     "data": {
      "text/plain": [
       "Problem circuit:\n",
       "MAXIMIZE\n",
       "5*x1 + 12*x2 + 0\n",
       "SUBJECT TO\n",
       "_C1: 20 x1 + 10 x2 <= 200\n",
       "\n",
       "_C2: 10 x1 + 12 x2 <= 120\n",
       "\n",
       "_C3: 5 x1 + 30 x2 <= 150\n",
       "\n",
       "VARIABLES\n",
       "0 <= x1 Integer\n",
       "0 <= x2 Integer"
      ]
     },
     "execution_count": 4,
     "metadata": {},
     "output_type": "execute_result"
    }
   ],
   "source": [
    "z"
   ]
  },
  {
   "cell_type": "code",
   "execution_count": 5,
   "metadata": {},
   "outputs": [
    {
     "data": {
      "text/plain": [
       "'Optimal'"
      ]
     },
     "execution_count": 5,
     "metadata": {},
     "output_type": "execute_result"
    }
   ],
   "source": [
    "pulp.LpStatus[z.solve()]"
   ]
  },
  {
   "cell_type": "code",
   "execution_count": 6,
   "metadata": {},
   "outputs": [
    {
     "data": {
      "text/plain": [
       "(6.0, 4.0, 78.0)"
      ]
     },
     "execution_count": 6,
     "metadata": {},
     "output_type": "execute_result"
    }
   ],
   "source": [
    "pulp.value(x1), pulp.value(x2), pulp.value(z.objective)"
   ]
  },
  {
   "cell_type": "code",
   "execution_count": null,
   "metadata": {},
   "outputs": [],
   "source": []
  }
 ],
 "metadata": {
  "kernelspec": {
   "display_name": "Python 3",
   "language": "python",
   "name": "python3"
  },
  "language_info": {
   "codemirror_mode": {
    "name": "ipython",
    "version": 3
   },
   "file_extension": ".py",
   "mimetype": "text/x-python",
   "name": "python",
   "nbconvert_exporter": "python",
   "pygments_lexer": "ipython3",
   "version": "3.6.5"
  }
 },
 "nbformat": 4,
 "nbformat_minor": 2
}
