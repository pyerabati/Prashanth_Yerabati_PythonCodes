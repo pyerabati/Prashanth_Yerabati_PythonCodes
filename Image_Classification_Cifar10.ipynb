{
 "cells": [
  {
   "cell_type": "markdown",
   "metadata": {},
   "source": [
    "## Import modules"
   ]
  },
  {
   "cell_type": "code",
   "execution_count": 1,
   "metadata": {},
   "outputs": [
    {
     "name": "stdout",
     "output_type": "stream",
     "text": [
      "env: CUDA_DEVICE_ORDER=PCI_BUS_ID\n",
      "env: CUDA_VISIBLE_DEVICES=1\n"
     ]
    }
   ],
   "source": [
    "%env CUDA_DEVICE_ORDER=PCI_BUS_ID\n",
    "%env CUDA_VISIBLE_DEVICES=1"
   ]
  },
  {
   "cell_type": "code",
   "execution_count": null,
   "metadata": {
    "collapsed": true
   },
   "outputs": [],
   "source": [
    "import tensorflow as tf\n",
    "gpu_options = tf.GPUOptions(per_process_gpu_memory_fraction=0.25)\n",
    "sess = tf.Session(config=tf.ConfigProto(gpu_options=gpu_options))"
   ]
  },
  {
   "cell_type": "code",
   "execution_count": 2,
   "metadata": {},
   "outputs": [
    {
     "name": "stderr",
     "output_type": "stream",
     "text": [
      "Using TensorFlow backend.\n"
     ]
    }
   ],
   "source": [
    "import warnings\n",
    "warnings.filterwarnings('ignore')\n",
    "\n",
    "import numpy as np\n",
    "import matplotlib.pyplot as plt\n",
    "%matplotlib inline\n",
    "\n",
    "from keras.utils import to_categorical\n",
    "from keras.datasets import cifar10\n",
    "\n",
    "from PIL import Image\n",
    "\n",
    "from keras.models import Model, Sequential\n",
    "from keras.layers import Flatten, Dense, Dropout\n",
    "from keras.layers import Convolution2D, MaxPooling2D\n",
    "from keras.layers import BatchNormalization, GlobalAveragePooling2D\n",
    "from keras.utils import to_categorical\n",
    "from keras.optimizers import Adam\n",
    "\n",
    "\n",
    "# Get Inception architecture from keras.applications\n",
    "from keras.applications.inception_v3 import InceptionV3"
   ]
  },
  {
   "cell_type": "markdown",
   "metadata": {},
   "source": [
    "## Reading data"
   ]
  },
  {
   "cell_type": "code",
   "execution_count": 3,
   "metadata": {
    "collapsed": true
   },
   "outputs": [],
   "source": [
    "def load_cifar10(resize=False):\n",
    "    train = np.load('/nfsroot/data/home/datasets/cse_7321c/cifar10/cifar_train.npz')\n",
    "    x_train = train['data']\n",
    "    y_train = train['labels']\n",
    "\n",
    "    test = np.load('/nfsroot/data/home/datasets/cse_7321c/cifar10cifar_test.npz')\n",
    "    x_test = test['data']\n",
    "    y_test = test['labels']\n",
    "    \n",
    "    if resize:\n",
    "        x_train=resize_all(x_train, resize)\n",
    "        x_test=resize_all(x_test, resize)\n",
    "    \n",
    "    x_train = x_train.astype('float32')/255.\n",
    "    x_test = x_test.astype('float32')/255.\n",
    "    \n",
    "    return(x_train, y_train, x_test, y_test)\n",
    "\n",
    "\n",
    "def resize(p, size):\n",
    "    return Image.fromarray(p).resize(size=(size,size))\n",
    "\n",
    "def resize_all(arr, size):\n",
    "    t = []\n",
    "    for i in range(arr.shape[0]):\n",
    "        t.append(np.array(resize(arr[i], size)))\n",
    "        \n",
    "#     t = np.array(t, dtype='float32')\n",
    "#     t /= 255.\n",
    "\n",
    "    return(np.array(t))"
   ]
  },
  {
   "cell_type": "code",
   "execution_count": 4,
   "metadata": {
    "collapsed": true
   },
   "outputs": [],
   "source": [
    "batch_size = 64\n",
    "nb_classes = 10\n",
    "\n",
    "img_rows, img_cols = 32, 32    # input image dimensions\n",
    "img_channels = 3               # The CIFAR10 images are RGB."
   ]
  },
  {
   "cell_type": "code",
   "execution_count": 5,
   "metadata": {
    "collapsed": true
   },
   "outputs": [],
   "source": [
    "(x_train, train_labels), (x_test, test_labels) = cifar10.load_data()\n",
    "x_train = x_train.astype('float32')/255.\n",
    "x_test = x_test.astype('float32')/255.\n",
    "\n",
    "y_train = to_categorical(train_labels, nb_classes)\n",
    "y_test = to_categorical(test_labels, nb_classes)"
   ]
  },
  {
   "cell_type": "markdown",
   "metadata": {},
   "source": [
    "## Plot a few train images"
   ]
  },
  {
   "cell_type": "code",
   "execution_count": 6,
   "metadata": {},
   "outputs": [
    {
     "data": {
      "image/png": "[encoded data removed]",
      "text/plain": [
       "<matplotlib.figure.Figure at 0x7f2e6c3b5630>"
      ]
     },
     "metadata": {},
     "output_type": "display_data"
    }
   ],
   "source": [
    "plt.figure(figsize=(20,10))\n",
    "for i in range(5):\n",
    "    plt.subplot(1,5,i+1)\n",
    "    plt.imshow(x_train[i])\n",
    "    plt.axis('off')"
   ]
  },
  {
   "cell_type": "markdown",
   "metadata": {},
   "source": [
    "## Custom Network"
   ]
  },
  {
   "cell_type": "code",
   "execution_count": 7,
   "metadata": {
    "collapsed": true
   },
   "outputs": [],
   "source": [
    "def custom_convnet(nb_classes, learn_rate, inp_shape):\n",
    "    model = Sequential()\n",
    "    model.add(Convolution2D(filters=32, kernel_size=(3, 3), padding='same', # valid\n",
    "                            input_shape=inp_shape, \n",
    "                            activation='relu'))\n",
    "    model.add(Convolution2D(filters=32, kernel_size=(3, 3), activation='relu'))\n",
    "    model.add(MaxPooling2D(pool_size=(2, 2)))\n",
    "\n",
    "    model.add(Convolution2D(filters=64, kernel_size=(3, 3), padding='same', activation='relu'))\n",
    "    model.add(Convolution2D(filters=64, kernel_size=(3, 3), activation='relu'))\n",
    "    model.add(MaxPooling2D(pool_size=(2, 2)))\n",
    "\n",
    "    model.add(Flatten())\n",
    "    model.add(Dense(512, activation='relu'))\n",
    "    model.add(Dropout(0.5))\n",
    "    model.add(Dense(nb_classes, activation='softmax'))\n",
    "    \n",
    "    adam = Adam(lr=learn_rate)\n",
    "    model.compile(loss='categorical_crossentropy',metrics=['accuracy'],optimizer=adam)\n",
    "    \n",
    "    return(model)\n"
   ]
  },
  {
   "cell_type": "markdown",
   "metadata": {},
   "source": [
    "With a lot of samples"
   ]
  },
  {
   "cell_type": "code",
   "execution_count": 8,
   "metadata": {},
   "outputs": [
    {
     "name": "stdout",
     "output_type": "stream",
     "text": [
      "Train on 50000 samples, validate on 10000 samples\n",
      "Epoch 1/5\n",
      "50000/50000 [==============================] - 11s 220us/step - loss: 1.4913 - acc: 0.4584 - val_loss: 1.1425 - val_acc: 0.5962\n",
      "Epoch 2/5\n",
      "50000/50000 [==============================] - 7s 138us/step - loss: 1.0308 - acc: 0.6380 - val_loss: 0.9776 - val_acc: 0.6567\n",
      "Epoch 3/5\n",
      "50000/50000 [==============================] - 7s 138us/step - loss: 0.8410 - acc: 0.7079 - val_loss: 0.8092 - val_acc: 0.7197\n",
      "Epoch 4/5\n",
      "50000/50000 [==============================] - 7s 146us/step - loss: 0.7148 - acc: 0.7507 - val_loss: 0.7493 - val_acc: 0.7448\n",
      "Epoch 5/5\n",
      "50000/50000 [==============================] - 7s 150us/step - loss: 0.6255 - acc: 0.7816 - val_loss: 0.7017 - val_acc: 0.7620\n"
     ]
    }
   ],
   "source": [
    "model = custom_convnet(nb_classes=10, learn_rate=0.001, inp_shape=(img_rows,img_cols,img_channels))\n",
    "model.fit(x_train[:50000], y_train[:50000],\n",
    "          validation_data=(x_test, y_test),\n",
    "          batch_size=batch_size,\n",
    "          epochs=5)\n",
    "\n",
    "model.save('cifar10_savedmodel.h5')          # Saves the weights along with the graph\n",
    "# model.save_weights('cifar10_savedmodel.h5')  # Saves the weights only"
   ]
  },
  {
   "cell_type": "markdown",
   "metadata": {},
   "source": [
    "With limited samples"
   ]
  },
  {
   "cell_type": "code",
   "execution_count": 9,
   "metadata": {},
   "outputs": [
    {
     "name": "stdout",
     "output_type": "stream",
     "text": [
      "Train on 5000 samples, validate on 10000 samples\n",
      "Epoch 1/15\n",
      "5000/5000 [==============================] - 2s 346us/step - loss: 2.0805 - acc: 0.2138 - val_loss: 1.8714 - val_acc: 0.3090\n",
      "Epoch 2/15\n",
      "5000/5000 [==============================] - 1s 235us/step - loss: 1.7375 - acc: 0.3558 - val_loss: 1.6684 - val_acc: 0.3994\n",
      "Epoch 3/15\n",
      "5000/5000 [==============================] - 1s 219us/step - loss: 1.5797 - acc: 0.4200 - val_loss: 1.5731 - val_acc: 0.4252\n",
      "Epoch 4/15\n",
      "5000/5000 [==============================] - 1s 241us/step - loss: 1.4549 - acc: 0.4716 - val_loss: 1.4245 - val_acc: 0.4838\n",
      "Epoch 5/15\n",
      "5000/5000 [==============================] - 1s 235us/step - loss: 1.3484 - acc: 0.5212 - val_loss: 1.4584 - val_acc: 0.4871\n",
      "Epoch 6/15\n",
      "5000/5000 [==============================] - 1s 237us/step - loss: 1.2348 - acc: 0.5594 - val_loss: 1.3188 - val_acc: 0.5290\n",
      "Epoch 7/15\n",
      "5000/5000 [==============================] - 1s 240us/step - loss: 1.1144 - acc: 0.5982 - val_loss: 1.2830 - val_acc: 0.5446\n",
      "Epoch 8/15\n",
      "5000/5000 [==============================] - 1s 266us/step - loss: 1.0235 - acc: 0.6312 - val_loss: 1.3983 - val_acc: 0.5250\n",
      "Epoch 9/15\n",
      "5000/5000 [==============================] - 1s 270us/step - loss: 0.9248 - acc: 0.6746 - val_loss: 1.3247 - val_acc: 0.5450\n",
      "Epoch 10/15\n",
      "5000/5000 [==============================] - 1s 244us/step - loss: 0.8228 - acc: 0.7110 - val_loss: 1.2796 - val_acc: 0.5596\n",
      "Epoch 11/15\n",
      "5000/5000 [==============================] - 1s 238us/step - loss: 0.7141 - acc: 0.7484 - val_loss: 1.5049 - val_acc: 0.5181\n",
      "Epoch 12/15\n",
      "5000/5000 [==============================] - 1s 244us/step - loss: 0.6093 - acc: 0.7880 - val_loss: 1.4285 - val_acc: 0.5668\n",
      "Epoch 13/15\n",
      "5000/5000 [==============================] - 1s 229us/step - loss: 0.5586 - acc: 0.8076 - val_loss: 1.4426 - val_acc: 0.5548\n",
      "Epoch 14/15\n",
      "5000/5000 [==============================] - 1s 238us/step - loss: 0.4319 - acc: 0.8478 - val_loss: 1.6031 - val_acc: 0.5534\n",
      "Epoch 15/15\n",
      "5000/5000 [==============================] - 1s 224us/step - loss: 0.3781 - acc: 0.8680 - val_loss: 1.5621 - val_acc: 0.5753\n"
     ]
    },
    {
     "data": {
      "text/plain": [
       "<keras.callbacks.History at 0x7f2db40a07b8>"
      ]
     },
     "execution_count": 9,
     "metadata": {},
     "output_type": "execute_result"
    }
   ],
   "source": [
    "model = custom_convnet(nb_classes=10, learn_rate=0.001, inp_shape=(img_rows,img_cols,img_channels))\n",
    "model.fit(x_train[:5000], y_train[:5000],\n",
    "          validation_data=(x_test, y_test),\n",
    "          batch_size=batch_size,\n",
    "          epochs=15)"
   ]
  },
  {
   "cell_type": "markdown",
   "metadata": {},
   "source": [
    "## Pre-Trained Network"
   ]
  },
  {
   "cell_type": "markdown",
   "metadata": {},
   "source": [
    "Resize all the images "
   ]
  },
  {
   "cell_type": "code",
   "execution_count": 10,
   "metadata": {
    "collapsed": true
   },
   "outputs": [],
   "source": [
    "(x_train, train_labels), (x_test, test_labels) = cifar10.load_data()\n",
    "size=224\n",
    "x_train=resize_all(x_train, size)\n",
    "x_test=resize_all(x_test, size)\n",
    "\n",
    "x_train = x_train.astype('float32')/255.\n",
    "x_test = x_test.astype('float32')/255.\n",
    "\n",
    "y_train = to_categorical(train_labels, nb_classes)\n",
    "y_test = to_categorical(test_labels, nb_classes)"
   ]
  },
  {
   "cell_type": "code",
   "execution_count": 11,
   "metadata": {
    "collapsed": true
   },
   "outputs": [],
   "source": [
    "def inception_tl(nb_classes, freez_wts=True, learn_rate=0.001):\n",
    "    trained_model = InceptionV3(include_top=False,weights='imagenet')\n",
    "    x = trained_model.output\n",
    "    x = GlobalAveragePooling2D()(x)\n",
    "    pred_inception= Dense(nb_classes,activation='softmax')(x)\n",
    "    model = Model(inputs=trained_model.input,outputs=pred_inception)\n",
    "    \n",
    "    for layer in trained_model.layers:\n",
    "        layer.trainable=(1-freez_wts)\n",
    "    \n",
    "    adam = Adam(lr=learn_rate)\n",
    "    model.compile(loss='categorical_crossentropy',metrics=['accuracy'],optimizer=adam)\n",
    "    \n",
    "    return(model)"
   ]
  },
  {
   "cell_type": "code",
   "execution_count": 12,
   "metadata": {},
   "outputs": [
    {
     "name": "stdout",
     "output_type": "stream",
     "text": [
      "Train on 5000 samples, validate on 10000 samples\n",
      "Epoch 1/5\n",
      "5000/5000 [==============================] - 44s 9ms/step - loss: 1.6226 - acc: 0.4756 - val_loss: 1.1381 - val_acc: 0.6340\n",
      "Epoch 2/5\n",
      "5000/5000 [==============================] - 43s 9ms/step - loss: 1.0340 - acc: 0.6802 - val_loss: 1.1295 - val_acc: 0.6568\n",
      "Epoch 3/5\n",
      "5000/5000 [==============================] - 42s 8ms/step - loss: 0.8963 - acc: 0.7134 - val_loss: 1.1085 - val_acc: 0.6733\n",
      "Epoch 4/5\n",
      "5000/5000 [==============================] - 61s 12ms/step - loss: 0.8254 - acc: 0.7346 - val_loss: 0.9866 - val_acc: 0.7115\n",
      "Epoch 5/5\n",
      "5000/5000 [==============================] - 46s 9ms/step - loss: 0.7642 - acc: 0.7588 - val_loss: 1.0081 - val_acc: 0.7133\n"
     ]
    },
    {
     "data": {
      "text/plain": [
       "<keras.callbacks.History at 0x7f2de9237f60>"
      ]
     },
     "execution_count": 12,
     "metadata": {},
     "output_type": "execute_result"
    }
   ],
   "source": [
    "model = inception_tl(nb_classes=nb_classes, freez_wts=True)\n",
    "model.fit(x_train[:5000], y_train[:5000],\n",
    "          validation_data=(x_test, y_test),\n",
    "          batch_size=batch_size,\n",
    "          epochs=5)"
   ]
  },
  {
   "cell_type": "code",
   "execution_count": null,
   "metadata": {
    "collapsed": true
   },
   "outputs": [],
   "source": []
  }
 ],
 "metadata": {
  "kernelspec": {
   "display_name": "Python 2",
   "language": "python",
   "name": "python2"
  },
  "language_info": {
   "codemirror_mode": {
    "name": "ipython",
    "version": 3
   },
   "file_extension": ".py",
   "mimetype": "text/x-python",
   "name": "python",
   "nbconvert_exporter": "python",
   "pygments_lexer": "ipython3",
   "version": "3.6.2"
  }
 },
 "nbformat": 4,
 "nbformat_minor": 2
}
