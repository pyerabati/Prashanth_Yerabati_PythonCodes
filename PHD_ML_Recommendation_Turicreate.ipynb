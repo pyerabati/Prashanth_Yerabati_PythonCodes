{
 "cells": [
  {
   "cell_type": "code",
   "execution_count": 6,
   "metadata": {},
   "outputs": [],
   "source": [
    "import pandas as pd\n",
    "import os\n",
    "%matplotlib inline\n",
    "import matplotlib\n",
    "import matplotlib.pyplot as plt\n",
    "import numpy as np"
   ]
  },
  {
   "cell_type": "code",
   "execution_count": 7,
   "metadata": {},
   "outputs": [],
   "source": [
    "os.chdir(\"E:\\Insofe\\PH.D\\PHD_ML\")"
   ]
  },
  {
   "cell_type": "code",
   "execution_count": 8,
   "metadata": {},
   "outputs": [
    {
     "ename": "ModuleNotFoundError",
     "evalue": "No module named 'turicreate'",
     "output_type": "error",
     "traceback": [
      "\u001b[1;31m---------------------------------------------------------------------------\u001b[0m",
      "\u001b[1;31mModuleNotFoundError\u001b[0m                       Traceback (most recent call last)",
      "\u001b[1;32m<ipython-input-8-1b519f14fefb>\u001b[0m in \u001b[0;36m<module>\u001b[1;34m()\u001b[0m\n\u001b[1;32m----> 1\u001b[1;33m \u001b[1;32mimport\u001b[0m \u001b[0mturicreate\u001b[0m\u001b[1;33m\u001b[0m\u001b[0m\n\u001b[0m",
      "\u001b[1;31mModuleNotFoundError\u001b[0m: No module named 'turicreate'"
     ]
    }
   ],
   "source": [
    "import turicreate"
   ]
  },
  {
   "cell_type": "code",
   "execution_count": 3,
   "metadata": {},
   "outputs": [],
   "source": [
    "# pass in column names for each CSV as the column name is not given in the file and read them using pandas.\n",
    "# You can check the column names from the readme file\n",
    "\n",
    "#Reading ratings file:\n",
    "r_cols = ['userid', 'Hotelid', 'OverallRating']\n",
    "ratings = pd.read_csv(\"user_hotel_rating-1555730075105.csv\")\n",
    "\n",
    "#Reading items file:\n",
    "i_cols = ['Hotelid', 'userid' ,'reviewtext','Date', 'NoOfReaders', 'HelpfulToNoOfreaders', 'Value_rating', 'Rooms_rating',\n",
    "'Location_rating', 'Cleanliness_rating', 'Checkin_rating', 'Service_rating', 'Businessservice_rating', 'AverageOverallRatingOfHotel', 'AveragePricing']\n",
    "items = pd.read_csv(\"NewHotels_CutstomerVisitsdata-1554810098964.csv\", parse_dates=[3])"
   ]
  },
  {
   "cell_type": "code",
   "execution_count": 4,
   "metadata": {},
   "outputs": [
    {
     "name": "stdout",
     "output_type": "stream",
     "text": [
      "(271935, 3)\n"
     ]
    },
    {
     "data": {
      "text/html": [
       "<div>\n",
       "<style scoped>\n",
       "    .dataframe tbody tr th:only-of-type {\n",
       "        vertical-align: middle;\n",
       "    }\n",
       "\n",
       "    .dataframe tbody tr th {\n",
       "        vertical-align: top;\n",
       "    }\n",
       "\n",
       "    .dataframe thead th {\n",
       "        text-align: right;\n",
       "    }\n",
       "</style>\n",
       "<table border=\"1\" class=\"dataframe\">\n",
       "  <thead>\n",
       "    <tr style=\"text-align: right;\">\n",
       "      <th></th>\n",
       "      <th>userid</th>\n",
       "      <th>Hotelid</th>\n",
       "      <th>OverallRating</th>\n",
       "    </tr>\n",
       "  </thead>\n",
       "  <tbody>\n",
       "    <tr>\n",
       "      <th>0</th>\n",
       "      <td>user_78131</td>\n",
       "      <td>hotel_558</td>\n",
       "      <td>3</td>\n",
       "    </tr>\n",
       "    <tr>\n",
       "      <th>1</th>\n",
       "      <td>user_78131</td>\n",
       "      <td>hotel_603</td>\n",
       "      <td>2</td>\n",
       "    </tr>\n",
       "    <tr>\n",
       "      <th>2</th>\n",
       "      <td>user_78131</td>\n",
       "      <td>hotel_610</td>\n",
       "      <td>3</td>\n",
       "    </tr>\n",
       "    <tr>\n",
       "      <th>3</th>\n",
       "      <td>user_78131</td>\n",
       "      <td>hotel_574</td>\n",
       "      <td>3</td>\n",
       "    </tr>\n",
       "    <tr>\n",
       "      <th>4</th>\n",
       "      <td>user_78131</td>\n",
       "      <td>hotel_570</td>\n",
       "      <td>3</td>\n",
       "    </tr>\n",
       "  </tbody>\n",
       "</table>\n",
       "</div>"
      ],
      "text/plain": [
       "       userid    Hotelid  OverallRating\n",
       "0  user_78131  hotel_558              3\n",
       "1  user_78131  hotel_603              2\n",
       "2  user_78131  hotel_610              3\n",
       "3  user_78131  hotel_574              3\n",
       "4  user_78131  hotel_570              3"
      ]
     },
     "execution_count": 4,
     "metadata": {},
     "output_type": "execute_result"
    }
   ],
   "source": [
    "# Ratings\n",
    "print(ratings.shape)\n",
    "ratings.head()"
   ]
  },
  {
   "cell_type": "code",
   "execution_count": 5,
   "metadata": {},
   "outputs": [
    {
     "data": {
      "text/plain": [
       "userid           object\n",
       "Hotelid          object\n",
       "OverallRating     int64\n",
       "dtype: object"
      ]
     },
     "execution_count": 5,
     "metadata": {},
     "output_type": "execute_result"
    }
   ],
   "source": [
    "ratings.dtypes"
   ]
  },
  {
   "cell_type": "code",
   "execution_count": 6,
   "metadata": {},
   "outputs": [
    {
     "data": {
      "text/plain": [
       "userid           0\n",
       "Hotelid          0\n",
       "OverallRating    0\n",
       "dtype: int64"
      ]
     },
     "execution_count": 6,
     "metadata": {},
     "output_type": "execute_result"
    }
   ],
   "source": [
    "ratings.isnull().sum()"
   ]
  },
  {
   "cell_type": "code",
   "execution_count": 7,
   "metadata": {},
   "outputs": [
    {
     "name": "stdout",
     "output_type": "stream",
     "text": [
      "(2469, 15)\n"
     ]
    },
    {
     "data": {
      "text/html": [
       "<div>\n",
       "<style scoped>\n",
       "    .dataframe tbody tr th:only-of-type {\n",
       "        vertical-align: middle;\n",
       "    }\n",
       "\n",
       "    .dataframe tbody tr th {\n",
       "        vertical-align: top;\n",
       "    }\n",
       "\n",
       "    .dataframe thead th {\n",
       "        text-align: right;\n",
       "    }\n",
       "</style>\n",
       "<table border=\"1\" class=\"dataframe\">\n",
       "  <thead>\n",
       "    <tr style=\"text-align: right;\">\n",
       "      <th></th>\n",
       "      <th>Hotelid</th>\n",
       "      <th>userid</th>\n",
       "      <th>reviewtext</th>\n",
       "      <th>Date</th>\n",
       "      <th>NoOfReaders</th>\n",
       "      <th>HelpfulToNoOfreaders</th>\n",
       "      <th>Value_rating</th>\n",
       "      <th>Rooms_rating</th>\n",
       "      <th>Location_rating</th>\n",
       "      <th>Cleanliness_rating</th>\n",
       "      <th>Checkin_rating</th>\n",
       "      <th>Service_rating</th>\n",
       "      <th>Businessservice_rating</th>\n",
       "      <th>AverageOverallRatingOfHotel</th>\n",
       "      <th>AveragePricing</th>\n",
       "    </tr>\n",
       "  </thead>\n",
       "  <tbody>\n",
       "    <tr>\n",
       "      <th>0</th>\n",
       "      <td>hotel_104</td>\n",
       "      <td>hotel_4342</td>\n",
       "      <td>Awesome Everything about this resort was great...</td>\n",
       "      <td>2009-01-05</td>\n",
       "      <td>0</td>\n",
       "      <td>0</td>\n",
       "      <td>6</td>\n",
       "      <td>6</td>\n",
       "      <td>6</td>\n",
       "      <td>6</td>\n",
       "      <td>6</td>\n",
       "      <td>6</td>\n",
       "      <td>6</td>\n",
       "      <td>4.0</td>\n",
       "      <td>$227</td>\n",
       "    </tr>\n",
       "    <tr>\n",
       "      <th>1</th>\n",
       "      <td>hotel_104</td>\n",
       "      <td>hotel_2024</td>\n",
       "      <td>Convenient  When I say Above Average I'm compa...</td>\n",
       "      <td>2008-11-10</td>\n",
       "      <td>0</td>\n",
       "      <td>0</td>\n",
       "      <td>4</td>\n",
       "      <td>4</td>\n",
       "      <td>6</td>\n",
       "      <td>5</td>\n",
       "      <td>4</td>\n",
       "      <td>5</td>\n",
       "      <td>1</td>\n",
       "      <td>4.0</td>\n",
       "      <td>$227</td>\n",
       "    </tr>\n",
       "    <tr>\n",
       "      <th>2</th>\n",
       "      <td>hotel_104</td>\n",
       "      <td>hotel_8720</td>\n",
       "      <td>Nice with its quirks       Beach looking west</td>\n",
       "      <td>2008-11-03</td>\n",
       "      <td>0</td>\n",
       "      <td>0</td>\n",
       "      <td>3</td>\n",
       "      <td>4</td>\n",
       "      <td>4</td>\n",
       "      <td>5</td>\n",
       "      <td>6</td>\n",
       "      <td>4</td>\n",
       "      <td>4</td>\n",
       "      <td>4.0</td>\n",
       "      <td>$227</td>\n",
       "    </tr>\n",
       "    <tr>\n",
       "      <th>3</th>\n",
       "      <td>hotel_104</td>\n",
       "      <td>hotel_3267</td>\n",
       "      <td>Always a 5 star stay! Its always a good trip w...</td>\n",
       "      <td>2008-09-30</td>\n",
       "      <td>0</td>\n",
       "      <td>0</td>\n",
       "      <td>6</td>\n",
       "      <td>6</td>\n",
       "      <td>6</td>\n",
       "      <td>6</td>\n",
       "      <td>6</td>\n",
       "      <td>6</td>\n",
       "      <td>6</td>\n",
       "      <td>4.0</td>\n",
       "      <td>$227</td>\n",
       "    </tr>\n",
       "    <tr>\n",
       "      <th>4</th>\n",
       "      <td>hotel_104</td>\n",
       "      <td>hotel_5419</td>\n",
       "      <td>Loved It! The hotel is beautiful with spectacu...</td>\n",
       "      <td>2008-08-29</td>\n",
       "      <td>3</td>\n",
       "      <td>2</td>\n",
       "      <td>6</td>\n",
       "      <td>4</td>\n",
       "      <td>6</td>\n",
       "      <td>6</td>\n",
       "      <td>6</td>\n",
       "      <td>6</td>\n",
       "      <td>6</td>\n",
       "      <td>4.0</td>\n",
       "      <td>$227</td>\n",
       "    </tr>\n",
       "  </tbody>\n",
       "</table>\n",
       "</div>"
      ],
      "text/plain": [
       "     Hotelid      userid                                         reviewtext  \\\n",
       "0  hotel_104  hotel_4342  Awesome Everything about this resort was great...   \n",
       "1  hotel_104  hotel_2024  Convenient  When I say Above Average I'm compa...   \n",
       "2  hotel_104  hotel_8720      Nice with its quirks       Beach looking west   \n",
       "3  hotel_104  hotel_3267  Always a 5 star stay! Its always a good trip w...   \n",
       "4  hotel_104  hotel_5419  Loved It! The hotel is beautiful with spectacu...   \n",
       "\n",
       "        Date  NoOfReaders  HelpfulToNoOfreaders  Value_rating  Rooms_rating  \\\n",
       "0 2009-01-05            0                     0             6             6   \n",
       "1 2008-11-10            0                     0             4             4   \n",
       "2 2008-11-03            0                     0             3             4   \n",
       "3 2008-09-30            0                     0             6             6   \n",
       "4 2008-08-29            3                     2             6             4   \n",
       "\n",
       "   Location_rating  Cleanliness_rating  Checkin_rating  Service_rating  \\\n",
       "0                6                   6               6               6   \n",
       "1                6                   5               4               5   \n",
       "2                4                   5               6               4   \n",
       "3                6                   6               6               6   \n",
       "4                6                   6               6               6   \n",
       "\n",
       "   Businessservice_rating  AverageOverallRatingOfHotel AveragePricing  \n",
       "0                       6                          4.0           $227  \n",
       "1                       1                          4.0           $227  \n",
       "2                       4                          4.0           $227  \n",
       "3                       6                          4.0           $227  \n",
       "4                       6                          4.0           $227  "
      ]
     },
     "execution_count": 7,
     "metadata": {},
     "output_type": "execute_result"
    }
   ],
   "source": [
    "# Items\n",
    "print(items.shape)\n",
    "items.head()"
   ]
  },
  {
   "cell_type": "code",
   "execution_count": 8,
   "metadata": {
    "scrolled": true
   },
   "outputs": [
    {
     "name": "stdout",
     "output_type": "stream",
     "text": [
      "5010\n",
      "130\n"
     ]
    }
   ],
   "source": [
    "#Building collaborative filtering model from scratch\n",
    "n_users = ratings.userid.unique().shape[0]\n",
    "print(n_users)\n",
    "n_items = ratings.Hotelid.unique().shape[0]\n",
    "print(n_items)"
   ]
  },
  {
   "cell_type": "code",
   "execution_count": 9,
   "metadata": {},
   "outputs": [
    {
     "name": "stderr",
     "output_type": "stream",
     "text": [
      "C:\\Users\\prash\\Anaconda3\\lib\\site-packages\\ipykernel_launcher.py:4: FutureWarning: Method .as_matrix will be removed in a future version. Use .values instead.\n",
      "  after removing the cwd from sys.path.\n"
     ]
    }
   ],
   "source": [
    "from scipy.sparse import csr_matrix\n",
    "data_matrix = np.zeros((n_users, n_items))\n",
    "data_matrix_pivot = ratings.pivot(index = 'userid', columns ='Hotelid', values = 'OverallRating').fillna(0)\n",
    "data_matrix = data_matrix_pivot.as_matrix()"
   ]
  },
  {
   "cell_type": "code",
   "execution_count": 10,
   "metadata": {},
   "outputs": [
    {
     "data": {
      "text/plain": [
       "array([[0., 3., 0., ..., 3., 0., 0.],\n",
       "       [0., 0., 0., ..., 0., 3., 3.],\n",
       "       [0., 0., 0., ..., 0., 2., 0.],\n",
       "       ...,\n",
       "       [0., 0., 0., ..., 0., 3., 0.],\n",
       "       [0., 3., 2., ..., 2., 0., 2.],\n",
       "       [0., 3., 0., ..., 4., 0., 0.]])"
      ]
     },
     "execution_count": 10,
     "metadata": {},
     "output_type": "execute_result"
    }
   ],
   "source": [
    "data_matrix"
   ]
  },
  {
   "cell_type": "code",
   "execution_count": 11,
   "metadata": {},
   "outputs": [
    {
     "data": {
      "text/plain": [
       "(5010, 130)"
      ]
     },
     "execution_count": 11,
     "metadata": {},
     "output_type": "execute_result"
    }
   ],
   "source": [
    "data_matrix.shape"
   ]
  },
  {
   "cell_type": "code",
   "execution_count": 12,
   "metadata": {},
   "outputs": [
    {
     "data": {
      "text/plain": [
       "NearestNeighbors(algorithm='brute', leaf_size=30, metric='cosine',\n",
       "         metric_params=None, n_jobs=None, n_neighbors=5, p=2, radius=1.0)"
      ]
     },
     "execution_count": 12,
     "metadata": {},
     "output_type": "execute_result"
    }
   ],
   "source": [
    "from sklearn.neighbors import NearestNeighbors\n",
    "model_knn = NearestNeighbors(metric = 'cosine', algorithm = 'brute')\n",
    "model_knn.fit(data_matrix)"
   ]
  },
  {
   "cell_type": "code",
   "execution_count": 13,
   "metadata": {},
   "outputs": [],
   "source": [
    "from sklearn.metrics.pairwise import pairwise_distances \n",
    "user_similarity = pairwise_distances(data_matrix, metric='cosine')\n",
    "item_similarity = pairwise_distances(data_matrix.T, metric='cosine')"
   ]
  },
  {
   "cell_type": "code",
   "execution_count": 14,
   "metadata": {},
   "outputs": [],
   "source": [
    "def predict(ratings, similarity, type='user'):\n",
    "    if type == 'user':\n",
    "        mean_user_rating = ratings.mean(axis=1)\n",
    "        print(ratings.mean)\n",
    "        print(mean_user_rating)\n",
    "        print(ratings - mean_user_rating[:, np.newaxis])\n",
    "        #We use np.newaxis so that mean_user_rating has same format as ratings\n",
    "        ratings_diff = (ratings - mean_user_rating[:, np.newaxis])\n",
    "        pred = mean_user_rating[:, np.newaxis] + similarity.dot(ratings_diff) / np.array([np.abs(similarity).sum(axis=1)]).T\n",
    "    elif type == 'item':\n",
    "        pred = ratings.dot(similarity) / np.array([np.abs(similarity).sum(axis=1)])\n",
    "    return pred"
   ]
  },
  {
   "cell_type": "code",
   "execution_count": 15,
   "metadata": {},
   "outputs": [
    {
     "name": "stdout",
     "output_type": "stream",
     "text": [
      "<built-in method mean of numpy.ndarray object at 0x00000220414C8CB0>\n",
      "[1.13846154 1.33076923 1.13076923 ... 1.33846154 1.34615385 1.3       ]\n",
      "[[-1.13846154  1.86153846 -1.13846154 ...  1.86153846 -1.13846154\n",
      "  -1.13846154]\n",
      " [-1.33076923 -1.33076923 -1.33076923 ... -1.33076923  1.66923077\n",
      "   1.66923077]\n",
      " [-1.13076923 -1.13076923 -1.13076923 ... -1.13076923  0.86923077\n",
      "  -1.13076923]\n",
      " ...\n",
      " [-1.33846154 -1.33846154 -1.33846154 ... -1.33846154  1.66153846\n",
      "  -1.33846154]\n",
      " [-1.34615385  1.65384615  0.65384615 ...  0.65384615 -1.34615385\n",
      "   0.65384615]\n",
      " [-1.3         1.7        -1.3        ...  2.7        -1.3\n",
      "  -1.3       ]]\n"
     ]
    }
   ],
   "source": [
    "user_prediction = predict(data_matrix, user_similarity, type='user')\n",
    "item_prediction = predict(data_matrix, item_similarity, type='item')"
   ]
  },
  {
   "cell_type": "code",
   "execution_count": 16,
   "metadata": {},
   "outputs": [
    {
     "name": "stdout",
     "output_type": "stream",
     "text": [
      "Collecting turicreate\n",
      "  Using cached https://files.pythonhosted.org/packages/db/54/167837569bcb816b3fe68f003f18d07ab9d5ac31b2b12b8f9b07b1ccc7a4/turicreate-4.2.tar.gz\n",
      "Building wheels for collected packages: turicreate\n",
      "  Building wheel for turicreate (setup.py): started\n",
      "  Building wheel for turicreate (setup.py): finished with status 'error'\n",
      "  Complete output from command C:\\Users\\prash\\Anaconda3\\python.exe -u -c \"import setuptools, tokenize;__file__='C:\\\\Users\\\\prash\\\\AppData\\\\Local\\\\Temp\\\\pip-install-rwy8vdn5\\\\turicreate\\\\setup.py';f=getattr(tokenize, 'open', open)(__file__);code=f.read().replace('\\r\\n', '\\n');f.close();exec(compile(code, __file__, 'exec'))\" bdist_wheel -d C:\\Users\\prash\\AppData\\Local\\Temp\\pip-wheel-vhx27pe4 --python-tag cp36:\n",
      "  running bdist_wheel\n",
      "  running build\n",
      "  installing to build\\bdist.win-amd64\\wheel\n",
      "  running install\n",
      "  \n",
      "  \n",
      "          ==================================================================================\n",
      "          ERROR\n",
      "  \n",
      "          If you see this message, pip install did not find an available binary package\n",
      "          for your system. Supported platforms are:\n",
      "  \n",
      "          * Linux x86_64 (including WSL on Windows 10).\n",
      "          * macOS 10.12+ x86_64.\n",
      "          * Python 2.7, 3.5, or 3.6.\n",
      "  \n",
      "          Other possible causes of this error are:\n",
      "  \n",
      "          * Outdated pip version (try `pip install -U pip`).\n",
      "  \n",
      "          ==================================================================================\n",
      "  \n",
      "  \n",
      "  \n",
      "  ----------------------------------------\n",
      "  Running setup.py clean for turicreate\n",
      "Failed to build turicreate\n",
      "Installing collected packages: turicreate\n",
      "  Running setup.py install for turicreate: started\n",
      "    Running setup.py install for turicreate: finished with status 'error'\n",
      "    Complete output from command C:\\Users\\prash\\Anaconda3\\python.exe -u -c \"import setuptools, tokenize;__file__='C:\\\\Users\\\\prash\\\\AppData\\\\Local\\\\Temp\\\\pip-install-rwy8vdn5\\\\turicreate\\\\setup.py';f=getattr(tokenize, 'open', open)(__file__);code=f.read().replace('\\r\\n', '\\n');f.close();exec(compile(code, __file__, 'exec'))\" install --record C:\\Users\\prash\\AppData\\Local\\Temp\\pip-record-4vsjbwrl\\install-record.txt --single-version-externally-managed --compile:\n",
      "    running install\n",
      "    \n",
      "    \n",
      "            ==================================================================================\n",
      "            ERROR\n",
      "    \n",
      "            If you see this message, pip install did not find an available binary package\n",
      "            for your system. Supported platforms are:\n",
      "    \n",
      "            * Linux x86_64 (including WSL on Windows 10).\n",
      "            * macOS 10.12+ x86_64.\n",
      "            * Python 2.7, 3.5, or 3.6.\n",
      "    \n",
      "            Other possible causes of this error are:\n",
      "    \n",
      "            * Outdated pip version (try `pip install -U pip`).\n",
      "    \n",
      "            ==================================================================================\n",
      "    \n",
      "    \n",
      "    \n",
      "    ----------------------------------------\n"
     ]
    },
    {
     "name": "stderr",
     "output_type": "stream",
     "text": [
      "  Failed building wheel for turicreate\n",
      "Command \"C:\\Users\\prash\\Anaconda3\\python.exe -u -c \"import setuptools, tokenize;__file__='C:\\\\Users\\\\prash\\\\AppData\\\\Local\\\\Temp\\\\pip-install-rwy8vdn5\\\\turicreate\\\\setup.py';f=getattr(tokenize, 'open', open)(__file__);code=f.read().replace('\\r\\n', '\\n');f.close();exec(compile(code, __file__, 'exec'))\" install --record C:\\Users\\prash\\AppData\\Local\\Temp\\pip-record-4vsjbwrl\\install-record.txt --single-version-externally-managed --compile\" failed with error code 1 in C:\\Users\\prash\\AppData\\Local\\Temp\\pip-install-rwy8vdn5\\turicreate\\\n"
     ]
    }
   ],
   "source": [
    "!pip install turicreate"
   ]
  },
  {
   "cell_type": "code",
   "execution_count": 2,
   "metadata": {},
   "outputs": [
    {
     "ename": "ModuleNotFoundError",
     "evalue": "No module named 'turicreate'",
     "output_type": "error",
     "traceback": [
      "\u001b[1;31m---------------------------------------------------------------------------\u001b[0m",
      "\u001b[1;31mModuleNotFoundError\u001b[0m                       Traceback (most recent call last)",
      "\u001b[1;32m<ipython-input-2-1b519f14fefb>\u001b[0m in \u001b[0;36m<module>\u001b[1;34m()\u001b[0m\n\u001b[1;32m----> 1\u001b[1;33m \u001b[1;32mimport\u001b[0m \u001b[0mturicreate\u001b[0m\u001b[1;33m\u001b[0m\u001b[0m\n\u001b[0m",
      "\u001b[1;31mModuleNotFoundError\u001b[0m: No module named 'turicreate'"
     ]
    }
   ],
   "source": [
    "import turicreate"
   ]
  },
  {
   "cell_type": "code",
   "execution_count": 102,
   "metadata": {},
   "outputs": [
    {
     "ename": "NameError",
     "evalue": "name 'turicreate' is not defined",
     "output_type": "error",
     "traceback": [
      "\u001b[1;31m---------------------------------------------------------------------------\u001b[0m",
      "\u001b[1;31mNameError\u001b[0m                                 Traceback (most recent call last)",
      "\u001b[1;32m<ipython-input-102-a66cba3c14c2>\u001b[0m in \u001b[0;36m<module>\u001b[1;34m()\u001b[0m\n\u001b[1;32m----> 1\u001b[1;33m \u001b[0mpopularity_model\u001b[0m \u001b[1;33m=\u001b[0m \u001b[0mturicreate\u001b[0m\u001b[1;33m.\u001b[0m\u001b[0mpopularity_recommender\u001b[0m\u001b[1;33m.\u001b[0m\u001b[0mcreate\u001b[0m\u001b[1;33m(\u001b[0m\u001b[0mratings\u001b[0m\u001b[1;33m,\u001b[0m \u001b[0muser_id\u001b[0m\u001b[1;33m=\u001b[0m\u001b[1;34m'user_id'\u001b[0m\u001b[1;33m,\u001b[0m \u001b[0mitem_id\u001b[0m\u001b[1;33m=\u001b[0m\u001b[1;34m'movie_id'\u001b[0m\u001b[1;33m,\u001b[0m \u001b[0mtarget\u001b[0m\u001b[1;33m=\u001b[0m\u001b[1;34m'rating'\u001b[0m\u001b[1;33m)\u001b[0m\u001b[1;33m\u001b[0m\u001b[0m\n\u001b[0m",
      "\u001b[1;31mNameError\u001b[0m: name 'turicreate' is not defined"
     ]
    }
   ],
   "source": [
    " popularity_model = turicreate.popularity_recommender.create(ratings, user_id='user_id', item_id='movie_id', target='rating')"
   ]
  },
  {
   "cell_type": "code",
   "execution_count": null,
   "metadata": {},
   "outputs": [],
   "source": []
  }
 ],
 "metadata": {
  "kernelspec": {
   "display_name": "Python 3",
   "language": "python",
   "name": "python3"
  },
  "language_info": {
   "codemirror_mode": {
    "name": "ipython",
    "version": 3
   },
   "file_extension": ".py",
   "mimetype": "text/x-python",
   "name": "python",
   "nbconvert_exporter": "python",
   "pygments_lexer": "ipython3",
   "version": "3.6.5"
  }
 },
 "nbformat": 4,
 "nbformat_minor": 2
}
