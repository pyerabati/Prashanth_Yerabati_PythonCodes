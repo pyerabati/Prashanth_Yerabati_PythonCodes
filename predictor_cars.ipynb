{
 "cells": [
  {
   "cell_type": "code",
   "execution_count": 1,
   "metadata": {},
   "outputs": [],
   "source": [
    "# Importing datasets\n",
    "import pickle\n",
    "import pandas as pd\n",
    "import numpy as np\n",
    "from sklearn.linear_model import LinearRegression"
   ]
  },
  {
   "cell_type": "code",
   "execution_count": 2,
   "metadata": {},
   "outputs": [],
   "source": [
    "# Predicting using the Pickle\n",
    "\n",
    "\n",
    "class my_salary_predictor():\n",
    "    def __init__(self):\n",
    "        pass\n",
    "\n",
    "    def deserialize(self): # Seriliazation\n",
    "    # de-serialize mlp_nn.pkl file into an object called model using pickle\n",
    "        with open('mlp_lr.pkl', 'rb') as handle:\n",
    "            model = pickle.load(handle)\n",
    "        return model\n",
    "    def predict(self,exp):\n",
    "        print('exp')\n",
    "        model = self.deserialize() # Deserilization\n",
    "        return model.predict(np.array([[exp]]).tolist()).tolist() # Predicting Salary"
   ]
  },
  {
   "cell_type": "code",
   "execution_count": 28,
   "metadata": {},
   "outputs": [],
   "source": []
  },
  {
   "cell_type": "code",
   "execution_count": 29,
   "metadata": {},
   "outputs": [],
   "source": []
  },
  {
   "cell_type": "code",
   "execution_count": null,
   "metadata": {},
   "outputs": [],
   "source": []
  }
 ],
 "metadata": {
  "kernelspec": {
   "display_name": "Python 3",
   "language": "python",
   "name": "python3"
  },
  "language_info": {
   "codemirror_mode": {
    "name": "ipython",
    "version": 3
   },
   "file_extension": ".py",
   "mimetype": "text/x-python",
   "name": "python",
   "nbconvert_exporter": "python",
   "pygments_lexer": "ipython3",
   "version": "3.6.5"
  }
 },
 "nbformat": 4,
 "nbformat_minor": 2
}
