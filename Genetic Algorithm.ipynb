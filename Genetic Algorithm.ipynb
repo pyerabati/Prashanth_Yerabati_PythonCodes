{
 "cells": [
  {
   "cell_type": "code",
   "execution_count": 2,
   "metadata": {},
   "outputs": [
    {
     "data": {
      "text/html": [
       "<div>\n",
       "<style>\n",
       "    .dataframe thead tr:only-child th {\n",
       "        text-align: right;\n",
       "    }\n",
       "\n",
       "    .dataframe thead th {\n",
       "        text-align: left;\n",
       "    }\n",
       "\n",
       "    .dataframe tbody tr th {\n",
       "        vertical-align: top;\n",
       "    }\n",
       "</style>\n",
       "<table border=\"1\" class=\"dataframe\">\n",
       "  <thead>\n",
       "    <tr style=\"text-align: right;\">\n",
       "      <th></th>\n",
       "      <th>item</th>\n",
       "      <th>survival</th>\n",
       "      <th>weight</th>\n",
       "    </tr>\n",
       "  </thead>\n",
       "  <tbody>\n",
       "    <tr>\n",
       "      <th>0</th>\n",
       "      <td>pocketKnife</td>\n",
       "      <td>15</td>\n",
       "      <td>2</td>\n",
       "    </tr>\n",
       "    <tr>\n",
       "      <th>1</th>\n",
       "      <td>beans</td>\n",
       "      <td>3</td>\n",
       "      <td>2</td>\n",
       "    </tr>\n",
       "    <tr>\n",
       "      <th>2</th>\n",
       "      <td>potatoes</td>\n",
       "      <td>14</td>\n",
       "      <td>3</td>\n",
       "    </tr>\n",
       "    <tr>\n",
       "      <th>3</th>\n",
       "      <td>onions</td>\n",
       "      <td>2</td>\n",
       "      <td>2</td>\n",
       "    </tr>\n",
       "    <tr>\n",
       "      <th>4</th>\n",
       "      <td>sleepingBag</td>\n",
       "      <td>30</td>\n",
       "      <td>5</td>\n",
       "    </tr>\n",
       "    <tr>\n",
       "      <th>5</th>\n",
       "      <td>rope</td>\n",
       "      <td>25</td>\n",
       "      <td>6</td>\n",
       "    </tr>\n",
       "    <tr>\n",
       "      <th>6</th>\n",
       "      <td>compass</td>\n",
       "      <td>10</td>\n",
       "      <td>2</td>\n",
       "    </tr>\n",
       "  </tbody>\n",
       "</table>\n",
       "</div>"
      ],
      "text/plain": [
       "          item  survival  weight\n",
       "0  pocketKnife        15       2\n",
       "1        beans         3       2\n",
       "2     potatoes        14       3\n",
       "3       onions         2       2\n",
       "4  sleepingBag        30       5\n",
       "5         rope        25       6\n",
       "6      compass        10       2"
      ]
     },
     "execution_count": 2,
     "metadata": {},
     "output_type": "execute_result"
    }
   ],
   "source": [
    "import numpy as np\n",
    "import pandas as pd\n",
    "import matplotlib.pyplot as plt\n",
    "import seaborn as sns\n",
    "%matplotlib inline\n",
    " \n",
    "items = ['pocketKnife', 'beans', 'potatoes', 'onions', 'sleepingBag', 'rope', 'compass']\n",
    "survival = [15, 3, 14, 2, 30, 25, 10]\n",
    "weight = [2, 2, 3, 2, 5, 6, 2]\n",
    "weightLimit = 15\n",
    " \n",
    "data = pd.DataFrame({'item': items, 'survival': survival, 'weight': weight})\n",
    "data"
   ]
  },
  {
   "cell_type": "code",
   "execution_count": 19,
   "metadata": {},
   "outputs": [
    {
     "name": "stdout",
     "output_type": "stream",
     "text": [
      "[0 1 1 0 1 1 1] 0\n"
     ]
    }
   ],
   "source": []
  },
  {
   "cell_type": "code",
   "execution_count": 22,
   "metadata": {},
   "outputs": [
    {
     "name": "stdout",
     "output_type": "stream",
     "text": [
      "[0 0 1 1 0 1 0] 41\n"
     ]
    }
   ],
   "source": [
    "genePool = [0, 1]\n",
    "\n",
    "def get_child(length=7):\n",
    "    genes = np.random.choice(genePool, size=length)\n",
    "    return(genes)\n",
    "\n",
    "def fitness(child):\n",
    "    net_survival = sum(child * data.survival)\n",
    "    net_weight = sum(child * data.weight)\n",
    "    if net_weight > weightLimit:\n",
    "        return(0)\n",
    "    else:\n",
    "        return(net_survival)\n",
    "\n",
    "x = get_child()\n",
    "print(x, fitness(x))"
   ]
  },
  {
   "cell_type": "code",
   "execution_count": 56,
   "metadata": {},
   "outputs": [
    {
     "name": "stdout",
     "output_type": "stream",
     "text": [
      "[0 0 0 1 0 1 0] [0 0 0 1 0 0 0]\n"
     ]
    }
   ],
   "source": [
    "def mutate(parent, nbits=1):\n",
    "    n = np.random.randint(7, size=nbits)\n",
    "    child = parent.copy()\n",
    "    for index in n:\n",
    "        child[index] = 1 - child[index]\n",
    "    return(child)\n",
    "\n",
    "x = get_child()\n",
    "\n",
    "print(x, mutate(x, nbits=3))"
   ]
  },
  {
   "cell_type": "code",
   "execution_count": 68,
   "metadata": {},
   "outputs": [
    {
     "name": "stdout",
     "output_type": "stream",
     "text": [
      "[0 1 0 1 0 1 0] [1 1 1 0 1 1 0]\n",
      "(array([0, 1, 0, 0, 0, 1, 0]), array([1, 1, 1, 1, 1, 1, 0]))\n"
     ]
    }
   ],
   "source": [
    "def cross_over(p1, p2):\n",
    "    n = np.random.choice([1, 2, 3, 4], p = [0.25]*4)\n",
    "    idxs = np.random.randint(7, size=n)\n",
    "    c1, c2 = p1.copy(), p2.copy()\n",
    "    c1[idxs] = p2[idxs]\n",
    "    c2[idxs] = p1[idxs]\n",
    "    return(c1, c2)\n",
    "\n",
    "p1, p2 = get_child(), get_child()\n",
    "print(p1, p2)\n",
    "print(cross_over(p1, p2))"
   ]
  },
  {
   "cell_type": "code",
   "execution_count": 87,
   "metadata": {
    "collapsed": true
   },
   "outputs": [],
   "source": [
    "def get_elite(population, frac=0.3):\n",
    "    population = sorted(population, key=lambda x: fitness(x), reverse=True)\n",
    "    elite_size = int(np.floor(len(population)*frac))\n",
    "    return(population[:elite_size])"
   ]
  },
  {
   "cell_type": "code",
   "execution_count": 89,
   "metadata": {},
   "outputs": [],
   "source": [
    "pop_size = 100\n",
    "population = [get_child() for _ in range(pop_size)]\n",
    "elite = get_elite(population)\n",
    "\n",
    "for iteration in range(40):\n",
    "    new_population = []\n",
    "    \n",
    "    elite_idx = range(len(elite))\n",
    "    \n",
    "    while len(new_population) < pop_size:\n",
    "        mutate_ = np.random.choice([0, 1], p=[0.1, 0.9])\n",
    "        if mutate_:\n",
    "            nbits = np.random.choice([1, 2, 3], p=[0.5, 0.25, 0.25])\n",
    "            parent_idx = np.random.choice(elite_idx)\n",
    "            new_population.append(mutate(elite[parent_idx], nbits=nbits))\n",
    "            \n",
    "        else:\n",
    "            p1, p2 = np.random.choice(elite_idx, 2)\n",
    "            c1, c2 = cross_over(elite[p1], elite[p2])\n",
    "            new_population.extend([c1, c2])\n",
    "    \n",
    "    population = new_population\n",
    "    elite = get_elite(population)"
   ]
  },
  {
   "cell_type": "code",
   "execution_count": 92,
   "metadata": {},
   "outputs": [
    {
     "data": {
      "text/plain": [
       "[(array([1, 0, 0, 0, 1, 1, 1]), 80),\n",
       " (array([1, 0, 0, 0, 1, 1, 1]), 80),\n",
       " (array([1, 0, 0, 0, 1, 1, 1]), 80),\n",
       " (array([1, 0, 0, 0, 1, 1, 1]), 80),\n",
       " (array([1, 0, 0, 0, 1, 1, 1]), 80),\n",
       " (array([1, 0, 0, 0, 1, 1, 1]), 80),\n",
       " (array([1, 0, 0, 0, 1, 1, 1]), 80),\n",
       " (array([1, 1, 0, 0, 1, 1, 0]), 73),\n",
       " (array([1, 1, 0, 0, 1, 1, 0]), 73),\n",
       " (array([1, 1, 0, 0, 1, 1, 0]), 73),\n",
       " (array([1, 1, 0, 0, 1, 1, 0]), 73),\n",
       " (array([1, 0, 0, 1, 1, 1, 0]), 72),\n",
       " (array([1, 0, 0, 1, 1, 1, 0]), 72),\n",
       " (array([1, 0, 0, 1, 1, 1, 0]), 72),\n",
       " (array([1, 0, 0, 1, 1, 1, 0]), 72),\n",
       " (array([1, 0, 0, 1, 1, 1, 0]), 72),\n",
       " (array([1, 1, 1, 0, 1, 0, 1]), 72),\n",
       " (array([1, 0, 0, 1, 1, 1, 0]), 72),\n",
       " (array([1, 0, 0, 1, 1, 1, 0]), 72),\n",
       " (array([1, 0, 0, 1, 1, 1, 0]), 72),\n",
       " (array([1, 0, 0, 1, 1, 1, 0]), 72),\n",
       " (array([1, 0, 0, 0, 1, 1, 0]), 70),\n",
       " (array([1, 0, 0, 0, 1, 1, 0]), 70),\n",
       " (array([1, 0, 0, 0, 1, 1, 0]), 70),\n",
       " (array([1, 0, 0, 0, 1, 1, 0]), 70),\n",
       " (array([1, 0, 0, 0, 1, 1, 0]), 70),\n",
       " (array([1, 0, 0, 0, 1, 1, 0]), 70),\n",
       " (array([1, 0, 0, 0, 1, 1, 0]), 70),\n",
       " (array([1, 0, 0, 0, 1, 1, 0]), 70),\n",
       " (array([1, 0, 0, 0, 1, 1, 0]), 70)]"
      ]
     },
     "execution_count": 92,
     "metadata": {},
     "output_type": "execute_result"
    }
   ],
   "source": [
    "list(zip(elite, [fitness(i) for i in elite]))"
   ]
  },
  {
   "cell_type": "code",
   "execution_count": null,
   "metadata": {
    "collapsed": true
   },
   "outputs": [],
   "source": []
  },
  {
   "cell_type": "code",
   "execution_count": null,
   "metadata": {
    "collapsed": true
   },
   "outputs": [],
   "source": []
  },
  {
   "cell_type": "code",
   "execution_count": null,
   "metadata": {
    "collapsed": true
   },
   "outputs": [],
   "source": []
  },
  {
   "cell_type": "code",
   "execution_count": 75,
   "metadata": {},
   "outputs": [
    {
     "name": "stdout",
     "output_type": "stream",
     "text": [
      "Swap\n",
      "Swap\n",
      "Swap\n",
      "Swap\n",
      "[1 1 0 0 1 1 0] 73\n",
      "[1 1 0 0 1 1 0] 73\n",
      "[1 1 0 0 1 1 0] 73\n",
      "Swap\n",
      "[1 0 0 0 1 1 1] 80\n",
      "[1 0 0 0 1 1 1] 80\n",
      "[1 0 0 0 1 1 1] 80\n",
      "[1 0 0 0 1 1 1] 80\n",
      "[1 0 0 0 1 1 1] 80\n",
      "[1 0 0 0 1 1 1] 80\n",
      "[1 0 0 0 1 1 1] 80\n"
     ]
    }
   ],
   "source": [
    "parent = get_child()\n",
    "counter = 0\n",
    "while counter < 1000:\n",
    "    nbits = np.random.choice([1, 2, 3], p=[0.5, 0.2, 0.3])\n",
    "    child = mutate(parent, nbits=nbits)\n",
    "    if fitness(child) > fitness(parent):\n",
    "        print('Swap')\n",
    "        parent = child.copy()\n",
    "    counter += 1\n",
    "    if counter % 100 == 0:\n",
    "        print(parent, fitness(parent))"
   ]
  }
 ],
 "metadata": {
  "kernelspec": {
   "display_name": "Python 3",
   "language": "python",
   "name": "python3"
  },
  "language_info": {
   "codemirror_mode": {
    "name": "ipython",
    "version": 3
   },
   "file_extension": ".py",
   "mimetype": "text/x-python",
   "name": "python",
   "nbconvert_exporter": "python",
   "pygments_lexer": "ipython3",
   "version": "3.6.5"
  }
 },
 "nbformat": 4,
 "nbformat_minor": 2
}
