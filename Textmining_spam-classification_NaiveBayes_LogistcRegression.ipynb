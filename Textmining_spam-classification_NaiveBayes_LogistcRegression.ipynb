{
 "cells": [
  {
   "cell_type": "code",
   "execution_count": 1,
   "metadata": {},
   "outputs": [],
   "source": [
    "#Problem1:\n",
    "#Building a spam classification engine.\n",
    "#Data: SMSSpamCollection.csv (Manually tagged data with 5573 messages)\n",
    "#Follow the steps given below and build code for classification engine and evaluate the model:"
   ]
  },
  {
   "cell_type": "code",
   "execution_count": 2,
   "metadata": {},
   "outputs": [],
   "source": [
    "# import the required libraries\n",
    "import numpy as np\n",
    "import pandas as pd\n",
    "import os\n",
    "import re"
   ]
  },
  {
   "cell_type": "code",
   "execution_count": 8,
   "metadata": {},
   "outputs": [
    {
     "data": {
      "text/html": [
       "<div>\n",
       "<style scoped>\n",
       "    .dataframe tbody tr th:only-of-type {\n",
       "        vertical-align: middle;\n",
       "    }\n",
       "\n",
       "    .dataframe tbody tr th {\n",
       "        vertical-align: top;\n",
       "    }\n",
       "\n",
       "    .dataframe thead th {\n",
       "        text-align: right;\n",
       "    }\n",
       "</style>\n",
       "<table border=\"1\" class=\"dataframe\">\n",
       "  <thead>\n",
       "    <tr style=\"text-align: right;\">\n",
       "      <th></th>\n",
       "      <th>Type</th>\n",
       "      <th>Text</th>\n",
       "    </tr>\n",
       "  </thead>\n",
       "  <tbody>\n",
       "    <tr>\n",
       "      <th>0</th>\n",
       "      <td>ham</td>\n",
       "      <td>Ok lar... Joking wif u oni...</td>\n",
       "    </tr>\n",
       "    <tr>\n",
       "      <th>1</th>\n",
       "      <td>spam</td>\n",
       "      <td>Free entry in 2 a wkly comp to win FA Cup fina...</td>\n",
       "    </tr>\n",
       "    <tr>\n",
       "      <th>2</th>\n",
       "      <td>ham</td>\n",
       "      <td>U dun say so early hor... U c already then say...</td>\n",
       "    </tr>\n",
       "    <tr>\n",
       "      <th>3</th>\n",
       "      <td>ham</td>\n",
       "      <td>Nah I don't think he goes to usf, he lives aro...</td>\n",
       "    </tr>\n",
       "    <tr>\n",
       "      <th>4</th>\n",
       "      <td>spam</td>\n",
       "      <td>FreeMsg Hey there darling it's been 3 week's n...</td>\n",
       "    </tr>\n",
       "  </tbody>\n",
       "</table>\n",
       "</div>"
      ],
      "text/plain": [
       "   Type                                               Text\n",
       "0   ham                      Ok lar... Joking wif u oni...\n",
       "1  spam  Free entry in 2 a wkly comp to win FA Cup fina...\n",
       "2   ham  U dun say so early hor... U c already then say...\n",
       "3   ham  Nah I don't think he goes to usf, he lives aro...\n",
       "4  spam  FreeMsg Hey there darling it's been 3 week's n..."
      ]
     },
     "execution_count": 8,
     "metadata": {},
     "output_type": "execute_result"
    }
   ],
   "source": [
    "# Read the data into working envrionment\n",
    "data = pd.read_csv(\"SMSSpamCollection.csv\", delimiter=\"\\t\")# Reading the data\n",
    "data.head(5)\n",
    "data.columns = ['Type','Text'] # Changing column names\n",
    "type(data)# type is dataframe\n",
    "data.head(5)"
   ]
  },
  {
   "cell_type": "code",
   "execution_count": 12,
   "metadata": {},
   "outputs": [
    {
     "data": {
      "text/plain": [
       "'Had your mobile  months or more? U R entitled to Update to the latest colour mobiles with camera for Free! Call The Mobile Update Co FREE on '"
      ]
     },
     "execution_count": 12,
     "metadata": {},
     "output_type": "execute_result"
    }
   ],
   "source": [
    "# Text preprocessing\n",
    "Text_data = data['Text']\n",
    "type(data) # Type is dataframe\n",
    "Text_data1 = Text_data.tolist()\n",
    "#Some text preprocessing- Removing extra spaces and numbers\n",
    "for i in range(len(Text_data1)):\n",
    "    Text_data1[i]=re.sub(r'\\s+',' ',Text_data1[i]) #Removing more than one whfroite spaces in the sentense\n",
    "    Text_data1[i]= re.sub('[\\d]','',Text_data1[i]) # Removing the digits\n",
    "# Check the output\n",
    "Text_data1[8]\n"
   ]
  },
  {
   "cell_type": "code",
   "execution_count": 14,
   "metadata": {},
   "outputs": [
    {
     "data": {
      "text/plain": [
       "ham     1446\n",
       "spam     226\n",
       "Name: Type, dtype: int64"
      ]
     },
     "execution_count": 14,
     "metadata": {},
     "output_type": "execute_result"
    }
   ],
   "source": [
    "from sklearn.model_selection import train_test_split\n",
    "X_train,X_test,y_train,y_test = train_test_split(Text_data1, data['Type'],test_size=0.3,random_state=1234)\n",
    "#Ensure similar distribution of target classes in both train and test\n",
    "y_train.value_counts()\n",
    "y_test.value_counts()"
   ]
  },
  {
   "cell_type": "code",
   "execution_count": 15,
   "metadata": {},
   "outputs": [
    {
     "data": {
      "text/plain": [
       "ham     3378\n",
       "spam     521\n",
       "Name: Type, dtype: int64"
      ]
     },
     "execution_count": 15,
     "metadata": {},
     "output_type": "execute_result"
    }
   ],
   "source": [
    "#Ensure similar distribution of target classes in both train and test\n",
    "y_train.value_counts()"
   ]
  },
  {
   "cell_type": "code",
   "execution_count": null,
   "metadata": {},
   "outputs": [],
   "source": [
    "#??tfidf_transformer.fit #\"\"\"Learn vocabulary and idf from training set.\n",
    "#??tfidf_transformer.transform # \"\"\"Transform documents to document-term matrix.\n",
    "#Uses the vocabulary and document frequencies (df) learned by fit (or fit_transform)"
   ]
  },
  {
   "cell_type": "code",
   "execution_count": 21,
   "metadata": {},
   "outputs": [
    {
     "data": {
      "text/plain": [
       "(1672, 6206)"
      ]
     },
     "execution_count": 21,
     "metadata": {},
     "output_type": "execute_result"
    }
   ],
   "source": [
    "# Construct tf-idf matrix\n",
    "from sklearn.feature_extraction.text import CountVectorizer,TfidfVectorizer\n",
    "#Lets construct TF-idf matrix based on the train documents\n",
    "tfidf_transformer = TfidfVectorizer(ngram_range=(1,1),stop_words='english')\n",
    "X_train_tfidf = tfidf_transformer.fit_transform(X_train)\n",
    "X_train_tfidf.shape\n",
    "# Get the tfidf matrix for test documents\n",
    "X_test_tfidf = tfidf_transformer.transform(X_test)\n",
    "X_test_tfidf.shape"
   ]
  },
  {
   "cell_type": "code",
   "execution_count": 22,
   "metadata": {},
   "outputs": [],
   "source": [
    "#Implement Naive Bayes Classification model\n",
    "from sklearn.naive_bayes import MultinomialNB\n",
    "nb_clf = MultinomialNB().fit(X_train_tfidf, y_train)#nb_clf is the classfier\n",
    "pred_train = nb_clf.predict(X_train_tfidf) # get predictions on train data"
   ]
  },
  {
   "cell_type": "code",
   "execution_count": 25,
   "metadata": {},
   "outputs": [
    {
     "name": "stdout",
     "output_type": "stream",
     "text": [
      "Train_Confusion Matrix:\n",
      " [[3378    0]\n",
      " [  71  450]] \n",
      "\n",
      "Results of Naive Bayes on train data: \n",
      "Accuracy: 0.9817902026160554 \n",
      "Recall: 0.8637236084452975 \n",
      "Precision: 1.0\n"
     ]
    }
   ],
   "source": [
    "from sklearn.metrics import confusion_matrix\n",
    "prediction=confusion_matrix(y_train, pred_train) #get confusion matrix for train predictions\n",
    "# Metrics\n",
    "\n",
    "print(\"Train_Confusion Matrix:\\n\",prediction,\"\\n\")\n",
    "\n",
    "from sklearn.metrics import recall_score, precision_score, accuracy_score\n",
    "acc = accuracy_score(y_train,pred_train)\n",
    "rec = recall_score(y_train, pred_train, pos_label='spam')\n",
    "prec = precision_score(y_train,pred_train,pos_label='spam')\n",
    "print(\"Results of Naive Bayes on train data:\",\"\\nAccuracy:\",acc, \"\\nRecall:\",rec,\n",
    "\"\\nPrecision:\",prec)"
   ]
  },
  {
   "cell_type": "code",
   "execution_count": 29,
   "metadata": {},
   "outputs": [
    {
     "name": "stdout",
     "output_type": "stream",
     "text": [
      "Test_Confusion_matrix:\n",
      " [[1445    1]\n",
      " [  56  170]] \n",
      "\n",
      "Results of Naive Bayes on test data: \n",
      "Accuracy: 0.9659090909090909 \n",
      "Recall: 0.7522123893805309 \n",
      "Precision 0.9941520467836257\n"
     ]
    }
   ],
   "source": [
    "# Analyze model performance on test data\n",
    "pred = nb_clf.predict(X_test_tfidf) # predict on test data \n",
    "prediction = confusion_matrix(y_test, pred) # Getthe confusion matrix for test_predictions\n",
    "print(\"Test_Confusion_matrix:\\n\", prediction,\"\\n\")\n",
    "acc = accuracy_score(y_test,pred)\n",
    "rec = recall_score(y_test,pred, pos_label='spam')\n",
    "prec = precision_score(y_test, pred, pos_label='spam')\n",
    "print(\"Results of Naive Bayes on test data:\", \"\\nAccuracy:\", acc, \"\\nRecall:\", rec, \"\\nPrecision\",prec)"
   ]
  },
  {
   "cell_type": "code",
   "execution_count": 36,
   "metadata": {},
   "outputs": [
    {
     "name": "stdout",
     "output_type": "stream",
     "text": [
      "Train_Confusion matrix:\n",
      " [[3375    3]\n",
      " [ 128  393]]\n",
      "Test_Confusion matrix:\n",
      " [[1443    3]\n",
      " [  72  154]]\n"
     ]
    }
   ],
   "source": [
    "from sklearn import linear_model\n",
    "logreg_train = linear_model.LogisticRegression()\n",
    "lr_clf = logreg_train.fit(X_train_tfidf,y_train)# fit the model\n",
    "pred_lr_train=lr_clf.predict(X_train_tfidf) # predict on train data\n",
    "pred_lr_test=lr_clf.predict(X_test_tfidf) # predict on test data\n",
    "\n",
    "\n",
    "print(\"Train_Confusion matrix:\\n\", confusion_matrix(y_train,pred_lr_train))\n",
    "print(\"Test_Confusion matrix:\\n\",confusion_matrix(y_test,pred_lr_test))"
   ]
  },
  {
   "cell_type": "code",
   "execution_count": 38,
   "metadata": {},
   "outputs": [
    {
     "name": "stdout",
     "output_type": "stream",
     "text": [
      "Results of Logistic regression on test data\n",
      "\n",
      "Acc:  0.9551435406698564 \n",
      "Rec: 0.6814159292035398 \n",
      "Prec: 0.9941520467836257\n"
     ]
    }
   ],
   "source": [
    "print(\"Results of Logistic regression on test data\")\n",
    "acc=accuracy_score(y_test,pred_lr_test)\n",
    "rec=recall_score(y_test,pred_lr_test,pos_label='spam')\n",
    "prec=precision_score(y_test,pred,pos_label='spam')\n",
    "print(\"\\nAcc: \",acc,\"\\nRec:\", rec, \"\\nPrec:\", prec)"
   ]
  },
  {
   "cell_type": "code",
   "execution_count": null,
   "metadata": {},
   "outputs": [],
   "source": []
  }
 ],
 "metadata": {
  "kernelspec": {
   "display_name": "Python 3",
   "language": "python",
   "name": "python3"
  },
  "language_info": {
   "codemirror_mode": {
    "name": "ipython",
    "version": 3
   },
   "file_extension": ".py",
   "mimetype": "text/x-python",
   "name": "python",
   "nbconvert_exporter": "python",
   "pygments_lexer": "ipython3",
   "version": "3.6.5"
  }
 },
 "nbformat": 4,
 "nbformat_minor": 2
}
