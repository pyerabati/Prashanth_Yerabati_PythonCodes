{
 "cells": [
  {
   "cell_type": "code",
   "execution_count": 38,
   "metadata": {},
   "outputs": [],
   "source": [
    "# A farmer has 240 acres to plant. He needs to decide how many acres of corn to plant and\n",
    "#how many acres of oats. He can make $4000 acre for corn and $3000/acre for oats.\n",
    "#However, corn takes 2 hours of labor/acre to harvest, and the oats take 1hr labor/acre. He\n",
    "#has only 320 hours of labor he can invest. To maximize his profit, how many acres of\n",
    "#each should he plant? Solve using graphical method\n",
    "\n",
    "z = pulp.LpProblem('Problem plant', pulp.LpMaximize)\n",
    "x1 = pulp.LpVariable('x1', lowBound=0)\n",
    "x2 = pulp.LpVariable('x2', lowBound=0)"
   ]
  },
  {
   "cell_type": "code",
   "execution_count": 39,
   "metadata": {},
   "outputs": [],
   "source": [
    "z += 40*x1 + 30*x2"
   ]
  },
  {
   "cell_type": "code",
   "execution_count": 40,
   "metadata": {},
   "outputs": [],
   "source": [
    "z +=  x1 + x2 <= 240\n",
    "z += 2*x1+ x2 <= 320"
   ]
  },
  {
   "cell_type": "code",
   "execution_count": 41,
   "metadata": {},
   "outputs": [
    {
     "data": {
      "text/plain": [
       "Problem plant:\n",
       "MAXIMIZE\n",
       "40*x1 + 30*x2 + 0\n",
       "SUBJECT TO\n",
       "_C1: x1 + x2 <= 240\n",
       "\n",
       "_C2: 2 x1 + x2 <= 320\n",
       "\n",
       "VARIABLES\n",
       "x1 Continuous\n",
       "x2 Continuous"
      ]
     },
     "execution_count": 41,
     "metadata": {},
     "output_type": "execute_result"
    }
   ],
   "source": [
    "z"
   ]
  },
  {
   "cell_type": "code",
   "execution_count": 43,
   "metadata": {},
   "outputs": [
    {
     "data": {
      "text/plain": [
       "'Optimal'"
      ]
     },
     "execution_count": 43,
     "metadata": {},
     "output_type": "execute_result"
    }
   ],
   "source": [
    "pulp.LpStatus[z.solve()]"
   ]
  },
  {
   "cell_type": "code",
   "execution_count": 44,
   "metadata": {},
   "outputs": [
    {
     "data": {
      "text/plain": [
       "(80.0, 160.0, 8000.0)"
      ]
     },
     "execution_count": 44,
     "metadata": {},
     "output_type": "execute_result"
    }
   ],
   "source": [
    "pulp.value(x1), pulp.value(x2), pulp.value(z.objective)"
   ]
  },
  {
   "cell_type": "code",
   "execution_count": null,
   "metadata": {},
   "outputs": [],
   "source": []
  }
 ],
 "metadata": {
  "kernelspec": {
   "display_name": "Python 3",
   "language": "python",
   "name": "python3"
  },
  "language_info": {
   "codemirror_mode": {
    "name": "ipython",
    "version": 3
   },
   "file_extension": ".py",
   "mimetype": "text/x-python",
   "name": "python",
   "nbconvert_exporter": "python",
   "pygments_lexer": "ipython3",
   "version": "3.6.5"
  }
 },
 "nbformat": 4,
 "nbformat_minor": 2
}
