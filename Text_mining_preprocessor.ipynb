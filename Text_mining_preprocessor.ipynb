{
 "cells": [
  {
   "cell_type": "code",
   "execution_count": 1,
   "metadata": {},
   "outputs": [],
   "source": [
    "#A string is defined within quotes (single or double)\n",
    "#join() method returns a string in which string elements of sequence (B) have been joined by 'A' Seperator.\n",
    "A = 'Insofe'\n",
    "B = 'Batch53'\n",
    "C = 'X123'\n",
    "D = '123'"
   ]
  },
  {
   "cell_type": "code",
   "execution_count": 2,
   "metadata": {},
   "outputs": [
    {
     "name": "stdout",
     "output_type": "stream",
     "text": [
      "BInsofeaInsofetInsofecInsofehInsofe5Insofe3\n",
      "B a t c h 5 3\n",
      "InsofeBatch53\n"
     ]
    }
   ],
   "source": [
    "print(A.join(B))\n",
    "print(\" \".join(B))\n",
    "print(A+B)"
   ]
  },
  {
   "cell_type": "code",
   "execution_count": 3,
   "metadata": {},
   "outputs": [
    {
     "name": "stdout",
     "output_type": "stream",
     "text": [
      "insofe\n",
      "INSOFE\n",
      "-1\n",
      "0\n",
      "BInsofeaInsofetInsofecInsofehInsofe5Insofe3\n",
      "B a t c h 5 3\n",
      "InsofeBatch53\n",
      "False\n",
      "True\n",
      "False\n",
      "True\n"
     ]
    }
   ],
   "source": [
    "#Lets perform some string manipulations on the string\n",
    "print(A.lower())\n",
    "print(A.upper())\n",
    "print(A.find('a'))\n",
    "print(A.count('a'))\n",
    "print(A.join(B))\n",
    "print(\" \".join(B))\n",
    "print(A+B)\n",
    "print(A.isdigit())\n",
    "print(D.isdigit())\n",
    "print(C.isdigit())\n",
    "print(C.isalnum())"
   ]
  },
  {
   "cell_type": "code",
   "execution_count": 4,
   "metadata": {},
   "outputs": [],
   "source": [
    "??A.find() # Doc string help"
   ]
  },
  {
   "cell_type": "code",
   "execution_count": 5,
   "metadata": {},
   "outputs": [
    {
     "name": "stdout",
     "output_type": "stream",
     "text": [
      "nsofe\n",
      "Insofe\n",
      "Insofe\n",
      "Isf\n",
      "efosnI\n",
      "I\n"
     ]
    },
    {
     "ename": "TypeError",
     "evalue": "'str' object does not support item assignment",
     "output_type": "error",
     "traceback": [
      "\u001b[1;31m---------------------------------------------------------------------------\u001b[0m",
      "\u001b[1;31mTypeError\u001b[0m                                 Traceback (most recent call last)",
      "\u001b[1;32m<ipython-input-5-7f74c4619564>\u001b[0m in \u001b[0;36m<module>\u001b[1;34m()\u001b[0m\n\u001b[0;32m      5\u001b[0m \u001b[0mprint\u001b[0m\u001b[1;33m(\u001b[0m\u001b[0mA\u001b[0m\u001b[1;33m[\u001b[0m\u001b[1;33m:\u001b[0m\u001b[1;33m:\u001b[0m\u001b[1;33m-\u001b[0m\u001b[1;36m1\u001b[0m\u001b[1;33m]\u001b[0m\u001b[1;33m)\u001b[0m \u001b[1;31m#Seq[Start:End:Step]\u001b[0m\u001b[1;33m\u001b[0m\u001b[0m\n\u001b[0;32m      6\u001b[0m \u001b[0mprint\u001b[0m\u001b[1;33m(\u001b[0m\u001b[0mA\u001b[0m\u001b[1;33m[\u001b[0m\u001b[1;36m0\u001b[0m\u001b[1;33m]\u001b[0m\u001b[1;33m)\u001b[0m\u001b[1;33m\u001b[0m\u001b[0m\n\u001b[1;32m----> 7\u001b[1;33m \u001b[0mA\u001b[0m\u001b[1;33m[\u001b[0m\u001b[1;36m0\u001b[0m\u001b[1;33m]\u001b[0m \u001b[1;33m=\u001b[0m \u001b[1;34m'shr'\u001b[0m \u001b[1;31m#Strings are immutablea\u001b[0m\u001b[1;33m\u001b[0m\u001b[0m\n\u001b[0m",
      "\u001b[1;31mTypeError\u001b[0m: 'str' object does not support item assignment"
     ]
    }
   ],
   "source": [
    "print(A.strip('I')) ##Python String strip() method returns a copy of the string with both leading and trailing characters removed\n",
    "print(A)\n",
    "print(A[::1]) #Seq[Start:End:Step]\n",
    "print(A[::2]) #Seq[Start:End:Step]\n",
    "print(A[::-1]) #Seq[Start:End:Step]\n",
    "print(A[0])\n",
    "A[0] = 'shr' #Strings are immutablea"
   ]
  },
  {
   "cell_type": "code",
   "execution_count": 6,
   "metadata": {},
   "outputs": [],
   "source": [
    "string = '''\n",
    "At Waterloo we were fortunate in catching a don't train for Leatherhead, where we hired a trap at the station inn and drove for four or five miles through the lovely Surrey lanes. \n",
    "It was a perfect day, with a bright sun and a few fleecy clouds in the heavens. \n",
    "The trees and wayside hedges were just throwing out their first green shoots, and the air was full of the pleasant smell of the moist earth. To me at least there was a strange contrast between the sweet promise of the spring and this sinister quest upon which we were engaged. \n",
    "My companion sat in the front of the trap, his arms folded, his hat pulled down over his eyes, and his chin sunk upon his breast, buried in the deepest thought. \n",
    "Suddenly, however, he started, tapped me on the shoulder, and pointed over the meadows.\n",
    "'''"
   ]
  },
  {
   "cell_type": "code",
   "execution_count": 7,
   "metadata": {},
   "outputs": [
    {
     "name": "stdout",
     "output_type": "stream",
     "text": [
      "\n",
      "At Waterloo we were fortunate in catching a don't train for Leatherhead, where we hired a trap at the station inn and drove for four or five miles through the lovely Surrey lanes. \n",
      "It was a perfect day, with a bright sun and a few fleecy clouds in the heavens. \n",
      "The trees and wayside hedges were just throwing out their first green shoots, and the air was full of the pleasant smell of the moist earth. To me at least there was a strange contrast between the sweet promise of the spring and this sinister quest upon which we were engaged. \n",
      "My companion sat in the front of the trap, his arms folded, his hat pulled down over his eyes, and his chin sunk upon his breast, buried in the deepest thought. \n",
      "Suddenly, however, he started, tapped me on the shoulder, and pointed over the meadows.\n",
      "\n"
     ]
    }
   ],
   "source": [
    "print(string)"
   ]
  },
  {
   "cell_type": "code",
   "execution_count": 8,
   "metadata": {},
   "outputs": [
    {
     "name": "stdout",
     "output_type": "stream",
     "text": [
      "['At', 'Waterloo', 'we', 'were', 'fortunate', 'in', 'catching', 'a', \"don't\", 'train', 'for', 'Leatherhead,', 'where', 'we', 'hired', 'a', 'trap', 'at', 'the', 'station', 'inn', 'and', 'drove', 'for', 'four', 'or', 'five', 'miles', 'through', 'the', 'lovely', 'Surrey', 'lanes.', 'It', 'was', 'a', 'perfect', 'day,', 'with', 'a', 'bright', 'sun', 'and', 'a', 'few', 'fleecy', 'clouds', 'in', 'the', 'heavens.', 'The', 'trees', 'and', 'wayside', 'hedges', 'were', 'just', 'throwing', 'out', 'their', 'first', 'green', 'shoots,', 'and', 'the', 'air', 'was', 'full', 'of', 'the', 'pleasant', 'smell', 'of', 'the', 'moist', 'earth.', 'To', 'me', 'at', 'least', 'there', 'was', 'a', 'strange', 'contrast', 'between', 'the', 'sweet', 'promise', 'of', 'the', 'spring', 'and', 'this', 'sinister', 'quest', 'upon', 'which', 'we', 'were', 'engaged.', 'My', 'companion', 'sat', 'in', 'the', 'front', 'of', 'the', 'trap,', 'his', 'arms', 'folded,', 'his', 'hat', 'pulled', 'down', 'over', 'his', 'eyes,', 'and', 'his', 'chin', 'sunk', 'upon', 'his', 'breast,', 'buried', 'in', 'the', 'deepest', 'thought.', 'Suddenly,', 'however,', 'he', 'started,', 'tapped', 'me', 'on', 'the', 'shoulder,', 'and', 'pointed', 'over', 'the', 'meadows.']\n"
     ]
    }
   ],
   "source": [
    "# ##Some string manipulations- Splitting the paragraph by spaces\n",
    "Str_list = string.split() # split() method returns a list of strings after breaking the given string by the specified separator.\n",
    "print(Str_list)"
   ]
  },
  {
   "cell_type": "code",
   "execution_count": 9,
   "metadata": {},
   "outputs": [
    {
     "name": "stdout",
     "output_type": "stream",
     "text": [
      "[\"\\nAt Waterloo we were fortunate in catching a don't train for Leatherhead\", ' where we hired a trap at the station inn and drove for four or five miles through the lovely Surrey lanes. \\nIt was a perfect day', ' with a bright sun and a few fleecy clouds in the heavens. \\nThe trees and wayside hedges were just throwing out their first green shoots', ' and the air was full of the pleasant smell of the moist earth. To me at least there was a strange contrast between the sweet promise of the spring and this sinister quest upon which we were engaged. \\nMy companion sat in the front of the trap', ' his arms folded', ' his hat pulled down over his eyes', ' and his chin sunk upon his breast', ' buried in the deepest thought. \\nSuddenly', ' however', ' he started', ' tapped me on the shoulder', ' and pointed over the meadows.\\n']\n"
     ]
    }
   ],
   "source": [
    "## Splitting the paragraph by a punctuation marks\n",
    "Str_list = string.split(\",\") # #split() method returns a list of strings after breaking the given string by the specified separator.\n",
    "print(Str_list)"
   ]
  },
  {
   "cell_type": "code",
   "execution_count": 10,
   "metadata": {},
   "outputs": [],
   "source": [
    "# Reading text file\n",
    "import os # The OS module in Python provides a way of using operating system dependent functionality. \n",
    "# Return information identifying the current operating system."
   ]
  },
  {
   "cell_type": "code",
   "execution_count": 11,
   "metadata": {},
   "outputs": [
    {
     "data": {
      "text/plain": [
       "4"
      ]
     },
     "execution_count": 11,
     "metadata": {},
     "output_type": "execute_result"
    }
   ],
   "source": [
    "os.cpu_count()"
   ]
  },
  {
   "cell_type": "code",
   "execution_count": 12,
   "metadata": {},
   "outputs": [
    {
     "data": {
      "text/plain": [
       "'D:\\\\Insofe\\\\Python Lab'"
      ]
     },
     "execution_count": 12,
     "metadata": {},
     "output_type": "execute_result"
    }
   ],
   "source": [
    "path = os.getcwd()\n",
    "os.chdir(path)\n",
    "os.getcwd()"
   ]
  },
  {
   "cell_type": "code",
   "execution_count": 13,
   "metadata": {},
   "outputs": [
    {
     "name": "stdout",
     "output_type": "stream",
     "text": [
      "['.ipynb', '.ipynb_checkpoints', '2010 Report to Congress on White House.csv', '20181111_Batch53_CSE7212c_Python_Review_Activity.ipynb', '20181215_Batch53_CSE7305c_Hierarchichal.ipynb', '20181215_Batch53_CSE7305c_Kmeans.ipynb', '20181216_Batch53_CS7305c_Lab02_ARules-checkpoint.ipynb', '20181216_Batch53_CS7305c_Lab02_ARules.ipynb', '20181216_Batch53_CSE7305c_DT (1).ipynb', '20181216_Batch53_CSE7305c_DT-checkpoint.ipynb', '20181216_Batch53_CSE7305c_DT.ipynb', '20181222_Batch53_CSE7305c_CF.pdf', '20181222_Batch53_CSE7305c_KNN.pdf', '20181222_Batch53_CSE7305c_KNN_Activity.ipynb', '20181222_Batch53_CSE_7305c_Lab_Collaborative_Filtering_v2 (1).ipynb', '20181222_Batch53_CSE_7305c_Lab_Collaborative_Filtering_v2.ipynb', '20181229_Batch53_CSE7305c_Lect04_SVM.pdf', '20181229_Batch53_CSE7305c_SVR.ipynb', '20181230_Batch53_CSE7305c_Day04_SVM_Fill_the_blanks.ipynb', '20181230_Batch53_CSE7305c_Day05_SVM_Filled.ipynb', '20181230_Batch53_CSE_7305c_Boosting_Classfication_Filled.ipynb', '20190105_Batch 53_CSE 7321c_Lab01_Activity.pdf', '20190113_Batch 53_CSE 7124c_Lab01_LSA.pdf', '20190113_Batch 53_CSE 7124c_Lab01_LSA.R', '20190113_Batch+53_CSE+7124c_Lab01_Text_Preprocessing.html', '20190113_Batch+53_CSE+7124c_Lab01_TFIDF.html', '20190113_Batch_53_CSE_7124c_Lab01_Regular_expressions.ipynb', '20190119_Batch 53_CSE 7124c_Lab02_Activity.pdf', '20190119_Batch 53_CSE7124c_SentimentAnalysis_Code.ipynb', '20190119_Batch 53_CSE7124c_TextClassification_Code.ipynb', 'Africa.csv', 'Airfares.csv', 'Association_Rules.ipynb', 'Association_rules_practice.ipynb', 'BackOrders.csv', 'BackOrdersData_Description.txt', 'bank.csv', 'bank_data.csv', 'bank_data_KNN_Imputed.csv', 'bank_data_KNN_Imputed1.csv', 'bill_authentication.csv', 'BinaryClassification_Perceptron.ipynb', 'BinaryClassification_Perceptron_Regression.ipynb', 'Coffee Chain.xlsx', 'CustomerData.csv', 'Customer_Bank Details_MV.csv', 'Customer_Demographics_MV_DOB.csv', 'Customer_satisfaction_classification.ipynb', 'Cute2_Partb.ipynb', 'Cute3_bankuptcy.ipynb', 'cute3_bankurptcy_FS.ipynb', 'cute3_bankurptcy_KNN_imputation.ipynb', 'cute3_bankurptcy_smote_all_basic_models.ipynb', 'Cute3_FS.ipynb', 'Cute3_Problem_Basic_ModelBuilding_Logistic_SVC_DT_KNN_RFC (3).ipynb', 'cute_python-checkpoint.ipynb', 'cute_python.ipynb', 'Data.csv', 'Datasets', 'data_test.csv', 'data_train.csv', 'day1_lab1.ipynb', 'day1_lab1_practice.ipynb', 'day1_practice1.ipynb', 'deliveries.csv', 'Demo_PreProcessingFn.ipynb', 'diabetes-checkpoint.machine_learing_1', 'diabetes.machine_learing_1', 'Diabetes_Data.csv', 'diabetes_machine_learning_1-checkpoint.ipynb', 'doc1.txt', 'doc2.txt', 'doc3.txt', 'doc4.txt', 'doc5.txt', 'doc6.txt', 'ende_cleaned.json', 'ex1.ipynb', 'feature_selector.py', 'Global Superstore Orders 2016.xlsx', 'hist_age.png', 'house_pricedata_description.txt', 'House_price_detaild.ipynb', 'house_price_start.ipynb', 'house_price_test.csv', 'house_price_train.csv', 'IPL.ipynb', 'ipltest2-checkpoint.ipynb', 'ipltest2.ipynb', 'Ipl_practice-checkpoint.ipynb', 'Ipl_practice.ipynb', 'ipl_test-checkpoint.ipynb', 'ipl_test.ipynb', 'jester_items.tsv', 'jester_ratings.csv', 'Joins.xlsx', 'KCLT.csv', 'Kmeans_Jokes_ratings.ipynb', 'KMeans_Titanic_survival.ipynb', 'KPHL.csv', 'LinearRegressionAssignment (1).ipynb', 'mariral_vs_pur_stack.png', 'matches2008-2016.csv', 'matches2008-2016_1.csv', 'matches2017.csv', 'matches2017_1.csv', 'merge1.csv', 'merge2.csv', 'merge3.csv', 'MovieRatings.csv', 'mtcars.csv', 'Mulitple_Linear_regression_boston_example.ipynb', 'negative.txt', 'new_bank.csv', 'new_customer.csv', 'Office City.xlsx', 'one.csv', 'Perceptron_GridSearch.ipynb', 'petrol_consumption.csv', 'pima-indians-diabetes.csv', 'pima_indians_diabetes.csv', 'positive.txt', 'Problem Statement.docx', 'Problem Statement.txt', 'purchase_fre_job.png', 'pur_dayofMonth_bar.png', 'pur_dayofweek_bar.png', 'pur_fre_month_bar.png', 'pur_fre_pout_bar.png', 'Python Codes', 'Python datasets', 'python_work.ipynb', 'Random_Forest_Regression_classification_practice.ipynb', 'Regression_Multi-layer_Perceptron.ipynb', 'sample_submission.csv', 'sherlock.txt', 'SMSSpamCollection.csv', 'submission1.csv', 'submission2.csv', 'submission3.csv', 'submission4.csv', 'SVM.ipynb', 'SVM_Bank_IRIS.ipynb', 'test-checkpoint.ipynb', 'test.ipynb', 'test.py.ipynb', 'test_sample.csv', 'Text_mining_preprocessor.ipynb', 'titanic.txt', 'titanic_data.csv', 'train_sample.csv', 'Transactions.csv', 'UniversalBank.csv', 'Untitled.ipynb', 'visualize_weather.py', 'weather-checkpoint.ipynb', 'weather.ipynb', 'Week10_day2_Boosing_Adaboost.ipynb', 'Week10_day2_RandomForest_Bagging.ipynb', 'Week10_day2_stacking.ipynb', 'week10_day2_stacking_LR_DT_SVM.ipynb', 'Week11_Day1_Perceptron_Regression.ipynb', 'week3_111118.ipynb', 'week4_day1_111618.ipynb', 'week4_day1_111718.txt', 'week4_day1_111718_practice.ipynb', 'week4_day1_2.1_111718_practice.ipynb', 'week4_day2.1_111718-checkpoint.ipynb', 'week4_day2.1_111718.ipynb', 'week4_day2_D111618_Assignment_Practice.ipynb', 'week8_day1.1_d12152018_hierarchy-checkpoint.machine_learning', 'week8_day1.1_d12152018_hierarchy.machine_learning.ipynb', 'Week8_day1_Association_Rules.ipynb', 'week8_day1_d12152018_diabetes_machine_learning_1-checkpoint.ipynb', 'week8_day1_d12152018_diabetes_machine_learning_1.ipynb', 'week8_day1_Heirarchy_mtcars.ipynb', 'Week8_day1_Kmeans_Adjusted_Rand_Score.ipynb', 'Week8_day1_Kmeans_Adjusted_Rand_score.ipynb1', 'Week8_day2_Decisioin_Tree.ipynb', 'Week8_day2_Machinglearing_DecisionTree-checkpoint.ipynb', 'Week8_day2_Machinglearing_DecisionTree.ipynb', 'week9_day1_Knn_Consolidation_CF.ipynb', 'week9_day1_KNN_neighbors.ipynb', 'week9_day1_python_lab_knn-checkpoint.ipynb', 'week9_day1_python_lab_knn.ipynb', 'wunderground_parser.py', 'wunderground_scraper.py', '__pycache__']\n"
     ]
    }
   ],
   "source": [
    "print(os.listdir(os.getcwd()))  # verify what files are there in the path as shown:"
   ]
  },
  {
   "cell_type": "code",
   "execution_count": 14,
   "metadata": {},
   "outputs": [],
   "source": [
    "#Once we have our required text file(s)/folder(s) in the working directory we use the following function\n",
    "with open('sherlock.txt', 'r') as x:\n",
    "    string1 = x.read()"
   ]
  },
  {
   "cell_type": "code",
   "execution_count": 15,
   "metadata": {},
   "outputs": [
    {
     "data": {
      "text/plain": [
       "\"At Waterloo we were fortunate in catching a don't train for Leatherhead, where we hired a trap at the station inn and drove for four or five miles through the lovely Surrey lanes. \\nIt was a perfect day, with a bright sun and a few fleecy clouds in the heavens. \\nThe trees and wayside hedges were just throwing out their first green shoots, and the air was full of the pleasant smell of the moist earth. To me at least there was a strange contrast between the sweet promise of the spring and this sinister quest upon which we were engaged. \\nMy companion sat in the front of the trap, his arms folded, his hat pulled down over his eyes, and his chin sunk upon his breast, buried in the deepest thought. \\nSuddenly, however, he started, tapped me on the shoulder, and pointed over the meadows.\\n\""
      ]
     },
     "execution_count": 15,
     "metadata": {},
     "output_type": "execute_result"
    }
   ],
   "source": [
    "string1"
   ]
  },
  {
   "cell_type": "code",
   "execution_count": 16,
   "metadata": {},
   "outputs": [],
   "source": [
    "# Now that our sample text is ready, let us perform the following steps¶\n",
    "#Sentence Tokenizing\n",
    "#Word Tokenizing\n",
    "#Stop Word Removal\n",
    "#Lemmatizing"
   ]
  },
  {
   "cell_type": "code",
   "execution_count": 3,
   "metadata": {},
   "outputs": [
    {
     "name": "stdout",
     "output_type": "stream",
     "text": [
      "[nltk_data] Downloading package punkt to C:\\Users\\Prashanth\n",
      "[nltk_data]     Yerabati\\AppData\\Roaming\\nltk_data...\n",
      "[nltk_data]   Package punkt is already up-to-date!\n"
     ]
    },
    {
     "data": {
      "text/plain": [
       "True"
      ]
     },
     "execution_count": 3,
     "metadata": {},
     "output_type": "execute_result"
    }
   ],
   "source": [
    "import nltk\n",
    "nltk.download('punkt')"
   ]
  },
  {
   "cell_type": "code",
   "execution_count": 4,
   "metadata": {},
   "outputs": [],
   "source": [
    "from nltk.tokenize import sent_tokenize, word_tokenize"
   ]
  },
  {
   "cell_type": "code",
   "execution_count": 19,
   "metadata": {},
   "outputs": [],
   "source": [
    "# Sentence Tokenization\n",
    "sentences = sent_tokenize(string)"
   ]
  },
  {
   "cell_type": "code",
   "execution_count": 20,
   "metadata": {},
   "outputs": [
    {
     "name": "stdout",
     "output_type": "stream",
     "text": [
      "[\"\\nAt Waterloo we were fortunate in catching a don't train for Leatherhead, where we hired a trap at the station inn and drove for four or five miles through the lovely Surrey lanes.\", 'It was a perfect day, with a bright sun and a few fleecy clouds in the heavens.', 'The trees and wayside hedges were just throwing out their first green shoots, and the air was full of the pleasant smell of the moist earth.', 'To me at least there was a strange contrast between the sweet promise of the spring and this sinister quest upon which we were engaged.', 'My companion sat in the front of the trap, his arms folded, his hat pulled down over his eyes, and his chin sunk upon his breast, buried in the deepest thought.', 'Suddenly, however, he started, tapped me on the shoulder, and pointed over the meadows.']\n"
     ]
    }
   ],
   "source": [
    "print(sentences)"
   ]
  },
  {
   "cell_type": "code",
   "execution_count": 22,
   "metadata": {},
   "outputs": [
    {
     "name": "stdout",
     "output_type": "stream",
     "text": [
      "\n",
      "\n",
      "\n",
      "At Waterloo we were fortunate in catching a don't train for Leatherhead, where we hired a trap at the station inn and drove for four or five miles through the lovely Surrey lanes.\n",
      "\n",
      "\n",
      "It was a perfect day, with a bright sun and a few fleecy clouds in the heavens.\n",
      "\n",
      "\n",
      "The trees and wayside hedges were just throwing out their first green shoots, and the air was full of the pleasant smell of the moist earth.\n",
      "\n",
      "\n",
      "To me at least there was a strange contrast between the sweet promise of the spring and this sinister quest upon which we were engaged.\n",
      "\n",
      "\n",
      "My companion sat in the front of the trap, his arms folded, his hat pulled down over his eyes, and his chin sunk upon his breast, buried in the deepest thought.\n",
      "\n",
      "\n",
      "Suddenly, however, he started, tapped me on the shoulder, and pointed over the meadows.\n"
     ]
    }
   ],
   "source": [
    "for sent in sentences:\n",
    "    print('\\n')\n",
    "    print(sent)"
   ]
  },
  {
   "cell_type": "code",
   "execution_count": 26,
   "metadata": {},
   "outputs": [
    {
     "name": "stdout",
     "output_type": "stream",
     "text": [
      "['At', 'Waterloo', 'we', 'were', 'fortunate', 'in', 'catching', 'a', 'do', \"n't\", 'train', 'for', 'Leatherhead', ',', 'where', 'we', 'hired', 'a', 'trap', 'at', 'the', 'station', 'inn', 'and', 'drove', 'for', 'four', 'or', 'five', 'miles', 'through', 'the', 'lovely', 'Surrey', 'lanes', '.', 'It', 'was', 'a', 'perfect', 'day', ',', 'with', 'a', 'bright', 'sun', 'and', 'a', 'few', 'fleecy', 'clouds', 'in', 'the', 'heavens', '.', 'The', 'trees', 'and', 'wayside', 'hedges', 'were', 'just', 'throwing', 'out', 'their', 'first', 'green', 'shoots', ',', 'and', 'the', 'air', 'was', 'full', 'of', 'the', 'pleasant', 'smell', 'of', 'the', 'moist', 'earth', '.', 'To', 'me', 'at', 'least', 'there', 'was', 'a', 'strange', 'contrast', 'between', 'the', 'sweet', 'promise', 'of', 'the', 'spring', 'and', 'this', 'sinister', 'quest', 'upon', 'which', 'we', 'were', 'engaged', '.', 'My', 'companion', 'sat', 'in', 'the', 'front', 'of', 'the', 'trap', ',', 'his', 'arms', 'folded', ',', 'his', 'hat', 'pulled', 'down', 'over', 'his', 'eyes', ',', 'and', 'his', 'chin', 'sunk', 'upon', 'his', 'breast', ',', 'buried', 'in', 'the', 'deepest', 'thought', '.', 'Suddenly', ',', 'however', ',', 'he', 'started', ',', 'tapped', 'me', 'on', 'the', 'shoulder', ',', 'and', 'pointed', 'over', 'the', 'meadows', '.']\n"
     ]
    }
   ],
   "source": [
    "# Word Tokenziation\n",
    "tokens = word_tokenize(string)\n",
    "print(tokens)"
   ]
  },
  {
   "cell_type": "code",
   "execution_count": null,
   "metadata": {},
   "outputs": [],
   "source": [
    "# In the above list notice how \"don't\" has been tokenized to 'do' and \"n't\" in word tokens in the above case. \n",
    "# This wouldn't have been the case  #if we did a string.split() based on spaces\n",
    "[ Character set. Match any character in the set/ \n",
    "#\\w Word. Matches any word character (alphanumeric & underscore). \n",
    "#' Character. Matches a ' Character \n",
    "#] \n",
    "\n",
    "#+ Quantifier. Match 1 or more of the preceding token."
   ]
  },
  {
   "cell_type": "code",
   "execution_count": 8,
   "metadata": {},
   "outputs": [
    {
     "name": "stdout",
     "output_type": "stream",
     "text": [
      "['At', 'Waterloo', 'we', 'were', 'fortunate', 'in', 'catching', 'a', \"don't\", 'train', 'for', 'Leatherhead', 'where', 'we', 'hired', 'a', 'trap', 'at', 'the', 'station', 'inn', 'and', 'drove', 'for', 'four', 'or', 'five', 'miles', 'through', 'the', 'lovely', 'Surrey', 'lanes', 'It', 'was', 'a', 'perfect', 'day', 'with', 'a', 'bright', 'sun', 'and', 'a', 'few', 'fleecy', 'clouds', 'in', 'the', 'heavens', 'The', 'trees', 'and', 'wayside', 'hedges', 'were', 'just', 'throwing', 'out', 'their', 'first', 'green', 'shoots', 'and', 'the', 'air', 'was', 'full', 'of', 'the', 'pleasant', 'smell', 'of', 'the', 'moist', 'earth', 'To', 'me', 'at', 'least', 'there', 'was', 'a', 'strange', 'contrast', 'between', 'the', 'sweet', 'promise', 'of', 'the', 'spring', 'and', 'this', 'sinister', 'quest', 'upon', 'which', 'we', 'were', 'engaged', 'My', 'companion', 'sat', 'in', 'the', 'front', 'of', 'the', 'trap', 'his', 'arms', 'folded', 'his', 'hat', 'pulled', 'down', 'over', 'his', 'eyes', 'and', 'his', 'chin', 'sunk', 'upon', 'his', 'breast', 'buried', 'in', 'the', 'deepest', 'thought', 'Suddenly', 'however', 'he', 'started', 'tapped', 'me', 'on', 'the', 'shoulder', 'and', 'pointed', 'over', 'the', 'meadows']\n"
     ]
    }
   ],
   "source": [
    "####Using regular expressions\n",
    "from nltk.tokenize import RegexpTokenizer\n",
    "tokenizer = RegexpTokenizer(\"[\\w']+\")\n",
    "tokens = tokenizer.tokenize(string)\n",
    "print(tokens)"
   ]
  },
  {
   "cell_type": "code",
   "execution_count": 31,
   "metadata": {},
   "outputs": [],
   "source": [
    "# Case Lowering\n",
    "lower_tokens = []\n",
    "for token in tokens:\n",
    "    lower_tokens.append(token.lower())"
   ]
  },
  {
   "cell_type": "code",
   "execution_count": 32,
   "metadata": {},
   "outputs": [
    {
     "data": {
      "text/plain": [
       "['at',\n",
       " 'waterloo',\n",
       " 'we',\n",
       " 'were',\n",
       " 'fortunate',\n",
       " 'in',\n",
       " 'catching',\n",
       " 'a',\n",
       " \"don't\",\n",
       " 'train',\n",
       " 'for',\n",
       " 'leatherhead',\n",
       " 'where',\n",
       " 'we',\n",
       " 'hired',\n",
       " 'a',\n",
       " 'trap',\n",
       " 'at',\n",
       " 'the',\n",
       " 'station',\n",
       " 'inn',\n",
       " 'and',\n",
       " 'drove',\n",
       " 'for',\n",
       " 'four',\n",
       " 'or',\n",
       " 'five',\n",
       " 'miles',\n",
       " 'through',\n",
       " 'the',\n",
       " 'lovely',\n",
       " 'surrey',\n",
       " 'lanes',\n",
       " 'it',\n",
       " 'was',\n",
       " 'a',\n",
       " 'perfect',\n",
       " 'day',\n",
       " 'with',\n",
       " 'a',\n",
       " 'bright',\n",
       " 'sun',\n",
       " 'and',\n",
       " 'a',\n",
       " 'few',\n",
       " 'fleecy',\n",
       " 'clouds',\n",
       " 'in',\n",
       " 'the',\n",
       " 'heavens',\n",
       " 'the',\n",
       " 'trees',\n",
       " 'and',\n",
       " 'wayside',\n",
       " 'hedges',\n",
       " 'were',\n",
       " 'just',\n",
       " 'throwing',\n",
       " 'out',\n",
       " 'their',\n",
       " 'first',\n",
       " 'green',\n",
       " 'shoots',\n",
       " 'and',\n",
       " 'the',\n",
       " 'air',\n",
       " 'was',\n",
       " 'full',\n",
       " 'of',\n",
       " 'the',\n",
       " 'pleasant',\n",
       " 'smell',\n",
       " 'of',\n",
       " 'the',\n",
       " 'moist',\n",
       " 'earth',\n",
       " 'to',\n",
       " 'me',\n",
       " 'at',\n",
       " 'least',\n",
       " 'there',\n",
       " 'was',\n",
       " 'a',\n",
       " 'strange',\n",
       " 'contrast',\n",
       " 'between',\n",
       " 'the',\n",
       " 'sweet',\n",
       " 'promise',\n",
       " 'of',\n",
       " 'the',\n",
       " 'spring',\n",
       " 'and',\n",
       " 'this',\n",
       " 'sinister',\n",
       " 'quest',\n",
       " 'upon',\n",
       " 'which',\n",
       " 'we',\n",
       " 'were',\n",
       " 'engaged',\n",
       " 'my',\n",
       " 'companion',\n",
       " 'sat',\n",
       " 'in',\n",
       " 'the',\n",
       " 'front',\n",
       " 'of',\n",
       " 'the',\n",
       " 'trap',\n",
       " 'his',\n",
       " 'arms',\n",
       " 'folded',\n",
       " 'his',\n",
       " 'hat',\n",
       " 'pulled',\n",
       " 'down',\n",
       " 'over',\n",
       " 'his',\n",
       " 'eyes',\n",
       " 'and',\n",
       " 'his',\n",
       " 'chin',\n",
       " 'sunk',\n",
       " 'upon',\n",
       " 'his',\n",
       " 'breast',\n",
       " 'buried',\n",
       " 'in',\n",
       " 'the',\n",
       " 'deepest',\n",
       " 'thought',\n",
       " 'suddenly',\n",
       " 'however',\n",
       " 'he',\n",
       " 'started',\n",
       " 'tapped',\n",
       " 'me',\n",
       " 'on',\n",
       " 'the',\n",
       " 'shoulder',\n",
       " 'and',\n",
       " 'pointed',\n",
       " 'over',\n",
       " 'the',\n",
       " 'meadows']"
      ]
     },
     "execution_count": 32,
     "metadata": {},
     "output_type": "execute_result"
    }
   ],
   "source": [
    "lower_tokens"
   ]
  },
  {
   "cell_type": "code",
   "execution_count": 33,
   "metadata": {},
   "outputs": [],
   "source": [
    "lower_tokens = [token.lower() for token in tokens]"
   ]
  },
  {
   "cell_type": "code",
   "execution_count": 34,
   "metadata": {},
   "outputs": [
    {
     "data": {
      "text/plain": [
       "['at',\n",
       " 'waterloo',\n",
       " 'we',\n",
       " 'were',\n",
       " 'fortunate',\n",
       " 'in',\n",
       " 'catching',\n",
       " 'a',\n",
       " \"don't\",\n",
       " 'train',\n",
       " 'for',\n",
       " 'leatherhead',\n",
       " 'where',\n",
       " 'we',\n",
       " 'hired',\n",
       " 'a',\n",
       " 'trap',\n",
       " 'at',\n",
       " 'the',\n",
       " 'station',\n",
       " 'inn',\n",
       " 'and',\n",
       " 'drove',\n",
       " 'for',\n",
       " 'four',\n",
       " 'or',\n",
       " 'five',\n",
       " 'miles',\n",
       " 'through',\n",
       " 'the',\n",
       " 'lovely',\n",
       " 'surrey',\n",
       " 'lanes',\n",
       " 'it',\n",
       " 'was',\n",
       " 'a',\n",
       " 'perfect',\n",
       " 'day',\n",
       " 'with',\n",
       " 'a',\n",
       " 'bright',\n",
       " 'sun',\n",
       " 'and',\n",
       " 'a',\n",
       " 'few',\n",
       " 'fleecy',\n",
       " 'clouds',\n",
       " 'in',\n",
       " 'the',\n",
       " 'heavens',\n",
       " 'the',\n",
       " 'trees',\n",
       " 'and',\n",
       " 'wayside',\n",
       " 'hedges',\n",
       " 'were',\n",
       " 'just',\n",
       " 'throwing',\n",
       " 'out',\n",
       " 'their',\n",
       " 'first',\n",
       " 'green',\n",
       " 'shoots',\n",
       " 'and',\n",
       " 'the',\n",
       " 'air',\n",
       " 'was',\n",
       " 'full',\n",
       " 'of',\n",
       " 'the',\n",
       " 'pleasant',\n",
       " 'smell',\n",
       " 'of',\n",
       " 'the',\n",
       " 'moist',\n",
       " 'earth',\n",
       " 'to',\n",
       " 'me',\n",
       " 'at',\n",
       " 'least',\n",
       " 'there',\n",
       " 'was',\n",
       " 'a',\n",
       " 'strange',\n",
       " 'contrast',\n",
       " 'between',\n",
       " 'the',\n",
       " 'sweet',\n",
       " 'promise',\n",
       " 'of',\n",
       " 'the',\n",
       " 'spring',\n",
       " 'and',\n",
       " 'this',\n",
       " 'sinister',\n",
       " 'quest',\n",
       " 'upon',\n",
       " 'which',\n",
       " 'we',\n",
       " 'were',\n",
       " 'engaged',\n",
       " 'my',\n",
       " 'companion',\n",
       " 'sat',\n",
       " 'in',\n",
       " 'the',\n",
       " 'front',\n",
       " 'of',\n",
       " 'the',\n",
       " 'trap',\n",
       " 'his',\n",
       " 'arms',\n",
       " 'folded',\n",
       " 'his',\n",
       " 'hat',\n",
       " 'pulled',\n",
       " 'down',\n",
       " 'over',\n",
       " 'his',\n",
       " 'eyes',\n",
       " 'and',\n",
       " 'his',\n",
       " 'chin',\n",
       " 'sunk',\n",
       " 'upon',\n",
       " 'his',\n",
       " 'breast',\n",
       " 'buried',\n",
       " 'in',\n",
       " 'the',\n",
       " 'deepest',\n",
       " 'thought',\n",
       " 'suddenly',\n",
       " 'however',\n",
       " 'he',\n",
       " 'started',\n",
       " 'tapped',\n",
       " 'me',\n",
       " 'on',\n",
       " 'the',\n",
       " 'shoulder',\n",
       " 'and',\n",
       " 'pointed',\n",
       " 'over',\n",
       " 'the',\n",
       " 'meadows']"
      ]
     },
     "execution_count": 34,
     "metadata": {},
     "output_type": "execute_result"
    }
   ],
   "source": [
    "lower_tokens"
   ]
  },
  {
   "cell_type": "code",
   "execution_count": 18,
   "metadata": {},
   "outputs": [
    {
     "name": "stdout",
     "output_type": "stream",
     "text": [
      "[nltk_data] Downloading package stopwords to C:\\Users\\Prashanth\n",
      "[nltk_data]     Yerabati\\AppData\\Roaming\\nltk_data...\n",
      "[nltk_data]   Package stopwords is already up-to-date!\n"
     ]
    },
    {
     "data": {
      "text/plain": [
       "True"
      ]
     },
     "execution_count": 18,
     "metadata": {},
     "output_type": "execute_result"
    }
   ],
   "source": [
    "# Stopword Removal\n",
    "#stop words (or commonly occurring words) should be removed from the text data. \n",
    "#For this purpose, we can either create a list of stopwords\n",
    "#ourselves or we can use predefined libraries.\n",
    "nltk.download('stopwords')"
   ]
  },
  {
   "cell_type": "code",
   "execution_count": 20,
   "metadata": {},
   "outputs": [
    {
     "name": "stdout",
     "output_type": "stream",
     "text": [
      "['i', 'me', 'my', 'myself', 'we', 'our', 'ours', 'ourselves', 'you', \"you're\", \"you've\", \"you'll\", \"you'd\", 'your', 'yours', 'yourself', 'yourselves', 'he', 'him', 'his', 'himself', 'she', \"she's\", 'her', 'hers', 'herself', 'it', \"it's\", 'its', 'itself', 'they', 'them', 'their', 'theirs', 'themselves', 'what', 'which', 'who', 'whom', 'this', 'that', \"that'll\", 'these', 'those', 'am', 'is', 'are', 'was', 'were', 'be', 'been', 'being', 'have', 'has', 'had', 'having', 'do', 'does', 'did', 'doing', 'a', 'an', 'the', 'and', 'but', 'if', 'or', 'because', 'as', 'until', 'while', 'of', 'at', 'by', 'for', 'with', 'about', 'against', 'between', 'into', 'through', 'during', 'before', 'after', 'above', 'below', 'to', 'from', 'up', 'down', 'in', 'out', 'on', 'off', 'over', 'under', 'again', 'further', 'then', 'once', 'here', 'there', 'when', 'where', 'why', 'how', 'all', 'any', 'both', 'each', 'few', 'more', 'most', 'other', 'some', 'such', 'no', 'nor', 'not', 'only', 'own', 'same', 'so', 'than', 'too', 'very', 's', 't', 'can', 'will', 'just', 'don', \"don't\", 'should', \"should've\", 'now', 'd', 'll', 'm', 'o', 're', 've', 'y', 'ain', 'aren', \"aren't\", 'couldn', \"couldn't\", 'didn', \"didn't\", 'doesn', \"doesn't\", 'hadn', \"hadn't\", 'hasn', \"hasn't\", 'haven', \"haven't\", 'isn', \"isn't\", 'ma', 'mightn', \"mightn't\", 'mustn', \"mustn't\", 'needn', \"needn't\", 'shan', \"shan't\", 'shouldn', \"shouldn't\", 'wasn', \"wasn't\", 'weren', \"weren't\", 'won', \"won't\", 'wouldn', \"wouldn't\"]\n"
     ]
    }
   ],
   "source": [
    "from nltk.corpus import stopwords\n",
    "stop = stopwords.words('english')\n",
    "print(stop)"
   ]
  },
  {
   "cell_type": "code",
   "execution_count": 39,
   "metadata": {},
   "outputs": [
    {
     "name": "stdout",
     "output_type": "stream",
     "text": [
      "['waterloo', 'fortunate', 'catching', 'train', 'leatherhead', 'hired', 'trap', 'station', 'inn', 'drove', 'four', 'five', 'miles', 'lovely', 'surrey', 'lanes', 'perfect', 'day', 'bright', 'sun']\n"
     ]
    }
   ],
   "source": [
    "tokens = [token for token in lower_tokens if token not in stop]\n",
    "print(tokens[:20])"
   ]
  },
  {
   "cell_type": "code",
   "execution_count": 42,
   "metadata": {},
   "outputs": [
    {
     "name": "stdout",
     "output_type": "stream",
     "text": [
      "['caress', 'fli', 'die', 'mule', 'deni', 'comput', 'comput', 'comput', 'better']\n"
     ]
    }
   ],
   "source": [
    "# Stemming\n",
    "#Stemming refers to the removal of suffices, like “ing”, “ly”, “s”, etc. by a simple rule-based approach. \n",
    "#For this purpose, we will use PorterStemmer from the NLTK library.\n",
    "# Stemming the text using porter stemmer\n",
    "from nltk.stem.porter import *\n",
    "stemmer = PorterStemmer()\n",
    "plurals = ['caresses', 'flies', 'dies', 'mules', 'denied','computer','computing','compute','better']\n",
    "singles = [stemmer.stem(plural) for plural in plurals]\n",
    "print(singles)"
   ]
  },
  {
   "cell_type": "code",
   "execution_count": 43,
   "metadata": {},
   "outputs": [
    {
     "name": "stdout",
     "output_type": "stream",
     "text": [
      "['caress', 'fli', 'die', 'mule', 'deni', 'comput', 'comput', 'comput', 'better']\n"
     ]
    }
   ],
   "source": [
    "# Stemming the text using porter stemmer\n",
    "stemmer = nltk.stem.SnowballStemmer('english')\n",
    "plurals = ['caresses', 'flies', 'dies', 'mules', 'denied','computer','computing','compute','better']\n",
    "singles = [stemmer.stem(plural) for plural in plurals]\n",
    "print(singles)"
   ]
  },
  {
   "cell_type": "code",
   "execution_count": 44,
   "metadata": {},
   "outputs": [
    {
     "name": "stdout",
     "output_type": "stream",
     "text": [
      "[nltk_data] Downloading package wordnet to C:\\Users\\Prashanth\n",
      "[nltk_data]     Yerabati\\AppData\\Roaming\\nltk_data...\n",
      "[nltk_data]   Unzipping corpora\\wordnet.zip.\n"
     ]
    },
    {
     "data": {
      "text/plain": [
       "True"
      ]
     },
     "execution_count": 44,
     "metadata": {},
     "output_type": "execute_result"
    }
   ],
   "source": [
    "nltk.download('wordnet')"
   ]
  },
  {
   "cell_type": "code",
   "execution_count": 50,
   "metadata": {},
   "outputs": [
    {
     "name": "stdout",
     "output_type": "stream",
     "text": [
      "['caress', 'fly', 'dy', 'mule', 'denied', 'computer', 'computing', 'compute', 'better']\n"
     ]
    }
   ],
   "source": [
    "lmtzr = nltk.stem.WordNetLemmatizer()\n",
    "tokens = [lmtzr.lemmatize(token) for token in plurals]\n",
    "print(tokens[:20])"
   ]
  },
  {
   "cell_type": "code",
   "execution_count": 51,
   "metadata": {},
   "outputs": [
    {
     "name": "stdout",
     "output_type": "stream",
     "text": [
      "['caress', 'fly', 'dy', 'mule', 'denied', 'computer', 'computing', 'compute', 'better']\n"
     ]
    }
   ],
   "source": [
    "# Lemmatizing\n",
    "#Lemmatization is a more effective option than stemming because it converts the word into its root word, \n",
    "#rather than just stripping the suffices. It makes use of the vocabulary and does a morphological analysis\n",
    "#to obtain the root word. Therefore, we usually prefer using lemmatization over stemming.\n",
    "## Lemmatizing the plurals example text\n",
    "lmtzr = nltk.stem.WordNetLemmatizer()\n",
    "tokensLmtz = [lmtzr.lemmatize(token) for token in plurals]\n",
    "print(tokensLmtz[:20])"
   ]
  },
  {
   "cell_type": "code",
   "execution_count": 52,
   "metadata": {},
   "outputs": [
    {
     "name": "stdout",
     "output_type": "stream",
     "text": [
      "['caress', 'fly', 'dy', 'mule', 'denied', 'computer', 'computing', 'compute', 'better']\n"
     ]
    }
   ],
   "source": [
    "lmtzr = nltk.stem.WordNetLemmatizer()\n",
    "tokens = [lmtzr.lemmatize(token) for token in tokens]\n",
    "print(tokens[:20])"
   ]
  },
  {
   "cell_type": "code",
   "execution_count": 53,
   "metadata": {},
   "outputs": [],
   "source": [
    "??lmtzr.lemmatize()"
   ]
  },
  {
   "cell_type": "code",
   "execution_count": 54,
   "metadata": {},
   "outputs": [
    {
     "name": "stdout",
     "output_type": "stream",
     "text": [
      "['When', 'I', 'M', 'a', 'Duchess', 'she', 'said', 'to', 'herself', 'not', 'in', 'a', 'very', 'hopeful', 'tone', 'though', 'I', 'won', 't', 'have', 'any', 'pepper', 'in', 'my', 'kitchen', 'AT', 'ALL', 'Soup', 'does', 'very', 'well', 'without', 'Maybe', 'it', 's', 'always', 'pepper', 'that', 'makes', 'people', 'hot', 'tempered']\n"
     ]
    }
   ],
   "source": [
    "#Punctuation Removal\n",
    "#Rmove punctuation, as it doesn’t add any extra information while treating text data. Therefore removing all instances of it will help us\n",
    "#reduce the size of the training data.\n",
    "import re\n",
    "raw = \"\"\"'When I'M a Duchess,' she said to herself, (not in a very hopeful tone\n",
    "... though), 'I won't have any pepper in my kitchen AT ALL. Soup does very\n",
    "... well without--Maybe it's always pepper that makes people hot-tempered,'...\"\"\"\n",
    "singles = re.findall(r'\\w+',raw)\n",
    "print(singles)"
   ]
  },
  {
   "cell_type": "code",
   "execution_count": 124,
   "metadata": {},
   "outputs": [
    {
     "name": "stdout",
     "output_type": "stream",
     "text": [
      "['The quick brown fox.', 'Jumped over the lazy dog.']\n"
     ]
    }
   ],
   "source": [
    "#Let's combine all the above functions into a single function\n",
    "#Sentenence Tokenize\n",
    "#Word tokenize on each sentence\n",
    "#Lower case\n",
    "#Stop word removal\n",
    "#Lemmatizing each word\n",
    "string = 'The quick brown fox. Jumped over the lazy dog.'\n",
    "sentences = sent_tokenize(string)\n",
    "print(sentences)"
   ]
  },
  {
   "cell_type": "code",
   "execution_count": 127,
   "metadata": {},
   "outputs": [
    {
     "name": "stdout",
     "output_type": "stream",
     "text": [
      "[['The', 'quick', 'brown', 'fox', '.'], ['Jumped', 'over', 'the', 'lazy', 'dog', '.']]\n"
     ]
    }
   ],
   "source": [
    "tokens = [word_tokenize(sent) for sent in sentences]\n",
    "print(tokens)\n",
    "\n"
   ]
  },
  {
   "cell_type": "code",
   "execution_count": 128,
   "metadata": {},
   "outputs": [],
   "source": [
    "\n",
    "lower_tokens = [[tok.lower() for tok in token] for token in tokens]\n"
   ]
  },
  {
   "cell_type": "code",
   "execution_count": 129,
   "metadata": {},
   "outputs": [
    {
     "name": "stdout",
     "output_type": "stream",
     "text": [
      "[['the', 'quick', 'brown', 'fox', '.'], ['jumped', 'over', 'the', 'lazy', 'dog', '.']]\n"
     ]
    }
   ],
   "source": [
    "print(lower_tokens)"
   ]
  },
  {
   "cell_type": "code",
   "execution_count": 130,
   "metadata": {},
   "outputs": [
    {
     "name": "stdout",
     "output_type": "stream",
     "text": [
      "[['quick', 'brown', 'fox', '.'], ['jumped', 'lazy', 'dog', '.']]\n"
     ]
    }
   ],
   "source": [
    "stop = stopwords.words('english')\n",
    "tokens = [[tok.lower() for tok in token if tok not in stop] for token in lower_tokens]\n",
    "print(tokens)"
   ]
  },
  {
   "cell_type": "code",
   "execution_count": 154,
   "metadata": {},
   "outputs": [],
   "source": [
    "def process_text(input_string):\n",
    "    sentences = sent_tokenize(string)\n",
    "    tokens = [word_tokenize(sent) for sent in sentences]\n",
    "    lower_tokens = [[tok.lower() for tok in token] for token in tokens]\n",
    "    stop = stopwords.words('english')\n",
    "    tokens = [[tok.lower() for tok in token if tok not in stop] for token in lower_tokens]\n",
    "    return tokens"
   ]
  },
  {
   "cell_type": "code",
   "execution_count": 155,
   "metadata": {},
   "outputs": [
    {
     "name": "stdout",
     "output_type": "stream",
     "text": [
      "The quick brown fox. Jumped over the lazy dog.\n",
      "[['quick', 'brown', 'fox', '.'], ['jumped', 'lazy', 'dog', '.']]\n"
     ]
    }
   ],
   "source": [
    "text = 'The quick brown fox. Jumped over the lazy dog.'\n",
    "string = 'The quick brown fox. Jumped over the lazy dog.'\n",
    "processed_tokens = process_text(string)\n",
    "print(string)\n",
    "print(processed_tokens)"
   ]
  },
  {
   "cell_type": "code",
   "execution_count": 140,
   "metadata": {},
   "outputs": [
    {
     "name": "stdout",
     "output_type": "stream",
     "text": [
      "Frequency of the word \"upon\" duirng initilization is 0\n"
     ]
    }
   ],
   "source": [
    "# Word Count\n",
    "word_count =  nltk.FreqDist()\n",
    "print('Frequency of the word \"upon\" duirng initilization is {}'.format(word_count['upon']))"
   ]
  },
  {
   "cell_type": "code",
   "execution_count": 141,
   "metadata": {},
   "outputs": [
    {
     "data": {
      "text/plain": [
       "[['quick', 'brown', 'fox', '.'], ['jumped', 'lazy', 'dog', '.']]"
      ]
     },
     "execution_count": 141,
     "metadata": {},
     "output_type": "execute_result"
    }
   ],
   "source": [
    "tokens"
   ]
  },
  {
   "cell_type": "code",
   "execution_count": 142,
   "metadata": {},
   "outputs": [
    {
     "name": "stdout",
     "output_type": "stream",
     "text": [
      "Frequency of the word \"upon\" after update is 0\n"
     ]
    }
   ],
   "source": [
    "for token in tokens:\n",
    "    for tok in token:\n",
    "        word_count[tok] += 1\n",
    "print('Frequency of the word \"upon\" after update is {}'.format(word_count['upon']))"
   ]
  },
  {
   "cell_type": "code",
   "execution_count": 143,
   "metadata": {
    "scrolled": true
   },
   "outputs": [
    {
     "data": {
      "text/plain": [
       "[('.', 2), ('quick', 1), ('brown', 1), ('fox', 1), ('jumped', 1)]"
      ]
     },
     "execution_count": 143,
     "metadata": {},
     "output_type": "execute_result"
    }
   ],
   "source": [
    "word_count.most_common(5)"
   ]
  },
  {
   "cell_type": "code",
   "execution_count": 148,
   "metadata": {},
   "outputs": [],
   "source": [
    "#Dumping wordcount into a text file\n",
    "import json\n",
    "with open('word_freqs.json', 'w') as f:\n",
    "    json.dump(word_count, f)"
   ]
  },
  {
   "cell_type": "code",
   "execution_count": 151,
   "metadata": {},
   "outputs": [
    {
     "name": "stdout",
     "output_type": "stream",
     "text": [
      "('quick', 'brown')\n",
      "('brown', 'fox')\n",
      "('fox', '.')\n",
      "('jumped', 'lazy')\n",
      "('lazy', 'dog')\n",
      "('dog', '.')\n"
     ]
    }
   ],
   "source": [
    "# n-grams\n",
    "for token in tokens:\n",
    "    for each_bigram in nltk.ngrams(token, 2):\n",
    "        print (each_bigram,)"
   ]
  },
  {
   "cell_type": "code",
   "execution_count": 153,
   "metadata": {},
   "outputs": [
    {
     "name": "stdout",
     "output_type": "stream",
     "text": [
      "('quick', 'brown', 'fox')\n",
      "('brown', 'fox', '.')\n",
      "('jumped', 'lazy', 'dog')\n",
      "('lazy', 'dog', '.')\n"
     ]
    }
   ],
   "source": [
    "for token in tokens:\n",
    "    for each_trigram in nltk.ngrams(token, 3):\n",
    "        print (each_trigram,)\n"
   ]
  },
  {
   "cell_type": "code",
   "execution_count": null,
   "metadata": {},
   "outputs": [],
   "source": [
    "# Assignment 2\n",
    "#How many words are there in the text?\n",
    "#How many sentences are there in the text?\n",
    "#How many unique words are there in the text?\n",
    "#What is the average number of characters of a word in the text?\n",
    "\n",
    "\n",
    "#What are the 10 most common words in the processed text?"
   ]
  },
  {
   "cell_type": "code",
   "execution_count": 1,
   "metadata": {},
   "outputs": [],
   "source": [
    "string = '''At Waterloo we were fortunate in catching a don't train for Leatherhead, where we hired a trap at the station inn and drove for four or five miles through the lovely Surrey lanes. \n",
    "It was a perfect day, with a bright sun and a few fleecy clouds in the heavens. \n",
    "The trees and wayside hedges were just throwing out their first green shoots, and the air was full of the pleasant smell of the moist earth. To me at least there was a strange contrast between the sweet promise of the spring and this sinister quest upon which we were engaged. \n",
    "My companion sat in the front of the trap, his arms folded, his hat pulled down over his eyes, and his chin sunk upon his breast, buried in the deepest thought. \n",
    "Suddenly, however, he started, tapped me on the shoulder, and pointed over the meadows.\n",
    "'''"
   ]
  },
  {
   "cell_type": "code",
   "execution_count": 21,
   "metadata": {},
   "outputs": [
    {
     "name": "stdout",
     "output_type": "stream",
     "text": [
      "['At', 'Waterloo', 'we', 'were', 'fortunate', 'in', 'catching', 'a', \"don't\", 'train', 'for', 'Leatherhead', 'where', 'we', 'hired', 'a', 'trap', 'at', 'the', 'station', 'inn', 'and', 'drove', 'for', 'four', 'or', 'five', 'miles', 'through', 'the', 'lovely', 'Surrey', 'lanes', 'It', 'was', 'a', 'perfect', 'day', 'with', 'a', 'bright', 'sun', 'and', 'a', 'few', 'fleecy', 'clouds', 'in', 'the', 'heavens', 'The', 'trees', 'and', 'wayside', 'hedges', 'were', 'just', 'throwing', 'out', 'their', 'first', 'green', 'shoots', 'and', 'the', 'air', 'was', 'full', 'of', 'the', 'pleasant', 'smell', 'of', 'the', 'moist', 'earth', 'To', 'me', 'at', 'least', 'there', 'was', 'a', 'strange', 'contrast', 'between', 'the', 'sweet', 'promise', 'of', 'the', 'spring', 'and', 'this', 'sinister', 'quest', 'upon', 'which', 'we', 'were', 'engaged', 'My', 'companion', 'sat', 'in', 'the', 'front', 'of', 'the', 'trap', 'his', 'arms', 'folded', 'his', 'hat', 'pulled', 'down', 'over', 'his', 'eyes', 'and', 'his', 'chin', 'sunk', 'upon', 'his', 'breast', 'buried', 'in', 'the', 'deepest', 'thought', 'Suddenly', 'however', 'he', 'started', 'tapped', 'me', 'on', 'the', 'shoulder', 'and', 'pointed', 'over', 'the', 'meadows']\n",
      "Number of words in the text are:  146\n",
      "Number of sentences in text are:  6\n",
      "number of unique words are :  101\n",
      "average number of characters of a word:  4.267123287671233\n",
      "74\n",
      "actual words after removal are:  ['At', 'Waterloo', 'fortunate', 'catching', 'train', 'Leatherhead', 'hired', 'trap', 'station', 'inn', 'drove', 'four', 'five', 'miles', 'lovely', 'Surrey', 'lanes', 'It', 'perfect', 'day', 'bright', 'sun', 'fleecy', 'clouds', 'heavens', 'The', 'trees', 'wayside', 'hedges', 'throwing', 'first', 'green', 'shoots', 'air', 'full', 'pleasant', 'smell', 'moist', 'earth', 'To', 'least', 'strange', 'contrast', 'sweet', 'promise', 'spring', 'sinister', 'quest', 'upon', 'engaged', 'My', 'companion', 'sat', 'front', 'trap', 'arms', 'folded', 'hat', 'pulled', 'eyes', 'chin', 'sunk', 'upon', 'breast', 'buried', 'deepest', 'thought', 'Suddenly', 'however', 'started', 'tapped', 'shoulder', 'pointed', 'meadows']\n",
      "words removed are : ['i', 'me', 'my', 'myself', 'we', 'our', 'ours', 'ourselves', 'you', \"you're\", \"you've\", \"you'll\", \"you'd\", 'your', 'yours', 'yourself', 'yourselves', 'he', 'him', 'his', 'himself', 'she', \"she's\", 'her', 'hers', 'herself', 'it', \"it's\", 'its', 'itself', 'they', 'them', 'their', 'theirs', 'themselves', 'what', 'which', 'who', 'whom', 'this', 'that', \"that'll\", 'these', 'those', 'am', 'is', 'are', 'was', 'were', 'be', 'been', 'being', 'have', 'has', 'had', 'having', 'do', 'does', 'did', 'doing', 'a', 'an', 'the', 'and', 'but', 'if', 'or', 'because', 'as', 'until', 'while', 'of', 'at', 'by', 'for', 'with', 'about', 'against', 'between', 'into', 'through', 'during', 'before', 'after', 'above', 'below', 'to', 'from', 'up', 'down', 'in', 'out', 'on', 'off', 'over', 'under', 'again', 'further', 'then', 'once', 'here', 'there', 'when', 'where', 'why', 'how', 'all', 'any', 'both', 'each', 'few', 'more', 'most', 'other', 'some', 'such', 'no', 'nor', 'not', 'only', 'own', 'same', 'so', 'than', 'too', 'very', 's', 't', 'can', 'will', 'just', 'don', \"don't\", 'should', \"should've\", 'now', 'd', 'll', 'm', 'o', 're', 've', 'y', 'ain', 'aren', \"aren't\", 'couldn', \"couldn't\", 'didn', \"didn't\", 'doesn', \"doesn't\", 'hadn', \"hadn't\", 'hasn', \"hasn't\", 'haven', \"haven't\", 'isn', \"isn't\", 'ma', 'mightn', \"mightn't\", 'mustn', \"mustn't\", 'needn', \"needn't\", 'shan', \"shan't\", 'shouldn', \"shouldn't\", 'wasn', \"wasn't\", 'weren', \"weren't\", 'won', \"won't\", 'wouldn', \"wouldn't\"]\n"
     ]
    }
   ],
   "source": [
    "\n",
    "# Word Tokenziation\n",
    "import numpy as  np\n",
    "tokenizer = RegexpTokenizer(\"[\\w']+\")\n",
    "tokens=tokenizer.tokenize(string)\n",
    "print(tokens)\n",
    "# #How many words are there in the text?\n",
    "print('Number of words in the text are: ', len(tokens))\n",
    "# #How many sentences are there in the text?\n",
    "sentences = sent_tokenize(string)\n",
    "print(\"Number of sentences in text are: \", len(sentences))\n",
    "##How many unique words are there in the text?\n",
    "print(\"number of unique words are : \", len(set(tokens))) # set will give the unique words\n",
    "# #What is the average number of characters of a word in the text?\n",
    "print(\"average number of characters of a word: \", np.mean([len(token) for token in tokens]))\n",
    "##Remove the stop words and store the tokens in a list.\n",
    "stop = stopwords.words('english')\n",
    "word_actuals = [word for word in tokens if word not in stop]\n",
    "print(len(word_actuals))\n",
    "print(\"actual words after removal are: \", word_actuals)\n",
    "print(\"words removed are :\", stop)\n"
   ]
  },
  {
   "cell_type": "code",
   "execution_count": 167,
   "metadata": {},
   "outputs": [
    {
     "name": "stdout",
     "output_type": "stream",
     "text": [
      "[\"At Waterloo we were fortunate in catching a don't train for Leatherhead, where we hired a trap at the station inn and drove for four or five miles through the lovely Surrey lanes.\", 'It was a perfect day, with a bright sun and a few fleecy clouds in the heavens.', 'The trees and wayside hedges were just throwing out their first green shoots, and the air was full of the pleasant smell of the moist earth.', 'To me at least there was a strange contrast between the sweet promise of the spring and this sinister quest upon which we were engaged.', 'My companion sat in the front of the trap, his arms folded, his hat pulled down over his eyes, and his chin sunk upon his breast, buried in the deepest thought.', 'Suddenly, however, he started, tapped me on the shoulder, and pointed over the meadows.']\n",
      "Number of sentneces are:  6\n"
     ]
    }
   ],
   "source": [
    "sentences = sent_tokenize(string)\n",
    "print(sentences)\n",
    "sent_count = 0\n",
    "for sent in sentences:\n",
    "    sent_count += 1\n",
    "print(\"Number of sentneces are: \",  sent_count)\n",
    "    "
   ]
  },
  {
   "cell_type": "code",
   "execution_count": 177,
   "metadata": {},
   "outputs": [
    {
     "name": "stdout",
     "output_type": "stream",
     "text": [
      "number of words are : 146\n",
      "['At', 'Waterloo', 'we', 'were', 'fortunate', 'in', 'catching', 'a', \"don't\", 'train', 'for', 'Leatherhead', 'where', 'we', 'hired', 'a', 'trap', 'at', 'the', 'station', 'inn', 'and', 'drove', 'for', 'four', 'or', 'five', 'miles', 'through', 'the', 'lovely', 'Surrey', 'lanes', 'It', 'was', 'a', 'perfect', 'day', 'with', 'a', 'bright', 'sun', 'and', 'a', 'few', 'fleecy', 'clouds', 'in', 'the', 'heavens', 'The', 'trees', 'and', 'wayside', 'hedges', 'were', 'just', 'throwing', 'out', 'their', 'first', 'green', 'shoots', 'and', 'the', 'air', 'was', 'full', 'of', 'the', 'pleasant', 'smell', 'of', 'the', 'moist', 'earth', 'To', 'me', 'at', 'least', 'there', 'was', 'a', 'strange', 'contrast', 'between', 'the', 'sweet', 'promise', 'of', 'the', 'spring', 'and', 'this', 'sinister', 'quest', 'upon', 'which', 'we', 'were', 'engaged', 'My', 'companion', 'sat', 'in', 'the', 'front', 'of', 'the', 'trap', 'his', 'arms', 'folded', 'his', 'hat', 'pulled', 'down', 'over', 'his', 'eyes', 'and', 'his', 'chin', 'sunk', 'upon', 'his', 'breast', 'buried', 'in', 'the', 'deepest', 'thought', 'Suddenly', 'however', 'he', 'started', 'tapped', 'me', 'on', 'the', 'shoulder', 'and', 'pointed', 'over', 'the', 'meadows']\n",
      "Number of unique words are : 101\n",
      "Average number of characters in word are : 4.267123287671233\n",
      "['waterloo', 'fortunate', 'catching', 'train', 'leatherhead', 'hired', 'trap', 'station', 'inn', 'drove', 'four', 'five', 'miles', 'lovely', 'surrey', 'lanes', 'perfect', 'day', 'bright', 'sun', 'fleecy', 'clouds', 'heavens', 'trees', 'wayside', 'hedges', 'throwing', 'first', 'green', 'shoots', 'air', 'full', 'pleasant', 'smell', 'moist', 'earth', 'least', 'strange', 'contrast', 'sweet', 'promise', 'spring', 'sinister', 'quest', 'upon', 'engaged', 'companion', 'sat', 'front', 'trap', 'arms', 'folded', 'hat', 'pulled', 'eyes', 'chin', 'sunk', 'upon', 'breast', 'buried', 'deepest', 'thought', 'suddenly', 'however', 'started', 'tapped', 'shoulder', 'pointed', 'meadows']\n"
     ]
    }
   ],
   "source": [
    "tokenizer = RegexpTokenizer(\"[\\w']+\")\n",
    "tokens=tokenizer.tokenize(string)\n",
    "print(\"number of words are :\", len(tokens))\n",
    "print(tokens)\n",
    "unique_words = []\n",
    "sum = 0\n",
    "for token in tokens:\n",
    "    sum = sum + len(token)\n",
    "    if token not in unique_words:\n",
    "        unique_words.append(token)\n",
    "print(\"Number of unique words are :\", len(unique_words))\n",
    "print(\"Average number of characters in word are :\", sum/len(tokens))\n",
    "lower_tokens = []\n",
    "lower_tokens = [token.lower() for token in tokens]\n",
    "stop = stopwords.words('english')\n",
    "tokens = [token for token in lower_tokens if token not in stop]\n",
    "print(tokens)"
   ]
  },
  {
   "cell_type": "code",
   "execution_count": 180,
   "metadata": {},
   "outputs": [
    {
     "name": "stdout",
     "output_type": "stream",
     "text": [
      "Frequency of the word \"upon\" duirng initilization is 0\n",
      "Frequency of the word \"upon\" after update is 2\n",
      " 10 most common words are : [('trap', 2), ('upon', 2), ('waterloo', 1), ('fortunate', 1), ('catching', 1), ('train', 1), ('leatherhead', 1), ('hired', 1), ('station', 1), ('inn', 1)]\n"
     ]
    }
   ],
   "source": [
    "# Word Count\n",
    "word_count =  nltk.FreqDist()\n",
    "print('Frequency of the word \"upon\" duirng initilization is {}'.format(word_count['upon']))\n",
    "for token in tokens:\n",
    "    word_count[token] += 1\n",
    "print('Frequency of the word \"upon\" after update is {}'.format(word_count['upon']))\n",
    "print(' 10 most common words are :', word_count.most_common(10))"
   ]
  },
  {
   "cell_type": "code",
   "execution_count": 181,
   "metadata": {},
   "outputs": [],
   "source": [
    "# World cloud\n",
    "from nltk import word_tokenize, sent_tokenize\n",
    "text= '''Sachin Ramesh Tendulkar; born 24 April 1973 is a former Indian international cricketer and a former captain of the Indian national team, regarded as one of the greatest batsmen of all time.[4] He is the highest run scorer of all time in International cricket. Often referred to as the 'God of Cricket' by Indian cricket followers,[5] Tendulkar took up cricket at the age of eleven, made his Test debut on 15 November 1989 against Pakistan in Karachi at the age of sixteen, and went on to represent Mumbai domestically and India internationally for close to twenty-four years. He is the only player to have scored one hundred international centuries, the first batsman to score a double century in a ODI, the holder of the record for the most number of runs in both Test and ODI, and the only player to complete more than 30,000 runs in international cricket.[6]\n",
    "\n",
    "In 2002, halfway through his career, Wisden Cricketers' Almanack ranked him the second greatest Test batsman of all time, behind Don Bradman, and the second greatest ODI batsman of all time, behind Viv Richards.[7] Later in his career, Tendulkar was a part of the Indian team that won the 2011 World Cup, his first win in six World Cup appearances for India.[8] He had previously been named \"Player of the Tournament\" at the 2003 edition of the tournament, held in South Africa. In 2013, he was the only Indian cricketer included in an all-time Test World XI named to mark the 150th anniversary of Wisden Cricketers' Almanack.[9][10][11]\n",
    "\n",
    "Tendulkar received the Arjuna Award in 1994 for his outstanding sporting achievement, the Rajiv Gandhi Khel Ratna award in 1997, India's highest sporting honour, and the Padma Shri and Padma Vibhushan awards in 1999 and 2008, respectively, India's fourth and second highest civilian awards.[12] After a few hours of his final match on 16 November 2013, the Prime Minister's Office announced the decision to award him the Bharat Ratna, India's highest civilian award.[13][14] He is the youngest recipient to date and the first ever sportsperson to receive the award.[15][16] He also won the 2010 Sir Garfield Sobers Trophy for cricketer of the year at the ICC awards.[17] In 2012, Tendulkar was nominated to the Rajya Sabha, the upper house of the Parliament of India.[18] He was also the first sportsperson and the first person without an aviation background to be awarded the honorary rank of group captain by the Indian Air Force.[19] In 2012, he was named an Honorary Member of the Order of Australia.[20][21]\n",
    "\n",
    "In 2010, Time magazine included Sachin in its annual Time 100 list as one of the \"Most Influential People in the World\".[22] In December 2012, Tendulkar announced his retirement from ODIs.[23] He retired from Twenty20 cricket in October 2013[24] and subsequently retired from all forms of cricket on 16 November 2013 after playing his 200th Test match, against the West Indies in Mumbai's Wankhede Stadium.[25] Tendulkar played 664 international cricket matches in total, scoring 34,357 runs.[6]'''"
   ]
  },
  {
   "cell_type": "code",
   "execution_count": 188,
   "metadata": {},
   "outputs": [
    {
     "name": "stdout",
     "output_type": "stream",
     "text": [
      "<class 'nltk.probability.FreqDist'>\n",
      "dict_keys(['Sachin', 'Ramesh', 'Tendulkar', ';', 'born', '24', 'April', '1973', 'is', 'a', 'former', 'Indian', 'international', 'cricketer', 'and', 'captain', 'of', 'the', 'national', 'team', ',', 'regarded', 'as', 'one', 'greatest', 'batsmen', 'all', 'time', '.', '[', '4', ']', 'He', 'highest', 'run', 'scorer', 'in', 'International', 'cricket', 'Often', 'referred', 'to', \"'God\", 'Cricket', \"'\", 'by', 'followers', '5', 'took', 'up', 'at', 'age', 'eleven', 'made', 'his', 'Test', 'debut', 'on', '15', 'November', '1989', 'against', 'Pakistan', 'Karachi', 'sixteen', 'went', 'represent', 'Mumbai', 'domestically', 'India', 'internationally', 'for', 'close', 'twenty-four', 'years', 'only', 'player', 'have', 'scored', 'hundred', 'centuries', 'first', 'batsman', 'score', 'double', 'century', 'ODI', 'holder', 'record', 'most', 'number', 'runs', 'both', 'complete', 'more', 'than', '30,000', '6', 'In', '2002', 'halfway', 'through', 'career', 'Wisden', 'Cricketers', 'Almanack', 'ranked', 'him', 'second', 'behind', 'Don', 'Bradman', 'Viv', 'Richards', '7', 'Later', 'was', 'part', 'that', 'won', '2011', 'World', 'Cup', 'win', 'six', 'appearances', '8', 'had', 'previously', 'been', 'named', '``', 'Player', 'Tournament', \"''\", '2003', 'edition', 'tournament', 'held', 'South', 'Africa', '2013', 'he', 'included', 'an', 'all-time', 'XI', 'mark', '150th', 'anniversary', '9', '10', '11', 'received', 'Arjuna', 'Award', '1994', 'outstanding', 'sporting', 'achievement', 'Rajiv', 'Gandhi', 'Khel', 'Ratna', 'award', '1997', \"'s\", 'honour', 'Padma', 'Shri', 'Vibhushan', 'awards', '1999', '2008', 'respectively', 'fourth', 'civilian', '12', 'After', 'few', 'hours', 'final', 'match', '16', 'Prime', 'Minister', 'Office', 'announced', 'decision', 'Bharat', '13', '14', 'youngest', 'recipient', 'date', 'ever', 'sportsperson', 'receive', 'also', '2010', 'Sir', 'Garfield', 'Sobers', 'Trophy', 'year', 'ICC', '17', '2012', 'nominated', 'Rajya', 'Sabha', 'upper', 'house', 'Parliament', '18', 'person', 'without', 'aviation', 'background', 'be', 'awarded', 'honorary', 'rank', 'group', 'Air', 'Force', '19', 'Honorary', 'Member', 'Order', 'Australia', '20', '21', 'Time', 'magazine', 'its', 'annual', '100', 'list', 'Most', 'Influential', 'People', '22', 'December', 'retirement', 'from', 'ODIs', '23', 'retired', 'Twenty20', 'October', 'subsequently', 'forms', 'after', 'playing', '200th', 'West', 'Indies', 'Wankhede', 'Stadium', '25', 'played', '664', 'matches', 'total', 'scoring', '34,357'])\n",
      "dict_values([2, 1, 7, 1, 1, 2, 1, 1, 4, 6, 2, 6, 4, 3, 13, 2, 24, 44, 1, 2, 30, 1, 3, 3, 3, 1, 5, 4, 19, 23, 1, 23, 7, 4, 1, 1, 17, 1, 7, 1, 1, 12, 1, 1, 3, 2, 1, 1, 1, 1, 4, 2, 1, 1, 8, 5, 1, 4, 2, 3, 1, 2, 1, 1, 1, 1, 1, 2, 1, 6, 1, 5, 1, 1, 1, 3, 2, 1, 1, 1, 1, 5, 3, 1, 1, 1, 3, 1, 1, 1, 1, 3, 1, 1, 1, 1, 1, 2, 6, 1, 1, 1, 2, 2, 2, 2, 1, 2, 3, 2, 1, 1, 1, 1, 1, 1, 5, 1, 1, 2, 1, 4, 2, 1, 1, 1, 1, 1, 1, 1, 3, 2, 1, 1, 2, 1, 1, 1, 1, 1, 1, 4, 2, 2, 3, 1, 1, 1, 1, 1, 1, 1, 1, 1, 1, 1, 1, 1, 2, 1, 1, 1, 1, 2, 4, 1, 5, 1, 2, 1, 1, 3, 1, 1, 1, 1, 2, 1, 1, 1, 1, 1, 2, 3, 1, 1, 1, 2, 1, 1, 1, 1, 1, 1, 1, 1, 2, 1, 2, 2, 1, 1, 1, 1, 1, 1, 1, 3, 1, 1, 1, 1, 1, 1, 1, 1, 1, 1, 1, 1, 1, 1, 1, 1, 1, 1, 1, 1, 1, 1, 1, 1, 1, 2, 1, 1, 1, 1, 1, 1, 1, 1, 1, 1, 1, 3, 1, 1, 2, 1, 1, 1, 1, 1, 1, 1, 1, 1, 1, 1, 1, 1, 1, 1, 1, 1, 1])\n"
     ]
    }
   ],
   "source": [
    "A = word_tokenize(text)\n",
    "B = nltk.FreqDist(A)\n",
    "print(type(B))\n",
    "print(B.keys())\n",
    "print(B.values())"
   ]
  },
  {
   "cell_type": "code",
   "execution_count": 183,
   "metadata": {},
   "outputs": [
    {
     "name": "stdout",
     "output_type": "stream",
     "text": [
      "Sachin : 2\n",
      "Ramesh : 1\n",
      "Tendulkar : 7\n",
      "; : 1\n",
      "born : 1\n",
      "24 : 2\n",
      "April : 1\n",
      "1973 : 1\n",
      "is : 4\n",
      "a : 6\n",
      "former : 2\n",
      "Indian : 6\n",
      "international : 4\n",
      "cricketer : 3\n",
      "and : 13\n",
      "captain : 2\n",
      "of : 24\n",
      "the : 44\n",
      "national : 1\n",
      "team : 2\n",
      ", : 30\n",
      "regarded : 1\n",
      "as : 3\n",
      "one : 3\n",
      "greatest : 3\n",
      "batsmen : 1\n",
      "all : 5\n",
      "time : 4\n",
      ". : 19\n",
      "[ : 23\n",
      "4 : 1\n",
      "] : 23\n",
      "He : 7\n",
      "highest : 4\n",
      "run : 1\n",
      "scorer : 1\n",
      "in : 17\n",
      "International : 1\n",
      "cricket : 7\n",
      "Often : 1\n",
      "referred : 1\n",
      "to : 12\n",
      "'God : 1\n",
      "Cricket : 1\n",
      "' : 3\n",
      "by : 2\n",
      "followers : 1\n",
      "5 : 1\n",
      "took : 1\n",
      "up : 1\n",
      "at : 4\n",
      "age : 2\n",
      "eleven : 1\n",
      "made : 1\n",
      "his : 8\n",
      "Test : 5\n",
      "debut : 1\n",
      "on : 4\n",
      "15 : 2\n",
      "November : 3\n",
      "1989 : 1\n",
      "against : 2\n",
      "Pakistan : 1\n",
      "Karachi : 1\n",
      "sixteen : 1\n",
      "went : 1\n",
      "represent : 1\n",
      "Mumbai : 2\n",
      "domestically : 1\n",
      "India : 6\n",
      "internationally : 1\n",
      "for : 5\n",
      "close : 1\n",
      "twenty-four : 1\n",
      "years : 1\n",
      "only : 3\n",
      "player : 2\n",
      "have : 1\n",
      "scored : 1\n",
      "hundred : 1\n",
      "centuries : 1\n",
      "first : 5\n",
      "batsman : 3\n",
      "score : 1\n",
      "double : 1\n",
      "century : 1\n",
      "ODI : 3\n",
      "holder : 1\n",
      "record : 1\n",
      "most : 1\n",
      "number : 1\n",
      "runs : 3\n",
      "both : 1\n",
      "complete : 1\n",
      "more : 1\n",
      "than : 1\n",
      "30,000 : 1\n",
      "6 : 2\n",
      "In : 6\n",
      "2002 : 1\n",
      "halfway : 1\n",
      "through : 1\n",
      "career : 2\n",
      "Wisden : 2\n",
      "Cricketers : 2\n",
      "Almanack : 2\n",
      "ranked : 1\n",
      "him : 2\n",
      "second : 3\n",
      "behind : 2\n",
      "Don : 1\n",
      "Bradman : 1\n",
      "Viv : 1\n",
      "Richards : 1\n",
      "7 : 1\n",
      "Later : 1\n",
      "was : 5\n",
      "part : 1\n",
      "that : 1\n",
      "won : 2\n",
      "2011 : 1\n",
      "World : 4\n",
      "Cup : 2\n",
      "win : 1\n",
      "six : 1\n",
      "appearances : 1\n",
      "8 : 1\n",
      "had : 1\n",
      "previously : 1\n",
      "been : 1\n",
      "named : 3\n",
      "`` : 2\n",
      "Player : 1\n",
      "Tournament : 1\n",
      "'' : 2\n",
      "2003 : 1\n",
      "edition : 1\n",
      "tournament : 1\n",
      "held : 1\n",
      "South : 1\n",
      "Africa : 1\n",
      "2013 : 4\n",
      "he : 2\n",
      "included : 2\n",
      "an : 3\n",
      "all-time : 1\n",
      "XI : 1\n",
      "mark : 1\n",
      "150th : 1\n",
      "anniversary : 1\n",
      "9 : 1\n",
      "10 : 1\n",
      "11 : 1\n",
      "received : 1\n",
      "Arjuna : 1\n",
      "Award : 1\n",
      "1994 : 1\n",
      "outstanding : 1\n",
      "sporting : 2\n",
      "achievement : 1\n",
      "Rajiv : 1\n",
      "Gandhi : 1\n",
      "Khel : 1\n",
      "Ratna : 2\n",
      "award : 4\n",
      "1997 : 1\n",
      "'s : 5\n",
      "honour : 1\n",
      "Padma : 2\n",
      "Shri : 1\n",
      "Vibhushan : 1\n",
      "awards : 3\n",
      "1999 : 1\n",
      "2008 : 1\n",
      "respectively : 1\n",
      "fourth : 1\n",
      "civilian : 2\n",
      "12 : 1\n",
      "After : 1\n",
      "few : 1\n",
      "hours : 1\n",
      "final : 1\n",
      "match : 2\n",
      "16 : 3\n",
      "Prime : 1\n",
      "Minister : 1\n",
      "Office : 1\n",
      "announced : 2\n",
      "decision : 1\n",
      "Bharat : 1\n",
      "13 : 1\n",
      "14 : 1\n",
      "youngest : 1\n",
      "recipient : 1\n",
      "date : 1\n",
      "ever : 1\n",
      "sportsperson : 2\n",
      "receive : 1\n",
      "also : 2\n",
      "2010 : 2\n",
      "Sir : 1\n",
      "Garfield : 1\n",
      "Sobers : 1\n",
      "Trophy : 1\n",
      "year : 1\n",
      "ICC : 1\n",
      "17 : 1\n",
      "2012 : 3\n",
      "nominated : 1\n",
      "Rajya : 1\n",
      "Sabha : 1\n",
      "upper : 1\n",
      "house : 1\n",
      "Parliament : 1\n",
      "18 : 1\n",
      "person : 1\n",
      "without : 1\n",
      "aviation : 1\n",
      "background : 1\n",
      "be : 1\n",
      "awarded : 1\n",
      "honorary : 1\n",
      "rank : 1\n",
      "group : 1\n",
      "Air : 1\n",
      "Force : 1\n",
      "19 : 1\n",
      "Honorary : 1\n",
      "Member : 1\n",
      "Order : 1\n",
      "Australia : 1\n",
      "20 : 1\n",
      "21 : 1\n",
      "Time : 2\n",
      "magazine : 1\n",
      "its : 1\n",
      "annual : 1\n",
      "100 : 1\n",
      "list : 1\n",
      "Most : 1\n",
      "Influential : 1\n",
      "People : 1\n",
      "22 : 1\n",
      "December : 1\n",
      "retirement : 1\n",
      "from : 3\n",
      "ODIs : 1\n",
      "23 : 1\n",
      "retired : 2\n",
      "Twenty20 : 1\n",
      "October : 1\n",
      "subsequently : 1\n",
      "forms : 1\n",
      "after : 1\n",
      "playing : 1\n",
      "200th : 1\n",
      "West : 1\n",
      "Indies : 1\n",
      "Wankhede : 1\n",
      "Stadium : 1\n",
      "25 : 1\n",
      "played : 1\n",
      "664 : 1\n",
      "matches : 1\n",
      "total : 1\n",
      "scoring : 1\n",
      "34,357 : 1\n"
     ]
    }
   ],
   "source": [
    "for i in B:\n",
    "    print(i + \" : \" + str(B[i]))"
   ]
  },
  {
   "cell_type": "code",
   "execution_count": 184,
   "metadata": {},
   "outputs": [
    {
     "name": "stdout",
     "output_type": "stream",
     "text": [
      "Collecting wordcloud\n",
      "  Downloading https://files.pythonhosted.org/packages/dd/57/8fd38e31be7951f9164f4cb3a769159a0c2ef4af0f597ddf09a7e736593e/wordcloud-1.5.0-cp36-cp36m-win_amd64.whl (153kB)\n",
      "Requirement already satisfied: pillow in c:\\programdata\\anaconda3\\lib\\site-packages (from wordcloud) (5.1.0)\n",
      "Requirement already satisfied: numpy>=1.6.1 in c:\\users\\prashanth yerabati\\appdata\\roaming\\python\\python36\\site-packages (from wordcloud) (1.16.0)\n",
      "Installing collected packages: wordcloud\n",
      "Successfully installed wordcloud-1.5.0\n"
     ]
    },
    {
     "name": "stderr",
     "output_type": "stream",
     "text": [
      "You are using pip version 18.1, however version 19.0.1 is available.\n",
      "You should consider upgrading via the 'python -m pip install --upgrade pip' command.\n"
     ]
    }
   ],
   "source": [
    "!pip install wordcloud\n",
    "# This will give the Key words in each document "
   ]
  },
  {
   "cell_type": "code",
   "execution_count": 187,
   "metadata": {},
   "outputs": [
    {
     "data": {
      "image/png": "[encoded data removed]",
      "text/plain": [
       "<Figure size 720x720 with 1 Axes>"
      ]
     },
     "metadata": {},
     "output_type": "display_data"
    }
   ],
   "source": [
    "from wordcloud import WordCloud\n",
    "%matplotlib inline\n",
    "cloud=WordCloud().generate(text)\n",
    "import matplotlib.pyplot as plt\n",
    "plt.figure(figsize=(10,10))\n",
    "plt.imshow(cloud)\n",
    "plt.show(cloud)"
   ]
  },
  {
   "cell_type": "code",
   "execution_count": null,
   "metadata": {},
   "outputs": [],
   "source": []
  }
 ],
 "metadata": {
  "kernelspec": {
   "display_name": "Python 3",
   "language": "python",
   "name": "python3"
  },
  "language_info": {
   "codemirror_mode": {
    "name": "ipython",
    "version": 3
   },
   "file_extension": ".py",
   "mimetype": "text/x-python",
   "name": "python",
   "nbconvert_exporter": "python",
   "pygments_lexer": "ipython3",
   "version": "3.6.5"
  }
 },
 "nbformat": 4,
 "nbformat_minor": 2
}
