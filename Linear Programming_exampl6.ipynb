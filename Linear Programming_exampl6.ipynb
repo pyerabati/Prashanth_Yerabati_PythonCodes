{
 "cells": [
  {
   "cell_type": "code",
   "execution_count": 28,
   "metadata": {},
   "outputs": [],
   "source": [
    "##Problem 7:Transportation problem\n",
    "\n",
    "# Tropicsun currently has 275,000 bags of citrus at Mt. Dora,\n",
    "# 400,000 bags at Eustis, and 300,000 bags at Clermont. Tropicsun has\n",
    "# citrus processing plants in Ocala, Orlando, and Leesburg with processing \n",
    "# capacities to handle 200,000, 600,000, and 225,000 bags, respectively.\n",
    "# Tropicsun contracts with a local trucking company to transport its fruit \n",
    "# from the groves to the processing plants. The trucking company charges a \n",
    "# flat rate for every mile that each bushel of fruit must be transported. \n",
    "# Each mile a bushel of fruit travels is known as a bushelmile. \n",
    "# The following table summarizes the distances (in miles) between the groves \n",
    "# and processing plants:\n",
    "import pulp\n",
    "z = pulp.LpProblem('Problem Transport', pulp.LpMinimize)\n",
    "x1 = pulp.LpVariable('x1', lowBound=0, cat = 'Integer')\n",
    "x2 = pulp.LpVariable('x2', lowBound=0, cat = 'Integer')\n",
    "x3 = pulp.LpVariable('x3', lowBound=0, cat = 'Integer')\n",
    "x4 = pulp.LpVariable('x4', lowBound=0, cat = 'Integer')\n",
    "x5 = pulp.LpVariable('x5', lowBound=0, cat = 'Integer')\n",
    "x6 = pulp.LpVariable('x6', lowBound=0, cat = 'Integer')\n",
    "x7 = pulp.LpVariable('x7', lowBound=0, cat = 'Integer')\n",
    "x8 = pulp.LpVariable('x8', lowBound=0, cat = 'Integer')\n",
    "x9 = pulp.LpVariable('x9', lowBound=0, cat = 'Integer')"
   ]
  },
  {
   "cell_type": "code",
   "execution_count": 29,
   "metadata": {},
   "outputs": [],
   "source": [
    "z += 21*x1 + 50*x2 + 40*x3 + 35*x4 + 30*x5 + 22*x6 + 55*x7 + 20*x8 + 25*x9"
   ]
  },
  {
   "cell_type": "code",
   "execution_count": 30,
   "metadata": {},
   "outputs": [],
   "source": [
    "z +=  x1 + x2 + x3 == 275000\n",
    "z +=  x4 + x5 + x6 == 400000\n",
    "z +=  x7 + x8 + x9 ==  300000\n",
    "z +=  x1 + x4 + x7 <=  200000\n",
    "z +=  x2 + x5 + x8 <=  600000\n",
    "z +=  x3 + x6 + x9 <=  225000\n"
   ]
  },
  {
   "cell_type": "code",
   "execution_count": 31,
   "metadata": {},
   "outputs": [
    {
     "data": {
      "text/plain": [
       "Problem Transport:\n",
       "MINIMIZE\n",
       "21*x1 + 50*x2 + 40*x3 + 35*x4 + 30*x5 + 22*x6 + 55*x7 + 20*x8 + 25*x9 + 0\n",
       "SUBJECT TO\n",
       "_C1: x1 + x2 + x3 = 275000\n",
       "\n",
       "_C2: x4 + x5 + x6 = 400000\n",
       "\n",
       "_C3: x7 + x8 + x9 = 300000\n",
       "\n",
       "_C4: x1 + x4 + x7 <= 200000\n",
       "\n",
       "_C5: x2 + x5 + x8 <= 600000\n",
       "\n",
       "_C6: x3 + x6 + x9 <= 225000\n",
       "\n",
       "VARIABLES\n",
       "0 <= x1 Integer\n",
       "0 <= x2 Integer\n",
       "0 <= x3 Integer\n",
       "0 <= x4 Integer\n",
       "0 <= x5 Integer\n",
       "0 <= x6 Integer\n",
       "0 <= x7 Integer\n",
       "0 <= x8 Integer\n",
       "0 <= x9 Integer"
      ]
     },
     "execution_count": 31,
     "metadata": {},
     "output_type": "execute_result"
    }
   ],
   "source": [
    "z"
   ]
  },
  {
   "cell_type": "code",
   "execution_count": 32,
   "metadata": {},
   "outputs": [
    {
     "data": {
      "text/plain": [
       "'Optimal'"
      ]
     },
     "execution_count": 32,
     "metadata": {},
     "output_type": "execute_result"
    }
   ],
   "source": [
    "pulp.LpStatus[z.solve()]"
   ]
  },
  {
   "cell_type": "code",
   "execution_count": 33,
   "metadata": {},
   "outputs": [
    {
     "data": {
      "text/plain": [
       "(200000.0,\n",
       " 0.0,\n",
       " 75000.0,\n",
       " 0.0,\n",
       " 250000.0,\n",
       " 150000.0,\n",
       " 0.0,\n",
       " 300000.0,\n",
       " 0.0,\n",
       " 24000000.0)"
      ]
     },
     "execution_count": 33,
     "metadata": {},
     "output_type": "execute_result"
    }
   ],
   "source": [
    "pulp.value(x1), pulp.value(x2), pulp.value(x3), pulp.value(x4), pulp.value(x5),pulp.value(x6),pulp.value(x7),pulp.value(x8),pulp.value(x9),pulp.value(z.objective)"
   ]
  },
  {
   "cell_type": "code",
   "execution_count": null,
   "metadata": {},
   "outputs": [],
   "source": []
  }
 ],
 "metadata": {
  "kernelspec": {
   "display_name": "Python 3",
   "language": "python",
   "name": "python3"
  },
  "language_info": {
   "codemirror_mode": {
    "name": "ipython",
    "version": 3
   },
   "file_extension": ".py",
   "mimetype": "text/x-python",
   "name": "python",
   "nbconvert_exporter": "python",
   "pygments_lexer": "ipython3",
   "version": "3.6.5"
  }
 },
 "nbformat": 4,
 "nbformat_minor": 2
}
