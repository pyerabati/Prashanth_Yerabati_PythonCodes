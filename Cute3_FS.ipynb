{
 "cells": [
  {
   "cell_type": "code",
   "execution_count": 3,
   "metadata": {},
   "outputs": [],
   "source": [
    "import lightgbm as lgb"
   ]
  },
  {
   "cell_type": "code",
   "execution_count": 2,
   "metadata": {},
   "outputs": [
    {
     "name": "stdout",
     "output_type": "stream",
     "text": [
      "Collecting lightgbm\n",
      "  Downloading https://files.pythonhosted.org/packages/83/16/fc6acdf63dc62773382c8e2cbbea5f01a098699f2eede3b349496ebad6bf/lightgbm-2.2.2-py2.py3-none-win_amd64.whl (507kB)\n",
      "Requirement already satisfied: scikit-learn in c:\\users\\gnanendra\\anaconda3\\lib\\site-packages (from lightgbm) (0.20.2)\n",
      "Requirement already satisfied: scipy in c:\\users\\gnanendra\\anaconda3\\lib\\site-packages (from lightgbm) (1.1.0)\n",
      "Requirement already satisfied: numpy in c:\\users\\gnanendra\\appdata\\roaming\\python\\python36\\site-packages (from lightgbm) (1.16.0)\n",
      "Installing collected packages: lightgbm\n",
      "Successfully installed lightgbm-2.2.2\n"
     ]
    }
   ],
   "source": [
    "!pip install lightgbm"
   ]
  },
  {
   "cell_type": "code",
   "execution_count": 59,
   "metadata": {},
   "outputs": [
    {
     "name": "stdout",
     "output_type": "stream",
     "text": [
      "Requirement already satisfied: feature_selector in c:\\users\\gnanendra\\feature-selector (N-A)\n",
      "Requirement already satisfied: lightgbm>=2.1.1 in c:\\users\\gnanendra\\anaconda3\\lib\\site-packages (from feature_selector) (2.2.2)\n",
      "Requirement already satisfied: matplotlib>=2.1.2 in c:\\users\\gnanendra\\anaconda3\\lib\\site-packages (from feature_selector) (2.2.2)\n",
      "Requirement already satisfied: seaborn>=0.8.1 in c:\\users\\gnanendra\\anaconda3\\lib\\site-packages (from feature_selector) (0.8.1)\n",
      "Requirement already satisfied: numpy>=1.14.5 in c:\\users\\gnanendra\\appdata\\roaming\\python\\python36\\site-packages (from feature_selector) (1.16.0)\n",
      "Requirement already satisfied: pandas>=0.23.1 in c:\\users\\gnanendra\\anaconda3\\lib\\site-packages (from feature_selector) (0.23.4)\n",
      "Requirement already satisfied: scikit-learn>=0.19.1 in c:\\users\\gnanendra\\anaconda3\\lib\\site-packages (from feature_selector) (0.20.2)\n",
      "Requirement already satisfied: scipy in c:\\users\\gnanendra\\anaconda3\\lib\\site-packages (from lightgbm>=2.1.1->feature_selector) (1.1.0)\n",
      "Requirement already satisfied: cycler>=0.10 in c:\\users\\gnanendra\\anaconda3\\lib\\site-packages (from matplotlib>=2.1.2->feature_selector) (0.10.0)\n",
      "Requirement already satisfied: pyparsing!=2.0.4,!=2.1.2,!=2.1.6,>=2.0.1 in c:\\users\\gnanendra\\anaconda3\\lib\\site-packages (from matplotlib>=2.1.2->feature_selector) (2.2.0)\n",
      "Requirement already satisfied: python-dateutil>=2.1 in c:\\users\\gnanendra\\anaconda3\\lib\\site-packages (from matplotlib>=2.1.2->feature_selector) (2.7.3)\n",
      "Requirement already satisfied: pytz in c:\\users\\gnanendra\\anaconda3\\lib\\site-packages (from matplotlib>=2.1.2->feature_selector) (2018.4)\n",
      "Requirement already satisfied: six>=1.10 in c:\\users\\gnanendra\\anaconda3\\lib\\site-packages (from matplotlib>=2.1.2->feature_selector) (1.11.0)\n",
      "Requirement already satisfied: kiwisolver>=1.0.1 in c:\\users\\gnanendra\\anaconda3\\lib\\site-packages (from matplotlib>=2.1.2->feature_selector) (1.0.1)\n",
      "Requirement already satisfied: setuptools in c:\\users\\gnanendra\\anaconda3\\lib\\site-packages (from kiwisolver>=1.0.1->matplotlib>=2.1.2->feature_selector) (39.1.0)\n"
     ]
    }
   ],
   "source": [
    "!pip install feature_selector"
   ]
  },
  {
   "cell_type": "code",
   "execution_count": 156,
   "metadata": {},
   "outputs": [],
   "source": [
    "import pandas as pd\n",
    "import numpy as np"
   ]
  },
  {
   "cell_type": "code",
   "execution_count": 157,
   "metadata": {},
   "outputs": [],
   "source": [
    "import os"
   ]
  },
  {
   "cell_type": "code",
   "execution_count": 158,
   "metadata": {},
   "outputs": [],
   "source": [
    "from feature_selector import FeatureSelector"
   ]
  },
  {
   "cell_type": "code",
   "execution_count": 159,
   "metadata": {},
   "outputs": [],
   "source": [
    "# Features are in train and labels are in train_labels\n",
    "train = pd.read_csv(\"bank_data.csv\")\n"
   ]
  },
  {
   "cell_type": "code",
   "execution_count": 160,
   "metadata": {},
   "outputs": [
    {
     "data": {
      "text/plain": [
       "Index(['Attr1', 'Attr2', 'Attr3', 'Attr4', 'Attr5', 'Attr6', 'Attr7', 'Attr8',\n",
       "       'Attr9', 'Attr10', 'Attr11', 'Attr12', 'Attr13', 'Attr14', 'Attr15',\n",
       "       'Attr16', 'Attr17', 'Attr18', 'Attr19', 'Attr20', 'Attr21', 'Attr22',\n",
       "       'Attr23', 'Attr24', 'Attr25', 'Attr26', 'Attr27', 'Attr28', 'Attr29',\n",
       "       'Attr30', 'Attr31', 'Attr32', 'Attr33', 'Attr34', 'Attr35', 'Attr36',\n",
       "       'Attr37', 'Attr38', 'Attr39', 'Attr40', 'Attr41', 'Attr42', 'Attr43',\n",
       "       'Attr44', 'Attr45', 'Attr46', 'Attr47', 'Attr48', 'Attr49', 'Attr50',\n",
       "       'Attr51', 'Attr52', 'Attr53', 'Attr54', 'Attr55', 'Attr56', 'Attr57',\n",
       "       'Attr58', 'Attr59', 'Attr60', 'Attr61', 'Attr62', 'Attr63', 'Attr64',\n",
       "       'target'],\n",
       "      dtype='object')"
      ]
     },
     "execution_count": 160,
     "metadata": {},
     "output_type": "execute_result"
    }
   ],
   "source": [
    "train.columns"
   ]
  },
  {
   "cell_type": "code",
   "execution_count": 161,
   "metadata": {},
   "outputs": [],
   "source": [
    "train[\"target\"] = train[\"target\"].replace({'No':0, 'Yes':1})"
   ]
  },
  {
   "cell_type": "code",
   "execution_count": 162,
   "metadata": {},
   "outputs": [],
   "source": [
    "#Removing the duplicate rows\n",
    "train = train.drop_duplicates(subset = None, keep='first',inplace=False)"
   ]
  },
  {
   "cell_type": "code",
   "execution_count": 163,
   "metadata": {},
   "outputs": [
    {
     "data": {
      "text/plain": [
       "(20486, 65)"
      ]
     },
     "execution_count": 163,
     "metadata": {},
     "output_type": "execute_result"
    }
   ],
   "source": [
    "train.shape"
   ]
  },
  {
   "cell_type": "code",
   "execution_count": 164,
   "metadata": {},
   "outputs": [],
   "source": [
    "train_labels = train['target']"
   ]
  },
  {
   "cell_type": "code",
   "execution_count": 165,
   "metadata": {},
   "outputs": [
    {
     "data": {
      "text/html": [
       "<div>\n",
       "<style scoped>\n",
       "    .dataframe tbody tr th:only-of-type {\n",
       "        vertical-align: middle;\n",
       "    }\n",
       "\n",
       "    .dataframe tbody tr th {\n",
       "        vertical-align: top;\n",
       "    }\n",
       "\n",
       "    .dataframe thead th {\n",
       "        text-align: right;\n",
       "    }\n",
       "</style>\n",
       "<table border=\"1\" class=\"dataframe\">\n",
       "  <thead>\n",
       "    <tr style=\"text-align: right;\">\n",
       "      <th></th>\n",
       "      <th>Attr1</th>\n",
       "      <th>Attr2</th>\n",
       "      <th>Attr3</th>\n",
       "      <th>Attr4</th>\n",
       "      <th>Attr5</th>\n",
       "      <th>Attr6</th>\n",
       "      <th>Attr7</th>\n",
       "      <th>Attr8</th>\n",
       "      <th>Attr9</th>\n",
       "      <th>Attr10</th>\n",
       "      <th>...</th>\n",
       "      <th>Attr56</th>\n",
       "      <th>Attr57</th>\n",
       "      <th>Attr58</th>\n",
       "      <th>Attr59</th>\n",
       "      <th>Attr60</th>\n",
       "      <th>Attr61</th>\n",
       "      <th>Attr62</th>\n",
       "      <th>Attr63</th>\n",
       "      <th>Attr64</th>\n",
       "      <th>target</th>\n",
       "    </tr>\n",
       "  </thead>\n",
       "  <tbody>\n",
       "    <tr>\n",
       "      <th>0</th>\n",
       "      <td>0.036348</td>\n",
       "      <td>0.29370</td>\n",
       "      <td>0.22999</td>\n",
       "      <td>1.95800</td>\n",
       "      <td>49.611</td>\n",
       "      <td>0.323820</td>\n",
       "      <td>0.044336</td>\n",
       "      <td>2.17300</td>\n",
       "      <td>1.0571</td>\n",
       "      <td>0.63820</td>\n",
       "      <td>...</td>\n",
       "      <td>0.054040</td>\n",
       "      <td>0.056955</td>\n",
       "      <td>0.94596</td>\n",
       "      <td>0.084022</td>\n",
       "      <td>4.5846</td>\n",
       "      <td>2.1621</td>\n",
       "      <td>128.140</td>\n",
       "      <td>2.8484</td>\n",
       "      <td>1.2904</td>\n",
       "      <td>0</td>\n",
       "    </tr>\n",
       "    <tr>\n",
       "      <th>1</th>\n",
       "      <td>0.032515</td>\n",
       "      <td>0.25971</td>\n",
       "      <td>0.40845</td>\n",
       "      <td>2.57270</td>\n",
       "      <td>-6.682</td>\n",
       "      <td>-0.000148</td>\n",
       "      <td>0.040253</td>\n",
       "      <td>2.85050</td>\n",
       "      <td>2.1327</td>\n",
       "      <td>0.74029</td>\n",
       "      <td>...</td>\n",
       "      <td>0.000329</td>\n",
       "      <td>0.043921</td>\n",
       "      <td>0.98201</td>\n",
       "      <td>0.000000</td>\n",
       "      <td>4.7734</td>\n",
       "      <td>10.3800</td>\n",
       "      <td>44.448</td>\n",
       "      <td>8.2118</td>\n",
       "      <td>6.4267</td>\n",
       "      <td>0</td>\n",
       "    </tr>\n",
       "    <tr>\n",
       "      <th>2</th>\n",
       "      <td>0.019116</td>\n",
       "      <td>0.55685</td>\n",
       "      <td>-0.20328</td>\n",
       "      <td>0.56593</td>\n",
       "      <td>-59.719</td>\n",
       "      <td>0.000000</td>\n",
       "      <td>0.019116</td>\n",
       "      <td>0.79581</td>\n",
       "      <td>2.0933</td>\n",
       "      <td>0.44315</td>\n",
       "      <td>...</td>\n",
       "      <td>0.016719</td>\n",
       "      <td>0.043137</td>\n",
       "      <td>0.99131</td>\n",
       "      <td>0.110710</td>\n",
       "      <td>16.4970</td>\n",
       "      <td>15.4440</td>\n",
       "      <td>81.660</td>\n",
       "      <td>4.4698</td>\n",
       "      <td>2.8481</td>\n",
       "      <td>0</td>\n",
       "    </tr>\n",
       "    <tr>\n",
       "      <th>3</th>\n",
       "      <td>-0.173850</td>\n",
       "      <td>0.28684</td>\n",
       "      <td>0.20102</td>\n",
       "      <td>1.73250</td>\n",
       "      <td>356.930</td>\n",
       "      <td>0.000000</td>\n",
       "      <td>-0.173850</td>\n",
       "      <td>2.48630</td>\n",
       "      <td>3.0166</td>\n",
       "      <td>0.71316</td>\n",
       "      <td>...</td>\n",
       "      <td>0.178720</td>\n",
       "      <td>-0.243780</td>\n",
       "      <td>0.82306</td>\n",
       "      <td>0.000000</td>\n",
       "      <td>30.1680</td>\n",
       "      <td>51.1950</td>\n",
       "      <td>33.206</td>\n",
       "      <td>10.9920</td>\n",
       "      <td>5.7509</td>\n",
       "      <td>0</td>\n",
       "    </tr>\n",
       "    <tr>\n",
       "      <th>4</th>\n",
       "      <td>0.410710</td>\n",
       "      <td>0.14770</td>\n",
       "      <td>0.78015</td>\n",
       "      <td>6.28190</td>\n",
       "      <td>271.120</td>\n",
       "      <td>0.000000</td>\n",
       "      <td>0.534880</td>\n",
       "      <td>5.77040</td>\n",
       "      <td>1.6009</td>\n",
       "      <td>0.85230</td>\n",
       "      <td>...</td>\n",
       "      <td>0.326340</td>\n",
       "      <td>0.481890</td>\n",
       "      <td>0.66935</td>\n",
       "      <td>0.000000</td>\n",
       "      <td>NaN</td>\n",
       "      <td>5.0324</td>\n",
       "      <td>33.676</td>\n",
       "      <td>10.8390</td>\n",
       "      <td>22.1870</td>\n",
       "      <td>0</td>\n",
       "    </tr>\n",
       "  </tbody>\n",
       "</table>\n",
       "<p>5 rows × 65 columns</p>\n",
       "</div>"
      ],
      "text/plain": [
       "      Attr1    Attr2    Attr3    Attr4    Attr5     Attr6     Attr7    Attr8  \\\n",
       "0  0.036348  0.29370  0.22999  1.95800   49.611  0.323820  0.044336  2.17300   \n",
       "1  0.032515  0.25971  0.40845  2.57270   -6.682 -0.000148  0.040253  2.85050   \n",
       "2  0.019116  0.55685 -0.20328  0.56593  -59.719  0.000000  0.019116  0.79581   \n",
       "3 -0.173850  0.28684  0.20102  1.73250  356.930  0.000000 -0.173850  2.48630   \n",
       "4  0.410710  0.14770  0.78015  6.28190  271.120  0.000000  0.534880  5.77040   \n",
       "\n",
       "    Attr9   Attr10   ...      Attr56    Attr57   Attr58    Attr59   Attr60  \\\n",
       "0  1.0571  0.63820   ...    0.054040  0.056955  0.94596  0.084022   4.5846   \n",
       "1  2.1327  0.74029   ...    0.000329  0.043921  0.98201  0.000000   4.7734   \n",
       "2  2.0933  0.44315   ...    0.016719  0.043137  0.99131  0.110710  16.4970   \n",
       "3  3.0166  0.71316   ...    0.178720 -0.243780  0.82306  0.000000  30.1680   \n",
       "4  1.6009  0.85230   ...    0.326340  0.481890  0.66935  0.000000      NaN   \n",
       "\n",
       "    Attr61   Attr62   Attr63   Attr64  target  \n",
       "0   2.1621  128.140   2.8484   1.2904       0  \n",
       "1  10.3800   44.448   8.2118   6.4267       0  \n",
       "2  15.4440   81.660   4.4698   2.8481       0  \n",
       "3  51.1950   33.206  10.9920   5.7509       0  \n",
       "4   5.0324   33.676  10.8390  22.1870       0  \n",
       "\n",
       "[5 rows x 65 columns]"
      ]
     },
     "execution_count": 165,
     "metadata": {},
     "output_type": "execute_result"
    }
   ],
   "source": [
    "train.head()"
   ]
  },
  {
   "cell_type": "code",
   "execution_count": 166,
   "metadata": {},
   "outputs": [],
   "source": [
    "train = train.drop(columns = ['target'])"
   ]
  },
  {
   "cell_type": "code",
   "execution_count": 167,
   "metadata": {},
   "outputs": [
    {
     "data": {
      "text/html": [
       "<div>\n",
       "<style scoped>\n",
       "    .dataframe tbody tr th:only-of-type {\n",
       "        vertical-align: middle;\n",
       "    }\n",
       "\n",
       "    .dataframe tbody tr th {\n",
       "        vertical-align: top;\n",
       "    }\n",
       "\n",
       "    .dataframe thead th {\n",
       "        text-align: right;\n",
       "    }\n",
       "</style>\n",
       "<table border=\"1\" class=\"dataframe\">\n",
       "  <thead>\n",
       "    <tr style=\"text-align: right;\">\n",
       "      <th></th>\n",
       "      <th>Attr1</th>\n",
       "      <th>Attr2</th>\n",
       "      <th>Attr3</th>\n",
       "      <th>Attr4</th>\n",
       "      <th>Attr5</th>\n",
       "      <th>Attr6</th>\n",
       "      <th>Attr7</th>\n",
       "      <th>Attr8</th>\n",
       "      <th>Attr9</th>\n",
       "      <th>Attr10</th>\n",
       "      <th>...</th>\n",
       "      <th>Attr55</th>\n",
       "      <th>Attr56</th>\n",
       "      <th>Attr57</th>\n",
       "      <th>Attr58</th>\n",
       "      <th>Attr59</th>\n",
       "      <th>Attr60</th>\n",
       "      <th>Attr61</th>\n",
       "      <th>Attr62</th>\n",
       "      <th>Attr63</th>\n",
       "      <th>Attr64</th>\n",
       "    </tr>\n",
       "  </thead>\n",
       "  <tbody>\n",
       "    <tr>\n",
       "      <th>0</th>\n",
       "      <td>0.036348</td>\n",
       "      <td>0.29370</td>\n",
       "      <td>0.22999</td>\n",
       "      <td>1.95800</td>\n",
       "      <td>49.611</td>\n",
       "      <td>0.323820</td>\n",
       "      <td>0.044336</td>\n",
       "      <td>2.17300</td>\n",
       "      <td>1.0571</td>\n",
       "      <td>0.63820</td>\n",
       "      <td>...</td>\n",
       "      <td>8667.800</td>\n",
       "      <td>0.054040</td>\n",
       "      <td>0.056955</td>\n",
       "      <td>0.94596</td>\n",
       "      <td>0.084022</td>\n",
       "      <td>4.5846</td>\n",
       "      <td>2.1621</td>\n",
       "      <td>128.140</td>\n",
       "      <td>2.8484</td>\n",
       "      <td>1.2904</td>\n",
       "    </tr>\n",
       "    <tr>\n",
       "      <th>1</th>\n",
       "      <td>0.032515</td>\n",
       "      <td>0.25971</td>\n",
       "      <td>0.40845</td>\n",
       "      <td>2.57270</td>\n",
       "      <td>-6.682</td>\n",
       "      <td>-0.000148</td>\n",
       "      <td>0.040253</td>\n",
       "      <td>2.85050</td>\n",
       "      <td>2.1327</td>\n",
       "      <td>0.74029</td>\n",
       "      <td>...</td>\n",
       "      <td>442.920</td>\n",
       "      <td>0.000329</td>\n",
       "      <td>0.043921</td>\n",
       "      <td>0.98201</td>\n",
       "      <td>0.000000</td>\n",
       "      <td>4.7734</td>\n",
       "      <td>10.3800</td>\n",
       "      <td>44.448</td>\n",
       "      <td>8.2118</td>\n",
       "      <td>6.4267</td>\n",
       "    </tr>\n",
       "    <tr>\n",
       "      <th>2</th>\n",
       "      <td>0.019116</td>\n",
       "      <td>0.55685</td>\n",
       "      <td>-0.20328</td>\n",
       "      <td>0.56593</td>\n",
       "      <td>-59.719</td>\n",
       "      <td>0.000000</td>\n",
       "      <td>0.019116</td>\n",
       "      <td>0.79581</td>\n",
       "      <td>2.0933</td>\n",
       "      <td>0.44315</td>\n",
       "      <td>...</td>\n",
       "      <td>-4488.700</td>\n",
       "      <td>0.016719</td>\n",
       "      <td>0.043137</td>\n",
       "      <td>0.99131</td>\n",
       "      <td>0.110710</td>\n",
       "      <td>16.4970</td>\n",
       "      <td>15.4440</td>\n",
       "      <td>81.660</td>\n",
       "      <td>4.4698</td>\n",
       "      <td>2.8481</td>\n",
       "    </tr>\n",
       "    <tr>\n",
       "      <th>3</th>\n",
       "      <td>-0.173850</td>\n",
       "      <td>0.28684</td>\n",
       "      <td>0.20102</td>\n",
       "      <td>1.73250</td>\n",
       "      <td>356.930</td>\n",
       "      <td>0.000000</td>\n",
       "      <td>-0.173850</td>\n",
       "      <td>2.48630</td>\n",
       "      <td>3.0166</td>\n",
       "      <td>0.71316</td>\n",
       "      <td>...</td>\n",
       "      <td>52.284</td>\n",
       "      <td>0.178720</td>\n",
       "      <td>-0.243780</td>\n",
       "      <td>0.82306</td>\n",
       "      <td>0.000000</td>\n",
       "      <td>30.1680</td>\n",
       "      <td>51.1950</td>\n",
       "      <td>33.206</td>\n",
       "      <td>10.9920</td>\n",
       "      <td>5.7509</td>\n",
       "    </tr>\n",
       "    <tr>\n",
       "      <th>4</th>\n",
       "      <td>0.410710</td>\n",
       "      <td>0.14770</td>\n",
       "      <td>0.78015</td>\n",
       "      <td>6.28190</td>\n",
       "      <td>271.120</td>\n",
       "      <td>0.000000</td>\n",
       "      <td>0.534880</td>\n",
       "      <td>5.77040</td>\n",
       "      <td>1.6009</td>\n",
       "      <td>0.85230</td>\n",
       "      <td>...</td>\n",
       "      <td>676.810</td>\n",
       "      <td>0.326340</td>\n",
       "      <td>0.481890</td>\n",
       "      <td>0.66935</td>\n",
       "      <td>0.000000</td>\n",
       "      <td>NaN</td>\n",
       "      <td>5.0324</td>\n",
       "      <td>33.676</td>\n",
       "      <td>10.8390</td>\n",
       "      <td>22.1870</td>\n",
       "    </tr>\n",
       "  </tbody>\n",
       "</table>\n",
       "<p>5 rows × 64 columns</p>\n",
       "</div>"
      ],
      "text/plain": [
       "      Attr1    Attr2    Attr3    Attr4    Attr5     Attr6     Attr7    Attr8  \\\n",
       "0  0.036348  0.29370  0.22999  1.95800   49.611  0.323820  0.044336  2.17300   \n",
       "1  0.032515  0.25971  0.40845  2.57270   -6.682 -0.000148  0.040253  2.85050   \n",
       "2  0.019116  0.55685 -0.20328  0.56593  -59.719  0.000000  0.019116  0.79581   \n",
       "3 -0.173850  0.28684  0.20102  1.73250  356.930  0.000000 -0.173850  2.48630   \n",
       "4  0.410710  0.14770  0.78015  6.28190  271.120  0.000000  0.534880  5.77040   \n",
       "\n",
       "    Attr9   Attr10   ...       Attr55    Attr56    Attr57   Attr58    Attr59  \\\n",
       "0  1.0571  0.63820   ...     8667.800  0.054040  0.056955  0.94596  0.084022   \n",
       "1  2.1327  0.74029   ...      442.920  0.000329  0.043921  0.98201  0.000000   \n",
       "2  2.0933  0.44315   ...    -4488.700  0.016719  0.043137  0.99131  0.110710   \n",
       "3  3.0166  0.71316   ...       52.284  0.178720 -0.243780  0.82306  0.000000   \n",
       "4  1.6009  0.85230   ...      676.810  0.326340  0.481890  0.66935  0.000000   \n",
       "\n",
       "    Attr60   Attr61   Attr62   Attr63   Attr64  \n",
       "0   4.5846   2.1621  128.140   2.8484   1.2904  \n",
       "1   4.7734  10.3800   44.448   8.2118   6.4267  \n",
       "2  16.4970  15.4440   81.660   4.4698   2.8481  \n",
       "3  30.1680  51.1950   33.206  10.9920   5.7509  \n",
       "4      NaN   5.0324   33.676  10.8390  22.1870  \n",
       "\n",
       "[5 rows x 64 columns]"
      ]
     },
     "execution_count": 167,
     "metadata": {},
     "output_type": "execute_result"
    }
   ],
   "source": [
    "train.head()"
   ]
  },
  {
   "cell_type": "code",
   "execution_count": 168,
   "metadata": {},
   "outputs": [],
   "source": [
    "#Implementation\n",
    "#The FeatureSelector has five functions for identifying columns to remove:\n",
    "\n",
    "#identify_missing\n",
    "#identify_single_unique\n",
    "#identify_collinear\n",
    "#identify_zero_importance\n",
    "#identify_low_importance\n",
    "\n",
    "fs = FeatureSelector(data = train, labels = train_labels)"
   ]
  },
  {
   "cell_type": "code",
   "execution_count": 267,
   "metadata": {},
   "outputs": [
    {
     "name": "stdout",
     "output_type": "stream",
     "text": [
      "1 features with greater than 0.40 missing values.\n",
      "\n"
     ]
    }
   ],
   "source": [
    "#Missing Values\n",
    "fs.identify_missing(missing_threshold=0.6)"
   ]
  },
  {
   "cell_type": "code",
   "execution_count": 170,
   "metadata": {},
   "outputs": [
    {
     "data": {
      "text/plain": [
       "[]"
      ]
     },
     "execution_count": 170,
     "metadata": {},
     "output_type": "execute_result"
    }
   ],
   "source": [
    "missing_features = fs.ops['missing']\n",
    "missing_features[:10]"
   ]
  },
  {
   "cell_type": "code",
   "execution_count": 171,
   "metadata": {},
   "outputs": [
    {
     "data": {
      "image/png": "[encoded data removed]",
      "text/plain": [
       "<Figure size 700x500 with 1 Axes>"
      ]
     },
     "metadata": {},
     "output_type": "display_data"
    }
   ],
   "source": [
    "fs.plot_missing()"
   ]
  },
  {
   "cell_type": "code",
   "execution_count": 172,
   "metadata": {},
   "outputs": [
    {
     "data": {
      "text/html": [
       "<div>\n",
       "<style scoped>\n",
       "    .dataframe tbody tr th:only-of-type {\n",
       "        vertical-align: middle;\n",
       "    }\n",
       "\n",
       "    .dataframe tbody tr th {\n",
       "        vertical-align: top;\n",
       "    }\n",
       "\n",
       "    .dataframe thead th {\n",
       "        text-align: right;\n",
       "    }\n",
       "</style>\n",
       "<table border=\"1\" class=\"dataframe\">\n",
       "  <thead>\n",
       "    <tr style=\"text-align: right;\">\n",
       "      <th></th>\n",
       "      <th>missing_fraction</th>\n",
       "    </tr>\n",
       "  </thead>\n",
       "  <tbody>\n",
       "    <tr>\n",
       "      <th>Attr37</th>\n",
       "      <td>0.464366</td>\n",
       "    </tr>\n",
       "    <tr>\n",
       "      <th>Attr21</th>\n",
       "      <td>0.234453</td>\n",
       "    </tr>\n",
       "    <tr>\n",
       "      <th>Attr27</th>\n",
       "      <td>0.122962</td>\n",
       "    </tr>\n",
       "    <tr>\n",
       "      <th>Attr45</th>\n",
       "      <td>0.075369</td>\n",
       "    </tr>\n",
       "    <tr>\n",
       "      <th>Attr60</th>\n",
       "      <td>0.075369</td>\n",
       "    </tr>\n",
       "    <tr>\n",
       "      <th>Attr11</th>\n",
       "      <td>0.044323</td>\n",
       "    </tr>\n",
       "    <tr>\n",
       "      <th>Attr53</th>\n",
       "      <td>0.022064</td>\n",
       "    </tr>\n",
       "    <tr>\n",
       "      <th>Attr64</th>\n",
       "      <td>0.022064</td>\n",
       "    </tr>\n",
       "    <tr>\n",
       "      <th>Attr54</th>\n",
       "      <td>0.022064</td>\n",
       "    </tr>\n",
       "    <tr>\n",
       "      <th>Attr28</th>\n",
       "      <td>0.022064</td>\n",
       "    </tr>\n",
       "    <tr>\n",
       "      <th>Attr24</th>\n",
       "      <td>0.018696</td>\n",
       "    </tr>\n",
       "    <tr>\n",
       "      <th>Attr41</th>\n",
       "      <td>0.014156</td>\n",
       "    </tr>\n",
       "  </tbody>\n",
       "</table>\n",
       "</div>"
      ],
      "text/plain": [
       "        missing_fraction\n",
       "Attr37          0.464366\n",
       "Attr21          0.234453\n",
       "Attr27          0.122962\n",
       "Attr45          0.075369\n",
       "Attr60          0.075369\n",
       "Attr11          0.044323\n",
       "Attr53          0.022064\n",
       "Attr64          0.022064\n",
       "Attr54          0.022064\n",
       "Attr28          0.022064\n",
       "Attr24          0.018696\n",
       "Attr41          0.014156"
      ]
     },
     "execution_count": 172,
     "metadata": {},
     "output_type": "execute_result"
    }
   ],
   "source": [
    "fs.missing_stats.head(12)"
   ]
  },
  {
   "cell_type": "code",
   "execution_count": 173,
   "metadata": {},
   "outputs": [
    {
     "name": "stdout",
     "output_type": "stream",
     "text": [
      "0 features with a single unique value.\n",
      "\n"
     ]
    }
   ],
   "source": [
    "#Finding Single Unique value\n",
    "fs.identify_single_unique()"
   ]
  },
  {
   "cell_type": "code",
   "execution_count": 270,
   "metadata": {},
   "outputs": [
    {
     "name": "stdout",
     "output_type": "stream",
     "text": [
      "17 features with a correlation magnitude greater than 0.99.\n",
      "\n"
     ]
    }
   ],
   "source": [
    "#Collinear (highly correlated) Features\n",
    "fs.identify_collinear(correlation_threshold=0.99)"
   ]
  },
  {
   "cell_type": "code",
   "execution_count": 175,
   "metadata": {},
   "outputs": [
    {
     "data": {
      "text/plain": [
       "['Attr3', 'Attr14', 'Attr17', 'Attr23', 'Attr26']"
      ]
     },
     "execution_count": 175,
     "metadata": {},
     "output_type": "execute_result"
    }
   ],
   "source": [
    "correlated_features = fs.ops['collinear']\n",
    "correlated_features[:5]"
   ]
  },
  {
   "cell_type": "code",
   "execution_count": 176,
   "metadata": {},
   "outputs": [
    {
     "data": {
      "image/png": "[encoded data removed]",
      "text/plain": [
       "<Figure size 1000x800 with 2 Axes>"
      ]
     },
     "metadata": {},
     "output_type": "display_data"
    }
   ],
   "source": [
    "fs.plot_collinear()"
   ]
  },
  {
   "cell_type": "code",
   "execution_count": 177,
   "metadata": {},
   "outputs": [
    {
     "data": {
      "image/png": "[encoded data removed]",
      "text/plain": [
       "<Figure size 1000x800 with 2 Axes>"
      ]
     },
     "metadata": {},
     "output_type": "display_data"
    }
   ],
   "source": [
    "fs.plot_collinear(plot_all=True)"
   ]
  },
  {
   "cell_type": "code",
   "execution_count": 178,
   "metadata": {},
   "outputs": [
    {
     "name": "stdout",
     "output_type": "stream",
     "text": [
      "20 features with a correlation magnitude greater than 0.98.\n",
      "\n"
     ]
    },
    {
     "data": {
      "image/png": "[encoded data removed]",
      "text/plain": [
       "<Figure size 1000x800 with 2 Axes>"
      ]
     },
     "metadata": {},
     "output_type": "display_data"
    }
   ],
   "source": [
    "fs.identify_collinear(correlation_threshold=0.98)\n",
    "fs.plot_collinear()"
   ]
  },
  {
   "cell_type": "code",
   "execution_count": 179,
   "metadata": {},
   "outputs": [
    {
     "data": {
      "text/html": [
       "<div>\n",
       "<style scoped>\n",
       "    .dataframe tbody tr th:only-of-type {\n",
       "        vertical-align: middle;\n",
       "    }\n",
       "\n",
       "    .dataframe tbody tr th {\n",
       "        vertical-align: top;\n",
       "    }\n",
       "\n",
       "    .dataframe thead th {\n",
       "        text-align: right;\n",
       "    }\n",
       "</style>\n",
       "<table border=\"1\" class=\"dataframe\">\n",
       "  <thead>\n",
       "    <tr style=\"text-align: right;\">\n",
       "      <th></th>\n",
       "      <th>drop_feature</th>\n",
       "      <th>corr_feature</th>\n",
       "      <th>corr_value</th>\n",
       "    </tr>\n",
       "  </thead>\n",
       "  <tbody>\n",
       "    <tr>\n",
       "      <th>0</th>\n",
       "      <td>Attr3</td>\n",
       "      <td>Attr2</td>\n",
       "      <td>-0.996360</td>\n",
       "    </tr>\n",
       "    <tr>\n",
       "      <th>1</th>\n",
       "      <td>Attr11</td>\n",
       "      <td>Attr7</td>\n",
       "      <td>0.987910</td>\n",
       "    </tr>\n",
       "    <tr>\n",
       "      <th>2</th>\n",
       "      <td>Attr14</td>\n",
       "      <td>Attr7</td>\n",
       "      <td>1.000000</td>\n",
       "    </tr>\n",
       "    <tr>\n",
       "      <th>3</th>\n",
       "      <td>Attr14</td>\n",
       "      <td>Attr11</td>\n",
       "      <td>0.987910</td>\n",
       "    </tr>\n",
       "    <tr>\n",
       "      <th>4</th>\n",
       "      <td>Attr17</td>\n",
       "      <td>Attr8</td>\n",
       "      <td>0.998026</td>\n",
       "    </tr>\n",
       "    <tr>\n",
       "      <th>5</th>\n",
       "      <td>Attr18</td>\n",
       "      <td>Attr7</td>\n",
       "      <td>0.989604</td>\n",
       "    </tr>\n",
       "    <tr>\n",
       "      <th>6</th>\n",
       "      <td>Attr18</td>\n",
       "      <td>Attr14</td>\n",
       "      <td>0.989645</td>\n",
       "    </tr>\n",
       "    <tr>\n",
       "      <th>7</th>\n",
       "      <td>Attr23</td>\n",
       "      <td>Attr19</td>\n",
       "      <td>0.997336</td>\n",
       "    </tr>\n",
       "    <tr>\n",
       "      <th>8</th>\n",
       "      <td>Attr26</td>\n",
       "      <td>Attr16</td>\n",
       "      <td>0.995857</td>\n",
       "    </tr>\n",
       "    <tr>\n",
       "      <th>9</th>\n",
       "      <td>Attr30</td>\n",
       "      <td>Attr20</td>\n",
       "      <td>0.993833</td>\n",
       "    </tr>\n",
       "    <tr>\n",
       "      <th>10</th>\n",
       "      <td>Attr31</td>\n",
       "      <td>Attr19</td>\n",
       "      <td>0.997015</td>\n",
       "    </tr>\n",
       "    <tr>\n",
       "      <th>11</th>\n",
       "      <td>Attr31</td>\n",
       "      <td>Attr23</td>\n",
       "      <td>0.994244</td>\n",
       "    </tr>\n",
       "    <tr>\n",
       "      <th>12</th>\n",
       "      <td>Attr38</td>\n",
       "      <td>Attr10</td>\n",
       "      <td>0.999837</td>\n",
       "    </tr>\n",
       "    <tr>\n",
       "      <th>13</th>\n",
       "      <td>Attr43</td>\n",
       "      <td>Attr20</td>\n",
       "      <td>0.999385</td>\n",
       "    </tr>\n",
       "    <tr>\n",
       "      <th>14</th>\n",
       "      <td>Attr43</td>\n",
       "      <td>Attr30</td>\n",
       "      <td>0.994950</td>\n",
       "    </tr>\n",
       "    <tr>\n",
       "      <th>15</th>\n",
       "      <td>Attr44</td>\n",
       "      <td>Attr20</td>\n",
       "      <td>0.998887</td>\n",
       "    </tr>\n",
       "    <tr>\n",
       "      <th>16</th>\n",
       "      <td>Attr44</td>\n",
       "      <td>Attr30</td>\n",
       "      <td>0.995051</td>\n",
       "    </tr>\n",
       "    <tr>\n",
       "      <th>17</th>\n",
       "      <td>Attr44</td>\n",
       "      <td>Attr43</td>\n",
       "      <td>0.999927</td>\n",
       "    </tr>\n",
       "    <tr>\n",
       "      <th>18</th>\n",
       "      <td>Attr46</td>\n",
       "      <td>Attr4</td>\n",
       "      <td>0.999802</td>\n",
       "    </tr>\n",
       "    <tr>\n",
       "      <th>19</th>\n",
       "      <td>Attr48</td>\n",
       "      <td>Attr22</td>\n",
       "      <td>0.981052</td>\n",
       "    </tr>\n",
       "    <tr>\n",
       "      <th>20</th>\n",
       "      <td>Attr49</td>\n",
       "      <td>Attr20</td>\n",
       "      <td>-0.987857</td>\n",
       "    </tr>\n",
       "    <tr>\n",
       "      <th>21</th>\n",
       "      <td>Attr49</td>\n",
       "      <td>Attr30</td>\n",
       "      <td>-0.991833</td>\n",
       "    </tr>\n",
       "    <tr>\n",
       "      <th>22</th>\n",
       "      <td>Attr49</td>\n",
       "      <td>Attr43</td>\n",
       "      <td>-0.990193</td>\n",
       "    </tr>\n",
       "    <tr>\n",
       "      <th>23</th>\n",
       "      <td>Attr49</td>\n",
       "      <td>Attr44</td>\n",
       "      <td>-0.990717</td>\n",
       "    </tr>\n",
       "    <tr>\n",
       "      <th>24</th>\n",
       "      <td>Attr50</td>\n",
       "      <td>Attr4</td>\n",
       "      <td>0.999101</td>\n",
       "    </tr>\n",
       "    <tr>\n",
       "      <th>25</th>\n",
       "      <td>Attr50</td>\n",
       "      <td>Attr46</td>\n",
       "      <td>0.999000</td>\n",
       "    </tr>\n",
       "    <tr>\n",
       "      <th>26</th>\n",
       "      <td>Attr51</td>\n",
       "      <td>Attr2</td>\n",
       "      <td>0.997186</td>\n",
       "    </tr>\n",
       "    <tr>\n",
       "      <th>27</th>\n",
       "      <td>Attr51</td>\n",
       "      <td>Attr3</td>\n",
       "      <td>-0.998939</td>\n",
       "    </tr>\n",
       "    <tr>\n",
       "      <th>28</th>\n",
       "      <td>Attr54</td>\n",
       "      <td>Attr53</td>\n",
       "      <td>0.996731</td>\n",
       "    </tr>\n",
       "    <tr>\n",
       "      <th>29</th>\n",
       "      <td>Attr56</td>\n",
       "      <td>Attr20</td>\n",
       "      <td>-0.999926</td>\n",
       "    </tr>\n",
       "    <tr>\n",
       "      <th>30</th>\n",
       "      <td>Attr56</td>\n",
       "      <td>Attr30</td>\n",
       "      <td>-0.994190</td>\n",
       "    </tr>\n",
       "    <tr>\n",
       "      <th>31</th>\n",
       "      <td>Attr56</td>\n",
       "      <td>Attr43</td>\n",
       "      <td>-0.999318</td>\n",
       "    </tr>\n",
       "    <tr>\n",
       "      <th>32</th>\n",
       "      <td>Attr56</td>\n",
       "      <td>Attr44</td>\n",
       "      <td>-0.998822</td>\n",
       "    </tr>\n",
       "    <tr>\n",
       "      <th>33</th>\n",
       "      <td>Attr56</td>\n",
       "      <td>Attr49</td>\n",
       "      <td>0.988259</td>\n",
       "    </tr>\n",
       "    <tr>\n",
       "      <th>34</th>\n",
       "      <td>Attr58</td>\n",
       "      <td>Attr20</td>\n",
       "      <td>0.999949</td>\n",
       "    </tr>\n",
       "    <tr>\n",
       "      <th>35</th>\n",
       "      <td>Attr58</td>\n",
       "      <td>Attr30</td>\n",
       "      <td>0.993582</td>\n",
       "    </tr>\n",
       "    <tr>\n",
       "      <th>36</th>\n",
       "      <td>Attr58</td>\n",
       "      <td>Attr43</td>\n",
       "      <td>0.999333</td>\n",
       "    </tr>\n",
       "    <tr>\n",
       "      <th>37</th>\n",
       "      <td>Attr58</td>\n",
       "      <td>Attr44</td>\n",
       "      <td>0.998835</td>\n",
       "    </tr>\n",
       "    <tr>\n",
       "      <th>38</th>\n",
       "      <td>Attr58</td>\n",
       "      <td>Attr49</td>\n",
       "      <td>-0.987651</td>\n",
       "    </tr>\n",
       "    <tr>\n",
       "      <th>39</th>\n",
       "      <td>Attr58</td>\n",
       "      <td>Attr56</td>\n",
       "      <td>-0.999961</td>\n",
       "    </tr>\n",
       "  </tbody>\n",
       "</table>\n",
       "</div>"
      ],
      "text/plain": [
       "   drop_feature corr_feature  corr_value\n",
       "0         Attr3        Attr2   -0.996360\n",
       "1        Attr11        Attr7    0.987910\n",
       "2        Attr14        Attr7    1.000000\n",
       "3        Attr14       Attr11    0.987910\n",
       "4        Attr17        Attr8    0.998026\n",
       "5        Attr18        Attr7    0.989604\n",
       "6        Attr18       Attr14    0.989645\n",
       "7        Attr23       Attr19    0.997336\n",
       "8        Attr26       Attr16    0.995857\n",
       "9        Attr30       Attr20    0.993833\n",
       "10       Attr31       Attr19    0.997015\n",
       "11       Attr31       Attr23    0.994244\n",
       "12       Attr38       Attr10    0.999837\n",
       "13       Attr43       Attr20    0.999385\n",
       "14       Attr43       Attr30    0.994950\n",
       "15       Attr44       Attr20    0.998887\n",
       "16       Attr44       Attr30    0.995051\n",
       "17       Attr44       Attr43    0.999927\n",
       "18       Attr46        Attr4    0.999802\n",
       "19       Attr48       Attr22    0.981052\n",
       "20       Attr49       Attr20   -0.987857\n",
       "21       Attr49       Attr30   -0.991833\n",
       "22       Attr49       Attr43   -0.990193\n",
       "23       Attr49       Attr44   -0.990717\n",
       "24       Attr50        Attr4    0.999101\n",
       "25       Attr50       Attr46    0.999000\n",
       "26       Attr51        Attr2    0.997186\n",
       "27       Attr51        Attr3   -0.998939\n",
       "28       Attr54       Attr53    0.996731\n",
       "29       Attr56       Attr20   -0.999926\n",
       "30       Attr56       Attr30   -0.994190\n",
       "31       Attr56       Attr43   -0.999318\n",
       "32       Attr56       Attr44   -0.998822\n",
       "33       Attr56       Attr49    0.988259\n",
       "34       Attr58       Attr20    0.999949\n",
       "35       Attr58       Attr30    0.993582\n",
       "36       Attr58       Attr43    0.999333\n",
       "37       Attr58       Attr44    0.998835\n",
       "38       Attr58       Attr49   -0.987651\n",
       "39       Attr58       Attr56   -0.999961"
      ]
     },
     "execution_count": 179,
     "metadata": {},
     "output_type": "execute_result"
    }
   ],
   "source": [
    "fs.record_collinear"
   ]
  },
  {
   "cell_type": "code",
   "execution_count": 180,
   "metadata": {},
   "outputs": [
    {
     "name": "stdout",
     "output_type": "stream",
     "text": [
      "Training Gradient Boosting Model\n",
      "\n",
      "Training until validation scores don't improve for 100 rounds.\n",
      "Early stopping, best iteration is:\n",
      "[492]\tvalid_0's auc: 0.986063\tvalid_0's binary_logloss: 0.11389\n",
      "Training until validation scores don't improve for 100 rounds.\n",
      "Early stopping, best iteration is:\n",
      "[440]\tvalid_0's auc: 0.986436\tvalid_0's binary_logloss: 0.111468\n",
      "Training until validation scores don't improve for 100 rounds.\n",
      "Early stopping, best iteration is:\n",
      "[541]\tvalid_0's auc: 0.988123\tvalid_0's binary_logloss: 0.101109\n",
      "Training until validation scores don't improve for 100 rounds.\n",
      "Early stopping, best iteration is:\n",
      "[479]\tvalid_0's auc: 0.986121\tvalid_0's binary_logloss: 0.108022\n",
      "Training until validation scores don't improve for 100 rounds.\n",
      "Early stopping, best iteration is:\n",
      "[436]\tvalid_0's auc: 0.988686\tvalid_0's binary_logloss: 0.106238\n",
      "Training until validation scores don't improve for 100 rounds.\n",
      "Early stopping, best iteration is:\n",
      "[455]\tvalid_0's auc: 0.987688\tvalid_0's binary_logloss: 0.106737\n",
      "Training until validation scores don't improve for 100 rounds.\n",
      "Early stopping, best iteration is:\n",
      "[532]\tvalid_0's auc: 0.987003\tvalid_0's binary_logloss: 0.103667\n",
      "Training until validation scores don't improve for 100 rounds.\n",
      "Early stopping, best iteration is:\n",
      "[445]\tvalid_0's auc: 0.989273\tvalid_0's binary_logloss: 0.0982029\n",
      "Training until validation scores don't improve for 100 rounds.\n",
      "Early stopping, best iteration is:\n",
      "[498]\tvalid_0's auc: 0.989323\tvalid_0's binary_logloss: 0.103134\n",
      "Training until validation scores don't improve for 100 rounds.\n",
      "Early stopping, best iteration is:\n",
      "[500]\tvalid_0's auc: 0.9886\tvalid_0's binary_logloss: 0.0985042\n",
      "\n",
      "0 features with zero importance after one-hot encoding.\n",
      "\n"
     ]
    }
   ],
   "source": [
    "#Identifying the Zero Importance Feature\n",
    "fs.identify_zero_importance(task = 'classification', eval_metric = 'auc', \n",
    "                            n_iterations = 10, early_stopping = True)"
   ]
  },
  {
   "cell_type": "code",
   "execution_count": 181,
   "metadata": {},
   "outputs": [
    {
     "data": {
      "image/png": "[encoded data removed]",
      "text/plain": [
       "<Figure size 1000x600 with 1 Axes>"
      ]
     },
     "metadata": {},
     "output_type": "display_data"
    },
    {
     "data": {
      "image/png": "[encoded data removed]",
      "text/plain": [
       "<Figure size 600x400 with 1 Axes>"
      ]
     },
     "metadata": {},
     "output_type": "display_data"
    },
    {
     "name": "stdout",
     "output_type": "stream",
     "text": [
      "36 features required for 0.80 of cumulative importance\n"
     ]
    }
   ],
   "source": [
    "fs.plot_feature_importances(threshold = 0.80, plot_n = 12)"
   ]
  },
  {
   "cell_type": "code",
   "execution_count": 182,
   "metadata": {},
   "outputs": [
    {
     "data": {
      "text/html": [
       "<div>\n",
       "<style scoped>\n",
       "    .dataframe tbody tr th:only-of-type {\n",
       "        vertical-align: middle;\n",
       "    }\n",
       "\n",
       "    .dataframe tbody tr th {\n",
       "        vertical-align: top;\n",
       "    }\n",
       "\n",
       "    .dataframe thead th {\n",
       "        text-align: right;\n",
       "    }\n",
       "</style>\n",
       "<table border=\"1\" class=\"dataframe\">\n",
       "  <thead>\n",
       "    <tr style=\"text-align: right;\">\n",
       "      <th></th>\n",
       "      <th>feature</th>\n",
       "      <th>importance</th>\n",
       "      <th>normalized_importance</th>\n",
       "      <th>cumulative_importance</th>\n",
       "    </tr>\n",
       "  </thead>\n",
       "  <tbody>\n",
       "    <tr>\n",
       "      <th>0</th>\n",
       "      <td>Attr46</td>\n",
       "      <td>846.9</td>\n",
       "      <td>0.058593</td>\n",
       "      <td>0.058593</td>\n",
       "    </tr>\n",
       "    <tr>\n",
       "      <th>1</th>\n",
       "      <td>Attr27</td>\n",
       "      <td>742.6</td>\n",
       "      <td>0.051377</td>\n",
       "      <td>0.109970</td>\n",
       "    </tr>\n",
       "    <tr>\n",
       "      <th>2</th>\n",
       "      <td>Attr5</td>\n",
       "      <td>674.7</td>\n",
       "      <td>0.046679</td>\n",
       "      <td>0.156649</td>\n",
       "    </tr>\n",
       "    <tr>\n",
       "      <th>3</th>\n",
       "      <td>Attr58</td>\n",
       "      <td>635.8</td>\n",
       "      <td>0.043988</td>\n",
       "      <td>0.200637</td>\n",
       "    </tr>\n",
       "    <tr>\n",
       "      <th>4</th>\n",
       "      <td>Attr34</td>\n",
       "      <td>562.8</td>\n",
       "      <td>0.038937</td>\n",
       "      <td>0.239574</td>\n",
       "    </tr>\n",
       "    <tr>\n",
       "      <th>5</th>\n",
       "      <td>Attr24</td>\n",
       "      <td>478.3</td>\n",
       "      <td>0.033091</td>\n",
       "      <td>0.272665</td>\n",
       "    </tr>\n",
       "    <tr>\n",
       "      <th>6</th>\n",
       "      <td>Attr29</td>\n",
       "      <td>465.1</td>\n",
       "      <td>0.032178</td>\n",
       "      <td>0.304843</td>\n",
       "    </tr>\n",
       "    <tr>\n",
       "      <th>7</th>\n",
       "      <td>Attr21</td>\n",
       "      <td>385.0</td>\n",
       "      <td>0.026636</td>\n",
       "      <td>0.331479</td>\n",
       "    </tr>\n",
       "    <tr>\n",
       "      <th>8</th>\n",
       "      <td>Attr40</td>\n",
       "      <td>349.8</td>\n",
       "      <td>0.024201</td>\n",
       "      <td>0.355680</td>\n",
       "    </tr>\n",
       "    <tr>\n",
       "      <th>9</th>\n",
       "      <td>Attr55</td>\n",
       "      <td>323.0</td>\n",
       "      <td>0.022347</td>\n",
       "      <td>0.378027</td>\n",
       "    </tr>\n",
       "    <tr>\n",
       "      <th>10</th>\n",
       "      <td>Attr36</td>\n",
       "      <td>318.1</td>\n",
       "      <td>0.022008</td>\n",
       "      <td>0.400035</td>\n",
       "    </tr>\n",
       "    <tr>\n",
       "      <th>11</th>\n",
       "      <td>Attr60</td>\n",
       "      <td>316.7</td>\n",
       "      <td>0.021911</td>\n",
       "      <td>0.421945</td>\n",
       "    </tr>\n",
       "    <tr>\n",
       "      <th>12</th>\n",
       "      <td>Attr37</td>\n",
       "      <td>304.3</td>\n",
       "      <td>0.021053</td>\n",
       "      <td>0.442998</td>\n",
       "    </tr>\n",
       "    <tr>\n",
       "      <th>13</th>\n",
       "      <td>Attr64</td>\n",
       "      <td>297.4</td>\n",
       "      <td>0.020576</td>\n",
       "      <td>0.463574</td>\n",
       "    </tr>\n",
       "    <tr>\n",
       "      <th>14</th>\n",
       "      <td>Attr45</td>\n",
       "      <td>294.0</td>\n",
       "      <td>0.020340</td>\n",
       "      <td>0.483914</td>\n",
       "    </tr>\n",
       "  </tbody>\n",
       "</table>\n",
       "</div>"
      ],
      "text/plain": [
       "   feature  importance  normalized_importance  cumulative_importance\n",
       "0   Attr46       846.9               0.058593               0.058593\n",
       "1   Attr27       742.6               0.051377               0.109970\n",
       "2    Attr5       674.7               0.046679               0.156649\n",
       "3   Attr58       635.8               0.043988               0.200637\n",
       "4   Attr34       562.8               0.038937               0.239574\n",
       "5   Attr24       478.3               0.033091               0.272665\n",
       "6   Attr29       465.1               0.032178               0.304843\n",
       "7   Attr21       385.0               0.026636               0.331479\n",
       "8   Attr40       349.8               0.024201               0.355680\n",
       "9   Attr55       323.0               0.022347               0.378027\n",
       "10  Attr36       318.1               0.022008               0.400035\n",
       "11  Attr60       316.7               0.021911               0.421945\n",
       "12  Attr37       304.3               0.021053               0.442998\n",
       "13  Attr64       297.4               0.020576               0.463574\n",
       "14  Attr45       294.0               0.020340               0.483914"
      ]
     },
     "execution_count": 182,
     "metadata": {},
     "output_type": "execute_result"
    }
   ],
   "source": [
    "fs.feature_importances.head(15)"
   ]
  },
  {
   "cell_type": "code",
   "execution_count": 183,
   "metadata": {},
   "outputs": [
    {
     "name": "stdout",
     "output_type": "stream",
     "text": [
      "59 features required for cumulative importance of 0.99 after one hot encoding.\n",
      "5 features do not contribute to cumulative importance of 0.99.\n",
      "\n"
     ]
    }
   ],
   "source": [
    "fs.identify_low_importance(cumulative_importance = 0.99)"
   ]
  },
  {
   "cell_type": "code",
   "execution_count": 184,
   "metadata": {},
   "outputs": [
    {
     "data": {
      "text/plain": [
       "['Attr7', 'Attr17', 'Attr2', 'Attr18', 'Attr14']"
      ]
     },
     "execution_count": 184,
     "metadata": {},
     "output_type": "execute_result"
    }
   ],
   "source": [
    "low_importance_features = fs.ops['low_importance']\n",
    "low_importance_features[:5]"
   ]
  },
  {
   "cell_type": "code",
   "execution_count": 185,
   "metadata": {},
   "outputs": [
    {
     "name": "stdout",
     "output_type": "stream",
     "text": [
      "Removed 0 features.\n"
     ]
    }
   ],
   "source": [
    "train_no_missing = fs.remove(methods = ['missing'])"
   ]
  },
  {
   "cell_type": "code",
   "execution_count": 186,
   "metadata": {},
   "outputs": [
    {
     "name": "stdout",
     "output_type": "stream",
     "text": [
      "Removed 0 features.\n"
     ]
    }
   ],
   "source": [
    "train_no_missing_zero = fs.remove(methods = ['missing', 'zero_importance'])"
   ]
  },
  {
   "cell_type": "code",
   "execution_count": 187,
   "metadata": {},
   "outputs": [
    {
     "name": "stdout",
     "output_type": "stream",
     "text": [
      "['missing', 'single_unique', 'collinear', 'zero_importance', 'low_importance'] methods have been run\n",
      "\n",
      "Removed 22 features including one-hot features.\n"
     ]
    }
   ],
   "source": [
    "train_removed_all = fs.remove(methods = 'all', keep_one_hot=False)"
   ]
  },
  {
   "cell_type": "code",
   "execution_count": 188,
   "metadata": {},
   "outputs": [
    {
     "name": "stdout",
     "output_type": "stream",
     "text": [
      "Original Number of Features 64\n",
      "Final Number of Features:  42\n"
     ]
    }
   ],
   "source": [
    "print('Original Number of Features', train.shape[1])\n",
    "print('Final Number of Features: ', train_removed_all.shape[1])"
   ]
  },
  {
   "cell_type": "code",
   "execution_count": 189,
   "metadata": {},
   "outputs": [
    {
     "name": "stdout",
     "output_type": "stream",
     "text": [
      "0 features with greater than 0.60 missing values.\n",
      "\n",
      "0 features with a single unique value.\n",
      "\n",
      "17 features with a correlation magnitude greater than 0.99.\n",
      "\n",
      "Training Gradient Boosting Model\n",
      "\n",
      "Training until validation scores don't improve for 100 rounds.\n",
      "Early stopping, best iteration is:\n",
      "[368]\tvalid_0's auc: 0.988823\tvalid_0's binary_logloss: 0.0979601\n",
      "Training until validation scores don't improve for 100 rounds.\n",
      "Early stopping, best iteration is:\n",
      "[415]\tvalid_0's auc: 0.985661\tvalid_0's binary_logloss: 0.122936\n",
      "Training until validation scores don't improve for 100 rounds.\n",
      "Early stopping, best iteration is:\n",
      "[515]\tvalid_0's auc: 0.990003\tvalid_0's binary_logloss: 0.0988342\n",
      "Training until validation scores don't improve for 100 rounds.\n",
      "Early stopping, best iteration is:\n",
      "[438]\tvalid_0's auc: 0.987866\tvalid_0's binary_logloss: 0.103834\n",
      "Training until validation scores don't improve for 100 rounds.\n",
      "Early stopping, best iteration is:\n",
      "[413]\tvalid_0's auc: 0.988355\tvalid_0's binary_logloss: 0.0983288\n",
      "Training until validation scores don't improve for 100 rounds.\n",
      "Early stopping, best iteration is:\n",
      "[449]\tvalid_0's auc: 0.985477\tvalid_0's binary_logloss: 0.108485\n",
      "Training until validation scores don't improve for 100 rounds.\n",
      "Early stopping, best iteration is:\n",
      "[464]\tvalid_0's auc: 0.986511\tvalid_0's binary_logloss: 0.108796\n",
      "Training until validation scores don't improve for 100 rounds.\n",
      "Early stopping, best iteration is:\n",
      "[486]\tvalid_0's auc: 0.987249\tvalid_0's binary_logloss: 0.100582\n",
      "Training until validation scores don't improve for 100 rounds.\n",
      "Early stopping, best iteration is:\n",
      "[522]\tvalid_0's auc: 0.990739\tvalid_0's binary_logloss: 0.0976657\n",
      "Training until validation scores don't improve for 100 rounds.\n",
      "Early stopping, best iteration is:\n",
      "[445]\tvalid_0's auc: 0.986922\tvalid_0's binary_logloss: 0.117948\n",
      "\n",
      "0 features with zero importance after one-hot encoding.\n",
      "\n",
      "59 features required for cumulative importance of 0.99 after one hot encoding.\n",
      "5 features do not contribute to cumulative importance of 0.99.\n",
      "\n",
      "20 total features out of 64 identified for removal after one-hot encoding.\n",
      "\n"
     ]
    }
   ],
   "source": [
    "fs = FeatureSelector(data = train, labels = train_labels)\n",
    "\n",
    "fs.identify_all(selection_params = {'missing_threshold': 0.6, 'correlation_threshold': 0.99, \n",
    "                                    'task': 'classification', 'eval_metric': 'auc', \n",
    "                                     'cumulative_importance': 0.99})"
   ]
  },
  {
   "cell_type": "code",
   "execution_count": 190,
   "metadata": {},
   "outputs": [
    {
     "data": {
      "text/plain": [
       "Index(['Attr1', 'Attr2', 'Attr3', 'Attr4', 'Attr5', 'Attr6', 'Attr7', 'Attr8',\n",
       "       'Attr9', 'Attr10', 'Attr11', 'Attr12', 'Attr13', 'Attr14', 'Attr15',\n",
       "       'Attr16', 'Attr17', 'Attr18', 'Attr19', 'Attr20', 'Attr21', 'Attr22',\n",
       "       'Attr23', 'Attr24', 'Attr25', 'Attr26', 'Attr27', 'Attr28', 'Attr29',\n",
       "       'Attr30', 'Attr31', 'Attr32', 'Attr33', 'Attr34', 'Attr35', 'Attr36',\n",
       "       'Attr37', 'Attr38', 'Attr39', 'Attr40', 'Attr41', 'Attr42', 'Attr43',\n",
       "       'Attr44', 'Attr45', 'Attr46', 'Attr47', 'Attr48', 'Attr49', 'Attr50',\n",
       "       'Attr51', 'Attr52', 'Attr53', 'Attr54', 'Attr55', 'Attr56', 'Attr57',\n",
       "       'Attr58', 'Attr59', 'Attr60', 'Attr61', 'Attr62', 'Attr63', 'Attr64'],\n",
       "      dtype='object')"
      ]
     },
     "execution_count": 190,
     "metadata": {},
     "output_type": "execute_result"
    }
   ],
   "source": [
    "train.columns"
   ]
  },
  {
   "cell_type": "code",
   "execution_count": 191,
   "metadata": {},
   "outputs": [
    {
     "data": {
      "text/plain": [
       "Index(['Attr1', 'Attr4', 'Attr5', 'Attr6', 'Attr8', 'Attr9', 'Attr10',\n",
       "       'Attr12', 'Attr13', 'Attr15', 'Attr16', 'Attr19', 'Attr20', 'Attr21',\n",
       "       'Attr22', 'Attr24', 'Attr25', 'Attr27', 'Attr28', 'Attr29', 'Attr32',\n",
       "       'Attr33', 'Attr34', 'Attr35', 'Attr36', 'Attr37', 'Attr39', 'Attr40',\n",
       "       'Attr41', 'Attr42', 'Attr45', 'Attr47', 'Attr52', 'Attr53', 'Attr55',\n",
       "       'Attr57', 'Attr59', 'Attr60', 'Attr61', 'Attr62', 'Attr63', 'Attr64'],\n",
       "      dtype='object')"
      ]
     },
     "execution_count": 191,
     "metadata": {},
     "output_type": "execute_result"
    }
   ],
   "source": [
    "train_removed_all.columns"
   ]
  },
  {
   "cell_type": "code",
   "execution_count": 192,
   "metadata": {},
   "outputs": [],
   "source": [
    "bank_data_fs = train_removed_all"
   ]
  },
  {
   "cell_type": "code",
   "execution_count": 193,
   "metadata": {},
   "outputs": [
    {
     "data": {
      "text/plain": [
       "Index(['Attr1', 'Attr4', 'Attr5', 'Attr6', 'Attr8', 'Attr9', 'Attr10',\n",
       "       'Attr12', 'Attr13', 'Attr15', 'Attr16', 'Attr19', 'Attr20', 'Attr21',\n",
       "       'Attr22', 'Attr24', 'Attr25', 'Attr27', 'Attr28', 'Attr29', 'Attr32',\n",
       "       'Attr33', 'Attr34', 'Attr35', 'Attr36', 'Attr37', 'Attr39', 'Attr40',\n",
       "       'Attr41', 'Attr42', 'Attr45', 'Attr47', 'Attr52', 'Attr53', 'Attr55',\n",
       "       'Attr57', 'Attr59', 'Attr60', 'Attr61', 'Attr62', 'Attr63', 'Attr64'],\n",
       "      dtype='object')"
      ]
     },
     "execution_count": 193,
     "metadata": {},
     "output_type": "execute_result"
    }
   ],
   "source": [
    "bank_data_fs.columns"
   ]
  },
  {
   "cell_type": "code",
   "execution_count": 194,
   "metadata": {},
   "outputs": [
    {
     "data": {
      "text/plain": [
       "pandas.core.frame.DataFrame"
      ]
     },
     "execution_count": 194,
     "metadata": {},
     "output_type": "execute_result"
    }
   ],
   "source": [
    "type(bank_data_fs)"
   ]
  },
  {
   "cell_type": "code",
   "execution_count": 195,
   "metadata": {},
   "outputs": [
    {
     "data": {
      "text/plain": [
       "pandas.core.series.Series"
      ]
     },
     "execution_count": 195,
     "metadata": {},
     "output_type": "execute_result"
    }
   ],
   "source": [
    "type(train_labels)"
   ]
  },
  {
   "cell_type": "code",
   "execution_count": 196,
   "metadata": {},
   "outputs": [
    {
     "data": {
      "text/plain": [
       "0    16322\n",
       "1     4164\n",
       "Name: target, dtype: int64"
      ]
     },
     "execution_count": 196,
     "metadata": {},
     "output_type": "execute_result"
    }
   ],
   "source": [
    "train_labels.value_counts()"
   ]
  },
  {
   "cell_type": "code",
   "execution_count": 143,
   "metadata": {},
   "outputs": [
    {
     "data": {
      "text/plain": [
       "(20486, 42)"
      ]
     },
     "execution_count": 143,
     "metadata": {},
     "output_type": "execute_result"
    }
   ],
   "source": [
    "bank_data_fs.shape"
   ]
  },
  {
   "cell_type": "code",
   "execution_count": 209,
   "metadata": {},
   "outputs": [
    {
     "name": "stderr",
     "output_type": "stream",
     "text": [
      "C:\\Users\\Gnanendra\\Anaconda3\\lib\\site-packages\\sklearn\\utils\\deprecation.py:58: DeprecationWarning: Class Imputer is deprecated; Imputer was deprecated in version 0.20 and will be removed in 0.22. Import impute.SimpleImputer from sklearn instead.\n",
      "  warnings.warn(msg, category=DeprecationWarning)\n"
     ]
    }
   ],
   "source": [
    "#Mean Imputation\n",
    "from sklearn.preprocessing import Imputer\n",
    "mean_imputer = Imputer(strategy=\"mean\")\n",
    "\n"
   ]
  },
  {
   "cell_type": "code",
   "execution_count": 210,
   "metadata": {},
   "outputs": [],
   "source": [
    "bank_data_fs_imputed = bank_data_fs.copy()\n"
   ]
  },
  {
   "cell_type": "code",
   "execution_count": 211,
   "metadata": {},
   "outputs": [
    {
     "data": {
      "text/plain": [
       "(20486, 42)"
      ]
     },
     "execution_count": 211,
     "metadata": {},
     "output_type": "execute_result"
    }
   ],
   "source": [
    "bank_data_fs_imputed.shape"
   ]
  },
  {
   "cell_type": "code",
   "execution_count": 214,
   "metadata": {},
   "outputs": [],
   "source": [
    "bank_data_fs_imputed.iloc[:,0:42] = mean_imputer.fit_transform(bank_data_fs_imputed.iloc[:,0:42])"
   ]
  },
  {
   "cell_type": "code",
   "execution_count": 215,
   "metadata": {},
   "outputs": [
    {
     "data": {
      "text/html": [
       "<div>\n",
       "<style scoped>\n",
       "    .dataframe tbody tr th:only-of-type {\n",
       "        vertical-align: middle;\n",
       "    }\n",
       "\n",
       "    .dataframe tbody tr th {\n",
       "        vertical-align: top;\n",
       "    }\n",
       "\n",
       "    .dataframe thead th {\n",
       "        text-align: right;\n",
       "    }\n",
       "</style>\n",
       "<table border=\"1\" class=\"dataframe\">\n",
       "  <thead>\n",
       "    <tr style=\"text-align: right;\">\n",
       "      <th></th>\n",
       "      <th>Attr1</th>\n",
       "      <th>Attr4</th>\n",
       "      <th>Attr5</th>\n",
       "      <th>Attr6</th>\n",
       "      <th>Attr8</th>\n",
       "      <th>Attr9</th>\n",
       "      <th>Attr10</th>\n",
       "      <th>Attr12</th>\n",
       "      <th>Attr13</th>\n",
       "      <th>Attr15</th>\n",
       "      <th>...</th>\n",
       "      <th>Attr52</th>\n",
       "      <th>Attr53</th>\n",
       "      <th>Attr55</th>\n",
       "      <th>Attr57</th>\n",
       "      <th>Attr59</th>\n",
       "      <th>Attr60</th>\n",
       "      <th>Attr61</th>\n",
       "      <th>Attr62</th>\n",
       "      <th>Attr63</th>\n",
       "      <th>Attr64</th>\n",
       "    </tr>\n",
       "  </thead>\n",
       "  <tbody>\n",
       "    <tr>\n",
       "      <th>0</th>\n",
       "      <td>0.036348</td>\n",
       "      <td>1.95800</td>\n",
       "      <td>49.611</td>\n",
       "      <td>0.323820</td>\n",
       "      <td>2.17300</td>\n",
       "      <td>1.0571</td>\n",
       "      <td>0.63820</td>\n",
       "      <td>0.184670</td>\n",
       "      <td>0.186780</td>\n",
       "      <td>839.310</td>\n",
       "      <td>...</td>\n",
       "      <td>0.37113</td>\n",
       "      <td>1.20430</td>\n",
       "      <td>8667.800</td>\n",
       "      <td>0.056955</td>\n",
       "      <td>0.084022</td>\n",
       "      <td>4.58460</td>\n",
       "      <td>2.1621</td>\n",
       "      <td>128.140</td>\n",
       "      <td>2.8484</td>\n",
       "      <td>1.2904</td>\n",
       "    </tr>\n",
       "    <tr>\n",
       "      <th>1</th>\n",
       "      <td>0.032515</td>\n",
       "      <td>2.57270</td>\n",
       "      <td>-6.682</td>\n",
       "      <td>-0.000148</td>\n",
       "      <td>2.85050</td>\n",
       "      <td>2.1327</td>\n",
       "      <td>0.74029</td>\n",
       "      <td>0.154990</td>\n",
       "      <td>0.050150</td>\n",
       "      <td>886.300</td>\n",
       "      <td>...</td>\n",
       "      <td>0.12182</td>\n",
       "      <td>2.23090</td>\n",
       "      <td>442.920</td>\n",
       "      <td>0.043921</td>\n",
       "      <td>0.000000</td>\n",
       "      <td>4.77340</td>\n",
       "      <td>10.3800</td>\n",
       "      <td>44.448</td>\n",
       "      <td>8.2118</td>\n",
       "      <td>6.4267</td>\n",
       "    </tr>\n",
       "    <tr>\n",
       "      <th>2</th>\n",
       "      <td>0.019116</td>\n",
       "      <td>0.56593</td>\n",
       "      <td>-59.719</td>\n",
       "      <td>0.000000</td>\n",
       "      <td>0.79581</td>\n",
       "      <td>2.0933</td>\n",
       "      <td>0.44315</td>\n",
       "      <td>0.040819</td>\n",
       "      <td>0.035765</td>\n",
       "      <td>2714.900</td>\n",
       "      <td>...</td>\n",
       "      <td>0.22753</td>\n",
       "      <td>0.60295</td>\n",
       "      <td>-4488.700</td>\n",
       "      <td>0.043137</td>\n",
       "      <td>0.110710</td>\n",
       "      <td>16.49700</td>\n",
       "      <td>15.4440</td>\n",
       "      <td>81.660</td>\n",
       "      <td>4.4698</td>\n",
       "      <td>2.8481</td>\n",
       "    </tr>\n",
       "    <tr>\n",
       "      <th>3</th>\n",
       "      <td>-0.173850</td>\n",
       "      <td>1.73250</td>\n",
       "      <td>356.930</td>\n",
       "      <td>0.000000</td>\n",
       "      <td>2.48630</td>\n",
       "      <td>3.0166</td>\n",
       "      <td>0.71316</td>\n",
       "      <td>-0.633490</td>\n",
       "      <td>-0.057632</td>\n",
       "      <td>-602.200</td>\n",
       "      <td>...</td>\n",
       "      <td>0.11058</td>\n",
       "      <td>1.35960</td>\n",
       "      <td>52.284</td>\n",
       "      <td>-0.243780</td>\n",
       "      <td>0.000000</td>\n",
       "      <td>30.16800</td>\n",
       "      <td>51.1950</td>\n",
       "      <td>33.206</td>\n",
       "      <td>10.9920</td>\n",
       "      <td>5.7509</td>\n",
       "    </tr>\n",
       "    <tr>\n",
       "      <th>4</th>\n",
       "      <td>0.410710</td>\n",
       "      <td>6.28190</td>\n",
       "      <td>271.120</td>\n",
       "      <td>0.000000</td>\n",
       "      <td>5.77040</td>\n",
       "      <td>1.6009</td>\n",
       "      <td>0.85230</td>\n",
       "      <td>3.621400</td>\n",
       "      <td>0.360700</td>\n",
       "      <td>93.363</td>\n",
       "      <td>...</td>\n",
       "      <td>0.13696</td>\n",
       "      <td>11.81200</td>\n",
       "      <td>676.810</td>\n",
       "      <td>0.481890</td>\n",
       "      <td>0.000000</td>\n",
       "      <td>412.62703</td>\n",
       "      <td>5.0324</td>\n",
       "      <td>33.676</td>\n",
       "      <td>10.8390</td>\n",
       "      <td>22.1870</td>\n",
       "    </tr>\n",
       "  </tbody>\n",
       "</table>\n",
       "<p>5 rows × 42 columns</p>\n",
       "</div>"
      ],
      "text/plain": [
       "      Attr1    Attr4    Attr5     Attr6    Attr8   Attr9   Attr10    Attr12  \\\n",
       "0  0.036348  1.95800   49.611  0.323820  2.17300  1.0571  0.63820  0.184670   \n",
       "1  0.032515  2.57270   -6.682 -0.000148  2.85050  2.1327  0.74029  0.154990   \n",
       "2  0.019116  0.56593  -59.719  0.000000  0.79581  2.0933  0.44315  0.040819   \n",
       "3 -0.173850  1.73250  356.930  0.000000  2.48630  3.0166  0.71316 -0.633490   \n",
       "4  0.410710  6.28190  271.120  0.000000  5.77040  1.6009  0.85230  3.621400   \n",
       "\n",
       "     Attr13    Attr15   ...      Attr52    Attr53    Attr55    Attr57  \\\n",
       "0  0.186780   839.310   ...     0.37113   1.20430  8667.800  0.056955   \n",
       "1  0.050150   886.300   ...     0.12182   2.23090   442.920  0.043921   \n",
       "2  0.035765  2714.900   ...     0.22753   0.60295 -4488.700  0.043137   \n",
       "3 -0.057632  -602.200   ...     0.11058   1.35960    52.284 -0.243780   \n",
       "4  0.360700    93.363   ...     0.13696  11.81200   676.810  0.481890   \n",
       "\n",
       "     Attr59     Attr60   Attr61   Attr62   Attr63   Attr64  \n",
       "0  0.084022    4.58460   2.1621  128.140   2.8484   1.2904  \n",
       "1  0.000000    4.77340  10.3800   44.448   8.2118   6.4267  \n",
       "2  0.110710   16.49700  15.4440   81.660   4.4698   2.8481  \n",
       "3  0.000000   30.16800  51.1950   33.206  10.9920   5.7509  \n",
       "4  0.000000  412.62703   5.0324   33.676  10.8390  22.1870  \n",
       "\n",
       "[5 rows x 42 columns]"
      ]
     },
     "execution_count": 215,
     "metadata": {},
     "output_type": "execute_result"
    }
   ],
   "source": [
    "bank_data_fs_imputed.head()"
   ]
  },
  {
   "cell_type": "code",
   "execution_count": 216,
   "metadata": {},
   "outputs": [],
   "source": [
    "#Scaling the data\n",
    "from sklearn.model_selection import train_test_split\n",
    "from sklearn.preprocessing import StandardScaler"
   ]
  },
  {
   "cell_type": "code",
   "execution_count": 218,
   "metadata": {},
   "outputs": [],
   "source": [
    "## Split the data into X and y\n",
    "X2 = bank_data_fs_imputed\n",
    "y2 = train_labels"
   ]
  },
  {
   "cell_type": "code",
   "execution_count": 227,
   "metadata": {},
   "outputs": [],
   "source": [
    "## Split the data into X_train, X_test, y_train, y_test with test_size = 0.20 using sklearn\n",
    "X2_train, X2_test, y2_train, y2_test = train_test_split(X2, y2, test_size=0.20, random_state = 123)"
   ]
  },
  {
   "cell_type": "code",
   "execution_count": 228,
   "metadata": {},
   "outputs": [
    {
     "name": "stdout",
     "output_type": "stream",
     "text": [
      "(16388, 42)\n",
      "(4098, 42)\n",
      "(16388,)\n",
      "(4098,)\n"
     ]
    }
   ],
   "source": [
    "print(X2_train.shape)\n",
    "print(X2_test.shape)\n",
    "print(y2_train.shape)\n",
    "print(y2_test.shape)"
   ]
  },
  {
   "cell_type": "code",
   "execution_count": 229,
   "metadata": {},
   "outputs": [
    {
     "name": "stderr",
     "output_type": "stream",
     "text": [
      "C:\\Users\\Gnanendra\\Anaconda3\\lib\\site-packages\\pandas\\core\\indexing.py:189: SettingWithCopyWarning: \n",
      "A value is trying to be set on a copy of a slice from a DataFrame\n",
      "\n",
      "See the caveats in the documentation: http://pandas.pydata.org/pandas-docs/stable/indexing.html#indexing-view-versus-copy\n",
      "  self._setitem_with_indexer(indexer, value)\n",
      "C:\\Users\\Gnanendra\\Anaconda3\\lib\\site-packages\\ipykernel_launcher.py:5: SettingWithCopyWarning: \n",
      "A value is trying to be set on a copy of a slice from a DataFrame\n",
      "\n",
      "See the caveats in the documentation: http://pandas.pydata.org/pandas-docs/stable/indexing.html#indexing-view-versus-copy\n",
      "  \"\"\"\n",
      "C:\\Users\\Gnanendra\\Anaconda3\\lib\\site-packages\\pandas\\core\\indexing.py:189: SettingWithCopyWarning: \n",
      "A value is trying to be set on a copy of a slice from a DataFrame\n",
      "\n",
      "See the caveats in the documentation: http://pandas.pydata.org/pandas-docs/stable/indexing.html#indexing-view-versus-copy\n",
      "  self._setitem_with_indexer(indexer, value)\n",
      "C:\\Users\\Gnanendra\\Anaconda3\\lib\\site-packages\\ipykernel_launcher.py:6: SettingWithCopyWarning: \n",
      "A value is trying to be set on a copy of a slice from a DataFrame\n",
      "\n",
      "See the caveats in the documentation: http://pandas.pydata.org/pandas-docs/stable/indexing.html#indexing-view-versus-copy\n",
      "  \n"
     ]
    }
   ],
   "source": [
    "## Scale the numeric attributes\n",
    "scaler = StandardScaler()\n",
    "scaler.fit(X2_train.iloc[:,0:42])\n",
    "\n",
    "X2_train.iloc[:,0:42] = scaler.transform(X2_train.iloc[:,0:42])\n",
    "X2_test.iloc[:,0:42] = scaler.transform(X2_test.iloc[:,0:42])"
   ]
  },
  {
   "cell_type": "code",
   "execution_count": 230,
   "metadata": {},
   "outputs": [
    {
     "name": "stdout",
     "output_type": "stream",
     "text": [
      "          Attr1     Attr4     Attr5     Attr6     Attr8     Attr9    Attr10  \\\n",
      "23857  0.029813 -0.019517  0.005606  0.034434 -0.028276 -0.055259 -0.015191   \n",
      "16704  0.023010 -0.023568  0.004765  0.028675 -0.028892 -0.044691 -0.012178   \n",
      "9732  -0.008835 -0.025572 -0.005305 -0.045431 -0.028259 -0.079854 -0.006205   \n",
      "23740  0.001281 -0.021880  0.005543  0.018945 -0.029503 -0.056047 -0.019283   \n",
      "583    0.002678 -0.019246  0.003141  0.021602 -0.024714 -0.088307  0.011701   \n",
      "\n",
      "         Attr12    Attr13    Attr15    ...       Attr52    Attr53    Attr55  \\\n",
      "23857  0.003619 -0.012818 -0.012348    ...    -0.009081 -0.024094  0.214022   \n",
      "16704  0.002239 -0.012495 -0.018169    ...    -0.008888 -0.024390 -0.099899   \n",
      "9732  -0.004240 -0.013517  0.229700    ...    -0.007931 -0.024241 -0.209204   \n",
      "23740 -0.003154 -0.013393 -0.116404    ...    -0.008800 -0.024391 -0.037261   \n",
      "583   -0.002817 -0.012536 -0.010103    ...    -0.008829 -0.023833  0.260769   \n",
      "\n",
      "         Attr57    Attr59    Attr60    Attr61    Attr62    Attr63    Attr64  \n",
      "23857  0.050421 -0.012129 -0.015258 -0.015569 -0.010818 -0.038320 -0.038943  \n",
      "16704  0.038423  0.063106 -0.014839 -0.013946 -0.010680 -0.077519 -0.041662  \n",
      "9732   0.005918 -0.042778 -0.015403 -0.018066 -0.009282 -0.118901 -0.042138  \n",
      "23740  0.015569  0.078047 -0.015263 -0.019033 -0.010469 -0.094378 -0.041389  \n",
      "583    0.015817 -0.014656 -0.015465 -0.015965 -0.010503 -0.092413 -0.042286  \n",
      "\n",
      "[5 rows x 42 columns]\n",
      "          Attr1     Attr4     Attr5     Attr6     Attr8     Attr9    Attr10  \\\n",
      "23584 -0.002448 -0.022568  0.002308  0.020017 -0.029239 -0.017226 -0.015864   \n",
      "6490  -0.050202 -0.024595  0.003449  0.029240 -0.029282 -0.017175 -0.016376   \n",
      "22702  0.003370 -0.023292  0.003029  0.019622 -0.028794 -0.040821 -0.011021   \n",
      "16345  0.006798 -0.023637  0.001297  0.020567 -0.026470 -0.073737  0.004937   \n",
      "17480  0.005565 -0.023133  0.005328  0.024261 -0.027640 -0.057419 -0.003454   \n",
      "\n",
      "         Attr12    Attr13    Attr15    ...       Attr52    Attr53    Attr55  \\\n",
      "23584 -0.003462 -0.013644 -0.116589    ...    -0.008752 -0.023038 -0.042230   \n",
      "6490  -0.011350 -0.014836 -0.048010    ...    -0.009025 -0.024476 -0.097185   \n",
      "22702 -0.002839 -0.013329  0.018686    ...    -0.008889 -0.024241 -0.089625   \n",
      "16345 -0.002250 -0.012893 -0.006555    ...    -0.008311 -0.023982 -0.256979   \n",
      "17480 -0.002552 -0.013443 -0.008516    ...    -0.009139 -0.023875 -0.082141   \n",
      "\n",
      "         Attr57    Attr59    Attr60    Attr61    Attr62    Attr63    Attr64  \n",
      "23584  0.009409 -0.020616 -0.015430 -0.009464 -0.010412 -0.096197 -0.034267  \n",
      "6490  -0.057162 -0.042778 -0.015229 -0.001610 -0.010738 -0.069961 -0.041062  \n",
      "22702  0.016617 -0.003543 -0.015364 -0.013474 -0.010575 -0.087460 -0.041172  \n",
      "16345  0.018352 -0.024554 -0.015298 -0.018162 -0.010302 -0.101952 -0.042023  \n",
      "17480  0.018118 -0.036794 -0.014805 -0.012885 -0.010876 -0.039686 -0.038269  \n",
      "\n",
      "[5 rows x 42 columns]\n",
      "23857    1\n",
      "16704    0\n",
      "9732     0\n",
      "23740    1\n",
      "583      0\n",
      "Name: target, dtype: int64\n",
      "23584    1\n",
      "6490     0\n",
      "22702    1\n",
      "16345    0\n",
      "17480    0\n",
      "Name: target, dtype: int64\n"
     ]
    }
   ],
   "source": [
    "print(X2_train.head())\n",
    "print(X2_test.head())\n",
    "print(y2_train.head())\n",
    "print(y2_test.head())"
   ]
  },
  {
   "cell_type": "code",
   "execution_count": 231,
   "metadata": {},
   "outputs": [],
   "source": [
    "from sklearn.linear_model import LogisticRegression\n",
    "from sklearn.svm import SVC\n",
    "from sklearn.tree import DecisionTreeClassifier\n",
    "from sklearn.naive_bayes import GaussianNB\n",
    "from sklearn.neighbors import KNeighborsClassifier\n",
    "from sklearn.ensemble import RandomForestClassifier"
   ]
  },
  {
   "cell_type": "code",
   "execution_count": 232,
   "metadata": {},
   "outputs": [
    {
     "name": "stderr",
     "output_type": "stream",
     "text": [
      "C:\\Users\\Gnanendra\\Anaconda3\\lib\\site-packages\\sklearn\\linear_model\\logistic.py:433: FutureWarning: Default solver will be changed to 'lbfgs' in 0.22. Specify a solver to silence this warning.\n",
      "  FutureWarning)\n"
     ]
    },
    {
     "name": "stdout",
     "output_type": "stream",
     "text": [
      "Train FS Logistic Accuracy : 0.7982060043934587\n",
      "Test FS Logistic Accuracy : 0.7884333821376281\n"
     ]
    }
   ],
   "source": [
    "#Building the Logistic Regression\n",
    "from sklearn.metrics import accuracy_score\n",
    "logistic2 = LogisticRegression()\n",
    "logistic2.fit(X2_train, y2_train)\n",
    "y_pred_train_logistic2 = logistic2.predict(X2_train)\n",
    "y_pred_test_logistic2 = logistic2.predict(X2_test)\n",
    "print(\"Train FS Logistic Accuracy :\",accuracy_score(y_true=y2_train,y_pred=y_pred_train_logistic2))\n",
    "print(\"Test FS Logistic Accuracy :\",accuracy_score(y_true=y2_test,y_pred=y_pred_test_logistic2))"
   ]
  },
  {
   "cell_type": "code",
   "execution_count": 234,
   "metadata": {},
   "outputs": [
    {
     "name": "stdout",
     "output_type": "stream",
     "text": [
      "Train FS SVC Accuracy: 0.8007078350012204\n",
      "Test FS SVC Accuracy: 0.7894094680331869\n"
     ]
    }
   ],
   "source": [
    "## Building the Support Vector Machine Classifier\n",
    "from sklearn.svm import SVC\n",
    "SVC2 = SVC()\n",
    "SVC2.fit(X2_train, y2_train)\n",
    "y_pred_train_svc2 = SVC2.predict(X2_train)\n",
    "y_pred_test_svc2 = SVC2.predict(X2_test)\n",
    "\n",
    "print(\"Train FS SVC Accuracy:\",accuracy_score(y_true=y2_train,y_pred=y_pred_train_svc2))\n",
    "print(\"Test FS SVC Accuracy:\",accuracy_score(y_true=y2_test,y_pred=y_pred_test_svc2))"
   ]
  },
  {
   "cell_type": "code",
   "execution_count": 238,
   "metadata": {},
   "outputs": [
    {
     "name": "stdout",
     "output_type": "stream",
     "text": [
      "Train FS Decision Tree Accuracy: 0.9449597266292409\n",
      "Test FS Decision Tree Accuracy: 0.9062957540263543\n"
     ]
    }
   ],
   "source": [
    "#Building the Decision Tree Model\n",
    "dtc2 = DecisionTreeClassifier(max_depth=10)\n",
    "dtc2.fit(X2_train,y2_train)\n",
    "y_pred_train_dtc2 = dtc2.predict(X2_train)\n",
    "y_pred_test_dtc2 = dtc2.predict(X2_test)\n",
    "\n",
    "print(\"Train FS Decision Tree Accuracy:\",accuracy_score(y_true=y2_train,y_pred=y_pred_train_dtc2))\n",
    "print(\"Test FS Decision Tree Accuracy:\",accuracy_score(y_true=y2_test,y_pred=y_pred_test_dtc2))"
   ]
  },
  {
   "cell_type": "code",
   "execution_count": 239,
   "metadata": {},
   "outputs": [
    {
     "name": "stdout",
     "output_type": "stream",
     "text": [
      "Train FS KNN Accuracy: 0.8898584329997559\n",
      "Test FS KNN Accuracy: 0.8382137628111274\n"
     ]
    }
   ],
   "source": [
    "## Budimg the model with KNN\n",
    "\n",
    "from sklearn.neighbors import KNeighborsClassifier\n",
    "\n",
    "KNN2 = KNeighborsClassifier(n_neighbors=5) # default value for n_neighbors is 5\n",
    "KNN2.fit(X2_train,y2_train)\n",
    "y_pred_train_KNN2 = KNN2.predict(X2_train)\n",
    "y_pred_test_KNN2 = KNN2.predict(X2_test)\n",
    "\n",
    "print(\"Train FS KNN Accuracy:\",accuracy_score(y_true=y2_train,y_pred=y_pred_train_KNN2))\n",
    "print(\"Test FS KNN Accuracy:\",accuracy_score(y_true=y2_test,y_pred=y_pred_test_KNN2))"
   ]
  },
  {
   "cell_type": "code",
   "execution_count": 241,
   "metadata": {},
   "outputs": [
    {
     "name": "stderr",
     "output_type": "stream",
     "text": [
      "C:\\Users\\Gnanendra\\Anaconda3\\lib\\site-packages\\sklearn\\ensemble\\forest.py:246: FutureWarning: The default value of n_estimators will change from 10 in version 0.20 to 100 in 0.22.\n",
      "  \"10 in version 0.20 to 100 in 0.22.\", FutureWarning)\n"
     ]
    },
    {
     "name": "stdout",
     "output_type": "stream",
     "text": [
      "Train FS RFC Accuracy: 0.9916402245545521\n",
      "Test FS RFC Accuracy: 0.9114202049780381\n"
     ]
    }
   ],
   "source": [
    "#Building the Random Forest model\n",
    "from sklearn.ensemble import RandomForestClassifier\n",
    "RFC2 = RandomForestClassifier()\n",
    "RFC2.fit(X2_train, y2_train)\n",
    "y_pred_train_RFC2 = RFC2.predict(X2_train)\n",
    "y_pred_test_RFC2 = RFC2.predict(X2_test)\n",
    "print(\"Train FS RFC Accuracy:\",accuracy_score(y_true=y2_train,y_pred=y_pred_train_RFC2))\n",
    "print(\"Test FS RFC Accuracy:\",accuracy_score(y_true=y2_test,y_pred=y_pred_test_RFC2))"
   ]
  },
  {
   "cell_type": "code",
   "execution_count": 242,
   "metadata": {},
   "outputs": [],
   "source": [
    "stack2 = pd.DataFrame([y_pred_test_logistic2,y_pred_test_svc2,y_pred_test_dtc2,y_pred_test_KNN2,y_pred_test_RFC2]).T"
   ]
  },
  {
   "cell_type": "code",
   "execution_count": 244,
   "metadata": {},
   "outputs": [],
   "source": [
    "from scipy.stats import mode"
   ]
  },
  {
   "cell_type": "code",
   "execution_count": 245,
   "metadata": {},
   "outputs": [],
   "source": [
    "stack2.columns = ['Logistic_FS','SVC_FS','DTC_FS','KNN_FS', 'RFC_FS']"
   ]
  },
  {
   "cell_type": "code",
   "execution_count": 246,
   "metadata": {},
   "outputs": [
    {
     "data": {
      "text/html": [
       "<div>\n",
       "<style scoped>\n",
       "    .dataframe tbody tr th:only-of-type {\n",
       "        vertical-align: middle;\n",
       "    }\n",
       "\n",
       "    .dataframe tbody tr th {\n",
       "        vertical-align: top;\n",
       "    }\n",
       "\n",
       "    .dataframe thead th {\n",
       "        text-align: right;\n",
       "    }\n",
       "</style>\n",
       "<table border=\"1\" class=\"dataframe\">\n",
       "  <thead>\n",
       "    <tr style=\"text-align: right;\">\n",
       "      <th></th>\n",
       "      <th>Logistic_FS</th>\n",
       "      <th>SVC_FS</th>\n",
       "      <th>DTC_FS</th>\n",
       "      <th>KNN_FS</th>\n",
       "      <th>RFC_FS</th>\n",
       "    </tr>\n",
       "  </thead>\n",
       "  <tbody>\n",
       "    <tr>\n",
       "      <th>0</th>\n",
       "      <td>0</td>\n",
       "      <td>0</td>\n",
       "      <td>1</td>\n",
       "      <td>0</td>\n",
       "      <td>1</td>\n",
       "    </tr>\n",
       "    <tr>\n",
       "      <th>1</th>\n",
       "      <td>0</td>\n",
       "      <td>0</td>\n",
       "      <td>0</td>\n",
       "      <td>0</td>\n",
       "      <td>0</td>\n",
       "    </tr>\n",
       "    <tr>\n",
       "      <th>2</th>\n",
       "      <td>0</td>\n",
       "      <td>0</td>\n",
       "      <td>0</td>\n",
       "      <td>0</td>\n",
       "      <td>0</td>\n",
       "    </tr>\n",
       "    <tr>\n",
       "      <th>3</th>\n",
       "      <td>0</td>\n",
       "      <td>0</td>\n",
       "      <td>0</td>\n",
       "      <td>0</td>\n",
       "      <td>0</td>\n",
       "    </tr>\n",
       "    <tr>\n",
       "      <th>4</th>\n",
       "      <td>0</td>\n",
       "      <td>0</td>\n",
       "      <td>0</td>\n",
       "      <td>0</td>\n",
       "      <td>0</td>\n",
       "    </tr>\n",
       "  </tbody>\n",
       "</table>\n",
       "</div>"
      ],
      "text/plain": [
       "   Logistic_FS  SVC_FS  DTC_FS  KNN_FS  RFC_FS\n",
       "0            0       0       1       0       1\n",
       "1            0       0       0       0       0\n",
       "2            0       0       0       0       0\n",
       "3            0       0       0       0       0\n",
       "4            0       0       0       0       0"
      ]
     },
     "execution_count": 246,
     "metadata": {},
     "output_type": "execute_result"
    }
   ],
   "source": [
    "stack2.head()"
   ]
  },
  {
   "cell_type": "code",
   "execution_count": 249,
   "metadata": {},
   "outputs": [
    {
     "data": {
      "text/plain": [
       "array([[0],\n",
       "       [0],\n",
       "       [0],\n",
       "       ...,\n",
       "       [0],\n",
       "       [0],\n",
       "       [0]], dtype=int64)"
      ]
     },
     "execution_count": 249,
     "metadata": {},
     "output_type": "execute_result"
    }
   ],
   "source": [
    "stacked_pred2 = mode(stack2,axis=1)[0]\n",
    "stacked_pred2"
   ]
  },
  {
   "cell_type": "code",
   "execution_count": 250,
   "metadata": {},
   "outputs": [
    {
     "name": "stdout",
     "output_type": "stream",
     "text": [
      "FS Decistion Trees accuracy 0.9062957540263543\n",
      "FS Logistic Regression accuracy 0.7884333821376281\n",
      "FS SVC accuracy 0.7894094680331869\n",
      "FS RFC Accuracy 0.9114202049780381\n",
      "FS KNN Accuracy 0.8382137628111274\n",
      "FS Stacked Accuracy:  0.8582235236700829\n"
     ]
    }
   ],
   "source": [
    "print(\"FS Decistion Trees accuracy\", accuracy_score(y2_test,y_pred_test_dtc2))\n",
    "print(\"FS Logistic Regression accuracy\", accuracy_score(y2_test, y_pred_test_logistic2))\n",
    "print(\"FS SVC accuracy\", accuracy_score(y2_test, y_pred_test_svc2))\n",
    "print(\"FS RFC Accuracy\", accuracy_score(y2_test, y_pred_test_RFC2))\n",
    "print(\"FS KNN Accuracy\", accuracy_score(y2_test, y_pred_test_KNN2))\n",
    "print(\"FS Stacked Accuracy: \", accuracy_score(y2_test,stacked_pred2))"
   ]
  },
  {
   "cell_type": "code",
   "execution_count": 251,
   "metadata": {},
   "outputs": [],
   "source": [
    "#Model Building using boosting\n",
    "import os\n",
    "import numpy as np\n",
    "import pandas as pd\n",
    "from sklearn.model_selection import train_test_split\n",
    "from sklearn.preprocessing import StandardScaler\n",
    "import seaborn as sns\n",
    "#Creating AdaBoost Decision Tree classifier\n",
    "from sklearn.ensemble import AdaBoostClassifier"
   ]
  },
  {
   "cell_type": "code",
   "execution_count": 261,
   "metadata": {},
   "outputs": [],
   "source": [
    "FS_Adaboost_DTC = AdaBoostClassifier(\n",
    "    DecisionTreeClassifier(max_depth=2),\n",
    "    n_estimators = 600,\n",
    "    learning_rate = 1)"
   ]
  },
  {
   "cell_type": "code",
   "execution_count": 262,
   "metadata": {},
   "outputs": [
    {
     "name": "stdout",
     "output_type": "stream",
     "text": [
      "Wall time: 2min 27s\n"
     ]
    },
    {
     "data": {
      "text/plain": [
       "AdaBoostClassifier(algorithm='SAMME.R',\n",
       "          base_estimator=DecisionTreeClassifier(class_weight=None, criterion='gini', max_depth=2,\n",
       "            max_features=None, max_leaf_nodes=None,\n",
       "            min_impurity_decrease=0.0, min_impurity_split=None,\n",
       "            min_samples_leaf=1, min_samples_split=2,\n",
       "            min_weight_fraction_leaf=0.0, presort=False, random_state=None,\n",
       "            splitter='best'),\n",
       "          learning_rate=1, n_estimators=600, random_state=None)"
      ]
     },
     "execution_count": 262,
     "metadata": {},
     "output_type": "execute_result"
    }
   ],
   "source": [
    "# Train model\n",
    "%time FS_Adaboost_DTC.fit(X2_train, y2_train)"
   ]
  },
  {
   "cell_type": "code",
   "execution_count": 263,
   "metadata": {},
   "outputs": [],
   "source": [
    "#Test the model\n",
    "y_preds_FS_adaboost = FS_Adaboost_DTC.predict(X2_test)"
   ]
  },
  {
   "cell_type": "code",
   "execution_count": 264,
   "metadata": {},
   "outputs": [
    {
     "name": "stdout",
     "output_type": "stream",
     "text": [
      "FS Test AdaBoost Accuracy: 0.9314299658369937\n"
     ]
    }
   ],
   "source": [
    "#Verify the accuracy\n",
    "#Verify accuracy\n",
    "from sklearn.metrics import accuracy_score\n",
    "print(\"FS Test AdaBoost Accuracy:\",accuracy_score(y_true=y2_test,y_pred=y_preds_FS_adaboost))"
   ]
  },
  {
   "cell_type": "code",
   "execution_count": 275,
   "metadata": {},
   "outputs": [],
   "source": [
    "#AdaBoost Classifier Grid Search Validation\n",
    "from sklearn.model_selection import GridSearchCV\n",
    "\n",
    "param_grid = {'n_estimators' : [200, 400,600],\n",
    "              'learning_rate' : [0.1, 0.5, 0.9]}\n",
    "\n",
    "FS_Adaboost_GS = GridSearchCV(AdaBoostClassifier(\n",
    "            DecisionTreeClassifier(max_depth=2)), param_grid, n_jobs=-1)"
   ]
  },
  {
   "cell_type": "code",
   "execution_count": 276,
   "metadata": {},
   "outputs": [
    {
     "name": "stderr",
     "output_type": "stream",
     "text": [
      "C:\\Users\\Gnanendra\\Anaconda3\\lib\\site-packages\\sklearn\\model_selection\\_split.py:2053: FutureWarning: You should specify a value for 'cv' instead of relying on the default value. The default value will change from 3 to 5 in version 0.22.\n",
      "  warnings.warn(CV_WARNING, FutureWarning)\n"
     ]
    },
    {
     "name": "stdout",
     "output_type": "stream",
     "text": [
      "Wall time: 15min 9s\n"
     ]
    },
    {
     "data": {
      "text/plain": [
       "GridSearchCV(cv='warn', error_score='raise-deprecating',\n",
       "       estimator=AdaBoostClassifier(algorithm='SAMME.R',\n",
       "          base_estimator=DecisionTreeClassifier(class_weight=None, criterion='gini', max_depth=2,\n",
       "            max_features=None, max_leaf_nodes=None,\n",
       "            min_impurity_decrease=0.0, min_impurity_split=None,\n",
       "            min_samples_leaf=1, min_samples_split=2,\n",
       "            min_weight_fraction_leaf=0.0, presort=False, random_state=None,\n",
       "            splitter='best'),\n",
       "          learning_rate=1.0, n_estimators=50, random_state=None),\n",
       "       fit_params=None, iid='warn', n_jobs=-1,\n",
       "       param_grid={'n_estimators': [200, 400, 600], 'learning_rate': [0.1, 0.5, 0.9]},\n",
       "       pre_dispatch='2*n_jobs', refit=True, return_train_score='warn',\n",
       "       scoring=None, verbose=0)"
      ]
     },
     "execution_count": 276,
     "metadata": {},
     "output_type": "execute_result"
    }
   ],
   "source": [
    "# Train model\n",
    "%time FS_Adaboost_GS.fit(X2_train, y2_train)"
   ]
  },
  {
   "cell_type": "code",
   "execution_count": 280,
   "metadata": {},
   "outputs": [
    {
     "name": "stdout",
     "output_type": "stream",
     "text": [
      "0.9297046619477667 {'learning_rate': 0.5, 'n_estimators': 400}\n"
     ]
    }
   ],
   "source": [
    "best_ada_model_FS = FS_Adaboost_GS.best_estimator_\n",
    "print (FS_Adaboost_GS.best_score_, FS_Adaboost_GS.best_params_)"
   ]
  },
  {
   "cell_type": "code",
   "execution_count": 282,
   "metadata": {},
   "outputs": [],
   "source": [
    "y_pred_test_FS_Ada = best_ada_model_FS.predict(X2_test)"
   ]
  },
  {
   "cell_type": "code",
   "execution_count": 283,
   "metadata": {},
   "outputs": [
    {
     "name": "stdout",
     "output_type": "stream",
     "text": [
      "0.931185944363104\n"
     ]
    }
   ],
   "source": [
    "# Verify accuracy\n",
    "print(accuracy_score(y2_test,y_pred_test_FS_Ada))"
   ]
  },
  {
   "cell_type": "code",
   "execution_count": 284,
   "metadata": {},
   "outputs": [],
   "source": [
    "#Build Gradient Boosting Classifier\n",
    "#Create Gradient Boosting Classifier\n",
    "from sklearn.ensemble import GradientBoostingClassifier"
   ]
  },
  {
   "cell_type": "code",
   "execution_count": 285,
   "metadata": {},
   "outputs": [],
   "source": [
    "FS_GBM = GradientBoostingClassifier(n_estimators=50,\n",
    "                                       learning_rate=0.3,\n",
    "                                       subsample=0.8)"
   ]
  },
  {
   "cell_type": "code",
   "execution_count": 286,
   "metadata": {},
   "outputs": [
    {
     "data": {
      "text/plain": [
       "GradientBoostingClassifier(criterion='friedman_mse', init=None,\n",
       "              learning_rate=0.3, loss='deviance', max_depth=3,\n",
       "              max_features=None, max_leaf_nodes=None,\n",
       "              min_impurity_decrease=0.0, min_impurity_split=None,\n",
       "              min_samples_leaf=1, min_samples_split=2,\n",
       "              min_weight_fraction_leaf=0.0, n_estimators=50,\n",
       "              n_iter_no_change=None, presort='auto', random_state=None,\n",
       "              subsample=0.8, tol=0.0001, validation_fraction=0.1,\n",
       "              verbose=0, warm_start=False)"
      ]
     },
     "execution_count": 286,
     "metadata": {},
     "output_type": "execute_result"
    }
   ],
   "source": [
    "#Train Gradient Boosting Model\n",
    "FS_GBM.fit(X2_train, y2_train)"
   ]
  },
  {
   "cell_type": "code",
   "execution_count": 287,
   "metadata": {},
   "outputs": [
    {
     "name": "stdout",
     "output_type": "stream",
     "text": [
      "Wall time: 9.99 ms\n"
     ]
    }
   ],
   "source": [
    "#Prediction on Test data\n",
    "%time y_pred_FS_GBM = FS_GBM.predict(X2_test)"
   ]
  },
  {
   "cell_type": "code",
   "execution_count": 288,
   "metadata": {},
   "outputs": [
    {
     "name": "stdout",
     "output_type": "stream",
     "text": [
      "0.9243533430941923\n"
     ]
    }
   ],
   "source": [
    "#Accuracy\n",
    "print(accuracy_score(y2_test,y_pred_FS_GBM))"
   ]
  },
  {
   "cell_type": "code",
   "execution_count": 290,
   "metadata": {},
   "outputs": [],
   "source": [
    "#Grid Search Cross validation\n",
    "from sklearn.model_selection import GridSearchCV\n",
    "\n",
    "# Model in use\n",
    "GBM = GradientBoostingClassifier() \n",
    " \n",
    "# Use a grid over parameters of interest\n",
    "param_grid = { \n",
    "           \"n_estimators\" : [100,150,200,250],\n",
    "           \"max_depth\" : [5, 10],\n",
    "           \"learning_rate\" : [0.1,0.5,0.9]}\n",
    " \n",
    "FS_GBM_CV = GridSearchCV(estimator=GBM, param_grid=param_grid)"
   ]
  },
  {
   "cell_type": "code",
   "execution_count": 291,
   "metadata": {},
   "outputs": [
    {
     "name": "stderr",
     "output_type": "stream",
     "text": [
      "C:\\Users\\Gnanendra\\Anaconda3\\lib\\site-packages\\sklearn\\model_selection\\_split.py:2053: FutureWarning: You should specify a value for 'cv' instead of relying on the default value. The default value will change from 3 to 5 in version 0.22.\n",
      "  warnings.warn(CV_WARNING, FutureWarning)\n"
     ]
    },
    {
     "name": "stdout",
     "output_type": "stream",
     "text": [
      "Wall time: 31min 1s\n"
     ]
    },
    {
     "data": {
      "text/plain": [
       "GridSearchCV(cv='warn', error_score='raise-deprecating',\n",
       "       estimator=GradientBoostingClassifier(criterion='friedman_mse', init=None,\n",
       "              learning_rate=0.1, loss='deviance', max_depth=3,\n",
       "              max_features=None, max_leaf_nodes=None,\n",
       "              min_impurity_decrease=0.0, min_impurity_split=None,\n",
       "              min_samples_leaf=1, min_sampl...      subsample=1.0, tol=0.0001, validation_fraction=0.1,\n",
       "              verbose=0, warm_start=False),\n",
       "       fit_params=None, iid='warn', n_jobs=None,\n",
       "       param_grid={'n_estimators': [100, 150, 200, 250], 'max_depth': [5, 10], 'learning_rate': [0.1, 0.5, 0.9]},\n",
       "       pre_dispatch='2*n_jobs', refit=True, return_train_score='warn',\n",
       "       scoring=None, verbose=0)"
      ]
     },
     "execution_count": 291,
     "metadata": {},
     "output_type": "execute_result"
    }
   ],
   "source": [
    "%time FS_GBM_CV.fit(X2_train, y2_train)"
   ]
  },
  {
   "cell_type": "code",
   "execution_count": 292,
   "metadata": {},
   "outputs": [
    {
     "name": "stdout",
     "output_type": "stream",
     "text": [
      "Wall time: 55 ms\n"
     ]
    }
   ],
   "source": [
    "#Prediction on Test data\n",
    "%time y_pred_FS_GBM_CV = FS_GBM_CV.predict(X2_test)"
   ]
  },
  {
   "cell_type": "code",
   "execution_count": 293,
   "metadata": {},
   "outputs": [
    {
     "name": "stdout",
     "output_type": "stream",
     "text": [
      "0.9314299658369937\n"
     ]
    }
   ],
   "source": [
    "#Accuracy\n",
    "print(accuracy_score(y2_test,y_pred_FS_GBM_CV))"
   ]
  },
  {
   "cell_type": "code",
   "execution_count": 294,
   "metadata": {},
   "outputs": [
    {
     "name": "stdout",
     "output_type": "stream",
     "text": [
      "0.9327556748840615 {'learning_rate': 0.1, 'max_depth': 5, 'n_estimators': 250}\n"
     ]
    }
   ],
   "source": [
    "best_FS_GBM_CV = FS_GBM_CV.best_estimator_\n",
    "print (FS_GBM_CV.best_score_, FS_GBM_CV.best_params_)"
   ]
  },
  {
   "cell_type": "code",
   "execution_count": 295,
   "metadata": {},
   "outputs": [],
   "source": [
    "#Prediction on Test Set\n",
    "y_pred_test_FS_GBM_CV = best_FS_GBM_CV.predict(X2_test)"
   ]
  },
  {
   "cell_type": "code",
   "execution_count": 298,
   "metadata": {},
   "outputs": [
    {
     "name": "stdout",
     "output_type": "stream",
     "text": [
      "0.9314299658369937\n"
     ]
    }
   ],
   "source": [
    "# Verify accuracy\n",
    "print(accuracy_score(y2_test,y_pred_test_FS_GBM_CV))"
   ]
  },
  {
   "cell_type": "code",
   "execution_count": 299,
   "metadata": {},
   "outputs": [],
   "source": [
    "#Building XGBoost Classifier\n",
    "from xgboost import XGBClassifier"
   ]
  },
  {
   "cell_type": "code",
   "execution_count": 300,
   "metadata": {},
   "outputs": [],
   "source": [
    "# Defining the XGB model\n",
    "FS_XGB = XGBClassifier()"
   ]
  },
  {
   "cell_type": "code",
   "execution_count": 301,
   "metadata": {},
   "outputs": [
    {
     "name": "stdout",
     "output_type": "stream",
     "text": [
      "Wall time: 10.7 s\n"
     ]
    },
    {
     "data": {
      "text/plain": [
       "XGBClassifier(base_score=0.5, booster='gbtree', colsample_bylevel=1,\n",
       "       colsample_bytree=1, gamma=0, learning_rate=0.1, max_delta_step=0,\n",
       "       max_depth=3, min_child_weight=1, missing=None, n_estimators=100,\n",
       "       n_jobs=1, nthread=None, objective='binary:logistic', random_state=0,\n",
       "       reg_alpha=0, reg_lambda=1, scale_pos_weight=1, seed=None,\n",
       "       silent=True, subsample=1)"
      ]
     },
     "execution_count": 301,
     "metadata": {},
     "output_type": "execute_result"
    }
   ],
   "source": [
    "# Traing the XGB classifier on train data set\n",
    "%time FS_XGB.fit(X2_train, y2_train)"
   ]
  },
  {
   "cell_type": "code",
   "execution_count": 302,
   "metadata": {},
   "outputs": [],
   "source": [
    "#XGB Preditions on Test Set\n",
    "\n",
    "y_pred_FS_XGB = FS_XGB.predict(X2_test)"
   ]
  },
  {
   "cell_type": "code",
   "execution_count": 303,
   "metadata": {},
   "outputs": [
    {
     "name": "stdout",
     "output_type": "stream",
     "text": [
      "0.9238653001464129\n"
     ]
    }
   ],
   "source": [
    "#XGB Model Preditction\n",
    "print(accuracy_score(y2_test,y_pred_FS_XGB))"
   ]
  },
  {
   "cell_type": "code",
   "execution_count": 304,
   "metadata": {},
   "outputs": [],
   "source": [
    "#Grid Search cross validation on XGB Classifier\n",
    "XGB = XGBClassifier(n_jobs=-1)\n",
    " \n",
    "# Use a grid over parameters of interest\n",
    "param_grid = {\n",
    "     'colsample_bytree': np.linspace(0.5, 0.9, 5),\n",
    "     'n_estimators':[100, 200],\n",
    "     'max_depth': [10, 15, 20, 25]\n",
    "}\n",
    "\n",
    " \n",
    "FS_XGB_CV = GridSearchCV(estimator=XGB, param_grid=param_grid)"
   ]
  },
  {
   "cell_type": "code",
   "execution_count": 305,
   "metadata": {},
   "outputs": [
    {
     "name": "stderr",
     "output_type": "stream",
     "text": [
      "C:\\Users\\Gnanendra\\Anaconda3\\lib\\site-packages\\sklearn\\model_selection\\_split.py:2053: FutureWarning: You should specify a value for 'cv' instead of relying on the default value. The default value will change from 3 to 5 in version 0.22.\n",
      "  warnings.warn(CV_WARNING, FutureWarning)\n"
     ]
    },
    {
     "name": "stdout",
     "output_type": "stream",
     "text": [
      "Wall time: 45min 26s\n"
     ]
    },
    {
     "data": {
      "text/plain": [
       "GridSearchCV(cv='warn', error_score='raise-deprecating',\n",
       "       estimator=XGBClassifier(base_score=0.5, booster='gbtree', colsample_bylevel=1,\n",
       "       colsample_bytree=1, gamma=0, learning_rate=0.1, max_delta_step=0,\n",
       "       max_depth=3, min_child_weight=1, missing=None, n_estimators=100,\n",
       "       n_jobs=-1, nthread=None, objective='binary:logistic',\n",
       "       random_state=0, reg_alpha=0, reg_lambda=1, scale_pos_weight=1,\n",
       "       seed=None, silent=True, subsample=1),\n",
       "       fit_params=None, iid='warn', n_jobs=None,\n",
       "       param_grid={'colsample_bytree': array([0.5, 0.6, 0.7, 0.8, 0.9]), 'n_estimators': [100, 200], 'max_depth': [10, 15, 20, 25]},\n",
       "       pre_dispatch='2*n_jobs', refit=True, return_train_score='warn',\n",
       "       scoring=None, verbose=0)"
      ]
     },
     "execution_count": 305,
     "metadata": {},
     "output_type": "execute_result"
    }
   ],
   "source": [
    "#Train Grid Search XGB Classifier\n",
    "%time FS_XGB_CV.fit(X = X2_train, y=y2_train)"
   ]
  },
  {
   "cell_type": "code",
   "execution_count": 306,
   "metadata": {},
   "outputs": [
    {
     "name": "stdout",
     "output_type": "stream",
     "text": [
      "0.9321454722968026 {'colsample_bytree': 0.6, 'max_depth': 10, 'n_estimators': 200}\n"
     ]
    }
   ],
   "source": [
    "# Find best model\n",
    "best_FS_XGB_CV = FS_XGB_CV.best_estimator_\n",
    "print (FS_XGB_CV.best_score_, FS_XGB_CV.best_params_)"
   ]
  },
  {
   "cell_type": "code",
   "execution_count": 307,
   "metadata": {},
   "outputs": [],
   "source": [
    "#Prediction on Test Set\n",
    "y_pred_test_FS_XGB_CV = best_FS_XGB_CV.predict(X2_test)"
   ]
  },
  {
   "cell_type": "code",
   "execution_count": 308,
   "metadata": {},
   "outputs": [
    {
     "name": "stdout",
     "output_type": "stream",
     "text": [
      "0.9331381161542216\n"
     ]
    }
   ],
   "source": [
    "# Verify accuracy\n",
    "print(accuracy_score(y2_test,y_pred_test_FS_XGB_CV))"
   ]
  },
  {
   "cell_type": "code",
   "execution_count": null,
   "metadata": {},
   "outputs": [],
   "source": []
  }
 ],
 "metadata": {
  "kernelspec": {
   "display_name": "Python 3",
   "language": "python",
   "name": "python3"
  },
  "language_info": {
   "codemirror_mode": {
    "name": "ipython",
    "version": 3
   },
   "file_extension": ".py",
   "mimetype": "text/x-python",
   "name": "python",
   "nbconvert_exporter": "python",
   "pygments_lexer": "ipython3",
   "version": "3.6.5"
  }
 },
 "nbformat": 4,
 "nbformat_minor": 2
}
