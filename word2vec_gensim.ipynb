{
 "cells": [
  {
   "cell_type": "markdown",
   "metadata": {},
   "source": [
    "Run this to install gensim: **pip install gensim**\n",
    "\n",
    "Download the data from here: \"http://mattmahoney.net/dc/text8.zip\""
   ]
  },
  {
   "cell_type": "code",
   "execution_count": 3,
   "metadata": {},
   "outputs": [],
   "source": [
    "from gensim.models import word2vec\n",
    "from gensim.models.word2vec import Text8Corpus"
   ]
  },
  {
   "cell_type": "code",
   "execution_count": 2,
   "metadata": {},
   "outputs": [
    {
     "name": "stdout",
     "output_type": "stream",
     "text": [
      "Collecting gensim\n",
      "  Downloading https://files.pythonhosted.org/packages/54/ee/c1f685caa83ee9b8f54573b51648af61b01377bcc5981a18704f5247cce7/gensim-3.7.1-cp36-cp36m-win_amd64.whl (24.1MB)\n",
      "Requirement already satisfied: six>=1.5.0 in c:\\users\\prash\\anaconda3\\lib\\site-packages (from gensim) (1.11.0)\n",
      "Requirement already satisfied: numpy>=1.11.3 in c:\\users\\prash\\anaconda3\\lib\\site-packages (from gensim) (1.15.4)\n",
      "Collecting smart-open>=1.7.0 (from gensim)\n",
      "  Downloading https://files.pythonhosted.org/packages/ff/c8/de7dcf34d4b5f2ae94fe1055e0d6418fb97a63c9dc3428edd264704983a2/smart_open-1.8.0.tar.gz (40kB)\n",
      "Requirement already satisfied: scipy>=0.18.1 in c:\\users\\prash\\anaconda3\\lib\\site-packages (from gensim) (1.2.1)\n",
      "Requirement already satisfied: boto>=2.32 in c:\\users\\prash\\anaconda3\\lib\\site-packages (from smart-open>=1.7.0->gensim) (2.48.0)\n",
      "Collecting bz2file (from smart-open>=1.7.0->gensim)\n",
      "  Downloading https://files.pythonhosted.org/packages/61/39/122222b5e85cd41c391b68a99ee296584b2a2d1d233e7ee32b4532384f2d/bz2file-0.98.tar.gz\n",
      "Requirement already satisfied: requests in c:\\users\\prash\\anaconda3\\lib\\site-packages (from smart-open>=1.7.0->gensim) (2.18.4)\n",
      "Collecting boto3 (from smart-open>=1.7.0->gensim)\n",
      "  Downloading https://files.pythonhosted.org/packages/71/78/5a6e7cb1060a4c54092e17aed07fbf9b5784b696b0aba4e0bbc0d4588bfd/boto3-1.9.106-py2.py3-none-any.whl (128kB)\n",
      "Requirement already satisfied: chardet<3.1.0,>=3.0.2 in c:\\users\\prash\\anaconda3\\lib\\site-packages (from requests->smart-open>=1.7.0->gensim) (3.0.4)\n",
      "Requirement already satisfied: idna<2.7,>=2.5 in c:\\users\\prash\\anaconda3\\lib\\site-packages (from requests->smart-open>=1.7.0->gensim) (2.6)\n",
      "Requirement already satisfied: urllib3<1.23,>=1.21.1 in c:\\users\\prash\\anaconda3\\lib\\site-packages (from requests->smart-open>=1.7.0->gensim) (1.22)\n",
      "Requirement already satisfied: certifi>=2017.4.17 in c:\\users\\prash\\anaconda3\\lib\\site-packages (from requests->smart-open>=1.7.0->gensim) (2018.11.29)\n",
      "Collecting botocore<1.13.0,>=1.12.106 (from boto3->smart-open>=1.7.0->gensim)\n",
      "  Downloading https://files.pythonhosted.org/packages/58/27/ec2c22fdc556c142c1cdf37a7335156482e5298db71980567961ab299ea4/botocore-1.12.106-py2.py3-none-any.whl (5.3MB)\n",
      "Collecting jmespath<1.0.0,>=0.7.1 (from boto3->smart-open>=1.7.0->gensim)\n",
      "  Downloading https://files.pythonhosted.org/packages/83/94/7179c3832a6d45b266ddb2aac329e101367fbdb11f425f13771d27f225bb/jmespath-0.9.4-py2.py3-none-any.whl\n",
      "Collecting s3transfer<0.3.0,>=0.2.0 (from boto3->smart-open>=1.7.0->gensim)\n",
      "  Downloading https://files.pythonhosted.org/packages/d7/de/5737f602e22073ecbded7a0c590707085e154e32b68d86545dcc31004c02/s3transfer-0.2.0-py2.py3-none-any.whl (69kB)\n",
      "Requirement already satisfied: docutils>=0.10 in c:\\users\\prash\\anaconda3\\lib\\site-packages (from botocore<1.13.0,>=1.12.106->boto3->smart-open>=1.7.0->gensim) (0.14)\n",
      "Requirement already satisfied: python-dateutil<3.0.0,>=2.1; python_version >= \"2.7\" in c:\\users\\prash\\anaconda3\\lib\\site-packages (from botocore<1.13.0,>=1.12.106->boto3->smart-open>=1.7.0->gensim) (2.7.3)\n",
      "Building wheels for collected packages: smart-open, bz2file\n",
      "  Building wheel for smart-open (setup.py): started\n",
      "  Building wheel for smart-open (setup.py): finished with status 'done'\n",
      "  Stored in directory: C:\\Users\\prash\\AppData\\Local\\pip\\Cache\\wheels\\f7\\a6\\ff\\9ab5842c14e50e95a06a4675b0b4a689c9cab6064dac2b01d0\n",
      "  Building wheel for bz2file (setup.py): started\n",
      "  Building wheel for bz2file (setup.py): finished with status 'done'\n",
      "  Stored in directory: C:\\Users\\prash\\AppData\\Local\\pip\\Cache\\wheels\\81\\75\\d6\\e1317bf09bf1af5a30befc2a007869fa6e1f516b8f7c591cb9\n",
      "Successfully built smart-open bz2file\n",
      "Installing collected packages: bz2file, jmespath, botocore, s3transfer, boto3, smart-open, gensim\n",
      "Successfully installed boto3-1.9.106 botocore-1.12.106 bz2file-0.98 gensim-3.7.1 jmespath-0.9.4 s3transfer-0.2.0 smart-open-1.8.0\n"
     ]
    }
   ],
   "source": [
    "! pip install gensim"
   ]
  },
  {
   "cell_type": "code",
   "execution_count": 8,
   "metadata": {},
   "outputs": [],
   "source": [
    "sentences = word2vec.Text8Corpus('text8')\n",
    "model = word2vec.Word2Vec(sentences, size=200)"
   ]
  },
  {
   "cell_type": "code",
   "execution_count": 9,
   "metadata": {},
   "outputs": [
    {
     "data": {
      "text/plain": [
       "array([ 0.971955  , -0.59269977,  1.3288634 ,  1.4523568 ,  0.3577097 ,\n",
       "        0.05290921, -0.08593819,  1.009019  , -0.59824586, -0.5989321 ,\n",
       "       -1.5377872 , -0.75382537, -0.15587321,  1.9971551 ,  0.49109423,\n",
       "       -1.3363829 ,  0.93842965, -1.6444539 ,  0.11204682,  2.5918746 ,\n",
       "        0.16751115,  1.1488739 , -1.8978547 , -1.1999617 ,  2.0780559 ,\n",
       "        0.34360167,  0.05063075, -1.7027391 , -0.55636716, -0.7079416 ,\n",
       "       -0.6112341 ,  2.5734305 , -1.5437397 , -0.4320301 , -2.47205   ,\n",
       "       -0.31804317,  1.193239  ,  0.02980413, -1.5193334 , -0.25601184,\n",
       "        1.098585  , -0.08258671, -1.3003596 , -1.0498481 ,  0.54481745,\n",
       "        2.5950825 , -0.27656722,  0.928846  , -0.9973497 , -1.745797  ,\n",
       "        2.3015585 , -0.95000654,  1.4785991 , -0.85823977, -2.7022076 ,\n",
       "       -1.0465465 , -0.65941215, -1.7945529 ,  0.8809582 ,  0.9148081 ,\n",
       "       -0.48885992,  0.12124408,  0.1554382 , -2.2360275 , -0.26235846,\n",
       "       -1.5977157 , -0.808022  , -1.4626515 ,  0.24072401,  0.0293828 ,\n",
       "        1.5572246 , -0.9480694 , -0.4702227 , -1.1362716 , -1.8738521 ,\n",
       "        1.0735645 ,  0.55654144, -0.0778823 , -4.0634046 , -0.35688025,\n",
       "        1.1985925 , -0.66314536,  0.20892201,  1.0527978 ,  0.8808188 ,\n",
       "        0.58276004,  1.1733425 , -0.34914014, -0.12322179, -0.46665293,\n",
       "        0.6084719 , -0.07410382,  1.3461956 , -1.0604302 ,  0.1861883 ,\n",
       "        0.49196944, -2.8411922 ,  1.6148491 , -1.5037179 ,  0.0081518 ,\n",
       "       -0.84547883, -0.7479845 , -0.09321169,  0.14779659, -0.64019173,\n",
       "        0.35377207, -0.2507775 , -1.1407264 , -0.35778219, -2.1893213 ,\n",
       "        1.0234393 , -0.8932897 ,  0.18083566, -0.97246826,  1.5167859 ,\n",
       "        0.8529629 ,  1.0923634 ,  1.8148748 ,  0.9186518 , -0.6156558 ,\n",
       "       -0.14366609, -0.67221653, -0.03862376, -0.07438345, -0.6716979 ,\n",
       "       -0.11707583, -1.6718324 , -0.25919172, -2.1953378 ,  0.2830494 ,\n",
       "       -0.4422793 , -0.47516164,  1.9770257 ,  0.9023236 , -2.2084987 ,\n",
       "        0.27477753,  2.272482  ,  0.13333048, -1.4304235 ,  2.126999  ,\n",
       "       -1.276414  ,  0.9746272 ,  1.3186467 ,  1.3349094 , -0.50780207,\n",
       "        1.4320453 , -1.2544191 , -0.92824554, -0.3478735 ,  1.8979131 ,\n",
       "       -0.8465708 ,  1.0706565 ,  0.9449892 , -0.32356745,  0.6432311 ,\n",
       "       -1.5756546 ,  0.47390562, -0.44722894, -1.9695816 ,  0.52735704,\n",
       "       -0.47623655,  2.0461493 , -1.0436257 , -0.57536924, -1.7736267 ,\n",
       "       -1.0734656 , -1.0450768 , -0.8431637 ,  0.17169678, -0.34876677,\n",
       "        0.4363274 ,  0.04424244,  0.0510025 ,  0.7867081 , -0.92934096,\n",
       "       -1.7005737 ,  1.951461  , -0.38041776,  0.3583879 , -0.07345494,\n",
       "        0.35918555, -1.3030697 ,  2.260833  , -1.2327106 ,  1.2170342 ,\n",
       "        1.2136056 ,  2.103498  ,  0.9675438 , -0.7466665 , -0.56952196,\n",
       "       -0.9229415 ,  0.12905994,  1.3355311 , -0.27430782, -0.3490916 ,\n",
       "        2.5749595 , -0.10620854, -1.512881  ,  0.6955309 , -0.24206573],\n",
       "      dtype=float32)"
      ]
     },
     "execution_count": 9,
     "metadata": {},
     "output_type": "execute_result"
    }
   ],
   "source": [
    "model.wv['computer']"
   ]
  },
  {
   "cell_type": "code",
   "execution_count": 10,
   "metadata": {},
   "outputs": [
    {
     "name": "stderr",
     "output_type": "stream",
     "text": [
      "C:\\Users\\prash\\Anaconda3\\lib\\site-packages\\ipykernel_launcher.py:1: DeprecationWarning: Call to deprecated `most_similar` (Method will be removed in 4.0.0, use self.wv.most_similar() instead).\n",
      "  \"\"\"Entry point for launching an IPython kernel.\n"
     ]
    },
    {
     "data": {
      "text/plain": [
       "[('queen', 0.6668389439582825),\n",
       " ('throne', 0.5961281061172485),\n",
       " ('empress', 0.5829553008079529),\n",
       " ('prince', 0.5722217559814453),\n",
       " ('princess', 0.571029782295227)]"
      ]
     },
     "execution_count": 10,
     "metadata": {},
     "output_type": "execute_result"
    }
   ],
   "source": [
    "model.most_similar(positive=['woman', 'king'], negative=['man'], topn=5)"
   ]
  },
  {
   "cell_type": "code",
   "execution_count": 11,
   "metadata": {},
   "outputs": [
    {
     "name": "stderr",
     "output_type": "stream",
     "text": [
      "C:\\Users\\prash\\Anaconda3\\lib\\site-packages\\ipykernel_launcher.py:1: DeprecationWarning: Call to deprecated `most_similar` (Method will be removed in 4.0.0, use self.wv.most_similar() instead).\n",
      "  \"\"\"Entry point for launching an IPython kernel.\n"
     ]
    },
    {
     "data": {
      "text/plain": [
       "[('queen', 0.6668389439582825), ('throne', 0.5961281061172485)]"
      ]
     },
     "execution_count": 11,
     "metadata": {},
     "output_type": "execute_result"
    }
   ],
   "source": [
    "model.most_similar(positive=['woman', 'king'], negative=['man'], topn=2)"
   ]
  },
  {
   "cell_type": "code",
   "execution_count": 12,
   "metadata": {},
   "outputs": [
    {
     "name": "stderr",
     "output_type": "stream",
     "text": [
      "C:\\Users\\prash\\Anaconda3\\lib\\site-packages\\ipykernel_launcher.py:1: DeprecationWarning: Call to deprecated `most_similar` (Method will be removed in 4.0.0, use self.wv.most_similar() instead).\n",
      "  \"\"\"Entry point for launching an IPython kernel.\n"
     ]
    },
    {
     "data": {
      "text/plain": [
       "[('mother', 0.7574015855789185),\n",
       " ('grandmother', 0.6880744695663452),\n",
       " ('wife', 0.683781623840332)]"
      ]
     },
     "execution_count": 12,
     "metadata": {},
     "output_type": "execute_result"
    }
   ],
   "source": [
    "model.most_similar(['girl', 'father'], ['boy'], topn=3)"
   ]
  },
  {
   "cell_type": "code",
   "execution_count": 13,
   "metadata": {},
   "outputs": [
    {
     "name": "stderr",
     "output_type": "stream",
     "text": [
      "C:\\Users\\prash\\Anaconda3\\lib\\site-packages\\ipykernel_launcher.py:1: DeprecationWarning: Call to deprecated `most_similar` (Method will be removed in 4.0.0, use self.wv.most_similar() instead).\n",
      "  \"\"\"Entry point for launching an IPython kernel.\n"
     ]
    },
    {
     "data": {
      "text/plain": [
       "[('woman', 0.6854355931282043),\n",
       " ('girl', 0.5754263997077942),\n",
       " ('boy', 0.5536168217658997),\n",
       " ('creature', 0.5439417958259583),\n",
       " ('person', 0.5179585218429565),\n",
       " ('gentleman', 0.507042646408081),\n",
       " ('stranger', 0.48944753408432007),\n",
       " ('god', 0.48208087682724),\n",
       " ('thief', 0.4745427370071411),\n",
       " ('men', 0.47130143642425537)]"
      ]
     },
     "execution_count": 13,
     "metadata": {},
     "output_type": "execute_result"
    }
   ],
   "source": [
    "model.most_similar(['man'])"
   ]
  },
  {
   "cell_type": "code",
   "execution_count": 14,
   "metadata": {},
   "outputs": [
    {
     "data": {
      "text/plain": [
       "'cereal'"
      ]
     },
     "execution_count": 14,
     "metadata": {},
     "output_type": "execute_result"
    }
   ],
   "source": [
    "model.wv.doesnt_match(\"breakfast cereal dinner lunch\".split())"
   ]
  },
  {
   "cell_type": "code",
   "execution_count": 15,
   "metadata": {},
   "outputs": [
    {
     "data": {
      "text/plain": [
       "0.68543565"
      ]
     },
     "execution_count": 15,
     "metadata": {},
     "output_type": "execute_result"
    }
   ],
   "source": [
    "model.wv.similarity('woman', 'man')"
   ]
  },
  {
   "cell_type": "code",
   "execution_count": null,
   "metadata": {},
   "outputs": [],
   "source": []
  }
 ],
 "metadata": {
  "kernelspec": {
   "display_name": "Python 3",
   "language": "python",
   "name": "python3"
  },
  "language_info": {
   "codemirror_mode": {
    "name": "ipython",
    "version": 3
   },
   "file_extension": ".py",
   "mimetype": "text/x-python",
   "name": "python",
   "nbconvert_exporter": "python",
   "pygments_lexer": "ipython3",
   "version": "3.6.5"
  }
 },
 "nbformat": 4,
 "nbformat_minor": 2
}
