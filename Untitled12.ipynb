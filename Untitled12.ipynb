{
 "cells": [
  {
   "cell_type": "markdown",
   "metadata": {},
   "source": [
    "# Analysis of Hotel Reviews, Segmentation & Building a Recommender System"
   ]
  },
  {
   "cell_type": "markdown",
   "metadata": {},
   "source": [
    "# Business Problem:"
   ]
  },
  {
   "cell_type": "markdown",
   "metadata": {},
   "source": [
    "Today's world living and depending on reviews, If you want to buy a product, if you want to visit a place, if you want stay in hotel you will first look at the reviews. There are many sources reviews are being written like websites, twitter, facebook and this reviews are in text format.\n",
    "\n",
    "This is becoming very difficult to the Hotel managemnt on the areas where to improve as they do not have clear picture on reviews. It is also becoming unworth for the users to select a hotel which is good."
   ]
  },
  {
   "cell_type": "markdown",
   "metadata": {},
   "source": [
    "# Business Objective:"
   ]
  },
  {
   "cell_type": "markdown",
   "metadata": {},
   "source": [
    "Coming to our businees, hotel owners must be quick to the keyboard in responding to users reviews coming from any of the platforms mentioned above. It shows the loyality of the hotel especially in case of negative reviews. In todays world processing of these reviews which are generating tremendoulsy is a tedious job.\n",
    "\n",
    "I would like to help the hotel owners by giving them the Sentiment of the review whether it is Excellent, good or bad so that the hotel management can take necessary actions for the negative review. Also I would like to help hotel management by showing them in which group of hotels they fall in based on customer reviews.\n",
    "\n",
    "Not only hotel management, I will help the users by recommending the best hotels which they didnt visit yet based on the similarities with other users."
   ]
  },
  {
   "cell_type": "markdown",
   "metadata": {},
   "source": [
    "# Summary of the Project:"
   ]
  },
  {
   "cell_type": "markdown",
   "metadata": {},
   "source": [
    "1. Identifying the Sentiment of hotels based on text review\n",
    "2. Segmenting the hotels based on other aspects of ratings given by users\n",
    "3. Recommending the best hotels to the users which they have not visited"
   ]
  },
  {
   "cell_type": "markdown",
   "metadata": {},
   "source": [
    "# Table of Contents"
   ]
  },
  {
   "cell_type": "code",
   "execution_count": null,
   "metadata": {},
   "outputs": [],
   "source": []
  },
  {
   "cell_type": "markdown",
   "metadata": {},
   "source": [
    " <a id=\"1\"></a>\n",
    " # <font color=blue> 1. Classification of Hotel Reviews based on the review text (Excellent,Good or Bad)"
   ]
  },
  {
   "cell_type": "markdown",
   "metadata": {},
   "source": [
    "- ### <font color=blue>Task 1.1 Importing required Libraries\n",
    "- ### <font color=blue>Task 1.2 Reading and Exploring the Data\n",
    "- ### <font color=blue>Task 1.3 Feature Engineering With Date Column\n",
    "- ### <font color=blue>Task 1.4 : Visualizing the trend of reviews over the time\n",
    "- ### <font color=blue>Task 1.5 : Working with Text (Reviewtext) Column\n",
    "- ### <font color=blue>Task 1.6 : Preprocessing the review text\n",
    "- ### <font color=blue>Task 1.7 : FeatureEngineering review text\n",
    "- ### <font color=blue>Task 1.8: Building Machine Learning algorithms\n",
    "- ### <font color=blue>Task 1.9: Validation and Parameter tuning\n",
    "- ### <font color=blue>Task 1.10 Comparing Machine Learning Models\n",
    "- ### <font color=blue>Task 1.11: Bulding the Deep Learning Models\n",
    "- ### <font color=blue>Task 1.12: Deploying the Classification model to production using Flask"
   ]
  },
  {
   "cell_type": "markdown",
   "metadata": {},
   "source": [
    " # <font color=blue>  2. Hotel Segmentation Baased on Reviews)"
   ]
  },
  {
   "cell_type": "markdown",
   "metadata": {},
   "source": [
    "- ### <font color=blue>Task 2.1: Reading and Exploring the Data\n",
    "- ### <font color=blue>Task 2.1 Creating new feature from text for segmentation\n",
    "- ### <font color=blue>Task 2.3: Grouping the Hotels by averaging thier respective ratings\n",
    "- ### <font color=blue>Task 2.4: Standardizing the data\n",
    "- ### <font color=blue>Task 2.5: Building KMeans Algorithm\n",
    "- ### <font color=blue>Task 2.6: Predicting the trained KMeans on new hotels data\n",
    "- ### <font color=blue>Task 2.7 : Conclusion"
   ]
  },
  {
   "cell_type": "markdown",
   "metadata": {},
   "source": [
    " # <font color=blue>  3. Building Recommendation System on User Ratings"
   ]
  },
  {
   "cell_type": "markdown",
   "metadata": {},
   "source": [
    "- ### <font color=blue>Task 3.1: Reading and Analysing the ratings data\n",
    "- ### <font color=blue>Task 3.2 : Building Recommendation system based on correlations\n",
    "- ### <font color=blue>Task 3.3 : Output of Hotels Recommendation using correlation Model\n",
    "- ### <font color=blue>Task 3.4 : KNN based Recommendation system building\n",
    "- ### <font color=blue>Task 3.5 : KNNBaseline algorithm using paramaeter tuning\n",
    "- ### <font color=blue>Task 3.6 : KNNBaseline model - Best Predictions Vs Worst Predictions\n",
    "- ### <font color=blue>Task 3.7 : Recommendation Engine using model based algorithm (SVD)\n",
    "- ### <font color=blue>Task 3.8: Cheking the visted hotels and recommending new hotels for a user"
   ]
  },
  {
   "cell_type": "markdown",
   "metadata": {},
   "source": [
    " # <font color=blue> 4: Business Conclusion"
   ]
  },
  {
   "cell_type": "markdown",
   "metadata": {},
   "source": [
    "# <font color=blue>Task 1: Classification of Hotel Reviews based on the review text (Excellent,Good or Bad)"
   ]
  },
  {
   "cell_type": "markdown",
   "metadata": {},
   "source": [
    "## <font color=blue> Task 1.1 Importing required LIbraries"
   ]
  },
  {
   "cell_type": "code",
   "execution_count": 2,
   "metadata": {},
   "outputs": [],
   "source": [
    "import os\n",
    "import numpy as np\n",
    "import pandas as pd\n",
    "import seaborn as sns\n",
    "import matplotlib\n",
    "from matplotlib import pyplot as plt\n",
    "import warnings"
   ]
  },
  {
   "cell_type": "code",
   "execution_count": 3,
   "metadata": {},
   "outputs": [
    {
     "name": "stderr",
     "output_type": "stream",
     "text": [
      "C:\\Users\\prash\\Anaconda3\\lib\\site-packages\\h5py\\__init__.py:36: FutureWarning: Conversion of the second argument of issubdtype from `float` to `np.floating` is deprecated. In future, it will be treated as `np.float64 == np.dtype(float).type`.\n",
      "  from ._conv import register_converters as _register_converters\n",
      "Using TensorFlow backend.\n"
     ]
    }
   ],
   "source": [
    "import keras\n",
    "import nltk\n",
    "import re\n",
    "import codecs"
   ]
  },
  {
   "cell_type": "code",
   "execution_count": 62,
   "metadata": {},
   "outputs": [
    {
     "ename": "SyntaxError",
     "evalue": "invalid syntax (<ipython-input-62-3cc01fff97db>, line 25)",
     "output_type": "error",
     "traceback": [
      "\u001b[1;36m  File \u001b[1;32m\"<ipython-input-62-3cc01fff97db>\"\u001b[1;36m, line \u001b[1;32m25\u001b[0m\n\u001b[1;33m    plt.style.use('fivethirtyeight')\u001b[0m\n\u001b[1;37m      ^\u001b[0m\n\u001b[1;31mSyntaxError\u001b[0m\u001b[1;31m:\u001b[0m invalid syntax\n"
     ]
    }
   ],
   "source": [
    "# General\n",
    "import numpy as np\n",
    "import pandas as pd\n",
    "import nltk\n",
    "import random\n",
    "import os\n",
    "from os import path\n",
    "from PIL import Image\n",
    "# Visualization\n",
    "import matplotlib as mpl\n",
    "import matplotlib.pyplot as plt\n",
    "import seaborn as sns\n",
    "%matplotlib inline\n",
    "from subprocess import check_output\n",
    "from wordcloud import WordCloud, STOPWORDS\n",
    "\n",
    "# Set Plot Theme\n",
    "sns.palplot(sns.color_palette([\n",
    "    \"#30a2da\",\n",
    "    \"#fc4f30\",\n",
    "    \"#e5ae38\",\n",
    "    \"#6d904f\",\n",
    "    \"#8b8b8b\",\n",
    "])\n",
    "plt.style.use('fivethirtyeight')\n",
    "\n",
    "# Pre-processing\n",
    "import string\n",
    "from nltk.tokenize import RegexpTokenizer\n",
    "from nltk.corpus import stopwords\n",
    "import re\n",
    "from nltk.stem import PorterStemmer\n",
    "\n",
    "# Modelling\n",
    "import statsmodels.api as sm\n",
    "from nltk.sentiment.vader import SentimentIntensityAnalyzer\n",
    "from nltk.sentiment.util import *\n",
    "from collections import Counter\n",
    "from gensim.models import word2vec\n",
    "\n",
    "# Warnings\n",
    "import warnings\n",
    "warnings.filterwarnings('ignore')"
   ]
  },
  {
   "cell_type": "code",
   "execution_count": 63,
   "metadata": {},
   "outputs": [],
   "source": [
    "import matplotlib.pylab as pylab\n",
    "params = {'legend.fontsize': 'x-large',\n",
    "          'figure.figsize': (15,5),\n",
    "         'axes.labelsize': 'x-large',\n",
    "         'axes.titlesize':'x-large',\n",
    "         'xtick.labelsize':'x-large',\n",
    "         'ytick.labelsize':'x-large'}\n",
    "pylab.rcParams.update(params)"
   ]
  },
  {
   "cell_type": "markdown",
   "metadata": {},
   "source": [
    "## <font color=blue> Task 1.2 Reading and Exploring the Data"
   ]
  },
  {
   "cell_type": "code",
   "execution_count": 64,
   "metadata": {},
   "outputs": [],
   "source": [
    "\n",
    "os.chdir(\"E:/insofe/PH.D/PHD_ML\")\n"
   ]
  },
  {
   "cell_type": "code",
   "execution_count": 65,
   "metadata": {},
   "outputs": [],
   "source": [
    "hotels = pd.read_csv(\"Train-1554810061973.csv\", parse_dates=[3])\n"
   ]
  },
  {
   "cell_type": "markdown",
   "metadata": {},
   "source": [
    "While reading the date I have provided parse_dates for the conversion of Date column to datetime format\n"
   ]
  },
  {
   "cell_type": "code",
   "execution_count": 66,
   "metadata": {},
   "outputs": [
    {
     "data": {
      "text/html": [
       "<div>\n",
       "<style scoped>\n",
       "    .dataframe tbody tr th:only-of-type {\n",
       "        vertical-align: middle;\n",
       "    }\n",
       "\n",
       "    .dataframe tbody tr th {\n",
       "        vertical-align: top;\n",
       "    }\n",
       "\n",
       "    .dataframe thead th {\n",
       "        text-align: right;\n",
       "    }\n",
       "</style>\n",
       "<table border=\"1\" class=\"dataframe\">\n",
       "  <thead>\n",
       "    <tr style=\"text-align: right;\">\n",
       "      <th></th>\n",
       "      <th>Reviewid</th>\n",
       "      <th>Hotelid</th>\n",
       "      <th>userid</th>\n",
       "      <th>Date</th>\n",
       "      <th>reviewtext</th>\n",
       "      <th>Sentiment</th>\n",
       "    </tr>\n",
       "  </thead>\n",
       "  <tbody>\n",
       "    <tr>\n",
       "      <th>0</th>\n",
       "      <td>Review_1</td>\n",
       "      <td>hotel_101</td>\n",
       "      <td>hotel_1608</td>\n",
       "      <td>2007-11-16</td>\n",
       "      <td>Nice Marriot       View of my king bed room</td>\n",
       "      <td>good</td>\n",
       "    </tr>\n",
       "    <tr>\n",
       "      <th>1</th>\n",
       "      <td>Review_2</td>\n",
       "      <td>hotel_101</td>\n",
       "      <td>hotel_6939</td>\n",
       "      <td>2007-10-30</td>\n",
       "      <td>Good hotel, charges for internet access The Marriott Airport Seattle is a reasonable choice in the Sea-Tac area. I paid about $189 per night. The shuttle is generally quick to and from the airport and I encourage its use rather taxi service which can be very spotty in Seattle. My room was in the second floor but in the back of the hotel such that I had a very long walk no matter which way I took to the room. The interior is nice and check in was very quick.Breakfast was good in the restauran...</td>\n",
       "      <td>good</td>\n",
       "    </tr>\n",
       "    <tr>\n",
       "      <th>2</th>\n",
       "      <td>Review_3</td>\n",
       "      <td>hotel_101</td>\n",
       "      <td>hotel_3976</td>\n",
       "      <td>2007-10-12</td>\n",
       "      <td>Small but adequate rooms If you have an early morning flight to catch, this is a good choice as it is right at the airport. It has been recently renovated so the rooms are new and clean. The room service was fast and efficient and the food was good. The negatives were that our room was very small and the bathroom was the smallest I've encountered in many years. Hardly room to turn around and I'm a small person. However, the countertops were granite, which was nice. Also there is only one ele...</td>\n",
       "      <td>good</td>\n",
       "    </tr>\n",
       "    <tr>\n",
       "      <th>3</th>\n",
       "      <td>Review_4</td>\n",
       "      <td>hotel_101</td>\n",
       "      <td>hotel_2851</td>\n",
       "      <td>2007-08-31</td>\n",
       "      <td>Better than average, some noisy rooms I have stayed at this hotel a few times inthe last several months. The first stay was not the best, but the subsequent ones got better, and they have obviously taken some of the notes on the comment cards seriously.The hotel is located near SeaTac with a frequent shuttle. There is a tower, 8-9 floors high, and an atrium area that is about 3-4 floors high. Note, the tower rooms really have no view although some are advertised as having Mt. Rainier views. ...</td>\n",
       "      <td>good</td>\n",
       "    </tr>\n",
       "    <tr>\n",
       "      <th>4</th>\n",
       "      <td>Review_5</td>\n",
       "      <td>hotel_101</td>\n",
       "      <td>hotel_7897</td>\n",
       "      <td>2007-07-18</td>\n",
       "      <td>Ordinary Although it is highly rated in these reviews, and you pay a premium price compared with other airport hotels, there is nothing special about this hotel other than its proximity to SEATAC. If you are thinking of staying here, pay attention to the Trip Advisor comments about the hideous views of HVAC equipment from the windows on one whole side of the hotel. Although my room was on the top floor of the building, the view looked like an industrial site, just because of all the equipmen...</td>\n",
       "      <td>bad</td>\n",
       "    </tr>\n",
       "  </tbody>\n",
       "</table>\n",
       "</div>"
      ],
      "text/plain": [
       "   Reviewid    Hotelid      userid       Date  \\\n",
       "0  Review_1  hotel_101  hotel_1608 2007-11-16   \n",
       "1  Review_2  hotel_101  hotel_6939 2007-10-30   \n",
       "2  Review_3  hotel_101  hotel_3976 2007-10-12   \n",
       "3  Review_4  hotel_101  hotel_2851 2007-08-31   \n",
       "4  Review_5  hotel_101  hotel_7897 2007-07-18   \n",
       "\n",
       "                                                                                                                                                                                                                                                                                                                                                                                                                                                                                                            reviewtext  \\\n",
       "0                                                                                                                                                                                                                                                                                                                                                                                                                                                                          Nice Marriot       View of my king bed room   \n",
       "1  Good hotel, charges for internet access The Marriott Airport Seattle is a reasonable choice in the Sea-Tac area. I paid about $189 per night. The shuttle is generally quick to and from the airport and I encourage its use rather taxi service which can be very spotty in Seattle. My room was in the second floor but in the back of the hotel such that I had a very long walk no matter which way I took to the room. The interior is nice and check in was very quick.Breakfast was good in the restauran...   \n",
       "2  Small but adequate rooms If you have an early morning flight to catch, this is a good choice as it is right at the airport. It has been recently renovated so the rooms are new and clean. The room service was fast and efficient and the food was good. The negatives were that our room was very small and the bathroom was the smallest I've encountered in many years. Hardly room to turn around and I'm a small person. However, the countertops were granite, which was nice. Also there is only one ele...   \n",
       "3  Better than average, some noisy rooms I have stayed at this hotel a few times inthe last several months. The first stay was not the best, but the subsequent ones got better, and they have obviously taken some of the notes on the comment cards seriously.The hotel is located near SeaTac with a frequent shuttle. There is a tower, 8-9 floors high, and an atrium area that is about 3-4 floors high. Note, the tower rooms really have no view although some are advertised as having Mt. Rainier views. ...   \n",
       "4  Ordinary Although it is highly rated in these reviews, and you pay a premium price compared with other airport hotels, there is nothing special about this hotel other than its proximity to SEATAC. If you are thinking of staying here, pay attention to the Trip Advisor comments about the hideous views of HVAC equipment from the windows on one whole side of the hotel. Although my room was on the top floor of the building, the view looked like an industrial site, just because of all the equipmen...   \n",
       "\n",
       "  Sentiment  \n",
       "0      good  \n",
       "1      good  \n",
       "2      good  \n",
       "3      good  \n",
       "4       bad  "
      ]
     },
     "execution_count": 66,
     "metadata": {},
     "output_type": "execute_result"
    }
   ],
   "source": [
    "hotels.head()"
   ]
  },
  {
   "cell_type": "code",
   "execution_count": 67,
   "metadata": {},
   "outputs": [
    {
     "data": {
      "text/html": [
       "<div>\n",
       "<style scoped>\n",
       "    .dataframe tbody tr th:only-of-type {\n",
       "        vertical-align: middle;\n",
       "    }\n",
       "\n",
       "    .dataframe tbody tr th {\n",
       "        vertical-align: top;\n",
       "    }\n",
       "\n",
       "    .dataframe thead th {\n",
       "        text-align: right;\n",
       "    }\n",
       "</style>\n",
       "<table border=\"1\" class=\"dataframe\">\n",
       "  <thead>\n",
       "    <tr style=\"text-align: right;\">\n",
       "      <th></th>\n",
       "      <th>Reviewid</th>\n",
       "      <th>Hotelid</th>\n",
       "      <th>userid</th>\n",
       "      <th>Date</th>\n",
       "      <th>reviewtext</th>\n",
       "      <th>Sentiment</th>\n",
       "    </tr>\n",
       "  </thead>\n",
       "  <tbody>\n",
       "    <tr>\n",
       "      <th>6282</th>\n",
       "      <td>Review_6283</td>\n",
       "      <td>hotel_200</td>\n",
       "      <td>hotel_10272</td>\n",
       "      <td>2004-07-31</td>\n",
       "      <td>A Very Nice Boutique Hotel Had a recent stay in NYC and stayed in one of their upscale suites. The rooms were clean and the amenities nice. One of the elevators was not working during my stay, so it took forever to get up and down to the lobby. Also requested a bucket of ice which never arrived from room service. The continental breakfast w/ juices was quite enjoyable. Would recommend with some reservations.</td>\n",
       "      <td>good</td>\n",
       "    </tr>\n",
       "    <tr>\n",
       "      <th>6283</th>\n",
       "      <td>Review_6284</td>\n",
       "      <td>hotel_200</td>\n",
       "      <td>hotel_1120</td>\n",
       "      <td>2004-07-16</td>\n",
       "      <td>My Home in NYC I happened upon the Giraffe in 2001. Since then I (alone or with my wife) have stayed at this beautiful hotel about ten times. Unless omething beyond my control prevents me from taking a room at the Giraffe, this is my home in NYC. When you see the Giraffe I am confident that you will understand my loyalty. The common areas --the lobby (that also serves as the breakfast room in the morning and the location for wine and cheese in the evening (with a piano playeras a bonus)) and...</td>\n",
       "      <td>excellent</td>\n",
       "    </tr>\n",
       "    <tr>\n",
       "      <th>6284</th>\n",
       "      <td>Review_6285</td>\n",
       "      <td>hotel_200</td>\n",
       "      <td>hotel_7086</td>\n",
       "      <td>2004-07-08</td>\n",
       "      <td>Fantastic New York Hotel! My husband and I don't have to stay in New York hotels due to my in-laws nice apartment - however this past weekend it so happened there was no room at that inn so we tried Hotel Giraffe because of the reviews we read on trip advisor. And I'm happy to say our experience was really great! The room are large and extremely clean especially for New York City hotels (we stayed at the Peninsula recently and it wasn't as nice unless you got a very pricey deluxe room). The ...</td>\n",
       "      <td>excellent</td>\n",
       "    </tr>\n",
       "    <tr>\n",
       "      <th>6285</th>\n",
       "      <td>Review_6286</td>\n",
       "      <td>hotel_200</td>\n",
       "      <td>hotel_7909</td>\n",
       "      <td>2004-06-18</td>\n",
       "      <td>It's our new favorite hotel!! After staying at many New york City Hotels-- including grand old and boutique-- this was by far the best, Our one bedroom suite was spacious for NYC...beautiful decor with a balcony! The staff was consistently friendly, helpful and professional, from reservations to turn-down service. The complimentary food and beverage offerings went beyond the norm as well. Location was great-- and QUIET!! It's the only place we'll stay from now on.</td>\n",
       "      <td>excellent</td>\n",
       "    </tr>\n",
       "    <tr>\n",
       "      <th>6286</th>\n",
       "      <td>Review_6287</td>\n",
       "      <td>hotel_200</td>\n",
       "      <td>hotel_4472</td>\n",
       "      <td>2004-05-18</td>\n",
       "      <td>Terrific Hotel in the Union Square/Grammercy Park Area The Hotel Giraffe is a very, very good hotel in an area where there are relatively few hotels. The location was just about perfect for my visit--I needed to be near my friends @ the W Union Square. The hotel is immaculately maintained. The lobby is extremely spacious for a relatively small hotel, and the decor/furninshings are tasteful, comfortable, and welcoming. The staff are, for the most part, excellent, though I did encounter one be...</td>\n",
       "      <td>excellent</td>\n",
       "    </tr>\n",
       "  </tbody>\n",
       "</table>\n",
       "</div>"
      ],
      "text/plain": [
       "         Reviewid    Hotelid       userid       Date  \\\n",
       "6282  Review_6283  hotel_200  hotel_10272 2004-07-31   \n",
       "6283  Review_6284  hotel_200   hotel_1120 2004-07-16   \n",
       "6284  Review_6285  hotel_200   hotel_7086 2004-07-08   \n",
       "6285  Review_6286  hotel_200   hotel_7909 2004-06-18   \n",
       "6286  Review_6287  hotel_200   hotel_4472 2004-05-18   \n",
       "\n",
       "                                                                                                                                                                                                                                                                                                                                                                                                                                                                                                               reviewtext  \\\n",
       "6282                                                                                          A Very Nice Boutique Hotel Had a recent stay in NYC and stayed in one of their upscale suites. The rooms were clean and the amenities nice. One of the elevators was not working during my stay, so it took forever to get up and down to the lobby. Also requested a bucket of ice which never arrived from room service. The continental breakfast w/ juices was quite enjoyable. Would recommend with some reservations.   \n",
       "6283  My Home in NYC I happened upon the Giraffe in 2001. Since then I (alone or with my wife) have stayed at this beautiful hotel about ten times. Unless omething beyond my control prevents me from taking a room at the Giraffe, this is my home in NYC. When you see the Giraffe I am confident that you will understand my loyalty. The common areas --the lobby (that also serves as the breakfast room in the morning and the location for wine and cheese in the evening (with a piano playeras a bonus)) and...   \n",
       "6284  Fantastic New York Hotel! My husband and I don't have to stay in New York hotels due to my in-laws nice apartment - however this past weekend it so happened there was no room at that inn so we tried Hotel Giraffe because of the reviews we read on trip advisor. And I'm happy to say our experience was really great! The room are large and extremely clean especially for New York City hotels (we stayed at the Peninsula recently and it wasn't as nice unless you got a very pricey deluxe room). The ...   \n",
       "6285                                 It's our new favorite hotel!! After staying at many New york City Hotels-- including grand old and boutique-- this was by far the best, Our one bedroom suite was spacious for NYC...beautiful decor with a balcony! The staff was consistently friendly, helpful and professional, from reservations to turn-down service. The complimentary food and beverage offerings went beyond the norm as well. Location was great-- and QUIET!! It's the only place we'll stay from now on.   \n",
       "6286  Terrific Hotel in the Union Square/Grammercy Park Area The Hotel Giraffe is a very, very good hotel in an area where there are relatively few hotels. The location was just about perfect for my visit--I needed to be near my friends @ the W Union Square. The hotel is immaculately maintained. The lobby is extremely spacious for a relatively small hotel, and the decor/furninshings are tasteful, comfortable, and welcoming. The staff are, for the most part, excellent, though I did encounter one be...   \n",
       "\n",
       "      Sentiment  \n",
       "6282       good  \n",
       "6283  excellent  \n",
       "6284  excellent  \n",
       "6285  excellent  \n",
       "6286  excellent  "
      ]
     },
     "execution_count": 67,
     "metadata": {},
     "output_type": "execute_result"
    }
   ],
   "source": [
    "hotels.tail()"
   ]
  },
  {
   "cell_type": "code",
   "execution_count": 68,
   "metadata": {},
   "outputs": [
    {
     "name": "stdout",
     "output_type": "stream",
     "text": [
      "thre train data has 6287 rows and 6 coumns \n"
     ]
    }
   ],
   "source": [
    "print(\"thre train data has {0} rows and {1} coumns \".format(hotels.shape[0], hotels.shape[1]))"
   ]
  },
  {
   "cell_type": "markdown",
   "metadata": {},
   "source": [
    "Attributes given are Hotelid, Reviewid, userid, Date, reviewtext and the corresponding Sentiment"
   ]
  },
  {
   "cell_type": "code",
   "execution_count": 69,
   "metadata": {},
   "outputs": [
    {
     "data": {
      "text/html": [
       "<div>\n",
       "<style scoped>\n",
       "    .dataframe tbody tr th:only-of-type {\n",
       "        vertical-align: middle;\n",
       "    }\n",
       "\n",
       "    .dataframe tbody tr th {\n",
       "        vertical-align: top;\n",
       "    }\n",
       "\n",
       "    .dataframe thead th {\n",
       "        text-align: right;\n",
       "    }\n",
       "</style>\n",
       "<table border=\"1\" class=\"dataframe\">\n",
       "  <thead>\n",
       "    <tr style=\"text-align: right;\">\n",
       "      <th></th>\n",
       "      <th>Reviewid</th>\n",
       "      <th>Hotelid</th>\n",
       "      <th>userid</th>\n",
       "      <th>Date</th>\n",
       "      <th>reviewtext</th>\n",
       "      <th>Sentiment</th>\n",
       "    </tr>\n",
       "  </thead>\n",
       "  <tbody>\n",
       "    <tr>\n",
       "      <th>count</th>\n",
       "      <td>6287</td>\n",
       "      <td>6287</td>\n",
       "      <td>6287</td>\n",
       "      <td>6287</td>\n",
       "      <td>6287</td>\n",
       "      <td>6287</td>\n",
       "    </tr>\n",
       "    <tr>\n",
       "      <th>unique</th>\n",
       "      <td>6287</td>\n",
       "      <td>100</td>\n",
       "      <td>6100</td>\n",
       "      <td>1310</td>\n",
       "      <td>6287</td>\n",
       "      <td>3</td>\n",
       "    </tr>\n",
       "    <tr>\n",
       "      <th>top</th>\n",
       "      <td>Review_2320</td>\n",
       "      <td>hotel_188</td>\n",
       "      <td>hotel_4370</td>\n",
       "      <td>2007-05-29 00:00:00</td>\n",
       "      <td>loved this hotel loved this classy hotel. lovely lobby, beautiful rooms, pleasant staff. Didn't eat here but located short stroll from upmarket outdoor mall with nice restaurants/cafe. Valet parking good service but pricey. When returned to UK appeared to have been charged the wrong amount to our credit card - tried to sort out by email but are insisting we write to them if we want a copy of our account -not hugely convenient when you live on the other side of the world. hope to get this sor...</td>\n",
       "      <td>good</td>\n",
       "    </tr>\n",
       "    <tr>\n",
       "      <th>freq</th>\n",
       "      <td>1</td>\n",
       "      <td>521</td>\n",
       "      <td>4</td>\n",
       "      <td>21</td>\n",
       "      <td>1</td>\n",
       "      <td>3213</td>\n",
       "    </tr>\n",
       "    <tr>\n",
       "      <th>first</th>\n",
       "      <td>NaN</td>\n",
       "      <td>NaN</td>\n",
       "      <td>NaN</td>\n",
       "      <td>2004-01-04 00:00:00</td>\n",
       "      <td>NaN</td>\n",
       "      <td>NaN</td>\n",
       "    </tr>\n",
       "    <tr>\n",
       "      <th>last</th>\n",
       "      <td>NaN</td>\n",
       "      <td>NaN</td>\n",
       "      <td>NaN</td>\n",
       "      <td>2007-12-31 00:00:00</td>\n",
       "      <td>NaN</td>\n",
       "      <td>NaN</td>\n",
       "    </tr>\n",
       "  </tbody>\n",
       "</table>\n",
       "</div>"
      ],
      "text/plain": [
       "           Reviewid    Hotelid      userid                 Date  \\\n",
       "count          6287       6287        6287                 6287   \n",
       "unique         6287        100        6100                 1310   \n",
       "top     Review_2320  hotel_188  hotel_4370  2007-05-29 00:00:00   \n",
       "freq              1        521           4                   21   \n",
       "first           NaN        NaN         NaN  2004-01-04 00:00:00   \n",
       "last            NaN        NaN         NaN  2007-12-31 00:00:00   \n",
       "\n",
       "                                                                                                                                                                                                                                                                                                                                                                                                                                                                                                                 reviewtext  \\\n",
       "count                                                                                                                                                                                                                                                                                                                                                                                                                                                                                                                  6287   \n",
       "unique                                                                                                                                                                                                                                                                                                                                                                                                                                                                                                                 6287   \n",
       "top     loved this hotel loved this classy hotel. lovely lobby, beautiful rooms, pleasant staff. Didn't eat here but located short stroll from upmarket outdoor mall with nice restaurants/cafe. Valet parking good service but pricey. When returned to UK appeared to have been charged the wrong amount to our credit card - tried to sort out by email but are insisting we write to them if we want a copy of our account -not hugely convenient when you live on the other side of the world. hope to get this sor...   \n",
       "freq                                                                                                                                                                                                                                                                                                                                                                                                                                                                                                                      1   \n",
       "first                                                                                                                                                                                                                                                                                                                                                                                                                                                                                                                   NaN   \n",
       "last                                                                                                                                                                                                                                                                                                                                                                                                                                                                                                                    NaN   \n",
       "\n",
       "       Sentiment  \n",
       "count       6287  \n",
       "unique         3  \n",
       "top         good  \n",
       "freq        3213  \n",
       "first        NaN  \n",
       "last         NaN  "
      ]
     },
     "execution_count": 69,
     "metadata": {},
     "output_type": "execute_result"
    }
   ],
   "source": [
    "hotels.describe(include='all')"
   ]
  },
  {
   "cell_type": "markdown",
   "metadata": {},
   "source": [
    "##### Setting Max Column Width 500 for better redading reviewtext"
   ]
  },
  {
   "cell_type": "code",
   "execution_count": 70,
   "metadata": {},
   "outputs": [],
   "source": [
    "pd.set_option('max_colwidth', 500)"
   ]
  },
  {
   "cell_type": "code",
   "execution_count": 71,
   "metadata": {},
   "outputs": [
    {
     "data": {
      "text/html": [
       "<div>\n",
       "<style scoped>\n",
       "    .dataframe tbody tr th:only-of-type {\n",
       "        vertical-align: middle;\n",
       "    }\n",
       "\n",
       "    .dataframe tbody tr th {\n",
       "        vertical-align: top;\n",
       "    }\n",
       "\n",
       "    .dataframe thead th {\n",
       "        text-align: right;\n",
       "    }\n",
       "</style>\n",
       "<table border=\"1\" class=\"dataframe\">\n",
       "  <thead>\n",
       "    <tr style=\"text-align: right;\">\n",
       "      <th></th>\n",
       "      <th>Reviewid</th>\n",
       "      <th>Hotelid</th>\n",
       "      <th>userid</th>\n",
       "      <th>Date</th>\n",
       "      <th>reviewtext</th>\n",
       "      <th>Sentiment</th>\n",
       "    </tr>\n",
       "  </thead>\n",
       "  <tbody>\n",
       "    <tr>\n",
       "      <th>6285</th>\n",
       "      <td>Review_6286</td>\n",
       "      <td>hotel_200</td>\n",
       "      <td>hotel_7909</td>\n",
       "      <td>2004-06-18</td>\n",
       "      <td>It's our new favorite hotel!! After staying at many New york City Hotels-- including grand old and boutique-- this was by far the best, Our one bedroom suite was spacious for NYC...beautiful decor with a balcony! The staff was consistently friendly, helpful and professional, from reservations to turn-down service. The complimentary food and beverage offerings went beyond the norm as well. Location was great-- and QUIET!! It's the only place we'll stay from now on.</td>\n",
       "      <td>excellent</td>\n",
       "    </tr>\n",
       "    <tr>\n",
       "      <th>6286</th>\n",
       "      <td>Review_6287</td>\n",
       "      <td>hotel_200</td>\n",
       "      <td>hotel_4472</td>\n",
       "      <td>2004-05-18</td>\n",
       "      <td>Terrific Hotel in the Union Square/Grammercy Park Area The Hotel Giraffe is a very, very good hotel in an area where there are relatively few hotels. The location was just about perfect for my visit--I needed to be near my friends @ the W Union Square. The hotel is immaculately maintained. The lobby is extremely spacious for a relatively small hotel, and the decor/furninshings are tasteful, comfortable, and welcoming. The staff are, for the most part, excellent, though I did encounter one be...</td>\n",
       "      <td>excellent</td>\n",
       "    </tr>\n",
       "  </tbody>\n",
       "</table>\n",
       "</div>"
      ],
      "text/plain": [
       "         Reviewid    Hotelid      userid       Date  \\\n",
       "6285  Review_6286  hotel_200  hotel_7909 2004-06-18   \n",
       "6286  Review_6287  hotel_200  hotel_4472 2004-05-18   \n",
       "\n",
       "                                                                                                                                                                                                                                                                                                                                                                                                                                                                                                               reviewtext  \\\n",
       "6285                                 It's our new favorite hotel!! After staying at many New york City Hotels-- including grand old and boutique-- this was by far the best, Our one bedroom suite was spacious for NYC...beautiful decor with a balcony! The staff was consistently friendly, helpful and professional, from reservations to turn-down service. The complimentary food and beverage offerings went beyond the norm as well. Location was great-- and QUIET!! It's the only place we'll stay from now on.   \n",
       "6286  Terrific Hotel in the Union Square/Grammercy Park Area The Hotel Giraffe is a very, very good hotel in an area where there are relatively few hotels. The location was just about perfect for my visit--I needed to be near my friends @ the W Union Square. The hotel is immaculately maintained. The lobby is extremely spacious for a relatively small hotel, and the decor/furninshings are tasteful, comfortable, and welcoming. The staff are, for the most part, excellent, though I did encounter one be...   \n",
       "\n",
       "      Sentiment  \n",
       "6285  excellent  \n",
       "6286  excellent  "
      ]
     },
     "execution_count": 71,
     "metadata": {},
     "output_type": "execute_result"
    }
   ],
   "source": [
    "hotels.tail(2)"
   ]
  },
  {
   "cell_type": "code",
   "execution_count": 72,
   "metadata": {},
   "outputs": [
    {
     "data": {
      "text/html": [
       "<div>\n",
       "<style scoped>\n",
       "    .dataframe tbody tr th:only-of-type {\n",
       "        vertical-align: middle;\n",
       "    }\n",
       "\n",
       "    .dataframe tbody tr th {\n",
       "        vertical-align: top;\n",
       "    }\n",
       "\n",
       "    .dataframe thead th {\n",
       "        text-align: right;\n",
       "    }\n",
       "</style>\n",
       "<table border=\"1\" class=\"dataframe\">\n",
       "  <thead>\n",
       "    <tr style=\"text-align: right;\">\n",
       "      <th></th>\n",
       "      <th>Column_type</th>\n",
       "      <th>Count</th>\n",
       "    </tr>\n",
       "  </thead>\n",
       "  <tbody>\n",
       "    <tr>\n",
       "      <th>0</th>\n",
       "      <td>datetime64[ns]</td>\n",
       "      <td>1</td>\n",
       "    </tr>\n",
       "    <tr>\n",
       "      <th>1</th>\n",
       "      <td>object</td>\n",
       "      <td>5</td>\n",
       "    </tr>\n",
       "  </tbody>\n",
       "</table>\n",
       "</div>"
      ],
      "text/plain": [
       "      Column_type  Count\n",
       "0  datetime64[ns]      1\n",
       "1          object      5"
      ]
     },
     "execution_count": 72,
     "metadata": {},
     "output_type": "execute_result"
    }
   ],
   "source": [
    "dtype_df = hotels.dtypes.reset_index()\n",
    "dtype_df.columns = [\"Count\", \"Column_type\"]\n",
    "dtype_df\n",
    "dtype_df.groupby(\"Column_type\").aggregate('count').reset_index()"
   ]
  },
  {
   "cell_type": "markdown",
   "metadata": {},
   "source": [
    "#### There are 6 attributes, 5 are object type and 1 is of Date type"
   ]
  },
  {
   "cell_type": "markdown",
   "metadata": {},
   "source": [
    "# Checking for Missing Values"
   ]
  },
  {
   "cell_type": "code",
   "execution_count": 73,
   "metadata": {},
   "outputs": [],
   "source": [
    "# Function to Calculate missing values by Column\n",
    "def missing_values_table(df):\n",
    "    # Total Missing Values\n",
    "    mis_val = df.isnull().sum()\n",
    "    \n",
    "    # Percentage of Missing values\n",
    "    mis_val_percent = 100 * df.isnull().sum()/len(df)\n",
    "    \n",
    "    # make the table with the results\n",
    "    mis_val_table = pd.concat([mis_val, mis_val_percent], axis = 1)\n",
    "    \n",
    "    # Rename the columns\n",
    "    mis_val_table_ren_columns = mis_val_table.rename(columns = {0 : 'Missing Values', 1 : '% of Total Values'})\n",
    "    \n",
    "    # Sort the table by % missing values on descending\n",
    "    mis_val_table_ren_columns = mis_val_table_ren_columns[mis_val_table_ren_columns.iloc[:,1] != 0].sort_values(\n",
    "        '% of Total Values', ascending = False).round(1)\n",
    "    \n",
    "    # Print summary of information\n",
    "    print(\"Your seleted dataframe has \" + str(df.shape[1]) + \" columns.\\n\"\n",
    "         \"There are \" + str(mis_val_table_ren_columns.shape[0]) + \" Columns that have missing values\")\n",
    "    \n",
    "    # Return the datafarem with missing information\n",
    "    return mis_val_table_ren_columns\n"
   ]
  },
  {
   "cell_type": "code",
   "execution_count": 74,
   "metadata": {},
   "outputs": [
    {
     "name": "stdout",
     "output_type": "stream",
     "text": [
      "Your seleted dataframe has 6 columns.\n",
      "There are 0 Columns that have missing values\n"
     ]
    },
    {
     "data": {
      "text/html": [
       "<div>\n",
       "<style scoped>\n",
       "    .dataframe tbody tr th:only-of-type {\n",
       "        vertical-align: middle;\n",
       "    }\n",
       "\n",
       "    .dataframe tbody tr th {\n",
       "        vertical-align: top;\n",
       "    }\n",
       "\n",
       "    .dataframe thead th {\n",
       "        text-align: right;\n",
       "    }\n",
       "</style>\n",
       "<table border=\"1\" class=\"dataframe\">\n",
       "  <thead>\n",
       "    <tr style=\"text-align: right;\">\n",
       "      <th></th>\n",
       "      <th>Missing Values</th>\n",
       "      <th>% of Total Values</th>\n",
       "    </tr>\n",
       "  </thead>\n",
       "  <tbody>\n",
       "  </tbody>\n",
       "</table>\n",
       "</div>"
      ],
      "text/plain": [
       "Empty DataFrame\n",
       "Columns: [Missing Values, % of Total Values]\n",
       "Index: []"
      ]
     },
     "execution_count": 74,
     "metadata": {},
     "output_type": "execute_result"
    }
   ],
   "source": [
    "missing_values_table(hotels)"
   ]
  },
  {
   "cell_type": "markdown",
   "metadata": {},
   "source": [
    "# There are no missing values in the Given dataset"
   ]
  },
  {
   "cell_type": "markdown",
   "metadata": {},
   "source": [
    "# Checking the Unique Values count"
   ]
  },
  {
   "cell_type": "code",
   "execution_count": 75,
   "metadata": {},
   "outputs": [
    {
     "data": {
      "text/html": [
       "<div>\n",
       "<style scoped>\n",
       "    .dataframe tbody tr th:only-of-type {\n",
       "        vertical-align: middle;\n",
       "    }\n",
       "\n",
       "    .dataframe tbody tr th {\n",
       "        vertical-align: top;\n",
       "    }\n",
       "\n",
       "    .dataframe thead th {\n",
       "        text-align: right;\n",
       "    }\n",
       "</style>\n",
       "<table border=\"1\" class=\"dataframe\">\n",
       "  <thead>\n",
       "    <tr style=\"text-align: right;\">\n",
       "      <th></th>\n",
       "      <th>Column_Name</th>\n",
       "      <th>Num_Unique</th>\n",
       "    </tr>\n",
       "  </thead>\n",
       "  <tbody>\n",
       "    <tr>\n",
       "      <th>5</th>\n",
       "      <td>Sentiment</td>\n",
       "      <td>3</td>\n",
       "    </tr>\n",
       "    <tr>\n",
       "      <th>1</th>\n",
       "      <td>Hotelid</td>\n",
       "      <td>100</td>\n",
       "    </tr>\n",
       "    <tr>\n",
       "      <th>3</th>\n",
       "      <td>Date</td>\n",
       "      <td>1310</td>\n",
       "    </tr>\n",
       "    <tr>\n",
       "      <th>2</th>\n",
       "      <td>userid</td>\n",
       "      <td>6100</td>\n",
       "    </tr>\n",
       "    <tr>\n",
       "      <th>0</th>\n",
       "      <td>Reviewid</td>\n",
       "      <td>6287</td>\n",
       "    </tr>\n",
       "    <tr>\n",
       "      <th>4</th>\n",
       "      <td>reviewtext</td>\n",
       "      <td>6287</td>\n",
       "    </tr>\n",
       "  </tbody>\n",
       "</table>\n",
       "</div>"
      ],
      "text/plain": [
       "  Column_Name  Num_Unique\n",
       "5   Sentiment           3\n",
       "1     Hotelid         100\n",
       "3        Date        1310\n",
       "2      userid        6100\n",
       "0    Reviewid        6287\n",
       "4  reviewtext        6287"
      ]
     },
     "execution_count": 75,
     "metadata": {},
     "output_type": "execute_result"
    }
   ],
   "source": [
    "unique_counts = pd.DataFrame.from_records([(col, hotels[col].nunique()) for col in hotels.columns], \n",
    "                    columns =['Column_Name', 'Num_Unique']).sort_values(by=['Num_Unique'])\n",
    "unique_counts"
   ]
  },
  {
   "cell_type": "markdown",
   "metadata": {},
   "source": [
    "### Target attribute Sentiment has 3 classes, Data is given for reviews of 100 Hotels, 6100 User ID's means there are few usersgiven ratings more than once. Reviewid and reviewtext are unique. Reviews date spread across 1310 days."
   ]
  },
  {
   "cell_type": "markdown",
   "metadata": {},
   "source": [
    "# Understanding the Distribution of Sentiment Class (Target Variable)"
   ]
  },
  {
   "cell_type": "code",
   "execution_count": 81,
   "metadata": {},
   "outputs": [
    {
     "name": "stdout",
     "output_type": "stream",
     "text": [
      "2.2.2\n",
      "0.9.0\n"
     ]
    }
   ],
   "source": [
    "import numpy as np\n",
    "import pandas as pd\n",
    "import matplotlib as mpl\n",
    "import matplotlib.pyplot as plt\n",
    "import seaborn as sns\n",
    "import warnings; warnings.filterwarnings(action='once')\n",
    "\n",
    "large = 22; med = 16; small = 12\n",
    "params = {'axes.titlesize': large,\n",
    "          'legend.fontsize': med,\n",
    "          'figure.figsize': (16, 10),\n",
    "          'axes.labelsize': med,\n",
    "          'axes.titlesize': med,\n",
    "          'xtick.labelsize': med,\n",
    "          'ytick.labelsize': med,\n",
    "          'figure.titlesize': large}\n",
    "plt.rcParams.update(params)\n",
    "plt.style.use('seaborn-whitegrid')\n",
    "sns.set_style(\"white\")\n",
    "%matplotlib inline\n",
    "\n",
    "# Version\n",
    "print(mpl.__version__)  #> 3.0.0\n",
    "print(sns.__version__)  #> 0.9.0\n",
    "\n",
    "\n"
   ]
  },
  {
   "cell_type": "code",
   "execution_count": 77,
   "metadata": {},
   "outputs": [
    {
     "data": {
      "text/plain": [
       "<matplotlib.axes._subplots.AxesSubplot at 0x29eeb006358>"
      ]
     },
     "execution_count": 77,
     "metadata": {},
     "output_type": "execute_result"
    },
    {
     "data": {
      "image/png": "[encoded data removed]",
      "text/plain": [
       "<Figure size 432x288 with 1 Axes>"
      ]
     },
     "metadata": {},
     "output_type": "display_data"
    }
   ],
   "source": [
    "hotels['Sentiment'].value_counts().plot.bar(title=\"Frequency Distribution of Sentiment Class\")"
   ]
  },
  {
   "cell_type": "markdown",
   "metadata": {},
   "source": [
    "### From the above Distribution given hotels are having 3000+ Good Ratings, nearly 2000 Excellent Ratings and about 1000 bad ratings. There seems to be no Data imbalance here\n"
   ]
  },
  {
   "cell_type": "markdown",
   "metadata": {},
   "source": [
    "## <font color=blue> Task 1.3 Feature Engineering With Date Column\n"
   ]
  },
  {
   "cell_type": "markdown",
   "metadata": {},
   "source": [
    "### <font color=blue> Just extracting Date column for the analysis"
   ]
  },
  {
   "cell_type": "code",
   "execution_count": 20,
   "metadata": {},
   "outputs": [],
   "source": [
    "dates = hotels['Date']"
   ]
  },
  {
   "cell_type": "code",
   "execution_count": 21,
   "metadata": {},
   "outputs": [
    {
     "data": {
      "text/plain": [
       "0   2007-11-16\n",
       "1   2007-10-30\n",
       "2   2007-10-12\n",
       "3   2007-08-31\n",
       "4   2007-07-18\n",
       "Name: Date, dtype: datetime64[ns]"
      ]
     },
     "execution_count": 21,
     "metadata": {},
     "output_type": "execute_result"
    }
   ],
   "source": [
    "dates.head()"
   ]
  },
  {
   "cell_type": "markdown",
   "metadata": {},
   "source": [
    "### Feature Engineering the Date and getting new values like quarter, month, week, day from it"
   ]
  },
  {
   "cell_type": "code",
   "execution_count": 22,
   "metadata": {},
   "outputs": [],
   "source": [
    "date_expanded = pd.DataFrame({'year' : dates.dt.year,\n",
    "                             'month' : dates.dt.month,\n",
    "                             'dayofmonth' : dates.dt.day,\n",
    "                             'dayofyear': dates.dt.dayofyear,\n",
    "                             \"week\" : dates.dt.week,\n",
    "                             \"weekofyear\" : dates.dt.weekofyear,\n",
    "                             \"dayofweek\" : dates.dt.dayofweek,\n",
    "                              \"weekday\" : dates.dt.weekday,\n",
    "                              \"quarter\" : dates.dt.quarter})"
   ]
  },
  {
   "cell_type": "code",
   "execution_count": 23,
   "metadata": {},
   "outputs": [
    {
     "data": {
      "text/html": [
       "<div>\n",
       "<style scoped>\n",
       "    .dataframe tbody tr th:only-of-type {\n",
       "        vertical-align: middle;\n",
       "    }\n",
       "\n",
       "    .dataframe tbody tr th {\n",
       "        vertical-align: top;\n",
       "    }\n",
       "\n",
       "    .dataframe thead th {\n",
       "        text-align: right;\n",
       "    }\n",
       "</style>\n",
       "<table border=\"1\" class=\"dataframe\">\n",
       "  <thead>\n",
       "    <tr style=\"text-align: right;\">\n",
       "      <th></th>\n",
       "      <th>year</th>\n",
       "      <th>month</th>\n",
       "      <th>dayofmonth</th>\n",
       "      <th>dayofyear</th>\n",
       "      <th>week</th>\n",
       "      <th>weekofyear</th>\n",
       "      <th>dayofweek</th>\n",
       "      <th>weekday</th>\n",
       "      <th>quarter</th>\n",
       "    </tr>\n",
       "  </thead>\n",
       "  <tbody>\n",
       "    <tr>\n",
       "      <th>0</th>\n",
       "      <td>2007</td>\n",
       "      <td>11</td>\n",
       "      <td>16</td>\n",
       "      <td>320</td>\n",
       "      <td>46</td>\n",
       "      <td>46</td>\n",
       "      <td>4</td>\n",
       "      <td>4</td>\n",
       "      <td>4</td>\n",
       "    </tr>\n",
       "    <tr>\n",
       "      <th>1</th>\n",
       "      <td>2007</td>\n",
       "      <td>10</td>\n",
       "      <td>30</td>\n",
       "      <td>303</td>\n",
       "      <td>44</td>\n",
       "      <td>44</td>\n",
       "      <td>1</td>\n",
       "      <td>1</td>\n",
       "      <td>4</td>\n",
       "    </tr>\n",
       "    <tr>\n",
       "      <th>2</th>\n",
       "      <td>2007</td>\n",
       "      <td>10</td>\n",
       "      <td>12</td>\n",
       "      <td>285</td>\n",
       "      <td>41</td>\n",
       "      <td>41</td>\n",
       "      <td>4</td>\n",
       "      <td>4</td>\n",
       "      <td>4</td>\n",
       "    </tr>\n",
       "    <tr>\n",
       "      <th>3</th>\n",
       "      <td>2007</td>\n",
       "      <td>8</td>\n",
       "      <td>31</td>\n",
       "      <td>243</td>\n",
       "      <td>35</td>\n",
       "      <td>35</td>\n",
       "      <td>4</td>\n",
       "      <td>4</td>\n",
       "      <td>3</td>\n",
       "    </tr>\n",
       "    <tr>\n",
       "      <th>4</th>\n",
       "      <td>2007</td>\n",
       "      <td>7</td>\n",
       "      <td>18</td>\n",
       "      <td>199</td>\n",
       "      <td>29</td>\n",
       "      <td>29</td>\n",
       "      <td>2</td>\n",
       "      <td>2</td>\n",
       "      <td>3</td>\n",
       "    </tr>\n",
       "  </tbody>\n",
       "</table>\n",
       "</div>"
      ],
      "text/plain": [
       "   year  month  dayofmonth  dayofyear  week  weekofyear  dayofweek  weekday  \\\n",
       "0  2007     11          16        320    46          46          4        4   \n",
       "1  2007     10          30        303    44          44          1        1   \n",
       "2  2007     10          12        285    41          41          4        4   \n",
       "3  2007      8          31        243    35          35          4        4   \n",
       "4  2007      7          18        199    29          29          2        2   \n",
       "\n",
       "   quarter  \n",
       "0        4  \n",
       "1        4  \n",
       "2        4  \n",
       "3        3  \n",
       "4        3  "
      ]
     },
     "execution_count": 23,
     "metadata": {},
     "output_type": "execute_result"
    }
   ],
   "source": [
    "date_expanded.head()"
   ]
  },
  {
   "cell_type": "code",
   "execution_count": 24,
   "metadata": {},
   "outputs": [],
   "source": [
    "date_expanded['quarter'] = date_expanded['quarter'].map({1 : \"Quarter1\", 2 : \"Quarter 2\", 3 : \"Quarter 3\", 4 : \"Quarter 4\" })\n",
    "date_expanded['month'] = date_expanded['month'].map({1 : \"Jan\", 2 : \"Feb\", 3 : \"Mar\", 4 : \"Apr\", 5 : \"May\", 6: \"Jun\", 7 : \"Jul\",\n",
    "                                8 : \"Aug\", 9 : \"Sep\", 10 : \"Oct\", 11 : \"Nov\", 12 : \"Dec\"})\n",
    "date_expanded['dayofweek'] = date_expanded['dayofweek'].map({1 : \"Monday\", 2 : \"Tuesday\", 3 : \"Wednesday\", 4 : \"Thursday\",\n",
    "                                            5 : \"Friday\", 6 : \"Saturday\", 7 : \"Sunday\"})\n"
   ]
  },
  {
   "cell_type": "code",
   "execution_count": 25,
   "metadata": {},
   "outputs": [
    {
     "data": {
      "text/html": [
       "<div>\n",
       "<style scoped>\n",
       "    .dataframe tbody tr th:only-of-type {\n",
       "        vertical-align: middle;\n",
       "    }\n",
       "\n",
       "    .dataframe tbody tr th {\n",
       "        vertical-align: top;\n",
       "    }\n",
       "\n",
       "    .dataframe thead th {\n",
       "        text-align: right;\n",
       "    }\n",
       "</style>\n",
       "<table border=\"1\" class=\"dataframe\">\n",
       "  <thead>\n",
       "    <tr style=\"text-align: right;\">\n",
       "      <th></th>\n",
       "      <th>year</th>\n",
       "      <th>month</th>\n",
       "      <th>dayofmonth</th>\n",
       "      <th>dayofyear</th>\n",
       "      <th>week</th>\n",
       "      <th>weekofyear</th>\n",
       "      <th>dayofweek</th>\n",
       "      <th>weekday</th>\n",
       "      <th>quarter</th>\n",
       "    </tr>\n",
       "  </thead>\n",
       "  <tbody>\n",
       "    <tr>\n",
       "      <th>0</th>\n",
       "      <td>2007</td>\n",
       "      <td>Nov</td>\n",
       "      <td>16</td>\n",
       "      <td>320</td>\n",
       "      <td>46</td>\n",
       "      <td>46</td>\n",
       "      <td>Thursday</td>\n",
       "      <td>4</td>\n",
       "      <td>Quarter 4</td>\n",
       "    </tr>\n",
       "    <tr>\n",
       "      <th>1</th>\n",
       "      <td>2007</td>\n",
       "      <td>Oct</td>\n",
       "      <td>30</td>\n",
       "      <td>303</td>\n",
       "      <td>44</td>\n",
       "      <td>44</td>\n",
       "      <td>Monday</td>\n",
       "      <td>1</td>\n",
       "      <td>Quarter 4</td>\n",
       "    </tr>\n",
       "    <tr>\n",
       "      <th>2</th>\n",
       "      <td>2007</td>\n",
       "      <td>Oct</td>\n",
       "      <td>12</td>\n",
       "      <td>285</td>\n",
       "      <td>41</td>\n",
       "      <td>41</td>\n",
       "      <td>Thursday</td>\n",
       "      <td>4</td>\n",
       "      <td>Quarter 4</td>\n",
       "    </tr>\n",
       "    <tr>\n",
       "      <th>3</th>\n",
       "      <td>2007</td>\n",
       "      <td>Aug</td>\n",
       "      <td>31</td>\n",
       "      <td>243</td>\n",
       "      <td>35</td>\n",
       "      <td>35</td>\n",
       "      <td>Thursday</td>\n",
       "      <td>4</td>\n",
       "      <td>Quarter 3</td>\n",
       "    </tr>\n",
       "    <tr>\n",
       "      <th>4</th>\n",
       "      <td>2007</td>\n",
       "      <td>Jul</td>\n",
       "      <td>18</td>\n",
       "      <td>199</td>\n",
       "      <td>29</td>\n",
       "      <td>29</td>\n",
       "      <td>Tuesday</td>\n",
       "      <td>2</td>\n",
       "      <td>Quarter 3</td>\n",
       "    </tr>\n",
       "  </tbody>\n",
       "</table>\n",
       "</div>"
      ],
      "text/plain": [
       "   year month  dayofmonth  dayofyear  week  weekofyear dayofweek  weekday  \\\n",
       "0  2007   Nov          16        320    46          46  Thursday        4   \n",
       "1  2007   Oct          30        303    44          44    Monday        1   \n",
       "2  2007   Oct          12        285    41          41  Thursday        4   \n",
       "3  2007   Aug          31        243    35          35  Thursday        4   \n",
       "4  2007   Jul          18        199    29          29   Tuesday        2   \n",
       "\n",
       "     quarter  \n",
       "0  Quarter 4  \n",
       "1  Quarter 4  \n",
       "2  Quarter 4  \n",
       "3  Quarter 3  \n",
       "4  Quarter 3  "
      ]
     },
     "execution_count": 25,
     "metadata": {},
     "output_type": "execute_result"
    }
   ],
   "source": [
    "date_expanded.head()"
   ]
  },
  {
   "cell_type": "markdown",
   "metadata": {},
   "source": [
    "## <font color=blue> Task 1.4 : Visualizing the trend of reviews over the time"
   ]
  },
  {
   "cell_type": "code",
   "execution_count": 26,
   "metadata": {},
   "outputs": [
    {
     "data": {
      "text/plain": [
       "<matplotlib.axes._subplots.AxesSubplot at 0x29ee95faa90>"
      ]
     },
     "execution_count": 26,
     "metadata": {},
     "output_type": "execute_result"
    },
    {
     "data": {
      "image/png": "[encoded data removed]",
      "text/plain": [
       "<Figure size 432x288 with 1 Axes>"
      ]
     },
     "metadata": {},
     "output_type": "display_data"
    }
   ],
   "source": [
    "date_expanded['year'].value_counts().plot.bar(title = \"No of Reviews given in each year\")"
   ]
  },
  {
   "cell_type": "markdown",
   "metadata": {},
   "source": [
    "### In the Year 2007 Reviews there are more no of reviews and 2004 is least. Reviews are in desceneding order from 2007 to 2004"
   ]
  },
  {
   "cell_type": "markdown",
   "metadata": {},
   "source": [
    "### Let us Look at No of Reviews given in each Quarter for all the years"
   ]
  },
  {
   "cell_type": "code",
   "execution_count": 27,
   "metadata": {},
   "outputs": [
    {
     "data": {
      "text/plain": [
       "<matplotlib.axes._subplots.AxesSubplot at 0x29eea622f60>"
      ]
     },
     "execution_count": 27,
     "metadata": {},
     "output_type": "execute_result"
    },
    {
     "data": {
      "image/png": "[encoded data removed]",
      "text/plain": [
       "<Figure size 432x288 with 1 Axes>"
      ]
     },
     "metadata": {},
     "output_type": "display_data"
    }
   ],
   "source": [
    "date_expanded['quarter'].value_counts().plot.bar(title = 'Overall Reviews in Each Quarter')"
   ]
  },
  {
   "cell_type": "markdown",
   "metadata": {},
   "source": [
    "### Quarter 3 has more no of reviews means more visit to hotel, and Quater 1 has less no of reviews"
   ]
  },
  {
   "cell_type": "code",
   "execution_count": 28,
   "metadata": {},
   "outputs": [
    {
     "data": {
      "text/plain": [
       "<matplotlib.axes._subplots.AxesSubplot at 0x29eea672320>"
      ]
     },
     "execution_count": 28,
     "metadata": {},
     "output_type": "execute_result"
    },
    {
     "data": {
      "image/png": "[encoded data removed]",
      "text/plain": [
       "<Figure size 432x288 with 1 Axes>"
      ]
     },
     "metadata": {},
     "output_type": "display_data"
    }
   ],
   "source": [
    "date_expanded['month'].value_counts().plot.bar(title = \"Over all Reviews in each Month\")"
   ]
  },
  {
   "cell_type": "markdown",
   "metadata": {},
   "source": [
    "### August month has more number of reviews followed by Ocotober where as January and Frebruary has the least no of reviews"
   ]
  },
  {
   "cell_type": "markdown",
   "metadata": {},
   "source": [
    "### Let's Check the review trend for weeks in all the years"
   ]
  },
  {
   "cell_type": "code",
   "execution_count": 30,
   "metadata": {},
   "outputs": [
    {
     "data": {
      "text/plain": [
       "<matplotlib.axes._subplots.AxesSubplot at 0x29eea7134e0>"
      ]
     },
     "execution_count": 30,
     "metadata": {},
     "output_type": "execute_result"
    },
    {
     "data": {
      "image/png": "[encoded data removed]",
      "text/plain": [
       "<Figure size 1440x576 with 1 Axes>"
      ]
     },
     "metadata": {},
     "output_type": "display_data"
    }
   ],
   "source": [
    "date_expanded['week'].value_counts().plot.bar(title = \"No of reviews in each week\", figsize = (20,8))"
   ]
  },
  {
   "cell_type": "markdown",
   "metadata": {},
   "source": [
    "### Week 35,33,34 and31 in the calender year has more no of reviews, and those weeks belongs to August month in 2004,2005,2006 and in 2007.. So again we can confirm that more no of reviews in August month"
   ]
  },
  {
   "cell_type": "code",
   "execution_count": 83,
   "metadata": {},
   "outputs": [
    {
     "data": {
      "text/plain": [
       "<matplotlib.axes._subplots.AxesSubplot at 0x29eeb04fd68>"
      ]
     },
     "execution_count": 83,
     "metadata": {},
     "output_type": "execute_result"
    },
    {
     "data": {
      "image/png": "[encoded data removed]",
      "text/plain": [
       "<Figure size 1008x432 with 1 Axes>"
      ]
     },
     "metadata": {},
     "output_type": "display_data"
    }
   ],
   "source": [
    "date_expanded['dayofweek'].value_counts().plot.bar(title = \"Over all reviews in day of week \", figsize = (14, 6))"
   ]
  },
  {
   "cell_type": "markdown",
   "metadata": {},
   "source": [
    "### There are no reviews on Sunday"
   ]
  },
  {
   "cell_type": "markdown",
   "metadata": {},
   "source": [
    "### Let's Look at the daywise reviews in a month for all years"
   ]
  },
  {
   "cell_type": "code",
   "execution_count": 84,
   "metadata": {},
   "outputs": [
    {
     "data": {
      "text/plain": [
       "<matplotlib.axes._subplots.AxesSubplot at 0x29eeb09fda0>"
      ]
     },
     "execution_count": 84,
     "metadata": {},
     "output_type": "execute_result"
    },
    {
     "data": {
      "image/png": "[encoded data removed]",
      "text/plain": [
       "<Figure size 1440x576 with 1 Axes>"
      ]
     },
     "metadata": {},
     "output_type": "display_data"
    }
   ],
   "source": [
    "date_expanded['dayofmonth'].value_counts().plot.bar(title = \"Overall reviews in each day of month\", figsize = (20,8), fontsize = 20)"
   ]
  },
  {
   "cell_type": "code",
   "execution_count": 86,
   "metadata": {},
   "outputs": [
    {
     "data": {
      "text/plain": [
       "<matplotlib.axes._subplots.AxesSubplot at 0x29eeb454b70>"
      ]
     },
     "execution_count": 86,
     "metadata": {},
     "output_type": "execute_result"
    },
    {
     "data": {
      "image/png": "[encoded data removed]",
      "text/plain": [
       "<Figure size 1440x576 with 1 Axes>"
      ]
     },
     "metadata": {},
     "output_type": "display_data"
    }
   ],
   "source": [
    "date_expanded['dayofyear'].value_counts().head(10).plot.bar(title = \"Over all highest reviews in each day of year sorted only 30 of 365\", figsize = (20, 8))"
   ]
  },
  {
   "cell_type": "code",
   "execution_count": 87,
   "metadata": {},
   "outputs": [],
   "source": [
    "date_new = date_expanded['dayofyear'].value_counts().head(20)\n"
   ]
  },
  {
   "cell_type": "markdown",
   "metadata": {},
   "source": [
    "### Again 236th day, 226th day are falls in August month, maximum reviews are 40"
   ]
  },
  {
   "cell_type": "markdown",
   "metadata": {},
   "source": [
    "### Let us have a look at the review ditribution in each day of the year with least count"
   ]
  },
  {
   "cell_type": "code",
   "execution_count": 88,
   "metadata": {},
   "outputs": [
    {
     "data": {
      "text/plain": [
       "<matplotlib.axes._subplots.AxesSubplot at 0x29eee1f29e8>"
      ]
     },
     "execution_count": 88,
     "metadata": {},
     "output_type": "execute_result"
    },
    {
     "data": {
      "image/png": "[encoded data removed]",
      "text/plain": [
       "<Figure size 1296x576 with 1 Axes>"
      ]
     },
     "metadata": {},
     "output_type": "display_data"
    }
   ],
   "source": [
    "date_expanded['dayofyear'].value_counts().tail(10).plot.bar(title= \"Overall Lowest Reviews in each dayofyear Sorted only 10 of 365\",figsize = (18,8))"
   ]
  },
  {
   "cell_type": "markdown",
   "metadata": {},
   "source": [
    "### Its not suprise that Starting day of the year Jan 1st having very less no of reviews across all the years"
   ]
  },
  {
   "cell_type": "code",
   "execution_count": 89,
   "metadata": {},
   "outputs": [
    {
     "data": {
      "text/plain": [
       "<matplotlib.axes._subplots.AxesSubplot at 0x29eee1f26a0>"
      ]
     },
     "execution_count": 89,
     "metadata": {},
     "output_type": "execute_result"
    },
    {
     "data": {
      "image/png": "[encoded data removed]",
      "text/plain": [
       "<Figure size 1152x576 with 1 Axes>"
      ]
     },
     "metadata": {},
     "output_type": "display_data"
    }
   ],
   "source": [
    "hotels['Hotelid'].value_counts().head(10).plot.bar(title= \"Top 10 Hotels which got more Reviews\",figsize = (16,8))"
   ]
  },
  {
   "cell_type": "markdown",
   "metadata": {},
   "source": [
    "### Hotel with HotelID 188 got more no of reviews above 500"
   ]
  },
  {
   "cell_type": "code",
   "execution_count": null,
   "metadata": {},
   "outputs": [],
   "source": []
  }
 ],
 "metadata": {
  "kernelspec": {
   "display_name": "Python 3",
   "language": "python",
   "name": "python3"
  },
  "language_info": {
   "codemirror_mode": {
    "name": "ipython",
    "version": 3
   },
   "file_extension": ".py",
   "mimetype": "text/x-python",
   "name": "python",
   "nbconvert_exporter": "python",
   "pygments_lexer": "ipython3",
   "version": "3.6.5"
  }
 },
 "nbformat": 4,
 "nbformat_minor": 2
}
